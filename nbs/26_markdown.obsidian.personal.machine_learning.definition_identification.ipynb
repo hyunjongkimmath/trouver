{
 "cells": [
  {
   "cell_type": "code",
   "execution_count": null,
   "metadata": {},
   "outputs": [],
   "source": [
    "#| default_exp markdown.obsidian.personal.machine_learning.definition_identification"
   ]
  },
  {
   "cell_type": "markdown",
   "metadata": {},
   "source": [
    "# markdown.obsidian.personal.machine_learning.definition_identification\n",
    "> Functions for finding definitions"
   ]
  },
  {
   "cell_type": "code",
   "execution_count": null,
   "metadata": {},
   "outputs": [],
   "source": [
    "#| export\n",
    "import os \n",
    "from os import PathLike\n",
    "from pathlib import Path\n",
    "from typing import Union\n",
    "\n",
    "import pandas as pd\n",
    "\n",
    "from trouver.helper.date_and_time import current_time_formatted_to_minutes\n",
    "from trouver.helper.definition_and_notation import definition_asterisk_indices\n",
    "from trouver.markdown.markdown.file import MarkdownFile\n",
    "from trouver.markdown.obsidian.personal.note_processing import process_standard_information_note\n",
    "from trouver.markdown.obsidian.vault import VaultNote"
   ]
  },
  {
   "cell_type": "code",
   "execution_count": null,
   "metadata": {},
   "outputs": [],
   "source": []
  },
  {
   "cell_type": "markdown",
   "metadata": {},
   "source": [
    "# Gather ML data from information notes"
   ]
  },
  {
   "cell_type": "code",
   "execution_count": null,
   "metadata": {},
   "outputs": [],
   "source": [
    "#| export\n",
    "def definitions_in_text(\n",
    "        text: str\n",
    "        ) -> list[str]:\n",
    "    \"\"\"\n",
    "    Return the list of str with the definitions in the text.\n",
    "    \"\"\"\n",
    "    indices = definition_asterisk_indices(text)\n",
    "    return [text[start+2:end-2] for start, end in indices]"
   ]
  },
  {
   "cell_type": "code",
   "execution_count": null,
   "metadata": {},
   "outputs": [],
   "source": [
    "# TODO: exmaples"
   ]
  },
  {
   "cell_type": "code",
   "execution_count": null,
   "metadata": {},
   "outputs": [],
   "source": [
    "#| export\n",
    "# TODO: implement a measure to not get the definition identification data, e.g. by \n",
    "# detecting a `_auto/definition_identification` tag.\n",
    "def definition_identification_data_from_note(\n",
    "        note: VaultNote,\n",
    "        vault: PathLike\n",
    "        ) -> Union[dict[str, str], None]: # The keys to the dict are \"Note name\", \"Raw text\", \"Definitions\". However, `None` is returned if `note` does not exist.\n",
    "    \"\"\"Obtain definition identification data from the information note.\n",
    "\n",
    "    \"\"\"\n",
    "    if not note.exists():\n",
    "        return None\n",
    "    mf = MarkdownFile.from_vault_note(note)\n",
    "    mf = process_standard_information_note(\n",
    "        mf, vault, remove_double_asterisks=False)\n",
    "    mf_text = str(mf)\n",
    "    definitions = definitions_in_text(mf_text)\n",
    "    raw_text = mf_text.replace('**', '') \n",
    "    return {\n",
    "        \"Note name\": note.name,\n",
    "        \"Raw text\": raw_text,\n",
    "        \"Definitions\": definitions}"
   ]
  },
  {
   "cell_type": "code",
   "execution_count": null,
   "metadata": {},
   "outputs": [],
   "source": [
    "# TODO: examples"
   ]
  },
  {
   "cell_type": "code",
   "execution_count": null,
   "metadata": {},
   "outputs": [],
   "source": [
    "#| export\n",
    "def gather_definition_identification_data(\n",
    "        vault: PathLike,\n",
    "        notes: list[VaultNote]\n",
    "        ) -> pd.DataFrame: # \n",
    "    \"\"\"\n",
    "    Return a `pandas.DataFrame` encapsulating the data of definition\n",
    "    identifications.\n",
    "    \n",
    "    cf. `definition_identification_data_from_note`, which is the function\n",
    "    with which the definition identification data is drawn.\n",
    "    \n",
    "    This function is mainly used in\n",
    "    `append_to_definition_identification_database`.\n",
    "    \"\"\"\n",
    "    definition_identification_data = [\n",
    "        definition_identification_data_from_note(note, vault) for note in notes]\n",
    "    definition_identification_data = [\n",
    "        row for row in definition_identification_data\n",
    "        if row is not None]\n",
    "    current_time = current_time_formatted_to_minutes()\n",
    "    for row in definition_identification_data:\n",
    "        row['Time added'] = current_time\n",
    "        row['Time modified'] = current_time\n",
    "    return pd.DataFrame(definition_identification_data)"
   ]
  },
  {
   "cell_type": "code",
   "execution_count": null,
   "metadata": {},
   "outputs": [],
   "source": [
    "# TODO: examples"
   ]
  },
  {
   "cell_type": "code",
   "execution_count": null,
   "metadata": {},
   "outputs": [],
   "source": [
    "#| export"
   ]
  },
  {
   "cell_type": "code",
   "execution_count": null,
   "metadata": {},
   "outputs": [],
   "source": [
    "def append_to_definition_identification_database(\n",
    "        vault: PathLike, # The vault from which the data is drawn\n",
    "        file: PathLike, # The path to a CSV file\n",
    "        notes: list[VaultNote], # The notation notes to consider adding to the database\n",
    "        backup: bool = True # If `True`, makes a copy of `file` in the same directory and with the same name, except with an added extension of `.bak`.\n",
    "        ) -> None:\n",
    "    \"\"\"\n",
    "    Either create a `csv` file containing data for definition\n",
    "    identification or append to an existing `csv` file.\n",
    "\n",
    "    The columns of the database file are as follows:\n",
    "\n",
    "    - `Time added` - The time when the row was added.\n",
    "    - `Time modified` - The time when the labels of the row \n",
    "    - `Notation note name` - The name of the note from which the data for the row\n",
    "      was derived.\n",
    "    - 'Notation' - The notation which is being summarized\n",
    "    - 'Latex in original' - The entry of the `latex_in_original` field of the\n",
    "      note if available, cf. `make_a_notation_note`\n",
    "    - `\"Summary\"` - The summary of the notation.\n",
    "    - `\"Main note name\"` - The name of the main note of the\n",
    "      notation note\n",
    "    - `\"Processed main note contents\"` - The processed contents of the\n",
    "      main note\n",
    "\n",
    "    All timestamps are in UTC time and specify time to minutes\n",
    "    (i.e. no seconds/microseconds).\n",
    "    \n",
    "    TODO: implement updating rows and rewrite the next paragraph to\n",
    "    accurately reflect the implementation. I would like the 'Notation', 'Latex in original',\n",
    "    'Summary', 'processed main note contents' to be the \"pivot_cols\"\n",
    "\n",
    "    If a \"new\" note has the same processed content as a pre-existing\n",
    "    note and anything is different about the \"new\" note, then update\n",
    "    the row of the existing note. In particular, the following are updated:\n",
    "    - Time modified (set to current time)\n",
    "    - Notation (overwritten)\n",
    "    - Latex in original (overwritten)\n",
    "    - Summary (overwritten)\n",
    "    - Main note name (overwritten)\n",
    "    - Processed main note contents (overwritten)\n",
    "    \n",
    "    This method assumes that all the processed content in the\n",
    "    CSV file are all distinct if the CSV file exists.\n",
    "    \"\"\"\n",
    "    if not notes:\n",
    "        return\n",
    "    file = Path(file)\n",
    "    ddf = pd.read_csv(file) if os.path.exists(file) else None\n",
    "    new_df = gather_definition_identification_data(vault, notes)\n",
    "    if new_df.empty:\n",
    "        return\n",
    "    cols = [\n",
    "        \n",
    "    ]"
   ]
  }
 ],
 "metadata": {
  "kernelspec": {
   "display_name": "trouver_py310_venv",
   "language": "python",
   "name": "trouver_py310_venv"
  }
 },
 "nbformat": 4,
 "nbformat_minor": 2
}
