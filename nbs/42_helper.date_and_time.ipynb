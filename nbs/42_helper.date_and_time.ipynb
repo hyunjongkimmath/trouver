{
 "cells": [
  {
   "cell_type": "code",
   "execution_count": null,
   "metadata": {},
   "outputs": [],
   "source": [
    "#| default_exp helper.date_and_time"
   ]
  },
  {
   "cell_type": "markdown",
   "metadata": {},
   "source": [
    "# helper.date_and_time"
   ]
  },
  {
   "cell_type": "code",
   "execution_count": null,
   "metadata": {},
   "outputs": [],
   "source": [
    "#| export\n",
    "import datetime\n",
    "from datetime import timezone"
   ]
  },
  {
   "cell_type": "markdown",
   "metadata": {},
   "source": [
    "## Date and time"
   ]
  },
  {
   "cell_type": "code",
   "execution_count": null,
   "metadata": {},
   "outputs": [],
   "source": [
    "#| export\n",
    "def current_time_formatted_to_minutes(\n",
    "        ) -> str:\n",
    "    \"\"\"Return the current time to minutes.\n",
    "\n",
    "    **Returns**\n",
    "\n",
    "    - str\n",
    "        - In UTC time, to minutes.\n",
    "    \"\"\"\n",
    "    dt = datetime.datetime.now(timezone.utc)\n",
    "    formatted = dt.isoformat(timespec='minutes')\n",
    "    return formatted[:16]"
   ]
  },
  {
   "cell_type": "markdown",
   "metadata": {},
   "source": [
    "The `current_time_formatted_to_minutes` function is a convenience function that returns a string formatting current UTC time:"
   ]
  },
  {
   "cell_type": "code",
   "execution_count": null,
   "metadata": {},
   "outputs": [
    {
     "name": "stdout",
     "output_type": "stream",
     "text": [
      "2024-08-30T18:44\n"
     ]
    }
   ],
   "source": [
    "time_str = current_time_formatted_to_minutes()\n",
    "print(time_str)"
   ]
  },
  {
   "cell_type": "markdown",
   "metadata": {},
   "source": [
    "Use the `dattime.dattime.fromisoformat` function to convert back the formatted string to a `datetime.datetime` object:"
   ]
  },
  {
   "cell_type": "code",
   "execution_count": null,
   "metadata": {},
   "outputs": [],
   "source": [
    "dt = datetime.datetime.fromisoformat(time_str)"
   ]
  }
 ],
 "metadata": {
  "kernelspec": {
   "display_name": "trouver_py310_venv",
   "language": "python",
   "name": "trouver_py310_venv"
  }
 },
 "nbformat": 4,
 "nbformat_minor": 2
}
