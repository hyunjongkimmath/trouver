{
 "cells": [
  {
   "cell_type": "markdown",
   "metadata": {},
   "source": [
    "# markdown.obsidian.personal.information_notes\n",
    "> Functions for parsing and modifying standard and module information notes"
   ]
  },
  {
   "cell_type": "code",
   "execution_count": null,
   "metadata": {},
   "outputs": [],
   "source": [
    "#| default_exp markdown.obsidian.personal.information_notes"
   ]
  },
  {
   "cell_type": "code",
   "execution_count": null,
   "metadata": {},
   "outputs": [],
   "source": [
    "#| export\n",
    "import os\n",
    "from os import PathLike\n",
    "from pathlib import Path\n",
    "import re\n",
    "from typing import Optional\n",
    "\n",
    "from trouver.helper import path_name_no_ext\n",
    "from trouver.markdown.markdown.file import (\n",
    "    MarkdownFile, MarkdownLineEnum\n",
    ")\n",
    "from trouver.markdown.obsidian.footnotes import (\n",
    "    find_footnote_descriptions_in_markdown_text\n",
    ")\n",
    "from trouver.markdown.obsidian.links import (\n",
    "    ObsidianLink, LinkFormatError, LinkType, links_from_text\n",
    ")\n",
    "from trouver.markdown.obsidian.personal.note_type import (\n",
    "    note_is_of_type, PersonalNoteTypeEnum, assert_note_is_of_type\n",
    ")\n",
    "from trouver.markdown.obsidian.vault import (\n",
    "    note_path_by_name, VaultNote, NoteDoesNotExistError\n",
    ")\n",
    "\n"
   ]
  },
  {
   "cell_type": "code",
   "execution_count": null,
   "metadata": {},
   "outputs": [],
   "source": []
  },
  {
   "cell_type": "markdown",
   "metadata": {},
   "source": [
    "### Look in See Also section\n",
    "The see also section of a standard information note contains bulleted lists of links to related notes.\n",
    "\n",
    "These related notes include common terms notes and notation notes."
   ]
  },
  {
   "cell_type": "code",
   "execution_count": null,
   "metadata": {},
   "outputs": [],
   "source": [
    "#| export\n",
    "# TODO: deal with the possibility that the link points to a note that does not exist.\n",
    "# TODO: reformat\n",
    "def bulleted_links_of_type_in_section(\n",
    "        info_note: VaultNote, vault: PathLike, section: str,\n",
    "        note_type: Optional[PersonalNoteTypeEnum] = None)\\\n",
    "            -> list[ObsidianLink]:\n",
    "    \"\"\"Returns a list of ``ObsidianLink``s of notes of the given type \n",
    "    listed in the specified section of the standard information note.\n",
    "    \n",
    "    **Parameters**\n",
    "    - `info_note` - VaultNote\n",
    "        - Name of the information note.\n",
    "    - `vault` - PathLike\n",
    "        - Path to the vault directory.\n",
    "    - `section` - str\n",
    "        - Title of the section\n",
    "    - `note_type` - ``trove.markdown.obsidian.personal.note_type.PersonalNoteTypeEnum`` or `None`\n",
    "        - The type of the notes to include in the list. If `None`, then\n",
    "        all note types are included. Defaults to `None`.\n",
    "        \n",
    "    **Returns**\n",
    "    - list of ``markdown.obsidian.links.ObsidianLink`` objects\n",
    "        - Each entry is the name of a notation note in the vault.\n",
    "        \n",
    "    **Raises**\n",
    "    - AssertionError\n",
    "        - If the note is not a standard information note\n",
    "    \"\"\" \n",
    "    # TODO: delete these lines\n",
    "    # info_path = note_path_by_name(info_note, vault)\n",
    "    # info_note = VaultNote(vault, rel_path=info_path)\n",
    "    assert_note_is_of_type(info_note, PersonalNoteTypeEnum.STANDARD_INFORMATION_NOTE)\n",
    "    parsed = MarkdownFile.from_vault_note(info_note)\n",
    "    # parsed = MarkdownFile.from_file(Path(vault) / info_path)\n",
    "    heading_index = parsed.get_line_number_of_heading(title=section)\n",
    "    \n",
    "    list_of_note_names_of_type = []\n",
    "    for part in parsed.parts[heading_index+1:]:\n",
    "        if part['type'] == MarkdownLineEnum.HEADING:\n",
    "            break\n",
    "        line_text = part['line']\n",
    "        link_text = line_text.strip('- \\n\\t\\r')\n",
    "        try:\n",
    "            link_object = ObsidianLink.from_text(link_text)\n",
    "        except LinkFormatError as e:\n",
    "            continue\n",
    "        note_name = link_object.file_name\n",
    "        linked_note = VaultNote(vault, name=note_name)\n",
    "        if note_is_of_type(linked_note, note_type):\n",
    "            list_of_note_names_of_type.append(link_object)\n",
    "        # if note_is_of_type(note_type, note_path_by_name(note_name, vault),\n",
    "        #                    vault):\n",
    "        #     list_of_note_names_of_type.append(link_object)\n",
    "    return list_of_note_names_of_type"
   ]
  },
  {
   "cell_type": "code",
   "execution_count": null,
   "metadata": {},
   "outputs": [],
   "source": [
    "# TODO: test"
   ]
  },
  {
   "cell_type": "markdown",
   "metadata": {},
   "source": [
    "#### Standard information notes in See Also Section"
   ]
  },
  {
   "cell_type": "code",
   "execution_count": null,
   "metadata": {},
   "outputs": [],
   "source": [
    "# export\n",
    "def links_to_common_terms_notes_in_see_also_section(\n",
    "        info_note: VaultNote, vault: PathLike) -> list[str]:\n",
    "    \"\"\"Returns a list of names of common terms notes listed in the\n",
    "    `See Also` section of the standard information note.\n",
    "    \n",
    "    **Parameters**\n",
    "    - `info_note` - VaultNote\n",
    "    - `vault` - Pathlike\n",
    "        - Path to the vault directory.\n",
    "        \n",
    "    **Returns**\n",
    "    - list[str]\n",
    "        - Each entry is the name of a notation note in the vault.\n",
    "    \"\"\"\n",
    "    return bulleted_links_of_type_in_section(\n",
    "        info_note, vault, section=\"See Also\",\n",
    "        note_type=PersonalNoteTypeEnum.COMMON_TERMS_NOTE)"
   ]
  },
  {
   "cell_type": "code",
   "execution_count": null,
   "metadata": {},
   "outputs": [
    {
     "data": {
      "text/plain": [
       "[<trove.markdown.obsidian.internal_links.InternalLink>]"
      ]
     },
     "metadata": {},
     "output_type": "display_data"
    }
   ],
   "source": [
    "# TODO: examples"
   ]
  },
  {
   "cell_type": "markdown",
   "metadata": {},
   "source": [
    "## Get the main content of the Standard information note"
   ]
  },
  {
   "cell_type": "code",
   "execution_count": null,
   "metadata": {},
   "outputs": [],
   "source": [
    "#| export\n",
    "# TODO: reformat\n",
    "def main_content(note: VaultNote) -> str:\n",
    "    \"\"\"The main content of the standard information note.\n",
    "    \n",
    "    This is the text not in the yaml frontmatter and not the `'#See Aslo'`\n",
    "    section and below.\n",
    "    \n",
    "    **Parameters**\n",
    "    - note: VaultNote\n",
    "        - A standard information note.\n",
    "        \n",
    "    **Returns**\n",
    "    - str\n",
    "    \"\"\"\n",
    "    mf = MarkdownFile.from_vault_note(note)\n",
    "    index = mf.get_line_number_of_heading('See Also')\n",
    "    main_parts = mf.parts[:index]\n",
    "    main_parts = [part for part in main_parts if part['type'] != MarkdownLineEnum.META]\n",
    "    new_mf = MarkdownFile(main_parts)\n",
    "    return(str(new_mf))\n",
    "    "
   ]
  },
  {
   "cell_type": "markdown",
   "metadata": {},
   "source": [
    "### Identify reference that the information note belongs to"
   ]
  },
  {
   "cell_type": "markdown",
   "metadata": {},
   "source": [
    "Each information note tends to \"come from\" a reference. The following is a function to identify\n",
    "which reference the information note comes from."
   ]
  },
  {
   "cell_type": "code",
   "execution_count": null,
   "metadata": {},
   "outputs": [],
   "source": [
    "# export\n",
    "def reference_notes_in_references_section_of_information_note(note: VaultNote) -> list:\n",
    "    \"\"\"Returns a list of ``ObsidianLink`` objects corresponding to\n",
    "    reference notes in the \"References\" section of the information note.\n",
    "    \n",
    "    **Parameters**\n",
    "    - `note` - VaultNote\n",
    "        - A standard information note\n",
    "    \n",
    "    **Returns**\n",
    "    - list of ``ObsidianLink``\n",
    "    \"\"\"\n",
    "    md_file = MarkdownFile.from_vault_note(note)\n",
    "    # TODO incomplete\n",
    "    line = md_file.get_line_number_of_heading(title=\"References\")\n",
    "    line += 1\n",
    "    reference_links = []\n",
    "    while md_file.parts[line]['type'] != MarkdownLineEnum.HEADING:\n",
    "        reference_links += links_from_text(md_file.parts[line]['line'])\n",
    "        line += 1\n",
    "    return reference_links\n",
    "\n",
    "\n",
    "def reference_of_information_note(note: VaultNote) -> VaultNote:\n",
    "    \"\"\"Returns the reference note that the information note probably comes from.\n",
    "    \n",
    "    TODO\n",
    "    \n",
    "    **Parameters**\n",
    "    - `note` - VaultNote\n",
    "        - A standard information note\n",
    "        \n",
    "    **Returns**\n",
    "    - VaultNote\n",
    "    \"\"\"\n",
    "    reference_links = reference_notes_in_references_section_of_information_note(note)\n",
    "    md_file = MarkdownFile.from_vault_note(note)\n",
    "    first_footnote = find_footnote_descriptions_in_markdown_text(str(md_file))[0]\n",
    "    \n",
    "    \n",
    "    \n",
    "    "
   ]
  },
  {
   "cell_type": "code",
   "execution_count": null,
   "metadata": {},
   "outputs": [],
   "source": [
    "# TODO: examples"
   ]
  },
  {
   "cell_type": "markdown",
   "metadata": {},
   "source": [
    "## Note creation\n",
    "I think that one of the things that takes me a lot of time while making my math vault is the following process:\n",
    "1. Creating notes\n",
    "2. Inserting the template\n",
    "3. Filling in the note\n",
    "4. Renaming the note and its title\n",
    "5. Linking the note to the appropriate index note.\n"
   ]
  },
  {
   "cell_type": "markdown",
   "metadata": {},
   "source": [
    "### Creating notes and linking them to the index note\n",
    "Here, I will address 1, 2, and 5; 1 can be done with the ``VaultNote`` class. Then, fill in the blank notes with a template and then link them to the appropriate index note"
   ]
  },
  {
   "cell_type": "markdown",
   "metadata": {},
   "source": [
    "When creating/filling in the note, it can be useful to add tags. For example, I can add a tag to indicate that the note was autogenerated."
   ]
  },
  {
   "cell_type": "code",
   "execution_count": null,
   "metadata": {},
   "outputs": [],
   "source": [
    "#| export \n",
    "# TODO: reformat\n",
    "def citation_location_string(citation_location):\n",
    "    \"\"\"Formats a pair specifying the Numbering label and page\n",
    "    \n",
    "    **Parameters**\n",
    "    - `citation_location` - 2-tuple or empty tuple\n",
    "        - Consists of a label str and a page number indicating where\n",
    "        in the note's reference text the note's information originates from,\n",
    "        e.g. the label might be the str 'Theorem 1.2.3' and the page number\n",
    "        might be the int 85.\n",
    "    \"\"\"\n",
    "    if citation_location:\n",
    "        if citation_location[0]:\n",
    "            return f'{citation_location[0]}, Page {citation_location[1]}'\n",
    "        else:\n",
    "            return f'Page {citation_location[1]}'\n",
    "    else:\n",
    "        return ''"
   ]
  },
  {
   "cell_type": "code",
   "execution_count": null,
   "metadata": {},
   "outputs": [],
   "source": [
    "#| export\n",
    "# TODO: reformat\n",
    "def fill_info_note_with_template(\n",
    "        vn: VaultNote, template: VaultNote, \n",
    "        citation_location: tuple = (), content: str = '', tags_to_add=None) -> None:\n",
    "    \"\"\"Fills in the note with a template with optionally tags.\n",
    "\n",
    "    Current implementation adds content to line 5 of the note.\n",
    "\n",
    "    **Parameters**\n",
    "    - `vn` - ``VaultNote``\n",
    "    - `template` - ``VaultNote``\n",
    "    - `citation_location` - 2-tuple or empty tuple\n",
    "        - Consists of a label str and a page number indicating where\n",
    "        in the note's reference text the note's information originates from,\n",
    "        e.g. the label might be the str 'Theorem 1.2.3' and the page number\n",
    "        might be the int 85.\n",
    "    - `content` - str\n",
    "        - Content to add to the note. Defaults to the empty str.\n",
    "    - `tags_to_add` - str or list of str or tuple of str or `None`\n",
    "        - Each str is just the name of the tag without the leading hashtag.\n",
    "        Defaults to `None`, in which case no tags are added.\n",
    "    \n",
    "    \"\"\"\n",
    "    mf = MarkdownFile.from_vault_note(template)\n",
    "    if tags_to_add and isinstance(tags_to_add, str):\n",
    "        tags_to_add = [tags_to_add]\n",
    "    mf.add_tags(tags_to_add)\n",
    "    # if tags_to_add:\n",
    "    #     tags_to_add = [to_tag_str(tag) for tag in tags_to_add]\n",
    "    #     full_tag_line = ' '.join(tags_to_add)\n",
    "    #     tag_section_index = mf.get_line_number_of_heading(title=\"Tags\")\n",
    "    #     mf.insert_line(tag_section_index+1, \n",
    "    #                    {'line': f'{full_tag_line}\\n', 'type': MarkdownLineEnum.DEFAULT})\n",
    "    if citation_location:\n",
    "        footnote = mf.pop_line()\n",
    "        footnote['line'] += citation_location_string(citation_location)\n",
    "        mf.add_line_to_end(footnote)\n",
    "    if content:\n",
    "        line_num = mf.get_line_number_of_heading(\"See Also\")\n",
    "        mf.insert_line(line_num-1, {'line': content, 'type': MarkdownLineEnum.DEFAULT})\n",
    "    mf.write(vn)"
   ]
  },
  {
   "cell_type": "code",
   "execution_count": null,
   "metadata": {},
   "outputs": [],
   "source": [
    "#| export\n",
    "# TODO: reformat\n",
    "def link_info_notes_to_index(\n",
    "        info_notes, index_note: VaultNote, citation_locations: tuple=(),\n",
    "        insert_blank_line=False):\n",
    "    \"\"\"Links notes to an index_note.\n",
    "    \n",
    "    For now, just adds to the bottom of the thing\n",
    "    # TODO Make it possible to add in specific sections\n",
    "    \n",
    "    **Parameters**\n",
    "    - info_notes - ``VaultNote`` or list of ``VaultNote``\n",
    "    - index_note - ``VaultNote``\n",
    "    - insert_blank_line - bool\n",
    "        - If `True`, then insert a blank line at the end of the\n",
    "        index note before adding the links to the info notes.\n",
    "    \"\"\"\n",
    "    if isinstance(info_notes, VaultNote):\n",
    "        info_notes = [info_notes]\n",
    "    \n",
    "    index_mf = MarkdownFile.from_vault_note(index_note)\n",
    "    if insert_blank_line:\n",
    "        index_mf.add_blank_line_to_end()\n",
    "    for vn, citation_location in zip(info_notes, citation_locations):\n",
    "        vn_mf = MarkdownFile.from_vault_note(vn)\n",
    "        link = ObsidianLink(is_embedded=False, file_name=vn.name,\n",
    "                            anchor=0, custom_text=0, link_type=LinkType.WIKILINK)    \n",
    "        index_mf.add_line_to_end(\n",
    "            {'line': f'- [ ] {link.to_string()}, {citation_location_string(citation_location)}',\n",
    "             'type': MarkdownLineEnum.UNORDERED_LIST})\n",
    "    index_mf.write(index_note)"
   ]
  },
  {
   "cell_type": "code",
   "execution_count": null,
   "metadata": {},
   "outputs": [],
   "source": [
    "#| export\n",
    "# TODO: reformat\n",
    "def create_info_notes_and_link_to_index(\n",
    "        to_create, template: VaultNote,\n",
    "        index_note: VaultNote, citation_locations: list = [],\n",
    "        content_to_add: list = [] , tags_to_add=None):\n",
    "    \"\"\"Creates multiple notes, fills them in with a template,\n",
    "    and links them to the appropriate index note.\n",
    "    \n",
    "    Current implementation adds content from `content_to_add` to line 5\n",
    "    of the VaultNotes.\n",
    "    \n",
    "    **Parameters**\n",
    "    - `to_create` - list of ``VaultNote``.\n",
    "    - `template` - ``VaultNote``\n",
    "    - `index_note` - ``VaultNote``\n",
    "    - `citation_locations` - list of 2-tuples or empty tuples \n",
    "        - Each tuple consists of a label str and a page number indicating where\n",
    "        in the note's reference text the note's information originates from,\n",
    "        e.g. the label might be the str 'Theorem 1.2.3' and the page number\n",
    "        might be the int 85. This list must be of the same length as `to_create`.\n",
    "    - `content_to_add` - list of str\n",
    "        - Each str is the content to be added for each note in `to_create`. \n",
    "        Defaults to the empty list, in which case no content is added.\n",
    "    - `tags_to_add` - str or list of str or tuple of str or `None`\n",
    "        - Each str is just the name of the tag without the leading hashtag.\n",
    "        Defaults to `None`, in which case no tags are added.\n",
    "    \"\"\"\n",
    "    if not citation_locations:\n",
    "        citation_locations = [() for _ in to_create]\n",
    "    if not content_to_add:\n",
    "        content_to_add = ['' for _ in to_create]\n",
    "    assert len(citation_locations) == len(to_create) and len(content_to_add) == len(to_create)\n",
    "    for vn, citation_location, content in zip(to_create, citation_locations, content_to_add):\n",
    "        Path(vn.path()).touch()\n",
    "        fill_info_note_with_template(vn, template, citation_location, content, tags_to_add)\n",
    "    link_info_notes_to_index(to_create, index_note, citation_locations, insert_blank_line=True)"
   ]
  },
  {
   "cell_type": "code",
   "execution_count": null,
   "metadata": {},
   "outputs": [],
   "source": [
    "#| export\n",
    "# TODO: reformat\n",
    "def create_generic_info_notes_and_link_to_index(\n",
    "        reference:str, count:int, vault, subdirectory, \n",
    "        template: VaultNote, index_note: VaultNote, tags_to_add=None):\n",
    "    \"\"\"Creates generically named notes, fills them in with a template,\n",
    "    and links them to the appropriate index note.\n",
    "    \n",
    "    The note will be named in the form `f'{reference}_{number}'`, where `number`\n",
    "    starts with 0.\n",
    "    \n",
    "    **Parameters**\n",
    "    - `reference` - str\n",
    "        - The name of the reference. This will be part of the generic\n",
    "        note names.\n",
    "    - `count` - int\n",
    "        - The number of generic info notes to create.\n",
    "    - `vault` - Pathlike\n",
    "    - `subdirectory` - Pathlike\n",
    "        - The subdirectory in `vault` to create the notes in.\n",
    "    - `template` - VaultNote\n",
    "    - `index_note` - VaultNote\n",
    "    - tags_to_add - str or list of str or tuple of str or `None`\n",
    "        - Each str is just the name of the tag without the leading hashtag.\n",
    "        Defaults to `None`, in which case no tags are added.\n",
    "    \"\"\"\n",
    "    # Determine which numbers are used for existing notes and then\n",
    "    # determine which numbers to use for new notes.\n",
    "    existing_paths = Path(vault).glob(f'**/{reference}_[0-9]*.md')\n",
    "    path_names = [path_name_no_ext(path) for path in existing_paths]\n",
    "    path_names = [path_name for path_name in path_names if re.match(f'{reference}_[0-9]*$', path_name)]\n",
    "    \n",
    "    existing_numbers = {int(path_name[len(reference)+1:]) for path_name in path_names}\n",
    "    total_numbers = len(existing_numbers) + count\n",
    "    nonexisting = list(set(range(total_numbers)) - existing_numbers)\n",
    "    new_to_make = nonexisting[:count]\n",
    "    to_create = [VaultNote(vault, rel_path=Path(subdirectory) / f'{reference}_{number}.md')\n",
    "                 for number in new_to_make]\n",
    "    create_info_notes_and_link_to_index(to_create, template, index_note, \n",
    "                                        content_to_add = [], tags_to_add=tags_to_add)\n",
    "        \n",
    "    "
   ]
  }
 ],
 "metadata": {
  "kernelspec": {
   "display_name": "Python 3.10.6 64-bit",
   "language": "python",
   "name": "python3"
  }
 },
 "nbformat": 4,
 "nbformat_minor": 2
}
