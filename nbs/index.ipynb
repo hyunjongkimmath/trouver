{
 "cells": [
  {
   "cell_type": "code",
   "execution_count": null,
   "metadata": {},
   "outputs": [],
   "source": [
    "#| hide\n",
    "from trouver.helper import *"
   ]
  },
  {
   "cell_type": "markdown",
   "metadata": {},
   "source": [
    "# trouver\n",
    "\n",
    "> Create and maintain mathematical Obsidian.md notes, and gather data from them to train ML models"
   ]
  },
  {
   "cell_type": "markdown",
   "metadata": {},
   "source": [
    "Mathematicians constantly need to learn and read about concepts with which they are unfamiliar. Keeping mathematical notes in an [`Obsidian.md`](https://obsidian.md/) vault can help with this learning process as `Obsidian.md`.\n"
   ]
  },
  {
   "cell_type": "markdown",
   "metadata": {},
   "source": [
    "## Disclaimer"
   ]
  },
  {
   "cell_type": "markdown",
   "metadata": {},
   "source": [
    "At the time of this writing (01/18/2023), there is only one author/contributor of this library. Nevertheless, the author often refers to himself as \"the author\", \"the authors\", or \"the author/authors\" in writing this library. Moreover, the author often uses the [\"editorial we\"](https://en.wikipedia.org/wiki/We#Editorial_we) in writing this library.\n",
    "\n",
    "Use this library at your own risk as using this library can write or modify files in your computer and as the documentation of some components of this library may be inaccurate or outdated. By using this library, you agree that the author/authors of this library is/are not responsible for any damages from this library and related components.\n",
    "\n",
    "This library is still somewhere in-between prototype and alpha. Moreover, the library itself may be unstable and subject to abrupt changes.\n",
    "\n",
    "The author/authors of this library is/are also not affiliated with `Obsidian.md`, `fast.ai`, or `Hugging Face`.\n",
    "\n"
   ]
  },
  {
   "cell_type": "markdown",
   "metadata": {},
   "source": [
    "## Install"
   ]
  },
  {
   "cell_type": "code",
   "execution_count": null,
   "metadata": {},
   "outputs": [],
   "source": [
    "# TODO Write installation instructions"
   ]
  },
  {
   "cell_type": "markdown",
   "metadata": {},
   "source": [
    "```sh\n",
    "pip install trouver\n",
    "```"
   ]
  },
  {
   "cell_type": "markdown",
   "metadata": {},
   "source": [
    "# How to use"
   ]
  },
  {
   "cell_type": "markdown",
   "metadata": {},
   "source": [
    "## Parse LaTeX documents and split them into parts"
   ]
  },
  {
   "cell_type": "markdown",
   "metadata": {},
   "source": [
    "`Trouver` can parse `LaTeX` documents and split them up into \"parts\" which are convenient to read in `Obsidian.md` and to take notes on. For example, the following code splits up this [paper](https://arxiv.org/abs/2106.10586) in creates a folder in an Obsidian.md vault[^4].\n",
    "\n",
    "[^4]: There is a known bug in the numbering of the sections of the paper, cf. [Issue #32](https://github.com/hyunjongkimmath/trouver/issues/32)."
   ]
  },
  {
   "cell_type": "code",
   "execution_count": null,
   "metadata": {},
   "outputs": [],
   "source": [
    "#| notest\n",
    "import os\n",
    "from pathlib import Path\n",
    "import shutil\n",
    "import tempfile\n",
    "\n",
    "from trouver.helper import _test_directory, text_from_file\n",
    "from trouver.latex.convert import (\n",
    "    divide_preamble, divide_latex_text, custom_commands,\n",
    "    setup_reference_from_latex_parts\n",
    ")"
   ]
  },
  {
   "cell_type": "code",
   "execution_count": null,
   "metadata": {},
   "outputs": [],
   "source": [
    "#| notest\n",
    "# This context manager is implemented to make sure that a temporary\n",
    "# folder is created and copies contents from `test_vault_5` in `nbs/_tests`,\n",
    "# only the contents of the temporary folder are modified, and \n",
    "with (tempfile.TemporaryDirectory(prefix='temp_dir', dir=os.getcwd()) as temp_dir):\n",
    "    temp_vault = Path(temp_dir) / 'test_vault_5'\n",
    "    shutil.copytree(_test_directory() / 'test_vault_5', temp_vault)\n",
    "\n",
    "    sample_latex_file = _test_directory() / 'latex_examples' / 'kim_park_ga1dcmmc' / 'main.tex'\n",
    "    sample_latex_text = text_from_file(sample_latex_file)\n",
    "    preamble, _ = divide_preamble(sample_latex_text)\n",
    "    parts = divide_latex_text(sample_latex_text)\n",
    "    cust_comms = custom_commands(preamble)\n",
    "    vault = temp_vault\n",
    "    location = Path('') # The path relative to the vault of the directory in which to make the new folder containing the new notes.\n",
    "    reference_name = 'kim_park_ga1dcmmc'\n",
    "    author_names = ['Kim', 'Park']\n",
    "    \n",
    "    setup_reference_from_latex_parts(\n",
    "        parts, cust_comms, vault, location,\n",
    "        reference_name,\n",
    "        author_names)\n",
    "\n",
    "    os.startfile(os.getcwd()) # This open the current working directory; find the temporary folder in here.\n",
    "    input() # There should be an input prompt; make an input here when you are done viewing the \n"
   ]
  },
  {
   "cell_type": "markdown",
   "metadata": {},
   "source": [
    "![The created folder in Obsidian.md looks like this in `Obsidian.md` The text in magenta are links, each to a file in the `Obsidian.md` vault](/images/index_setup_reference_from_latex_parts_demonstration.png)\n",
    "\n",
    "While `Obsidian.md` is not strictly necessary to use `trouver` or to read and write the files created by `setup_reference_from_latex_parts` (in fact, any traditional file reader/writer can be used for such purposes), reading and writing the files on `Obsidian.md` can be convenient."
   ]
  },
  {
   "cell_type": "markdown",
   "metadata": {},
   "source": [
    "## ML model utilities"
   ]
  },
  {
   "cell_type": "markdown",
   "metadata": {},
   "source": [
    "We have trained a few ML models to detect/predict and provide information about \"short\" mathematical text. These ML models are available on [`Hugging Face`](https://huggingface.co/) and as such, they can be downloaded to and used from one's local machines. Please note that ML models can be large and the locations that the Hugging Face [Transformers](https://huggingface.co/docs/transformers/index) library downloads such models to can vary from machine to machine."
   ]
  },
  {
   "cell_type": "markdown",
   "metadata": {},
   "source": [
    "For each of these models, we may or may not have also written some instructions on how to train similar models given appropriately formatted data[^5].\n",
    "\n",
    "[^5]: Given time, the author of `trouver` eventually plans on writing instructions on training each of the models."
   ]
  },
  {
   "cell_type": "markdown",
   "metadata": {},
   "source": [
    "## Use an ML model to categorize and label the note types"
   ]
  },
  {
   "cell_type": "markdown",
   "metadata": {},
   "source": [
    "One of these ML models predicts the type of a piece of mathematical writing. For example, this model may predict that \n",
    "\n",
    "```markdown\n",
    "Let $L/K$ be an field extension. An element $\\alpha \\in L$ is said to be algebraic over $K$ if there exists some polynomial $f(x) \\in K[x]$ such that $f(\\alpha) = 0$.\n",
    "```\n",
    "\n",
    "introduces a definition. For the purposes of `trouver`, an `Obsidian.md` note containing ought to be labeled with the `#_meta/definition` tag by adding the text `_meta/definition` to the `tags` field in the frontmatter YAML metadata of the note:\n",
    "\n",
    "![In this note, there is a `_meta/definition` in the `tags` field in the frontmatter YAML metadata of the note](/images/index_example_of_a_note_with_meta_definition_tag.png)\n",
    "\n",
    "See `markdown.obsidian.personal.machine_learning.information_note_types` for more details."
   ]
  },
  {
   "cell_type": "markdown",
   "metadata": {},
   "source": [
    "This ML model is trained using the [fast.ai](https://www.fast.ai/) library; see `how_to.train_ml_model.fastai` for the steps taken to train this model. This ML model is also available on [Hugging Face](https://huggingface.co/) under the repository [hyunjongkimmath/math_text_tag_categorization](https://huggingface.co/hyunjongkimmath/math_text_tag_categorization)"
   ]
  },
  {
   "cell_type": "code",
   "execution_count": null,
   "metadata": {},
   "outputs": [],
   "source": [
    "#| notest\n",
    "# from transformers import "
   ]
  },
  {
   "cell_type": "code",
   "execution_count": null,
   "metadata": {},
   "outputs": [],
   "source": [
    "#| notest\n",
    "# from trouver.markdown.obsidian.personal.machine_learning.information_note_types import "
   ]
  },
  {
   "cell_type": "code",
   "execution_count": null,
   "metadata": {},
   "outputs": [],
   "source": [
    "# TODO: example of loading model and feeding it input directly\n",
    "# TODO: exmaple of loading model and using it."
   ]
  },
  {
   "cell_type": "markdown",
   "metadata": {},
   "source": [
    "## Use an ML model to find notations introduced in text"
   ]
  },
  {
   "cell_type": "markdown",
   "metadata": {},
   "source": [
    "Another ML model predicts locations of notations introduced in text.\n",
    "\n",
    "This ML model is also trained using the `fast.ai` library."
   ]
  },
  {
   "cell_type": "code",
   "execution_count": null,
   "metadata": {},
   "outputs": [],
   "source": [
    "# TODO: upload model to hugging face"
   ]
  },
  {
   "cell_type": "markdown",
   "metadata": {},
   "source": [
    "## Use an ML model to summarize notations introduced in text"
   ]
  },
  {
   "cell_type": "markdown",
   "metadata": {},
   "source": [
    "Now that we have found notations introduced in text and created notation notes for them in our `Obisidian.md` vault, we now generate summaries for these notations.\n",
    "\n",
    "The ML model for this is available on `Hugging Face` under the repository [`hyunjongkimmath/notation_summarizations_model`](https://huggingface.co/hyunjongkimmath/notation_summarizations_model). "
   ]
  },
  {
   "cell_type": "markdown",
   "metadata": {},
   "source": [
    "## How the examples/tests are structured"
   ]
  },
  {
   "cell_type": "markdown",
   "metadata": {},
   "source": [
    "Many of the functions and methods in this library are accompanied by examples demonstrating how one might use them. \n",
    "\n",
    "These examples are usually also tests of the functions/methods; the developer of this library can use `nbdev`'s [`nbdev_test`](https://nbdev.fast.ai/api/test.html#nbdev_test) command-line command to automatically run these tests[^1][^2]. Moreover, there is a GitHub workflow in the repository for this library (see the `.github/workflows/test.yaml`) which automatically runs these examples/tests on GitHub Actions when changes to are [committed to the GitHub repository](https://github.com/git-guides/git-commit)[^3].\n",
    "\n",
    "[^1]: cf. [nbdev's End-To-End Walkthrough](https://nbdev.fast.ai/tutorials/tutorial.html#add-your-own-examples-tests-and-docs) to see how to use `nbdev_test`\n",
    "[^2]: There are also tests which are hidden from the documentation website; one can find these tests in the jupyter notebook files in the `nbs` folder in the repository for this library as notebook cells marked with the `#| hide` flag, cf. [nbdev's End-to-End Walkthrough](https://nbdev.fast.ai/tutorials/tutorial.html#add-your-own-frontmatter) to see what the `#| hide` flag does.\n",
    "\n",
    "These examples may use a combination of the following:\n",
    "\n",
    "- Mock patching via Python's [`unittest.mock`](https://docs.python.org/3/library/unittest.mock.html) library. \n",
    "- The [`fastcore.test`](https://fastcore.fast.ai/test.html) module as assertion statements.\n",
    "- example/test files in the `nbs/_tests` folder in the repository[^3].\n",
    "    - The `_test_directory()` function in the `helper` module obtains this folder.\n",
    "    - Many of these examples also use the [`tempfile.TemporaryDirectory`](https://docs.python.org/3/library/tempfile.html#tempfile.TemporaryDirectory) class along with the [`shutil.copytree`](https://docs.python.org/3/library/shutil.html#shutil.copytree) to create a Python context manager of a temporary directory with contents copied from the `nbs/_tests` folder. The temporary directory is automatically deleted once the context manager ends. We do this to run tests/examples which modify files/folders without modifying the files/folders in the `nbs/_tests` directory themselves.\n",
    "        - For example, the code \n",
    "        ```python\n",
    "        with tempfile.TemporaryDirectory(prefix='temp_dir', dir=os.getcwd()) as temp_dir:\n",
    "            temp_vault = Path(temp_dir) / 'test_vault_1'\n",
    "            shutil.copytree(_test_directory() / 'test_vault_1', temp_vault)\n",
    "\n",
    "            # run the rest of the example here\n",
    "\n",
    "            # Uncomment the below lines of code to view the end-results of the example; \n",
    "            # os.startfile(os.getcwd())\n",
    "            # os.input()  # this line pauses the process until the user makes an input so the deletion of the temporary directory is delayed.\n",
    "        ```\n",
    "        first creates a temporary directory starting `temp_dir` in the current working directory and copies into this temporary directory the contents of `test_vault_1` in the `nbs/_tests` folder. One the example/test has finished running, the temporary directory is removed whether or not the test succeeds.\n",
    "\n",
    "\n",
    "[^3]: The `.github/workflows/test.yaml` GitHub workflow file is set up in such a way that that allows GitHub Actions to access/use the contents of the `nbs/_tests` directory upon running the tests/examples."
   ]
  },
  {
   "cell_type": "markdown",
   "metadata": {},
   "source": [
    "## Miscellaneous"
   ]
  },
  {
   "cell_type": "markdown",
   "metadata": {},
   "source": [
    "This repository is still in its preliminary stages and much of the code and documentation may be faulty or not well formatted. The author greatly appreciates reports of these issues or suggestions on edits; please feel free to report them on the `Issues` section of the GitHub repository for this library. The [author](https://sites.google.com/wisc.edu/hyunjongkim) of this repository, who is primarily a mathematician (a PhD student at the time of this writing), does not guarantee quick responses or resolutions to such issues, but will do his best to address them."
   ]
  },
  {
   "cell_type": "markdown",
   "metadata": {},
   "source": [
    "## For developers\n",
    "\n",
    "\n"
   ]
  },
  {
   "cell_type": "markdown",
   "metadata": {},
   "source": [
    "This repository is based on the [`nbdev`](https://nbdev.fast.ai/) template. As such, code for the packages as well as the documentation for the repository are written in jupyter notebooks (the `.ipynb` files in the `nbs` folder) and the Python modules are auto-generated via the command-line command [`nbdev_export`](https://nbdev.fast.ai/api/doclinks.html#nbdev_export) (or [`nbdev_prepare`](https://nbdev.fast.ai/tutorials/tutorial.html#prepare-your-changes), which among other things runs `nbdev_export`.). "
   ]
  },
  {
   "cell_type": "markdown",
   "metadata": {},
   "source": [
    "### Troubleshooting\n",
    "- In the `nbs/_tests` folder, make sure that the folders that you want to test are not empty; since git does not track empty folders, empty folders will not be pushed in GitHub and the tests in GitHub Actions may yield different results than in a local computer."
   ]
  },
  {
   "cell_type": "markdown",
   "metadata": {},
   "source": [
    "## Special Thanks"
   ]
  },
  {
   "cell_type": "markdown",
   "metadata": {},
   "source": [
    "The author of `trouver` thanks [Sun Woo Park](https://sites.google.com/wisc.edu/spark483) for agreeing to allow their coauthored paper, [*Global $\\mathbb{A}^1$-degrees covering maps between modular curves*](https://arxiv.org/abs/2106.10586), along with some of Park's expository writings, to be used in examples in this library."
   ]
  }
 ],
 "metadata": {
  "kernelspec": {
   "display_name": "trouver_py310_venv",
   "language": "python",
   "name": "trouver_py310_venv"
  }
 },
 "nbformat": 4,
 "nbformat_minor": 4
}
