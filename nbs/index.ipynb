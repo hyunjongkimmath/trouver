{
 "cells": [
  {
   "cell_type": "markdown",
   "metadata": {},
   "source": [
    "# trouver\n",
    "\n",
    "> Create and maintain mathematical Obsidian.md notes, and gather data from them to train ML models"
   ]
  },
  {
   "cell_type": "markdown",
   "metadata": {},
   "source": [
    "- [Author's academic website](https://sites.google.com/view/hyunjongkimmath/)\n",
    "- [GitHub repository](https://github.com/hyunjongkimmath/trouver#readme)\n",
    "- [Documentation website](https://hyunjongkimmath.github.io/trouver/)\n",
    "- [pypi page](https://pypi.org/project/trouver/)\n",
    "- [Survey](https://docs.google.com/forms/d/e/1FAIpQLScA7XJthYUgt1lK9RbNXvwWKe7Xo1G23Tgivq2o0K3YRFagxw/viewform)"
   ]
  },
  {
   "cell_type": "markdown",
   "metadata": {},
   "source": [
    "Mathematicians constantly need to learn and read about concepts with which they are unfamiliar. Keeping mathematical notes in an [`Obsidian.md`](https://obsidian.md/) vault can help with this learning process as `Obsidian.md` makes it easy to edit notes, link notes to one another, organize notes, read notes, and access notes.\n",
    "\n",
    "This library currently includes functionalities (see also the [below](#descriptions-of-functionalities)) to \n",
    "\n",
    "1. Parse LaTeX documents (e.g. those available on [`arxiv.org`](https://arxiv.org/)) and divide them into reasonably lengthed parts/notes/excerpts as `.md` files, especially for viewing and editing on `Obsidian.md`.\n",
    "2. Use a machine learning model to categorize the type of text each excerpt is (e.g. introducing definitions/notations, presenting a concept, presenting a proof).\n",
    "3. Use a machine learning model to identify definitions and notations introduced in each excerpt.\n",
    "4. Use machine learning models to \"name\" definitions and notations introducd in each excerpt.\n",
    "5. Create accompanying notes for each notation as more `.md` files.\n",
    "6. Use a machine learning model to summarize what these notations denote in the created accompanying notes.\n",
    "\n",
    "As some of these functionalities use machine learning models, they ultimately cannot run perfectly. Nevertheless, some of these models, particularly those described in 2 and 3, perform well enough that these functionalities are quite useful as tools to help reading mathematical papers (when used in conjunction with `Obsidian.md`).\n",
    "\n",
    "Moreover, the results of the machine learning models are recorded in the notes/`.md` files. One can very well correct these recorded results by manually editing the affected `.md` files with any file editor.\n",
    "\n",
    "As of [Version 1.0.1](release_notes.html##ver-101), `trouver` has a [graphical user interface](#gui) wrapping some (but not all) of its functionalities.\n",
    "\n",
    "\n",
    "<p style=\"text-align:center;\"><img src=\"/images/index_gui_image.png\" alt=\"The trouver GUI\" width=\"400\" class=\"center\"/> </p>"
   ]
  },
  {
   "cell_type": "markdown",
   "metadata": {},
   "source": [
    "## Disclaimer"
   ]
  },
  {
   "cell_type": "markdown",
   "metadata": {},
   "source": [
    "At the time of this writing (12/23/2024), there is only one author/contributor of this library. Nevertheless, the author often refers to himself as *the author*, *the authors*, or *the author/authors* in writing this library. Moreover, the author often uses the [*editorial we*](https://en.wikipedia.org/wiki/We#Editorial_we) in writing this library.\n",
    "\n",
    "Use this library at your own risk as using this library can write or modify files in your computer and as the documentation of components of this library may be inaccurate, outdated, or not-well-maintained. Moreover, future components of this library may use external API's (including but possibly not limited to OpenAI's API) that may not be free to use. By using this library, you agree that the author/authors of this library is/are not responsible for any damages or losses, including but not limited to data or monetary losses, from this library and related components.\n",
    "\n",
    "This library is still somewhere in-between prototype and alpha. Moreover, the library itself may be unstable and subject to abrupt changes.\n",
    "\n",
    "The author/authors of this library is/are also not affiliated with `Obsidian.md`, `fast.ai`, `Hugging Face`, and `arXiv`.\n",
    "\n"
   ]
  },
  {
   "cell_type": "markdown",
   "metadata": {},
   "source": [
    "## Install"
   ]
  },
  {
   "cell_type": "markdown",
   "metadata": {},
   "source": [
    "See also [how_to.install_trouver](how_to.install_trouver.html)"
   ]
  },
  {
   "cell_type": "markdown",
   "metadata": {},
   "source": [
    "We recommend having at least 5GB of free disk space to install `trouver` and related components (mostly the ML models)."
   ]
  },
  {
   "cell_type": "markdown",
   "metadata": {},
   "source": [
    "```sh\n",
    "pip install trouver\n",
    "```"
   ]
  },
  {
   "cell_type": "markdown",
   "metadata": {},
   "source": [
    "You may also have to manually install other libraries which are required by the `fast.ai` and/or `Hugging Face` libraries."
   ]
  },
  {
   "cell_type": "markdown",
   "metadata": {},
   "source": [
    "We recommend installing [Obsidian.md](https://obsidian.md/) to view, edit, and modify mathematical notes created by or which interact with `trouver`."
   ]
  },
  {
   "cell_type": "markdown",
   "metadata": {},
   "source": [
    "See `how_to.install_trouver` for more details on installation."
   ]
  },
  {
   "cell_type": "markdown",
   "metadata": {},
   "source": [
    "> **Warning**\n",
    "> At the time of this writing, `trouver` has not been tested on MacOS extensively. We have also found that running the latest Python versions in Jupyter notebooks on modern MacOS machines (e.g. those using the M1 processor and in particular the arm64 architecture) lead to some issues. cf. stackexchange discussions such as \n",
    "> \n",
    "> - [https://apple.stackexchange.com/questions/436801/m1-mac-mach-o-file-but-is-an-incompatible-architecture-have-x86-64-need-a](https://apple.stackexchange.com/questions/436801/m1-mac-mach-o-file-but-is-an-incompatible-architecture-have-x86-64-need-a)\n",
    "> - [https://stackoverflow.com/questions/71502583/jupiter-wont-launch-from-terminal-on-m1-macbook](https://stackoverflow.com/questions/71502583/jupiter-wont-launch-from-terminal-on-m1-macbook).\n",
    "> \n",
    "<!--- > One can also try running `trouver` on an older version of Python (e.g. version 3.7) to avoid these Jupyter problems. In this case, one may need to install some additional Python packages, such as [`graphlib-backport`](https://pypi.org/project/graphlib-backport/). -->"
   ]
  },
  {
   "cell_type": "markdown",
   "metadata": {},
   "source": [
    "## Descriptions of functionalities"
   ]
  },
  {
   "cell_type": "markdown",
   "metadata": {},
   "source": [
    "We describe some of `trouver`'s ML functionalities. Sample code is available in [`tutorial.walkthrough`](tutorial.walkthrough.html). See [below](#rationale-for-the-functionalities-and-intended-use) for some rationale for these functionalities.\n",
    "\n",
    "The predictions in the examples below are just for illustration; actual predictions by the ML models may differ --- what constitutes as \"ideal predictions\" is ultimately subjective and users' opinions on how the ML models should actually predict will vary. All of the ML models are hosted on the page for the user [`hyunjongkimmath`](https://huggingface.co/hyunjongkimmath) on [`huggingface`](https://huggingface.co/).\n",
    "\n",
    "\n",
    "\n",
    "TODO: mention the functions for each of the functionalities "
   ]
  },
  {
   "cell_type": "markdown",
   "metadata": {},
   "source": [
    "#### 1. Predict types of excerpts of mathematical text."
   ]
  },
  {
   "cell_type": "markdown",
   "metadata": {},
   "source": [
    "The model [`hyunjongkimmath/information_note_type`](https://huggingface.co/hyunjongkimmath/information_note_type) predicts what type a given excerpt of text is (using `Markdown` tags).\n",
    "See [`markdown.obsidian.personal.machine_learning.information_note_types`](markdown.obsidian.personal.machine_learning.information_note_types.html) for more details."
   ]
  },
  {
   "cell_type": "markdown",
   "metadata": {},
   "source": [
    "For example, the model should predict that the following excerpt is a `#_meta/definition` and a `#_meta/notation`. \n",
    "\n",
    "> Let $(X, d)$ be a metric space and $x \\in X$.\n",
    "> \n",
    "> **Definition 1.3.1:** The open ball centered at $x$ with radius $r > 0$ is defined as:\n",
    "> \n",
    "> $$B(x, r) = \\{y \\in X : d(x, y) < r\\}$$\n",
    "> \n",
    "> **Definition 1.3.2:** The closed ball centered at $x$ with radius $r \\geq 0$ is defined as:\n",
    "> \n",
    "> $$\\overline{B}(x, r) = \\{y \\in X : d(x, y) \\leq r\\}$$\n",
    "\n",
    "For another example, the model should predict that the following excerpt is a `#_meta/concept` and a `#_meta/proof`.\n",
    "\n",
    "> **Theorem 3.2.1:** Let $A$ be an $n \\times n$ matrix. If $A$ is invertible, then its columns are linearly independent.\n",
    "> \n",
    "> **Proof:** Let $c_1, c_2, ..., c_n$ be the columns of $A$. Suppose\n",
    "> \n",
    "> $$a_1c_1 + a_2c_2 + ... + a_nc_n = 0$$\n",
    "> \n",
    "> for some scalars $a_1, a_2, ..., a_n$. This is equivalent to\n",
    "> \n",
    "> $$A\\mathbf{x} = \\mathbf{0}$$\n",
    "> \n",
    "> where $\\mathbf{x} = (a_1, a_2, ..., a_n)^T$. Since $A$ is invertible,\n",
    "> \n",
    "> $$\\mathbf{x} = A^{-1}\\mathbf{0} = \\mathbf{0}$$\n",
    "> \n",
    "> Thus, $a_1 = a_2 = ... = a_n = 0$, proving that the columns are linearly independent.\n",
    "\n",
    "For yet another example, the model should predict that the following excerpt is a `#_meta/narrative`.\n",
    "\n",
    "> In this section, we explore the fundamental concepts of eigenvalues and eigenvectors. These powerful tools allow us to:\n",
    "> \n",
    "> 1. Understand the action of a linear transformation on specific vectors\n",
    "> 2. Diagonalize matrices, simplifying many computations\n",
    "> 3. Analyze dynamical systems and their long-term behavior\n",
    "> \n",
    "> We begin by defining eigenvalues and eigenvectors, then proceed to develop methods for finding them. The characteristic equation will play a crucial role in our analysis. Finally, we'll examine some applications, including the diagonalization of matrices and solving systems of differential equations.\n",
    "> \n"
   ]
  },
  {
   "cell_type": "markdown",
   "metadata": {},
   "source": [
    "The following are some tags that the model is adept at predicting:\n",
    "\n",
    "- `#_meta/definition` labels a note that introduces a definition.\n",
    "- `#_meta/notation` labels a note that introduces a notation.\n",
    "- `#_meta/concept` labels a note that contains a general concept, e.g. by virtue of stating a theorem/proposiiton/lemma/corollary. \n",
    "- `#_meta/proof` labels a note that contains a proof.\n",
    "- `#_meta/narrative` labels a note that contains narrative - explainations of the material that is presented. Narratives most usually occur at the start/end of a chapter/section of a book/text/paper and in-between definitions/theorems/etc.\n",
    "- `#_meta/exercise` labels a note that contains an exercise problem.\n",
    "- `#_meta/remark` labels a note that contains a remark.\n",
    "- `#_meta/example` labels a note that contains an example.\n",
    "- `#_meta/context` labels a note that contains \"contextual information\", i.e. information that other notes might depend on (e.g. \"in this section, $k$ is an algebraically closed field\", \"For the rest of this section, we assume that $X$ is a pointed topological space\").\n",
    "\n"
   ]
  },
  {
   "cell_type": "markdown",
   "metadata": {},
   "source": [
    "#### 2. Mark definitions and notations introduced in an excerpt of mathematical text.\n",
    "\n",
    "The model [`hyunjongkimmath/def_and_notat_token_classification_model`](https://huggingface.co/hyunjongkimmath/def_and_notat_token_classification_model) attempts to find where exactly definitions and notations are introduced in a given excerpt of text. See [`markdown.obsidian.personal.machine_learning.tokenize.def_and_notat_token_classification`](markdown.obsidian.personal.machine_learning.tokenize.def_and_notat_token_classification.html)\n",
    "\n",
    "For example, take the following excerpt.\n",
    "\n",
    "> Let $(X, d)$ be a metric space and $x \\in X$.\n",
    "> \n",
    "> **Definition 1.3.1:** The open ball centered at $x$ with radius $r > 0$ is defined as:\n",
    "> \n",
    "> $$B(x, r) = \\{y \\in X : d(x, y) < r\\}$$\n",
    "> \n",
    "> We denote this open ball as $B(x, r)$.\n",
    "> \n",
    "> **Definition 1.3.2:** The closed ball centered at $x$ with radius $r \\geq 0$ is defined as:\n",
    "> \n",
    "> $$\\overline{B}(x, r) = \\{y \\in X : d(x, y) \\leq r\\}$$\n",
    "> \n",
    "> We use the notation $\\overline{B}(x, r)$ for closed balls.\n",
    "\n",
    "The model should predict (and functions in the module [`markdown.obsidian.personal.machine_learning.tokenize.def_and_notat_token_classification`](markdown.obsidian.personal.machine_learning.tokenize.def_and_notat_token_classification.html) should mark) the following definitions and notations as introduced in the text:\n",
    "\n",
    "\n",
    "> Let $(X, d)$ be a metric space and $x \\in X$.\n",
    "> \n",
    "> **Definition 1.3.1:** The <b style=\"border-width:1px;border-style:solid;padding:3px\" definition=\"\">open ball centered at $x$ with radius $r > 0$</b> is defined as:\n",
    "> \n",
    "> <span style=\"border-width:1px;border-style:solid;padding:3px\" notation=\"\">\n",
    ">\n",
    "> $$B(x, r) = \\{y \\in X : d(x, y) < r\\}.$$\n",
    ">\n",
    "> </span>\n",
    "> \n",
    "> **Definition 1.3.2:** The <b style=\"border-width:1px;border-style:solid;padding:3px\" definition=\"\">closed ball centered at $x$ with radius $r \\geq 0$</b> is defined as:\n",
    "> \n",
    "> <span style=\"border-width:1px;border-style:solid;padding:3px\" notation=\"\">\n",
    ">\n",
    "> $$\\overline{B}(x, r) = \\{y \\in X : d(x, y) \\leq r\\}.$$\n",
    "> \n",
    "> </span>"
   ]
  },
  {
   "cell_type": "markdown",
   "metadata": {},
   "source": [
    "#### 3. Name definitions and notations introduced in an excerpt of mathematical text."
   ]
  },
  {
   "cell_type": "markdown",
   "metadata": {},
   "source": [
    "The models [hyunjongkimmath/definition_naming_model](https://huggingface.co/hyunjongkimmath/definition_naming_model) and [hyunjongkimmath/notation_naming_model](https://huggingface.co/hyunjongkimmath/notation_naming_model) attempt to \"name\" definitions and notations (marked either manually or with the [`hyunjongkimmath/def_and_notat_token_classification_model`](https://huggingface.co/hyunjongkimmath/def_and_notat_token_classification_model) discussed [above](#2-mark-definitions-and-notations-introduced-in-an-excerpt-of-mathematical-text)).\n",
    "\n",
    "In the example [above](#2-mark-definitions-and-notations-introduced-in-an-excerpt-of-mathematical-text), the [hyunjongkimmath/definition_naming_model](https://huggingface.co/hyunjongkimmath/definition_naming_model) model ideally would name the definition encapsulated by the marked phrases \n",
    "\n",
    "- **open ball centered at $x$ with radius $r > 0$**  and\n",
    "- **closed ball centered at $x$ with radius $r \\geq 0$**\n",
    "\n",
    "as (something along the lines of)\n",
    "\n",
    "- \"Open ball centered at a point of a metric space with radius $r$\" and\n",
    "- \"Closed ball centered at a point of a metric space with radius $r$\"\n",
    "\n",
    "respectively. \n",
    "\n",
    "Moreover, the [hyunjongkimmath/notation_naming_model](https://huggingface.co/hyunjongkimmath/notation_naming_model) ideally would name the notation encapsulated by the marked LaTeX math mode texts\n",
    "\n",
    "- $$B(x, r) = \\{y \\in X : d(x, y) < r\\}$$\n",
    "- $$\\overline{B}(x, r) = \\{y \\in X : d(x, y) \\leq r\\}$$\n",
    "\n",
    "as\n",
    "\n",
    "- $B(x, r)$ and\n",
    "- $\\overline{B}(x, r)$\n",
    "\n",
    "respectively --- the aim of the notation-naming process is to only extract the actual notation itself, not other parts of the LaTeX math mode texts that are not part of the notation.\n",
    "\n",
    "There may sometimes be more than one \"good\" way to name a definition/notation and a given marked phrase may actually encapsulate more than one definition/notation. In the above example, one might argue that the marked phrases\n",
    "\n",
    "- **open ball centered at $x$ with radius $r > 0$**  and\n",
    "- **closed ball centered at $x$ with radius $r \\geq 0$**\n",
    "\n",
    "encapsulate not only the notions of \"open ball\" and \"closed ball\" (centered at a point and with radius $r$), but also the notions of \"the center of an open/closed ball\" or \"the radius of an open/closed ball\".\n"
   ]
  },
  {
   "cell_type": "markdown",
   "metadata": {},
   "source": [
    "#### 4. Summarize what a notation denotes as introduced in an excerpt of mathematical text."
   ]
  },
  {
   "cell_type": "markdown",
   "metadata": {},
   "source": [
    "The model [hyunjongkimmath/notation_summarizations_model](https://huggingface.co/hyunjongkimmath/notation_summarizations_model) attempts to summarize what a notation introduced in a excerpt (marked either manually or with the [`hyunjongkimmath/def_and_notat_token_classification_model`](https://huggingface.co/hyunjongkimmath/def_and_notat_token_classification_model) discussed [above](#2-mark-definitions-and-notations-introduced-in-an-excerpt-of-mathematical-text) and named with the [hyunjongkimmath/notation_naming_model](https://huggingface.co/hyunjongkimmath/notation_naming_model) discussed [above](#3-name-definitions-and-notations-introduced-in-an-excerpt-of-mathematical-text)) is supposed to denote.\n",
    "\n",
    "In the [above](#2-mark-definitions-and-notations-introduced-in-an-excerpt-of-mathematical-text) [examples](#3-name-definitions-and-notations-introduced-in-an-excerpt-of-mathematical-text), the marked (and named) notations of $B(x,r)$ and $\\overline{B}(x,r)$ may be ideally summarized as follows:\n",
    "\n",
    "\n",
    "> $B(x,r)$ denotes the open ball centered at $x$ with radius $r$ where $x$ is a point of a metric space $X$ and $r > 0$. It is defined as \n",
    "> $$B(x, r) = \\{y \\in X : d(x, y) < r\\}$$\n",
    "\n",
    "> $\\overline{B}(x,r)$ denotes the closed ball centered at $x$ with radius $r$ where $x$ is a point of a metric space $X$ and $r > 0$. It is defined as \n",
    "> $$\\overline{B}(x, r) = \\{y \\in X : d(x, y) \\leq r\\}$$\n",
    "\n",
    "Ideally, such a generated notation should contain the following information (as available):\n",
    "\n",
    "1. The name/intuitive description of the notion denoted by the notation (in the above examples, \"open ball\" and \"closed ball\").\n",
    "2. The way the notion is defined/constructed (in the above examples, $B(x, r) = \\{y \\in X : d(x, y) < r\\}$, etc.)\n",
    "3. Other helpful information about the notation as introduced in the text.\n"
   ]
  },
  {
   "cell_type": "markdown",
   "metadata": {},
   "source": [
    "## Rationale for the functionalities and intended use"
   ]
  },
  {
   "cell_type": "markdown",
   "metadata": {},
   "source": [
    "The sheer amount and interconnectedness of definitions and notations that one has to understand (or at least be aware of) make it difficult to learn mathemamatics, especially at the graduate or research levels (and beyond). The [above functionalities](#descriptions-of-functionalities) aim to make learning mathematics more tractable by making it easier to locate (and remind oneself of) definitions and notations introduced in mathematical text.\n"
   ]
  },
  {
   "cell_type": "markdown",
   "metadata": {},
   "source": [
    "#### Difficulties in reading mathematical papers\n",
    "\n",
    "For example, take the following (very much fake) mathematical theorem [from Hyun Jong Kim's talk](https://drive.google.com/file/d/1OXQzMAoMiVWUz_cCWRJJ00NYwt_Yq2TK/view) at the [AMS Student Chapter Seminar](https://wiki.math.wisc.edu/index.php/AMS_Student_Chapter_Seminar)[^9] at the University of Wisconsin-Madison during the Spring 2024 semester:\n",
    "\n",
    "\n",
    "[^9]: Colloquially referred to as the \"Donut seminar\", as the organizers purchase donuts with the funds provided by the AMS for the speakers and the audience to eat. The fake theorem/definition below are jokes about donuts. \n",
    "\n",
    "> Theorem.\n",
    ">\n",
    "> Given a smooth, flavorful, gastroidal toroid $\\mathscr{T}_\\mathscr{G}$ of rank $n$, we have a natural isomorphism\n",
    "> $$H_{\\text{suc}}^i(\\mathscr{T}_\\mathscr{G}) \\cong H_{\\text{Betti}} ( |\\mathscr{T}_\\mathscr{G}|(\\mathbb{C}), \\mathbb{Q}(\\mathscr{T}_\\mathscr{G}))^{3n-i}.$$\n",
    "\n",
    "\n",
    "Even in this short (fake) theorem, a first time reader may not understand a multitude of defintions/notations:\n",
    "\n",
    "- Gastroidal toroid\n",
    "- Smooth gastroidal toroid\n",
    "- flavorful gastroidal toroid\n",
    "- rank of a gastroidal toroid\n",
    "- $H_{\\text{suc}}^i$\n",
    "- $|\\mathscr{T}_\\mathscr{G}|$\n",
    "- $|\\mathscr{T}_\\mathscr{G}|(\\mathbb{C})$\n",
    "- $\\mathbb{Q}(\\mathscr{T}_\\mathscr{G})$.\n",
    "\n",
    "Hypothetically, say that the reader finds some definitions/notations (which may very well take several minutes):\n",
    "\n",
    "> A gastroidal toroid is a toroid constructed as a fried dough and equipped with a sucrose structure. The space $|\\mathscr{T}_\\mathscr{G}|$ of a gastroidal toroid $\\mathscr{T}_\\mathscr{G}$ is the underlying topological space structure of the friend dough. We say that a gastroidal toroid is flavorful is $\\lim_{n \\to \\infty} \\operatorname{swt}_n(\\mathscr{T}_\\mathscr{G}) \\geq 1$\n",
    "\n",
    "However, this excerpt requires the reader to understand more definitions and notations:\n",
    "\n",
    "- a fried dough\n",
    "- a sucrose structure\n",
    "- $\\operatorname{swt}_n$\n",
    "\n",
    "In practice, as one sets out to learn about numerous definitions and notations, say in a given mathematical paper, one can often forget details and thus need to spend much time to re-find such definitions and notations. "
   ]
  },
  {
   "cell_type": "markdown",
   "metadata": {},
   "source": [
    "#### A workaround using `Obsidian.md`"
   ]
  },
  {
   "cell_type": "markdown",
   "metadata": {},
   "source": [
    "The functionalities of `trouver`, used in conjunction with `Obsidian.md`, can help work around these difficulties to reduce the amount of time and effort needed to re-find and re-learn these definitions and notations. `trouver` can divide a LaTeX document into not-too-long notes (see the `divide_latex_text` function in [latex.divide](latex.divide.html#divide_latex_text) and the `setup_reference_from_latex_parts` function in [latex.convert](latex.convert.html)) for an `Obsidian.md` vault. \n",
    "\n",
    "Some of `Obsidian.md` strengths include the ease with which links/embeddings between notes can be made and the ease with which notes can be searched and opened. In essence, one can use the [aforementioned functionalities](#descriptions-of-functionalities) to automatically identify definitions and notations introduced throughout the mathematical text, create new notes dedicated to each notation (see the `make_notation_notes_from_HTML_tags` function in [markdown.obsidian.personal.notation](markdown.obsidian.personal.notation.html)), and write summaries of what the notations denote.\n",
    "\n",
    "These notation notes can then be linked/embedded into other notes as needed, thereby making it much easier to view what a notation denotes.\n",
    "\n",
    "TODO: include example image\n"
   ]
  },
  {
   "cell_type": "markdown",
   "metadata": {},
   "source": [
    "## GUI"
   ]
  },
  {
   "cell_type": "markdown",
   "metadata": {},
   "source": [
    "`trouver` now has a prototype GUI for some of the [aforementioned funcionalities](#descriptions-of-functionalities). \n",
    "\n",
    "TODO: include link to GUI download"
   ]
  },
  {
   "cell_type": "markdown",
   "metadata": {},
   "source": [
    "# How to use"
   ]
  },
  {
   "cell_type": "markdown",
   "metadata": {},
   "source": [
    "See [tutorial.walkthrough](tutorial.walkthrough.html) and [tutorial.concise_code](tutorial.concise_code.html)"
   ]
  },
  {
   "cell_type": "markdown",
   "metadata": {},
   "source": [
    "# How the examples/tests are structured"
   ]
  },
  {
   "cell_type": "markdown",
   "metadata": {},
   "source": [
    "Many of the functions and methods in this library are accompanied by examples demonstrating how one might use them. \n",
    "\n",
    "These examples are usually also tests of the functions/methods; the developer of this library can use `nbdev`'s [`nbdev_test`](https://nbdev.fast.ai/api/test.html#nbdev_test) command-line command to automatically run these tests[^1][^2]. Moreover, there is a GitHub workflow in the repository for this library (see the `.github/workflows/test.yaml`) which automatically runs these examples/tests on GitHub Actions when changes to are [committed to the GitHub repository](https://github.com/git-guides/git-commit)[^3].\n",
    "\n",
    "[^1]: cf. [nbdev's End-To-End Walkthrough](https://nbdev.fast.ai/tutorials/tutorial.html#add-your-own-examples-tests-and-docs) to see how to use `nbdev_test`\n",
    "[^2]: There are also tests which are hidden from the documentation website; one can find these tests in the jupyter notebook files in the `nbs` folder in the repository for this library as notebook cells marked with the `#| hide` flag, cf. [nbdev's End-to-End Walkthrough](https://nbdev.fast.ai/tutorials/tutorial.html#add-your-own-frontmatter) to see what the `#| hide` flag does.\n",
    "\n",
    "These examples may use a combination of the following:\n",
    "\n",
    "- Mock patching via Python's [`unittest.mock`](https://docs.python.org/3/library/unittest.mock.html) library. \n",
    "- The [`fastcore.test`](https://fastcore.fast.ai/test.html) module as assertion statements.\n",
    "- example/test files in the `nbs/_tests` folder in the repository[^3].\n",
    "    - The `_test_directory()` function in the `helper` module obtains this folder.\n",
    "    - Many of these examples also use the [`tempfile.TemporaryDirectory`](https://docs.python.org/3/library/tempfile.html#tempfile.TemporaryDirectory) class along with the [`shutil.copytree`](https://docs.python.org/3/library/shutil.html#shutil.copytree) to create a Python context manager of a temporary directory with contents copied from the `nbs/_tests` folder. The temporary directory is automatically deleted once the context manager ends. We do this to run tests/examples which modify files/folders without modifying the files/folders in the `nbs/_tests` directory themselves.\n",
    "        - For example, the code \n",
    "        ```python\n",
    "        with tempfile.TemporaryDirectory(prefix='temp_dir', dir=os.getcwd()) as temp_dir:\n",
    "            temp_vault = Path(temp_dir) / 'test_vault_1'\n",
    "            shutil.copytree(_test_directory() / 'test_vault_1', temp_vault)\n",
    "\n",
    "            # run the rest of the example here\n",
    "\n",
    "            # Uncomment the below lines of code to view the end-results of the example; \n",
    "            # os.startfile(os.getcwd())\n",
    "            # os.input()  # this line pauses the process until the user makes an input so the deletion of the temporary directory is delayed.\n",
    "        ```\n",
    "        first creates a temporary directory starting `temp_dir` in the current working directory and copies into this temporary directory the contents of `test_vault_1` in the `nbs/_tests` folder. One the example/test has finished running, the temporary directory is removed whether or not the test succeeds.\n",
    "\n",
    "\n",
    "[^3]: The `.github/workflows/test.yaml` GitHub workflow file is set up in such a way that that allows GitHub Actions to access/use the contents of the `nbs/_tests` directory upon running the tests/examples."
   ]
  },
  {
   "cell_type": "markdown",
   "metadata": {},
   "source": [
    "## Miscellaneous"
   ]
  },
  {
   "cell_type": "markdown",
   "metadata": {},
   "source": [
    "This repository is still in its preliminary stages and much of the code and documentation may be faulty or not well formatted. The author greatly appreciates reports of these issues, notifications of typos, and suggestions on edits; please feel free to report them on the `Issues` section of the GitHub repository for this library. The [author](https://sites.google.com/wisc.edu/hyunjongkim) of this repository, who is primarily a mathematician (a postdoctoral associate at the time of this writing), does not guarantee quick responses or resolutions to such issues, but will do his best to address them."
   ]
  },
  {
   "cell_type": "markdown",
   "metadata": {},
   "source": [
    "# For developers\n",
    "\n",
    "\n"
   ]
  },
  {
   "cell_type": "markdown",
   "metadata": {},
   "source": [
    "This repository is based on the [`nbdev`](https://nbdev.fast.ai/) template. As such, code for the packages as well as the documentation for the repository are written in jupyter notebooks (the `.ipynb` files in the `nbs` folder) and the Python modules are auto-generated via the command-line command [`nbdev_export`](https://nbdev.fast.ai/api/doclinks.html#nbdev_export) (or [`nbdev_prepare`](https://nbdev.fast.ai/tutorials/tutorial.html#prepare-your-changes), which among other things runs `nbdev_export`.). "
   ]
  },
  {
   "cell_type": "markdown",
   "metadata": {},
   "source": [
    "## Troubleshooting\n",
    "- In the `nbs/_tests` folder, make sure that the folders that you want to test are not empty; since git does not track empty folders, empty folders will not be pushed in GitHub and the tests in GitHub Actions may yield different results than in a local computer."
   ]
  },
  {
   "cell_type": "markdown",
   "metadata": {},
   "source": [
    "# Copyright"
   ]
  },
  {
   "cell_type": "markdown",
   "metadata": {},
   "source": [
    "Copyright © 2023 onward Hyun Jong Kim. Licensed under the Apache License, Version 2.0 (the \"License\"); you may not use this project’s files except in compliance with the License. A copy of the License is provided in the LICENSE file in this repository."
   ]
  },
  {
   "cell_type": "markdown",
   "metadata": {},
   "source": [
    "# Special Thanks"
   ]
  },
  {
   "cell_type": "markdown",
   "metadata": {},
   "source": [
    "The author of `trouver` thanks [Sun Woo Park](https://sites.google.com/wisc.edu/spark483) for agreeing to allow their coauthored paper, [*Global $\\mathbb{A}^1$-degrees covering maps between modular curves*](https://arxiv.org/abs/2106.10586), along with some of Park's expository writings, to be used in examples in this library. The author of `trouver` further thanks Sun Woo Park for his help in testing `trouver` on a MacOS computer and for reviewing the `tutorial.walkthrough` page.\n",
    "\n",
    "Components of `trouver` use [arXiv.org's API](https://info.arxiv.org/help/api/index.html). As such, we include the following thanks:\n",
    "\n",
    "> Thank you to arXiv for use of its open access interoperability.\n",
    "\n",
    "`trouver` was built using [`nbdev`](https://nbdev.fast.ai/) as a template.\n",
    "\n"
   ]
  },
  {
   "cell_type": "markdown",
   "metadata": {},
   "source": [
    "# Release notes"
   ]
  },
  {
   "cell_type": "markdown",
   "metadata": {},
   "source": [
    "See [`release_notes`](release_notes.html)."
   ]
  }
 ],
 "metadata": {
  "kernelspec": {
   "display_name": "trouver_py310_venv",
   "language": "python",
   "name": "trouver_py310_venv"
  }
 },
 "nbformat": 4,
 "nbformat_minor": 4
}
