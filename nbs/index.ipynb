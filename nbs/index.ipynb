{
 "cells": [
  {
   "cell_type": "markdown",
   "metadata": {},
   "source": [
    "# trouver\n",
    "\n",
    "> Create and maintain mathematical Obsidian.md notes, and gather data from them to train ML models"
   ]
  },
  {
   "cell_type": "markdown",
   "metadata": {},
   "source": [
    "- [Author's academic website](https://sites.google.com/wisc.edu/hyunjongkim)\n",
    "- [GitHub repository](https://github.com/hyunjongkimmath/trouver#readme)\n",
    "- [Documentation website](https://hyunjongkimmath.github.io/trouver/)\n",
    "- [pypi page](https://pypi.org/project/trouver/)"
   ]
  },
  {
   "cell_type": "markdown",
   "metadata": {},
   "source": [
    "Mathematicians constantly need to learn and read about concepts with which they are unfamiliar. Keeping mathematical notes in an [`Obsidian.md`](https://obsidian.md/) vault can help with this learning process as `Obsidian.md`.\n"
   ]
  },
  {
   "cell_type": "markdown",
   "metadata": {},
   "source": [
    "## Disclaimer"
   ]
  },
  {
   "cell_type": "markdown",
   "metadata": {},
   "source": [
    "At the time of this writing (01/18/2023), there is only one author/contributor of this library. Nevertheless, the author often refers to himself as \"the author\", \"the authors\", or \"the author/authors\" in writing this library. Moreover, the author often uses the [\"editorial we\"](https://en.wikipedia.org/wiki/We#Editorial_we) in writing this library.\n",
    "\n",
    "Use this library at your own risk as using this library can write or modify files in your computer and as the documentation of some components of this library may be inaccurate or outdated. By using this library, you agree that the author/authors of this library is/are not responsible for any damages from this library and related components.\n",
    "\n",
    "This library is still somewhere in-between prototype and alpha. Moreover, the library itself may be unstable and subject to abrupt changes.\n",
    "\n",
    "The author/authors of this library is/are also not affiliated with `Obsidian.md`, `fast.ai`, or `Hugging Face`.\n",
    "\n"
   ]
  },
  {
   "cell_type": "markdown",
   "metadata": {},
   "source": [
    "## Install"
   ]
  },
  {
   "cell_type": "code",
   "execution_count": null,
   "metadata": {},
   "outputs": [],
   "source": [
    "# TODO Write installation instructions"
   ]
  },
  {
   "cell_type": "markdown",
   "metadata": {},
   "source": [
    "```sh\n",
    "pip install trouver\n",
    "```"
   ]
  },
  {
   "cell_type": "markdown",
   "metadata": {},
   "source": [
    "You may also have to manually install other libraries which are required by the `fast.ai` and/or `Hugging Face` libraries."
   ]
  },
  {
   "cell_type": "markdown",
   "metadata": {},
   "source": [
    "# How to use"
   ]
  },
  {
   "cell_type": "markdown",
   "metadata": {},
   "source": [
    "## Parse LaTeX documents and split them into parts"
   ]
  },
  {
   "cell_type": "markdown",
   "metadata": {},
   "source": [
    "`Trouver` can parse `LaTeX` documents and split them up into \"parts\" which are convenient to read in `Obsidian.md` and to take notes on. For example, the following code splits up this [paper](https://arxiv.org/abs/2106.10586) in creates a folder in an Obsidian.md vault[^4]."
   ]
  },
  {
   "cell_type": "code",
   "execution_count": null,
   "metadata": {},
   "outputs": [],
   "source": [
    "#| notest\n",
    "import os\n",
    "from pathlib import Path\n",
    "import shutil\n",
    "import tempfile\n",
    "\n",
    "from trouver.helper import _test_directory, text_from_file\n",
    "from trouver.latex.convert import (\n",
    "    divide_preamble, divide_latex_text, custom_commands,\n",
    "    setup_reference_from_latex_parts\n",
    ")"
   ]
  },
  {
   "cell_type": "code",
   "execution_count": null,
   "metadata": {},
   "outputs": [],
   "source": [
    "#| notest\n",
    "# This context manager is implemented to make sure that a temporary\n",
    "# folder is created and copies contents from `test_vault_5` in `nbs/_tests`,\n",
    "# only the contents of the temporary folder are modified, and \n",
    "with (tempfile.TemporaryDirectory(prefix='temp_dir', dir=os.getcwd()) as temp_dir):\n",
    "    temp_vault = Path(temp_dir) / 'test_vault_5'\n",
    "    shutil.copytree(_test_directory() / 'test_vault_5', temp_vault)\n",
    "\n",
    "    sample_latex_file = _test_directory() / 'latex_examples' / 'kim_park_ga1dcmmc' / 'main.tex'\n",
    "    sample_latex_text = text_from_file(sample_latex_file)\n",
    "    preamble, _ = divide_preamble(sample_latex_text)\n",
    "    parts = divide_latex_text(sample_latex_text)\n",
    "    cust_comms = custom_commands(preamble)\n",
    "    vault = temp_vault\n",
    "    location = Path('') # The path relative to the vault of the directory in which to make the new folder containing the new notes.\n",
    "    reference_name = 'kim_park_ga1dcmmc'\n",
    "    author_names = ['Kim', 'Park']\n",
    "    \n",
    "    setup_reference_from_latex_parts(\n",
    "        parts, cust_comms, vault, location,\n",
    "        reference_name,\n",
    "        author_names)\n",
    "\n",
    "    # os.startfile(os.getcwd()) # This open the current working directory; find the temporary folder in here.\n",
    "    # input() # There should be an input prompt; make an input here when you are done viewing the \n"
   ]
  },
  {
   "cell_type": "markdown",
   "metadata": {},
   "source": [
    "![The created folder in Obsidian.md looks like this in `Obsidian.md` The text in magenta are links, each to a file in the `Obsidian.md` vault](/images/index_setup_reference_from_latex_parts_demonstration.png)\n",
    "\n",
    "While `Obsidian.md` is not strictly necessary to use `trouver` or to read and write the files created by `setup_reference_from_latex_parts` (in fact, any traditional file reader/writer can be used for such purposes), reading and writing the files on `Obsidian.md` can be convenient."
   ]
  },
  {
   "cell_type": "markdown",
   "metadata": {},
   "source": [
    "## ML model utilities"
   ]
  },
  {
   "cell_type": "markdown",
   "metadata": {},
   "source": [
    "We have trained a few ML models to detect/predict and provide information about \"short\" mathematical text. These ML models are available on [`Hugging Face`](https://huggingface.co/) and as such, they can be downloaded to and used from one's local machines. Please note that ML models can be large and the locations that the Hugging Face [Transformers](https://huggingface.co/docs/transformers/index) library downloads such models to can vary from machine to machine."
   ]
  },
  {
   "cell_type": "markdown",
   "metadata": {},
   "source": [
    "For each of these models, we may or may not have also written some instructions on how to train similar models given appropriately formatted data[^5].\n",
    "\n",
    "[^5]: Given time, the author of `trouver` eventually plans on writing instructions on training each of the models."
   ]
  },
  {
   "cell_type": "markdown",
   "metadata": {},
   "source": [
    "Note that the data used to train these models contains mathematical text pertaining mostly to fields closely related to number theory and algebraic geometry. "
   ]
  },
  {
   "cell_type": "markdown",
   "metadata": {},
   "source": [
    "## Use an ML model to categorize and label the note types"
   ]
  },
  {
   "cell_type": "markdown",
   "metadata": {},
   "source": [
    "One of these ML models predicts the type of a piece of mathematical writing. For example, this model may predict that \n",
    "\n",
    "```markdown\n",
    "Let $L/K$ be an field extension. An element $\\alpha \\in L$ is said to be algebraic over $K$ if there exists some polynomial $f(x) \\in K[x]$ such that $f(\\alpha) = 0$.\n",
    "```\n",
    "\n",
    "introduces a definition. For the purposes of `trouver`, an `Obsidian.md` note containing ought to be labeled with the `#_meta/definition` tag by adding the text `_meta/definition` to the `tags` field in the frontmatter YAML metadata of the note:\n",
    "\n",
    "![In this note, there is a `_meta/definition` in the `tags` field in the frontmatter YAML metadata of the note](/images/index_example_of_a_note_with_meta_definition_tag.png)\n",
    "\n",
    "See `markdown.obsidian.personal.machine_learning.information_note_types` for more details."
   ]
  },
  {
   "cell_type": "markdown",
   "metadata": {},
   "source": [
    "This ML model is trained using the [fast.ai](https://www.fast.ai/) library with the [ULMFiT approach](https://docs.fast.ai/tutorial.text.html#the-ulmfit-approach); see `how_to.train_ml_model.fastai` for the steps taken to train this model. This ML model is also available on [Hugging Face](https://huggingface.co/) under the repository [hyunjongkimmath/information_note_type](https://huggingface.co/hyunjongkimmath/information_note_type)"
   ]
  },
  {
   "cell_type": "markdown",
   "metadata": {},
   "source": [
    "The following code downloads the model into the local Hugging Face cache (if necessary) and loads the model."
   ]
  },
  {
   "cell_type": "code",
   "execution_count": null,
   "metadata": {},
   "outputs": [],
   "source": [
    "import pathlib\n",
    "from pathlib import WindowsPath\n",
    "import platform\n",
    "\n",
    "from huggingface_hub import from_pretrained_fastai"
   ]
  },
  {
   "cell_type": "code",
   "execution_count": null,
   "metadata": {},
   "outputs": [
    {
     "data": {
      "application/vnd.jupyter.widget-view+json": {
       "model_id": "2da31a6a35be4ef69d7c6b9085002a66",
       "version_major": 2,
       "version_minor": 0
      },
      "text/plain": [
       "Fetching 4 files:   0%|          | 0/4 [00:00<?, ?it/s]"
      ]
     },
     "metadata": {},
     "output_type": "display_data"
    }
   ],
   "source": [
    "#| notest\n",
    "repo_id = 'hyunjongkimmath/information_note_type'\n",
    "\n",
    "# There is a PosixPath problem when trying to load\n",
    "# the model on Windows; we get around this problem\n",
    "# within the `if` statement.\n",
    "if platform.system() == 'Windows':\n",
    "    temp = pathlib.PosixPath # See https://stackoverflow.com/questions/57286486/i-cant-load-my-model-because-i-cant-put-a-posixpath\n",
    "    pathlib.PosixPath = pathlib.WindowsPath\n",
    "    information_note_type_model = from_pretrained_fastai(repo_id)\n",
    "    pathlib.PosixPath = temp\n",
    "else:\n",
    "    information_note_type_model = from_pretrained_fastai(repo_id)\n",
    "\n"
   ]
  },
  {
   "cell_type": "code",
   "execution_count": null,
   "metadata": {},
   "outputs": [
    {
     "data": {
      "text/html": [
       "\n",
       "<style>\n",
       "    /* Turns off some styling */\n",
       "    progress {\n",
       "        /* gets rid of default border in Firefox and Opera. */\n",
       "        border: none;\n",
       "        /* Needs to be in here for Safari polyfill so background images work as expected. */\n",
       "        background-size: auto;\n",
       "    }\n",
       "    progress:not([value]), progress:not([value])::-webkit-progress-bar {\n",
       "        background: repeating-linear-gradient(45deg, #7e7e7e, #7e7e7e 10px, #5c5c5c 10px, #5c5c5c 20px);\n",
       "    }\n",
       "    .progress-bar-interrupted, .progress-bar-interrupted::-webkit-progress-bar {\n",
       "        background: #F44336;\n",
       "    }\n",
       "</style>\n"
      ],
      "text/plain": [
       "<IPython.core.display.HTML object>"
      ]
     },
     "metadata": {},
     "output_type": "display_data"
    },
    {
     "data": {
      "text/html": [],
      "text/plain": [
       "<IPython.core.display.HTML object>"
      ]
     },
     "metadata": {},
     "output_type": "display_data"
    },
    {
     "name": "stdout",
     "output_type": "stream",
     "text": [
      "(['#_meta/definition', '#_meta/notation'], tensor([False, False, False, False, False, False,  True, False, False, False,\n",
      "         True, False, False, False]), tensor([1.9631e-03, 3.4931e-04, 1.7551e-02, 4.8163e-02, 5.7628e-06, 3.0610e-06,\n",
      "        9.6544e-01, 2.3179e-03, 2.4539e-03, 1.6170e-02, 5.8807e-01, 4.5185e-03,\n",
      "        2.5055e-04, 4.6183e-03]))\n"
     ]
    },
    {
     "data": {
      "text/html": [
       "\n",
       "<style>\n",
       "    /* Turns off some styling */\n",
       "    progress {\n",
       "        /* gets rid of default border in Firefox and Opera. */\n",
       "        border: none;\n",
       "        /* Needs to be in here for Safari polyfill so background images work as expected. */\n",
       "        background-size: auto;\n",
       "    }\n",
       "    progress:not([value]), progress:not([value])::-webkit-progress-bar {\n",
       "        background: repeating-linear-gradient(45deg, #7e7e7e, #7e7e7e 10px, #5c5c5c 10px, #5c5c5c 20px);\n",
       "    }\n",
       "    .progress-bar-interrupted, .progress-bar-interrupted::-webkit-progress-bar {\n",
       "        background: #F44336;\n",
       "    }\n",
       "</style>\n"
      ],
      "text/plain": [
       "<IPython.core.display.HTML object>"
      ]
     },
     "metadata": {},
     "output_type": "display_data"
    },
    {
     "data": {
      "text/html": [],
      "text/plain": [
       "<IPython.core.display.HTML object>"
      ]
     },
     "metadata": {},
     "output_type": "display_data"
    },
    {
     "name": "stdout",
     "output_type": "stream",
     "text": [
      "(['#_meta/concept', '#_meta/proof'], tensor([False, False, False,  True, False, False, False, False, False, False,\n",
      "        False,  True, False, False]), tensor([3.4701e-03, 6.6588e-05, 7.8861e-02, 9.7205e-01, 8.8357e-06, 6.1183e-06,\n",
      "        9.5552e-02, 4.0747e-03, 2.7043e-04, 2.7545e-02, 1.3064e-02, 5.6198e-01,\n",
      "        1.5603e-04, 5.5122e-03]))\n"
     ]
    }
   ],
   "source": [
    "#| notest\n",
    "sample_prediction_1 = information_note_type_model.predict(r'Let $L/K$ be an field extension. An element $\\alpha \\in L$ is said to be algebraic over $K$ if there exists some polynomial $f(x) \\in K[x]$ such that $f(\\alpha) = 0$.')\n",
    "print(sample_prediction_1) \n",
    "sample_prediction_2 = information_note_type_model.predict(r'Theorem. Let $q$ be a prime power. Up to isomorphism, there is exactly one field with $q$ elements.')\n",
    "print(sample_prediction_2) "
   ]
  },
  {
   "cell_type": "markdown",
   "metadata": {},
   "source": [
    "At the time of this writing (01/18/2023), the model seems to incorrect predict\n",
    "- in `sample_prediction_1` that the text introduces a notation.\n",
    "- in `sample_prediction_2` that the text contains a proof."
   ]
  },
  {
   "cell_type": "code",
   "execution_count": null,
   "metadata": {},
   "outputs": [],
   "source": [
    "#| notest\n",
    "# from trouver.markdown.obsidian.personal.machine_learning.information_note_types import "
   ]
  },
  {
   "cell_type": "markdown",
   "metadata": {},
   "source": [
    "While one can make use of the model's `predict` method as is, `trouver` also provides functions which predict the types of mathematical text written in notes formatted in a specific way and record on these notes the predictions made. This way, one can make the model predict once and use these predictions for later, which can save computational resources."
   ]
  },
  {
   "cell_type": "code",
   "execution_count": null,
   "metadata": {},
   "outputs": [],
   "source": [
    "from trouver.markdown.obsidian.vault import VaultNote\n",
    "from trouver.markdown.obsidian.personal.notes import notes_linked_in_notes_linked_in_note\n",
    "from trouver.markdown.obsidian.personal.machine_learning.information_note_types import automatically_add_note_type_tags"
   ]
  },
  {
   "cell_type": "code",
   "execution_count": null,
   "metadata": {},
   "outputs": [
    {
     "name": "stdout",
     "output_type": "stream",
     "text": [
      "This is what one of the notes looks like before predicting its note type:\n",
      "\n",
      "\n",
      "---\n",
      "cssclass: clean-embeds\n",
      "aliases: [number_theory_reference_1_ring]\n",
      "tags: [_meta/literature_note, _reference/number_theory_reference_1]\n",
      "---\n",
      "# Ring[^1]\n",
      "\n",
      "A **(commutative) ring** is a set $R$, equipped with two binary operators, denoted $+$ and $\\cdot$, such that the following hold:\n",
      "\n",
      "1. $R$ is an abelian group under $+$ with identity element $0$.\n",
      "2. $R$ is an commutative monoid under $\\cdot$ with identity element $1$.\n",
      "3. For all $a,b,c \\in R$, we have $a \\cdot (b+c) = a \\cdot b + a \\cdot c$.\n",
      "\n",
      "# See Also\n",
      "\n",
      "# Meta\n",
      "## References\n",
      "![[_reference_number_theory_reference_1]]\n",
      "\n",
      "## Citations and Footnotes\n",
      "[^1]: Kim, Definition 1.1, Page 1\n",
      "\n",
      "\n",
      "Tagging notes\n",
      "\n",
      "\n",
      "This is what the same note looks like after predicting its note type:\n",
      "\n",
      "\n",
      "---\n",
      "cssclass: clean-embeds\n",
      "aliases: [number_theory_reference_1_ring]\n",
      "tags: [_meta/literature_note, _reference/number_theory_reference_1, _auto/_meta/definition]\n",
      "---\n",
      "# Ring[^1]\n",
      "\n",
      "A **(commutative) ring** is a set $R$, equipped with two binary operators, denoted $+$ and $\\cdot$, such that the following hold:\n",
      "\n",
      "1. $R$ is an abelian group under $+$ with identity element $0$.\n",
      "2. $R$ is an commutative monoid under $\\cdot$ with identity element $1$.\n",
      "3. For all $a,b,c \\in R$, we have $a \\cdot (b+c) = a \\cdot b + a \\cdot c$.\n",
      "\n",
      "# See Also\n",
      "\n",
      "# Meta\n",
      "## References\n",
      "![[_reference_number_theory_reference_1]]\n",
      "\n",
      "## Citations and Footnotes\n",
      "[^1]: Kim, Definition 1.1, Page 1\n"
     ]
    }
   ],
   "source": [
    "#| notest\n",
    "with (tempfile.TemporaryDirectory(prefix='temp_dir', dir=os.getcwd()) as temp_dir):\n",
    "    temp_vault = Path(temp_dir) / 'test_vault_8'\n",
    "    shutil.copytree(_test_directory() / 'test_vault_8', temp_vault)\n",
    "    reference = 'number_theory_reference_1'\n",
    "\n",
    "    index_note = VaultNote(temp_vault, name=f'_index_{reference}')\n",
    "    # `notes` below is a list of `VaultNote` objects.\n",
    "    # Also, the `notes_linked_in_note` function can be a useful\n",
    "    # alternative to the `notes_linked_in_notes_linked_in_note` function.\n",
    "    notes = notes_linked_in_notes_linked_in_note(index_note, as_dict=False)\n",
    "    \n",
    "    print(\"This is what one of the notes looks like before predicting its note type:\\n\\n\")\n",
    "    print(notes[0].text())\n",
    "\n",
    "    print(\"\\n\\nTagging notes\\n\\n\")\n",
    "    # Note that `information_note_type_model` was loaded previously.\n",
    "    automatically_add_note_type_tags(information_note_type_model, temp_vault, notes)\n",
    "\n",
    "    print(\"This is what the same note looks like after predicting its note type:\\n\\n\")\n",
    "    print(notes[0].text())\n",
    "\n",
    "    # os.startfile(os.getcwd()) # This opens the current working directory; find the temporary folder in here and explore it if desired.\n",
    "    # input() # There should be an input prompt; make an input here when you are done viewing the \n",
    "\n"
   ]
  },
  {
   "cell_type": "markdown",
   "metadata": {},
   "source": [
    "## Use an ML model to find notations introduced in text"
   ]
  },
  {
   "cell_type": "markdown",
   "metadata": {},
   "source": [
    "Another ML model predicts locations of notations introduced in text. This model is trained as a categorizer - given a piece of mathematical text in LaTeX in which a single LaTeX math mode string (surrounded either by the dollar sign `$` or double dollar signs `$$`) is surrounded by double asterisks `**`, the model should determine whether or not the LaTeX math mode string contains a newly introduced notation.\n",
    "\n",
    "For example, suppose that we want to find notations introduced in the following text:\n",
    "\n",
    "```markdown\n",
    "Let $L/K$ be a Galois field extension. Its Galois group $\\operatorname{Gal}(L/K)$ is defined as the group of automorphisms of $L$ fixing $K$ pointwise.\n",
    "```\n",
    "\n",
    "Our approach is to consider each latex math mode strings in this text (of which there are 4: $L/K$, $\\operatorname{Gal}(L/K)$, $L$, and $K$), consider the four alternate versions of this text in which double asterisks `**` are surround one of these math mode strings, and use the model to predict whether that math mode string contains a newly introduced notation. In particular, we pass through the model the following pieces of text:\n",
    "\n",
    "\n",
    "1.\n",
    "```markdown\n",
    "Let **$L/K$** be a Galois field extension. Its Galois group $\\operatorname{Gal}(L/K)$ is defined as the group of automorphisms of $L$ fixing $K$ pointwise.\n",
    "```\n",
    "2. \n",
    "```markdown\n",
    "Let $L/K$ be a Galois field extension. Its Galois group **$\\operatorname{Gal}(L/K)$** is defined as the group of automorphisms of $L$ fixing $K$ pointwise.\n",
    "```\n",
    "3. \n",
    "```markdown\n",
    "Let $L/K$ be a Galois field extension. Its Galois group $\\operatorname{Gal}(L/K)$ is defined as the group of automorphisms of **$L$** fixing $K$ pointwise.\n",
    "```\n",
    "4.\n",
    "```markdown\n",
    "Let $L/K$ be a Galois field extension. Its Galois group $\\operatorname{Gal}(L/K)$ is defined as the group of automorphisms of $L$ fixing **$K$** pointwise.\n",
    "```\n",
    "\n",
    "Ideally, the model should determine only the second version of text to contain a newly introduced notation\n",
    "\n",
    "\n",
    "See `markdown.obsidian.personal.machine_learning.notation_identifcation` for more details.\n",
    "\n",
    "This ML model is also trained using the `fast.ai` library with the [ULMFiT approach](https://docs.fast.ai/tutorial.text.html#the-ulmfit-approach), and is available on `Hugging Face` under the repository [hyunjongkimmath/notation_identification](https://huggingface.co/hyunjongkimmath/notation_identification)."
   ]
  },
  {
   "cell_type": "code",
   "execution_count": null,
   "metadata": {},
   "outputs": [],
   "source": [
    "import pathlib\n",
    "from pathlib import WindowsPath\n",
    "import platform\n",
    "\n",
    "from huggingface_hub import from_pretrained_fastai"
   ]
  },
  {
   "cell_type": "code",
   "execution_count": null,
   "metadata": {},
   "outputs": [
    {
     "data": {
      "application/vnd.jupyter.widget-view+json": {
       "model_id": "ff2014ccbd804d89af326f51d8f3c68c",
       "version_major": 2,
       "version_minor": 0
      },
      "text/plain": [
       "Fetching 4 files:   0%|          | 0/4 [00:00<?, ?it/s]"
      ]
     },
     "metadata": {},
     "output_type": "display_data"
    }
   ],
   "source": [
    "#| notest\n",
    "repo_id = 'hyunjongkimmath/notation_identification'\n",
    "\n",
    "# There is a PosixPath problem when trying to load\n",
    "# the model on Windows; we get around this problem\n",
    "# within the `if` statement.\n",
    "if platform.system() == 'Windows':\n",
    "    temp = pathlib.PosixPath # See https://stackoverflow.com/questions/57286486/i-cant-load-my-model-because-i-cant-put-a-posixpath\n",
    "    pathlib.PosixPath = pathlib.WindowsPath\n",
    "    notation_identification_model = from_pretrained_fastai(repo_id)\n",
    "    pathlib.PosixPath = temp\n",
    "else:\n",
    "    notation_identification_model = from_pretrained_fastai(repo_id)\n",
    "\n"
   ]
  },
  {
   "cell_type": "code",
   "execution_count": null,
   "metadata": {},
   "outputs": [
    {
     "data": {
      "text/html": [
       "\n",
       "<style>\n",
       "    /* Turns off some styling */\n",
       "    progress {\n",
       "        /* gets rid of default border in Firefox and Opera. */\n",
       "        border: none;\n",
       "        /* Needs to be in here for Safari polyfill so background images work as expected. */\n",
       "        background-size: auto;\n",
       "    }\n",
       "    progress:not([value]), progress:not([value])::-webkit-progress-bar {\n",
       "        background: repeating-linear-gradient(45deg, #7e7e7e, #7e7e7e 10px, #5c5c5c 10px, #5c5c5c 20px);\n",
       "    }\n",
       "    .progress-bar-interrupted, .progress-bar-interrupted::-webkit-progress-bar {\n",
       "        background: #F44336;\n",
       "    }\n",
       "</style>\n"
      ],
      "text/plain": [
       "<IPython.core.display.HTML object>"
      ]
     },
     "metadata": {},
     "output_type": "display_data"
    },
    {
     "data": {
      "text/html": [],
      "text/plain": [
       "<IPython.core.display.HTML object>"
      ]
     },
     "metadata": {},
     "output_type": "display_data"
    },
    {
     "data": {
      "text/html": [
       "\n",
       "<style>\n",
       "    /* Turns off some styling */\n",
       "    progress {\n",
       "        /* gets rid of default border in Firefox and Opera. */\n",
       "        border: none;\n",
       "        /* Needs to be in here for Safari polyfill so background images work as expected. */\n",
       "        background-size: auto;\n",
       "    }\n",
       "    progress:not([value]), progress:not([value])::-webkit-progress-bar {\n",
       "        background: repeating-linear-gradient(45deg, #7e7e7e, #7e7e7e 10px, #5c5c5c 10px, #5c5c5c 20px);\n",
       "    }\n",
       "    .progress-bar-interrupted, .progress-bar-interrupted::-webkit-progress-bar {\n",
       "        background: #F44336;\n",
       "    }\n",
       "</style>\n"
      ],
      "text/plain": [
       "<IPython.core.display.HTML object>"
      ]
     },
     "metadata": {},
     "output_type": "display_data"
    },
    {
     "data": {
      "text/html": [],
      "text/plain": [
       "<IPython.core.display.HTML object>"
      ]
     },
     "metadata": {},
     "output_type": "display_data"
    },
    {
     "name": "stdout",
     "output_type": "stream",
     "text": [
      "('True', tensor(1), tensor([9.0574e-08, 1.0000e+00]))\n",
      "('False', tensor(0), tensor([1.0000e+00, 4.8617e-06]))\n"
     ]
    }
   ],
   "source": [
    "#| notest\n",
    "contains_a_notation = notation_identification_model.predict(r'Let $L/K$ be a Galois field extension. Its Galois group **$\\operatorname{Gal}(L/K)$** is defined as the group of automorphisms of $L$ fixing $K$ pointwise.')\n",
    "does_not_contain_a_notation = notation_identification_model.predict(r'Let **$L/K$** be a Galois field extension. Its Galois group $\\operatorname{Gal}(L/K)$ is defined as the group of automorphisms of $L$ fixing $K$ pointwise.')\n",
    "print(contains_a_notation)\n",
    "print(does_not_contain_a_notation)"
   ]
  },
  {
   "cell_type": "code",
   "execution_count": null,
   "metadata": {},
   "outputs": [],
   "source": [
    "# TODO: examples of using functions in markdown.obsidian.personal.machine_learning.notation_identifcation."
   ]
  },
  {
   "cell_type": "markdown",
   "metadata": {},
   "source": [
    "Similarly as with the `information_note_type` model, `trouver` provides functions (namely `automatically_mark_notations`) which locate within notes mathematical notations that are newly introduced in the text of the notes and record on these notes locations of such notations (by surrounding double asterisks `**` to LaTeX math mode strings). Note that this is done by applying the `notation_identification` model's `predict` method as many times on a single piece of text as there are LaTeX math mode strings in the text. As such, these predictions often take a long time. \n",
    "\n",
    "To save time, it is recommended to apply `automatically_mark_notations` only on notes which have the `_meta/definition` or `_meta/notation` tags (or `_auto/_meta/definittion` or `_auto/_meta/notation`) in their frontmatter YAML metadata[^6].\n",
    "\n",
    "[^6]: At the time of this writing (1/30/2023), the `information_note_type` model is fairly good at telling when a note introduces a definition or a notation, but will often conflate the two. In other words, the model may predict that a note ought to have the `_meta/definition` tag assigned to it when the `_meta/notation` tag should be assigned to it and vice versa, but the model will fairly usually assign at least one of the tags when the note introduces a definition or a notation and will assign neither of the tags when the note does not introduce a definition or a notation.\n",
    "\n",
    "\n",
    "> **Warning**\n",
    "> The `automatically_mark_notations` function note only adds double asterisks `**` to LaTeX math mode strings, but also removes components such as links and footnotes from the text of the note. It is recommended to only apply this function to notes whose text has not been embellished with such components[^7].\n",
    "\n",
    "[^7]: More precisely, `automatically_mark_notations` first applies `process_standard_information_note` to a `MarkdownFile` object constructed from the `VaultNote` object to roughly obtain the \"raw text\" of the note, uses that raw text to locate notations, marks the notations in the raw text, and then replaces the text from the note with the raw text with notations marked. In the process of obtaining the \"raw text\", the `process_standard_information_note` function removes components such as links and footnotes from the text."
   ]
  },
  {
   "cell_type": "markdown",
   "metadata": {},
   "source": [
    "The test vault used in the below example contains a single note which has already been marked with the `_meta/definition` and `_meta/notation` notes. The following example in particular locates notations in that note at the very least."
   ]
  },
  {
   "cell_type": "code",
   "execution_count": null,
   "metadata": {},
   "outputs": [],
   "source": [
    "from trouver.markdown.markdown.file import MarkdownFile\n",
    "from trouver.markdown.obsidian.vault import VaultNote\n",
    "from trouver.markdown.obsidian.personal.notes import notes_linked_in_notes_linked_in_note\n",
    "from trouver.markdown.obsidian.personal.machine_learning.notation_identification import automatically_mark_notations"
   ]
  },
  {
   "cell_type": "code",
   "execution_count": null,
   "metadata": {},
   "outputs": [
    {
     "name": "stdout",
     "output_type": "stream",
     "text": [
      "This is what one of the notes looks like before locating notations introduced:\n",
      "\n",
      "\n",
      "---\n",
      "cssclass: clean-embeds\n",
      "aliases: [number_theory_reference_1_ring_of_integers_modulo_n]\n",
      "tags: [_meta/literature_note, _reference/number_theory_reference_1, _meta/definition, _meta/notation]\n",
      "---\n",
      "# Ring of integers modulo $n$[^1]\n",
      "The ring of integers modulo $n$, denoted $\\mathbb{Z}/n\\mathbb{Z}$ has the elements $[m]$ for each integer $m$ where $[m_1] = [m_2]$ if and only if $m_1-m_2$ is divisible by $n$. As a ring, it has the following structure:\n",
      "\n",
      "1. $[m_1] + [m_2] = [m_1+m_2]$\n",
      "2. $[m_1] \\cdot [m_2] = [m_1 \\cdot m_2]$.\n",
      "\n",
      "\n",
      "# See Also\n",
      "\n",
      "# Meta\n",
      "## References\n",
      "![[_reference_number_theory_reference_1]]\n",
      "\n",
      "## Citations and Footnotes\n",
      "[^1]: Kim, Definition 1.7, Page 3\n",
      "\n",
      "\n",
      "Finding notations\n",
      "\n",
      "\n",
      "This is what the same note looks like after locating notations introduced:\n",
      "\n",
      "\n",
      "---\n",
      "cssclass: clean-embeds\n",
      "aliases: [number_theory_reference_1_ring_of_integers_modulo_n]\n",
      "tags: [_meta/literature_note, _auto/s, _auto/F, _meta/definition, _reference/number_theory_reference_1, _auto/a, _auto/e, _auto/l, _meta/notation]\n",
      "---\n",
      "# Topic[^1]\n",
      "The ring of integers modulo $n$, denoted **$\\mathbb{Z}/n\\mathbb{Z}$** has the elements $[m]$ for each integer $m$ where $[m_1] = [m_2]$ if and only if $m_1-m_2$ is divisible by $n$. As a ring, it has the following structure:\n",
      "\n",
      "1. $[m_1] + [m_2] = [m_1+m_2]$\n",
      "2. $[m_1] \\cdot [m_2] = [m_1 \\cdot m_2]$.\n",
      "\n",
      "# See Also\n",
      "\n",
      "# Meta\n",
      "## References\n",
      "![[_reference_number_theory_reference_1]]\n",
      "\n",
      "## Citations and Footnotes\n",
      "[^1]: Kim, Definition 1.7, Page 3\n"
     ]
    }
   ],
   "source": [
    "#| notest\n",
    "with (tempfile.TemporaryDirectory(prefix='temp_dir', dir=os.getcwd()) as temp_dir):\n",
    "    temp_vault = Path(temp_dir) / 'test_vault_8'\n",
    "    shutil.copytree(_test_directory() / 'test_vault_8', temp_vault)\n",
    "    reference = 'number_theory_reference_1'\n",
    "\n",
    "    index_note = VaultNote(temp_vault, name=f'_index_{reference}')\n",
    "    # `notes` below is a list of `VaultNote` objects.\n",
    "    # Also, the `notes_linked_in_note` function can be a useful\n",
    "    # alternative to the `notes_linked_in_notes_linked_in_note` function.\n",
    "    notes = notes_linked_in_notes_linked_in_note(index_note, as_dict=False)\n",
    "    one_note_with_notation_tag = VaultNote(temp_vault, name='number_theory_reference_1_Definition 1.7')\n",
    "    \n",
    "    print(\"This is what one of the notes looks like before locating notations introduced:\\n\\n\")\n",
    "    print(one_note_with_notation_tag.text())\n",
    "\n",
    "    print(\"\\n\\nFinding notations\\n\\n\")\n",
    "    # Note that `information_note_type_model` was loaded previously.\n",
    "    automatically_add_note_type_tags(notation_identification_model, temp_vault, notes)\n",
    "\n",
    "    note_mfs = [MarkdownFile.from_vault_note(note) for note in notes]\n",
    "    # The below code ensures that the model searches for notations only in \n",
    "    # notes marked with a `_meta/definition` or a `_meta/notation`tag or\n",
    "    # their `_auto` versions. \n",
    "    notation_introducing_notes = [\n",
    "        note for note, mf in zip(notes, note_mfs)\n",
    "        if mf.has_tag('_auto/_meta/definition') or mf.has_tag('_auto/_meta/notation')\n",
    "        or mf.has_tag('_meta/definition') or mf.has_tag('_meta/notation')]\n",
    "    for note in notation_introducing_notes:\n",
    "        automatically_mark_notations(note, notation_identification_model, reference_name=reference)\n",
    "\n",
    "    print(\"This is what the same note looks like after locating notations introduced:\\n\\n\")\n",
    "    print(one_note_with_notation_tag.text())\n",
    "\n",
    "    # os.startfile(os.getcwd()) # This opens the current working directory; find the temporary folder in here and explore it if desired.\n",
    "    # input() # There should be an input prompt; make an input here when you are done viewing the \n",
    "\n"
   ]
  },
  {
   "cell_type": "markdown",
   "metadata": {},
   "source": [
    "[^8]\n",
    "\n",
    "[^8]: There seems to be a bug in the above example where inexplicable tags (e.g. `_auto/s`, `_auto/a`) are added to the note along with the double asterisks `**`. This issue is reported as [Issue #33](https://github.com/hyunjongkimmath/trouver/issues/33)."
   ]
  },
  {
   "cell_type": "markdown",
   "metadata": {},
   "source": [
    "## Use an ML model to summarize notations introduced in text"
   ]
  },
  {
   "cell_type": "markdown",
   "metadata": {},
   "source": [
    "Now that we have found notations introduced in text and created notation notes for them in our `Obisidian.md` vault, we now generate summaries for these notations.\n",
    "\n",
    "The ML model in question fine-tuned from a [`T5` model](https://huggingface.co/docs/transformers/model_doc/t5)\n",
    "\n",
    "This ML model is available on `Hugging Face` under the repository [`hyunjongkimmath/notation_summarizations_model`](https://huggingface.co/hyunjongkimmath/notation_summarizations_model). "
   ]
  },
  {
   "cell_type": "code",
   "execution_count": null,
   "metadata": {},
   "outputs": [],
   "source": [
    "#| notest\n",
    "from transformers import AutoModelForSeq2SeqLM, AutoTokenizer, pipeline"
   ]
  },
  {
   "cell_type": "code",
   "execution_count": null,
   "metadata": {},
   "outputs": [],
   "source": [
    "#| notest\n",
    "model = AutoModelForSeq2SeqLM.from_pretrained('hyunjongkimmath/notation_summarizations_model')\n",
    "tokenizer = AutoTokenizer.from_pretrained('hyunjongkimmath/notation_summarizations_model')\n",
    "summarizer = pipeline('summarization', model=model, tokenizer=tokenizer)"
   ]
  },
  {
   "cell_type": "markdown",
   "metadata": {},
   "source": [
    "The summarizer pipeline can be used to summarize notations newly introduced in a piece of mathematical text. The text needs to be formatted as follows:\n",
    "\n",
    "```markdown\n",
    "summarize: <mathematical_text_goes_here>\n",
    "\n",
    "latex_in_original: $<notation_to_summarize>$\n",
    "```"
   ]
  },
  {
   "cell_type": "code",
   "execution_count": null,
   "metadata": {},
   "outputs": [
    {
     "data": {
      "text/plain": [
       "transformers.pipelines.text2text_generation.SummarizationPipeline"
      ]
     },
     "execution_count": null,
     "metadata": {},
     "output_type": "execute_result"
    }
   ],
   "source": [
    "#| notest\n",
    "type(summarizer)"
   ]
  },
  {
   "cell_type": "code",
   "execution_count": null,
   "metadata": {},
   "outputs": [
    {
     "name": "stderr",
     "output_type": "stream",
     "text": [
      "Your max_length is set to 200, but you input_length is only 54. You might consider decreasing max_length manually, e.g. summarizer('...', max_length=27)\n"
     ]
    },
    {
     "data": {
      "text/plain": [
       "[{'summary_text': 'the upper half plane of the complex plane $\\\\ mathbb{ H} $. It is defined as the set of all complex numbers of real part greater than $1$.'}]"
      ]
     },
     "execution_count": null,
     "metadata": {},
     "output_type": "execute_result"
    }
   ],
   "source": [
    "#| notest\n",
    "summarizer(\"summarize:Let us now define the upper half plane $\\mathbb{H}$ as the set of all complex numbers of real part greater than $1$.\\n\\n\\nlatex_in_original: $\\mathbb{H}$\")"
   ]
  },
  {
   "cell_type": "markdown",
   "metadata": {},
   "source": [
    "In the above example, the summarizer determines that the notation `$\\mathbb{H}$` introduced in the text\n",
    "\n",
    "```markdown\n",
    "Let us now define the upper half plane $\\mathbb{H}$ as the set of all complex numbers of real part greater than $1$.\n",
    "```\n",
    "denotes `'the upper half plane of the complex plane $\\\\ mathbb{ H} $. It is defined as the set of all complex numbers of real part greater than $1$.'`."
   ]
  },
  {
   "cell_type": "markdown",
   "metadata": {},
   "source": [
    "Once we mark notations introduced in information notes by surrounding LaTeX math mode strings with double asterisks `**` (manually and/or by using the `notation_identification` model, see [the section about the `notation_identification` model](#use-an-ml-model-to-find-notations-introduced-in-text) above), we can use the `make_notation_notes_from_double_asts` function to make notation notes dedicated to those introduced notations and to link these newly created notation notes to the information notes.\n",
    "\n",
    "After making these notation notes, we can use the `append_summary_to_notation_note` function to predict what each notation is supposed to denote and add these predicted summaries to the notation notes themselves.\n",
    "\n",
    "For the example below, there is at least one information note with notations already marked with double asterisks `**`."
   ]
  },
  {
   "cell_type": "code",
   "execution_count": null,
   "metadata": {},
   "outputs": [],
   "source": [
    "from trouver.markdown.obsidian.personal.notation import make_notation_notes_from_double_asts, notation_notes_linked_in_see_also_section\n",
    "from trouver.markdown.obsidian.personal.machine_learning.notation_summarization import append_summary_to_notation_note"
   ]
  },
  {
   "cell_type": "code",
   "execution_count": null,
   "metadata": {},
   "outputs": [
    {
     "name": "stderr",
     "output_type": "stream",
     "text": [
      "Your max_length is set to 200, but you input_length is only 166. You might consider decreasing max_length manually, e.g. summarizer('...', max_length=83)\n"
     ]
    },
    {
     "name": "stdout",
     "output_type": "stream",
     "text": [
      "This is what the information note looks like before we add the links to the notation notes:\n",
      "\n",
      "\n",
      "---\n",
      "cssclass: clean-embeds\n",
      "aliases: []\n",
      "tags: [_meta/literature_note, _reference/number_theory_reference_1, _meta/definition, _meta/notation]\n",
      "---\n",
      "# Quotient ring of a ring by an ideal[^1]\n",
      "\n",
      "Let $R$ be a ring and let $I$ be an ideal. The quotient ring **$R/I$** is the ring whose elements are the equivalence classes of elements of $R$ with respect to the equivalence relation **$\\sim$** given by $x \\sim y$ if $x-y \\in I$ and whose ring structure is given by\n",
      "\n",
      "$$\\begin{align*}\n",
      "[x]+[y] &= [x+y] \\\\\n",
      "[x] \\cdot [y] &= [x \\cdot y].\n",
      "\\end{align*}$$\n",
      "\n",
      "\n",
      "# See Also\n",
      "\n",
      "# Meta\n",
      "## References\n",
      "![[_reference_number_theory_reference_1]]\n",
      "\n",
      "## Citations and Footnotes\n",
      "[^1]: Kim, \n",
      "\n",
      "\n",
      "This is what the information note looks like after we add the links to the notation notes:\n",
      "\n",
      "\n",
      "---\n",
      "cssclass: clean-embeds\n",
      "aliases: []\n",
      "tags: [_meta/literature_note, _reference/number_theory_reference_1, _meta/definition, _meta/notation]\n",
      "---\n",
      "# Quotient ring of a ring by an ideal[^1]\n",
      "\n",
      "Let $R$ be a ring and let $I$ be an ideal. The quotient ring **$R/I$** is the ring whose elements are the equivalence classes of elements of $R$ with respect to the equivalence relation **$\\sim$** given by $x \\sim y$ if $x-y \\in I$ and whose ring structure is given by\n",
      "\n",
      "$$\\begin{align*}\n",
      "[x]+[y] &= [x+y] \\\\\n",
      "[x] \\cdot [y] &= [x \\cdot y].\n",
      "\\end{align*}$$\n",
      "\n",
      "\n",
      "# See Also\n",
      "- [[number_theory_reference_1_notation_R_I]]\n",
      "- [[number_theory_reference_1_notation_sim]]\n",
      "\n",
      "# Meta\n",
      "## References\n",
      "![[_reference_number_theory_reference_1]]\n",
      "\n",
      "## Citations and Footnotes\n",
      "[^1]: Kim, \n"
     ]
    },
    {
     "name": "stderr",
     "output_type": "stream",
     "text": [
      "Your max_length is set to 200, but you input_length is only 166. You might consider decreasing max_length manually, e.g. summarizer('...', max_length=83)\n"
     ]
    },
    {
     "name": "stdout",
     "output_type": "stream",
     "text": [
      "\n",
      "\n",
      "This is what the newly created notation notes look like after we add the predicted summaries:\n",
      "\n",
      "\n",
      "---\n",
      "detect_regex: []\n",
      "latex_in_original: [R/I]\n",
      "tags: [_auto/notation_summary]\n",
      "---\n",
      "$R/I$ [[number_theory_reference_1_Definition 2.3|denotes]] the quotient ring $R/I$ where $R$ is a ring and $I$ is an ideal. It is given by $$\\begin{align*} [x]+[y] &= [x+y]\\\\[x],\\cdot [y]$. [$][x]$ is the ring whose elements are the equivalence classes of elements of $R = [\\3]$ given by \n",
      "\n",
      "---\n",
      "detect_regex: []\n",
      "latex_in_original: [\"\\\\sim\"]\n",
      "tags: [_auto/notation_summary]\n",
      "---\n",
      "$\\sim$ [[number_theory_reference_1_Definition 2.3|denotes]] the quotient ring $R/I$ given by $x\\sim y$ where $R$ is a ring and $I$ is an ideal. \n",
      "\n"
     ]
    }
   ],
   "source": [
    "#| notest\n",
    "with (tempfile.TemporaryDirectory(prefix='temp_dir', dir=os.getcwd()) as temp_dir):\n",
    "    temp_vault = Path(temp_dir) / 'test_vault_8'\n",
    "    shutil.copytree(_test_directory() / 'test_vault_8', temp_vault)\n",
    "    reference = 'number_theory_reference_1'\n",
    "\n",
    "    index_note = VaultNote(temp_vault, name=f'_index_{reference}')\n",
    "    # Also, the `notes_linked_in_note` function can be a useful\n",
    "    # alternative to the `notes_linked_in_notes_linked_in_note` function.\n",
    "    notes = notes_linked_in_notes_linked_in_note(index_note, as_dict=False)\n",
    "    one_note_with_notations_marked = VaultNote(temp_vault, name='number_theory_reference_1_Definition 2.3')\n",
    "\n",
    "    print(\"This is what the information note looks like before we add the links to the notation notes:\\n\\n\")\n",
    "    print(one_note_with_notations_marked.text())\n",
    "\n",
    "    for note in notes:\n",
    "        new_notation_notes = make_notation_notes_from_double_asts(note, temp_vault, reference_name=reference)\n",
    "\n",
    "    print(\"\\n\\nThis is what the information note looks like after we add the links to the notation notes:\\n\\n\")\n",
    "    print(one_note_with_notations_marked.text())\n",
    "\n",
    "\n",
    "    for note in notes:\n",
    "        notation_notes_linked_in_note = notation_notes_linked_in_see_also_section(note, temp_vault)\n",
    "        for notation_note in notation_notes_linked_in_note:\n",
    "            append_summary_to_notation_note(notation_note, temp_vault, summarizer)\n",
    "\n",
    "    print(\"\\n\\nThis is what the newly created notation notes look like after we add the predicted summaries:\\n\\n\")\n",
    "    notation_notes_linked_in_the_one_note = notation_notes_linked_in_see_also_section(\n",
    "        one_note_with_notations_marked, temp_vault)\n",
    "    for notation_note in notation_notes_linked_in_note:\n",
    "        print(notation_note.text(), '\\n')\n"
   ]
  },
  {
   "cell_type": "markdown",
   "metadata": {},
   "source": [
    "At the time of this writing (1/30/2023), the author of `trouver` believes that this summarization model could be improved upon with more data; thus far, this model was trained on less than 1700 data points."
   ]
  },
  {
   "cell_type": "markdown",
   "metadata": {},
   "source": [
    "# How the examples/tests are structured"
   ]
  },
  {
   "cell_type": "markdown",
   "metadata": {},
   "source": [
    "Many of the functions and methods in this library are accompanied by examples demonstrating how one might use them. \n",
    "\n",
    "These examples are usually also tests of the functions/methods; the developer of this library can use `nbdev`'s [`nbdev_test`](https://nbdev.fast.ai/api/test.html#nbdev_test) command-line command to automatically run these tests[^1][^2]. Moreover, there is a GitHub workflow in the repository for this library (see the `.github/workflows/test.yaml`) which automatically runs these examples/tests on GitHub Actions when changes to are [committed to the GitHub repository](https://github.com/git-guides/git-commit)[^3].\n",
    "\n",
    "[^1]: cf. [nbdev's End-To-End Walkthrough](https://nbdev.fast.ai/tutorials/tutorial.html#add-your-own-examples-tests-and-docs) to see how to use `nbdev_test`\n",
    "[^2]: There are also tests which are hidden from the documentation website; one can find these tests in the jupyter notebook files in the `nbs` folder in the repository for this library as notebook cells marked with the `#| hide` flag, cf. [nbdev's End-to-End Walkthrough](https://nbdev.fast.ai/tutorials/tutorial.html#add-your-own-frontmatter) to see what the `#| hide` flag does.\n",
    "\n",
    "These examples may use a combination of the following:\n",
    "\n",
    "- Mock patching via Python's [`unittest.mock`](https://docs.python.org/3/library/unittest.mock.html) library. \n",
    "- The [`fastcore.test`](https://fastcore.fast.ai/test.html) module as assertion statements.\n",
    "- example/test files in the `nbs/_tests` folder in the repository[^3].\n",
    "    - The `_test_directory()` function in the `helper` module obtains this folder.\n",
    "    - Many of these examples also use the [`tempfile.TemporaryDirectory`](https://docs.python.org/3/library/tempfile.html#tempfile.TemporaryDirectory) class along with the [`shutil.copytree`](https://docs.python.org/3/library/shutil.html#shutil.copytree) to create a Python context manager of a temporary directory with contents copied from the `nbs/_tests` folder. The temporary directory is automatically deleted once the context manager ends. We do this to run tests/examples which modify files/folders without modifying the files/folders in the `nbs/_tests` directory themselves.\n",
    "        - For example, the code \n",
    "        ```python\n",
    "        with tempfile.TemporaryDirectory(prefix='temp_dir', dir=os.getcwd()) as temp_dir:\n",
    "            temp_vault = Path(temp_dir) / 'test_vault_1'\n",
    "            shutil.copytree(_test_directory() / 'test_vault_1', temp_vault)\n",
    "\n",
    "            # run the rest of the example here\n",
    "\n",
    "            # Uncomment the below lines of code to view the end-results of the example; \n",
    "            # os.startfile(os.getcwd())\n",
    "            # os.input()  # this line pauses the process until the user makes an input so the deletion of the temporary directory is delayed.\n",
    "        ```\n",
    "        first creates a temporary directory starting `temp_dir` in the current working directory and copies into this temporary directory the contents of `test_vault_1` in the `nbs/_tests` folder. One the example/test has finished running, the temporary directory is removed whether or not the test succeeds.\n",
    "\n",
    "\n",
    "[^3]: The `.github/workflows/test.yaml` GitHub workflow file is set up in such a way that that allows GitHub Actions to access/use the contents of the `nbs/_tests` directory upon running the tests/examples."
   ]
  },
  {
   "cell_type": "markdown",
   "metadata": {},
   "source": [
    "## Miscellaneous"
   ]
  },
  {
   "cell_type": "markdown",
   "metadata": {},
   "source": [
    "This repository is still in its preliminary stages and much of the code and documentation may be faulty or not well formatted. The author greatly appreciates reports of these issues, notifications of typos, and suggestions on edits; please feel free to report them on the `Issues` section of the GitHub repository for this library. The [author](https://sites.google.com/wisc.edu/hyunjongkim) of this repository, who is primarily a mathematician (a PhD student at the time of this writing), does not guarantee quick responses or resolutions to such issues, but will do his best to address them."
   ]
  },
  {
   "cell_type": "markdown",
   "metadata": {},
   "source": [
    "# For developers\n",
    "\n",
    "\n"
   ]
  },
  {
   "cell_type": "markdown",
   "metadata": {},
   "source": [
    "This repository is based on the [`nbdev`](https://nbdev.fast.ai/) template. As such, code for the packages as well as the documentation for the repository are written in jupyter notebooks (the `.ipynb` files in the `nbs` folder) and the Python modules are auto-generated via the command-line command [`nbdev_export`](https://nbdev.fast.ai/api/doclinks.html#nbdev_export) (or [`nbdev_prepare`](https://nbdev.fast.ai/tutorials/tutorial.html#prepare-your-changes), which among other things runs `nbdev_export`.). "
   ]
  },
  {
   "cell_type": "markdown",
   "metadata": {},
   "source": [
    "## Troubleshooting\n",
    "- In the `nbs/_tests` folder, make sure that the folders that you want to test are not empty; since git does not track empty folders, empty folders will not be pushed in GitHub and the tests in GitHub Actions may yield different results than in a local computer."
   ]
  },
  {
   "cell_type": "markdown",
   "metadata": {},
   "source": [
    "# Copyright"
   ]
  },
  {
   "cell_type": "markdown",
   "metadata": {},
   "source": [
    "Copyright © 2023 onward Hyun Jong Kim. Licensed under the Apache License, Version 2.0 (the \"License\"); you may not use this project’s files except in compliance with the License. A copy of the License is provided in the LICENSE file in this repository."
   ]
  },
  {
   "cell_type": "markdown",
   "metadata": {},
   "source": [
    "# Special Thanks"
   ]
  },
  {
   "cell_type": "markdown",
   "metadata": {},
   "source": [
    "The author of `trouver` thanks [Sun Woo Park](https://sites.google.com/wisc.edu/spark483) for agreeing to allow their coauthored paper, [*Global $\\mathbb{A}^1$-degrees covering maps between modular curves*](https://arxiv.org/abs/2106.10586), along with some of Park's expository writings, to be used in examples in this library.\n",
    "\n",
    "`trouver` was built using [`nbdev`](https://nbdev.fast.ai/) as a template.\n",
    "\n"
   ]
  },
  {
   "cell_type": "markdown",
   "metadata": {},
   "source": [
    "# Release notes"
   ]
  },
  {
   "cell_type": "markdown",
   "metadata": {},
   "source": [
    "## Ver. 0\n",
    "\n"
   ]
  },
  {
   "cell_type": "markdown",
   "metadata": {},
   "source": [
    "#### Ver. 0.0.4\n",
    "- Made `markdown.obsidian.personal.machine_learning.notation_summarization` import the `os.Path` class; the `notation_summarization` module was previously using the `os.Path` class but not importing it.\n",
    "- Modified `copy_obisidian_vault_configs` and `copy_obsidian_vault_configs_with_nice_modifications` in `markdown.obsidian.personal.reference.ipynb` to take the parameter `dirs_exist_ok`; if this is set to `False`, then attempting to copy configs into an existing configs directory is prevented. Otherwise, existing files in the pre-existing configs directory are overwritten. See also the `dirs_exist_ok` parameter of the [`shutil.copytree`](https://docs.python.org/3/library/shutil.html#shutil.copytree) function.\n",
    "- Modified `latex_to_path_accepted_string` in `helper` to use the `sanitize_filename` function from the `pathvalidate` library. In particular, this should ensure that `make_notation_notes_from_double_asts` only attempts to create notation notes with names which are valid as file names. \n",
    "- The `custom_commands` function in `latex.convert` can parse LaTeX `\\newcommand` and `\\command` invocations in which the defined command is not surrounded by parentheses, e.g. `\\newcommand\\A{{\\mathbb A}}` is recognized as defining the command `\\A` which has display text `{\\mathbb A}`.\n",
    "- Made `adjust_common_syntax_to_markdown` in `latex.convert` recognize the `eqnarray` environment as an environment to adjust."
   ]
  },
  {
   "cell_type": "markdown",
   "metadata": {},
   "source": [
    "#### Ver. 0.0.3\n",
    "- Fixed [issue # 32](https://github.com/hyunjongkimmath/trouver/issues/32) in which setting up an `Obsidian.md` vault folder from a LaTeX document was not numbering sections and theorem-like environments correctly with a theorem-like environment of the form `\\numbertheorem{theorem}{Theorem}[section]` was being defined.\n",
    "- Finished implementing `append_summary_to_notation_note`\n",
    "- Modified `dict_to_metadata` function to escape and enquote strings if necessary to take into consideration that `yaml.safe_load` does uses quotations to consider strings as escaped.\n",
    "- Fixed a bug in `notation_notes_linked_in_see_also_section` where the main of notation where the `VaultNote` objects were incorrectly constructed by passing an argument to the `rel_path` parameter as opposed to the `name` parameter.\n",
    "- Fixed a bug in `_obsidian_vault_plugin_configs_file`; I had realized that files for non-core `Obsidian.md` plugins are stored in `.obsidian/plugins/<plugin_name>` in the vault directory.\n",
    "- Changed the default `template_location` argument from `'.'` to `'/'` in `markdown.obsidian.personal.reference`.\n",
    "- Move `latex_to_path_accepted_string` function from `20_markdown.obsidian.personal.notation.ipynb` to `00_helper.ipynb`\n",
    "- Modify `_consider_part_to_add` in `16_latex.convert` so that multi-line section titles in LaTeX documents get parsed as single-line titles\n",
    "- Modify `convert_title_to_folder_name` in `12_markdown.obsidian.personal.index_notes.ipynb` and `_create_note_for_part` in `16_latex.convert.ipynb` to use `sanitize_filename`\n"
   ]
  },
  {
   "cell_type": "markdown",
   "metadata": {},
   "source": [
    "#### Ver. 0.0.2"
   ]
  },
  {
   "cell_type": "markdown",
   "metadata": {},
   "source": [
    "- I made the mistake of note including much of the contents of `index.ipynb` in the `pypi` library release, so that should be fixed.."
   ]
  },
  {
   "cell_type": "markdown",
   "metadata": {},
   "source": [
    "#### Ver. 0.0.1"
   ]
  },
  {
   "cell_type": "markdown",
   "metadata": {},
   "source": [
    "- Initial release"
   ]
  }
 ],
 "metadata": {
  "kernelspec": {
   "display_name": "trouver_py310_venv",
   "language": "python",
   "name": "trouver_py310_venv"
  },
  "language_info": {
   "name": "python",
   "version": "3.10.6"
  }
 },
 "nbformat": 4,
 "nbformat_minor": 4
}
