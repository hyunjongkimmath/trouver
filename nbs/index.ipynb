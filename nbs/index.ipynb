{
 "cells": [
  {
   "cell_type": "code",
   "execution_count": null,
   "metadata": {},
   "outputs": [],
   "source": [
    "#| hide\n",
    "from trouver.helper import *"
   ]
  },
  {
   "cell_type": "markdown",
   "metadata": {},
   "source": [
    "# trouver\n",
    "\n",
    "> Create and maintain mathematical Obsidian.md notes, and gather data from them to train ML models"
   ]
  },
  {
   "cell_type": "markdown",
   "metadata": {},
   "source": [
    "- [Author's academic website](https://sites.google.com/wisc.edu/hyunjongkim)\n",
    "- [GitHub repository](https://github.com/hyunjongkimmath/trouver#readme)\n",
    "- [Documentation website](https://hyunjongkimmath.github.io/trouver/)\n",
    "- [pypi page](https://pypi.org/project/trouver/0.0.1/)"
   ]
  },
  {
   "cell_type": "markdown",
   "metadata": {},
   "source": [
    "Mathematicians constantly need to learn and read about concepts with which they are unfamiliar. Keeping mathematical notes in an [`Obsidian.md`](https://obsidian.md/) vault can help with this learning process as `Obsidian.md`.\n"
   ]
  },
  {
   "cell_type": "markdown",
   "metadata": {},
   "source": [
    "## Disclaimer"
   ]
  },
  {
   "cell_type": "markdown",
   "metadata": {},
   "source": [
    "At the time of this writing (01/18/2023), there is only one author/contributor of this library. Nevertheless, the author often refers to himself as \"the author\", \"the authors\", or \"the author/authors\" in writing this library. Moreover, the author often uses the [\"editorial we\"](https://en.wikipedia.org/wiki/We#Editorial_we) in writing this library.\n",
    "\n",
    "Use this library at your own risk as using this library can write or modify files in your computer and as the documentation of some components of this library may be inaccurate or outdated. By using this library, you agree that the author/authors of this library is/are not responsible for any damages from this library and related components.\n",
    "\n",
    "This library is still somewhere in-between prototype and alpha. Moreover, the library itself may be unstable and subject to abrupt changes.\n",
    "\n",
    "The author/authors of this library is/are also not affiliated with `Obsidian.md`, `fast.ai`, or `Hugging Face`.\n",
    "\n"
   ]
  },
  {
   "cell_type": "markdown",
   "metadata": {},
   "source": [
    "## Install"
   ]
  },
  {
   "cell_type": "code",
   "execution_count": null,
   "metadata": {},
   "outputs": [],
   "source": [
    "# TODO Write installation instructions"
   ]
  },
  {
   "cell_type": "markdown",
   "metadata": {},
   "source": [
    "```sh\n",
    "pip install trouver\n",
    "```"
   ]
  },
  {
   "cell_type": "markdown",
   "metadata": {},
   "source": [
    "You may also have to manually install other libraries which are required by the `fast.ai` and/or `Hugging Face` libraries."
   ]
  },
  {
   "cell_type": "markdown",
   "metadata": {},
   "source": [
    "# How to use"
   ]
  },
  {
   "cell_type": "markdown",
   "metadata": {},
   "source": [
    "## Parse LaTeX documents and split them into parts"
   ]
  },
  {
   "cell_type": "markdown",
   "metadata": {},
   "source": [
    "`Trouver` can parse `LaTeX` documents and split them up into \"parts\" which are convenient to read in `Obsidian.md` and to take notes on. For example, the following code splits up this [paper](https://arxiv.org/abs/2106.10586) in creates a folder in an Obsidian.md vault[^4].\n",
    "\n",
    "[^4]: There is a known bug in the numbering of the sections of the paper, cf. [Issue #32](https://github.com/hyunjongkimmath/trouver/issues/32)."
   ]
  },
  {
   "cell_type": "code",
   "execution_count": null,
   "metadata": {},
   "outputs": [],
   "source": [
    "#| notest\n",
    "import os\n",
    "from pathlib import Path\n",
    "import shutil\n",
    "import tempfile\n",
    "\n",
    "from trouver.helper import _test_directory, text_from_file\n",
    "from trouver.latex.convert import (\n",
    "    divide_preamble, divide_latex_text, custom_commands,\n",
    "    setup_reference_from_latex_parts\n",
    ")"
   ]
  },
  {
   "cell_type": "code",
   "execution_count": null,
   "metadata": {},
   "outputs": [],
   "source": [
    "#| notest\n",
    "# This context manager is implemented to make sure that a temporary\n",
    "# folder is created and copies contents from `test_vault_5` in `nbs/_tests`,\n",
    "# only the contents of the temporary folder are modified, and \n",
    "with (tempfile.TemporaryDirectory(prefix='temp_dir', dir=os.getcwd()) as temp_dir):\n",
    "    temp_vault = Path(temp_dir) / 'test_vault_5'\n",
    "    shutil.copytree(_test_directory() / 'test_vault_5', temp_vault)\n",
    "\n",
    "    sample_latex_file = _test_directory() / 'latex_examples' / 'kim_park_ga1dcmmc' / 'main.tex'\n",
    "    sample_latex_text = text_from_file(sample_latex_file)\n",
    "    preamble, _ = divide_preamble(sample_latex_text)\n",
    "    parts = divide_latex_text(sample_latex_text)\n",
    "    cust_comms = custom_commands(preamble)\n",
    "    vault = temp_vault\n",
    "    location = Path('') # The path relative to the vault of the directory in which to make the new folder containing the new notes.\n",
    "    reference_name = 'kim_park_ga1dcmmc'\n",
    "    author_names = ['Kim', 'Park']\n",
    "    \n",
    "    setup_reference_from_latex_parts(\n",
    "        parts, cust_comms, vault, location,\n",
    "        reference_name,\n",
    "        author_names)\n",
    "\n",
    "    os.startfile(os.getcwd()) # This open the current working directory; find the temporary folder in here.\n",
    "    input() # There should be an input prompt; make an input here when you are done viewing the \n"
   ]
  },
  {
   "cell_type": "markdown",
   "metadata": {},
   "source": [
    "![The created folder in Obsidian.md looks like this in `Obsidian.md` The text in magenta are links, each to a file in the `Obsidian.md` vault](/images/index_setup_reference_from_latex_parts_demonstration.png)\n",
    "\n",
    "While `Obsidian.md` is not strictly necessary to use `trouver` or to read and write the files created by `setup_reference_from_latex_parts` (in fact, any traditional file reader/writer can be used for such purposes), reading and writing the files on `Obsidian.md` can be convenient."
   ]
  },
  {
   "cell_type": "markdown",
   "metadata": {},
   "source": [
    "## ML model utilities"
   ]
  },
  {
   "cell_type": "markdown",
   "metadata": {},
   "source": [
    "We have trained a few ML models to detect/predict and provide information about \"short\" mathematical text. These ML models are available on [`Hugging Face`](https://huggingface.co/) and as such, they can be downloaded to and used from one's local machines. Please note that ML models can be large and the locations that the Hugging Face [Transformers](https://huggingface.co/docs/transformers/index) library downloads such models to can vary from machine to machine."
   ]
  },
  {
   "cell_type": "markdown",
   "metadata": {},
   "source": [
    "For each of these models, we may or may not have also written some instructions on how to train similar models given appropriately formatted data[^5].\n",
    "\n",
    "[^5]: Given time, the author of `trouver` eventually plans on writing instructions on training each of the models."
   ]
  },
  {
   "cell_type": "markdown",
   "metadata": {},
   "source": [
    "Note that the data used to train these models contains mathematical text pertaining mostly to fields closely related to number theory and algebraic geometry. "
   ]
  },
  {
   "cell_type": "markdown",
   "metadata": {},
   "source": [
    "## Use an ML model to categorize and label the note types"
   ]
  },
  {
   "cell_type": "markdown",
   "metadata": {},
   "source": [
    "One of these ML models predicts the type of a piece of mathematical writing. For example, this model may predict that \n",
    "\n",
    "```markdown\n",
    "Let $L/K$ be an field extension. An element $\\alpha \\in L$ is said to be algebraic over $K$ if there exists some polynomial $f(x) \\in K[x]$ such that $f(\\alpha) = 0$.\n",
    "```\n",
    "\n",
    "introduces a definition. For the purposes of `trouver`, an `Obsidian.md` note containing ought to be labeled with the `#_meta/definition` tag by adding the text `_meta/definition` to the `tags` field in the frontmatter YAML metadata of the note:\n",
    "\n",
    "![In this note, there is a `_meta/definition` in the `tags` field in the frontmatter YAML metadata of the note](/images/index_example_of_a_note_with_meta_definition_tag.png)\n",
    "\n",
    "See `markdown.obsidian.personal.machine_learning.information_note_types` for more details."
   ]
  },
  {
   "cell_type": "markdown",
   "metadata": {},
   "source": [
    "This ML model is trained using the [fast.ai](https://www.fast.ai/) library with the [ULMFiT approach](https://docs.fast.ai/tutorial.text.html#the-ulmfit-approach); see `how_to.train_ml_model.fastai` for the steps taken to train this model. This ML model is also available on [Hugging Face](https://huggingface.co/) under the repository [hyunjongkimmath/information_note_type](https://huggingface.co/hyunjongkimmath/information_note_type)"
   ]
  },
  {
   "cell_type": "code",
   "execution_count": null,
   "metadata": {},
   "outputs": [],
   "source": [
    "import pathlib\n",
    "from pathlib import WindowsPath\n",
    "import platform\n",
    "\n",
    "from huggingface_hub import from_pretrained_fastai"
   ]
  },
  {
   "cell_type": "code",
   "execution_count": null,
   "metadata": {},
   "outputs": [
    {
     "data": {
      "application/vnd.jupyter.widget-view+json": {
       "model_id": "6e5f53cb83d24d10a093377ccd1cea69",
       "version_major": 2,
       "version_minor": 0
      },
      "text/plain": [
       "Fetching 4 files:   0%|          | 0/4 [00:00<?, ?it/s]"
      ]
     },
     "metadata": {},
     "output_type": "display_data"
    },
    {
     "data": {
      "application/vnd.jupyter.widget-view+json": {
       "model_id": "9fcb0e35f28f4a2f99d1038e92b18a04",
       "version_major": 2,
       "version_minor": 0
      },
      "text/plain": [
       "Downloading:   0%|          | 0.00/1.38k [00:00<?, ?B/s]"
      ]
     },
     "metadata": {},
     "output_type": "display_data"
    },
    {
     "data": {
      "application/vnd.jupyter.widget-view+json": {
       "model_id": "9f36e7227cef4f628918bc83e500c95f",
       "version_major": 2,
       "version_minor": 0
      },
      "text/plain": [
       "Downloading:   0%|          | 0.00/768 [00:00<?, ?B/s]"
      ]
     },
     "metadata": {},
     "output_type": "display_data"
    },
    {
     "data": {
      "application/vnd.jupyter.widget-view+json": {
       "model_id": "7af56592d08b4d96a694807e84d1aa43",
       "version_major": 2,
       "version_minor": 0
      },
      "text/plain": [
       "Downloading:   0%|          | 0.00/166M [00:00<?, ?B/s]"
      ]
     },
     "metadata": {},
     "output_type": "display_data"
    },
    {
     "data": {
      "application/vnd.jupyter.widget-view+json": {
       "model_id": "06746150c45e49509cb144825a02f86c",
       "version_major": 2,
       "version_minor": 0
      },
      "text/plain": [
       "Downloading:   0%|          | 0.00/162 [00:00<?, ?B/s]"
      ]
     },
     "metadata": {},
     "output_type": "display_data"
    }
   ],
   "source": [
    "#| notest\n",
    "repo_id = 'hyunjongkimmath/information_note_type'\n",
    "\n",
    "# There is a PosixPath problem when trying to load\n",
    "# the model on Windows; we get around this problem\n",
    "# within the `if` statement.\n",
    "if platform.system() == 'Windows':\n",
    "    temp = pathlib.PosixPath # See https://stackoverflow.com/questions/57286486/i-cant-load-my-model-because-i-cant-put-a-posixpath\n",
    "    pathlib.PosixPath = pathlib.WindowsPath\n",
    "    model = from_pretrained_fastai(repo_id)\n",
    "    pathlib.PosixPath = temp\n",
    "else:\n",
    "    model = from_pretrained_fastai(repo_id)\n",
    "\n"
   ]
  },
  {
   "cell_type": "code",
   "execution_count": null,
   "metadata": {},
   "outputs": [
    {
     "name": "stdout",
     "output_type": "stream",
     "text": [
      "(['#_meta/definition', '#_meta/notation'], tensor([False, False, False, False, False, False,  True, False, False, False,\n",
      "         True, False, False, False]), tensor([1.9631e-03, 3.4931e-04, 1.7551e-02, 4.8163e-02, 5.7628e-06, 3.0610e-06,\n",
      "        9.6544e-01, 2.3179e-03, 2.4539e-03, 1.6170e-02, 5.8807e-01, 4.5185e-03,\n",
      "        2.5055e-04, 4.6183e-03]))\n",
      "(['#_meta/concept', '#_meta/proof'], tensor([False, False, False,  True, False, False, False, False, False, False,\n",
      "        False,  True, False, False]), tensor([3.4701e-03, 6.6588e-05, 7.8861e-02, 9.7205e-01, 8.8357e-06, 6.1183e-06,\n",
      "        9.5552e-02, 4.0747e-03, 2.7043e-04, 2.7545e-02, 1.3064e-02, 5.6198e-01,\n",
      "        1.5603e-04, 5.5122e-03]))\n"
     ]
    }
   ],
   "source": [
    "#| notest\n",
    "sample_prediction_1 = model.predict(r'Let $L/K$ be an field extension. An element $\\alpha \\in L$ is said to be algebraic over $K$ if there exists some polynomial $f(x) \\in K[x]$ such that $f(\\alpha) = 0$.')\n",
    "print(sample_prediction_1) \n",
    "sample_prediction_2 = model.predict(r'Theorem. Let $q$ be a prime power. Up to isomorphism, there is exactly one field with $q$ elements.')\n",
    "print(sample_prediction_2) "
   ]
  },
  {
   "cell_type": "markdown",
   "metadata": {},
   "source": [
    "At the time of this writing (01/18/2023), the model seems to incorrect predict\n",
    "- in `sample_prediction_1` that the text introduces a notation.\n",
    "- in `sample_prediction_2` that the text contains a proof."
   ]
  },
  {
   "cell_type": "code",
   "execution_count": null,
   "metadata": {},
   "outputs": [],
   "source": [
    "#| notest\n",
    "# from trouver.markdown.obsidian.personal.machine_learning.information_note_types import "
   ]
  },
  {
   "cell_type": "code",
   "execution_count": null,
   "metadata": {},
   "outputs": [],
   "source": [
    "# TODO: exmaple of loading model and using it."
   ]
  },
  {
   "cell_type": "markdown",
   "metadata": {},
   "source": [
    "## Use an ML model to find notations introduced in text"
   ]
  },
  {
   "cell_type": "markdown",
   "metadata": {},
   "source": [
    "Another ML model predicts locations of notations introduced in text. This model is trained as a categorizer - given a piece of mathematical text in LaTeX in which a single LaTeX math mode string (surrounded either by the dollar sign `$` or double dollar signs `$$`) is surrounded by double asterisks `**`, the model should determine whether or not the LaTeX math mode string contains a newly introduced notation.\n",
    "\n",
    "For example, suppose that we want to find notations introduced in the following text:\n",
    "\n",
    "```markdown\n",
    "Let $L/K$ be a Galois field extension. Its Galois group $\\operatorname{Gal}(L/K)$ is defined as the group of automorphisms of $L$ fixing $K$ pointwise.\n",
    "```\n",
    "\n",
    "Our approach is to consider each latex math mode strings in this text (of which there are 4: $L/K$, $\\operatorname{Gal}(L/K)$, $L$, and $K$), consider the four alternate versions of this text in which double asterisks `**` are surround one of these math mode strings, and use the model to predict whether that math mode string contains a newly introduced notation. In particular, we pass through the model the following pieces of text:\n",
    "\n",
    "\n",
    "1.\n",
    "```markdown\n",
    "Let **$L/K$** be a Galois field extension. Its Galois group $\\operatorname{Gal}(L/K)$ is defined as the group of automorphisms of $L$ fixing $K$ pointwise.\n",
    "```\n",
    "2. \n",
    "```markdown\n",
    "Let $L/K$ be a Galois field extension. Its Galois group **$\\operatorname{Gal}(L/K)$** is defined as the group of automorphisms of $L$ fixing $K$ pointwise.\n",
    "```\n",
    "3. \n",
    "```markdown\n",
    "Let $L/K$ be a Galois field extension. Its Galois group $\\operatorname{Gal}(L/K)$ is defined as the group of automorphisms of **$L$** fixing $K$ pointwise.\n",
    "```\n",
    "4.\n",
    "```markdown\n",
    "Let $L/K$ be a Galois field extension. Its Galois group $\\operatorname{Gal}(L/K)$ is defined as the group of automorphisms of $L$ fixing **$K$** pointwise.\n",
    "```\n",
    "\n",
    "Ideally, the model should determine only the second version of text to contain a newly introduced notation\n",
    "\n",
    "\n",
    "See `markdown.obsidian.personal.machine_learning.notation_identifcation` for more details.\n",
    "\n",
    "This ML model is also trained using the `fast.ai` library with the [ULMFiT approach](https://docs.fast.ai/tutorial.text.html#the-ulmfit-approach), and is available on `Hugging Face` under the repository [hyunjongkimmath/notation_identification](https://huggingface.co/hyunjongkimmath/notation_identification)."
   ]
  },
  {
   "cell_type": "code",
   "execution_count": null,
   "metadata": {},
   "outputs": [],
   "source": [
    "import pathlib\n",
    "from pathlib import WindowsPath\n",
    "import platform\n",
    "\n",
    "from huggingface_hub import from_pretrained_fastai"
   ]
  },
  {
   "cell_type": "code",
   "execution_count": null,
   "metadata": {},
   "outputs": [
    {
     "data": {
      "application/vnd.jupyter.widget-view+json": {
       "model_id": "e93976f090074f2988194a73905c698c",
       "version_major": 2,
       "version_minor": 0
      },
      "text/plain": [
       "Fetching 4 files:   0%|          | 0/4 [00:00<?, ?it/s]"
      ]
     },
     "metadata": {},
     "output_type": "display_data"
    }
   ],
   "source": [
    "#| notest\n",
    "repo_id = 'hyunjongkimmath/notation_identification'\n",
    "\n",
    "# There is a PosixPath problem when trying to load\n",
    "# the model on Windows; we get around this problem\n",
    "# within the `if` statement.\n",
    "if platform.system() == 'Windows':\n",
    "    temp = pathlib.PosixPath # See https://stackoverflow.com/questions/57286486/i-cant-load-my-model-because-i-cant-put-a-posixpath\n",
    "    pathlib.PosixPath = pathlib.WindowsPath\n",
    "    model = from_pretrained_fastai(repo_id)\n",
    "    pathlib.PosixPath = temp\n",
    "else:\n",
    "    model = from_pretrained_fastai(repo_id)\n",
    "\n"
   ]
  },
  {
   "cell_type": "code",
   "execution_count": null,
   "metadata": {},
   "outputs": [
    {
     "name": "stdout",
     "output_type": "stream",
     "text": [
      "('True', tensor(1), tensor([9.0574e-08, 1.0000e+00]))                \n",
      "('False', tensor(0), tensor([1.0000e+00, 4.8617e-06]))\n"
     ]
    }
   ],
   "source": [
    "#| notest\n",
    "contains_a_notation = model.predict(r'Let $L/K$ be a Galois field extension. Its Galois group **$\\operatorname{Gal}(L/K)$** is defined as the group of automorphisms of $L$ fixing $K$ pointwise.')\n",
    "does_not_contain_a_notation = model.predict(r'Let **$L/K$** be a Galois field extension. Its Galois group $\\operatorname{Gal}(L/K)$ is defined as the group of automorphisms of $L$ fixing $K$ pointwise.')\n",
    "print(contains_a_notation)\n",
    "print(does_not_contain_a_notation)"
   ]
  },
  {
   "cell_type": "code",
   "execution_count": null,
   "metadata": {},
   "outputs": [],
   "source": [
    "# TODO: examples of using functions in markdown.obsidian.personal.machine_learning.notation_identifcation."
   ]
  },
  {
   "cell_type": "markdown",
   "metadata": {},
   "source": [
    "## Use an ML model to summarize notations introduced in text"
   ]
  },
  {
   "cell_type": "markdown",
   "metadata": {},
   "source": [
    "Now that we have found notations introduced in text and created notation notes for them in our `Obisidian.md` vault, we now generate summaries for these notations.\n",
    "\n",
    "The ML model in question fine-tuned from a [`T5` model](https://huggingface.co/docs/transformers/model_doc/t5)\n",
    "\n",
    "This ML model is available on `Hugging Face` under the repository [`hyunjongkimmath/notation_summarizations_model`](https://huggingface.co/hyunjongkimmath/notation_summarizations_model). "
   ]
  },
  {
   "cell_type": "code",
   "execution_count": null,
   "metadata": {},
   "outputs": [],
   "source": [
    "#| notest\n",
    "from transformers import AutoModelForSeq2SeqLM, AutoTokenizer, pipeline"
   ]
  },
  {
   "cell_type": "code",
   "execution_count": null,
   "metadata": {},
   "outputs": [],
   "source": [
    "#| notest\n",
    "model = AutoModelForSeq2SeqLM.from_pretrained('hyunjongkimmath/notation_summarizations_model')\n",
    "tokenizer = AutoTokenizer.from_pretrained('hyunjongkimmath/notation_summarizations_model')\n",
    "summarizer = pipeline('summarization', model=model, tokenizer=tokenizer)"
   ]
  },
  {
   "cell_type": "markdown",
   "metadata": {},
   "source": [
    "The summarizer pipeline can be used to summarize notations newly introduced in a piece of mathematical text. The text needs to be formatted as follows:\n",
    "\n",
    "```markdown\n",
    "summarize: <mathematical_text_goes_here>\n",
    "\n",
    "latex_in_original: $<notation_to_summarize>$\n",
    "```"
   ]
  },
  {
   "cell_type": "code",
   "execution_count": null,
   "metadata": {},
   "outputs": [
    {
     "name": "stderr",
     "output_type": "stream",
     "text": [
      "Your max_length is set to 200, but you input_length is only 54. You might consider decreasing max_length manually, e.g. summarizer('...', max_length=27)\n"
     ]
    },
    {
     "data": {
      "text/plain": [
       "[{'summary_text': 'the upper half plane of the complex plane $\\\\ mathbb{ H} $. It is defined as the set of all complex numbers of real part greater than $1$.'}]"
      ]
     },
     "execution_count": null,
     "metadata": {},
     "output_type": "execute_result"
    }
   ],
   "source": [
    "#| notest\n",
    "summarizer(\"summarize:Let us now define the upper half plane $\\mathbb{H}$ as the set of all complex numbers of real part greater than $1$.\\n\\n\\nlatex_in_original: $\\mathbb{H}$\")"
   ]
  },
  {
   "cell_type": "markdown",
   "metadata": {},
   "source": [
    "In the above example, the summarizer determines that the notation `$\\mathbb{H}$` introduced in the text\n",
    "\n",
    "```markdown\n",
    "Let us now define the upper half plane $\\mathbb{H}$ as the set of all complex numbers of real part greater than $1$.\n",
    "```\n",
    "denotes `'the upper half plane of the complex plane $\\\\ mathbb{ H} $. It is defined as the set of all complex numbers of real part greater than $1$.'`."
   ]
  },
  {
   "cell_type": "markdown",
   "metadata": {},
   "source": [
    "# How the examples/tests are structured"
   ]
  },
  {
   "cell_type": "markdown",
   "metadata": {},
   "source": [
    "Many of the functions and methods in this library are accompanied by examples demonstrating how one might use them. \n",
    "\n",
    "These examples are usually also tests of the functions/methods; the developer of this library can use `nbdev`'s [`nbdev_test`](https://nbdev.fast.ai/api/test.html#nbdev_test) command-line command to automatically run these tests[^1][^2]. Moreover, there is a GitHub workflow in the repository for this library (see the `.github/workflows/test.yaml`) which automatically runs these examples/tests on GitHub Actions when changes to are [committed to the GitHub repository](https://github.com/git-guides/git-commit)[^3].\n",
    "\n",
    "[^1]: cf. [nbdev's End-To-End Walkthrough](https://nbdev.fast.ai/tutorials/tutorial.html#add-your-own-examples-tests-and-docs) to see how to use `nbdev_test`\n",
    "[^2]: There are also tests which are hidden from the documentation website; one can find these tests in the jupyter notebook files in the `nbs` folder in the repository for this library as notebook cells marked with the `#| hide` flag, cf. [nbdev's End-to-End Walkthrough](https://nbdev.fast.ai/tutorials/tutorial.html#add-your-own-frontmatter) to see what the `#| hide` flag does.\n",
    "\n",
    "These examples may use a combination of the following:\n",
    "\n",
    "- Mock patching via Python's [`unittest.mock`](https://docs.python.org/3/library/unittest.mock.html) library. \n",
    "- The [`fastcore.test`](https://fastcore.fast.ai/test.html) module as assertion statements.\n",
    "- example/test files in the `nbs/_tests` folder in the repository[^3].\n",
    "    - The `_test_directory()` function in the `helper` module obtains this folder.\n",
    "    - Many of these examples also use the [`tempfile.TemporaryDirectory`](https://docs.python.org/3/library/tempfile.html#tempfile.TemporaryDirectory) class along with the [`shutil.copytree`](https://docs.python.org/3/library/shutil.html#shutil.copytree) to create a Python context manager of a temporary directory with contents copied from the `nbs/_tests` folder. The temporary directory is automatically deleted once the context manager ends. We do this to run tests/examples which modify files/folders without modifying the files/folders in the `nbs/_tests` directory themselves.\n",
    "        - For example, the code \n",
    "        ```python\n",
    "        with tempfile.TemporaryDirectory(prefix='temp_dir', dir=os.getcwd()) as temp_dir:\n",
    "            temp_vault = Path(temp_dir) / 'test_vault_1'\n",
    "            shutil.copytree(_test_directory() / 'test_vault_1', temp_vault)\n",
    "\n",
    "            # run the rest of the example here\n",
    "\n",
    "            # Uncomment the below lines of code to view the end-results of the example; \n",
    "            # os.startfile(os.getcwd())\n",
    "            # os.input()  # this line pauses the process until the user makes an input so the deletion of the temporary directory is delayed.\n",
    "        ```\n",
    "        first creates a temporary directory starting `temp_dir` in the current working directory and copies into this temporary directory the contents of `test_vault_1` in the `nbs/_tests` folder. One the example/test has finished running, the temporary directory is removed whether or not the test succeeds.\n",
    "\n",
    "\n",
    "[^3]: The `.github/workflows/test.yaml` GitHub workflow file is set up in such a way that that allows GitHub Actions to access/use the contents of the `nbs/_tests` directory upon running the tests/examples."
   ]
  },
  {
   "cell_type": "markdown",
   "metadata": {},
   "source": [
    "## Miscellaneous"
   ]
  },
  {
   "cell_type": "markdown",
   "metadata": {},
   "source": [
    "This repository is still in its preliminary stages and much of the code and documentation may be faulty or not well formatted. The author greatly appreciates reports of these issues or suggestions on edits; please feel free to report them on the `Issues` section of the GitHub repository for this library. The [author](https://sites.google.com/wisc.edu/hyunjongkim) of this repository, who is primarily a mathematician (a PhD student at the time of this writing), does not guarantee quick responses or resolutions to such issues, but will do his best to address them."
   ]
  },
  {
   "cell_type": "markdown",
   "metadata": {},
   "source": [
    "# For developers\n",
    "\n",
    "\n"
   ]
  },
  {
   "cell_type": "markdown",
   "metadata": {},
   "source": [
    "This repository is based on the [`nbdev`](https://nbdev.fast.ai/) template. As such, code for the packages as well as the documentation for the repository are written in jupyter notebooks (the `.ipynb` files in the `nbs` folder) and the Python modules are auto-generated via the command-line command [`nbdev_export`](https://nbdev.fast.ai/api/doclinks.html#nbdev_export) (or [`nbdev_prepare`](https://nbdev.fast.ai/tutorials/tutorial.html#prepare-your-changes), which among other things runs `nbdev_export`.). "
   ]
  },
  {
   "cell_type": "markdown",
   "metadata": {},
   "source": [
    "## Troubleshooting\n",
    "- In the `nbs/_tests` folder, make sure that the folders that you want to test are not empty; since git does not track empty folders, empty folders will not be pushed in GitHub and the tests in GitHub Actions may yield different results than in a local computer."
   ]
  },
  {
   "cell_type": "markdown",
   "metadata": {},
   "source": [
    "# Special Thanks"
   ]
  },
  {
   "cell_type": "markdown",
   "metadata": {},
   "source": [
    "The author of `trouver` thanks [Sun Woo Park](https://sites.google.com/wisc.edu/spark483) for agreeing to allow their coauthored paper, [*Global $\\mathbb{A}^1$-degrees covering maps between modular curves*](https://arxiv.org/abs/2106.10586), along with some of Park's expository writings, to be used in examples in this library."
   ]
  },
  {
   "cell_type": "markdown",
   "metadata": {},
   "source": [
    "# Release notes"
   ]
  },
  {
   "cell_type": "markdown",
   "metadata": {},
   "source": [
    "## Ver. 0"
   ]
  },
  {
   "cell_type": "markdown",
   "metadata": {},
   "source": [
    "#### Ver. 0.0.2"
   ]
  },
  {
   "cell_type": "markdown",
   "metadata": {},
   "source": [
    "- I made the mistake of note including much of the contents of `index.ipynb` in the `pypi` library release, so that should be fixed.."
   ]
  },
  {
   "cell_type": "markdown",
   "metadata": {},
   "source": [
    "#### Ver. 0.0.1"
   ]
  },
  {
   "cell_type": "markdown",
   "metadata": {},
   "source": [
    "- Initial release"
   ]
  }
 ],
 "metadata": {
  "kernelspec": {
   "display_name": "trouver_py310_venv",
   "language": "python",
   "name": "trouver_py310_venv"
  }
 },
 "nbformat": 4,
 "nbformat_minor": 4
}
