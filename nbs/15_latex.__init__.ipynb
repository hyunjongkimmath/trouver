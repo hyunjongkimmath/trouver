{
 "cells": [
  {
   "cell_type": "markdown",
   "metadata": {},
   "source": [
    "# latex\n",
    "\n",
    ">"
   ]
  },
  {
   "cell_type": "code",
   "execution_count": null,
   "metadata": {},
   "outputs": [],
   "source": [
    "#| default_exp latex.__init__"
   ]
  },
  {
   "cell_type": "markdown",
   "metadata": {},
   "source": [
    "The `latex` module contains the following submodules:\n",
    "\n",
    "- `latex.convert`\n",
    "    - Combines the functionalities of the below modules to convert a LaTeX file into folder is an `Obsidian.md` vault.\n",
    "- `latex.divide`\n",
    "    - Divide the LaTeX file into parts\n",
    "- `latex.folders`\n",
    "    - Based on the division of the LaTeX files into parts via `latex.divide`, creates folders to house notes that are to be made from these parts. \n",
    "- `latex.formatting`\n",
    "    - Modifies formatting for the parts and warns users of unexpected formatting in the LaTeX documents."
   ]
  }
 ],
 "metadata": {
  "kernelspec": {
   "display_name": "python3",
   "language": "python",
   "name": "python3"
  }
 },
 "nbformat": 4,
 "nbformat_minor": 2
}
