{
 "cells": [
  {
   "cell_type": "markdown",
   "metadata": {},
   "source": [
    "# latex\n",
    "\n",
    ">"
   ]
  },
  {
   "cell_type": "code",
   "execution_count": null,
   "metadata": {},
   "outputs": [],
   "source": [
    "#| default_exp latex.__init__"
   ]
  },
  {
   "cell_type": "markdown",
   "metadata": {},
   "source": [
    "The `latex` module contains the following submodules:\n",
    "\n",
    "- `latex.convert`\n",
    "    - Combines the functionalities of the below modules to convert a LaTeX file into folder is an `Obsidian.md` vault.\n",
    "- `latex.divide`\n",
    "    - Divide the LaTeX file into parts\n",
    "- `latex.folders`\n",
    "    - Based on the division of the LaTeX files into parts via `latex.divide`, creates folders to house notes that are to be made from these parts. \n",
    "- `latex.formatting`\n",
    "    - Modifies formatting for the parts and warns users of unexpected formatting in the LaTeX documents."
   ]
  },
  {
   "cell_type": "code",
   "execution_count": null,
   "metadata": {},
   "outputs": [],
   "source": [
    "#| export\n",
    "import os\n",
    "from os import PathLike\n",
    "import re\n",
    "from pathlib import Path\n",
    "from typing import Union"
   ]
  },
  {
   "cell_type": "code",
   "execution_count": null,
   "metadata": {},
   "outputs": [],
   "source": [
    "from trouver.helper.tests import _test_directory\n",
    "# from trouver.latex.preamble import divide_preamble"
   ]
  },
  {
   "cell_type": "markdown",
   "metadata": {},
   "source": [
    "## Identify the main tex file in a folder"
   ]
  },
  {
   "cell_type": "code",
   "execution_count": null,
   "metadata": {},
   "outputs": [],
   "source": [
    "#| export\n",
    "\n",
    "def find_main_latex_file(\n",
    "        directory: PathLike\n",
    "        ) -> Path:\n",
    "    \"\"\"\n",
    "    Identify the main LaTeX file in a given directory.\n",
    "\n",
    "    The main LaTeX file is determined based on the presence of:\n",
    "    - A \\documentclass command\n",
    "    - A \\begin{document} command\n",
    "\n",
    "    Parameters:\n",
    "    - directory: The path to the directory containing LaTeX files.\n",
    "\n",
    "    Returns:\n",
    "    - The path to the main LaTeX file if found; otherwise, raises an error.\n",
    "    \n",
    "    Raises:\n",
    "    - FileNotFoundError: If no suitable main LaTeX file is found.\n",
    "    \"\"\"\n",
    "    # Convert directory to Path object\n",
    "    directory = Path(directory)\n",
    "    \n",
    "    # List all .tex files in the directory\n",
    "    latex_files = [f for f in directory.glob('*.tex')]\n",
    "    \n",
    "    for file_path in latex_files:\n",
    "        with file_path.open('r', encoding='utf-8') as file:\n",
    "            content = file.read()\n",
    "            \n",
    "            # Check for \\documentclass and \\begin{document}\n",
    "            if re.search(r'\\\\documentclass', content) and re.search(r'\\\\begin\\{document\\}', content):\n",
    "                return file_path  # Return the Path object of the main LaTeX file\n",
    "\n",
    "    raise FileNotFoundError(\"No suitable main LaTeX file found in the directory.\")\n",
    "\n",
    "# Example usage\n",
    "# directory_path = '/path/to/your/latex/files'\n",
    "# try:\n",
    "#     main_latex_file = find_main_latex_file(directory_path)\n",
    "#     print(f\"The main LaTeX file is: {main_latex_file}\")\n",
    "# except FileNotFoundError as e:\n",
    "#     print(e)\n"
   ]
  },
  {
   "cell_type": "code",
   "execution_count": null,
   "metadata": {},
   "outputs": [
    {
     "data": {
      "text/plain": [
       "WindowsPath('c:/Users/hyunj/Documents/Development/Python/trouver/nbs/_tests/latex_examples/latex_example_with_inputs_and_includes/main.tex')"
      ]
     },
     "execution_count": null,
     "metadata": {},
     "output_type": "execute_result"
    }
   ],
   "source": [
    "\n",
    "latex_folder = _test_directory() / 'latex_examples' / 'latex_example_with_inputs_and_includes'\n",
    "find_main_latex_file(latex_folder)\n",
    "# main_file = latex_folder / 'main.tex'\n",
    "# with open(main_file, 'r', encoding='utf-8') as file:\n",
    "#     document = file.read()\n",
    "# preamble, body = divide_preamble(document)\n",
    "# commands = custom_commands(preamble)\n",
    "# output = replace_input_and_include(body, latex_folder, commands)    "
   ]
  }
 ],
 "metadata": {
  "kernelspec": {
   "display_name": "trouver_py310_venv",
   "language": "python",
   "name": "trouver_py310_venv"
  }
 },
 "nbformat": 4,
 "nbformat_minor": 2
}
