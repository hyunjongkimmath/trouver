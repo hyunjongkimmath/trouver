{
 "cells": [
  {
   "cell_type": "code",
   "execution_count": null,
   "metadata": {},
   "outputs": [],
   "source": [
    "#| default_exp markdown.obsidian.personal.machine_learning.notations"
   ]
  },
  {
   "cell_type": "markdown",
   "metadata": {},
   "source": [
    "# markdown.obisidian.personal.machine_learning.notations\n",
    "> Functions relevant for training models to identify notations introduced in mathematical text."
   ]
  },
  {
   "cell_type": "code",
   "execution_count": null,
   "metadata": {},
   "outputs": [],
   "source": [
    "#| export\n",
    "from deprecated import deprecated\n",
    "from os import PathLike\n",
    "import re\n",
    "from typing import Optional\n",
    "\n",
    "from fastai.text.all import *\n",
    "import pandas as pd\n",
    "import spacy\n",
    "from trouver.helper import (\n",
    "    current_time_formatted_to_minutes, find_regex_in_text,\n",
    "    defs_and_notats_separations, replace_string_by_indices,\n",
    "    notation_asterisk_indices,\n",
    "    double_asterisk_indices, latex_indices\n",
    ")\n",
    "from trouver.markdown.markdown.file import MarkdownFile, MarkdownLineEnum\n",
    "from trouver.markdown.obsidian.personal.note_processing import (\n",
    "    process_standard_information_note\n",
    ")\n",
    "from trouver.markdown.obsidian.personal.notes import notes_linked_in_note, notes_linked_in_notes_linked_in_note\n",
    "\n",
    "from trouver.markdown.obsidian.vault import VaultNote"
   ]
  },
  {
   "cell_type": "code",
   "execution_count": null,
   "metadata": {},
   "outputs": [],
   "source": []
  }
 ],
 "metadata": {
  "kernelspec": {
   "display_name": "python3",
   "language": "python",
   "name": "python3"
  }
 },
 "nbformat": 4,
 "nbformat_minor": 2
}
