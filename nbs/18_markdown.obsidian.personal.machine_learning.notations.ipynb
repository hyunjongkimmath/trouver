{
 "cells": [
  {
   "cell_type": "code",
   "execution_count": null,
   "metadata": {},
   "outputs": [],
   "source": [
    "#| default_exp markdown.obsidian.personal.machine_learning.notations"
   ]
  },
  {
   "cell_type": "markdown",
   "metadata": {},
   "source": [
    "# markdown.obisidian.personal.machine_learning.notations\n",
    "> Functions relevant for training models to identify notations introduced in mathematical text."
   ]
  },
  {
   "cell_type": "code",
   "execution_count": null,
   "metadata": {},
   "outputs": [],
   "source": [
    "#| export\n",
    "from deprecated import deprecated\n",
    "from os import PathLike\n",
    "import re\n",
    "from typing import Optional\n",
    "\n",
    "from fastai.text.all import *\n",
    "import pandas as pd\n",
    "import spacy\n",
    "from trouver.helper import (\n",
    "    current_time_formatted_to_minutes, find_regex_in_text,\n",
    "    defs_and_notats_separations, replace_string_by_indices,\n",
    "    notation_asterisk_indices,\n",
    "    double_asterisk_indices, latex_indices\n",
    ")\n",
    "# from trouver.machine_learning.text.encoder_decoder import (\n",
    "#     EncoderRNN, AttnDecoderRNN, train, trainIters, evaluate,\n",
    "#     evaluateRandomly\n",
    "# )\n",
    "# from trouver.machine_learning.text.tokenize import (\n",
    "#     replace_bold, replace_math_mode_strings, special_cases\n",
    "# )\n",
    "from trouver.markdown.markdown.file import MarkdownFile, MarkdownLineEnum\n",
    "from trouver.markdown.obsidian.personal.note_processing import (\n",
    "    standard_information_note_processor\n",
    ")\n",
    "from trouver.markdown.obsidian.personal.notes import notes_linked_in_note, notes_linked_in_notes_linked_in_note\n",
    "# from trouver.markdown.obsidian.personal.notation import (\n",
    "#     make_a_notation_note, latex_to_path_accepted_string, make_notation_notes_from_double_asts)\n",
    "\n",
    "from trouver.markdown.obsidian.vault import VaultNote"
   ]
  }
 ],
 "metadata": {
  "kernelspec": {
   "display_name": "Python 3.10.6 64-bit",
   "language": "python",
   "name": "python3"
  }
 },
 "nbformat": 4,
 "nbformat_minor": 2
}
