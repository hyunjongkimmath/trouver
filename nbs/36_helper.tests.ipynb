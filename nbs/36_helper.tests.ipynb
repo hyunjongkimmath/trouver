{
 "cells": [
  {
   "cell_type": "code",
   "execution_count": null,
   "metadata": {},
   "outputs": [],
   "source": [
    "#| default_exp helper.tests"
   ]
  },
  {
   "cell_type": "markdown",
   "metadata": {},
   "source": [
    "# helper.tests\n",
    "> Helper functions for testing\n",
    "\n",
    "The functions in this module are used to help documentation and testing of other modules."
   ]
  },
  {
   "cell_type": "code",
   "execution_count": null,
   "metadata": {},
   "outputs": [],
   "source": [
    "#| export\n",
    "import os\n",
    "from pathlib import Path"
   ]
  },
  {
   "cell_type": "code",
   "execution_count": null,
   "metadata": {},
   "outputs": [],
   "source": [
    "from nbdev import show_doc"
   ]
  },
  {
   "cell_type": "code",
   "execution_count": null,
   "metadata": {},
   "outputs": [],
   "source": [
    "#| export\n",
    "def _test_directory() -> Path:\n",
    "    \"\"\"Returns the `nbs/_tests` directory of the `trouver` repository.\n",
    "    \n",
    "    Assumes that the current working directory is either the root of the\n",
    "    repository or the `nbs` folder and the `nbs/_tests` folder exists in the\n",
    "    repository but the root of the repository does not have a folder named\n",
    "    `_tests`.\n",
    "    \"\"\"\n",
    "    cwd = os.getcwd()\n",
    "    cwd_name = os.path.basename(cwd)\n",
    "    if cwd_name == 'nbs':\n",
    "        return Path(cwd) / '_tests'\n",
    "    else:\n",
    "        return Path(cwd) / 'nbs'/ '_tests'"
   ]
  },
  {
   "cell_type": "code",
   "execution_count": null,
   "metadata": {},
   "outputs": [
    {
     "data": {
      "text/markdown": [
       "---\n",
       "\n",
       "[source](https://github.com/hyunjongkimmath/trouver/blob/main/trouver/helper/tests.py#L11){target=\"_blank\" style=\"float:right; font-size:smaller\"}\n",
       "\n",
       "### _test_directory\n",
       "\n",
       ">      _test_directory ()\n",
       "\n",
       "Returns the `nbs/_tests` directory of the `trouver` repository.\n",
       "\n",
       "Assumes that the current working directory is either the root of the\n",
       "repository or the `nbs` folder and the `nbs/_tests` folder exists in the\n",
       "repository but the root of the repository does not have a folder named\n",
       "`_tests`."
      ],
      "text/plain": [
       "---\n",
       "\n",
       "[source](https://github.com/hyunjongkimmath/trouver/blob/main/trouver/helper/tests.py#L11){target=\"_blank\" style=\"float:right; font-size:smaller\"}\n",
       "\n",
       "### _test_directory\n",
       "\n",
       ">      _test_directory ()\n",
       "\n",
       "Returns the `nbs/_tests` directory of the `trouver` repository.\n",
       "\n",
       "Assumes that the current working directory is either the root of the\n",
       "repository or the `nbs` folder and the `nbs/_tests` folder exists in the\n",
       "repository but the root of the repository does not have a folder named\n",
       "`_tests`."
      ]
     },
     "execution_count": null,
     "metadata": {},
     "output_type": "execute_result"
    }
   ],
   "source": [
    "show_doc(_test_directory)"
   ]
  },
  {
   "cell_type": "markdown",
   "metadata": {},
   "source": [
    "Test files for `trouver` are contained in `nbs/_tests` directory within the repository. The hidden `_test_directory()` method returns this directory."
   ]
  },
  {
   "cell_type": "code",
   "execution_count": null,
   "metadata": {},
   "outputs": [],
   "source": [
    "assert os.path.exists(_test_directory())"
   ]
  },
  {
   "cell_type": "code",
   "execution_count": null,
   "metadata": {},
   "outputs": [
    {
     "data": {
      "text/plain": [
       "['empty_model_vault',\n",
       " 'latex_examples',\n",
       " 'ml_examples',\n",
       " 'test_vault_1',\n",
       " 'test_vault_10',\n",
       " 'test_vault_2',\n",
       " 'test_vault_3',\n",
       " 'test_vault_4',\n",
       " 'test_vault_5',\n",
       " 'test_vault_6',\n",
       " 'test_vault_7',\n",
       " 'test_vault_8',\n",
       " 'test_vault_9']"
      ]
     },
     "execution_count": null,
     "metadata": {},
     "output_type": "execute_result"
    }
   ],
   "source": [
    "os.listdir(_test_directory())"
   ]
  }
 ],
 "metadata": {
  "kernelspec": {
   "display_name": "trouver_py310_venv",
   "language": "python",
   "name": "trouver_py310_venv"
  }
 },
 "nbformat": 4,
 "nbformat_minor": 2
}
