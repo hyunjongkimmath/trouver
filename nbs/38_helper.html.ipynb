{
 "cells": [
  {
   "cell_type": "code",
   "execution_count": null,
   "metadata": {},
   "outputs": [],
   "source": [
    "#| default_exp helper.html"
   ]
  },
  {
   "cell_type": "markdown",
   "metadata": {},
   "source": [
    "# helper.html\n",
    "> Helper functors dealing with HTML tags"
   ]
  },
  {
   "cell_type": "code",
   "execution_count": null,
   "metadata": {},
   "outputs": [],
   "source": [
    "#| export\n",
    "import bs4\n",
    "from bs4 import BeautifulSoup\n",
    "import random\n",
    "import re\n",
    "from typing import Optional, Union\n",
    "\n",
    "\n",
    "from trouver.helper.regex import latex_indices, find_regex_in_text, replace_string_by_indices\n"
   ]
  },
  {
   "cell_type": "code",
   "execution_count": null,
   "metadata": {},
   "outputs": [],
   "source": [
    "from fastcore.test import *"
   ]
  },
  {
   "cell_type": "markdown",
   "metadata": {},
   "source": [
    "#### Consolidating special characters that are changed with the `__str__` function of `bs4.element.Tags` objects"
   ]
  },
  {
   "cell_type": "code",
   "execution_count": null,
   "metadata": {},
   "outputs": [],
   "source": [
    "#| export\n",
    "def html_tag_str(\n",
    "        html_tag: bs4.element.Tag\n",
    "        ) -> str:\n",
    "    \"\"\"\n",
    "    Return the full string of `html_tag`, accounting for \n",
    "    special characters that `bs4` changes\n",
    "    \"\"\"\n",
    "    special_chars = {'&lt;': '<', '&gt;': '>', '&amp;': '&'}\n",
    "    text_to_return = str(html_tag)\n",
    "    for special_char, replace_with in special_chars.items():\n",
    "        text_to_return = text_to_return.replace(special_char, replace_with)\n",
    "    return text_to_return"
   ]
  },
  {
   "cell_type": "markdown",
   "metadata": {},
   "source": [
    "When using the `__str__` function of `bs4.element.Tag` objects, special characters such as `<`, `>` and `&` change into `&lt;`, `&gt;` and `&amp;`, etc. The `html_tag_str` function makes it so that these characters are changed back."
   ]
  },
  {
   "cell_type": "code",
   "execution_count": null,
   "metadata": {},
   "outputs": [],
   "source": [
    "soup = BeautifulSoup('', 'html.parser')\n",
    "tag = soup.new_tag('span')\n",
    "tag.string = '&hi<'\n",
    "test_eq(html_tag_str(tag), '<span>&hi<</span>')"
   ]
  },
  {
   "cell_type": "markdown",
   "metadata": {},
   "source": [
    "#### Handling less than `<` symbols in latex math mode strings"
   ]
  },
  {
   "cell_type": "markdown",
   "metadata": {},
   "source": [
    "`BeautifulSoup`'s `html.parser` parses less than `<` symbols without a following space as the beginning of an HTML tag, even when the symbol `<` is used within a LaTeX math mode string. To get around this, we detect when this happens and add a space after these symbols."
   ]
  },
  {
   "cell_type": "code",
   "execution_count": null,
   "metadata": {},
   "outputs": [],
   "source": [
    "#| export\n",
    "def find_lt_symbols_without_space_in_math_mode(\n",
    "        text: str\n",
    "        ) -> list[int]: # The index of  \n",
    "    \"\"\"\n",
    "    Return the indices in `text` with math mode less than `<` symbols without\n",
    "    a space that follows.\n",
    "    \"\"\"\n",
    "    latex_inds = latex_indices(text)\n",
    "    lt_pattern = re.compile(r'<(?! )')\n",
    "    inds_of_lt_without_spaces_after = []\n",
    "    for start, end in latex_inds:\n",
    "        latex_str = text[start:end]\n",
    "        relative_lt_inds = find_regex_in_text(latex_str, lt_pattern)\n",
    "        inds_of_lt_without_spaces_after.extend([\n",
    "            start + relative_lt_ind for relative_lt_ind, _ in relative_lt_inds\n",
    "        ])\n",
    "    return inds_of_lt_without_spaces_after \n"
   ]
  },
  {
   "cell_type": "markdown",
   "metadata": {},
   "source": [
    "In the following example, there are a few math mode strings with less than `<` symbols. Some of these symbols are followed by spaces and others are not."
   ]
  },
  {
   "cell_type": "code",
   "execution_count": null,
   "metadata": {},
   "outputs": [
    {
     "name": "stdout",
     "output_type": "stream",
     "text": [
      "[23, 85]\n"
     ]
    }
   ],
   "source": [
    "text = r\"\"\"\n",
    "here is a math mode $a<b$. Here is another $a< b$.\n",
    "Here is an in-line one:\n",
    "\n",
    "$$ asdf <cbba$$\n",
    "\n",
    "Here is another:\n",
    "\n",
    "$$\n",
    "asdf < basdf\n",
    "$$\n",
    "\"\"\"\n",
    "output = find_lt_symbols_without_space_in_math_mode(text)\n",
    "print(output)\n",
    "test_eq(len(output), 2)\n",
    "test_eq(text[output[0] + 1], 'b')\n",
    "test_eq(text[output[1] + 1], 'c')"
   ]
  },
  {
   "cell_type": "code",
   "execution_count": null,
   "metadata": {},
   "outputs": [
    {
     "name": "stdout",
     "output_type": "stream",
     "text": [
      "[136]\n"
     ]
    }
   ],
   "source": [
    "text_2 = r\"\"\"\n",
    "<b>Now there is an HTML tag</b>. But it shouldn't be detected\n",
    "because the tag is not within math mode text.\n",
    "But this inequality is: $a <d$\n",
    "\"\"\"\n",
    "output = find_lt_symbols_without_space_in_math_mode(text_2)\n",
    "print(output)\n",
    "test_eq(len(output), 1)\n",
    "test_eq(text_2[output[0] + 1], 'd')"
   ]
  },
  {
   "cell_type": "code",
   "execution_count": null,
   "metadata": {},
   "outputs": [],
   "source": [
    "#| export\n",
    "def add_space_to_lt_symbols_without_space(\n",
    "        text: str\n",
    "        ) -> str:\n",
    "    \"\"\"Add space after less than `<` symbols if the symbol\n",
    "    is not followed by a space.\n",
    "    \"\"\"\n",
    "    lt_wo_space_inds = find_lt_symbols_without_space_in_math_mode(text)\n",
    "    lt_wo_space_ranges = [(ind, ind+1) for ind in lt_wo_space_inds]\n",
    "    return replace_string_by_indices(\n",
    "        text, replace_ranges=lt_wo_space_ranges,\n",
    "        replace_with=['< '] * len(lt_wo_space_inds))\n",
    "    "
   ]
  },
  {
   "cell_type": "markdown",
   "metadata": {},
   "source": [
    "Let us again use `text` from the example for the `find_lt_symbols_without_space_in_math_mode` function:"
   ]
  },
  {
   "cell_type": "code",
   "execution_count": null,
   "metadata": {},
   "outputs": [
    {
     "name": "stdout",
     "output_type": "stream",
     "text": [
      "\n",
      "here is a math mode $a< b$. Here is another $a< b$.\n",
      "Here is an in-line one:\n",
      "\n",
      "$$ asdf < cbba$$\n",
      "\n",
      "Here is another:\n",
      "\n",
      "$$\n",
      "asdf < basdf\n",
      "$$\n",
      "\n"
     ]
    }
   ],
   "source": [
    "print(add_space_to_lt_symbols_without_space(text))\n",
    "assert not find_lt_symbols_without_space_in_math_mode(add_space_to_lt_symbols_without_space(text))"
   ]
  },
  {
   "cell_type": "markdown",
   "metadata": {},
   "source": [
    "#### Removing HTML tags in a text and obtaining the data of the tags."
   ]
  },
  {
   "cell_type": "code",
   "execution_count": null,
   "metadata": {},
   "outputs": [],
   "source": [
    "markup = '<b>Hello</b>'\n",
    "soup = BeautifulSoup(markup, 'html.parser')\n",
    "tag = soup.b\n",
    "new_str = soup.new_string(' World')\n",
    "tag.append(new_str)"
   ]
  },
  {
   "cell_type": "code",
   "execution_count": null,
   "metadata": {},
   "outputs": [
    {
     "data": {
      "text/plain": [
       "' World'"
      ]
     },
     "execution_count": null,
     "metadata": {},
     "output_type": "execute_result"
    }
   ],
   "source": [
    "new_str"
   ]
  },
  {
   "cell_type": "code",
   "execution_count": null,
   "metadata": {},
   "outputs": [],
   "source": [
    "#| export\n",
    "def remove_html_tags_in_text(\n",
    "        text: str, # The text in which to remove the HTML tags.\n",
    "        replace_with_attributes: Optional[Union[str, list[str]]] = None, # Attribute(s) within the HTML tags which should be used to replace the text of the tags. If `None`, then the texts are not replaced with the attributes. If multiple attributes are specified, then only one attribute is used to replace the text for each HTML tag (independently at random of other replacements). Each attribute's text has an equal chance of being selected for replacement. Repeats are ignored.\n",
    "        definitely_replace: bool = False, # If `True` and if a given HTML tag has an attribute specified in `replace_with_attributes`, then the text for that tag will definitely be replaced by the text of one of the attributes. Otherwise, the original text and each attribute's text have an equal chance of being selected.\n",
    "        seed: int = None # Random seed \n",
    "        ) -> tuple[str, list[tuple[bs4.element.Tag, int, int]]]: # The text `removed` without HTML tags and a list whose elements consist of the removed HTML tags and the starting and ending indices of the text corresponding to the removed tags within `removed`.\n",
    "    \"\"\"Remove the HTML tags in `text`.\n",
    "\n",
    "    HTML tags are assumed to be not nested.\n",
    "\n",
    "    \"\"\"\n",
    "    random.seed(seed)\n",
    "    parsed_soup = BeautifulSoup(text, 'html.parser')\n",
    "    replace_with_attributes = _init_replace_with_attributes(\n",
    "        replace_with_attributes)\n",
    "\n",
    "    position = 0\n",
    "    replaced_contents = []\n",
    "    for content in parsed_soup.contents:\n",
    "        position = _process_content(\n",
    "            parsed_soup, replace_with_attributes, definitely_replace, content,\n",
    "            position, replaced_contents)\n",
    "    text_to_return = html_tag_str(parsed_soup)\n",
    "    return text_to_return, replaced_contents\n",
    "\n",
    "\n",
    "def _init_replace_with_attributes(\n",
    "        replace_with_attributes: Optional[Union[str, list[str]]]\n",
    "        ) -> set[str]:\n",
    "    if replace_with_attributes is None:\n",
    "        replace_with_attributes = []\n",
    "    elif isinstance(replace_with_attributes, str):\n",
    "        replace_with_attributes = [replace_with_attributes]\n",
    "    return set(replace_with_attributes)\n",
    "\n",
    "\n",
    "def _select_replacement_text(\n",
    "        content: bs4.element.Tag,\n",
    "        replace_with_attributes: set[str],\n",
    "        definitely_replace: bool) -> str:\n",
    "    if not replace_with_attributes:\n",
    "        return content.string\n",
    "    selection_pool = []    \n",
    "    if not definitely_replace:\n",
    "        selection_pool.append(content.string)\n",
    "    for attribute, value in content.attrs.items():\n",
    "        if attribute not in replace_with_attributes:\n",
    "            continue\n",
    "        selection_pool.append(value)\n",
    "    return random.choice(selection_pool)\n",
    "\n",
    "\n",
    "def _process_content(\n",
    "        parsed_soup: BeautifulSoup,\n",
    "        replace_with_attributes: set[str],\n",
    "        definitely_replace: bool,\n",
    "        content,\n",
    "        position: int,\n",
    "        replaced_contents: list) -> int:\n",
    "    \n",
    "    if not isinstance(content, bs4.element.Tag):\n",
    "        return position + len(content)\n",
    "    replacement_text = _select_replacement_text(\n",
    "        content, replace_with_attributes, definitely_replace)\n",
    "    \n",
    "    try:\n",
    "        replaced_content = content.replace_with(\n",
    "            parsed_soup.new_string(replacement_text))\n",
    "    except TypeError as e:\n",
    "        raise e\n",
    "\n",
    "    replaced_contents.append((\n",
    "        replaced_content,\n",
    "        position,\n",
    "        position + len(replacement_text)))\n",
    "    return position + len(replacement_text)\n",
    "    "
   ]
  },
  {
   "cell_type": "markdown",
   "metadata": {},
   "source": [
    "The `remove_html_tags_in_text` function removes HTML tags, preserving the underlying text by default."
   ]
  },
  {
   "cell_type": "code",
   "execution_count": null,
   "metadata": {},
   "outputs": [
    {
     "name": "stdout",
     "output_type": "stream",
     "text": [
      "Let $K$ be a field. An Abelian variety over $K$ is a variety that\n"
     ]
    }
   ],
   "source": [
    "html = 'Let $K$ be a field. An <b definition=\"Abelian variety over a field\">Abelian variety over $K$</b> is a variety that'\n",
    "text_without_html_tags, removed_tags = remove_html_tags_in_text(html)\n",
    "print(text_without_html_tags)\n",
    "\n",
    "test_eq(text_without_html_tags, 'Let $K$ be a field. An Abelian variety over $K$ is a variety that')"
   ]
  },
  {
   "cell_type": "code",
   "execution_count": null,
   "metadata": {},
   "outputs": [
    {
     "data": {
      "text/plain": [
       "{'definition': 'Abelian variety over a field'}"
      ]
     },
     "execution_count": null,
     "metadata": {},
     "output_type": "execute_result"
    }
   ],
   "source": [
    "removed_tags[0][0].attrs"
   ]
  },
  {
   "cell_type": "markdown",
   "metadata": {},
   "source": [
    "In the following example, there is a less than `<` symbol, which is definitely not the opening of an HTML tag. The following verifies that the placeholder `&lt;` is not used to replace the less than symbol, which is what `bs4.BeautifulSoup`'s `html.parser` does."
   ]
  },
  {
   "cell_type": "code",
   "execution_count": null,
   "metadata": {},
   "outputs": [],
   "source": [
    "text = 'Hello, this has a less than symbol: $a< b$'\n",
    "text, html_tags = remove_html_tags_in_text(text)\n",
    "assert not html_tags\n",
    "assert '< ' in text\n",
    "assert 'lt' not in html_tags\n"
   ]
  },
  {
   "cell_type": "markdown",
   "metadata": {},
   "source": [
    "The same applies to the greater than `>` symbol, and `&` symbols"
   ]
  },
  {
   "cell_type": "code",
   "execution_count": null,
   "metadata": {},
   "outputs": [
    {
     "name": "stderr",
     "output_type": "stream",
     "text": [
      "c:\\Users\\hyunj\\Documents\\Development\\Python\\trouver_py310_venv\\lib\\site-packages\\bs4\\__init__.py:435: MarkupResemblesLocatorWarning: The input looks more like a filename than markup. You may want to open this file and pass the filehandle into Beautiful Soup.\n",
      "  warnings.warn(\n"
     ]
    }
   ],
   "source": [
    "text = 'Hello, this has a greater than symbol: $a>b$'\n",
    "text, html_tags = remove_html_tags_in_text(text)\n",
    "assert not html_tags\n",
    "assert '>' in text\n",
    "assert 'gt' not in html_tags\n",
    "\n",
    "text = r'Hello $$ f &= 3 \\\\ g &= 5'\n",
    "text, html_tags = remove_html_tags_in_text(text)\n",
    "assert not html_tags\n",
    "assert '&' in text\n",
    "assert '&amp;' not in html_tags"
   ]
  },
  {
   "cell_type": "markdown",
   "metadata": {},
   "source": [
    "The `remove_html_tags_in_text` function additionally returns a list with information about the tags that are removed. Each item in this list is a tuple `(tag, start, end)`, where `tag` is the tag that has been removed, and `start` and `end` are the indices within the string output `text_without_html_tags` of the function at which the text replacing the tag can be found.\n",
    "\n",
    "In the example above (continued below), there is excactly one tag that is removed."
   ]
  },
  {
   "cell_type": "code",
   "execution_count": null,
   "metadata": {},
   "outputs": [
    {
     "name": "stdout",
     "output_type": "stream",
     "text": [
      "[(<b definition=\"Abelian variety over a field\">Abelian variety over $K$</b>, 23, 47)]\n",
      "Abelian variety over $K$\n"
     ]
    }
   ],
   "source": [
    "print(removed_tags)\n",
    "removed_tag, start, end = removed_tags[0]\n",
    "print(text_without_html_tags[start:end])\n",
    "\n",
    "test_eq(text_without_html_tags[start:end], 'Abelian variety over $K$')"
   ]
  },
  {
   "cell_type": "code",
   "execution_count": null,
   "metadata": {},
   "outputs": [],
   "source": [
    "#| hide\n",
    "html = '<span>Santa</span> want to eat some popcorn for once. He does not want <div>milk and cookies today</div>. \\n And <a href=\"\">this is a link.</a>'\n",
    "text_without_html_tags, removed_tags = remove_html_tags_in_text(html)\n",
    "\n",
    "test_eq(text_without_html_tags, 'Santa want to eat some popcorn for once. He does not want milk and cookies today. \\n And this is a link.')\n",
    "test_eq(len(removed_tags), 3)\n",
    "\n",
    "removed_tag, start, end = removed_tags[0]\n",
    "test_eq(text_without_html_tags[start:end], 'Santa')\n",
    "\n",
    "removed_tag, start, end = removed_tags[1]\n",
    "test_eq(text_without_html_tags[start:end], 'milk and cookies today')\n",
    "\n",
    "removed_tag, start, end = removed_tags[2]\n",
    "test_eq(text_without_html_tags[start:end], 'this is a link.')"
   ]
  },
  {
   "cell_type": "markdown",
   "metadata": {},
   "source": [
    "The `remove_html_tags_in_text` function can be used to replace the underlying text of HTML tags with specified attribute values.\n",
    "\n",
    "In the below example, the text has a tag which contains a `typo` attribute. Passing `'typo'` to the `replace_with_attributes` parameter and passing `True` to the `definitely_replace` parameter guarantees that the value of the `typo` attribute is used instead of the text of the tag."
   ]
  },
  {
   "cell_type": "code",
   "execution_count": null,
   "metadata": {},
   "outputs": [
    {
     "name": "stdout",
     "output_type": "stream",
     "text": [
      "The following tag fixes a typo and simultaneously keeps around the data of that typo: $\\operatorname{Gul}(K)$\n"
     ]
    }
   ],
   "source": [
    "html = r'The following tag fixes a typo and simultaneously keeps around the data of that typo: <span typo=\"$\\operatorname{Gul}(K)$\">$\\operatorname{Gal}(K)$</span>'\n",
    "text_without_html_tags, removed_tags = remove_html_tags_in_text(html, replace_with_attributes='typo', definitely_replace=True)\n",
    "print(text_without_html_tags)\n",
    "\n",
    "test_eq(text_without_html_tags, 'The following tag fixes a typo and simultaneously keeps around the data of that typo: $\\\\operatorname{Gul}(K)$')\n",
    "\n",
    "removed_tag, start, end = removed_tags[0]\n",
    "test_eq(text_without_html_tags[start:end], '$\\\\operatorname{Gul}(K)$')\n"
   ]
  },
  {
   "cell_type": "markdown",
   "metadata": {},
   "source": [
    "If the `definitely_replace` parameter is `False` (which it is by default), then the original text might be preserved or it might be replaced."
   ]
  },
  {
   "cell_type": "code",
   "execution_count": null,
   "metadata": {},
   "outputs": [],
   "source": [
    "html = r'<span typo=\"$\\operatorname{Gul}(K)$\">$\\operatorname{Gal}(K)$</span>'\n",
    "possible_outputs = [\n",
    "    r'$\\operatorname{Gal}(K)$',\n",
    "    r'$\\operatorname{Gul}(K)$'\n",
    "]\n",
    "output, _ = remove_html_tags_in_text(html, replace_with_attributes='typo', definitely_replace=False)\n",
    "assert output in possible_outputs\n"
   ]
  },
  {
   "cell_type": "markdown",
   "metadata": {},
   "source": [
    "#### Adding HTML tag data"
   ]
  },
  {
   "cell_type": "markdown",
   "metadata": {},
   "source": [
    "On the other hand, we may also need to add HTML tag data to a text."
   ]
  },
  {
   "cell_type": "code",
   "execution_count": null,
   "metadata": {},
   "outputs": [],
   "source": [
    "#| export\n",
    "def add_HTML_tag_data_to_raw_text(\n",
    "        text: str, # The text onto which to add HTML tags. This is assumed to contain no HTML tags.\n",
    "        tags_and_locations: list[tuple[bs4.element.Tag, int, int]] # Each tuple consists of the tag object to add as well as the indices within `text` to. The ranges specified by the tuples are assumed to not overlap with one another.\n",
    "        ) -> str: # The modification of `text` in which the tags are added at the specified locations; the ranges in `text` are replaced..\n",
    "    \"\"\"\n",
    "    Add specified HTML tags to the specified locations/ranges in `text`.\n",
    "\n",
    "    See the `add_HTML_tag_data_to_text` function for adding HTML\n",
    "    tag data to text that may or may not already have HTML tags.\n",
    "    \"\"\"\n",
    "    # sort by starting index\n",
    "    tags_and_locations = sorted(\n",
    "        tags_and_locations, key=lambda x: x[1])\n",
    "    replace_ranges = [(start, end) for _, start, end in tags_and_locations]\n",
    "    replace_with = [html_tag_str(html_tag) for html_tag, _, _ in tags_and_locations]\n",
    "    return replace_string_by_indices(text, replace_ranges, replace_with)"
   ]
  },
  {
   "cell_type": "code",
   "execution_count": null,
   "metadata": {},
   "outputs": [
    {
     "name": "stdout",
     "output_type": "stream",
     "text": [
      "Now <span some_attr=\"hi\">this</span> will have an HTML tag. <div some_attr=\"hi\">This</div> will also have an HTML tag too!\n"
     ]
    }
   ],
   "source": [
    "text = \"Now this will have an HTML tag. This will also have an HTML tag too!\"\n",
    "tags_and_locations = [\n",
    "    (BeautifulSoup('<span some_attr=\"hi\">this</span>', 'html.parser'), 4,8),\n",
    "    (BeautifulSoup('<div some_attr=\"hi\">This</div>', 'html.parser'), 32,36)\n",
    "]\n",
    "output = add_HTML_tag_data_to_raw_text(text, tags_and_locations)\n",
    "print(output)\n",
    "test_eq(output, 'Now <span some_attr=\"hi\">this</span> will have an HTML tag. <div some_attr=\"hi\">This</div> will also have an HTML tag too!')"
   ]
  },
  {
   "cell_type": "markdown",
   "metadata": {},
   "source": [
    "Now let us look at the same example, with the order in `tags_and_locations` reversed."
   ]
  },
  {
   "cell_type": "code",
   "execution_count": null,
   "metadata": {},
   "outputs": [
    {
     "name": "stdout",
     "output_type": "stream",
     "text": [
      "Now <span some_attr=\"hi\">this</span> will have an HTML tag. <div some_attr=\"hi\">This</div> will also have an HTML tag too!\n"
     ]
    }
   ],
   "source": [
    "text = \"Now this will have an HTML tag. This will also have an HTML tag too!\"\n",
    "tags_and_locations = [\n",
    "    (BeautifulSoup('<div some_attr=\"hi\">This</div>', 'html.parser'), 32,36),\n",
    "    (BeautifulSoup('<span some_attr=\"hi\">this</span>', 'html.parser'), 4,8)\n",
    "]\n",
    "output = add_HTML_tag_data_to_raw_text(text, tags_and_locations)\n",
    "print(output)\n",
    "test_eq(output, 'Now <span some_attr=\"hi\">this</span> will have an HTML tag. <div some_attr=\"hi\">This</div> will also have an HTML tag too!')"
   ]
  }
 ],
 "metadata": {
  "kernelspec": {
   "display_name": "trouver_py310_venv",
   "language": "python",
   "name": "trouver_py310_venv"
  }
 },
 "nbformat": 4,
 "nbformat_minor": 2
}
