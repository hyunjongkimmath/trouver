{
 "cells": [
  {
   "cell_type": "markdown",
   "metadata": {},
   "source": [
    "# helper.path_accepted_string"
   ]
  },
  {
   "cell_type": "code",
   "execution_count": null,
   "metadata": {},
   "outputs": [],
   "source": [
    "#| default_exp helper.path_accepted_string"
   ]
  },
  {
   "cell_type": "code",
   "execution_count": null,
   "metadata": {},
   "outputs": [],
   "source": [
    "#| export\n",
    "import re\n",
    "\n",
    "from pathvalidate import sanitize_filename"
   ]
  },
  {
   "cell_type": "code",
   "execution_count": null,
   "metadata": {},
   "outputs": [],
   "source": [
    "from pathvalidate import validate_filename"
   ]
  },
  {
   "cell_type": "code",
   "execution_count": null,
   "metadata": {},
   "outputs": [],
   "source": [
    "#| export\n",
    "CHARACTER_ORDERING_LIST =\\\n",
    "    ['A', 'a', r'\\Alpha', r'\\alpha', 'B', 'b', r'\\Beta', r'\\beta', 'C', 'c', r'\\Gamma',\n",
    "     r'\\gamma', 'D', 'd', r'\\Delta', r'\\delta', 'E', 'e', r'\\Epsilon', r'\\epsilon',\n",
    "     'F', 'f', 'G', 'g', 'H', 'h', r'\\Eta', r'\\eta', 'I', 'i', r'\\Iota', r'\\iota',\n",
    "     'J', 'j', 'K', 'k', r'\\Kappa', r'\\kappa', 'L', 'l', r'\\Lambda', r'\\lambda', 'M',\n",
    "     'm', r'\\Mu', r'\\mu', 'N', 'n', r'\\Nu', r'\\nu', 'O', 'o', r'\\Omicron', r'\\omicron'\n",
    "     'P', 'p', r'\\Pi', r'\\pi', r'\\Phi', r'\\phi', r'\\Psi', r'\\psi', 'Q', 'q', 'R', 'r', \n",
    "     r'\\Rho', r'\\rho', 'S', 's', r'\\Sigma', r'\\sigma', 'T', 't', r'\\Theta', r'\\theta',\n",
    "     r'\\Tau', r'\\tau', 'U', 'u', r'\\Upsilon', r'\\upsilon', 'V', 'v', 'W', 'w', r'\\Omega', r'\\omega',\n",
    "     'X', 'x', r'\\Chi', r'\\chi', 'Y', 'y', 'Z', 'z', r'\\Zeta', r'\\zeta', '*', r'\\bullet']\n",
    "DECORATING_CHARACTERS =\\\n",
    "    [r'\\tilde', r'\\hat', r'\\overline', r'\\bar', r'\\mathscr', r'\\mathcal',\n",
    "     r'\\mathfrak', r'\\\\operatorname', r'\\\\text', r'\\\\bf']\n",
    "NONEFFECTIVE_CHARACTERS =\\\n",
    "    ['^', '_', '{', '}', '(', ')', '[', ']']"
   ]
  },
  {
   "cell_type": "code",
   "execution_count": null,
   "metadata": {},
   "outputs": [],
   "source": [
    "#| export\n",
    "TO_REMOVE = [\n",
    "    '.', '$', ':', '?', '!', '#', '%', '&',\n",
    "    '<', '>', '*', '?', '\"', '@', '`', '|',  \n",
    "    'mathscr', 'mathbf', 'mathrm', 'mathfrak', 'mathcal', 'mathbb', 'operatorname',\n",
    "    'boldsymbol', 'bf',\n",
    "    'text', 'begin', 'end', 'equation' , 'aligned', 'array', 'pmatrix', 'bmatrix',\n",
    "    'quad', 'longrightarrow', 'rightarrow', 'left', 'right', 'longmapsto', 'mapsto',\n",
    "    'stackrel']\n",
    "TO_UNDERSCORE = [' ', '-', '^', '(', ',', '/', '{', '}', '[', ']', '(', ')', '\\\\', '=',]\n",
    "TO_SUBSTITUTE = {\n",
    "    '*': 'star',\n",
    "    '+': 'plus',\n",
    "    'leqslant': 'leq',\n",
    "    'geqslant': 'geq',\n",
    "    '\\'': '_prime'\n",
    "}\n",
    "\n",
    "# TODO: make a universal latex to path string; it seems that latex.convert\n",
    "# might do something different when naming files.\n",
    "\n",
    "def latex_to_path_accepted_string(latex: str) -> str:\n",
    "    \"\"\"Convert a latex string to a path accepted string\n",
    "    \"\"\"\n",
    "    for to_underscore in TO_UNDERSCORE:\n",
    "        latex, _ = re.subn(re.escape(to_underscore), '_', latex)\n",
    "    for symbol_to_substitute, substitute_with in TO_SUBSTITUTE.items():\n",
    "        latex, _ = re.subn(re.escape(symbol_to_substitute), substitute_with, latex)\n",
    "    for to_remove in TO_REMOVE:\n",
    "        latex, _ = re.subn(re.escape(to_remove), '', latex)\n",
    "    latex, _ = re.subn('_+', '_', latex)\n",
    "    latex, _ = re.subn('^_', '', latex)\n",
    "    latex, _ = re.subn('_$', '', latex)\n",
    "    latex = sanitize_filename(latex)\n",
    "    return latex"
   ]
  },
  {
   "cell_type": "code",
   "execution_count": null,
   "metadata": {},
   "outputs": [
    {
     "name": "stdout",
     "output_type": "stream",
     "text": [
      "star_R_Lambda\n",
      "d_1_d_2\n",
      "Delta_q_n_0_leq_n_leq_q_1\n",
      "A_prime\n",
      "A_prod\n",
      "F_p_G_G_ll_a_b_c_d_ll_a_p_b_p_c_p_d_p\n",
      "Delta_m_n_Delta_n_L_m\n",
      "F_q_plus_chiplus_O_times_k_times\n",
      "sqrt_alpha_0_1_q_sum_z_in_F_q_times_alpha_0_z_chi_plus_z\n",
      "label_escape_rate_G_F_t_z_w_lim_n_to_infty_frac_1_d_n_log_F_t_n_z_w\n"
     ]
    }
   ],
   "source": [
    "#| hide\n",
    "sample_1 = r'{ }^* \\mathscr{R}_{\\Lambda}'\n",
    "output_1 = latex_to_path_accepted_string(sample_1)\n",
    "print(output_1)\n",
    "validate_filename(output_1)\n",
    "\n",
    "sample_2 = r'\\\\left(d_1, d_2\\\\right)'\n",
    "output_2 = latex_to_path_accepted_string(sample_2)\n",
    "print(output_2)\n",
    "validate_filename(output_2)\n",
    "\n",
    "sample_3 = r'\\left(\\Delta_q(n)\\right)_0 \\leqslant n \\leqslant q-1'\n",
    "output_3 = latex_to_path_accepted_string(sample_3)\n",
    "print(output_3)\n",
    "validate_filename(output_3)\n",
    "\n",
    "sample_4 = r\"A'\"\n",
    "output_4 = latex_to_path_accepted_string(sample_4)\n",
    "print(output_4)\n",
    "validate_filename(output_4)\n",
    "\n",
    "sample_4 = r\"A = \\prod\"\n",
    "output_4 = latex_to_path_accepted_string(sample_4)\n",
    "print(output_4)\n",
    "validate_filename(output_4)\n",
    "\n",
    "sample_5 = r\"\\begin{aligned}  & F_p: \\quad \\mathbf{G} \\longrightarrow \\mathbf{G} \\\\  & \\left(\\begin{array}{ll}  a & b \\\\  c & d  \\end{array}\\right) \\longmapsto\\left(\\begin{array}{ll}  a^p & b^p \\\\  c^p & d^p  \\end{array}\\right) \\\\  &  \\end{aligned}\"\n",
    "output_5 = latex_to_path_accepted_string(sample_5)\n",
    "print(output_5)\n",
    "validate_filename(output_5)\n",
    "\n",
    "sample_6 = r\"\\boldsymbol{\\Delta}_{m, n}=[\\Delta(n): L(m)]\"\n",
    "output_6 = latex_to_path_accepted_string(sample_6)\n",
    "print(output_6)\n",
    "validate_filename(output_6)\n",
    "\n",
    "sample_7 = r\"$\\mathbb{F}_q^{+} \\stackrel{\\chi+}{\\longrightarrow} \\mathscr{O}^{\\times} \\longrightarrow k^{\\times}$\"\n",
    "output_7 = latex_to_path_accepted_string(sample_7)\n",
    "print(output_7)\n",
    "validate_filename(output_7)\n",
    "\n",
    "sample_8 = r\"$\\sqrt{\\alpha_0(-1) q}=\\sum_{z \\in \\mathbb{F}_q^{\\times}} \\alpha_0(z) \\chi_{+}(z)$\"\n",
    "output_8 = latex_to_path_accepted_string(sample_8)\n",
    "print(output_8)\n",
    "validate_filename(output_8)\n",
    "\n",
    "sample_9 = r\"$$\\begin{equation} \\label{escape rate} \tG_{F_t}(z,w) = \\lim_{n\\to\\infty} \\frac{1}{d^n} \\log \\| F_t^n(z,w) \\|, \\end{equation}$$\"\n",
    "output_9 = latex_to_path_accepted_string(sample_9)\n",
    "print(output_9)\n",
    "validate_filename(output_9)\n",
    "validate_filename(output_9)"
   ]
  },
  {
   "cell_type": "markdown",
   "metadata": {},
   "source": [
    "The `latex_to_path_accepted_string` function \"cleans\" a latex str into a path-valid string for the purposes of making files."
   ]
  },
  {
   "cell_type": "code",
   "execution_count": null,
   "metadata": {},
   "outputs": [
    {
     "name": "stdout",
     "output_type": "stream",
     "text": [
      "O_X\n",
      "Gal_L_K\n",
      "label_escape_rate_G_F_t_z_w_lim_n_to_infty_frac_1_d_n_log_F_t_n_z_w\n"
     ]
    }
   ],
   "source": [
    "sample_1 = r'\\mathcal{O}_X'\n",
    "output_1 = latex_to_path_accepted_string(sample_1)\n",
    "print(output_1)\n",
    "assert 'O' in output_1 and 'X' in output_1\n",
    "validate_filename(output_1)\n",
    "\n",
    "sample_2 = r'\\operatorname{Gal}(L/K)'\n",
    "output_2 = latex_to_path_accepted_string(sample_2)\n",
    "print(output_2)\n",
    "assert 'Gal' in output_2 and 'L' in output_2 and 'K' in output_2\n",
    "validate_filename(output_2)\n",
    "\n",
    "# Example found in https://arxiv.org/abs/1607.04471\n",
    "sample_3 = r'\\begin{equation} \\label{escape rate} \tG_{F_t}(z,w) = \\lim_{n\\to\\infty} \\frac{1}{d^n} \\log \\| F_t^n(z,w) \\|, \\end{equation}'\n",
    "output_3 = latex_to_path_accepted_string(sample_3)\n",
    "print(output_3)\n",
    "validate_filename(output_3)\n"
   ]
  }
 ],
 "metadata": {
  "kernelspec": {
   "display_name": "python3",
   "language": "python",
   "name": "python3"
  }
 },
 "nbformat": 4,
 "nbformat_minor": 2
}
