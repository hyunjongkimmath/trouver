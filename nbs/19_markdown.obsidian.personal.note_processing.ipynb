{
 "cells": [
  {
   "cell_type": "code",
   "execution_count": null,
   "metadata": {},
   "outputs": [],
   "source": [
    "#| default_exp markdown.obsidian.personal.note_processing"
   ]
  },
  {
   "cell_type": "code",
   "execution_count": null,
   "metadata": {},
   "outputs": [],
   "source": [
    "#| export\n",
    "from deprecated import deprecated\n",
    "from os import PathLike\n",
    "from pathlib import Path, PureWindowsPath, WindowsPath\n",
    "import re\n",
    "from typing import Optional, Union\n",
    "\n",
    "from trouver.markdown.markdown.file import MarkdownFile, MarkdownLineEnum, replace_embedded_links_with_text\n",
    "from trouver.markdown.obsidian.footnotes import remove_footnote_mentions_in_markdown_text\n",
    "from trouver.markdown.obsidian.links import EMBEDDED_PATTERN, remove_links_from_text\n",
    "from trouver.markdown.obsidian.vault import VaultNote"
   ]
  },
  {
   "cell_type": "markdown",
   "metadata": {},
   "source": [
    "# markdown.obisidian.personal.note_processing\n",
    "> Process notes to extract basic information about them "
   ]
  },
  {
   "cell_type": "markdown",
   "metadata": {},
   "source": [
    "For the `machine_learning` module, "
   ]
  },
  {
   "cell_type": "code",
   "execution_count": null,
   "metadata": {},
   "outputs": [],
   "source": [
    "# TODO: add description"
   ]
  },
  {
   "cell_type": "code",
   "execution_count": null,
   "metadata": {},
   "outputs": [],
   "source": [
    "#| export\n",
    "def remove_double_asterisks_in_markdown_file(\n",
    "        markdown_file: MarkdownFile \n",
    "        ) -> None: \n",
    "    # TODO Don't remove in math mode.\n",
    "    \"\"\"Remove double asterisks in MarkdownFile object.\n",
    "    \n",
    "    I chose not to implement this method in the `MarkdownFile` class because it\n",
    "    seems to specific. \n",
    "    \n",
    "    **Parameters**\n",
    "    - markdown_file - MarkdownFile\n",
    "    \"\"\"\n",
    "    for part in markdown_file.parts:\n",
    "        part['line'] = part['line'].replace('**', '')"
   ]
  },
  {
   "cell_type": "code",
   "execution_count": null,
   "metadata": {},
   "outputs": [],
   "source": [
    "#| export\n",
    "def standard_information_note_processor_v2(\n",
    "        markdown_file: Union[MarkdownFile, str],\n",
    "        vault: PathLike,\n",
    "        remove_frontmatter_meta: bool = True,\n",
    "        remove_see_also_section: bool = True,\n",
    "        remove_meta_section: bool = True,\n",
    "        remove_references_section: bool = True,\n",
    "        remove_double_asterisks: bool = True,\n",
    "        remove_links: bool = True,\n",
    "        remove_in_line_tags: bool = True,\n",
    "        remove_footnotes_to_embedded: bool = True,\n",
    "        remove_headers: bool = True,\n",
    "        remove_citation_footnotes: bool = True,\n",
    "        replace_embedded_links_with_content: bool = True,\n",
    "        merge_in_line_latex: bool = True,\n",
    "        merge_in_line_latex_into_text: Optional[str] = None,\n",
    "        no_double_blank_lines: bool = True) -> MarkdownFile:\n",
    "    \"\"\"Processes a str of a standard information note.\n",
    "        \n",
    "    The note processing is for\n",
    "    \n",
    "    - note type categorization\n",
    "    - definition finding\n",
    "    \n",
    "    TODO: implement remove_citation_footnote properly.\n",
    "    \n",
    "    **Parameters**\n",
    "    - markdown_file - MarkdownFile or str\n",
    "    - vault - PathLike\n",
    "    - remove_frontmatter_meta - bool\n",
    "        - If `True`, removes the frontmatter meta. Defaults to `True`\n",
    "    - remove_see_also_section - bool\n",
    "        - If `True`, removes the `# See also` section. Defaults to `True`.\n",
    "    - remove_meta_section - bool\n",
    "        - If `True`, remove the `# Meta` section. Defaults to `True`.\n",
    "    - remove_references_section - bool\n",
    "        - If `True`, removes the `## References` section. Defaults to `True`.\n",
    "    - remove_double_asterisks - bool\n",
    "        - If `True`, removes double asterisks. Defaults to `True`.\n",
    "    - remove_links - bool\n",
    "        - If `True`, removes nonembedded links and replaces them with their\n",
    "        display text. Defaults to `True`.\n",
    "    - remove_in_line_tags - bool\n",
    "        - If `True`, removes in-line tags (the lines that start with a tag).\n",
    "        Defaults to `True`.\n",
    "    - remove_footnotes_to_embedded - bool\n",
    "        - If `True`, removes footnotes to embedded notes. Defaults to `True`.\n",
    "    = remove_headers - bool\n",
    "        - If `True`, removes headers. Defaults to `True`.\n",
    "    - remove_citation_footnote - bool \n",
    "        - If `True`, removes the citation footnote. Defaults to `True`.\n",
    "    - replace_embedded_links_with_content - bool\n",
    "        - If `True`, replaces embedded links with their content.\n",
    "        Defaults to `True`.\n",
    "    - merge_in_line_latex - bool\n",
    "        - If `True`, merge each group of in-line latex lines into single lines.\n",
    "        Defaults to `True`.\n",
    "    - merge_in_line_latex_into_text - str or `None`\n",
    "        - If not `None`, merge each group of in-line latex lines into\n",
    "        single lines and merge those groups into the text that precedes\n",
    "        them with the specified str. Defaults to `None`.\n",
    "        The blank character ` ` and the new-line character `\\n` are recommended\n",
    "        as arguments.\n",
    "    - no_double_blank_lines - bool\n",
    "        - If `True`, removes escape characters `'\\n'` to make it so that\n",
    "        there are no double blank lines. Defaults to `True`.\n",
    "    \"\"\"\n",
    "    if isinstance(markdown_file, str):\n",
    "        markdown_file = MarkdownFile.from_string(markdown_file)\n",
    "    if remove_frontmatter_meta:\n",
    "        markdown_file.remove_metadata()\n",
    "    # if not remove_citation_footnote:\n",
    "    #     return\n",
    "    if remove_footnotes_to_embedded:\n",
    "        markdown_file.remove_footnotes_to_embedded_links()\n",
    "    if replace_embedded_links_with_content:\n",
    "        markdown_file.replace_embedded_links_with_text(vault)\n",
    "    if remove_see_also_section:\n",
    "        markdown_file.remove_section('See Also')\n",
    "    if remove_meta_section:\n",
    "        markdown_file.remove_section('Meta')\n",
    "    if remove_references_section:\n",
    "        markdown_file.remove_section('References')\n",
    "    if remove_double_asterisks:\n",
    "        remove_double_asterisks_in_markdown_file(markdown_file)\n",
    "    if remove_links: \n",
    "        markdown_file.replace_links_with_display_text()\n",
    "    if remove_in_line_tags:\n",
    "        markdown_file.remove_in_line_tags()\n",
    "    if remove_headers:\n",
    "        markdown_file.remove_headers()\n",
    "    if merge_in_line_latex:\n",
    "        markdown_file.merge_in_line_latex()\n",
    "    if merge_in_line_latex_into_text:\n",
    "        markdown_file.merge_in_line_latex_into_preceding_text(\n",
    "            separator=merge_in_line_latex_into_text)\n",
    "    if no_double_blank_lines:\n",
    "        markdown_file.remove_double_blank_lines()\n",
    "    # print(markdown_file)\n",
    "    return markdown_file\n"
   ]
  }
 ],
 "metadata": {
  "kernelspec": {
   "display_name": "Python 3.10.6 64-bit",
   "language": "python",
   "name": "python3"
  },
  "language_info": {
   "name": "python",
   "version": "3.10.6"
  },
  "orig_nbformat": 4,
  "vscode": {
   "interpreter": {
    "hash": "e0d6519b614ed4b3ff759fd43b4634bcad99f4a02e3e0401ef91ccc070278cd3"
   }
  }
 },
 "nbformat": 4,
 "nbformat_minor": 2
}
