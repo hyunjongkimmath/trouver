{
 "cells": [
  {
   "cell_type": "code",
   "execution_count": null,
   "metadata": {},
   "outputs": [],
   "source": [
    "#| default_exp markdown.obsidian.personal.note_processing"
   ]
  },
  {
   "cell_type": "code",
   "execution_count": null,
   "metadata": {},
   "outputs": [],
   "source": [
    "#| export\n",
    "from deprecated import deprecated\n",
    "from os import PathLike\n",
    "from pathlib import Path, PureWindowsPath, WindowsPath\n",
    "import re\n",
    "from typing import Optional, Union\n",
    "\n",
    "from trouver.markdown.markdown.file import MarkdownFile, MarkdownLineEnum, replace_embedded_links_with_text\n",
    "from trouver.markdown.obsidian.footnotes import remove_footnote_mentions_in_markdown_text\n",
    "from trouver.markdown.obsidian.links import EMBEDDED_PATTERN, remove_links_from_text\n",
    "from trouver.markdown.obsidian.vault import VaultNote"
   ]
  },
  {
   "cell_type": "code",
   "execution_count": null,
   "metadata": {},
   "outputs": [],
   "source": [
    "from trouver.helper.tests import _test_directory\n",
    "from fastcore.test import *"
   ]
  },
  {
   "cell_type": "markdown",
   "metadata": {},
   "source": [
    "# markdown.obisidian.personal.note_processing\n",
    "> Process notes to extract basic information about them "
   ]
  },
  {
   "cell_type": "markdown",
   "metadata": {},
   "source": [
    "`trouver` assumes that the notes in the `Obsidian.md` math vaults are are roughly of the following format: "
   ]
  },
  {
   "cell_type": "code",
   "execution_count": null,
   "metadata": {},
   "outputs": [
    {
     "name": "stdout",
     "output_type": "stream",
     "text": [
      "---\n",
      "cssclass: clean-embeds\n",
      "aliases: []\n",
      "tags: [_meta/literature_note]\n",
      "---\n",
      "# Topic[^1]\n",
      "\n",
      "# See Also\n",
      "\n",
      "# Meta\n",
      "## References\n",
      "\n",
      "## Citations and Footnotes\n",
      "[^1]: Citation\n"
     ]
    }
   ],
   "source": [
    "vault = _test_directory() / 'test_vault_5'\n",
    "template_note = VaultNote(vault, name='_template_common')\n",
    "print(template_note.text())"
   ]
  },
  {
   "cell_type": "markdown",
   "metadata": {},
   "source": [
    "The functions in this module extract information about such notes. For example, they extract the main text (without the metadata, links, footnotes, etc.) to obtain the \"raw\" text of the note."
   ]
  },
  {
   "cell_type": "code",
   "execution_count": null,
   "metadata": {},
   "outputs": [],
   "source": [
    "#| export\n",
    "def remove_double_asterisks_in_markdown_file(\n",
    "        markdown_file: MarkdownFile \n",
    "        ) -> None: \n",
    "    # TODO Don't remove asterisks in math mode.\n",
    "    \"\"\"Remove double asterisks in MarkdownFile object.\n",
    "    \n",
    "    The author of `trouver` chose to implement this function outside of the \n",
    "    `MarkdownFile` class because its use seems specific - this function\n",
    "    is mostly intended to remove double asterisks marking definitions and\n",
    "    notations introduced in LaTeX text.\n",
    "    \"\"\"\n",
    "    for part in markdown_file.parts:\n",
    "        part['line'] = part['line'].replace('**', '')"
   ]
  },
  {
   "cell_type": "code",
   "execution_count": null,
   "metadata": {},
   "outputs": [],
   "source": [
    "mf = MarkdownFile.from_string('Hi. Here are some double asterisks: **')\n",
    "\n",
    "remove_double_asterisks_in_markdown_file(mf)\n",
    "test_eq(str(mf), 'Hi. Here are some double asterisks: ')\n",
    "\n",
    "mf = MarkdownFile.from_string(\n",
    "    'I want to use double asterisks to surround definitions and notations:'\n",
    "    ' the **Galois group** **$\\operatorname{Gal}(L/K)$** of a Galois extension'\n",
    "    ' $L/K$ is...')\n",
    "remove_double_asterisks_in_markdown_file(mf)\n",
    "test_eq(str(mf), 'I want to use double asterisks to surround definitions and notations: the Galois group $\\operatorname{Gal}(L/K)$ of a Galois extension $L/K$ is...')"
   ]
  },
  {
   "cell_type": "code",
   "execution_count": null,
   "metadata": {},
   "outputs": [],
   "source": [
    "#| export\n",
    "# TODO: add functionality to remove footnotes altogether.\n",
    "def process_standard_information_note(\n",
    "        markdown_file: Union[MarkdownFile, str],\n",
    "        vault: PathLike,\n",
    "        remove_frontmatter_meta: bool = True, # If `True`, removes the frontmatter meta. Defaults to `True`\n",
    "        remove_see_also_section: bool = True, # If `True`, removes the `# See also` section. Defaults to `True`.\n",
    "        remove_meta_section: bool = True, # If `True`, remove the `# Meta` section. Defaults to `True`.\n",
    "        remove_references_section: bool = True, # If `True`, removes the `## References` section. Defaults to `True`.\n",
    "        remove_double_asterisks: bool = True, # If `True`, removes double asterisks. Defaults to `True`.\n",
    "        remove_html_tags: bool = True, # If `True`, remove HTML tags. Defaults to `True``\n",
    "        remove_links: bool = True, # If `True`, removes nonembedded links and replaces them with their display text. Defaults to `True`.\n",
    "        remove_in_line_tags: bool = True, # If `True`, removes in-line tags (the lines that start with a tag).  Defaults to `True`.\n",
    "        remove_footnotes_to_embedded: bool = True, # If `True`, removes footnotes to embedded notes. Defaults to `True`.\n",
    "        remove_headers: bool = True, # If `True`, removes headers. Defaults to `True`.\n",
    "        remove_citation_footnotes: bool = True, # If `True`, removes the citation footnote. Defaults to `True`.\n",
    "        replace_embedded_links_with_content: bool = True, # If `True`, replaces embedded links with their content.  Defaults to `True`.\n",
    "        merge_display_math_mode: bool = True, # If `True`, merge each group of display math mode latex lines into single lines.  Defaults to `True`.\n",
    "        merge_display_math_mode_into_text: Optional[str] = None, # If not `None`, merge each group of display math mode latex lines into single lines and merge those groups into the text that precedes them with the specified str. Defaults to `None`.  The blank character ` ` and the new-line character `\\n` are recommended as arguments.\n",
    "        no_double_blank_lines: bool = True # If `True`, removes escape characters `'\\n'` to make it so that there are no double blank lines. Defaults to `True`.\n",
    "        ) -> MarkdownFile: # If `markdown_file` is a `MarkdownFile` object, then the output is `markdown_file` itself (not a copy) with modifications. If `markdown_file` is a `str`, then the output is a `MarkdownFile` object with the modifications.\n",
    "    \"\"\"Process/modify a str/MarkdownFile of a standard information note.\n",
    "        \n",
    "    TODO: implement remove_citation_footnote properly.\n",
    "\n",
    "    Even if `remove_html_tags` is set to `True`, only the HTML tags\n",
    "    which are written within a single line of text are removed.\n",
    "    \"\"\"\n",
    "    if isinstance(markdown_file, str):\n",
    "        markdown_file = MarkdownFile.from_string(markdown_file)\n",
    "    if remove_frontmatter_meta:\n",
    "        markdown_file.remove_metadata()\n",
    "    # if not remove_citation_footnote:\n",
    "    #     return\n",
    "    if remove_footnotes_to_embedded:\n",
    "        markdown_file.remove_footnotes_to_embedded_links()\n",
    "    if replace_embedded_links_with_content:\n",
    "        markdown_file.replace_embedded_links_with_text(vault)\n",
    "    if remove_see_also_section:\n",
    "        markdown_file.remove_section('See Also')\n",
    "    if remove_meta_section:\n",
    "        markdown_file.remove_section('Meta')\n",
    "    if remove_references_section:\n",
    "        markdown_file.remove_section('References')\n",
    "    if remove_double_asterisks:\n",
    "        remove_double_asterisks_in_markdown_file(markdown_file)\n",
    "    if remove_html_tags:\n",
    "        markdown_file.remove_html_tags()\n",
    "    if remove_links: \n",
    "        markdown_file.replace_links_with_display_text()\n",
    "    if remove_in_line_tags:\n",
    "        markdown_file.remove_in_line_tags()\n",
    "    if remove_headers:\n",
    "        markdown_file.remove_headers()\n",
    "    if merge_display_math_mode:\n",
    "        markdown_file.merge_display_math_mode()\n",
    "    if merge_display_math_mode_into_text:\n",
    "        markdown_file.merge_display_math_mode_into_preceding_text(\n",
    "            separator=merge_display_math_mode_into_text)\n",
    "    if no_double_blank_lines:\n",
    "        markdown_file.remove_double_blank_lines()\n",
    "    # print(markdown_file)\n",
    "    return markdown_file\n"
   ]
  },
  {
   "cell_type": "code",
   "execution_count": null,
   "metadata": {},
   "outputs": [],
   "source": [
    "# TODO: add examples"
   ]
  }
 ],
 "metadata": {
  "kernelspec": {
   "display_name": "trouver_py310_venv",
   "language": "python",
   "name": "trouver_py310_venv"
  },
  "language_info": {
   "name": "python",
   "version": "3.10.6"
  }
 },
 "nbformat": 4,
 "nbformat_minor": 2
}
