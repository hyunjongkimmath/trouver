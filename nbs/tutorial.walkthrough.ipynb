{
 "cells": [
  {
   "cell_type": "code",
   "execution_count": null,
   "metadata": {},
   "outputs": [],
   "source": [
    "#| default_exp tutorial.walkthrough"
   ]
  },
  {
   "cell_type": "markdown",
   "metadata": {},
   "source": [
    "# tutorial.walkthrough\n",
    "> An end-to-end walkthrough on setting up a `trouver` workflow"
   ]
  },
  {
   "cell_type": "markdown",
   "metadata": {},
   "source": [
    "In this tutorial, we describe a recommended setup for using `trouver`. Note that the exact details and consequences of this walkthrough may change as `trouver` or any related software changes; the current version of this walkthrough was written on 12/24/2024 and was written based on `trouver` version 1.0.0.\n",
    "\n",
    "> **Warning**\n",
    "> A previous version of this tutorial was written around March 2023. Since then, `trouver` has had significant updates and the following tutorial may not fully reflect those changes. If parts of this tutorial seem erroneous or not up-to-date, please let us know by [reporting the issue on the GitHub repo](https://github.com/hyunjongkimmath/trouver/issues/new).\n",
    ">\n",
    "> Moreover, user experience with this tutorial may vary --- in particular the specific details/outputs in the examples used in this tutorial may not be the same as those that you get. \n",
    ">\n",
    "\n",
    "See also [tutorial.concise_code](tutorial.concise_code.html) for a concise version of the code used in this tutorial."
   ]
  },
  {
   "cell_type": "markdown",
   "metadata": {},
   "source": []
  },
  {
   "cell_type": "code",
   "execution_count": null,
   "metadata": {},
   "outputs": [],
   "source": [
    "#| hide\n",
    "# See also the [Google Colab notebook](https://drive.google.com/file/d/12HnwmnSSB5OgDjP3T4V-FNMGMEDOPAF5/view?usp=share_link) of this walkthrough (the Google Colab notebook is currently imageless)."
   ]
  },
  {
   "cell_type": "markdown",
   "metadata": {},
   "source": [
    "## Installations"
   ]
  },
  {
   "cell_type": "markdown",
   "metadata": {},
   "source": [
    "See also [`how_to.install_trouver`](`how_to.install_trouver.html`).\n",
    "\n",
    "Go to a command-line (e.g. `cmd` on Windows, `Terminal` on Linux) and install `trouver` with `pip`:\n",
    "\n",
    "```terminal\n",
    "pip install trouver\n",
    "```\n",
    "\n",
    "\n",
    "Install JupyterLab.\n",
    "\n",
    "```terminal\n",
    "pip install jupyterlab\n",
    "```\n",
    "\n",
    "Once installed, launch JupyterLab with\n",
    "\n",
    "```terminal\n",
    "jupyter-lab\n",
    "```\n",
    "\n",
    "![This is supposed to be an image of JupyterLab being launched](/images/tutorial_walkthrough_1_jupyterlab_launch.png)\n",
    "\n",
    "\n",
    "Alternatively, install the classic Jupyter Notebook via\n",
    "\n",
    "```terminal\n",
    "pip install notebook\n",
    "```\n",
    "\n",
    "and launch with\n",
    "\n",
    "```terminal\n",
    "jupyter notebook\n",
    "```\n",
    "\n",
    "![This is supposed to be an image of classic Jupyter notebook being launched](/images/tutorial_walkthrough_2_classic_notebook_launch.png)\n",
    "\n",
    "or use `Visual Studio Code` to view and edit notebooks.\n",
    "\n",
    "\n",
    "![This is an image of Visual Studio Code](/images/tutorial_walkthrough_3_vscode.png)\n",
    "\n",
    "\n",
    "Install [`Obsidian.md`](https://obsidian.md/). `Obsidian.md` is a note taking software that, among other functionalities, makes it easy to link between notes.\n",
    "\n",
    "Note that the most important basic functionalities in `Obsidian.md` are free.\n",
    "\n",
    "<p style=\"text-align:center;\"> <img src=\"/images/tutorial_walkthrough_4_obsidian_md_website.png\" alt=\"This is an image of the Obsidian.md website\" width=\"400\" class=\"center\"/></p>\n",
    "\n",
    "The following window pops up upon launching Obsidian.md\n",
    "\n",
    "<p style=\"text-align:center;\"><img src=\"/images/tutorial_walkthrough_5_obsidian_md_launch.png\" alt =\"This is an image of Obsidian.md upon launch\" width=\"400\" class=\"center\"/> </p>\n"
   ]
  },
  {
   "cell_type": "markdown",
   "metadata": {},
   "source": [
    "> **Warning**\n",
    "> At the time of this writing, `trouver` has not been tested on MacOS extensively. We have also found that running the latest Python versions in Jupyter notebooks on modern MacOS machines (e.g. those using the M1 processor and in particular the arm64 architecture) lead to some issues. cf. stackexchange discussions such as \n",
    "> \n",
    ">     - https://apple.stackexchange.com/questions/436801/m1-mac-mach-o-file-but-is-an-incompatible-architecture-have-x86-64-need-a\n",
    ">     - https://stackoverflow.com/questions/71502583/jupiter-wont-launch-from-terminal-on-m1-macbook.\n",
    "> \n",
    "> For MacOS users, it may be useful to go through this tutorial/walkthrough using a Python console or using the [Google Colab Notebook](https://drive.google.com/file/d/12HnwmnSSB5OgDjP3T4V-FNMGMEDOPAF5/view?usp=share_link) for this tutorial/walkthrough.\n",
    "<!--- > One can also try running `trouver` on an older version of Python (e.g. version 3.7) to avoid these Jupyter problems. In this case, one may need to install some additional Python packages, such as [`graphlib-backport`](https://pypi.org/project/graphlib-backport/). -->"
   ]
  },
  {
   "cell_type": "markdown",
   "metadata": {},
   "source": [
    "## Creating an `Obsidian.md` vault"
   ]
  },
  {
   "cell_type": "markdown",
   "metadata": {},
   "source": [
    "An Obsidian vault is a folder where Obsidian stores your notes as well as setting files, CSS, trash folder, and any sub-folders, notes, and attachments you add yourself, cf. [\"What exactly is a vault?\"](https://forum.obsidian.md/t/what-exactly-is-a-vault/4369/2).\n",
    "\n",
    "Let us make a new `Obsidian.md` vault. For this example, we call the vault `example_math_vault` and create it in a local folder called `trouver_walkthrough_folder`. Doing so creates a folder `example_math_vault` in `trouver_walkthrough_folder`, i.e. creates the folder `trouver_walkthrough_folder/example_math_vault`:\n",
    "\n",
    "<p style=\"text-align:center;\"> <img src=\"/images/tutorial_walkthrough_6_obsidian_make_new_vault.png\" alt=\"This is an image of creating a new `Obsidian.md` vault\" width=\"400\" class=\"center\"/></p>\n",
    "\n",
    "Upon creating the vault, `Obsidian.md` will open the vault:\n",
    "\n",
    "<p style=\"text-align:center;\"> <img src=\"/images/tutorial_walkthrough_7_created_vault.png\" alt=\"This is an image of the newly created `Obsidian.md` vault\" width=\"400\" class=\"center\"/></p>\n"
   ]
  },
  {
   "cell_type": "markdown",
   "metadata": {},
   "source": [
    "## `Obsidian.md` functionalities"
   ]
  },
  {
   "cell_type": "markdown",
   "metadata": {},
   "source": [
    "#### Creating files and folders in an Obsidian vault"
   ]
  },
  {
   "cell_type": "markdown",
   "metadata": {},
   "source": [
    "By and large, one can make files and folders fairly liberally in one's own Obsidian vault (note, however, that Obsidian can experience significant lags on vaults with many notes, say on the order of 10,000, depending on the machine running it).\n",
    "\n",
    "For example, let us create a new note by clicking on the \"New note\" icon in the left pane:\n",
    "\n",
    "<p style=\"text-align:center;\"><img src=\"/images/tutorial_walkthrough_8_new_note_button.png\" alt=\"Click on the new note button\" width=\"400\" class=\"center\"/> </p>\n",
    "\n",
    "Let us name the new note `_index`:\n",
    "\n",
    "<p style=\"text-align:center;\"><img src=\"/images/tutorial_walkthrough_9_index_note_made.png\" alt=\"Rename the new note from `Untitled` to `_index`\" width=\"400\" class=\"center\"/> </p>\n",
    "\n",
    "Let us check that a new file named `_index.md` has been created in the computer. To open the directory that the file is in, it is convenient to use the `Show in system explorer` command. To use this command, open the [`Command Palette`](https://help.obsidian.md/Plugins/Command+palette) by either clicking on the `Open command palette` icon in the left pane\n",
    "\n",
    "<p style=\"text-align:center;\"><img src=\"/images/tutorial_walkthrough_9_index_note_made.png\" alt=\"Rename the new note from `Untitled` to `_index`\" width=\"400\" class=\"center\"/> </p>\n",
    "    \n",
    "or by using the [Hotkey](https://forum.obsidian.md/t/obsidian-hotkeys-favorites-and-best-practices/12125)/keyboard shortcut for the `Open command palette` command. By default, this shortcut is either `Ctrl + p` or `Cmd + p` (or the appropriate variant for your computer).\n",
    "\n",
    "Either way, the command palette should open up. \n",
    "\n",
    "<p style=\"text-align:center;\"><img src=\"/images/tutorial_walkthrough_11_command_palette_open.png\" alt=\"The command palette\" width=\"400\" class=\"center\"/> </p>\n",
    "\n",
    "Type the word `system` so that the command palette shows that `Show in system explorer` command.\n",
    "\n",
    "<p style=\"text-align:center;\"><img src=\"/images/tutorial_walkthrough_12_command_palette_system_explorer_command.png\" alt=\"The show in system explorer command\" width=\"400\" class=\"center\"/> </p>\n",
    "\n",
    "Select this command to open the directory containing the `_index.md` file, which should be the root directory of the vault:\n",
    "\n",
    "<p style=\"text-align:center;\"><img src=\"/images/tutorial_walkthrough_13_system_explorer.png\" alt=\"See the `_index.md` file created in the root directory of the vault\" width=\"400\" class=\"center\"/> </p>\n"
   ]
  },
  {
   "cell_type": "markdown",
   "metadata": {},
   "source": [
    "#### Links and editing files"
   ]
  },
  {
   "cell_type": "markdown",
   "metadata": {},
   "source": [
    "Let us now create some more files and folders. Note that one can create files and folders for an Obsidian vault without using Obsidian. In particular, one can create such files and folders in the computer's default file system.\n",
    "\n",
    "Let us create a folder named `algebra` and a folder named `number_theory`. Let us also create files named `_index_algebra.md` and `_index_number_theory.md` in these two folders respectively (make sure that the file extensions are `.md`).\n",
    "\n",
    "<p style=\"text-align:center;\"><img src=\"/images/tutorial_walkthrough_14_algebra_and_number_theory_folders.png\" alt=\"We created an `algebra` and a `number theory` folder.\" width=\"400\" class=\"center\"/> </p>\n",
    "\n",
    "Going back to `Obsidian`, note that `Osidian` recognizes that these files and folders have been created:\n",
    "\n",
    "<p style=\"text-align:center;\"><img src=\"/images/tutorial_walkthrough_15_obsidian_sees_new_files_and_folders.png\" alt=\"Obsidian recognizes the newly created files and folders\" width=\"400\" class=\"center\"/> </p>\n",
    "\n",
    "Now let us edit the `_index.md` file within Obsidian. In the file, start typing `[[_index_algebra]]`. Note that Obsidian makes some autocomplete suggestions when we do so:\n",
    "\n",
    "<p style=\"text-align:center;\"><img src=\"/images/tutorial_walkthrough_16_obsidian_autocompletes_links.png\" alt=\"Obsidian autocompletes links\" width=\"400\" class=\"center\"/> </p>\n",
    "\n",
    "What we have done is that we have created a link within the Obsidian vault! This is one of Obsidian's highlighted features - one can make and access links fairly easily within an Obsidian vault. Click on the link to go to the `_index_algebra` note:\n",
    "\n",
    "\n",
    "<p style=\"text-align:center;\"><img src=\"/images/tutorial_walkthrough_17_obsidian_link_click.png\" alt=\"Clicking on an Obsidian link\" width=\"400\" class=\"center\"/> </p>\n",
    "\n",
    "Let us start typing the following text:\n",
    "\n",
    "```Markdown\n",
    "Algebra is really fun. Here are some things that I want to learn about \n",
    "- The Galois group $\\operatorname{Gal}(L/K)$ of a Galois field extension\n",
    "- $\\mathbb{A}^1$-homotopy theory.\n",
    "- etc.\n",
    "```\n",
    "\n",
    "Note that there are some LaTeX strings in this text and that Obsidian renders such text as so:\n",
    "\n",
    "<p style=\"text-align:center;\"><img src=\"/images/tutorial_walkthrough_18_obsidian_markdown_typing.png\" alt=\"Obsidian renders math\" width=\"400\" class=\"center\"/> </p>\n",
    "\n",
    "Some users may prefer to use the `Source mode` as the Default editing mode, as opposed to `Live Preview`. To change this setting, go to `Settings > Editor > Default editing mode`:\n",
    "\n",
    "<p style=\"text-align:center;\"><img src=\"/images/tutorial_walkthrough_19_source_editing_mode.png\" alt=\"Change the default editing mode to `Source mode`\" width=\"400\" class=\"center\"/> </p>\n",
    "\n",
    "\n",
    "<p style=\"text-align:center;\"><img src=\"/images/tutorial_walkthrough_20_editing_mode_with_source_mode.png\" alt=\"This is what the editing mode looks like in `Source mode`\" width=\"400\" class=\"center\"/> </p>\n",
    "\n",
    "On can quickly toggle between the editing view and reading view with the `Toggle reading/editing view` command (which has the Hotkey `Ctrl + e` or `Cmd + e` by default):\n",
    "\n",
    "<p style=\"text-align:center;\"><img src=\"/images/tutorial_walkthrough_20_reading_view.png\" alt=\"Reading view\" width=\"400\" class=\"center\"/> </p>\n",
    "\n",
    "\n"
   ]
  },
  {
   "cell_type": "markdown",
   "metadata": {},
   "source": [
    "#### Quick Switcher"
   ]
  },
  {
   "cell_type": "markdown",
   "metadata": {},
   "source": [
    "In Obsidian, one can search and open notes by name. Open the [`Quick switcher`](https://help.obsidian.md/Plugins/Quick+switcher) either with the `Open quick switcher` icon in the left pane or with the Hotkey `Ctrl + o` or `Cmd + o`:\n",
    "\n",
    "<p style=\"text-align:center;\"><img src=\"/images/tutorial_walkthrough_21_quick_switcher.png\" alt=\"Open quick switcher icon\" width=\"400\" class=\"center\"/> </p>\n",
    "\n",
    "<p style=\"text-align:center;\"><img src=\"/images/tutorial_walkthrough_22_quick_swticher_open.png\" alt=\"The quick switcher\" width=\"400\" class=\"center\"/> </p>\n",
    "\n",
    "Start typing `_index_number_theory`. Note that the quick switcher autocompletes note names. Open the `_index_number_theory` note by selecting it in the quick switcher:\n",
    "\n",
    "<p style=\"text-align:center;\"><img src=\"/images/tutorial_walkthrough_23_quick_swticher_typing.png\" alt=\"Type in the name of a note to get the quick switcher to open it\" width=\"400\" class=\"center\"/> </p>\n",
    "\n",
    "<p style=\"text-align:center;\"><img src=\"/images/tutorial_walkthrough_24_note_opened_with_quick_swticher.png\" alt=\"Type in the name of a note to get the quick switcher to open it\" width=\"400\" class=\"center\"/> </p>\n",
    "\n",
    "One can add [\"aliases\"](https://help.obsidian.md/Linking+notes+and+files/Aliases) to Obsidian notes to make them better searchable."
   ]
  },
  {
   "cell_type": "markdown",
   "metadata": {},
   "source": [
    "#### More Obsidian features"
   ]
  },
  {
   "cell_type": "markdown",
   "metadata": {},
   "source": [
    "Obsidian has quite a lot of features that make Obsidian vaults highly useful and customizable. In fact, there are quite a lot of features of Obsidian that the author of `trouver` regularly uses:\n",
    "\n",
    "- Vim keybindings\n",
    "- CSS Styles\n",
    "- Plugins \n",
    "- etc.\n",
    "\n",
    "See the [`Obsidian Help`](https://help.obsidian.md/Obsidian/Index) vault online for more information on Obsidian's features."
   ]
  },
  {
   "cell_type": "markdown",
   "metadata": {},
   "source": [
    "## Optional: Adding some files and folders for formatting for `trouver`"
   ]
  },
  {
   "cell_type": "markdown",
   "metadata": {},
   "source": [
    "For the purposes of using `trouver`, we recommend adding a few more folders. We will need a `_references` folder and a `_templates` folder and multiple subfolders. For convenience, copy the `_references` and `_templates` folders from the `nbs/_tests/empty_model_vault` directory of the `trouver` GitHub repository:\n",
    "\n",
    "<p style=\"text-align:center;\"><img src=\"/images/tutorial_walkthrough_25_references_and_templates_folders_copied_over.png\" alt=\"Type in the name of a note to get the quick switcher to open it\" width=\"400\" class=\"center\"/> </p>\n",
    "\n",
    "Each of these folders have subfolders `A-E`, `F-J`, `K-O`, `P-T`, and `U-Z` and subsubfolders corresponding to each letter in the English alphabet. These are for organization. There are also multiple files named `README.md` in this subsubfolders. Feel free to delete them.\n"
   ]
  },
  {
   "cell_type": "markdown",
   "metadata": {},
   "source": [
    "#### Rationale for the `_references` and `_templates` folders"
   ]
  },
  {
   "cell_type": "markdown",
   "metadata": {},
   "source": [
    "The basic file organization philosophy for `trouver` is that each mathematical reference should have a dedicated folder in a vault and mathematical (standard information) notes derived from the mathematical reference should belong to this folder (or one of its subfolders/subsubfolders/etc). \n",
    "\n",
    "The `_references` folder contains notes that contain information about each mathematical references, e.g. bibliographical information, where to find the reference (say on the arxiv), any other personal notes about the reference. The reference notes will be embedded in the standard information notes so that these information do not have to be manually replicated from standard information note to standard information note. \n",
    "\n",
    "The `_templates` folder contains notes which serve as templates for the standard information notes for each reference."
   ]
  },
  {
   "cell_type": "markdown",
   "metadata": {},
   "source": [
    "## Dividing a LaTeX file"
   ]
  },
  {
   "cell_type": "markdown",
   "metadata": {},
   "source": [
    "The [helper.arxiv](helper.arxiv.html) module of `trouver` can use the arXiv API to download the source code of an arXiv article.  Moreover, `trouver` can (attempt to) divide a LaTeX document into not-too-long parts in an Obsidian vault. \n",
    "\n",
    "> See [index](index.html#special-thanks) for an acknowledgement of arXiv."
   ]
  },
  {
   "cell_type": "markdown",
   "metadata": {},
   "source": [
    "### Obtaining an arXiv source file using `trouver`"
   ]
  },
  {
   "cell_type": "markdown",
   "metadata": {},
   "source": [
    "One fortunate state of mathematics is that many manuscripts are made publicly available on [arxiv.org](https://arxiv.org/) before they are formally published. In fact, the source code to many of these manuscripts are also generally available on the arxiv.\n",
    "\n",
    "\n",
    "As an example, we download the source code for [a paper written by the creator of trouver with a collaborator](https://arxiv.org/abs/2106.10586) (See [`Special Thanks`](index.html#special-thanks) for an acknowledgement to [Sun Woo Park](https://sites.google.com/wisc.edu/spark483), the collaborator in question, for permitting this paper to be presented for examples in `trouver`'s documentation)."
   ]
  },
  {
   "cell_type": "code",
   "execution_count": null,
   "metadata": {},
   "outputs": [],
   "source": [
    "from pathlib import Path\n",
    "\n",
    "from trouver.helper.files_and_folders import get_download_path\n",
    "from trouver.latex import find_main_latex_file\n",
    "from trouver.helper.arxiv import arxiv_id, arxiv_search, download_from_results, extract_last_names"
   ]
  },
  {
   "cell_type": "code",
   "execution_count": null,
   "metadata": {},
   "outputs": [
    {
     "name": "stdout",
     "output_type": "stream",
     "text": [
      "C:\\Users\\hyunj\\Downloads\\kim_park_gm1dcmbmc\n",
      "C:\\Users\\hyunj\\Downloads\\kim_park_gm1dcmbmc\\2106.10586v4.Global___mathbb_A__1__degrees_of_covering_maps_between_modular_curves.tex\n"
     ]
    }
   ],
   "source": [
    "#| notest\n",
    "url = \"https://arxiv.org/abs/2106.10586\" # Replace this with the url \n",
    "results = list(arxiv_search(arxiv_id(url)))\n",
    "latex_dir = Path(get_download_path()) # Replace this with the path that you can to download the source file in; e.g. r'C:\\Users\\<your user name>' or r'/home/usr'\n",
    "\n",
    "downloaded_path = download_from_results(results, latex_dir, source=True)[0]\n",
    "print(downloaded_path)\n",
    "reference = downloaded_path.name\n",
    "author_full_names = [author.name for author in results[0].authors]\n",
    "author_names = extract_last_names(author_full_names)\n",
    "\n",
    "latex_file = find_main_latex_file(downloaded_path)\n",
    "print(latex_file)"
   ]
  },
  {
   "cell_type": "markdown",
   "metadata": {},
   "source": [
    "#### (Manual) Download an arXiv file"
   ]
  },
  {
   "cell_type": "markdown",
   "metadata": {},
   "source": [
    "Alternatively, if the code [above](#obtaining-an-arxiv-source-file-using-trouver) does not work for some reason, one can manually download the source code.\n",
    "\n",
    "As an example, let us go to the [arxiv page for a paper written by the creator of trouver with a collaborator](https://arxiv.org/abs/2106.10586).\n",
    "\n",
    "\n",
    "<p style=\"text-align:center;\"><img src=\"/images/tutorial_walkthrough_26_arxiv_page.png\" alt=\"The webpage for an arxiv article\" width=\"400\" class=\"center\"/> </p>\n",
    "\n",
    "On the right, beneath `Download:`, note that there is a link titled `Other formats`. Access the link to got to the `Format selector` page:\n",
    "\n",
    "<p style=\"text-align:center;\"><img src=\"/images/tutorial_walkthrough_27_arxiv_format_selector_page.png\" alt=\"The format selector page for the arxiv article\" width=\"400\" class=\"center\"/> </p>\n",
    "\n",
    "\n",
    "Around the bottom of this page is the option to download the source file(s) for the article. Click the `Download source` link to download the source file(s). Move the files to a different location if desired. For this example, we made a folder named `latex_files` in the `trouver_walkthrough_folder`, a subfolder named `kim_park_ga1dcmmc` in `latex_files`, and moved the source file into `kim_park_ga1dcmmc`.\n",
    "\n",
    "<p style=\"text-align:center;\"><img src=\"/images/tutorial_walkthrough_28_folder_for_arxiv_article.png\" alt=\"New folder with arxiv source file\" width=\"400\" class=\"center\"/> </p>\n",
    "\n",
    "Either the file is compressed and contains multiple files, or the file is not compressed and is actually a `.tex` file. Attempt to decompress the file. If this fails, rename the file to have the `.tex` extension. Either way, you should have a `.tex` file at this stage. For this example, it turns out that the file is compressed and multiple files appear upon decompression. \n",
    "\n",
    "<p style=\"text-align:center;\"><img src=\"/images/tutorial_walkthrough_29_extract_files.png\" alt=\"Attempt to decompress the file\" width=\"400\" class=\"center\"/> </p>\n",
    "\n",
    "<p style=\"text-align:center;\"><img src=\"/images/tutorial_walkthrough_30_files_extracted.png\" alt=\"Files extracted\" width=\"400\" class=\"center\"/> </p>\n",
    "\n",
    "The author usually finds it convenient to name the (main) `.tex` file `main.tex` for the purposes of using `trouver`, but the name of the `.tex` file ultimately does not matter.\n",
    "\n",
    "\n",
    "\n",
    "\n"
   ]
  },
  {
   "cell_type": "markdown",
   "metadata": {},
   "source": [
    "#### Using `trouver` to divide the file and make notes in the Obsidian vault"
   ]
  },
  {
   "cell_type": "markdown",
   "metadata": {},
   "source": [
    "Now that we have the `.tex` file set up, we are now ready to the code from `trouver` to divide it. While the code can really be run from any python interpreter, we highly recommend using a notebook (say via Jupyter or VSCode) to run `trouver` code.\n",
    "\n",
    "To open JupyterLab, open a command-line interface and run\n",
    "\n",
    "```terminal\n",
    "jupyter-lab\n",
    "```\n",
    "\n",
    "<p style=\"text-align:center;\"><img src=\"/images/tutorial_walkthrough_31_jupyter_lab_opened.png\" alt=\"JupyterLab opened once more.\" width=\"400\" class=\"center\"/> </p>\n",
    "\n",
    "Create a new notebook and run the following Python import statements:\n"
   ]
  },
  {
   "cell_type": "code",
   "execution_count": null,
   "metadata": {},
   "outputs": [],
   "source": [
    "from pathlib import Path\n",
    "from trouver.helper.files_and_folders import text_from_file\n",
    "from trouver.latex.convert import (\n",
    "    divide_preamble, divide_latex_text, custom_commands,\n",
    "    setup_reference_from_latex_parts\n",
    ")\n",
    "from trouver.latex.preamble import replace_inclusion_of_style_file_with_code\n"
   ]
  },
  {
   "cell_type": "markdown",
   "metadata": {},
   "source": [
    "Further run (a variant of) the following code. Replace `latex_file` and `vault` to be Python [`Path`'s](https://docs.python.org/3/library/pathlib.html) appropriate for your example. For more general instances, you may want to change the `reference` variable, the `location` variable, and the `author_names` varaibles as well.\n"
   ]
  },
  {
   "cell_type": "code",
   "execution_count": null,
   "metadata": {},
   "outputs": [],
   "source": [
    "# One way to get folders accessible in Google Colab is to upload\n",
    "# zip files of them and to unzip them.\n",
    "# !unzip /content/example_math_vault.zip\n",
    "# !unzip /content/latex_files.zip"
   ]
  },
  {
   "cell_type": "code",
   "execution_count": null,
   "metadata": {},
   "outputs": [],
   "source": [
    "#| notest\n",
    "# Change this as desired.\n",
    "# The name of the reference as well as the name of the folder that contains\n",
    "# the latex file\n",
    "reference = reference\n",
    "# Change this as desired.\n",
    "latex_file = latex_file \n",
    "# latex_file = Path(r'C:\\Users\\<user>') / reference / 'main.tex'\n",
    "latex_text = text_from_file(latex_file)\n",
    "preamble, _ = divide_preamble(latex_text)\n",
    "preamble = replace_inclusion_of_style_file_with_code(preamble, latex_dir)\n",
    "parts = divide_latex_text(latex_text, downloaded_path)\n",
    "cust_comms = custom_commands(preamble)\n",
    "# Replace the below as needed;\n",
    "# The path to the Obsidian vault in which to setup the \"subvault\"\n",
    "# For convenience, we currently set this as the folder where the\n",
    "# arXiv source file got downloaded into,\n",
    "# But you may change this to wherever your Obsiidan.md vault\n",
    "# actually is located at.\n",
    "vault = Path(downloaded_path)\n",
    "# Replace the below as needed;\n",
    "# The path relative to the vault of the directory in which to make\n",
    "# the new folder containing the new notes.\n",
    "location = Path('.')  \n",
    "# Replace the below as needed\n",
    "# The (family) names of the authors;\n",
    "author_names = author_names \n",
    "\n",
    "setup_reference_from_latex_parts(\n",
    "    parts, cust_comms, vault, location,\n",
    "    reference,\n",
    "    author_names,\n",
    "    # You may set this to `True` if you set up a `_references` folder\n",
    "    # in your Obsidian.md vault.\n",
    "    create_reference_file_in_references_folder=False,\n",
    "    # You may set this to `True` if you set up a `_templates` folder\n",
    "    # in your Obsidian.md vault.\n",
    "    create_template_file_in_templates_folder=False,\n",
    "    adjust_common_latex_syntax_to_markdown=True,\n",
    "    repeat_replacing_custom_commands=-1,\n",
    "    copy_obsidian_configs=None\n",
    "    )\n"
   ]
  },
  {
   "cell_type": "markdown",
   "metadata": {},
   "source": [
    "<p style=\"text-align:center;\"><img src=\"/images/tutorial_walkthrough_32_setup_reference_folder_from_latex.png\" alt=\"The code has been executed in JupyterLab and the code has set up a folder in the Obsidian vault\" width=\"400\" class=\"center\"/> </p>\n",
    "\n",
    "<!---\n",
    "Safely ignore the warning messages about configuration files for plugins.\n",
    "-->\n",
    "\n",
    "Now return to the Obsidian vault. Note that a new folder named `kim_park_ga1dcmmc` has been created in the specified folder of the vault (If you used the code above as-is, then this new folder is within the same folder that the arXiv source `.tex` file is downloaded in). In Obsidian, open the `_index_kim_park_ga1dcmmc` note:\n",
    "\n",
    "\n",
    "<p style=\"text-align:center;\"><img src=\"/images/tutorial_walkthrough_33_index_file_for_reference.png\" alt=\"The index file for the reference folder is opened in Obsidian.\" width=\"400\" class=\"center\"/> </p>\n",
    "\n",
    "Click on any of the links in the `_index_kim_park_ga1dcmmc` note to open another \"index note\":\n",
    "\n",
    "<p style=\"text-align:center;\"><img src=\"/images/tutorial_walkthrough_34_index_file_for_section.png\" alt=\"The index file a section of the reference is opened in Obsidian.\" width=\"400\" class=\"center\"/> </p>\n",
    "\n",
    "Click on any of the links in the index note to open a \"standard information note\". This note contains some text from the paper on arxiv.\n",
    "\n",
    "<p style=\"text-align:center;\"><img src=\"/images/tutorial_walkthrough_35_standard_information_note.png\" alt=\"A standard information note for the reference\" width=\"400\" class=\"center\"/> </p>\n",
    "\n",
    "You may need to reload the Obsidian vault before you can view some of these notes; Obsidian may not have registered/\"indexed\" some of these notes upon their creation. Reload Obsidian using the `Reload app without saving` commmand in the command palette:\n",
    "\n",
    "<p style=\"text-align:center;\"><img src=\"/images/tutorial_walkthrough_36_reload_obsidian_vault.png\" alt=\"Reload Obsidian vault\" width=\"400\" class=\"center\"/> </p>\n",
    "\n",
    "At this point, we recommend that you explore the newly created notes and folders. As an overview, the above code does the following:\n",
    "\n",
    "1. Creates a folder for the reference in the specified folder (In this case, a folder named `kim_park_ga1dcmmc` was created in the `number_theory` folder in the vault). \n",
    "2. Creates folders corresponding to sections of the LaTeX file.\n",
    "3. Creates various notes/files in the reference folder, including, but not limited to\n",
    "    - standard information notes\n",
    "    - an index note (in this case named `_index_kim_park_ga1dcmmc`)\n",
    "4. A template note for the standard information notes for the reference folder. \n",
    "    - This template note may either be in same folder as the index note (if you used the above code as-is), or in the `_templates` folder of the vault. (In this case, the template note is created in `_templates/K-O/K` folder as the file `_template_kim_park_ga1dcmmc.md`)\n",
    "5. A copy of the above template note located in the root of the reference folder (In this case, the template note is created as the file `_template_kim_park_ga1dcmmc_2.md`). \n",
    "    - This copy template note is created for use in case the user wishes to edit the reference folder by opening it as an Obsidian vault; in general, subdirectories of an obsidian vault can be opened as obsidian vaults in themselves. This can be advantageous when the \"main\" vault has many notes and thus Obsidian runs slowly in the \"main\" vault.\n",
    "6. A reference note for the reference.\n",
    "    - This reference note may either be in same folder as the index note (if you used the above code as-is), in the `_references` folder of the vault (In this case, the reference note is located in the `_references/K-O/K` folder as the file `_reference_kim_park_ga1dcmmc.md`)\n",
    "    - The user is encouraged to fill in this note with bibliographic information of the reference. Note that this reference note is embedded in the standard information notes for the reference, so the information provided in the reference note is easily readable from the standard information notes (in viewing mode).\n",
    "\n",
    "\n",
    "\n",
    "If you made a mistake in running the above code and would like to re-setup your reference folder, you can use the following code to delete the reference folder, the template note, and the reference note. Enter the letter `Y` (case sensitive) to confirm that you wish to delete the folder and these notes. Note that this operation cannot be reversed.\n",
    "\n",
    "\n",
    "\n",
    "\n"
   ]
  },
  {
   "cell_type": "code",
   "execution_count": null,
   "metadata": {},
   "outputs": [
    {
     "name": "stdout",
     "output_type": "stream",
     "text": [
      "\n",
      "Identified reference 'kim_park_gm1dcmbmc' in the vault 'C:\\Users\\hyunj\\Downloads\\kim_park_gm1dcmbmc' as the folder 'C:\\Users\\hyunj\\Downloads\\kim_park_gm1dcmbmc\\kim_park_gm1dcmbmc'...\n",
      "Aborting deleting reference.\n",
      "\n"
     ]
    }
   ],
   "source": [
    "#| notest\n",
    "from trouver.markdown.obsidian.personal.reference import (\n",
    "    delete_reference_folder\n",
    ")\n",
    "# TODO: delete template and reference files even without reference folder.\n",
    "delete_reference_folder(vault, reference)"
   ]
  },
  {
   "cell_type": "markdown",
   "metadata": {},
   "source": [
    "<p style=\"text-align:center;\"><img src=\"/images/tutorial_walkthrough_37_delete_reference_folder.png\" alt=\"Delete reference folder in Jupyter\" width=\"400\" class=\"center\"/> </p>"
   ]
  },
  {
   "cell_type": "markdown",
   "metadata": {},
   "source": [
    "#### Using these notes"
   ]
  },
  {
   "cell_type": "markdown",
   "metadata": {},
   "source": [
    "One can fairly liberally modify the contents in a standard information note for the purposes of `trouver`. Some things that we recommend include, but are not limited to: \n",
    "\n",
    "- For the user to read more about Obsidian's features in [Obsidian's official help vault](https://help.obsidian.md/Obsidian/Index), including [Obsidians' flavor of Markdown syntax](https://help.obsidian.md/How+to/Format+your+notes) \n",
    "    - However, there are many forms of Obsidian's Markdown syntax that `trouver` does not yet parse. One example is that `trouver` does not currently parse [inline footnotes](https://help.obsidian.md/How+to/Format+your+notes#Footnotes).\n",
    "- For the user to see what [(community) plugins](https://obsidian.md/plugins) are available for Obsidian.\n",
    "    - Use these plugins at your own risk as there is no way to ultimately ensure that malicious or insecure code is not included in such plugins. However, most to all of these plugins are made open source, so the user can themselves understand how these plugins are implemented.\n",
    "- For the user to read [`trouver`'s documentation](https://hyunjongkimmath.github.io/trouver/) and to explore the example vaults in the `nbs/_tests` directory of [`trouver`('s GitHub repository)](https://github.com/hyunjongkimmath/trouver#readme)\n",
    "- For the user to liberally mark their standard information notes with footnotes with personal memos about their experience reading the specific excerpt(s) from the specific mathematical references.\n",
    "\n",
    "<p style=\"text-align:center;\"><img src=\"/images/tutorial_walkthrough_38_footnote_writing.png\" alt=\"An example of a note with footnotes memoing the user's thought process in reading a paper.\" width=\"400\" class=\"center\"/> </p>\n",
    "\n",
    "- For the user to make modifications in the standard information notes to clean up the LaTeX syntax for the purposes of reading in Obsidian.md\n",
    "    - For example, `$ \\operatorname{Gal}(L/K)$` (notice the space between the `$` and the `\\` characters) will not render properly due to the space. One can correct this by typing `$\\operatorname{Gal}(L/K)$` instead.\n",
    "- For the user to make links between notes to develop a stronger understanding of the relationship among notes and to build reliable methods for quickly recalling mathematical facts, definitions, or notations.\n",
    "- For the user to **NOT** create and maintain notes of the same file name in a single vault. `trouver` generally operates under the assumption that an Obsidian vault will not have two or more files of the same name. In particular, errors or unexpected consequences may arise if the code of `trouver` is run on an Obsidian vault with two files of the same name.\n",
    "\n",
    "\n",
    "However, here are some modifications that one should not make to a standard information note for the purposes of `trouver`:\n",
    "\n",
    "- Changing the title of/deleting the `See Also`, `Meta`, `References`, `Citations and Footnotes` headers/sections; doing so will result in errors in some functionalities of `trouver` as `trouver`'s criteria for recognizing a standard information note is as a note with such headers.\n",
    "    - One can nevertheless modify the contents within these sections. Note that the title of the section titled `Topic` may be modified liberally and that sections can be added liberally.\n",
    "- Changing the formatting of the frontmatter YAML metadata (The text in the beginning of a note starting with `---`).\n",
    "    - One can and should nevertheless modify the contents of the frontmatter YAML metadata as appropriate.\n",
    "\n"
   ]
  },
  {
   "cell_type": "markdown",
   "metadata": {},
   "source": [
    "## Using Machine learning models"
   ]
  },
  {
   "cell_type": "markdown",
   "metadata": {},
   "source": [
    "Now that we have set up a reference folder from a LaTeX file, we should make great use of the notes/files in the folder to learn concepts presented in the LaTeX file.\n",
    "\n",
    "One of the basic challenges in deciphering a mathematical paper is grasping the definitions and notations presented in the paper. The machine learning models can help make this process more reliable and faster.\n",
    "\n",
    "Currently, the functionalities of `trouver` are more focused towards finding notations as opposed to definitions. In time, we hope to improve these functionalities to better encompass finding definitions as well. Nevertheless, the functionalities of `trouver` effectively allow the user to identify where notations are introduced in the various notes in the reference folder and to create, for each notation, a note dedicated to the notation. \n",
    "\n",
    "Currently, `trouver` uses the following ML models:\n",
    "\n",
    "1. [`hyunjongkimmath/information_note_type`](https://huggingface.co/hyunjongkimmath/information_note_type)\n",
    "2. [`hyunjongkimmath/def_and_notat_token_classification_model`](https://huggingface.co/hyunjongkimmath/def_and_notat_token_classification_model)\n",
    "3. [hyunjongkimmath/definition_naming_model](https://huggingface.co/hyunjongkimmath/definition_naming_model) and [hyunjongkimmath/notation_naming_model](https://huggingface.co/hyunjongkimmath/notation_naming_model)\n",
    "4. [hyunjongkimmath/notation_summarizations_model](https://huggingface.co/hyunjongkimmath/notation_summarizations_model)\n",
    "\n",
    "The first is trained using [fast.ai](https://www.fast.ai/) and the rest are trained using the Hugging Face [Transformers](https://huggingface.co/docs/transformers/index) library.\n",
    "\n",
    "ML models can be computationally intensive to run. As such, `trouver` roughly operates on a \"run-once, record results for later use\" principle when it comes to its ML models. Moreover, since ML models inherently cannot be perfect, `trouver` also operates on general principle to allow for users to manually correct these recorded results without raising errors.\n",
    "\n",
    "> **Remark**\n",
    "> Graphical Processing Units (GPU's) are *not* necessary to use these models. In particular, these models can be loaded onto a computer's CPU."
   ]
  },
  {
   "cell_type": "markdown",
   "metadata": {},
   "source": [
    "#### Downloading and loading the ML models"
   ]
  },
  {
   "cell_type": "markdown",
   "metadata": {},
   "source": [
    "Since ML models typically are large in file size, the models are not part of the `trouver` library itself. Instead, the models are made publicly available on `Hugging Face`, where they can be downloaded.\n",
    "\n",
    "Run the following code to download the models from the [`Hugging Face Hub`'](https://huggingface.co/docs/hub/index) and then to load the models. Depending on your internet connection, it may take a few minutes to download this models the first time because each model is at least several hundred megabytes large. Downloading the models may also sometimes temporarily fail and may run correctly once you run the code again after waiting for some time. Moreover, these models are saved to a local cache folder. See [Hugging Face cache management](https://huggingface.co/docs/datasets/cache) for more details. The `get_Huggingface_cache_dir` function should indicate where these models are stored in your machine.\n",
    "\n",
    "See also [index](index.html#descriptions-of-functionalities) for a description of what these models accomplish.\n"
   ]
  },
  {
   "cell_type": "code",
   "execution_count": null,
   "metadata": {},
   "outputs": [],
   "source": [
    "\n",
    "import pathlib\n",
    "from pathlib import Path, WindowsPath\n",
    "import platform\n",
    "\n",
    "from huggingface_hub import from_pretrained_fastai\n",
    "from transformers import AutoModelForSeq2SeqLM, AutoModelForTokenClassification, AutoTokenizer, pipeline\n",
    "\n",
    "from trouver.helper.files_and_folders import get_huggingface_cache_dir\n",
    "from trouver.markdown.obsidian.personal.machine_learning.information_note_types import automatically_add_note_type_tags\n",
    "\n",
    "from trouver.markdown.obsidian.personal.machine_learning.tokenize.def_and_notat_token_classification import auto_mark_def_and_notats\n",
    "from trouver.markdown.obsidian.personal.machine_learning.definition_and_notation_naming import add_names_to_html_tags_in_info_note\n",
    "from trouver.markdown.obsidian.personal.machine_learning.notation_summarization import append_summary_to_notation_note\n"
   ]
  },
  {
   "cell_type": "code",
   "execution_count": null,
   "metadata": {},
   "outputs": [
    {
     "data": {
      "application/vnd.jupyter.widget-view+json": {
       "model_id": "780548ab8b814b95b6912dadb19c910f",
       "version_major": 2,
       "version_minor": 0
      },
      "text/plain": [
       "Fetching 4 files:   0%|          | 0/4 [00:00<?, ?it/s]"
      ]
     },
     "metadata": {},
     "output_type": "display_data"
    }
   ],
   "source": [
    "#| notest\n",
    "\n",
    "# Load the model that categorizes the type(s) of standard information notes\n",
    "repo_id = 'hyunjongkimmath/information_note_type'\n",
    "if platform.system() == 'Windows':\n",
    "    temp = pathlib.PosixPath # See https://stackoverflow.com/questions/57286486/i-cant-load-my-model-because-i-cant-put-a-posixpath\n",
    "    pathlib.PosixPath = pathlib.WindowsPath\n",
    "    information_note_type_model = from_pretrained_fastai(repo_id)\n",
    "    pathlib.PosixPath = temp\n",
    "else:\n",
    "    information_note_type_model = from_pretrained_fastai(repo_id)\n",
    "\n",
    "\n",
    "# Load the model the finds definitions and notations introduced in standard information notes\n",
    "model = AutoModelForTokenClassification.from_pretrained('hyunjongkimmath/def_and_notat_token_classification_model')\n",
    "tokenizer = AutoTokenizer.from_pretrained('hyunjongkimmath/def_and_notat_token_classification_model')\n",
    "def_notat_classifier = pipeline('ner', model=model, tokenizer=tokenizer)\n",
    "\n",
    "# Load the models that names definitions and notations.\n",
    "model = AutoModelForSeq2SeqLM.from_pretrained('hyunjongkimmath/definition_naming_model')\n",
    "tokenizer = AutoTokenizer.from_pretrained('hyunjongkimmath/definition_naming_model')\n",
    "definition_naming_pipeline = pipeline('summarization', model=model, tokenizer=tokenizer)\n",
    "\n",
    "model = AutoModelForSeq2SeqLM.from_pretrained('hyunjongkimmath/notation_naming_model')\n",
    "tokenizer = AutoTokenizer.from_pretrained('hyunjongkimmath/notation_naming_model')\n",
    "notation_naming_pipeline = pipeline('summarization', model=model, tokenizer=tokenizer)\n",
    "\n",
    "# Load the model the summarizes what notations denote\n",
    "model = AutoModelForSeq2SeqLM.from_pretrained('hyunjongkimmath/notation_summarizations_model')\n",
    "tokenizer = AutoTokenizer.from_pretrained('hyunjongkimmath/notation_summarizations_model')\n",
    "summarizer = pipeline('summarization', model=model, tokenizer=tokenizer)\n",
    "\n"
   ]
  },
  {
   "cell_type": "markdown",
   "metadata": {},
   "source": [
    "<p style=\"text-align:center;\"><img src=\"/images/tutorial_walkthrough_39_models_loaded_in_jupyter.png\" alt=\"The models are now loaded in a Jupyter notebook.\" width=\"400\" class=\"center\"/> </p>"
   ]
  },
  {
   "cell_type": "markdown",
   "metadata": {},
   "source": [
    "Note that there are some `if-else` statements used to load the `fast.ai` models; this is a workaround implemented for Windows users as loading fast.ai models seems to have some issues with Python's `pathlib`, cf. [https://stackoverflow.com/questions/57286486/i-cant-load-my-model-because-i-cant-put-a-posixpath](https://stackoverflow.com/questions/57286486/i-cant-load-my-model-because-i-cant-put-a-posixpath).\n",
    "\n",
    "After running this code, we have the Python variables `information_note_type_model`, `def_notat_classifier`, `definition_naming_pipeline`, `notation_naming_pipeline`, and `summarizer`. Note that `information_note_type_model` is a `fast.ai` model while the others are all technically not models, but rather [pipelines](https://huggingface.co/docs/transformers/main_classes/pipelines) of the `transformers` library that contain models."
   ]
  },
  {
   "cell_type": "markdown",
   "metadata": {},
   "source": [
    "To use the models, first run the following import statements:"
   ]
  },
  {
   "cell_type": "code",
   "execution_count": null,
   "metadata": {},
   "outputs": [],
   "source": [
    "\n",
    "import warnings\n",
    "\n",
    "from trouver.markdown.markdown.file import MarkdownFile\n",
    "from trouver.markdown.obsidian.vault import VaultNote\n",
    "from trouver.markdown.obsidian.personal.notes import notes_linked_in_notes_linked_in_note, notes_linked_in_note\n",
    "from trouver.markdown.obsidian.personal.notation import make_notation_notes_from_double_asts, make_notation_notes_from_HTML_tags\n",
    "from trouver.markdown.obsidian.personal.notation.in_standard_information_note import notation_notes_linked_in_see_also_section\n",
    "\n"
   ]
  },
  {
   "cell_type": "markdown",
   "metadata": {},
   "source": [
    "#### Categorizing the type(s) of standard information notes\n"
   ]
  },
  {
   "cell_type": "markdown",
   "metadata": {},
   "source": [
    "Run the following code to 1. use the `information_note_type_model` to predict the types of each standard information note in the newly created reference folder, and 2. record these predictions to the standard information notes' respective frontmatter YAML metadata. Running the following code should take several minutes.\n"
   ]
  },
  {
   "cell_type": "code",
   "execution_count": null,
   "metadata": {},
   "outputs": [
    {
     "name": "stdout",
     "output_type": "stream",
     "text": [
      "Tagging notes\n"
     ]
    },
    {
     "name": "stderr",
     "output_type": "stream",
     "text": [
      "c:\\Users\\hyunj\\Documents\\Development\\Python\\trouver_py310_venv\\lib\\site-packages\\bs4\\__init__.py:435: MarkupResemblesLocatorWarning: The input looks more like a filename than markup. You may want to open this file and pass the filehandle into Beautiful Soup.\n",
      "  warnings.warn(\n"
     ]
    }
   ],
   "source": [
    "#| notest\n",
    "# Change `vault` and `reference` if necessary. These variables were defined in previous code.\n",
    "# vault = Path(r'C:\\Users\\<user>\\...')  # The path to the Obsidian vault\n",
    "# `reference` = 'kim_park_ga1dcmmc`\n",
    "index_note = VaultNote(vault, name=f'_index_{reference}')\n",
    "notes = notes_linked_in_notes_linked_in_note(index_note, as_dict=False)\n",
    "\n",
    "for note in notes:\n",
    "    if not note.exists():\n",
    "        raise Exception(note.name)\n",
    "\n",
    "print(\"Tagging notes\")\n",
    "automatically_add_note_type_tags(information_note_type_model, vault, notes)"
   ]
  },
  {
   "cell_type": "markdown",
   "metadata": {},
   "source": [
    "Let us first describe in more detail what the above code does. The first line\n",
    "\n",
    "```python\n",
    "index_note = VaultNote(vault, name=f'_index_{reference}')\n",
    "```\n",
    "\n",
    "creates a `VaultNote` object from the `trouver.markdown.obsidian.vault` module, which represents a note in an Obsidian vault. The note/file that a `VaultNote` object represents does not have to exist, although runtime errors may be raised on certain operations, such as reading or writing a file, that require an existing file. In the above line of code, we pass `vault` as an argument, signifying that the `VaultNote` object should represent a note from the specified Obsidian vault (as opposed to a file in any directory outside of `vault`). We also pass the Python string `f'_index_{reference}'` as the argument to the `name` parameter --- in this case the string equals the string `'_index_kim_park_ga1dcmmc'` --- signifying that the `VaultNote` object should represent the note named `_index_kim_park_ga1dcmmc` (recall that `trouver` operates under the assumption that no two notes in an Obsidian vault have the same name). \n",
    "\n",
    "Furthermore, the `VaultNote` class has a cache which is supposed to keep track of all the `.md` files in an Obsidian vault. Creating or deleting files by not using methods from the `VaultNote` class may make the information stored in this cache obsolete. The `VaultNote` class will try to re-scan files in the vault to update its cache, but sometimes (for reasons that are not yet well documented) the user may need to manually clear the cache via the `VaultNote.clear_cache` class method:\n",
    "\n",
    "```python\n",
    "VaultNote.clear_cache()\n",
    "```\n",
    "\n",
    "Depending on the size of the vault and the specs of the computer running `trouver`, scanning the files in a vault may take several seconds or more. \n",
    "\n",
    "The second line of code creates a list of `VaultNote` objects and stores the list in the variable `notes`:\n",
    "\n",
    "```python\n",
    "notes = notes_linked_in_notes_linked_in_note(index_note, as_dict=False)\n",
    "```\n",
    "\n",
    "The `notes_linked_in_notes_linked_in_note` function is implemented specifically for index notes which keep track of index notes, which in turn keep track of standard information notes, via links; recall that the note `_index_kim_park_ga1dcmmc` is such an index note: \n",
    "\n",
    "<p style=\"text-align:center;\"><img src=\"/images/tutorial_walkthrough_34_index_file_for_section.png\" alt=\"The note `_index_kim_park_ga1dcmmc` is an index note that itself keeps track of index notes\" width=\"400\" class=\"center\"/> </p>\n",
    "\n",
    "\n",
    "The code\n",
    "\n",
    "```python\n",
    "for note in notes:\n",
    "    if not note.exists():\n",
    "        raise Exception(note.name)\n",
    "```\n",
    "\n",
    "checks that the standard information notes listed in `notes` actually exist (more accurately, the code checks that the links in the notes linked in the note `_index_kim_park_ga1dcmmc` point to notes that actually exist). Finally,\n",
    "\n",
    "```python\n",
    "automatically_add_note_type_tags(information_note_type_model, vault, notes)\n",
    "```\n",
    "\n",
    "uses the model to make predictions and record those predictions to the frontmatter YAML metadata of the notes.\n",
    "\n",
    "The following is a comparison of a note before and after these predictions are made and recorded (note that the note is viewed in Edit mode as opposed to Viewing mode):\n",
    "\n",
    "<p style=\"text-align:center;\"><img src=\"/images/tutorial_walkthrough_40_note_before_note_type_tag_categorization.png\" alt=\"A note before the predictions are made\" width=\"400\" class=\"center\"/> </p>\n",
    "\n",
    "<p style=\"text-align:center;\"><img src=\"/images/tutorial_walkthrough_41_note_after_note_type_tag_categorization.png\" alt=\"A note before the predictions are made\" width=\"400\" class=\"center\"/> </p>\n",
    "\n",
    "Before the predictions, the note only has the `_reference/kim_park_ga1dcmmc` and `_meta/literature_note` tags in the tags section of its YAML frontmatter metadata. After the predictions, the `_auto/_meta/narrative` tag is added. \n",
    "\n",
    "The `_auto` prefix is used to signify that the tag is added automatically with the model. The `_meta/narrative` tag signifies that the content of the note contains a \"narrative\"; in this example, the note gives an overview of $\\mathbb{A}^1$-enumerative geometry, so it is fitting to consider it is \"narrative\". Some tags that the model will predict for include\n",
    "\n",
    "- `_meta/definition`\n",
    "- `_meta/notation`\n",
    "- `_meta/concept`\n",
    "- `_meta/proof`\n",
    "- `_meta/narrative`\n",
    "- `_meta/exercise`\n",
    "- `_meta/remark`\n",
    "- `_meta/example`\n",
    "\n",
    "See the documentation for [`markdown.obsidian.personal.machine_learning.information_note_types`](markdown.obsidian.personal.machine_learning.information_note_types.html) for more details.\n",
    "\n",
    "We recommend manually editing these tags in your standard information notes as follows (if you have the time and inclination):\n",
    "\n",
    "- remove the `_auto` prefix to confirm the model's prediction if the model makes a correct prediction.\n",
    "- delete the tag altogether if the model's prediction is incorrect.\n",
    "- add tags that the model incorrectly did not predict.\n",
    "\n",
    "At the very least, we recommend making these edits for the `_meta/definition` and `_meta/notation` tags, which signify that a standard information note introduces at least one definition and at least one notation respectively.\n",
    "\n",
    "For example, upon recognizing that the model correctly predicted the standard information note to contain a narrative, we delete the `_auto` prefix from the `_auto/_meta/narrative` tag:\n",
    "\n",
    "\n",
    "<p style=\"text-align:center;\"><img src=\"/images/tutorial_walkthrough_42_note_after_deleting_auto_prefix_from_tag.png\" alt=\"A note before the predictions are made\" width=\"400\" class=\"center\"/> </p>\n"
   ]
  },
  {
   "cell_type": "markdown",
   "metadata": {},
   "source": [
    "#### Locating definitions and notations introduced in standard information notes"
   ]
  },
  {
   "cell_type": "markdown",
   "metadata": {},
   "source": [
    "Next, we use the `def_notat_classifier` to locate notations introduced in the standard information notes and record these locations in the notes. Run the following code, which may take several to a few dozen minutes:\n"
   ]
  },
  {
   "cell_type": "code",
   "execution_count": null,
   "metadata": {},
   "outputs": [
    {
     "name": "stdout",
     "output_type": "stream",
     "text": [
      "Finding notations\n"
     ]
    },
    {
     "name": "stderr",
     "output_type": "stream",
     "text": [
      "Token indices sequence length is longer than the specified maximum sequence length for this model (514 > 512). Running this sequence through the model will result in indexing errors\n"
     ]
    }
   ],
   "source": [
    "#| notest\n",
    "\n",
    "warnings.filterwarnings(\"ignore\")\n",
    "\n",
    "index_note = VaultNote(vault, name=f'_index_{reference}')\n",
    "notes = notes_linked_in_notes_linked_in_note(index_note, as_dict=False)\n",
    "\n",
    "for note in notes:\n",
    "    assert note.exists()\n",
    "\n",
    "print(\"Finding notations\")\n",
    "note_mfs = [MarkdownFile.from_vault_note(note) for note in notes]\n",
    "notation_notes = [\n",
    "    note for note, mf in zip(notes, note_mfs)\n",
    "    if mf.has_tag('_auto/_meta/definition') or mf.has_tag('_auto/_meta/notation')\n",
    "       or mf.has_tag('_meta/definition') or mf.has_tag('_meta/notation')]\n",
    "for note in notation_notes:\n",
    "    auto_mark_def_and_notats(note, def_notat_classifier, excessive_space_threshold=2)\n",
    "    # automatically_mark_notations(note, notation_identification_model, reference_name=reference)\n"
   ]
  },
  {
   "cell_type": "markdown",
   "metadata": {},
   "source": [
    "Again, `notes` is a list of all standard information notes in the reference folder. The line\n",
    "\n",
    "```python\n",
    "note_mfs = [MarkdownFile.from_vault_note(note) for note in notes]\n",
    "```\n",
    "\n",
    "Creates a list of `MarkdownFile` objects of the `trouver.markdown.markdown.file` module. A `MarkdownFile` object represents the contents of an Obsidian Markdown file (as opposed to a file itself). In particular, a `MarkdownFile` object can be created from a `VaultNote` object (via the `MarkdownFile.from_vault_note` factory method) or from a Python string (via the `MarkdownFile.from_string` factory method). In particular, `note_mfs` is a list of `MarkdownFile` objects created from the contents of `notes`.\n",
    "\n",
    "The line \n",
    "\n",
    "```python\n",
    "notation_notes = [note for note, mf in zip(notes, note_mfs) if mf.has_tag('_auto/_meta/definition') or mf.has_tag('_auto/_meta/notation') or mf.has_tag('_meta/definition') or mf.has_tag('_meta/notation')]\n",
    "```\n",
    "\n",
    "then creates `notation_notes` as a sublist of `notes` consisting only of the notes with at least one of the following tags in their frontmatter YAML metadata:\n",
    "\n",
    "- `_auto/_meta/definition`\n",
    "- `_auto/_meta/notation`\n",
    "- `_meta/definition`\n",
    "- `_meta/notation`\n",
    "\n",
    "The code\n",
    "\n",
    "```python\n",
    "for note in notation_notes:\n",
    "    auto_mark_def_and_notats(note, def_notat_classifier, excessive_space_threshold=2)\n",
    "```\n",
    "\n",
    "Then iterates through `notation_notes`, using `def_notat_classifier` to locate notations introduced ***only*** in the notes in `notation_notes`. We recommend using the above code to use the model to locate notations in the notes in `notation_notes` because the model works better in notes that are deemed likely to contain definitions or notations.\n",
    "\n",
    "The following is an example of a comparison of a note before and after notations are located (for the current version of `trouver`, the note named `kim_park_ga1dcmmc_29` should suffice as an example):\n",
    "\n",
    "TODO: update images to reflect current implementation of the def/notat marking\n",
    "\n",
    "<p style=\"text-align:center;\"><img src=\"/images/tutorial_walkthrough_44_note_before_notations_identifed.png\" alt=\"A note after notations are identified\" width=\"400\" class=\"center\"/> </p>\n",
    "\n",
    "<p style=\"text-align:center;\"><img src=\"/images/tutorial_walkthrough_45_note_after_notations_identifed.png\" alt=\"A note after notations are identified\" width=\"400\" class=\"center\"/> </p>\n",
    "\n",
    "Note that the difference is that html tags surround parts of the text that the model predicts to introduce definitions or notations. \n",
    "\n",
    "1. For definitions, the HTML tags are `<b>` tags and have a `definition=\"\"` attribute.\n",
    "2. For notations, the HTML tags are `<span>` tags and have a `notation=\"\"` attribute. Such HTML tags for notations only surround LaTeX math mode str's.\n",
    "3. For either, the HTML tags have some formatting specifications that draw boxes around the definitions/notations to make them easier to see in Obsidian.ms's view mode.\n"
   ]
  },
  {
   "cell_type": "markdown",
   "metadata": {},
   "source": [
    "An `_auto/def_and_notat_identified` tag is added to the notes if the model finds definitions and/or notations. \n",
    "\n",
    "We highly recommend the user to manually make the following edits to correct `def_notat_classifier`'s mistakes:\n",
    "\n",
    "1. Edit/remove the HTML tags as needed \n",
    "2. Add HTML tags to mark definitions/notations introduced in the text as needed.\n",
    "\n",
    "<!---\n",
    "> **Warning**\n",
    "> The `auto_mark_def_and_notats` function not only adds double asterisks `**` to LaTeX math mode strings, but also removes components such as links and footnotes from the text of the note. It is recommended to only apply this function to notes whose text has not been embellished with such components[^7].\n",
    "> Moreover, the `automatically_mark_notations` is currently buggy and should not be applied to the same note twice.\n",
    "\n",
    "[^7]: More precisely, `automatically_mark_notations` first applies `process_standard_information_note` to a `MarkdownFile` object constructed from the `VaultNote` object to roughly obtain the \"raw text\" of the note, uses that raw text to locate notations, marks the notations in the raw text, and then replaces the text from the note with the raw text with notations marked. In the process of obtaining the \"raw text\", the `process_standard_information_note` function removes components such as links and footnotes from the text.\n",
    "\n",
    "-->\n"
   ]
  },
  {
   "cell_type": "markdown",
   "metadata": {},
   "source": [
    "#### Naming marked definitions and notations"
   ]
  },
  {
   "cell_type": "markdown",
   "metadata": {},
   "source": [
    "After the definitions and notations are marked, we can then attempt to \"name\" them. See also [index](index.html#descriptions-of-functionalities) for a description of what this means.\n",
    "\n",
    "Depending on the length and number of notes, this may take at least several or dozens of minutes."
   ]
  },
  {
   "cell_type": "code",
   "execution_count": null,
   "metadata": {},
   "outputs": [
    {
     "name": "stderr",
     "output_type": "stream",
     "text": [
      "Your max_length is set to 200, but your input_length is only 116. Since this is a summarization task, where outputs shorter than the input are typically wanted, you might consider decreasing max_length manually, e.g. summarizer('...', max_length=58)\n",
      "Your max_length is set to 200, but your input_length is only 126. Since this is a summarization task, where outputs shorter than the input are typically wanted, you might consider decreasing max_length manually, e.g. summarizer('...', max_length=63)\n",
      "Your max_length is set to 200, but your input_length is only 164. Since this is a summarization task, where outputs shorter than the input are typically wanted, you might consider decreasing max_length manually, e.g. summarizer('...', max_length=82)\n",
      "Your max_length is set to 200, but your input_length is only 85. Since this is a summarization task, where outputs shorter than the input are typically wanted, you might consider decreasing max_length manually, e.g. summarizer('...', max_length=42)\n",
      "Your max_length is set to 200, but your input_length is only 188. Since this is a summarization task, where outputs shorter than the input are typically wanted, you might consider decreasing max_length manually, e.g. summarizer('...', max_length=94)\n",
      "Your max_length is set to 200, but your input_length is only 188. Since this is a summarization task, where outputs shorter than the input are typically wanted, you might consider decreasing max_length manually, e.g. summarizer('...', max_length=94)\n",
      "Your max_length is set to 200, but your input_length is only 58. Since this is a summarization task, where outputs shorter than the input are typically wanted, you might consider decreasing max_length manually, e.g. summarizer('...', max_length=29)\n"
     ]
    },
    {
     "ename": "KeyboardInterrupt",
     "evalue": "",
     "output_type": "error",
     "traceback": [
      "\u001b[1;31m---------------------------------------------------------------------------\u001b[0m",
      "\u001b[1;31mKeyboardInterrupt\u001b[0m                         Traceback (most recent call last)",
      "Cell \u001b[1;32mIn [17], line 8\u001b[0m\n\u001b[0;32m      6\u001b[0m \u001b[38;5;28;01mtry\u001b[39;00m:\n\u001b[0;32m      7\u001b[0m     mf \u001b[38;5;241m=\u001b[39m MarkdownFile\u001b[38;5;241m.\u001b[39mfrom_vault_note(note)\n\u001b[1;32m----> 8\u001b[0m     \u001b[43madd_names_to_html_tags_in_info_note\u001b[49m\u001b[43m(\u001b[49m\n\u001b[0;32m      9\u001b[0m \u001b[43m        \u001b[49m\u001b[43mnote\u001b[49m\u001b[43m,\u001b[49m\u001b[43m \u001b[49m\u001b[43mdef_pipeline\u001b[49m\u001b[38;5;241;43m=\u001b[39;49m\u001b[43mdefinition_naming_pipeline\u001b[49m\u001b[43m,\u001b[49m\n\u001b[0;32m     10\u001b[0m \u001b[43m        \u001b[49m\u001b[43mnotat_pipeline\u001b[49m\u001b[38;5;241;43m=\u001b[39;49m\u001b[43mnotation_naming_pipeline\u001b[49m\u001b[43m,\u001b[49m\u001b[43m \u001b[49m\u001b[43moverwrite\u001b[49m\u001b[38;5;241;43m=\u001b[39;49m\u001b[38;5;28;43;01mFalse\u001b[39;49;00m\u001b[43m)\u001b[49m \n\u001b[0;32m     11\u001b[0m \u001b[38;5;28;01mexcept\u001b[39;00m \u001b[38;5;167;01mException\u001b[39;00m \u001b[38;5;28;01mas\u001b[39;00m e:\n\u001b[0;32m     12\u001b[0m     \u001b[38;5;28mprint\u001b[39m(\u001b[38;5;124mf\u001b[39m\u001b[38;5;124m'\u001b[39m\u001b[38;5;132;01m{\u001b[39;00mnote\u001b[38;5;241m.\u001b[39mname\u001b[38;5;132;01m}\u001b[39;00m\u001b[38;5;124m raised an exception\u001b[39m\u001b[38;5;124m'\u001b[39m)\n",
      "File \u001b[1;32mc:\\users\\hyunj\\documents\\development\\python\\trouver\\trouver\\markdown\\obsidian\\personal\\machine_learning\\definition_and_notation_naming.py:159\u001b[0m, in \u001b[0;36madd_names_to_html_tags_in_info_note\u001b[1;34m(info_note, def_and_notat_pipeline, def_pipeline, notat_pipeline, overwrite, fix_formatting, correct_syntax)\u001b[0m\n\u001b[0;32m    156\u001b[0m raw_info_note_text \u001b[38;5;241m=\u001b[39m info_note\u001b[38;5;241m.\u001b[39mtext()\n\u001b[0;32m    157\u001b[0m raw_info_note_text_minus_html_tags, tags_and_locats \u001b[38;5;241m=\u001b[39m remove_html_tags_in_text(\n\u001b[0;32m    158\u001b[0m     raw_info_note_text)\n\u001b[1;32m--> 159\u001b[0m predicted_names \u001b[38;5;241m=\u001b[39m \u001b[43mpredict_names\u001b[49m\u001b[43m(\u001b[49m\n\u001b[0;32m    160\u001b[0m \u001b[43m    \u001b[49m\u001b[43minfo_note\u001b[49m\u001b[43m,\u001b[49m\u001b[43m \u001b[49m\u001b[43mdef_and_notat_pipeline\u001b[49m\u001b[43m,\u001b[49m\u001b[43m \u001b[49m\u001b[43mdef_pipeline\u001b[49m\u001b[43m,\u001b[49m\n\u001b[0;32m    161\u001b[0m \u001b[43m    \u001b[49m\u001b[43mnotat_pipeline\u001b[49m\u001b[43m)\u001b[49m\n\u001b[0;32m    163\u001b[0m \u001b[38;5;66;03m# If somehow a different number of HTML tags were found\u001b[39;00m\n\u001b[0;32m    164\u001b[0m \u001b[38;5;28;01mif\u001b[39;00m \u001b[38;5;28mlen\u001b[39m(predicted_names) \u001b[38;5;241m!=\u001b[39m \u001b[38;5;28mlen\u001b[39m(tags_and_locats):\n\u001b[0;32m    165\u001b[0m     \u001b[38;5;66;03m# TODO: do warning\u001b[39;00m\n",
      "File \u001b[1;32mc:\\users\\hyunj\\documents\\development\\python\\trouver\\trouver\\markdown\\obsidian\\personal\\machine_learning\\definition_and_notation_naming.py:111\u001b[0m, in \u001b[0;36mpredict_names\u001b[1;34m(info_note, def_and_notat_pipeline, def_pipeline, notat_pipeline)\u001b[0m\n\u001b[0;32m    107\u001b[0m     \u001b[38;5;28;01mraise\u001b[39;00m \u001b[38;5;167;01mValueError\u001b[39;00m(\n\u001b[0;32m    108\u001b[0m         \u001b[38;5;124m\"\u001b[39m\u001b[38;5;124mExpected `def_and_notat_pipeline` to be specified or \u001b[39m\u001b[38;5;124m\"\u001b[39m\n\u001b[0;32m    109\u001b[0m         \u001b[38;5;124m\"\u001b[39m\u001b[38;5;124mboth `def_pipeline` and `notat_pipeline` to be specified.\u001b[39m\u001b[38;5;124m\"\u001b[39m)\n\u001b[0;32m    110\u001b[0m data_points \u001b[38;5;241m=\u001b[39m data_from_information_note(info_note)\n\u001b[1;32m--> 111\u001b[0m \u001b[38;5;28;01mreturn\u001b[39;00m [_name_prediction_for_data_point(\n\u001b[0;32m    112\u001b[0m     data_point, def_and_notat_pipeline, def_pipeline, notat_pipeline)\n\u001b[0;32m    113\u001b[0m     \u001b[38;5;28;01mfor\u001b[39;00m data_point \u001b[38;5;129;01min\u001b[39;00m data_points]\n",
      "File \u001b[1;32mc:\\users\\hyunj\\documents\\development\\python\\trouver\\trouver\\markdown\\obsidian\\personal\\machine_learning\\definition_and_notation_naming.py:111\u001b[0m, in \u001b[0;36m<listcomp>\u001b[1;34m(.0)\u001b[0m\n\u001b[0;32m    107\u001b[0m     \u001b[38;5;28;01mraise\u001b[39;00m \u001b[38;5;167;01mValueError\u001b[39;00m(\n\u001b[0;32m    108\u001b[0m         \u001b[38;5;124m\"\u001b[39m\u001b[38;5;124mExpected `def_and_notat_pipeline` to be specified or \u001b[39m\u001b[38;5;124m\"\u001b[39m\n\u001b[0;32m    109\u001b[0m         \u001b[38;5;124m\"\u001b[39m\u001b[38;5;124mboth `def_pipeline` and `notat_pipeline` to be specified.\u001b[39m\u001b[38;5;124m\"\u001b[39m)\n\u001b[0;32m    110\u001b[0m data_points \u001b[38;5;241m=\u001b[39m data_from_information_note(info_note)\n\u001b[1;32m--> 111\u001b[0m \u001b[38;5;28;01mreturn\u001b[39;00m [\u001b[43m_name_prediction_for_data_point\u001b[49m\u001b[43m(\u001b[49m\n\u001b[0;32m    112\u001b[0m \u001b[43m    \u001b[49m\u001b[43mdata_point\u001b[49m\u001b[43m,\u001b[49m\u001b[43m \u001b[49m\u001b[43mdef_and_notat_pipeline\u001b[49m\u001b[43m,\u001b[49m\u001b[43m \u001b[49m\u001b[43mdef_pipeline\u001b[49m\u001b[43m,\u001b[49m\u001b[43m \u001b[49m\u001b[43mnotat_pipeline\u001b[49m\u001b[43m)\u001b[49m\n\u001b[0;32m    113\u001b[0m     \u001b[38;5;28;01mfor\u001b[39;00m data_point \u001b[38;5;129;01min\u001b[39;00m data_points]\n",
      "File \u001b[1;32mc:\\users\\hyunj\\documents\\development\\python\\trouver\\trouver\\markdown\\obsidian\\personal\\machine_learning\\definition_and_notation_naming.py:129\u001b[0m, in \u001b[0;36m_name_prediction_for_data_point\u001b[1;34m(data_point, def_and_notat_pipeline, def_pipeline, notat_pipeline)\u001b[0m\n\u001b[0;32m    127\u001b[0m \u001b[38;5;28;01melse\u001b[39;00m:\n\u001b[0;32m    128\u001b[0m     summarizer \u001b[38;5;241m=\u001b[39m notat_pipeline\n\u001b[1;32m--> 129\u001b[0m     summarizer_output \u001b[38;5;241m=\u001b[39m \u001b[43msummarizer\u001b[49m\u001b[43m(\u001b[49m\u001b[43mdata_point\u001b[49m\u001b[43m[\u001b[49m\u001b[38;5;124;43m'\u001b[39;49m\u001b[38;5;124;43mtext\u001b[39;49m\u001b[38;5;124;43m'\u001b[39;49m\u001b[43m]\u001b[49m\u001b[43m,\u001b[49m\u001b[43m \u001b[49m\u001b[43mmax_length\u001b[49m\u001b[38;5;241;43m=\u001b[39;49m\u001b[38;5;241;43m20\u001b[39;49m\u001b[43m,\u001b[49m\u001b[43m \u001b[49m\u001b[43mmin_length\u001b[49m\u001b[38;5;241;43m=\u001b[39;49m\u001b[38;5;241;43m0\u001b[39;49m\u001b[43m)\u001b[49m\n\u001b[0;32m    130\u001b[0m \u001b[38;5;28;01mreturn\u001b[39;00m summarizer_output[\u001b[38;5;241m0\u001b[39m][\u001b[38;5;124m'\u001b[39m\u001b[38;5;124msummary_text\u001b[39m\u001b[38;5;124m'\u001b[39m]\n",
      "File \u001b[1;32mc:\\Users\\hyunj\\Documents\\Development\\Python\\trouver_py310_venv\\lib\\site-packages\\transformers\\pipelines\\text2text_generation.py:269\u001b[0m, in \u001b[0;36mSummarizationPipeline.__call__\u001b[1;34m(self, *args, **kwargs)\u001b[0m\n\u001b[0;32m    245\u001b[0m \u001b[38;5;28;01mdef\u001b[39;00m \u001b[38;5;21m__call__\u001b[39m(\u001b[38;5;28mself\u001b[39m, \u001b[38;5;241m*\u001b[39margs, \u001b[38;5;241m*\u001b[39m\u001b[38;5;241m*\u001b[39mkwargs):\n\u001b[0;32m    246\u001b[0m     \u001b[38;5;124mr\u001b[39m\u001b[38;5;124;03m\"\"\"\u001b[39;00m\n\u001b[0;32m    247\u001b[0m \u001b[38;5;124;03m    Summarize the text(s) given as inputs.\u001b[39;00m\n\u001b[0;32m    248\u001b[0m \n\u001b[1;32m   (...)\u001b[0m\n\u001b[0;32m    267\u001b[0m \u001b[38;5;124;03m          ids of the summary.\u001b[39;00m\n\u001b[0;32m    268\u001b[0m \u001b[38;5;124;03m    \"\"\"\u001b[39;00m\n\u001b[1;32m--> 269\u001b[0m     \u001b[38;5;28;01mreturn\u001b[39;00m \u001b[38;5;28msuper\u001b[39m()\u001b[38;5;241m.\u001b[39m\u001b[38;5;21m__call__\u001b[39m(\u001b[38;5;241m*\u001b[39margs, \u001b[38;5;241m*\u001b[39m\u001b[38;5;241m*\u001b[39mkwargs)\n",
      "File \u001b[1;32mc:\\Users\\hyunj\\Documents\\Development\\Python\\trouver_py310_venv\\lib\\site-packages\\transformers\\pipelines\\text2text_generation.py:167\u001b[0m, in \u001b[0;36mText2TextGenerationPipeline.__call__\u001b[1;34m(self, *args, **kwargs)\u001b[0m\n\u001b[0;32m    138\u001b[0m \u001b[38;5;28;01mdef\u001b[39;00m \u001b[38;5;21m__call__\u001b[39m(\u001b[38;5;28mself\u001b[39m, \u001b[38;5;241m*\u001b[39margs, \u001b[38;5;241m*\u001b[39m\u001b[38;5;241m*\u001b[39mkwargs):\n\u001b[0;32m    139\u001b[0m     \u001b[38;5;124mr\u001b[39m\u001b[38;5;124;03m\"\"\"\u001b[39;00m\n\u001b[0;32m    140\u001b[0m \u001b[38;5;124;03m    Generate the output text(s) using text(s) given as inputs.\u001b[39;00m\n\u001b[0;32m    141\u001b[0m \n\u001b[1;32m   (...)\u001b[0m\n\u001b[0;32m    164\u001b[0m \u001b[38;5;124;03m          ids of the generated text.\u001b[39;00m\n\u001b[0;32m    165\u001b[0m \u001b[38;5;124;03m    \"\"\"\u001b[39;00m\n\u001b[1;32m--> 167\u001b[0m     result \u001b[38;5;241m=\u001b[39m \u001b[38;5;28msuper\u001b[39m()\u001b[38;5;241m.\u001b[39m\u001b[38;5;21m__call__\u001b[39m(\u001b[38;5;241m*\u001b[39margs, \u001b[38;5;241m*\u001b[39m\u001b[38;5;241m*\u001b[39mkwargs)\n\u001b[0;32m    168\u001b[0m     \u001b[38;5;28;01mif\u001b[39;00m (\n\u001b[0;32m    169\u001b[0m         \u001b[38;5;28misinstance\u001b[39m(args[\u001b[38;5;241m0\u001b[39m], \u001b[38;5;28mlist\u001b[39m)\n\u001b[0;32m    170\u001b[0m         \u001b[38;5;129;01mand\u001b[39;00m \u001b[38;5;28mall\u001b[39m(\u001b[38;5;28misinstance\u001b[39m(el, \u001b[38;5;28mstr\u001b[39m) \u001b[38;5;28;01mfor\u001b[39;00m el \u001b[38;5;129;01min\u001b[39;00m args[\u001b[38;5;241m0\u001b[39m])\n\u001b[0;32m    171\u001b[0m         \u001b[38;5;129;01mand\u001b[39;00m \u001b[38;5;28mall\u001b[39m(\u001b[38;5;28mlen\u001b[39m(res) \u001b[38;5;241m==\u001b[39m \u001b[38;5;241m1\u001b[39m \u001b[38;5;28;01mfor\u001b[39;00m res \u001b[38;5;129;01min\u001b[39;00m result)\n\u001b[0;32m    172\u001b[0m     ):\n\u001b[0;32m    173\u001b[0m         \u001b[38;5;28;01mreturn\u001b[39;00m [res[\u001b[38;5;241m0\u001b[39m] \u001b[38;5;28;01mfor\u001b[39;00m res \u001b[38;5;129;01min\u001b[39;00m result]\n",
      "File \u001b[1;32mc:\\Users\\hyunj\\Documents\\Development\\Python\\trouver_py310_venv\\lib\\site-packages\\transformers\\pipelines\\base.py:1257\u001b[0m, in \u001b[0;36mPipeline.__call__\u001b[1;34m(self, inputs, num_workers, batch_size, *args, **kwargs)\u001b[0m\n\u001b[0;32m   1249\u001b[0m     \u001b[38;5;28;01mreturn\u001b[39;00m \u001b[38;5;28mnext\u001b[39m(\n\u001b[0;32m   1250\u001b[0m         \u001b[38;5;28miter\u001b[39m(\n\u001b[0;32m   1251\u001b[0m             \u001b[38;5;28mself\u001b[39m\u001b[38;5;241m.\u001b[39mget_iterator(\n\u001b[1;32m   (...)\u001b[0m\n\u001b[0;32m   1254\u001b[0m         )\n\u001b[0;32m   1255\u001b[0m     )\n\u001b[0;32m   1256\u001b[0m \u001b[38;5;28;01melse\u001b[39;00m:\n\u001b[1;32m-> 1257\u001b[0m     \u001b[38;5;28;01mreturn\u001b[39;00m \u001b[38;5;28;43mself\u001b[39;49m\u001b[38;5;241;43m.\u001b[39;49m\u001b[43mrun_single\u001b[49m\u001b[43m(\u001b[49m\u001b[43minputs\u001b[49m\u001b[43m,\u001b[49m\u001b[43m \u001b[49m\u001b[43mpreprocess_params\u001b[49m\u001b[43m,\u001b[49m\u001b[43m \u001b[49m\u001b[43mforward_params\u001b[49m\u001b[43m,\u001b[49m\u001b[43m \u001b[49m\u001b[43mpostprocess_params\u001b[49m\u001b[43m)\u001b[49m\n",
      "File \u001b[1;32mc:\\Users\\hyunj\\Documents\\Development\\Python\\trouver_py310_venv\\lib\\site-packages\\transformers\\pipelines\\base.py:1264\u001b[0m, in \u001b[0;36mPipeline.run_single\u001b[1;34m(self, inputs, preprocess_params, forward_params, postprocess_params)\u001b[0m\n\u001b[0;32m   1262\u001b[0m \u001b[38;5;28;01mdef\u001b[39;00m \u001b[38;5;21mrun_single\u001b[39m(\u001b[38;5;28mself\u001b[39m, inputs, preprocess_params, forward_params, postprocess_params):\n\u001b[0;32m   1263\u001b[0m     model_inputs \u001b[38;5;241m=\u001b[39m \u001b[38;5;28mself\u001b[39m\u001b[38;5;241m.\u001b[39mpreprocess(inputs, \u001b[38;5;241m*\u001b[39m\u001b[38;5;241m*\u001b[39mpreprocess_params)\n\u001b[1;32m-> 1264\u001b[0m     model_outputs \u001b[38;5;241m=\u001b[39m \u001b[38;5;28mself\u001b[39m\u001b[38;5;241m.\u001b[39mforward(model_inputs, \u001b[38;5;241m*\u001b[39m\u001b[38;5;241m*\u001b[39mforward_params)\n\u001b[0;32m   1265\u001b[0m     outputs \u001b[38;5;241m=\u001b[39m \u001b[38;5;28mself\u001b[39m\u001b[38;5;241m.\u001b[39mpostprocess(model_outputs, \u001b[38;5;241m*\u001b[39m\u001b[38;5;241m*\u001b[39mpostprocess_params)\n\u001b[0;32m   1266\u001b[0m     \u001b[38;5;28;01mreturn\u001b[39;00m outputs\n",
      "File \u001b[1;32mc:\\Users\\hyunj\\Documents\\Development\\Python\\trouver_py310_venv\\lib\\site-packages\\transformers\\pipelines\\base.py:1164\u001b[0m, in \u001b[0;36mPipeline.forward\u001b[1;34m(self, model_inputs, **forward_params)\u001b[0m\n\u001b[0;32m   1162\u001b[0m     \u001b[38;5;28;01mwith\u001b[39;00m inference_context():\n\u001b[0;32m   1163\u001b[0m         model_inputs \u001b[38;5;241m=\u001b[39m \u001b[38;5;28mself\u001b[39m\u001b[38;5;241m.\u001b[39m_ensure_tensor_on_device(model_inputs, device\u001b[38;5;241m=\u001b[39m\u001b[38;5;28mself\u001b[39m\u001b[38;5;241m.\u001b[39mdevice)\n\u001b[1;32m-> 1164\u001b[0m         model_outputs \u001b[38;5;241m=\u001b[39m \u001b[38;5;28mself\u001b[39m\u001b[38;5;241m.\u001b[39m_forward(model_inputs, \u001b[38;5;241m*\u001b[39m\u001b[38;5;241m*\u001b[39mforward_params)\n\u001b[0;32m   1165\u001b[0m         model_outputs \u001b[38;5;241m=\u001b[39m \u001b[38;5;28mself\u001b[39m\u001b[38;5;241m.\u001b[39m_ensure_tensor_on_device(model_outputs, device\u001b[38;5;241m=\u001b[39mtorch\u001b[38;5;241m.\u001b[39mdevice(\u001b[38;5;124m\"\u001b[39m\u001b[38;5;124mcpu\u001b[39m\u001b[38;5;124m\"\u001b[39m))\n\u001b[0;32m   1166\u001b[0m \u001b[38;5;28;01melse\u001b[39;00m:\n",
      "File \u001b[1;32mc:\\Users\\hyunj\\Documents\\Development\\Python\\trouver_py310_venv\\lib\\site-packages\\transformers\\pipelines\\text2text_generation.py:191\u001b[0m, in \u001b[0;36mText2TextGenerationPipeline._forward\u001b[1;34m(self, model_inputs, **generate_kwargs)\u001b[0m\n\u001b[0;32m    184\u001b[0m     in_b, input_length \u001b[38;5;241m=\u001b[39m tf\u001b[38;5;241m.\u001b[39mshape(model_inputs[\u001b[38;5;124m\"\u001b[39m\u001b[38;5;124minput_ids\u001b[39m\u001b[38;5;124m\"\u001b[39m])\u001b[38;5;241m.\u001b[39mnumpy()\n\u001b[0;32m    186\u001b[0m \u001b[38;5;28mself\u001b[39m\u001b[38;5;241m.\u001b[39mcheck_inputs(\n\u001b[0;32m    187\u001b[0m     input_length,\n\u001b[0;32m    188\u001b[0m     generate_kwargs\u001b[38;5;241m.\u001b[39mget(\u001b[38;5;124m\"\u001b[39m\u001b[38;5;124mmin_length\u001b[39m\u001b[38;5;124m\"\u001b[39m, \u001b[38;5;28mself\u001b[39m\u001b[38;5;241m.\u001b[39mmodel\u001b[38;5;241m.\u001b[39mconfig\u001b[38;5;241m.\u001b[39mmin_length),\n\u001b[0;32m    189\u001b[0m     generate_kwargs\u001b[38;5;241m.\u001b[39mget(\u001b[38;5;124m\"\u001b[39m\u001b[38;5;124mmax_length\u001b[39m\u001b[38;5;124m\"\u001b[39m, \u001b[38;5;28mself\u001b[39m\u001b[38;5;241m.\u001b[39mmodel\u001b[38;5;241m.\u001b[39mconfig\u001b[38;5;241m.\u001b[39mmax_length),\n\u001b[0;32m    190\u001b[0m )\n\u001b[1;32m--> 191\u001b[0m output_ids \u001b[38;5;241m=\u001b[39m \u001b[38;5;28mself\u001b[39m\u001b[38;5;241m.\u001b[39mmodel\u001b[38;5;241m.\u001b[39mgenerate(\u001b[38;5;241m*\u001b[39m\u001b[38;5;241m*\u001b[39mmodel_inputs, \u001b[38;5;241m*\u001b[39m\u001b[38;5;241m*\u001b[39mgenerate_kwargs)\n\u001b[0;32m    192\u001b[0m out_b \u001b[38;5;241m=\u001b[39m output_ids\u001b[38;5;241m.\u001b[39mshape[\u001b[38;5;241m0\u001b[39m]\n\u001b[0;32m    193\u001b[0m \u001b[38;5;28;01mif\u001b[39;00m \u001b[38;5;28mself\u001b[39m\u001b[38;5;241m.\u001b[39mframework \u001b[38;5;241m==\u001b[39m \u001b[38;5;124m\"\u001b[39m\u001b[38;5;124mpt\u001b[39m\u001b[38;5;124m\"\u001b[39m:\n",
      "File \u001b[1;32mc:\\Users\\hyunj\\Documents\\Development\\Python\\trouver_py310_venv\\lib\\site-packages\\torch\\autograd\\grad_mode.py:27\u001b[0m, in \u001b[0;36m_DecoratorContextManager.__call__.<locals>.decorate_context\u001b[1;34m(*args, **kwargs)\u001b[0m\n\u001b[0;32m     24\u001b[0m \u001b[38;5;129m@functools\u001b[39m\u001b[38;5;241m.\u001b[39mwraps(func)\n\u001b[0;32m     25\u001b[0m \u001b[38;5;28;01mdef\u001b[39;00m \u001b[38;5;21mdecorate_context\u001b[39m(\u001b[38;5;241m*\u001b[39margs, \u001b[38;5;241m*\u001b[39m\u001b[38;5;241m*\u001b[39mkwargs):\n\u001b[0;32m     26\u001b[0m     \u001b[38;5;28;01mwith\u001b[39;00m \u001b[38;5;28mself\u001b[39m\u001b[38;5;241m.\u001b[39mclone():\n\u001b[1;32m---> 27\u001b[0m         \u001b[38;5;28;01mreturn\u001b[39;00m func(\u001b[38;5;241m*\u001b[39margs, \u001b[38;5;241m*\u001b[39m\u001b[38;5;241m*\u001b[39mkwargs)\n",
      "File \u001b[1;32mc:\\Users\\hyunj\\Documents\\Development\\Python\\trouver_py310_venv\\lib\\site-packages\\transformers\\generation\\utils.py:1745\u001b[0m, in \u001b[0;36mGenerationMixin.generate\u001b[1;34m(self, inputs, generation_config, logits_processor, stopping_criteria, prefix_allowed_tokens_fn, synced_gpus, assistant_model, streamer, negative_prompt_ids, negative_prompt_attention_mask, **kwargs)\u001b[0m\n\u001b[0;32m   1739\u001b[0m     model_kwargs[\u001b[38;5;124m\"\u001b[39m\u001b[38;5;124mattention_mask\u001b[39m\u001b[38;5;124m\"\u001b[39m] \u001b[38;5;241m=\u001b[39m \u001b[38;5;28mself\u001b[39m\u001b[38;5;241m.\u001b[39m_prepare_attention_mask_for_generation(\n\u001b[0;32m   1740\u001b[0m         inputs_tensor, generation_config\u001b[38;5;241m.\u001b[39m_pad_token_tensor, generation_config\u001b[38;5;241m.\u001b[39m_eos_token_tensor\n\u001b[0;32m   1741\u001b[0m     )\n\u001b[0;32m   1743\u001b[0m \u001b[38;5;28;01mif\u001b[39;00m \u001b[38;5;28mself\u001b[39m\u001b[38;5;241m.\u001b[39mconfig\u001b[38;5;241m.\u001b[39mis_encoder_decoder \u001b[38;5;129;01mand\u001b[39;00m \u001b[38;5;124m\"\u001b[39m\u001b[38;5;124mencoder_outputs\u001b[39m\u001b[38;5;124m\"\u001b[39m \u001b[38;5;129;01mnot\u001b[39;00m \u001b[38;5;129;01min\u001b[39;00m model_kwargs:\n\u001b[0;32m   1744\u001b[0m     \u001b[38;5;66;03m# if model is encoder decoder encoder_outputs are created and added to `model_kwargs`\u001b[39;00m\n\u001b[1;32m-> 1745\u001b[0m     model_kwargs \u001b[38;5;241m=\u001b[39m \u001b[38;5;28;43mself\u001b[39;49m\u001b[38;5;241;43m.\u001b[39;49m\u001b[43m_prepare_encoder_decoder_kwargs_for_generation\u001b[49m\u001b[43m(\u001b[49m\n\u001b[0;32m   1746\u001b[0m \u001b[43m        \u001b[49m\u001b[43minputs_tensor\u001b[49m\u001b[43m,\u001b[49m\u001b[43m \u001b[49m\u001b[43mmodel_kwargs\u001b[49m\u001b[43m,\u001b[49m\u001b[43m \u001b[49m\u001b[43mmodel_input_name\u001b[49m\u001b[43m,\u001b[49m\u001b[43m \u001b[49m\u001b[43mgeneration_config\u001b[49m\n\u001b[0;32m   1747\u001b[0m \u001b[43m    \u001b[49m\u001b[43m)\u001b[49m\n\u001b[0;32m   1749\u001b[0m \u001b[38;5;66;03m# 5. Prepare `input_ids` which will be used for auto-regressive generation\u001b[39;00m\n\u001b[0;32m   1750\u001b[0m \u001b[38;5;28;01mif\u001b[39;00m \u001b[38;5;28mself\u001b[39m\u001b[38;5;241m.\u001b[39mconfig\u001b[38;5;241m.\u001b[39mis_encoder_decoder:\n",
      "File \u001b[1;32mc:\\Users\\hyunj\\Documents\\Development\\Python\\trouver_py310_venv\\lib\\site-packages\\transformers\\generation\\utils.py:549\u001b[0m, in \u001b[0;36mGenerationMixin._prepare_encoder_decoder_kwargs_for_generation\u001b[1;34m(self, inputs_tensor, model_kwargs, model_input_name, generation_config)\u001b[0m\n\u001b[0;32m    547\u001b[0m encoder_kwargs[\u001b[38;5;124m\"\u001b[39m\u001b[38;5;124mreturn_dict\u001b[39m\u001b[38;5;124m\"\u001b[39m] \u001b[38;5;241m=\u001b[39m \u001b[38;5;28;01mTrue\u001b[39;00m\n\u001b[0;32m    548\u001b[0m encoder_kwargs[model_input_name] \u001b[38;5;241m=\u001b[39m inputs_tensor\n\u001b[1;32m--> 549\u001b[0m model_kwargs[\u001b[38;5;124m\"\u001b[39m\u001b[38;5;124mencoder_outputs\u001b[39m\u001b[38;5;124m\"\u001b[39m]: ModelOutput \u001b[38;5;241m=\u001b[39m encoder(\u001b[38;5;241m*\u001b[39m\u001b[38;5;241m*\u001b[39mencoder_kwargs)\n\u001b[0;32m    551\u001b[0m \u001b[38;5;28;01mreturn\u001b[39;00m model_kwargs\n",
      "File \u001b[1;32mc:\\Users\\hyunj\\Documents\\Development\\Python\\trouver_py310_venv\\lib\\site-packages\\torch\\nn\\modules\\module.py:1194\u001b[0m, in \u001b[0;36mModule._call_impl\u001b[1;34m(self, *input, **kwargs)\u001b[0m\n\u001b[0;32m   1190\u001b[0m \u001b[38;5;66;03m# If we don't have any hooks, we want to skip the rest of the logic in\u001b[39;00m\n\u001b[0;32m   1191\u001b[0m \u001b[38;5;66;03m# this function, and just call forward.\u001b[39;00m\n\u001b[0;32m   1192\u001b[0m \u001b[38;5;28;01mif\u001b[39;00m \u001b[38;5;129;01mnot\u001b[39;00m (\u001b[38;5;28mself\u001b[39m\u001b[38;5;241m.\u001b[39m_backward_hooks \u001b[38;5;129;01mor\u001b[39;00m \u001b[38;5;28mself\u001b[39m\u001b[38;5;241m.\u001b[39m_forward_hooks \u001b[38;5;129;01mor\u001b[39;00m \u001b[38;5;28mself\u001b[39m\u001b[38;5;241m.\u001b[39m_forward_pre_hooks \u001b[38;5;129;01mor\u001b[39;00m _global_backward_hooks\n\u001b[0;32m   1193\u001b[0m         \u001b[38;5;129;01mor\u001b[39;00m _global_forward_hooks \u001b[38;5;129;01mor\u001b[39;00m _global_forward_pre_hooks):\n\u001b[1;32m-> 1194\u001b[0m     \u001b[38;5;28;01mreturn\u001b[39;00m forward_call(\u001b[38;5;241m*\u001b[39m\u001b[38;5;28minput\u001b[39m, \u001b[38;5;241m*\u001b[39m\u001b[38;5;241m*\u001b[39mkwargs)\n\u001b[0;32m   1195\u001b[0m \u001b[38;5;66;03m# Do not call functions when jit is used\u001b[39;00m\n\u001b[0;32m   1196\u001b[0m full_backward_hooks, non_full_backward_hooks \u001b[38;5;241m=\u001b[39m [], []\n",
      "File \u001b[1;32mc:\\Users\\hyunj\\Documents\\Development\\Python\\trouver_py310_venv\\lib\\site-packages\\transformers\\models\\t5\\modeling_t5.py:1106\u001b[0m, in \u001b[0;36mT5Stack.forward\u001b[1;34m(self, input_ids, attention_mask, encoder_hidden_states, encoder_attention_mask, inputs_embeds, head_mask, cross_attn_head_mask, past_key_values, use_cache, output_attentions, output_hidden_states, return_dict)\u001b[0m\n\u001b[0;32m   1091\u001b[0m     layer_outputs \u001b[38;5;241m=\u001b[39m \u001b[38;5;28mself\u001b[39m\u001b[38;5;241m.\u001b[39m_gradient_checkpointing_func(\n\u001b[0;32m   1092\u001b[0m         layer_module\u001b[38;5;241m.\u001b[39mforward,\n\u001b[0;32m   1093\u001b[0m         hidden_states,\n\u001b[1;32m   (...)\u001b[0m\n\u001b[0;32m   1103\u001b[0m         output_attentions,\n\u001b[0;32m   1104\u001b[0m     )\n\u001b[0;32m   1105\u001b[0m \u001b[38;5;28;01melse\u001b[39;00m:\n\u001b[1;32m-> 1106\u001b[0m     layer_outputs \u001b[38;5;241m=\u001b[39m \u001b[43mlayer_module\u001b[49m\u001b[43m(\u001b[49m\n\u001b[0;32m   1107\u001b[0m \u001b[43m        \u001b[49m\u001b[43mhidden_states\u001b[49m\u001b[43m,\u001b[49m\n\u001b[0;32m   1108\u001b[0m \u001b[43m        \u001b[49m\u001b[43mattention_mask\u001b[49m\u001b[38;5;241;43m=\u001b[39;49m\u001b[43mextended_attention_mask\u001b[49m\u001b[43m,\u001b[49m\n\u001b[0;32m   1109\u001b[0m \u001b[43m        \u001b[49m\u001b[43mposition_bias\u001b[49m\u001b[38;5;241;43m=\u001b[39;49m\u001b[43mposition_bias\u001b[49m\u001b[43m,\u001b[49m\n\u001b[0;32m   1110\u001b[0m \u001b[43m        \u001b[49m\u001b[43mencoder_hidden_states\u001b[49m\u001b[38;5;241;43m=\u001b[39;49m\u001b[43mencoder_hidden_states\u001b[49m\u001b[43m,\u001b[49m\n\u001b[0;32m   1111\u001b[0m \u001b[43m        \u001b[49m\u001b[43mencoder_attention_mask\u001b[49m\u001b[38;5;241;43m=\u001b[39;49m\u001b[43mencoder_extended_attention_mask\u001b[49m\u001b[43m,\u001b[49m\n\u001b[0;32m   1112\u001b[0m \u001b[43m        \u001b[49m\u001b[43mencoder_decoder_position_bias\u001b[49m\u001b[38;5;241;43m=\u001b[39;49m\u001b[43mencoder_decoder_position_bias\u001b[49m\u001b[43m,\u001b[49m\n\u001b[0;32m   1113\u001b[0m \u001b[43m        \u001b[49m\u001b[43mlayer_head_mask\u001b[49m\u001b[38;5;241;43m=\u001b[39;49m\u001b[43mlayer_head_mask\u001b[49m\u001b[43m,\u001b[49m\n\u001b[0;32m   1114\u001b[0m \u001b[43m        \u001b[49m\u001b[43mcross_attn_layer_head_mask\u001b[49m\u001b[38;5;241;43m=\u001b[39;49m\u001b[43mcross_attn_layer_head_mask\u001b[49m\u001b[43m,\u001b[49m\n\u001b[0;32m   1115\u001b[0m \u001b[43m        \u001b[49m\u001b[43mpast_key_value\u001b[49m\u001b[38;5;241;43m=\u001b[39;49m\u001b[43mpast_key_value\u001b[49m\u001b[43m,\u001b[49m\n\u001b[0;32m   1116\u001b[0m \u001b[43m        \u001b[49m\u001b[43muse_cache\u001b[49m\u001b[38;5;241;43m=\u001b[39;49m\u001b[43muse_cache\u001b[49m\u001b[43m,\u001b[49m\n\u001b[0;32m   1117\u001b[0m \u001b[43m        \u001b[49m\u001b[43moutput_attentions\u001b[49m\u001b[38;5;241;43m=\u001b[39;49m\u001b[43moutput_attentions\u001b[49m\u001b[43m,\u001b[49m\n\u001b[0;32m   1118\u001b[0m \u001b[43m    \u001b[49m\u001b[43m)\u001b[49m\n\u001b[0;32m   1120\u001b[0m \u001b[38;5;66;03m# layer_outputs is a tuple with:\u001b[39;00m\n\u001b[0;32m   1121\u001b[0m \u001b[38;5;66;03m# hidden-states, key-value-states, (self-attention position bias), (self-attention weights), (cross-attention position bias), (cross-attention weights)\u001b[39;00m\n\u001b[0;32m   1122\u001b[0m \u001b[38;5;28;01mif\u001b[39;00m use_cache \u001b[38;5;129;01mis\u001b[39;00m \u001b[38;5;28;01mFalse\u001b[39;00m:\n",
      "File \u001b[1;32mc:\\Users\\hyunj\\Documents\\Development\\Python\\trouver_py310_venv\\lib\\site-packages\\torch\\nn\\modules\\module.py:1194\u001b[0m, in \u001b[0;36mModule._call_impl\u001b[1;34m(self, *input, **kwargs)\u001b[0m\n\u001b[0;32m   1190\u001b[0m \u001b[38;5;66;03m# If we don't have any hooks, we want to skip the rest of the logic in\u001b[39;00m\n\u001b[0;32m   1191\u001b[0m \u001b[38;5;66;03m# this function, and just call forward.\u001b[39;00m\n\u001b[0;32m   1192\u001b[0m \u001b[38;5;28;01mif\u001b[39;00m \u001b[38;5;129;01mnot\u001b[39;00m (\u001b[38;5;28mself\u001b[39m\u001b[38;5;241m.\u001b[39m_backward_hooks \u001b[38;5;129;01mor\u001b[39;00m \u001b[38;5;28mself\u001b[39m\u001b[38;5;241m.\u001b[39m_forward_hooks \u001b[38;5;129;01mor\u001b[39;00m \u001b[38;5;28mself\u001b[39m\u001b[38;5;241m.\u001b[39m_forward_pre_hooks \u001b[38;5;129;01mor\u001b[39;00m _global_backward_hooks\n\u001b[0;32m   1193\u001b[0m         \u001b[38;5;129;01mor\u001b[39;00m _global_forward_hooks \u001b[38;5;129;01mor\u001b[39;00m _global_forward_pre_hooks):\n\u001b[1;32m-> 1194\u001b[0m     \u001b[38;5;28;01mreturn\u001b[39;00m forward_call(\u001b[38;5;241m*\u001b[39m\u001b[38;5;28minput\u001b[39m, \u001b[38;5;241m*\u001b[39m\u001b[38;5;241m*\u001b[39mkwargs)\n\u001b[0;32m   1195\u001b[0m \u001b[38;5;66;03m# Do not call functions when jit is used\u001b[39;00m\n\u001b[0;32m   1196\u001b[0m full_backward_hooks, non_full_backward_hooks \u001b[38;5;241m=\u001b[39m [], []\n",
      "File \u001b[1;32mc:\\Users\\hyunj\\Documents\\Development\\Python\\trouver_py310_venv\\lib\\site-packages\\transformers\\models\\t5\\modeling_t5.py:746\u001b[0m, in \u001b[0;36mT5Block.forward\u001b[1;34m(self, hidden_states, attention_mask, position_bias, encoder_hidden_states, encoder_attention_mask, encoder_decoder_position_bias, layer_head_mask, cross_attn_layer_head_mask, past_key_value, use_cache, output_attentions, return_dict)\u001b[0m\n\u001b[0;32m    743\u001b[0m     attention_outputs \u001b[38;5;241m=\u001b[39m attention_outputs \u001b[38;5;241m+\u001b[39m cross_attention_outputs[\u001b[38;5;241m2\u001b[39m:]\n\u001b[0;32m    745\u001b[0m \u001b[38;5;66;03m# Apply Feed Forward layer\u001b[39;00m\n\u001b[1;32m--> 746\u001b[0m hidden_states \u001b[38;5;241m=\u001b[39m \u001b[38;5;28;43mself\u001b[39;49m\u001b[38;5;241;43m.\u001b[39;49m\u001b[43mlayer\u001b[49m\u001b[43m[\u001b[49m\u001b[38;5;241;43m-\u001b[39;49m\u001b[38;5;241;43m1\u001b[39;49m\u001b[43m]\u001b[49m\u001b[43m(\u001b[49m\u001b[43mhidden_states\u001b[49m\u001b[43m)\u001b[49m\n\u001b[0;32m    748\u001b[0m \u001b[38;5;66;03m# clamp inf values to enable fp16 training\u001b[39;00m\n\u001b[0;32m    749\u001b[0m \u001b[38;5;28;01mif\u001b[39;00m hidden_states\u001b[38;5;241m.\u001b[39mdtype \u001b[38;5;241m==\u001b[39m torch\u001b[38;5;241m.\u001b[39mfloat16:\n",
      "File \u001b[1;32mc:\\Users\\hyunj\\Documents\\Development\\Python\\trouver_py310_venv\\lib\\site-packages\\torch\\nn\\modules\\module.py:1194\u001b[0m, in \u001b[0;36mModule._call_impl\u001b[1;34m(self, *input, **kwargs)\u001b[0m\n\u001b[0;32m   1190\u001b[0m \u001b[38;5;66;03m# If we don't have any hooks, we want to skip the rest of the logic in\u001b[39;00m\n\u001b[0;32m   1191\u001b[0m \u001b[38;5;66;03m# this function, and just call forward.\u001b[39;00m\n\u001b[0;32m   1192\u001b[0m \u001b[38;5;28;01mif\u001b[39;00m \u001b[38;5;129;01mnot\u001b[39;00m (\u001b[38;5;28mself\u001b[39m\u001b[38;5;241m.\u001b[39m_backward_hooks \u001b[38;5;129;01mor\u001b[39;00m \u001b[38;5;28mself\u001b[39m\u001b[38;5;241m.\u001b[39m_forward_hooks \u001b[38;5;129;01mor\u001b[39;00m \u001b[38;5;28mself\u001b[39m\u001b[38;5;241m.\u001b[39m_forward_pre_hooks \u001b[38;5;129;01mor\u001b[39;00m _global_backward_hooks\n\u001b[0;32m   1193\u001b[0m         \u001b[38;5;129;01mor\u001b[39;00m _global_forward_hooks \u001b[38;5;129;01mor\u001b[39;00m _global_forward_pre_hooks):\n\u001b[1;32m-> 1194\u001b[0m     \u001b[38;5;28;01mreturn\u001b[39;00m forward_call(\u001b[38;5;241m*\u001b[39m\u001b[38;5;28minput\u001b[39m, \u001b[38;5;241m*\u001b[39m\u001b[38;5;241m*\u001b[39mkwargs)\n\u001b[0;32m   1195\u001b[0m \u001b[38;5;66;03m# Do not call functions when jit is used\u001b[39;00m\n\u001b[0;32m   1196\u001b[0m full_backward_hooks, non_full_backward_hooks \u001b[38;5;241m=\u001b[39m [], []\n",
      "File \u001b[1;32mc:\\Users\\hyunj\\Documents\\Development\\Python\\trouver_py310_venv\\lib\\site-packages\\transformers\\models\\t5\\modeling_t5.py:335\u001b[0m, in \u001b[0;36mT5LayerFF.forward\u001b[1;34m(self, hidden_states)\u001b[0m\n\u001b[0;32m    333\u001b[0m \u001b[38;5;28;01mdef\u001b[39;00m \u001b[38;5;21mforward\u001b[39m(\u001b[38;5;28mself\u001b[39m, hidden_states):\n\u001b[0;32m    334\u001b[0m     forwarded_states \u001b[38;5;241m=\u001b[39m \u001b[38;5;28mself\u001b[39m\u001b[38;5;241m.\u001b[39mlayer_norm(hidden_states)\n\u001b[1;32m--> 335\u001b[0m     forwarded_states \u001b[38;5;241m=\u001b[39m \u001b[38;5;28;43mself\u001b[39;49m\u001b[38;5;241;43m.\u001b[39;49m\u001b[43mDenseReluDense\u001b[49m\u001b[43m(\u001b[49m\u001b[43mforwarded_states\u001b[49m\u001b[43m)\u001b[49m\n\u001b[0;32m    336\u001b[0m     hidden_states \u001b[38;5;241m=\u001b[39m hidden_states \u001b[38;5;241m+\u001b[39m \u001b[38;5;28mself\u001b[39m\u001b[38;5;241m.\u001b[39mdropout(forwarded_states)\n\u001b[0;32m    337\u001b[0m     \u001b[38;5;28;01mreturn\u001b[39;00m hidden_states\n",
      "File \u001b[1;32mc:\\Users\\hyunj\\Documents\\Development\\Python\\trouver_py310_venv\\lib\\site-packages\\torch\\nn\\modules\\module.py:1194\u001b[0m, in \u001b[0;36mModule._call_impl\u001b[1;34m(self, *input, **kwargs)\u001b[0m\n\u001b[0;32m   1190\u001b[0m \u001b[38;5;66;03m# If we don't have any hooks, we want to skip the rest of the logic in\u001b[39;00m\n\u001b[0;32m   1191\u001b[0m \u001b[38;5;66;03m# this function, and just call forward.\u001b[39;00m\n\u001b[0;32m   1192\u001b[0m \u001b[38;5;28;01mif\u001b[39;00m \u001b[38;5;129;01mnot\u001b[39;00m (\u001b[38;5;28mself\u001b[39m\u001b[38;5;241m.\u001b[39m_backward_hooks \u001b[38;5;129;01mor\u001b[39;00m \u001b[38;5;28mself\u001b[39m\u001b[38;5;241m.\u001b[39m_forward_hooks \u001b[38;5;129;01mor\u001b[39;00m \u001b[38;5;28mself\u001b[39m\u001b[38;5;241m.\u001b[39m_forward_pre_hooks \u001b[38;5;129;01mor\u001b[39;00m _global_backward_hooks\n\u001b[0;32m   1193\u001b[0m         \u001b[38;5;129;01mor\u001b[39;00m _global_forward_hooks \u001b[38;5;129;01mor\u001b[39;00m _global_forward_pre_hooks):\n\u001b[1;32m-> 1194\u001b[0m     \u001b[38;5;28;01mreturn\u001b[39;00m forward_call(\u001b[38;5;241m*\u001b[39m\u001b[38;5;28minput\u001b[39m, \u001b[38;5;241m*\u001b[39m\u001b[38;5;241m*\u001b[39mkwargs)\n\u001b[0;32m   1195\u001b[0m \u001b[38;5;66;03m# Do not call functions when jit is used\u001b[39;00m\n\u001b[0;32m   1196\u001b[0m full_backward_hooks, non_full_backward_hooks \u001b[38;5;241m=\u001b[39m [], []\n",
      "File \u001b[1;32mc:\\Users\\hyunj\\Documents\\Development\\Python\\trouver_py310_venv\\lib\\site-packages\\transformers\\models\\t5\\modeling_t5.py:289\u001b[0m, in \u001b[0;36mT5DenseActDense.forward\u001b[1;34m(self, hidden_states)\u001b[0m\n\u001b[0;32m    283\u001b[0m \u001b[38;5;28;01mif\u001b[39;00m (\n\u001b[0;32m    284\u001b[0m     \u001b[38;5;28misinstance\u001b[39m(\u001b[38;5;28mself\u001b[39m\u001b[38;5;241m.\u001b[39mwo\u001b[38;5;241m.\u001b[39mweight, torch\u001b[38;5;241m.\u001b[39mTensor)\n\u001b[0;32m    285\u001b[0m     \u001b[38;5;129;01mand\u001b[39;00m hidden_states\u001b[38;5;241m.\u001b[39mdtype \u001b[38;5;241m!=\u001b[39m \u001b[38;5;28mself\u001b[39m\u001b[38;5;241m.\u001b[39mwo\u001b[38;5;241m.\u001b[39mweight\u001b[38;5;241m.\u001b[39mdtype\n\u001b[0;32m    286\u001b[0m     \u001b[38;5;129;01mand\u001b[39;00m \u001b[38;5;28mself\u001b[39m\u001b[38;5;241m.\u001b[39mwo\u001b[38;5;241m.\u001b[39mweight\u001b[38;5;241m.\u001b[39mdtype \u001b[38;5;241m!=\u001b[39m torch\u001b[38;5;241m.\u001b[39mint8\n\u001b[0;32m    287\u001b[0m ):\n\u001b[0;32m    288\u001b[0m     hidden_states \u001b[38;5;241m=\u001b[39m hidden_states\u001b[38;5;241m.\u001b[39mto(\u001b[38;5;28mself\u001b[39m\u001b[38;5;241m.\u001b[39mwo\u001b[38;5;241m.\u001b[39mweight\u001b[38;5;241m.\u001b[39mdtype)\n\u001b[1;32m--> 289\u001b[0m hidden_states \u001b[38;5;241m=\u001b[39m \u001b[38;5;28;43mself\u001b[39;49m\u001b[38;5;241;43m.\u001b[39;49m\u001b[43mwo\u001b[49m\u001b[43m(\u001b[49m\u001b[43mhidden_states\u001b[49m\u001b[43m)\u001b[49m\n\u001b[0;32m    290\u001b[0m \u001b[38;5;28;01mreturn\u001b[39;00m hidden_states\n",
      "File \u001b[1;32mc:\\Users\\hyunj\\Documents\\Development\\Python\\trouver_py310_venv\\lib\\site-packages\\torch\\nn\\modules\\module.py:1194\u001b[0m, in \u001b[0;36mModule._call_impl\u001b[1;34m(self, *input, **kwargs)\u001b[0m\n\u001b[0;32m   1190\u001b[0m \u001b[38;5;66;03m# If we don't have any hooks, we want to skip the rest of the logic in\u001b[39;00m\n\u001b[0;32m   1191\u001b[0m \u001b[38;5;66;03m# this function, and just call forward.\u001b[39;00m\n\u001b[0;32m   1192\u001b[0m \u001b[38;5;28;01mif\u001b[39;00m \u001b[38;5;129;01mnot\u001b[39;00m (\u001b[38;5;28mself\u001b[39m\u001b[38;5;241m.\u001b[39m_backward_hooks \u001b[38;5;129;01mor\u001b[39;00m \u001b[38;5;28mself\u001b[39m\u001b[38;5;241m.\u001b[39m_forward_hooks \u001b[38;5;129;01mor\u001b[39;00m \u001b[38;5;28mself\u001b[39m\u001b[38;5;241m.\u001b[39m_forward_pre_hooks \u001b[38;5;129;01mor\u001b[39;00m _global_backward_hooks\n\u001b[0;32m   1193\u001b[0m         \u001b[38;5;129;01mor\u001b[39;00m _global_forward_hooks \u001b[38;5;129;01mor\u001b[39;00m _global_forward_pre_hooks):\n\u001b[1;32m-> 1194\u001b[0m     \u001b[38;5;28;01mreturn\u001b[39;00m forward_call(\u001b[38;5;241m*\u001b[39m\u001b[38;5;28minput\u001b[39m, \u001b[38;5;241m*\u001b[39m\u001b[38;5;241m*\u001b[39mkwargs)\n\u001b[0;32m   1195\u001b[0m \u001b[38;5;66;03m# Do not call functions when jit is used\u001b[39;00m\n\u001b[0;32m   1196\u001b[0m full_backward_hooks, non_full_backward_hooks \u001b[38;5;241m=\u001b[39m [], []\n",
      "File \u001b[1;32mc:\\Users\\hyunj\\Documents\\Development\\Python\\trouver_py310_venv\\lib\\site-packages\\torch\\nn\\modules\\linear.py:114\u001b[0m, in \u001b[0;36mLinear.forward\u001b[1;34m(self, input)\u001b[0m\n\u001b[0;32m    113\u001b[0m \u001b[38;5;28;01mdef\u001b[39;00m \u001b[38;5;21mforward\u001b[39m(\u001b[38;5;28mself\u001b[39m, \u001b[38;5;28minput\u001b[39m: Tensor) \u001b[38;5;241m-\u001b[39m\u001b[38;5;241m>\u001b[39m Tensor:\n\u001b[1;32m--> 114\u001b[0m     \u001b[38;5;28;01mreturn\u001b[39;00m \u001b[43mF\u001b[49m\u001b[38;5;241;43m.\u001b[39;49m\u001b[43mlinear\u001b[49m\u001b[43m(\u001b[49m\u001b[38;5;28;43minput\u001b[39;49m\u001b[43m,\u001b[49m\u001b[43m \u001b[49m\u001b[38;5;28;43mself\u001b[39;49m\u001b[38;5;241;43m.\u001b[39;49m\u001b[43mweight\u001b[49m\u001b[43m,\u001b[49m\u001b[43m \u001b[49m\u001b[38;5;28;43mself\u001b[39;49m\u001b[38;5;241;43m.\u001b[39;49m\u001b[43mbias\u001b[49m\u001b[43m)\u001b[49m\n",
      "\u001b[1;31mKeyboardInterrupt\u001b[0m: "
     ]
    }
   ],
   "source": [
    "#| notest\n",
    "index_note = VaultNote(vault, name=f'_index_{reference}')\n",
    "notes = notes_linked_in_notes_linked_in_note(index_note, as_dict=False)\n",
    "\n",
    "for note in notes:\n",
    "    try:\n",
    "        mf = MarkdownFile.from_vault_note(note)\n",
    "        add_names_to_html_tags_in_info_note(\n",
    "            note, def_pipeline=definition_naming_pipeline,\n",
    "            notat_pipeline=notation_naming_pipeline, overwrite=False) \n",
    "    except Exception as e:\n",
    "        print(f'{note.name} raised an exception')\n",
    "        print(e)\n",
    "        \n",
    "\n"
   ]
  },
  {
   "cell_type": "markdown",
   "metadata": {},
   "source": [
    "After running the above code, the predicted names for the definitions and notations should be contained in the `definiiton` and `notation` attributes of the HTML tags. If a `notation` attribute's value remains blank `\"\"`, then this effectively means that predicted name for the notation is the entire LaTeX math mode string that the HTML tags encompasses ([recall that](#locating-definitions-and-notations-introduced-in-standard-information-notes) notation HTML tags only surround LaTeX math mode strings) "
   ]
  },
  {
   "cell_type": "markdown",
   "metadata": {},
   "source": [
    "#### Creating notation notes for the notations introduced in standard information notes\n",
    "\n",
    "Once the notations [have been marked with HTML tags](#locating-definitions-and-notations-introduced-in-standard-information-notes) and the [notations have been named](#naming-marked-definitions-and-notations), we use the `make_notation_notes_from_HTML_tags` function to create new notes dedicated to each notation and to link these newly created notes\n",
    "\n",
    "This part does not depend on any ML models. Run the following code:\n"
   ]
  },
  {
   "cell_type": "code",
   "execution_count": null,
   "metadata": {},
   "outputs": [],
   "source": [
    "#| notest\n",
    "index_note = VaultNote(vault, name=f'_index_{reference}')\n",
    "notes = notes_linked_in_notes_linked_in_note(index_note, as_dict=False)\n",
    "\n",
    "for note in notes:\n",
    "    try:\n",
    "        new_notes = make_notation_notes_from_HTML_tags(note, vault, reference_name=reference)\n",
    "    except Exception as e:\n",
    "        print(note.name)\n",
    "        raise(e)\n",
    "    # assert len(new_notes) == 0\n"
   ]
  },
  {
   "cell_type": "markdown",
   "metadata": {},
   "source": [
    "The following is a comparison of the note before and after the above code is executed:\n",
    "\n",
    "<p style=\"text-align:center;\"><img src=\"/images/tutorial_walkthrough_46_note_before_notation_notes_created.png\" alt=\"The standard notation note before the notation notes are created\" width=\"400\" class=\"center\"/> </p>\n",
    "\n",
    "<p style=\"text-align:center;\"><img src=\"/images/tutorial_walkthrough_47_note_after_notation_notes_created.png\" alt=\"A note after notations are identified\" width=\"400\" class=\"center\"/> </p>\n",
    "\n",
    "\n",
    "If some extraneously notation notes are created due to incorrectly marked HTML tags, you may remove/edit the HTML tags, delete tha notation note, and delete the link to the notation note.\n",
    "\n",
    "\n",
    "Moreover, even if some HTML tags had not been marked to indicate a notation introduced in a standard information note, running the above code again will safely create the notation note after the double asterisks are correctly added. `make_notation_notes_from_HTML_tags` attempts to create new notation notes without creating duplication notation notes.\n",
    "\n",
    "TODO: change the below to reflect recent version.\n",
    "\n",
    "For example, the `def_notat_classifier` seems to have deemed the LaTeX strings `$e(\\pi, q)$` and `$e(\\pi,q)$` to introduce notations, and marked these latex strings with double asterisks `**`. The `make_notation_notes_from_double_asts` function above then created notation notes corresponding to these LaTeX strings. However, the author of `trouver` does not consider these strings to have actually introduced the notations (because the standard information note containing these strings does **NOT** define what these notations mean). Let us remove the double asterisks, delete the corresponding notation notes, and delete the links to these notation notes:\n",
    "\n",
    "<p style=\"text-align:center;\"><img src=\"/images/tutorial_walkthrough_48_note_after_correcting_some_notations.png\" alt=\"A note after notations are identified\" width=\"400\" class=\"center\"/> </p>\n"
   ]
  },
  {
   "cell_type": "markdown",
   "metadata": {},
   "source": [
    "#### Summarizing what the notations denote and recording the summaries in the notation notes"
   ]
  },
  {
   "cell_type": "markdown",
   "metadata": {},
   "source": [
    "Finally, we pass the `summarizer` pipeline to the `append_summary_to_notation_note` function to summarize what the notations denote and record these summaries in the notation notes:\n",
    "\n",
    "Depending on the length and number of notes, this may take at least several or dozens of minutes."
   ]
  },
  {
   "cell_type": "code",
   "execution_count": null,
   "metadata": {},
   "outputs": [
    {
     "name": "stderr",
     "output_type": "stream",
     "text": [
      "Token indices sequence length is longer than the specified maximum sequence length for this model (2259 > 512). Running this sequence through the model will result in indexing errors\n"
     ]
    },
    {
     "name": "stdout",
     "output_type": "stream",
     "text": [
      "Summarizing notations\n"
     ]
    },
    {
     "name": "stderr",
     "output_type": "stream",
     "text": [
      "Your max_length is set to 200, but your input_length is only 184. Since this is a summarization task, where outputs shorter than the input are typically wanted, you might consider decreasing max_length manually, e.g. summarizer('...', max_length=92)\n",
      "Your max_length is set to 200, but your input_length is only 178. Since this is a summarization task, where outputs shorter than the input are typically wanted, you might consider decreasing max_length manually, e.g. summarizer('...', max_length=89)\n",
      "Your max_length is set to 200, but your input_length is only 163. Since this is a summarization task, where outputs shorter than the input are typically wanted, you might consider decreasing max_length manually, e.g. summarizer('...', max_length=81)\n",
      "Your max_length is set to 200, but your input_length is only 164. Since this is a summarization task, where outputs shorter than the input are typically wanted, you might consider decreasing max_length manually, e.g. summarizer('...', max_length=82)\n",
      "Your max_length is set to 200, but your input_length is only 164. Since this is a summarization task, where outputs shorter than the input are typically wanted, you might consider decreasing max_length manually, e.g. summarizer('...', max_length=82)\n"
     ]
    }
   ],
   "source": [
    "#| notest\n",
    "index_note = VaultNote(vault, name=f'_index_{reference}')\n",
    "notes = notes_linked_in_notes_linked_in_note(index_note, as_dict=False)\n",
    "\n",
    "for note in notes:\n",
    "    if not note.exists():\n",
    "        print(f\"note does not exist: {note.name}\")\n",
    "        raise Exception()\n",
    "\n",
    "print(\"Summarizing notations\")\n",
    "for note in notes:\n",
    "    notation_notes_linked_in_note = notation_notes_linked_in_see_also_section(note, vault)\n",
    "    for notation_note in notation_notes_linked_in_note:\n",
    "        append_summary_to_notation_note(notation_note, vault, summarizer)"
   ]
  },
  {
   "cell_type": "markdown",
   "metadata": {},
   "source": [
    "The following is a comparison of the notation note before and after the `append_summary_to_notation_note` function is applied to the notation note:\n",
    "\n",
    "\n",
    "<p style=\"text-align:center;\"><img src=\"/images/tutorial_walkthrough_49_notation_note_before_summary.png\" alt=\"The notation note before the summarization happens\" width=\"400\" class=\"center\"/> </p>\n",
    "\n",
    "<p style=\"text-align:center;\"><img src=\"/images/tutorial_walkthrough_50_notation_note_after_summary.png\" alt=\"The notation note after the summarization happens\" width=\"400\" class=\"center\"/> </p>\n",
    "\n",
    "Note that the `_auto/notation_summary` tag is added to the notation note's YAML frontmatter meta data to indicate that the `summarizer` pipeline generated the summary.\n",
    "\n",
    "We highly recommend manually editing the notation note as follows:\n",
    "\n",
    "- Correct the notation LaTeX string if necessary (in this example, the notation is the string `$F_q(X,Y)$` before the link `[[kimpark_ga1dcmmc_29|denotes]]` and it looks like there is nothing to correct. However, corrections might be necessary more generally, e.g. )\n",
    "- Rename the notation notes to be more searchable. Recall that Obsidian's `Quick switcher` provides suggestions for notes to open based on note/file names. \n",
    "- Correct the autogenerated summary and remove the `_auto/notation_summary` tag. \n",
    "\n",
    "> **Warning**\n",
    "> The model is currently not robust enough to generate reliable summaries in general. The model especially struggles with generating LaTeX strings.\n",
    "\n",
    "\n",
    "    For example, this is what the notation note for the string `$F_q(X,Y)$` looks just after the autogenerated summary has been added:\n",
    "\n",
    "\n",
    "<p style=\"text-align:center;\"><img src=\"/images/tutorial_walkthrough_54_notation_note_before_summary_fixed.png\" alt=\"The notation note after the summarization happens in viewing mode\" width=\"400\" class=\"center\"/> </p>\n",
    "\n",
    "<p style=\"text-align:center;\"><img src=\"/images/tutorial_walkthrough_55_notation_note_before_summary_fixed_in_editing_mode.png\" alt=\"The notation note after the summarization happens in editing mode\" width=\"400\" class=\"center\"/> </p>\n",
    "\n",
    "Let us fix the summary, remove the `_auto/notation_summary` tag (to indicate that the summary in the notation note is no longer autogenerated), and rename the note as follows:\n",
    "\n",
    "<p style=\"text-align:center;\"><img src=\"/images/tutorial_walkthrough_56_fix_notation_note_summary.png\" alt=\"Reading view for notation note summary fixed\" width=\"400\" class=\"center\"/> </p>\n",
    "<p style=\"text-align:center;\"><img src=\"/images/tutorial_walkthrough_57_fix_notation_note_summary_edit_view.png\" alt=\"Edit view for notation note summary fixed\" width=\"400\" class=\"center\"/> </p>\n",
    "\n",
    "\n",
    "\n",
    "- If the \"notation note\" does not correspond to a LaTeX string in a standard information note, then delete the \"notation note\".\n",
    "\n"
   ]
  },
  {
   "cell_type": "markdown",
   "metadata": {},
   "source": [
    "## Applications of the notation notes"
   ]
  },
  {
   "cell_type": "markdown",
   "metadata": {},
   "source": [
    "We also recommend using notation notes in the following ways: \n"
   ]
  },
  {
   "cell_type": "markdown",
   "metadata": {},
   "source": [
    "#### Embed notation notes in footnotes\n",
    "\n",
    "It can be useful to (manually) [embed](https://help.obsidian.md/Linking+notes+and+files/Embedding+files) notation notes in standard notation notes in [footnotes](https://help.obsidian.md/How+to/Format+your+notes#Footnotes). For example, the following is a (standard information) note presenting a lemma about $F_q(X,Y)$:\n",
    "\n",
    "<p style=\"text-align:center;\"><img src=\"/images/tutorial_walkthrough_51_lemma_with_notation.png\" alt=\"A note with a lemma using the notation $F_q(X,Y)$\" width=\"400\" class=\"center\"/> </p>\n",
    "\n",
    "Let us add a footnote with the notation note for the notation $F_q(X,Y)$ embedded:\n",
    "\n",
    "<p style=\"text-align:center;\"><img src=\"/images/tutorial_walkthrough_51_lemma_with_notation.png\" alt=\"A note with a lemma using the notation $F_q(X,Y)$\" width=\"400\" class=\"center\"/> </p>\n",
    "\n",
    "<p style=\"text-align:center;\"><img src=\"/images/tutorial_walkthrough_52_footnote_embedding_notation_note_added_to_lemma_note.png\" alt=\"Adding a footnote that embeds the notation note for $F_q(X,Y)$\" width=\"400\" class=\"center\"/> </p>\n",
    "\n",
    "Let us now view the standard information note in Viewing mode:\n",
    "\n",
    "<p style=\"text-align:center;\"><img src=\"/images/tutorial_walkthrough_53_viewing_mode_footnote_embedding_notation_note_added_to_lemma_note.png\" alt=\"A note viewed in Viewing mode with a footnote that embeds the notation note for $F_q(X,Y)$\" width=\"400\" class=\"center\"/> </p>\n",
    "\n",
    "The following is what the bottom of the note looks like. Note that the notation note has been embedded:\n",
    "\n",
    "<p style=\"text-align:center;\"><img src=\"/images/tutorial_walkthrough_58_viewing_mode_footnote_embedding_notation_note_added_to_lemma_note_bottom.png\" alt=\"A note viewed in Viewing mode with a footnote that embeds the notation note for $F_q(X,Y)$\" width=\"400\" class=\"center\"/> </p>\n",
    "\n",
    "In particular, the footnote indicates to the reader/user that the LaTeX string `$F_q(s_0,s_1)$` depends upon the notation $F_q(X,Y)$, which denotes the monic minimal polynomial of the closed point $q \\in \\mathbb{P}^1_k$. Such footnotes can be useful for users who need to remind themselves of mathematical facts, but have difficulties recalling the precise denotations of various notations."
   ]
  },
  {
   "cell_type": "markdown",
   "metadata": {},
   "source": [
    "#### Link notation notes in other notation notes.\n",
    "\n",
    "While we do not recommend embedding notation notes into other notation notes (because such efforts might result in multi-level embeddings of notation notes or even circular embeddings of notation notes), we still recommend linking notation notes in other notation notes.\n",
    "\n",
    "For example, we can write the following notation note:\n",
    "\n",
    "```Markdown\n",
    "---\n",
    "detect_regex: []\n",
    "latex_in_original: [\"e(\\\\pi,q)\"]\n",
    "tags: []\n",
    "---\n",
    "$e(\\pi,q)$ [[kim_park_ga1dcmmc_Definition 3.2|denotes]] the Euler number $e(\\pi^* \\mathscr{O}_{\\mathbb{P}^1_k}(\\deg F_q), F_q(s_0,s_1))$ where $q \\in \\mathbb{P}^1_k$ is a closed point and $\\pi: C \\to \\mathbb{P}^1_k$ is a finite morphism over a field $k$ whose characteristic is not $2$ where $C$ is a smooth projective curve, assuming that $\\pi^*(\\mathscr{O}_{\\mathbb{P}^1_k}(\\deg F_q))$ is a relatively orientable line bundle of $C$.\n",
    "\n",
    "- [$e(V,f)$](kim_park_ga1dcmmc_notation_e_V_f_euler_number_of_global_section_of_relatively_orientable_vector_bundle)\n",
    "- [$F_q(X,Y)$](kim_park_ga1dcmmc_notation_F_q_X_Y_monic_minimal_polynomial_of_closed_point_in_P_1)\n",
    "```\n",
    "\n",
    "Note that [External links/Markdownstyle links](https://help.obsidian.md/How+to/Format+your+notes#External+links) are used to link to the other notation notes as opposed to [Internal links/Wikilink-styled links](https://help.obsidian.md/How+to/Format+your+notes#Internal+linking). We use external links/Markdownstyle links here because Obsidian internal links/Wikilink-styled links do not render LaTeX strings.\n",
    "\n",
    "This note displays as\n",
    "\n",
    "<p style=\"text-align:center;\"><img src=\"/images/tutorial_walkthrough_59_reading_view_notation_note_with_links_to_notation_notes.png\" alt=\"Reading view for a notation note with links to other notation notes\" width=\"400\" class=\"center\"/> </p>\n",
    "\n",
    "Note that one can hover the cursor above links in Obsidian to show a preview of the linked note:\n",
    "\n",
    "\n",
    "<p style=\"text-align:center;\"><img src=\"/images/tutorial_walkthrough_60_cursor_hover_over_link_to_preview_note.png\" alt=\"Hovering the cursor above a link shows a preview of the linked note\" width=\"400\" class=\"center\"/> </p>\n",
    "\n",
    "\n"
   ]
  }
 ],
 "metadata": {
  "kernelspec": {
   "display_name": "trouver_py310_venv",
   "language": "python",
   "name": "trouver_py310_venv"
  }
 },
 "nbformat": 4,
 "nbformat_minor": 2
}
