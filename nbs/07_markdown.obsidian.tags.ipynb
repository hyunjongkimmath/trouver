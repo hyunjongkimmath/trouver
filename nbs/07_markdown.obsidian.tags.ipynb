{
 "cells": [
  {
   "cell_type": "markdown",
   "metadata": {},
   "source": [
    "# markdown.obsidian.tags\n",
    "\n",
    "> Functions for Obsidian tags"
   ]
  },
  {
   "cell_type": "code",
   "execution_count": null,
   "metadata": {},
   "outputs": [],
   "source": [
    "# TODO: add examples, dog strings"
   ]
  },
  {
   "cell_type": "code",
   "execution_count": null,
   "metadata": {},
   "outputs": [],
   "source": [
    "#| default_exp markdown.obsidian.tags"
   ]
  },
  {
   "cell_type": "code",
   "execution_count": null,
   "metadata": {},
   "outputs": [],
   "source": [
    "#| export\n",
    "def to_tag_str(tag_name):\n",
    "    return f'#{tag_name}'"
   ]
  },
  {
   "cell_type": "code",
   "execution_count": null,
   "metadata": {},
   "outputs": [],
   "source": [
    "#| export\n",
    "def tag_without_hashtag(tag):\n",
    "    return tag[1:] if tag.startswith('#') else tag"
   ]
  },
  {
   "cell_type": "code",
   "execution_count": null,
   "metadata": {},
   "outputs": [],
   "source": [
    "#| export\n",
    "def tag_is_auto_tag(tag):\n",
    "    tag = tag_without_hashtag(tag)\n",
    "    return tag.startswith('_auto/')"
   ]
  },
  {
   "cell_type": "code",
   "execution_count": null,
   "metadata": {},
   "outputs": [],
   "source": [
    "#| export\n",
    "def strip_auto_from_tag(tag, with_hash_tag: bool = True) -> str:\n",
    "    \"\"\"Returns the tag without the `'_auto/'` prefix.\n",
    "    \n",
    "    This will essentially return the same tag if the tag does not\n",
    "    have the `'_auto/'` prefix to begin with.\n",
    "    \n",
    "    **Parameters**\n",
    "    - tag - str\n",
    "    - with_has_tag - bool\n",
    "        - If `True`, returns a str with a hash tag `'#'` in front.\n",
    "        Defaults to `True`.\n",
    "    \"\"\"\n",
    "    tag = tag_without_hashtag(tag)\n",
    "    tag = tag[6:] if tag.startswith('_auto/') else tag\n",
    "    if with_hash_tag:\n",
    "        return f'#{tag}'\n",
    "    else:\n",
    "        return tag"
   ]
  },
  {
   "cell_type": "code",
   "execution_count": null,
   "metadata": {},
   "outputs": [
    {
     "data": {
      "text/plain": [
       "'definition'"
      ]
     },
     "execution_count": null,
     "metadata": {},
     "output_type": "execute_result"
    }
   ],
   "source": [
    "strip_auto_from_tag('#_auto/definition', False)"
   ]
  }
 ],
 "metadata": {
  "kernelspec": {
   "display_name": "python3",
   "language": "python",
   "name": "python3"
  }
 },
 "nbformat": 4,
 "nbformat_minor": 2
}
