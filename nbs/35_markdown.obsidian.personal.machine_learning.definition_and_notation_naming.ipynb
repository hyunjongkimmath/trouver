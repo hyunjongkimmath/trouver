{
 "cells": [
  {
   "cell_type": "code",
   "execution_count": null,
   "metadata": {},
   "outputs": [],
   "source": [
    "#| default_exp markdown.obsidian.personal.machine_learning.definition_and_notation_naming"
   ]
  },
  {
   "cell_type": "markdown",
   "metadata": {},
   "source": [
    "# markdown.obsidian.personal.machine_learning.definition_and_notation_naming\n",
    "\n",
    "> Functions for gathering and processing data to train and for using ML models to \"name\" definitions and notations"
   ]
  },
  {
   "cell_type": "markdown",
   "metadata": {},
   "source": [
    "`trouver.markdown.obsidian.personal.machine_learning.tokenize` has functions for gathering and processing data to train and for using ML models to identify definitions and notations introduced in notes via token classification. Identified definition and notations are marked using HTML tags. It would be convenient to predict the \"names\" for these definitions and notations."
   ]
  },
  {
   "cell_type": "markdown",
   "metadata": {},
   "source": [
    "TODO: insert examples of definitions and notations with HTML tags and examples of what the \"names\" of these definitions and notation should be"
   ]
  },
  {
   "cell_type": "code",
   "execution_count": null,
   "metadata": {},
   "outputs": [],
   "source": [
    "#| export\n",
    "\n",
    "from trouver.markdown.markdown.file import MarkdownFile\n",
    "from trouver.markdown.obsidian.personal.note_processing import process_standard_information_note\n",
    "from trouver.markdown.obsidian.vault import VaultNote"
   ]
  },
  {
   "cell_type": "markdown",
   "metadata": {},
   "source": [
    "## Gather ML data from information notes"
   ]
  },
  {
   "cell_type": "code",
   "execution_count": null,
   "metadata": {},
   "outputs": [],
   "source": [
    "#| export\n",
    "\n",
    "def data_from_information_note(\n",
    "        info_note: VaultNote, # The standard information note from which to draw data.\n",
    "    ) -> dict:\n",
    "    \"\"\"\n",
    "    Obtain data for naming definitions and notations for a standard information\n",
    "    note.\n",
    "\n",
    "    Definitions and notations should be marked by HTML tags (see\n",
    "    `markdown.obsidian.personal.machine_learning.tokenize`).\n",
    "    - A definition is to be marked by an HTML tag with a `definition` attribute,\n",
    "      which is the definition's \"name\", i.e. words and/or phrases describing what\n",
    "      the definition is called and to what objects/situations the definition\n",
    "      is applicable. If multiple combinations of words/phrases are appropriate,\n",
    "      then they are separated by a single semicolon `;`. If the `definition`\n",
    "      attribute is `\"\"`, then the definition name has not been marked, both manually\n",
    "      and automatically.\n",
    "    - A notation (technically the full LaTeX string in which the notation is\n",
    "      introducedis) is to be marked by an HTML tag with a `notation` attribute,\n",
    "      which is the notation's \"name\", i.e. the actual notation introduced in\n",
    "      the LaTeX string (without surrounding dollar signs (`$` or `$$`)). If\n",
    "      multiple notations are appropriate, then they are separated by\n",
    "      double semicolons `;;`. If the `notation` attribute is `\"\"`, then it\n",
    "      means that either the notation has not been marked, or that the\n",
    "      LaTeX string (minus the surrounding dollar signs) is exactly the\n",
    "      introduced notation. \n",
    "    \"\"\"\n",
    "    mf = MarkdownFile.from_vault_note(info_note)\n",
    "\n",
    "    # Processes the info note in all ways except for the HTML tags\n",
    "    mf = process_standard_information_note(\n",
    "        mf, info_note.vault,\n",
    "        True, True, True, True, True, False, True, True, True, True,\n",
    "        True, True, True, True, True)"
   ]
  }
 ],
 "metadata": {
  "language_info": {
   "name": "python"
  }
 },
 "nbformat": 4,
 "nbformat_minor": 2
}
