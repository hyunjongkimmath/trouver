{
 "cells": [
  {
   "cell_type": "code",
   "execution_count": null,
   "metadata": {},
   "outputs": [],
   "source": [
    "#| default_exp helper.arxiv"
   ]
  },
  {
   "cell_type": "code",
   "execution_count": null,
   "metadata": {},
   "outputs": [],
   "source": [
    "#| export\n",
    "from typing import Optional, Union\n",
    "import os\n",
    "from os import PathLike\n",
    "from pathlib import Path\n",
    "\n",
    "import arxiv\n",
    "from arxiv import Client, Search, Result\n",
    "\n",
    "from trouver.helper.files_and_folders import file_is_compressed, uncompress_file\n"
   ]
  },
  {
   "cell_type": "code",
   "execution_count": null,
   "metadata": {},
   "outputs": [],
   "source": [
    "from fastcore.test import *"
   ]
  },
  {
   "cell_type": "markdown",
   "metadata": {},
   "source": [
    "# helper.arxiv"
   ]
  },
  {
   "cell_type": "code",
   "execution_count": null,
   "metadata": {},
   "outputs": [],
   "source": [
    "#| export\n",
    "def arxiv_search(\n",
    "        arxiv_ids: Union[str, list[str]], # The ID of a single arXiv article or multiple arxiv articles\n",
    "        client: Optional[Client] = None,  # an arxiv API Client. If `None`, create one on the spot.\n",
    "        results: bool = True, # If `True` return a `Result` object. otherwise, return a `Search`` object`.\n",
    "        ) -> Union[Result, Search]:\n",
    "    if not client:\n",
    "        client = Client()\n",
    "    if not isinstance(arxiv_ids, list):\n",
    "        arxiv_ids = [arxiv_ids]\n",
    "    search = Search(id_list=arxiv_ids)\n",
    "    if results:\n",
    "        return client.results(search)\n",
    "    return search\n",
    "    \n",
    "\n",
    "def download_from_results(\n",
    "        results: Result,\n",
    "        dir: PathLike, # The directory into which to download the files\n",
    "        source: bool = True, # If `True`, download the source file. Otherweise, download a pdf file.\n",
    "        # filename: Optional[str] = None, # The file name to save the file as. If `None`, then the filename is set to the arXiv id of the article.\n",
    "        decompress_compressed_file: bool = True, # If `True`and if `source` is `True`, then decompress the source file after downloading it.\n",
    "        delete_compressed_file: bool = True, # If `True` and if `source` and `decompress_compressed_file` are `True`, then delete the compressed source file after downloading and then uncompressing it.\n",
    "        ) -> None:\n",
    "    \"\"\"\n",
    "    \"\"\"\n",
    "    for result in results:\n",
    "        if not source:\n",
    "            result.download_pdf(dir)\n",
    "            continue\n",
    "        source_file_path = result.download_source(dir)\n",
    "        source_file_path = Path(dir) / source_file_path\n",
    "        print(source_file_path)\n",
    "        if decompress_compressed_file and file_is_compressed(source_file_path):\n",
    "            uncompressed = uncompress_file(source_file_path)\n",
    "            if delete_compressed_file:\n",
    "                os.remove(source_file_path)\n",
    "            if len(uncompressed) == 1 and file_is_compressed(uncompressed[0]):\n",
    "                uncompressed_again = uncompress_file(uncompressed[0])\n",
    "                if delete_compressed_file:\n",
    "                    os.remove(uncompressed[0])\n",
    "\n",
    "            "
   ]
  },
  {
   "cell_type": "code",
   "execution_count": null,
   "metadata": {},
   "outputs": [],
   "source": [
    "#| notest\n",
    "# Specify the arXiv ID of the paper you want to download\n",
    "# arxiv_id = \"2106.10586\"  # Replace with your desired arXiv ID\n",
    "arxiv_id = \"1605.08386v1\"  # Replace with your desired arXiv ID\n"
   ]
  },
  {
   "cell_type": "code",
   "execution_count": null,
   "metadata": {},
   "outputs": [],
   "source": [
    "#| notest\n",
    "# Create a search object with the specified arXiv ID\n",
    "client = Client()\n",
    "search = Search(id_list=[arxiv_id])\n",
    "results = client.results(search)"
   ]
  },
  {
   "cell_type": "code",
   "execution_count": null,
   "metadata": {},
   "outputs": [
    {
     "name": "stdout",
     "output_type": "stream",
     "text": [
      "1605.08386v1.Heat_bath_random_walks_with_Markov_bases.tar.gz\n",
      "Uncompressed 1605.08386v1.Heat_bath_random_walks_with_Markov_bases.tar.gz into 1605.08386v1.Heat_bath_random_walks_with_Markov_bases.tar\n",
      "Uncompressed 1605.08386v1.Heat_bath_random_walks_with_Markov_bases.tar into \n"
     ]
    }
   ],
   "source": [
    "#| notest\n",
    "download_from_results(results, './')"
   ]
  },
  {
   "cell_type": "code",
   "execution_count": null,
   "metadata": {},
   "outputs": [
    {
     "data": {
      "text/plain": [
       "'./1605.08386v1.Heat_bath_random_walks_with_Markov_bases.tar.gz'"
      ]
     },
     "execution_count": null,
     "metadata": {},
     "output_type": "execute_result"
    }
   ],
   "source": [
    "#| notest\n",
    "hi = thing.download_source()\n",
    "hi"
   ]
  },
  {
   "cell_type": "code",
   "execution_count": null,
   "metadata": {},
   "outputs": [],
   "source": []
  },
  {
   "cell_type": "code",
   "execution_count": null,
   "metadata": {},
   "outputs": [
    {
     "name": "stdout",
     "output_type": "stream",
     "text": [
      "http://arxiv.org/abs/1605.08386v1\n"
     ]
    }
   ],
   "source": [
    "#| notest\n",
    "for thing in results:\n",
    "    print(thing)"
   ]
  },
  {
   "cell_type": "code",
   "execution_count": null,
   "metadata": {},
   "outputs": [
    {
     "data": {
      "text/plain": [
       "arxiv.Result"
      ]
     },
     "execution_count": null,
     "metadata": {},
     "output_type": "execute_result"
    }
   ],
   "source": [
    "#| notest\n",
    "type(thing)"
   ]
  },
  {
   "cell_type": "code",
   "execution_count": null,
   "metadata": {},
   "outputs": [
    {
     "data": {
      "text/plain": [
       "'1605.08386v1'"
      ]
     },
     "execution_count": null,
     "metadata": {},
     "output_type": "execute_result"
    }
   ],
   "source": [
    "#| notest\n",
    "thing.authors\n",
    "thing.categories\n",
    "thing.comment\n",
    "thing.doi\n",
    "thing.entry_id\n",
    "thing.get_short_id()"
   ]
  },
  {
   "cell_type": "code",
   "execution_count": null,
   "metadata": {},
   "outputs": [
    {
     "data": {
      "text/plain": [
       "[arxiv.Result.Link('http://arxiv.org/abs/1605.08386v1', title=None, rel='alternate', content_type=None),\n",
       " arxiv.Result.Link('http://arxiv.org/pdf/1605.08386v1', title='pdf', rel='related', content_type=None)]"
      ]
     },
     "execution_count": null,
     "metadata": {},
     "output_type": "execute_result"
    }
   ],
   "source": [
    "#| notest\n",
    "thing.links\n",
    "\n"
   ]
  },
  {
   "cell_type": "code",
   "execution_count": null,
   "metadata": {},
   "outputs": [
    {
     "name": "stderr",
     "output_type": "stream",
     "text": [
      "C:\\Users\\hyunj\\AppData\\Local\\Temp\\ipykernel_20912\\3859478672.py:2: DeprecationWarning: The 'Search.results' method is deprecated, use 'Client.results' instead\n",
      "  paper = next(search.results())\n"
     ]
    }
   ],
   "source": [
    "#| notest\n",
    "\n",
    "# Retrieve the first result from the search\n",
    "paper = next(search.results())\n"
   ]
  },
  {
   "cell_type": "code",
   "execution_count": null,
   "metadata": {},
   "outputs": [
    {
     "data": {
      "text/plain": [
       "'./_tests\\\\2106.10586v4.Global___mathbb_A__1__degrees_of_covering_maps_between_modular_curves.tar.gz'"
      ]
     },
     "execution_count": null,
     "metadata": {},
     "output_type": "execute_result"
    }
   ],
   "source": [
    "#| notest\n",
    "\n",
    "# Download the source files of the paper to the current working directory\n",
    "hi = paper.download_source('./_tests')\n",
    "hi\n",
    "\n",
    "# Optionally, specify a custom filename or directory\n",
    "# paper.download_source(filename=\"source-files.tar.gz\")\n",
    "# paper.download_source(dirpath=\"./mydir\", filename=\"source-files.tar.gz\")"
   ]
  }
 ],
 "metadata": {
  "kernelspec": {
   "display_name": "trouver_py310_venv",
   "language": "python",
   "name": "trouver_py310_venv"
  }
 },
 "nbformat": 4,
 "nbformat_minor": 2
}
