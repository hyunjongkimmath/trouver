{
 "cells": [
  {
   "cell_type": "code",
   "execution_count": null,
   "metadata": {},
   "outputs": [],
   "source": [
    "#| default_exp markdown.obsidian.personal.notation.in_standard_information_note"
   ]
  },
  {
   "cell_type": "markdown",
   "metadata": {},
   "source": [
    "# markdown.obsidian.personal.notation.in_standard_information_note\n",
    "> For functions concerning notation notes as they are related to\n",
    "> their \"main\" notes, which are stadnard information notes."
   ]
  },
  {
   "cell_type": "code",
   "execution_count": null,
   "metadata": {},
   "outputs": [],
   "source": [
    "#| export\n",
    "\n",
    "import warnings\n",
    "import os\n",
    "from os import PathLike\n",
    "from typing import Optional, Union\n",
    "from pathlib import Path\n",
    "\n",
    "from trouver.helper.definition_and_notation import notation_asterisk_indices\n",
    "from trouver.helper.html import remove_html_tags_in_text \n",
    "from trouver.helper.latex import latex_indices \n",
    "from trouver.markdown.markdown.file import MarkdownFile, MarkdownLineEnum\n",
    "from trouver.markdown.obsidian.links import ObsidianLink\n",
    "from trouver.markdown.obsidian.personal.information_notes import bulleted_links_of_type_in_section\n",
    "from trouver.markdown.obsidian.personal.note_type import note_is_of_type, PersonalNoteTypeEnum\n",
    "from trouver.markdown.obsidian.personal.notation.parse import main_of_notation\n",
    "from trouver.markdown.obsidian.vault import VaultNote, NoteDoesNotExistError"
   ]
  },
  {
   "cell_type": "code",
   "execution_count": null,
   "metadata": {},
   "outputs": [],
   "source": [
    "from unittest import mock\n",
    "import tempfile\n",
    "import shutil\n",
    "from fastcore.test import *\n",
    "from trouver.helper.tests import _test_directory\n"
   ]
  },
  {
   "cell_type": "markdown",
   "metadata": {},
   "source": [
    "# Notations in a standard information note"
   ]
  },
  {
   "cell_type": "markdown",
   "metadata": {},
   "source": [
    "## Find notations introduced in note"
   ]
  },
  {
   "cell_type": "markdown",
   "metadata": {},
   "source": [
    "#### By double asterisks `**`"
   ]
  },
  {
   "cell_type": "markdown",
   "metadata": {},
   "source": [
    "**WARNING**: The use of double asterisks `**` to signify definitions and notations is deprecated."
   ]
  },
  {
   "cell_type": "markdown",
   "metadata": {},
   "source": [
    "In the legacy method, string surrounded by double asterisks `**` were recognized as marking notations"
   ]
  },
  {
   "cell_type": "code",
   "execution_count": null,
   "metadata": {},
   "outputs": [],
   "source": [
    "#| export\n",
    "def notat_str_from_doub_asts_in_std_info_note(\n",
    "        info_note: VaultNote\n",
    "        ) -> list[str]: # Each str is a LaTeX str, beginning and trailing dollar signs `$` (single or double) included.\n",
    "    \"\"\"\n",
    "    Return the LaTeX str's with notations in a standard information note.\n",
    "\n",
    "    For this function, A LaTeX str is deemed to be a notation if it is surrounded by double\n",
    "    asterisks `**`\n",
    "    \"\"\"\n",
    "    mf = MarkdownFile.from_vault_note(info_note)\n",
    "    notations = []\n",
    "    for part in mf.parts:\n",
    "        indices = notation_asterisk_indices(part['line'])\n",
    "        notations.extend([\n",
    "            part['line'][start+2:end-2] for start, end in indices])\n",
    "    return notations"
   ]
  },
  {
   "cell_type": "markdown",
   "metadata": {},
   "source": [
    "We can obtain the notation str in an information note:"
   ]
  },
  {
   "cell_type": "code",
   "execution_count": null,
   "metadata": {},
   "outputs": [
    {
     "name": "stdout",
     "output_type": "stream",
     "text": [
      "['$\\\\operatorname{Gal}(L/K)$']\n",
      "['$\\\\operatorname{Spec} A$', '$$D(f) = \\\\{\\\\mathfrak{p} \\\\in \\\\operatorname{Spec} A: f \\\\not\\\\in \\\\mathfrak{p} \\\\}.$$']\n"
     ]
    }
   ],
   "source": [
    "vault = _test_directory() / 'test_vault_7'\n",
    "# A note with just one notation:\n",
    "vn = VaultNote(vault, name='galois_group')\n",
    "sample_output_1 = notat_str_from_doub_asts_in_std_info_note(vn)\n",
    "assert len(sample_output_1) == 1\n",
    "assert sample_output_1[0].startswith('$')\n",
    "assert sample_output_1[0].endswith('$')\n",
    "assert not sample_output_1[0].startswith('$$')\n",
    "assert not sample_output_1[0].endswith('$$')\n",
    "print(sample_output_1)\n",
    "\n",
    "# A note with a notation with double asterisks:\n",
    "vn = VaultNote(vault, name='spectrum_of_a_ring')\n",
    "sample_output_2 = notat_str_from_doub_asts_in_std_info_note(vn)\n",
    "assert len(sample_output_2) == 2\n",
    "assert sample_output_2[1].startswith('$$')\n",
    "assert sample_output_2[1].endswith('$$')\n",
    "print(sample_output_2)\n",
    "\n",
    "# A note with no notations:\n",
    "assert not notat_str_from_doub_asts_in_std_info_note(VaultNote(vault, name='no_notations_note_about_integral_domains'))"
   ]
  },
  {
   "cell_type": "code",
   "execution_count": null,
   "metadata": {},
   "outputs": [],
   "source": [
    "# hide\n",
    "# Test notation str with asterisks.\n",
    "vault = _test_directory() / 'test_vault_7'\n",
    "vn = VaultNote(vault, name='direct_and_inverse_images_of_sheaves')\n",
    "sample_output = notat_str_from_doub_asts_in_std_info_note(vn)\n",
    "# sample_output\n",
    "assert len(sample_output) == 2"
   ]
  },
  {
   "cell_type": "markdown",
   "metadata": {},
   "source": [
    "#### By HTML tags"
   ]
  },
  {
   "cell_type": "markdown",
   "metadata": {},
   "source": [
    "Now, HTML tags are used to mark notations"
   ]
  },
  {
   "cell_type": "code",
   "execution_count": null,
   "metadata": {},
   "outputs": [],
   "source": [
    "#| export\n",
    "def notat_str_from_html_tags(\n",
    "        info_note: VaultNote\n",
    "        ) -> list[tuple[str, str]]: # Each str is a LaTeX str, the first of which is the text of and surrounded by the HTML tag and the second of which is a string (without surrounding dollar signs) specifying the actual notation introduced in the first text.\n",
    "    \"\"\"\n",
    "    Return the LaTeX str's with notations in a standard information note.\n",
    "\n",
    "    For this function, HTML tags with the `notation` attr are deemed to\n",
    "    contain (newly introduced) notations. The `notation` attribute can\n",
    "    have multiple strings separated by double semicolons `;;` and\n",
    "    not surrounded by dollar signs `$`. \n",
    "\n",
    "    The following are some examples of HTML tags with the format described\n",
    "    above:\n",
    "\n",
    "    1. <span notation=\"\">$H^i$</span>\n",
    "    2. <span notation=\"h^i\">$h^i := \\dim_k H^i$</span>\n",
    "    3. <span notation=\"IJ;;I+J\">$$IJ = \\langle ab: a \\in I, b \\in J \\rangle, \\quad I+J = \\{a+b: a \\in I, b \\in J \\}$</span>\n",
    "\n",
    "    **Raises**\n",
    "    - UserWarning\n",
    "        - If an HTML tag with a `notation` attr does not surround a pure\n",
    "          math mode string.\n",
    "    \"\"\"\n",
    "    text = info_note.text()\n",
    "    _, tag_data = remove_html_tags_in_text(text)\n",
    "    pairs = []\n",
    "    for tag, _, _ in tag_data:\n",
    "        if not 'notation' in tag.attrs:\n",
    "            continue\n",
    "        notat_strs = tag.attrs['notation'].split(';;')\n",
    "        pairs.extend([(tag.text, notat_str) for notat_str in notat_strs])\n",
    "        \n",
    "        if latex_indices(tag.text) != [(0, len(tag.text))]:\n",
    "            warnings.warn(\n",
    "                rf\"\"\"In the note {info_note.name} at {info_note.path()},\n",
    "                there is a notation {tag.text}, but it is not\n",
    "                recognized as a pure LaTeX math mode string\"\"\")\n",
    "    return pairs"
   ]
  },
  {
   "cell_type": "code",
   "execution_count": null,
   "metadata": {},
   "outputs": [],
   "source": [
    "text = 'Let $K$ be a field. An <b definition=\"Abelian variety over a field\">Abelian variety over $K$</b> is a variety that'\n",
    "with mock.patch('__main__.VaultNote.text') as mock_vaultnote_text:\n",
    "    mock_vaultnote_text.return_value = text\n",
    "    listy = notat_str_from_html_tags(\n",
    "        VaultNote('', ''))\n",
    "    assert not listy"
   ]
  },
  {
   "cell_type": "code",
   "execution_count": null,
   "metadata": {},
   "outputs": [],
   "source": [
    "text = 'Given an ordering, we write <span notation=\"\">$<$</span> for the less-than symbol'\n",
    "with mock.patch('__main__.VaultNote.text') as mock_vaultnote_text:\n",
    "    mock_vaultnote_text.return_value = text\n",
    "    listy = notat_str_from_html_tags(\n",
    "        VaultNote('', ''))\n",
    "    test_eq(listy, [('$<$', '')])"
   ]
  },
  {
   "cell_type": "markdown",
   "metadata": {},
   "source": [
    "## Notation notes listed in see also section"
   ]
  },
  {
   "cell_type": "code",
   "execution_count": null,
   "metadata": {},
   "outputs": [],
   "source": [
    "#| export\n",
    "def notation_notes_linked_in_see_also_section(\n",
    "        info_note: VaultNote,\n",
    "        vault: PathLike, # Path to the vault directory.\n",
    "        as_vault_notes: bool = True # If `True`, returns each notation note as a `VaultNote` object.  Otherwise, returns the name of each notation note. Defaults to `True`.\n",
    "        ) -> Union[list[VaultNote], list[str]]: # Each entry corresponds to a notation note in the vault.\n",
    "    \"\"\"Return a list of notation notes listed in the\n",
    "    `See Also` section of the standard information note.\n",
    "\n",
    "    In the current implementation of this function, only \n",
    "    \"notation notes\" that actually exist are included in\n",
    "    the returned list.\n",
    "    \"\"\"\n",
    "    links = bulleted_links_of_type_in_section(\n",
    "        info_note, vault, section=\"See Also\",\n",
    "        note_type=PersonalNoteTypeEnum.NOTATION_NOTE)\n",
    "    note_names = [link.file_name for link in links]\n",
    "    if as_vault_notes:\n",
    "        return [VaultNote(vault, name=note_name, update_cache=False) for note_name in note_names]\n",
    "    else:\n",
    "        return note_names\n"
   ]
  },
  {
   "cell_type": "markdown",
   "metadata": {},
   "source": [
    "The `notation_notes_linked_in_see_also_section` method detects the Notation notes listed in bulleted links in the See Also section of a standard information note."
   ]
  },
  {
   "cell_type": "code",
   "execution_count": null,
   "metadata": {},
   "outputs": [
    {
     "name": "stdout",
     "output_type": "stream",
     "text": [
      "foag_notation_M_n_bullet\n"
     ]
    }
   ],
   "source": [
    "vault = _test_directory() / 'test_vault_7'\n",
    "vn = VaultNote(vault, name='twist_of_a_graded_module')\n",
    "sample_output = notation_notes_linked_in_see_also_section(vn, vault)\n",
    "assert len(sample_output) == 1\n",
    "assert isinstance(sample_output[0], VaultNote)\n",
    "print(sample_output[0].name)\n",
    "assert sample_output[0].exists()"
   ]
  },
  {
   "cell_type": "markdown",
   "metadata": {},
   "source": [
    "Setting `as_vault_notes=False` returns the names of the notation notes."
   ]
  },
  {
   "cell_type": "code",
   "execution_count": null,
   "metadata": {},
   "outputs": [
    {
     "name": "stdout",
     "output_type": "stream",
     "text": [
      "foag_notation_M_n_bullet\n"
     ]
    }
   ],
   "source": [
    "vault = _test_directory() / 'test_vault_7'\n",
    "vn = VaultNote(vault, name='twist_of_a_graded_module')\n",
    "sample_output = notation_notes_linked_in_see_also_section(vn, vault, as_vault_notes=False)\n",
    "assert len(sample_output) == 1\n",
    "assert isinstance(sample_output[0], str)\n",
    "print(sample_output[0])"
   ]
  },
  {
   "cell_type": "markdown",
   "metadata": {},
   "source": [
    "If a \"notation note\" does not exist, then it is not included in the returned list.\n",
    "\n",
    "Note that `notation_notes_linked_in_see_also_section` uses `bulleted_links_of_type_in_section`, which is turn uses `note_is_of_type` to get a list of linked notes of the type `NOTATION_NOTE` of the `PersonalNoteTypeEnum` class. In turn, a note file must exist for the note to be considered of any particular type under the current implementation of `note_is_of_type`."
   ]
  },
  {
   "cell_type": "code",
   "execution_count": null,
   "metadata": {},
   "outputs": [],
   "source": [
    "vault = _test_directory() / 'test_vault_7'\n",
    "vn = VaultNote(vault, name='note_with_links_to_non_existent_notation_notes')\n",
    "sample_output = notation_notes_linked_in_see_also_section(vn, vault, as_vault_notes=True)\n",
    "test_eq(sample_output, [])\n",
    "sample_output = notation_notes_linked_in_see_also_section(vn, vault, as_vault_notes=False)\n",
    "test_eq(sample_output, [])"
   ]
  },
  {
   "cell_type": "code",
   "execution_count": null,
   "metadata": {},
   "outputs": [],
   "source": []
  },
  {
   "cell_type": "markdown",
   "metadata": {},
   "source": [
    "## Find all notation notes in a vault subdirectory"
   ]
  },
  {
   "cell_type": "code",
   "execution_count": null,
   "metadata": {},
   "outputs": [],
   "source": [
    "#| export \n",
    "def notations_and_main_notes(\n",
    "        vault: PathLike, # Path to the vault directory.\n",
    "        subdirectory: Optional[PathLike] = None, # Path to the subdirectory, relative to `vault`, to find the notation notes. Searches for all notation notes here and in subdirectories of this subdirectory. If `None`, then the `note parameter is used to determined the subdirectory. If `subdirectory` is the empty str, then all notation notes in the vault are searched. Defaults to `None`. \n",
    "        note: Optional[VaultNote] = None # A note in the vault. The directory that this note is in determines the `subdirectory` parameter if the argument passed to `subdirectory` is the blank str. This note can usually be an index note, e.g. `'_index_silverman'`. Defaults to `None`, in which case `subdirectory` must be specified.\n",
    "        ) -> dict[str, Union[str, None]]: # A key is the unique name of a notation note in the vault and its corresponding value is the name of the main note of the notation note. Each main note may not actually exist, but each notation note definitely exists. If the notation note has no main note (i.e. has no links to other notes), then the value is `None`.\n",
    "    \"\"\"Return a `dict` with all of notation notes in a specified\n",
    "    subdirectory of a vault and the names of the main notes of these\n",
    "    notation notes.\n",
    "    \n",
    "    **Returns**\n",
    "    - `dict`\n",
    "\n",
    "    **Raises**\n",
    "\n",
    "    - ValueError\n",
    "        - If `subdirectory` and `note` are both `None`.\n",
    "    \"\"\"\n",
    "    if note is None and subdirectory is None:\n",
    "        raise ValueError(\n",
    "            'Both the `subdirectory` and `note` parameters are None.')\n",
    "    # vault = vault if vault is not None else ''\n",
    "    if subdirectory is None:\n",
    "        subdirectory = Path(note.rel_path).parent\n",
    "    subdirectory_path = Path(vault) / subdirectory\n",
    "    notes_in_subdirectory = subdirectory_path.glob(f'**/*.md') \n",
    "    relative_paths = [Path(note_path).relative_to(subdirectory_path)\n",
    "                      for note_path in notes_in_subdirectory]\n",
    "    vn_objects = [VaultNote(vault, rel_path=Path(subdirectory) / rel_path)\n",
    "                  for rel_path in relative_paths]\n",
    "    return {vn.name: main_of_notation(vn) for vn in vn_objects\n",
    "            if note_is_of_type(vn, PersonalNoteTypeEnum.NOTATION_NOTE)}"
   ]
  },
  {
   "cell_type": "markdown",
   "metadata": {},
   "source": [
    "The `notations_and_main_notes` function returns all the notation notes in a subdirectory of a vault"
   ]
  },
  {
   "cell_type": "code",
   "execution_count": null,
   "metadata": {},
   "outputs": [
    {
     "name": "stdout",
     "output_type": "stream",
     "text": [
      "{'foag_notation_M_n_bullet': 'twist_of_a_graded_module', 'notation_note_with_main_note_link_but_main_note_does_not_exist': 'nonexistent_note', 'some_reference_name_notation_k_t_formal_power_series_ring': 'some_note', 'some_reference_name_notation_O_X_this_file_has_no_links': None, 'some_reference_name_notation_Pic_C': 'divisor_class_group_of_a_curve', 'some_reference_name_notation_Spec_A': 'spectrum_of_a_ring', 'foag_notation_O_n': 'foag_15.2.1', 'foag_notation_O_text_Proj__S__n': 'foag_15.2.1', 'poonen_curves_notation_zeta_X_s_zeta_function_of_variety': 'poonen_curves_3.4.1 DEFINITION', 'poonen_curves_notation_Z_X_T': 'poonen_curves_3.4.1 DEFINITION', 'some_reference_name_notation_B_R': 'note_with_some_excessive_notation_notes', 'some_reference_name_notation_B_R_1': 'note_with_some_excessive_notation_notes', 'some_reference_name_notation_Jac_C': 'note_with_some_excessive_notation_notes', 'test_notation_note_for_latex_in_original_metadata_1': 'test_note_for_latex_in_original_metadata', 'test_notation_note_for_latex_in_original_metadata_2': 'test_note_for_latex_in_original_metadata', 'foag_notation__otimes_A_quad_obj_Mod_A_times_obj_Mod_A_longarrow_obj_Mod_A_': 'foag_1.3.5', 'notation_note_with_auto_notation_summary_tag': 'main_note_of_notation_note_with_auto_notation_summary_tag'}\n"
     ]
    }
   ],
   "source": [
    "vault = _test_directory() / 'test_vault_7'\n",
    "sample_output = notations_and_main_notes(vault, subdirectory='')\n",
    "print(sample_output)\n",
    "assert 'foag_notation_M_n_bullet' in sample_output\n",
    "assert 'some_reference_name_notation_O_X_this_file_has_no_links' in sample_output\n",
    "assert sample_output['some_reference_name_notation_O_X_this_file_has_no_links'] is None\n",
    "assert 'poonen_curves_notation_Z_X_T' in sample_output"
   ]
  },
  {
   "cell_type": "markdown",
   "metadata": {},
   "source": [
    "Here is an example with a subdirectory specified:"
   ]
  },
  {
   "cell_type": "code",
   "execution_count": null,
   "metadata": {},
   "outputs": [
    {
     "name": "stdout",
     "output_type": "stream",
     "text": [
      "{'foag_notation_O_n': 'foag_15.2.1', 'foag_notation_O_text_Proj__S__n': 'foag_15.2.1', 'poonen_curves_notation_zeta_X_s_zeta_function_of_variety': 'poonen_curves_3.4.1 DEFINITION', 'poonen_curves_notation_Z_X_T': 'poonen_curves_3.4.1 DEFINITION', 'some_reference_name_notation_B_R': 'note_with_some_excessive_notation_notes', 'some_reference_name_notation_B_R_1': 'note_with_some_excessive_notation_notes', 'some_reference_name_notation_Jac_C': 'note_with_some_excessive_notation_notes'}\n"
     ]
    }
   ],
   "source": [
    "vault = _test_directory() / 'test_vault_7'\n",
    "sample_output = notations_and_main_notes(vault, subdirectory='some_other_folder')\n",
    "print(sample_output)\n",
    "assert 'foag_notation_M_n_bullet' not in sample_output\n",
    "assert 'some_reference_name_notation_O_X_this_file_has_no_links' not in sample_output\n",
    "assert 'poonen_curves_notation_Z_X_T' in sample_output"
   ]
  },
  {
   "cell_type": "markdown",
   "metadata": {},
   "source": [
    "Alternatively, we can specify a subdirectory by a `VaultNote` object; the directory that the `VaultNote` object is the subdirectory:"
   ]
  },
  {
   "cell_type": "code",
   "execution_count": null,
   "metadata": {},
   "outputs": [
    {
     "name": "stdout",
     "output_type": "stream",
     "text": [
      "{'foag_notation_M_n_bullet': 'twist_of_a_graded_module', 'notation_note_with_main_note_link_but_main_note_does_not_exist': 'nonexistent_note', 'some_reference_name_notation_k_t_formal_power_series_ring': 'some_note', 'some_reference_name_notation_O_X_this_file_has_no_links': None, 'some_reference_name_notation_Pic_C': 'divisor_class_group_of_a_curve', 'some_reference_name_notation_Spec_A': 'spectrum_of_a_ring'}\n"
     ]
    }
   ],
   "source": [
    "vault = _test_directory() / 'test_vault_7'\n",
    "vn = VaultNote(vault, name='galois_group')\n",
    "sample_output = notations_and_main_notes(vault, subdirectory=None, note=vn)\n",
    "print(sample_output)\n",
    "assert 'foag_notation_M_n_bullet' in sample_output\n",
    "assert 'some_reference_name_notation_O_X_this_file_has_no_links' in sample_output\n",
    "assert sample_output['some_reference_name_notation_O_X_this_file_has_no_links'] is None\n",
    "assert 'poonen_curves_notation_Z_X_T' not in sample_output"
   ]
  },
  {
   "cell_type": "markdown",
   "metadata": {},
   "source": [
    "## Check if there is a notation link in the `See Also` section of a standard information note."
   ]
  },
  {
   "cell_type": "code",
   "execution_count": null,
   "metadata": {},
   "outputs": [],
   "source": [
    "#| export\n",
    "def notation_note_is_linked_in_see_also_section(\n",
    "        notation_note: VaultNote,\n",
    "        info_note: Optional[VaultNote] = None # The note in which to find the link to `notation_note`. Defaults to `None`, in which case the main note is determined to be the first linked note of `notation_note`.\n",
    "        ) -> bool:\n",
    "    \"\"\"Return `True` if a notation note is linked in the `See Also`\n",
    "    section of a standard information note. \n",
    "    \"\"\"\n",
    "    if not info_note:\n",
    "        info_note = main_of_notation(notation_note, as_note=True)\n",
    "    notes = notation_notes_linked_in_see_also_section(\n",
    "        info_note, vault=notation_note.vault, as_vault_notes=False)\n",
    "    return notation_note.name in notes\n"
   ]
  },
  {
   "cell_type": "markdown",
   "metadata": {},
   "source": [
    "`notation_note_is_linked_in_see_also_section` Returns `True` if a notation note is linked in the `See Also` section of an information note:"
   ]
  },
  {
   "cell_type": "code",
   "execution_count": null,
   "metadata": {},
   "outputs": [],
   "source": [
    "vault = _test_directory() / 'test_vault_7'\n",
    "notation_note = VaultNote(vault, name='some_reference_name_notation_Pic_C')\n",
    "info_note = VaultNote(vault, name='divisor_class_group_of_a_curve')\n",
    "assert not notation_note_is_linked_in_see_also_section(notation_note, info_note)\n",
    "\n",
    "notation_note = VaultNote(vault, name='foag_notation_M_n_bullet')\n",
    "info_note = VaultNote(vault, name='twist_of_a_graded_module')\n",
    "assert notation_note_is_linked_in_see_also_section(notation_note, info_note)"
   ]
  },
  {
   "cell_type": "markdown",
   "metadata": {},
   "source": [
    "If `info_note` is not specified or if `info_note=None`, then the info note in question is the first note which the notation note links to, see the `main_of_notation` function:"
   ]
  },
  {
   "cell_type": "code",
   "execution_count": null,
   "metadata": {},
   "outputs": [],
   "source": [
    "vault = _test_directory() / 'test_vault_7'\n",
    "notation_note = VaultNote(vault, name='some_reference_name_notation_Pic_C')\n",
    "assert not notation_note_is_linked_in_see_also_section(notation_note)\n",
    "\n",
    "notation_note = VaultNote(vault, name='foag_notation_M_n_bullet')\n",
    "assert notation_note_is_linked_in_see_also_section(notation_note)"
   ]
  },
  {
   "cell_type": "markdown",
   "metadata": {},
   "source": [
    "## Add notation links to the `See Also` section"
   ]
  },
  {
   "cell_type": "markdown",
   "metadata": {},
   "source": [
    "#### Add links to individual notation notes"
   ]
  },
  {
   "cell_type": "code",
   "execution_count": null,
   "metadata": {},
   "outputs": [],
   "source": [
    "#| export\n",
    "def add_notation_note_to_see_also(\n",
    "        notation_note: VaultNote,\n",
    "        info_note: Optional[VaultNote] = None, # The note in which to link `notation_note`. Defaults to `None`, in which case the main note is determined to be the first linked note of `notation_note`.\n",
    "        do_not_repeat: bool = True # If `True`, do not add a link to `notation_note` in if there is already a such a link.\n",
    "        ) -> None:\n",
    "    \"\"\"Add a link to a notation note in the `See Also` section of\n",
    "    a standard information note.\n",
    "\n",
    "    **Raises**\n",
    "\n",
    "    - NoteDoesNotExistError\n",
    "        - If the information note to link to does not exist.\n",
    "    \n",
    "    \"\"\"\n",
    "    if not info_note:\n",
    "        info_note = main_of_notation(notation_note, as_note=True)\n",
    "    if not info_note.exists():\n",
    "        raise NoteDoesNotExistError\n",
    "    if do_not_repeat and notation_note_is_linked_in_see_also_section(\n",
    "            notation_note, info_note):\n",
    "        return\n",
    "    mf = MarkdownFile.from_vault_note(info_note)\n",
    "    link = ObsidianLink(False, notation_note.name, 0, 0)\n",
    "    mf.add_line_in_section(\n",
    "        'See Also', {'type': MarkdownLineEnum.UNORDERED_LIST,\n",
    "                     'line': f'- {str(link)}'})\n",
    "    mf.write(info_note)\n",
    "\n"
   ]
  },
  {
   "cell_type": "markdown",
   "metadata": {},
   "source": [
    "The `add_notation_note_to_see_also` method adds a link to the specified notation note to the specified standard information note."
   ]
  },
  {
   "cell_type": "code",
   "execution_count": null,
   "metadata": {},
   "outputs": [
    {
     "name": "stdout",
     "output_type": "stream",
     "text": [
      "The note's text before adding the link:\n",
      "---\n",
      "cssclass: clean-embeds\n",
      "aliases: []\n",
      "tags: [_meta/literature_note, _meta/definition, _meta/notation]\n",
      "---\n",
      "# Divisor class group of a curve[^1]\n",
      "Let $C/k$ be a curve.\n",
      "\n",
      "The **divisor class group** of $C$, denoted **$\\operatorname{Pic} C$**, is defined as $\\operatorname{Div} C / \\operatorname{Princ} C$.  \n",
      "\n",
      "# See Also\n",
      "\n",
      "# Meta\n",
      "## References\n",
      "\n",
      "## Citations and Footnotes\n",
      "[^1]: Citation\n",
      " \n",
      "\n",
      "\n",
      "The note's text after adding the link:\n",
      "---\n",
      "cssclass: clean-embeds\n",
      "aliases: []\n",
      "tags: [_meta/literature_note, _meta/definition, _meta/notation]\n",
      "---\n",
      "# Divisor class group of a curve[^1]\n",
      "Let $C/k$ be a curve.\n",
      "\n",
      "The **divisor class group** of $C$, denoted **$\\operatorname{Pic} C$**, is defined as $\\operatorname{Div} C / \\operatorname{Princ} C$.  \n",
      "\n",
      "# See Also\n",
      "- [[some_reference_name_notation_Pic_C]]\n",
      "\n",
      "# Meta\n",
      "## References\n",
      "\n",
      "## Citations and Footnotes\n",
      "[^1]: Citation\n",
      "\n"
     ]
    }
   ],
   "source": [
    "with tempfile.TemporaryDirectory(prefix='tmp_dir_', dir=os.getcwd()) as tmp_dir:\n",
    "    tmp_dir = Path(tmp_dir)\n",
    "    temp_vault = tmp_dir / 'test_vault_7'\n",
    "    shutil.copytree(_test_directory() / 'test_vault_7', temp_vault)\n",
    "\n",
    "    notation_note = VaultNote(temp_vault, name='some_reference_name_notation_Pic_C')\n",
    "    info_note = VaultNote(temp_vault, name='divisor_class_group_of_a_curve')\n",
    "    assert not notation_note_is_linked_in_see_also_section(notation_note, info_note)    \n",
    "    print(\"The note's text before adding the link:\")\n",
    "    print(info_note.text(), '\\n\\n')\n",
    "\n",
    "    add_notation_note_to_see_also(notation_note, info_note)\n",
    "    assert notation_note_is_linked_in_see_also_section(notation_note, info_note)\n",
    "    print(\"The note's text after adding the link:\")\n",
    "    print(info_note.text())"
   ]
  },
  {
   "cell_type": "markdown",
   "metadata": {},
   "source": [
    "If `info_note` is not specified or is `None`, then the information note to add the link is determined to be the first note that `notation_note` links to:"
   ]
  },
  {
   "cell_type": "code",
   "execution_count": null,
   "metadata": {},
   "outputs": [],
   "source": [
    "with tempfile.TemporaryDirectory(prefix='tmp_dir_', dir=os.getcwd()) as tmp_dir:\n",
    "    tmp_dir = Path(tmp_dir)\n",
    "    temp_vault = tmp_dir / 'test_vault_7'\n",
    "    shutil.copytree(_test_directory() / 'test_vault_7', temp_vault)\n",
    "\n",
    "    notation_note = VaultNote(temp_vault, name='some_reference_name_notation_Pic_C')\n",
    "    assert not notation_note_is_linked_in_see_also_section(notation_note)\n",
    "    add_notation_note_to_see_also(notation_note)\n",
    "    assert notation_note_is_linked_in_see_also_section(notation_note)"
   ]
  },
  {
   "cell_type": "markdown",
   "metadata": {},
   "source": [
    "If the information note to add the link does not exist, then a `NoteDoesNotExistError` is raised:"
   ]
  },
  {
   "cell_type": "markdown",
   "metadata": {},
   "source": [
    "If `do_not_repeat` is not specified or is `True`, then the link to the notation note is added only if such a link is not already present: "
   ]
  },
  {
   "cell_type": "code",
   "execution_count": null,
   "metadata": {},
   "outputs": [],
   "source": [
    "with tempfile.TemporaryDirectory(prefix='tmp_dir_', dir=os.getcwd()) as tmp_dir:\n",
    "    tmp_dir = Path(tmp_dir)\n",
    "    temp_vault = tmp_dir / 'test_vault_7'\n",
    "    shutil.copytree(_test_directory() / 'test_vault_7', temp_vault)\n",
    "\n",
    "    notation_note = VaultNote(temp_vault, name='foag_notation_M_n_bullet')\n",
    "    info_note = VaultNote(temp_vault, name='twist_of_a_graded_module')\n",
    "    assert notation_note_is_linked_in_see_also_section(notation_note, info_note)\n",
    "    original_text = info_note.text()\n",
    "    add_notation_note_to_see_also(notation_note, do_not_repeat=True)\n",
    "    new_text = info_note.text()\n",
    "    assert original_text == new_text\n",
    "    assert notation_note_is_linked_in_see_also_section(notation_note, info_note)\n",
    "\n",
    "    # notation_note = VaultNote(temp_vault, name='some_reference_name_notation_Pic_C')\n",
    "    # add_notation_note_to_see_also(notation_note)\n",
    "    # assert notation_note_is_linked_in_see_also_section(notation_note)"
   ]
  },
  {
   "cell_type": "markdown",
   "metadata": {},
   "source": [
    "Otherwise, the link to the notation note is added even if such a link is already present:"
   ]
  },
  {
   "cell_type": "code",
   "execution_count": null,
   "metadata": {},
   "outputs": [
    {
     "name": "stdout",
     "output_type": "stream",
     "text": [
      "---\n",
      "cssclass: clean-embeds\n",
      "aliases: []\n",
      "tags: [_meta/literature_note]\n",
      "---\n",
      "# Twist of graded module[^1]\n",
      "\n",
      "Suppose $M_\\bullet$ is a graded $S_\\bullet$-module. Define the graded module **$M(n)_\\bullet$** by $M(n)_{m}:=M_{n+m}$. Thus the quasicoherent sheaf $M(n)_\\bullet$ satisfies\n",
      "\n",
      "$$ \\Gamma\\left(D(f), \\widetilde{M(n)}_{\\bullet}\\right)=\\left(\\left(M_{\\bullet}\\right)_{f}\\right)_{n} $$\n",
      "\n",
      "where here the subscript means we take the nth graded piece.\n",
      "\n",
      "# See Also\n",
      "- [[foag_notation_M_n_bullet]]\n",
      "- [[foag_notation_M_n_bullet]]\n",
      "# Meta\n",
      "## References\n",
      "![[_reference_foag]]\n",
      "\n",
      "## Citations and Footnotes\n",
      "[^1]: Vakil, Invertible 15.2, Page 412\n",
      "\n"
     ]
    }
   ],
   "source": [
    "with tempfile.TemporaryDirectory(prefix='tmp_dir_', dir=os.getcwd()) as tmp_dir:\n",
    "    tmp_dir = Path(tmp_dir)\n",
    "    temp_vault = tmp_dir / 'test_vault_7'\n",
    "    shutil.copytree(_test_directory() / 'test_vault_7', temp_vault)\n",
    "\n",
    "    notation_note = VaultNote(temp_vault, name='foag_notation_M_n_bullet')\n",
    "    info_note = VaultNote(temp_vault, name='twist_of_a_graded_module')\n",
    "    original_text = info_note.text()\n",
    "    add_notation_note_to_see_also(notation_note, do_not_repeat=False)\n",
    "    new_text = info_note.text()\n",
    "    assert original_text != new_text\n",
    "    assert notation_note_is_linked_in_see_also_section(notation_note, info_note)\n",
    "    print(new_text)\n"
   ]
  },
  {
   "cell_type": "markdown",
   "metadata": {},
   "source": [
    "If a link to the notation note is not already present, then `add_notation_note_to_see_also` adds such a link to the info note whether or not `do_not_repeat` is `True`:"
   ]
  },
  {
   "cell_type": "code",
   "execution_count": null,
   "metadata": {},
   "outputs": [],
   "source": [
    "with tempfile.TemporaryDirectory(prefix='tmp_dir_', dir=os.getcwd()) as tmp_dir:\n",
    "    tmp_dir = Path(tmp_dir)\n",
    "    temp_vault = tmp_dir / 'test_vault_7'\n",
    "    shutil.copytree(_test_directory() / 'test_vault_7', temp_vault)\n",
    "\n",
    "    notation_note = VaultNote(temp_vault, name='some_reference_name_notation_Pic_C')\n",
    "    info_note = VaultNote(temp_vault, name='divisor_class_group_of_a_curve')\n",
    "    assert not notation_note_is_linked_in_see_also_section(notation_note, info_note)    \n",
    "\n",
    "    add_notation_note_to_see_also(notation_note, info_note, do_not_repeat=False)\n",
    "    assert notation_note_is_linked_in_see_also_section(notation_note, info_note)"
   ]
  },
  {
   "cell_type": "markdown",
   "metadata": {},
   "source": [
    "#### Add links to notation notes for all notation notes in a specified subdirectory."
   ]
  },
  {
   "cell_type": "code",
   "execution_count": null,
   "metadata": {},
   "outputs": [],
   "source": [
    "#| export\n",
    "def add_missing_notation_links_to_information_notes(\n",
    "        vault: PathLike, # Path to the vault directory.\n",
    "        subdirectory: Optional[PathLike] = None, # Path to the subdirectory, relative to `vault`, to find the notation notes and their main notes. Searches for all notation notes here and in subdirectories of this subdirectory. If `None`, then the `note` parameter is used to determine `subdirectory`. Defaults to `None`. \n",
    "        note: Optional[VaultNote] = None # A note in the vault. The directory that this note is in determines the `subdirectory` parameter if it is `None`.  Defaults to `None`, in which case `subdirectory` must be specified.\n",
    "        ) -> None:\n",
    "    # TODO: deal with possibility that note does not exist.\n",
    "    \"\"\"For each notation note in a specified subdirectory, Add links\n",
    "    to notation notes in their main information notes if the notation\n",
    "    links are not already present.\n",
    "    \n",
    "    **Raises**\n",
    "\n",
    "    - ValueError\n",
    "        - If `subdirectory` and `note` are both `None`.\n",
    "    \"\"\"\n",
    "    mains_dict = notations_and_main_notes(vault, subdirectory, note)\n",
    "    to_check = {key: value for key, value in mains_dict.items()\n",
    "                if value is not None}\n",
    "    for notation, main in to_check.items():\n",
    "        if not main:\n",
    "            continue\n",
    "        notation_note = VaultNote(vault, name=notation)\n",
    "        try:\n",
    "            main_note = VaultNote(vault, name=main)  # TODO add the subdirectory parameter here appropriately. See Also `notations_and_main_note` \n",
    "            add_notation_note_to_see_also(notation_note, main_note)\n",
    "        except NoteDoesNotExistError:\n",
    "            continue"
   ]
  },
  {
   "cell_type": "markdown",
   "metadata": {},
   "source": [
    "The `add_missing_notation_links_to_information_notes` method adds links to notation notes of a specified directory to their main notes if these links are not already present. Note that nonexisting information notes which are the \"main\" notes of notation notes are ignored."
   ]
  },
  {
   "cell_type": "code",
   "execution_count": null,
   "metadata": {},
   "outputs": [],
   "source": [
    "with tempfile.TemporaryDirectory(prefix='tmp_dir_', dir=os.getcwd()) as tmp_dir:\n",
    "    tmp_dir = Path(tmp_dir)\n",
    "    temp_vault = tmp_dir / 'test_vault_7'\n",
    "    shutil.copytree(_test_directory() / 'test_vault_7', temp_vault)\n",
    "\n",
    "    notation_note_1 = VaultNote(temp_vault, name='some_reference_name_notation_Pic_C')\n",
    "    main_note_1 = VaultNote(temp_vault, name='divisor_class_group_of_a_curve')\n",
    "    notation_note_2 = VaultNote(temp_vault, name='some_reference_name_notation_Spec_A')\n",
    "    main_note_2 = VaultNote(temp_vault, name='spectrum_of_a_ring')\n",
    "    notation_note_3 = VaultNote(temp_vault, name='foag_notation_O_n')\n",
    "    main_note_3 = VaultNote(temp_vault, name='foag_15.2.1')\n",
    "\n",
    "    assert not notation_note_is_linked_in_see_also_section(notation_note_1, main_note_1)\n",
    "    assert not notation_note_is_linked_in_see_also_section(notation_note_2, main_note_2)\n",
    "    assert not notation_note_is_linked_in_see_also_section(notation_note_3, main_note_3)\n",
    "    add_missing_notation_links_to_information_notes(temp_vault, '')\n",
    "    assert notation_note_is_linked_in_see_also_section(notation_note_1, main_note_1)\n",
    "    assert notation_note_is_linked_in_see_also_section(notation_note_2, main_note_2)\n",
    "    assert notation_note_is_linked_in_see_also_section(notation_note_3, main_note_3)"
   ]
  }
 ],
 "metadata": {
  "kernelspec": {
   "display_name": "python3",
   "language": "python",
   "name": "python3"
  }
 },
 "nbformat": 4,
 "nbformat_minor": 2
}
