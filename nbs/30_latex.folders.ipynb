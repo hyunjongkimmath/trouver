{
 "cells": [
  {
   "cell_type": "markdown",
   "metadata": {},
   "source": [
    "# latex.folders\n",
    "\n",
    "> Create and manage folders to house `Obsidian.md` notes correspnoding to parts divided by the `latex.divide` module."
   ]
  },
  {
   "cell_type": "markdown",
   "metadata": {},
   "source": []
  },
  {
   "cell_type": "code",
   "execution_count": null,
   "metadata": {},
   "outputs": [],
   "source": [
    "#| default_exp latex.folders"
   ]
  },
  {
   "cell_type": "code",
   "execution_count": null,
   "metadata": {},
   "outputs": [],
   "source": []
  },
  {
   "cell_type": "code",
   "execution_count": null,
   "metadata": {},
   "outputs": [],
   "source": [
    "#| export\n",
    "from trouver.latex.divide import divide_latex_text"
   ]
  },
  {
   "cell_type": "code",
   "execution_count": null,
   "metadata": {},
   "outputs": [],
   "source": [
    "import glob\n",
    "import shutil\n",
    "import tempfile\n",
    "\n",
    "\n",
    "from fastcore.test import ExceptionExpected, test_eq\n",
    "from pathvalidate import validate_filename\n",
    "\n",
    "from trouver.helper import text_from_file, _test_directory# , non_utf8_chars_in_file\n",
    "\n",
    "from trouver.markdown.obsidian.personal.reference import (\n",
    "    delete_reference_folder\n",
    ")\n"
   ]
  },
  {
   "cell_type": "markdown",
   "metadata": {},
   "source": [
    "## Identify sections and subsections to make folders for a reference."
   ]
  },
  {
   "cell_type": "code",
   "execution_count": null,
   "metadata": {},
   "outputs": [],
   "source": [
    "#| export\n",
    "def _part_starts_section(\n",
    "        part: tuple[str, str]):\n",
    "    \"\"\"\n",
    "    Return `True` if `part` starts a section (explicitly),\n",
    "    cf. `divide_latex_text`.\n",
    "    \"\"\"\n",
    "    return part[1].startswith(r'\\section')\n",
    "    # node = get_node_from_simple_text(part[1])\n",
    "    # return _is_section_node(node)\n",
    "\n",
    "\n",
    "def _part_starts_subsection(\n",
    "        part: tuple[str, str]):\n",
    "    \"\"\"Return `True` if `part` starts a subsection, cf. `divide_latex_text`.\"\"\"\n",
    "    return part[1].startswith(r'\\subsection')\n",
    "    # node = get_node_from_simple_text(part[1])\n",
    "    # return _is_subsection_node(node)"
   ]
  },
  {
   "cell_type": "code",
   "execution_count": null,
   "metadata": {},
   "outputs": [],
   "source": [
    "#| hide\n",
    "part = ['1. This is section 1', '\\\\section{This is section 1}']\n",
    "assert _part_starts_section(part)\n",
    "assert not _part_starts_subsection(part)\n",
    "part = ['1.2. This is 1.2 subsection.', '\\\\subsection{This is 1.2 subsection.}']\n",
    "assert not _part_starts_section(part)\n",
    "assert _part_starts_subsection(part)\n",
    "part = ['1', 'Note that the equation counter is numbered within the subsection counter and that the theorem-like environments are numbered with the equation counter.\\n\\n\\\\subsubsection{This is 1.2.1 Subsubsection}']\n",
    "assert not _part_starts_section(part)\n",
    "assert not _part_starts_subsection(part)\n",
    "part = ['1. Remark.', '\\\\begin{remark}\\nThis is an unnumbered remark.\\n\\\\end{remark}']\n",
    "assert not _part_starts_section(part)\n",
    "assert not _part_starts_subsection(part)\n",
    "part = ['Remark', '\\\\begin{rem*}\\nThis is an unnumbered Remark.\\n\\\\end{rem*}']\n",
    "assert not _part_starts_section(part)\n",
    "assert not _part_starts_subsection(part)"
   ]
  },
  {
   "cell_type": "code",
   "execution_count": null,
   "metadata": {},
   "outputs": [],
   "source": [
    "#| export\n",
    "UNTITLED_SECTION_TITLE = 'Untitled Section'\n",
    "def section_and_subsection_titles_from_latex_parts(\n",
    "        parts: list[tuple[str, str]], # An output of `divide_latex_text`\n",
    "        # verbose_sections: bool = False, # \n",
    "        # short_subsections: bool = False,\n",
    "        # section_name: str = 'section',\n",
    "        # subsection_name: str = 'subsection')\\\n",
    "        ) -> list[list[str]]: # Each list corresponds to a section. The first entry of the list is the title of the section and the other entries are the titles of the subsections. \n",
    "    \"\"\"\n",
    "    Return a list of lists of titles for the sections and subsections in `parts`\n",
    "\n",
    "    Unnumbered sections get their own list. Unnumbered subsections are also included in lists.\n",
    "    All the titles are striped (of leading and trailing whitespaces).\n",
    "    \"\"\"\n",
    "    sections_and_subsections = []\n",
    "    for part in parts:\n",
    "       _consider_part_to_add(part, sections_and_subsections) \n",
    "    return sections_and_subsections\n",
    "\n",
    "\n",
    "def _consider_part_to_add(\n",
    "        part: list[tuple[str, str]],\n",
    "        sections_and_subsections: list[list[str]]):\n",
    "    \"\"\"Add the title of `part` to `sections_and_subsections`\n",
    "    if `part` starts a section or subsection.\"\"\"\n",
    "    title = part[0].strip()\n",
    "    if _part_starts_section(part):\n",
    "        sections_and_subsections.append([title])\n",
    "    elif _part_starts_subsection(part):\n",
    "        sections_and_subsections[-1].append(title)\n",
    "    elif not sections_and_subsections:\n",
    "        # If sections and subsections is empty and the very first `part`\n",
    "        # does not explicitly start a section, then we are in an untitled\n",
    "        # section.\n",
    "        sections_and_subsections.append([UNTITLED_SECTION_TITLE])\n",
    "        \n"
   ]
  },
  {
   "cell_type": "markdown",
   "metadata": {},
   "source": [
    "In the following example, the Environments are numbered Theorem 1, Corollary 2, Definition 3, etc.\n",
    "Also note that there is some content before the very first (explicitly defined) section, so there is a section given by the `UNTITLED_SECTION_TITLE` constant."
   ]
  },
  {
   "cell_type": "code",
   "execution_count": null,
   "metadata": {},
   "outputs": [],
   "source": [
    "parts = [\n",
    "    ['1', 'For this document, the `theorem` counter is not reset whenever a new section begins.\\n\\nA similar numbering scheme can be accomplished by importing \\\\verb|amsmath| and invoking the code \\\\verb|\\\\numberwithin{theorem}{part}| in the preamble.'],\n",
    "    ['1. Introduction', '\\\\section{Introduction}'],\n",
    "    ['Theorem 1.', '\\\\begin{theorem}\\nThis is Theorem 1.\\n\\\\end{theorem}'],\n",
    "    ['Corollary 2.', '\\\\begin{corollary}\\nThis is Corollary 2.\\n\\\\end{corollary}'],\n",
    "    ['Remark', '\\\\begin{remark*}\\nThis is a remark. It is unnumbered and it does not affect the numberings of other environments.\\n\\\\end{remark*}'],\n",
    "    ['Definition 3.', '\\\\begin{definition}\\nThis is Definition 3.\\n\\\\end{definition}'],\n",
    "    ['2. Another Section', '\\\\section{Another Section}'],\n",
    "    ['Theorem 4.', '\\\\begin{theorem}\\nThis is Theorem 4.\\n\\\\end{theorem}'], ['2', 'And we might get a corollary!'],\n",
    "    ['Corollary 5.', '\\\\begin{corollary}\\nThis is Corollary 5.\\n\\\\end{corollary}'],\n",
    "    ['Definition 6.', '\\\\begin{definition}\\nThis is Definition 6.\\n\\\\end{definition}']]\n",
    "sample_output = section_and_subsection_titles_from_latex_parts(parts)\n",
    "test_eq(sample_output, [[UNTITLED_SECTION_TITLE], ['1. Introduction'], ['2. Another Section']])"
   ]
  },
  {
   "cell_type": "markdown",
   "metadata": {},
   "source": [
    "In contrast, the following example has environments numbered by sections:"
   ]
  },
  {
   "cell_type": "code",
   "execution_count": null,
   "metadata": {},
   "outputs": [],
   "source": [
    "parts = [\n",
    "    ['1', 'This document resets its `theorem` counter whenever a new section begins.'], \n",
    "    ['1. Introduction', '\\\\section{Introduction}'],\n",
    "    ['Theorem 1.1.', '\\\\begin{theorem}\\nThis is Theorem 1.1.\\n\\\\end{theorem}'],\n",
    "    ['Corollary 1.2.', '\\\\begin{corollary}\\nThis is Corollary 1.2.\\n\\\\end{corollary}'],\n",
    "    ['Remark', '\\\\begin{remark*}\\nThis is a remark. It is unnumbered and it does not affect the numberings of other environments.\\n\\\\end{remark*}'],\n",
    "    ['Definition 1.3.', '\\\\begin{definition}\\nThis is Definition 1.3.\\n\\\\end{definition}'],\n",
    "    ['2. Another Section', '\\\\section{Another Section}'],\n",
    "    ['Theorem 2.1.', '\\\\begin{theorem}\\nThis is Theorem 2.1.\\n\\\\end{theorem}'],\n",
    "    ['Corollary 2.2.', '\\\\begin{corollary}\\nThis is Corollary 2.2.\\n\\\\end{corollary}'],\n",
    "    ['Definition 2.3.', '\\\\begin{definition}\\nThis is Definition 2.3.\\n\\\\end{definition}']]\n",
    "test_eq(sample_output, [[UNTITLED_SECTION_TITLE], ['1. Introduction'], ['2. Another Section']])"
   ]
  },
  {
   "cell_type": "markdown",
   "metadata": {},
   "source": [
    "The below example is derived from a LaTeX document in which significant content is present before any particular sections. See the `nbs\\_tests\\latex_examples\\latex_example_with_content_before_sections` folder. Also see https://arxiv.org/abs/1111.3607 for an example of a paper with significant content priori to any explicitly defined sections."
   ]
  },
  {
   "cell_type": "code",
   "execution_count": null,
   "metadata": {},
   "outputs": [],
   "source": [
    "parts = [\n",
    "    ['abstract', \"\\\\begin{abstract}\\nI'm an abstract\\n\\\\end{abstract}\"],\n",
    "    ['1', '\\\\maketitle\\n\\nI want to talk about things but notice that this part does not belong to a section!'],\n",
    "    ['Theorem 1.', \"\\\\begin{theorem}\\\\label{th:some_theorem}\\nI'm a theorem.\\n\\\\end{theorem}\"],\n",
    "    ['2', 'Blah blah blah'],\n",
    "    ['Theorem 2.', '\\\\begin{theorem}\\\\label{th:some_other_theorem}\\nImpart me with mathematical knowledge!\\n\\\\end{theorem}'],\n",
    "    ['3', 'Maybe a corollary'],\n",
    "    ['Corollary 3.', '\\\\begin{corollary}\\\\label{cor:a_corollary}\\nI immediately follow from the above theorem.\\n\\\\end{corollary}'],\n",
    "    ['4', 'More stuff!'],\n",
    "    ['Corollary 4.', '\\\\begin{corollary}\\\\label{cor:another_corollary}\\nMore delicious mathematical knowledge.\\n\\\\end{corollary}'],\n",
    "    ['5', 'Maybe you could describe how we demonstrate this corollary.'],\n",
    "    ['1. Proof of Theorem~\\\\ref{th:main}', '\\\\section{Proof of Theorem~\\\\ref{th:main}}'],\n",
    "    ['6', 'Now this is finally in a section.'],\n",
    "    ['Lemma 5.', '\\\\begin{lemma}\\nSome lemma\\n\\\\end{lemma}\\\\begin{proof}\\nMaximum effort!\\n\\\\end{proof}'],\n",
    "    ['7', 'Blah blah blah.'],\n",
    "    ['1.1. This is a subsection', '\\\\subsection{This is a subsection}'],\n",
    "    ['8', \"I'm about one thing.\"],\n",
    "    ['1.2. This is another subsection', '\\\\subsection{This is another subsection}'],\n",
    "    ['9', \"I'm about another thing.\"]] \n",
    "sample_output = section_and_subsection_titles_from_latex_parts(parts)\n",
    "test_eq(sample_output, [[UNTITLED_SECTION_TITLE], ['1. Proof of Theorem~\\\\ref{th:main}', '1.1. This is a subsection', '1.2. This is another subsection']])"
   ]
  },
  {
   "cell_type": "markdown",
   "metadata": {},
   "source": [
    "The below example is derived from a LaTeX document with a `\\numberwithin{equation}{subsection}` in which the theorem-like environments are numbered with the `equation` counter. In particular, theorem-like environments and subsections are counted together.\n",
    "\n",
    "Also, note that the below example starts with an explicitly defined section, so there is no section given by the `UNTITLED_SECTION_TITLE` constant."
   ]
  },
  {
   "cell_type": "code",
   "execution_count": null,
   "metadata": {},
   "outputs": [],
   "source": [
    "parts = [\n",
    "    ['1. This is section 1', '\\\\section{This is section 1}'],\n",
    "    ['1.1. Theorem.', '\\\\begin{thm}\\nThis is 1.1. Theorem. Note that the \\\\verb|\\\\swapnumbers| command is invoked in the preamble.\\n\\\\end{thm}'],\n",
    "    ['1.2. This is 1.2. subsection.', '\\\\subsection{This is 1.2. subsection.}'],\n",
    "    ['1', 'Note that the equation counter is numbered within the subsection counter and that the theorem-like environments are numbered with the equation counter.\\n\\n\\\\subsubsection{This is 1.2.1. Subsubsection}'],\n",
    "    ['1. Remark.', '\\\\begin{remark}\\nThis is an 1. Remark. Note that \\\\verb|\\\\remark| has a counter separate from those of many of the other theorem-like environments.\\n\\\\end{remark}'],\n",
    "    ['Remark', '\\\\begin{rem*}\\nThis is an unnumbered Remark.\\n\\\\end{rem*}'],\n",
    "    ['1.3. Proposition.', '\\\\begin{prop}\\nThis is 1.3. Proposition.\\n\\\\end{prop}'],\n",
    "    ['Unnumbered section', '\\\\section*{Unnumbered section}'],\n",
    "    ['1.1. Theorem.', '\\\\begin{thm}\\nThis is 1.4. Theorem.\\n\\\\end{thm}'],\n",
    "    ['2. This is Section 2', '\\\\section{This is Section 2}'],\n",
    "    ['2.1. Theorem.', '\\\\begin{thm}\\nThis is 2.1. Theorem\\n\\\\end{thm}']]\n",
    "sample_output = section_and_subsection_titles_from_latex_parts(parts)\n",
    "test_eq(sample_output, [['1. This is section 1', '1.2. This is 1.2. subsection.'], ['Unnumbered section'], ['2. This is Section 2']])\n"
   ]
  },
  {
   "cell_type": "markdown",
   "metadata": {},
   "source": [
    "The titles of the sections are stripped of their leading and trailing whitespaces (if available)"
   ]
  },
  {
   "cell_type": "code",
   "execution_count": null,
   "metadata": {},
   "outputs": [],
   "source": [
    "# The below example makes sure that titles are stripped\n",
    "parts = [\n",
    "    ['   1. Section with an unnumbered subsection   ', '\\\\section{Section with an unnumbered subsection}'],\n",
    "    ['1', 'This is a section with an unnumbered subsection'],\n",
    "    ['1.1. ', '\\\\subsection{}']\n",
    "]\n",
    "sample_output = section_and_subsection_titles_from_latex_parts(parts)\n",
    "test_eq(sample_output, [['1. Section with an unnumbered subsection', '1.1.']])\n",
    "\n"
   ]
  },
  {
   "cell_type": "code",
   "execution_count": null,
   "metadata": {},
   "outputs": [
    {
     "name": "stdout",
     "output_type": "stream",
     "text": [
      "[['1. This is section 1', '\\\\section{This is section 1}'], ['1.1. This is section 1.1', '\\\\subsection{This is section 1.1}'], ['1.2. This is section 1.2', '\\\\subsection{This is section 1.2}'], ['2. This is section 2', '\\\\section{This is section 2}'], ['3. This is section 3', '\\\\section{This is section 3}'], ['3.1. This is section 3.1', '\\\\subsection{This is section 3.1}'], ['3.2. This is section 3.2', '\\\\subsection{This is section 3.2}'], ['3.3. This is section 3.3', '\\\\subsection{This is section 3.3}'], ['3.4. This is section 3.4', '\\\\subsection{This is section 3.4}']]\n"
     ]
    }
   ],
   "source": [
    "file = _test_directory() / 'latex_examples' / 'latex_example_with_plenty_of_sections_and_subsections' / 'main.tex'\n",
    "text = text_from_file(file)\n",
    "parts = divide_latex_text(text) \n",
    "print(parts)\n",
    "sample_output = section_and_subsection_titles_from_latex_parts(parts)\n",
    "test_eq(sample_output,\n",
    "        [['1. This is section 1', '1.1. This is section 1.1', '1.2. This is section 1.2'],\n",
    "         ['2. This is section 2'],\n",
    "         ['3. This is section 3', '3.1. This is section 3.1', '3.2. This is section 3.2', '3.3. This is section 3.3', '3.4. This is section 3.4']])"
   ]
  }
 ],
 "metadata": {
  "kernelspec": {
   "display_name": "trouver_py310_venv",
   "language": "python",
   "name": "trouver_py310_venv"
  }
 },
 "nbformat": 4,
 "nbformat_minor": 2
}
