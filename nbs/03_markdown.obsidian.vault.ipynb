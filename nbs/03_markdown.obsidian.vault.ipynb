{
 "cells": [
  {
   "cell_type": "markdown",
   "metadata": {},
   "source": [
    "# markdown.obsidian.vault\n",
    "\n",
    "> Functions for inspecting and modifying Obsidian.md vaults and their folders "
   ]
  },
  {
   "cell_type": "code",
   "execution_count": null,
   "metadata": {},
   "outputs": [],
   "source": [
    "# TODO: explain what this module is supposed to do.\n",
    "# TODO: talk about how vault notes are md files.\n",
    "# TODO: talk about Wikilinks vs Obsidian links"
   ]
  },
  {
   "cell_type": "code",
   "execution_count": null,
   "metadata": {},
   "outputs": [],
   "source": [
    "#| default_exp markdown.obsidian.vault"
   ]
  },
  {
   "cell_type": "code",
   "execution_count": null,
   "metadata": {},
   "outputs": [],
   "source": [
    "#| export\n",
    "from pathlib import Path\n",
    "import os\n",
    "from os import PathLike\n",
    "from trouver.helper import (\n",
    "    path_name_no_ext, path_no_ext\n",
    ")\n",
    "from typing import Union"
   ]
  },
  {
   "cell_type": "code",
   "execution_count": null,
   "metadata": {},
   "outputs": [],
   "source": [
    "import tempfile\n",
    "from fastcore.test import *\n",
    "from nbdev.showdoc import show_doc"
   ]
  },
  {
   "cell_type": "markdown",
   "metadata": {},
   "source": [
    "## Errors"
   ]
  },
  {
   "cell_type": "code",
   "execution_count": null,
   "metadata": {},
   "outputs": [],
   "source": [
    "#| export\n",
    "class NoteNotUniqueError(FileNotFoundError):\n",
    "    \"\"\"\n",
    "    A `NoteNotUniqueError` is raised when a `VaultNote` is specified\n",
    "    by name and not by relative path in the vault, but\n",
    "    the vault is found to have multiple notes of the name.\n",
    "\n",
    "    **Attributes**\n",
    "\n",
    "    - `note_name` - str\n",
    "        - The name of the note which is not unique in the vault.\n",
    "    - `notes` - list[str]\n",
    "        - The paths of the notes whose names are `note_name`.\n",
    "    \"\"\"\n",
    "    def __init__(self, /, *args, **kwargs):\n",
    "        super().__init__(*args, **kwargs)\n",
    "            \n",
    "    @classmethod\n",
    "    def from_note_names(cls, note_name: str, notes: list[str]):\n",
    "        \"\"\"Construct a `NoteNotUniqueError` object from note names\"\"\"\n",
    "        return cls(\n",
    "            f'The note of the following name is not unique: {note_name}\\n'\\\n",
    "            f'The name points to the following files: {notes}')\n",
    "\n"
   ]
  },
  {
   "cell_type": "code",
   "execution_count": null,
   "metadata": {},
   "outputs": [
    {
     "data": {
      "text/markdown": [
       "---\n",
       "\n",
       "### NoteNotUniqueError.from_note_names\n",
       "\n",
       ">      NoteNotUniqueError.from_note_names (note_name:str, notes:list[str])\n",
       "\n",
       "Construct a `NoteNotUniqueError` object from note names"
      ],
      "text/plain": [
       "---\n",
       "\n",
       "### NoteNotUniqueError.from_note_names\n",
       "\n",
       ">      NoteNotUniqueError.from_note_names (note_name:str, notes:list[str])\n",
       "\n",
       "Construct a `NoteNotUniqueError` object from note names"
      ]
     },
     "execution_count": null,
     "metadata": {},
     "output_type": "execute_result"
    }
   ],
   "source": [
    "show_doc(NoteNotUniqueError.from_note_names)"
   ]
  },
  {
   "cell_type": "code",
   "execution_count": null,
   "metadata": {},
   "outputs": [],
   "source": [
    "#| export\n",
    "class NoteDoesNotExistError(FileNotFoundError):\n",
    "    \"\"\"\n",
    "    A `NoteDoesNotExistError` is raised when a `VaultNote` is specified\n",
    "    by either name and or by relative path in the vault, but\n",
    "    the vault is found to have no notes of the name.\n",
    "    \"\"\"\n",
    "    def __init__(self, /, *args, **kwargs):\n",
    "        super().__init__(*args, **kwargs)\n",
    "\n",
    "    @classmethod\n",
    "    def from_note_name(cls, note_name: str):\n",
    "        \"\"\"Construct a `NoteDoesNotExistError` object from note name\"\"\"\n",
    "        return cls(\n",
    "            f'The note of the following name does not exist: {note_name}.'\n",
    "            f' Make sure that the argument passed to `note_name` does not'\n",
    "            f' erroneously end with `.md`, e.g. pass `this_is_a_note`'\n",
    "            f' instead of `this_is_a_note.md`.')"
   ]
  },
  {
   "cell_type": "markdown",
   "metadata": {},
   "source": [
    "## Convert path to Obsidian ID"
   ]
  },
  {
   "cell_type": "code",
   "execution_count": null,
   "metadata": {},
   "outputs": [],
   "source": [
    "#| export\n",
    "def path_to_obs_id(\n",
    "        rel_path: PathLike # A path representation the path of an Obsidian note relative to its vault. This does not have to be an existing path.\n",
    "        ) -> str: # The obsidian url of the hypothetical note within its vault.\n",
    "    \"\"\"Convert a relative path of an Obsidian note to the Obsidian identifying\n",
    "    str.\n",
    "    \n",
    "    This identification is for a vault-internal Wikilink.\n",
    "\n",
    "    Note that this function does not have a vault as a parameter.\n",
    "    \"\"\"\n",
    "    path_without_extension = path_no_ext(rel_path)\n",
    "    return path_without_extension.replace('\\\\', '/')"
   ]
  },
  {
   "cell_type": "markdown",
   "metadata": {},
   "source": [
    "Obsidian formats its file paths with '/'; the `path_to_obs_id` function converts a relative path of an Obsidian note to the Obsidian-recognized path."
   ]
  },
  {
   "cell_type": "code",
   "execution_count": null,
   "metadata": {},
   "outputs": [],
   "source": [
    "assert path_to_obs_id(\n",
    "    r'algebraic_geometry\\foag\\III_morphisms\\8_closed_embeddings_and_related_notions\\1_closed_embeddings_and_closed_subschemes\\sheaf_of_ideals_on_a_scheme.md')\\\n",
    "    == 'algebraic_geometry/foag/III_morphisms/8_closed_embeddings_and_related_notions/1_closed_embeddings_and_closed_subschemes/sheaf_of_ideals_on_a_scheme'"
   ]
  },
  {
   "cell_type": "markdown",
   "metadata": {},
   "source": [
    "Obsidian notes might contain spaces in their paths."
   ]
  },
  {
   "cell_type": "code",
   "execution_count": null,
   "metadata": {},
   "outputs": [],
   "source": [
    "assert path_to_obs_id(\n",
    "    Path('number_theory/18785/9_local_fields_and_hensels_lemmas/1_local_fields/18785_Theorem 9.9.md')\n",
    ") == 'number_theory/18785/9_local_fields_and_hensels_lemmas/1_local_fields/18785_Theorem 9.9' "
   ]
  },
  {
   "cell_type": "markdown",
   "metadata": {},
   "source": [
    "## Get all notes"
   ]
  },
  {
   "cell_type": "markdown",
   "metadata": {},
   "source": [
    "In this subsection, we take an example vault with the following files and folders:\n",
    "\n",
    "```\n",
    "root\n",
    "+-- algebra\n",
    "    +-- altman_kleiman_ca\n",
    "        +-- ring.md\n",
    "    +-- ring.md\n",
    "+-- analysis\n",
    "+-- category_theory\n",
    "    +-- category.md\n",
    "+-- _index.md\n",
    "```\n",
    "\n",
    "Note that it has $4$ files and $4$ folders in total."
   ]
  },
  {
   "cell_type": "code",
   "execution_count": null,
   "metadata": {},
   "outputs": [],
   "source": [
    "def make_example_vault(temp_dir: PathLike):\n",
    "    temp_dir = Path(temp_dir)\n",
    "    os.mkdir(temp_dir / 'algebra')\n",
    "    os.mkdir(temp_dir / 'algebra' / 'altman_kleiman_ca')\n",
    "    os.mkdir(temp_dir / 'analysis')\n",
    "    os.mkdir(temp_dir / 'category_theory')\n",
    "    (temp_dir / 'algebra' / 'ring.md').touch()\n",
    "    (temp_dir / 'algebra' / 'altman_kleiman_ca' / 'ring.md').touch()\n",
    "    (temp_dir / 'category_theory' / 'category.md').touch()\n",
    "    (temp_dir / '_index.md').touch()"
   ]
  },
  {
   "cell_type": "code",
   "execution_count": null,
   "metadata": {},
   "outputs": [],
   "source": [
    "#| export\n",
    "def all_paths_to_notes_in_vault(\n",
    "        vault: PathLike, as_dict: bool = False)\\\n",
    "        -> Union[list[str], dict[str, list[str]]]:\n",
    "    \"\"\"Returns the paths, relative to the Obsidian vault, of notes \n",
    "    in the Obsidian vault.\n",
    "       \n",
    "    This may not actually return all of the paths to the notes, see\n",
    "    the parameter `as_dict`.\n",
    "\n",
    "    **Parameters**\n",
    "\n",
    "    - `vault` - `PathLike`\n",
    "        - The path to the Obsidian vault directory\n",
    "    - `as_dict` - `bool`\n",
    "        - If `True`, then returns a dict. If `False`, then returns\n",
    "        a list. Defaults to `False`. If there are multiple notes with the same\n",
    "        name in the vault, and `as_dict` is set to `True`, then the dictionary\n",
    "        will contain only one of the (relative) paths to those notes among its\n",
    "        values. If `as_dict` is set to `False`, then the list will contain\n",
    "        all the paths to the notes even when notes with non-unique names exist.\n",
    "        \n",
    "    **Returns**\n",
    "\n",
    "    - Union[list[str], dict[str, str]]\n",
    "        - Each str represents the path relative to `vault`. If `as_dict` is\n",
    "        True, then returns a dict whose keys are str, which are (unique) names\n",
    "        of the notes in the vault, and the values are the paths.\n",
    "    \"\"\"\n",
    "    vault = Path(vault)\n",
    "    paths =  [os.path.relpath(path, vault) for path in vault.glob(f'**/*.md')]\n",
    "    if as_dict:\n",
    "        dicty = {path_name_no_ext(path): [] for path in paths}\n",
    "        for path in paths:\n",
    "            dicty[path_name_no_ext(path)].append(path)\n",
    "        return dicty\n",
    "    else:\n",
    "        return paths\n"
   ]
  },
  {
   "cell_type": "markdown",
   "metadata": {},
   "source": [
    "The `all_paths_to_notes_in_vault` function returns all of the paths to notes in the Obsidian vault; only `.md` files are recognized as notes.\n",
    "\n",
    "By default, the function returns a list whose items are strings of paths to notes relative to the vault path."
   ]
  },
  {
   "cell_type": "code",
   "execution_count": null,
   "metadata": {},
   "outputs": [
    {
     "name": "stdout",
     "output_type": "stream",
     "text": [
      "['_index.md', 'algebra\\\\ring.md', 'algebra\\\\altman_kleiman_ca\\\\ring.md', 'category_theory\\\\category.md']\n"
     ]
    }
   ],
   "source": [
    "with tempfile.TemporaryDirectory(prefix='temp_dir', dir=os.getcwd()) as temp_dir:\n",
    "    make_example_vault(temp_dir)\n",
    "    # os.startfile(os.getcwd())\n",
    "\n",
    "    notes = all_paths_to_notes_in_vault(temp_dir)\n",
    "    test_eq(len(notes), 4)\n",
    "    print(notes)\n",
    "    # test_shuffled(, list)\n",
    "    "
   ]
  },
  {
   "cell_type": "markdown",
   "metadata": {},
   "source": [
    "Passing `as_dict=True` returns a dictionary whose keys are note names and whose values are lists of paths to notes of the name relative to the vault."
   ]
  },
  {
   "cell_type": "code",
   "execution_count": null,
   "metadata": {},
   "outputs": [
    {
     "name": "stdout",
     "output_type": "stream",
     "text": [
      "{'_index': ['_index.md'], 'ring': ['algebra\\\\ring.md', 'algebra\\\\altman_kleiman_ca\\\\ring.md'], 'category': ['category_theory\\\\category.md']}\n"
     ]
    }
   ],
   "source": [
    "with tempfile.TemporaryDirectory(prefix='temp_dir', dir=os.getcwd()) as temp_dir:\n",
    "    make_example_vault(temp_dir)\n",
    "    # os.startfile(os.getcwd())\n",
    "\n",
    "    notes = all_paths_to_notes_in_vault(temp_dir, as_dict=True)\n",
    "    test_eq(len(notes), 3)\n",
    "    test_eq(len(notes['ring']), 2)\n",
    "    print(notes)\n"
   ]
  },
  {
   "cell_type": "markdown",
   "metadata": {},
   "source": [
    "## Searching notes by name"
   ]
  },
  {
   "cell_type": "code",
   "execution_count": null,
   "metadata": {},
   "outputs": [],
   "source": [
    "#| export\n",
    "def all_note_paths_by_name(\n",
    "        name: str, vault: PathLike,\n",
    "        subdirectory: Union[PathLike, None] = None) -> list[Path]:\n",
    "    \"\"\"Returns the relative paths to all notes in the Obsidian vault \n",
    "    with the specified name in the specified subdirectory.\n",
    "    \n",
    "    This function does not assume that the specified subdirectory in the vault\n",
    "    has at most one note of the specified name.\n",
    "    \n",
    "    **Parameters**\n",
    "    - `name` - str\n",
    "    - `vault` - PathLike\n",
    "        - The path to the Obsidian vault directory\n",
    "    - `subdirectory` - Union[PathLike, None]\n",
    "        - The path to a subdirectory in the Obsidian vault, relative\n",
    "        to `vault. If `None`, then denotes the root of the vault. \n",
    "        Defaults to `None`.\n",
    "        \n",
    "    **Returns**\n",
    "    - list[Path]\n",
    "        - Each item is a path to a note of the given name, relative to\n",
    "        `vault`.\n",
    "    \"\"\"\n",
    "    vault = vault if vault != None else ''\n",
    "    vault = Path(vault)\n",
    "    subdirectory = subdirectory if subdirectory != None else ''\n",
    "    directory_path = vault / subdirectory\n",
    "    all_notes_of_name = directory_path.glob(f'**/{name}.md')\n",
    "    all_notes_of_name = list(all_notes_of_name)\n",
    "    return [note_path.relative_to(vault) for note_path in all_notes_of_name]"
   ]
  },
  {
   "cell_type": "markdown",
   "metadata": {},
   "source": [
    "Basic usage:"
   ]
  }
 ],
 "metadata": {
  "kernelspec": {
   "display_name": "Python 3.10.6 64-bit",
   "language": "python",
   "name": "python3"
  }
 },
 "nbformat": 4,
 "nbformat_minor": 2
}
