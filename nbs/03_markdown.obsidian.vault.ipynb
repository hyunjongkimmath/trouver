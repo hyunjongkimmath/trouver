{
 "cells": [
  {
   "cell_type": "markdown",
   "metadata": {},
   "source": [
    "# markdown.obsidian.vault\n",
    "\n",
    "> Functions for inspecting and modifying Obsidian.md vaults and their folders "
   ]
  },
  {
   "cell_type": "code",
   "execution_count": null,
   "metadata": {},
   "outputs": [],
   "source": [
    "# TODO: explain what this module is supposed to do.\n",
    "# TODO: talk about how vault notes are md files.\n",
    "# TODO: talk about Wikilinks vs Obsidian links"
   ]
  },
  {
   "cell_type": "code",
   "execution_count": null,
   "metadata": {},
   "outputs": [],
   "source": [
    "#| default_exp markdown.obsidian.vault"
   ]
  },
  {
   "cell_type": "code",
   "execution_count": null,
   "metadata": {},
   "outputs": [],
   "source": [
    "#| export\n",
    "from pathlib import Path\n",
    "import os\n",
    "from os import PathLike\n",
    "from trouver.helper import (\n",
    "    path_name_no_ext, path_no_ext\n",
    ")\n",
    "from typing import Union"
   ]
  },
  {
   "cell_type": "code",
   "execution_count": null,
   "metadata": {},
   "outputs": [],
   "source": [
    "import tempfile\n",
    "\n",
    "from fastcore.test import *\n",
    "from nbdev.showdoc import show_doc\n",
    "\n",
    "from trouver.helper import path_name_no_ext"
   ]
  },
  {
   "cell_type": "markdown",
   "metadata": {},
   "source": [
    "## Errors"
   ]
  },
  {
   "cell_type": "code",
   "execution_count": null,
   "metadata": {},
   "outputs": [],
   "source": [
    "#| export\n",
    "class NoteNotUniqueError(FileNotFoundError):\n",
    "    \"\"\"\n",
    "    A `NoteNotUniqueError` is raised when a `VaultNote` is specified\n",
    "    by name and not by relative path in the vault, but\n",
    "    the vault is found to have multiple notes of the name.\n",
    "\n",
    "    **Attributes**\n",
    "\n",
    "    - `note_name` - str\n",
    "        - The name of the note which is not unique in the vault.\n",
    "    - `notes` - list[str]\n",
    "        - The paths of the notes whose names are `note_name`.\n",
    "    \"\"\"\n",
    "    def __init__(self, /, *args, **kwargs):\n",
    "        super().__init__(*args, **kwargs)\n",
    "            \n",
    "    @classmethod\n",
    "    def from_note_names(cls, note_name: str, notes: list[str]):\n",
    "        \"\"\"Construct a `NoteNotUniqueError` object from note names\"\"\"\n",
    "        return cls(\n",
    "            f'The note of the following name is not unique: {note_name}\\n'\\\n",
    "            f'The name points to the following files: {notes}')\n",
    "\n"
   ]
  },
  {
   "cell_type": "code",
   "execution_count": null,
   "metadata": {},
   "outputs": [
    {
     "data": {
      "text/markdown": [
       "---\n",
       "\n",
       "[source](https://github.com/hyunjongkimmath/trouver/blob/main/trouver/markdown/obsidian/vault.py#L34){target=\"_blank\" style=\"float:right; font-size:smaller\"}\n",
       "\n",
       "### NoteNotUniqueError.from_note_names\n",
       "\n",
       ">      NoteNotUniqueError.from_note_names (note_name:str, notes:list[str])\n",
       "\n",
       "Construct a `NoteNotUniqueError` object from note names"
      ],
      "text/plain": [
       "---\n",
       "\n",
       "[source](https://github.com/hyunjongkimmath/trouver/blob/main/trouver/markdown/obsidian/vault.py#L34){target=\"_blank\" style=\"float:right; font-size:smaller\"}\n",
       "\n",
       "### NoteNotUniqueError.from_note_names\n",
       "\n",
       ">      NoteNotUniqueError.from_note_names (note_name:str, notes:list[str])\n",
       "\n",
       "Construct a `NoteNotUniqueError` object from note names"
      ]
     },
     "execution_count": null,
     "metadata": {},
     "output_type": "execute_result"
    }
   ],
   "source": [
    "show_doc(NoteNotUniqueError.from_note_names)"
   ]
  },
  {
   "cell_type": "code",
   "execution_count": null,
   "metadata": {},
   "outputs": [],
   "source": [
    "#| export\n",
    "class NoteDoesNotExistError(FileNotFoundError):\n",
    "    \"\"\"\n",
    "    A `NoteDoesNotExistError` is raised when a `VaultNote` is specified\n",
    "    by either name and or by relative path in the vault, but\n",
    "    the vault is found to have no notes of the name.\n",
    "    \"\"\"\n",
    "    def __init__(self, /, *args, **kwargs):\n",
    "        super().__init__(*args, **kwargs)\n",
    "\n",
    "    @classmethod\n",
    "    def from_note_name(cls, note_name: str):\n",
    "        \"\"\"Construct a `NoteDoesNotExistError` object from note name\"\"\"\n",
    "        return cls(\n",
    "            f'The note of the following name does not exist: {note_name}.'\n",
    "            f' Make sure that the argument passed to `note_name` does not'\n",
    "            f' erroneously end with `.md`, e.g. pass `this_is_a_note`'\n",
    "            f' instead of `this_is_a_note.md`.')"
   ]
  },
  {
   "cell_type": "markdown",
   "metadata": {},
   "source": [
    "## Convert path to Obsidian ID"
   ]
  },
  {
   "cell_type": "code",
   "execution_count": null,
   "metadata": {},
   "outputs": [],
   "source": [
    "#| export\n",
    "def path_to_obs_id(\n",
    "        rel_path: PathLike # A path representation the path of an Obsidian note relative to its vault. This does not have to be an existing path.\n",
    "        ) -> str: # The obsidian url of the hypothetical note within its vault.\n",
    "    \"\"\"Convert a relative path of an Obsidian note to the Obsidian identifying\n",
    "    str.\n",
    "    \n",
    "    This identification is for a vault-internal Wikilink.\n",
    "\n",
    "    Note that this function does not have a vault as a parameter.\n",
    "    \"\"\"\n",
    "    path_without_extension = path_no_ext(rel_path)\n",
    "    return path_without_extension.replace('\\\\', '/')"
   ]
  },
  {
   "cell_type": "markdown",
   "metadata": {},
   "source": [
    "Obsidian formats its file paths with '/'; the `path_to_obs_id` function converts a relative path of an Obsidian note to the Obsidian-recognized path."
   ]
  },
  {
   "cell_type": "code",
   "execution_count": null,
   "metadata": {},
   "outputs": [],
   "source": [
    "assert path_to_obs_id(\n",
    "    r'algebraic_geometry\\foag\\III_morphisms\\8_closed_embeddings_and_related_notions\\1_closed_embeddings_and_closed_subschemes\\sheaf_of_ideals_on_a_scheme.md')\\\n",
    "    == 'algebraic_geometry/foag/III_morphisms/8_closed_embeddings_and_related_notions/1_closed_embeddings_and_closed_subschemes/sheaf_of_ideals_on_a_scheme'"
   ]
  },
  {
   "cell_type": "markdown",
   "metadata": {},
   "source": [
    "Obsidian notes might contain spaces in their paths."
   ]
  },
  {
   "cell_type": "code",
   "execution_count": null,
   "metadata": {},
   "outputs": [],
   "source": [
    "assert path_to_obs_id(\n",
    "    Path('number_theory/18785/9_local_fields_and_hensels_lemmas/1_local_fields/18785_Theorem 9.9.md')\n",
    ") == 'number_theory/18785/9_local_fields_and_hensels_lemmas/1_local_fields/18785_Theorem 9.9' "
   ]
  },
  {
   "cell_type": "markdown",
   "metadata": {},
   "source": [
    "## Example vault\n"
   ]
  },
  {
   "cell_type": "markdown",
   "metadata": {},
   "source": [
    "We use the following example vault to demonstrate how to use the functions below:\n",
    "\n",
    "```\n",
    "root\n",
    "+-- algebra\n",
    "    +-- altman_kleiman_ca\n",
    "        +-- ring.md\n",
    "    +-- ring.md\n",
    "+-- analysis\n",
    "    +-- exponential_function.md\n",
    "+-- category_theory\n",
    "    +-- category.md\n",
    "+-- topology\n",
    "    +-- category.md\n",
    "+-- _index.md\n",
    "```\n",
    "\n",
    "Note that it has $6$ files and $5$ folders in total."
   ]
  },
  {
   "cell_type": "code",
   "execution_count": null,
   "metadata": {},
   "outputs": [],
   "source": [
    "def make_example_vault(temp_dir: PathLike):\n",
    "    temp_dir = Path(temp_dir)\n",
    "    os.mkdir(temp_dir / 'algebra')\n",
    "    os.mkdir(temp_dir / 'algebra' / 'altman_kleiman_ca')\n",
    "    os.mkdir(temp_dir / 'analysis')\n",
    "    os.mkdir(temp_dir / 'category_theory')\n",
    "    os.mkdir(temp_dir / 'topology')\n",
    "    (temp_dir / 'algebra' / 'ring.md').touch()\n",
    "    (temp_dir / 'algebra' / 'altman_kleiman_ca' / 'ring.md').touch()\n",
    "    (temp_dir / 'analysis' / 'exponential_function.md').touch()\n",
    "    (temp_dir / 'category_theory' / 'category.md').touch()\n",
    "    (temp_dir / 'topology' / 'category.md').touch()\n",
    "    (temp_dir / '_index.md').touch()"
   ]
  },
  {
   "cell_type": "markdown",
   "metadata": {},
   "source": [
    "## Get all notes"
   ]
  },
  {
   "cell_type": "code",
   "execution_count": null,
   "metadata": {},
   "outputs": [],
   "source": [
    "#| export\n",
    "def all_paths_to_notes_in_vault(\n",
    "        vault: PathLike, as_dict: bool = False)\\\n",
    "        -> Union[list[str], dict[str, list[str]]]:\n",
    "    \"\"\"Return the paths, relative to the Obsidian vault, of notes \n",
    "    in the Obsidian vault.\n",
    "       \n",
    "    This may not actually return all of the paths to the notes, see\n",
    "    the parameter `as_dict`.\n",
    "\n",
    "    **Parameters**\n",
    "\n",
    "    - `vault` - `PathLike`\n",
    "        - The path to the Obsidian vault directory\n",
    "    - `as_dict` - `bool`\n",
    "        - If `True`, then returns a dict. If `False`, then returns\n",
    "        a list. Defaults to `False`. If there are multiple notes with the same\n",
    "        name in the vault, and `as_dict` is set to `True`, then the dictionary\n",
    "        will contain only one of the (relative) paths to those notes among its\n",
    "        values. If `as_dict` is set to `False`, then the list will contain\n",
    "        all the paths to the notes even when notes with non-unique names exist.\n",
    "        \n",
    "    **Returns**\n",
    "\n",
    "    - Union[list[str], dict[str, str]]\n",
    "        - Each str represents the path relative to `vault`. If `as_dict` is\n",
    "        True, then returns a dict whose keys are str, which are (unique) names\n",
    "        of the notes in the vault, and the values are the paths.\n",
    "    \"\"\"\n",
    "    vault = Path(vault)\n",
    "    paths =  [os.path.relpath(path, vault) for path in vault.glob(f'**/*.md')]\n",
    "    if as_dict:\n",
    "        dicty = {path_name_no_ext(path): [] for path in paths}\n",
    "        for path in paths:\n",
    "            dicty[path_name_no_ext(path)].append(path)\n",
    "        return dicty\n",
    "    else:\n",
    "        return paths\n"
   ]
  },
  {
   "cell_type": "markdown",
   "metadata": {},
   "source": [
    "The `all_paths_to_notes_in_vault` function returns all of the paths to notes in the Obsidian vault; only `.md` files are recognized as notes.\n",
    "\n",
    "By default, the function returns a list whose items are strings of paths to notes relative to the vault path."
   ]
  },
  {
   "cell_type": "code",
   "execution_count": null,
   "metadata": {},
   "outputs": [
    {
     "name": "stdout",
     "output_type": "stream",
     "text": [
      "['_index.md', 'algebra\\\\ring.md', 'algebra\\\\altman_kleiman_ca\\\\ring.md', 'analysis\\\\exponential_function.md', 'category_theory\\\\category.md', 'topology\\\\category.md']\n"
     ]
    }
   ],
   "source": [
    "with tempfile.TemporaryDirectory(prefix='temp_dir', dir=os.getcwd()) as temp_dir:\n",
    "    make_example_vault(temp_dir)\n",
    "    # os.startfile(os.getcwd())\n",
    "\n",
    "    notes = all_paths_to_notes_in_vault(temp_dir)\n",
    "    test_eq(len(notes), 6)\n",
    "    print(notes)\n",
    "    # test_shuffled(, list)\n",
    "    "
   ]
  },
  {
   "cell_type": "markdown",
   "metadata": {},
   "source": [
    "Passing `as_dict=True` returns a dictionary whose keys are note names and whose values are lists of paths to notes of the name relative to the vault."
   ]
  },
  {
   "cell_type": "code",
   "execution_count": null,
   "metadata": {},
   "outputs": [
    {
     "name": "stdout",
     "output_type": "stream",
     "text": [
      "{'_index': ['_index.md'], 'ring': ['algebra\\\\ring.md', 'algebra\\\\altman_kleiman_ca\\\\ring.md'], 'exponential_function': ['analysis\\\\exponential_function.md'], 'category': ['category_theory\\\\category.md', 'topology\\\\category.md']}\n"
     ]
    }
   ],
   "source": [
    "with tempfile.TemporaryDirectory(prefix='temp_dir', dir=os.getcwd()) as temp_dir:\n",
    "    make_example_vault(temp_dir)\n",
    "    # os.startfile(os.getcwd())\n",
    "\n",
    "    notes = all_paths_to_notes_in_vault(temp_dir, as_dict=True)\n",
    "    test_eq(len(notes), 4)\n",
    "    test_eq(len(notes['ring']), 2)\n",
    "    print(notes)\n"
   ]
  },
  {
   "cell_type": "markdown",
   "metadata": {},
   "source": [
    "## Searching notes by name"
   ]
  },
  {
   "cell_type": "code",
   "execution_count": null,
   "metadata": {},
   "outputs": [],
   "source": [
    "#| export\n",
    "def all_note_paths_by_name(\n",
    "        name: str,  # Name of the note(s) to find\n",
    "        vault: PathLike,  # The path to the Obsidian vault directory\n",
    "        subdirectory: Union[PathLike, None] = None # The path to a subdirectory in the Obsidian vault, relative to `vault`. If `None`, then denotes the root of the vault.\n",
    "        ) -> list[Path]: # Each item is a path to a note of the given name, relative to `vault`.\n",
    "    \"\"\"Return the relative paths to all notes in the Obsidian vault \n",
    "    with the specified name in the specified subdirectory.\n",
    "    \n",
    "    This function does not assume that the specified subdirectory in the vault\n",
    "    has at most one note of the specified name.\n",
    "    \n",
    "    \"\"\"\n",
    "    vault = vault if vault != None else ''\n",
    "    vault = Path(vault)\n",
    "    subdirectory = subdirectory if subdirectory != None else ''\n",
    "    directory_path = vault / subdirectory\n",
    "    all_notes_of_name = directory_path.glob(f'**/{name}.md')\n",
    "    all_notes_of_name = list(all_notes_of_name)\n",
    "    return [note_path.relative_to(vault) for note_path in all_notes_of_name]"
   ]
  },
  {
   "cell_type": "markdown",
   "metadata": {},
   "source": [
    "Basic usage:"
   ]
  },
  {
   "cell_type": "code",
   "execution_count": null,
   "metadata": {},
   "outputs": [
    {
     "name": "stdout",
     "output_type": "stream",
     "text": [
      "Searched for notes of name `ring`:\n",
      "[Path('algebra/ring.md'), Path('algebra/altman_kleiman_ca/ring.md')] \n",
      "\n",
      "Searched for notes of name `exponential_function`:\n",
      "[Path('analysis/exponential_function.md')] \n",
      "\n",
      "Searching for a non-existent note name yields an empty list:\n",
      "[]\n"
     ]
    }
   ],
   "source": [
    "with tempfile.TemporaryDirectory(prefix='temp_dir', dir=os.getcwd()) as temp_dir:\n",
    "    make_example_vault(temp_dir)\n",
    "\n",
    "    notes = all_note_paths_by_name('ring', temp_dir)\n",
    "    print('Searched for notes of name `ring`:')\n",
    "    print(notes, '\\n')\n",
    "    assert len(notes) == 2\n",
    "\n",
    "    notes = all_note_paths_by_name('exponential_function', temp_dir)\n",
    "    print('Searched for notes of name `exponential_function`:')\n",
    "    print(notes, '\\n')\n",
    "    assert len(notes) == 1\n",
    "\n",
    "    empty_list = all_note_paths_by_name('non-existent-note-name', temp_dir)\n",
    "    print('Searching for a non-existent note name yields an empty list:')\n",
    "    print(empty_list)\n",
    "    assert len(empty_list) == 0"
   ]
  },
  {
   "cell_type": "markdown",
   "metadata": {},
   "source": [
    "We can specify a subdirectory inside the vault to restrict the search to."
   ]
  },
  {
   "cell_type": "code",
   "execution_count": null,
   "metadata": {},
   "outputs": [
    {
     "name": "stdout",
     "output_type": "stream",
     "text": [
      "All notes named `category`:\n",
      " [Path('category_theory/category.md'), Path('topology/category.md')] \n",
      "\n",
      "All notes named `category` in the subdirectory `topology`\n",
      "[Path('topology/category.md')]\n"
     ]
    }
   ],
   "source": [
    "with tempfile.TemporaryDirectory(prefix='temp_dir', dir=os.getcwd()) as vault:\n",
    "    make_example_vault(vault)\n",
    "\n",
    "    all_notes_named_curve_in_vault = all_note_paths_by_name('category', vault)\n",
    "    print('All notes named `category`:\\n', all_notes_named_curve_in_vault, '\\n')\n",
    "    assert len(all_notes_named_curve_in_vault) == 2\n",
    "    for note_path in all_notes_named_curve_in_vault:\n",
    "        test_eq(path_name_no_ext(note_path), 'category')\n",
    "    \n",
    "    print('All notes named `category` in the subdirectory `topology`')\n",
    "    notes_named_topology_in_subdirectory = all_note_paths_by_name(\n",
    "        'category', vault, 'topology')\n",
    "    print(notes_named_topology_in_subdirectory)\n",
    "    assert len(notes_named_topology_in_subdirectory) == 1\n",
    "    assert path_name_no_ext(notes_named_topology_in_subdirectory[0]) == 'category'"
   ]
  },
  {
   "cell_type": "code",
   "execution_count": null,
   "metadata": {},
   "outputs": [],
   "source": [
    "#| export\n",
    "# TODO: include examples of `hints` parameter.\n",
    "def note_path_by_name(\n",
    "        name: str, # The path to the Obsidian vault directory.\n",
    "        vault: PathLike, # The path to a subdirectory in the Obsidian vault. If `None`, then denotes the root of the vault.\n",
    "        subdirectory: Union[PathLike, None] = None, # The path to a subdirectory in the Obsidian vault. If `None`, then denotes the root of the vault.\n",
    "        hints: Union[list[PathLike], None] = None # Hints of which directories, relative to `subdirectory` that the note may likely be in. This is for speedup. The directories will be searched in the order listed.\n",
    "        ) -> Path: # The note of the specified name in the specified subdirectory of the vault.\n",
    "    \"\"\"Return the path, relative to a subdirectory in the vault, \n",
    "    of the note of the specified name.\n",
    "\n",
    "    **Raises**\n",
    "\n",
    "    - NoteNotUniqueError\n",
    "        - If the note of the specified name is not unique in the subdirectory.\n",
    "    - NoteDoesNotExistError\n",
    "        - If the note of the specified name does not exist in the subdirectory.\n",
    "\n",
    "    **See Also**\n",
    "\n",
    "    - The constructor of the `VaultNote` class\n",
    "        - passing an argument to the `name` parameter of this constructor\n",
    "        method essentially does the same thing as this function, except the\n",
    "        constructor method uses a cache.\n",
    "    \"\"\"\n",
    "    if not subdirectory:\n",
    "        subdirectory = ''\n",
    "    if not hints:\n",
    "        hints = []\n",
    "    vault = Path(vault)\n",
    "    subdirectory = Path(subdirectory)\n",
    "    # absolute_subdirectory = vault / subdirectory\n",
    "    hints.append('')  # Search in subdirectory if all else fails\n",
    "    for hint in hints:\n",
    "        search_results = all_note_paths_by_name(name, vault, subdirectory / hint)\n",
    "        if len(search_results) > 1:\n",
    "            raise NoteNotUniqueError.from_note_names(name, search_results)\n",
    "        elif len(search_results) == 1:\n",
    "            return search_results[0]\n",
    "    raise NoteDoesNotExistError.from_note_name(name)"
   ]
  },
  {
   "cell_type": "markdown",
   "metadata": {},
   "source": [
    "Assuming that there exists a unique note of a specified name in a vault, we can identify it."
   ]
  },
  {
   "cell_type": "code",
   "execution_count": null,
   "metadata": {},
   "outputs": [
    {
     "name": "stdout",
     "output_type": "stream",
     "text": [
      "analysis\\exponential_function.md\n"
     ]
    }
   ],
   "source": [
    "with tempfile.TemporaryDirectory(prefix='temp_dir', dir=os.getcwd()) as vault:\n",
    "    make_example_vault(vault)\n",
    "    note_path = note_path_by_name('exponential_function', vault)\n",
    "    print(note_path)\n",
    "    test_eq(path_name_no_ext(note_path), 'exponential_function')"
   ]
  },
  {
   "cell_type": "markdown",
   "metadata": {},
   "source": [
    "If there is more than one note in the vault of the specified name, then a `NoteNotUniqueError` is raised."
   ]
  },
  {
   "cell_type": "code",
   "execution_count": null,
   "metadata": {},
   "outputs": [
    {
     "name": "stdout",
     "output_type": "stream",
     "text": [
      "The vault has more than one note named `category`:\n",
      " [Path('category_theory/category.md'), Path('topology/category.md')]\n"
     ]
    }
   ],
   "source": [
    "with tempfile.TemporaryDirectory(prefix='temp_dir', dir=os.getcwd()) as vault:\n",
    "    make_example_vault(vault)\n",
    "    print(f'The vault has more than one note named `category`:\\n',\n",
    "            all_note_paths_by_name('category', vault))\n",
    "    with (ExceptionExpected(ex=NoteNotUniqueError, regex='not unique')):\n",
    "        note_path_by_name('category', vault)"
   ]
  },
  {
   "cell_type": "markdown",
   "metadata": {},
   "source": [
    "Passing an argument to the parameter `subdirectory` restricts the search to the subdirectory. A `NoteNotUniqueError` can be avoided if a subdirectory is specified and if the note of the specified name is unique in the subdirectory."
   ]
  },
  {
   "cell_type": "code",
   "execution_count": null,
   "metadata": {},
   "outputs": [
    {
     "name": "stdout",
     "output_type": "stream",
     "text": [
      "topology\\category.md\n"
     ]
    }
   ],
   "source": [
    "with tempfile.TemporaryDirectory(prefix='temp_dir', dir=os.getcwd()) as vault:\n",
    "    make_example_vault(vault)\n",
    "    note = note_path_by_name('category', vault, subdirectory='topology')\n",
    "    print(note)\n",
    "    assert 'topology' in str(note) and path_name_no_ext(note) == 'category'\n"
   ]
  },
  {
   "cell_type": "markdown",
   "metadata": {},
   "source": [
    "If there is no note in the vault of the specified name, then a `NoteDoesNotExistError` is raised."
   ]
  },
  {
   "cell_type": "code",
   "execution_count": null,
   "metadata": {},
   "outputs": [],
   "source": [
    "with tempfile.TemporaryDirectory(prefix='temp_dir', dir=os.getcwd()) as vault:\n",
    "    make_example_vault(vault)\n",
    "    with (ExceptionExpected(ex=NoteDoesNotExistError, regex='does not exist')):\n",
    "        note_path_by_name('this_note_does_not_exit', vault)"
   ]
  },
  {
   "cell_type": "code",
   "execution_count": null,
   "metadata": {},
   "outputs": [],
   "source": [
    "#| export\n",
    "def note_name_unique(\n",
    "        name: str, # Name of the note.\n",
    "        vault: PathLike # Path to the vault.\n",
    "        ) -> bool: \n",
    "    \"\"\"Return `True` if a note of the specified name exists and \n",
    "    is unique in the Obsidian vault.\n",
    "    \"\"\"\n",
    "    return len(all_note_paths_by_name(name, vault)) == 1"
   ]
  },
  {
   "cell_type": "markdown",
   "metadata": {},
   "source": [
    "Example use:"
   ]
  },
  {
   "cell_type": "code",
   "execution_count": null,
   "metadata": {},
   "outputs": [],
   "source": [
    "with tempfile.TemporaryDirectory(prefix='temp_dir', dir=os.getcwd()) as vault:\n",
    "    make_example_vault(vault)\n",
    "    vault_has_unique_note_named_ring = note_name_unique('ring', vault)\n",
    "    assert not vault_has_unique_note_named_ring\n",
    "\n",
    "    vault_has_unique_note_named_exponential_function = note_name_unique('exponential_function', vault)\n",
    "    assert vault_has_unique_note_named_exponential_function"
   ]
  }
 ],
 "metadata": {
  "kernelspec": {
   "display_name": "Python 3.10.6 64-bit",
   "language": "python",
   "name": "python3"
  }
 },
 "nbformat": 4,
 "nbformat_minor": 2
}
