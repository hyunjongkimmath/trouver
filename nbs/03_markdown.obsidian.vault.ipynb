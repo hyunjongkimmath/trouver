{
 "cells": [
  {
   "cell_type": "markdown",
   "metadata": {},
   "source": [
    "# markdown.obsidian.vault\n",
    "\n",
    "> Functions for inspecting and modifying Obsidian.md vaults and their folders "
   ]
  },
  {
   "cell_type": "code",
   "execution_count": null,
   "metadata": {},
   "outputs": [],
   "source": [
    "# TODO: explain what this module is supposed to do.\n",
    "# TODO: talk about how vault notes are md files.\n",
    "# TODO: talk about Wikilinks vs Obsidian links"
   ]
  },
  {
   "cell_type": "code",
   "execution_count": null,
   "metadata": {},
   "outputs": [],
   "source": [
    "#| default_exp markdown.obsidian.vault"
   ]
  },
  {
   "cell_type": "code",
   "execution_count": null,
   "metadata": {},
   "outputs": [],
   "source": [
    "#| export\n",
    "from pathlib import Path\n",
    "import os\n",
    "from os import PathLike\n",
    "from trouver.helper import (\n",
    "    path_name_no_ext, path_no_ext\n",
    ")\n",
    "from typing import Union"
   ]
  },
  {
   "cell_type": "code",
   "execution_count": null,
   "metadata": {},
   "outputs": [],
   "source": [
    "import shutil\n",
    "import tempfile\n",
    "from unittest import mock\n",
    "\n",
    "from fastcore.test import *\n",
    "from nbdev.showdoc import show_doc\n",
    "\n",
    "from trouver.helper import path_name_no_ext, _test_directory"
   ]
  },
  {
   "cell_type": "markdown",
   "metadata": {},
   "source": [
    "## Errors"
   ]
  },
  {
   "cell_type": "code",
   "execution_count": null,
   "metadata": {},
   "outputs": [],
   "source": [
    "#| export\n",
    "class NoteNotUniqueError(FileNotFoundError):\n",
    "    \"\"\"\n",
    "    A `NoteNotUniqueError` is raised when a `VaultNote` is specified\n",
    "    by name and not by relative path in the vault, but\n",
    "    the vault is found to have multiple notes of the name.\n",
    "\n",
    "    **Attributes**\n",
    "\n",
    "    - `note_name` - str\n",
    "        - The name of the note which is not unique in the vault.\n",
    "    - `notes` - list[str]\n",
    "        - The paths of the notes whose names are `note_name`.\n",
    "    \"\"\"\n",
    "    def __init__(self, /, *args, **kwargs):\n",
    "        super().__init__(*args, **kwargs)\n",
    "            \n",
    "    @classmethod\n",
    "    def from_note_names(cls, note_name: str, notes: list[str]):\n",
    "        \"\"\"Construct a `NoteNotUniqueError` object from note names\"\"\"\n",
    "        return cls(\n",
    "            f'The note of the following name is not unique: {note_name}\\n'\\\n",
    "            f'The name points to the following files: {notes}')\n",
    "\n"
   ]
  },
  {
   "cell_type": "code",
   "execution_count": null,
   "metadata": {},
   "outputs": [
    {
     "data": {
      "text/markdown": [
       "---\n",
       "\n",
       "[source](https://github.com/hyunjongkimmath/trouver/blob/main/trouver/markdown/obsidian/vault.py#L34){target=\"_blank\" style=\"float:right; font-size:smaller\"}\n",
       "\n",
       "### NoteNotUniqueError.from_note_names\n",
       "\n",
       ">      NoteNotUniqueError.from_note_names (note_name:str, notes:list[str])\n",
       "\n",
       "Construct a `NoteNotUniqueError` object from note names"
      ],
      "text/plain": [
       "---\n",
       "\n",
       "[source](https://github.com/hyunjongkimmath/trouver/blob/main/trouver/markdown/obsidian/vault.py#L34){target=\"_blank\" style=\"float:right; font-size:smaller\"}\n",
       "\n",
       "### NoteNotUniqueError.from_note_names\n",
       "\n",
       ">      NoteNotUniqueError.from_note_names (note_name:str, notes:list[str])\n",
       "\n",
       "Construct a `NoteNotUniqueError` object from note names"
      ]
     },
     "execution_count": null,
     "metadata": {},
     "output_type": "execute_result"
    }
   ],
   "source": [
    "show_doc(NoteNotUniqueError.from_note_names)"
   ]
  },
  {
   "cell_type": "code",
   "execution_count": null,
   "metadata": {},
   "outputs": [],
   "source": [
    "#| export\n",
    "class NoteDoesNotExistError(FileNotFoundError):\n",
    "    \"\"\"\n",
    "    A `NoteDoesNotExistError` is raised when a `VaultNote` is specified\n",
    "    by either name and or by relative path in the vault, but\n",
    "    the vault is found to have no notes of the name.\n",
    "    \"\"\"\n",
    "    def __init__(self, /, *args, **kwargs):\n",
    "        super().__init__(*args, **kwargs)\n",
    "\n",
    "    @classmethod\n",
    "    def from_note_name(cls, note_name: str):\n",
    "        \"\"\"Construct a `NoteDoesNotExistError` object from note name\"\"\"\n",
    "        return cls(\n",
    "            f'The note of the following name does not exist: {note_name}.'\n",
    "            f' Make sure that the argument passed to `note_name` does not'\n",
    "            f' erroneously end with `.md`, e.g. pass `this_is_a_note`'\n",
    "            f' instead of `this_is_a_note.md`.')"
   ]
  },
  {
   "cell_type": "markdown",
   "metadata": {},
   "source": [
    "## Convert path to Obsidian ID"
   ]
  },
  {
   "cell_type": "code",
   "execution_count": null,
   "metadata": {},
   "outputs": [],
   "source": [
    "#| export\n",
    "def path_to_obs_id(\n",
    "        rel_path: PathLike # A path representation the path of an Obsidian note relative to its vault. This does not have to be an existing path.\n",
    "        ) -> str: # The obsidian url of the hypothetical note within its vault. Note that this does not end with the file extension `.md`.\n",
    "    \"\"\"Convert a relative path of an Obsidian note to the Obsidian identifying\n",
    "    str.\n",
    "    \n",
    "    This identification is for a vault-internal Wikilink.\n",
    "\n",
    "    Note that this function does not have a vault as a parameter.\n",
    "    \"\"\"\n",
    "    path_without_extension = path_no_ext(rel_path)\n",
    "    return path_without_extension.replace('\\\\', '/')"
   ]
  },
  {
   "cell_type": "markdown",
   "metadata": {},
   "source": [
    "Obsidian formats its file paths with '/'; the `path_to_obs_id` function converts a relative path of an Obsidian note to the Obsidian-recognized path."
   ]
  },
  {
   "cell_type": "code",
   "execution_count": null,
   "metadata": {},
   "outputs": [],
   "source": [
    "test_eq(path_to_obs_id(\n",
    "    r'some_folder\\some_subfolder\\some_subsubfolder\\some_file.md'),\n",
    "    'some_folder/some_subfolder/some_subsubfolder/some_file')"
   ]
  },
  {
   "cell_type": "markdown",
   "metadata": {},
   "source": [
    "Obsidian notes might contain spaces in their paths."
   ]
  },
  {
   "cell_type": "code",
   "execution_count": null,
   "metadata": {},
   "outputs": [],
   "source": [
    "test_eq(path_to_obs_id(\n",
    "    Path('some folder\\some subfolder\\some file.md')),\n",
    "    'some folder/some subfolder/some file')"
   ]
  },
  {
   "cell_type": "markdown",
   "metadata": {},
   "source": [
    "## Example vault\n"
   ]
  },
  {
   "cell_type": "markdown",
   "metadata": {},
   "source": [
    "We use the following example vault to demonstrate how to use the functions below:\n",
    "\n",
    "```\n",
    ".\n",
    "├── algebra\n",
    "│   ├── reference_1\n",
    "│   │   └── ring.md\n",
    "│   └── ring.md\n",
    "├── analysis\n",
    "│   └── exponential_function.md\n",
    "├── category_theory\n",
    "│   └── category.md\n",
    "├── topology\n",
    "│   └── category.md\n",
    "└── _index.md\n",
    "```\n",
    "\n",
    "Note that it has $6$ files and $5$ folders in total."
   ]
  },
  {
   "cell_type": "code",
   "execution_count": null,
   "metadata": {},
   "outputs": [],
   "source": [
    "def make_example_vault(temp_dir: PathLike):\n",
    "    temp_dir = Path(temp_dir)\n",
    "    os.mkdir(temp_dir / 'algebra')\n",
    "    os.mkdir(temp_dir / 'algebra' / 'reference_1')\n",
    "    os.mkdir(temp_dir / 'analysis')\n",
    "    os.mkdir(temp_dir / 'category_theory')\n",
    "    os.mkdir(temp_dir / 'topology')\n",
    "    (temp_dir / 'algebra' / 'ring.md').touch()\n",
    "    (temp_dir / 'algebra' / 'reference_1' / 'ring.md').touch()\n",
    "    (temp_dir / 'analysis' / 'exponential_function.md').touch()\n",
    "    with open((temp_dir / 'analysis' / 'exponential_function.md'), 'w') as writer:\n",
    "        writer.write(\n",
    "            r'''The **exponential function** is the function sending a complex number $z$ to **$$e^{z} = \\sum_{n=0}^\\infty \\frac{z^n}{n!}$$**. It converges for all $z \\in \\mathbb{C}$.'''\n",
    "        )\n",
    "    (temp_dir / 'category_theory' / 'category.md').touch()\n",
    "    (temp_dir / 'topology' / 'category.md').touch()\n",
    "    (temp_dir / '_index.md').touch()"
   ]
  },
  {
   "cell_type": "markdown",
   "metadata": {},
   "source": [
    "## Get all notes"
   ]
  },
  {
   "cell_type": "code",
   "execution_count": null,
   "metadata": {},
   "outputs": [],
   "source": [
    "#| export\n",
    "def all_paths_to_notes_in_vault(\n",
    "        vault: PathLike, as_dict: bool = False)\\\n",
    "        -> Union[list[str], dict[str, list[str]]]:\n",
    "    \"\"\"Return the paths, relative to the Obsidian vault, of notes \n",
    "    in the Obsidian vault.\n",
    "       \n",
    "    This may not actually return all of the paths to the notes, see\n",
    "    the parameter `as_dict`.\n",
    "\n",
    "    **Parameters**\n",
    "\n",
    "    - `vault` - `PathLike`\n",
    "        - The path to the Obsidian vault directory\n",
    "    - `as_dict` - `bool`\n",
    "        - If `True`, then returns a dict. If `False`, then returns\n",
    "        a list. Defaults to `False`. If there are multiple notes with the same\n",
    "        name in the vault, and `as_dict` is set to `True`, then the dictionary\n",
    "        will contain only one of the (relative) paths to those notes among its\n",
    "        values. If `as_dict` is set to `False`, then the list will contain\n",
    "        all the paths to the notes even when notes with non-unique names exist.\n",
    "        \n",
    "    **Returns**\n",
    "\n",
    "    - Union[list[str], dict[str, str]]\n",
    "        - Each str represents the path relative to `vault`. If `as_dict` is\n",
    "        True, then returns a dict whose keys are str, which are (unique) names\n",
    "        of the notes in the vault, and the values are the paths.\n",
    "    \"\"\"\n",
    "    vault = Path(vault)\n",
    "    paths =  [os.path.relpath(path, vault) for path in vault.glob(f'**/*.md')]\n",
    "    if as_dict:\n",
    "        dicty = {path_name_no_ext(path): [] for path in paths}\n",
    "        for path in paths:\n",
    "            dicty[path_name_no_ext(path)].append(path)\n",
    "        return dicty\n",
    "    else:\n",
    "        return paths\n"
   ]
  },
  {
   "cell_type": "markdown",
   "metadata": {},
   "source": [
    "The `all_paths_to_notes_in_vault` function returns all of the paths to notes in the Obsidian vault; only `.md` files are recognized as notes.\n",
    "\n",
    "By default, the function returns a list whose items are strings of paths to notes relative to the vault path."
   ]
  },
  {
   "cell_type": "code",
   "execution_count": null,
   "metadata": {},
   "outputs": [
    {
     "name": "stdout",
     "output_type": "stream",
     "text": [
      "['_index.md', 'algebra\\\\ring.md', 'algebra\\\\reference_1\\\\ring.md', 'analysis\\\\exponential_function.md', 'category_theory\\\\category.md', 'topology\\\\category.md']\n"
     ]
    }
   ],
   "source": [
    "with tempfile.TemporaryDirectory(prefix='temp_dir', dir=os.getcwd()) as temp_dir:\n",
    "    # assert os.path.exists(_test_directory() / 'test_vault_1')\n",
    "    temp_vault = Path(temp_dir) / 'test_vault_1'\n",
    "    shutil.copytree(_test_directory() / 'test_vault_1', temp_vault)\n",
    "    # make_example_vault(temp_dir)\n",
    "\n",
    "    # os.startfile(os.getcwd())\n",
    "\n",
    "    notes = all_paths_to_notes_in_vault(temp_vault)\n",
    "    test_eq(len(notes), 6)\n",
    "    print(notes)\n",
    "    # test_shuffled(, list)\n",
    "    "
   ]
  },
  {
   "cell_type": "markdown",
   "metadata": {},
   "source": [
    "Passing `as_dict=True` returns a dictionary whose keys are note names and whose values are lists of paths to notes of the name relative to the vault."
   ]
  },
  {
   "cell_type": "code",
   "execution_count": null,
   "metadata": {},
   "outputs": [
    {
     "name": "stdout",
     "output_type": "stream",
     "text": [
      "{'_index': ['_index.md'], 'ring': ['algebra\\\\ring.md', 'algebra\\\\reference_1\\\\ring.md'], 'exponential_function': ['analysis\\\\exponential_function.md'], 'category': ['category_theory\\\\category.md', 'topology\\\\category.md']}\n"
     ]
    }
   ],
   "source": [
    "with tempfile.TemporaryDirectory(prefix='temp_dir', dir=os.getcwd()) as temp_dir:\n",
    "    make_example_vault(temp_dir)\n",
    "    # os.startfile(os.getcwd())\n",
    "\n",
    "    notes = all_paths_to_notes_in_vault(temp_dir, as_dict=True)\n",
    "    test_eq(len(notes), 4)\n",
    "    test_eq(len(notes['ring']), 2)\n",
    "    print(notes)\n"
   ]
  },
  {
   "cell_type": "markdown",
   "metadata": {},
   "source": [
    "## Searching notes by name"
   ]
  },
  {
   "cell_type": "code",
   "execution_count": null,
   "metadata": {},
   "outputs": [],
   "source": [
    "#| export\n",
    "def all_note_paths_by_name(\n",
    "        name: str,  # Name of the note(s) to find\n",
    "        vault: PathLike,  # The path to the Obsidian vault directory\n",
    "        subdirectory: Union[PathLike, None] = None # The path to a subdirectory in the Obsidian vault, relative to `vault`. If `None`, then denotes the root of the vault.\n",
    "        ) -> list[Path]: # Each item is a path to a note of the given name, relative to `vault`.\n",
    "    \"\"\"Return the relative paths to all notes in the Obsidian vault \n",
    "    with the specified name in the specified subdirectory.\n",
    "    \n",
    "    This function does not assume that the specified subdirectory in the vault\n",
    "    has at most one note of the specified name.\n",
    "    \n",
    "    \"\"\"\n",
    "    vault = vault if vault != None else ''\n",
    "    vault = Path(vault)\n",
    "    subdirectory = subdirectory if subdirectory != None else ''\n",
    "    directory_path = vault / subdirectory\n",
    "    all_notes_of_name = directory_path.glob(f'**/{name}.md')\n",
    "    all_notes_of_name = list(all_notes_of_name)\n",
    "    return [note_path.relative_to(vault) for note_path in all_notes_of_name]"
   ]
  },
  {
   "cell_type": "markdown",
   "metadata": {},
   "source": [
    "Basic usage:"
   ]
  },
  {
   "cell_type": "code",
   "execution_count": null,
   "metadata": {},
   "outputs": [
    {
     "name": "stdout",
     "output_type": "stream",
     "text": [
      "Searched for notes of name `ring`:\n",
      "[Path('algebra/ring.md'), Path('algebra/reference_1/ring.md')] \n",
      "\n",
      "Searched for notes of name `exponential_function`:\n",
      "[Path('analysis/exponential_function.md')] \n",
      "\n",
      "Searching for a non-existent note name yields an empty list:\n",
      "[]\n"
     ]
    }
   ],
   "source": [
    "with tempfile.TemporaryDirectory(prefix='temp_dir', dir=os.getcwd()) as temp_dir:\n",
    "    make_example_vault(temp_dir)\n",
    "\n",
    "    notes = all_note_paths_by_name('ring', temp_dir)\n",
    "    print('Searched for notes of name `ring`:')\n",
    "    print(notes, '\\n')\n",
    "    assert len(notes) == 2\n",
    "\n",
    "    notes = all_note_paths_by_name('exponential_function', temp_dir)\n",
    "    print('Searched for notes of name `exponential_function`:')\n",
    "    print(notes, '\\n')\n",
    "    assert len(notes) == 1\n",
    "\n",
    "    empty_list = all_note_paths_by_name('non-existent-note-name', temp_dir)\n",
    "    print('Searching for a non-existent note name yields an empty list:')\n",
    "    print(empty_list)\n",
    "    assert len(empty_list) == 0"
   ]
  },
  {
   "cell_type": "markdown",
   "metadata": {},
   "source": [
    "We can specify a subdirectory inside the vault to restrict the search to."
   ]
  },
  {
   "cell_type": "code",
   "execution_count": null,
   "metadata": {},
   "outputs": [
    {
     "name": "stdout",
     "output_type": "stream",
     "text": [
      "All notes named `category`:\n",
      " [Path('category_theory/category.md'), Path('topology/category.md')] \n",
      "\n",
      "All notes named `category` in the subdirectory `topology`\n",
      "[Path('topology/category.md')]\n"
     ]
    }
   ],
   "source": [
    "with tempfile.TemporaryDirectory(prefix='temp_dir', dir=os.getcwd()) as vault:\n",
    "    make_example_vault(vault)\n",
    "\n",
    "    all_notes_named_curve_in_vault = all_note_paths_by_name('category', vault)\n",
    "    print('All notes named `category`:\\n', all_notes_named_curve_in_vault, '\\n')\n",
    "    assert len(all_notes_named_curve_in_vault) == 2\n",
    "    for note_path in all_notes_named_curve_in_vault:\n",
    "        test_eq(path_name_no_ext(note_path), 'category')\n",
    "    \n",
    "    print('All notes named `category` in the subdirectory `topology`')\n",
    "    notes_named_topology_in_subdirectory = all_note_paths_by_name(\n",
    "        'category', vault, 'topology')\n",
    "    print(notes_named_topology_in_subdirectory)\n",
    "    assert len(notes_named_topology_in_subdirectory) == 1\n",
    "    assert path_name_no_ext(notes_named_topology_in_subdirectory[0]) == 'category'"
   ]
  },
  {
   "cell_type": "code",
   "execution_count": null,
   "metadata": {},
   "outputs": [],
   "source": [
    "#| export\n",
    "# TODO: include examples of `hints` parameter.\n",
    "def note_path_by_name(\n",
    "        name: str, # The path to the Obsidian vault directory.\n",
    "        vault: PathLike, # The path to a subdirectory in the Obsidian vault. If `None`, then denotes the root of the vault.\n",
    "        subdirectory: Union[PathLike, None] = None, # The path to a subdirectory in the Obsidian vault. If `None`, then denotes the root of the vault.\n",
    "        hints: Union[list[PathLike], None] = None # Hints of which directories, relative to `subdirectory` that the note may likely be in. This is for speedup. The directories will be searched in the order listed.\n",
    "        ) -> Path: # The note of the specified name in the specified subdirectory of the vault.\n",
    "    \"\"\"Return the path, relative to a subdirectory in the vault, \n",
    "    of the note of the specified name.\n",
    "\n",
    "    **Raises**\n",
    "\n",
    "    - NoteNotUniqueError\n",
    "        - If the note of the specified name is not unique in the subdirectory.\n",
    "    - NoteDoesNotExistError\n",
    "        - If the note of the specified name does not exist in the subdirectory.\n",
    "\n",
    "    **See Also**\n",
    "\n",
    "    - The constructor of the `VaultNote` class\n",
    "        - passing an argument to the `name` parameter of this constructor\n",
    "        method essentially does the same thing as this function, except the\n",
    "        constructor method uses a cache.\n",
    "    \"\"\"\n",
    "    if not subdirectory:\n",
    "        subdirectory = ''\n",
    "    if not hints:\n",
    "        hints = []\n",
    "    vault = Path(vault)\n",
    "    subdirectory = Path(subdirectory)\n",
    "    # absolute_subdirectory = vault / subdirectory\n",
    "    hints.append('')  # Search in subdirectory if all else fails\n",
    "    for hint in hints:\n",
    "        search_results = all_note_paths_by_name(name, vault, subdirectory / hint)\n",
    "        if len(search_results) > 1:\n",
    "            raise NoteNotUniqueError.from_note_names(name, search_results)\n",
    "        elif len(search_results) == 1:\n",
    "            return search_results[0]\n",
    "    raise NoteDoesNotExistError.from_note_name(name)"
   ]
  },
  {
   "cell_type": "markdown",
   "metadata": {},
   "source": [
    "Assuming that there exists a unique note of a specified name in a vault, we can identify it."
   ]
  },
  {
   "cell_type": "code",
   "execution_count": null,
   "metadata": {},
   "outputs": [
    {
     "name": "stdout",
     "output_type": "stream",
     "text": [
      "analysis\\exponential_function.md\n"
     ]
    }
   ],
   "source": [
    "with tempfile.TemporaryDirectory(prefix='temp_dir', dir=os.getcwd()) as vault:\n",
    "    make_example_vault(vault)\n",
    "    note_path = note_path_by_name('exponential_function', vault)\n",
    "    print(note_path)\n",
    "    test_eq(path_name_no_ext(note_path), 'exponential_function')"
   ]
  },
  {
   "cell_type": "markdown",
   "metadata": {},
   "source": [
    "If there is more than one note in the vault of the specified name, then a `NoteNotUniqueError` is raised."
   ]
  },
  {
   "cell_type": "code",
   "execution_count": null,
   "metadata": {},
   "outputs": [
    {
     "name": "stdout",
     "output_type": "stream",
     "text": [
      "The vault has more than one note named `category`:\n",
      " [Path('category_theory/category.md'), Path('topology/category.md')]\n"
     ]
    }
   ],
   "source": [
    "with tempfile.TemporaryDirectory(prefix='temp_dir', dir=os.getcwd()) as vault:\n",
    "    make_example_vault(vault)\n",
    "    print(f'The vault has more than one note named `category`:\\n',\n",
    "            all_note_paths_by_name('category', vault))\n",
    "    with (ExceptionExpected(ex=NoteNotUniqueError, regex='not unique')):\n",
    "        note_path_by_name('category', vault)"
   ]
  },
  {
   "cell_type": "markdown",
   "metadata": {},
   "source": [
    "Passing an argument to the parameter `subdirectory` restricts the search to the subdirectory. A `NoteNotUniqueError` can be avoided if a subdirectory is specified and if the note of the specified name is unique in the subdirectory."
   ]
  },
  {
   "cell_type": "code",
   "execution_count": null,
   "metadata": {},
   "outputs": [
    {
     "name": "stdout",
     "output_type": "stream",
     "text": [
      "topology\\category.md\n"
     ]
    }
   ],
   "source": [
    "with tempfile.TemporaryDirectory(prefix='temp_dir', dir=os.getcwd()) as vault:\n",
    "    make_example_vault(vault)\n",
    "    note = note_path_by_name('category', vault, subdirectory='topology')\n",
    "    print(note)\n",
    "    assert 'topology' in str(note) and path_name_no_ext(note) == 'category'\n"
   ]
  },
  {
   "cell_type": "markdown",
   "metadata": {},
   "source": [
    "If there is no note in the vault of the specified name, then a `NoteDoesNotExistError` is raised."
   ]
  },
  {
   "cell_type": "code",
   "execution_count": null,
   "metadata": {},
   "outputs": [],
   "source": [
    "with tempfile.TemporaryDirectory(prefix='temp_dir', dir=os.getcwd()) as vault:\n",
    "    make_example_vault(vault)\n",
    "    with (ExceptionExpected(ex=NoteDoesNotExistError, regex='does not exist')):\n",
    "        note_path_by_name('this_note_does_not_exit', vault)"
   ]
  },
  {
   "cell_type": "code",
   "execution_count": null,
   "metadata": {},
   "outputs": [],
   "source": [
    "#| export\n",
    "def note_name_unique(\n",
    "        name: str, # Name of the note.\n",
    "        vault: PathLike # Path to the vault.\n",
    "        ) -> bool: \n",
    "    \"\"\"Return `True` if a note of the specified name exists and \n",
    "    is unique in the Obsidian vault.\n",
    "    \"\"\"\n",
    "    return len(all_note_paths_by_name(name, vault)) == 1"
   ]
  },
  {
   "cell_type": "markdown",
   "metadata": {},
   "source": [
    "Example use:"
   ]
  },
  {
   "cell_type": "code",
   "execution_count": null,
   "metadata": {},
   "outputs": [],
   "source": [
    "with tempfile.TemporaryDirectory(prefix='temp_dir', dir=os.getcwd()) as vault:\n",
    "    make_example_vault(vault)\n",
    "    vault_has_unique_note_named_ring = note_name_unique('ring', vault)\n",
    "    assert not vault_has_unique_note_named_ring\n",
    "\n",
    "    vault_has_unique_note_named_exponential_function = note_name_unique('exponential_function', vault)\n",
    "    assert vault_has_unique_note_named_exponential_function"
   ]
  },
  {
   "cell_type": "markdown",
   "metadata": {},
   "source": [
    "## Getting note name from its path"
   ]
  },
  {
   "cell_type": "code",
   "execution_count": null,
   "metadata": {},
   "outputs": [],
   "source": [
    "#| export\n",
    "def note_name_from_path(\n",
    "        note_path: str # The path of the note. The note does not need to exist.\n",
    "        ) -> str: # The name of the note.\n",
    "    \"\"\"Return the name of a note from its path.\n",
    "    \"\"\"\n",
    "    return path_name_no_ext(note_path)"
   ]
  },
  {
   "cell_type": "code",
   "execution_count": null,
   "metadata": {},
   "outputs": [],
   "source": [
    "assert note_name_from_path('algebra/ring.md') == 'ring'"
   ]
  },
  {
   "cell_type": "markdown",
   "metadata": {},
   "source": [
    "## VaultNote class\n",
    "Just as how paths in Python can be dealt either via strings of paths or via `pathlib.Path` objects, It is useful to have a class to encapsulate together the name of a note, and its path/Obsidian vault identifier."
   ]
  },
  {
   "cell_type": "code",
   "execution_count": null,
   "metadata": {},
   "outputs": [],
   "source": [
    "#| export\n",
    "# TODO: change NoteDoesNotExistError to NoteNotFoundError if not found in Cache.\n",
    "# TODO: when making NoteNotFoundError, add it to\n",
    "# markdown.obsidian.personal.reference.delete_reference_folder\n",
    "\n",
    "# TODO: modify the constructor so that it does not need the note of the specified name to exist\n",
    "# TODO: look at parts where the cache is accessed/modified. Factor them out into getter/setter methods\n",
    "# taking in the vault and name as inputs.\n",
    "# TODO: look at how NoteDoesNotExistError is used and make modifications to account for the modification\n",
    "# of the constructor.\n",
    "# TODO: test hidden methods\n",
    "class VaultNote:\n",
    "    \"\"\"Represents a note in an Obsidian vault, without regards to the contents.\n",
    "    \n",
    "    The note does not have to exist, except in circumstances stating \n",
    "    otherwise.\n",
    "\n",
    "    TODO go through the methods of this class to see which methods assume that\n",
    "    the note exists and which do not.\n",
    "\n",
    "    TODO finish the sentence below.\n",
    "    A `VaultNote` can be specified by either the `rel_path` or the `name` argument\n",
    "    in its constructor. If `name` is specified, then the \n",
    "    \n",
    "    TODO implement subdirectory hint\n",
    "    \n",
    "    **Attributes**\n",
    "\n",
    "    - vault - Path\n",
    "        - The (relative or absolute) path of the Obsidian vault\n",
    "        that the note is located in.\n",
    "    - name - str\n",
    "        - The name of the note in the vault.\n",
    "    - rel_path - str\n",
    "        - The note's path relative to the vault. If \n",
    "    - cache - dict[str, dict[str, list[str]]], class attribute\n",
    "        - The keys are string, which are paths to vaults. The\n",
    "        corresponding values are dict whose keys are string, which are\n",
    "        names in the vault of the (unique) note of that name, and whose\n",
    "        values are list of string, which are paths to the note relative to the\n",
    "        vault. The cache is not automatically updated when notes are\n",
    "        moved.\n",
    "    \n",
    "    **Parameters**\n",
    "\n",
    "    - vault - PathLike\n",
    "    - rel_path - PathLike\n",
    "    - name - str\n",
    "        - The name of the note in the vault. Defaults to the empty str.\n",
    "            - If `None`, then the `rel_path` parameter should be used \n",
    "            to determine `self.name` instead. \n",
    "            - If not `None`, then the note must uniquely exist in the\n",
    "            vault.\n",
    "    - `subdirectory` - Union[PathLike, None]\n",
    "    - `hints` - list[PathLike]\n",
    "    \"\"\"\n",
    "    \n",
    "    cache = {}\n",
    "    \n",
    "    def __init__(\n",
    "            self,\n",
    "            vault: PathLike, # The (relative or absolute) path of the Obsidian vault that the note is located in.\n",
    "            rel_path: PathLike = None, # The note's path relative to the vault. If `None`, then the `name` parameter is used to determine the note instead. Defaults to `None`.\n",
    "            name: str = None, # The name of the note. If `None`, then the `rel_path` parameter is used to determine the note instead. Defaults to `None` \n",
    "            subdirectory: Union[PathLike, None] = '', # The relative path to a subdirectory in the Obsidian vault. If `None`, then denotes the root of the vault. Defaults to the empty str. \n",
    "            hints: list[PathLike] = [] # Paths, relative to `subdirectory`, to directories where the note file may be found. This is for speedup. Defaults to the empty list, in which case the vault note is searched in all of `subdirectory`.\n",
    "            ):\n",
    "        self.vault = Path(vault)\n",
    "        assert rel_path or name\n",
    "        if rel_path is not None:\n",
    "            self.rel_path = str(rel_path)\n",
    "            self.name = note_name_from_path(self.rel_path)\n",
    "        else:\n",
    "            self.name = name\n",
    "            self.rel_path = None\n",
    "            self.identify_rel_path(update_cache=True)\n",
    "\n",
    "    def obsidian_identifier(self) -> str:\n",
    "        \"\"\"Return the Obsidian identifier of the `VaultNote` object.\n",
    "        \n",
    "        This is the note's unqiue Obsidian id in the vault. This is like a\n",
    "        path str with forward slashes `/` (as opposed to backwards `\\` slashes)\n",
    "        and without a file extension (`.md`).\n",
    "        \"\"\"\n",
    "        return path_to_obs_id(self.rel_path)\n",
    "\n",
    "    def _identify_rel_path(self) -> Union[Path, None]:\n",
    "        \"\"\"Returns the Path to the note that this object represents.\n",
    "\n",
    "        More precisely, if `rel_path` is specified at construction or\n",
    "        if `self.rel_path` is already identified, then this method\n",
    "        returns that path. Otherwise, this method looks into the cache to\n",
    "        check if a note of the `name` specified at construction is in the\n",
    "        vault and returns the first note in the list of the `name` in the\n",
    "        cache. If no such note exists, then this method reutrns `None`.\n",
    "        \"\"\"\n",
    "        if self.rel_path is not None:\n",
    "            return self.rel_path\n",
    "        cache_search = self.__class__._get_from_cache(self.vault, self.name)\n",
    "        if cache_search:  # `cache_search` could be `None` or an empty list.\n",
    "            return cache_search[0]\n",
    "        return None\n",
    "\n",
    "    # TODO: give examples of this method\n",
    "    def identify_rel_path(\n",
    "            self,\n",
    "            update_cache=False # If `True`, if the cache is searched, and if a note of the specified name is not found in the cache, then the cache is updated and searched again. Defaults to `False`.\n",
    "            ) -> None:\n",
    "        \"\"\"Sets `self.rel_path` to a path, if not already done so.\n",
    "\n",
    "        If `self.rel_path` is not already set as a path, then the cache\n",
    "        is searched to find a note whose name is `self.name` (which is\n",
    "        necessarily specified).\n",
    "        \"\"\"\n",
    "        rel_path = self._identify_rel_path()\n",
    "        if rel_path is not None:\n",
    "            self.rel_path = rel_path\n",
    "        elif update_cache:\n",
    "            self.__class__.update_cache(self.vault)\n",
    "            self.identify_rel_path(update_cache=False)\n",
    "\n",
    "    @classmethod\n",
    "    def _get_from_cache(\n",
    "            cls,\n",
    "            vault: PathLike,\n",
    "            name: str) -> Union[list[str], None]:\n",
    "        \"\"\"Return the cache's list of notes of the specified name in the\n",
    "        specified vault.\n",
    "\n",
    "        If no such list exists in the cache, then return `None`.\n",
    "        \"\"\"\n",
    "        vault = str(vault)\n",
    "        if vault not in cls.cache:\n",
    "            return None\n",
    "        vault_dict = cls.cache[vault]\n",
    "        if not name in vault_dict:\n",
    "            return None\n",
    "        return vault_dict[name]\n",
    "                        \n",
    "    def exists(\n",
    "            self,\n",
    "            update_cache=False # If `True`, then update the cache and try to identify `self.rel_path` before verifying whether the note exists in the vault.\n",
    "            ) -> bool:\n",
    "        \"\"\"Returns `True` if `self.rel_path` is identified and\n",
    "        if the note exists in the vault.\"\"\"\n",
    "        if self.rel_path is None:\n",
    "            if update_cache:\n",
    "                self.identify_rel_path(update_cache=True)\n",
    "            else:\n",
    "                return False\n",
    "        return os.path.exists(self.path())\n",
    "            \n",
    "    def path(self,\n",
    "             relative=False # If `True`, then return the path relative to the vault.\n",
    "             ) -> Union[Path, None]: # Path to the note if self.rel_path is deterined. `None` otherwise.\n",
    "        \"\"\"Returns the path to the note.\n",
    "        \"\"\"\n",
    "        if self.rel_path is None:\n",
    "            return None\n",
    "        return Path(self.rel_path) if relative\\\n",
    "            else self.vault / self.rel_path\n",
    "    \n",
    "    def directory(self,\n",
    "                  relative=False # If `True`, then return the path of the directory relative to the vault.\n",
    "                  ) -> Path: # The path of the directory that the note is in.\n",
    "        \"\"\"Return the directory that the note is in.\n",
    "        \"\"\"\n",
    "        rel_dir = Path(os.path.dirname(self.rel_path))\n",
    "        return rel_dir if relative else self.vault / rel_dir\n",
    "    \n",
    "    def create(self):\n",
    "        \"\"\"Create the note if it does not exist.\n",
    "        \n",
    "        The directory of the file needs to be created separately\n",
    "        beforehand.\n",
    "\n",
    "        If the file exists, then a FileExistsError is raised and\n",
    "        the file modification time is not changed.\n",
    "        \n",
    "        **Raises**\n",
    "\n",
    "        - FileExistsError\n",
    "            - If the file already exists.\n",
    "        - FileNotFoundError\n",
    "            - If the directory of the file does not already exist.\n",
    "        \"\"\"\n",
    "        Path(self.path()).touch(exist_ok=False)\n",
    "        self.__class__._add_single_entry_to_cache(\n",
    "            self.vault, self.rel_path)\n",
    "        \n",
    "    def move_to(self,\n",
    "                rel_path: PathLike # The path in which to rename the path to `self` as, relative to `self.vault`.\n",
    "                ) -> None:\n",
    "        \"\"\"Move/rename the note to the specified location in the vault,\n",
    "        assuming that it exists.\n",
    "        \"\"\"\n",
    "        if not self.exists():\n",
    "            return\n",
    "        os.rename(self.path(), Path(self.vault) / rel_path)\n",
    "        self.__class__._remove_single_entry_from_cache(\n",
    "            self.vault, Path(self.rel_path))\n",
    "        self.__class__._add_single_entry_to_cache(\n",
    "            self.vault, Path(rel_path))\n",
    "        self.rel_path = str(rel_path)\n",
    "        self.name = note_name_from_path(self.rel_path)\n",
    "        \n",
    "    def move_to_folder(self,\n",
    "                       rel_dir: PathLike # The path of the directory in which to move `self` to, relative to `self.vault`.\n",
    "                       ) -> None:\n",
    "        \"\"\"Move the note to the specified folder in the vault, assuming that\n",
    "        if exists.\n",
    "        \"\"\"\n",
    "        self.move_to(Path(rel_dir) / f'{self.name}.md')\n",
    "        \n",
    "    def text(self\n",
    "            ) -> str: # Text contained in the note, assuming that the note exists.\n",
    "        \"\"\"Returns the text contained in the note.\n",
    "        \n",
    "        **Raises**\n",
    "\n",
    "        - NoteDoesNotExistError\n",
    "            - If `self` does not point to an existing note.\n",
    "        \"\"\"\n",
    "        if not self.exists():\n",
    "            raise NoteDoesNotExistError.from_note_name(self.name)\n",
    "        with open(self.vault / self.rel_path, \n",
    "                  'r', encoding='utf-8') as reader:\n",
    "            text = reader.read()\n",
    "            reader.close()\n",
    "        return text\n",
    "\n",
    "    @classmethod\n",
    "    def update_cache(cls,\n",
    "                     vault: PathLike # The vault.\n",
    "                     ) -> None:\n",
    "        \"\"\"Class method to update cache for `vault` by inspecting all files\n",
    "        in subdirectories of `vault`.\"\"\"\n",
    "        VaultNote.cache[str(vault)] = all_paths_to_notes_in_vault(\n",
    "            vault, as_dict=True)\n",
    "        \n",
    "    @classmethod\n",
    "    def clear_cache(cls):\n",
    "        \"\"\"Class method to clear out the entire cache for all vaults.\"\"\"\n",
    "        VaultNote.cache = {}\n",
    "        \n",
    "    @classmethod\n",
    "    def _check_name_exists_and_unique_in_vault_cache(\n",
    "            cls,\n",
    "            vault: PathLike, # The vault\n",
    "            name: str # The name\n",
    "            ) -> None:\n",
    "        \"\"\"\n",
    "        Raise `NoteNotUniqueError` or `NoteDoesNotExistError` if the note of\n",
    "        the specified name is not unique or does not exist in the cache.\n",
    "        \n",
    "        **Parameters**\n",
    "        - vault - PathLike\n",
    "        - name - str\n",
    "\n",
    "        **Raises**\n",
    "        - `NoteNotUniqueError`\n",
    "        - `NoteDoesNotExistError`.\n",
    "        \"\"\"\n",
    "        vault_dict = cls.cache[str(vault)]\n",
    "        if not name in vault_dict or len(vault_dict[name]) == 0:\n",
    "            raise NoteDoesNotExistError.from_note_name(name)\n",
    "        elif len(vault_dict[name]) > 1:\n",
    "            raise NoteNotUniqueError.from_note_names(\n",
    "                name, vault_dict[name])\n",
    "\n",
    "    @classmethod\n",
    "    def _check_if_cache_needs_to_update(\n",
    "            cls, vault: PathLike, name: str) -> bool:\n",
    "        \"\"\"Returns `True` if the cache needs to update by virtue of not finding\n",
    "        notes of the specified `name` in the `vault`.\n",
    "        \"\"\"\n",
    "        return not bool(cls._get_from_cache(vault, name))\n",
    "\n",
    "    @classmethod\n",
    "    def _add_single_entry_to_cache(\n",
    "            cls, vault: PathLike, rel_path: PathLike) -> None:\n",
    "        \"\"\"Adds a single entry for a note to the cache.\n",
    "        \n",
    "        Does nothing if the entry already exists.\n",
    "\n",
    "        **Parameters**\n",
    "        - vault - PathLike\n",
    "        - rel_path - PathLike\n",
    "            - The path to the note, relative to `vault`.\n",
    "        \"\"\"\n",
    "        vault_str = str(vault)\n",
    "        if vault_str not in cls.cache:\n",
    "            cls.cache[vault_str] = {}\n",
    "        name = note_name_from_path(rel_path)\n",
    "        if name not in cls.cache[vault_str]:\n",
    "            cls.cache[vault_str][name] = []\n",
    "        if rel_path not in cls.cache[vault_str][name]:\n",
    "            cls.cache[vault_str][name].append(str(rel_path))\n",
    "    \n",
    "    @classmethod\n",
    "    def _remove_single_entry_from_cache(\n",
    "            cls, vault: PathLike, rel_path: PathLike) -> None:\n",
    "        \"\"\"Removes a single entry for a note from the cache.\n",
    "\n",
    "        Does nothing if the entry is not already there.\n",
    "\n",
    "        **Parameters**\n",
    "        - vault - PathLike\n",
    "        - rel_path - PathLike\n",
    "            - The path to the note, relative to `vault`.\n",
    "        \"\"\"\n",
    "        vault_str = str(vault)\n",
    "        if vault_str not in cls.cache:\n",
    "            return\n",
    "        name = note_name_from_path(rel_path)\n",
    "        if name not in cls.cache[vault_str]:\n",
    "            return\n",
    "        rel_path = Path(rel_path)\n",
    "        cls.cache[vault_str][name] = [\n",
    "            cache_path for cache_path in cls.cache[vault_str][name]\n",
    "            if Path(cache_path) != rel_path]\n",
    "\n",
    "    @classmethod\n",
    "    def unique_name(\n",
    "            cls,\n",
    "            name: str, # The base name for the note.\n",
    "            vault: PathLike # The vault\n",
    "            ) -> str: # A str obtained by appending `_{some number}` to the end of `name`.\n",
    "        \"\"\"A class method to return a name for a note that is unique in\n",
    "        the vault based on a specified name.\n",
    "        \"\"\"\n",
    "        if not str(vault) in VaultNote.cache:\n",
    "            cls.update_cache(vault)\n",
    "        if not name in VaultNote.cache[str(vault)]:\n",
    "            return name\n",
    "        i = 1\n",
    "        while f'{name}_{i}' in VaultNote.cache[str(vault)]:\n",
    "            i += 1\n",
    "        return f'{name}_{i}'"
   ]
  },
  {
   "cell_type": "markdown",
   "metadata": {},
   "source": [
    "## Functions/Methods of the `VaultNote` class"
   ]
  },
  {
   "cell_type": "code",
   "execution_count": null,
   "metadata": {},
   "outputs": [
    {
     "data": {
      "text/markdown": [
       "---\n",
       "\n",
       "### VaultNote.obsidian_identifier\n",
       "\n",
       ">      VaultNote.obsidian_identifier ()\n",
       "\n",
       "Return the Obsidian identifier of the `VaultNote` object.\n",
       "\n",
       "This is the note's unqiue Obsidian id in the vault. This is like a\n",
       "path str with forward slashes `/` (as opposed to backwards `\\` slashes)\n",
       "and without a file extension (`.md`)."
      ],
      "text/plain": [
       "---\n",
       "\n",
       "### VaultNote.obsidian_identifier\n",
       "\n",
       ">      VaultNote.obsidian_identifier ()\n",
       "\n",
       "Return the Obsidian identifier of the `VaultNote` object.\n",
       "\n",
       "This is the note's unqiue Obsidian id in the vault. This is like a\n",
       "path str with forward slashes `/` (as opposed to backwards `\\` slashes)\n",
       "and without a file extension (`.md`)."
      ]
     },
     "execution_count": null,
     "metadata": {},
     "output_type": "execute_result"
    }
   ],
   "source": [
    "show_doc(VaultNote.obsidian_identifier)"
   ]
  },
  {
   "cell_type": "code",
   "execution_count": null,
   "metadata": {},
   "outputs": [
    {
     "data": {
      "text/markdown": [
       "---\n",
       "\n",
       "### VaultNote.identify_rel_path\n",
       "\n",
       ">      VaultNote.identify_rel_path (update_cache=False)\n",
       "\n",
       "Sets `self.rel_path` to a path, if not already done so.\n",
       "\n",
       "If `self.rel_path` is not already set as a path, then the cache\n",
       "is searched to find a note whose name is `self.name` (which is\n",
       "necessarily specified).\n",
       "\n",
       "|    | **Type** | **Default** | **Details** |\n",
       "| -- | -------- | ----------- | ----------- |\n",
       "| update_cache | bool | False | If `True`, if the cache is searched, and if a note of the specified name is not found in the cache, then the cache is updated and searched again. Defaults to `False`. |\n",
       "| **Returns** | **None** |  |  |"
      ],
      "text/plain": [
       "---\n",
       "\n",
       "### VaultNote.identify_rel_path\n",
       "\n",
       ">      VaultNote.identify_rel_path (update_cache=False)\n",
       "\n",
       "Sets `self.rel_path` to a path, if not already done so.\n",
       "\n",
       "If `self.rel_path` is not already set as a path, then the cache\n",
       "is searched to find a note whose name is `self.name` (which is\n",
       "necessarily specified).\n",
       "\n",
       "|    | **Type** | **Default** | **Details** |\n",
       "| -- | -------- | ----------- | ----------- |\n",
       "| update_cache | bool | False | If `True`, if the cache is searched, and if a note of the specified name is not found in the cache, then the cache is updated and searched again. Defaults to `False`. |\n",
       "| **Returns** | **None** |  |  |"
      ]
     },
     "execution_count": null,
     "metadata": {},
     "output_type": "execute_result"
    }
   ],
   "source": [
    "show_doc(VaultNote.identify_rel_path)"
   ]
  },
  {
   "cell_type": "code",
   "execution_count": null,
   "metadata": {},
   "outputs": [
    {
     "data": {
      "text/markdown": [
       "---\n",
       "\n",
       "[source](https://github.com/hyunjongkimmath/trouver/blob/main/trouver/markdown/obsidian/vault.py#L278){target=\"_blank\" style=\"float:right; font-size:smaller\"}\n",
       "\n",
       "### VaultNote.exists\n",
       "\n",
       ">      VaultNote.exists (update_cache=False)\n",
       "\n",
       "Returns `True` if `self.rel_path` is identified and\n",
       "if the note exists in the vault.\n",
       "\n",
       "|    | **Type** | **Default** | **Details** |\n",
       "| -- | -------- | ----------- | ----------- |\n",
       "| update_cache | bool | False | If `True`, then update the cache and try to identify `self.rel_path` before verifying whether the note exists in the vault. |\n",
       "| **Returns** | **bool** |  |  |"
      ],
      "text/plain": [
       "---\n",
       "\n",
       "[source](https://github.com/hyunjongkimmath/trouver/blob/main/trouver/markdown/obsidian/vault.py#L278){target=\"_blank\" style=\"float:right; font-size:smaller\"}\n",
       "\n",
       "### VaultNote.exists\n",
       "\n",
       ">      VaultNote.exists (update_cache=False)\n",
       "\n",
       "Returns `True` if `self.rel_path` is identified and\n",
       "if the note exists in the vault.\n",
       "\n",
       "|    | **Type** | **Default** | **Details** |\n",
       "| -- | -------- | ----------- | ----------- |\n",
       "| update_cache | bool | False | If `True`, then update the cache and try to identify `self.rel_path` before verifying whether the note exists in the vault. |\n",
       "| **Returns** | **bool** |  |  |"
      ]
     },
     "execution_count": null,
     "metadata": {},
     "output_type": "execute_result"
    }
   ],
   "source": [
    "show_doc(VaultNote.exists)"
   ]
  },
  {
   "cell_type": "code",
   "execution_count": null,
   "metadata": {},
   "outputs": [
    {
     "data": {
      "text/markdown": [
       "---\n",
       "\n",
       "[source](https://github.com/hyunjongkimmath/trouver/blob/main/trouver/markdown/obsidian/vault.py#L282){target=\"_blank\" style=\"float:right; font-size:smaller\"}\n",
       "\n",
       "### VaultNote.path\n",
       "\n",
       ">      VaultNote.path (relative=False)\n",
       "\n",
       "Returns the path to the note.\n",
       "\n",
       "|    | **Type** | **Default** | **Details** |\n",
       "| -- | -------- | ----------- | ----------- |\n",
       "| relative | bool | False | If `True`, then return the path relative to the vault. |\n",
       "| **Returns** | **Optional** |  | **Path to the note if self.rel_path is deterined. `None` otherwise.** |"
      ],
      "text/plain": [
       "---\n",
       "\n",
       "[source](https://github.com/hyunjongkimmath/trouver/blob/main/trouver/markdown/obsidian/vault.py#L282){target=\"_blank\" style=\"float:right; font-size:smaller\"}\n",
       "\n",
       "### VaultNote.path\n",
       "\n",
       ">      VaultNote.path (relative=False)\n",
       "\n",
       "Returns the path to the note.\n",
       "\n",
       "|    | **Type** | **Default** | **Details** |\n",
       "| -- | -------- | ----------- | ----------- |\n",
       "| relative | bool | False | If `True`, then return the path relative to the vault. |\n",
       "| **Returns** | **Optional** |  | **Path to the note if self.rel_path is deterined. `None` otherwise.** |"
      ]
     },
     "execution_count": null,
     "metadata": {},
     "output_type": "execute_result"
    }
   ],
   "source": [
    "show_doc(VaultNote.path)"
   ]
  },
  {
   "cell_type": "code",
   "execution_count": null,
   "metadata": {},
   "outputs": [
    {
     "data": {
      "text/markdown": [
       "---\n",
       "\n",
       "[source](https://github.com/hyunjongkimmath/trouver/blob/main/trouver/markdown/obsidian/vault.py#L290){target=\"_blank\" style=\"float:right; font-size:smaller\"}\n",
       "\n",
       "### VaultNote.directory\n",
       "\n",
       ">      VaultNote.directory (relative=False)\n",
       "\n",
       "Return the directory that the note is in.\n",
       "\n",
       "|    | **Type** | **Default** | **Details** |\n",
       "| -- | -------- | ----------- | ----------- |\n",
       "| relative | bool | False | If `True`, then return the path of the directory relative to the vault. |\n",
       "| **Returns** | **Path** |  | **The path of the directory that the note is in.** |"
      ],
      "text/plain": [
       "---\n",
       "\n",
       "[source](https://github.com/hyunjongkimmath/trouver/blob/main/trouver/markdown/obsidian/vault.py#L290){target=\"_blank\" style=\"float:right; font-size:smaller\"}\n",
       "\n",
       "### VaultNote.directory\n",
       "\n",
       ">      VaultNote.directory (relative=False)\n",
       "\n",
       "Return the directory that the note is in.\n",
       "\n",
       "|    | **Type** | **Default** | **Details** |\n",
       "| -- | -------- | ----------- | ----------- |\n",
       "| relative | bool | False | If `True`, then return the path of the directory relative to the vault. |\n",
       "| **Returns** | **Path** |  | **The path of the directory that the note is in.** |"
      ]
     },
     "execution_count": null,
     "metadata": {},
     "output_type": "execute_result"
    }
   ],
   "source": [
    "show_doc(VaultNote.directory)"
   ]
  },
  {
   "cell_type": "code",
   "execution_count": null,
   "metadata": {},
   "outputs": [
    {
     "data": {
      "text/markdown": [
       "---\n",
       "\n",
       "[source](https://github.com/hyunjongkimmath/trouver/blob/main/trouver/markdown/obsidian/vault.py#L298){target=\"_blank\" style=\"float:right; font-size:smaller\"}\n",
       "\n",
       "### VaultNote.create\n",
       "\n",
       ">      VaultNote.create ()\n",
       "\n",
       "Create the note if it does not exist.\n",
       "\n",
       "The directory of the file needs to be created separately\n",
       "beforehand.\n",
       "\n",
       "If the file exists, then a FileExistsError is raised and\n",
       "the file modification time is not changed.\n",
       "\n",
       "**Raises**\n",
       "\n",
       "- FileExistsError\n",
       "    - If the file already exists.\n",
       "- FileNotFoundError\n",
       "    - If the directory of the file does not already exist."
      ],
      "text/plain": [
       "---\n",
       "\n",
       "[source](https://github.com/hyunjongkimmath/trouver/blob/main/trouver/markdown/obsidian/vault.py#L298){target=\"_blank\" style=\"float:right; font-size:smaller\"}\n",
       "\n",
       "### VaultNote.create\n",
       "\n",
       ">      VaultNote.create ()\n",
       "\n",
       "Create the note if it does not exist.\n",
       "\n",
       "The directory of the file needs to be created separately\n",
       "beforehand.\n",
       "\n",
       "If the file exists, then a FileExistsError is raised and\n",
       "the file modification time is not changed.\n",
       "\n",
       "**Raises**\n",
       "\n",
       "- FileExistsError\n",
       "    - If the file already exists.\n",
       "- FileNotFoundError\n",
       "    - If the directory of the file does not already exist."
      ]
     },
     "execution_count": null,
     "metadata": {},
     "output_type": "execute_result"
    }
   ],
   "source": [
    "show_doc(VaultNote.create)"
   ]
  },
  {
   "cell_type": "code",
   "execution_count": null,
   "metadata": {},
   "outputs": [
    {
     "data": {
      "text/markdown": [
       "---\n",
       "\n",
       "[source](https://github.com/hyunjongkimmath/trouver/blob/main/trouver/markdown/obsidian/vault.py#L319){target=\"_blank\" style=\"float:right; font-size:smaller\"}\n",
       "\n",
       "### VaultNote.move_to\n",
       "\n",
       ">      VaultNote.move_to (rel_path:os.PathLike)\n",
       "\n",
       "Move/rename the note to the specified location in the vault,\n",
       "assuming that it exists.\n",
       "\n",
       "|    | **Type** | **Details** |\n",
       "| -- | -------- | ----------- |\n",
       "| rel_path | PathLike | The path in which to rename the path to `self` as, relative to `self.vault`. |\n",
       "| **Returns** | **None** |  |"
      ],
      "text/plain": [
       "---\n",
       "\n",
       "[source](https://github.com/hyunjongkimmath/trouver/blob/main/trouver/markdown/obsidian/vault.py#L319){target=\"_blank\" style=\"float:right; font-size:smaller\"}\n",
       "\n",
       "### VaultNote.move_to\n",
       "\n",
       ">      VaultNote.move_to (rel_path:os.PathLike)\n",
       "\n",
       "Move/rename the note to the specified location in the vault,\n",
       "assuming that it exists.\n",
       "\n",
       "|    | **Type** | **Details** |\n",
       "| -- | -------- | ----------- |\n",
       "| rel_path | PathLike | The path in which to rename the path to `self` as, relative to `self.vault`. |\n",
       "| **Returns** | **None** |  |"
      ]
     },
     "execution_count": null,
     "metadata": {},
     "output_type": "execute_result"
    }
   ],
   "source": [
    "show_doc(VaultNote.move_to)"
   ]
  },
  {
   "cell_type": "code",
   "execution_count": null,
   "metadata": {},
   "outputs": [
    {
     "data": {
      "text/markdown": [
       "---\n",
       "\n",
       "[source](https://github.com/hyunjongkimmath/trouver/blob/main/trouver/markdown/obsidian/vault.py#L336){target=\"_blank\" style=\"float:right; font-size:smaller\"}\n",
       "\n",
       "### VaultNote.move_to_folder\n",
       "\n",
       ">      VaultNote.move_to_folder (rel_dir:os.PathLike)\n",
       "\n",
       "Move the note to the specified folder in the vault, assuming that\n",
       "if exists.\n",
       "\n",
       "|    | **Type** | **Details** |\n",
       "| -- | -------- | ----------- |\n",
       "| rel_dir | PathLike | The path of the directory in which to move `self` to, relative to `self.vault`. |\n",
       "| **Returns** | **None** |  |"
      ],
      "text/plain": [
       "---\n",
       "\n",
       "[source](https://github.com/hyunjongkimmath/trouver/blob/main/trouver/markdown/obsidian/vault.py#L336){target=\"_blank\" style=\"float:right; font-size:smaller\"}\n",
       "\n",
       "### VaultNote.move_to_folder\n",
       "\n",
       ">      VaultNote.move_to_folder (rel_dir:os.PathLike)\n",
       "\n",
       "Move the note to the specified folder in the vault, assuming that\n",
       "if exists.\n",
       "\n",
       "|    | **Type** | **Details** |\n",
       "| -- | -------- | ----------- |\n",
       "| rel_dir | PathLike | The path of the directory in which to move `self` to, relative to `self.vault`. |\n",
       "| **Returns** | **None** |  |"
      ]
     },
     "execution_count": null,
     "metadata": {},
     "output_type": "execute_result"
    }
   ],
   "source": [
    "show_doc(VaultNote.move_to_folder)"
   ]
  },
  {
   "cell_type": "code",
   "execution_count": null,
   "metadata": {},
   "outputs": [
    {
     "data": {
      "text/markdown": [
       "---\n",
       "\n",
       "[source](https://github.com/hyunjongkimmath/trouver/blob/main/trouver/markdown/obsidian/vault.py#L343){target=\"_blank\" style=\"float:right; font-size:smaller\"}\n",
       "\n",
       "### VaultNote.text\n",
       "\n",
       ">      VaultNote.text ()\n",
       "\n",
       "Returns the text contained in the note.\n",
       "\n",
       "**Raises**\n",
       "\n",
       "- NoteDoesNotExistError\n",
       "    - If `self` does not point to an existing note."
      ],
      "text/plain": [
       "---\n",
       "\n",
       "[source](https://github.com/hyunjongkimmath/trouver/blob/main/trouver/markdown/obsidian/vault.py#L343){target=\"_blank\" style=\"float:right; font-size:smaller\"}\n",
       "\n",
       "### VaultNote.text\n",
       "\n",
       ">      VaultNote.text ()\n",
       "\n",
       "Returns the text contained in the note.\n",
       "\n",
       "**Raises**\n",
       "\n",
       "- NoteDoesNotExistError\n",
       "    - If `self` does not point to an existing note."
      ]
     },
     "execution_count": null,
     "metadata": {},
     "output_type": "execute_result"
    }
   ],
   "source": [
    "show_doc(VaultNote.text)"
   ]
  },
  {
   "cell_type": "code",
   "execution_count": null,
   "metadata": {},
   "outputs": [
    {
     "data": {
      "text/markdown": [
       "---\n",
       "\n",
       "[source](https://github.com/hyunjongkimmath/trouver/blob/main/trouver/markdown/obsidian/vault.py#L361){target=\"_blank\" style=\"float:right; font-size:smaller\"}\n",
       "\n",
       "### VaultNote.update_cache\n",
       "\n",
       ">      VaultNote.update_cache (vault:os.PathLike)\n",
       "\n",
       "Class method to update cache for `vault` by inspecting all files\n",
       "in subdirectories of `vault`.\n",
       "\n",
       "|    | **Type** | **Details** |\n",
       "| -- | -------- | ----------- |\n",
       "| vault | PathLike | The vault. |\n",
       "| **Returns** | **None** |  |"
      ],
      "text/plain": [
       "---\n",
       "\n",
       "[source](https://github.com/hyunjongkimmath/trouver/blob/main/trouver/markdown/obsidian/vault.py#L361){target=\"_blank\" style=\"float:right; font-size:smaller\"}\n",
       "\n",
       "### VaultNote.update_cache\n",
       "\n",
       ">      VaultNote.update_cache (vault:os.PathLike)\n",
       "\n",
       "Class method to update cache for `vault` by inspecting all files\n",
       "in subdirectories of `vault`.\n",
       "\n",
       "|    | **Type** | **Details** |\n",
       "| -- | -------- | ----------- |\n",
       "| vault | PathLike | The vault. |\n",
       "| **Returns** | **None** |  |"
      ]
     },
     "execution_count": null,
     "metadata": {},
     "output_type": "execute_result"
    }
   ],
   "source": [
    "show_doc(VaultNote.update_cache)"
   ]
  },
  {
   "cell_type": "code",
   "execution_count": null,
   "metadata": {},
   "outputs": [
    {
     "data": {
      "text/markdown": [
       "---\n",
       "\n",
       "[source](https://github.com/hyunjongkimmath/trouver/blob/main/trouver/markdown/obsidian/vault.py#L370){target=\"_blank\" style=\"float:right; font-size:smaller\"}\n",
       "\n",
       "### VaultNote.clear_cache\n",
       "\n",
       ">      VaultNote.clear_cache ()\n",
       "\n",
       "Class method to clear out the entire cache for all vaults."
      ],
      "text/plain": [
       "---\n",
       "\n",
       "[source](https://github.com/hyunjongkimmath/trouver/blob/main/trouver/markdown/obsidian/vault.py#L370){target=\"_blank\" style=\"float:right; font-size:smaller\"}\n",
       "\n",
       "### VaultNote.clear_cache\n",
       "\n",
       ">      VaultNote.clear_cache ()\n",
       "\n",
       "Class method to clear out the entire cache for all vaults."
      ]
     },
     "execution_count": null,
     "metadata": {},
     "output_type": "execute_result"
    }
   ],
   "source": [
    "show_doc(VaultNote.clear_cache)"
   ]
  },
  {
   "cell_type": "code",
   "execution_count": null,
   "metadata": {},
   "outputs": [
    {
     "data": {
      "text/markdown": [
       "---\n",
       "\n",
       "[source](https://github.com/hyunjongkimmath/trouver/blob/main/trouver/markdown/obsidian/vault.py#L459){target=\"_blank\" style=\"float:right; font-size:smaller\"}\n",
       "\n",
       "### VaultNote.unique_name\n",
       "\n",
       ">      VaultNote.unique_name (name:str, vault:os.PathLike)\n",
       "\n",
       "A class method to return a name for a note that is unique in\n",
       "the vault based on a specified name.\n",
       "\n",
       "|    | **Type** | **Details** |\n",
       "| -- | -------- | ----------- |\n",
       "| name | str | The base name for the note. |\n",
       "| vault | PathLike | The vault |\n",
       "| **Returns** | **str** | **A str obtained by appending `_{some number}` to the end of `name`.** |"
      ],
      "text/plain": [
       "---\n",
       "\n",
       "[source](https://github.com/hyunjongkimmath/trouver/blob/main/trouver/markdown/obsidian/vault.py#L459){target=\"_blank\" style=\"float:right; font-size:smaller\"}\n",
       "\n",
       "### VaultNote.unique_name\n",
       "\n",
       ">      VaultNote.unique_name (name:str, vault:os.PathLike)\n",
       "\n",
       "A class method to return a name for a note that is unique in\n",
       "the vault based on a specified name.\n",
       "\n",
       "|    | **Type** | **Details** |\n",
       "| -- | -------- | ----------- |\n",
       "| name | str | The base name for the note. |\n",
       "| vault | PathLike | The vault |\n",
       "| **Returns** | **str** | **A str obtained by appending `_{some number}` to the end of `name`.** |"
      ]
     },
     "execution_count": null,
     "metadata": {},
     "output_type": "execute_result"
    }
   ],
   "source": [
    "show_doc(VaultNote.unique_name)"
   ]
  },
  {
   "cell_type": "markdown",
   "metadata": {},
   "source": [
    "## Constructing VaultNote instances"
   ]
  },
  {
   "cell_type": "markdown",
   "metadata": {},
   "source": [
    "#### By name"
   ]
  },
  {
   "cell_type": "markdown",
   "metadata": {},
   "source": [
    "The most convenient way to construct an existing `VaultNote` is to specify the vault in which it exists and the note's name. "
   ]
  },
  {
   "cell_type": "code",
   "execution_count": null,
   "metadata": {},
   "outputs": [
    {
     "name": "stdout",
     "output_type": "stream",
     "text": [
      "exponential_function\n",
      "`vault_note` is located, relative to `vault`, at analysis\\exponential_function.md.\n"
     ]
    }
   ],
   "source": [
    "with tempfile.TemporaryDirectory(prefix='temp_dir', dir=os.getcwd()) as vault:\n",
    "    make_example_vault(vault)\n",
    "\n",
    "    vault_note = VaultNote(vault, name='exponential_function')\n",
    "    assert vault_note.exists()\n",
    "    print(vault_note.name)\n",
    "    print(f'`vault_note` is located, relative to `vault`, at {vault_note.rel_path}.')"
   ]
  },
  {
   "cell_type": "code",
   "execution_count": null,
   "metadata": {},
   "outputs": [],
   "source": [
    "# TODO: Delete the below example\n",
    "# If an argument is passed to the `name` parameter and if the note's name is not unique in the vault, then a `NoteNotUniqueError` is raised. \n",
    "\n",
    "# If an argument is passed to the `name` parameter and if the note's name does not exist in the vault, then a `NoteDoesNotExistError` is raised.\n",
    "# with tempfile.TemporaryDirectory(prefix='temp_dir', dir=os.getcwd()) as vault:\n",
    "#     make_example_vault(vault)\n",
    "\n",
    "#     with ExceptionExpected(ex=NoteNotUniqueError):\n",
    "#         vault_note = VaultNote(vault, name='ring')\n",
    "#     with ExceptionExpected(ex=NoteDoesNotExistError):\n",
    "#         vault_note = VaultNote(vault, name='does_not_exist')"
   ]
  },
  {
   "cell_type": "markdown",
   "metadata": {},
   "source": [
    "#### By relative path"
   ]
  },
  {
   "cell_type": "markdown",
   "metadata": {},
   "source": [
    "Alternatively, a `VaultNote` object can be created by passing an argument to the `rel_path` parameter. In this case, the note of the specified path does not need to exist."
   ]
  },
  {
   "cell_type": "code",
   "execution_count": null,
   "metadata": {},
   "outputs": [],
   "source": [
    "with tempfile.TemporaryDirectory(prefix='temp_dir', dir=os.getcwd()) as vault:\n",
    "    make_example_vault(vault)\n",
    "\n",
    "    vault_note = VaultNote(vault, rel_path='non_existent_folder/non_existent_note.md')\n",
    "    assert not vault_note.exists()\n",
    "    # Note that there is not a unique note of name `ring`.\n",
    "    vault_note = VaultNote(vault, rel_path='algebra/ring.md')  \n",
    "    assert vault_note.exists()"
   ]
  },
  {
   "cell_type": "markdown",
   "metadata": {},
   "source": [
    "The `rel_path` parameter takes precedence over the `name` parameter."
   ]
  },
  {
   "cell_type": "code",
   "execution_count": null,
   "metadata": {},
   "outputs": [],
   "source": [
    "with tempfile.TemporaryDirectory(prefix='temp_dir', dir=os.getcwd()) as vault:\n",
    "    make_example_vault(vault)\n",
    "    vault_note = VaultNote(vault, rel_path='non_existent_folder/non_existent_note.md', name='ring')\n",
    "    assert vault_note.name == 'non_existent_note'"
   ]
  },
  {
   "cell_type": "markdown",
   "metadata": {},
   "source": [
    "#### Cache of the `VaultNote` class"
   ]
  },
  {
   "cell_type": "markdown",
   "metadata": {},
   "source": [
    "The `VaultNote` class keeps a cache of the notes (files with extension `.md`) in the vault. In pracctice, this cache is updated when a note of the specified name is not found when constructing a `VaultNote` instance via the `name` parameter."
   ]
  },
  {
   "cell_type": "code",
   "execution_count": null,
   "metadata": {},
   "outputs": [],
   "source": [
    "with tempfile.TemporaryDirectory(prefix='temp_dir', dir=os.getcwd()) as vault:\n",
    "    make_example_vault(vault)\n",
    "    VaultNote.update_cache(vault)\n",
    "    \n",
    "    assert VaultNote._check_name_exists_and_unique_in_vault_cache(vault, 'exponential_function') is None\n",
    "    with ExceptionExpected(ex=NoteDoesNotExistError):\n",
    "        VaultNote._check_name_exists_and_unique_in_vault_cache(vault, 'this_note_does_not_exist')\n",
    "        # TODO: test this works correctly when a note does not exist by being removed.\n",
    "    with ExceptionExpected(ex=NoteNotUniqueError):\n",
    "        VaultNote._check_name_exists_and_unique_in_vault_cache(vault, 'ring')"
   ]
  },
  {
   "cell_type": "code",
   "execution_count": null,
   "metadata": {},
   "outputs": [],
   "source": [
    "VaultNote.clear_cache()\n",
    "with tempfile.TemporaryDirectory(prefix='temp_dir', dir=os.getcwd()) as vault:\n",
    "    make_example_vault(vault)\n",
    "    assert VaultNote._check_if_cache_needs_to_update(vault, name='ring')\n",
    "    VaultNote.update_cache(vault)\n",
    "    assert VaultNote._check_if_cache_needs_to_update(vault, name='does_not_exist')"
   ]
  },
  {
   "cell_type": "markdown",
   "metadata": {},
   "source": [
    "## Getting information about the note"
   ]
  },
  {
   "cell_type": "markdown",
   "metadata": {},
   "source": [
    "Here are some convenient ways to get information about the `VaultNote`:"
   ]
  },
  {
   "cell_type": "code",
   "execution_count": null,
   "metadata": {},
   "outputs": [
    {
     "name": "stdout",
     "output_type": "stream",
     "text": [
      "Obsidian vault identifier:\tanalysis/exponential_function\n",
      "relative path:\tanalysis\\exponential_function.md\n",
      "Part of the absolute path of the note:\tc:\\User\n",
      "note name:\texponential_function\n",
      "directory that the note is in relative to the vault:\tanalysis\n"
     ]
    }
   ],
   "source": [
    "with tempfile.TemporaryDirectory(prefix='temp_dir', dir=os.getcwd()) as vault:\n",
    "    make_example_vault(vault)\n",
    "    vault_note = VaultNote(vault, name='exponential_function')\n",
    "    print(f'Obsidian vault identifier:\\t{vault_note.obsidian_identifier()}')\n",
    "    print(f'relative path:\\t{vault_note.rel_path}')\n",
    "    print(f'Part of the absolute path of the note:\\t{str(vault_note.path(relative=False))[:7]}')\n",
    "    print(f'note name:\\t{vault_note.name}')\n",
    "    print(f'directory that the note is in relative to the vault:\\t{vault_note.directory(relative=True)}')"
   ]
  },
  {
   "cell_type": "markdown",
   "metadata": {},
   "source": [
    "## Reading the contents of the note"
   ]
  },
  {
   "cell_type": "markdown",
   "metadata": {},
   "source": [
    "The `VaultNote.text()` function reads the contents of the file that the `VaultNote` object represents, assuming that this file exists. If the file does not exist, then a `NoteDoesNotExistError` is raised."
   ]
  },
  {
   "cell_type": "code",
   "execution_count": null,
   "metadata": {},
   "outputs": [
    {
     "name": "stdout",
     "output_type": "stream",
     "text": [
      "The **exponential function** is the function sending a complex number $z$ to **$$e^{z} = \\sum_{n=0}^\\infty \\frac{z^n}{n!}$$**. It converges for all $z \\in \\mathbb{C}$.\n"
     ]
    }
   ],
   "source": [
    "with tempfile.TemporaryDirectory(prefix='temp_dir', dir=os.getcwd()) as vault:\n",
    "    make_example_vault(vault)\n",
    "    vault_note = VaultNote(vault, name='exponential_function')\n",
    "    print(vault_note.text())\n",
    "    assert len(vault_note.text()) > 10\n",
    "\n",
    "    vault_note = VaultNote(vault, rel_path='does_not_exist.md')\n",
    "    with ExceptionExpected(ex=NoteDoesNotExistError):\n",
    "        vault_note.text()"
   ]
  },
  {
   "cell_type": "markdown",
   "metadata": {},
   "source": [
    "## Creating/moving the note"
   ]
  },
  {
   "cell_type": "markdown",
   "metadata": {},
   "source": [
    "If a `VaultNote` object represents a non-existent file, then the file can be created with empty content. The cache is updated with this single new entry, but the rest of the cache remains the same.\n",
    "\n",
    "If the file exists, then a `FileExistsError` is raised.\n",
    "\n",
    "If the specified directory for the file does not exist, then a `FileNotFoundError` is raised."
   ]
  },
  {
   "cell_type": "code",
   "execution_count": null,
   "metadata": {},
   "outputs": [],
   "source": [
    "with tempfile.TemporaryDirectory(prefix='temp_dir', dir=os.getcwd()) as vault:\n",
    "    make_example_vault(vault)\n",
    "    vault_note = VaultNote(vault, rel_path='new_file.md')\n",
    "    vault_note.create()\n",
    "    assert vault_note.exists()\n",
    "    assert vault_note.rel_path in VaultNote.cache[str(vault)]['new_file']\n",
    "\n",
    "    with ExceptionExpected(ex=FileExistsError):\n",
    "        vault_note.create() \n",
    "\n",
    "    vault_note = VaultNote(vault, rel_path='none_existent_folder/new_file.md')\n",
    "    with ExceptionExpected(ex=FileNotFoundError):\n",
    "        vault_note.create()"
   ]
  },
  {
   "cell_type": "markdown",
   "metadata": {},
   "source": [
    "If a `VaultNote` object represents an existing file, then the file can be renamed or moved."
   ]
  },
  {
   "cell_type": "code",
   "execution_count": null,
   "metadata": {},
   "outputs": [],
   "source": [
    "with tempfile.TemporaryDirectory(prefix='temp_dir', dir=os.getcwd()) as vault:\n",
    "    make_example_vault(vault)\n",
    "\n",
    "    VaultNote.clear_cache()\n",
    "    vault_note = VaultNote(vault, name='exponential_function')\n",
    "    vault_note.move_to_folder('')\n",
    "    assert vault_note.rel_path == 'exponential_function.md'\n",
    "    assert 'exponential_function.md' in VaultNote.cache[str(vault)]['exponential_function']"
   ]
  },
  {
   "cell_type": "markdown",
   "metadata": {},
   "source": [
    "### Getting a unique note name"
   ]
  },
  {
   "cell_type": "markdown",
   "metadata": {},
   "source": [
    "It is troublesome to create a note with a non-unique name. The `unique_name` method of the VaultNote class takes a tentative name for a note to be created and adds a number to the name so that the note name will be unique in the vault. "
   ]
  },
  {
   "cell_type": "code",
   "execution_count": null,
   "metadata": {},
   "outputs": [],
   "source": [
    "with tempfile.TemporaryDirectory(prefix='temp_dir', dir=os.getcwd()) as vault:\n",
    "    make_example_vault(vault)\n",
    "    # There is a note named category in the test vault.\n",
    "    sample_name = VaultNote.unique_name('category', vault)  \n",
    "    assert not VaultNote(vault, name=sample_name).exists()\n",
    "\n",
    "    sample_name = VaultNote.unique_name('non_existent_note_name', vault)\n",
    "    assert not VaultNote(vault, name=sample_name).exists()\n",
    "    assert sample_name == 'non_existent_note_name'"
   ]
  },
  {
   "cell_type": "code",
   "execution_count": null,
   "metadata": {},
   "outputs": [],
   "source": [
    "#| hide\n",
    "# This import \n",
    "with tempfile.TemporaryDirectory(prefix='temp_dir', dir=os.getcwd()) as vault:\n",
    "    vault = Path(vault)\n",
    "    make_example_vault(vault)\n",
    "    # Test _add_single_entry_to_cache\n",
    "    VaultNote.clear_cache()\n",
    "    VaultNote._add_single_entry_to_cache(vault, rel_path='directory/file.md')\n",
    "    assert len(VaultNote.cache) == 1\n",
    "    assert len(VaultNote.cache[str(vault)]) == 1\n",
    "    assert len(VaultNote.cache[str(vault)]['file']) == 1\n",
    "\n",
    "    VaultNote._remove_single_entry_from_cache(vault, rel_path=Path('directory/file.md'))\n",
    "    assert len(VaultNote.cache) == 1\n",
    "    assert len(VaultNote.cache[str(vault)]) == 1\n",
    "    assert len(VaultNote.cache[str(vault)]['file']) == 0\n",
    "    # Test update_cache with mock\n",
    "    with mock.patch('__main__.all_paths_to_notes_in_vault') as mock_method:\n",
    "        VaultNote.update_cache(vault)\n",
    "        mock_method.assert_called()\n",
    "\n",
    "    # with (mock.patch.object(VaultNote, '_add_single_entry_to_cache') as mock_add_cache,\n",
    "    #       mock.patch.object(VaultNote, '_remove_single_entry_from_cache') as mock_remove_cache,\n",
    "    #       ):\n",
    "\n",
    "    # See https://stackoverflow.com/questions/29152170/what-is-the-difference-between-mock-patch-object-and-mock-patch\n",
    "    with (mock.patch('__main__.VaultNote._add_single_entry_to_cache') as mock_add_cache,\n",
    "          mock.patch('__main__.VaultNote._remove_single_entry_from_cache') as mock_remove_cache,\n",
    "          ):\n",
    "        vault_note = VaultNote(vault, name='exponential_function')\n",
    "        vault_note.move_to_folder('')\n",
    "        # mock_add_cache.assert_called_with()\n",
    "        mock_remove_cache.assert_called_with(vault, Path('analysis') / Path('exponential_function.md'))\n",
    "        mock_add_cache.assert_called_with(vault, Path('exponential_function.md'))"
   ]
  }
 ],
 "metadata": {
  "kernelspec": {
   "display_name": "Python 3.10.6 64-bit",
   "language": "python",
   "name": "python3"
  }
 },
 "nbformat": 4,
 "nbformat_minor": 2
}
