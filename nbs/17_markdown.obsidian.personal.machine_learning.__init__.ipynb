{
 "cells": [
  {
   "cell_type": "markdown",
   "metadata": {},
   "source": [
    "# markdown.obisidian.personal.machine_learning\n",
    "> Functions relevant to gathering and processing machine learning data."
   ]
  },
  {
   "cell_type": "code",
   "execution_count": null,
   "metadata": {},
   "outputs": [],
   "source": [
    "#| default_exp markdown.obsidian.personal.machine_learning.__init__"
   ]
  },
  {
   "cell_type": "code",
   "execution_count": 2,
   "metadata": {},
   "outputs": [],
   "source": [
    "#| export\n",
    "from bisect import bisect_left, bisect_right\n",
    "from itertools import accumulate, pairwise\n",
    "from os import PathLike\n",
    "from random import sample, choices\n",
    "import re\n",
    "from typing import Union\n",
    "\n",
    "# from fastai.text.all import *\n",
    "import pandas as pd\n",
    "\n",
    "from trouver.helper import latex_indices, find_regex_in_text, current_time_formatted_to_minutes\n",
    "from trouver.markdown.markdown.file import MarkdownFile\n",
    "from trouver.markdown.obsidian.footnotes import (\n",
    "    remove_footnote_mentions_in_markdown_text\n",
    ")\n",
    "# TODO: import the rest"
   ]
  }
 ],
 "metadata": {
  "kernelspec": {
   "display_name": "Python 3.10.6 64-bit",
   "language": "python",
   "name": "python3"
  },
  "language_info": {
   "codemirror_mode": {
    "name": "ipython",
    "version": 3
   },
   "file_extension": ".py",
   "mimetype": "text/x-python",
   "name": "python",
   "nbconvert_exporter": "python",
   "pygments_lexer": "ipython3",
   "version": "3.10.6"
  },
  "vscode": {
   "interpreter": {
    "hash": "e0d6519b614ed4b3ff759fd43b4634bcad99f4a02e3e0401ef91ccc070278cd3"
   }
  }
 },
 "nbformat": 4,
 "nbformat_minor": 2
}
