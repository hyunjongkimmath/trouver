{
 "cells": [
  {
   "cell_type": "code",
   "execution_count": null,
   "metadata": {},
   "outputs": [],
   "source": [
    "#| default_exp markdown.obsidian.personal.notation.parse"
   ]
  },
  {
   "cell_type": "markdown",
   "metadata": {},
   "source": [
    "# markdown.obsidian.personal.notation.parse\n",
    "> For parsing notation notes"
   ]
  },
  {
   "cell_type": "code",
   "execution_count": null,
   "metadata": {},
   "outputs": [],
   "source": [
    "#| export\n",
    "from os import PathLike\n",
    "import re\n",
    "from typing import Optional, Union\n",
    "\n",
    "from trouver.markdown.markdown.file import MarkdownFile, MarkdownLineEnum \n",
    "from trouver.markdown.obsidian.links import link_ranges_in_text, ObsidianLink, MARKDOWNLINK_PATTERN, MARKDOWNLINK_CAPTURE_PATTERN, WIKILINK_PATTERN\n",
    "from trouver.markdown.obsidian.vault import VaultNote\n",
    "from trouver.markdown.obsidian.personal.note_type import assert_note_is_of_type, PersonalNoteTypeEnum"
   ]
  },
  {
   "cell_type": "code",
   "execution_count": null,
   "metadata": {},
   "outputs": [],
   "source": [
    "from fastcore.test import *\n",
    "from trouver.helper.tests import _test_directory"
   ]
  },
  {
   "cell_type": "markdown",
   "metadata": {},
   "source": [
    "# Parse notation note"
   ]
  },
  {
   "cell_type": "markdown",
   "metadata": {},
   "source": [
    "For the purposes of `trouver`, a notation note most usually starts in the format `<Notation> [[<link_to_note>|denotes]] <explanation of what that notation denotes/is defined as> <optional paragraphs discussing aspects about the notation>`. For example, \"$\\deg D$ [[note_link|denotes]] the degree of the divisor $D$\" would be an example of such a note.\n",
    "\n",
    "If the word `denotes` is not given in a link to a note, then the note to which the first link points is considered the main note of the notation note. Alternatively, a notation note might also sometimes have a comment citing the source of the notation instead of links.  Nevertheless, it is preferred that `denotes` is given in a link.\n",
    " \n",
    "A notation note may have YAML frontmatter meta as well.\n"
   ]
  },
  {
   "cell_type": "code",
   "execution_count": null,
   "metadata": {},
   "outputs": [],
   "source": [
    "#| export\n",
    "def _main_of_notation_from_text(\n",
    "        file_text: str # Text of notation note\n",
    "        ) -> Union[str, VaultNote, None]: # The name main information note that `notation_note` comes from. Returns `None` if `notation_note` does not come from such a note.\n",
    "    \"\"\"Return the name of the note from which the notation comes from.\n",
    "\n",
    "    Helper function for `parse_notation_string`.\n",
    "    \"\"\"\n",
    "    if '%%' in file_text and 'main: ' in file_text:\n",
    "        return None\n",
    "\n",
    "    # First, get rid of the notation, i.e. the first latex math mode string\n",
    "    match = re.search(fr'\\$.+?\\$\\s+', file_text) \n",
    "    if match is None:\n",
    "        raise ValueError(\n",
    "            'There seems to be a formatting error in a notation note'\n",
    "            ' and the notation has not been identified. The following is the'\n",
    "            f' content of the notation note:\\n{file_text}')\n",
    "    start, end = match.span()\n",
    "    file_text = file_text[end:]\n",
    "    \n",
    "    link_locations = link_ranges_in_text(file_text)\n",
    "    if not link_locations:\n",
    "        return None\n",
    "    start, end = link_locations[0]\n",
    "    link_str = file_text[start:end]\n",
    "    link_parse = ObsidianLink.from_text(link_str)\n",
    "    main_note_name = link_parse.file_name\n",
    "    return main_note_name"
   ]
  },
  {
   "cell_type": "code",
   "execution_count": null,
   "metadata": {},
   "outputs": [],
   "source": [
    "#| hide\n",
    "vault = _test_directory() / 'test_vault_7'\n",
    "notation_note = VaultNote(vault, name='some_reference_name_notation_Spec_A')\n",
    "test_eq(_main_of_notation_from_text(notation_note.text()), 'spectrum_of_a_ring')"
   ]
  },
  {
   "cell_type": "code",
   "execution_count": null,
   "metadata": {},
   "outputs": [],
   "source": [
    "#| hide\n",
    "vault = _test_directory() / 'test_vault_7'\n",
    "notation_note = VaultNote(vault, name='some_reference_name_notation_O_X_this_file_has_no_links')\n",
    "main_note =  _main_of_notation_from_text(notation_note.text())\n",
    "assert main_note is None"
   ]
  },
  {
   "cell_type": "code",
   "execution_count": null,
   "metadata": {},
   "outputs": [
    {
     "data": {
      "text/plain": [
       "'some_note'"
      ]
     },
     "execution_count": null,
     "metadata": {},
     "output_type": "execute_result"
    }
   ],
   "source": [
    "#| hide\n",
    "# Test the case where the notation string contains a [[]]\n",
    "vault = _test_directory() / 'test_vault_7'\n",
    "notation_note = VaultNote(vault, name='some_reference_name_notation_k_t_formal_power_series_ring') \n",
    "_main_of_notation_from_text(notation_note.text())\n"
   ]
  },
  {
   "cell_type": "code",
   "execution_count": null,
   "metadata": {},
   "outputs": [],
   "source": [
    "#| hide\n",
    "# TODO: test error being raised"
   ]
  },
  {
   "cell_type": "code",
   "execution_count": null,
   "metadata": {},
   "outputs": [],
   "source": [
    "#| export\n",
    "def _divide_bulleted_list_mf_at_end(\n",
    "        mf: MarkdownFile\n",
    "        ) -> tuple[MarkdownFile, list[tuple[str, str]]]: # The first MarkdownFile contains the main content. The second MarkdonwFile contains the bulleted list at the end; if no such bulleted list exists, then this is None.\n",
    "    \"\"\"Return a `MarkdownFile` consisting of just the main content\n",
    "    of a notation note along with the list of tuples capturing the\n",
    "    information of the trailing bulleted list of links\n",
    "    for notations used in the notation note.\n",
    "\n",
    "    Assumes that the bulleted list is formatted correctly\n",
    "    (i.e. each line is of the form `- [<notation>](<link>)`)\n",
    "\n",
    "    Helper function for `parse_notation_note`.\n",
    "    \"\"\"\n",
    "    main_parts = mf.parts.copy()\n",
    "    trailing_parts = []\n",
    "    for part in reversed(mf.parts):\n",
    "        if part['type'] == MarkdownLineEnum.BLANK_LINE:\n",
    "            main_parts.pop()\n",
    "            continue\n",
    "        if not _part_is_unordered_list_and_is_of_markdownstyle_link(part):\n",
    "            break\n",
    "        last_part = main_parts.pop() # Should be the same as `part`\n",
    "        trailing_parts.insert(0, last_part)\n",
    "    \n",
    "    bulleted_list = [\n",
    "        _notat_str_and_linked_notat_note_name_from_bullet_point_part(part)\n",
    "        for part in trailing_parts]\n",
    "    return MarkdownFile(main_parts), bulleted_list\n",
    "    \n",
    "\n",
    "def _part_is_unordered_list_and_is_of_markdownstyle_link(\n",
    "        part: dict[str, Union[str, MarkdownLineEnum]]\n",
    "        ) -> bool:\n",
    "    \"\"\"\n",
    "    \n",
    "    Helper function for `_divide_bulleted_list_mf_at_end`\n",
    "    \"\"\"\n",
    "    if part['type'] != MarkdownLineEnum.UNORDERED_LIST:\n",
    "        return False\n",
    "    if not part['line'].startswith('- '):\n",
    "        return False\n",
    "    if not re.match(MARKDOWNLINK_PATTERN, part['line'][2:]):\n",
    "        return False\n",
    "    return True\n",
    "    \n",
    "\n",
    "def _notat_str_and_linked_notat_note_name_from_bullet_point_part(\n",
    "        part: dict[str, Union[str, MarkdownLineEnum]]\n",
    "        ) -> tuple[str, str]:\n",
    "    match = re.match(MARKDOWNLINK_CAPTURE_PATTERN, part['line'][2:])\n",
    "    return match[1], match[2]"
   ]
  },
  {
   "cell_type": "code",
   "execution_count": null,
   "metadata": {},
   "outputs": [],
   "source": [
    "test_eq(['hi'], ['hi'])"
   ]
  },
  {
   "cell_type": "code",
   "execution_count": null,
   "metadata": {},
   "outputs": [],
   "source": [
    "#| hide\n",
    "notation_note_str = r'''$\\operatorname{Gal}(L/K)$ [[linky|denotes]] blah blah blah.\n",
    "- [$L$](notation_L_some_field_extension)\n",
    "- [$K$](notation_K_some_base_field)'''\n",
    "mf = MarkdownFile.from_string(notation_note_str)\n",
    "main_content, bulleted_list = _divide_bulleted_list_mf_at_end(mf)\n",
    "test_eq(str(main_content), r'$\\operatorname{Gal}(L/K)$ [[linky|denotes]] blah blah blah.')\n",
    "test_eq(bulleted_list, [('$L$', 'notation_L_some_field_extension'), ('$K$', 'notation_K_some_base_field')])\n",
    "\n",
    "# This time, add more blank lines\n",
    "notation_note_str = r'''$\\operatorname{Gal}(L/K)$ [[linky|denotes]] blah blah blah.\n",
    "\n",
    "- [$L$](notation_L_some_field_extension)\n",
    "\n",
    "- [$K$](notation_K_some_base_field)\n",
    "'''\n",
    "mf = MarkdownFile.from_string(notation_note_str)\n",
    "main_content, bulleted_list = _divide_bulleted_list_mf_at_end(mf)\n",
    "test_eq(str(main_content), r'$\\operatorname{Gal}(L/K)$ [[linky|denotes]] blah blah blah.')\n",
    "test_eq(bulleted_list, [('$L$', 'notation_L_some_field_extension'), ('$K$', 'notation_K_some_base_field')])\n",
    "\n",
    "# No bulleted list means the second output is `None`:\n",
    "\n",
    "notation_note_str = r'''$\\operatorname{Gal}(L/K)$ [[linky|denotes]] blah blah blah.\n",
    "\n",
    "'''\n",
    "mf = MarkdownFile.from_string(notation_note_str)\n",
    "main_content, bulleted_list = _divide_bulleted_list_mf_at_end(mf)\n",
    "test_eq(str(main_content), r'$\\operatorname{Gal}(L/K)$ [[linky|denotes]] blah blah blah.')\n",
    "test_eq(bulleted_list, [])\n",
    "\n"
   ]
  },
  {
   "cell_type": "code",
   "execution_count": null,
   "metadata": {},
   "outputs": [],
   "source": [
    "#| export\n",
    "def parse_notation_note(\n",
    "        notation_note: Union[str, VaultNote],\n",
    "        vault: Optional[PathLike] = None # The vault If `None`, then uses `notation_note.vault`\n",
    "        ) -> tuple[Union[dict, None], Union[str, None], str, MarkdownFile,\n",
    "                   list[tuple[str, str]]]:\n",
    "    \"\"\"Parse information from the notation note.\n",
    "\n",
    "    **Returns**\n",
    "\n",
    "    - tuple[Union[dict, None], str, ObsidianLink, MarkdownFile, list[tuple[str, str]]]\n",
    "        - The first entry is the YAML frontmatter meta, if available.\n",
    "        - The second entry is the notation string\n",
    "        - The third entry is the name of the \"main note\" of the notation note. This is usual\n",
    "          the linked note in the link `[[<linked_note>|denotes]]`. If no such main note\n",
    "          exists, then this is `None`.\n",
    "        - The fourth entry is the MarkdownFile consisting of the \"main\" content of the note,\n",
    "          which excludes the information given by all of the other entries.\n",
    "        - The fifth entry is a list of tuples of two `str`'s representing a\n",
    "          bulleted list of notation notes to which `notation_note` links to.\n",
    "          Each tuple is of the form `(latex_str, notation_note_name)` and\n",
    "          the corresponding entry in the bulleted list is of the form\n",
    "          `- [<latex_str>](<notation_note_name)`.\n",
    "\n",
    "    **Raises**\n",
    "\n",
    "    - UserWarning\n",
    "        - If the (non-YAML frontmatter meta) contents of the note do not start\n",
    "        inn the form `<Notation> [[<link_to_note>|denotes]]`; the name of the\n",
    "        notation note is included in the warning message.\n",
    "    - ValueError\n",
    "        - If the notation note is not formatted correctly by starting\n",
    "        with the notation with dollar signs `$`.\n",
    "    - AssertionError\n",
    "        - If `notation_note` is not determined to be a notation note.\n",
    "    \"\"\"\n",
    "    if isinstance(notation_note, str):\n",
    "        notation_note = VaultNote(vault, name=notation_note)\n",
    "    if not vault:\n",
    "        vault = notation_note.vault\n",
    "    assert_note_is_of_type(notation_note, PersonalNoteTypeEnum.NOTATION_NOTE)\n",
    "\n",
    "    mf = MarkdownFile.from_vault_note(notation_note)\n",
    "    metadata = mf.metadata()\n",
    "    mf_without_metadata = MarkdownFile(\n",
    "        [part for part in mf.parts if part['type'] != MarkdownLineEnum.META])\n",
    "\n",
    "    file_text = str(mf_without_metadata)\n",
    "\n",
    "    main_mf, linked_notations_list = _divide_bulleted_list_mf_at_end(mf_without_metadata)\n",
    "    _remove_the_notation_str_and_denotes_in_main_mf(main_mf, notation_note)\n",
    "\n",
    "    return (metadata, _get_notation_string(file_text, notation_note),\n",
    "            _main_of_notation_from_text(file_text), main_mf,\n",
    "            linked_notations_list)\n",
    "\n",
    "\n",
    "def _get_notation_string(\n",
    "        file_text: str,\n",
    "        notation_note: VaultNote\n",
    "        ) -> str:\n",
    "    \"\"\"Return the notation string from the text of the notation note..\n",
    "\n",
    "    Assumes that the notation string exists and is well formatted.\n",
    "\n",
    "    Helper function for `parse_notation_note`.\n",
    "    \"\"\"\n",
    "    try:\n",
    "        return re.search(r'\\$.+?\\$', file_text).group()\n",
    "    except AttributeError as e:\n",
    "        raise ValueError(\n",
    "            'There seems to be a formatting error in a notation note'\n",
    "            ' and the notation has not been identified. The following is the'\n",
    "            f' name of the notation note: {notation_note.name}')\n",
    "    \n",
    "\n",
    "def _remove_the_notation_str_and_denotes_in_main_mf(\n",
    "        main_mf: MarkdownFile,\n",
    "        notation_note: VaultNote):\n",
    "    \"\"\"Remove the text `<notation> denotes ` which starts the\n",
    "    notation description.\n",
    "\n",
    "    Helper function of `parse_notation_note`.\n",
    "    \"\"\"\n",
    "    for part in main_mf.parts:\n",
    "        if part['type'] == MarkdownLineEnum.BLANK_LINE:\n",
    "            continue\n",
    "        match = re.match(fr'^\\$.+?\\$ ({WIKILINK_PATTERN}|denotes)\\s*', part['line']) \n",
    "        if match is None:\n",
    "            raise ValueError(\n",
    "                'There seems to be a formatting error in a notation note'\n",
    "                ' and the notation has not been identified. The following is the'\n",
    "                f' name of the notation note: {notation_note.name}')\n",
    "        else:\n",
    "            start, end = match.span()\n",
    "            part['line'] = part['line'][end:]\n",
    "            break\n",
    "    "
   ]
  },
  {
   "cell_type": "markdown",
   "metadata": {},
   "source": [
    "`parse_notation_note` gets information about the notation note. Note that the `MarkdownFile` object `main_mf` that has the main content/description of the notation does not start with the pharse of the form `<notation> [[<link>|denotes]] `."
   ]
  },
  {
   "cell_type": "code",
   "execution_count": null,
   "metadata": {},
   "outputs": [],
   "source": [
    "vault = _test_directory() / 'test_vault_7'\n",
    "notation_note = VaultNote(vault, name='some_reference_name_notation_Spec_A')\n",
    "metadata, notation_str, main_of_notation, main_mf, linked_notat_notes = parse_notation_note(notation_note, vault)\n",
    "\n",
    "test_eq(metadata, {'detect_regex': [], 'latex_in_original': ['\\\\operatorname{Spec} A']})\n",
    "test_eq(notation_str, '$\\\\operatorname{Spec} A$')\n",
    "test_eq(main_of_notation, 'spectrum_of_a_ring')\n",
    "test_eq(str(main_mf), 'the spectrum of the ring $A$.')\n",
    "test_eq(linked_notat_notes, []) # There is not a bulleted list at the end, so the last output is `None`."
   ]
  },
  {
   "cell_type": "code",
   "execution_count": null,
   "metadata": {},
   "outputs": [],
   "source": [
    "vault = _test_directory() / 'test_vault_7'\n",
    "notation_note = VaultNote(vault, name='poonen_curves_notation_zeta_X_s_zeta_function_of_variety')\n",
    "metadata, notation_str, main_of_notation, main_mf, linked_notat_notes = parse_notation_note(notation_note, vault)\n",
    "\n",
    "test_eq(metadata, None)\n",
    "test_eq(notation_str, r'$\\zeta_{X}(s)$')\n",
    "test_eq(main_of_notation, 'poonen_curves_3.4.1 DEFINITION')\n",
    "test_eq(str(main_mf), 'the zeta function of the [[poonen_curves_1.0.2 DEFINITION|variety]] $X$ over $\\\\mathbb{F}_q$.\\n\\nIt is defined as\\n\\n$$\\\\zeta_X(s) = Z_X(q^{-s}).$$\\n\\nA priori, it is a formal series, but in fact [[poonen_curves_ 3.6_page_56|it converges]] for $\\\\operatorname{Re} s > \\\\dim X$.')\n",
    "test_eq(linked_notat_notes, [('$Z_X$', 'poonen_curves_notation_Z_X_T')]) # There is a bulleted list at the end, so the last output is `None`."
   ]
  },
  {
   "cell_type": "code",
   "execution_count": null,
   "metadata": {},
   "outputs": [],
   "source": [
    "#| hide\n",
    "# Test the case where the note has no main note; in particular, it starts with `<notation> denotes ` with no link!`\n",
    "\n",
    "vault = _test_directory() / 'test_vault_7'\n",
    "notation_note = VaultNote(vault, name='some_reference_name_notation_O_X_this_file_has_no_links') \n",
    "metadata, notation_str, main_of_notation, main_mf, linked_notat_notes = parse_notation_note(notation_note, vault)\n",
    "assert main_note is None\n"
   ]
  },
  {
   "cell_type": "code",
   "execution_count": null,
   "metadata": {},
   "outputs": [],
   "source": [
    "#| hide\n",
    "# Test the case where the note not blank lines after the `denotes`. \n",
    "\n",
    "vault = _test_directory() / 'test_vault_7'\n",
    "notation_note = VaultNote(vault, name='some_reference_name_notation_B_R') \n",
    "metadata, notation_str, main_of_notation, main_mf, linked_notat_notes = parse_notation_note(notation_note, vault)\n",
    "assert main_note is None\n"
   ]
  },
  {
   "cell_type": "code",
   "execution_count": null,
   "metadata": {},
   "outputs": [],
   "source": [
    "#| hide\n",
    "# Test the case where the notation string contains a [[]]\n",
    "vault = _test_directory() / 'test_vault_7'\n",
    "notation_note = VaultNote(vault, name='some_reference_name_notation_k_t_formal_power_series_ring') \n",
    "metadata, notation_str, main_of_notation, main_mf, linked_notat_notes = parse_notation_note(notation_note, vault)\n",
    "test_eq(notation_str, '$k[[t]]$')\n",
    "test_eq(main_of_notation, 'some_note')\n",
    "# assert main_note is None"
   ]
  },
  {
   "cell_type": "code",
   "execution_count": null,
   "metadata": {},
   "outputs": [],
   "source": [
    "#| export\n",
    "def notation_in_note(\n",
    "        notation_note: Union[str, VaultNote],\n",
    "        vault: Optional[PathLike] = None \n",
    "        ) -> str:\n",
    "    \"\"\"Return the name of the note from which the notation comes from.\n",
    "    \n",
    "    **Parameters**\n",
    "\n",
    "    - `notation_note` - Union[str, VaultNote]\n",
    "        - Either\n",
    "            \n",
    "            - The name of the notation note or\n",
    "            - The `VaultNote` object of the notation note. \n",
    "            \n",
    "        The note name is expected to be unique\n",
    "        inside the vault specified by `vault`. \n",
    "        This is expected to contain `'notation'` as a substring. \n",
    "        Usually, this is expected to be formatted in one of\n",
    "        the following forms:\n",
    "            - `'<reference_name>_notation_<rest_of_note_name>'`\n",
    "            - `'notation.<rest_of_note_name>'\n",
    "    - `vault` - Pathlike or `None`\n",
    "        - Defaults to `None`\n",
    "        \n",
    "    **Returns**\n",
    "\n",
    "    - str\n",
    "        - The notation in LaTeX, including the dollar signs `$`.\n",
    "\n",
    "    **Raises**\n",
    "\n",
    "    \"\"\"\n",
    "    _, notation_in_note, _, _, _ = parse_notation_note(notation_note, vault)\n",
    "    return notation_in_note"
   ]
  },
  {
   "cell_type": "markdown",
   "metadata": {},
   "source": [
    "`notation_in_note` identifies the notation LaTeX str that a notation note presents. Its output starts and ends with dollar signs."
   ]
  },
  {
   "cell_type": "code",
   "execution_count": null,
   "metadata": {},
   "outputs": [],
   "source": [
    "vault = _test_directory() / 'test_vault_7'\n",
    "notation_note = VaultNote(vault, name='some_reference_name_notation_Spec_A')\n",
    "notation = notation_in_note(notation_note)\n",
    "assert notation == r'$\\operatorname{Spec} A$'"
   ]
  },
  {
   "cell_type": "code",
   "execution_count": null,
   "metadata": {},
   "outputs": [],
   "source": [
    "#| export\n",
    "def main_of_notation(\n",
    "        notation_note: VaultNote, # The VaultNote object representing the notation note.\n",
    "        as_note: bool = False # If `False`, then returns the name of the note, and returns a VaultNote object with the same vault as `notation_note` otherwise. The vault used to get the `VaultNote` is the vault of `notation_note`.\n",
    "        ) -> Union[str, VaultNote, None]: # The (name of the) main information note that `notation_note` comes from. Returns `None` if `notation_note` does not come from such a note.\n",
    "    \"\"\"Return the name of the note from which the notation comes from.\n",
    "            \n",
    "    **Raises**\n",
    "\n",
    "    - ValueError\n",
    "        - If the notation note is not formatted correctly by starting\n",
    "        with the notation with dollar signs `$`.\n",
    "    \"\"\"\n",
    "    vault = notation_note.vault\n",
    "    _, _, main_note_name, _, _ = parse_notation_note(notation_note, vault)\n",
    "    if main_note_name is None:\n",
    "        return None\n",
    "    if as_note:\n",
    "        return VaultNote(notation_note.vault, name=main_note_name)\n",
    "    else:\n",
    "        return main_note_name"
   ]
  },
  {
   "cell_type": "markdown",
   "metadata": {},
   "source": [
    "We can identify the \"main note\" of a notation note with the `main_of_notation` method:"
   ]
  },
  {
   "cell_type": "code",
   "execution_count": null,
   "metadata": {},
   "outputs": [],
   "source": [
    "vault = _test_directory() / 'test_vault_7'\n",
    "notation_note = VaultNote(vault, name='some_reference_name_notation_Spec_A')\n",
    "test_eq(main_of_notation(notation_note), 'spectrum_of_a_ring')"
   ]
  },
  {
   "cell_type": "markdown",
   "metadata": {},
   "source": [
    "We can also return this main note as a `VaultNote` object:"
   ]
  },
  {
   "cell_type": "code",
   "execution_count": null,
   "metadata": {},
   "outputs": [],
   "source": [
    "vault = _test_directory() / 'test_vault_7'\n",
    "notation_note = VaultNote(vault, name='some_reference_name_notation_Spec_A')\n",
    "main_note =  main_of_notation(notation_note, as_note=True)\n",
    "assert isinstance(main_note, VaultNote)\n",
    "test_eq(main_note.name, 'spectrum_of_a_ring')"
   ]
  },
  {
   "cell_type": "markdown",
   "metadata": {},
   "source": [
    "If the notation note has no links, then `main_of_notation` returns `None`:"
   ]
  },
  {
   "cell_type": "code",
   "execution_count": null,
   "metadata": {},
   "outputs": [],
   "source": [
    "vault = _test_directory() / 'test_vault_7'\n",
    "notation_note = VaultNote(vault, name='some_reference_name_notation_O_X_this_file_has_no_links')\n",
    "main_note =  main_of_notation(notation_note)\n",
    "assert main_note is None\n",
    "\n",
    "main_note = main_of_notation(notation_note, as_note=True)\n",
    "assert main_note is None"
   ]
  }
 ],
 "metadata": {
  "kernelspec": {
   "display_name": "python3",
   "language": "python",
   "name": "python3"
  }
 },
 "nbformat": 4,
 "nbformat_minor": 2
}
