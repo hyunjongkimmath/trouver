{
 "cells": [
  {
   "cell_type": "markdown",
   "metadata": {},
   "source": [
    "# helper.latex.comments\n",
    "\n",
    "> Deal with the comments of a LaTeX document"
   ]
  },
  {
   "cell_type": "code",
   "execution_count": null,
   "metadata": {},
   "outputs": [],
   "source": [
    "#| default_exp helper.latex.comments"
   ]
  },
  {
   "cell_type": "code",
   "execution_count": null,
   "metadata": {},
   "outputs": [],
   "source": [
    "#| export\n",
    "import re"
   ]
  },
  {
   "cell_type": "code",
   "execution_count": null,
   "metadata": {},
   "outputs": [],
   "source": [
    "from fastcore.test import test_eq"
   ]
  },
  {
   "cell_type": "markdown",
   "metadata": {},
   "source": [
    "## LaTeX comments"
   ]
  },
  {
   "cell_type": "code",
   "execution_count": null,
   "metadata": {},
   "outputs": [],
   "source": [
    "#| export\n",
    "def remove_comments(text: str) -> str:\n",
    "    # Find all occurrences of the comment pattern %[^\\n]*\n",
    "    return re.sub(r\"%[^\\n]*\", \"\", text)"
   ]
  },
  {
   "cell_type": "code",
   "execution_count": null,
   "metadata": {},
   "outputs": [
    {
     "name": "stdout",
     "output_type": "stream",
     "text": [
      "\n",
      "\\newcommand{\\field}[1]{\\mathbb{#1}}\n",
      "\\newcommand{\\mat}[4]{\\left[\\begin{array}{cc}#1 & #2 \\\\\n",
      "                                         #3 & #4\\end{array}\\right]}\n",
      "\\newcommand{\\dual}[1]{#1^{\\vee}}\n",
      "\\newcommand{\\compl}[1]{\\hat{#1}}\n",
      "\n"
     ]
    }
   ],
   "source": [
    "text = r\"\"\"% Commands with parameters\n",
    "\\newcommand{\\field}[1]{\\mathbb{#1}}\n",
    "\\newcommand{\\mat}[4]{\\left[\\begin{array}{cc}#1 & #2 \\\\\n",
    "                                         #3 & #4\\end{array}\\right]}\n",
    "\\newcommand{\\dual}[1]{#1^{\\vee}}\n",
    "\\newcommand{\\compl}[1]{\\hat{#1}}\n",
    "\"\"\"\n",
    "assert '%' not in remove_comments(text)\n",
    "print(remove_comments(text))\n",
    "\n",
    "text = r\"\"\"Hi. I'm not commented. %But I am!\"\"\"\n",
    "test_eq(remove_comments(text), \"Hi. I'm not commented. \")"
   ]
  }
 ],
 "metadata": {
  "kernelspec": {
   "display_name": "trouver_py310_venv",
   "language": "python",
   "name": "trouver_py310_venv"
  }
 },
 "nbformat": 4,
 "nbformat_minor": 2
}
