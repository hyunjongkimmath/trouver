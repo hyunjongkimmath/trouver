{
 "cells": [
  {
   "cell_type": "code",
   "execution_count": null,
   "metadata": {},
   "outputs": [],
   "source": [
    "#| default_exp markdown.obsidian.vault_and_links"
   ]
  },
  {
   "cell_type": "markdown",
   "metadata": {},
   "source": [
    "# markdown.obsidian.vault_and_links\n",
    "> Functions involving both the vault and links"
   ]
  },
  {
   "cell_type": "code",
   "execution_count": null,
   "metadata": {},
   "outputs": [],
   "source": [
    "#| export\n",
    "from os import PathLike\n",
    "from pathlib import Path\n",
    "import re\n",
    "from typing import Union\n",
    "\n",
    "from trouver.helper.files_and_folders import text_from_file\n",
    "from trouver.markdown.obsidian.vault import VaultNote, all_paths_to_notes_in_vault\n",
    "from trouver.markdown.obsidian.links import ObsidianLink, LinkType, links_from_text, LinkFormatError"
   ]
  },
  {
   "cell_type": "markdown",
   "metadata": {},
   "source": [
    "## Queries about links in a vault"
   ]
  },
  {
   "cell_type": "code",
   "execution_count": null,
   "metadata": {},
   "outputs": [],
   "source": [
    "#| export\n",
    "def all_custom_text_for_links_in_vault(\n",
    "        note: VaultNote, # The note to find the custom text for.\n",
    "        vault: PathLike, # The path to the Obsidian vault directory\n",
    "        anchor: Union[str, int] = -1 # The anchor in the note to find the custom text for. If 0, then returns only the custom texts for internal links without anchors. If -1, then returns the custom texts for all of the internal links of the specified note.\n",
    "        ) -> dict[Union[str, int], str]: # Each key is the custom text used and each value is a set of paths relative to `vault` to the notes where the custom text is used.  The key `0` means that no custom text is used.\n",
    "    \"\"\"\n",
    "    Return all custom text used in the Obsidian vault for the specified\n",
    "    note and anchor.\n",
    "    \"\"\"\n",
    "    vault = Path(vault)\n",
    "    name = note.name\n",
    "    wiki_gen = ObsidianLink(\n",
    "        is_embedded=False, file_name=name, anchor=anchor, custom_text=-1,\n",
    "        link_type=LinkType.WIKILINK)\n",
    "    wiki_regex = wiki_gen.to_regex()\n",
    "    mark_gen = ObsidianLink(\n",
    "        is_embedded=False, file_name=name, anchor=anchor, custom_text=-1,\n",
    "        link_type=LinkType.MARKDOWN)\n",
    "    mark_regex = mark_gen.to_regex()\n",
    "    regex = f'{wiki_regex}|{mark_regex}'\n",
    "    all_note_paths = all_paths_to_notes_in_vault(vault)\n",
    "    # I am creating a generator as opposed to a list so that the program\n",
    "    # does not store the contents of all the text files.\n",
    "    texts = ((path, text_from_file(vault / path, encoding='utf8'))\n",
    "             for path in all_note_paths)\n",
    "    regex_object = re.compile(regex)\n",
    "    custom_text_usage = {}\n",
    "    for path, text in texts:\n",
    "        custom_texts = _custom_text_for_links_in_text(text, regex_object)\n",
    "        for custom_text in custom_texts:\n",
    "            if custom_text not in custom_text_usage:\n",
    "                custom_text_usage[custom_text] = set()\n",
    "            custom_text_usage[custom_text].add(path)\n",
    "    return custom_text_usage\n",
    "\n",
    "\n",
    "def _custom_text_for_links_in_text(\n",
    "        text: str, regex_object: re.Pattern) -> list[str]:\n",
    "    \"\"\"Helper function for finding custom text for links in a single file.\n",
    "    \n",
    "    **Parameters**\n",
    "    - text - str\n",
    "    - regex_object - re.Pattern\n",
    "        - An object returned with the `re.compile` function. Matches\n",
    "        wikilinks and markdown links.\n",
    "        \n",
    "    **Returns**\n",
    "    - list[str]\n",
    "    \"\"\"\n",
    "    link_matches = regex_object.finditer(text)\n",
    "    match_ranges = [match.span() for match in link_matches]\n",
    "    links = [ObsidianLink.from_text(text[start:end])\n",
    "             for start, end in match_ranges]\n",
    "    return [link.custom_text for link in links]"
   ]
  },
  {
   "cell_type": "code",
   "execution_count": null,
   "metadata": {},
   "outputs": [],
   "source": [
    "# TODO: examples"
   ]
  },
  {
   "cell_type": "code",
   "execution_count": null,
   "metadata": {},
   "outputs": [],
   "source": [
    "#| export\n",
    "def all_links_in_vault(\n",
    "        vault: PathLike, backlinks: bool = False, \n",
    "        multiplicities: bool = False) -> dict[str, list[str]]:\n",
    "    \"\"\"Returns a dict keeping track of which notes contain \n",
    "    links to which notes.\n",
    "    \n",
    "    TODO: currently, the regex capture regex code. Change them\n",
    "    so that this does not happen.\n",
    "    \n",
    "    **Parameters**\n",
    "    - vault - PathLike\n",
    "    - backlinks - bool\n",
    "        - If `True`, then keeps track of the links in each note.\n",
    "        If `False`, then keeps track of the backlinks in each note,\n",
    "        i.e. which other notes link to each note. Defaults to `False`.\n",
    "    - multiplicties - bool\n",
    "        - If `True`, then keeps track of multiple links to the same note\n",
    "        for each note. Otherwise, only keeps track of whether or not\n",
    "        a note links to a(nother) note. Defaults to `False`.\n",
    "  \n",
    "    **Returns**\n",
    "    - dict[str, list[str]]\n",
    "        - Each key is a str, referring to the name of a note. \n",
    "        Each corresponding value is a list. The list contains \n",
    "        the names of all the notes which the key note references to if\n",
    "        `backlinks` is `True`, and contains the names of all the notes which\n",
    "        reference the key note if `backlinks` is `False`. The list can contain\n",
    "        multiple occurrences of the same note if `multiplicities` is `True`.\n",
    "    \"\"\"\n",
    "    vault = Path(vault)\n",
    "    all_note_paths = all_paths_to_notes_in_vault(vault, as_dict=True)\n",
    "    links = {}\n",
    "    for name, paths in all_note_paths.items():\n",
    "        for path in paths:\n",
    "            text = text_from_file(vault / path, encoding='utf8')\n",
    "            try:\n",
    "                links_in_note = links_from_text(text)\n",
    "            except LinkFormatError:\n",
    "                print(name)\n",
    "            if not multiplicities:\n",
    "                links_in_note = set(links_in_note)\n",
    "            if backlinks:\n",
    "                if name not in links:\n",
    "                    links[name] = []\n",
    "                for link in links_in_note:\n",
    "                    if link.file_name not in links:\n",
    "                        links[link.file_name] = []\n",
    "                    links[link.file_name].append(name)\n",
    "            else:\n",
    "                if name not in links:\n",
    "                    links[name] = []\n",
    "                links[name] += [link.file_name for link in links_in_note]\n",
    "    return links"
   ]
  },
  {
   "cell_type": "code",
   "execution_count": null,
   "metadata": {},
   "outputs": [],
   "source": [
    "# TODO: examples"
   ]
  }
 ],
 "metadata": {
  "kernelspec": {
   "display_name": "python3",
   "language": "python",
   "name": "python3"
  }
 },
 "nbformat": 4,
 "nbformat_minor": 2
}
