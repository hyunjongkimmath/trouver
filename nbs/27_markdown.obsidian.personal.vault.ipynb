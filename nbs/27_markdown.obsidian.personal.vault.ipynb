{
 "cells": [
  {
   "cell_type": "markdown",
   "metadata": {},
   "source": [
    "# markdown.obsidian.personal.vault\n",
    "\n",
    "> Manage a vault in ways that are specific to `trouver`"
   ]
  },
  {
   "cell_type": "code",
   "execution_count": null,
   "metadata": {
    "vscode": {
     "languageId": "python"
    }
   },
   "outputs": [],
   "source": [
    "#| default_exp markdown.obsidian.personal.vault"
   ]
  },
  {
   "cell_type": "markdown",
   "metadata": {},
   "source": [
    "`trouver` currently requires `Obsidian.md` vaults to be setup in specific ways[^1]. \n",
    "\n",
    "[^1]: Most representatively, `trouver` curreently requires the vault to have a directories called `_references` and `_templates` in the root directory of the vault. These directories, need to have subdirectories named `A-E`, `F-J`, `K-O`, `P-T`, `U-Z`, each of which need to have further subdirectories whose names are single letter alphabets in the ranges of their own names, e.g. `A-E` has subdirectories named `A`, `B`, `C`, `D`, and `E`. \n",
    "\n",
    "    These directories store reference notes and template notes, see ``14_markdown.obsidian.personal.note_type``"
   ]
  },
  {
   "cell_type": "code",
   "execution_count": null,
   "metadata": {
    "vscode": {
     "languageId": "python"
    }
   },
   "outputs": [],
   "source": [
    "#| export\n",
    "from pathlib import Path\n",
    "import os\n",
    "from os import PathLike"
   ]
  },
  {
   "cell_type": "code",
   "execution_count": null,
   "metadata": {
    "vscode": {
     "languageId": "python"
    }
   },
   "outputs": [],
   "source": [
    "import shutil\n",
    "import tempfile\n",
    "from unittest import mock\n",
    "\n",
    "from fastcore.test import *\n",
    "from nbdev.showdoc import show_doc\n",
    "\n",
    "from trouver.helper import path_name_no_ext, _test_directory"
   ]
  },
  {
   "cell_type": "markdown",
   "metadata": {},
   "source": [
    "# Setup an `Obsidian.md` vault for using `trouver`"
   ]
  },
  {
   "cell_type": "code",
   "execution_count": null,
   "metadata": {
    "vscode": {
     "languageId": "python"
    }
   },
   "outputs": [],
   "source": [
    "#| export\n",
    "def setup_obsidian_vault_for_trouver(\n",
    "        vault: PathLike, # The path to the vault to setup.\n",
    "        verbose: bool = True, # If true, print messages explaining what is created\n",
    "        prompt: bool = True, # If true, prompt user input for certain decisions, such as whether to create an Obsidian vault folder if `vault` does not exist.\n",
    "    ):\n",
    "    \"\"\"Setup an `Obsidian.md` vault for `trouver`.\n",
    "    \n",
    "    Currently, the following subdirectories are created in `vault` if they do not\n",
    "    already exist:\n",
    "\n",
    "    - `_references`, `_templates`\n",
    "        - Each of these directories are then populated by subdirectories \n",
    "          `A-E`, `F-J`, `K-O`, `P-T`, `U-Z`, and those subdirectories are\n",
    "          further populated by subdirectories whose names are single-letter\n",
    "          alphabets in the ranges of these names, e.g. `A-E` has subdirectories\n",
    "          `A`, `B`, `C`, `D`, and `E`.\n",
    "    \"\"\"\n",
    "    _setup_trouver_vault_essentials(Path(vault), verbose, prompt)\n",
    "\n",
    "\n",
    "def _setup_trouver_vault_essentials(\n",
    "        vault: PathLike, # The path to the vault to setup\n",
    "        verbose: bool, # If true, print messages explaining what is created\n",
    "        prompt: bool, # If true, prompt user input for certain decisions, such as whether to create an Obsidian vault folder if `vault` does not exist.\n",
    "    ):\n",
    "    \"\"\"\n",
    "    \"\"\"\n",
    "    # TODO: setup missing subfolders in the `_references` or `_templates` subfolders even\n",
    "    for name in ['_references', '_templates']:\n",
    "        if os.path.exists(vault / name) and verbose:\n",
    "            print(f\"The vault already has a `{name}` folder.\")\n",
    "        elif not os.path.exists(vault / name) and prompt:\n",
    "            # TODO do input things\n",
    "            command = input(\n",
    "                f\"\"\"The vault does not have a `{name}` folder.\n",
    "                Create it and subdirectories?\\n[Y/(n)]\"\"\")\n",
    "        # if not os.path.exists(vault / name) and ()\n",
    "        #     print('')\n",
    "        if not os.path.exists(vault / name) and (not prompt or command == 'Y'):\n",
    "            if verbose:\n",
    "                print(f\"Creating `{name}` folder in the vault.\")\n",
    "            _setup_alphabetical_subdirectories(vault, name)\n",
    "\n",
    "\n",
    "\n",
    "def _setup_alphabetical_subdirectories(\n",
    "        dir: PathLike, # The path to the directory in which to make the subdirectory with alphabetical subdirectories\n",
    "        name: str, # The name of the subdirecctory to make in which the alphabetical subdirectories will be made\n",
    "    ):\n",
    "    \"\"\"Create a subdirectory with name ``name`` in the directory ``dir`` and create\n",
    "    alphabetical subdirectories.\n",
    "    \n",
    "    Assumes that ``dir`` exists, but the subdirectory with name ``name`` does not.\n",
    "    \"\"\"\n",
    "    os.mkdir(dir / name)\n",
    "    sub_names = ['A-E', 'F-J', 'K-O', 'P-T', 'U-Z']\n",
    "    for sub_name in sub_names:\n",
    "        os.mkdir(dir / name / sub_name)\n",
    "        first_letter, last_letter = ord(sub_name[0]), ord(sub_name[-1])\n",
    "        for i in range(first_letter, last_letter+1):\n",
    "            os.mkdir(dir / name / sub_name / chr(i))\n",
    "\n",
    "\n"
   ]
  },
  {
   "cell_type": "code",
   "execution_count": null,
   "metadata": {
    "vscode": {
     "languageId": "python"
    }
   },
   "outputs": [],
   "source": [
    "#| hide\n",
    "with (mock.patch('os.mkdir') as mock_mkdir):\n",
    "    _setup_alphabetical_subdirectories(Path('.'), '_references')\n",
    "\n",
    "    assert mock.call(Path('_references') / 'A-E') in mock_mkdir.call_args_list\n",
    "    assert mock.call(Path('_references') / 'U-Z') in mock_mkdir.call_args_list\n",
    "    assert mock.call(Path('_references') / 'A-E' / 'A') in mock_mkdir.call_args_list\n",
    "    assert mock.call(Path('_references') / 'K-O' / 'L') in mock_mkdir.call_args_list"
   ]
  },
  {
   "cell_type": "code",
   "execution_count": null,
   "metadata": {
    "vscode": {
     "languageId": "python"
    }
   },
   "outputs": [
    {
     "name": "stdout",
     "output_type": "stream",
     "text": [
      "Creating `_references` folder in the vault.\n",
      "Creating `_templates` folder in the vault.\n"
     ]
    }
   ],
   "source": [
    "#| hide\n",
    "with (mock.patch('__main__.input', return_value='Y') as mock_input,\n",
    "      mock.patch('__main__._setup_alphabetical_subdirectories') as mock_setup_alphabetical_subdirectories):\n",
    "    mock_vault = Path('.')\n",
    "    _setup_trouver_vault_essentials(vault=mock_vault, verbose=True, prompt=True)\n",
    "\n",
    "    test_eq(\n",
    "        mock_setup_alphabetical_subdirectories.call_args_list,\n",
    "        [mock.call(mock_vault, '_references'), mock.call(mock_vault, '_templates')])\n",
    "\n"
   ]
  },
  {
   "cell_type": "code",
   "execution_count": null,
   "metadata": {
    "vscode": {
     "languageId": "python"
    }
   },
   "outputs": [],
   "source": [
    "# TODO: test setup_obsidian_vault_for_trouver\n",
    "\n",
    "with (tempfile.TemporaryDirectory(prefix='temp_dir', dir=os.getcwd()) as temp_dir):\n",
    "    # Vault without the '_references' and '_templates' folder.\n",
    "    # The '_references' and '_templates' folders are created with subdirectories.\n",
    "    temp_vault = Path(temp_dir) / 'test_vault_1'\n",
    "    shutil.copytree(_test_directory() / 'test_vault_1', temp_vault)\n",
    "\n",
    "    setup_obsidian_vault_for_trouver(temp_vault, False, False)\n",
    "    assert os.path.exists(Path(temp_dir) / 'test_vault_1' / '_references')\n",
    "    assert os.path.exists(Path(temp_dir) / 'test_vault_1' / '_references' / 'A-E')\n",
    "    assert os.path.exists(Path(temp_dir) / 'test_vault_1' / '_references' / 'A-E' / 'A')\n",
    "    assert os.path.exists(Path(temp_dir) / 'test_vault_1' / '_references' / 'A-E' / 'B')\n",
    "    assert os.path.exists(Path(temp_dir) / 'test_vault_1' / '_references' / 'A-E' / 'C')\n",
    "    assert os.path.exists(Path(temp_dir) / 'test_vault_1' / '_references' / 'A-E' / 'D')\n",
    "    assert os.path.exists(Path(temp_dir) / 'test_vault_1' / '_references' / 'A-E' / 'E')\n",
    "    assert os.path.exists(Path(temp_dir) / 'test_vault_1' / '_references' / 'F-J')\n",
    "    assert os.path.exists(Path(temp_dir) / 'test_vault_1' / '_references' / 'K-O')\n",
    "    assert os.path.exists(Path(temp_dir) / 'test_vault_1' / '_references' / 'P-T')\n",
    "    assert os.path.exists(Path(temp_dir) / 'test_vault_1' / '_references' / 'U-Z')\n",
    "\n",
    "    assert os.path.exists(Path(temp_dir) / 'test_vault_1' / '_templates')\n",
    "    assert os.path.exists(Path(temp_dir) / 'test_vault_1' / '_templates' / 'A-E')\n",
    "    assert os.path.exists(Path(temp_dir) / 'test_vault_1' / '_templates' / 'F-J')\n",
    "    assert os.path.exists(Path(temp_dir) / 'test_vault_1' / '_templates' / 'K-O')\n",
    "    assert os.path.exists(Path(temp_dir) / 'test_vault_1' / '_templates' / 'K-O' / 'K')\n",
    "    assert os.path.exists(Path(temp_dir) / 'test_vault_1' / '_templates' / 'K-O' / 'L')\n",
    "    assert os.path.exists(Path(temp_dir) / 'test_vault_1' / '_templates' / 'K-O' / 'M')\n",
    "    assert os.path.exists(Path(temp_dir) / 'test_vault_1' / '_templates' / 'K-O' / 'N')\n",
    "    assert os.path.exists(Path(temp_dir) / 'test_vault_1' / '_templates' / 'K-O' / 'O')\n",
    "    assert os.path.exists(Path(temp_dir) / 'test_vault_1' / '_templates' / 'P-T')\n",
    "    assert os.path.exists(Path(temp_dir) / 'test_vault_1' / '_templates' / 'U-Z')\n",
    "\n",
    "\n",
    "with (tempfile.TemporaryDirectory(prefix='temp_dir', dir=os.getcwd()) as temp_dir):\n",
    "    # Vault already with the '_references' and '_templates' folder\n",
    "    # The `_references` and `_templates` folder do not get re-made.\n",
    "    temp_vault = Path(temp_dir) / 'empty_model_vault'\n",
    "    shutil.copytree(_test_directory() / 'empty_model_vault', temp_vault)\n",
    "    with (mock.patch('os.mkdir') as mock_mkdir):\n",
    "        assert os.path.exists(Path(temp_dir) / 'empty_model_vault' / '_references')\n",
    "        setup_obsidian_vault_for_trouver(temp_vault, False, False)\n",
    "        assert os.path.exists(Path(temp_dir) / 'empty_model_vault' / '_references')\n",
    "        mock_mkdir.assert_not_called()\n"
   ]
  }
 ],
 "metadata": {
  "kernelspec": {
   "display_name": "trouver_py310_venv",
   "language": "python",
   "name": "trouver_py310_venv"
  }
 },
 "nbformat": 4,
 "nbformat_minor": 2
}
