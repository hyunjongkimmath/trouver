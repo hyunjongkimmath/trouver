{
 "cells": [
  {
   "cell_type": "code",
   "execution_count": null,
   "metadata": {},
   "outputs": [],
   "source": [
    "#| default_exp helper.latex"
   ]
  },
  {
   "cell_type": "markdown",
   "metadata": {},
   "source": [
    "# helper.latex\n",
    "> Helper functions for latex functionalities\n"
   ]
  },
  {
   "cell_type": "code",
   "execution_count": null,
   "metadata": {},
   "outputs": [],
   "source": [
    "#| export\n",
    "import re\n",
    "\n",
    "from trouver.helper.regex import latex_indices"
   ]
  },
  {
   "cell_type": "code",
   "execution_count": null,
   "metadata": {},
   "outputs": [],
   "source": [
    "from fastcore.test import *"
   ]
  },
  {
   "cell_type": "markdown",
   "metadata": {},
   "source": [
    "## Validity of latex syntax"
   ]
  },
  {
   "cell_type": "markdown",
   "metadata": {},
   "source": [
    "We require some functions to evaluate whether a latex math mode string is syntactically valid."
   ]
  },
  {
   "cell_type": "code",
   "execution_count": null,
   "metadata": {},
   "outputs": [],
   "source": [
    "#| export\n",
    "def _is_balanced_braces(s):\n",
    "    \"\"\"\n",
    "    This is a helper function to `math_mode_string_is_syntactically_valid`.\n",
    "\n",
    "    Note that curly braces (`{`, `}`) that have \n",
    "    \"\"\"\n",
    "    stack = []\n",
    "    escaped = False\n",
    "    \n",
    "    for _, char in enumerate(s):\n",
    "        if char == '\\\\':\n",
    "            escaped = True\n",
    "        elif char == '{' and not escaped:\n",
    "            stack.append(char)\n",
    "        elif char == '}' and not escaped:\n",
    "            if not stack:\n",
    "                return False\n",
    "            stack.pop()\n",
    "        else:\n",
    "            escaped = False\n",
    "    \n",
    "    return len(stack) == 0\n"
   ]
  },
  {
   "cell_type": "code",
   "execution_count": null,
   "metadata": {},
   "outputs": [],
   "source": [
    "#| hide\n",
    "assert _is_balanced_braces('{{}}')\n",
    "assert _is_balanced_braces('{asdf_{}}')\n",
    "assert not _is_balanced_braces('{hi')\n",
    "assert not _is_balanced_braces('{hi asdf}}')\n",
    "assert _is_balanced_braces(r'\\{hi')\n",
    "assert _is_balanced_braces(r'\\{{hi}')\n",
    "assert not _is_balanced_braces(r'\\{{hi\\}')"
   ]
  },
  {
   "cell_type": "code",
   "execution_count": null,
   "metadata": {},
   "outputs": [],
   "source": [
    "#| export\n",
    "def _detect_backslash_space_curly(\n",
    "        text: str\n",
    "        ) -> bool:\n",
    "    \"\"\"\n",
    "    Return `True` if there is some backslash `\\` followed\n",
    "    by spaces and then followed by curly brackets `{`\n",
    "\n",
    "    Note that the presence of such a combination of text\n",
    "    will induce a syntax error in LaTeX math mode string.\n",
    "\n",
    "    This is a helper function of `math_mode_string_is_syntactically_valid`\n",
    "    \"\"\"\n",
    "    pattern = r'\\\\\\s+[{}]'\n",
    "    match = re.search(pattern, text)\n",
    "    return bool(match)"
   ]
  },
  {
   "cell_type": "code",
   "execution_count": null,
   "metadata": {},
   "outputs": [],
   "source": [
    "#| hide\n",
    "assert _detect_backslash_space_curly(r'\\ {')\n",
    "assert not _detect_backslash_space_curly(r'\\{')\n",
    "assert not _detect_backslash_space_curly(r'{')\n",
    "assert _detect_backslash_space_curly(r'\\ }')"
   ]
  },
  {
   "cell_type": "code",
   "execution_count": null,
   "metadata": {},
   "outputs": [],
   "source": [
    "#| export\n",
    "def math_mode_string_is_syntactically_valid(\n",
    "        text: str,\n",
    "        ) -> bool:\n",
    "    \"\"\"\n",
    "    Return `True` if `text` is determined to be syntactically valid\n",
    "    as a latex str.\n",
    "\n",
    "    There may be TeX syntax rules beyond the scope of this function.\n",
    "\n",
    "    Some caveats:\n",
    "\n",
    "    `text` is allowed to have dollar signs `$` and is also allowed to not have\n",
    "    dollar signs. Even if `text` does not have dollar signs, this function\n",
    "    may return `True`. Even if `text` has dollar signs, this function may return\n",
    "    `False` if the entire string is not a singular math mode string or if the\n",
    "    dollar signs are not used in a math-mode-valid way.\n",
    "    \"\"\"\n",
    "    # \n",
    "    if len(latex_indices(text)) > 1:\n",
    "        return False\n",
    "    if _detect_backslash_space_curly(text):\n",
    "        return False\n",
    "    if not _is_balanced_braces(text):\n",
    "        return False\n",
    "    return True\n",
    "\n"
   ]
  },
  {
   "cell_type": "markdown",
   "metadata": {},
   "source": [
    "The `math_mode_string_is_syntactically_valid` experimentally assesses whether a given math mode LaTeX string is syntactically valid. In principal, this should mean that a LaTeX syntax error caused by the string should be detected by the function."
   ]
  },
  {
   "cell_type": "markdown",
   "metadata": {},
   "source": [
    "TODO: consider the following to :\n",
    "\n",
    "Unclosed dollar sign:\n",
    "`$x^2 + y^2`\n",
    "\n",
    "Mismatched delimiters:\n",
    "`$$x^2 + y^2$`\n",
    "\n",
    "Missing closing parenthesis:\n",
    "`\\left(x^2 + y^2`\n",
    "\n",
    "Missing argument for command:\n",
    "`$\\frac{a}$`\n",
    "\n",
    "Double subscript:\n",
    "`$x_1_2$`\n",
    "Double superscript:\n",
    "`$x^1^2$`\n",
    "\n",
    "Unescaped % sign (starts a comment):\n",
    "`$x = 50% of y$`\n",
    "\n",
    "Mismatched environment:\n",
    "`\\begin{equation} x = y \\end{align}`\n",
    "\n",
    "Using ! (negative space) at the beginning of math mode:\n",
    "`$\\!x + y$`"
   ]
  },
  {
   "cell_type": "markdown",
   "metadata": {},
   "source": [
    "The following lists some example outputs of the `math_mode_string_is_syntactically_valid` function along with explanations."
   ]
  },
  {
   "cell_type": "markdown",
   "metadata": {},
   "source": [
    "Unmatched curly braces are a common syntactical error:"
   ]
  },
  {
   "cell_type": "code",
   "execution_count": null,
   "metadata": {},
   "outputs": [],
   "source": [
    "assert not math_mode_string_is_syntactically_valid(r'\\sqrt{x}}')"
   ]
  },
  {
   "cell_type": "markdown",
   "metadata": {},
   "source": [
    "However, using `\\{` or `\\}` does not count towards curly bracket matching:"
   ]
  },
  {
   "cell_type": "code",
   "execution_count": null,
   "metadata": {},
   "outputs": [],
   "source": [
    "assert math_mode_string_is_syntactically_valid(r'\\{hi')"
   ]
  },
  {
   "cell_type": "markdown",
   "metadata": {},
   "source": [
    "On the other hand, a backslash `\\` followed by spaces ` ` and then followed by a curly bracket is in itself an invalid syntax."
   ]
  },
  {
   "cell_type": "code",
   "execution_count": null,
   "metadata": {},
   "outputs": [],
   "source": [
    "assert not math_mode_string_is_syntactically_valid(r'\\ {hi')"
   ]
  },
  {
   "cell_type": "markdown",
   "metadata": {},
   "source": [
    "`math_mode_string_is_syntactically_valid` will consider the validity of a string whether or not the string has math mode delimiters. "
   ]
  },
  {
   "cell_type": "code",
   "execution_count": null,
   "metadata": {},
   "outputs": [],
   "source": [
    "assert math_mode_string_is_syntactically_valid('\\operatorname{Gal}')\n",
    "assert math_mode_string_is_syntactically_valid('$\\operatorname{Gal}$')"
   ]
  },
  {
   "cell_type": "markdown",
   "metadata": {},
   "source": [
    "However, `math_mode_string_is_syntactically_valid` returns `False` if the string has dollar sign delimiters and more than one math mode string is detected in the string (see `latex_indices`),  "
   ]
  },
  {
   "cell_type": "code",
   "execution_count": null,
   "metadata": {},
   "outputs": [],
   "source": []
  },
  {
   "cell_type": "markdown",
   "metadata": {},
   "source": [
    "TODO: example of multiple math mode strings in a single test\n",
    "TODO: example of an unclosed dollar sign\n",
    "TODO: example of mismatched delimiters\n"
   ]
  },
  {
   "cell_type": "markdown",
   "metadata": {},
   "source": [
    "assert "
   ]
  },
  {
   "cell_type": "code",
   "execution_count": null,
   "metadata": {},
   "outputs": [],
   "source": [
    "#| export\n",
    "def math_mode_string_is_syntactically_clean(\n",
    "        text: str,\n",
    "        ) -> bool:\n",
    "    \"\"\"\n",
    "    Return `True` if `text` is syntactically \"clean\" as a LaTeX math mode str.\n",
    "    \n",
    "    While the precise meaning of this may be subjective, here we will\n",
    "    consider `text` to be clean, assuming that it is syntactically valid, if\n",
    "\n",
    "    - It does not have double blackslashes\n",
    "    \"\"\"\n",
    "    if r'\\\\' in text:\n",
    "        return False"
   ]
  },
  {
   "cell_type": "markdown",
   "metadata": {},
   "source": [
    "## Tweak a latex string"
   ]
  },
  {
   "cell_type": "markdown",
   "metadata": {},
   "source": [
    "Sometimes, when autogenerating a latex string through an ML model, some minor formatting eyesores occur, such as a curly bracket `{` or an underscore `_` followed by an unncessary space. We provide some functions to fix such formatting."
   ]
  },
  {
   "cell_type": "code",
   "execution_count": null,
   "metadata": {},
   "outputs": [],
   "source": [
    "#| export\n",
    "def reduce_unnecessary_spaces(\n",
    "        text: str\n",
    "        ) -> str:\n",
    "    \"\"\"\n",
    "    Return a string modifying `text` by removing spaces which are\n",
    "    unnecessary for the purposes of considering the string as a \n",
    "    LaTeX string.\n",
    "    \"\"\"\n",
    "    pattern = r'([{_^\\\\])\\s+'\n",
    "    text = re.sub(pattern, r'\\1', text)\n",
    "    pattern = r'\\s+([}_^])'\n",
    "    text = re.sub(pattern, r'\\1', text)\n",
    "    return text\n",
    "    # for char in ['{', '_', '^', '}', '\\\\']:\n",
    "    #     text = re.sub(fr'\\s*{chr}\\s*', chr, text)"
   ]
  },
  {
   "cell_type": "code",
   "execution_count": null,
   "metadata": {},
   "outputs": [],
   "source": [
    "\n",
    "# It might not be necessary or desirable to eliminate the space before the backslash `\\``\n",
    "test_eq(reduce_unnecessary_spaces(r'something something \\  operatorname'), r'something something \\operatorname')\n",
    "test_eq(reduce_unnecessary_spaces(r'\\operatorname{Res} ^ G_ H (R)'), r'\\operatorname{Res}^G_H (R)')\n",
    "test_eq(reduce_unnecessary_spaces(r'\\operatorname{Res}^{ G}_{ H } (R)'), r'\\operatorname{Res}^{G}_{H} (R)')"
   ]
  }
 ],
 "metadata": {
  "kernelspec": {
   "display_name": "trouver_py310_venv",
   "language": "python",
   "name": "trouver_py310_venv"
  }
 },
 "nbformat": 4,
 "nbformat_minor": 2
}
