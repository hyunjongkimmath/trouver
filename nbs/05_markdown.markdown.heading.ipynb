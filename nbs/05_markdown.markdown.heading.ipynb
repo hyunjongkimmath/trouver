{
 "cells": [
  {
   "cell_type": "markdown",
   "metadata": {},
   "source": [
    "# markdown.markdown.heading\n",
    "> Functions about Markdown headings"
   ]
  },
  {
   "cell_type": "code",
   "execution_count": null,
   "metadata": {},
   "outputs": [],
   "source": [
    "#| default_exp markdown.markdown.heading"
   ]
  },
  {
   "cell_type": "code",
   "execution_count": null,
   "metadata": {},
   "outputs": [],
   "source": [
    "from fastcore.test import *"
   ]
  },
  {
   "cell_type": "code",
   "execution_count": null,
   "metadata": {},
   "outputs": [],
   "source": [
    "#| export\n",
    "def heading_level(\n",
    "        heading_str: str # A str representing a markdown heading. Starts with 1 to 6 sharps `'#'`.\n",
    "        ) -> int: # Between 1 and 6, inclusive.\n",
    "    \"\"\"Return the level of the heading string.\"\"\"\n",
    "    without_sharps = heading_str.lstrip('#')\n",
    "    return len(heading_str) - len(without_sharps)"
   ]
  },
  {
   "cell_type": "code",
   "execution_count": null,
   "metadata": {},
   "outputs": [],
   "source": [
    "test_eq(heading_level('## Title'), 2)"
   ]
  },
  {
   "cell_type": "code",
   "execution_count": null,
   "metadata": {},
   "outputs": [],
   "source": [
    "#| export\n",
    "def heading_title(\n",
    "        heading_str: str # A str representing a markdown heading. Starts with 1 to 6 sharps `'#'`.\n",
    "        ) -> str:\n",
    "    \"\"\"Return the heading title, without the starting sharps.\n",
    "    \"\"\"\n",
    "    return heading_str.lstrip('#').strip()"
   ]
  },
  {
   "cell_type": "code",
   "execution_count": null,
   "metadata": {},
   "outputs": [],
   "source": [
    "test_eq(heading_title('# Separable isogeny '), 'Separable isogeny')\n",
    "test_eq(heading_title('#  Test title#'),  'Test title#')"
   ]
  }
 ],
 "metadata": {
  "kernelspec": {
   "display_name": "python3",
   "language": "python",
   "name": "python3"
  }
 },
 "nbformat": 4,
 "nbformat_minor": 2
}
