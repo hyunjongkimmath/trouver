{
 "cells": [
  {
   "cell_type": "markdown",
   "metadata": {},
   "source": [
    "# markdown.obisidian.personal.reference\n",
    "> Functions for managing references in an Obsidian.md math vault"
   ]
  },
  {
   "cell_type": "code",
   "execution_count": null,
   "metadata": {},
   "outputs": [],
   "source": [
    "#| default_exp markdown.obsidian.personal.reference"
   ]
  },
  {
   "cell_type": "code",
   "execution_count": null,
   "metadata": {},
   "outputs": [],
   "source": [
    "#| export\n",
    "import glob\n",
    "import os\n",
    "from os import PathLike\n",
    "from pathlib import Path\n",
    "import re\n",
    "import shutil\n",
    "from typing import Union, Optional\n",
    "import warnings\n",
    "\n",
    "from trouver.helper import (\n",
    "    path_name_no_ext, alphabet_to_alphabet_group\n",
    ")\n",
    "from trouver.markdown.markdown.file import (\n",
    "    MarkdownFile, MarkdownLineEnum\n",
    ")\n",
    "from trouver.markdown.markdown.heading import (\n",
    "    heading_title\n",
    ")\n",
    "from trouver.markdown.obsidian.links import (\n",
    "    ObsidianLink, LinkType, links_from_text\n",
    ")\n",
    "from trouver.markdown.obsidian.personal.authors import find_author_file\n",
    "from trouver.markdown.obsidian.personal.index_notes import ( \n",
    "    convert_title_to_folder_name\n",
    ")\n",
    "# from trouver.markdown.obsidian.personal.notes import (\n",
    "#     notes_linked_in_note\n",
    "# )\n",
    "# from trouver.markdown.obsidian.personal.note_type import (\n",
    "#     type_of_note, PersonalNoteTypeEnum\n",
    "# )\n",
    "from trouver.markdown.obsidian.vault import(\n",
    "    VaultNote, all_note_paths_by_name, note_path_by_name,\n",
    "    NoteDoesNotExistError, NoteNotUniqueError\n",
    ")"
   ]
  }
 ],
 "metadata": {
  "kernelspec": {
   "display_name": "Python 3.10.6 64-bit",
   "language": "python",
   "name": "python3"
  },
  "language_info": {
   "name": "python",
   "version": "3.10.6"
  },
  "vscode": {
   "interpreter": {
    "hash": "e0d6519b614ed4b3ff759fd43b4634bcad99f4a02e3e0401ef91ccc070278cd3"
   }
  }
 },
 "nbformat": 4,
 "nbformat_minor": 2
}
