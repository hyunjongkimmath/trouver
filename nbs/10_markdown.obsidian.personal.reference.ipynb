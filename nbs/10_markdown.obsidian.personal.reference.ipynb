{
 "cells": [
  {
   "cell_type": "markdown",
   "metadata": {},
   "source": [
    "# markdown.obisidian.personal.reference\n",
    "> Functions for managing references in an Obsidian.md math vault"
   ]
  },
  {
   "cell_type": "code",
   "execution_count": 2,
   "metadata": {},
   "outputs": [],
   "source": [
    "#| default_exp markdown.obsidian.personal.reference"
   ]
  },
  {
   "cell_type": "code",
   "execution_count": 3,
   "metadata": {},
   "outputs": [],
   "source": [
    "#| export\n",
    "import glob\n",
    "import os\n",
    "from os import PathLike\n",
    "from pathlib import Path\n",
    "import re\n",
    "import shutil\n",
    "from typing import Union, Optional\n",
    "import warnings\n",
    "\n",
    "from trouver.helper import (\n",
    "    path_name_no_ext, alphabet_to_alphabet_group\n",
    ")\n",
    "from trouver.markdown.markdown.file import (\n",
    "    MarkdownFile, MarkdownLineEnum\n",
    ")\n",
    "from trouver.markdown.markdown.heading import (\n",
    "    heading_title\n",
    ")\n",
    "from trouver.markdown.obsidian.links import (\n",
    "    ObsidianLink, LinkType, links_from_text\n",
    ")\n",
    "from trouver.markdown.obsidian.personal.authors import find_author_file\n",
    "from trouver.markdown.obsidian.personal.index_notes import ( \n",
    "    convert_title_to_folder_name\n",
    ")\n",
    "from trouver.markdown.obsidian.personal.notes import (\n",
    "    notes_linked_in_note\n",
    ")\n",
    "from trouver.markdown.obsidian.personal.note_type import (\n",
    "    type_of_note, PersonalNoteTypeEnum\n",
    ")\n",
    "from trouver.markdown.obsidian.vault import(\n",
    "    VaultNote, all_note_paths_by_name, note_path_by_name,\n",
    "    NoteDoesNotExistError, NoteNotUniqueError\n",
    ")"
   ]
  },
  {
   "cell_type": "code",
   "execution_count": 12,
   "metadata": {},
   "outputs": [],
   "source": [
    "from fastcore.test import *\n",
    "\n",
    "from trouver.helper import _test_directory"
   ]
  },
  {
   "cell_type": "markdown",
   "metadata": {},
   "source": [
    "# Getting a reference folder"
   ]
  },
  {
   "cell_type": "code",
   "execution_count": 5,
   "metadata": {},
   "outputs": [],
   "source": [
    "#| export\n",
    "def index_note_for_reference(\n",
    "        vault: PathLike, # The vault in which the reference folder resides.\n",
    "        reference: Union[str, Path] # - The reference. Is either - a str, in which case the reference folder will be the folder containing the (unique) note of the name `_index_{reference}.md`, - or a `Path` object (not just a pathlike!) relative to `vault`, in which case the path will be the path to the reference folder. \n",
    "        ) -> VaultNote:\n",
    "    \"\"\"\n",
    "    Returns the index note of the specified reference in the vault.\n",
    "    \n",
    "    Assumes that the reference folder has an index note named\n",
    "    `_index_{reference_name}.md` and this note is the unique note in the vault\n",
    "    with this filename.\n",
    "    \n",
    "    **Raises**\n",
    "\n",
    "    - TypeError\n",
    "        - If `reference` is not a str or PathLike.\n",
    "    - NoteDoesNotExistError\n",
    "        - If a note of the name `_index_{reference_name}.md` does not exist\n",
    "        in the vault.\n",
    "    \"\"\"\n",
    "    if (not isinstance(reference, str)\n",
    "            and not isinstance(reference, PathLike)):\n",
    "        raise TypeError(\n",
    "            \"Expected `reference` to be a str or a PathLike, but got\"\n",
    "            f\" {type(reference)} instead.\")\n",
    "    if isinstance(reference, str):\n",
    "        reference_name = reference\n",
    "        index_note = VaultNote(vault, name=f'_index_{reference_name}')\n",
    "    elif isinstance(reference, PathLike):\n",
    "        reference_name = Path(reference).name\n",
    "        index_note = VaultNote(\n",
    "            vault, rel_path=Path(reference) / f'_index_{reference_name}.md')\n",
    "    return index_note\n",
    "\n"
   ]
  },
  {
   "cell_type": "markdown",
   "metadata": {},
   "source": [
    "The `index_note_for_reference` method obtains the index note of the specified reference in the vault."
   ]
  },
  {
   "cell_type": "code",
   "execution_count": 10,
   "metadata": {},
   "outputs": [],
   "source": [
    "vault = _test_directory() / 'test_vault_5'\n",
    "index_note_1 = index_note_for_reference(vault, reference='number_theory_reference_1')\n",
    "assert index_note_1.name == '_index_number_theory_reference_1'\n",
    "\n",
    "index_note_2 = index_note_for_reference(vault, reference=Path('number_theory') / 'number_theory_reference_1')\n",
    "assert index_note_2.name == '_index_number_theory_reference_1'"
   ]
  },
  {
   "cell_type": "code",
   "execution_count": 20,
   "metadata": {},
   "outputs": [],
   "source": [
    "#| export\n",
    "def reference_directory(\n",
    "        vault: PathLike, # The vault in which the reference folder resides.\n",
    "        reference: Union[str, Path] # - The reference. Is either - a str, in which case the reference folder will be the folder containing the (unique) note of the name `_index_{reference}.md`, - or a `Path` object (not just a pathlike!) relative to `vault`, in which case the path will be the path to the reference folder. \n",
    "        ) -> Path: # Relative to `vault`.\n",
    "    \"\"\"\n",
    "    Returns the path to the reference directory in a vault.\n",
    "    \n",
    "    Assumes that the reference folder has an index note named\n",
    "    `_index_{reference_name}.md`, this note is the unique note in the vault\n",
    "    with this filename, and the cache in the `VaultNote` class for `vault` is\n",
    "    updated.\n",
    "\n",
    "    **Raises**\n",
    "\n",
    "    - TypeError\n",
    "        - If `reference` is not a str or PathLike.\n",
    "    - \n",
    "    \n",
    "    \"\"\"\n",
    "    index_note = index_note_for_reference(vault, reference)\n",
    "    if index_note.exists(update_cache=False):\n",
    "        return Path(index_note.path(relative=True)).parent\n",
    "    else:\n",
    "        raise NoteDoesNotExistError.from_note_name(index_note.name)"
   ]
  },
  {
   "cell_type": "markdown",
   "metadata": {},
   "source": [
    "The `reference_directory` method obtains the root directory for the reference:"
   ]
  },
  {
   "cell_type": "code",
   "execution_count": 21,
   "metadata": {},
   "outputs": [],
   "source": [
    "vault = _test_directory() / 'test_vault_5'\n",
    "dir = reference_directory(vault, reference='number_theory_reference_1')"
   ]
  },
  {
   "cell_type": "markdown",
   "metadata": {},
   "source": [
    "If the vault does not have an index note for the specified reference, then a `NoteDoesNotExistError` is raised:"
   ]
  },
  {
   "cell_type": "code",
   "execution_count": 22,
   "metadata": {},
   "outputs": [],
   "source": [
    "with ExceptionExpected(NoteDoesNotExistError):\n",
    "    thing = reference_directory(vault, reference='bad_number_theory_reference_without_an_index_note')\n",
    "    print(thing)"
   ]
  }
 ],
 "metadata": {
  "kernelspec": {
   "display_name": "Python 3.10.6 64-bit",
   "language": "python",
   "name": "python3"
  },
  "language_info": {
   "codemirror_mode": {
    "name": "ipython",
    "version": 3
   },
   "file_extension": ".py",
   "mimetype": "text/x-python",
   "name": "python",
   "nbconvert_exporter": "python",
   "pygments_lexer": "ipython3",
   "version": "3.10.6"
  },
  "vscode": {
   "interpreter": {
    "hash": "e0d6519b614ed4b3ff759fd43b4634bcad99f4a02e3e0401ef91ccc070278cd3"
   }
  }
 },
 "nbformat": 4,
 "nbformat_minor": 2
}
