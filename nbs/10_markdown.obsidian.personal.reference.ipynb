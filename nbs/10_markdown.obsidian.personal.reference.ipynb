{
 "cells": [
  {
   "cell_type": "markdown",
   "metadata": {},
   "source": [
    "# markdown.obisidian.personal.reference\n",
    "> Functions for managing references in an Obsidian.md math vault"
   ]
  },
  {
   "cell_type": "code",
   "execution_count": null,
   "metadata": {
    "vscode": {
     "languageId": "python"
    }
   },
   "outputs": [],
   "source": [
    "#| default_exp markdown.obsidian.personal.reference"
   ]
  },
  {
   "cell_type": "code",
   "execution_count": null,
   "metadata": {
    "vscode": {
     "languageId": "python"
    }
   },
   "outputs": [],
   "source": [
    "#| export\n",
    "import glob\n",
    "import os\n",
    "from os import PathLike\n",
    "from pathlib import Path\n",
    "import re\n",
    "import shutil\n",
    "from typing import Union, Optional\n",
    "import warnings\n",
    "\n",
    "from trouver.helper import (\n",
    "    path_name_no_ext, alphabet_to_alphabet_group\n",
    ")\n",
    "from trouver.markdown.markdown.file import (\n",
    "    MarkdownFile, MarkdownLineEnum\n",
    ")\n",
    "from trouver.markdown.markdown.heading import (\n",
    "    heading_title\n",
    ")\n",
    "from trouver.markdown.obsidian.links import (\n",
    "    ObsidianLink, LinkType, links_from_text\n",
    ")\n",
    "from trouver.markdown.obsidian.personal.authors import find_author_file\n",
    "from trouver.markdown.obsidian.personal.index_notes import ( \n",
    "    convert_title_to_folder_name\n",
    ")\n",
    "from trouver.markdown.obsidian.personal.notes import (\n",
    "    notes_linked_in_note\n",
    ")\n",
    "from trouver.markdown.obsidian.personal.note_type import (\n",
    "    type_of_note, PersonalNoteTypeEnum\n",
    ")\n",
    "from trouver.markdown.obsidian.vault import(\n",
    "    VaultNote, all_note_paths_by_name, note_path_by_name,\n",
    "    NoteDoesNotExistError, NoteNotUniqueError\n",
    ")"
   ]
  },
  {
   "cell_type": "markdown",
   "metadata": {},
   "source": [
    "# Getting a reference folder"
   ]
  },
  {
   "cell_type": "code",
   "execution_count": null,
   "metadata": {
    "vscode": {
     "languageId": "python"
    }
   },
   "outputs": [],
   "source": [
    "#| export\n",
    "def index_note_for_reference(\n",
    "        vault: PathLike, # The vault in which the reference folder resides.\n",
    "        reference: Union[str, Path] # - The reference. Is either - a str, in which case the reference folder will be the folder containing the (unique) note of the name `_index_{reference}.md`, - or a `Path` object (not just a pathlike!) relative to `vault`, in which case the path will be the path to the reference folder. \n",
    "        ) -> VaultNote:\n",
    "    \"\"\"\n",
    "    Returns the index note of the specified reference in the vault.\n",
    "    \n",
    "    The index note must be named `_index_{reference_name}.md`, where\n",
    "    `{reference_name}` is the name of the reference and also the name\n",
    "    of the reference folder.\n",
    "    \n",
    "    **Raises**\n",
    "\n",
    "    - TypeError\n",
    "        - If `reference` is not a str or PathLike.\n",
    "    - NoteDoesNotExistError\n",
    "        - If a note of the name `_index_{reference_name}.md` does not exist\n",
    "        in the vault.\n",
    "    - NoteNotUniqueError\n",
    "        - If multiple notes of the name `_index_{reference_name}.md` are found\n",
    "        in the vault. Even if multiple notes of the name exist, a\n",
    "        NoteNotUniqueError may not be raised if those notes are not found.\n",
    "        The current implementation does not actually raise this error.\n",
    "    \"\"\"\n",
    "    if (not isinstance(reference, str)\n",
    "            and not isinstance(reference, PathLike)):\n",
    "        raise TypeError(\n",
    "            \"Expected `reference` to be a str or a PathLike, but got\"\n",
    "            f\" {type(reference)} instead.\")\n",
    "    try:\n",
    "        if isinstance(reference, str):\n",
    "            reference_name = reference\n",
    "            index_note = VaultNote(vault, name=f'_index_{reference_name}')\n",
    "        elif isinstance(reference, PathLike):\n",
    "            reference_name = Path(reference).name\n",
    "            index_note = VaultNote(\n",
    "                vault, rel_path=Path(reference) / f'_index_{reference_name}.md')\n",
    "    except NoteDoesNotExistError as e:\n",
    "        raise NoteDoesNotExistError(\n",
    "            \"Index note does not exist in the vault. It is expected to be named\"\n",
    "            f\" `_index_{reference_name}.md`.\")\n",
    "    except NoteNotUniqueError as e:\n",
    "        raise NoteNotUniqueError(\n",
    "            \"Index note is not unique in the vault. It is named\"\n",
    "            f\" `_index_{reference_name}.md`.\")\n",
    "    return index_note\n",
    "\n"
   ]
  },
  {
   "cell_type": "code",
   "execution_count": null,
   "metadata": {
    "vscode": {
     "languageId": "python"
    }
   },
   "outputs": [],
   "source": [
    "#| export\n",
    "def reference_directory(\n",
    "        vault: PathLike, # The vault in which the reference folder resides.\n",
    "        reference: Union[str, Path] # - The reference. Is either - a str, in which case the reference folder will be the folder containing the (unique) note of the name `_index_{reference}.md`, - or a `Path` object (not just a pathlike!) relative to `vault`, in which case the path will be the path to the reference folder. \n",
    "        ) -> Path:\n",
    "    \"\"\"\n",
    "    Verifies that the specified reference exists, has a valid index note and\n",
    "    return the relative path to the folder for the referece.\n",
    "    \n",
    "    Assumes that the reference folder has an index note named\n",
    "    `_index_{reference_name}.md` and this note is the unique note in the vault\n",
    "    with this filename.\n",
    "\n",
    "    **Returns**\n",
    "    - Path\n",
    "        - Relative to `vault`.\n",
    "    \n",
    "    **Raises**\n",
    "    - TypeError\n",
    "        - If `reference` is not a str or PathLike.\n",
    "    - NoteDoesNotExistError\n",
    "        - If a note of the name `_index_{reference_name}.md` does not exist\n",
    "        in the vault.\n",
    "    - NoteNotUniqueError\n",
    "        - If multiple notes of the name `_index_{reference_name}.md` are found\n",
    "        in the vault.\n",
    "    \"\"\"\n",
    "    return Path(index_note_for_reference(vault, reference).rel_path).parent"
   ]
  }
 ],
 "metadata": {
  "kernelspec": {
   "display_name": "Python 3.10.6 64-bit",
   "language": "python",
   "name": "python3"
  }
 },
 "nbformat": 4,
 "nbformat_minor": 2
}
