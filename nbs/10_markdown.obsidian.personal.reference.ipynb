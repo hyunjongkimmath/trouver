{
 "cells": [
  {
   "cell_type": "markdown",
   "metadata": {},
   "source": [
    "# markdown.obisidian.personal.reference\n",
    "> Functions for managing references in an Obsidian.md math vault"
   ]
  },
  {
   "cell_type": "code",
   "execution_count": null,
   "metadata": {},
   "outputs": [],
   "source": [
    "#| default_exp markdown.obsidian.personal.reference"
   ]
  },
  {
   "cell_type": "code",
   "execution_count": null,
   "metadata": {},
   "outputs": [],
   "source": [
    "#| export\n",
    "import glob\n",
    "import os\n",
    "from os import PathLike\n",
    "from pathlib import Path\n",
    "import re\n",
    "import shutil\n",
    "from typing import Union, Optional\n",
    "import warnings\n",
    "\n",
    "from trouver.helper import (\n",
    "    path_name_no_ext, alphabet_to_alphabet_group\n",
    ")\n",
    "from trouver.markdown.markdown.file import (\n",
    "    MarkdownFile, MarkdownLineEnum\n",
    ")\n",
    "from trouver.markdown.markdown.heading import (\n",
    "    heading_title\n",
    ")\n",
    "from trouver.markdown.obsidian.links import (\n",
    "    ObsidianLink, LinkType, links_from_text\n",
    ")\n",
    "from trouver.markdown.obsidian.personal.authors import find_author_file\n",
    "from trouver.markdown.obsidian.personal.index_notes import ( \n",
    "    convert_title_to_folder_name\n",
    ")\n",
    "from trouver.markdown.obsidian.personal.notes import (\n",
    "    notes_linked_in_note\n",
    ")\n",
    "from trouver.markdown.obsidian.personal.note_type import (\n",
    "    type_of_note, PersonalNoteTypeEnum\n",
    ")\n",
    "from trouver.markdown.obsidian.vault import(\n",
    "    VaultNote, all_note_paths_by_name, note_path_by_name,\n",
    "    NoteDoesNotExistError, NoteNotUniqueError\n",
    ")"
   ]
  },
  {
   "cell_type": "code",
   "execution_count": null,
   "metadata": {},
   "outputs": [],
   "source": [
    "import shutil\n",
    "import tempfile\n",
    "from unittest import mock\n",
    "\n",
    "from fastcore.test import *\n",
    "\n",
    "from trouver.helper import _test_directory"
   ]
  },
  {
   "cell_type": "markdown",
   "metadata": {},
   "source": [
    "# Getting a reference folder"
   ]
  },
  {
   "cell_type": "code",
   "execution_count": null,
   "metadata": {},
   "outputs": [],
   "source": [
    "#| export\n",
    "def index_note_for_reference(\n",
    "        vault: PathLike, # The vault in which the reference folder resides.\n",
    "        reference: Union[str, Path] # - The reference. Is either - a str, in which case the reference folder will be the folder containing the (unique) note of the name `_index_{reference}.md`, - or a `Path` object (not just a pathlike!) relative to `vault`, in which case the path will be the path to the reference folder. \n",
    "        ) -> VaultNote:\n",
    "    \"\"\"\n",
    "    Returns the index note of the specified reference in the vault.\n",
    "    \n",
    "    Assumes that the reference folder has an index note named\n",
    "    `_index_{reference_name}.md` and this note is the unique note in the vault\n",
    "    with this filename.\n",
    "    \n",
    "    **Raises**\n",
    "\n",
    "    - TypeError\n",
    "        - If `reference` is not a str or PathLike.\n",
    "    - NoteDoesNotExistError\n",
    "        - If a note of the name `_index_{reference_name}.md` does not exist\n",
    "        in the vault.\n",
    "    \"\"\"\n",
    "    if (not isinstance(reference, str)\n",
    "            and not isinstance(reference, PathLike)):\n",
    "        raise TypeError(\n",
    "            \"Expected `reference` to be a str or a PathLike, but got\"\n",
    "            f\" {type(reference)} instead.\")\n",
    "    if isinstance(reference, str):\n",
    "        reference_name = reference\n",
    "        index_note = VaultNote(vault, name=f'_index_{reference_name}')\n",
    "    elif isinstance(reference, PathLike):\n",
    "        reference_name = Path(reference).name\n",
    "        index_note = VaultNote(\n",
    "            vault, rel_path=Path(reference) / f'_index_{reference_name}.md')\n",
    "    return index_note\n",
    "\n"
   ]
  },
  {
   "cell_type": "markdown",
   "metadata": {},
   "source": [
    "The `index_note_for_reference` method obtains the index note of the specified reference in the vault."
   ]
  },
  {
   "cell_type": "code",
   "execution_count": null,
   "metadata": {},
   "outputs": [],
   "source": [
    "vault = _test_directory() / 'test_vault_5'\n",
    "index_note_1 = index_note_for_reference(vault, reference='number_theory_reference_1')\n",
    "assert index_note_1.name == '_index_number_theory_reference_1'\n",
    "\n",
    "index_note_2 = index_note_for_reference(vault, reference=Path('number_theory') / 'number_theory_reference_1')\n",
    "assert index_note_2.name == '_index_number_theory_reference_1'"
   ]
  },
  {
   "cell_type": "code",
   "execution_count": null,
   "metadata": {},
   "outputs": [],
   "source": [
    "#| export\n",
    "def reference_directory(\n",
    "        vault: PathLike, # The vault in which the reference folder resides.\n",
    "        reference: Union[str, Path] # - The reference. Is either - a str, in which case the reference folder will be the folder containing the (unique) note of the name `_index_{reference}.md`, - or a `Path` object (not just a pathlike!) relative to `vault`, in which case the path will be the path to the reference folder. \n",
    "        ) -> Path: # Relative to `vault`.\n",
    "    \"\"\"\n",
    "    Returns the path to the reference directory in a vault.\n",
    "    \n",
    "    Assumes that the reference folder has an index note named\n",
    "    `_index_{reference_name}.md`, this note is the unique note in the vault\n",
    "    with this filename, and the cache in the `VaultNote` class for `vault` is\n",
    "    updated.\n",
    "\n",
    "    **Raises**\n",
    "\n",
    "    - TypeError\n",
    "        - If `reference` is not a str or PathLike.\n",
    "    - \n",
    "    \n",
    "    \"\"\"\n",
    "    index_note = index_note_for_reference(vault, reference)\n",
    "    if index_note.exists(update_cache=False):\n",
    "        return Path(index_note.path(relative=True)).parent\n",
    "    else:\n",
    "        raise NoteDoesNotExistError.from_note_name(index_note.name)"
   ]
  },
  {
   "cell_type": "markdown",
   "metadata": {},
   "source": [
    "The `reference_directory` method obtains the root directory for the reference:"
   ]
  },
  {
   "cell_type": "code",
   "execution_count": null,
   "metadata": {},
   "outputs": [],
   "source": [
    "vault = _test_directory() / 'test_vault_5'\n",
    "dir = reference_directory(vault, reference='number_theory_reference_1')"
   ]
  },
  {
   "cell_type": "markdown",
   "metadata": {},
   "source": [
    "If the vault does not have an index note for the specified reference, then a `NoteDoesNotExistError` is raised:"
   ]
  },
  {
   "cell_type": "code",
   "execution_count": null,
   "metadata": {},
   "outputs": [],
   "source": [
    "with ExceptionExpected(NoteDoesNotExistError):\n",
    "    thing = reference_directory(vault, reference='bad_number_theory_reference_without_an_index_note')\n",
    "    print(thing)"
   ]
  },
  {
   "cell_type": "markdown",
   "metadata": {},
   "source": [
    "## Deleting a reference folder"
   ]
  },
  {
   "cell_type": "code",
   "execution_count": null,
   "metadata": {},
   "outputs": [],
   "source": [
    "# export\n",
    "# TODO: test delete reference and template files when reference folder does not exist.\n",
    "def delete_reference_folder(\n",
    "        vault: PathLike, # The vault in which the reference folder resides.\n",
    "        reference: Union[str, PathLike], # The reference to delete. Is either a str, in which case the folder to delete will be the folder containing the (unique) note of the name `_index_{reference}.md`, or a path relative to `vault`. \n",
    "        verbose: bool = True,\n",
    "        confirm: bool = True # If `True`, prompts the user to confirm the deletion of the folder.\n",
    "        ) -> None:\n",
    "    \"\"\"\n",
    "    Deletes a reference folder along with the associated template note\n",
    "    and the reference note, both of which are outside the reference folder.\n",
    "    \n",
    "    Assumes that\n",
    "    - the reference folder, if it exists, has an index note named\n",
    "    `_index_{reference_name}.md` and this note is the unique note in the vault\n",
    "    with this filename.\n",
    "    - the template note, if it exists, is named `_template_{reference_name}.md`\n",
    "    and is the unique note in the vault with this filename.\n",
    "    - the reference note, if it exists, is named `_reference_{reference_name}.md`\n",
    "    and is the unique note in the vault with this filename.\n",
    "    \n",
    "    If the template/reference note for the reference is not unique, then the\n",
    "    deletion does not proceed. On the other hand, even if a template/reference\n",
    "    note does not exist, then the deletion proceeds.\n",
    "\n",
    "    Note that links to notes in the reference folder are preserved.\n",
    "    \n",
    "    **Raises**\n",
    "\n",
    "    - FileNotFoundError\n",
    "        - If the specified reference folder does not exist.\n",
    "    - NoteDoesNotExistError\n",
    "        - If the index note for the reference folder does not exist in the\n",
    "        vault.\n",
    "    - NoteNotUniqueError\n",
    "        - If the index note, template note, or reference note for the reference\n",
    "        folder is not unique in the vault.\n",
    "    \"\"\"\n",
    "    try: \n",
    "        reference_path = reference_directory(vault, reference)\n",
    "        absolute_path = Path(vault) / reference_path\n",
    "        if verbose:\n",
    "            print(f\"\\nIdentified reference '{reference}' in the vault '{vault}' as\"\n",
    "                f\" the folder '{absolute_path}'...\")\n",
    "        reference_name = reference_path.name\n",
    "    except NoteDoesNotExistError:\n",
    "        reference_path = None\n",
    "        reference_name = path_name_no_ext(str(reference))\n",
    "    \n",
    "    try:\n",
    "        template_note = VaultNote(vault, name=f'_template_{reference_name}')\n",
    "    except NoteDoesNotExistError:\n",
    "        template_note = None\n",
    "    try:\n",
    "        reference_note = VaultNote(vault, name=f'_reference_{reference_name}')\n",
    "    except NoteDoesNotExistError:\n",
    "        reference_note = None\n",
    "        \n",
    "    if confirm:\n",
    "        input_msg = [f\"Delete\"]\n",
    "        if reference_path:\n",
    "            input_msg = [f\"\\n- all contents in the folder '{absolute_path}'\"]\n",
    "        if template_note:\n",
    "            input_msg.append(f\"\\n- '{template_note.path()}'\")\n",
    "        if reference_note:\n",
    "            input_msg.append(f\"\\n- '{reference_note.path()}'\")\n",
    "        input_msg.append(f\"?\\n[Y/(n)]\")\n",
    "        command = input(''.join(input_msg))\n",
    "        delete = command == 'Y'\n",
    "    else:\n",
    "        delete = True\n",
    "\n",
    "    if delete:\n",
    "        if verbose:\n",
    "            print(\"Deleting...\")\n",
    "        if reference_path:\n",
    "            shutil.rmtree(absolute_path)\n",
    "            # TODO: delete the reference folder in a way that updates the cache.\n",
    "        if template_note:\n",
    "            template_note.delete()\n",
    "        if reference_note:\n",
    "            reference_note.delete()\n",
    "        if verbose:\n",
    "            print(f\"Deleted reference.\\n\")\n",
    "    elif verbose:\n",
    "        print(f\"Aborting deleting reference.\\n\")\n",
    "\n"
   ]
  },
  {
   "cell_type": "markdown",
   "metadata": {},
   "source": [
    "The `delete_reference_folder` method deletes the reference folder itself as well as the peripheral files for the reference (the template file and reference file) which are outside of the reference folder itself."
   ]
  },
  {
   "cell_type": "code",
   "execution_count": null,
   "metadata": {},
   "outputs": [
    {
     "name": "stdout",
     "output_type": "stream",
     "text": [
      "\n",
      "Identified reference 'number_theory_reference_1' in the vault 'c:\\Users\\hyunj\\Documents\\Development\\Python\\trouver\\nbs\\temp_dirne0xd3iv\\test_vault_5' as the folder 'c:\\Users\\hyunj\\Documents\\Development\\Python\\trouver\\nbs\\temp_dirne0xd3iv\\test_vault_5\\number_theory\\number_theory_reference_1'...\n",
      "Deleting...\n",
      "Deleted reference.\n",
      "\n"
     ]
    }
   ],
   "source": [
    "# TODO: make this example mock os.remove instead of copying the vault.\n",
    "with (tempfile.TemporaryDirectory(prefix='temp_dir', dir=os.getcwd()) as temp_dir,\n",
    "      mock.patch('__main__.input', return_value='Y') as mock_input):\n",
    "    temp_vault = Path(temp_dir) / 'test_vault_5'\n",
    "    shutil.copytree(_test_directory() / 'test_vault_5', temp_vault)\n",
    "    \n",
    "    delete_reference_folder(temp_vault, reference='number_theory_reference_1')\n",
    "    assert 'number_theory_reference_1' not in os.listdir(temp_vault / 'number_theory')\n",
    "    assert not VaultNote(temp_vault, name='_template_number_theory_reference_1').exists()\n",
    "    assert not VaultNote(temp_vault, name='_reference_number_theory_reference_1').exists()\n",
    "\n"
   ]
  }
 ],
 "metadata": {
  "kernelspec": {
   "display_name": "Python 3.10.6 64-bit",
   "language": "python",
   "name": "python3"
  }
 },
 "nbformat": 4,
 "nbformat_minor": 2
}
