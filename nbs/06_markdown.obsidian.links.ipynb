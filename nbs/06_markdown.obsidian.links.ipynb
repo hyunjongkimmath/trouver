{
 "cells": [
  {
   "cell_type": "markdown",
   "metadata": {},
   "source": [
    "# markdown.obsidian.links\n",
    "> Functions for parsing internal links in [Obsidian.md](https://obsidian.md/) style markdown."
   ]
  },
  {
   "cell_type": "markdown",
   "metadata": {},
   "source": [
    "Obsidian uses both Markdown style links and Wikilinks as [internal links](https://help.obsidian.md/How+to/Internal+link). Markdown style links are of the form `[text_shown](link)` whereas Wikilinks are of the form `[[link_to_markdown#possible_anchor_to_header|text_shown]]`. They have an exclamation mark `!` if they are embedded.\n",
    "\n",
    "Within Obsidian, it is often more convenient to use Wikilinks for Vault-internal links for several reasons:\n",
    "\n",
    "- Obsidian automatically searches for links and aliases matching for auto-completion when constructing a Wikilink.\n",
    "![Obsidian_link_autocomplete_example.gif](/images/markdown_obsidian_links_Obsidian_link_autocomplete_example.gif)\n",
    "- Wikilink allow for the empty space character ` ` (whereas Markdown style links require empty space characters ` ` to be replaced with `%20`)\n",
    "\n",
    "Nevertheless, Markdown style links have the following functions which Wikilinks lack:\n",
    "\n",
    "- Markdown style links can contain external links (whether the links point to other Obsidian vaults or to a URL)\n",
    "- Markdown style links can render LaTeX text.\n"
   ]
  },
  {
   "cell_type": "code",
   "execution_count": null,
   "metadata": {},
   "outputs": [],
   "source": [
    "#| default_exp markdown.obsidian.links"
   ]
  },
  {
   "cell_type": "code",
   "execution_count": null,
   "metadata": {},
   "outputs": [],
   "source": [
    "#| export\n",
    "from __future__ import annotations\n",
    "from deprecated import deprecated\n",
    "from enum import Enum\n",
    "from pathlib import Path\n",
    "import re\n",
    "from trouver.helper import (\n",
    "    find_regex_in_text, text_from_file\n",
    ")\n",
    "from trouver.markdown.obsidian.vault import (\n",
    "    all_paths_to_notes_in_vault, VaultNote, NoteDoesNotExistError\n",
    ")\n",
    "from typing import Union\n"
   ]
  },
  {
   "cell_type": "code",
   "execution_count": null,
   "metadata": {},
   "outputs": [],
   "source": [
    "#| export\n",
    "# TODO Make it so that these patterns don't capture latex code\n",
    "# WIKILINK_PATTERN = r'!?\\[\\[.*?\\]\\]' \n",
    "WIKILINK_PATTERN = r'!?\\[\\[[^\\]]+\\]\\]'\n",
    "EMBEDDED_WIKILINK_PATTERN = r'!\\[\\[[^\\]]+\\]\\]'\n",
    "WIKILINK_CAPTURE_PATTERN = r'!?\\[\\[([^#\\|]*?)(#(.*?))?(\\|(.*?))?\\]\\]'\n",
    "\n",
    "# Note that MARKDOWNLINK_PATTERN captures whitespace characters in its link, even though Obsidian\n",
    "# does not. This is implmeneted to find if any misformats in the Obsidian Markdown files.\n",
    "MARKDOWNLINK_PATTERN = r'!?\\[[^\\]]+\\]\\([^)]+\\)'  \n",
    "EMBEDDED_MARKDOWNLINK_PATERN = r'!\\[[^\\]]+\\]\\([^)]+\\)'\n",
    "MARKDOWNLINK_CAPTURE_PATTERN = r'!?\\[([^\\]]*)\\]\\(([^)#]+)(#([^)]+))?\\)'\n",
    "\n",
    "\n",
    "EMBEDDED_PATTERN = f'{EMBEDDED_WIKILINK_PATTERN}|{EMBEDDED_MARKDOWNLINK_PATERN}'\n",
    "# MARKDOWNLINK_CAPTURE = r'!?\\[([^\\]]+)\\]\\(([^)#])+(#[^)]+)?\\)'"
   ]
  },
  {
   "cell_type": "code",
   "execution_count": null,
   "metadata": {},
   "outputs": [],
   "source": [
    "from os import PathLike\n",
    "\n",
    "from fastcore.test import *\n",
    "from nbdev.showdoc import show_doc"
   ]
  },
  {
   "cell_type": "markdown",
   "metadata": {},
   "source": [
    "## Finding links in text via indices"
   ]
  },
  {
   "cell_type": "code",
   "execution_count": null,
   "metadata": {},
   "outputs": [],
   "source": [
    "#| export\n",
    "def find_links_in_markdown_text(\n",
    "        text: str\n",
    "        ) -> list[tuple]: # Each tuple is of the form `(a,b)` where `text[a:b]` is an obsidian internal link.\n",
    "    # TODO: rename this function, say to link_ranges_in_text, \n",
    "    # because it is confusing when there is a links_from_text function below.\n",
    "    \"\"\"Return ranges in the markdown text string\n",
    "    where internal links occur.\n",
    "\n",
    "    **See Also**\n",
    "\n",
    "    - `links_from_text`\n",
    "    \"\"\"\n",
    "    regex = f'{WIKILINK_PATTERN}|{MARKDOWNLINK_PATTERN}'\n",
    "    return find_regex_in_text(text, pattern=regex)\n"
   ]
  },
  {
   "cell_type": "markdown",
   "metadata": {},
   "source": [
    "`find_links_in_markdown_text` returns a list of indices in a string in which the links are located."
   ]
  },
  {
   "cell_type": "code",
   "execution_count": null,
   "metadata": {},
   "outputs": [],
   "source": [
    "# TODO: add markdown links to example"
   ]
  },
  {
   "cell_type": "code",
   "execution_count": null,
   "metadata": {},
   "outputs": [],
   "source": [
    "tutorial_text = r'''\n",
    "This is an Obsidian note. It has some [[this_is_the_note_to_which_the_link_points|links]]!\n",
    "Links are pretty neat. They can [[this_text_is_not_actually_shown|connect notes]] for you.\n",
    "The following will create a link to the note `some_note`; the displayed text is `some_note`: [[some_note]]\n",
    "You can also embed the contents of one note into another note. ![[note_being_embedded]].\n",
    "The contents of `note_being_embedded` will be displayed when you view the note in Obsidian's view mode.\n",
    "You can make anchors in links. For example [[note#This is a header title]] is a link to the note named\n",
    "`note` and more specifically to the theader with title `This is a header title`.\n",
    "\n",
    "The above links are all Wikilinks. Obsidian also supports Markdownlinks, e.g. [This is the text shown](This is the link.)\n",
    "\n",
    "If the note of a link does not exist in an Obsidian vault, then Obsidian will create the note.\n",
    "Even if the note does not have a header with title specified by the anchor of a link, Obsidian\n",
    "will still open the note; it will not go to any particular header, however.\n",
    "'''\n",
    "\n",
    "ranges = find_links_in_markdown_text(tutorial_text)\n",
    "match_strs = [tutorial_text[start:end] for start, end in ranges]\n",
    "test_eq(match_strs, [\n",
    "    '[[this_is_the_note_to_which_the_link_points|links]]', \n",
    "    '[[this_text_is_not_actually_shown|connect notes]]',\n",
    "    '[[some_note]]',\n",
    "    '![[note_being_embedded]]',\n",
    "    '[[note#This is a header title]]',\n",
    "    '[This is the text shown](This is the link.)'])"
   ]
  },
  {
   "cell_type": "markdown",
   "metadata": {},
   "source": [
    "### Longer Example"
   ]
  },
  {
   "cell_type": "markdown",
   "metadata": {},
   "source": [
    "The following example is of a note whose contents are based on an excerpt from Vakil's *The Rising Sea - Foundations of Algebraic Geometry*."
   ]
  },
  {
   "cell_type": "code",
   "execution_count": null,
   "metadata": {},
   "outputs": [
    {
     "name": "stdout",
     "output_type": "stream",
     "text": [
      "[[foag_conormal_sheaf_of_a_locally_closed_embedding#For a locally closed embedding 2 4|conormal sheaf]]\n",
      "[[foag_dual_sheaf|dual]]\n",
      "![[foag_notation_Hom_sheaf_hom]]\n",
      "[[foag_notation_T_X_Y_relative_tangent_sheaf]]\n",
      "[[foag_notation_Omega_X_Y_relative_cotangent_sheaf]]\n",
      "[[foag_21.2.Q]]\n",
      "[[foag_sheaf_of_relative_i_forms]]\n",
      "![[_reference_foag]]\n"
     ]
    }
   ],
   "source": [
    "text = r'''\n",
    "---\n",
    "cssclass: clean-embeds\n",
    "aliases: [foag_relative_cotangent_sheaf, foag_relative_tangent_sheaf]\n",
    "tags: [_meta/definition, _meta/notation, _meta/literature_note, _reference/vakil_rising_sea, relative_cotangent_sheaf, relative_tangent_sheaf, diagonal_map/scheme, conormal_sheaf, dual/coherent_sheaf, morphism/schemes]\n",
    "---\n",
    "# Global definition[^1]\n",
    "Let $\\pi: X \\rightarrow Y$ be a morphism of schemes. Define the **relative cotangent sheaf** $\\Omega_{X/Y}$ or $\\Omega_{\\pi}$ as the [[foag_conormal_sheaf_of_a_locally_closed_embedding#For a locally closed embedding 2 4|conormal sheaf]] $\\mathscr{N}^\\vee_{X/X \\times_Y X}$ of the diagonal[^2].\n",
    "\n",
    "# Relative tangent sheaf\n",
    "Define the **relative tangent sheaf** $\\mathscr{T}_{X/Y}$ as the [[foag_dual_sheaf|dual]] $\\mathcal{Hom}(\\Omega_{X/Y}, \\mathscr{O}_X)$[^3]\n",
    "\n",
    "[^3]: ![[foag_notation_Hom_sheaf_hom]]\n",
    "\n",
    "# Other\n",
    "We now define $\\mathrm{d}: \\hat{\\partial}_{\\mathrm{X}} \\rightarrow \\Omega_{\\mathrm{X} / \\mathrm{Y}}$. Let $\\operatorname{pr}_{1}: X \\times_{\\mathrm{Y}} X \\rightarrow X$ and $\\operatorname{pr}_{2}: X \\times_{\\mathrm{Y}} X \\rightarrow X$ be the two projections. Then define $\\mathrm{d}: \\mathscr{O}_{\\mathrm{X}} \\rightarrow \\Omega_{\\mathrm{X} / \\mathrm{Y}}$ on the open set $\\mathrm{U}$ as follows:\n",
    "$$\n",
    "d f=p r_{2}^{*} f-p r_{1}^{*} f\n",
    "$$\n",
    "(Warning: this is not a morphism of quasicoherent sheaves on $X$, although it $i$ s $\\mathscr{O}_{\\mathrm{Y}}$-linear in the only possible meaning of that phrase.) We will soon see that $\\mathrm{d}$ is indeed a derivation of the sheaf $\\mathscr{O}_{\\mathrm{X}}$ (in the only possible meaning of the phrase), and at the same time see that our new notion of differentials agrees with our old definition on affine open sets, and hence globalizes the definition. Note that for any open subset $U \\subset X, d$ induces a map\n",
    "$$\n",
    "\\Gamma\\left(\\mathrm{U}, \\mathscr{O}_{\\mathrm{X}}\\right) \\rightarrow \\Gamma\\left(\\mathrm{U}, \\Omega_{\\mathrm{X} / \\mathrm{Y}}\\right)\n",
    "$$\n",
    "which we also call d, and interpret as \"taking the derivative\".\n",
    "\n",
    "# See Also\n",
    "- [[foag_notation_T_X_Y_relative_tangent_sheaf]]\n",
    "- [[foag_notation_Omega_X_Y_relative_cotangent_sheaf]]\n",
    "- [[foag_21.2.Q]]\n",
    "- [[foag_sheaf_of_relative_i_forms]]\n",
    "\n",
    "# Meta\n",
    "## References\n",
    "![[_reference_foag]]\n",
    "\n",
    "## Citations and Footnotes\n",
    "[^1]: Vakil, 21.2.20, Page 572\n",
    "[^2]: Note that the diagonal morphism is a locally closed embedding.\n",
    "'''\n",
    "\n",
    "ranges = find_links_in_markdown_text(text)\n",
    "for match_range in ranges:\n",
    "    print(text[match_range[0]:match_range[1]])"
   ]
  },
  {
   "cell_type": "markdown",
   "metadata": {},
   "source": [
    "## `ObsidianLink` class"
   ]
  },
  {
   "cell_type": "code",
   "execution_count": null,
   "metadata": {},
   "outputs": [],
   "source": [
    "#| export\n",
    "class LinkFormatError(Exception):\n",
    "    \"\"\"Error that is raised when a string cannot be parsed as an\n",
    "    `ObsidianLink` object.\n",
    "    \n",
    "    **Attribute**\n",
    "\n",
    "    - `text` - `str`\n",
    "    \"\"\"\n",
    "    def __init__(self, text):\n",
    "        self.text = text\n",
    "        super().__init__(f'Obsidian Markdown link is not formatted properly: {text}')"
   ]
  },
  {
   "cell_type": "code",
   "execution_count": null,
   "metadata": {},
   "outputs": [],
   "source": [
    "#| export\n",
    "class LinkType(Enum):\n",
    "    \"\"\"An Enumeration indicating whether an `ObsidianLink` object is a\n",
    "    Wikilink or a Markdown-style link.\n",
    "\n",
    "    Enumerates `LinkType.WIKILINK` and `LinkType.MARKDOWN`.\n",
    "    \"\"\"\n",
    "    # See https://www.markdownguide.org/basic-syntax/\n",
    "    WIKILINK = 0\n",
    "    MARKDOWN = 1  \n",
    "    # For Markdown links, use %20 to encode spaces in the link, e.g.\n",
    "    # [asdf](localization_of_a_module#Localization%20of%20a%20module%201)\n",
    "    # Links to the header `\"Localization of a module 1\"` in the file\n",
    "    # localization_of_a_module\n",
    "\n"
   ]
  },
  {
   "cell_type": "code",
   "execution_count": null,
   "metadata": {},
   "outputs": [],
   "source": [
    "#| export\n",
    "# TODO: implment equality, copy\n",
    "class ObsidianLink:\n",
    "    \"\"\"Object representing an obsidian link\n",
    "    \n",
    "    **Attributes**\n",
    "\n",
    "    - `is_embedded` - `bool`\n",
    "        - Whether or not the link is embedded.\n",
    "    - `file_name` - `str`, or `-1`\n",
    "        - The destination of the link. It is either \n",
    "        \n",
    "          1. The Obsidian-vault-recognized name of the file that the link\n",
    "          points to. It can be a path relative to the Obsidian vault path \n",
    "          without the file extension (.md), \n",
    "          2. an external link, such as a URL, or\n",
    "          3. -1, in which case the object represents a generic link pointing\n",
    "          to any file (this is for generating regex).\n",
    "          \n",
    "          Note that if `file_name` is the empty string, then the link is a\n",
    "          link to the same file\n",
    "\n",
    "    - `anchor` - `str`, `0`, or `-1`\n",
    "        - The title of the header of the anchor in the destination that the\n",
    "        link points to or the ID to the markdown block link (preceded by a\n",
    "        carat `^`). If 0, then the `ObsidianLink` object represents a link\n",
    "        without an anchor. If -1, then the object represents a generic link\n",
    "        with or without an anchor (this is for generating regex).\n",
    "    - `custom_text` - `str`, `0`, or `-1`\n",
    "        - The custom text of the link. Is `None` if no such text is specified.\n",
    "        If 0, then the `ObsidianLink` object represents an internal link\n",
    "        without custom text. If -1, then the object represents a generic\n",
    "        internal link of any custom text (this is for generating regex).\n",
    "    - `link_type` - `LinkType`\n",
    "        - If `LinkType.WIKILINK`, then the str should be of the format\n",
    "        `'[[<Obsidian-vault-recognized-name>(#anchor)?(|custom_text)]]'` \n",
    "        (The question marks here indicate optional components). Otherwise,\n",
    "        the str should be a more standard Markdown link. Defaults to\n",
    "        `LinkType.WIKILINK`.\n",
    "    \n",
    "    **Parameters**\n",
    "\n",
    "    - is_embedded - bool\n",
    "    - file_name - str or `None`\n",
    "        - If `None`, set `self.file_name` to `-1`.\n",
    "    - anchor - str or `None`\n",
    "    - custom_text - str or `None`\n",
    "    - link_type - `LinkType`\n",
    "    \"\"\"\n",
    "    \n",
    "    def __init__(\n",
    "            self, is_embedded: bool, file_name: Union[str, int],\n",
    "            anchor: Union[str, int], custom_text: Union[str, int],\n",
    "            link_type: LinkType = LinkType.WIKILINK):\n",
    "        self.is_embedded = is_embedded\n",
    "        self.file_name = file_name\n",
    "        self.anchor = anchor\n",
    "        self.custom_text = custom_text\n",
    "        self.link_type = link_type\n",
    "\n",
    "\n",
    "    @staticmethod\n",
    "    def from_text(text: str) -> ObsidianLink:\n",
    "        \"\"\"Return an ObsidianLink object from text.\n",
    "                \n",
    "        **Raises**\n",
    "\n",
    "        - InteralLinkFormatError\n",
    "            - If `text` is not properly formatted as an Obsidian internal link.\n",
    "        \"\"\"\n",
    "        is_embedded = text.startswith(\"!\")\n",
    "        regex_object = re.compile(WIKILINK_CAPTURE_PATTERN)\n",
    "        matches = regex_object.match(text)\n",
    "        if matches:\n",
    "            file_name = matches.group(1)\n",
    "            anchor = matches.group(3)\n",
    "            custom_text = matches.group(5)\n",
    "            link_type = LinkType.WIKILINK\n",
    "        else:\n",
    "            regex_object = re.compile(MARKDOWNLINK_CAPTURE_PATTERN)\n",
    "            matches = regex_object.match(text)\n",
    "            if not matches:\n",
    "                raise LinkFormatError(text)\n",
    "            file_name = matches.group(2).replace('%20', ' ')\n",
    "            anchor = matches.group(4)\n",
    "            if anchor:\n",
    "                anchor = anchor.replace('%20', ' ')\n",
    "            custom_text = matches.group(1)\n",
    "            link_type = LinkType.MARKDOWN\n",
    "        if anchor is None:\n",
    "            anchor = 0\n",
    "        if custom_text is None:\n",
    "            custom_text = 0\n",
    "        return ObsidianLink(is_embedded, file_name, anchor, custom_text, link_type)\n",
    "\n",
    "    def _parse_text_as_wikilink(text: str):\n",
    "        \"\"\"\n",
    "        Return details about the link `text` if `text` is a Wikilink or `None` if\n",
    "        `text is not a Wikilink.\n",
    "\n",
    "        This is a helper method for `from_text`.\n",
    "        \"\"\"\n",
    "        # TODO\n",
    "        return\n",
    "\n",
    "    def to_regex(self\n",
    "            )-> str: # Represents a regex.\n",
    "        \"\"\"Return the regex for that this `ObsidianLink` object represents.\n",
    "\n",
    "        Assumes that `self.file_name`, `self.anchor`, and `self.custom_text` are\n",
    "        regex-formatted strings, e.g. if `self.custom_text` is `denotes?`, then the\n",
    "        outputted regex-pattern matches links whose custom text is either `denote`\n",
    "        or `denotes`.\n",
    "\n",
    "        If neither `self.file_name`, `self.anchor` nor `self.custom_text` is `-1`,\n",
    "        then the regex will in fact be a concrete string.\n",
    "        \"\"\"\n",
    "        embedding = '!' if self.is_embedded else ''\n",
    "\n",
    "        if type(self.file_name) == str:\n",
    "            filing = self.file_name\n",
    "        else:  # self.file_name == -1\n",
    "            filing = r'([^#\\|]*)?'\n",
    "        \n",
    "        if type(self.anchor) == str:\n",
    "            anchoring = f'#{self.anchor}'\n",
    "        elif self.anchor == 0:\n",
    "            anchoring = ''\n",
    "        else:  # self.anchor == -1\n",
    "            anchoring = '(#(.*?))?'\n",
    "          \n",
    "        if type(self.custom_text) == str and self.link_type == LinkType.WIKILINK:\n",
    "            customing = fr'\\|{self.custom_text}'\n",
    "        elif type(self.custom_text) == str and self.link_type == LinkType.MARKDOWN:\n",
    "            customing = self.custom_text\n",
    "        elif self.custom_text == 0:\n",
    "            customing = ''\n",
    "        else:  # self.custom == -1\n",
    "            if self.link_type == LinkType.MARKDOWN:\n",
    "                customing = fr'(.*?)?'\n",
    "            else:\n",
    "                customing = fr'(\\|(.*?))?'\n",
    "\n",
    "        if self.link_type == LinkType.WIKILINK:\n",
    "            return fr'{embedding}\\[\\[{filing}{anchoring}{customing}\\]\\]'\n",
    "        else:\n",
    "            # Markdown links format whitespace with '%20'\n",
    "            filing = filing.replace(' ' , '%20')  \n",
    "            anchoring = anchoring.replace(' ', '%20')\n",
    "            return fr'{embedding}\\[{customing}\\]\\({filing}{anchoring}\\)'\n",
    "    \n",
    "    def __str__(self) -> str:\n",
    "        # TODO: Choose what to do about | vs. \\|.\n",
    "        return self.to_string()\n",
    "\n",
    "    def to_string(self\n",
    "            ) -> str: # The string for the link\n",
    "        \"\"\"\n",
    "        Return the string for the link if it is concrete.\n",
    " \n",
    "        **Raises**\n",
    "\n",
    "        - ValueError\n",
    "            - If `self.file_name`, `self.anchor` or `self.custom_text`\n",
    "            is -1, i.e. ambiguously represents an anchor or custom text.\n",
    "        \"\"\"\n",
    "        if self.is_abstract():\n",
    "            raise ValueError(\n",
    "                f'The ObsidianLink object is abstract.'\n",
    "            )\n",
    "        assert (self.anchor != -1 and self.custom_text != -1\n",
    "                and self.file_name != -1)\n",
    "        embedding = '!' if self.is_embedded else ''\n",
    "\n",
    "        if type(self.anchor) == str:\n",
    "            anchoring = f'#{self.anchor}'\n",
    "        else:  # self.anchor == 0\n",
    "            anchoring = ''\n",
    "          \n",
    "        if type(self.custom_text) == str:\n",
    "            if self.link_type == LinkType.WIKILINK:\n",
    "                customing = fr'|{self.custom_text}'\n",
    "            else:\n",
    "                customing = self.custom_text\n",
    "        else:  # self.custom_text == 0:\n",
    "            customing = ''\n",
    "        \n",
    "        if self.link_type == LinkType.WIKILINK:\n",
    "            return f'{embedding}[[{self.file_name}{anchoring}{customing}]]'\n",
    "        else:\n",
    "            # Markdown links format whitespace with '%20'\n",
    "            file_name = self.file_name.replace(' ' , '%20')  \n",
    "            anchoring = anchoring.replace(' ', '%20')\n",
    "            return fr'{embedding}[{customing}]({file_name}{anchoring})'\n",
    "    \n",
    "    def convert_link_type(\n",
    "            self,\n",
    "            link_type: LinkType\n",
    "            ) -> ObsidianLink:\n",
    "        \"\"\"\n",
    "        Return an equivalent Link object which has the specified\n",
    "        `LinkType`.\n",
    "        \"\"\"\n",
    "        # TODO\n",
    "        return\n",
    "    \n",
    "    def displayed_text(self\n",
    "            ) -> str: # The displayed text\n",
    "        # TODO: implement error if any of the attributes is -1\n",
    "        \"\"\"Returns the displayed text of this link.\n",
    "        \n",
    "        `self.file_name`, `self.custom_text` and `self.anchor` are\n",
    "        assumed to be not `-1`.\n",
    "        \"\"\"\n",
    "        if self.custom_text:\n",
    "            return self.custom_text\n",
    "        else:\n",
    "            if not self.anchor:\n",
    "                return self.file_name\n",
    "            else:\n",
    "                return f'{self.file_name} > {self.anchor}'\n",
    "\n",
    "    def is_abstract(self) -> bool:\n",
    "        \"\"\"\n",
    "        Return `True` if self is abstract, i.e. file_name, anchor,\n",
    "        or custom_text is `-1`.\n",
    "        \"\"\"\n",
    "        return self.anchor == -1 or self.file_name == -1 or self.anchor == -1\n",
    "    "
   ]
  },
  {
   "cell_type": "code",
   "execution_count": null,
   "metadata": {},
   "outputs": [
    {
     "data": {
      "text/markdown": [
       "---\n",
       "\n",
       "[source](https://github.com/hyunjongkimmath/trouver/blob/main/trouver/markdown/obsidian/links.py#L146){target=\"_blank\" style=\"float:right; font-size:smaller\"}\n",
       "\n",
       "### ObsidianLink.from_text\n",
       "\n",
       ">      ObsidianLink.from_text (text:str)\n",
       "\n",
       "Return an ObsidianLink object from text.\n",
       "\n",
       "**Raises**\n",
       "\n",
       "- InteralLinkFormatError\n",
       "    - If `text` is not properly formatted as an Obsidian internal link."
      ],
      "text/plain": [
       "---\n",
       "\n",
       "[source](https://github.com/hyunjongkimmath/trouver/blob/main/trouver/markdown/obsidian/links.py#L146){target=\"_blank\" style=\"float:right; font-size:smaller\"}\n",
       "\n",
       "### ObsidianLink.from_text\n",
       "\n",
       ">      ObsidianLink.from_text (text:str)\n",
       "\n",
       "Return an ObsidianLink object from text.\n",
       "\n",
       "**Raises**\n",
       "\n",
       "- InteralLinkFormatError\n",
       "    - If `text` is not properly formatted as an Obsidian internal link."
      ]
     },
     "execution_count": null,
     "metadata": {},
     "output_type": "execute_result"
    }
   ],
   "source": [
    "show_doc(ObsidianLink.from_text)"
   ]
  },
  {
   "cell_type": "code",
   "execution_count": null,
   "metadata": {},
   "outputs": [
    {
     "data": {
      "text/markdown": [
       "---\n",
       "\n",
       "[source](https://github.com/hyunjongkimmath/trouver/blob/main/trouver/markdown/obsidian/links.py#L180){target=\"_blank\" style=\"float:right; font-size:smaller\"}\n",
       "\n",
       "### ObsidianLink.to_regex\n",
       "\n",
       ">      ObsidianLink.to_regex ()\n",
       "\n",
       "Return the regex for that this `ObsidianLink` object represents.\n",
       "\n",
       "Assumes that `self.file_name`, `self.anchor`, and `self.custom_text` are\n",
       "regex-formatted strings, e.g. if `self.custom_text` is `denotes?`, then the\n",
       "outputted regex-pattern matches links whose custom text is either `denote`\n",
       "or `denotes`.\n",
       "\n",
       "If neither `self.file_name`, `self.anchor` nor `self.custom_text` is `-1`,\n",
       "then the regex will in fact be a concrete string."
      ],
      "text/plain": [
       "---\n",
       "\n",
       "[source](https://github.com/hyunjongkimmath/trouver/blob/main/trouver/markdown/obsidian/links.py#L180){target=\"_blank\" style=\"float:right; font-size:smaller\"}\n",
       "\n",
       "### ObsidianLink.to_regex\n",
       "\n",
       ">      ObsidianLink.to_regex ()\n",
       "\n",
       "Return the regex for that this `ObsidianLink` object represents.\n",
       "\n",
       "Assumes that `self.file_name`, `self.anchor`, and `self.custom_text` are\n",
       "regex-formatted strings, e.g. if `self.custom_text` is `denotes?`, then the\n",
       "outputted regex-pattern matches links whose custom text is either `denote`\n",
       "or `denotes`.\n",
       "\n",
       "If neither `self.file_name`, `self.anchor` nor `self.custom_text` is `-1`,\n",
       "then the regex will in fact be a concrete string."
      ]
     },
     "execution_count": null,
     "metadata": {},
     "output_type": "execute_result"
    }
   ],
   "source": [
    "show_doc(ObsidianLink.to_regex)"
   ]
  },
  {
   "cell_type": "code",
   "execution_count": null,
   "metadata": {},
   "outputs": [
    {
     "data": {
      "text/markdown": [
       "---\n",
       "\n",
       "[source](https://github.com/hyunjongkimmath/trouver/blob/main/trouver/markdown/obsidian/links.py#L229){target=\"_blank\" style=\"float:right; font-size:smaller\"}\n",
       "\n",
       "### ObsidianLink.__str__\n",
       "\n",
       ">      ObsidianLink.__str__ ()\n",
       "\n",
       "Return str(self)."
      ],
      "text/plain": [
       "---\n",
       "\n",
       "[source](https://github.com/hyunjongkimmath/trouver/blob/main/trouver/markdown/obsidian/links.py#L229){target=\"_blank\" style=\"float:right; font-size:smaller\"}\n",
       "\n",
       "### ObsidianLink.__str__\n",
       "\n",
       ">      ObsidianLink.__str__ ()\n",
       "\n",
       "Return str(self)."
      ]
     },
     "execution_count": null,
     "metadata": {},
     "output_type": "execute_result"
    }
   ],
   "source": [
    "show_doc(ObsidianLink.__str__)"
   ]
  },
  {
   "cell_type": "code",
   "execution_count": null,
   "metadata": {},
   "outputs": [
    {
     "data": {
      "text/markdown": [
       "---\n",
       "\n",
       "[source](https://github.com/hyunjongkimmath/trouver/blob/main/trouver/markdown/obsidian/links.py#L233){target=\"_blank\" style=\"float:right; font-size:smaller\"}\n",
       "\n",
       "### ObsidianLink.to_string\n",
       "\n",
       ">      ObsidianLink.to_string ()\n",
       "\n",
       "Return the string for the link if it is concrete.\n",
       "\n",
       "**Raises**\n",
       "\n",
       "- ValueError\n",
       "    - If `self.file_name`, `self.anchor` or `self.custom_text`\n",
       "    is -1, i.e. ambiguously represents an anchor or custom text."
      ],
      "text/plain": [
       "---\n",
       "\n",
       "[source](https://github.com/hyunjongkimmath/trouver/blob/main/trouver/markdown/obsidian/links.py#L233){target=\"_blank\" style=\"float:right; font-size:smaller\"}\n",
       "\n",
       "### ObsidianLink.to_string\n",
       "\n",
       ">      ObsidianLink.to_string ()\n",
       "\n",
       "Return the string for the link if it is concrete.\n",
       "\n",
       "**Raises**\n",
       "\n",
       "- ValueError\n",
       "    - If `self.file_name`, `self.anchor` or `self.custom_text`\n",
       "    is -1, i.e. ambiguously represents an anchor or custom text."
      ]
     },
     "execution_count": null,
     "metadata": {},
     "output_type": "execute_result"
    }
   ],
   "source": [
    "show_doc(ObsidianLink.to_string)"
   ]
  },
  {
   "cell_type": "code",
   "execution_count": null,
   "metadata": {},
   "outputs": [
    {
     "data": {
      "text/markdown": [
       "---\n",
       "\n",
       "[source](https://github.com/hyunjongkimmath/trouver/blob/main/trouver/markdown/obsidian/links.py#L273){target=\"_blank\" style=\"float:right; font-size:smaller\"}\n",
       "\n",
       "### ObsidianLink.convert_link_type\n",
       "\n",
       ">      ObsidianLink.convert_link_type (link_type:__main__.LinkType)\n",
       "\n",
       "Return an equivalent Link object which has the specified\n",
       "`LinkType`."
      ],
      "text/plain": [
       "---\n",
       "\n",
       "[source](https://github.com/hyunjongkimmath/trouver/blob/main/trouver/markdown/obsidian/links.py#L273){target=\"_blank\" style=\"float:right; font-size:smaller\"}\n",
       "\n",
       "### ObsidianLink.convert_link_type\n",
       "\n",
       ">      ObsidianLink.convert_link_type (link_type:__main__.LinkType)\n",
       "\n",
       "Return an equivalent Link object which has the specified\n",
       "`LinkType`."
      ]
     },
     "execution_count": null,
     "metadata": {},
     "output_type": "execute_result"
    }
   ],
   "source": [
    "show_doc(ObsidianLink.convert_link_type)"
   ]
  },
  {
   "cell_type": "code",
   "execution_count": null,
   "metadata": {},
   "outputs": [
    {
     "data": {
      "text/markdown": [
       "---\n",
       "\n",
       "[source](https://github.com/hyunjongkimmath/trouver/blob/main/trouver/markdown/obsidian/links.py#L283){target=\"_blank\" style=\"float:right; font-size:smaller\"}\n",
       "\n",
       "### ObsidianLink.displayed_text\n",
       "\n",
       ">      ObsidianLink.displayed_text ()\n",
       "\n",
       "Returns the displayed text of this link.\n",
       "\n",
       "`self.file_name`, `self.custom_text` and `self.anchor` are\n",
       "assumed to be not `-1`."
      ],
      "text/plain": [
       "---\n",
       "\n",
       "[source](https://github.com/hyunjongkimmath/trouver/blob/main/trouver/markdown/obsidian/links.py#L283){target=\"_blank\" style=\"float:right; font-size:smaller\"}\n",
       "\n",
       "### ObsidianLink.displayed_text\n",
       "\n",
       ">      ObsidianLink.displayed_text ()\n",
       "\n",
       "Returns the displayed text of this link.\n",
       "\n",
       "`self.file_name`, `self.custom_text` and `self.anchor` are\n",
       "assumed to be not `-1`."
      ]
     },
     "execution_count": null,
     "metadata": {},
     "output_type": "execute_result"
    }
   ],
   "source": [
    "show_doc(ObsidianLink.displayed_text)"
   ]
  },
  {
   "cell_type": "code",
   "execution_count": null,
   "metadata": {},
   "outputs": [
    {
     "data": {
      "text/markdown": [
       "---\n",
       "\n",
       "[source](https://github.com/hyunjongkimmath/trouver/blob/main/trouver/markdown/obsidian/links.py#L297){target=\"_blank\" style=\"float:right; font-size:smaller\"}\n",
       "\n",
       "### ObsidianLink.is_abstract\n",
       "\n",
       ">      ObsidianLink.is_abstract ()\n",
       "\n",
       "Return `True` if self is abstract, i.e. file_name, anchor,\n",
       "or custom_text is `-1`."
      ],
      "text/plain": [
       "---\n",
       "\n",
       "[source](https://github.com/hyunjongkimmath/trouver/blob/main/trouver/markdown/obsidian/links.py#L297){target=\"_blank\" style=\"float:right; font-size:smaller\"}\n",
       "\n",
       "### ObsidianLink.is_abstract\n",
       "\n",
       ">      ObsidianLink.is_abstract ()\n",
       "\n",
       "Return `True` if self is abstract, i.e. file_name, anchor,\n",
       "or custom_text is `-1`."
      ]
     },
     "execution_count": null,
     "metadata": {},
     "output_type": "execute_result"
    }
   ],
   "source": [
    "show_doc(ObsidianLink.is_abstract)"
   ]
  },
  {
   "cell_type": "markdown",
   "metadata": {},
   "source": [
    "#### Parsing an ObsidianLink class from a string"
   ]
  },
  {
   "cell_type": "markdown",
   "metadata": {},
   "source": [
    "The following example parses a Wikilink with an anchor and a custom display text:"
   ]
  },
  {
   "cell_type": "code",
   "execution_count": null,
   "metadata": {},
   "outputs": [],
   "source": [
    "internal_link = ObsidianLink.from_text(\"[[smooth_covering_map#Smooth covering map 1|smooth covering map]]\")\n",
    "assert internal_link.file_name == \"smooth_covering_map\"\n",
    "assert internal_link.anchor == \"Smooth covering map 1\"\n",
    "assert internal_link.custom_text == \"smooth covering map\""
   ]
  },
  {
   "cell_type": "markdown",
   "metadata": {},
   "source": [
    "The following example parses a Wikilink with an anchor, but not with a custom display text:"
   ]
  },
  {
   "cell_type": "code",
   "execution_count": null,
   "metadata": {},
   "outputs": [],
   "source": [
    "internal_link = ObsidianLink.from_text(\"[[sample_thing#anchor]]\")\n",
    "assert internal_link.file_name == \"sample_thing\"\n",
    "assert internal_link.anchor == \"anchor\"\n",
    "assert internal_link.custom_text == 0"
   ]
  },
  {
   "cell_type": "markdown",
   "metadata": {},
   "source": [
    "The following example parses a Wikilink without an anchor, but with custom display text:"
   ]
  },
  {
   "cell_type": "code",
   "execution_count": null,
   "metadata": {},
   "outputs": [],
   "source": [
    "internal_link = ObsidianLink.from_text(\"[[another_file|this_is_the_text_shown]]\")\n",
    "assert internal_link.file_name == \"another_file\"\n",
    "assert internal_link.anchor == 0\n",
    "assert internal_link.custom_text == \"this_is_the_text_shown\""
   ]
  },
  {
   "cell_type": "markdown",
   "metadata": {},
   "source": [
    "The following example parses a Wikilink without neither an anchor nor custom display text:"
   ]
  },
  {
   "cell_type": "code",
   "execution_count": null,
   "metadata": {},
   "outputs": [],
   "source": [
    "internal_link = ObsidianLink.from_text(\"[[foag_notation_I_S_ideal_of_vanishing_on_a_subset_of_the_spectrum_of_a_ring]]\")\n",
    "assert internal_link.file_name == \"foag_notation_I_S_ideal_of_vanishing_on_a_subset_of_the_spectrum_of_a_ring\"\n",
    "assert internal_link.anchor == 0\n",
    "assert internal_link.custom_text == 0"
   ]
  },
  {
   "cell_type": "markdown",
   "metadata": {},
   "source": [
    "The following example parses an embedded (Wiki)link"
   ]
  },
  {
   "cell_type": "code",
   "execution_count": null,
   "metadata": {},
   "outputs": [],
   "source": [
    "internal_link = ObsidianLink.from_text(\"![[_reference_foag]]\")\n",
    "assert internal_link.file_name == \"_reference_foag\"\n",
    "assert internal_link.anchor == 0\n",
    "assert internal_link.custom_text == 0"
   ]
  },
  {
   "cell_type": "markdown",
   "metadata": {},
   "source": [
    "The following example parses a Markdownlink with an anchor:"
   ]
  },
  {
   "cell_type": "code",
   "execution_count": null,
   "metadata": {},
   "outputs": [],
   "source": [
    "internal_link = ObsidianLink.from_text(\"[asdf](localization_of_a_module#Localization of a module 1)\")\n",
    "assert internal_link.file_name == \"localization_of_a_module\"\n",
    "assert internal_link.anchor == \"Localization of a module 1\"\n",
    "assert internal_link.custom_text == \"asdf\""
   ]
  },
  {
   "cell_type": "markdown",
   "metadata": {},
   "source": [
    "The following example parses a Markdownlink with some spaces formatted as `%20`:"
   ]
  },
  {
   "cell_type": "code",
   "execution_count": null,
   "metadata": {},
   "outputs": [],
   "source": [
    "internal_link = ObsidianLink.from_text(r\"[do do](foag_12.2%20Exercise#Topic%201)\")\n",
    "assert internal_link.file_name == \"foag_12.2 Exercise\"\n",
    "assert internal_link.anchor == \"Topic 1\"\n",
    "assert internal_link.custom_text == \"do do\""
   ]
  },
  {
   "cell_type": "markdown",
   "metadata": {},
   "source": [
    "The following example parses a Markdownlink in which the displaytext has LaTeX in it:"
   ]
  },
  {
   "cell_type": "code",
   "execution_count": null,
   "metadata": {},
   "outputs": [],
   "source": [
    "internal_link = ObsidianLink.from_text(\"[$\\\\mathscr{O}(n)$](foag_notation_O_n_on_projective_scheme)\")\n",
    "assert internal_link.file_name == \"foag_notation_O_n_on_projective_scheme\"\n",
    "assert internal_link.anchor == 0\n",
    "assert internal_link.custom_text == \"$\\\\mathscr{O}(n)$\"\n",
    "# TODO test links with file_name = -1"
   ]
  },
  {
   "cell_type": "markdown",
   "metadata": {},
   "source": [
    "#### Constructing abstract ObsidianLink objets"
   ]
  },
  {
   "cell_type": "markdown",
   "metadata": {},
   "source": [
    "We might want to detect links in Obsidian Markdown notes of certain formats. Constructing `ObsidianLink` objects via the constructor can help with this.\n",
    "\n",
    "Setting `file_name`, `anchor`, or `custom_text` to `-1` can yields an `ObisidianLink` object representing an abstract link. Use the `to_regex` function of the `ObsidianLink` object to get a regex str which detects links of the specified format."
   ]
  },
  {
   "cell_type": "markdown",
   "metadata": {},
   "source": [
    "In the following example, the anchor and custom text of the `ObsidianLink` object are both abstract - the regex pattern returned by `._to_regex` will detect any link of the specified type (by default, `LinkType.WIKILINK`) with the specified file name:"
   ]
  },
  {
   "cell_type": "code",
   "execution_count": null,
   "metadata": {},
   "outputs": [
    {
     "name": "stdout",
     "output_type": "stream",
     "text": [
      "regex_pattern: \\[\\[hi(#(.*?))?(\\|(.*?))?\\]\\]\n"
     ]
    }
   ],
   "source": [
    "internal_link_object = ObsidianLink(is_embedded=False, file_name = 'hi', anchor=-1, custom_text=-1)\n",
    "regex_pattern = internal_link_object.to_regex()\n",
    "print(f'regex_pattern: {regex_pattern}')\n",
    "assert re.match(regex_pattern, '[[hi#this is some anchor|this is some display text]]')\n",
    "assert re.match(regex_pattern, '[[hi|some display text, but no anchor!]]')\n",
    "assert re.match(regex_pattern, '[[hi#some anchor, but no custom text]]')\n",
    "assert re.match(regex_pattern, '[[hi]]')  #No anchor and no custom text\n",
    "assert not re.match(regex_pattern, '[[note_with_wrong_name]]')"
   ]
  },
  {
   "cell_type": "markdown",
   "metadata": {},
   "source": [
    "The following is an example where the custom_text is specified, but the file_name and anchor are both abstract:"
   ]
  },
  {
   "cell_type": "code",
   "execution_count": null,
   "metadata": {},
   "outputs": [
    {
     "name": "stdout",
     "output_type": "stream",
     "text": [
      "regex_pattern: \\[\\[([^#\\|]*)?(#(.*?))?\\|must match this text!\\]\\]\n"
     ]
    }
   ],
   "source": [
    "internal_link_object = ObsidianLink(is_embedded=False, file_name = -1, anchor=-1, custom_text='must match this text!')\n",
    "regex_pattern = internal_link_object.to_regex()\n",
    "print(f'regex_pattern: {regex_pattern}')\n",
    "assert re.match(regex_pattern, '[[some note#some anchor|must match this text!]]')\n",
    "# TODO: matching the below is not currently implemented.\n",
    "# assert re.match(regex_pattern, '[[must match this text!]]')\n",
    "assert re.match(regex_pattern, '[[some note|must match this text!]]')\n",
    "assert re.match(regex_pattern, '[[#anchor in note|must match this text!]]')  #No anchor and no custom text\n",
    "assert not re.match(regex_pattern, '[[some note#some anchor|Wrong text]]')"
   ]
  },
  {
   "cell_type": "markdown",
   "metadata": {},
   "source": [
    "In the following example, the linktype is specified to be `LinkeType.MARKDOWN`:"
   ]
  },
  {
   "cell_type": "code",
   "execution_count": null,
   "metadata": {},
   "outputs": [
    {
     "name": "stdout",
     "output_type": "stream",
     "text": [
      "regex_pattern: \\[(.*?)?\\]\\(hi(#(.*?))?\\)\n"
     ]
    }
   ],
   "source": [
    "internal_link_object = ObsidianLink(is_embedded=False, file_name = 'hi', anchor=-1, custom_text=-1, link_type=LinkType.MARKDOWN)\n",
    "regex_pattern = internal_link_object.to_regex()\n",
    "print(f'regex_pattern: {regex_pattern}')\n",
    "assert re.match(regex_pattern, '[Some custom text](hi#Some anchor)')\n",
    "assert re.match(regex_pattern, '[Some custom text, no anchor](hi)')\n",
    "assert not re.match(regex_pattern, '[Some custom text, link an anchor in the same note](#anchor)')"
   ]
  },
  {
   "cell_type": "markdown",
   "metadata": {},
   "source": [
    "### String of an ObsidianLink object"
   ]
  },
  {
   "cell_type": "markdown",
   "metadata": {},
   "source": [
    "A concrete `ObsidianLink` object has a `to_string` function:"
   ]
  },
  {
   "cell_type": "code",
   "execution_count": null,
   "metadata": {},
   "outputs": [
    {
     "name": "stdout",
     "output_type": "stream",
     "text": [
      "![[compactly_generated_product_hom_adjunction#Title|compactly generated]]\n",
      "![compactly generated](compactly_generated_product_hom_adjunction#Title%201)\n"
     ]
    }
   ],
   "source": [
    "internal_link_object = ObsidianLink(is_embedded=True, file_name = 'compactly_generated_product_hom_adjunction', anchor='Title', custom_text='compactly generated', link_type=LinkType.WIKILINK)\n",
    "print(internal_link_object.to_string())\n",
    "internal_link_object = ObsidianLink(is_embedded=True, file_name = 'compactly_generated_product_hom_adjunction', anchor='Title 1', custom_text='compactly generated', link_type=LinkType.MARKDOWN)\n",
    "print(internal_link_object.to_string())"
   ]
  },
  {
   "cell_type": "markdown",
   "metadata": {},
   "source": [
    "## Find the links in text as ObsidianLink objects"
   ]
  },
  {
   "cell_type": "code",
   "execution_count": null,
   "metadata": {},
   "outputs": [],
   "source": [
    "#| export\n",
    "def links_from_text(\n",
    "        text: str\n",
    "        ) -> list[ObsidianLink]: # The `ObsidianLink` objects are ordered by appearance.\n",
    "    \"\"\"\n",
    "    Return a list of `ObsidianLink` objects corresponding to links\n",
    "    found in the text.\n",
    "    \"\"\"\n",
    "    ranges = find_links_in_markdown_text(text)\n",
    "    link_strs = [text[start:end] for start, end in ranges]\n",
    "    return [ObsidianLink.from_text(link_str) for link_str in link_strs]"
   ]
  },
  {
   "cell_type": "markdown",
   "metadata": {},
   "source": [
    "Unlike `find_links_in_markdown_text`, the `links_from_text` function returns a list of `ObsidianLink` objects instead."
   ]
  },
  {
   "cell_type": "code",
   "execution_count": null,
   "metadata": {},
   "outputs": [],
   "source": [
    "links = links_from_text(tutorial_text)\n",
    "assert links[0].displayed_text() == 'links'  # The displayed text of [[this_is_the_note_to_which_the_link_points|links]] is `links`.\n",
    "assert links[3].is_embedded  # ![[note_being_embedded]] is an embedded link\n",
    "assert links[4].anchor == 'This is a header title'  # [[note#This is a header title]] has anchor `This is a header title`."
   ]
  },
  {
   "cell_type": "markdown",
   "metadata": {},
   "source": [
    "## Removing links from text"
   ]
  },
  {
   "cell_type": "code",
   "execution_count": null,
   "metadata": {},
   "outputs": [],
   "source": [
    "#| export\n",
    "def remove_links_from_text(\n",
    "        text: str,\n",
    "        exclude: list[ObsidianLink] = None, # A list of `ObsidianLink` objects of links to not be removed.\n",
    "        remove_embedded_note_links: bool = False # If `True`, remove links to embedded notes as well. Note that embedded links are replaced by their \"display\" text in the same manner as non-embedded links and are not replaced the content of the embedding. If `False`, does not modify embedded note links.\n",
    "        ) -> str:\n",
    "    \"\"\"\n",
    "    Return a text with all Obsidian links removed and replaced with\n",
    "    the display texts of the links.\n",
    "    \"\"\"\n",
    "    if not exclude:\n",
    "        exclude = []\n",
    "    exclude_patterns = [re.compile(exclude_link.to_regex())\n",
    "                        for exclude_link in exclude]\n",
    "    link_indices = find_links_in_markdown_text(text)\n",
    "    new_text = text\n",
    "    for start, end in reversed(link_indices):\n",
    "        if _do_not_remove_link(text[start:end], exclude_patterns):\n",
    "            continue\n",
    "        link_object = ObsidianLink.from_text(text[start:end])\n",
    "        if link_object.is_embedded and not remove_embedded_note_links:\n",
    "            continue\n",
    "        replace_with = link_object.displayed_text()\n",
    "        # link_object.custom_text if link_object.custom_text else link_object.file_name\n",
    "        new_text = new_text[0:start] + replace_with + new_text[end:]\n",
    "    return new_text\n",
    "\n",
    "\n",
    "def _do_not_remove_link(text: str, exclude_patterns: list[re.Pattern]) -> bool:\n",
    "    \"\"\"\n",
    "    Return `True` if text fully matches any of `re.Pattern`'s in `exclude_patterns`.\n",
    "\n",
    "    This is a helper method for `remove_links_from_text`. \n",
    "    \"\"\"\n",
    "    for exclude_pattern in exclude_patterns:\n",
    "        if exclude_pattern.fullmatch(text):\n",
    "            return True\n",
    "    return False"
   ]
  },
  {
   "cell_type": "markdown",
   "metadata": {},
   "source": [
    "We can remove all links of from text and preserve the underlying display text of each link:"
   ]
  },
  {
   "cell_type": "code",
   "execution_count": null,
   "metadata": {},
   "outputs": [
    {
     "name": "stdout",
     "output_type": "stream",
     "text": [
      "I have a link\n",
      "Something about a conormal sheaf\n",
      "This is a link without a specified display text: some_kind_of_note.\n",
      "This is a link to an anchor without a specified display text: another_note > another anchor.\n"
     ]
    }
   ],
   "source": [
    "text = 'I have a [[this is a note#this is an anchor in the note|link]]'\n",
    "links_removed = remove_links_from_text(text)\n",
    "print(links_removed)\n",
    "assert links_removed == 'I have a link'\n",
    "\n",
    "text = 'Something about a [[foag_conormal_sheaf_of_a_locally_closed_embedding#For a locally closed embedding 2 4|conormal sheaf]]'\n",
    "links_removed = remove_links_from_text(text)\n",
    "print(links_removed)\n",
    "assert links_removed == 'Something about a conormal sheaf'\n",
    "\n",
    "text = 'This is a link without a specified display text: [[some_kind_of_note]].'\n",
    "links_removed = remove_links_from_text(text)\n",
    "print(links_removed)\n",
    "assert links_removed == 'This is a link without a specified display text: some_kind_of_note.'\n",
    "\n",
    "text = 'This is a link to an anchor without a specified display text: [[another_note#another anchor]].'\n",
    "links_removed = remove_links_from_text(text)\n",
    "print(links_removed)\n",
    "assert links_removed == 'This is a link to an anchor without a specified display text: another_note > another anchor.'\n"
   ]
  },
  {
   "cell_type": "markdown",
   "metadata": {},
   "source": [
    "We can specify links to not remove in this process:"
   ]
  },
  {
   "cell_type": "code",
   "execution_count": null,
   "metadata": {},
   "outputs": [],
   "source": [
    "text = 'This thing [[fulton_it_ B.4.1|denotes]] something'\n",
    "do_not_remove_link = ObsidianLink(False, None, -1, 'denote(s)?')\n",
    "links_removed = remove_links_from_text(text, exclude=[do_not_remove_link])\n",
    "assert text == links_removed"
   ]
  },
  {
   "cell_type": "markdown",
   "metadata": {},
   "source": [
    "This function does not remove embedded links by default."
   ]
  },
  {
   "cell_type": "code",
   "execution_count": null,
   "metadata": {},
   "outputs": [
    {
     "name": "stdout",
     "output_type": "stream",
     "text": [
      "![[embedded note]]\n"
     ]
    }
   ],
   "source": [
    "text = '![[embedded note]]'\n",
    "links_removed = remove_links_from_text(text)\n",
    "print(links_removed)\n",
    "assert links_removed == text"
   ]
  },
  {
   "cell_type": "code",
   "execution_count": null,
   "metadata": {},
   "outputs": [
    {
     "name": "stdout",
     "output_type": "stream",
     "text": [
      "embedded note\n"
     ]
    }
   ],
   "source": [
    "text = '![[embedded note]]'\n",
    "links_removed = remove_links_from_text(text, remove_embedded_note_links=True)\n",
    "print(links_removed)\n",
    "assert links_removed == 'embedded note'"
   ]
  },
  {
   "cell_type": "markdown",
   "metadata": {},
   "source": [
    "## Queries about links in a vault"
   ]
  },
  {
   "cell_type": "code",
   "execution_count": null,
   "metadata": {},
   "outputs": [],
   "source": [
    "#| export\n",
    "def all_custom_text_for_links_in_vault(\n",
    "        note: VaultNote, # The note to find the custom text for.\n",
    "        vault: PathLike, # The path to the Obsidian vault directory\n",
    "        anchor: Union[str, int] = -1 # The anchor in the note to find the custom text for. If 0, then returns only the custom texts for internal links without anchors. If -1, then returns the custom texts for all of the internal links of the specified note.\n",
    "        ) -> dict[Union[str, int], str]: # Each key is the custom text used and each value is a set of paths relative to `vault` to the notes where the custom text is used.  The key `0` means that no custom text is used.\n",
    "    \"\"\"\n",
    "    Return all custom text used in the Obsidian vault for the specified\n",
    "    note and anchor.\n",
    "    \"\"\"\n",
    "    vault = Path(vault)\n",
    "    name = note.name\n",
    "    wiki_gen = ObsidianLink(\n",
    "        is_embedded=False, file_name=name, anchor=anchor, custom_text=-1,\n",
    "        link_type=LinkType.WIKILINK)\n",
    "    wiki_regex = wiki_gen.to_regex()\n",
    "    mark_gen = ObsidianLink(\n",
    "        is_embedded=False, file_name=name, anchor=anchor, custom_text=-1,\n",
    "        link_type=LinkType.MARKDOWN)\n",
    "    mark_regex = mark_gen.to_regex()\n",
    "    regex = f'{wiki_regex}|{mark_regex}'\n",
    "    all_note_paths = all_paths_to_notes_in_vault(vault)\n",
    "    # I am creating a generator as opposed to a list so that the program\n",
    "    # does not store the contents of all the text files.\n",
    "    texts = ((path, text_from_file(vault / path, encoding='utf8'))\n",
    "             for path in all_note_paths)\n",
    "    regex_object = re.compile(regex)\n",
    "    custom_text_usage = {}\n",
    "    for path, text in texts:\n",
    "        custom_texts = _custom_text_for_links_in_text(text, regex_object)\n",
    "        for custom_text in custom_texts:\n",
    "            if custom_text not in custom_text_usage:\n",
    "                custom_text_usage[custom_text] = set()\n",
    "            custom_text_usage[custom_text].add(path)\n",
    "    return custom_text_usage\n",
    "\n",
    "\n",
    "def _custom_text_for_links_in_text(\n",
    "        text: str, regex_object: re.Pattern) -> list[str]:\n",
    "    \"\"\"Helper function for finding custom text for links in a single file.\n",
    "    \n",
    "    **Parameters**\n",
    "    - text - str\n",
    "    - regex_object - re.Pattern\n",
    "        - An object returned with the `re.compile` function. Matches\n",
    "        wikilinks and markdown links.\n",
    "        \n",
    "    **Returns**\n",
    "    - list[str]\n",
    "    \"\"\"\n",
    "    link_matches = regex_object.finditer(text)\n",
    "    match_ranges = [match.span() for match in link_matches]\n",
    "    links = [ObsidianLink.from_text(text[start:end])\n",
    "             for start, end in match_ranges]\n",
    "    return [link.custom_text for link in links]"
   ]
  },
  {
   "cell_type": "code",
   "execution_count": null,
   "metadata": {},
   "outputs": [],
   "source": [
    "# TODO: examples"
   ]
  },
  {
   "cell_type": "code",
   "execution_count": null,
   "metadata": {},
   "outputs": [],
   "source": [
    "#| export\n",
    "def all_links_in_vault(\n",
    "        vault: PathLike, backlinks: bool = False, \n",
    "        multiplicities: bool = False) -> dict[str, list[str]]:\n",
    "    \"\"\"Returns a dict keeping track of which notes contain \n",
    "    links to which notes.\n",
    "    \n",
    "    TODO: currently, the regex capture regex code. Change them\n",
    "    so that this does not happen.\n",
    "    \n",
    "    **Parameters**\n",
    "    - vault - PathLike\n",
    "    - backlinks - bool\n",
    "        - If `True`, then keeps track of the links in each note.\n",
    "        If `False`, then keeps track of the backlinks in each note,\n",
    "        i.e. which other notes link to each note. Defaults to `False`.\n",
    "    - multiplicties - bool\n",
    "        - If `True`, then keeps track of multiple links to the same note\n",
    "        for each note. Otherwise, only keeps track of whether or not\n",
    "        a note links to a(nother) note. Defaults to `False`.\n",
    "  \n",
    "    **Returns**\n",
    "    - dict[str, list[str]]\n",
    "        - Each key is a str, referring to the name of a note. \n",
    "        Each corresponding value is a list. The list contains \n",
    "        the names of all the notes which the key note references to if\n",
    "        `backlinks` is `True`, and contains the names of all the notes which\n",
    "        reference the key note if `backlinks` is `False`. The list can contain\n",
    "        multiple occurrences of the same note if `multiplicities` is `True`.\n",
    "    \"\"\"\n",
    "    vault = Path(vault)\n",
    "    all_note_paths = all_paths_to_notes_in_vault(vault, as_dict=True)\n",
    "    links = {}\n",
    "    for name, path in all_note_paths.items():\n",
    "        text = text_from_file(vault / path, encoding='utf8')\n",
    "        try:\n",
    "            links_in_note = links_from_text(text)\n",
    "        except LinkFormatError:\n",
    "            print(name)\n",
    "        if not multiplicities:\n",
    "            links_in_note = set(links_in_note)\n",
    "        if backlinks:\n",
    "            if name not in links:\n",
    "                links[name] = []\n",
    "            for link in links_in_note:\n",
    "                if link.file_name not in links:\n",
    "                    links[link.file_name] = []\n",
    "                links[link.file_name].append(name)\n",
    "        else:\n",
    "            if name not in links:\n",
    "                links[name] = []\n",
    "            links[name] += [link.file_name for link in links_in_note]\n",
    "    return links"
   ]
  },
  {
   "cell_type": "code",
   "execution_count": null,
   "metadata": {},
   "outputs": [],
   "source": [
    "# TODO: examples"
   ]
  }
 ],
 "metadata": {
  "kernelspec": {
   "display_name": "trouver_py310_venv",
   "language": "python",
   "name": "trouver_py310_venv"
  }
 },
 "nbformat": 4,
 "nbformat_minor": 2
}
