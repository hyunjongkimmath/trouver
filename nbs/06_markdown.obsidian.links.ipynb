{
 "cells": [
  {
   "cell_type": "markdown",
   "metadata": {},
   "source": [
    "# markdown.obsidian.links\n",
    "> Functions for parsing internal links in [Obsidian.md](https://obsidian.md/) style markdown."
   ]
  },
  {
   "cell_type": "markdown",
   "metadata": {},
   "source": [
    "Obsidian uses both Markdown style links and Wikilinks as [internal links](https://help.obsidian.md/How+to/Internal+link). Markdown style links are of the form `[text_shown](link)` whereas Wikilinks are of the form `[[link_to_markdown#possible_anchor_to_header|text_shown]]`. They have an exclamation mark `!` if they are embedded.\n",
    "\n",
    "Within Obsidian, it is often more convenient to use Wikilinks for Vault-internal links for several reasons:\n",
    "\n",
    "- Obsidian automatically searches for links and aliases matching for auto-completion when constructing a Wikilink.\n",
    "![Obsidian_link_autocomplete_example.gif](/images/markdown_obsidian_links_Obsidian_link_autocomplete_example.gif)\n",
    "- Wikilink allow for the empty space character ` ` (whereas Markdown style links require empty space characters ` ` to be replaced with `%20`)\n",
    "\n",
    "Nevertheless, Markdown style links have the following functions which Wikilinks lack:\n",
    "\n",
    "- Markdown style links can contain external links (whether the links point to other Obsidian vaults or to a URL)\n",
    "- Markdown style links can render LaTeX text.\n"
   ]
  },
  {
   "cell_type": "code",
   "execution_count": null,
   "metadata": {},
   "outputs": [],
   "source": [
    "#| default_exp markdown.obsidian.links"
   ]
  },
  {
   "cell_type": "code",
   "execution_count": null,
   "metadata": {},
   "outputs": [],
   "source": [
    "#| export\n",
    "from __future__ import annotations\n",
    "from enum import Enum\n",
    "import re\n",
    "\n",
    "from trouver.helper.regex import find_regex_in_text, replace_string_by_indices\n",
    "from typing import Union\n"
   ]
  },
  {
   "cell_type": "code",
   "execution_count": null,
   "metadata": {},
   "outputs": [],
   "source": [
    "#| export\n",
    "# TODO Make it so that these patterns don't capture latex code\n",
    "# WIKILINK_PATTERN = r'!?\\[\\[.*?\\]\\]' \n",
    "WIKILINK_PATTERN = r'!?\\[\\[[^\\]]+\\]\\]'\n",
    "EMBEDDED_WIKILINK_PATTERN = r'!\\[\\[[^\\]]+\\]\\]'\n",
    "WIKILINK_CAPTURE_PATTERN = r'!?\\[\\[([^#\\|]*?)(#(.*?))?(\\|(.*?))?\\]\\]'\n",
    "\n",
    "# Note that MARKDOWNLINK_PATTERN captures whitespace characters in its link, even though Obsidian\n",
    "# does not. This is implmeneted to find if any misformats in the Obsidian Markdown files.\n",
    "MARKDOWNLINK_PATTERN = r'!?\\[[^\\]]+\\]\\([^)]+\\)'  \n",
    "EMBEDDED_MARKDOWNLINK_PATERN = r'!\\[[^\\]]+\\]\\([^)]+\\)'\n",
    "MARKDOWNLINK_CAPTURE_PATTERN = r'!?\\[([^\\]]*)\\]\\(([^)#]+)(#([^)]+))?\\)'\n",
    "\n",
    "\n",
    "EMBEDDED_PATTERN = f'{EMBEDDED_WIKILINK_PATTERN}|{EMBEDDED_MARKDOWNLINK_PATERN}'\n",
    "# MARKDOWNLINK_CAPTURE = r'!?\\[([^\\]]+)\\]\\(([^)#])+(#[^)]+)?\\)'"
   ]
  },
  {
   "cell_type": "code",
   "execution_count": null,
   "metadata": {},
   "outputs": [],
   "source": [
    "from os import PathLike\n",
    "\n",
    "from fastcore.test import *\n",
    "from nbdev.showdoc import show_doc"
   ]
  },
  {
   "cell_type": "markdown",
   "metadata": {},
   "source": [
    "## Finding links in text via indices"
   ]
  },
  {
   "cell_type": "code",
   "execution_count": null,
   "metadata": {},
   "outputs": [],
   "source": [
    "#| export\n",
    "def find_links_in_markdown_text(\n",
    "        text: str\n",
    "        ) -> list[tuple]: # Each tuple is of the form `(a,b)` where `text[a:b]` is an obsidian internal link.\n",
    "    # TODO: rename this function, say to link_ranges_in_text, \n",
    "    # because it is confusing when there is a links_from_text function below.\n",
    "    \"\"\"Return ranges in the markdown text string\n",
    "    where internal links occur.\n",
    "\n",
    "    **See Also**\n",
    "\n",
    "    - `links_from_text`\n",
    "    \"\"\"\n",
    "    regex = f'{WIKILINK_PATTERN}|{MARKDOWNLINK_PATTERN}'\n",
    "    return find_regex_in_text(text, pattern=regex)\n"
   ]
  },
  {
   "cell_type": "markdown",
   "metadata": {},
   "source": [
    "`find_links_in_markdown_text` returns a list of indices in a string in which the links are located."
   ]
  },
  {
   "cell_type": "code",
   "execution_count": null,
   "metadata": {},
   "outputs": [],
   "source": [
    "# TODO: add markdown links to example"
   ]
  },
  {
   "cell_type": "code",
   "execution_count": null,
   "metadata": {},
   "outputs": [],
   "source": [
    "tutorial_text = r'''\n",
    "This is an Obsidian note. It has some [[this_is_the_note_to_which_the_link_points|links]]!\n",
    "Links are pretty neat. They can [[this_text_is_not_actually_shown|connect notes]] for you.\n",
    "The following will create a link to the note `some_note`; the displayed text is `some_note`: [[some_note]]\n",
    "You can also embed the contents of one note into another note. ![[note_being_embedded]].\n",
    "The contents of `note_being_embedded` will be displayed when you view the note in Obsidian's view mode.\n",
    "You can make anchors in links. For example [[note#This is a header title]] is a link to the note named\n",
    "`note` and more specifically to the theader with title `This is a header title`.\n",
    "\n",
    "The above links are all Wikilinks. Obsidian also supports Markdownlinks, e.g. [This is the text shown](This is the link.)\n",
    "\n",
    "If the note of a link does not exist in an Obsidian vault, then Obsidian will create the note.\n",
    "Even if the note does not have a header with title specified by the anchor of a link, Obsidian\n",
    "will still open the note; it will not go to any particular header, however.\n",
    "'''\n",
    "\n",
    "ranges = find_links_in_markdown_text(tutorial_text)\n",
    "match_strs = [tutorial_text[start:end] for start, end in ranges]\n",
    "test_eq(match_strs, [\n",
    "    '[[this_is_the_note_to_which_the_link_points|links]]', \n",
    "    '[[this_text_is_not_actually_shown|connect notes]]',\n",
    "    '[[some_note]]',\n",
    "    '![[note_being_embedded]]',\n",
    "    '[[note#This is a header title]]',\n",
    "    '[This is the text shown](This is the link.)'])"
   ]
  },
  {
   "cell_type": "markdown",
   "metadata": {},
   "source": [
    "## `ObsidianLink` class"
   ]
  },
  {
   "cell_type": "code",
   "execution_count": null,
   "metadata": {},
   "outputs": [],
   "source": [
    "#| export\n",
    "class LinkFormatError(Exception):\n",
    "    \"\"\"Error that is raised when a string cannot be parsed as an\n",
    "    `ObsidianLink` object.\n",
    "    \n",
    "    **Attribute**\n",
    "\n",
    "    - `text` - `str`\n",
    "    \"\"\"\n",
    "    def __init__(self, text):\n",
    "        self.text = text\n",
    "        super().__init__(f'Obsidian Markdown link is not formatted properly: {text}')"
   ]
  },
  {
   "cell_type": "code",
   "execution_count": null,
   "metadata": {},
   "outputs": [],
   "source": [
    "#| export\n",
    "class LinkType(Enum):\n",
    "    \"\"\"An Enumeration indicating whether an `ObsidianLink` object is a\n",
    "    Wikilink or a Markdown-style link.\n",
    "\n",
    "    Enumerates `LinkType.WIKILINK` and `LinkType.MARKDOWN`.\n",
    "    \"\"\"\n",
    "    # See https://www.markdownguide.org/basic-syntax/\n",
    "    WIKILINK = 0\n",
    "    MARKDOWN = 1  \n",
    "    # For Markdown links, use %20 to encode spaces in the link, e.g.\n",
    "    # [asdf](localization_of_a_module#Localization%20of%20a%20module%201)\n",
    "    # Links to the header `\"Localization of a module 1\"` in the file\n",
    "    # localization_of_a_module\n",
    "\n"
   ]
  },
  {
   "cell_type": "code",
   "execution_count": null,
   "metadata": {},
   "outputs": [],
   "source": [
    "#| export\n",
    "class ObsidianLink:\n",
    "    \"\"\"Object representing an obsidian link\n",
    "    \n",
    "    **Attributes**\n",
    "\n",
    "    - `is_embedded` - `bool`\n",
    "        - Whether or not the link is embedded.\n",
    "    - `file_name` - `str`, or `-1`\n",
    "        - The destination of the link. It is either \n",
    "        \n",
    "          1. The Obsidian-vault-recognized name of the file that the link\n",
    "          points to. It can be a path relative to the Obsidian vault path \n",
    "          without the file extension (.md), \n",
    "          2. an external link, such as a URL, or\n",
    "          3. -1, in which case the object represents a generic link pointing\n",
    "          to any file (this is for generating regex).\n",
    "          \n",
    "          Note that if `file_name` is the empty string, then the link is a\n",
    "          link to the same file\n",
    "\n",
    "    - `anchor` - `str`, `0`, or `-1`\n",
    "        - The title of the header of the anchor in the destination that the\n",
    "        link points to or the ID to the markdown block link (preceded by a\n",
    "        carat `^`). If 0, then the `ObsidianLink` object represents a link\n",
    "        without an anchor. If -1, then the object represents a generic link\n",
    "        with or without an anchor (this is for generating regex).\n",
    "    - `custom_text` - `str`, `0`, or `-1`\n",
    "        - The custom text of the link. Is `None` if no such text is specified.\n",
    "        If 0, then the `ObsidianLink` object represents an internal link\n",
    "        without custom text. If -1, then the object represents a generic\n",
    "        internal link of any custom text (this is for generating regex).\n",
    "    - `link_type` - `LinkType`\n",
    "        - If `LinkType.WIKILINK`, then the str should be of the format\n",
    "        `'[[<Obsidian-vault-recognized-name>(#anchor)?(|custom_text)]]'` \n",
    "        (The question marks here indicate optional components). Otherwise,\n",
    "        the str should be a more standard Markdown link. Defaults to\n",
    "        `LinkType.WIKILINK`.\n",
    "    \n",
    "    **Parameters**\n",
    "\n",
    "    - is_embedded - bool\n",
    "    - file_name - str or `None`\n",
    "        - If `None`, set `self.file_name` to `-1`.\n",
    "    - anchor - str or `None`\n",
    "    - custom_text - str or `None`\n",
    "    - link_type - `LinkType`\n",
    "    \"\"\"\n",
    "    \n",
    "    def __init__(\n",
    "            self, is_embedded: bool, file_name: Union[str, int],\n",
    "            anchor: Union[str, int], custom_text: Union[str, int],\n",
    "            link_type: LinkType = LinkType.WIKILINK):\n",
    "        self.is_embedded = is_embedded\n",
    "        self.file_name = file_name\n",
    "        self.anchor = anchor\n",
    "        self.custom_text = custom_text\n",
    "        self.link_type = link_type\n",
    "\n",
    "\n",
    "    @staticmethod\n",
    "    def from_text(text: str) -> ObsidianLink:\n",
    "        \"\"\"Return an ObsidianLink object from text.\n",
    "                \n",
    "        **Raises**\n",
    "\n",
    "        - InteralLinkFormatError\n",
    "            - If `text` is not properly formatted as an Obsidian internal link.\n",
    "        \"\"\"\n",
    "        is_embedded = text.startswith(\"!\")\n",
    "        regex_object = re.compile(WIKILINK_CAPTURE_PATTERN)\n",
    "        matches = regex_object.match(text)\n",
    "        if matches:\n",
    "            file_name = matches.group(1)\n",
    "            anchor = matches.group(3)\n",
    "            custom_text = matches.group(5)\n",
    "            link_type = LinkType.WIKILINK\n",
    "        else:\n",
    "            regex_object = re.compile(MARKDOWNLINK_CAPTURE_PATTERN)\n",
    "            matches = regex_object.match(text)\n",
    "            if not matches:\n",
    "                raise LinkFormatError(text)\n",
    "            file_name = matches.group(2).replace('%20', ' ')\n",
    "            anchor = matches.group(4)\n",
    "            if anchor:\n",
    "                anchor = anchor.replace('%20', ' ')\n",
    "            custom_text = matches.group(1)\n",
    "            link_type = LinkType.MARKDOWN\n",
    "        if anchor is None:\n",
    "            anchor = 0\n",
    "        if custom_text is None:\n",
    "            custom_text = 0\n",
    "        return ObsidianLink(is_embedded, file_name, anchor, custom_text, link_type)\n",
    "\n",
    "    def _parse_text_as_wikilink(text: str):\n",
    "        \"\"\"\n",
    "        Return details about the link `text` if `text` is a Wikilink or `None` if\n",
    "        `text is not a Wikilink.\n",
    "\n",
    "        This is a helper method for `from_text`.\n",
    "        \"\"\"\n",
    "        # TODO\n",
    "        return\n",
    "\n",
    "    def to_regex(self\n",
    "            )-> str: # Represents a regex.\n",
    "        \"\"\"Return the regex for that this `ObsidianLink` object represents.\n",
    "\n",
    "        Assumes that `self.file_name`, `self.anchor`, and `self.custom_text` are\n",
    "        regex-formatted strings, e.g. if `self.custom_text` is `denotes?`, then the\n",
    "        outputted regex-pattern matches links whose custom text is either `denote`\n",
    "        or `denotes`.\n",
    "\n",
    "        If neither `self.file_name`, `self.anchor` nor `self.custom_text` is `-1`,\n",
    "        then the regex will in fact be a concrete string.\n",
    "        \"\"\"\n",
    "        embedding = '!' if self.is_embedded else ''\n",
    "\n",
    "        if type(self.file_name) == str:\n",
    "            filing = self.file_name\n",
    "        else:  # self.file_name == -1\n",
    "            filing = r'([^#\\|]*)?'\n",
    "        \n",
    "        if type(self.anchor) == str:\n",
    "            anchoring = f'#{self.anchor}'\n",
    "        elif self.anchor == 0:\n",
    "            anchoring = ''\n",
    "        else:  # self.anchor == -1\n",
    "            anchoring = '(#(.*?))?'\n",
    "          \n",
    "        if type(self.custom_text) == str and self.link_type == LinkType.WIKILINK:\n",
    "            customing = fr'\\|{self.custom_text}'\n",
    "        elif type(self.custom_text) == str and self.link_type == LinkType.MARKDOWN:\n",
    "            customing = self.custom_text\n",
    "        elif self.custom_text == 0:\n",
    "            customing = ''\n",
    "        else:  # self.custom == -1\n",
    "            if self.link_type == LinkType.MARKDOWN:\n",
    "                customing = fr'(.*?)?'\n",
    "            else:\n",
    "                customing = fr'(\\|(.*?))?'\n",
    "\n",
    "        if self.link_type == LinkType.WIKILINK:\n",
    "            return fr'{embedding}\\[\\[{filing}{anchoring}{customing}\\]\\]'\n",
    "        else:\n",
    "            # Markdown links format whitespace with '%20'\n",
    "            filing = filing.replace(' ' , '%20')  \n",
    "            anchoring = anchoring.replace(' ', '%20')\n",
    "            return fr'{embedding}\\[{customing}\\]\\({filing}{anchoring}\\)'\n",
    "    \n",
    "    def __str__(self) -> str:\n",
    "        # TODO: Choose what to do about | vs. \\|.\n",
    "        return self.to_string()\n",
    "\n",
    "    def __hash__(self) -> int:\n",
    "        return hash(self.to_regex())\n",
    "\n",
    "    def to_string(self\n",
    "            ) -> str: # The string for the link\n",
    "        \"\"\"\n",
    "        Return the string for the link if it is concrete.\n",
    " \n",
    "        **Raises**\n",
    "\n",
    "        - ValueError\n",
    "            - If `self.file_name`, `self.anchor` or `self.custom_text`\n",
    "            is -1, i.e. ambiguously represents an anchor or custom text.\n",
    "        \"\"\"\n",
    "        if self.is_abstract():\n",
    "            raise ValueError(\n",
    "                f'The ObsidianLink object is abstract.'\n",
    "            )\n",
    "        assert (self.anchor != -1 and self.custom_text != -1\n",
    "                and self.file_name != -1)\n",
    "        embedding = '!' if self.is_embedded else ''\n",
    "\n",
    "        if type(self.anchor) == str:\n",
    "            anchoring = f'#{self.anchor}'\n",
    "        else:  # self.anchor == 0\n",
    "            anchoring = ''\n",
    "          \n",
    "        if type(self.custom_text) == str:\n",
    "            if self.link_type == LinkType.WIKILINK:\n",
    "                customing = fr'|{self.custom_text}'\n",
    "            else:\n",
    "                customing = self.custom_text\n",
    "        else:  # self.custom_text == 0:\n",
    "            customing = ''\n",
    "        \n",
    "        if self.link_type == LinkType.WIKILINK:\n",
    "            return f'{embedding}[[{self.file_name}{anchoring}{customing}]]'\n",
    "        else:\n",
    "            # Markdown links format whitespace with '%20'\n",
    "            file_name = self.file_name.replace(' ' , '%20')  \n",
    "            anchoring = anchoring.replace(' ', '%20')\n",
    "            return fr'{embedding}[{customing}]({file_name}{anchoring})'\n",
    "    \n",
    "    def convert_link_type(\n",
    "            self,\n",
    "            link_type: LinkType\n",
    "            ) -> ObsidianLink:\n",
    "        \"\"\"\n",
    "        Return an equivalent Link object which has the specified\n",
    "        `LinkType`.\n",
    "        \"\"\"\n",
    "        # TODO\n",
    "        return\n",
    "    \n",
    "    def displayed_text(self\n",
    "            ) -> str: # The displayed text\n",
    "        # TODO: implement error if any of the attributes is -1\n",
    "        \"\"\"Returns the displayed text of this link.\n",
    "        \n",
    "        `self.file_name`, `self.custom_text` and `self.anchor` are\n",
    "        assumed to be not `-1`.\n",
    "        \"\"\"\n",
    "        if self.custom_text:\n",
    "            return self.custom_text\n",
    "        else:\n",
    "            if not self.anchor:\n",
    "                return self.file_name\n",
    "            else:\n",
    "                return f'{self.file_name} > {self.anchor}'\n",
    "\n",
    "    def is_abstract(self) -> bool:\n",
    "        \"\"\"\n",
    "        Return `True` if self is abstract, i.e. file_name, anchor,\n",
    "        or custom_text is `-1`.\n",
    "        \"\"\"\n",
    "        return self.anchor == -1 or self.file_name == -1 or self.anchor == -1\n",
    "\n",
    "\n",
    "    def __copy__(self):\n",
    "        new_instance = self.__class__(\n",
    "            self.is_embedded,\n",
    "            self.file_name,\n",
    "            self.anchor,\n",
    "            self.custom_text, \n",
    "            self.link_type)\n",
    "        return new_instance\n",
    "\n",
    "    def __eq__(self, other):\n",
    "        if not isinstance(other, self.__class__) or not isinstance(self, other.__class__):\n",
    "            return False\n",
    "        return (\n",
    "            self.is_embedded == other.is_embedded\n",
    "            and self.file_name == other.file_name\n",
    "            and self.anchor == other.anchor\n",
    "            and self.custom_text == other.custom_text\n",
    "            and self.link_type == other.link_type)\n",
    "    "
   ]
  },
  {
   "cell_type": "code",
   "execution_count": null,
   "metadata": {},
   "outputs": [
    {
     "data": {
      "text/markdown": [
       "---\n",
       "\n",
       "[source](https://github.com/hyunjongkimmath/trouver/blob/main/trouver/markdown/obsidian/links.py#L149){target=\"_blank\" style=\"float:right; font-size:smaller\"}\n",
       "\n",
       "### ObsidianLink.from_text\n",
       "\n",
       ">      ObsidianLink.from_text (text:str)\n",
       "\n",
       "*Return an ObsidianLink object from text.\n",
       "\n",
       "**Raises**\n",
       "\n",
       "- InteralLinkFormatError\n",
       "    - If `text` is not properly formatted as an Obsidian internal link.*"
      ],
      "text/plain": [
       "---\n",
       "\n",
       "[source](https://github.com/hyunjongkimmath/trouver/blob/main/trouver/markdown/obsidian/links.py#L149){target=\"_blank\" style=\"float:right; font-size:smaller\"}\n",
       "\n",
       "### ObsidianLink.from_text\n",
       "\n",
       ">      ObsidianLink.from_text (text:str)\n",
       "\n",
       "*Return an ObsidianLink object from text.\n",
       "\n",
       "**Raises**\n",
       "\n",
       "- InteralLinkFormatError\n",
       "    - If `text` is not properly formatted as an Obsidian internal link.*"
      ]
     },
     "execution_count": null,
     "metadata": {},
     "output_type": "execute_result"
    }
   ],
   "source": [
    "show_doc(ObsidianLink.from_text)"
   ]
  },
  {
   "cell_type": "code",
   "execution_count": null,
   "metadata": {},
   "outputs": [
    {
     "data": {
      "text/markdown": [
       "---\n",
       "\n",
       "[source](https://github.com/hyunjongkimmath/trouver/blob/main/trouver/markdown/obsidian/links.py#L192){target=\"_blank\" style=\"float:right; font-size:smaller\"}\n",
       "\n",
       "### ObsidianLink.to_regex\n",
       "\n",
       ">      ObsidianLink.to_regex ()\n",
       "\n",
       "*Return the regex for that this `ObsidianLink` object represents.\n",
       "\n",
       "Assumes that `self.file_name`, `self.anchor`, and `self.custom_text` are\n",
       "regex-formatted strings, e.g. if `self.custom_text` is `denotes?`, then the\n",
       "outputted regex-pattern matches links whose custom text is either `denote`\n",
       "or `denotes`.\n",
       "\n",
       "If neither `self.file_name`, `self.anchor` nor `self.custom_text` is `-1`,\n",
       "then the regex will in fact be a concrete string.*"
      ],
      "text/plain": [
       "---\n",
       "\n",
       "[source](https://github.com/hyunjongkimmath/trouver/blob/main/trouver/markdown/obsidian/links.py#L192){target=\"_blank\" style=\"float:right; font-size:smaller\"}\n",
       "\n",
       "### ObsidianLink.to_regex\n",
       "\n",
       ">      ObsidianLink.to_regex ()\n",
       "\n",
       "*Return the regex for that this `ObsidianLink` object represents.\n",
       "\n",
       "Assumes that `self.file_name`, `self.anchor`, and `self.custom_text` are\n",
       "regex-formatted strings, e.g. if `self.custom_text` is `denotes?`, then the\n",
       "outputted regex-pattern matches links whose custom text is either `denote`\n",
       "or `denotes`.\n",
       "\n",
       "If neither `self.file_name`, `self.anchor` nor `self.custom_text` is `-1`,\n",
       "then the regex will in fact be a concrete string.*"
      ]
     },
     "execution_count": null,
     "metadata": {},
     "output_type": "execute_result"
    }
   ],
   "source": [
    "show_doc(ObsidianLink.to_regex)"
   ]
  },
  {
   "cell_type": "code",
   "execution_count": null,
   "metadata": {},
   "outputs": [
    {
     "data": {
      "text/markdown": [
       "---\n",
       "\n",
       "[source](https://github.com/hyunjongkimmath/trouver/blob/main/trouver/markdown/obsidian/links.py#L238){target=\"_blank\" style=\"float:right; font-size:smaller\"}\n",
       "\n",
       "### ObsidianLink.__str__\n",
       "\n",
       ">      ObsidianLink.__str__ ()\n",
       "\n",
       "*Return str(self).*"
      ],
      "text/plain": [
       "---\n",
       "\n",
       "[source](https://github.com/hyunjongkimmath/trouver/blob/main/trouver/markdown/obsidian/links.py#L238){target=\"_blank\" style=\"float:right; font-size:smaller\"}\n",
       "\n",
       "### ObsidianLink.__str__\n",
       "\n",
       ">      ObsidianLink.__str__ ()\n",
       "\n",
       "*Return str(self).*"
      ]
     },
     "execution_count": null,
     "metadata": {},
     "output_type": "execute_result"
    }
   ],
   "source": [
    "show_doc(ObsidianLink.__str__)"
   ]
  },
  {
   "cell_type": "code",
   "execution_count": null,
   "metadata": {},
   "outputs": [
    {
     "data": {
      "text/markdown": [
       "---\n",
       "\n",
       "[source](https://github.com/hyunjongkimmath/trouver/blob/main/trouver/markdown/obsidian/links.py#L242){target=\"_blank\" style=\"float:right; font-size:smaller\"}\n",
       "\n",
       "### ObsidianLink.to_string\n",
       "\n",
       ">      ObsidianLink.to_string ()\n",
       "\n",
       "*Return the string for the link if it is concrete.\n",
       "\n",
       "**Raises**\n",
       "\n",
       "- ValueError\n",
       "    - If `self.file_name`, `self.anchor` or `self.custom_text`\n",
       "    is -1, i.e. ambiguously represents an anchor or custom text.*"
      ],
      "text/plain": [
       "---\n",
       "\n",
       "[source](https://github.com/hyunjongkimmath/trouver/blob/main/trouver/markdown/obsidian/links.py#L242){target=\"_blank\" style=\"float:right; font-size:smaller\"}\n",
       "\n",
       "### ObsidianLink.to_string\n",
       "\n",
       ">      ObsidianLink.to_string ()\n",
       "\n",
       "*Return the string for the link if it is concrete.\n",
       "\n",
       "**Raises**\n",
       "\n",
       "- ValueError\n",
       "    - If `self.file_name`, `self.anchor` or `self.custom_text`\n",
       "    is -1, i.e. ambiguously represents an anchor or custom text.*"
      ]
     },
     "execution_count": null,
     "metadata": {},
     "output_type": "execute_result"
    }
   ],
   "source": [
    "show_doc(ObsidianLink.to_string)"
   ]
  },
  {
   "cell_type": "code",
   "execution_count": null,
   "metadata": {},
   "outputs": [
    {
     "data": {
      "text/markdown": [
       "---\n",
       "\n",
       "[source](https://github.com/hyunjongkimmath/trouver/blob/main/trouver/markdown/obsidian/links.py#L282){target=\"_blank\" style=\"float:right; font-size:smaller\"}\n",
       "\n",
       "### ObsidianLink.convert_link_type\n",
       "\n",
       ">      ObsidianLink.convert_link_type (link_type:__main__.LinkType)\n",
       "\n",
       "*Return an equivalent Link object which has the specified\n",
       "`LinkType`.*"
      ],
      "text/plain": [
       "---\n",
       "\n",
       "[source](https://github.com/hyunjongkimmath/trouver/blob/main/trouver/markdown/obsidian/links.py#L282){target=\"_blank\" style=\"float:right; font-size:smaller\"}\n",
       "\n",
       "### ObsidianLink.convert_link_type\n",
       "\n",
       ">      ObsidianLink.convert_link_type (link_type:__main__.LinkType)\n",
       "\n",
       "*Return an equivalent Link object which has the specified\n",
       "`LinkType`.*"
      ]
     },
     "execution_count": null,
     "metadata": {},
     "output_type": "execute_result"
    }
   ],
   "source": [
    "show_doc(ObsidianLink.convert_link_type)"
   ]
  },
  {
   "cell_type": "code",
   "execution_count": null,
   "metadata": {},
   "outputs": [
    {
     "data": {
      "text/markdown": [
       "---\n",
       "\n",
       "[source](https://github.com/hyunjongkimmath/trouver/blob/main/trouver/markdown/obsidian/links.py#L293){target=\"_blank\" style=\"float:right; font-size:smaller\"}\n",
       "\n",
       "### ObsidianLink.displayed_text\n",
       "\n",
       ">      ObsidianLink.displayed_text ()\n",
       "\n",
       "*Returns the displayed text of this link.\n",
       "\n",
       "`self.file_name`, `self.custom_text` and `self.anchor` are\n",
       "assumed to be not `-1`.*"
      ],
      "text/plain": [
       "---\n",
       "\n",
       "[source](https://github.com/hyunjongkimmath/trouver/blob/main/trouver/markdown/obsidian/links.py#L293){target=\"_blank\" style=\"float:right; font-size:smaller\"}\n",
       "\n",
       "### ObsidianLink.displayed_text\n",
       "\n",
       ">      ObsidianLink.displayed_text ()\n",
       "\n",
       "*Returns the displayed text of this link.\n",
       "\n",
       "`self.file_name`, `self.custom_text` and `self.anchor` are\n",
       "assumed to be not `-1`.*"
      ]
     },
     "execution_count": null,
     "metadata": {},
     "output_type": "execute_result"
    }
   ],
   "source": [
    "show_doc(ObsidianLink.displayed_text)"
   ]
  },
  {
   "cell_type": "code",
   "execution_count": null,
   "metadata": {},
   "outputs": [
    {
     "data": {
      "text/markdown": [
       "---\n",
       "\n",
       "[source](https://github.com/hyunjongkimmath/trouver/blob/main/trouver/markdown/obsidian/links.py#L309){target=\"_blank\" style=\"float:right; font-size:smaller\"}\n",
       "\n",
       "### ObsidianLink.is_abstract\n",
       "\n",
       ">      ObsidianLink.is_abstract ()\n",
       "\n",
       "*Return `True` if self is abstract, i.e. file_name, anchor,\n",
       "or custom_text is `-1`.*"
      ],
      "text/plain": [
       "---\n",
       "\n",
       "[source](https://github.com/hyunjongkimmath/trouver/blob/main/trouver/markdown/obsidian/links.py#L309){target=\"_blank\" style=\"float:right; font-size:smaller\"}\n",
       "\n",
       "### ObsidianLink.is_abstract\n",
       "\n",
       ">      ObsidianLink.is_abstract ()\n",
       "\n",
       "*Return `True` if self is abstract, i.e. file_name, anchor,\n",
       "or custom_text is `-1`.*"
      ]
     },
     "execution_count": null,
     "metadata": {},
     "output_type": "execute_result"
    }
   ],
   "source": [
    "show_doc(ObsidianLink.is_abstract)"
   ]
  },
  {
   "cell_type": "markdown",
   "metadata": {},
   "source": [
    "#### Parsing an ObsidianLink class from a string"
   ]
  },
  {
   "cell_type": "markdown",
   "metadata": {},
   "source": [
    "The following example parses a Wikilink with an anchor and a custom display text:"
   ]
  },
  {
   "cell_type": "code",
   "execution_count": null,
   "metadata": {},
   "outputs": [],
   "source": [
    "internal_link = ObsidianLink.from_text(\"[[smooth_covering_map#Smooth covering map 1|smooth covering map]]\")\n",
    "assert internal_link.file_name == \"smooth_covering_map\"\n",
    "assert internal_link.anchor == \"Smooth covering map 1\"\n",
    "assert internal_link.custom_text == \"smooth covering map\""
   ]
  },
  {
   "cell_type": "markdown",
   "metadata": {},
   "source": [
    "The following example parses a Wikilink with an anchor, but not with a custom display text:"
   ]
  },
  {
   "cell_type": "code",
   "execution_count": null,
   "metadata": {},
   "outputs": [],
   "source": [
    "internal_link = ObsidianLink.from_text(\"[[sample_thing#anchor]]\")\n",
    "assert internal_link.file_name == \"sample_thing\"\n",
    "assert internal_link.anchor == \"anchor\"\n",
    "assert internal_link.custom_text == 0"
   ]
  },
  {
   "cell_type": "markdown",
   "metadata": {},
   "source": [
    "The following example parses a Wikilink without an anchor, but with custom display text:"
   ]
  },
  {
   "cell_type": "code",
   "execution_count": null,
   "metadata": {},
   "outputs": [],
   "source": [
    "internal_link = ObsidianLink.from_text(\"[[another_file|this_is_the_text_shown]]\")\n",
    "assert internal_link.file_name == \"another_file\"\n",
    "assert internal_link.anchor == 0\n",
    "assert internal_link.custom_text == \"this_is_the_text_shown\""
   ]
  },
  {
   "cell_type": "markdown",
   "metadata": {},
   "source": [
    "The following example parses a Wikilink without neither an anchor nor custom display text:"
   ]
  },
  {
   "cell_type": "code",
   "execution_count": null,
   "metadata": {},
   "outputs": [],
   "source": [
    "internal_link = ObsidianLink.from_text(\"[[notation_I_S_ideal_of_vanishing_on_a_subset_of_the_spectrum_of_a_ring]]\")\n",
    "assert internal_link.file_name == \"notation_I_S_ideal_of_vanishing_on_a_subset_of_the_spectrum_of_a_ring\"\n",
    "assert internal_link.anchor == 0\n",
    "assert internal_link.custom_text == 0"
   ]
  },
  {
   "cell_type": "markdown",
   "metadata": {},
   "source": [
    "The following example parses an embedded (Wiki)link"
   ]
  },
  {
   "cell_type": "code",
   "execution_count": null,
   "metadata": {},
   "outputs": [],
   "source": [
    "internal_link = ObsidianLink.from_text(\"![[_reference_some_reference]]\")\n",
    "assert internal_link.file_name == \"_reference_some_reference\"\n",
    "assert internal_link.anchor == 0\n",
    "assert internal_link.custom_text == 0"
   ]
  },
  {
   "cell_type": "markdown",
   "metadata": {},
   "source": [
    "The following example parses a Markdownlink with an anchor:"
   ]
  },
  {
   "cell_type": "code",
   "execution_count": null,
   "metadata": {},
   "outputs": [],
   "source": [
    "internal_link = ObsidianLink.from_text(\"[asdf](localization_of_a_module#Localization of a module 1)\")\n",
    "assert internal_link.file_name == \"localization_of_a_module\"\n",
    "assert internal_link.anchor == \"Localization of a module 1\"\n",
    "assert internal_link.custom_text == \"asdf\""
   ]
  },
  {
   "cell_type": "markdown",
   "metadata": {},
   "source": [
    "The following example parses a Markdownlink with some spaces formatted as `%20`:"
   ]
  },
  {
   "cell_type": "code",
   "execution_count": null,
   "metadata": {},
   "outputs": [],
   "source": [
    "internal_link = ObsidianLink.from_text(r\"[do do](Some%20note#Topic%201)\")\n",
    "assert internal_link.file_name == \"Some note\"\n",
    "assert internal_link.anchor == \"Topic 1\"\n",
    "assert internal_link.custom_text == \"do do\""
   ]
  },
  {
   "cell_type": "markdown",
   "metadata": {},
   "source": [
    "The following example parses a Markdownlink in which the displaytext has LaTeX in it:"
   ]
  },
  {
   "cell_type": "code",
   "execution_count": null,
   "metadata": {},
   "outputs": [],
   "source": [
    "internal_link = ObsidianLink.from_text(\"[$\\\\mathscr{O}(n)$](some_reference_notation_O_n_on_projective_scheme)\")\n",
    "assert internal_link.file_name == \"some_reference_notation_O_n_on_projective_scheme\"\n",
    "assert internal_link.anchor == 0\n",
    "assert internal_link.custom_text == \"$\\\\mathscr{O}(n)$\"\n",
    "# TODO test links with file_name = -1"
   ]
  },
  {
   "cell_type": "code",
   "execution_count": null,
   "metadata": {},
   "outputs": [
    {
     "data": {
      "text/markdown": [
       "---\n",
       "\n",
       "[source](https://github.com/hyunjongkimmath/trouver/blob/main/trouver/markdown/obsidian/links.py#L317){target=\"_blank\" style=\"float:right; font-size:smaller\"}\n",
       "\n",
       "### ObsidianLink.__copy__\n",
       "\n",
       ">      ObsidianLink.__copy__ ()"
      ],
      "text/plain": [
       "---\n",
       "\n",
       "[source](https://github.com/hyunjongkimmath/trouver/blob/main/trouver/markdown/obsidian/links.py#L317){target=\"_blank\" style=\"float:right; font-size:smaller\"}\n",
       "\n",
       "### ObsidianLink.__copy__\n",
       "\n",
       ">      ObsidianLink.__copy__ ()"
      ]
     },
     "execution_count": null,
     "metadata": {},
     "output_type": "execute_result"
    }
   ],
   "source": [
    "show_doc(ObsidianLink.__copy__)"
   ]
  },
  {
   "cell_type": "code",
   "execution_count": null,
   "metadata": {},
   "outputs": [],
   "source": [
    "\n",
    "link = ObsidianLink(\n",
    "        is_embedded=False,\n",
    "        file_name=\"test_file\",\n",
    "        anchor=\"test_anchor\",\n",
    "        custom_text=\"test_custom\",\n",
    "        link_type=LinkType.WIKILINK\n",
    "    )\n",
    "link_copy = link.__copy__()\n",
    "\n",
    "test_eq(link_copy, link)\n",
    "test_eq(link_copy.is_embedded, link.is_embedded)\n",
    "test_eq(link_copy.file_name, link.file_name)\n",
    "test_eq(link_copy.anchor, link.anchor)\n",
    "test_eq(link_copy.custom_text, link.custom_text)\n",
    "test_eq(link_copy.link_type, link.link_type)"
   ]
  },
  {
   "cell_type": "code",
   "execution_count": null,
   "metadata": {},
   "outputs": [
    {
     "data": {
      "text/markdown": [
       "---\n",
       "\n",
       "[source](https://github.com/hyunjongkimmath/trouver/blob/main/trouver/markdown/obsidian/links.py#L326){target=\"_blank\" style=\"float:right; font-size:smaller\"}\n",
       "\n",
       "### ObsidianLink.__eq__\n",
       "\n",
       ">      ObsidianLink.__eq__ (other)\n",
       "\n",
       "*Return self==value.*"
      ],
      "text/plain": [
       "---\n",
       "\n",
       "[source](https://github.com/hyunjongkimmath/trouver/blob/main/trouver/markdown/obsidian/links.py#L326){target=\"_blank\" style=\"float:right; font-size:smaller\"}\n",
       "\n",
       "### ObsidianLink.__eq__\n",
       "\n",
       ">      ObsidianLink.__eq__ (other)\n",
       "\n",
       "*Return self==value.*"
      ]
     },
     "execution_count": null,
     "metadata": {},
     "output_type": "execute_result"
    }
   ],
   "source": [
    "show_doc(ObsidianLink.__eq__)"
   ]
  },
  {
   "cell_type": "code",
   "execution_count": null,
   "metadata": {},
   "outputs": [],
   "source": [
    "link1 = ObsidianLink(\n",
    "    is_embedded=False,\n",
    "    file_name=\"test_file\",\n",
    "    anchor=\"test_anchor\",\n",
    "    custom_text=\"test_custom\",\n",
    "    link_type=LinkType.WIKILINK\n",
    ")\n",
    "link2 = ObsidianLink(\n",
    "    is_embedded=True,\n",
    "    file_name=\"another_file\",\n",
    "    anchor=0,\n",
    "    custom_text=0,\n",
    "    link_type=LinkType.MARKDOWN\n",
    ")\n",
    "link1_copy = link1.__copy__()\n",
    "\n",
    "test_eq(link1, link1_copy)\n",
    "test_ne(link1, link2)\n",
    "test_ne(link1, \"Not an ObsidianLink\")"
   ]
  },
  {
   "cell_type": "code",
   "execution_count": null,
   "metadata": {},
   "outputs": [],
   "source": [
    "link1 = ObsidianLink(\n",
    "    is_embedded=False,\n",
    "    file_name=\"test_file\",\n",
    "    anchor=\"test_anchor\",\n",
    "    custom_text=\"test_custom\",\n",
    "    link_type=LinkType.WIKILINK\n",
    ")\n",
    "\n",
    "link1_different_embedded = ObsidianLink(\n",
    "    is_embedded=not link1.is_embedded,\n",
    "    file_name=link1.file_name,\n",
    "    anchor=link1.anchor,\n",
    "    custom_text=link1.custom_text,\n",
    "    link_type=link1.link_type\n",
    ")\n",
    "test_ne(link1, link1_different_embedded)\n",
    "\n",
    "link1_different_file_name = ObsidianLink(\n",
    "    is_embedded=link1.is_embedded,\n",
    "    file_name=\"different_file\",\n",
    "    anchor=link1.anchor,\n",
    "    custom_text=link1.custom_text,\n",
    "    link_type=link1.link_type\n",
    ")\n",
    "test_ne(link1, link1_different_file_name)"
   ]
  },
  {
   "cell_type": "markdown",
   "metadata": {},
   "source": [
    "#### Constructing abstract ObsidianLink objets"
   ]
  },
  {
   "cell_type": "markdown",
   "metadata": {},
   "source": [
    "We might want to detect links in Obsidian Markdown notes of certain formats. Constructing `ObsidianLink` objects via the constructor can help with this.\n",
    "\n",
    "Setting `file_name`, `anchor`, or `custom_text` to `-1` can yields an `ObisidianLink` object representing an abstract link. Use the `to_regex` function of the `ObsidianLink` object to get a regex str which detects links of the specified format."
   ]
  },
  {
   "cell_type": "markdown",
   "metadata": {},
   "source": [
    "In the following example, the anchor and custom text of the `ObsidianLink` object are both abstract - the regex pattern returned by `._to_regex` will detect any link of the specified type (by default, `LinkType.WIKILINK`) with the specified file name:"
   ]
  },
  {
   "cell_type": "code",
   "execution_count": null,
   "metadata": {},
   "outputs": [
    {
     "name": "stdout",
     "output_type": "stream",
     "text": [
      "regex_pattern: \\[\\[hi(#(.*?))?(\\|(.*?))?\\]\\]\n"
     ]
    }
   ],
   "source": [
    "internal_link_object = ObsidianLink(is_embedded=False, file_name = 'hi', anchor=-1, custom_text=-1)\n",
    "regex_pattern = internal_link_object.to_regex()\n",
    "print(f'regex_pattern: {regex_pattern}')\n",
    "assert re.match(regex_pattern, '[[hi#this is some anchor|this is some display text]]')\n",
    "assert re.match(regex_pattern, '[[hi|some display text, but no anchor!]]')\n",
    "assert re.match(regex_pattern, '[[hi#some anchor, but no custom text]]')\n",
    "assert re.match(regex_pattern, '[[hi]]')  #No anchor and no custom text\n",
    "assert not re.match(regex_pattern, '[[note_with_wrong_name]]')"
   ]
  },
  {
   "cell_type": "markdown",
   "metadata": {},
   "source": [
    "The following is an example where the custom_text is specified, but the file_name and anchor are both abstract:"
   ]
  },
  {
   "cell_type": "code",
   "execution_count": null,
   "metadata": {},
   "outputs": [
    {
     "name": "stdout",
     "output_type": "stream",
     "text": [
      "regex_pattern: \\[\\[([^#\\|]*)?(#(.*?))?\\|must match this text!\\]\\]\n"
     ]
    }
   ],
   "source": [
    "internal_link_object = ObsidianLink(is_embedded=False, file_name = -1, anchor=-1, custom_text='must match this text!')\n",
    "regex_pattern = internal_link_object.to_regex()\n",
    "print(f'regex_pattern: {regex_pattern}')\n",
    "assert re.match(regex_pattern, '[[some note#some anchor|must match this text!]]')\n",
    "# TODO: matching the below is not currently implemented.\n",
    "# assert re.match(regex_pattern, '[[must match this text!]]')\n",
    "assert re.match(regex_pattern, '[[some note|must match this text!]]')\n",
    "assert re.match(regex_pattern, '[[#anchor in note|must match this text!]]')  #No anchor and no custom text\n",
    "assert not re.match(regex_pattern, '[[some note#some anchor|Wrong text]]')"
   ]
  },
  {
   "cell_type": "markdown",
   "metadata": {},
   "source": [
    "In the following example, the linktype is specified to be `LinkeType.MARKDOWN`:"
   ]
  },
  {
   "cell_type": "code",
   "execution_count": null,
   "metadata": {},
   "outputs": [
    {
     "name": "stdout",
     "output_type": "stream",
     "text": [
      "regex_pattern: \\[(.*?)?\\]\\(hi(#(.*?))?\\)\n"
     ]
    }
   ],
   "source": [
    "internal_link_object = ObsidianLink(is_embedded=False, file_name = 'hi', anchor=-1, custom_text=-1, link_type=LinkType.MARKDOWN)\n",
    "regex_pattern = internal_link_object.to_regex()\n",
    "print(f'regex_pattern: {regex_pattern}')\n",
    "assert re.match(regex_pattern, '[Some custom text](hi#Some anchor)')\n",
    "assert re.match(regex_pattern, '[Some custom text, no anchor](hi)')\n",
    "assert not re.match(regex_pattern, '[Some custom text, link an anchor in the same note](#anchor)')"
   ]
  },
  {
   "cell_type": "markdown",
   "metadata": {},
   "source": [
    "### String of an ObsidianLink object"
   ]
  },
  {
   "cell_type": "markdown",
   "metadata": {},
   "source": [
    "A concrete `ObsidianLink` object has a `to_string` function:"
   ]
  },
  {
   "cell_type": "code",
   "execution_count": null,
   "metadata": {},
   "outputs": [
    {
     "name": "stdout",
     "output_type": "stream",
     "text": [
      "![[compactly_generated_product_hom_adjunction#Title|compactly generated]]\n",
      "![compactly generated](compactly_generated_product_hom_adjunction#Title%201)\n"
     ]
    }
   ],
   "source": [
    "internal_link_object = ObsidianLink(is_embedded=True, file_name = 'compactly_generated_product_hom_adjunction', anchor='Title', custom_text='compactly generated', link_type=LinkType.WIKILINK)\n",
    "print(internal_link_object.to_string())\n",
    "internal_link_object = ObsidianLink(is_embedded=True, file_name = 'compactly_generated_product_hom_adjunction', anchor='Title 1', custom_text='compactly generated', link_type=LinkType.MARKDOWN)\n",
    "print(internal_link_object.to_string())"
   ]
  },
  {
   "cell_type": "markdown",
   "metadata": {},
   "source": [
    "## Find the links in text as ObsidianLink objects"
   ]
  },
  {
   "cell_type": "code",
   "execution_count": null,
   "metadata": {},
   "outputs": [],
   "source": [
    "#| export\n",
    "def links_from_text(\n",
    "        text: str\n",
    "        ) -> list[ObsidianLink]: # The `ObsidianLink` objects are ordered by appearance.\n",
    "    \"\"\"\n",
    "    Return a list of `ObsidianLink` objects corresponding to links\n",
    "    found in the text.\n",
    "    \"\"\"\n",
    "    ranges = find_links_in_markdown_text(text)\n",
    "    link_strs = [text[start:end] for start, end in ranges]\n",
    "    return [ObsidianLink.from_text(link_str) for link_str in link_strs]"
   ]
  },
  {
   "cell_type": "markdown",
   "metadata": {},
   "source": [
    "Unlike `find_links_in_markdown_text`, the `links_from_text` function returns a list of `ObsidianLink` objects instead."
   ]
  },
  {
   "cell_type": "code",
   "execution_count": null,
   "metadata": {},
   "outputs": [],
   "source": [
    "links = links_from_text(tutorial_text)\n",
    "assert links[0].displayed_text() == 'links'  # The displayed text of [[this_is_the_note_to_which_the_link_points|links]] is `links`.\n",
    "assert links[3].is_embedded  # ![[note_being_embedded]] is an embedded link\n",
    "assert links[4].anchor == 'This is a header title'  # [[note#This is a header title]] has anchor `This is a header title`."
   ]
  },
  {
   "cell_type": "markdown",
   "metadata": {},
   "source": [
    "## Removing links from text"
   ]
  },
  {
   "cell_type": "code",
   "execution_count": null,
   "metadata": {},
   "outputs": [],
   "source": [
    "#| export\n",
    "def remove_links_from_text(\n",
    "        text: str,\n",
    "        exclude: list[ObsidianLink] = None, # A list of `ObsidianLink` objects of links to not be removed.\n",
    "        remove_embedded_note_links: bool = False # If `True`, remove links to embedded notes as well. Note that embedded links are replaced by their \"display\" text in the same manner as non-embedded links and are not replaced the content of the embedding. If `False`, does not modify embedded note links.\n",
    "        ) -> str:\n",
    "    \"\"\"\n",
    "    Return a text with all Obsidian links removed and replaced with\n",
    "    the display texts of the links.\n",
    "    \"\"\"\n",
    "    if not exclude:\n",
    "        exclude = []\n",
    "    exclude_patterns = [re.compile(exclude_link.to_regex())\n",
    "                        for exclude_link in exclude]\n",
    "    link_indices = find_links_in_markdown_text(text)\n",
    "    new_text = text\n",
    "    for start, end in reversed(link_indices):\n",
    "        if _do_not_remove_link(text[start:end], exclude_patterns):\n",
    "            continue\n",
    "        link_object = ObsidianLink.from_text(text[start:end])\n",
    "        if link_object.is_embedded and not remove_embedded_note_links:\n",
    "            continue\n",
    "        replace_with = link_object.displayed_text()\n",
    "        # link_object.custom_text if link_object.custom_text else link_object.file_name\n",
    "        new_text = new_text[0:start] + replace_with + new_text[end:]\n",
    "    return new_text\n",
    "\n",
    "\n",
    "def _do_not_remove_link(text: str, exclude_patterns: list[re.Pattern]) -> bool:\n",
    "    \"\"\"\n",
    "    Return `True` if text fully matches any of `re.Pattern`'s in `exclude_patterns`.\n",
    "\n",
    "    This is a helper method for `remove_links_from_text`. \n",
    "    \"\"\"\n",
    "    for exclude_pattern in exclude_patterns:\n",
    "        if exclude_pattern.fullmatch(text):\n",
    "            return True\n",
    "    return False"
   ]
  },
  {
   "cell_type": "markdown",
   "metadata": {},
   "source": [
    "We can remove all links of from text and preserve the underlying display text of each link:"
   ]
  },
  {
   "cell_type": "code",
   "execution_count": null,
   "metadata": {},
   "outputs": [
    {
     "name": "stdout",
     "output_type": "stream",
     "text": [
      "I have a link\n",
      "Something about a conormal sheaf\n",
      "This is a link without a specified display text: some_kind_of_note.\n",
      "This is a link to an anchor without a specified display text: another_note > another anchor.\n"
     ]
    }
   ],
   "source": [
    "text = 'I have a [[this is a note#this is an anchor in the note|link]]'\n",
    "links_removed = remove_links_from_text(text)\n",
    "print(links_removed)\n",
    "assert links_removed == 'I have a link'\n",
    "\n",
    "text = 'Something about a [[some_reference_conormal_sheaf_of_a_locally_closed_embedding#For a locally closed embedding 2 4|conormal sheaf]]'\n",
    "links_removed = remove_links_from_text(text)\n",
    "print(links_removed)\n",
    "assert links_removed == 'Something about a conormal sheaf'\n",
    "\n",
    "text = 'This is a link without a specified display text: [[some_kind_of_note]].'\n",
    "links_removed = remove_links_from_text(text)\n",
    "print(links_removed)\n",
    "assert links_removed == 'This is a link without a specified display text: some_kind_of_note.'\n",
    "\n",
    "text = 'This is a link to an anchor without a specified display text: [[another_note#another anchor]].'\n",
    "links_removed = remove_links_from_text(text)\n",
    "print(links_removed)\n",
    "assert links_removed == 'This is a link to an anchor without a specified display text: another_note > another anchor.'\n"
   ]
  },
  {
   "cell_type": "markdown",
   "metadata": {},
   "source": [
    "We can specify links to not remove in this process:"
   ]
  },
  {
   "cell_type": "code",
   "execution_count": null,
   "metadata": {},
   "outputs": [],
   "source": [
    "text = 'This thing [[some note|denotes]] something'\n",
    "do_not_remove_link = ObsidianLink(False, None, -1, 'denote(s)?')\n",
    "links_removed = remove_links_from_text(text, exclude=[do_not_remove_link])\n",
    "assert text == links_removed"
   ]
  },
  {
   "cell_type": "markdown",
   "metadata": {},
   "source": [
    "This function does not remove embedded links by default."
   ]
  },
  {
   "cell_type": "code",
   "execution_count": null,
   "metadata": {},
   "outputs": [
    {
     "name": "stdout",
     "output_type": "stream",
     "text": [
      "![[embedded note]]\n"
     ]
    }
   ],
   "source": [
    "text = '![[embedded note]]'\n",
    "links_removed = remove_links_from_text(text)\n",
    "print(links_removed)\n",
    "assert links_removed == text"
   ]
  },
  {
   "cell_type": "code",
   "execution_count": null,
   "metadata": {},
   "outputs": [
    {
     "name": "stdout",
     "output_type": "stream",
     "text": [
      "embedded note\n"
     ]
    }
   ],
   "source": [
    "text = '![[embedded note]]'\n",
    "links_removed = remove_links_from_text(text, remove_embedded_note_links=True)\n",
    "print(links_removed)\n",
    "assert links_removed == 'embedded note'"
   ]
  },
  {
   "cell_type": "markdown",
   "metadata": {},
   "source": [
    "## Replacing links in text"
   ]
  },
  {
   "cell_type": "code",
   "execution_count": null,
   "metadata": {},
   "outputs": [],
   "source": [
    "#| export\n",
    "def replace_links_in_text(\n",
    "        text: str,\n",
    "        links_to_replace: ObsidianLink,\n",
    "        new_link_name: str\n",
    "        # link_to_replace_with \n",
    "        ) -> str:\n",
    "    \"\"\"\n",
    "    Modify all links matching `links_to_replace` so that the\n",
    "    the new destination is `new_link_name`.\n",
    "    \"\"\"\n",
    "    pattern = links_to_replace.to_regex()\n",
    "    matches = find_regex_in_text(text, pattern)\n",
    "    replacements = []\n",
    "    for start, end in matches:\n",
    "        concrete_link = ObsidianLink.from_text(text[start:end])\n",
    "        concrete_link.file_name = new_link_name\n",
    "        replacements.append(str(concrete_link))\n",
    "    return replace_string_by_indices(text, matches, replacements)"
   ]
  },
  {
   "cell_type": "code",
   "execution_count": null,
   "metadata": {},
   "outputs": [],
   "source": [
    "# Test case 1: Replace a single wikilink\n",
    "text1 = \"This is a [[test link]] in the text.\"\n",
    "link_to_replace1 = ObsidianLink(False, \"test link\", 0, 0, LinkType.WIKILINK)\n",
    "new_link_name1 = \"new link\"\n",
    "expected1 = \"This is a [[new link]] in the text.\"\n",
    "test_eq(replace_links_in_text(text1, link_to_replace1, new_link_name1), expected1)\n",
    "\n",
    "# Test case 2: Replace multiple wikilinks\n",
    "text2 = \"[[link1]] and [[link1]] are the same.\"\n",
    "link_to_replace2 = ObsidianLink(False, \"link1\", 0, 0, LinkType.WIKILINK)\n",
    "new_link_name2 = \"updated_link\"\n",
    "expected2 = \"[[updated_link]] and [[updated_link]] are the same.\"\n",
    "test_eq(replace_links_in_text(text2, link_to_replace2, new_link_name2), expected2)\n",
    "\n",
    "# Test case 3: Replace markdown links\n",
    "text3 = \"This is a [markdown link](test_file.md) in the text.\"\n",
    "link_to_replace3 = ObsidianLink(False, \"test_file.md\", 0, \"markdown link\", LinkType.MARKDOWN)\n",
    "new_link_name3 = \"new_file.md\"\n",
    "expected3 = \"This is a [markdown link](new_file.md) in the text.\"\n",
    "test_eq(replace_links_in_text(text3, link_to_replace3, new_link_name3), expected3)\n",
    "\n",
    "# Test case 4: Replace links with anchors\n",
    "text4 = \"See [[file#section]] for more info.\"\n",
    "link_to_replace4 = ObsidianLink(False, \"file\", \"section\", 0, LinkType.WIKILINK)\n",
    "new_link_name4 = \"new_file\"\n",
    "expected4 = \"See [[new_file#section]] for more info.\"\n",
    "test_eq(replace_links_in_text(text4, link_to_replace4, new_link_name4), expected4)\n",
    "\n",
    "# Test case 5: Replace embedded links\n",
    "text5 = \"An embedded image: ![[image.png]]\"\n",
    "link_to_replace5 = ObsidianLink(True, \"image.png\", 0, 0, LinkType.WIKILINK)\n",
    "new_link_name5 = \"new_image.png\"\n",
    "expected5 = \"An embedded image: ![[new_image.png]]\"\n",
    "test_eq(replace_links_in_text(text5, link_to_replace5, new_link_name5), expected5)\n",
    "\n",
    "# Test case 6: No matches in text\n",
    "text6 = \"This text has no links to replace.\"\n",
    "link_to_replace6 = ObsidianLink(False, \"nonexistent\", 0, 0, LinkType.WIKILINK)\n",
    "new_link_name6 = \"anything\"\n",
    "expected6 = \"This text has no links to replace.\"\n",
    "test_eq(replace_links_in_text(text6, link_to_replace6, new_link_name6), expected6)\n",
    "\n",
    "# Test case 7: Replace links with custom text\n",
    "text7 = \"See [[file|Custom Text]] for details.\"\n",
    "link_to_replace7 = ObsidianLink(False, \"file\", 0, \"Custom Text\", LinkType.WIKILINK)\n",
    "new_link_name7 = \"new_file\"\n",
    "expected7 = \"See [[new_file|Custom Text]] for details.\"\n",
    "test_eq(replace_links_in_text(text7, link_to_replace7, new_link_name7), expected7)"
   ]
  }
 ],
 "metadata": {
  "kernelspec": {
   "display_name": "trouver_py310_venv",
   "language": "python",
   "name": "trouver_py310_venv"
  }
 },
 "nbformat": 4,
 "nbformat_minor": 2
}
