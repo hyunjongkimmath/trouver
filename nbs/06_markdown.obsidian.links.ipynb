{
 "cells": [
  {
   "cell_type": "markdown",
   "metadata": {},
   "source": [
    "# markdown.obsidian.links\n",
    "> Functions for parsing internal links in [Obsidian.md](https://obsidian.md/) style markdown.\n",
    "\n",
    "Obsidian uses both Markdown style links and Wikilinks as [internal links](https://help.obsidian.md/How+to/Internal+link). Markdown style links are of the form `[text_shown](link)` whereas Wikilinks are of the form `[[link_to_markdown#possible_anchor_to_header|text_shown]]`. They have an exclamation mark `!` if they are embedded."
   ]
  },
  {
   "cell_type": "code",
   "execution_count": null,
   "metadata": {},
   "outputs": [],
   "source": [
    "#| default_exp markdown.obsidian.links"
   ]
  },
  {
   "cell_type": "code",
   "execution_count": null,
   "metadata": {},
   "outputs": [],
   "source": [
    "#| export\n",
    "from __future__ import annotations\n",
    "from deprecated import deprecated\n",
    "from enum import Enum\n",
    "from pathlib import Path\n",
    "import re\n",
    "from trouver.helper import (\n",
    "    find_regex_in_text, text_from_file\n",
    ")\n",
    "from trouver.markdown.obsidian.vault import (\n",
    "    all_paths_to_notes_in_vault, VaultNote, NoteDoesNotExistError\n",
    ")\n",
    "from typing import Union\n"
   ]
  },
  {
   "cell_type": "code",
   "execution_count": null,
   "metadata": {},
   "outputs": [],
   "source": [
    "#| export\n",
    "# TODO Make it so that these patterns don't capture latex code\n",
    "INTERNAL_LINK_PATTERN = r'!?\\[\\[.*?\\]\\]' \n",
    "WIKILINK_PATTERN = r'!?\\[\\[[^\\]]+\\]\\]'\n",
    "EMBEDDED_WIKILINK_PATTERN = r'!\\[\\[[^\\]]+\\]\\]'\n",
    "# WIKILINK_CAPTURE = r'!?\\[\\[([^#\\]\\|]+)(#[^\\]\\|]+)?(\\|[^\\]]+)?\\]\\]'\n",
    "# Note that MARKDOWNLINK_PATTERN captures whitespace characters in its link, even though Obsidian\n",
    "# does not. This is implmeneted to find if any misformats in the Obsidian Markdown files.\n",
    "MARKDOWNLINK_PATTERN = r'!?\\[[^\\]]+\\]\\([^)]+\\)'  \n",
    "EMBEDDED_MARKDOWNLINK_PATERN = r'!\\[[^\\]]+\\]\\([^)]+\\)'\n",
    "EMBEDDED_PATTERN = f'{EMBEDDED_WIKILINK_PATTERN}|{EMBEDDED_MARKDOWNLINK_PATERN}'\n",
    "# MARKDOWNLINK_CAPTURE = r'!?\\[([^\\]]+)\\]\\(([^)#])+(#[^)]+)?\\)'"
   ]
  },
  {
   "cell_type": "code",
   "execution_count": null,
   "metadata": {},
   "outputs": [],
   "source": [
    "from os import PathLike\n",
    "from fastcore.test import *"
   ]
  },
  {
   "cell_type": "markdown",
   "metadata": {},
   "source": [
    "## Finding links in text via indices"
   ]
  },
  {
   "cell_type": "code",
   "execution_count": null,
   "metadata": {},
   "outputs": [],
   "source": [
    "#| export\n",
    "def find_links_in_markdown_text(\n",
    "        text: str\n",
    "        ) -> list[tuple]: # Each tuple is of the form `(a,b)` where `text[a:b]` is an obsidian internal link.\n",
    "    \"\"\"Returns ranges in the markdown text string\n",
    "    where internal links occur.\n",
    "\n",
    "    # TODO: rename this function, say to link_ranges_in_text, \n",
    "    # because it is confusing when there is a links_from_text function below.\n",
    "\n",
    "    **See Also**\n",
    "\n",
    "    - `links_from_text`\n",
    "    \"\"\"\n",
    "    regex = f'{WIKILINK_PATTERN}|{MARKDOWNLINK_PATTERN}'\n",
    "    return find_regex_in_text(text, pattern=regex)\n"
   ]
  },
  {
   "cell_type": "markdown",
   "metadata": {},
   "source": [
    "`find_links_in_markdown_text` returns a list of indices in a string in which the links are located."
   ]
  },
  {
   "cell_type": "code",
   "execution_count": null,
   "metadata": {},
   "outputs": [],
   "source": [
    "# TODO: add markdown links to example"
   ]
  },
  {
   "cell_type": "code",
   "execution_count": null,
   "metadata": {},
   "outputs": [],
   "source": [
    "tutorial_text = r'''\n",
    "This is an Obsidian note. It has some [[this_is_the_note_to_which_the_link_points|links]]!\n",
    "Links are pretty neat. They can [[this_text_is_not_actually_shown|connect notes]] for you.\n",
    "The following will create a link to the note `some_note`; the displayed text is `some_note`: [[some_note]]\n",
    "You can also embed the contents of one note into another note. ![[note_being_embedded]].\n",
    "The contents of `note_being_embedded` will be displayed when you view the note in Obsidian's view mode.\n",
    "You can make anchors in links. For example [[note#This is a header title]] is a link to the note named\n",
    "`note` and more specifically to the theader with title `This is a header title`.\n",
    "\n",
    "The above links are all Wikilinks. Obsidian also supports Markdownlinks, e.g. [This is the text shown](This is the link.)\n",
    "\n",
    "If the note of a link does not exist in an Obsidian vault, then Obsidian will create the note.\n",
    "Even if the note does not have a header with title specified by the anchor of a link, Obsidian\n",
    "will still open the note; it will not go to any particular header, however.\n",
    "'''\n",
    "\n",
    "ranges = find_links_in_markdown_text(tutorial_text)\n",
    "match_strs = [tutorial_text[start:end] for start, end in ranges]\n",
    "test_eq(match_strs, [\n",
    "    '[[this_is_the_note_to_which_the_link_points|links]]', \n",
    "    '[[this_text_is_not_actually_shown|connect notes]]',\n",
    "    '[[some_note]]',\n",
    "    '![[note_being_embedded]]',\n",
    "    '[[note#This is a header title]]',\n",
    "    '[This is the text shown](This is the link.)'])"
   ]
  },
  {
   "cell_type": "markdown",
   "metadata": {},
   "source": [
    "### Longer Example"
   ]
  },
  {
   "cell_type": "markdown",
   "metadata": {},
   "source": [
    "The following example is of a note whose contents are based on an excerpt from Vakil's *The Rising Sea - Foundations of Algebraic Geometry*."
   ]
  },
  {
   "cell_type": "code",
   "execution_count": null,
   "metadata": {},
   "outputs": [
    {
     "name": "stdout",
     "output_type": "stream",
     "text": [
      "[[foag_conormal_sheaf_of_a_locally_closed_embedding#For a locally closed embedding 2 4|conormal sheaf]]\n",
      "[[foag_dual_sheaf|dual]]\n",
      "![[foag_notation_Hom_sheaf_hom]]\n",
      "[[foag_notation_T_X_Y_relative_tangent_sheaf]]\n",
      "[[foag_notation_Omega_X_Y_relative_cotangent_sheaf]]\n",
      "[[foag_21.2.Q]]\n",
      "[[foag_sheaf_of_relative_i_forms]]\n",
      "![[_reference_foag]]\n"
     ]
    }
   ],
   "source": [
    "text = r'''\n",
    "---\n",
    "cssclass: clean-embeds\n",
    "aliases: [foag_relative_cotangent_sheaf, foag_relative_tangent_sheaf]\n",
    "tags: [_meta/definition, _meta/notation, _meta/literature_note, _reference/vakil_rising_sea, relative_cotangent_sheaf, relative_tangent_sheaf, diagonal_map/scheme, conormal_sheaf, dual/coherent_sheaf, morphism/schemes]\n",
    "---\n",
    "# Global definition[^1]\n",
    "Let $\\pi: X \\rightarrow Y$ be a morphism of schemes. Define the **relative cotangent sheaf** $\\Omega_{X/Y}$ or $\\Omega_{\\pi}$ as the [[foag_conormal_sheaf_of_a_locally_closed_embedding#For a locally closed embedding 2 4|conormal sheaf]] $\\mathscr{N}^\\vee_{X/X \\times_Y X}$ of the diagonal[^2].\n",
    "\n",
    "# Relative tangent sheaf\n",
    "Define the **relative tangent sheaf** $\\mathscr{T}_{X/Y}$ as the [[foag_dual_sheaf|dual]] $\\mathcal{Hom}(\\Omega_{X/Y}, \\mathscr{O}_X)$[^3]\n",
    "\n",
    "[^3]: ![[foag_notation_Hom_sheaf_hom]]\n",
    "\n",
    "# Other\n",
    "We now define $\\mathrm{d}: \\hat{\\partial}_{\\mathrm{X}} \\rightarrow \\Omega_{\\mathrm{X} / \\mathrm{Y}}$. Let $\\operatorname{pr}_{1}: X \\times_{\\mathrm{Y}} X \\rightarrow X$ and $\\operatorname{pr}_{2}: X \\times_{\\mathrm{Y}} X \\rightarrow X$ be the two projections. Then define $\\mathrm{d}: \\mathscr{O}_{\\mathrm{X}} \\rightarrow \\Omega_{\\mathrm{X} / \\mathrm{Y}}$ on the open set $\\mathrm{U}$ as follows:\n",
    "$$\n",
    "d f=p r_{2}^{*} f-p r_{1}^{*} f\n",
    "$$\n",
    "(Warning: this is not a morphism of quasicoherent sheaves on $X$, although it $i$ s $\\mathscr{O}_{\\mathrm{Y}}$-linear in the only possible meaning of that phrase.) We will soon see that $\\mathrm{d}$ is indeed a derivation of the sheaf $\\mathscr{O}_{\\mathrm{X}}$ (in the only possible meaning of the phrase), and at the same time see that our new notion of differentials agrees with our old definition on affine open sets, and hence globalizes the definition. Note that for any open subset $U \\subset X, d$ induces a map\n",
    "$$\n",
    "\\Gamma\\left(\\mathrm{U}, \\mathscr{O}_{\\mathrm{X}}\\right) \\rightarrow \\Gamma\\left(\\mathrm{U}, \\Omega_{\\mathrm{X} / \\mathrm{Y}}\\right)\n",
    "$$\n",
    "which we also call d, and interpret as \"taking the derivative\".\n",
    "\n",
    "# See Also\n",
    "- [[foag_notation_T_X_Y_relative_tangent_sheaf]]\n",
    "- [[foag_notation_Omega_X_Y_relative_cotangent_sheaf]]\n",
    "- [[foag_21.2.Q]]\n",
    "- [[foag_sheaf_of_relative_i_forms]]\n",
    "\n",
    "# Meta\n",
    "## References\n",
    "![[_reference_foag]]\n",
    "\n",
    "## Citations and Footnotes\n",
    "[^1]: Vakil, 21.2.20, Page 572\n",
    "[^2]: Note that the diagonal morphism is a locally closed embedding.\n",
    "'''\n",
    "\n",
    "ranges = find_links_in_markdown_text(text)\n",
    "for match_range in ranges:\n",
    "    print(text[match_range[0]:match_range[1]])"
   ]
  }
 ],
 "metadata": {
  "kernelspec": {
   "display_name": "Python 3.10.6 64-bit",
   "language": "python",
   "name": "python3"
  }
 },
 "nbformat": 4,
 "nbformat_minor": 2
}
