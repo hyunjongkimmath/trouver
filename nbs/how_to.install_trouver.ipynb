{
 "cells": [
  {
   "cell_type": "code",
   "execution_count": null,
   "metadata": {},
   "outputs": [],
   "source": [
    "#| default_exp how_to.install_trouver"
   ]
  },
  {
   "cell_type": "markdown",
   "metadata": {},
   "source": [
    "# how_to.install_trouver\n",
    "> Instructions on installing `trouver`"
   ]
  },
  {
   "cell_type": "markdown",
   "metadata": {},
   "source": [
    "## Basic installation"
   ]
  },
  {
   "cell_type": "markdown",
   "metadata": {},
   "source": [
    "1. Install [Python](https://www.python.org/). Note that `trouver` is currently (as of 12/24/2023) mostly tested on Python version 3.10.6.\n",
    "2. Go to a command-line (e.g. `cmd` on Windows, `Terminal` on Linux, etc.) and run \n",
    "\n",
    "    ```terminal\n",
    "    python -m pip install trouver\n",
    "    ```\n",
    "\n",
    "    or \n",
    "\n",
    "    ```terminal\n",
    "    pip install trouver\n",
    "    ```"
   ]
  },
  {
   "cell_type": "markdown",
   "metadata": {},
   "source": [
    "## Recommended additional installations"
   ]
  },
  {
   "cell_type": "markdown",
   "metadata": {},
   "source": [
    "1. We recommend installing [`Obsidian.md`](https://obsidian.md/) to view, edit, and modify mathematical notes created by or which interact with `trouver`.\n",
    "2. We recommend installing [`Jupyter`](https://jupyter.org/install) to use notebooks to use the code from `trouver`. More specifically, we recommend installing `JupyterLab` via\n",
    "\n",
    "    ```terminal\n",
    "    pip install jupyterlab\n",
    "    ```\n",
    "\n",
    "    and opening `JupyterLab` via\n",
    "\n",
    "    ```terminal\n",
    "    jupyter-lab\n",
    "    ```\n",
    "\n",
    "    or installing the classic Jupyter Notebook via \n",
    "\n",
    "    ```terminal\n",
    "    pip install notebook\n",
    "    ```\n",
    "\n",
    "    and opening the notebook via\n",
    "\n",
    "    ```terminal\n",
    "    jupyter notebook\n",
    "    ```\n",
    "    \n",
    "    Alternatively, we also recommend using notebooks via [`Visual Studio Code`](https://code.visualstudio.com/)."
   ]
  },
  {
   "cell_type": "markdown",
   "metadata": {},
   "source": [
    "## For Developers/Install from source"
   ]
  },
  {
   "cell_type": "markdown",
   "metadata": {},
   "source": [
    "To use or develop the source code or documentation of `trouver`, \n",
    "\n",
    "1. clone the [`trouver` GitHub repository](https://github.com/hyunjongkimmath/trouver). See [GitHub's instructions on cloning a repository](https://docs.github.com/en/repositories/creating-and-managing-repositories/cloning-a-repository) for instance.\n",
    "2. `trouver` is developed using [`nbdev`](https://nbdev.fast.ai/). As such, `nbdev` Python library is required to effectively develop the source code and documentation of `trouver`. Install `nbdev` with\n",
    "\n",
    "    ```terminal\n",
    "    pip install nbdev\n",
    "    ```\n",
    "\n",
    "    To install `trouver` from source, go to the cloned `trouver` folder in a terminal, and run\n",
    "\n",
    "    ```terminal\n",
    "    pip install -e '.[dev]'\n",
    "    ```\n",
    "    See the [`nbdev` tutorial page](https://nbdev.fast.ai/tutorials/tutorial.html) for more details on using `nbdev`."
   ]
  }
 ],
 "metadata": {
  "kernelspec": {
   "display_name": "trouver_py310_venv",
   "language": "python",
   "name": "trouver_py310_venv"
  }
 },
 "nbformat": 4,
 "nbformat_minor": 2
}
