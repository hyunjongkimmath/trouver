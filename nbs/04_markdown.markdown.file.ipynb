{
 "cells": [
  {
   "cell_type": "markdown",
   "metadata": {},
   "source": [
    "# markdown.markdown.file\n",
    "\n",
    "> Functions for parsing markdown files"
   ]
  },
  {
   "cell_type": "code",
   "execution_count": null,
   "metadata": {},
   "outputs": [],
   "source": [
    "#| default_exp markdown.markdown.file"
   ]
  },
  {
   "cell_type": "code",
   "execution_count": null,
   "metadata": {},
   "outputs": [],
   "source": [
    "#| export\n",
    "from __future__ import annotations\n",
    "import copy\n",
    "from enum import Enum\n",
    "from itertools import product\n",
    "from os import PathLike\n",
    "import re\n",
    "import string\n",
    "from typing import Iterator, Union, Optional\n",
    "import warnings\n",
    "import yaml\n",
    "\n",
    "from trouver.helper.html import remove_html_tags_in_text\n",
    "from trouver.helper.regex import find_regex_in_text\n",
    "from trouver.markdown.markdown.heading import (\n",
    "    heading_level, heading_title\n",
    ")\n",
    "from trouver.markdown.obsidian.links import (\n",
    "    ObsidianLink, \n",
    "    remove_links_from_text, EMBEDDED_PATTERN\n",
    ")\n",
    "from trouver.markdown.obsidian.vault import VaultNote, NoteDoesNotExistError, NotePathIsNotIdentifiedError\n",
    "from trouver.markdown.obsidian.tags import (\n",
    "    strip_auto_from_tag, tag_is_auto_tag\n",
    ")"
   ]
  },
  {
   "cell_type": "code",
   "execution_count": null,
   "metadata": {},
   "outputs": [],
   "source": [
    "from collections import OrderedDict\n",
    "import os\n",
    "from pathlib import Path \n",
    "import tempfile\n",
    "import shutil\n",
    "\n",
    "from fastcore.test import *\n",
    "from nbdev.showdoc import show_doc"
   ]
  },
  {
   "cell_type": "markdown",
   "metadata": {},
   "source": [
    "## Frontmatter meta"
   ]
  },
  {
   "cell_type": "code",
   "execution_count": null,
   "metadata": {},
   "outputs": [],
   "source": [
    "#| export\n",
    "def find_front_matter_meta_in_markdown_text(\n",
    "        text: str\n",
    "        ) -> Union[tuple[int], None]: # Each tuple is of the form `(a,b)` where `text[a:b]` is a markdown front matter. This list will be of length at most 1 because the front matter must come at the start of the markdown document.\n",
    "    \"\"\"\n",
    "    Return ranges in the markdown text string where front matter meta occurs.\n",
    "    \n",
    "    `text` is assumed to start with the front matter meta.\n",
    "    The front matter meta is of the following YAML format.\n",
    "    \n",
    "    ```markdown\n",
    "    ---\n",
    "    key: entry\n",
    "    ---\n",
    "    ```\n",
    "    \"\"\"\n",
    "    listy = find_regex_in_text(text, pattern=r'---\\n([\\s\\S])*?(?(1)\\n|)---')\n",
    "    return listy[0] if listy else None\n"
   ]
  },
  {
   "cell_type": "markdown",
   "metadata": {},
   "source": [
    "The frontmatter meta in an Obsidian Markdown note is surrounded by `---` and must be at the top. We can identify the frontmatter meta in some text:"
   ]
  },
  {
   "cell_type": "code",
   "execution_count": null,
   "metadata": {},
   "outputs": [
    {
     "name": "stdout",
     "output_type": "stream",
     "text": [
      "---\n",
      "cssclass: clean-embeds\n",
      "aliases: []\n",
      "tags: [_meta/TODO/change_title, _meta/definition, _meta/literature_note]\n",
      "---\n"
     ]
    }
   ],
   "source": [
    "sample_text = r'''---\n",
    "cssclass: clean-embeds\n",
    "aliases: []\n",
    "tags: [_meta/TODO/change_title, _meta/definition, _meta/literature_note]\n",
    "---\n",
    "# Topic[^1]\n",
    "\n",
    "This is some text. Lalalalala\n",
    "\n",
    "# See Also\n",
    "\n",
    "# Meta\n",
    "## References\n",
    "![[_reference_foag]]\n",
    "\n",
    "## Citations and Footnotes\n",
    "[^1]: Some citation'''\n",
    "\n",
    "start, end = find_front_matter_meta_in_markdown_text(sample_text)\n",
    "just_frontmatter = sample_text[start:end]\n",
    "print(just_frontmatter)\n",
    "assert just_frontmatter.startswith('---')\n",
    "assert just_frontmatter.endswith('---')\n",
    "assert 'cssclass:' in just_frontmatter\n",
    "assert 'aliases:' in just_frontmatter\n",
    "assert 'tags:' in just_frontmatter"
   ]
  },
  {
   "cell_type": "markdown",
   "metadata": {},
   "source": [
    "If there is no frontmatter meta, then `find_front_matter_meta_in_markdown_text` returns `None`. "
   ]
  },
  {
   "cell_type": "code",
   "execution_count": null,
   "metadata": {},
   "outputs": [],
   "source": [
    "sample_text = r'''\n",
    "There is no frontmatter meta here.\n",
    "'''\n",
    "\n",
    "assert find_front_matter_meta_in_markdown_text(sample_text) is None\n",
    "\n",
    "\n",
    "sample_text = r'''\n",
    "---\n",
    "aliases: []\n",
    "--\n",
    "Notice that the front matter meta is incorrectly formatted!\n",
    "'''\n",
    "\n",
    "assert find_front_matter_meta_in_markdown_text(sample_text) is None\n"
   ]
  },
  {
   "cell_type": "code",
   "execution_count": null,
   "metadata": {},
   "outputs": [],
   "source": [
    "# hide \n",
    "# Some additional tests\n",
    "sample_text_1 = ''\n",
    "assert find_front_matter_meta_in_markdown_text(sample_text_1) is None\n",
    "sample_text_2 = \"hello I know a song that gets on everybody\\'s nose\"\n",
    "assert find_front_matter_meta_in_markdown_text(sample_text_2) is None\n",
    "sample_text_3 = '---\\n---'\n",
    "start, end = find_front_matter_meta_in_markdown_text(sample_text_3)\n",
    "assert sample_text_3[start:end] == sample_text_3\n",
    "sample_text_4 = '---\\n---\\n---'\n",
    "start, end = find_front_matter_meta_in_markdown_text(sample_text_4)\n",
    "assert sample_text_4[start:end] == '---\\n---'"
   ]
  },
  {
   "cell_type": "code",
   "execution_count": null,
   "metadata": {},
   "outputs": [],
   "source": [
    "#| export\n",
    "def _enquote(str):\n",
    "    return f'\"{str}\"'"
   ]
  },
  {
   "cell_type": "code",
   "execution_count": null,
   "metadata": {},
   "outputs": [],
   "source": [
    "#| hide\n",
    "# TODO: tests\n",
    "test_eq(_enquote('hi'), '\"hi\"')"
   ]
  },
  {
   "cell_type": "code",
   "execution_count": null,
   "metadata": {},
   "outputs": [],
   "source": [
    "#| export\n",
    "def dict_to_metadata_lines(\n",
    "        data: dict[str, Union[str, list[str]]], # The keys are str of the labels/names of the metadata. The values are the metadata, which are usually str or list.\n",
    "        enquote_entries_in_fields = list[str] # A list of str of fields in the YAML metadata whose entries need to be enquoted. If there is a string that is not a key of `new_metadata`, then that string is essentially ignored (in particular, no errors are raised).\n",
    "        ) -> list[str]: # Each str entry is the line for the yaml frontmatter metadata of an Obsidian Markdown note.\n",
    "    \"\"\"\n",
    "    Convert a dict to a list of str of yaml frontmatter metadata\n",
    "    that Obsidian recognizes.\n",
    "\n",
    "    This function is used in `MarkdownFile.replace_metadata`.\n",
    "    \"\"\"\n",
    "\n",
    "    lines = [\n",
    "        _line_str(key, value, enquote_entries_in_fields)\n",
    "        for key, value in data.items()]\n",
    "    # lines = []\n",
    "    # for key, value in data.items():\n",
    "    #     if isinstance(value, list):\n",
    "    #         _add_line_for_list(lines, key, value, key in enquote_entries_in_fields)\n",
    "    #         continue\n",
    "    #     lines.append(f'{key}: {value}')\n",
    "    return lines\n",
    "\n",
    "def _line_str(\n",
    "        key: str,\n",
    "        value: Union[str, list[str]],\n",
    "        enquote_entries_in_fields = list[str]):\n",
    "    \"\"\"This is a helper function for `dict_to_metadata_lines`.\"\"\"\n",
    "    list_value = value if isinstance(value, list) else [value]\n",
    "    escaped_strings_in_list_value = [\n",
    "        _enquote(str(single_value).replace('\\\\', '\\\\\\\\'))\n",
    "        if key in enquote_entries_in_fields else str(single_value)\n",
    "        for single_value in list_value\n",
    "        ]\n",
    "    if isinstance(value, list):\n",
    "        return f\"{key}: [{', '.join(escaped_strings_in_list_value)}]\"\n",
    "    else:\n",
    "        return f\"{key}: {escaped_strings_in_list_value[0]}\"\n",
    "\n",
    "# def _add_line_for_list(\n",
    "#         lines: list[str], key: str, list_value: list, enquote: bool):\n",
    "#     \"\"\"This is a helper function for `dict_to_metadata_lines`.\"\"\"\n",
    "#     escaped_strings_in_list_value = [\n",
    "#         _enquote(single_value.replace('\\\\', '\\\\\\\\'))\n",
    "#         if _list_string_for_yaml_metadata_needs_quotes(single_value) \n",
    "#         else single_value\n",
    "#         for single_value in list_value]\n",
    "#     lines.append(f\"{key}: [{', '.join(escaped_strings_in_list_value)}]\")\n",
    "\n",
    "# def _list_string_for_yaml_metadata_needs_quotes(single_value):\n",
    "#     return isinstance(single_value, str) and bool(re.compile(r'[\\\\\\{\\[\\|\\*]').match(single_value))"
   ]
  },
  {
   "cell_type": "code",
   "execution_count": null,
   "metadata": {},
   "outputs": [],
   "source": [
    "#| hide\n",
    "# assert not _list_string_for_yaml_metadata_needs_quotes('hi')\n",
    "# assert _list_string_for_yaml_metadata_needs_quotes('[T]')\n",
    "# assert _list_string_for_yaml_metadata_needs_quotes(r'\\\\begin{align*}')"
   ]
  },
  {
   "cell_type": "markdown",
   "metadata": {},
   "source": [
    "`dict_to_metadata_lines` takes a dictionary and converts it to a string usable as Obsidian Markdown frontmatter meta."
   ]
  },
  {
   "cell_type": "code",
   "execution_count": null,
   "metadata": {},
   "outputs": [],
   "source": [
    "sample_dict = OrderedDict([\n",
    "            ('cssclass', 'clean-embeds'),\n",
    "            ('aliases', []),\n",
    "            ('tags', ['_meta/literature_note', '_meta/research', '_meta/self_written'])])\n",
    "sample_output = dict_to_metadata_lines(sample_dict, [])\n",
    "test_eq(sample_output,\n",
    "    ['cssclass: clean-embeds', 'aliases: []', 'tags: [_meta/literature_note, _meta/research, _meta/self_written]'])\n",
    "\n",
    "# sample_lines = dict_to_metadata_lines(sample_dict)\n",
    "# sample_output = \n",
    "# print('\\n'.join(sample_lines))\n",
    "# assert sample_lines == sample_output\n"
   ]
  },
  {
   "cell_type": "markdown",
   "metadata": {},
   "source": [
    "We can specify entries of fields to be enquoted. This might be necessary if a string needs to be escaped (because it has a character such as the backslash `r'\\'`, the mid slash `r'|'`, a square bracket `r'['`, etc.). For example, if a field is expected to have LaTeX strings, then it is good practice to specify such strings to be enquoted:"
   ]
  },
  {
   "cell_type": "code",
   "execution_count": null,
   "metadata": {},
   "outputs": [],
   "source": [
    "sample_dict = OrderedDict([\n",
    "    ('latex_in_original', [r'\\\\mathscr{O}_{\\\\text {Proj } S_{*}}(n)'])\n",
    "])\n",
    "sample_output = dict_to_metadata_lines(sample_dict, enquote_entries_in_fields=['latex_in_original'])\n",
    "test_eq(sample_output, ['latex_in_original: [\"\\\\\\\\\\\\\\\\mathscr{O}_{\\\\\\\\\\\\\\\\text {Proj } S_{*}}(n)\"]'])\n",
    "\n",
    "# An example of an entry that is not a string\n",
    "sample_dict = OrderedDict([\n",
    "    ('latex_in_original', [1])\n",
    "])\n",
    "sample_output = dict_to_metadata_lines(sample_dict, enquote_entries_in_fields=['latex_in_original'])\n",
    "test_eq(sample_output, ['latex_in_original: [\"1\"]'])"
   ]
  },
  {
   "cell_type": "code",
   "execution_count": null,
   "metadata": {},
   "outputs": [],
   "source": [
    "#| hide\n",
    "# Make sure that quotation marks don't just disappear for no good reason in strings\n",
    "sample_dict = OrderedDict([\n",
    "    ('detect_regex', []),\n",
    "    ('latex_in_original', ['[T]']),\n",
    "    ('tags', ['_auto/notation_summary'])\n",
    "])\n",
    "sample_output = dict_to_metadata_lines(sample_dict, enquote_entries_in_fields=['latex_in_original'])\n",
    "assert 'latex_in_original: [\"[T]\"]' in sample_output\n",
    "\n",
    "sample_dict = OrderedDict([\n",
    "    ('detect_regex', []),\n",
    "    ('latex_in_original', ['|G|']),\n",
    "    ('tags', ['_auto/notation_summary'])\n",
    "])\n",
    "sample_output = dict_to_metadata_lines(sample_dict, enquote_entries_in_fields=['latex_in_original'])\n",
    "assert 'latex_in_original: [\"|G|\"]' in sample_output\n",
    "\n",
    "sample_dict = OrderedDict([\n",
    "    ('detect_regex', []),\n",
    "    ('latex_in_original', ['*']),\n",
    "    ('tags', ['_auto/notation_summary'])\n",
    "])\n",
    "sample_output = dict_to_metadata_lines(sample_dict, enquote_entries_in_fields=['latex_in_original'])\n",
    "assert 'latex_in_original: [\"*\"]' in sample_output\n",
    "\n",
    "sample_dict = OrderedDict([\n",
    "    ('detect_regex', []),\n",
    "    ('latex_in_original', ['[ Y(S)]']),\n",
    "    ('tags', ['_auto/notation_summary'])\n",
    "])\n",
    "sample_output = dict_to_metadata_lines(sample_dict, enquote_entries_in_fields=['latex_in_original'])\n",
    "assert 'latex_in_original: [\"[ Y(S)]\"]' in sample_output"
   ]
  },
  {
   "cell_type": "code",
   "execution_count": null,
   "metadata": {},
   "outputs": [],
   "source": [
    "#| export\n",
    "# TODO: apply this function to the MarkdownFile.metadata function and the MarkdownFile.write function\n",
    "def parse_metadata_string(\n",
    "        metadata_str: str, # The string for YAML frontmatter metadata of an Obsidian Markdown note\n",
    "        raise_error: bool = True, # If `True`, then raise an Error.\n",
    "        raise_warning: bool = True # If `raise_error` is false and `raise_warning` is `True`, then raise a warning message.\n",
    "        ) -> Union[dict[str], None]: # The keys are `str` of the labels/names of the metadata. The values are the metadata, which are usually `str` or `list`. If the YAML metadata string cannot be parsed, then this return value is `None`.\n",
    "    \"\"\"\n",
    "    Attempt to parse the string for YAML frontmatter metadata of an\n",
    "    Obsidian Markdown note.\n",
    "\n",
    "    **Raises**\n",
    "\n",
    "    - ValueError\n",
    "        - If `raise_error` is `True` and if any `yaml.YAMLError` exceptions\n",
    "        are raised when reading (i.e. parsing or scanning the YAML metadata.\n",
    "        In doing so, `metadata_str` is printed. Moreover,\n",
    "        the appropriate `yaml.YAMLError` (e.g. a `yaml.parser.ParserError`,\n",
    "        `yaml.scanner.ScannerError`, or `yaml.reader.ReaderError`) is also raised.\n",
    "    - Warning\n",
    "        - If `raise_error` is `False` and `raise_warning` is `True` and if any\n",
    "        `yaml.YAMLError` exceptions are raise when reading.\n",
    "    \"\"\"\n",
    "    try:\n",
    "        return yaml.safe_load(metadata_str)\n",
    "    except (yaml.YAMLError) as e:\n",
    "        if raise_error:\n",
    "            raise ValueError(\n",
    "                \"The following YAML frontmatter metadata string cannot be parsed:\\n\"\n",
    "                f\"{metadata_str}\\n\\n\") from e\n",
    "        elif raise_warning:\n",
    "            warnings.warn(\n",
    "                \"The following YAML frontmatter metadata string cannot be parsed:\\n\"\n",
    "                f\"{metadata_str}\\n\\n\")"
   ]
  },
  {
   "cell_type": "markdown",
   "metadata": {},
   "source": [
    "The `parse_metadata_string` function attempts to parse the string for YAML frontmatter metadata of an Obsidian Markdown note. If the argument can be parsed via the `yaml.safe_load` function, then the output of the `yaml.safe_load` invocation is returned:"
   ]
  },
  {
   "cell_type": "code",
   "execution_count": null,
   "metadata": {},
   "outputs": [],
   "source": [
    "good_metadata_str = r\"\"\"\n",
    "field: [hi, bye]\n",
    "fieldy: ooh\n",
    "\"\"\"\n",
    "\n",
    "metadata_output = parse_metadata_string(good_metadata_str)\n",
    "assert type(metadata_output) == dict\n",
    "test_eq(metadata_output, {'field': ['hi', 'bye'], 'fieldy': 'ooh'})"
   ]
  },
  {
   "cell_type": "markdown",
   "metadata": {},
   "source": [
    "If the YAML frontmatter metadata string cannot be parsed, by the `yaml.safe_load` function, then an error or a warning can be optionally raised. If `raise_error` is `False`, then `parse_metadata_string` returns `None`."
   ]
  },
  {
   "cell_type": "code",
   "execution_count": null,
   "metadata": {},
   "outputs": [],
   "source": [
    "bad_metadata_str = \"some_metadata_field: [\\badly_formatted_string]\"  # ReaderError\n",
    "with (ExceptionExpected(ValueError)):\n",
    "    metadata_output = parse_metadata_string(bad_metadata_str, raise_error=True)\n",
    "# bad_metadata_str = \"field: field2:\" # ScannerError\n",
    "\n",
    "test_warns(lambda: parse_metadata_string(bad_metadata_str, raise_error=False, raise_warning=True))\n",
    "\n",
    "metadata_output = parse_metadata_string(bad_metadata_str, raise_error=False, raise_warning=False)\n",
    "test_eq(metadata_output, None)"
   ]
  },
  {
   "cell_type": "code",
   "execution_count": null,
   "metadata": {},
   "outputs": [
    {
     "data": {
      "text/plain": [
       "\"{latex_from_original: ['[t]', hi]}\\n\""
      ]
     },
     "execution_count": null,
     "metadata": {},
     "output_type": "execute_result"
    }
   ],
   "source": [
    "yaml_string = 'latex_from_original: [\"[t]\", \"hi\"]'\n",
    "data = yaml.safe_load(yaml_string)\n",
    "yaml.dump(data, default_flow_style=True)"
   ]
  },
  {
   "cell_type": "code",
   "execution_count": null,
   "metadata": {},
   "outputs": [],
   "source": []
  },
  {
   "cell_type": "code",
   "execution_count": null,
   "metadata": {},
   "outputs": [
    {
     "data": {
      "text/plain": [
       "'\\\\begin{align*}  \\\\end{align*}\\n...\\n'"
      ]
     },
     "execution_count": null,
     "metadata": {},
     "output_type": "execute_result"
    }
   ],
   "source": [
    "yaml.dump(r'\\begin{align*}  \\end{align*}')\n"
   ]
  },
  {
   "cell_type": "code",
   "execution_count": null,
   "metadata": {},
   "outputs": [
    {
     "data": {
      "text/plain": [
       "\"'[t]'\\n\""
      ]
     },
     "execution_count": null,
     "metadata": {},
     "output_type": "execute_result"
    }
   ],
   "source": [
    "yaml.dump('[t]')"
   ]
  },
  {
   "cell_type": "code",
   "execution_count": null,
   "metadata": {},
   "outputs": [],
   "source": []
  },
  {
   "cell_type": "code",
   "execution_count": null,
   "metadata": {},
   "outputs": [],
   "source": []
  },
  {
   "cell_type": "markdown",
   "metadata": {},
   "source": [
    "## Replace embedded links with text"
   ]
  },
  {
   "cell_type": "code",
   "execution_count": null,
   "metadata": {},
   "outputs": [],
   "source": [
    "#| export\n",
    "def replace_embedded_links_with_text(\n",
    "        text: str, vault: PathLike) -> str:\n",
    "    \"\"\"\n",
    "    Return the text with all embedded links replaced with the\n",
    "    text of the corresponding notes\n",
    "    \n",
    "    Assumes that the notes of the links exist in the vault and \n",
    "    have unique names in the vault. Note that embedded links are\n",
    "    not always to notes (e.g. they can point to images), or even\n",
    "    to existing notes. In such cases, the embedded link will be\n",
    "    replaced with blank text.\n",
    "    \"\"\"\n",
    "    \n",
    "    embedded_links = find_regex_in_text(text, EMBEDDED_PATTERN)\n",
    "    for start, end in reversed(embedded_links):\n",
    "        link = text[start:end]\n",
    "        link_object = ObsidianLink.from_text(link)\n",
    "        try:\n",
    "            vn = VaultNote(vault, name=link_object.file_name, update_cache=False)\n",
    "            replace = vn.text()\n",
    "            #mf = MarkdownFile.from_vault_note(vn)\n",
    "            #replace = str(mf)\n",
    "        except NoteDoesNotExistError:\n",
    "            replace = ''\n",
    "        text = text[:start] + replace + text[end:]\n",
    "    return text"
   ]
  },
  {
   "cell_type": "markdown",
   "metadata": {},
   "source": [
    "## MarkdownFile class"
   ]
  },
  {
   "cell_type": "code",
   "execution_count": null,
   "metadata": {},
   "outputs": [],
   "source": [
    "#| export\n",
    "class MarkdownLineEnum(Enum):\n",
    "    # See https://www.markdownguide.org/basic-syntax/\n",
    "    DEFAULT = 0\n",
    "    HEADING = 1\n",
    "    CODE_BLOCK = 2\n",
    "    META = 3\n",
    "    ORDERED_LIST = 4\n",
    "    UNORDERED_LIST = 5\n",
    "    BLOCKQUOTE = 6\n",
    "    HORIZONTAL_RULE = 7\n",
    "    COMMENT = 8\n",
    "    BLANK_LINE = 9\n",
    "    UNKNOWN = 10\n",
    "    FOOTNOTE_DESCRIPTION = 11\n",
    "    DISPLAY_LATEX_SINGLE = 12  # A single-line DISPLAY latex\n",
    "    DISPLAY_LATEX_START = 13  # Start line of DISPLAY latex\n",
    "    DISPLAY_LATEX_END = 14  # End line of DISPLAY latex\n",
    "    DISPLAY_LATEX = 15  # All other DISPLAY latex lines"
   ]
  },
  {
   "cell_type": "markdown",
   "metadata": {},
   "source": [
    "The following are the members of the `MarkdownLineEnum` class:"
   ]
  },
  {
   "cell_type": "code",
   "execution_count": null,
   "metadata": {},
   "outputs": [
    {
     "name": "stdout",
     "output_type": "stream",
     "text": [
      "DEFAULT\n",
      "HEADING\n",
      "CODE_BLOCK\n",
      "META\n",
      "ORDERED_LIST\n",
      "UNORDERED_LIST\n",
      "BLOCKQUOTE\n",
      "HORIZONTAL_RULE\n",
      "COMMENT\n",
      "BLANK_LINE\n",
      "UNKNOWN\n",
      "FOOTNOTE_DESCRIPTION\n",
      "DISPLAY_LATEX_SINGLE\n",
      "DISPLAY_LATEX_START\n",
      "DISPLAY_LATEX_END\n",
      "DISPLAY_LATEX\n"
     ]
    }
   ],
   "source": [
    "for line_type in MarkdownLineEnum:\n",
    "    print(line_type.name)"
   ]
  },
  {
   "cell_type": "code",
   "execution_count": null,
   "metadata": {},
   "outputs": [],
   "source": [
    "#| export\n",
    "class MarkdownFile:\n",
    "    r\"\"\"\n",
    "    Parses and represents the contents of an Obsidian styled Markdown\n",
    "    file.\n",
    "\n",
    "    The Markdown file must be formatted in certain ways. In general, \n",
    "    text components of different types (see `MarkdownLineEnum`) must\n",
    "    be on different lines - no text components of different types may\n",
    "    occupy the same line. In particular,\n",
    "\n",
    "    - Comments (surrounded by `%%`) must not be on the same line as\n",
    "    non-comments.\n",
    "    - Display math mode LaTeX (surrounded by `$$`) must not be on the same line\n",
    "    as non-In line LaTeX.\n",
    "\n",
    "    **Attributes**\n",
    "\n",
    "    - text - str\n",
    "    - parts - list[dict[str, Union[MarkdownLineEnum, str]]]\n",
    "        - Represents the lines of the markdown file.\n",
    "        Each dict has two keys, `'type'` and `'line'`, which respectively\n",
    "        hold a `MarkdownLineEnum` and a `str` as values. While a value\n",
    "        of `'line'` may have new line characters `'\\n'`, it does not\n",
    "        need to --- more specifically, the `__str__` method (and the\n",
    "        `text_of_lines` method) adds new line characters `'\\n'` in\n",
    "        between lines.\n",
    "    \"\"\"\n",
    "    \n",
    "    def __init__(self, parts: list[dict[str, Union[MarkdownLineEnum, str]]]):\n",
    "        # self.text = text\n",
    "        self.parts = parts\n",
    "\n",
    "    def __str__(self):\n",
    "        \"\"\"Return the text representation of the `MarkdownFile` object\"\"\"\n",
    "        return self.text_of_lines(0, len(self.parts))\n",
    "\n",
    "    def text_of_lines(\n",
    "            self,\n",
    "            start: int,\n",
    "            end: int\n",
    "            ) -> str:\n",
    "        \"\"\"Return the text of `self.parts[start:end]`,\n",
    "        adding new line characters `'\\n'` in between. \"\"\"\n",
    "        return '\\n'.join([\n",
    "            line_dict['line'] for line_dict in self.parts[start:end]])\n",
    "\n",
    "    def get_headings(\n",
    "            self,\n",
    "            levels: Union[int, Iterator[int], None] = None, # The levels of the headings to search for. Each int is between 1 and 6 inclusive, as each heading can be of levels 1 to 6. Defaults to `None`, in which case all heading-levels are searched.\n",
    "            include_start: bool = True # If `True` and if this object contains text that is not under a heading (i.e. the text does not start with a heading), then include `-1` as a key with the empty str as value.\n",
    "            ) -> list[str]: # Each str is the heading, including leading sharps `'#'`.\n",
    "        \"\"\"\n",
    "        Return a list of heading titles in the markdown file.\n",
    "        \"\"\"\n",
    "        line_dict = self.get_headings_by_line_number(\n",
    "            levels, include_start=include_start)\n",
    "        return list(line_dict.values())\n",
    "\n",
    "    def get_headings_by_line_number(\n",
    "            self,\n",
    "            levels: Union[Iterator[int], int, None] = None, # The levels of the headings to search for. Each int is between 1 and 6 inclusive, as each heading can be of levels 1 to 6. If `None` then all heading-levels are searched.\n",
    "            include_start: bool = True # If `True` and if this object contains text that is not under a heading (i.e. the text does not start with a heading), then include `-1` as a key with the empty str as value.\n",
    "            ) -> dict[int, str]: # The keys are line numbers and each value is str is the heading string, including the leading sharps `'#'`, but without any leading or trailing whitespace characters.\n",
    "        \"\"\"\n",
    "        Return a dict of heading titles in the markdown file.\n",
    "        \"\"\"\n",
    "        if not levels:\n",
    "            levels = []\n",
    "        elif type(levels) is int:\n",
    "            levels = (levels,)\n",
    "        line_numbers = [i for i, line_dict in enumerate(self.parts)\n",
    "                        if line_dict['type'] is MarkdownLineEnum.HEADING]\n",
    "        extract = {line_number: self.parts[line_number] \n",
    "                   for line_number in line_numbers}\n",
    "        headings = {line_number: line_dict['line'].strip()\n",
    "                    for line_number, line_dict in extract.items()\n",
    "                    if (not(levels) \n",
    "                        or heading_level(line_dict['line']) in levels)}\n",
    "        if include_start and 0 not in headings:\n",
    "            headings[-1] = ''\n",
    "        return headings\n",
    "    \n",
    "    def get_headings_and_text(\n",
    "            self,\n",
    "            levels: Union[Iterator[int], int, None] = None, # The levels of the headings to search for. Each int is between 1 and 6 inclusive, as each heading can be of levels 1 to 6. If `None`, then all heading-levels are searched.\n",
    "            include_start: bool = True # If `True` and if this object contains text that is not under a heading (i.e. the text does not start with a heading), then include `-1` as a key with the empty str as value.        \n",
    "            ) -> dict[str, str]: # Each key is the entire str of the heading, including the leading sharps `'#'`, but not including leading or trailing whitespace characters Each value is the str under that heading until the next heading, including at trailing next line characters `\\n`.  If `include_start` is `True`, then one of the keys is the empty str and the corresponding value is the start of the text that is not under any heading.\n",
    "        # TODO I think there is a bug, e.g. when all headers are level 1 and \n",
    "        # level = 2, include_start = True, everything is treated like the start.\n",
    "        \"\"\"\n",
    "        Return a list of headings and the text under each heading.\n",
    "        \n",
    "        The text under each heading does not include the text of\n",
    "        subheadings.\n",
    "\n",
    "        \"\"\"\n",
    "        headings_by_lines = self.get_headings_by_line_number(levels, include_start)\n",
    "        line_numbers = [num for num in headings_by_lines]\n",
    "        line_numbers.append(len(self.parts))\n",
    "        line_numbers.sort()\n",
    "        heading_dict = {}\n",
    "        # previous_header_line_num = -1\n",
    "        previous_header_line_num = -1 if include_start else line_numbers[0]\n",
    "        for i, header_line_num in enumerate(line_numbers):\n",
    "            lines = self.parts[previous_header_line_num+1:header_line_num]\n",
    "            lines = [line_dict['line'] for line_dict in lines]\n",
    "            heading = headings_by_lines.get(previous_header_line_num, '')\n",
    "            previous_header_line_num = header_line_num\n",
    "            heading_dict[heading] = '\\n'.join(lines)\n",
    "        return heading_dict\n",
    "    \n",
    "    def get_headings_tree(\n",
    "            self\n",
    "            ) -> dict[Union[str, int], Union[str, dict]]: # The keys are 1. line numbers or 2. the str `'title'`.  The values are dict or str (the blank str if root node) respectively. The dicts in themselves recursively represent trees and the str are headings, including the leading sharps.\n",
    "        \"\"\"Return a dict representing the tree of headings in the markdown file.\n",
    "\n",
    "        **Returns**\n",
    "\n",
    "        - dict[Union[str, int], Union[str, dict]]\n",
    "            - The keys are 1. line numbers or 2. the str `'title'`.  The values\n",
    "            are dict or str (the blank str if root node) respectively. The\n",
    "            dicts in themselves recursively represent trees and the str are\n",
    "            headings, including the leading sharps. In particular, the root\n",
    "            level dict also has the blank string `''` associated to the key\n",
    "            `'title'`.\n",
    "        \"\"\"\n",
    "        headings_dict = self.get_headings_by_line_number(include_start=False)\n",
    "        root_dict = {'title': ''}\n",
    "        dict_stack = [root_dict]\n",
    "        current_level = 0\n",
    "        # Go through each heading, and figure out where it should\n",
    "        # be added.\n",
    "        for line_number, heading in headings_dict.items():\n",
    "            new_dict = {'title': heading}\n",
    "            while (heading_level(dict_stack[-1]['title'])\n",
    "                   >= heading_level(heading)):\n",
    "                dict_stack.pop()\n",
    "            dict_stack[-1][line_number] = new_dict\n",
    "            dict_stack.append(new_dict)\n",
    "            current_level = heading_level(heading)\n",
    "        return root_dict\n",
    "                \n",
    "    \n",
    "    def get_line_number_of_heading(\n",
    "            self,\n",
    "            title: Union[str, None] = None, # Title of the heading. Does not include the leading sharps (`'#'`). If `None`, then return the line number of any heading after the specified line number.\n",
    "            from_line: int = 0, # The line number to start searching for the heading with `title` from.\n",
    "            levels: Union[Iterator[int], int, None] = None # The levels of the heading to search for. Each int is between 1 and 6 inclusive, as each heading can be of levels 1 to 6. If `None`, then all heading-levels are searched.\n",
    "            ) -> int: # An index in `self.parts`. If no index/line number of the matching heading exists, then return -1.\n",
    "        \"\"\"\n",
    "        Return the line number of the heading with the specified\n",
    "        title after the specified line number.\n",
    "        \"\"\"\n",
    "        if type(levels) is int:\n",
    "            levels = (levels,)\n",
    "        heading_satisfies = lambda x: (\n",
    "            x['type'] is MarkdownLineEnum.HEADING\n",
    "            and (levels is None or heading_level(x['line']) in levels)\n",
    "            and (title is None or heading_title(x['line']) == title))\n",
    "        return next((i for i in range(from_line, len(self.parts))\n",
    "                     if heading_satisfies(self.parts[i])), -1)\n",
    "    \n",
    "    def get_line_numbers_under_heading(\n",
    "            self,\n",
    "            title: Union[str, None] = None, # Title of the heading. Does not include the leading sharps (`'#'`). If `None`, then return the line number of any heading after the specified line number.\n",
    "            from_line: int = 0, # The line number to start searching for the heading with `title` from.\n",
    "            levels: Union[Iterator[int], int, None] = None, # The levels of the heading to search for. Each int is between 1 and 6 inclusive, as each heading can be of levels 1 to 6. If `None`, then all heading-levels are searched.\n",
    "            include_subheadings: bool = True # If `True`, then include the subheadings.\n",
    "            ) -> Union[tuple[int], int]: # `(start, end)` where `self.parts[start:end]` represents the parts under the heading, including the start of the heading.  If the heading of the specified title does not exist, then returns -1.\n",
    "        \"\"\"\n",
    "        Return the line numbers belonging to the heading.\n",
    "        \"\"\"\n",
    "        # TODO: implement from_line, levels and then test\n",
    "        start_line = self.get_line_number_of_heading(title)\n",
    "        if start_line == -1:\n",
    "            return -1\n",
    "        level = heading_level(self.parts[start_line]['line'])\n",
    "        if include_subheadings:\n",
    "            levels_to_search = range(1, level+1)\n",
    "        else:\n",
    "            levels_to_search = None\n",
    "        headings_and_lines = self.get_headings_by_line_number(\n",
    "            levels=levels_to_search)\n",
    "        lines_with_headings = list(headings_and_lines)\n",
    "        lines_with_headings.sort()\n",
    "        index_of_start = lines_with_headings.index(start_line)\n",
    "        if len(lines_with_headings) - 1 >= index_of_start + 1:\n",
    "            end_line = lines_with_headings[index_of_start + 1]\n",
    "        else:\n",
    "            end_line = len(self.parts)\n",
    "        return (start_line, end_line)\n",
    "\n",
    "    def write(\n",
    "        self,\n",
    "        vn: VaultNote, # Represents the file.\n",
    "        mode: str = 'w', # The specific mode to write the file with.\n",
    "        # enquote_entries_in_metadata_fields: list[str] = [] # A list of str of fields in the YAML metadata whose entries need to be enquoted. If there is a string that is not a key of `new_metadata`, then that string is essentially ignored (in particular, no errors are raised).\n",
    "        ) -> None:\n",
    "        \"\"\"\n",
    "        Write to the file specified by a `VaultNote` object.\n",
    "\n",
    "        If the file that the `VaultNote` object represents does not exist,\n",
    "        then this method creates it.\n",
    "        \"\"\"\n",
    "        if not vn.exists():\n",
    "            vn.create()\n",
    "        # if enquote_entries_in_metadata_fields:\n",
    "        #     self.replace_metadata(\n",
    "        #         self.metadata(), enquote_entries_in_metadata_fields)\n",
    "        with open(vn.path(), mode, encoding='utf-8') as file:\n",
    "            file.write(str(self))\n",
    "            file.close()\n",
    "            \n",
    "    def insert_line(\n",
    "            self,\n",
    "            index: int, # The index at which to add `line_dict` into `self.parts`.\n",
    "            line_dict: dict[str, Union[MarkdownLineEnum, str]] # See `self.parts`.\n",
    "            ) -> None:\n",
    "        \"\"\"Add a line at the specified index/line number to `self.parts`.\"\"\"\n",
    "        self.parts.insert(index, line_dict)\n",
    "        \n",
    "    def remove_line(\n",
    "            self,\n",
    "            index: int = -1 # The index of the line to remove from `self.parts`.\n",
    "            ) -> None:\n",
    "        \"\"\"Remove a line from `self.parts`.\"\"\"\n",
    "        del self.parts[index]\n",
    "        \n",
    "    def remove_lines(\n",
    "            self,\n",
    "            start: int, # The index of the first line to remove from `self.parts`.\n",
    "            end: int # The end index to remove; the line of index `end` is not removed, but the line of index `end - ` is.\n",
    "            ) -> None:\n",
    "        \"\"\"Remove lines from `self.parts`.\"\"\"\n",
    "        del self.parts[start:end]\n",
    "        \n",
    "    def pop_line(\n",
    "            self,\n",
    "            index: int = -1 # The index of the line to pop from `self.parts`.\n",
    "            ) -> dict[str, Union[MarkdownLineEnum, str]]: # The popped line\n",
    "        \"\"\"Remove a line from `self.parts` and get its value.\"\"\"\n",
    "        return self.parts.pop(index)\n",
    "        \n",
    "    def add_line_to_end(\n",
    "            self,\n",
    "            line_dict: dict[str, Union[MarkdownLineEnum, str]] # See `self.parts`.\n",
    "            ) -> None:\n",
    "        \"\"\"Add a line to the end of `self.parts`.\"\"\"\n",
    "        self.parts.append(line_dict)\n",
    "        \n",
    "    def add_blank_line_to_end(self) -> None:\n",
    "        \"\"\"Add a blank line to the end of `self.parts`.\"\"\"\n",
    "        # TODO: Should the blank line be '\\n' or ''?\n",
    "        self.add_line_to_end(\n",
    "            {'type': MarkdownLineEnum.BLANK_LINE, 'line': '\\n'})\n",
    "        \n",
    "    def add_line_in_section(\n",
    "            self,\n",
    "            title: str, # Title of the heading (without the leading sharps `'#'`)\n",
    "            line_dict: dict[str, Union[MarkdownLineEnum, str]], # The line to add\n",
    "            start: bool = True # If `True`, add to the start of the section. If `False`, add to the end of the section.\n",
    "            ) -> None:\n",
    "        # TODO start=False is not implemented. \n",
    "        # TODO Be able to tell what the inserted line's type is.\n",
    "        # TODO This seems to work incorrectly if there are no lines\n",
    "        # after a header.\n",
    "        \"\"\"Add a line in section specified by its title.\"\"\"\n",
    "        line_number = self.get_line_number_of_heading(title=title)\n",
    "        self.insert_line(line_number + 1, line_dict)\n",
    "     \n",
    "    def remove_section(\n",
    "            self,\n",
    "            title: str # The title of the section to remove (without the starting `'#'`'s)\n",
    "            ) -> None:\n",
    "        \"\"\"\n",
    "        Remove the section with the specified title, including subsections,\n",
    "        if the section exists.\n",
    "        \"\"\"\n",
    "        section_line = self.get_line_number_of_heading(title=title)\n",
    "        if section_line == -1:\n",
    "            return\n",
    "        level = heading_level(self.parts[section_line]['line'])\n",
    "        big_level_lines = self.get_headings_by_line_number(range(1, level+1))\n",
    "        line_numbers = [line_num for line_num in big_level_lines]\n",
    "        line_numbers.sort()\n",
    "        i = line_numbers.index(section_line) + 1\n",
    "        next_section_line = (\n",
    "            line_numbers[i] if i < len(line_numbers) else len(self.parts))\n",
    "        self.remove_lines(section_line, next_section_line)\n",
    "        \n",
    "    \n",
    "    def clear_section(\n",
    "            self,\n",
    "            title: str, # Title of the section (Without the leading sharps `'#'`)\n",
    "            leave_blank_line: bool = True, # If `True`, leaves a blank line at the end of the section.\n",
    "            clear_subsections: Optional[str] = None # `'clear'`, `'delete'`, or `None`. If `'clear'`, then just clears the contents of subsections, but does not affect the headers. If `'delete'`, then clears the contents of the subsections and deletes the headers. If `None`, then does not affect either. \n",
    "            ) -> None:\n",
    "        # TODO: implement clear_subsections\n",
    "        \"\"\"\n",
    "        Clear the section with the specified title, if it exists.\n",
    "        \n",
    "        Does not clear subsections.\n",
    "        \"\"\"\n",
    "        section_line = self.get_line_number_of_heading(title=title)\n",
    "        if section_line == -1:\n",
    "            return\n",
    "        next_section_line = self.get_line_number_of_heading(\n",
    "            from_line=section_line+1)\n",
    "        if next_section_line == -1:\n",
    "            next_section_line = len(self.parts)\n",
    "        self.parts = self.parts[:section_line+1] + self.parts[next_section_line:]\n",
    "        if leave_blank_line:\n",
    "            self.insert_line(\n",
    "                section_line + 1,\n",
    "                {'type': MarkdownLineEnum.BLANK_LINE, 'line': ''})\n",
    "\n",
    "    def clear_all_sections(\n",
    "            self,\n",
    "            leave_blank_lines: bool = True\n",
    "            # If True, leaves a blank line in each section\n",
    "            ) -> None:\n",
    "        \"\"\"\n",
    "        Clear all sections.\n",
    "        \n",
    "        Does not clear frontmatter metadata. Leaves all headers intact.\n",
    "        \"\"\"\n",
    "        part_indices_to_remove = [\n",
    "            i for (i, part) in enumerate(self.parts)\n",
    "            if (part['type'] not in [MarkdownLineEnum.META,\n",
    "                                     MarkdownLineEnum.HEADING])]\n",
    "        for index_to_remove in reversed(part_indices_to_remove):\n",
    "            self.remove_line(index_to_remove)\n",
    "        \n",
    "    def metadata_parts(\n",
    "            self\n",
    "            ) -> list[str]: # Each str is a 'line' from `self.parts` from the frontmatter YAML metadata.\n",
    "        # TODO: test\n",
    "        \"\"\"\n",
    "        Return the sublist from `self.parts` consisting of the parts\n",
    "        that are of the frontmatter yaml metadata.\n",
    "        \"\"\"\n",
    "        return [part['line'] for part in self.parts \n",
    "                if part['type'] == MarkdownLineEnum.META]\n",
    "    \n",
    "    def metadata(\n",
    "            self\n",
    "            ) -> Union[dict[str], None]: # The keys are `str` of the labels/names of the metadata. The values are the metadata, which are usually `str` or `list`. If there is not frontmatter YAML metadata, then this return value is `None`.\n",
    "        # TODO: change the Exception to some kind of yaml format exception.\n",
    "        \"\"\"\n",
    "        Return the frontmatter metadata as a dict.\n",
    "\n",
    "        Writing the metadata read with this function can be faulty if\n",
    "        the metadata attempts to escape characters that cannot be read by\n",
    "        YAML; the escapes are not preserved upon writing.\n",
    "\n",
    "        **Raises**\n",
    "\n",
    "        - ValueError\n",
    "            - If any exceptions are raised when reading (i.e. parsing or scanning\n",
    "            the YAML metadata. In doing so, `str(self)` is printed. Moreover,\n",
    "            the appropriate `yaml.parser.ParserError`, `yaml.scanner.ScannerError`,\n",
    "            or `yaml.reader.ReaderError` is also raised.\n",
    "        \"\"\"\n",
    "        md_parts = self.metadata_parts()\n",
    "        return parse_metadata_string('\\n'.join(md_parts[1:-1]))\n",
    "        # try:\n",
    "        #     return yaml.safe_load('\\n'.join(md_parts[1:-1]))\n",
    "        # except (yaml.YAMLError) as e:\n",
    "        #     raise ValueError(\n",
    "        #         \"There is invalid YAML formatting in a MarkdownFile object.\"\n",
    "        #         \" The following is its text:\\n\"\n",
    "        #         f\"{str(self)}\\n\\n\") from e\n",
    "        # try:\n",
    "        #     return ruamel.yaml.load()\n",
    "            \n",
    "    def has_metadata(self) -> bool:\n",
    "        \"\"\"\n",
    "        Return `True` if this `MarkdownFile` object has fronmatter\n",
    "        YAML metadata.\n",
    "\n",
    "        If the `MarkdownFile` object has any frontmatter YAML metadata, then\n",
    "        it is expected to be at the very start; in particular, it must not\n",
    "        be preceded by any whitespace characters.\n",
    "        \"\"\"\n",
    "        return (self.parts \n",
    "                and self.parts[0]['type'] == MarkdownLineEnum.META)\n",
    "\n",
    "    def add_metadata_section(\n",
    "            self,\n",
    "            check_exists: bool = True # If `True`, Check if there is already a metadata section at the beginning and do not add a metadata section if it exists.\n",
    "            ) -> None:\n",
    "        \"\"\"Add a frontmatter YAML metadata at the very beginning.\"\"\"\n",
    "        if check_exists and self.has_metadata():\n",
    "            return\n",
    "        default_meta = [{'type': MarkdownLineEnum.META, 'line': '---\\n'},\n",
    "                        {'type': MarkdownLineEnum.META, 'line': '---\\n'}]\n",
    "        self.parts = default_meta + self.parts\n",
    "\n",
    "    def metadata_lines(\n",
    "            self\n",
    "            ) -> tuple[int]: # The tuple consists of 2 ints, `a` and `b`, where `self.parts[a:b+1]` represent the metadata lines, including the `'---'` before and after.\n",
    "        # TODO: change the index conventions of the output so that\n",
    "        # [a:b] is the parts\n",
    "        \"\"\"\n",
    "        Return the indices in `self.parts` which are metadata.\n",
    "        \n",
    "        Assumes that `self.parts` is nonempty. \n",
    "\n",
    "        If the MarkdownFile object has any frontmatter YAML metadata, then\n",
    "        it is expected to be at the very start; in particular, it must not\n",
    "        be preceded by any whitespace characters.\n",
    "        \n",
    "        **Returns**\n",
    "         \n",
    "        - tuple\n",
    "            - The tuple consists of 2 ints, `a` and `b`, where `self.parts[a:b+1]`\n",
    "            represent the metadata lines, including the `'---'` before and after.\n",
    "        \"\"\"\n",
    "        for i, part in enumerate(self.parts):\n",
    "            if part['type'] == MarkdownLineEnum.META:\n",
    "                start = i\n",
    "                break\n",
    "        for j in range(i+1, len(self.parts)):\n",
    "            if self.parts[j]['type'] != MarkdownLineEnum.META:\n",
    "                end = j-1\n",
    "                break\n",
    "        return (start, end)\n",
    "        \n",
    "    def replace_metadata(\n",
    "            self,\n",
    "            new_metadata: dict[str], # The dictionary representing the new metadata. The keys are the names of fields. The values are the field values, usually expected to be a single string or a list of strings\n",
    "            enquote_entries_in_fields: list[str] = [] # A list of str of fields in the YAML metadata whose entries need to be enquoted. If there is a string that is not a key of `new_metadata`, then that string is essentially ignored (in particular, no errors are raised).\n",
    "        ) -> None:\n",
    "        \"\"\"\n",
    "        Replace the frontmatter metadata of this MarkdownFile object.\n",
    "        \n",
    "        Optionally also enquotes string entries in fields specified by\n",
    "        `enquote_entries_in_fields`.\n",
    "\n",
    "        **Warning**\n",
    "        - This method is only tested when the values of `new_metadata` are either `str` or\n",
    "        `list[str]`.\n",
    "        \"\"\"\n",
    "        lines = dict_to_metadata_lines(new_metadata, enquote_entries_in_fields)\n",
    "        new_metadata_parts = [{'type': MarkdownLineEnum.META, 'line': line}\n",
    "                              for line in lines]\n",
    "        new_metadata_parts.insert(0, {'type': MarkdownLineEnum.META, 'line': '---'})\n",
    "        new_metadata_parts.append({'type': MarkdownLineEnum.META, 'line': '---'})\n",
    "        start, end = self.metadata_lines()\n",
    "        self.parts = self.parts[:max(0,start-1)] + new_metadata_parts\\\n",
    "            + self.parts[end+1:]\n",
    "    \n",
    "    def remove_metadata(self) -> None:\n",
    "        \"\"\"Remove the frontmatter metadata of this MarkdownFile object.\"\"\"\n",
    "        self.parts = [part for part in self.parts \n",
    "                      if part['type'] != MarkdownLineEnum.META]\n",
    "    \n",
    "    def has_tag(\n",
    "            self,\n",
    "            tag: str # The tag. Does not start with the hashtag `'#'`.\n",
    "            ) -> bool:\n",
    "        \"\"\"\n",
    "        Return `True` if the Markdown file has the specified tag in its\n",
    "        YAML frontmatter metadata.\n",
    "\n",
    "        More specifically, return `True` if the `MarkdownFile` objeect\n",
    "\n",
    "        1. has YAML frontmatter metadata,\n",
    "        2. the metadata has a `'tags'` section,, and\n",
    "        3. the `'tags'` section is a list with the specified tag.\n",
    "\n",
    "        Note that `tag` should not start with the hashtag `#` charater.\n",
    "        \"\"\"\n",
    "        if not self.has_metadata():\n",
    "            return False\n",
    "        metadata = self.metadata()\n",
    "        return (bool(metadata) and 'tags' in metadata\n",
    "                and tag in metadata['tags'])\n",
    "    \n",
    "    def add_tags(\n",
    "            self,\n",
    "            tags: Union[str, list[str]], # The str representing the tags. May or may not start with `'#'`, e.g. `'#_meta/definition'` or `'_meta/definition'`.\n",
    "            skip_repeats: bool = True, # If `True`, then this MarkdownFile will just have unique tags; merges pre-existing repeated tags if necessary. Also, the order of the tags may be changed.\n",
    "            skip_repeated_auto: bool = True, # If `True`, then only add tags starting with '_auto/' if the corresponding non-auto tag does not exist, e.g.  '_auto/_meta/definition' is not added if the note already has '_meta/definition'.\n",
    "            enquote_entries_in_metadata_fields: list[str] = [] # A list of str of fields in the YAML metadata whose entries need to be enquoted. If there is a string that is not a key of `new_metadata`, then that string is essentially ignored (in particular, no errors are raised).\n",
    "            ) -> None:\n",
    "        \"\"\"\n",
    "        Add tags to the frontmatter metadata.\n",
    "        \n",
    "        The order of the tags may be changed.\n",
    "\n",
    "        Ultimately the `replace_metadata` method is used to modify the YAML metadata.\n",
    "        Use the `enquote_entries_in_metadata_fields` parameter to ensure that the\n",
    "        `replace_metadata` invocation preserves enquoted metadata values. \n",
    "\n",
    "        \"\"\"\n",
    "        if isinstance(tags, str):\n",
    "            tags = [tags]\n",
    "        self.add_metadata_section(check_exists=True)\n",
    "        metadata = self.metadata()\n",
    "        if not metadata:\n",
    "            metadata = {}\n",
    "        if not 'tags' in metadata:\n",
    "            metadata['tags'] = []\n",
    "\n",
    "        tags = [tag[1:] if tag.startswith('#') else tag for tag in tags]\n",
    "        if skip_repeated_auto:\n",
    "            tags = [tag for tag in tags \n",
    "                    if (not tag_is_auto_tag(tag) \n",
    "                        or strip_auto_from_tag(\n",
    "                            tag, with_hash_tag=False) not in metadata['tags'])]\n",
    "        if skip_repeats:\n",
    "            set_of_tags = set(metadata['tags']) | set(tags)\n",
    "            metadata['tags'] = list(set_of_tags)\n",
    "        else:\n",
    "            metadata['tags'] += tags\n",
    "        self.replace_metadata(metadata, enquote_entries_in_metadata_fields)\n",
    "        \n",
    "    def remove_tags(\n",
    "            self,\n",
    "            tags: list[str], # The str representing the tags. May or may not start with `'#'`, e.g. `'#_meta/definition'` or `'_meta/definition'`.\n",
    "            enquote_entries_in_metadata_fields: list[str] = [] # A list of str of fields in the YAML metadata whose entries need to be enquoted. If there is a string that is not a key of `new_metadata`, then that string is essentially ignored (in particular, no errors are raised).\n",
    "            ) -> None:\n",
    "        \"\"\"\n",
    "        Remove specified tags from the frontmatter metadata, if\n",
    "        the frontmatter metadata and the specified tags.\n",
    "\n",
    "        If the `MarkdownFile` object does not have a frontmatter or\n",
    "        if the frontmatter does not include a `tags` line, then\n",
    "        the `MarkdownFile` object is not modified.\n",
    "        \n",
    "        Assumes that this MarkdownFile object has a frontmatter and\n",
    "        that the frontmatter includes a tags line.\n",
    "        \n",
    "        Any repeated tags are either merged into one (if the tag is \n",
    "        not in `tags`) or are removed (if the tag is in `tags`).\n",
    "\n",
    "        Ultimately the `replace_metadata` method is used to modify the YAML metadata.\n",
    "        Use the `enquote_entries_in_metadata_fields` parameter to ensure that the\n",
    "        `replace_metadata` invocation preserves enquoted metadata values. \n",
    "        \"\"\"\n",
    "        tags = [tag[1:] if tag.startswith('#') else tag for tag in tags]\n",
    "        metadata = self.metadata()\n",
    "        if metadata is None or not 'tags' in metadata:\n",
    "            return\n",
    "        set_of_tags = set(metadata['tags'])\n",
    "        set_of_tags -= set(tags)\n",
    "        metadata['tags'] = list(set_of_tags)\n",
    "        self.replace_metadata(metadata, enquote_entries_in_metadata_fields)\n",
    "    \n",
    "    def replace_auto_tags_with_regular_tags(\n",
    "            self,\n",
    "            exclude: list[str] = None, # The tags whose `_auto/` tags should not be converted. The str should not start with `'#'` and should not start with `'_auto/'`.\n",
    "            enquote_entries_in_metadata_fields: list[str] = [] # A list of str of fields in the YAML metadata whose entries need to be enquoted. If there is a string that is not a key of `new_metadata`, then that string is essentially ignored (in particular, no errors are raised).\n",
    "            ) -> None:\n",
    "        \"\"\"\n",
    "        Replace tags in the frontmatter metadata starting with `_auto/`\n",
    "        with tags without the `_auto/`.\n",
    "\n",
    "        Ultimately the `replace_metadata` method is used to modify the YAML metadata.\n",
    "        Use the `enquote_entries_in_metadata_fields` parameter to ensure that the\n",
    "        `replace_metadata` invocation preserves enquoted metadata values. \n",
    "        \"\"\"\n",
    "        if not exclude:\n",
    "            exclude = []\n",
    "        metadata = self.metadata()\n",
    "        no_auto_tags = [strip_auto_from_tag(tag, with_hash_tag=False)\n",
    "                         for tag in metadata['tags']]\n",
    "        new_tags = [\n",
    "            no_auto if (tag_is_auto_tag(old) and no_auto not in exclude)\n",
    "            else old for (no_auto, old) in zip(no_auto_tags, metadata['tags'])\n",
    "        ]\n",
    "        metadata['tags'] = new_tags\n",
    "        self.replace_metadata(metadata, enquote_entries_in_metadata_fields)\n",
    "    \n",
    "    def remove_in_line_tags(self) -> None:\n",
    "        \"\"\"Remove lines starting with in line tags.\"\"\"\n",
    "        part_indices_to_remove = []\n",
    "        for i, part in enumerate(self.parts):\n",
    "            if (part['type'] == MarkdownLineEnum.DEFAULT\n",
    "                    and part['line'].strip().startswith('#')):\n",
    "                part_indices_to_remove.append(i)\n",
    "        for i in reversed(part_indices_to_remove):\n",
    "            self.remove_line(i)\n",
    "            \n",
    "    def replace_links_with_display_text(\n",
    "            self,\n",
    "            remove_embedded_note_links: bool = False # If `True`, remove links to embedded notes as well. If `False`, does not modify embedded notes.`\n",
    "            ) -> None:\n",
    "        \"\"\"Remove nonembedded links and replaces them with their display text.\n",
    "        \"\"\"\n",
    "        for part in self.parts:\n",
    "            if part['type'] == MarkdownLineEnum.META:\n",
    "                continue\n",
    "            part['line'] = remove_links_from_text(\n",
    "                part['line'],\n",
    "                remove_embedded_note_links=remove_embedded_note_links)\n",
    "    \n",
    "    def parts_of_id(\n",
    "            self,\n",
    "            par_id: str # Must begin with `'^'`.\n",
    "            ) -> Union[tuple[int], None]: # `(start,end)` where `self.parts[start:end]` consists of the lines of the specified id. If the specified id does not exist for the note, then `None` is returned.\n",
    "        \"\"\"\n",
    "        Return the indices of the lines within the Markdown file\n",
    "        belonging to the specified text id.\n",
    "\n",
    "        This id can be used as an anchor for a link in Obsidian. For example,\n",
    "        `[[note#^65809f]]` is a link to a note named `note` to the text with id\n",
    "        `65809f`. Such a text is marked with a trailing `^65809f`.\n",
    "        \"\"\"\n",
    "        pattern = re.compile(fr'(?:^|\\s){re.escape(par_id)}\\b(?:\\s*?)$')\n",
    "        for i, part in enumerate(reversed(self.parts)):\n",
    "            match = re.search(pattern, part['line'])\n",
    "            if match:\n",
    "                break\n",
    "\n",
    "        end_of_text = len(self.parts) - 1 - i\n",
    "        i = end_of_text\n",
    "        has_any = _remove_text_id(self.parts[i]['line']).strip() != ''\n",
    "        cont = True\n",
    "        while i > 0 and cont:\n",
    "            cont, has_any = self._include_previous_line_as_id_text(i, has_any)\n",
    "            if cont:\n",
    "                i -= 1\n",
    "        return i, end_of_text+1\n",
    "        # self.parts[i:end_of_text+1]\n",
    "\n",
    "    def _include_previous_line_as_id_text(self, i: int, has_any: bool):\n",
    "        \"\"\"Used in `text_of_id`\n",
    "\n",
    "        **Parameters**\n",
    "        - i - int\n",
    "            - Greater than 0.\n",
    "        - has_any - bool\n",
    "            - `True` if any text beyond the id has been gathered.\n",
    "            `False` otherwise.\n",
    "\n",
    "        **Return**\n",
    "        - bool, bool\n",
    "            - The first bool is `True` if the previous line should be\n",
    "            included in the text of the id. The second bool is `True` if\n",
    "            any content any been included in the search.\n",
    "        \"\"\"\n",
    "\n",
    "        if self.parts[i]['type'] == MarkdownLineEnum.HEADING:\n",
    "            return False, True\n",
    "        elif self.parts[i-1]['type'] == MarkdownLineEnum.HEADING:\n",
    "            return False, has_any\n",
    "        elif (self.parts[i]['type'] == MarkdownLineEnum.DISPLAY_LATEX\n",
    "                and self.parts[i-1]['type'] == MarkdownLineEnum.DISPLAY_LATEX):\n",
    "            return True, True\n",
    "        elif self.parts[i-1]['line'].strip() == '':\n",
    "            if has_any:\n",
    "                return False, True\n",
    "            else:\n",
    "                return True, False\n",
    "        return True, True\n",
    "\n",
    "    def replace_embedded_links_with_text(\n",
    "            self,\n",
    "            vault: PathLike,\n",
    "            recursive: bool = True, # If `True`, then recursively replaces embedded links in the text of the embedded links.\n",
    "            remove_paragraph_id: bool = True # If `True`, then removes the paragraph id's in the text of the embedded links. Leaves the paragraph id's of the origianl text in tact.\n",
    "            ) -> None:\n",
    "        \"\"\"\n",
    "        Remove embedded links and replaces them with their underlying text,\n",
    "        as found in notes in the vault.\n",
    "        \n",
    "        Assumes that the embedded links do not loop infinitely.\n",
    "\n",
    "        For embedded links to notes that do not exist in the vault,\n",
    "        the embedded links are replaced with blank str.\n",
    "\n",
    "        No new entries are added to `self.parts` even if the embedded links\n",
    "        have multiple lines.\n",
    "        \"\"\"\n",
    "        # TODO: implement error raise upon infinite loop.\n",
    "        for part in self.parts:\n",
    "            part['line'] = self._replace_embedded_links_one_line(\n",
    "                part['line'], vault, recursive, remove_paragraph_id)\n",
    "    \n",
    "    def _replace_embedded_links_one_line(\n",
    "            self, text: str, vault: PathLike, recursive: bool,\n",
    "            remove_paragraph_id: bool) -> str:\n",
    "        # TODO: test what happens when `link_note` is actually an image.\n",
    "        # TODO: deal with possibility that a vaultnote gets an image\n",
    "        # file name passed.\n",
    "        \"\"\"Used in `replace_embedded_links_with_text`\"\"\"\n",
    "        embedded_links = find_regex_in_text(text, EMBEDDED_PATTERN)\n",
    "        for start, end in reversed(embedded_links):\n",
    "            link_object = ObsidianLink.from_text(text[start:end])\n",
    "            if link_object.file_name:\n",
    "                try:\n",
    "                    link_note = VaultNote(\n",
    "                        vault, name=link_object.file_name,\n",
    "                        update_cache=False)\n",
    "                    link_file = MarkdownFile.from_vault_note(link_note)\n",
    "                except (NoteDoesNotExistError, NotePathIsNotIdentifiedError):\n",
    "                    text = text[:start] + text[end:]\n",
    "                    continue\n",
    "                # if not link_note.exists():\n",
    "                #     text = text[:start] + text[end:]\n",
    "                #     continue\n",
    "            else:\n",
    "                link_file = self\n",
    "            if link_object.anchor == 0:\n",
    "                replace = str(link_file)\n",
    "            elif link_object.anchor.startswith('^'):\n",
    "                replace = self._text_of_embedded_link_of_id(\n",
    "                    link_file, link_object.anchor, vault, recursive, remove_paragraph_id)\n",
    "            elif link_object.anchor:\n",
    "                replace = self._text_of_embedded_link_of_section(\n",
    "                    link_file, link_object.anchor, vault, recursive, remove_paragraph_id)\n",
    "            else:\n",
    "                replace = str(link_file)\n",
    "            text = text[:start] + replace + text[end:]\n",
    "        return text\n",
    "            # try:\n",
    "            #     vn = VaultNote(vault, name=link_object.file_name)\n",
    "            #     mf = MarkdownFile.from_vault_note(vn)\n",
    "            # except NoteDoesNotExistError:\n",
    "            #     replace = ''\n",
    "            # text = text[:start] + replace + text[end:]\n",
    "\n",
    "    def _text_of_embedded_link_of_id(\n",
    "            self, link_file: MarkdownFile, par_id: str, vault: PathLike,\n",
    "            recursive: bool, remove_paragraph_id: bool) -> str:\n",
    "        \"\"\"Used in `_replace_embedded_links_one_line\"\"\"\n",
    "        start, end = link_file.parts_of_id(par_id)\n",
    "        embedded_text = self._text_of_lines_of_embedded_links(\n",
    "            link_file, vault, start, end, recursive,\n",
    "            remove_paragraph_id)\n",
    "        if remove_paragraph_id:\n",
    "            embedded_text = _remove_text_id(embedded_text)\n",
    "        return embedded_text\n",
    "\n",
    "    def _text_of_embedded_link_of_section(\n",
    "            self, link_file: MarkdownFile, heading: str, vault: PathLike,\n",
    "            recursive: bool, remove_paragraph_id: bool) -> str:\n",
    "        \"\"\"Used in `_replace_embedded_links_one_line\"\"\"\n",
    "        start, end = link_file.get_line_numbers_under_heading(\n",
    "            title=heading, include_subheadings=True)\n",
    "        return self._text_of_lines_of_embedded_links(\n",
    "            link_file, vault, start, end, recursive,\n",
    "            remove_paragraph_id)\n",
    "\n",
    "    def _text_of_lines_of_embedded_links(\n",
    "            self, link_file: MarkdownFile, vault: PathLike,\n",
    "            start: int, end: int, recursive: bool,\n",
    "            remove_paragraph_id: bool) -> str:\n",
    "        \"\"\"Used in `_text_of_embedded_link_of_id` and \n",
    "        `_text_of_embedded_link_of_section`\n",
    "        \"\"\"\n",
    "        if not recursive:\n",
    "            return link_file.text_of_lines(start, end)\n",
    "        new_mf = MarkdownFile(\n",
    "            copy.deepcopy(link_file.parts[start:end]))\n",
    "        new_mf.replace_embedded_links_with_text(\n",
    "            vault, recursive, remove_paragraph_id)\n",
    "        return str(new_mf)\n",
    "\n",
    "    def remove_footnotes_to_embedded_links(\n",
    "            self,\n",
    "            remove_footnote_mentions: bool = True # If `True`, removes the mentions to the footnote to the embedded links in the text.\n",
    "            ) -> None:\n",
    "        \"\"\"\n",
    "        Remove footnotes to embedded links.\n",
    "        \n",
    "        These are footnotes whose only content are embedded links, e.g.\n",
    "        `[^1]: ![[embedded_note]]`\n",
    "        \"\"\"\n",
    "        footnote_parts_to_remove = [\n",
    "            (i, part) for i, part in enumerate(self.parts)\n",
    "            if part['type'] == MarkdownLineEnum.FOOTNOTE_DESCRIPTION\n",
    "            and re.fullmatch(\n",
    "                fr'\\[\\^\\w+\\]: ?{EMBEDDED_PATTERN}', part['line'].strip())]\n",
    "        for i, _ in reversed(footnote_parts_to_remove):\n",
    "            self.remove_line(i)\n",
    "        if not remove_footnote_mentions:\n",
    "            return\n",
    "        footnote_labels_to_remove = [\n",
    "            re.fullmatch(\n",
    "                fr'\\[\\^(\\w+)\\]: ?{EMBEDDED_PATTERN}', part['line'].strip()).group(1)\n",
    "            for _, part in footnote_parts_to_remove]\n",
    "        for part, label in product(self.parts, footnote_labels_to_remove):\n",
    "            part['line'] = part['line'].replace(f'[^{label}]', '')\n",
    "            \n",
    "    def remove_headers(self) -> None:\n",
    "        \"\"\"Remove all headers.\"\"\"\n",
    "        heading_lines = self.get_headings_by_line_number(include_start=False)\n",
    "        heading_lines = [line for line in heading_lines]\n",
    "        heading_lines.sort()\n",
    "        for line in reversed(heading_lines):\n",
    "            self.remove_line(line)\n",
    "        \n",
    "    def remove_double_blank_lines(self) -> None:\n",
    "        \"\"\"Remove blank lines so that there are no consecutive blank lines\"\"\"\n",
    "        parts_to_remove = []\n",
    "        for i, part in enumerate(self.parts):\n",
    "            last_blank = self.parts[i-1]['type'] == MarkdownLineEnum.BLANK_LINE\n",
    "            if (part['type'] == MarkdownLineEnum.BLANK_LINE and last_blank):\n",
    "                parts_to_remove.append(i)\n",
    "        for i in reversed(parts_to_remove):\n",
    "            self.remove_line(i)\n",
    "\n",
    "    def remove_html_tags(self) -> None:\n",
    "        \"\"\"Remove HTML tags that are typeset in single lines.\n",
    "\n",
    "        HTML tags that span multiple lines are ignored.\n",
    "        \"\"\"\n",
    "        # TODO: test\n",
    "        for _, part in enumerate(self.parts):\n",
    "            part['line'], _ = remove_html_tags_in_text(part['line'])\n",
    "            # self.parts[i-1]['']\n",
    "    \n",
    "    def merge_display_math_mode(self) -> None:\n",
    "        \"\"\"Merge chunks of display_math_mode latex lines into single lines\"\"\"\n",
    "        i = 0\n",
    "        ils = MarkdownLineEnum.DISPLAY_LATEX_START\n",
    "        while i < len(self.parts):\n",
    "            if self.parts[i]['type'] == ils:\n",
    "                self._merge_one_display_math_mode_latex_chunk(i)\n",
    "            i += 1\n",
    "        \n",
    "    def _merge_one_display_math_mode_latex_chunk(self, start: int) -> None:\n",
    "        \"\"\"Merge one chunk of display math mode latex lines in self.parts.\n",
    "        \"\"\"\n",
    "        j = start + 1 \n",
    "        ile = MarkdownLineEnum.DISPLAY_LATEX_END\n",
    "        while (j < len(self.parts)\n",
    "               and self.parts[j]['type'] is not ile):\n",
    "            j += 1\n",
    "        end = j + 1\n",
    "        lines = [part['line'] for part in self.parts[start:end]]\n",
    "        merged = ' '.join(lines)\n",
    "        self.remove_lines(start, end)\n",
    "        self.insert_line(\n",
    "            start, {'type': MarkdownLineEnum.DISPLAY_LATEX_SINGLE,\n",
    "                    'line': merged})\n",
    "\n",
    "    def merge_display_math_mode_into_preceding_text(\n",
    "            self,\n",
    "            separator: str = '\\n' # The str with which to join the latex lines into the text lines. Note that the display math mode latex lines are not joined with this str.\n",
    "            ) -> None:\n",
    "        \"\"\"\n",
    "        Merge chunks of display math mode latex lines into single lines and merge\n",
    "        those single lines into preceding text lines.\n",
    "        \"\"\"\n",
    "        self.merge_display_math_mode()\n",
    "        i = 0\n",
    "        ils = MarkdownLineEnum.DISPLAY_LATEX_SINGLE\n",
    "        while i < len(self.parts):\n",
    "            if self.parts[i]['type'] == ils:\n",
    "                i = self._merge_latex_into_text(i, separator)\n",
    "            i += 1\n",
    "\n",
    "    def _merge_latex_into_text(self, index: int, separator: str) -> int:\n",
    "        # TODO: test\n",
    "        \"\"\"Used in `merge_display_math_mode_into_preceding_text`\"\"\"\n",
    "        j = index-1\n",
    "        if j == -1:\n",
    "            return index\n",
    "        while j >= 0 and self.parts[j]['line'].strip() == '':\n",
    "            j -= 1\n",
    "        merged = separator.join([self.parts[i]['line'] for i in range(j, index+1)])\n",
    "        self.remove_lines(start=j+1, end=index+1)\n",
    "        self.parts[j]['line'] = merged\n",
    "        return j\n",
    "\n",
    "    @classmethod\n",
    "    def from_file(\n",
    "            cls,\n",
    "            file_path: PathLike\n",
    "            ) -> MarkdownFile:\n",
    "        \"\"\"\n",
    "        Return a `MarkdownFile` object from a specified file.\n",
    "        \n",
    "        **Raises**\n",
    "        - FileNotFoundError\n",
    "            - If `file_path` points to a file which does not exist.\n",
    "        \"\"\"\n",
    "        with open(file_path, 'r', encoding='utf-8') as file:\n",
    "            text = file.read()\n",
    "        lines = text.split('\\n')\n",
    "        return cls.from_list(lines)\n",
    "            \n",
    "    @classmethod\n",
    "    def from_list(\n",
    "            cls,\n",
    "            list_of_lines: list[str]\n",
    "            ) -> MarkdownFile:\n",
    "        \"\"\"\n",
    "        Return a `MarkdownFile` object from a list of lines.\n",
    "        \n",
    "        This may not work correctly if the markdown text is not\n",
    "        sufficiently well-formatted. These formattings include:\n",
    "        - comments must start the line with `'%%'`.\n",
    "        - comments must end with `'%%'` followed by whitespaces\n",
    "          and nothing else.\n",
    "        - indents should be done with tabs?\n",
    "        \"\"\"\n",
    "        parts = []\n",
    "        parts.extend(cls._look_at_start_of_file(list_of_lines))\n",
    "        for line in list_of_lines:\n",
    "            parts.append(cls._line_dict(line, parts))\n",
    "        return cls(parts)\n",
    "    \n",
    "    @classmethod\n",
    "    def from_vault_note(cls, vn: VaultNote) -> MarkdownFile:\n",
    "        \"\"\"\n",
    "        Return a `MarkddownFile` object from a `VaultNote` object.\n",
    "        \n",
    "        **Raises**\n",
    "        - FileNotFoundError\n",
    "            - If `vn` represents a note file which does not exist.\n",
    "        \"\"\"\n",
    "        return cls.from_file(vn.path())\n",
    "    \n",
    "    @classmethod\n",
    "    def from_string(cls, text: str) -> MarkdownFile:\n",
    "        \"\"\"\n",
    "        Return a `MarkdownFile` object from a str.\n",
    "        \"\"\"\n",
    "        return cls.from_list(text.splitlines(keepends=False))\n",
    "    \n",
    "    def copy(self, deep: bool) -> MarkdownFile:\n",
    "        # TODO: test\n",
    "        list_to_copy_with = self.parts\n",
    "        if deep:\n",
    "            list_to_copy_with = copy.deepcopy(list_to_copy_with)\n",
    "        return self.__class__(list_to_copy_with)\n",
    "\n",
    "    @classmethod\n",
    "    def _look_at_start_of_file(cls, list_of_lines: list[str])\\\n",
    "            -> list[dict[str, Union[MarkdownLineEnum, str]]]:\n",
    "        \"\"\"\n",
    "        Inspect start of file for blank lines and Front matter Meta.\n",
    "        \n",
    "        Only blank lines may preceed front matter in markdown.\n",
    "        May remove leading entries in `list_of_lines`.\n",
    "        \n",
    "        **Parameters**\n",
    "        - list_of_lines - list of str\n",
    "\n",
    "        **Returns**\n",
    "        - list[dict[str, Union[MarkdownLineEnum, str]]]\n",
    "            - Each dict has two keys, 'type' and 'line', which respectively\n",
    "            hold a `MarkdownLineEnum` and a str as values.\n",
    "            \n",
    "        **Notes**\n",
    "        - First tries to find the opening of the front matter given by\n",
    "        `'---'`, then tries to find the closing given by `'---'`.\n",
    "        \"\"\"\n",
    "        # Find opening of front matter\n",
    "        i = 0\n",
    "        parts = []\n",
    "        while list_of_lines and list_of_lines[0].isspace():\n",
    "            parts.append({'type': MarkdownLineEnum.BLANK_LINE,\n",
    "                      'line': list_of_lines[0]})\n",
    "            del list_of_lines[0]\n",
    "        \n",
    "        if not list_of_lines or list_of_lines[i].strip() != '---':\n",
    "            return parts\n",
    "\n",
    "        # Find close of front matter\n",
    "        found_close_of_front_matter = False\n",
    "        for i, line in enumerate(list_of_lines):\n",
    "            if i == 0:\n",
    "                continue\n",
    "            if line.strip() == '---':\n",
    "                found_close_of_front_matter = True\n",
    "                break\n",
    "        if not found_close_of_front_matter:\n",
    "            return parts\n",
    "        for j in range(0,i+1):\n",
    "            parts.append({'type': MarkdownLineEnum.META,\n",
    "                          'line': list_of_lines[0]})\n",
    "            del list_of_lines[0]\n",
    "        return parts\n",
    "        \n",
    "    @classmethod\n",
    "    def _line_dict(cls, line: str, parts: list[dict])\\\n",
    "            -> dict[str, Union[MarkdownLineEnum, str]]:\n",
    "        \"\"\"\n",
    "        Return a dictionary giving some information about `line`.\n",
    "        \n",
    "        **Parameters**\n",
    "        - `line` - str\n",
    "        - parts - dict[str, Union[MarkdownLineEnum, str]]\n",
    "            - Each dict is the dictionary of a previous line.\n",
    "        \n",
    "        **Returns**\n",
    "        - dict[str, Union[MarkdownLineEnum, str]]\n",
    "            - Has a key `'type'`, which holds a MarkdownLineEnum\n",
    "            as its value.\n",
    "            - Has a key `'line'`, which holds `line`.\n",
    "            - If the type is MarkdownLineEnum.CODE_BLOCK\n",
    "        \"\"\"\n",
    "        line_dict = {'line': line}\n",
    "        # Check previous line to see \n",
    "        if parts and parts[-1]['type'] is MarkdownLineEnum.COMMENT:\n",
    "            if not parts[-1]['line'].rstrip().endswith('%%'):\n",
    "                line_dict['type'] = MarkdownLineEnum.COMMENT\n",
    "                return line_dict\n",
    "        elif line.startswith('%%'):\n",
    "            line_dict['type'] = MarkdownLineEnum.COMMENT\n",
    "        if parts and parts[-1]['type'] is MarkdownLineEnum.CODE_BLOCK:\n",
    "            if parts[-1]['line'].strip() != '```':\n",
    "                line_dict['type'] = MarkdownLineEnum.CODE_BLOCK\n",
    "                return line_dict\n",
    "        elif line.strip().startswith('```'):\n",
    "            line_dict['type'] = MarkdownLineEnum.COMMENT\n",
    "        ###\n",
    "        if parts and parts[-1]['type'] in [\n",
    "                MarkdownLineEnum.DISPLAY_LATEX,\n",
    "                MarkdownLineEnum.DISPLAY_LATEX_START]:\n",
    "            if _line_end_in_line_latex(line) or '$$' in line:\n",
    "                line_dict['type'] = MarkdownLineEnum.DISPLAY_LATEX_END\n",
    "            else:\n",
    "                line_dict['type'] = MarkdownLineEnum.DISPLAY_LATEX\n",
    "            return line_dict\n",
    "\n",
    "\n",
    "        if line.lstrip() == '':\n",
    "            line_dict['type'] = MarkdownLineEnum.BLANK_LINE\n",
    "        elif _line_start_and_end_in_line_latex(line):\n",
    "            line_dict['type'] = MarkdownLineEnum.DISPLAY_LATEX_SINGLE\n",
    "        elif _line_start_in_line_latex(line):\n",
    "            line_dict['type'] = MarkdownLineEnum.DISPLAY_LATEX_START\n",
    "        elif line.lstrip().startswith('%%'):\n",
    "            line_dict['type'] = MarkdownLineEnum.COMMENT\n",
    "        elif re.match(r'^#{1,6} ', line):\n",
    "            line_dict['type'] = MarkdownLineEnum.HEADING\n",
    "        elif line == '---':\n",
    "            line_dict['type'] = MarkdownLineEnum.HORIZONTAL_RULE\n",
    "        elif line.lstrip().startswith(('-', '*', '+')):\n",
    "            line_dict['type'] = MarkdownLineEnum.UNORDERED_LIST\n",
    "        elif re.match(r'^\\d+\\.', line.lstrip()):\n",
    "            line_dict['type'] = MarkdownLineEnum.ORDERED_LIST\n",
    "        elif line.lstrip().startswith('>'):\n",
    "            line_dict['type'] = MarkdownLineEnum.BLOCKQUOTE\n",
    "        elif re.match(r'^\\[\\^.+?\\]:', line):\n",
    "            line_dict['type'] = MarkdownLineEnum.FOOTNOTE_DESCRIPTION\n",
    "        else:\n",
    "            stripped_line = line.strip()\n",
    "            if stripped_line.startswith(('---', '>', '# ', '##')):\n",
    "                line_dict['type'] = MarkdownLineEnum.UNKNOWN\n",
    "            else:\n",
    "                line_dict['type'] = MarkdownLineEnum.DEFAULT\n",
    "        return line_dict\n",
    "\n",
    "\n",
    "def _remove_text_id(line: str) -> str:\n",
    "    \"\"\"\"\"\"\n",
    "    # ID either starts at the start of line or is preceded by a whitespace\n",
    "    # ID consists of \\w\\d.\n",
    "    # ID ends with word boundary and might be followed by whitespaces.\n",
    "    return re.subn(r'((?:^|\\s)\\^[\\w\\d]+)\\b(?:\\s*?)$', r'', line)[0]\n",
    "\n",
    "def _line_start_in_line_latex(line: str) -> bool:\n",
    "    \"\"\"Return `True` if the line starts an display math mode latex string.\n",
    "    \n",
    "    This is not fully accurate outside of context - e.g. \n",
    "    It will return `True` on `$$`, regardless of whether this\n",
    "    actually starts or ends the display math mode latex.\n",
    "    \"\"\"\n",
    "    return line.lstrip(string.whitespace + '*').startswith('$$') \n",
    "\n",
    "def _line_end_in_line_latex(line: str) -> bool:\n",
    "    stripped = _remove_text_id(line)\n",
    "    stripped = stripped.rstrip(string.whitespace + '*')\n",
    "    return stripped.endswith('$$')\n",
    "\n",
    "def _line_start_and_end_in_line_latex(line: str) -> bool:\n",
    "    stripped = _remove_text_id(line)\n",
    "    stripped = stripped.strip(string.whitespace + '*')\n",
    "    return bool(re.match(r'\\$\\$.*\\$\\$', stripped))"
   ]
  },
  {
   "cell_type": "code",
   "execution_count": null,
   "metadata": {},
   "outputs": [
    {
     "data": {
      "text/markdown": [
       "---\n",
       "\n",
       "[source](https://github.com/hyunjongkimmath/trouver/blob/main/trouver/markdown/markdown/file.py#L193){target=\"_blank\" style=\"float:right; font-size:smaller\"}\n",
       "\n",
       "### MarkdownFile\n",
       "\n",
       ">      MarkdownFile\n",
       ">                    (parts:list[dict[str,typing.Union[__main__.MarkdownLineEnum\n",
       ">                    ,str]]])\n",
       "\n",
       "Parses and represents the contents of an Obsidian styled Markdown\n",
       "file.\n",
       "\n",
       "The Markdown file must be formatted in certain ways. In general, \n",
       "text components of different types (see `MarkdownLineEnum`) must\n",
       "be on different lines - no text components of different types may\n",
       "occupy the same line. In particular,\n",
       "\n",
       "- Comments (surrounded by `%%`) must not be on the same line as\n",
       "non-comments.\n",
       "- Display math mode LaTeX (surrounded by `$$`) must not be on the same line\n",
       "as non-In line LaTeX.\n",
       "\n",
       "**Attributes**\n",
       "\n",
       "- text - str\n",
       "- parts - list[dict[str, Union[MarkdownLineEnum, str]]]\n",
       "    - Represents the lines of the markdown file.\n",
       "    Each dict has two keys, `'type'` and `'line'`, which respectively\n",
       "    hold a `MarkdownLineEnum` and a `str` as values. While a value\n",
       "    of `'line'` may have new line characters `'\\n'`, it does not\n",
       "    need to --- more specifically, the `__str__` method (and the\n",
       "    `text_of_lines` method) adds new line characters `'\\n'` in\n",
       "    between lines."
      ],
      "text/plain": [
       "---\n",
       "\n",
       "[source](https://github.com/hyunjongkimmath/trouver/blob/main/trouver/markdown/markdown/file.py#L193){target=\"_blank\" style=\"float:right; font-size:smaller\"}\n",
       "\n",
       "### MarkdownFile\n",
       "\n",
       ">      MarkdownFile\n",
       ">                    (parts:list[dict[str,typing.Union[__main__.MarkdownLineEnum\n",
       ">                    ,str]]])\n",
       "\n",
       "Parses and represents the contents of an Obsidian styled Markdown\n",
       "file.\n",
       "\n",
       "The Markdown file must be formatted in certain ways. In general, \n",
       "text components of different types (see `MarkdownLineEnum`) must\n",
       "be on different lines - no text components of different types may\n",
       "occupy the same line. In particular,\n",
       "\n",
       "- Comments (surrounded by `%%`) must not be on the same line as\n",
       "non-comments.\n",
       "- Display math mode LaTeX (surrounded by `$$`) must not be on the same line\n",
       "as non-In line LaTeX.\n",
       "\n",
       "**Attributes**\n",
       "\n",
       "- text - str\n",
       "- parts - list[dict[str, Union[MarkdownLineEnum, str]]]\n",
       "    - Represents the lines of the markdown file.\n",
       "    Each dict has two keys, `'type'` and `'line'`, which respectively\n",
       "    hold a `MarkdownLineEnum` and a `str` as values. While a value\n",
       "    of `'line'` may have new line characters `'\\n'`, it does not\n",
       "    need to --- more specifically, the `__str__` method (and the\n",
       "    `text_of_lines` method) adds new line characters `'\\n'` in\n",
       "    between lines."
      ]
     },
     "execution_count": null,
     "metadata": {},
     "output_type": "execute_result"
    }
   ],
   "source": [
    "show_doc(MarkdownFile)"
   ]
  },
  {
   "cell_type": "markdown",
   "metadata": {},
   "source": [
    "## Example text and example vault used in the rest of the page"
   ]
  },
  {
   "cell_type": "markdown",
   "metadata": {},
   "source": [
    "The examples demonstrated for the `MarkdownFile` class here will be based upon the following text:"
   ]
  },
  {
   "cell_type": "code",
   "execution_count": null,
   "metadata": {},
   "outputs": [],
   "source": [
    "template_text = \"\"\"---\n",
    "cssclass: clean-embeds\n",
    "aliases: []\n",
    "tags: [_meta/literature_note]\n",
    "---\n",
    "# Topic[^1]\n",
    "\n",
    "# See Also\n",
    "\n",
    "# Meta\n",
    "## References\n",
    "\n",
    "## Citations and Footnotes\n",
    "[^1]: Citation\"\"\"\n",
    "\n",
    "\n",
    "text_1 = \"\"\"\n",
    "# Section 1\n",
    "some text \n",
    "\n",
    "asdfasdf\n",
    "\n",
    "## Subsection a\n",
    "Didididi\n",
    "Dododododo\n",
    "# Section 2\n",
    "\"\"\"\n",
    "\n",
    "text_2 = \"\"\"---\n",
    "tags: [_meta/definition, _meta/concept, _auto/_meta/notation, this_tag_will_be_removed]\n",
    "---\n",
    "# Topic\n",
    "This is some note with some stuff.\n",
    "\"\"\"\n",
    "\n",
    "text_3 = \"\"\"\n",
    "# Section 1\n",
    "Some stuff\n",
    "\n",
    "#_meta/question Will `remove_in_line_tags` remove this line? Yes it will!\n",
    "\n",
    "# Hello\n",
    "\n",
    " #tag Will `remove_in_line_tags` remove this line? Yes it will!\n",
    "\"\"\"\n",
    "\n",
    "text_4 = \"\"\"\n",
    "# Some thing\n",
    "\n",
    "I have a [[this is a note#this is an anchor in the note|link]]\n",
    "\n",
    "## Another topic\n",
    "This is a link without a specified display text: [[some_kind_of_note]].\n",
    "\n",
    "This is a link to an anchor without a specified display text: [[another_note#another anchor]].\n",
    "\"\"\"\n",
    "    \n",
    "text_5 = \"\"\"# A header\n",
    "![[This note is embedded]].\n",
    "\n",
    "The link above should will not be replaced by `replace_links_with_display_text`,\n",
    "unless `remove_embedded_note_links` is set to `True`.\"\"\"\n",
    "    \n",
    "text_6 = \"\"\"\n",
    "# Header\n",
    "\n",
    "I want to link to some embedded note[^1]\n",
    "\n",
    "[^1]: ![[link_to_embedded_note_1]]\n",
    "\n",
    "You can also let the footnote mention be alphanumeric[^1][^note]\n",
    "\n",
    "[^note]: ![[link_to_embedded_note_2]]\n",
    "\"\"\"\n",
    "    \n",
    "text_7 = r\"\"\"---\n",
    "cssclass: clean-embeds\n",
    "aliases: []\n",
    "tags: [_meta/concept, _meta/literature_note]\n",
    "---\n",
    "# Grothendieck-Witt ring elements of a finite field are given by rank and discriminant up to squares[^1]\n",
    "\n",
    "$\\operatorname{GW}(\\mathbb{F}_q)\\cong \\mathbb{Z}\\times \\mathbb{F}_q^{\\times}/(\\mathbb{F}_q^{\\times})^2$[^2] where the isomorphism is given by the rank and discriminant.\n",
    "\n",
    "\n",
    "[^2]: ![[notation_GW_k_Grothendieck_Witt_ring_of_a_field]]\n",
    "\n",
    "\n",
    "# See Also\n",
    "- [[grothendieck_witt_ring_of_a_polynomial_ring_over_a_field_is_isomorphic_to_that_of_the_field]]\n",
    "\n",
    "# Meta\n",
    "## References\n",
    "![[_reference_pauli_wickelgren_aa1]]\n",
    "\n",
    "\n",
    "## Citations and Footnotes\n",
    "[^1]: Pauli, Wickelgren, Example 3.7, Page 4\"\"\"\n",
    "\n",
    "\n",
    "text_8 = r\"\"\"---\n",
    "cssclass: clean-embeds\n",
    "---\n",
    "# Topic[^1]\n",
    "Here is a LaTeX Equation:\n",
    "\n",
    "$$ 5 \\neq 7$$\n",
    "Hey\n",
    "Okay, now here is another one:\n",
    "$$\\begin{align*}\n",
    "\\sum_{k=1}^n k = \\frac{n(n+1)}{2}\n",
    "\\end{align*}$$\n",
    "\n",
    "%%This is a comment. \n",
    "The comment is not visible.\n",
    "This is the end of the comment %%\n",
    "\n",
    "This is the end of this note. This is visible.\n",
    "\"\"\"\n",
    "\n",
    "text_9 = r\"\"\"\n",
    "This LaTeX Equation has `**` surrounding it:\n",
    "**$$\\mathcal{O}_X$$**\n",
    "\n",
    "This LaTeX Equation has an id:\n",
    "$$5 \\neq 7$$ ^221b51\n",
    "\n",
    "This LaTeX Equation also has an id:\n",
    "$$5 \\neq 7\n",
    "$$ ^221b51\n",
    "This is the end\n",
    "\"\"\"\n",
    "\n",
    "text_10 = r\"\"\"This is a single line display math mode LaTeX equation:\n",
    "\n",
    "$$\\mathcal{O}_X$$\n",
    "\n",
    "This is a single multi-line display math mode LaTeX equation:\n",
    "\n",
    "$$\n",
    "5 + 2 = 7\n",
    "$$\n",
    "\n",
    "These are multiple consecutive display math mode LaTeX equations:\n",
    "\n",
    "$$1+1 = 2\n",
    "$$\n",
    "$$5 + 7 = 14$$\n",
    "$$\n",
    "\n",
    "8 + 4 = 12\n",
    "\n",
    "$$\n",
    "\"\"\"\n",
    "\n",
    "text_11 = r\"\"\"$$asdf$$\n",
    "$$asdf$$\n",
    "$$asdf$$\n",
    "After text.\"\"\"\n",
    "\n",
    "text_12 = r\"\"\"\n",
    "\n",
    "\"\"\""
   ]
  },
  {
   "cell_type": "markdown",
   "metadata": {},
   "source": [
    "We also use the multiple example vaults.\n",
    "\n",
    "The following vault will be used mainly for some basic file interactions of the `MarkdownFile` class.\n",
    "\n",
    "```\n",
    ".\n",
    "└── algebraic_geometry\n",
    "    ├── a1_homotopy_theory\n",
    "    │   ├── pauli_wickelgren_aa1\n",
    "    │   │   ├── 3_the_grothendieck_witt_ring_of_k\n",
    "    │   │   │   └── pauli_wickelgren_aa1_example 3.7.md\n",
    "    │   │   └── _index_pauli_wickelgren_aa1.md\n",
    "    |   └── _index_a1_homotopy_theory.md\n",
    "    └── _index_algebraic_geometry.md\n",
    "```\n",
    "\n",
    "`pauli_wickelgren_aa1_example 3.7.md` will contain the contents of `text_7`."
   ]
  },
  {
   "cell_type": "code",
   "execution_count": null,
   "metadata": {},
   "outputs": [],
   "source": [
    "def make_example_vault(temp_dir: PathLike):\n",
    "    temp_dir = Path(temp_dir)\n",
    "    os.mkdir(temp_dir / 'algebraic_geometry')\n",
    "    os.mkdir(temp_dir / 'algebraic_geometry' / 'a1_homotopy_theory')\n",
    "    os.mkdir(temp_dir / 'algebraic_geometry' / 'a1_homotopy_theory' / 'pauli_wickelgren_aa1')\n",
    "    os.mkdir(temp_dir / 'algebraic_geometry' / 'a1_homotopy_theory' / 'pauli_wickelgren_aa1' / '3_the_grothendieck_witt_ring_of_k')\n",
    "\n",
    "    (temp_dir / 'algebraic_geometry' / '_index_algebraic_geometry.md').touch()\n",
    "    (temp_dir / 'algebraic_geometry' / 'a1_homotopy_theory' / '_index_a1_homotopy_theory.md').touch()\n",
    "    (temp_dir / 'algebraic_geometry' / 'a1_homotopy_theory' / 'pauli_wickelgren_aa1' / '_index_pauli_wickelgren_aa1.md').touch()\n",
    "    (temp_dir / 'algebraic_geometry' / 'a1_homotopy_theory' / 'pauli_wickelgren_aa1' / '3_the_grothendieck_witt_ring_of_k' / 'pauli_wickelgren_aa1_example 3.7.md').touch()\n",
    "\n",
    "    with open((temp_dir / 'algebraic_geometry' / 'a1_homotopy_theory' / 'pauli_wickelgren_aa1' / '3_the_grothendieck_witt_ring_of_k' / 'pauli_wickelgren_aa1_example 3.7.md'), 'w') as writer:\n",
    "        writer.write(\n",
    "            text_7\n",
    "        )\n",
    "\n",
    "# with tempfile.TemporaryDirectory(prefix='temp_dir', dir=os.getcwd()) as temp_dir:\n",
    "#     make_example_vault(temp_dir)\n",
    "#     os.startfile(os.getcwd())\n",
    "#     input()"
   ]
  },
  {
   "cell_type": "markdown",
   "metadata": {},
   "source": [
    "We use the following example vault to demonstrate examples of embedded notes and other functionalities:\n",
    "\n",
    "```\n",
    ".\n",
    "├── note_which_becomes_entirely_embedded_1.md\n",
    "├── note_with_embedded_links_1.md\n",
    "└── note_with_paragraphs_that_are_embedded_1.md\n",
    "```"
   ]
  },
  {
   "cell_type": "code",
   "execution_count": null,
   "metadata": {},
   "outputs": [],
   "source": [
    "def make_example_vault_2(temp_dir: PathLike):\n",
    "    temp_dir = Path(temp_dir)\n",
    "\n",
    "    file_1 = temp_dir / 'note_which_becomes_entirely_embedded_1.md'\n",
    "    file_2 = temp_dir / 'note_with_embedded_links_1.md'\n",
    "    file_3 = temp_dir / 'note_with_paragraphs_that_are_embedded_1.md'\n",
    "\n",
    "    file_1.touch()\n",
    "    file_2.touch()\n",
    "    file_3.touch()\n",
    "\n",
    "    with open(file_1, 'w') as writer:\n",
    "        writer.write(\n",
    "            r\"\"\"Hello, this is a note which becomes entirely embedded.\n",
    "%%This is a comment. \n",
    "The comment is not visible.\n",
    "This is the end of the comment %%\"\"\"\n",
    "        )\n",
    "        \n",
    "    with open(file_2, 'w') as writer:\n",
    "        writer.write(\n",
    "            r\"\"\"This is a note.\n",
    "\n",
    "There are some embedded text here:\n",
    "\n",
    "![[note_which_becomes_entirely_embedded_1]]\n",
    "\n",
    "\n",
    "![[note_with_paragraphs_that_are_embedded_1#^65809f]]\n",
    "\n",
    "![[note_with_paragraphs_that_are_embedded_1#^221b51]]\n",
    "\n",
    "![[note_with_paragraphs_that_are_embedded_1#Section]]\"\"\"\n",
    "        )\n",
    "\n",
    "    \n",
    "    with open(file_3, 'w') as writer:\n",
    "        writer.write(\n",
    "            r\"\"\"This paragraph becomes embedded.\n",
    "\n",
    "# Thank you for watching \n",
    "cheese \n",
    "bandit\n",
    "$$asdf$$\n",
    "asdf \n",
    "^65809f\n",
    "\n",
    "\n",
    "\n",
    "This paragraph has not id.\n",
    "\n",
    "$$5 \\neq 7\n",
    "$$ \n",
    "^221b51\n",
    "\n",
    "# This section has an id ^123456\n",
    "\n",
    "# This section has no id \n",
    "^fff123\n",
    "\n",
    "$$\\mathcal{O}_X$$  ^latexthing\n",
    "\n",
    "# Section\n",
    "Some kind of section?\n",
    "\n",
    "Lalalala\n",
    "## Subsection\n",
    "argonaut\n",
    "# Section\n",
    "Maybe?\n",
    "\"\"\")"
   ]
  },
  {
   "cell_type": "markdown",
   "metadata": {},
   "source": [
    "## Constructing a `MarkdownFile` object"
   ]
  },
  {
   "cell_type": "code",
   "execution_count": null,
   "metadata": {},
   "outputs": [
    {
     "data": {
      "text/markdown": [
       "---\n",
       "\n",
       "[source](https://github.com/hyunjongkimmath/trouver/blob/main/trouver/markdown/markdown/file.py#L1101){target=\"_blank\" style=\"float:right; font-size:smaller\"}\n",
       "\n",
       "### MarkdownFile.from_vault_note\n",
       "\n",
       ">      MarkdownFile.from_vault_note\n",
       ">                                    (vn:trouver.markdown.obsidian.vault.VaultNo\n",
       ">                                    te)\n",
       "\n",
       "Return a `MarkddownFile` object from a `VaultNote` object.\n",
       "\n",
       "**Raises**\n",
       "- FileNotFoundError\n",
       "    - If `vn` represents a note file which does not exist."
      ],
      "text/plain": [
       "---\n",
       "\n",
       "[source](https://github.com/hyunjongkimmath/trouver/blob/main/trouver/markdown/markdown/file.py#L1101){target=\"_blank\" style=\"float:right; font-size:smaller\"}\n",
       "\n",
       "### MarkdownFile.from_vault_note\n",
       "\n",
       ">      MarkdownFile.from_vault_note\n",
       ">                                    (vn:trouver.markdown.obsidian.vault.VaultNo\n",
       ">                                    te)\n",
       "\n",
       "Return a `MarkddownFile` object from a `VaultNote` object.\n",
       "\n",
       "**Raises**\n",
       "- FileNotFoundError\n",
       "    - If `vn` represents a note file which does not exist."
      ]
     },
     "execution_count": null,
     "metadata": {},
     "output_type": "execute_result"
    }
   ],
   "source": [
    "show_doc(MarkdownFile.from_vault_note)"
   ]
  },
  {
   "cell_type": "code",
   "execution_count": null,
   "metadata": {},
   "outputs": [
    {
     "data": {
      "text/markdown": [
       "---\n",
       "\n",
       "[source](https://github.com/hyunjongkimmath/trouver/blob/main/trouver/markdown/markdown/file.py#L1063){target=\"_blank\" style=\"float:right; font-size:smaller\"}\n",
       "\n",
       "### MarkdownFile.from_file\n",
       "\n",
       ">      MarkdownFile.from_file (file_path:os.PathLike)\n",
       "\n",
       "Return a `MarkdownFile` object from a specified file.\n",
       "\n",
       "**Raises**\n",
       "- FileNotFoundError\n",
       "    - If `file_path` points to a file which does not exist."
      ],
      "text/plain": [
       "---\n",
       "\n",
       "[source](https://github.com/hyunjongkimmath/trouver/blob/main/trouver/markdown/markdown/file.py#L1063){target=\"_blank\" style=\"float:right; font-size:smaller\"}\n",
       "\n",
       "### MarkdownFile.from_file\n",
       "\n",
       ">      MarkdownFile.from_file (file_path:os.PathLike)\n",
       "\n",
       "Return a `MarkdownFile` object from a specified file.\n",
       "\n",
       "**Raises**\n",
       "- FileNotFoundError\n",
       "    - If `file_path` points to a file which does not exist."
      ]
     },
     "execution_count": null,
     "metadata": {},
     "output_type": "execute_result"
    }
   ],
   "source": [
    "show_doc(MarkdownFile.from_file)"
   ]
  },
  {
   "cell_type": "code",
   "execution_count": null,
   "metadata": {},
   "outputs": [
    {
     "data": {
      "text/markdown": [
       "---\n",
       "\n",
       "[source](https://github.com/hyunjongkimmath/trouver/blob/main/trouver/markdown/markdown/file.py#L1080){target=\"_blank\" style=\"float:right; font-size:smaller\"}\n",
       "\n",
       "### MarkdownFile.from_list\n",
       "\n",
       ">      MarkdownFile.from_list (list_of_lines:list[str])\n",
       "\n",
       "Return a `MarkdownFile` object from a list of lines.\n",
       "\n",
       "This may not work correctly if the markdown text is not\n",
       "sufficiently well-formatted. These formattings include:\n",
       "- comments must start the line with `'%%'`.\n",
       "- comments must end with `'%%'` followed by whitespaces\n",
       "  and nothing else.\n",
       "- indents should be done with tabs?"
      ],
      "text/plain": [
       "---\n",
       "\n",
       "[source](https://github.com/hyunjongkimmath/trouver/blob/main/trouver/markdown/markdown/file.py#L1080){target=\"_blank\" style=\"float:right; font-size:smaller\"}\n",
       "\n",
       "### MarkdownFile.from_list\n",
       "\n",
       ">      MarkdownFile.from_list (list_of_lines:list[str])\n",
       "\n",
       "Return a `MarkdownFile` object from a list of lines.\n",
       "\n",
       "This may not work correctly if the markdown text is not\n",
       "sufficiently well-formatted. These formattings include:\n",
       "- comments must start the line with `'%%'`.\n",
       "- comments must end with `'%%'` followed by whitespaces\n",
       "  and nothing else.\n",
       "- indents should be done with tabs?"
      ]
     },
     "execution_count": null,
     "metadata": {},
     "output_type": "execute_result"
    }
   ],
   "source": [
    "show_doc(MarkdownFile.from_list)"
   ]
  },
  {
   "cell_type": "code",
   "execution_count": null,
   "metadata": {},
   "outputs": [
    {
     "data": {
      "text/markdown": [
       "---\n",
       "\n",
       "[source](https://github.com/hyunjongkimmath/trouver/blob/main/trouver/markdown/markdown/file.py#L1112){target=\"_blank\" style=\"float:right; font-size:smaller\"}\n",
       "\n",
       "### MarkdownFile.from_string\n",
       "\n",
       ">      MarkdownFile.from_string (text:str)\n",
       "\n",
       "Return a `MarkdownFile` object from a str."
      ],
      "text/plain": [
       "---\n",
       "\n",
       "[source](https://github.com/hyunjongkimmath/trouver/blob/main/trouver/markdown/markdown/file.py#L1112){target=\"_blank\" style=\"float:right; font-size:smaller\"}\n",
       "\n",
       "### MarkdownFile.from_string\n",
       "\n",
       ">      MarkdownFile.from_string (text:str)\n",
       "\n",
       "Return a `MarkdownFile` object from a str."
      ]
     },
     "execution_count": null,
     "metadata": {},
     "output_type": "execute_result"
    }
   ],
   "source": [
    "show_doc(MarkdownFile.from_string)"
   ]
  },
  {
   "cell_type": "markdown",
   "metadata": {},
   "source": [
    "The most convenient way to construct a `MarkdownFile` object is by the `MarkdownFile.from_vault_note` factory method."
   ]
  },
  {
   "cell_type": "code",
   "execution_count": null,
   "metadata": {},
   "outputs": [],
   "source": [
    "with tempfile.TemporaryDirectory(prefix='temp_dir_', dir=os.getcwd()) as temp_dir:\n",
    "    make_example_vault(temp_dir)\n",
    "\n",
    "    vault_note = VaultNote(temp_dir, name='pauli_wickelgren_aa1_example 3.7')\n",
    "    mf = MarkdownFile.from_vault_note(vault_note)\n",
    "    test_eq(str(mf), text_7)\n",
    "\n",
    "    vault_note = VaultNote(temp_dir, rel_path='does_not_exist.md')\n",
    "    assert not vault_note.exists()\n",
    "    with ExceptionExpected(ex=FileNotFoundError):\n",
    "        mf = MarkdownFile.from_vault_note(vault_note)\n"
   ]
  },
  {
   "cell_type": "markdown",
   "metadata": {},
   "source": [
    "We can similarly construct a `MarkdownFile` by the `MarkdownFile.from_file` factory method without having to use a `VaultNote` object. "
   ]
  },
  {
   "cell_type": "code",
   "execution_count": null,
   "metadata": {},
   "outputs": [],
   "source": [
    "with tempfile.TemporaryDirectory(prefix='temp_dir_', dir=os.getcwd()) as temp_dir:\n",
    "    make_example_vault(temp_dir)\n",
    "\n",
    "    temp_dir = Path(temp_dir)\n",
    "    mf = MarkdownFile.from_file(temp_dir / 'algebraic_geometry' / 'a1_homotopy_theory' / 'pauli_wickelgren_aa1' / '3_the_grothendieck_witt_ring_of_k' / 'pauli_wickelgren_aa1_example 3.7.md')\n",
    "\n",
    "    assert not os.path.exists(temp_dir / 'does_not_exist.md')\n",
    "    with ExceptionExpected(ex=FileNotFoundError):\n",
    "        mf = MarkdownFile.from_file(temp_dir / 'does_not_exist.md')"
   ]
  },
  {
   "cell_type": "markdown",
   "metadata": {},
   "source": [
    "If the list of lines of the Markdown file are available, then the `MarkdownFile.from_list` factory method can be used.\n",
    "\n",
    "Similarly, if the entire string of the Markdown file is available, then the `MarkdownFile.from_str` factory method can be used."
   ]
  },
  {
   "cell_type": "code",
   "execution_count": null,
   "metadata": {},
   "outputs": [
    {
     "name": "stdout",
     "output_type": "stream",
     "text": [
      "---\n",
      "cssclass: clean-embeds\n",
      "aliases: []\n",
      "tags: [_meta/literature_note]\n",
      "---\n",
      "# Topic[^1]\n",
      "\n",
      "# See Also\n",
      "\n",
      "# Meta\n",
      "## References\n",
      "\n",
      "## Citations and Footnotes\n",
      "[^1]: Citation\n"
     ]
    }
   ],
   "source": [
    "list_of_lines = template_text.splitlines()\n",
    "template_mf_1 = MarkdownFile.from_list(list_of_lines)\n",
    "template_mf_2 = MarkdownFile.from_string(template_text)\n",
    "\n",
    "print(str(template_mf_1))\n",
    "test_eq(str(template_mf_1), str(template_mf_2))"
   ]
  },
  {
   "cell_type": "code",
   "execution_count": null,
   "metadata": {},
   "outputs": [],
   "source": [
    "#| hide\n",
    "# This tests whether MarkdownLineEnum.DISPLAY_LATEX is detected correctly.\n",
    "# Also test comments.\n",
    "mf = MarkdownFile.from_string(text_8)\n",
    "assert mf.parts[6]['type'] == MarkdownLineEnum.DISPLAY_LATEX_SINGLE\n",
    "assert mf.parts[9]['type'] == MarkdownLineEnum.DISPLAY_LATEX_START\n",
    "assert mf.parts[10]['type'] == MarkdownLineEnum.DISPLAY_LATEX\n",
    "assert mf.parts[11]['type'] == MarkdownLineEnum.DISPLAY_LATEX_END\n",
    "assert mf.parts[13]['type'] == MarkdownLineEnum.COMMENT\n",
    "assert mf.parts[14]['type'] == MarkdownLineEnum.COMMENT\n",
    "assert mf.parts[15]['type'] == MarkdownLineEnum.COMMENT\n",
    "\n",
    "assert re.match('\\$\\$.*\\$\\$', r'$$\\\\mathcal{O}_X$$')\n",
    "mf = MarkdownFile.from_string(text_9)\n",
    "assert mf.parts[2]['type'] == MarkdownLineEnum.DISPLAY_LATEX_SINGLE\n",
    "assert mf.parts[5]['type'] == MarkdownLineEnum.DISPLAY_LATEX_SINGLE\n",
    "assert mf.parts[8]['type'] == MarkdownLineEnum.DISPLAY_LATEX_START\n",
    "assert mf.parts[9]['type'] == MarkdownLineEnum.DISPLAY_LATEX_END\n",
    "\n",
    "assert _line_start_and_end_in_line_latex(r'$$hi$$')\n",
    "mf = MarkdownFile.from_string(text_10)\n",
    "assert mf.parts[2]['type'] == MarkdownLineEnum.DISPLAY_LATEX_SINGLE\n",
    "assert mf.parts[6]['type'] == MarkdownLineEnum.DISPLAY_LATEX_START\n",
    "assert mf.parts[7]['type'] == MarkdownLineEnum.DISPLAY_LATEX\n",
    "assert mf.parts[8]['type'] == MarkdownLineEnum.DISPLAY_LATEX_END\n",
    "assert mf.parts[12]['type'] == MarkdownLineEnum.DISPLAY_LATEX_START\n",
    "assert mf.parts[13]['type'] == MarkdownLineEnum.DISPLAY_LATEX_END\n",
    "assert mf.parts[14]['type'] == MarkdownLineEnum.DISPLAY_LATEX_SINGLE\n",
    "assert mf.parts[15]['type'] == MarkdownLineEnum.DISPLAY_LATEX_START\n",
    "assert mf.parts[16]['type'] == MarkdownLineEnum.DISPLAY_LATEX\n",
    "assert mf.parts[17]['type'] == MarkdownLineEnum.DISPLAY_LATEX\n",
    "assert mf.parts[18]['type'] == MarkdownLineEnum.DISPLAY_LATEX\n",
    "assert mf.parts[19]['type'] == MarkdownLineEnum.DISPLAY_LATEX_END"
   ]
  },
  {
   "cell_type": "code",
   "execution_count": null,
   "metadata": {},
   "outputs": [
    {
     "name": "stdout",
     "output_type": "stream",
     "text": [
      "[{'type': <MarkdownLineEnum.META: 3>, 'line': '---'}, {'type': <MarkdownLineEnum.META: 3>, 'line': 'cssclass: clean-embeds'}, {'type': <MarkdownLineEnum.META: 3>, 'line': 'aliases: []'}, {'type': <MarkdownLineEnum.META: 3>, 'line': 'tags: [_meta/TODO/change_title, _meta/literature_note, _reference/some_reference]'}, {'type': <MarkdownLineEnum.META: 3>, 'line': '---'}, {'line': '# Topic[^1]', 'type': <MarkdownLineEnum.HEADING: 1>}, {'line': '', 'type': <MarkdownLineEnum.BLANK_LINE: 9>}, {'line': 'Some text', 'type': <MarkdownLineEnum.DEFAULT: 0>}, {'line': '$$', 'type': <MarkdownLineEnum.DISPLAY_LATEX_START: 13>}, {'line': 'a_{00} x_{0}^{2}+a_{01} x_{0} x_{1}+\\\\cdots+a_{22} x_{2}^{2}=0', 'type': <MarkdownLineEnum.DISPLAY_LATEX: 15>}, {'line': '$$482', 'type': <MarkdownLineEnum.DISPLAY_LATEX_END: 14>}, {'line': 'This is a title in a page', 'type': <MarkdownLineEnum.DEFAULT: 0>}, {'line': '', 'type': <MarkdownLineEnum.BLANK_LINE: 9>}, {'line': '# See Also', 'type': <MarkdownLineEnum.HEADING: 1>}, {'line': '', 'type': <MarkdownLineEnum.BLANK_LINE: 9>}, {'line': '# Meta', 'type': <MarkdownLineEnum.HEADING: 1>}, {'line': '## References', 'type': <MarkdownLineEnum.HEADING: 1>}, {'line': '![[_reference_some_reference]]', 'type': <MarkdownLineEnum.DEFAULT: 0>}, {'line': '', 'type': <MarkdownLineEnum.BLANK_LINE: 9>}, {'line': '## Citations and Footnotes', 'type': <MarkdownLineEnum.HEADING: 1>}, {'line': '[^1]: reference', 'type': <MarkdownLineEnum.FOOTNOTE_DESCRIPTION: 11>}]\n"
     ]
    }
   ],
   "source": [
    "#| hide\n",
    "# This tests whether types of parts are detected correctly, particularly the parts that are not LaTeX parts that come after LaTeX parts:\n",
    "# There was a wrong part type where $$482 happens - it was mistaken as an DISPLAY_LATEX as opposed to an DISPLAY_LATEX_END\n",
    "text = r\"\"\"---\n",
    "cssclass: clean-embeds\n",
    "aliases: []\n",
    "tags: [_meta/TODO/change_title, _meta/literature_note, _reference/some_reference]\n",
    "---\n",
    "# Topic[^1]\n",
    "\n",
    "Some text\n",
    "$$\n",
    "a_{00} x_{0}^{2}+a_{01} x_{0} x_{1}+\\cdots+a_{22} x_{2}^{2}=0\n",
    "$$482\n",
    "This is a title in a page\n",
    "\n",
    "# See Also\n",
    "\n",
    "# Meta\n",
    "## References\n",
    "![[_reference_some_reference]]\n",
    "\n",
    "## Citations and Footnotes\n",
    "[^1]: reference\"\"\"\n",
    "mf = MarkdownFile.from_string(text)\n",
    "print(mf.parts)"
   ]
  },
  {
   "cell_type": "markdown",
   "metadata": {},
   "source": [
    "## Getting headings of a `MarkdownFile` object"
   ]
  },
  {
   "cell_type": "markdown",
   "metadata": {},
   "source": [
    "In a Markdown file, one can set headings. In fact, you can consider the text here as text rendered with Markdown! More generally, you can type Markdown in Jupyter notebooks.\n",
    "\n",
    "For example, typing the following text\n"
   ]
  },
  {
   "cell_type": "markdown",
   "metadata": {},
   "source": [
    "There are multiple methods in the `MarkdownFile` class which retrieve the headings of a Markdown file and their locations.\n"
   ]
  },
  {
   "cell_type": "code",
   "execution_count": null,
   "metadata": {},
   "outputs": [],
   "source": [
    "template_mf = MarkdownFile.from_string(template_text)"
   ]
  },
  {
   "cell_type": "code",
   "execution_count": null,
   "metadata": {},
   "outputs": [
    {
     "data": {
      "text/markdown": [
       "---\n",
       "\n",
       "[source](https://github.com/hyunjongkimmath/trouver/blob/main/trouver/markdown/markdown/file.py#L239){target=\"_blank\" style=\"float:right; font-size:smaller\"}\n",
       "\n",
       "### MarkdownFile.get_headings\n",
       "\n",
       ">      MarkdownFile.get_headings (levels:Union[int,Iterator[int],NoneType]=None,\n",
       ">                                 include_start:bool=True)\n",
       "\n",
       "Return a list of heading titles in the markdown file.\n",
       "\n",
       "|    | **Type** | **Default** | **Details** |\n",
       "| -- | -------- | ----------- | ----------- |\n",
       "| levels | Union[int, Iterator[int], None] | None | The levels of the headings to search for. Each int is between 1 and 6 inclusive, as each heading can be of levels 1 to 6. Defaults to `None`, in which case all heading-levels are searched. |\n",
       "| include_start | bool | True | If `True` and if this object contains text that is not under a heading (i.e. the text does not start with a heading), then include `-1` as a key with the empty str as value. |\n",
       "| **Returns** | **list[str]** |  | **Each str is the heading, including leading sharps `'#'`.** |"
      ],
      "text/plain": [
       "---\n",
       "\n",
       "[source](https://github.com/hyunjongkimmath/trouver/blob/main/trouver/markdown/markdown/file.py#L239){target=\"_blank\" style=\"float:right; font-size:smaller\"}\n",
       "\n",
       "### MarkdownFile.get_headings\n",
       "\n",
       ">      MarkdownFile.get_headings (levels:Union[int,Iterator[int],NoneType]=None,\n",
       ">                                 include_start:bool=True)\n",
       "\n",
       "Return a list of heading titles in the markdown file.\n",
       "\n",
       "|    | **Type** | **Default** | **Details** |\n",
       "| -- | -------- | ----------- | ----------- |\n",
       "| levels | Union[int, Iterator[int], None] | None | The levels of the headings to search for. Each int is between 1 and 6 inclusive, as each heading can be of levels 1 to 6. Defaults to `None`, in which case all heading-levels are searched. |\n",
       "| include_start | bool | True | If `True` and if this object contains text that is not under a heading (i.e. the text does not start with a heading), then include `-1` as a key with the empty str as value. |\n",
       "| **Returns** | **list[str]** |  | **Each str is the heading, including leading sharps `'#'`.** |"
      ]
     },
     "execution_count": null,
     "metadata": {},
     "output_type": "execute_result"
    }
   ],
   "source": [
    "show_doc(MarkdownFile.get_headings)"
   ]
  },
  {
   "cell_type": "markdown",
   "metadata": {},
   "source": [
    "\n",
    "The `get_headings` function returns only a list of headings."
   ]
  },
  {
   "cell_type": "code",
   "execution_count": null,
   "metadata": {},
   "outputs": [
    {
     "name": "stdout",
     "output_type": "stream",
     "text": [
      "['# Topic[^1]', '# See Also', '# Meta', '## References', '## Citations and Footnotes', '']\n"
     ]
    }
   ],
   "source": [
    "print(template_mf.get_headings())\n",
    "assert template_mf.get_headings() == [\n",
    "    '# Topic[^1]', '# See Also', '# Meta', '## References', '## Citations and Footnotes', '']\n",
    "\n",
    "assert template_mf.get_headings((3,4,6), include_start=True) == ['']\n",
    "\n"
   ]
  },
  {
   "cell_type": "markdown",
   "metadata": {},
   "source": [
    "The empty heading `''` is returned when `include_start=True` and there is text belonging to no heading - this can only happen at the start of the Markdown file before any headings are specified. Any YAML frontmatter meta is considered as \"text belonging to no heading\".\n",
    "\n",
    "Setting `include_start=False` excludes  the empty heading altogether."
   ]
  },
  {
   "cell_type": "code",
   "execution_count": null,
   "metadata": {},
   "outputs": [],
   "source": [
    "assert template_mf.get_headings(include_start=False) == [\n",
    "    '# Topic[^1]', '# See Also', '# Meta', '## References', '## Citations and Footnotes']"
   ]
  },
  {
   "cell_type": "markdown",
   "metadata": {},
   "source": [
    "The parameter `levels` specifies which level headings to return. The argument passed to `levels` does not affect whether or not the empty heading `''` is included."
   ]
  },
  {
   "cell_type": "code",
   "execution_count": null,
   "metadata": {},
   "outputs": [],
   "source": [
    "assert template_mf.get_headings(levels=1, include_start=True) == [\n",
    "    '# Topic[^1]', '# See Also', '# Meta', '']\n",
    "assert template_mf.get_headings(levels=1, include_start=False) == [\n",
    "    '# Topic[^1]', '# See Also', '# Meta']\n",
    "# Since list(range(2,6)) == [2, 3, 4, 5], the below returns all headings of levels 2, 3, 4, 5.\n",
    "assert template_mf.get_headings(levels=range(2,6), include_start=True) == [\n",
    "    '## References', '## Citations and Footnotes', '']"
   ]
  },
  {
   "cell_type": "code",
   "execution_count": null,
   "metadata": {},
   "outputs": [
    {
     "data": {
      "text/markdown": [
       "---\n",
       "\n",
       "[source](https://github.com/hyunjongkimmath/trouver/blob/main/trouver/markdown/markdown/file.py#L251){target=\"_blank\" style=\"float:right; font-size:smaller\"}\n",
       "\n",
       "### MarkdownFile.get_headings_by_line_number\n",
       "\n",
       ">      MarkdownFile.get_headings_by_line_number\n",
       ">                                                (levels:Union[Iterator[int],int\n",
       ">                                                ,NoneType]=None,\n",
       ">                                                include_start:bool=True)\n",
       "\n",
       "Return a dict of heading titles in the markdown file.\n",
       "\n",
       "|    | **Type** | **Default** | **Details** |\n",
       "| -- | -------- | ----------- | ----------- |\n",
       "| levels | Union[Iterator[int], int, None] | None | The levels of the headings to search for. Each int is between 1 and 6 inclusive, as each heading can be of levels 1 to 6. If `None` then all heading-levels are searched. |\n",
       "| include_start | bool | True | If `True` and if this object contains text that is not under a heading (i.e. the text does not start with a heading), then include `-1` as a key with the empty str as value. |\n",
       "| **Returns** | **dict[int, str]** |  | **The keys are line numbers and each value is str is the heading string, including the leading sharps `'#'`, but without any leading or trailing whitespace characters.** |"
      ],
      "text/plain": [
       "---\n",
       "\n",
       "[source](https://github.com/hyunjongkimmath/trouver/blob/main/trouver/markdown/markdown/file.py#L251){target=\"_blank\" style=\"float:right; font-size:smaller\"}\n",
       "\n",
       "### MarkdownFile.get_headings_by_line_number\n",
       "\n",
       ">      MarkdownFile.get_headings_by_line_number\n",
       ">                                                (levels:Union[Iterator[int],int\n",
       ">                                                ,NoneType]=None,\n",
       ">                                                include_start:bool=True)\n",
       "\n",
       "Return a dict of heading titles in the markdown file.\n",
       "\n",
       "|    | **Type** | **Default** | **Details** |\n",
       "| -- | -------- | ----------- | ----------- |\n",
       "| levels | Union[Iterator[int], int, None] | None | The levels of the headings to search for. Each int is between 1 and 6 inclusive, as each heading can be of levels 1 to 6. If `None` then all heading-levels are searched. |\n",
       "| include_start | bool | True | If `True` and if this object contains text that is not under a heading (i.e. the text does not start with a heading), then include `-1` as a key with the empty str as value. |\n",
       "| **Returns** | **dict[int, str]** |  | **The keys are line numbers and each value is str is the heading string, including the leading sharps `'#'`, but without any leading or trailing whitespace characters.** |"
      ]
     },
     "execution_count": null,
     "metadata": {},
     "output_type": "execute_result"
    }
   ],
   "source": [
    "show_doc(MarkdownFile.get_headings_by_line_number)"
   ]
  },
  {
   "cell_type": "markdown",
   "metadata": {},
   "source": [
    "The `get_headings_by_line_number` function returns a dict whose keys are line numbers to headers and whose corresponding values are the full header str. \n",
    "\n",
    "Similarly as with `get_headings`, setting `include_start=True` includes the empty header; the corresponding line number is always `-1`."
   ]
  },
  {
   "cell_type": "code",
   "execution_count": null,
   "metadata": {},
   "outputs": [
    {
     "name": "stdout",
     "output_type": "stream",
     "text": [
      "{5: '# Topic[^1]', 7: '# See Also', 9: '# Meta', 10: '## References', 12: '## Citations and Footnotes', -1: ''}\n"
     ]
    }
   ],
   "source": [
    "line_numbers_and_headings = template_mf.get_headings_by_line_number()\n",
    "print(line_numbers_and_headings)\n",
    "assert line_numbers_and_headings == {\n",
    "5: '# Topic[^1]',\n",
    " 7: '# See Also',\n",
    " 9: '# Meta',\n",
    " 10: '## References',\n",
    " 12: '## Citations and Footnotes',\n",
    " -1: ''}\n",
    "\n",
    "assert template_mf.get_headings_by_line_number(include_start=False) == {\n",
    "5: '# Topic[^1]',\n",
    " 7: '# See Also',\n",
    " 9: '# Meta',\n",
    " 10: '## References',\n",
    " 12: '## Citations and Footnotes', }"
   ]
  },
  {
   "cell_type": "code",
   "execution_count": null,
   "metadata": {},
   "outputs": [],
   "source": [
    "# TODO: add more examples"
   ]
  },
  {
   "cell_type": "code",
   "execution_count": null,
   "metadata": {},
   "outputs": [
    {
     "data": {
      "text/markdown": [
       "---\n",
       "\n",
       "[source](https://github.com/hyunjongkimmath/trouver/blob/main/trouver/markdown/markdown/file.py#L275){target=\"_blank\" style=\"float:right; font-size:smaller\"}\n",
       "\n",
       "### MarkdownFile.get_headings_and_text\n",
       "\n",
       ">      MarkdownFile.get_headings_and_text\n",
       ">                                          (levels:Union[Iterator[int],int,NoneT\n",
       ">                                          ype]=None, include_start:bool=True)\n",
       "\n",
       "Return a list of headings and the text under each heading.\n",
       "\n",
       "The text under each heading does not include the text of\n",
       "subheadings.\n",
       "\n",
       "|    | **Type** | **Default** | **Details** |\n",
       "| -- | -------- | ----------- | ----------- |\n",
       "| levels | Union[Iterator[int], int, None] | None | The levels of the headings to search for. Each int is between 1 and 6 inclusive, as each heading can be of levels 1 to 6. If `None`, then all heading-levels are searched. |\n",
       "| include_start | bool | True | If `True` and if this object contains text that is not under a heading (i.e. the text does not start with a heading), then include `-1` as a key with the empty str as value. |\n",
       "| **Returns** | **dict[str, str]** |  | **Each key is the entire str of the heading, including the leading sharps `'#'`, but not including leading or trailing whitespace characters Each value is the str under that heading until the next heading, including at trailing next line characters `\\n`.  If `include_start` is `True`, then one of the keys is the empty str and the corresponding value is the start of the text that is not under any heading.** |"
      ],
      "text/plain": [
       "---\n",
       "\n",
       "[source](https://github.com/hyunjongkimmath/trouver/blob/main/trouver/markdown/markdown/file.py#L275){target=\"_blank\" style=\"float:right; font-size:smaller\"}\n",
       "\n",
       "### MarkdownFile.get_headings_and_text\n",
       "\n",
       ">      MarkdownFile.get_headings_and_text\n",
       ">                                          (levels:Union[Iterator[int],int,NoneT\n",
       ">                                          ype]=None, include_start:bool=True)\n",
       "\n",
       "Return a list of headings and the text under each heading.\n",
       "\n",
       "The text under each heading does not include the text of\n",
       "subheadings.\n",
       "\n",
       "|    | **Type** | **Default** | **Details** |\n",
       "| -- | -------- | ----------- | ----------- |\n",
       "| levels | Union[Iterator[int], int, None] | None | The levels of the headings to search for. Each int is between 1 and 6 inclusive, as each heading can be of levels 1 to 6. If `None`, then all heading-levels are searched. |\n",
       "| include_start | bool | True | If `True` and if this object contains text that is not under a heading (i.e. the text does not start with a heading), then include `-1` as a key with the empty str as value. |\n",
       "| **Returns** | **dict[str, str]** |  | **Each key is the entire str of the heading, including the leading sharps `'#'`, but not including leading or trailing whitespace characters Each value is the str under that heading until the next heading, including at trailing next line characters `\\n`.  If `include_start` is `True`, then one of the keys is the empty str and the corresponding value is the start of the text that is not under any heading.** |"
      ]
     },
     "execution_count": null,
     "metadata": {},
     "output_type": "execute_result"
    }
   ],
   "source": [
    "show_doc(MarkdownFile.get_headings_and_text)"
   ]
  },
  {
   "cell_type": "markdown",
   "metadata": {},
   "source": [
    "The `get_headings_and_text` function returns a dict whose keys are full headers and whose values are text under the headers."
   ]
  },
  {
   "cell_type": "code",
   "execution_count": null,
   "metadata": {},
   "outputs": [
    {
     "name": "stdout",
     "output_type": "stream",
     "text": [
      "{'': '---\\ncssclass: clean-embeds\\naliases: []\\ntags: [_meta/literature_note]\\n---', '# Topic[^1]': '', '# See Also': '', '# Meta': '', '## References': '', '## Citations and Footnotes': '[^1]: Citation'}\n",
      "{'# Topic[^1]': '', '# See Also': '', '# Meta': '', '## References': '', '## Citations and Footnotes': '[^1]: Citation'}\n"
     ]
    }
   ],
   "source": [
    "headings_and_text = template_mf.get_headings_and_text()\n",
    "print(headings_and_text)\n",
    "assert headings_and_text == { '': '---\\ncssclass: clean-embeds\\naliases: []\\ntags: [_meta/literature_note]\\n---',\n",
    " '# Topic[^1]': '',\n",
    " '# See Also': '',\n",
    " '# Meta': '',\n",
    " '## References': '',\n",
    " '## Citations and Footnotes': '[^1]: Citation' }\n",
    "\n",
    "print(template_mf.get_headings_and_text(None, False))\n",
    "assert template_mf.get_headings_and_text(None, False) == {\n",
    " '# Topic[^1]': '',\n",
    " '# See Also': '',\n",
    " '# Meta': '',\n",
    " '## References': '',\n",
    " '## Citations and Footnotes': '[^1]: Citation' }\n"
   ]
  },
  {
   "cell_type": "code",
   "execution_count": null,
   "metadata": {},
   "outputs": [],
   "source": [
    "# TODO: add more examples"
   ]
  },
  {
   "cell_type": "code",
   "execution_count": null,
   "metadata": {},
   "outputs": [
    {
     "data": {
      "text/markdown": [
       "---\n",
       "\n",
       "[source](https://github.com/hyunjongkimmath/trouver/blob/main/trouver/markdown/markdown/file.py#L304){target=\"_blank\" style=\"float:right; font-size:smaller\"}\n",
       "\n",
       "### MarkdownFile.get_headings_tree\n",
       "\n",
       ">      MarkdownFile.get_headings_tree ()\n",
       "\n",
       "Return a dict representing the tree of headings in the markdown file.\n",
       "\n",
       "**Returns**\n",
       "\n",
       "- dict[Union[str, int], Union[str, dict]]\n",
       "    - The keys are 1. line numbers or 2. the str `'title'`.  The values\n",
       "    are dict or str (the blank str if root node) respectively. The\n",
       "    dicts in themselves recursively represent trees and the str are\n",
       "    headings, including the leading sharps. In particular, the root\n",
       "    level dict also has the blank string `''` associated to the key\n",
       "    `'title'`."
      ],
      "text/plain": [
       "---\n",
       "\n",
       "[source](https://github.com/hyunjongkimmath/trouver/blob/main/trouver/markdown/markdown/file.py#L304){target=\"_blank\" style=\"float:right; font-size:smaller\"}\n",
       "\n",
       "### MarkdownFile.get_headings_tree\n",
       "\n",
       ">      MarkdownFile.get_headings_tree ()\n",
       "\n",
       "Return a dict representing the tree of headings in the markdown file.\n",
       "\n",
       "**Returns**\n",
       "\n",
       "- dict[Union[str, int], Union[str, dict]]\n",
       "    - The keys are 1. line numbers or 2. the str `'title'`.  The values\n",
       "    are dict or str (the blank str if root node) respectively. The\n",
       "    dicts in themselves recursively represent trees and the str are\n",
       "    headings, including the leading sharps. In particular, the root\n",
       "    level dict also has the blank string `''` associated to the key\n",
       "    `'title'`."
      ]
     },
     "execution_count": null,
     "metadata": {},
     "output_type": "execute_result"
    }
   ],
   "source": [
    "show_doc(MarkdownFile.get_headings_tree)"
   ]
  },
  {
   "cell_type": "code",
   "execution_count": null,
   "metadata": {},
   "outputs": [
    {
     "name": "stdout",
     "output_type": "stream",
     "text": [
      "{'title': '', 5: {'title': '# Topic[^1]'}, 7: {'title': '# See Also'}, 9: {'title': '# Meta', 10: {'title': '## References'}, 12: {'title': '## Citations and Footnotes'}}}\n"
     ]
    }
   ],
   "source": [
    "headings_tree = template_mf.get_headings_tree()\n",
    "print(headings_tree)\n",
    "assert headings_tree == {\n",
    "    'title': '',\n",
    "    5: {'title': '# Topic[^1]'},\n",
    "    7: {'title': '# See Also'},\n",
    "    9: {'title': '# Meta',\n",
    "        10: {'title': '## References'},\n",
    "        12: {'title': '## Citations and Footnotes'}\n",
    "        }\n",
    "}"
   ]
  },
  {
   "cell_type": "code",
   "execution_count": null,
   "metadata": {},
   "outputs": [
    {
     "data": {
      "text/markdown": [
       "---\n",
       "\n",
       "[source](https://github.com/hyunjongkimmath/trouver/blob/main/trouver/markdown/markdown/file.py#L336){target=\"_blank\" style=\"float:right; font-size:smaller\"}\n",
       "\n",
       "### MarkdownFile.get_line_number_of_heading\n",
       "\n",
       ">      MarkdownFile.get_line_number_of_heading (title:Optional[str]=None,\n",
       ">                                               from_line:int=0, levels:Union[It\n",
       ">                                               erator[int],int,NoneType]=None)\n",
       "\n",
       "Return the line number of the heading with the specified\n",
       "title after the specified line number.\n",
       "\n",
       "|    | **Type** | **Default** | **Details** |\n",
       "| -- | -------- | ----------- | ----------- |\n",
       "| title | Union[str, None] | None | Title of the heading. Does not include the leading sharps (`'#'`). If `None`, then return the line number of any heading after the specified line number. |\n",
       "| from_line | int | 0 | The line number to start searching for the heading with `title` from. |\n",
       "| levels | Union[Iterator[int], int, None] | None | The levels of the heading to search for. Each int is between 1 and 6 inclusive, as each heading can be of levels 1 to 6. If `None`, then all heading-levels are searched. |\n",
       "| **Returns** | **int** |  | **An index in `self.parts`. If no index/line number of the matching heading exists, then return -1.** |"
      ],
      "text/plain": [
       "---\n",
       "\n",
       "[source](https://github.com/hyunjongkimmath/trouver/blob/main/trouver/markdown/markdown/file.py#L336){target=\"_blank\" style=\"float:right; font-size:smaller\"}\n",
       "\n",
       "### MarkdownFile.get_line_number_of_heading\n",
       "\n",
       ">      MarkdownFile.get_line_number_of_heading (title:Optional[str]=None,\n",
       ">                                               from_line:int=0, levels:Union[It\n",
       ">                                               erator[int],int,NoneType]=None)\n",
       "\n",
       "Return the line number of the heading with the specified\n",
       "title after the specified line number.\n",
       "\n",
       "|    | **Type** | **Default** | **Details** |\n",
       "| -- | -------- | ----------- | ----------- |\n",
       "| title | Union[str, None] | None | Title of the heading. Does not include the leading sharps (`'#'`). If `None`, then return the line number of any heading after the specified line number. |\n",
       "| from_line | int | 0 | The line number to start searching for the heading with `title` from. |\n",
       "| levels | Union[Iterator[int], int, None] | None | The levels of the heading to search for. Each int is between 1 and 6 inclusive, as each heading can be of levels 1 to 6. If `None`, then all heading-levels are searched. |\n",
       "| **Returns** | **int** |  | **An index in `self.parts`. If no index/line number of the matching heading exists, then return -1.** |"
      ]
     },
     "execution_count": null,
     "metadata": {},
     "output_type": "execute_result"
    }
   ],
   "source": [
    "show_doc(MarkdownFile.get_line_number_of_heading)"
   ]
  },
  {
   "cell_type": "markdown",
   "metadata": {},
   "source": [
    "Note that the argument to `title` does not include the starting hashtags `#`."
   ]
  },
  {
   "cell_type": "code",
   "execution_count": null,
   "metadata": {},
   "outputs": [],
   "source": [
    "line_number = template_mf.get_line_number_of_heading(title='See Also')\n",
    "assert line_number == 7"
   ]
  },
  {
   "cell_type": "markdown",
   "metadata": {},
   "source": [
    "If the heading of the specified title does not exist, then `-1` is returned."
   ]
  },
  {
   "cell_type": "code",
   "execution_count": null,
   "metadata": {},
   "outputs": [],
   "source": [
    "assert template_mf.get_line_number_of_heading(title='Nonexistent title') == -1"
   ]
  },
  {
   "cell_type": "markdown",
   "metadata": {},
   "source": [
    "We can search for headers of specified titles from specified lines onward:"
   ]
  },
  {
   "cell_type": "code",
   "execution_count": null,
   "metadata": {},
   "outputs": [],
   "source": [
    "assert template_mf.get_line_number_of_heading(title='Topic[^1]', from_line=3) == 5\n",
    "assert template_mf.get_line_number_of_heading(title='Topic[^1]', from_line=6) == -1"
   ]
  },
  {
   "cell_type": "markdown",
   "metadata": {},
   "source": [
    "We can also specify the levels that the header must be: "
   ]
  },
  {
   "cell_type": "code",
   "execution_count": null,
   "metadata": {},
   "outputs": [],
   "source": [
    "assert template_mf.get_line_number_of_heading(title='Topic[^1]', levels=(1,2,6)) == 5\n",
    "assert template_mf.get_line_number_of_heading(title='Topic[^1]', levels=(3, 5)) == -1"
   ]
  },
  {
   "cell_type": "code",
   "execution_count": null,
   "metadata": {},
   "outputs": [
    {
     "data": {
      "text/markdown": [
       "---\n",
       "\n",
       "[source](https://github.com/hyunjongkimmath/trouver/blob/main/trouver/markdown/markdown/file.py#L355){target=\"_blank\" style=\"float:right; font-size:smaller\"}\n",
       "\n",
       "### MarkdownFile.get_line_numbers_under_heading\n",
       "\n",
       ">      MarkdownFile.get_line_numbers_under_heading (title:Optional[str]=None,\n",
       ">                                                   from_line:int=0, levels:Unio\n",
       ">                                                   n[Iterator[int],int,NoneType\n",
       ">                                                   ]=None, include_subheadings:\n",
       ">                                                   bool=True)\n",
       "\n",
       "Return the line numbers belonging to the heading.\n",
       "\n",
       "|    | **Type** | **Default** | **Details** |\n",
       "| -- | -------- | ----------- | ----------- |\n",
       "| title | Union[str, None] | None | Title of the heading. Does not include the leading sharps (`'#'`). If `None`, then return the line number of any heading after the specified line number. |\n",
       "| from_line | int | 0 | The line number to start searching for the heading with `title` from. |\n",
       "| levels | Union[Iterator[int], int, None] | None | The levels of the heading to search for. Each int is between 1 and 6 inclusive, as each heading can be of levels 1 to 6. If `None`, then all heading-levels are searched. |\n",
       "| include_subheadings | bool | True | If `True`, then include the subheadings. |\n",
       "| **Returns** | **Union[tuple[int], int]** |  | **`(start, end)` where `self.parts[start:end]` represents the parts under the heading, including the start of the heading.  If the heading of the specified title does not exist, then returns -1.** |"
      ],
      "text/plain": [
       "---\n",
       "\n",
       "[source](https://github.com/hyunjongkimmath/trouver/blob/main/trouver/markdown/markdown/file.py#L355){target=\"_blank\" style=\"float:right; font-size:smaller\"}\n",
       "\n",
       "### MarkdownFile.get_line_numbers_under_heading\n",
       "\n",
       ">      MarkdownFile.get_line_numbers_under_heading (title:Optional[str]=None,\n",
       ">                                                   from_line:int=0, levels:Unio\n",
       ">                                                   n[Iterator[int],int,NoneType\n",
       ">                                                   ]=None, include_subheadings:\n",
       ">                                                   bool=True)\n",
       "\n",
       "Return the line numbers belonging to the heading.\n",
       "\n",
       "|    | **Type** | **Default** | **Details** |\n",
       "| -- | -------- | ----------- | ----------- |\n",
       "| title | Union[str, None] | None | Title of the heading. Does not include the leading sharps (`'#'`). If `None`, then return the line number of any heading after the specified line number. |\n",
       "| from_line | int | 0 | The line number to start searching for the heading with `title` from. |\n",
       "| levels | Union[Iterator[int], int, None] | None | The levels of the heading to search for. Each int is between 1 and 6 inclusive, as each heading can be of levels 1 to 6. If `None`, then all heading-levels are searched. |\n",
       "| include_subheadings | bool | True | If `True`, then include the subheadings. |\n",
       "| **Returns** | **Union[tuple[int], int]** |  | **`(start, end)` where `self.parts[start:end]` represents the parts under the heading, including the start of the heading.  If the heading of the specified title does not exist, then returns -1.** |"
      ]
     },
     "execution_count": null,
     "metadata": {},
     "output_type": "execute_result"
    }
   ],
   "source": [
    "show_doc(MarkdownFile.get_line_numbers_under_heading)"
   ]
  },
  {
   "cell_type": "code",
   "execution_count": null,
   "metadata": {},
   "outputs": [
    {
     "name": "stdout",
     "output_type": "stream",
     "text": [
      "---\n",
      "cssclass: clean-embeds\n",
      "aliases: []\n",
      "tags: [_meta/literature_note]\n",
      "---\n",
      "# Topic[^1]\n",
      "\n",
      "# See Also\n",
      "\n",
      "# Meta\n",
      "## References\n",
      "\n",
      "## Citations and Footnotes\n",
      "[^1]: Citation\n"
     ]
    }
   ],
   "source": [
    "print(template_text)\n",
    "template_mf = MarkdownFile.from_string(template_text)\n",
    "assert template_mf.get_line_numbers_under_heading(title='Topic[^1]') == (5,7)\n",
    "assert template_mf.get_line_numbers_under_heading(title='See Also') == (7,9)\n",
    "assert template_mf.get_line_numbers_under_heading(title='Meta') == (9,14)\n",
    "assert template_mf.get_line_numbers_under_heading(title='References') == (10,12)\n",
    "assert template_mf.get_line_numbers_under_heading(title='Citations and Footnotes') == (12,14)"
   ]
  },
  {
   "cell_type": "markdown",
   "metadata": {},
   "source": [
    "If `include_subheadings=False`, then the line numbers for only the section without any subsections is returned."
   ]
  },
  {
   "cell_type": "code",
   "execution_count": null,
   "metadata": {},
   "outputs": [],
   "source": [
    "assert template_mf.get_line_numbers_under_heading(title='Topic[^1]', include_subheadings=False) == (5,7)\n",
    "assert template_mf.get_line_numbers_under_heading(title='See Also', include_subheadings=False) == (7,9)\n",
    "assert template_mf.get_line_numbers_under_heading(title='Meta', include_subheadings=False) == (9,10)\n",
    "assert template_mf.get_line_numbers_under_heading(title='References', include_subheadings=False) == (10,12)\n",
    "assert template_mf.get_line_numbers_under_heading(title='Citations and Footnotes', include_subheadings=False) == (12,14)"
   ]
  },
  {
   "cell_type": "markdown",
   "metadata": {},
   "source": [
    "## Adding/removing lines in a `MarkdownFile` object"
   ]
  },
  {
   "cell_type": "code",
   "execution_count": null,
   "metadata": {},
   "outputs": [],
   "source": [
    "# TODO examples of insert_line, remove_line, pop_line, add_line_to_end, add_blank_line_to_end, add_line_in_section"
   ]
  },
  {
   "cell_type": "code",
   "execution_count": null,
   "metadata": {},
   "outputs": [
    {
     "data": {
      "text/markdown": [
       "---\n",
       "\n",
       "[source](https://github.com/hyunjongkimmath/trouver/blob/main/trouver/markdown/markdown/file.py#L406){target=\"_blank\" style=\"float:right; font-size:smaller\"}\n",
       "\n",
       "### MarkdownFile.insert_line\n",
       "\n",
       ">      MarkdownFile.insert_line (index:int,\n",
       ">                                line_dict:dict[str,typing.Union[__main__.Markdo\n",
       ">                                wnLineEnum,str]])\n",
       "\n",
       "Add a line at the specified index/line number to `self.parts`.\n",
       "\n",
       "|    | **Type** | **Details** |\n",
       "| -- | -------- | ----------- |\n",
       "| index | int | The index at which to add `line_dict` into `self.parts`. |\n",
       "| line_dict | dict[str, Union[MarkdownLineEnum, str]] | See `self.parts`. |\n",
       "| **Returns** | **None** |  |"
      ],
      "text/plain": [
       "---\n",
       "\n",
       "[source](https://github.com/hyunjongkimmath/trouver/blob/main/trouver/markdown/markdown/file.py#L406){target=\"_blank\" style=\"float:right; font-size:smaller\"}\n",
       "\n",
       "### MarkdownFile.insert_line\n",
       "\n",
       ">      MarkdownFile.insert_line (index:int,\n",
       ">                                line_dict:dict[str,typing.Union[__main__.Markdo\n",
       ">                                wnLineEnum,str]])\n",
       "\n",
       "Add a line at the specified index/line number to `self.parts`.\n",
       "\n",
       "|    | **Type** | **Details** |\n",
       "| -- | -------- | ----------- |\n",
       "| index | int | The index at which to add `line_dict` into `self.parts`. |\n",
       "| line_dict | dict[str, Union[MarkdownLineEnum, str]] | See `self.parts`. |\n",
       "| **Returns** | **None** |  |"
      ]
     },
     "execution_count": null,
     "metadata": {},
     "output_type": "execute_result"
    }
   ],
   "source": [
    "show_doc(MarkdownFile.insert_line)"
   ]
  },
  {
   "cell_type": "code",
   "execution_count": null,
   "metadata": {},
   "outputs": [
    {
     "data": {
      "text/markdown": [
       "---\n",
       "\n",
       "[source](https://github.com/hyunjongkimmath/trouver/blob/main/trouver/markdown/markdown/file.py#L414){target=\"_blank\" style=\"float:right; font-size:smaller\"}\n",
       "\n",
       "### MarkdownFile.remove_line\n",
       "\n",
       ">      MarkdownFile.remove_line (index:int=-1)\n",
       "\n",
       "Remove a line from `self.parts`.\n",
       "\n",
       "|    | **Type** | **Default** | **Details** |\n",
       "| -- | -------- | ----------- | ----------- |\n",
       "| index | int | -1 | The index of the line to remove from `self.parts`. |\n",
       "| **Returns** | **None** |  |  |"
      ],
      "text/plain": [
       "---\n",
       "\n",
       "[source](https://github.com/hyunjongkimmath/trouver/blob/main/trouver/markdown/markdown/file.py#L414){target=\"_blank\" style=\"float:right; font-size:smaller\"}\n",
       "\n",
       "### MarkdownFile.remove_line\n",
       "\n",
       ">      MarkdownFile.remove_line (index:int=-1)\n",
       "\n",
       "Remove a line from `self.parts`.\n",
       "\n",
       "|    | **Type** | **Default** | **Details** |\n",
       "| -- | -------- | ----------- | ----------- |\n",
       "| index | int | -1 | The index of the line to remove from `self.parts`. |\n",
       "| **Returns** | **None** |  |  |"
      ]
     },
     "execution_count": null,
     "metadata": {},
     "output_type": "execute_result"
    }
   ],
   "source": [
    "show_doc(MarkdownFile.remove_line)"
   ]
  },
  {
   "cell_type": "code",
   "execution_count": null,
   "metadata": {},
   "outputs": [
    {
     "data": {
      "text/markdown": [
       "---\n",
       "\n",
       "[source](https://github.com/hyunjongkimmath/trouver/blob/main/trouver/markdown/markdown/file.py#L421){target=\"_blank\" style=\"float:right; font-size:smaller\"}\n",
       "\n",
       "### MarkdownFile.remove_lines\n",
       "\n",
       ">      MarkdownFile.remove_lines (start:int, end:int)\n",
       "\n",
       "Remove lines from `self.parts`.\n",
       "\n",
       "|    | **Type** | **Details** |\n",
       "| -- | -------- | ----------- |\n",
       "| start | int | The index of the first line to remove from `self.parts`. |\n",
       "| end | int | The end index to remove; the line of index `end` is not removed, but the line of index `end - ` is. |\n",
       "| **Returns** | **None** |  |"
      ],
      "text/plain": [
       "---\n",
       "\n",
       "[source](https://github.com/hyunjongkimmath/trouver/blob/main/trouver/markdown/markdown/file.py#L421){target=\"_blank\" style=\"float:right; font-size:smaller\"}\n",
       "\n",
       "### MarkdownFile.remove_lines\n",
       "\n",
       ">      MarkdownFile.remove_lines (start:int, end:int)\n",
       "\n",
       "Remove lines from `self.parts`.\n",
       "\n",
       "|    | **Type** | **Details** |\n",
       "| -- | -------- | ----------- |\n",
       "| start | int | The index of the first line to remove from `self.parts`. |\n",
       "| end | int | The end index to remove; the line of index `end` is not removed, but the line of index `end - ` is. |\n",
       "| **Returns** | **None** |  |"
      ]
     },
     "execution_count": null,
     "metadata": {},
     "output_type": "execute_result"
    }
   ],
   "source": [
    "show_doc(MarkdownFile.remove_lines)"
   ]
  },
  {
   "cell_type": "code",
   "execution_count": null,
   "metadata": {},
   "outputs": [
    {
     "data": {
      "text/markdown": [
       "---\n",
       "\n",
       "[source](https://github.com/hyunjongkimmath/trouver/blob/main/trouver/markdown/markdown/file.py#L429){target=\"_blank\" style=\"float:right; font-size:smaller\"}\n",
       "\n",
       "### MarkdownFile.pop_line\n",
       "\n",
       ">      MarkdownFile.pop_line (index:int=-1)\n",
       "\n",
       "Remove a line from `self.parts` and get its value.\n",
       "\n",
       "|    | **Type** | **Default** | **Details** |\n",
       "| -- | -------- | ----------- | ----------- |\n",
       "| index | int | -1 | The index of the line to pop from `self.parts`. |\n",
       "| **Returns** | **dict[str, Union[MarkdownLineEnum, str]]** |  | **The popped line** |"
      ],
      "text/plain": [
       "---\n",
       "\n",
       "[source](https://github.com/hyunjongkimmath/trouver/blob/main/trouver/markdown/markdown/file.py#L429){target=\"_blank\" style=\"float:right; font-size:smaller\"}\n",
       "\n",
       "### MarkdownFile.pop_line\n",
       "\n",
       ">      MarkdownFile.pop_line (index:int=-1)\n",
       "\n",
       "Remove a line from `self.parts` and get its value.\n",
       "\n",
       "|    | **Type** | **Default** | **Details** |\n",
       "| -- | -------- | ----------- | ----------- |\n",
       "| index | int | -1 | The index of the line to pop from `self.parts`. |\n",
       "| **Returns** | **dict[str, Union[MarkdownLineEnum, str]]** |  | **The popped line** |"
      ]
     },
     "execution_count": null,
     "metadata": {},
     "output_type": "execute_result"
    }
   ],
   "source": [
    "show_doc(MarkdownFile.pop_line)"
   ]
  },
  {
   "cell_type": "code",
   "execution_count": null,
   "metadata": {},
   "outputs": [
    {
     "data": {
      "text/markdown": [
       "---\n",
       "\n",
       "[source](https://github.com/hyunjongkimmath/trouver/blob/main/trouver/markdown/markdown/file.py#L436){target=\"_blank\" style=\"float:right; font-size:smaller\"}\n",
       "\n",
       "### MarkdownFile.add_line_to_end\n",
       "\n",
       ">      MarkdownFile.add_line_to_end\n",
       ">                                    (line_dict:dict[str,typing.Union[__main__.M\n",
       ">                                    arkdownLineEnum,str]])\n",
       "\n",
       "Add a line to the end of `self.parts`.\n",
       "\n",
       "|    | **Type** | **Details** |\n",
       "| -- | -------- | ----------- |\n",
       "| line_dict | dict[str, Union[MarkdownLineEnum, str]] | See `self.parts`. |\n",
       "| **Returns** | **None** |  |"
      ],
      "text/plain": [
       "---\n",
       "\n",
       "[source](https://github.com/hyunjongkimmath/trouver/blob/main/trouver/markdown/markdown/file.py#L436){target=\"_blank\" style=\"float:right; font-size:smaller\"}\n",
       "\n",
       "### MarkdownFile.add_line_to_end\n",
       "\n",
       ">      MarkdownFile.add_line_to_end\n",
       ">                                    (line_dict:dict[str,typing.Union[__main__.M\n",
       ">                                    arkdownLineEnum,str]])\n",
       "\n",
       "Add a line to the end of `self.parts`.\n",
       "\n",
       "|    | **Type** | **Details** |\n",
       "| -- | -------- | ----------- |\n",
       "| line_dict | dict[str, Union[MarkdownLineEnum, str]] | See `self.parts`. |\n",
       "| **Returns** | **None** |  |"
      ]
     },
     "execution_count": null,
     "metadata": {},
     "output_type": "execute_result"
    }
   ],
   "source": [
    "show_doc(MarkdownFile.add_line_to_end)"
   ]
  },
  {
   "cell_type": "code",
   "execution_count": null,
   "metadata": {},
   "outputs": [
    {
     "data": {
      "text/markdown": [
       "---\n",
       "\n",
       "[source](https://github.com/hyunjongkimmath/trouver/blob/main/trouver/markdown/markdown/file.py#L443){target=\"_blank\" style=\"float:right; font-size:smaller\"}\n",
       "\n",
       "### MarkdownFile.add_blank_line_to_end\n",
       "\n",
       ">      MarkdownFile.add_blank_line_to_end ()\n",
       "\n",
       "Add a blank line to the end of `self.parts`."
      ],
      "text/plain": [
       "---\n",
       "\n",
       "[source](https://github.com/hyunjongkimmath/trouver/blob/main/trouver/markdown/markdown/file.py#L443){target=\"_blank\" style=\"float:right; font-size:smaller\"}\n",
       "\n",
       "### MarkdownFile.add_blank_line_to_end\n",
       "\n",
       ">      MarkdownFile.add_blank_line_to_end ()\n",
       "\n",
       "Add a blank line to the end of `self.parts`."
      ]
     },
     "execution_count": null,
     "metadata": {},
     "output_type": "execute_result"
    }
   ],
   "source": [
    "show_doc(MarkdownFile.add_blank_line_to_end)"
   ]
  },
  {
   "cell_type": "code",
   "execution_count": null,
   "metadata": {},
   "outputs": [
    {
     "data": {
      "text/markdown": [
       "---\n",
       "\n",
       "[source](https://github.com/hyunjongkimmath/trouver/blob/main/trouver/markdown/markdown/file.py#L449){target=\"_blank\" style=\"float:right; font-size:smaller\"}\n",
       "\n",
       "### MarkdownFile.add_line_in_section\n",
       "\n",
       ">      MarkdownFile.add_line_in_section (title:str,\n",
       ">                                        line_dict:dict[str,typing.Union[__main_\n",
       ">                                        _.MarkdownLineEnum,str]],\n",
       ">                                        start:bool=True)\n",
       "\n",
       "Add a line in section specified by its title.\n",
       "\n",
       "|    | **Type** | **Default** | **Details** |\n",
       "| -- | -------- | ----------- | ----------- |\n",
       "| title | str |  | Title of the heading (without the leading sharps `'#'`) |\n",
       "| line_dict | dict[str, Union[MarkdownLineEnum, str]] |  | The line to add |\n",
       "| start | bool | True | If `True`, add to the start of the section. If `False`, add to the end of the section. |\n",
       "| **Returns** | **None** |  |  |"
      ],
      "text/plain": [
       "---\n",
       "\n",
       "[source](https://github.com/hyunjongkimmath/trouver/blob/main/trouver/markdown/markdown/file.py#L449){target=\"_blank\" style=\"float:right; font-size:smaller\"}\n",
       "\n",
       "### MarkdownFile.add_line_in_section\n",
       "\n",
       ">      MarkdownFile.add_line_in_section (title:str,\n",
       ">                                        line_dict:dict[str,typing.Union[__main_\n",
       ">                                        _.MarkdownLineEnum,str]],\n",
       ">                                        start:bool=True)\n",
       "\n",
       "Add a line in section specified by its title.\n",
       "\n",
       "|    | **Type** | **Default** | **Details** |\n",
       "| -- | -------- | ----------- | ----------- |\n",
       "| title | str |  | Title of the heading (without the leading sharps `'#'`) |\n",
       "| line_dict | dict[str, Union[MarkdownLineEnum, str]] |  | The line to add |\n",
       "| start | bool | True | If `True`, add to the start of the section. If `False`, add to the end of the section. |\n",
       "| **Returns** | **None** |  |  |"
      ]
     },
     "execution_count": null,
     "metadata": {},
     "output_type": "execute_result"
    }
   ],
   "source": [
    "show_doc(MarkdownFile.add_line_in_section)"
   ]
  },
  {
   "cell_type": "markdown",
   "metadata": {},
   "source": [
    "## Removing or clearing sections in a `MarkdownFile` object"
   ]
  },
  {
   "cell_type": "code",
   "execution_count": null,
   "metadata": {},
   "outputs": [
    {
     "data": {
      "text/markdown": [
       "---\n",
       "\n",
       "[source](https://github.com/hyunjongkimmath/trouver/blob/main/trouver/markdown/markdown/file.py#L463){target=\"_blank\" style=\"float:right; font-size:smaller\"}\n",
       "\n",
       "### MarkdownFile.remove_section\n",
       "\n",
       ">      MarkdownFile.remove_section (title:str)\n",
       "\n",
       "Remove the section with the specified title, including subsections,\n",
       "if the section exists.\n",
       "\n",
       "|    | **Type** | **Details** |\n",
       "| -- | -------- | ----------- |\n",
       "| title | str | The title of the section to remove (without the starting `'#'`'s) |\n",
       "| **Returns** | **None** |  |"
      ],
      "text/plain": [
       "---\n",
       "\n",
       "[source](https://github.com/hyunjongkimmath/trouver/blob/main/trouver/markdown/markdown/file.py#L463){target=\"_blank\" style=\"float:right; font-size:smaller\"}\n",
       "\n",
       "### MarkdownFile.remove_section\n",
       "\n",
       ">      MarkdownFile.remove_section (title:str)\n",
       "\n",
       "Remove the section with the specified title, including subsections,\n",
       "if the section exists.\n",
       "\n",
       "|    | **Type** | **Details** |\n",
       "| -- | -------- | ----------- |\n",
       "| title | str | The title of the section to remove (without the starting `'#'`'s) |\n",
       "| **Returns** | **None** |  |"
      ]
     },
     "execution_count": null,
     "metadata": {},
     "output_type": "execute_result"
    }
   ],
   "source": [
    "show_doc(MarkdownFile.remove_section)"
   ]
  },
  {
   "cell_type": "markdown",
   "metadata": {},
   "source": [
    "The `remove_section` method removes all lines belonging to a section, including subsections."
   ]
  },
  {
   "cell_type": "code",
   "execution_count": null,
   "metadata": {},
   "outputs": [],
   "source": [
    "# TODO remove_section, clear_section, clear_all_sections\n",
    "template_mf = MarkdownFile.from_string(template_text)\n",
    "template_mf.remove_section('Topic[^1]')\n",
    "assert len(template_mf.parts) == 12\n",
    "template_mf.remove_section('Meta')  # This removes subsections too!\n",
    "assert str(template_mf) == \"\"\"---\n",
    "cssclass: clean-embeds\n",
    "aliases: []\n",
    "tags: [_meta/literature_note]\n",
    "---\n",
    "# See Also\n",
    "\"\"\""
   ]
  },
  {
   "cell_type": "markdown",
   "metadata": {},
   "source": [
    "Attempting to remove a Non-existent section does nothing."
   ]
  },
  {
   "cell_type": "code",
   "execution_count": null,
   "metadata": {},
   "outputs": [],
   "source": [
    "mf_2 = MarkdownFile.from_string(template_text)\n",
    "mf_2.remove_section('Non existing section')\n",
    "assert str(mf_2), template_text"
   ]
  },
  {
   "cell_type": "code",
   "execution_count": null,
   "metadata": {},
   "outputs": [
    {
     "data": {
      "text/markdown": [
       "---\n",
       "\n",
       "[source](https://github.com/hyunjongkimmath/trouver/blob/main/trouver/markdown/markdown/file.py#L484){target=\"_blank\" style=\"float:right; font-size:smaller\"}\n",
       "\n",
       "### MarkdownFile.clear_section\n",
       "\n",
       ">      MarkdownFile.clear_section (title:str, leave_blank_line:bool=True,\n",
       ">                                  clear_subsections:Optional[str]=None)\n",
       "\n",
       "Clear the section with the specified title, if it exists.\n",
       "\n",
       "Does not clear subsections.\n",
       "\n",
       "|    | **Type** | **Default** | **Details** |\n",
       "| -- | -------- | ----------- | ----------- |\n",
       "| title | str |  | Title of the section (Without the leading sharps `'#'`) |\n",
       "| leave_blank_line | bool | True | If `True`, leaves a blank line at the end of the section. |\n",
       "| clear_subsections | Optional[str] | None | `'clear'`, `'delete'`, or `None`. If `'clear'`, then just clears the contents of subsections, but does not affect the headers. If `'delete'`, then clears the contents of the subsections and deletes the headers. If `None`, then does not affect either. |\n",
       "| **Returns** | **None** |  |  |"
      ],
      "text/plain": [
       "---\n",
       "\n",
       "[source](https://github.com/hyunjongkimmath/trouver/blob/main/trouver/markdown/markdown/file.py#L484){target=\"_blank\" style=\"float:right; font-size:smaller\"}\n",
       "\n",
       "### MarkdownFile.clear_section\n",
       "\n",
       ">      MarkdownFile.clear_section (title:str, leave_blank_line:bool=True,\n",
       ">                                  clear_subsections:Optional[str]=None)\n",
       "\n",
       "Clear the section with the specified title, if it exists.\n",
       "\n",
       "Does not clear subsections.\n",
       "\n",
       "|    | **Type** | **Default** | **Details** |\n",
       "| -- | -------- | ----------- | ----------- |\n",
       "| title | str |  | Title of the section (Without the leading sharps `'#'`) |\n",
       "| leave_blank_line | bool | True | If `True`, leaves a blank line at the end of the section. |\n",
       "| clear_subsections | Optional[str] | None | `'clear'`, `'delete'`, or `None`. If `'clear'`, then just clears the contents of subsections, but does not affect the headers. If `'delete'`, then clears the contents of the subsections and deletes the headers. If `None`, then does not affect either. |\n",
       "| **Returns** | **None** |  |  |"
      ]
     },
     "execution_count": null,
     "metadata": {},
     "output_type": "execute_result"
    }
   ],
   "source": [
    "show_doc(MarkdownFile.clear_section)"
   ]
  },
  {
   "cell_type": "code",
   "execution_count": null,
   "metadata": {},
   "outputs": [
    {
     "name": "stdout",
     "output_type": "stream",
     "text": [
      "\n",
      "# Section 1\n",
      "\n",
      "## Subsection a\n",
      "Didididi\n",
      "Dododododo\n",
      "# Section 2\n"
     ]
    }
   ],
   "source": [
    "mf = MarkdownFile.from_string(text_1)\n",
    "mf.clear_section('Section 1', leave_blank_line=True)\n",
    "headings_and_text = mf.get_headings_and_text()\n",
    "assert headings_and_text['# Section 1'] == ''\n",
    "assert mf.get_line_number_of_heading('Subsection a') == 3\n",
    "assert mf.parts[4]['line'] == 'Didididi'\n",
    "print(mf)"
   ]
  },
  {
   "cell_type": "markdown",
   "metadata": {},
   "source": [
    "Setting `leave_blank_line=False` leaves no blank line between the section and the next:"
   ]
  },
  {
   "cell_type": "code",
   "execution_count": null,
   "metadata": {},
   "outputs": [
    {
     "name": "stdout",
     "output_type": "stream",
     "text": [
      "\n",
      "# Section 1\n",
      "## Subsection a\n",
      "Didididi\n",
      "Dododododo\n",
      "# Section 2\n"
     ]
    }
   ],
   "source": [
    "mf = MarkdownFile.from_string(text_1)\n",
    "mf.clear_section('Section 1', leave_blank_line=False)\n",
    "headings_and_text = mf.get_headings_and_text()\n",
    "assert headings_and_text['# Section 1'] == ''\n",
    "assert mf.get_line_number_of_heading('Subsection a') == 2\n",
    "assert mf.parts[3]['line'] == 'Didididi'\n",
    "print(mf)"
   ]
  },
  {
   "cell_type": "code",
   "execution_count": null,
   "metadata": {},
   "outputs": [
    {
     "data": {
      "text/markdown": [
       "---\n",
       "\n",
       "[source](https://github.com/hyunjongkimmath/trouver/blob/main/trouver/markdown/markdown/file.py#L509){target=\"_blank\" style=\"float:right; font-size:smaller\"}\n",
       "\n",
       "### MarkdownFile.clear_all_sections\n",
       "\n",
       ">      MarkdownFile.clear_all_sections (leave_blank_lines:bool=True)\n",
       "\n",
       "Clear all sections.\n",
       "\n",
       "Does not clear frontmatter metadata. Leaves all headers intact.\n",
       "\n",
       "|    | **Type** | **Default** | **Details** |\n",
       "| -- | -------- | ----------- | ----------- |\n",
       "| leave_blank_lines | bool | True |  |\n",
       "| **Returns** | **None** |  | **If True, leaves a blank line in each section** |"
      ],
      "text/plain": [
       "---\n",
       "\n",
       "[source](https://github.com/hyunjongkimmath/trouver/blob/main/trouver/markdown/markdown/file.py#L509){target=\"_blank\" style=\"float:right; font-size:smaller\"}\n",
       "\n",
       "### MarkdownFile.clear_all_sections\n",
       "\n",
       ">      MarkdownFile.clear_all_sections (leave_blank_lines:bool=True)\n",
       "\n",
       "Clear all sections.\n",
       "\n",
       "Does not clear frontmatter metadata. Leaves all headers intact.\n",
       "\n",
       "|    | **Type** | **Default** | **Details** |\n",
       "| -- | -------- | ----------- | ----------- |\n",
       "| leave_blank_lines | bool | True |  |\n",
       "| **Returns** | **None** |  | **If True, leaves a blank line in each section** |"
      ]
     },
     "execution_count": null,
     "metadata": {},
     "output_type": "execute_result"
    }
   ],
   "source": [
    "show_doc(MarkdownFile.clear_all_sections)"
   ]
  },
  {
   "cell_type": "code",
   "execution_count": null,
   "metadata": {},
   "outputs": [
    {
     "name": "stdout",
     "output_type": "stream",
     "text": [
      "# Section 1\n",
      "## Subsection a\n",
      "# Section 2\n"
     ]
    }
   ],
   "source": [
    "mf = MarkdownFile.from_string(text_1)\n",
    "mf.clear_all_sections(leave_blank_lines=True)\n",
    "assert len(mf.parts) == 3\n",
    "print(mf)"
   ]
  },
  {
   "cell_type": "markdown",
   "metadata": {},
   "source": [
    "## Metadata in a `MarkdownFile` object"
   ]
  },
  {
   "cell_type": "markdown",
   "metadata": {},
   "source": [
    "Here are some things that we can do with a `MarkdownFile` object with frontmatter YAML metadata:"
   ]
  },
  {
   "cell_type": "code",
   "execution_count": null,
   "metadata": {},
   "outputs": [
    {
     "name": "stdout",
     "output_type": "stream",
     "text": [
      "{'cssclass': 'clean-embeds', 'aliases': [], 'tags': ['_meta/literature_note']} \n",
      "\n",
      "The following is the MarkdownFile with new frontmatter YAML metadata:\n",
      "\n",
      "---\n",
      "aliases: [an_awesome_note, no_more_cssclass, no_more_tags]\n",
      "---\n",
      "# Topic[^1]\n",
      "\n",
      "# See Also\n",
      "\n",
      "# Meta\n",
      "## References\n",
      "\n",
      "## Citations and Footnotes\n",
      "[^1]: Citation \n",
      "\n",
      "The following is the MarkdownFile with frontmatter YAML metadata removed:\n",
      "\n",
      "# Topic[^1]\n",
      "\n",
      "# See Also\n",
      "\n",
      "# Meta\n",
      "## References\n",
      "\n",
      "## Citations and Footnotes\n",
      "[^1]: Citation\n"
     ]
    }
   ],
   "source": [
    "template_mf = MarkdownFile.from_string(template_text)\n",
    "print (template_mf.metadata(), '\\n')\n",
    "assert template_mf.metadata() == {'cssclass': 'clean-embeds', 'aliases': [], 'tags': ['_meta/literature_note']}\n",
    "assert template_mf.has_metadata()\n",
    "assert template_mf.metadata_lines() == (0, 4)\n",
    "\n",
    "\n",
    "new_metadata = {'aliases': ['an_awesome_note', 'no_more_cssclass', 'no_more_tags']}\n",
    "template_mf.replace_metadata(new_metadata)\n",
    "print('The following is the MarkdownFile with new frontmatter YAML metadata:\\n')\n",
    "print(template_mf, '\\n')\n",
    "assert str(template_mf) == \"\"\"---\n",
    "aliases: [an_awesome_note, no_more_cssclass, no_more_tags]\n",
    "---\n",
    "# Topic[^1]\n",
    "\n",
    "# See Also\n",
    "\n",
    "# Meta\n",
    "## References\n",
    "\n",
    "## Citations and Footnotes\n",
    "[^1]: Citation\"\"\"\n",
    "\n",
    "\n",
    "template_mf.remove_metadata()\n",
    "print('The following is the MarkdownFile with frontmatter YAML metadata removed:\\n')\n",
    "print(template_mf)\n",
    "assert str(template_mf) == \"\"\"# Topic[^1]\n",
    "\n",
    "# See Also\n",
    "\n",
    "# Meta\n",
    "## References\n",
    "\n",
    "## Citations and Footnotes\n",
    "[^1]: Citation\"\"\""
   ]
  },
  {
   "cell_type": "markdown",
   "metadata": {},
   "source": [
    "Note that if the `MarkdownFile` does not have any YAML frontmatter metadata, then the `metadata` method returns `None`:"
   ]
  },
  {
   "cell_type": "code",
   "execution_count": null,
   "metadata": {},
   "outputs": [],
   "source": [
    "mf_1 = MarkdownFile.from_string(text_1)\n",
    "assert mf_1.metadata() is None"
   ]
  },
  {
   "cell_type": "markdown",
   "metadata": {},
   "source": [
    "If the `MarkdownFile`'s YAML frontmatter metadata has formatting issues then `metadata` raises a ValueError. In actuality, the error message also yields the appropraite [yaml.YAMLError](https://github.com/yaml/pyyaml/blob/8cdff2c80573b8be8e8ad28929264a913a63aa33/lib/yaml/error.py) in the [PyYAML](https://github.com/yaml/pyyaml) library, e.g. [`yaml.parser.ParserError`](https://github.com/yaml/pyyaml/blob/master/lib/yaml/parser.py), [`yaml.scanner.ScannerError`](https://github.com/yaml/pyyaml/blob/master/lib/yaml/scanner.py), or [`yaml.reader.ReaderError`](https://github.com/yaml/pyyaml/blob/master/lib/yaml/reader.py)."
   ]
  },
  {
   "cell_type": "code",
   "execution_count": null,
   "metadata": {},
   "outputs": [],
   "source": [
    "text_with_bad_yaml = \"---\\nsome_metadata_field: [\\badly_formatted_string]\\n---\\nThe rest of the note contents...\"\n",
    "mf = MarkdownFile.from_string(text_with_bad_yaml)\n",
    "with ExceptionExpected(ValueError): # By virtue of giving a ReaderError\n",
    "    mf.metadata()\n",
    "\n",
    "\n",
    "text_with_bad_yaml = \"---\\nfield: field2: \\n---\\nThe rest of the note contents...\"\n",
    "mf = MarkdownFile.from_string(text_with_bad_yaml)\n",
    "with ExceptionExpected(ValueError): # By virtue of giving a ScannerError\n",
    "    mf.metadata()\n",
    "\n",
    "\n",
    "text_with_bad_yaml = \"---\\nfield: John\\n- field2: Mary \\n---\\nThe rest of the note contents...\"\n",
    "mf = MarkdownFile.from_string(text_with_bad_yaml)\n",
    "with ExceptionExpected(ValueError): # By virtue of giving a ParserError\n",
    "    mf.metadata()\n",
    "\n"
   ]
  },
  {
   "cell_type": "code",
   "execution_count": null,
   "metadata": {},
   "outputs": [],
   "source": [
    "#| hide\n",
    "# Test escaping characters\n",
    "\n",
    "#     latex_in_original: [\"\\\\mathscr{O}_{\\\\text {Proj } S_{*}}(n)\"]"
   ]
  },
  {
   "cell_type": "code",
   "execution_count": null,
   "metadata": {},
   "outputs": [
    {
     "data": {
      "text/markdown": [
       "---\n",
       "\n",
       "[source](https://github.com/hyunjongkimmath/trouver/blob/main/trouver/markdown/markdown/file.py#L568){target=\"_blank\" style=\"float:right; font-size:smaller\"}\n",
       "\n",
       "### MarkdownFile.has_metadata\n",
       "\n",
       ">      MarkdownFile.has_metadata ()\n",
       "\n",
       "Return `True` if this `MarkdownFile` object has fronmatter\n",
       "YAML metadata.\n",
       "\n",
       "If the `MarkdownFile` object has any frontmatter YAML metadata, then\n",
       "it is expected to be at the very start; in particular, it must not\n",
       "be preceded by any whitespace characters."
      ],
      "text/plain": [
       "---\n",
       "\n",
       "[source](https://github.com/hyunjongkimmath/trouver/blob/main/trouver/markdown/markdown/file.py#L568){target=\"_blank\" style=\"float:right; font-size:smaller\"}\n",
       "\n",
       "### MarkdownFile.has_metadata\n",
       "\n",
       ">      MarkdownFile.has_metadata ()\n",
       "\n",
       "Return `True` if this `MarkdownFile` object has fronmatter\n",
       "YAML metadata.\n",
       "\n",
       "If the `MarkdownFile` object has any frontmatter YAML metadata, then\n",
       "it is expected to be at the very start; in particular, it must not\n",
       "be preceded by any whitespace characters."
      ]
     },
     "execution_count": null,
     "metadata": {},
     "output_type": "execute_result"
    }
   ],
   "source": [
    "show_doc(MarkdownFile.has_metadata)"
   ]
  },
  {
   "cell_type": "code",
   "execution_count": null,
   "metadata": {},
   "outputs": [
    {
     "data": {
      "text/markdown": [
       "---\n",
       "\n",
       "[source](https://github.com/hyunjongkimmath/trouver/blob/main/trouver/markdown/markdown/file.py#L591){target=\"_blank\" style=\"float:right; font-size:smaller\"}\n",
       "\n",
       "### MarkdownFile.metadata_lines\n",
       "\n",
       ">      MarkdownFile.metadata_lines ()\n",
       "\n",
       "Return the indices in `self.parts` which are metadata.\n",
       "\n",
       "Assumes that `self.parts` is nonempty. \n",
       "\n",
       "If the MarkdownFile object has any frontmatter YAML metadata, then\n",
       "it is expected to be at the very start; in particular, it must not\n",
       "be preceded by any whitespace characters.\n",
       "\n",
       "**Returns**\n",
       "\n",
       "- tuple\n",
       "    - The tuple consists of 2 ints, `a` and `b`, where `self.parts[a:b+1]`\n",
       "    represent the metadata lines, including the `'---'` before and after."
      ],
      "text/plain": [
       "---\n",
       "\n",
       "[source](https://github.com/hyunjongkimmath/trouver/blob/main/trouver/markdown/markdown/file.py#L591){target=\"_blank\" style=\"float:right; font-size:smaller\"}\n",
       "\n",
       "### MarkdownFile.metadata_lines\n",
       "\n",
       ">      MarkdownFile.metadata_lines ()\n",
       "\n",
       "Return the indices in `self.parts` which are metadata.\n",
       "\n",
       "Assumes that `self.parts` is nonempty. \n",
       "\n",
       "If the MarkdownFile object has any frontmatter YAML metadata, then\n",
       "it is expected to be at the very start; in particular, it must not\n",
       "be preceded by any whitespace characters.\n",
       "\n",
       "**Returns**\n",
       "\n",
       "- tuple\n",
       "    - The tuple consists of 2 ints, `a` and `b`, where `self.parts[a:b+1]`\n",
       "    represent the metadata lines, including the `'---'` before and after."
      ]
     },
     "execution_count": null,
     "metadata": {},
     "output_type": "execute_result"
    }
   ],
   "source": [
    "show_doc(MarkdownFile.metadata_lines)"
   ]
  },
  {
   "cell_type": "code",
   "execution_count": null,
   "metadata": {},
   "outputs": [
    {
     "data": {
      "text/markdown": [
       "---\n",
       "\n",
       "[source](https://github.com/hyunjongkimmath/trouver/blob/main/trouver/markdown/markdown/file.py#L621){target=\"_blank\" style=\"float:right; font-size:smaller\"}\n",
       "\n",
       "### MarkdownFile.replace_metadata\n",
       "\n",
       ">      MarkdownFile.replace_metadata (new_metadata:dict[str],\n",
       ">                                     enquote_entries_in_fields:list[str]=[])\n",
       "\n",
       "Replace the frontmatter metadata of this MarkdownFile object.\n",
       "\n",
       "Optionally also enquotes string entries in fields specified by\n",
       "`enquote_entries_in_fields`.\n",
       "\n",
       "**Warning**\n",
       "- This method is only tested when the values of `new_metadata` are either `str` or\n",
       "`list[str]`.\n",
       "\n",
       "|    | **Type** | **Default** | **Details** |\n",
       "| -- | -------- | ----------- | ----------- |\n",
       "| new_metadata | dict[str] |  | The dictionary representing the new metadata. The keys are the names of fields. The values are the field values, usually expected to be a single string or a list of strings |\n",
       "| enquote_entries_in_fields | list[str] | [] | A list of str of fields in the YAML metadata whose entries need to be enquoted. If there is a string that is not a key of `new_metadata`, then that string is essentially ignored (in particular, no errors are raised). |\n",
       "| **Returns** | **None** |  |  |"
      ],
      "text/plain": [
       "---\n",
       "\n",
       "[source](https://github.com/hyunjongkimmath/trouver/blob/main/trouver/markdown/markdown/file.py#L621){target=\"_blank\" style=\"float:right; font-size:smaller\"}\n",
       "\n",
       "### MarkdownFile.replace_metadata\n",
       "\n",
       ">      MarkdownFile.replace_metadata (new_metadata:dict[str],\n",
       ">                                     enquote_entries_in_fields:list[str]=[])\n",
       "\n",
       "Replace the frontmatter metadata of this MarkdownFile object.\n",
       "\n",
       "Optionally also enquotes string entries in fields specified by\n",
       "`enquote_entries_in_fields`.\n",
       "\n",
       "**Warning**\n",
       "- This method is only tested when the values of `new_metadata` are either `str` or\n",
       "`list[str]`.\n",
       "\n",
       "|    | **Type** | **Default** | **Details** |\n",
       "| -- | -------- | ----------- | ----------- |\n",
       "| new_metadata | dict[str] |  | The dictionary representing the new metadata. The keys are the names of fields. The values are the field values, usually expected to be a single string or a list of strings |\n",
       "| enquote_entries_in_fields | list[str] | [] | A list of str of fields in the YAML metadata whose entries need to be enquoted. If there is a string that is not a key of `new_metadata`, then that string is essentially ignored (in particular, no errors are raised). |\n",
       "| **Returns** | **None** |  |  |"
      ]
     },
     "execution_count": null,
     "metadata": {},
     "output_type": "execute_result"
    }
   ],
   "source": [
    "show_doc(MarkdownFile.replace_metadata)"
   ]
  },
  {
   "cell_type": "code",
   "execution_count": null,
   "metadata": {},
   "outputs": [],
   "source": [
    "# TODO: basic example"
   ]
  },
  {
   "cell_type": "markdown",
   "metadata": {},
   "source": [
    "In the case that the metadata comprises of strings which need to be escaped (because they have backslashes), then the `enquote_entries_in_fields` parameter of the `MarkdownFile.replace_metadata` method can be specified to enquote and escape such strings, cf. `dict_to_metadata_lines`."
   ]
  },
  {
   "cell_type": "markdown",
   "metadata": {},
   "source": [
    "In particular, the `MarkdownFile.replace_metadata` method with the `MarkdownFile` object's own `.metadata()` passed in the following example should ideally not modify the string of the `MarkdownFile` object. This feature needs to be tested with more examples, however."
   ]
  },
  {
   "cell_type": "code",
   "execution_count": null,
   "metadata": {},
   "outputs": [],
   "source": [
    "mf = MarkdownFile.from_string(\n",
    "    r'''---\n",
    "latex_in_original: [\"\\\\mathscr{O}_{\\\\text {Proj } S_{*}}(n)\"]\n",
    "---\n",
    "\n",
    "''')\n",
    "\n",
    "original_metadata = mf.metadata()\n",
    "original_str = str(mf).strip()\n",
    "\n",
    "dict_to_metadata_lines(mf.metadata(), enquote_entries_in_fields=['latex_in_original'])\n",
    "mf.replace_metadata(mf.metadata(), enquote_entries_in_fields=['latex_in_original'])\n",
    "\n",
    "test_eq(mf.metadata(), original_metadata)\n",
    "test_eq(str(mf).strip(), original_str)"
   ]
  },
  {
   "cell_type": "markdown",
   "metadata": {},
   "source": [
    "Multiple methods in the `MarkdownFile` class, including `MarkdownFile.add_tags`, `MarkdownFile.remove_tags`, and `MarkdownFile.replace_auto_tags_with_regular_tags` depend on the `MarkdownFile.replace_metadata` method. Arguments for the `enquote_entries_in_metadata_fields` must be specified appropriately when using these methods."
   ]
  },
  {
   "cell_type": "code",
   "execution_count": null,
   "metadata": {},
   "outputs": [
    {
     "data": {
      "text/markdown": [
       "---\n",
       "\n",
       "[source](https://github.com/hyunjongkimmath/trouver/blob/main/trouver/markdown/markdown/file.py#L645){target=\"_blank\" style=\"float:right; font-size:smaller\"}\n",
       "\n",
       "### MarkdownFile.remove_metadata\n",
       "\n",
       ">      MarkdownFile.remove_metadata ()\n",
       "\n",
       "Remove the frontmatter metadata of this MarkdownFile object."
      ],
      "text/plain": [
       "---\n",
       "\n",
       "[source](https://github.com/hyunjongkimmath/trouver/blob/main/trouver/markdown/markdown/file.py#L645){target=\"_blank\" style=\"float:right; font-size:smaller\"}\n",
       "\n",
       "### MarkdownFile.remove_metadata\n",
       "\n",
       ">      MarkdownFile.remove_metadata ()\n",
       "\n",
       "Remove the frontmatter metadata of this MarkdownFile object."
      ]
     },
     "execution_count": null,
     "metadata": {},
     "output_type": "execute_result"
    }
   ],
   "source": [
    "show_doc(MarkdownFile.remove_metadata)"
   ]
  },
  {
   "cell_type": "code",
   "execution_count": null,
   "metadata": {},
   "outputs": [
    {
     "data": {
      "text/markdown": [
       "---\n",
       "\n",
       "[source](https://github.com/hyunjongkimmath/trouver/blob/main/trouver/markdown/markdown/file.py#L580){target=\"_blank\" style=\"float:right; font-size:smaller\"}\n",
       "\n",
       "### MarkdownFile.add_metadata_section\n",
       "\n",
       ">      MarkdownFile.add_metadata_section (check_exists:bool=True)\n",
       "\n",
       "Add a frontmatter YAML metadata at the very beginning.\n",
       "\n",
       "|    | **Type** | **Default** | **Details** |\n",
       "| -- | -------- | ----------- | ----------- |\n",
       "| check_exists | bool | True | If `True`, Check if there is already a metadata section at the beginning and do not add a metadata section if it exists. |\n",
       "| **Returns** | **None** |  |  |"
      ],
      "text/plain": [
       "---\n",
       "\n",
       "[source](https://github.com/hyunjongkimmath/trouver/blob/main/trouver/markdown/markdown/file.py#L580){target=\"_blank\" style=\"float:right; font-size:smaller\"}\n",
       "\n",
       "### MarkdownFile.add_metadata_section\n",
       "\n",
       ">      MarkdownFile.add_metadata_section (check_exists:bool=True)\n",
       "\n",
       "Add a frontmatter YAML metadata at the very beginning.\n",
       "\n",
       "|    | **Type** | **Default** | **Details** |\n",
       "| -- | -------- | ----------- | ----------- |\n",
       "| check_exists | bool | True | If `True`, Check if there is already a metadata section at the beginning and do not add a metadata section if it exists. |\n",
       "| **Returns** | **None** |  |  |"
      ]
     },
     "execution_count": null,
     "metadata": {},
     "output_type": "execute_result"
    }
   ],
   "source": [
    "show_doc(MarkdownFile.add_metadata_section)"
   ]
  },
  {
   "cell_type": "markdown",
   "metadata": {},
   "source": [
    "If the `MarkdownFile` has no frontmatter YAML metadata, then we can use the `add_metadata_section` method to add blank frontmatter YAML metadata:"
   ]
  },
  {
   "cell_type": "code",
   "execution_count": null,
   "metadata": {},
   "outputs": [
    {
     "name": "stdout",
     "output_type": "stream",
     "text": [
      "---\n",
      "\n",
      "---\n",
      "\n",
      "\n",
      "# Section 1\n",
      "some text \n",
      "\n",
      "asdfasdf\n",
      "\n",
      "## Subsection a\n",
      "Didididi\n",
      "Dododododo\n",
      "# Section 2\n"
     ]
    }
   ],
   "source": [
    "mf = MarkdownFile.from_string(text_1)\n",
    "assert not mf.has_metadata()\n",
    "mf.add_metadata_section()\n",
    "print(mf)"
   ]
  },
  {
   "cell_type": "markdown",
   "metadata": {},
   "source": [
    "If the `MarkdownFile` object already has frontmatter YAML metadata, then the `add_metadata_section` method does nothing."
   ]
  },
  {
   "cell_type": "code",
   "execution_count": null,
   "metadata": {},
   "outputs": [],
   "source": [
    "template_mf = MarkdownFile.from_string(template_text)\n",
    "mf.add_metadata_section()\n",
    "assert str(template_mf) == template_text"
   ]
  },
  {
   "cell_type": "markdown",
   "metadata": {},
   "source": [
    "## Tags in `MarkdownFile` objects\n"
   ]
  },
  {
   "cell_type": "markdown",
   "metadata": {},
   "source": [
    "#### YAML metadata tags"
   ]
  },
  {
   "cell_type": "markdown",
   "metadata": {},
   "source": [
    "In Obsidian, one can add tags to notes both within text and in the frontmatter YAML metadata."
   ]
  },
  {
   "cell_type": "code",
   "execution_count": null,
   "metadata": {},
   "outputs": [
    {
     "data": {
      "text/markdown": [
       "---\n",
       "\n",
       "[source](https://github.com/hyunjongkimmath/trouver/blob/main/trouver/markdown/markdown/file.py#L650){target=\"_blank\" style=\"float:right; font-size:smaller\"}\n",
       "\n",
       "### MarkdownFile.has_tag\n",
       "\n",
       ">      MarkdownFile.has_tag (tag:str)\n",
       "\n",
       "Return `True` if the Markdown file has the specified tag in its\n",
       "YAML frontmatter metadata.\n",
       "\n",
       "More specifically, return `True` if the `MarkdownFile` objeect\n",
       "\n",
       "1. has YAML frontmatter metadata,\n",
       "2. the metadata has a `'tags'` section,, and\n",
       "3. the `'tags'` section is a list with the specified tag.\n",
       "\n",
       "Note that `tag` should not start with the hashtag `#` charater.\n",
       "\n",
       "|    | **Type** | **Details** |\n",
       "| -- | -------- | ----------- |\n",
       "| tag | str | The tag. Does not start with the hashtag `'#'`. |\n",
       "| **Returns** | **bool** |  |"
      ],
      "text/plain": [
       "---\n",
       "\n",
       "[source](https://github.com/hyunjongkimmath/trouver/blob/main/trouver/markdown/markdown/file.py#L650){target=\"_blank\" style=\"float:right; font-size:smaller\"}\n",
       "\n",
       "### MarkdownFile.has_tag\n",
       "\n",
       ">      MarkdownFile.has_tag (tag:str)\n",
       "\n",
       "Return `True` if the Markdown file has the specified tag in its\n",
       "YAML frontmatter metadata.\n",
       "\n",
       "More specifically, return `True` if the `MarkdownFile` objeect\n",
       "\n",
       "1. has YAML frontmatter metadata,\n",
       "2. the metadata has a `'tags'` section,, and\n",
       "3. the `'tags'` section is a list with the specified tag.\n",
       "\n",
       "Note that `tag` should not start with the hashtag `#` charater.\n",
       "\n",
       "|    | **Type** | **Details** |\n",
       "| -- | -------- | ----------- |\n",
       "| tag | str | The tag. Does not start with the hashtag `'#'`. |\n",
       "| **Returns** | **bool** |  |"
      ]
     },
     "execution_count": null,
     "metadata": {},
     "output_type": "execute_result"
    }
   ],
   "source": [
    "show_doc(MarkdownFile.has_tag)"
   ]
  },
  {
   "cell_type": "code",
   "execution_count": null,
   "metadata": {},
   "outputs": [
    {
     "data": {
      "text/markdown": [
       "---\n",
       "\n",
       "[source](https://github.com/hyunjongkimmath/trouver/blob/main/trouver/markdown/markdown/file.py#L672){target=\"_blank\" style=\"float:right; font-size:smaller\"}\n",
       "\n",
       "### MarkdownFile.add_tags\n",
       "\n",
       ">      MarkdownFile.add_tags (tags:Union[str,list[str]], skip_repeats:bool=True,\n",
       ">                             skip_repeated_auto:bool=True,\n",
       ">                             enquote_entries_in_metadata_fields:list[str]=[])\n",
       "\n",
       "Add tags to the frontmatter metadata.\n",
       "\n",
       "The order of the tags may be changed.\n",
       "\n",
       "Ultimately the `replace_metadata` method is used to modify the YAML metadata.\n",
       "Use the `enquote_entries_in_metadata_fields` parameter to ensure that the\n",
       "`replace_metadata` invocation preserves enquoted metadata values.\n",
       "\n",
       "|    | **Type** | **Default** | **Details** |\n",
       "| -- | -------- | ----------- | ----------- |\n",
       "| tags | Union[str, list[str]] |  | The str representing the tags. May or may not start with `'#'`, e.g. `'#_meta/definition'` or `'_meta/definition'`. |\n",
       "| skip_repeats | bool | True | If `True`, then this MarkdownFile will just have unique tags; merges pre-existing repeated tags if necessary. Also, the order of the tags may be changed. |\n",
       "| skip_repeated_auto | bool | True | If `True`, then only add tags starting with '_auto/' if the corresponding non-auto tag does not exist, e.g.  '_auto/_meta/definition' is not added if the note already has '_meta/definition'. |\n",
       "| enquote_entries_in_metadata_fields | list[str] | [] | A list of str of fields in the YAML metadata whose entries need to be enquoted. If there is a string that is not a key of `new_metadata`, then that string is essentially ignored (in particular, no errors are raised). |\n",
       "| **Returns** | **None** |  |  |"
      ],
      "text/plain": [
       "---\n",
       "\n",
       "[source](https://github.com/hyunjongkimmath/trouver/blob/main/trouver/markdown/markdown/file.py#L672){target=\"_blank\" style=\"float:right; font-size:smaller\"}\n",
       "\n",
       "### MarkdownFile.add_tags\n",
       "\n",
       ">      MarkdownFile.add_tags (tags:Union[str,list[str]], skip_repeats:bool=True,\n",
       ">                             skip_repeated_auto:bool=True,\n",
       ">                             enquote_entries_in_metadata_fields:list[str]=[])\n",
       "\n",
       "Add tags to the frontmatter metadata.\n",
       "\n",
       "The order of the tags may be changed.\n",
       "\n",
       "Ultimately the `replace_metadata` method is used to modify the YAML metadata.\n",
       "Use the `enquote_entries_in_metadata_fields` parameter to ensure that the\n",
       "`replace_metadata` invocation preserves enquoted metadata values.\n",
       "\n",
       "|    | **Type** | **Default** | **Details** |\n",
       "| -- | -------- | ----------- | ----------- |\n",
       "| tags | Union[str, list[str]] |  | The str representing the tags. May or may not start with `'#'`, e.g. `'#_meta/definition'` or `'_meta/definition'`. |\n",
       "| skip_repeats | bool | True | If `True`, then this MarkdownFile will just have unique tags; merges pre-existing repeated tags if necessary. Also, the order of the tags may be changed. |\n",
       "| skip_repeated_auto | bool | True | If `True`, then only add tags starting with '_auto/' if the corresponding non-auto tag does not exist, e.g.  '_auto/_meta/definition' is not added if the note already has '_meta/definition'. |\n",
       "| enquote_entries_in_metadata_fields | list[str] | [] | A list of str of fields in the YAML metadata whose entries need to be enquoted. If there is a string that is not a key of `new_metadata`, then that string is essentially ignored (in particular, no errors are raised). |\n",
       "| **Returns** | **None** |  |  |"
      ]
     },
     "execution_count": null,
     "metadata": {},
     "output_type": "execute_result"
    }
   ],
   "source": [
    "show_doc(MarkdownFile.add_tags)"
   ]
  },
  {
   "cell_type": "code",
   "execution_count": null,
   "metadata": {},
   "outputs": [
    {
     "data": {
      "text/markdown": [
       "---\n",
       "\n",
       "[source](https://github.com/hyunjongkimmath/trouver/blob/main/trouver/markdown/markdown/file.py#L711){target=\"_blank\" style=\"float:right; font-size:smaller\"}\n",
       "\n",
       "### MarkdownFile.remove_tags\n",
       "\n",
       ">      MarkdownFile.remove_tags (tags:list[str],\n",
       ">                                enquote_entries_in_metadata_fields:list[str]=[]\n",
       ">                                )\n",
       "\n",
       "Remove specified tags from the frontmatter metadata, if\n",
       "the frontmatter metadata and the specified tags.\n",
       "\n",
       "If the `MarkdownFile` object does not have a frontmatter or\n",
       "if the frontmatter does not include a `tags` line, then\n",
       "the `MarkdownFile` object is not modified.\n",
       "\n",
       "Assumes that this MarkdownFile object has a frontmatter and\n",
       "that the frontmatter includes a tags line.\n",
       "\n",
       "Any repeated tags are either merged into one (if the tag is \n",
       "not in `tags`) or are removed (if the tag is in `tags`).\n",
       "\n",
       "Ultimately the `replace_metadata` method is used to modify the YAML metadata.\n",
       "Use the `enquote_entries_in_metadata_fields` parameter to ensure that the\n",
       "`replace_metadata` invocation preserves enquoted metadata values.\n",
       "\n",
       "|    | **Type** | **Default** | **Details** |\n",
       "| -- | -------- | ----------- | ----------- |\n",
       "| tags | list[str] |  | The str representing the tags. May or may not start with `'#'`, e.g. `'#_meta/definition'` or `'_meta/definition'`. |\n",
       "| enquote_entries_in_metadata_fields | list[str] | [] | A list of str of fields in the YAML metadata whose entries need to be enquoted. If there is a string that is not a key of `new_metadata`, then that string is essentially ignored (in particular, no errors are raised). |\n",
       "| **Returns** | **None** |  |  |"
      ],
      "text/plain": [
       "---\n",
       "\n",
       "[source](https://github.com/hyunjongkimmath/trouver/blob/main/trouver/markdown/markdown/file.py#L711){target=\"_blank\" style=\"float:right; font-size:smaller\"}\n",
       "\n",
       "### MarkdownFile.remove_tags\n",
       "\n",
       ">      MarkdownFile.remove_tags (tags:list[str],\n",
       ">                                enquote_entries_in_metadata_fields:list[str]=[]\n",
       ">                                )\n",
       "\n",
       "Remove specified tags from the frontmatter metadata, if\n",
       "the frontmatter metadata and the specified tags.\n",
       "\n",
       "If the `MarkdownFile` object does not have a frontmatter or\n",
       "if the frontmatter does not include a `tags` line, then\n",
       "the `MarkdownFile` object is not modified.\n",
       "\n",
       "Assumes that this MarkdownFile object has a frontmatter and\n",
       "that the frontmatter includes a tags line.\n",
       "\n",
       "Any repeated tags are either merged into one (if the tag is \n",
       "not in `tags`) or are removed (if the tag is in `tags`).\n",
       "\n",
       "Ultimately the `replace_metadata` method is used to modify the YAML metadata.\n",
       "Use the `enquote_entries_in_metadata_fields` parameter to ensure that the\n",
       "`replace_metadata` invocation preserves enquoted metadata values.\n",
       "\n",
       "|    | **Type** | **Default** | **Details** |\n",
       "| -- | -------- | ----------- | ----------- |\n",
       "| tags | list[str] |  | The str representing the tags. May or may not start with `'#'`, e.g. `'#_meta/definition'` or `'_meta/definition'`. |\n",
       "| enquote_entries_in_metadata_fields | list[str] | [] | A list of str of fields in the YAML metadata whose entries need to be enquoted. If there is a string that is not a key of `new_metadata`, then that string is essentially ignored (in particular, no errors are raised). |\n",
       "| **Returns** | **None** |  |  |"
      ]
     },
     "execution_count": null,
     "metadata": {},
     "output_type": "execute_result"
    }
   ],
   "source": [
    "show_doc(MarkdownFile.remove_tags)"
   ]
  },
  {
   "cell_type": "code",
   "execution_count": null,
   "metadata": {},
   "outputs": [
    {
     "name": "stdout",
     "output_type": "stream",
     "text": [
      "---\n",
      "tags: [new_tag, _meta/definition, _meta/concept, _auto/_meta/notation]\n",
      "---\n",
      "# Topic\n",
      "This is some note with some stuff.\n"
     ]
    }
   ],
   "source": [
    "mf = MarkdownFile.from_string(text_2)\n",
    "assert mf.has_tag('_meta/definition')\n",
    "\n",
    "mf.add_tags(['new_tag'])  #This may change the order of the tags.\n",
    "assert mf.has_tag('new_tag')\n",
    "\n",
    "assert mf.has_tag('this_tag_will_be_removed')\n",
    "mf.remove_tags(['this_tag_will_be_removed'])\n",
    "assert not mf.has_tag('this_tag_will_be_removed')\n",
    "\n",
    "assert not mf.has_tag('no_tag')\n",
    "mf.remove_tags(['no_tag']) # Does nothing\n",
    "assert not mf.has_tag('no_tag')\n",
    "\n",
    "print(mf)"
   ]
  },
  {
   "cell_type": "markdown",
   "metadata": {},
   "source": [
    "If the `MarkdownFile` object does not have frontmatter YAML metadata or if its frontmatter YAML metadata does not have a `tags` section, then no changes are made to the `MarkdownFile` object:"
   ]
  },
  {
   "cell_type": "code",
   "execution_count": null,
   "metadata": {},
   "outputs": [],
   "source": [
    "# Example of a MarkdownFile object without frontmatter YAML metadata:\n",
    "mf = MarkdownFile.from_string(text_1)\n",
    "\n",
    "mf_str_before = str(mf)\n",
    "\n",
    "assert mf.metadata() is None\n",
    "mf.remove_tags(['_meta/definition'])\n",
    "assert mf.metadata() is None\n",
    "\n",
    "test_eq(str(mf), mf_str_before)\n",
    "\n",
    "# Example of a MarkdownFile object with frontmatter YAML metadata but without a tags section.\n",
    "mf = MarkdownFile.from_string(text_8)\n",
    "\n",
    "mf_str_before = str(mf)\n",
    "\n",
    "assert mf.metadata() is not None\n",
    "assert 'tag' not in mf.metadata() \n",
    "mf.remove_tags(['_meta/definition'])\n",
    "\n",
    "test_eq(str(mf), mf_str_before)\n"
   ]
  },
  {
   "cell_type": "markdown",
   "metadata": {},
   "source": [
    "The `add_tags` method has a `skip_repeats` parameter."
   ]
  },
  {
   "cell_type": "code",
   "execution_count": null,
   "metadata": {},
   "outputs": [
    {
     "name": "stdout",
     "output_type": "stream",
     "text": [
      "---\n",
      "cssclass: clean-embeds\n",
      "tags: [new_tag]\n",
      "---\n",
      "# Topic[^1]\n",
      "Here is a LaTeX Equation:\n",
      "\n",
      "$$ 5 \\neq 7$$\n",
      "Hey\n",
      "Okay, now here is another one:\n",
      "$$\\begin{align*}\n",
      "\\sum_{k=1}^n k = \\frac{n(n+1)}{2}\n",
      "\\end{align*}$$\n",
      "\n",
      "%%This is a comment. \n",
      "The comment is not visible.\n",
      "This is the end of the comment %%\n",
      "\n",
      "This is the end of this note. This is visible.\n",
      "---\n",
      "cssclass: clean-embeds\n",
      "tags: [new_tag, new_tag]\n",
      "---\n",
      "# Topic[^1]\n",
      "Here is a LaTeX Equation:\n",
      "\n",
      "$$ 5 \\neq 7$$\n",
      "Hey\n",
      "Okay, now here is another one:\n",
      "$$\\begin{align*}\n",
      "\\sum_{k=1}^n k = \\frac{n(n+1)}{2}\n",
      "\\end{align*}$$\n",
      "\n",
      "%%This is a comment. \n",
      "The comment is not visible.\n",
      "This is the end of the comment %%\n",
      "\n",
      "This is the end of this note. This is visible.\n",
      "---\n",
      "cssclass: clean-embeds\n",
      "tags: [new_tag]\n",
      "---\n",
      "# Topic[^1]\n",
      "Here is a LaTeX Equation:\n",
      "\n",
      "$$ 5 \\neq 7$$\n",
      "Hey\n",
      "Okay, now here is another one:\n",
      "$$\\begin{align*}\n",
      "\\sum_{k=1}^n k = \\frac{n(n+1)}{2}\n",
      "\\end{align*}$$\n",
      "\n",
      "%%This is a comment. \n",
      "The comment is not visible.\n",
      "This is the end of the comment %%\n",
      "\n",
      "This is the end of this note. This is visible.\n"
     ]
    }
   ],
   "source": [
    "mf.add_tags(['new_tag'], skip_repeats=True)  # Only one `new_tag` will be present after this.\n",
    "print(mf)\n",
    "mf.add_tags(['new_tag'], skip_repeats=False)  # After this, mf will have 2 `new_tag`'s  # After this, mf will have 2 `new_tag`'s  # After this, mf will have 2 `new_tag`'s\n",
    "print(mf)\n",
    "mf.add_tags(['new_tag'], skip_repeats=True)  # Only one `new_tag` will be present after this, even though there were multiple `new_tag`'s before this.\n",
    "print(mf)"
   ]
  },
  {
   "cell_type": "code",
   "execution_count": null,
   "metadata": {},
   "outputs": [
    {
     "data": {
      "text/markdown": [
       "---\n",
       "\n",
       "[source](https://github.com/hyunjongkimmath/trouver/blob/main/trouver/markdown/markdown/file.py#L743){target=\"_blank\" style=\"float:right; font-size:smaller\"}\n",
       "\n",
       "### MarkdownFile.replace_auto_tags_with_regular_tags\n",
       "\n",
       ">      MarkdownFile.replace_auto_tags_with_regular_tags (exclude:list[str]=None,\n",
       ">                                                        enquote_entries_in_meta\n",
       ">                                                        data_fields:list[str]=[\n",
       ">                                                        ])\n",
       "\n",
       "Replace tags in the frontmatter metadata starting with `_auto/`\n",
       "with tags without the `_auto/`.\n",
       "\n",
       "Ultimately the `replace_metadata` method is used to modify the YAML metadata.\n",
       "Use the `enquote_entries_in_metadata_fields` parameter to ensure that the\n",
       "`replace_metadata` invocation preserves enquoted metadata values.\n",
       "\n",
       "|    | **Type** | **Default** | **Details** |\n",
       "| -- | -------- | ----------- | ----------- |\n",
       "| exclude | list[str] | None | The tags whose `_auto/` tags should not be converted. The str should not start with `'#'` and should not start with `'_auto/'`. |\n",
       "| enquote_entries_in_metadata_fields | list[str] | [] | A list of str of fields in the YAML metadata whose entries need to be enquoted. If there is a string that is not a key of `new_metadata`, then that string is essentially ignored (in particular, no errors are raised). |\n",
       "| **Returns** | **None** |  |  |"
      ],
      "text/plain": [
       "---\n",
       "\n",
       "[source](https://github.com/hyunjongkimmath/trouver/blob/main/trouver/markdown/markdown/file.py#L743){target=\"_blank\" style=\"float:right; font-size:smaller\"}\n",
       "\n",
       "### MarkdownFile.replace_auto_tags_with_regular_tags\n",
       "\n",
       ">      MarkdownFile.replace_auto_tags_with_regular_tags (exclude:list[str]=None,\n",
       ">                                                        enquote_entries_in_meta\n",
       ">                                                        data_fields:list[str]=[\n",
       ">                                                        ])\n",
       "\n",
       "Replace tags in the frontmatter metadata starting with `_auto/`\n",
       "with tags without the `_auto/`.\n",
       "\n",
       "Ultimately the `replace_metadata` method is used to modify the YAML metadata.\n",
       "Use the `enquote_entries_in_metadata_fields` parameter to ensure that the\n",
       "`replace_metadata` invocation preserves enquoted metadata values.\n",
       "\n",
       "|    | **Type** | **Default** | **Details** |\n",
       "| -- | -------- | ----------- | ----------- |\n",
       "| exclude | list[str] | None | The tags whose `_auto/` tags should not be converted. The str should not start with `'#'` and should not start with `'_auto/'`. |\n",
       "| enquote_entries_in_metadata_fields | list[str] | [] | A list of str of fields in the YAML metadata whose entries need to be enquoted. If there is a string that is not a key of `new_metadata`, then that string is essentially ignored (in particular, no errors are raised). |\n",
       "| **Returns** | **None** |  |  |"
      ]
     },
     "execution_count": null,
     "metadata": {},
     "output_type": "execute_result"
    }
   ],
   "source": [
    "show_doc(MarkdownFile.replace_auto_tags_with_regular_tags)"
   ]
  },
  {
   "cell_type": "markdown",
   "metadata": {},
   "source": [
    "One can use `/` characters to create \"subtags\". `trouver` recognizes `_auto` tags, which are tags that `trouver` adds to mark notes that it has processed in certain ways. \n",
    "\n",
    "For example, `trove.markdown.osidian.personal.machine_learning.tag_categorization` can label the \"types\" of the content of information notes. For example, if this labelling process determines an information note to be a definition note, then it will add a `_auto/_meta/definition` tag, as opposed to a `_meta/definition` tag. This way, one can recognize that the tag was added automatically via a machine learning model and may be prone to error.\n",
    "\n",
    "The `replace_auto_tags_with_regular_tags` replaces `_auto` tags with regular tags. This can be useful, for example, once tags for a multitude of notes have been verified."
   ]
  },
  {
   "cell_type": "code",
   "execution_count": null,
   "metadata": {},
   "outputs": [
    {
     "name": "stdout",
     "output_type": "stream",
     "text": [
      "---\n",
      "tags: [_meta/definition, _meta/concept, _meta/notation, this_tag_will_be_removed]\n",
      "---\n",
      "# Topic\n",
      "This is some note with some stuff.\n"
     ]
    }
   ],
   "source": [
    "mf = MarkdownFile.from_string(text_2)\n",
    "assert mf.has_tag('_auto/_meta/notation')\n",
    "mf.replace_auto_tags_with_regular_tags()\n",
    "assert mf.has_tag('_meta/notation')\n",
    "assert not mf.has_tag(\"_auto/_meta/notation\")\n",
    "print(mf)"
   ]
  },
  {
   "cell_type": "markdown",
   "metadata": {},
   "source": [
    "#### display math mode tags"
   ]
  },
  {
   "cell_type": "markdown",
   "metadata": {},
   "source": [
    "The difference between headers and display math mode tags is that the former has a space between the hashtags and the text and the latter does not. For example, `# Header` is a header and `#tag` is a tag."
   ]
  },
  {
   "cell_type": "code",
   "execution_count": null,
   "metadata": {},
   "outputs": [
    {
     "data": {
      "text/markdown": [
       "---\n",
       "\n",
       "[source](https://github.com/hyunjongkimmath/trouver/blob/main/trouver/markdown/markdown/file.py#L768){target=\"_blank\" style=\"float:right; font-size:smaller\"}\n",
       "\n",
       "### MarkdownFile.remove_in_line_tags\n",
       "\n",
       ">      MarkdownFile.remove_in_line_tags ()\n",
       "\n",
       "Remove lines starting with in line tags."
      ],
      "text/plain": [
       "---\n",
       "\n",
       "[source](https://github.com/hyunjongkimmath/trouver/blob/main/trouver/markdown/markdown/file.py#L768){target=\"_blank\" style=\"float:right; font-size:smaller\"}\n",
       "\n",
       "### MarkdownFile.remove_in_line_tags\n",
       "\n",
       ">      MarkdownFile.remove_in_line_tags ()\n",
       "\n",
       "Remove lines starting with in line tags."
      ]
     },
     "execution_count": null,
     "metadata": {},
     "output_type": "execute_result"
    }
   ],
   "source": [
    "show_doc(MarkdownFile.remove_in_line_tags)"
   ]
  },
  {
   "cell_type": "code",
   "execution_count": null,
   "metadata": {},
   "outputs": [
    {
     "name": "stdout",
     "output_type": "stream",
     "text": [
      "\n",
      "# Section 1\n",
      "Some stuff\n",
      "\n",
      "\n",
      "# Hello\n",
      "\n",
      "[{'line': '', 'type': <MarkdownLineEnum.BLANK_LINE: 9>}, {'line': '# Section 1', 'type': <MarkdownLineEnum.HEADING: 1>}, {'line': 'Some stuff', 'type': <MarkdownLineEnum.DEFAULT: 0>}, {'line': '', 'type': <MarkdownLineEnum.BLANK_LINE: 9>}, {'line': '', 'type': <MarkdownLineEnum.BLANK_LINE: 9>}, {'line': '# Hello', 'type': <MarkdownLineEnum.HEADING: 1>}, {'line': '', 'type': <MarkdownLineEnum.BLANK_LINE: 9>}]\n"
     ]
    }
   ],
   "source": [
    "mf = MarkdownFile.from_string(text_3)\n",
    "mf.remove_in_line_tags()\n",
    "print(str(mf))\n",
    "print(mf.parts)\n",
    "assert len(mf.parts) == 7\n",
    "assert str(mf) == \"\"\"\n",
    "# Section 1\n",
    "Some stuff\n",
    "\n",
    "\n",
    "# Hello\n",
    "\"\"\""
   ]
  },
  {
   "cell_type": "code",
   "execution_count": null,
   "metadata": {},
   "outputs": [],
   "source": [
    "template_mf = MarkdownFile.from_string(template_text)\n",
    "template_mf.remove_in_line_tags()\n",
    "assert str(template_mf) == template_text"
   ]
  },
  {
   "cell_type": "markdown",
   "metadata": {},
   "source": [
    "## Extract raw content from a `MarkownFile` object"
   ]
  },
  {
   "cell_type": "markdown",
   "metadata": {},
   "source": [
    "One can add a multitude of meta-data to Obsidian Markdown notes - frontmatter metadata, headers/footers, links, embedded links, tags, etc.\n",
    "\n",
    "We can extract raw content from notes by removing a combination of these meta-data.\n",
    "\n",
    "See also `remove_in_line_tags`."
   ]
  },
  {
   "cell_type": "code",
   "execution_count": null,
   "metadata": {},
   "outputs": [
    {
     "data": {
      "text/markdown": [
       "---\n",
       "\n",
       "[source](https://github.com/hyunjongkimmath/trouver/blob/main/trouver/markdown/markdown/file.py#L778){target=\"_blank\" style=\"float:right; font-size:smaller\"}\n",
       "\n",
       "### MarkdownFile.replace_links_with_display_text\n",
       "\n",
       ">      MarkdownFile.replace_links_with_display_text\n",
       ">                                                    (remove_embedded_note_links\n",
       ">                                                    :bool=False)\n",
       "\n",
       "Remove nonembedded links and replaces them with their display text.\n",
       "\n",
       "|    | **Type** | **Default** | **Details** |\n",
       "| -- | -------- | ----------- | ----------- |\n",
       "| remove_embedded_note_links | bool | False | If `True`, remove links to embedded notes as well. If `False`, does not modify embedded notes.` |\n",
       "| **Returns** | **None** |  |  |"
      ],
      "text/plain": [
       "---\n",
       "\n",
       "[source](https://github.com/hyunjongkimmath/trouver/blob/main/trouver/markdown/markdown/file.py#L778){target=\"_blank\" style=\"float:right; font-size:smaller\"}\n",
       "\n",
       "### MarkdownFile.replace_links_with_display_text\n",
       "\n",
       ">      MarkdownFile.replace_links_with_display_text\n",
       ">                                                    (remove_embedded_note_links\n",
       ">                                                    :bool=False)\n",
       "\n",
       "Remove nonembedded links and replaces them with their display text.\n",
       "\n",
       "|    | **Type** | **Default** | **Details** |\n",
       "| -- | -------- | ----------- | ----------- |\n",
       "| remove_embedded_note_links | bool | False | If `True`, remove links to embedded notes as well. If `False`, does not modify embedded notes.` |\n",
       "| **Returns** | **None** |  |  |"
      ]
     },
     "execution_count": null,
     "metadata": {},
     "output_type": "execute_result"
    }
   ],
   "source": [
    "show_doc(MarkdownFile.replace_links_with_display_text)"
   ]
  },
  {
   "cell_type": "code",
   "execution_count": null,
   "metadata": {},
   "outputs": [
    {
     "name": "stdout",
     "output_type": "stream",
     "text": [
      "\n",
      "# Some thing\n",
      "\n",
      "I have a link\n",
      "\n",
      "## Another topic\n",
      "This is a link without a specified display text: some_kind_of_note.\n",
      "\n",
      "This is a link to an anchor without a specified display text: another_note > another anchor.\n"
     ]
    }
   ],
   "source": [
    "mf = MarkdownFile.from_string(text_4)\n",
    "mf.replace_links_with_display_text()\n",
    "print(str(mf))\n",
    "assert str(mf) == \"\"\"\n",
    "# Some thing\n",
    "\n",
    "I have a link\n",
    "\n",
    "## Another topic\n",
    "This is a link without a specified display text: some_kind_of_note.\n",
    "\n",
    "This is a link to an anchor without a specified display text: another_note > another anchor.\"\"\""
   ]
  },
  {
   "cell_type": "markdown",
   "metadata": {},
   "source": [
    "If `remove_embedded_note_links=True`, then embedded links will be replaced with their \"display text\" as a link; they will not be replaced with the underlying embedded text."
   ]
  },
  {
   "cell_type": "code",
   "execution_count": null,
   "metadata": {},
   "outputs": [
    {
     "name": "stdout",
     "output_type": "stream",
     "text": [
      "# A header\n",
      "This note is embedded.\n",
      "\n",
      "The link above should will not be replaced by `replace_links_with_display_text`,\n",
      "unless `remove_embedded_note_links` is set to `True`.\n"
     ]
    }
   ],
   "source": [
    "mf = MarkdownFile.from_string(text_5)\n",
    "mf.replace_links_with_display_text()\n",
    "assert str(mf) == text_5\n",
    "\n",
    "mf.replace_links_with_display_text(remove_embedded_note_links=True)\n",
    "print(str(mf))\n",
    "assert str(mf) == \"\"\"# A header\n",
    "This note is embedded.\n",
    "\n",
    "The link above should will not be replaced by `replace_links_with_display_text`,\n",
    "unless `remove_embedded_note_links` is set to `True`.\"\"\""
   ]
  },
  {
   "cell_type": "code",
   "execution_count": null,
   "metadata": {},
   "outputs": [
    {
     "data": {
      "text/markdown": [
       "---\n",
       "\n",
       "[source](https://github.com/hyunjongkimmath/trouver/blob/main/trouver/markdown/markdown/file.py#L954){target=\"_blank\" style=\"float:right; font-size:smaller\"}\n",
       "\n",
       "### MarkdownFile.remove_footnotes_to_embedded_links\n",
       "\n",
       ">      MarkdownFile.remove_footnotes_to_embedded_links\n",
       ">                                                       (remove_footnote_mention\n",
       ">                                                       s:bool=True)\n",
       "\n",
       "Remove footnotes to embedded links.\n",
       "\n",
       "These are footnotes whose only content are embedded links, e.g.\n",
       "`[^1]: ![[embedded_note]]`\n",
       "\n",
       "|    | **Type** | **Default** | **Details** |\n",
       "| -- | -------- | ----------- | ----------- |\n",
       "| remove_footnote_mentions | bool | True | If `True`, removes the mentions to the footnote to the embedded links in the text. |\n",
       "| **Returns** | **None** |  |  |"
      ],
      "text/plain": [
       "---\n",
       "\n",
       "[source](https://github.com/hyunjongkimmath/trouver/blob/main/trouver/markdown/markdown/file.py#L954){target=\"_blank\" style=\"float:right; font-size:smaller\"}\n",
       "\n",
       "### MarkdownFile.remove_footnotes_to_embedded_links\n",
       "\n",
       ">      MarkdownFile.remove_footnotes_to_embedded_links\n",
       ">                                                       (remove_footnote_mention\n",
       ">                                                       s:bool=True)\n",
       "\n",
       "Remove footnotes to embedded links.\n",
       "\n",
       "These are footnotes whose only content are embedded links, e.g.\n",
       "`[^1]: ![[embedded_note]]`\n",
       "\n",
       "|    | **Type** | **Default** | **Details** |\n",
       "| -- | -------- | ----------- | ----------- |\n",
       "| remove_footnote_mentions | bool | True | If `True`, removes the mentions to the footnote to the embedded links in the text. |\n",
       "| **Returns** | **None** |  |  |"
      ]
     },
     "execution_count": null,
     "metadata": {},
     "output_type": "execute_result"
    }
   ],
   "source": [
    "show_doc(MarkdownFile.remove_footnotes_to_embedded_links)"
   ]
  },
  {
   "cell_type": "markdown",
   "metadata": {},
   "source": [
    "I very often use footnotes with only embedded links. We can remove such footnotes."
   ]
  },
  {
   "cell_type": "code",
   "execution_count": null,
   "metadata": {},
   "outputs": [],
   "source": [
    "mf = MarkdownFile.from_string(text_6)\n",
    "mf.remove_footnotes_to_embedded_links()\n",
    "assert str(mf) == \"\"\"\n",
    "# Header\n",
    "\n",
    "I want to link to some embedded note\n",
    "\n",
    "\n",
    "You can also let the footnote mention be alphanumeric\n",
    "\"\"\""
   ]
  },
  {
   "cell_type": "markdown",
   "metadata": {},
   "source": [
    "Setting `remove_footnote_mentions=False` removes the content of the footnotes themselves, but leaves the mentions intact:"
   ]
  },
  {
   "cell_type": "code",
   "execution_count": null,
   "metadata": {},
   "outputs": [],
   "source": [
    "mf = MarkdownFile.from_string(text_6)\n",
    "mf.remove_footnotes_to_embedded_links(remove_footnote_mentions=False)\n",
    "assert str(mf) == \"\"\"\n",
    "# Header\n",
    "\n",
    "I want to link to some embedded note[^1]\n",
    "\n",
    "\n",
    "You can also let the footnote mention be alphanumeric[^1][^note]\n",
    "\"\"\""
   ]
  },
  {
   "cell_type": "code",
   "execution_count": null,
   "metadata": {},
   "outputs": [],
   "source": [
    "# hide\n",
    "mf = MarkdownFile.from_string(text_7)\n",
    "mf.remove_footnotes_to_embedded_links(remove_footnote_mentions=True)\n",
    "assert '[^2]' not in str(mf)"
   ]
  },
  {
   "cell_type": "code",
   "execution_count": null,
   "metadata": {},
   "outputs": [
    {
     "data": {
      "text/markdown": [
       "---\n",
       "\n",
       "[source](https://github.com/hyunjongkimmath/trouver/blob/main/trouver/markdown/markdown/file.py#L980){target=\"_blank\" style=\"float:right; font-size:smaller\"}\n",
       "\n",
       "### MarkdownFile.remove_headers\n",
       "\n",
       ">      MarkdownFile.remove_headers ()\n",
       "\n",
       "Remove all headers."
      ],
      "text/plain": [
       "---\n",
       "\n",
       "[source](https://github.com/hyunjongkimmath/trouver/blob/main/trouver/markdown/markdown/file.py#L980){target=\"_blank\" style=\"float:right; font-size:smaller\"}\n",
       "\n",
       "### MarkdownFile.remove_headers\n",
       "\n",
       ">      MarkdownFile.remove_headers ()\n",
       "\n",
       "Remove all headers."
      ]
     },
     "execution_count": null,
     "metadata": {},
     "output_type": "execute_result"
    }
   ],
   "source": [
    "show_doc(MarkdownFile.remove_headers)"
   ]
  },
  {
   "cell_type": "markdown",
   "metadata": {},
   "source": [
    "We can remove all of the headers and leave the rest of the text intact"
   ]
  },
  {
   "cell_type": "code",
   "execution_count": null,
   "metadata": {},
   "outputs": [],
   "source": [
    "mf = MarkdownFile.from_string(template_text)\n",
    "mf.remove_headers()\n",
    "assert str(mf) == \"\"\"---\n",
    "cssclass: clean-embeds\n",
    "aliases: []\n",
    "tags: [_meta/literature_note]\n",
    "---\n",
    "\n",
    "\n",
    "\n",
    "[^1]: Citation\"\"\"\n",
    "\n",
    "mf = MarkdownFile.from_string(text_1)\n",
    "mf.remove_headers()\n",
    "assert str(mf) == \"\"\"\n",
    "some text \n",
    "\n",
    "asdfasdf\n",
    "\n",
    "Didididi\n",
    "Dododododo\"\"\""
   ]
  },
  {
   "cell_type": "code",
   "execution_count": null,
   "metadata": {},
   "outputs": [
    {
     "data": {
      "text/markdown": [
       "---\n",
       "\n",
       "[source](https://github.com/hyunjongkimmath/trouver/blob/main/trouver/markdown/markdown/file.py#L988){target=\"_blank\" style=\"float:right; font-size:smaller\"}\n",
       "\n",
       "### MarkdownFile.remove_double_blank_lines\n",
       "\n",
       ">      MarkdownFile.remove_double_blank_lines ()\n",
       "\n",
       "Remove blank lines so that there are no consecutive blank lines"
      ],
      "text/plain": [
       "---\n",
       "\n",
       "[source](https://github.com/hyunjongkimmath/trouver/blob/main/trouver/markdown/markdown/file.py#L988){target=\"_blank\" style=\"float:right; font-size:smaller\"}\n",
       "\n",
       "### MarkdownFile.remove_double_blank_lines\n",
       "\n",
       ">      MarkdownFile.remove_double_blank_lines ()\n",
       "\n",
       "Remove blank lines so that there are no consecutive blank lines"
      ]
     },
     "execution_count": null,
     "metadata": {},
     "output_type": "execute_result"
    }
   ],
   "source": [
    "show_doc(MarkdownFile.remove_double_blank_lines)"
   ]
  },
  {
   "cell_type": "markdown",
   "metadata": {},
   "source": [
    "When removing some of the \"metadata\", the content of the note can be left with a lot of consecutive blank lines. To ensure that machine-learning models will not develop some kind of blank line bias, we can remove such consecutive blank lines. "
   ]
  },
  {
   "cell_type": "code",
   "execution_count": null,
   "metadata": {},
   "outputs": [],
   "source": [
    "mf = MarkdownFile.from_string(template_text)\n",
    "mf.remove_headers()\n",
    "mf.remove_double_blank_lines()\n",
    "assert str(mf) == \"\"\"---\n",
    "cssclass: clean-embeds\n",
    "aliases: []\n",
    "tags: [_meta/literature_note]\n",
    "---\n",
    "\n",
    "[^1]: Citation\"\"\""
   ]
  },
  {
   "cell_type": "code",
   "execution_count": null,
   "metadata": {},
   "outputs": [
    {
     "data": {
      "text/markdown": [
       "---\n",
       "\n",
       "[source](https://github.com/hyunjongkimmath/trouver/blob/main/trouver/markdown/markdown/file.py#L851){target=\"_blank\" style=\"float:right; font-size:smaller\"}\n",
       "\n",
       "### MarkdownFile.replace_embedded_links_with_text\n",
       "\n",
       ">      MarkdownFile.replace_embedded_links_with_text (vault:os.PathLike,\n",
       ">                                                     recursive:bool=True, remov\n",
       ">                                                     e_paragraph_id:bool=True)\n",
       "\n",
       "Remove embedded links and replaces them with their underlying text,\n",
       "as found in notes in the vault.\n",
       "\n",
       "Assumes that the embedded links do not loop infinitely.\n",
       "\n",
       "For embedded links to notes that do not exist in the vault,\n",
       "the embedded links are replaced with blank str.\n",
       "\n",
       "No new entries are added to `self.parts` even if the embedded links\n",
       "have multiple lines.\n",
       "\n",
       "|    | **Type** | **Default** | **Details** |\n",
       "| -- | -------- | ----------- | ----------- |\n",
       "| vault | PathLike |  |  |\n",
       "| recursive | bool | True | If `True`, then recursively replaces embedded links in the text of the embedded links. |\n",
       "| remove_paragraph_id | bool | True | If `True`, then removes the paragraph id's in the text of the embedded links. Leaves the paragraph id's of the origianl text in tact. |\n",
       "| **Returns** | **None** |  |  |"
      ],
      "text/plain": [
       "---\n",
       "\n",
       "[source](https://github.com/hyunjongkimmath/trouver/blob/main/trouver/markdown/markdown/file.py#L851){target=\"_blank\" style=\"float:right; font-size:smaller\"}\n",
       "\n",
       "### MarkdownFile.replace_embedded_links_with_text\n",
       "\n",
       ">      MarkdownFile.replace_embedded_links_with_text (vault:os.PathLike,\n",
       ">                                                     recursive:bool=True, remov\n",
       ">                                                     e_paragraph_id:bool=True)\n",
       "\n",
       "Remove embedded links and replaces them with their underlying text,\n",
       "as found in notes in the vault.\n",
       "\n",
       "Assumes that the embedded links do not loop infinitely.\n",
       "\n",
       "For embedded links to notes that do not exist in the vault,\n",
       "the embedded links are replaced with blank str.\n",
       "\n",
       "No new entries are added to `self.parts` even if the embedded links\n",
       "have multiple lines.\n",
       "\n",
       "|    | **Type** | **Default** | **Details** |\n",
       "| -- | -------- | ----------- | ----------- |\n",
       "| vault | PathLike |  |  |\n",
       "| recursive | bool | True | If `True`, then recursively replaces embedded links in the text of the embedded links. |\n",
       "| remove_paragraph_id | bool | True | If `True`, then removes the paragraph id's in the text of the embedded links. Leaves the paragraph id's of the origianl text in tact. |\n",
       "| **Returns** | **None** |  |  |"
      ]
     },
     "execution_count": null,
     "metadata": {},
     "output_type": "execute_result"
    }
   ],
   "source": [
    "show_doc(MarkdownFile.replace_embedded_links_with_text)"
   ]
  },
  {
   "cell_type": "code",
   "execution_count": null,
   "metadata": {},
   "outputs": [],
   "source": [
    "# TODO: test recursive\n",
    "with tempfile.TemporaryDirectory(prefix='temp_dir_', dir=os.getcwd()) as temp_dir:\n",
    "    make_example_vault_2(temp_dir)\n",
    "    vault = Path(temp_dir)\n",
    "    vn = VaultNote(vault, name='note_with_embedded_links_1')\n",
    "    mf = MarkdownFile.from_vault_note(vn)\n",
    "    mf.replace_embedded_links_with_text(vault)\n",
    "    assert str(mf) == r\"\"\"This is a note.\n",
    "\n",
    "There are some embedded text here:\n",
    "\n",
    "Hello, this is a note which becomes entirely embedded.\n",
    "%%This is a comment. \n",
    "The comment is not visible.\n",
    "This is the end of the comment %%\n",
    "\n",
    "\n",
    "cheese \n",
    "bandit\n",
    "$$asdf$$\n",
    "asdf \n",
    "\n",
    "$$5 \\neq 7\n",
    "$$ \n",
    "\n",
    "# Section\n",
    "Some kind of section?\n",
    "\n",
    "Lalalala\n",
    "## Subsection\n",
    "argonaut\"\"\""
   ]
  },
  {
   "cell_type": "markdown",
   "metadata": {},
   "source": [
    "setting `remove_paragraph_id=False` keeps the paragraph id's in the embedded text."
   ]
  },
  {
   "cell_type": "code",
   "execution_count": null,
   "metadata": {},
   "outputs": [
    {
     "name": "stdout",
     "output_type": "stream",
     "text": [
      "This is a note.\n",
      "\n",
      "There are some embedded text here:\n",
      "\n",
      "Hello, this is a note which becomes entirely embedded.\n",
      "%%This is a comment. \n",
      "The comment is not visible.\n",
      "This is the end of the comment %%\n",
      "\n",
      "\n",
      "cheese \n",
      "bandit\n",
      "$$asdf$$\n",
      "asdf \n",
      "^65809f\n",
      "\n",
      "$$5 \\neq 7\n",
      "$$ \n",
      "^221b51\n",
      "\n",
      "# Section\n",
      "Some kind of section?\n",
      "\n",
      "Lalalala\n",
      "## Subsection\n",
      "argonaut\n"
     ]
    }
   ],
   "source": [
    "\n",
    "with tempfile.TemporaryDirectory(prefix='temp_dir_', dir=os.getcwd()) as temp_dir:\n",
    "    make_example_vault_2(temp_dir)\n",
    "    vault = Path(temp_dir)\n",
    "    vn = VaultNote(vault, name='note_with_embedded_links_1')\n",
    "    mf = MarkdownFile.from_vault_note(vn)\n",
    "    mf = MarkdownFile.from_vault_note(vn)\n",
    "    mf.replace_embedded_links_with_text(vault, remove_paragraph_id=False)\n",
    "    print(str(mf))\n",
    "    assert str(mf) == r\"\"\"This is a note.\n",
    "\n",
    "There are some embedded text here:\n",
    "\n",
    "Hello, this is a note which becomes entirely embedded.\n",
    "%%This is a comment. \n",
    "The comment is not visible.\n",
    "This is the end of the comment %%\n",
    "\n",
    "\n",
    "cheese \n",
    "bandit\n",
    "$$asdf$$\n",
    "asdf \n",
    "^65809f\n",
    "\n",
    "$$5 \\neq 7\n",
    "$$ \n",
    "^221b51\n",
    "\n",
    "# Section\n",
    "Some kind of section?\n",
    "\n",
    "Lalalala\n",
    "## Subsection\n",
    "argonaut\"\"\""
   ]
  },
  {
   "cell_type": "code",
   "execution_count": null,
   "metadata": {},
   "outputs": [
    {
     "data": {
      "text/markdown": [
       "---\n",
       "\n",
       "[source](https://github.com/hyunjongkimmath/trouver/blob/main/trouver/markdown/markdown/file.py#L998){target=\"_blank\" style=\"float:right; font-size:smaller\"}\n",
       "\n",
       "### MarkdownFile.remove_html_tags\n",
       "\n",
       ">      MarkdownFile.remove_html_tags ()\n",
       "\n",
       "Remove HTML tags that are typeset in single lines.\n",
       "\n",
       "HTML tags that span multiple lines are ignored."
      ],
      "text/plain": [
       "---\n",
       "\n",
       "[source](https://github.com/hyunjongkimmath/trouver/blob/main/trouver/markdown/markdown/file.py#L998){target=\"_blank\" style=\"float:right; font-size:smaller\"}\n",
       "\n",
       "### MarkdownFile.remove_html_tags\n",
       "\n",
       ">      MarkdownFile.remove_html_tags ()\n",
       "\n",
       "Remove HTML tags that are typeset in single lines.\n",
       "\n",
       "HTML tags that span multiple lines are ignored."
      ]
     },
     "execution_count": null,
     "metadata": {},
     "output_type": "execute_result"
    }
   ],
   "source": [
    "show_doc(MarkdownFile.remove_html_tags)"
   ]
  },
  {
   "cell_type": "code",
   "execution_count": null,
   "metadata": {},
   "outputs": [],
   "source": [
    "# TODO: test"
   ]
  },
  {
   "cell_type": "code",
   "execution_count": null,
   "metadata": {},
   "outputs": [
    {
     "data": {
      "text/markdown": [
       "---\n",
       "\n",
       "[source](https://github.com/hyunjongkimmath/trouver/blob/main/trouver/markdown/markdown/file.py#L1008){target=\"_blank\" style=\"float:right; font-size:smaller\"}\n",
       "\n",
       "### MarkdownFile.merge_display_math_mode\n",
       "\n",
       ">      MarkdownFile.merge_display_math_mode ()\n",
       "\n",
       "Merge chunks of display_math_mode latex lines into single lines"
      ],
      "text/plain": [
       "---\n",
       "\n",
       "[source](https://github.com/hyunjongkimmath/trouver/blob/main/trouver/markdown/markdown/file.py#L1008){target=\"_blank\" style=\"float:right; font-size:smaller\"}\n",
       "\n",
       "### MarkdownFile.merge_display_math_mode\n",
       "\n",
       ">      MarkdownFile.merge_display_math_mode ()\n",
       "\n",
       "Merge chunks of display_math_mode latex lines into single lines"
      ]
     },
     "execution_count": null,
     "metadata": {},
     "output_type": "execute_result"
    }
   ],
   "source": [
    "show_doc(MarkdownFile.merge_display_math_mode)"
   ]
  },
  {
   "cell_type": "code",
   "execution_count": null,
   "metadata": {},
   "outputs": [
    {
     "name": "stdout",
     "output_type": "stream",
     "text": [
      "This is a single line display math mode LaTeX equation:\n",
      "\n",
      "$$\\mathcal{O}_X$$\n",
      "\n",
      "This is a single multi-line display math mode LaTeX equation:\n",
      "\n",
      "$$ 5 + 2 = 7 $$\n",
      "\n",
      "These are multiple consecutive display math mode LaTeX equations:\n",
      "\n",
      "$$1+1 = 2 $$\n",
      "$$5 + 7 = 14$$\n",
      "$$  8 + 4 = 12  $$\n"
     ]
    }
   ],
   "source": [
    "mf = MarkdownFile.from_string(text_10)\n",
    "mf.merge_display_math_mode()\n",
    "print(mf)\n",
    "assert len(mf.parts) == 13"
   ]
  },
  {
   "cell_type": "code",
   "execution_count": null,
   "metadata": {},
   "outputs": [
    {
     "data": {
      "text/markdown": [
       "---\n",
       "\n",
       "[source](https://github.com/hyunjongkimmath/trouver/blob/main/trouver/markdown/markdown/file.py#L1033){target=\"_blank\" style=\"float:right; font-size:smaller\"}\n",
       "\n",
       "### MarkdownFile.merge_display_math_mode_into_preceding_text\n",
       "\n",
       ">      MarkdownFile.merge_display_math_mode_into_preceding_text\n",
       ">                                                                (separator:str=\n",
       ">                                                                '\\n')\n",
       "\n",
       "Merge chunks of display math mode latex lines into single lines and merge\n",
       "those single lines into preceding text lines.\n",
       "\n",
       "|    | **Type** | **Default** | **Details** |\n",
       "| -- | -------- | ----------- | ----------- |\n",
       "| separator | str | <br> | The str with which to join the latex lines into the text lines. Note that the display math mode latex lines are not joined with this str. |\n",
       "| **Returns** | **None** |  |  |"
      ],
      "text/plain": [
       "---\n",
       "\n",
       "[source](https://github.com/hyunjongkimmath/trouver/blob/main/trouver/markdown/markdown/file.py#L1033){target=\"_blank\" style=\"float:right; font-size:smaller\"}\n",
       "\n",
       "### MarkdownFile.merge_display_math_mode_into_preceding_text\n",
       "\n",
       ">      MarkdownFile.merge_display_math_mode_into_preceding_text\n",
       ">                                                                (separator:str=\n",
       ">                                                                '\\n')\n",
       "\n",
       "Merge chunks of display math mode latex lines into single lines and merge\n",
       "those single lines into preceding text lines.\n",
       "\n",
       "|    | **Type** | **Default** | **Details** |\n",
       "| -- | -------- | ----------- | ----------- |\n",
       "| separator | str | <br> | The str with which to join the latex lines into the text lines. Note that the display math mode latex lines are not joined with this str. |\n",
       "| **Returns** | **None** |  |  |"
      ]
     },
     "execution_count": null,
     "metadata": {},
     "output_type": "execute_result"
    }
   ],
   "source": [
    "show_doc(MarkdownFile.merge_display_math_mode_into_preceding_text)"
   ]
  },
  {
   "cell_type": "code",
   "execution_count": null,
   "metadata": {},
   "outputs": [
    {
     "name": "stdout",
     "output_type": "stream",
     "text": [
      "This is a single line display math mode LaTeX equation:  $$\\mathcal{O}_X$$\n",
      "\n",
      "This is a single multi-line display math mode LaTeX equation:  $$ 5 + 2 = 7 $$\n",
      "\n",
      "These are multiple consecutive display math mode LaTeX equations:  $$1+1 = 2 $$ $$5 + 7 = 14$$ $$  8 + 4 = 12  $$\n"
     ]
    }
   ],
   "source": [
    "mf = MarkdownFile.from_string(text_10)\n",
    "mf.merge_display_math_mode_into_preceding_text(separator=' ')\n",
    "print(mf)\n",
    "assert len(mf.parts) == 5\n"
   ]
  },
  {
   "cell_type": "markdown",
   "metadata": {},
   "source": [
    "We can set `separator` to its default value `\\n`."
   ]
  },
  {
   "cell_type": "code",
   "execution_count": null,
   "metadata": {},
   "outputs": [
    {
     "name": "stdout",
     "output_type": "stream",
     "text": [
      "This is a single line display math mode LaTeX equation:\n",
      "\n",
      "$$\\mathcal{O}_X$$\n",
      "\n",
      "This is a single multi-line display math mode LaTeX equation:\n",
      "\n",
      "$$ 5 + 2 = 7 $$\n",
      "\n",
      "These are multiple consecutive display math mode LaTeX equations:\n",
      "\n",
      "$$1+1 = 2 $$\n",
      "$$5 + 7 = 14$$\n",
      "$$  8 + 4 = 12  $$\n"
     ]
    }
   ],
   "source": [
    "mf = MarkdownFile.from_string(text_10)\n",
    "mf.merge_display_math_mode_into_preceding_text(separator='\\n')\n",
    "print(mf)\n",
    "assert len(mf.parts) == 5  # Some of the parts have 'line' as multi-line str i.e. as str with `\\n` characters.\n",
    "assert '\\n' in mf.parts[0]['line']\n",
    "assert '\\n' not in mf.parts[1]['line']"
   ]
  },
  {
   "cell_type": "markdown",
   "metadata": {},
   "source": [
    "If the text starts with display math mode LaTeX, then that text is combined into one."
   ]
  },
  {
   "cell_type": "code",
   "execution_count": null,
   "metadata": {},
   "outputs": [
    {
     "name": "stdout",
     "output_type": "stream",
     "text": [
      "$$asdf$$ $$asdf$$ $$asdf$$\n",
      "After text.\n"
     ]
    }
   ],
   "source": [
    "mf = MarkdownFile.from_string(text_11)\n",
    "mf.merge_display_math_mode_into_preceding_text(separator=' ')\n",
    "print(mf)\n",
    "assert len(mf.parts) == 2"
   ]
  },
  {
   "cell_type": "markdown",
   "metadata": {},
   "source": [
    "## Writing a `MarkdownFile` object to a file"
   ]
  },
  {
   "cell_type": "markdown",
   "metadata": {},
   "source": [
    "We can write the contents of a `MarkdownFile` object to the file represented by `VaultNote` object."
   ]
  },
  {
   "cell_type": "code",
   "execution_count": null,
   "metadata": {},
   "outputs": [
    {
     "data": {
      "text/markdown": [
       "---\n",
       "\n",
       "[source](https://github.com/hyunjongkimmath/trouver/blob/main/trouver/markdown/markdown/file.py#L791){target=\"_blank\" style=\"float:right; font-size:smaller\"}\n",
       "\n",
       "### MarkdownFile.parts_of_id\n",
       "\n",
       ">      MarkdownFile.parts_of_id (par_id:str)\n",
       "\n",
       "Return the indices of the lines within the Markdown file\n",
       "belonging to the specified text id.\n",
       "\n",
       "This id can be used as an anchor for a link in Obsidian. For example,\n",
       "`[[note#^65809f]]` is a link to a note named `note` to the text with id\n",
       "`65809f`. Such a text is marked with a trailing `^65809f`.\n",
       "\n",
       "|    | **Type** | **Details** |\n",
       "| -- | -------- | ----------- |\n",
       "| par_id | str | Must begin with `'\\^'`. |\n",
       "| **Returns** | **Union[tuple[int], None]** | **`(start,end)` where `self.parts[start:end]` consists of the lines of the specified id. If the specified id does not exist for the note, then `None` is returned.** |"
      ],
      "text/plain": [
       "---\n",
       "\n",
       "[source](https://github.com/hyunjongkimmath/trouver/blob/main/trouver/markdown/markdown/file.py#L791){target=\"_blank\" style=\"float:right; font-size:smaller\"}\n",
       "\n",
       "### MarkdownFile.parts_of_id\n",
       "\n",
       ">      MarkdownFile.parts_of_id (par_id:str)\n",
       "\n",
       "Return the indices of the lines within the Markdown file\n",
       "belonging to the specified text id.\n",
       "\n",
       "This id can be used as an anchor for a link in Obsidian. For example,\n",
       "`[[note#^65809f]]` is a link to a note named `note` to the text with id\n",
       "`65809f`. Such a text is marked with a trailing `^65809f`.\n",
       "\n",
       "|    | **Type** | **Details** |\n",
       "| -- | -------- | ----------- |\n",
       "| par_id | str | Must begin with `'\\^'`. |\n",
       "| **Returns** | **Union[tuple[int], None]** | **`(start,end)` where `self.parts[start:end]` consists of the lines of the specified id. If the specified id does not exist for the note, then `None` is returned.** |"
      ]
     },
     "execution_count": null,
     "metadata": {},
     "output_type": "execute_result"
    }
   ],
   "source": [
    "show_doc(MarkdownFile.parts_of_id)"
   ]
  },
  {
   "cell_type": "markdown",
   "metadata": {},
   "source": [
    "Links in Obsidian can be anchored at \"paragraphs\" of text. As Wikilinks, such links have the format `[[<note_name>#^<id_of_paragraph>]]`. Note that the id begins with a carat `^`.\n",
    "\n",
    "We can get the parts of the Markdown file to which the id refers to:"
   ]
  },
  {
   "cell_type": "code",
   "execution_count": null,
   "metadata": {},
   "outputs": [
    {
     "name": "stdout",
     "output_type": "stream",
     "text": [
      "cheese \n",
      "bandit\n",
      "$$asdf$$\n",
      "asdf \n",
      "^65809f \n",
      "\n",
      "$$5 \\neq 7\n",
      "$$ \n",
      "^221b51 \n",
      "\n",
      "# This section has an id ^123456 \n",
      "\n",
      "^fff123 \n",
      "\n",
      "$$\\mathcal{O}_X$$  ^latexthing \n",
      "\n"
     ]
    }
   ],
   "source": [
    "with tempfile.TemporaryDirectory(prefix='temp_dir_', dir=os.getcwd()) as temp_dir:\n",
    "    make_example_vault_2(temp_dir)\n",
    "    vault = Path(temp_dir)\n",
    "    vn = VaultNote(vault, name = 'note_with_paragraphs_that_are_embedded_1')\n",
    "    mf = MarkdownFile.from_vault_note(vn)\n",
    "\n",
    "    start, end = mf.parts_of_id('^65809f')\n",
    "    assert start == 3 and end == 8\n",
    "    print(mf.text_of_lines(start, end), '\\n')\n",
    "    # lines = [mf.parts[i]['line'] for i in range(start, end)]\n",
    "    # print('\\n'.join(lines))\n",
    "\n",
    "    start, end = mf.parts_of_id('^221b51')\n",
    "    assert start == 13 and end == 16\n",
    "    print(mf.text_of_lines(start, end), '\\n')\n",
    "\n",
    "    start, end = mf.parts_of_id('^123456')\n",
    "    assert start == 17 and end == 18\n",
    "    print(mf.text_of_lines(start, end), '\\n')\n",
    "\n",
    "    start, end = mf.parts_of_id('^fff123')\n",
    "    assert start == 20 and end == 21\n",
    "    print(mf.text_of_lines(start, end), '\\n')\n",
    "\n",
    "    start, end = mf.parts_of_id('^latexthing')\n",
    "    assert start == 22 and end == 23\n",
    "    print(mf.text_of_lines(start, end), '\\n')"
   ]
  },
  {
   "cell_type": "markdown",
   "metadata": {},
   "source": [
    "#### Hidden tests"
   ]
  },
  {
   "cell_type": "code",
   "execution_count": null,
   "metadata": {},
   "outputs": [],
   "source": [
    "# hide \n",
    "# TODO _look_at_start_of_file, _line_dict"
   ]
  },
  {
   "cell_type": "markdown",
   "metadata": {},
   "source": [
    "## Misc TODO"
   ]
  },
  {
   "cell_type": "code",
   "execution_count": null,
   "metadata": {},
   "outputs": [
    {
     "data": {
      "text/markdown": [
       "---\n",
       "\n",
       "[source](https://github.com/hyunjongkimmath/trouver/blob/main/trouver/markdown/markdown/file.py#L229){target=\"_blank\" style=\"float:right; font-size:smaller\"}\n",
       "\n",
       "### MarkdownFile.text_of_lines\n",
       "\n",
       ">      MarkdownFile.text_of_lines (start:int, end:int)\n",
       "\n",
       "Return the text of `self.parts[start:end]`,\n",
       "        adding new line characters `'\n",
       "'` in between."
      ],
      "text/plain": [
       "---\n",
       "\n",
       "[source](https://github.com/hyunjongkimmath/trouver/blob/main/trouver/markdown/markdown/file.py#L229){target=\"_blank\" style=\"float:right; font-size:smaller\"}\n",
       "\n",
       "### MarkdownFile.text_of_lines\n",
       "\n",
       ">      MarkdownFile.text_of_lines (start:int, end:int)\n",
       "\n",
       "Return the text of `self.parts[start:end]`,\n",
       "        adding new line characters `'\n",
       "'` in between."
      ]
     },
     "execution_count": null,
     "metadata": {},
     "output_type": "execute_result"
    }
   ],
   "source": [
    "show_doc(MarkdownFile.text_of_lines)"
   ]
  },
  {
   "cell_type": "code",
   "execution_count": null,
   "metadata": {},
   "outputs": [
    {
     "data": {
      "text/markdown": [
       "---\n",
       "\n",
       "[source](https://github.com/hyunjongkimmath/trouver/blob/main/trouver/markdown/markdown/file.py#L385){target=\"_blank\" style=\"float:right; font-size:smaller\"}\n",
       "\n",
       "### MarkdownFile.write\n",
       "\n",
       ">      MarkdownFile.write (vn:trouver.markdown.obsidian.vault.VaultNote,\n",
       ">                          mode:str='w')\n",
       "\n",
       "Write to the file specified by a `VaultNote` object.\n",
       "\n",
       "If the file that the `VaultNote` object represents does not exist,\n",
       "then this method creates it.\n",
       "\n",
       "|    | **Type** | **Default** | **Details** |\n",
       "| -- | -------- | ----------- | ----------- |\n",
       "| vn | VaultNote |  | Represents the file. |\n",
       "| mode | str | w | The specific mode to write the file with. |\n",
       "| **Returns** | **None** |  | **enquote_entries_in_metadata_fields: list[str] = [] # A list of str of fields in the YAML metadata whose entries need to be enquoted. If there is a string that is not a key of `new_metadata`, then that string is essentially ignored (in particular, no errors are raised).** |"
      ],
      "text/plain": [
       "---\n",
       "\n",
       "[source](https://github.com/hyunjongkimmath/trouver/blob/main/trouver/markdown/markdown/file.py#L385){target=\"_blank\" style=\"float:right; font-size:smaller\"}\n",
       "\n",
       "### MarkdownFile.write\n",
       "\n",
       ">      MarkdownFile.write (vn:trouver.markdown.obsidian.vault.VaultNote,\n",
       ">                          mode:str='w')\n",
       "\n",
       "Write to the file specified by a `VaultNote` object.\n",
       "\n",
       "If the file that the `VaultNote` object represents does not exist,\n",
       "then this method creates it.\n",
       "\n",
       "|    | **Type** | **Default** | **Details** |\n",
       "| -- | -------- | ----------- | ----------- |\n",
       "| vn | VaultNote |  | Represents the file. |\n",
       "| mode | str | w | The specific mode to write the file with. |\n",
       "| **Returns** | **None** |  | **enquote_entries_in_metadata_fields: list[str] = [] # A list of str of fields in the YAML metadata whose entries need to be enquoted. If there is a string that is not a key of `new_metadata`, then that string is essentially ignored (in particular, no errors are raised).** |"
      ]
     },
     "execution_count": null,
     "metadata": {},
     "output_type": "execute_result"
    }
   ],
   "source": [
    "show_doc(MarkdownFile.write)"
   ]
  },
  {
   "cell_type": "code",
   "execution_count": null,
   "metadata": {},
   "outputs": [
    {
     "data": {
      "text/markdown": [
       "---\n",
       "\n",
       "[source](https://github.com/hyunjongkimmath/trouver/blob/main/trouver/markdown/markdown/file.py#L1118){target=\"_blank\" style=\"float:right; font-size:smaller\"}\n",
       "\n",
       "### MarkdownFile.copy\n",
       "\n",
       ">      MarkdownFile.copy (deep:bool)"
      ],
      "text/plain": [
       "---\n",
       "\n",
       "[source](https://github.com/hyunjongkimmath/trouver/blob/main/trouver/markdown/markdown/file.py#L1118){target=\"_blank\" style=\"float:right; font-size:smaller\"}\n",
       "\n",
       "### MarkdownFile.copy\n",
       "\n",
       ">      MarkdownFile.copy (deep:bool)"
      ]
     },
     "execution_count": null,
     "metadata": {},
     "output_type": "execute_result"
    }
   ],
   "source": [
    "show_doc(MarkdownFile.copy)"
   ]
  }
 ],
 "metadata": {
  "kernelspec": {
   "display_name": "python3",
   "language": "python",
   "name": "python3"
  },
  "language_info": {
   "name": "python",
   "version": "3.10.6"
  }
 },
 "nbformat": 4,
 "nbformat_minor": 2
}
