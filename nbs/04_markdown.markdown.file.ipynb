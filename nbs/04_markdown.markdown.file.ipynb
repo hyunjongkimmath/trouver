{
 "cells": [
  {
   "cell_type": "markdown",
   "metadata": {},
   "source": [
    "# markdown.markdown.file\n",
    "\n",
    "> Functions for parsing markdown files"
   ]
  },
  {
   "cell_type": "code",
   "execution_count": null,
   "metadata": {},
   "outputs": [],
   "source": [
    "#| default_exp markdown.markdown.file"
   ]
  },
  {
   "cell_type": "code",
   "execution_count": null,
   "metadata": {},
   "outputs": [],
   "source": [
    "#| export\n",
    "from __future__ import annotations\n",
    "import copy\n",
    "from enum import Enum\n",
    "from itertools import product\n",
    "import re\n",
    "import string\n",
    "from typing import Iterator, Union, Optional\n",
    "import yaml\n",
    "\n",
    "from trouver.helper import (\n",
    "    find_regex_in_text \n",
    ")\n",
    "from trouver.markdown.markdown.heading import (\n",
    "    heading_level, heading_title\n",
    ")\n",
    "# from trouver.markdown.obsidian.links import (\n",
    "#     ObsidianLink, \n",
    "#     remove_links_from_text, EMBEDDED_PATTERN, replace_embedded_links_with_text\n",
    "# )\n",
    "from trouver.markdown.obsidian.vault import VaultNote, NoteDoesNotExistError\n",
    "# from trouver.markdown.obsidian.tags import (\n",
    "#     strip_auto_from_tag, tag_is_auto_tag\n",
    "# )"
   ]
  }
 ],
 "metadata": {
  "kernelspec": {
   "display_name": "Python 3.10.6 64-bit",
   "language": "python",
   "name": "python3"
  }
 },
 "nbformat": 4,
 "nbformat_minor": 2
}
