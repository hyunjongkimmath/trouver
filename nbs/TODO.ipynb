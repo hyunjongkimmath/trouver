{
 "cells": [
  {
   "cell_type": "markdown",
   "metadata": {},
   "source": [
    "I make a TODO list here:"
   ]
  },
  {
   "cell_type": "markdown",
   "metadata": {},
   "source": [
    "# TODO list\n",
    "> A TODO list"
   ]
  },
  {
   "cell_type": "markdown",
   "metadata": {},
   "source": [
    "## Docstring formatting"
   ]
  },
  {
   "cell_type": "markdown",
   "metadata": {},
   "source": [
    "Describe functions/methods' effects as commands (e.g. \"Do this\", \"Return that\"), not as a description (e.g. \"Returns this\"), cf. [SageMath General Conventions](https://doc.sagemath.org/html/en/developer/coding_basics.html#the-docstring-of-a-function-content), [PEP 257](https://peps.python.org/pep-0257/)"
   ]
  },
  {
   "cell_type": "markdown",
   "metadata": {},
   "source": [
    "## Code factoring"
   ]
  },
  {
   "cell_type": "markdown",
   "metadata": {},
   "source": [
    "Make methods 20 lines long at most."
   ]
  },
  {
   "cell_type": "markdown",
   "metadata": {},
   "source": [
    "# Issues to report to nbdev/fastai"
   ]
  },
  {
   "cell_type": "markdown",
   "metadata": {},
   "source": [
    "- [ ] For parameter tables of a docstring, things like `list[type]` don't show that brackets:"
   ]
  },
  {
   "cell_type": "markdown",
   "metadata": {},
   "source": [
    "## 03_markdown.obsidian.vault"
   ]
  },
  {
   "cell_type": "markdown",
   "metadata": {},
   "source": [
    "- [ ] Look in other modules to see if `vault` and a `VaultNote` object are both parameters in methods/functions; if so, remove the `vault` parameter (or at least make it an optional parameter) as it should be extracted from the `VaultNote` objecct."
   ]
  },
  {
   "cell_type": "markdown",
   "metadata": {},
   "source": [
    "## 06_markdown.obsidian.links"
   ]
  },
  {
   "cell_type": "markdown",
   "metadata": {},
   "source": [
    "- [ ] Make class Pattern objects for `WIKILINK_CAPTURE_PATTERN` and `MARKDOWNLINK_CAPTURE_PATTERN`.\n",
    "- [ ] Implement equality and `copy` method.\n",
    "- [ ] Make Wikilink and MarkdownLink subclasses"
   ]
  }
 ],
 "metadata": {
  "kernelspec": {
   "display_name": "Python 3.10.6 64-bit",
   "language": "python",
   "name": "python3"
  }
 },
 "nbformat": 4,
 "nbformat_minor": 2
}
