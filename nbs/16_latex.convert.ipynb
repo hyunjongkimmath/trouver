{
 "cells": [
  {
   "cell_type": "code",
   "execution_count": null,
   "metadata": {},
   "outputs": [],
   "source": [
    "# latex.convert\n",
    "\n",
    "> Convert LaTeX files into Obsidian.md notes"
   ]
  },
  {
   "cell_type": "code",
   "execution_count": null,
   "metadata": {},
   "outputs": [],
   "source": [
    "#| default_exp latex.convert"
   ]
  },
  {
   "cell_type": "code",
   "execution_count": null,
   "metadata": {},
   "outputs": [],
   "source": [
    "#| export\n",
    "from collections import OrderedDict\n",
    "import os\n",
    "from os import PathLike\n",
    "from pathlib import Path\n",
    "from pylatexenc import latexwalker, latex2text\n",
    "from pylatexenc.latexwalker import (\n",
    "    LatexWalker, LatexEnvironmentNode, get_default_latex_context_db,\n",
    "    LatexNode, LatexSpecialsNode, LatexMathNode, LatexMacroNode, LatexCharsNode,\n",
    "    LatexGroupNode, LatexCommentNode\n",
    ")\n",
    "from pylatexenc.latex2text import (\n",
    "    MacroTextSpec, EnvironmentTextSpec)\n",
    "from pylatexenc.macrospec import (\n",
    "    MacroSpec, LatexContextDb, EnvironmentSpec\n",
    ")\n",
    "import re\n",
    "from typing import Union\n",
    "from trouver.helper import (\n",
    "    find_regex_in_text, dict_with_keys_topologically_sorted,\n",
    "    containing_string_priority, replace_string_by_indices, text_from_file\n",
    ")\n",
    "from trouver.markdown.markdown.file import (\n",
    "    MarkdownFile, MarkdownLineEnum\n",
    ")\n",
    "\n",
    "from trouver.markdown.obsidian.vault import VaultNote\n",
    "from trouver.markdown.obsidian.personal.index_notes import (\n",
    "    correspond_headings_with_folder, convert_title_to_folder_name\n",
    ")\n",
    "from trouver.markdown.obsidian.personal.reference import setup_folder_for_new_reference\n",
    "from trouver.markdown.obsidian.vault import VaultNote\n",
    "import warnings"
   ]
  },
  {
   "cell_type": "code",
   "execution_count": null,
   "metadata": {},
   "outputs": [],
   "source": [
    "#| export\n",
    "DEFAULT_NUMBERED_ENVIRONMENTS = ['theorem', 'corollary', 'lemma', 'proposition',\n",
    "                                 'definition', 'conjecture', 'remark', 'example',\n",
    "                                 'question']"
   ]
  }
 ],
 "metadata": {
  "language_info": {
   "name": "python"
  },
  "orig_nbformat": 4
 },
 "nbformat": 4,
 "nbformat_minor": 2
}
