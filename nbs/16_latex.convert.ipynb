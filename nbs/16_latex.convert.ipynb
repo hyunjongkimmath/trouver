{
 "cells": [
  {
   "cell_type": "markdown",
   "metadata": {},
   "source": [
    "# latex.convert\n",
    "\n",
    "> Convert LaTeX files into Obsidian.md notes"
   ]
  },
  {
   "cell_type": "markdown",
   "metadata": {},
   "source": [
    "This module contains functions and methods to automatically make Obsidian notes from LaTeX files of mathematical papers, most notably those on arXiv.\n",
    "\n",
    "See the [Potential Problems](#potential-problems) section below for some common errors that arise from this module and how to circumvent them."
   ]
  },
  {
   "cell_type": "code",
   "execution_count": null,
   "metadata": {
    "vscode": {
     "languageId": "python"
    }
   },
   "outputs": [],
   "source": [
    "#| default_exp latex.convert"
   ]
  },
  {
   "cell_type": "code",
   "execution_count": null,
   "metadata": {
    "vscode": {
     "languageId": "python"
    }
   },
   "outputs": [],
   "source": [
    "#| export\n",
    "from collections import OrderedDict\n",
    "import os\n",
    "from os import PathLike\n",
    "from pathlib import Path\n",
    "import re\n",
    "from typing import Union\n",
    "\n",
    "from pylatexenc import latexwalker, latex2text\n",
    "from pylatexenc.latexwalker import (\n",
    "    LatexWalker, LatexEnvironmentNode, get_default_latex_context_db,\n",
    "    LatexNode, LatexSpecialsNode, LatexMathNode, LatexMacroNode, LatexCharsNode,\n",
    "    LatexGroupNode, LatexCommentNode\n",
    ")\n",
    "from pylatexenc.latex2text import (\n",
    "    MacroTextSpec, EnvironmentTextSpec)\n",
    "from pylatexenc.macrospec import (\n",
    "    MacroSpec, LatexContextDb, EnvironmentSpec\n",
    ")\n",
    "import regex\n",
    "\n",
    "from trouver.helper import (\n",
    "    find_regex_in_text, dict_with_keys_topologically_sorted,\n",
    "    containing_string_priority, replace_string_by_indices, text_from_file\n",
    ")\n",
    "from trouver.markdown.markdown.file import (\n",
    "    MarkdownFile, MarkdownLineEnum\n",
    ")\n",
    "\n",
    "from trouver.markdown.obsidian.vault import VaultNote\n",
    "from trouver.markdown.obsidian.personal.index_notes import (\n",
    "    correspond_headings_with_folder, convert_title_to_folder_name\n",
    ")\n",
    "from trouver.markdown.obsidian.personal.reference import setup_folder_for_new_reference\n",
    "from trouver.markdown.obsidian.vault import VaultNote\n",
    "import warnings"
   ]
  },
  {
   "cell_type": "code",
   "execution_count": null,
   "metadata": {
    "vscode": {
     "languageId": "python"
    }
   },
   "outputs": [],
   "source": [
    "#| export\n",
    "DEFAULT_NUMBERED_ENVIRONMENTS = ['theorem', 'corollary', 'lemma', 'proposition',\n",
    "                                 'definition', 'conjecture', 'remark', 'example',\n",
    "                                 'question']"
   ]
  },
  {
   "cell_type": "code",
   "execution_count": null,
   "metadata": {
    "vscode": {
     "languageId": "python"
    }
   },
   "outputs": [],
   "source": [
    "from fastcore.test import ExceptionExpected, test_eq\n",
    "from trouver.helper import _test_directory, non_utf8_chars_in_file"
   ]
  },
  {
   "cell_type": "markdown",
   "metadata": {},
   "source": [
    "## Potential problems"
   ]
  },
  {
   "cell_type": "markdown",
   "metadata": {},
   "source": [
    "The following are some frequently problems that arise when using this module:\n"
   ]
  },
  {
   "cell_type": "markdown",
   "metadata": {},
   "source": [
    "#### UnicodeDecodeErrors arise when reading LaTeX files"
   ]
  },
  {
   "cell_type": "markdown",
   "metadata": {},
   "source": [
    "By default, the `text_from_file` method in `trouver.helper` reads files and attempts to decode them in `utf-8`. If a LaTeX file has characters that cannot be decoded into `utf-8`, then a `UnicodeDecodeError` may be raised. In this case, one can find identify these characters using the `trouver.helper.non_utf8_chars_in_file` method and modify the LaTeX file manually. It may be useful to use a text editor to jump to the positions that the characters are at and to change the encoding of the LaTeX file into `utf-8`; for example, the author of `trouver` has opened some `ANSI`-encoded LaTeX documents in `Notepad++` and converted their encoding into `UTF-8`."
   ]
  },
  {
   "cell_type": "code",
   "execution_count": null,
   "metadata": {
    "vscode": {
     "languageId": "python"
    }
   },
   "outputs": [
    {
     "name": "stdout",
     "output_type": "stream",
     "text": [
      "The following are the non unicode characters and their positions: [('Ê', 130), ('Ê', 165), ('Ë', 196), ('Ì', 227)]\n"
     ]
    }
   ],
   "source": [
    "latex_file_path = _test_directory() / 'latex_examples' / 'circumflex_E_example.tex'\n",
    "contents, non_utf8_chars = non_utf8_chars_in_file(latex_file_path)\n",
    "#print(contents.decode(encoding='utf-8'))\n",
    "test_eq(len(non_utf8_chars), 4)\n",
    "print(f'The following are the non unicode characters and their positions: {non_utf8_chars}')"
   ]
  },
  {
   "cell_type": "markdown",
   "metadata": {},
   "source": [
    "#### `NoDocumentNodeErrors` arise even though the LaTeX file has a document environemt (i.e. `\\begin{document}...\\end{document}`)"
   ]
  },
  {
   "cell_type": "markdown",
   "metadata": {},
   "source": [
    "The `find_document_node` method in this module sometimes is not able to detect the docment environment of a LaTeX file. This error is known to arise when\n",
    "- there are macros (which include commands) defined that represents/expands to characters including `\\begin{...}... \\end{...}`. For example"
   ]
  },
  {
   "cell_type": "code",
   "execution_count": null,
   "metadata": {
    "vscode": {
     "languageId": "python"
    }
   },
   "outputs": [],
   "source": [
    "# TODO in the above explanation, include an example."
   ]
  },
  {
   "cell_type": "code",
   "execution_count": null,
   "metadata": {
    "vscode": {
     "languageId": "python"
    }
   },
   "outputs": [],
   "source": []
  },
  {
   "cell_type": "markdown",
   "metadata": {},
   "source": [
    "## LaTeX comments"
   ]
  },
  {
   "cell_type": "code",
   "execution_count": null,
   "metadata": {
    "vscode": {
     "languageId": "python"
    }
   },
   "outputs": [],
   "source": [
    "#| export\n",
    "def remove_comments(text: str) -> str:\n",
    "    # Find all occurrences of the comment pattern %[^\\n]*\n",
    "    return re.sub(r\"%[^\\n]*\", \"\", text)"
   ]
  },
  {
   "cell_type": "code",
   "execution_count": null,
   "metadata": {
    "vscode": {
     "languageId": "python"
    }
   },
   "outputs": [
    {
     "name": "stdout",
     "output_type": "stream",
     "text": [
      "\n",
      "\\newcommand{\\field}[1]{\\mathbb{#1}}\n",
      "\\newcommand{\\mat}[4]{\\left[\\begin{array}{cc}#1 & #2 \\\\\n",
      "                                         #3 & #4\\end{array}\\right]}\n",
      "\\newcommand{\\dual}[1]{#1^{\\vee}}\n",
      "\\newcommand{\\compl}[1]{\\hat{#1}}\n",
      "\n"
     ]
    }
   ],
   "source": [
    "text = r\"\"\"% Commands with parameters\n",
    "\\newcommand{\\field}[1]{\\mathbb{#1}}\n",
    "\\newcommand{\\mat}[4]{\\left[\\begin{array}{cc}#1 & #2 \\\\\n",
    "                                         #3 & #4\\end{array}\\right]}\n",
    "\\newcommand{\\dual}[1]{#1^{\\vee}}\n",
    "\\newcommand{\\compl}[1]{\\hat{#1}}\n",
    "\"\"\"\n",
    "assert '%' not in remove_comments(text)\n",
    "print(remove_comments(text))\n",
    "\n",
    "text = r\"\"\"Hi. I'm not commented. %But I am!\"\"\"\n",
    "test_eq(remove_comments(text), \"Hi. I'm not commented. \")"
   ]
  },
  {
   "cell_type": "markdown",
   "metadata": {},
   "source": [
    "## Divide LaTeX file into parts"
   ]
  },
  {
   "cell_type": "markdown",
   "metadata": {},
   "source": [
    "To make Obsidian notes from a LaTeX file, I use sections/subsections, and environments as places to make new notes."
   ]
  },
  {
   "cell_type": "markdown",
   "metadata": {},
   "source": [
    "Things to think about:\n",
    "Sections/subsections\n",
    "environments, including theorems, corollaries, propositions, lemmas, definitions, notations\n",
    "citations\n",
    "Macros defined in the preamble?\n",
    "\n",
    "LatexMacroNodes include: sections/subsections, citations, references, and labels, e.g.\n",
    "\n",
    "```latex\n",
    "> \\section{Introduction}\n",
    "\\cite{ellenberg2nilpotent}\n",
    "\\subsection{The section conjecture}\n",
    "\\'e\n",
    "\\ref{fundamental-exact-sequence}\n",
    "\\cite{stix2010period}\n",
    "\\ref{fundamental-exact-sequence}\n",
    "\\cite{stix2012rational}\n",
    "\\cite[Appendix C]{stix2010period}\n",
    "\\subsection{The tropical section conjecture}\n",
    "\\label{subsec:tropical-section-conjecture}\n",
    "```"
   ]
  },
  {
   "cell_type": "markdown",
   "metadata": {},
   "source": [
    "#### Divide the preamble from the rest of the document"
   ]
  },
  {
   "cell_type": "markdown",
   "metadata": {},
   "source": [
    "Some macros and commands defined in the preamble seem to prevent the `pylatexenc` methods from properly identifying the document environment/node in a LaTeX document. To circumvent this, we define a function to divide the preamble from the rest of the document"
   ]
  },
  {
   "cell_type": "code",
   "execution_count": null,
   "metadata": {
    "vscode": {
     "languageId": "python"
    }
   },
   "outputs": [],
   "source": [
    "#| export\n",
    "def divide_preamble(\n",
    "        text: str, # LaTeX document\n",
    "        document_environment_name: str = \"document\"\n",
    "        ) -> tuple[str, str]:\n",
    "    \"\"\"Divide the preamble from the rest of a LaTeX document.\n",
    "    \"\"\"\n",
    "    begin_environment_str = rf'\\begin{{{document_environment_name}}}'\n",
    "    pattern = re.compile(re.escape(begin_environment_str))\n",
    "    match = re.search(pattern, text) \n",
    "    start_match, end_match = match.span()\n",
    "    return text[:start_match], text[start_match:]\n",
    "\n",
    "    "
   ]
  },
  {
   "cell_type": "code",
   "execution_count": null,
   "metadata": {
    "vscode": {
     "languageId": "python"
    }
   },
   "outputs": [],
   "source": [
    "latex_file_path = _test_directory() / 'latex_examples' / 'example_with_a_command_with_begin.tex'\n",
    "text = text_from_file(latex_file_path)\n",
    "\n",
    "preamble, document = divide_preamble(text)\n",
    "assert r'\\begin{displaymath}' in preamble\n",
    "assert r'Hyun Jong Kim' in preamble\n",
    "\n",
    "assert r'Hyun Jong Kim' not in document\n",
    "assert document.startswith(r'\\begin{document}')\n",
    "assert document.endswith('\\\\end{document}')"
   ]
  },
  {
   "cell_type": "markdown",
   "metadata": {},
   "source": [
    "#### Get the Document Node"
   ]
  },
  {
   "cell_type": "code",
   "execution_count": null,
   "metadata": {
    "vscode": {
     "languageId": "python"
    }
   },
   "outputs": [],
   "source": [
    "#| export\n",
    "class NoDocumentNodeError(Exception):\n",
    "    \"\"\"Exception raised when a LatexEnvironmentNode corresponding to the document \n",
    "    environment is expected in a LaTeX string, but no such node exists.\n",
    "    \n",
    "    **Attributes**\n",
    "    - text - str\n",
    "        - The text in which the document environment is not found.\n",
    "    \"\"\"\n",
    "    \n",
    "    def __init__(self, text):\n",
    "        self.text = text\n",
    "        super().__init__(\n",
    "            f\"The following text does not contain a document environment:\\n{text}\")\n",
    "\n"
   ]
  },
  {
   "cell_type": "code",
   "execution_count": null,
   "metadata": {
    "vscode": {
     "languageId": "python"
    }
   },
   "outputs": [],
   "source": [
    "#| export\n",
    "def find_document_node(\n",
    "        text: str, # LaTeX str\n",
    "        document_environment_name: str = \"document\" # The name of the document environment.\n",
    "        ) -> LatexEnvironmentNode:\n",
    "    \"\"\"Find the `LatexNode` object for the main document in `text`.\n",
    "    \n",
    "    **Raises**\n",
    "    - NoDocumentNodeError\n",
    "        - If document environment node is not detected.\n",
    "    \"\"\"\n",
    "    w = LatexWalker(text)\n",
    "    nodelist, _, _ = w.get_latex_nodes(pos=0)\n",
    "    for node in nodelist:\n",
    "        if node.isNodeType(LatexEnvironmentNode)\\\n",
    "                and node.environmentname == document_environment_name:\n",
    "            return node\n",
    "    raise NoDocumentNodeError(text)"
   ]
  },
  {
   "cell_type": "markdown",
   "metadata": {},
   "source": [
    "The main content of virtually all LaTeX math articles belongs to a document environment, which pylatexenc can often detect. The `find_document_node` function returns this `LatexEnvironmentNode` object:"
   ]
  },
  {
   "cell_type": "code",
   "execution_count": null,
   "metadata": {
    "vscode": {
     "languageId": "python"
    }
   },
   "outputs": [],
   "source": [
    "latex_file_path = _test_directory() / 'latex_examples' / 'latex_example_1' / 'main.tex'\n",
    "text = text_from_file(latex_file_path)\n",
    "document_node = find_document_node(text)"
   ]
  },
  {
   "cell_type": "markdown",
   "metadata": {},
   "source": [
    "If the LaTeX file has no `document` environment, then a `NoDocumentNodeError` is raised:"
   ]
  },
  {
   "cell_type": "code",
   "execution_count": null,
   "metadata": {
    "vscode": {
     "languageId": "python"
    }
   },
   "outputs": [],
   "source": [
    "# This latex document has its `document` environment commented out.\n",
    "latex_file_path = _test_directory() / 'latex_examples' / 'latex_example_2' / 'main.tex'\n",
    "text = text_from_file(latex_file_path)\n",
    "with ExceptionExpected(NoDocumentNodeError):\n",
    "    document_node = find_document_node(text)"
   ]
  },
  {
   "cell_type": "markdown",
   "metadata": {},
   "source": [
    "At the time of this writinga `NoDocumentNodeError` may be raised even if the LaTeX file has a proper `document` environment"
   ]
  },
  {
   "cell_type": "code",
   "execution_count": null,
   "metadata": {
    "vscode": {
     "languageId": "python"
    }
   },
   "outputs": [],
   "source": [
    "latex_file_path = _test_directory() / 'latex_examples' / 'example_with_a_command_with_begin.tex'\n",
    "text = text_from_file(latex_file_path)\n",
    "\n",
    "# Perhaps in the future, pylatexenc will be able to find the document node for this file.\n",
    "# When that time comes, delete this example.\n",
    "with ExceptionExpected(NoDocumentNodeError):\n",
    "    find_document_node(text)\n",
    "\n"
   ]
  },
  {
   "cell_type": "markdown",
   "metadata": {},
   "source": [
    "The `divide_preamble` function can be used to circumvent this problem:"
   ]
  },
  {
   "cell_type": "code",
   "execution_count": null,
   "metadata": {
    "vscode": {
     "languageId": "python"
    }
   },
   "outputs": [],
   "source": [
    "preamble, document = divide_preamble(text)\n",
    "document_node = find_document_node(document)\n",
    "test_eq(document_node.environmentname, 'document')\n",
    "assert document_node.isNodeType(LatexEnvironmentNode)"
   ]
  },
  {
   "cell_type": "code",
   "execution_count": null,
   "metadata": {
    "vscode": {
     "languageId": "python"
    }
   },
   "outputs": [],
   "source": [
    "# hide\n",
    "# Find no document node error causes\n",
    "\n",
    "# latex_file_path = r'_tests\\latex_full\\litt_cfag\\main.tex'\n",
    "# text = text_from_file(latex_file_path)\n",
    "# document_node = find_document_node(text)"
   ]
  },
  {
   "cell_type": "markdown",
   "metadata": {},
   "source": [
    "### Detect environment names used in a file"
   ]
  },
  {
   "cell_type": "code",
   "execution_count": null,
   "metadata": {
    "vscode": {
     "languageId": "python"
    }
   },
   "outputs": [],
   "source": [
    "#| export\n",
    "def environment_names_used(\n",
    "        text: str # LaTeX document\n",
    "        ) -> set[str]: # The set of all environment names used in the main document.\n",
    "    \"\"\"Return the set of all environment names used in the main document\n",
    "    of the latex code.\n",
    "    \"\"\"\n",
    "    document_node = find_document_node(text)\n",
    "    return {node.environmentname for node in document_node.nodelist\n",
    "            if node.isNodeType(LatexEnvironmentNode)}        "
   ]
  },
  {
   "cell_type": "markdown",
   "metadata": {},
   "source": [
    "Writers often use different environment names. For examples, writers often use `theorem`, `thm`, or `theo` for theorem environments or `lemma` or `lem` for lemma environments. The `environment_names_used` function returns the environment names actually used in the tex file."
   ]
  },
  {
   "cell_type": "markdown",
   "metadata": {},
   "source": [
    "In the example below, note that only the environments that are actually used are returned. For instance, the preamble of the document defines the theorem environments `problem`, and `lemma` (among other things), but these are not actually used in the document itself."
   ]
  },
  {
   "cell_type": "code",
   "execution_count": null,
   "metadata": {
    "vscode": {
     "languageId": "python"
    }
   },
   "outputs": [],
   "source": [
    "latex_file_path = _test_directory() / 'latex_examples' / 'has_fully_written_out_environment_names.tex'\n",
    "sample_text_1 = text_from_file(latex_file_path)\n",
    "sample_output_1 = environment_names_used(sample_text_1)\n",
    "test_eq({'corollary', 'proof', 'maincorollary', 'abstract', 'proposition'}, sample_output_1)"
   ]
  },
  {
   "cell_type": "markdown",
   "metadata": {},
   "source": [
    "The document in the example below uses shorter names for theorem environments:"
   ]
  },
  {
   "cell_type": "code",
   "execution_count": null,
   "metadata": {
    "vscode": {
     "languageId": "python"
    }
   },
   "outputs": [],
   "source": [
    "latex_file_path = _test_directory() / 'latex_examples' / 'has_shorter_environment_names.tex'\n",
    "sample_text_2 = text_from_file(latex_file_path)\n",
    "sample_output_2 = environment_names_used(sample_text_2)\n",
    "test_eq({'conj', 'notation', 'corollary', 'defn'}, sample_output_2)"
   ]
  },
  {
   "cell_type": "code",
   "execution_count": null,
   "metadata": {
    "vscode": {
     "languageId": "python"
    }
   },
   "outputs": [],
   "source": []
  },
  {
   "cell_type": "markdown",
   "metadata": {},
   "source": [
    "#### Identify the numbering convention of a LaTeX document"
   ]
  },
  {
   "cell_type": "markdown",
   "metadata": {},
   "source": [
    "LaTeX documents have various number conventions. Here are some examples of papers on the arXiv and notes on their numbering schemes. Note that the source code to these articles are publicly available on the arXiv. \n",
    "\n",
    "- Ellenberg, Venkatesh, and Westerland, *[Homological stability for Hurwitz spaces and the Cohen-Lenstra conjecture over function fields](https://arxiv.org/abs/0912.0325)*, \n",
    "    - The subsections and theorem-like environments of each section share a numbering scheme, e.g. section 1 has subsection `1.1 The Cohen-Lenstra heuristics`, `1.2 Theorem`, `1.3 Hurwitz spaces`. This is accomplished by defining theorem-like environments using the `subsection` counter, e.g.\n",
    "\n",
    "        ```latex\n",
    "        \\theoremstyle{plain}\n",
    "        \\newtheorem{thm}[subsection]{Theorem}\n",
    "        \\newtheorem{prop}[subsection]{Proposition}\n",
    "        \\newtheorem{cor}[subsection]{Corollary}\n",
    "        \\newtheorem{remark}{Remark}\n",
    "        \\newtheorem{conj}[subsection]{Conjecture}\n",
    "        \\newtheorem*{conj*}{Conjecture}\n",
    "         ```\n",
    "\n",
    "        defines the `thm`, `prop`, `cor`, and `conj` environments to be numbered using the `subsection` counter, the `remark` environmment to be defiend as an unnumbered environment, and the `conj*` environment to be defined as an unnumbered environment with a different name than the `conj` environment.\n",
    "\n",
    "    - The `\\swapnumbers` command is included in the preamble to change the way that theorems are numbered in the document, e.g. the article has `1.2 Theorem` as opposed to `Theorem 1.2`.\n",
    "    - The equations are numbered along the subsections - this is accomplished by the lines \n",
    "\n",
    "        ```latex\n",
    "        \\numberwithin{equation}{subsection}\n",
    "        \\renewcommand{\\theequation}{\\thesubsection.\\arabic{equation}}\n",
    "        ```\n",
    "\n",
    "        in the preamble.\n",
    "- Hoyois, *[A quadratic refinement of the Grothendieck-Lefschetz-Verdier Trace Formula](https://arxiv.org/abs/1309.6147)*\n",
    "    - The theorem-like environments are numbered `Theorem 1.1, Theorem 1.3, Corollary 1.4, Theorem 1.5`, etc.\n",
    "        - The theorem-like environments that are numbered are assigned the `equation` counter. In particular, the equation\n",
    "        environments share their numberings with the theorem-like environments. For example, section 1 has Equation `(1.2)`\n",
    "        - This equation counter is reset at the beginning of each section and the section number is included in the numbering via\n",
    "        ```latex \n",
    "        \\numberwithin{equation}{section}\n",
    "        ```"
   ]
  },
  {
   "cell_type": "code",
   "execution_count": null,
   "metadata": {
    "vscode": {
     "languageId": "python"
    }
   },
   "outputs": [],
   "source": [
    "# TODO: consider different arxiv articles to see how they are numbered\n",
    "# TODO: cosider swapnumbers\n",
    "# TODO: consider numberwithin"
   ]
  },
  {
   "cell_type": "code",
   "execution_count": 135,
   "metadata": {
    "vscode": {
     "languageId": "python"
    }
   },
   "outputs": [],
   "source": [
    "#| export\n",
    "def newtheorems_in_preamble(\n",
    "        document: str # The LaTeX document\n",
    "        ) -> dict[str, str]: # The keys are the command names of the environments. The values are the counters that the environments belong to, which can be custom defined or predefined in LaTeX.\n",
    "    r\"\"\"Return the dict specifying the counters for each theorem-like environment.\n",
    "\n",
    "    Assumes that\n",
    "    - invocations of the `\\newtheorem` command are exclusively in the\n",
    "    preamble of the LaTeX document.\n",
    "    - theorem-like environments are defined using the `\\newtheorem` command.\n",
    "    - no environments of the same name are defined twice.\n",
    "\n",
    "    This function does not take into account `numberwithiins` being used.\n",
    "\n",
    "    This function uses two separate regex patterns, one to detect the invocations of `\\newtheorem`\n",
    "    in which the optional parameter is the second parameter and one to detect those in which\n",
    "    the optional parameter is the third parameter.\n",
    "\n",
    "\n",
    "    \"\"\"\n",
    "    preamble, _ = divide_preamble(document)\n",
    "    preamble = remove_comments(preamble)\n",
    "    # TODO: maybe use the `regex` package instead of `re` with a recursive\n",
    "    # balanced-curly braces detecting regex.\n",
    "    second_parameter_pattern = re.compile(\n",
    "        # In this case, the optional parameter (if any) should not follow the newtheorem.\n",
    "        r'\\\\newtheorem\\s*\\{\\s*(\\w+)\\s*\\}\\s*(\\[\\s*(\\w+)\\s*\\])?\\s*\\{\\s*(.*)\\s*\\}(?!\\s*\\[\\s*(\\w+)\\s*\\])')\n",
    "    third_parameter_pattern = re.compile(\n",
    "        r'\\\\newtheorem\\s*\\{\\s*(\\w+)\\s*\\}\\s*\\{\\s*(.*)\\s*\\}\\s*(\\[\\s*(\\w+)\\s*\\])?')\n",
    "    second_results = _search_counters_by_pattern(preamble, second_parameter_pattern, 3)\n",
    "    third_results = _search_counters_by_pattern(preamble, third_parameter_pattern, 4)\n",
    "    return second_results | third_results\n",
    "    \n",
    "\n",
    "def _search_counters_by_pattern(\n",
    "        preamble: str,\n",
    "        newtheorem_regex: re.Pattern,\n",
    "        counter_group: int # This depends on which `newtheorem_regex` is used, and is either 3 or 4. \n",
    "        ) -> dict:\n",
    "    \"\"\"\n",
    "    Capture the newly defined theorem-like environment names as well as the\n",
    "    counters that they belong to\"\"\"\n",
    "    counters = {}\n",
    "    for match in newtheorem_regex.finditer(preamble):\n",
    "        env_name = match.group(1)\n",
    "        counter = match.group(counter_group)\n",
    "        # If no counter was specified, use the environment name as the counter\n",
    "        if counter is None:\n",
    "            counter = env_name\n",
    "        counters[env_name] = counter\n",
    "    return counters"
   ]
  },
  {
   "cell_type": "code",
   "execution_count": null,
   "metadata": {
    "vscode": {
     "languageId": "python"
    }
   },
   "outputs": [],
   "source": [
    "text = text_from_file(_test_directory() / 'latex_examples' / 'newtheorem_example.tex') \n",
    "\n",
    "counters = newtheorems_in_preamble(text)\n",
    "test_eq(counters, {'theorem': 'theorem', 'lemma': 'theorem', 'definition': 'theorem', 'corollary': 'corollary', 'remark': 'theorem'})\n"
   ]
  },
  {
   "cell_type": "code",
   "execution_count": null,
   "metadata": {
    "vscode": {
     "languageId": "python"
    }
   },
   "outputs": [],
   "source": [
    "text = r\"\"\"\n",
    "\\theoremstyle{plain}\n",
    "\\newtheorem{thm}[subsection]{Theorem}\n",
    "\\newtheorem{prop}[subsection]{Proposition}\n",
    "\\newtheorem{cor}[subsection]{Corollary}\n",
    "\\newtheorem{remark}{Remark}\n",
    "\\newtheorem{conj}[subsection]{Conjecture}\n",
    "\\newtheorem*{conj*}{Conjecture}\n",
    "\\begin{document}\n",
    "\\end{document}\n",
    "\"\"\"\n",
    "counters = newtheorems_in_preamble(text)\n",
    "test_eq(counters, {'thm': 'subsection', 'prop': 'subsection', 'cor': 'subsection', 'remark': 'remark', 'conj': 'subsection'})"
   ]
  },
  {
   "cell_type": "markdown",
   "metadata": {},
   "source": [
    "`newtheorems_in_preamble` ignores commented out text"
   ]
  },
  {
   "cell_type": "code",
   "execution_count": 136,
   "metadata": {
    "vscode": {
     "languageId": "python"
    }
   },
   "outputs": [],
   "source": [
    "text = r\"\"\"\n",
    "\\theoremstyle{plain}\n",
    "\\newtheorem{thm}[subsection]{Theorem}\n",
    "\\newtheorem{prop}[subsection]{Proposition}\n",
    "\\newtheorem{cor}[subsection]{Corollary}\n",
    "% \\newtheorem{remark}{Remark}\n",
    "\\newtheorem{conj}[subsection]{Conjecture}\n",
    "\\newtheorem*{conj*}{Conjecture} %\\newtheorem{fakeenv}{This won't be picked up!}\n",
    "\\begin{document}\n",
    "\\end{document}\n",
    "\"\"\"\n",
    "counters = newtheorems_in_preamble(text)\n",
    "test_eq(counters, {'thm': 'subsection', 'prop': 'subsection', 'cor': 'subsection', 'conj': 'subsection'})"
   ]
  },
  {
   "cell_type": "markdown",
   "metadata": {},
   "source": [
    "`newtheorems_in_preamble` does not account for `\\numberwithin` command invocations."
   ]
  },
  {
   "cell_type": "code",
   "execution_count": 133,
   "metadata": {
    "vscode": {
     "languageId": "python"
    }
   },
   "outputs": [
    {
     "name": "stdout",
     "output_type": "stream",
     "text": [
      "\\documentclass{amsart}\n",
      "\\usepackage[utf8]{inputenc}\n",
      "\\usepackage{amsmath, amsfonts, amssymb, amsthm, amsopn}\n",
      "\n",
      "\\numberwithin{equation}{section}\n",
      "\n",
      "\\theoremstyle{plain}\n",
      "\\newtheorem*{theorem*}{Theorem}\n",
      "\\newtheorem*{theoremA}{Theorem A}\n",
      "\\newtheorem*{theoremB}{Theorem B}\n",
      "\\newtheorem{theorem}[equation]{Theorem}\n",
      "\\newtheorem{proposition}[equation]{Proposition}\n",
      "\\newtheorem{lemma}[equation]{Lemma}\n",
      "\\newtheorem{corollary}[equation]{Corollary}\n",
      "\n",
      "\\theoremstyle{definition}\n",
      "\\newtheorem{definition}[equation]{Definition}\n",
      "\\newtheorem{example}[equation]{Example}\n",
      "\\newtheorem*{acknowledgements}{Acknowledgements}\n",
      "\\newtheorem*{conventions}{Conventions}\n",
      "\n",
      "\\theoremstyle{remark}\n",
      "\\newtheorem{remark}[equation]{Remark}\n",
      "\n",
      "\\begin{document}\n",
      "\n",
      "\\section{Introduction}\n",
      "\n",
      "\\begin{theorem}\n",
      "This is Theorem 1.1. This is because the \\verb|\\numberwithin{equation}{section}| makes the section number included in the equation counter and because the \\\\\n",
      "\\verb|\\newtheorem{theorem}[equation]{Theorem}| command makes the environment \\verb|theorem| be counted by the equation counter.\n",
      "\\end{theorem}\n",
      "\n",
      "The following makes an equation labeled 1.2; \n",
      "\\begin{equation}\n",
      "5 + 7 = 12\n",
      "\\end{equation}\n",
      "\n",
      "\\begin{theorem*}\n",
      "This Theorem is unnumbered\n",
      "\\end{theorem*}\n",
      "\n",
      "\\begin{corollary}\n",
      "This is Corollary 1.3.\n",
      "\\end{corollary}\n",
      "\n",
      "\\section{Another section}\n",
      "\\begin{theorem}\n",
      "This is theorem 2.1\n",
      "\\end{theorem}\n",
      "\n",
      "The following is labeled 2.2:\n",
      "\\begin{equation}\n",
      "3+5 = 8.\n",
      "\\end{equation}\n",
      "\n",
      "\\end{document}\n"
     ]
    }
   ],
   "source": [
    "text = text_from_file(_test_directory() / 'latex_examples' / 'numbering_example_3_theorem_like_environments_share_counter_with_equation_and_reset_at_each_section' / 'main.tex')\n",
    "print(text)\n",
    "# So `counters_for_environmeents` only consider the theorem-like environemnts as being counted by\n",
    "# 'equation', even though the `\\numberwithin{equation}{section}` ultimately counts them by\n",
    "# `section`.\n",
    "test_eq(newtheorems_in_preamble(text), \n",
    "        {'theorem': 'equation',\n",
    "         'proposition': 'equation',\n",
    "         'lemma': 'equation',\n",
    "         'corollary': 'equation',\n",
    "         'definition': 'equation',\n",
    "         'example': 'equation',\n",
    "         'remark': 'equation'})"
   ]
  },
  {
   "cell_type": "code",
   "execution_count": null,
   "metadata": {
    "vscode": {
     "languageId": "python"
    }
   },
   "outputs": [],
   "source": [
    "#| hide\n",
    "\n",
    "# Test that the contents of the `counters_for_environments` function are detecting\n",
    "# The defined commands correctly.\n",
    "text = text_from_file(_test_directory() / 'latex_examples' / 'newtheorem_example.tex') \n",
    "preamble, _ = divide_preamble(text)\n",
    "second_parameter_pattern = re.compile(\n",
    "    # r'\\\\newtheorem\\s*\\{\\s*(\\w+)\\s*\\}\\s*(\\[\\s*(\\w+)\\s*\\])?\\s*\\{\\s*(.*)\\s*\\}')\n",
    "    r'\\\\newtheorem\\s*\\{\\s*(\\w+)\\s*\\}\\s*(\\[\\s*(\\w+)\\s*\\])?\\s*\\{\\s*(.*)\\s*\\}(?!\\s*\\[\\s*(\\w+)\\s*\\])')\n",
    "third_parameter_pattern = re.compile(\n",
    "    r'\\\\newtheorem\\s*\\{\\s*(\\w+)\\s*\\}\\s*\\{\\s*(.*)\\s*\\}\\s*(\\[\\s*(\\w+)\\s*\\])?')\n",
    "second_results = _search_counters_by_pattern(preamble, second_parameter_pattern, 3)\n",
    "third_results = _search_counters_by_pattern(preamble, third_parameter_pattern, 4)\n",
    "assert 'remark' not in second_results\n",
    "assert 'remark' in third_results"
   ]
  },
  {
   "cell_type": "code",
   "execution_count": 127,
   "metadata": {
    "vscode": {
     "languageId": "python"
    }
   },
   "outputs": [],
   "source": [
    "#| export\n",
    "def numberwithins_in_preamble(\n",
    "        document: str # The LaTeX document\n",
    "    ) -> dict[str, str]: # The keys are the first arguments of `numberwithin` invocations and the values ar ethe second arguments of `numberwithin` invocations.\n",
    "    r\"\"\"Return the dict describing `numberwithin` commands invoked\n",
    "    in the preamble of `document`\"\"\"\n",
    "    preamble, _ = divide_preamble(document)\n",
    "    preamble = remove_comments(preamble)\n",
    "    pattern = regex.compile(r'\\\\numberwithin\\s*\\{\\s*(\\w+)\\s*\\}\\s*\\{\\s*(.*)\\s*\\}')\n",
    "    numberwithins = {}\n",
    "\n",
    "    for match in pattern.finditer(preamble):\n",
    "        environment_to_number = match.group(1)\n",
    "        environment_to_count = match.group(2)\n",
    "        numberwithins[environment_to_number] = environment_to_count\n",
    "\n",
    "    return numberwithins"
   ]
  },
  {
   "cell_type": "code",
   "execution_count": 131,
   "metadata": {
    "vscode": {
     "languageId": "python"
    }
   },
   "outputs": [
    {
     "name": "stdout",
     "output_type": "stream",
     "text": [
      "\\documentclass{amsart}\n",
      "\\usepackage[utf8]{inputenc}\n",
      "\\usepackage{amsmath, amsfonts, amssymb, amsthm, amsopn}\n",
      "\n",
      "\\numberwithin{equation}{section}\n",
      "\n",
      "\\theoremstyle{plain}\n",
      "\\newtheorem*{theorem*}{Theorem}\n",
      "\\newtheorem*{theoremA}{Theorem A}\n",
      "\\newtheorem*{theoremB}{Theorem B}\n",
      "\\newtheorem{theorem}[equation]{Theorem}\n",
      "\\newtheorem{proposition}[equation]{Proposition}\n",
      "\\newtheorem{lemma}[equation]{Lemma}\n",
      "\\newtheorem{corollary}[equation]{Corollary}\n",
      "\n",
      "\\theoremstyle{definition}\n",
      "\\newtheorem{definition}[equation]{Definition}\n",
      "\\newtheorem{example}[equation]{Example}\n",
      "\\newtheorem*{acknowledgements}{Acknowledgements}\n",
      "\\newtheorem*{conventions}{Conventions}\n",
      "\n",
      "\\theoremstyle{remark}\n",
      "\\newtheorem{remark}[equation]{Remark}\n",
      "\n",
      "\\begin{document}\n",
      "\n",
      "\\section{Introduction}\n",
      "\n",
      "\\begin{theorem}\n",
      "This is Theorem 1.1. This is because the \\verb|\\numberwithin{equation}{section}| makes the section number included in the equation counter and because the \\\\\n",
      "\\verb|\\newtheorem{theorem}[equation]{Theorem}| command makes the environment \\verb|theorem| be counted by the equation counter.\n",
      "\\end{theorem}\n",
      "\n",
      "The following makes an equation labeled 1.2; \n",
      "\\begin{equation}\n",
      "5 + 7 = 12\n",
      "\\end{equation}\n",
      "\n",
      "\\begin{theorem*}\n",
      "This Theorem is unnumbered\n",
      "\\end{theorem*}\n",
      "\n",
      "\\begin{corollary}\n",
      "This is Corollary 1.3.\n",
      "\\end{corollary}\n",
      "\n",
      "\\section{Another section}\n",
      "\\begin{theorem}\n",
      "This is theorem 2.1\n",
      "\\end{theorem}\n",
      "\n",
      "The following is labeled 2.2:\n",
      "\\begin{equation}\n",
      "3+5 = 8.\n",
      "\\end{equation}\n",
      "\n",
      "\\end{document}\n"
     ]
    }
   ],
   "source": [
    "text = text_from_file(_test_directory() / 'latex_examples' / 'numbering_example_3_theorem_like_environments_share_counter_with_equation_and_reset_at_each_section' / 'main.tex')\n",
    "print(text)\n",
    "test_eq(numberwithins_in_preamble(text), {'equation': 'section'})"
   ]
  },
  {
   "cell_type": "code",
   "execution_count": null,
   "metadata": {
    "vscode": {
     "languageId": "python"
    }
   },
   "outputs": [],
   "source": [
    "#| export "
   ]
  },
  {
   "cell_type": "markdown",
   "metadata": {},
   "source": [
    "#### Getting the display names of environment"
   ]
  },
  {
   "cell_type": "markdown",
   "metadata": {},
   "source": [
    "For example, `\\newtheorem{theorem}{Theorem}` defines a theorem-like environment called `theorem` whose display name is `Theorem`."
   ]
  },
  {
   "cell_type": "code",
   "execution_count": null,
   "metadata": {
    "vscode": {
     "languageId": "python"
    }
   },
   "outputs": [],
   "source": [
    "#| export\n",
    "def display_names_of_environments(\n",
    "        document: str # The LaTeX document\n",
    "        ) -> dict[str, str]:  \n",
    "    r\"\"\"Return the dict specifying the display names for each theorem-like environment.\n",
    "\n",
    "    This function uses two separate regex patterns, one to detect the invocations of `\\newtheorem`\n",
    "    in which the optional parameter is the second parameter and one to detect those in which\n",
    "    the optional parameter is the third parameter.\n",
    "\n",
    "    Assumes that\n",
    "    - invocations of the `\\newtheorem` command are exclusively in the\n",
    "    preamble of the LaTeX document.\n",
    "    - theorem-like environments are defined using the `\\newtheorem` command.\n",
    "    - no environments of the same name are defined twice.\n",
    "\n",
    "    \"\"\"\n",
    "    preamble, _ = divide_preamble(document)\n",
    "    second_parameter_pattern = re.compile(\n",
    "        # In this case, the optional parameter (if any) should not follow the newtheorem.\n",
    "        r'\\\\newtheorem\\*?\\s*\\{\\s*(\\w+\\*?)\\s*\\}\\s*(\\[\\s*(\\w+)\\s*\\])?\\s*\\{\\s*(.*)\\s*\\}(?!\\s*\\[\\s*(\\w+)\\s*\\])')\n",
    "    third_parameter_pattern = re.compile(\n",
    "        r'\\\\newtheorem\\*?\\s*\\{\\s*(\\w+\\*?)\\s*\\}\\s*\\{\\s*(.*)\\s*\\}\\s*(\\[\\s*(\\w+)\\s*\\])?')\n",
    "    second_results = _search_display_names_by_pattern(preamble, second_parameter_pattern, 4)\n",
    "    third_results = _search_display_names_by_pattern(preamble, third_parameter_pattern, 2)\n",
    "    return second_results | third_results\n",
    "    \n",
    "\n",
    "def _search_display_names_by_pattern(\n",
    "        preamble: str,\n",
    "        newtheorem_regex: re.Pattern,\n",
    "        display_name_group: int # This depends on which `newtheorem_regex` is used, and is either 3 or 4. \n",
    "        ) -> dict[str, str]:\n",
    "    \"\"\"\n",
    "    Capture the newly defined theorem-like environment names as well as the\n",
    "    counters that they belong to\"\"\"\n",
    "    display_names = {}\n",
    "    for match in newtheorem_regex.finditer(preamble):\n",
    "        env_name = match.group(1)\n",
    "        display_name = match.group(display_name_group)\n",
    "        display_names[env_name] = display_name\n",
    "    return display_names"
   ]
  },
  {
   "cell_type": "code",
   "execution_count": null,
   "metadata": {
    "vscode": {
     "languageId": "python"
    }
   },
   "outputs": [],
   "source": [
    "text = text_from_file(_test_directory() / 'latex_examples' / 'newtheorem_example.tex') \n",
    "display_names = display_names_of_environments(text)\n",
    "test_eq(display_names, {'theorem': 'Theorem',\n",
    " 'lemma': 'Lemma',\n",
    " 'definition': 'Definition',\n",
    " 'corollary': 'Corollary',\n",
    " 'conjecture*': 'Conjecture',\n",
    " 'remark': 'Remark'})"
   ]
  },
  {
   "cell_type": "markdown",
   "metadata": {},
   "source": [
    "### Divide latex text into parts"
   ]
  },
  {
   "cell_type": "code",
   "execution_count": null,
   "metadata": {
    "vscode": {
     "languageId": "python"
    }
   },
   "outputs": [],
   "source": [
    "# Examples of different numbering conventions:\n",
    "# Ellenberg, Venkatesh, Westerland, HOmological stability - 1.1 The Cohen-Lenstra heuristics, 1.2 Theorem, 1.3 Hurwitz spaces, 1.4 Stability of homology, 1.5 Conjecture, 1.6 Some context\n"
   ]
  },
  {
   "cell_type": "code",
   "execution_count": 112,
   "metadata": {
    "vscode": {
     "languageId": "python"
    }
   },
   "outputs": [],
   "source": [
    "#| export\n",
    "def divide_latex_text(\n",
    "        document: str, \n",
    "        environments_to_divide_along: list[str], # A list of the names of environments that warrant a new note\n",
    "        # numbered_environments: list[str], # A list of the names of environments which are numbered in the latex code. \n",
    "        environments_to_not_divide_along: list[str] = ['equation'], # A list of the names of the environemts along which to not make a new note\n",
    "        section_name: str = 'section', # The command name for sections\n",
    "        subsection_name: str= 'subsection', # The command name for subsections\n",
    "        proof_name: str = 'proof', # The environment name for proofs\n",
    "        ) -> list[tuple[str, str]]: # Each tuple is of the form (<note_type_and_or_numbering>, <text>)\n",
    "    r\"\"\"Divide LaTeX text to convert into Obsidian.md notes.\n",
    "\n",
    "    Assumes that the counters in the LaTeX document are either the\n",
    "    predefined ones or specified by the `\\newtheorem` command.\n",
    "\n",
    "    TODO: Implement counters specified by `\\newcounter`, cf. \n",
    "    https://www.overleaf.com/learn/latex/Counters#LaTeX_commands_for_working_with_counters.\n",
    "\n",
    "\n",
    "    \"\"\"\n",
    "    environments_to_counters = counters_for_environments(document)\n",
    "    display_names = display_names_of_environments(document)\n",
    "    counters = _setup_counters(environments_to_counters)\n",
    "    unnumbered_environments = _unnumbered_environments(\n",
    "        environments_to_counters, display_names)\n",
    "    # Eventually gets returned\n",
    "    parts = []\n",
    "    # \"Accumulates\" a \"part\" until text that should comprise a new part is encountered\n",
    "    accumulation = '' \n",
    "    for node in document_node.nodelist:\n",
    "        _process_node(node, accumulation, counters, parts)\n",
    "    counters[''] += 1\n",
    "    # Add the leftover `accumulation`` to `parts`\n",
    "    parts.append([str(counters['']), accumulation])\n",
    "    return parts\n",
    "\n",
    "\n",
    "def _setup_counters(\n",
    "        environments_to_counters: dict[str, str]\n",
    "        ) -> dict[str, int]:\n",
    "    r\"\"\"\n",
    "    Return a dict whose keys are of counters in the LaTeX document and whose\n",
    "    values are all `0`. These key-value pairs are used to keep track of\n",
    "    the numberings of `parts`.\n",
    "\n",
    "    One special key is the key of the empty string `''`, which counters the\n",
    "    parts which do not get a numbering, i.e. for most text that lie outside\n",
    "    of (numbered) environments\n",
    "\n",
    "    \"\"\"\n",
    "    # TODO: replace enumerated environments with markdown enumerated lists\n",
    "    # and itemizes with markdown bulleted lists\n",
    "\n",
    "    # cf. https://www.overleaf.com/learn/latex/Counters#Default_counters_in_LaTeX\n",
    "    predefined_counters = [\n",
    "        'part', # \n",
    "        'chapter',\n",
    "        'section', # Incremented whenever a new `\\section` command is encountered\n",
    "        'subsection', # Incremented whenever a new `\\subsection` command is encountered, reset whenever a new `\\section` command is encountered\n",
    "        'subsubsection', # Incremented whenever a new `\\subsubsection` command is encounted, reset whenever a new `\\subsection` or `\\section` command is encountered\n",
    "        'paragraph', # Incremeneted whenever a new paragraph is started. Reset whenever a new `\\subsubsection`, `\\subsection`, or `\\section` command is encounted\n",
    "        'subparagraph',\n",
    "        'page',\n",
    "        'equation', # Incremeneted whenever the `\\begin{equation}` environment is used. \n",
    "        'figure', # Incremented whenever a new `figure` environment is encountered\n",
    "        'table', # Incremeneted whenever a new `taable` environment is encountered`\n",
    "        'footnote',\n",
    "        'mpfootnote',\n",
    "        'enumi',\n",
    "        'enumii',\n",
    "        'enumiii',\n",
    "        'enumiv']\n",
    "\n",
    "    counters = {counter: 0 for _, counter in environments_to_counters.items()}\n",
    "    for counter in predefined_counters:\n",
    "        counters[counter] = 0\n",
    "\n",
    "    counters[''] = 0\n",
    "    return counters\n",
    "\n",
    "\n",
    "def _unnumbered_environments(\n",
    "        environments_to_counters: dict[str, str],\n",
    "        display_names: dict[str, str]) -> set[str]:\n",
    "    r\"\"\"Return the set of unnumbered theorem-like environments defined by\n",
    "    `\\newtheorem`.\n",
    "    \"\"\"\n",
    "    return {environment for environment in display_names\n",
    "            if environment not in environments_to_counters}\n",
    "\n",
    "\n",
    "\n",
    "\n",
    "\n",
    "\n",
    "\n",
    "\n",
    "def _process_node(node, accumulation, counters, parts):\n",
    "    \"\"\"\n",
    "    Update `accumulation`, `counter`, and `parts` based on the contents of `node`.\n",
    "    \"\"\"\n",
    "    _change_counters(node)\n",
    "    process_method_to_run = None\n",
    "    return\n",
    "\n",
    "def _change_counters(\n",
    "        node):\n",
    "    # TODO\n",
    "    return \n",
    "\n",
    "\n",
    "def _process_section(\n",
    "        node, accumulation, counters, parts,\n",
    "        section_name: str, subsection_name: str\n",
    "        ) -> str: # The accumulation\n",
    "    \"\"\"\n",
    "    Processes a section/subsection\n",
    "\n",
    "    \"\"\"\n",
    "    is_numbered, title = _section_title(\n",
    "        node.latex_verbatim(), section_name, subsection_name)\n",
    "    is_subsection = node.macroname == subsection_name\n",
    "    if is_subsection:\n",
    "        counters[subsection_num] += 1 if is_numbered else 0\n",
    "    else:\n",
    "        counters[section_num] += 1 if is_numbered else 0\n",
    "        counters[subsection_num] = 0\n",
    "        \n",
    "    counters[section_name] += 1 if is_numbered else 0\n",
    "    counters[subsection_name] = 0\n",
    "    counters[]\n",
    "    section_num += 1 if is_numbered else 0\n",
    "    subsection_num = 0\n",
    "\n",
    "    return \n",
    "\n",
    "def _section_title(\n",
    "        text: str,\n",
    "        section_name: str,\n",
    "        subsection_name: str\n",
    "        ) -> tuple[bool, str]: # The bool is `True` if the section/subsection is numbered (i.e. is `section` or `subsection` as opposed to `section*` or `subsection*`). The `str` is the title of the section or subsection\n",
    "    \"\"\"Return the title of a section or subsection from a latex str\n",
    "    and whether or not the section/subsection is numbered\"\"\"\n",
    "\n",
    "    # Note that the `section` command has the optional argument `toc-title` which appears\n",
    "    # in the table of contents, cf.\n",
    "    # http://latexref.xyz/_005csection.html\n",
    "    pattern = regex.compile(\n",
    "        fr'\\\\(?:{section_name}|{subsection_name})\\s*(?:\\[.*\\])?(\\*)?\\s*'\n",
    "        r'\\{((?>[^{}]+|\\{(?2)\\})*)\\}',\n",
    "        regex.MULTILINE\n",
    "    )\n",
    "    regex_search = regex.search(pattern, text)\n",
    "    return regex_search.group(1) is None, regex_search.group(2)\n",
    "\n",
    "\n",
    "# def _process_section()\n",
    "    "
   ]
  },
  {
   "cell_type": "code",
   "execution_count": 110,
   "metadata": {
    "vscode": {
     "languageId": "python"
    }
   },
   "outputs": [],
   "source": [
    "#| hide\n",
    "sample_counters = _setup_counters(\n",
    "    {'thm': 'subsection', 'prop': 'subsection', 'cor': 'subsection', 'remark': 'remark', 'conj': 'subsection'})\n",
    "assert 'remark' in sample_counters\n",
    "test_eq(sample_counters['remark'], 0)\n",
    "assert 'thm' not in sample_counters  # 'thm' is an environment name, but not a counter.\n",
    "\n",
    "sample_unnumbered_environments = _unnumbered_environments(\n",
    "    {'theorem': 'theorem', 'lemma': 'theorem', 'definition': 'theorem', 'corollary': 'corollary', 'remark': 'theorem'},\n",
    "    {'theorem': 'Theorem', 'lemma': 'Lemma', 'definition': 'Definition', 'corollary': 'Corollary', 'conjecture*': 'Conjecture', 'remark': 'Remark'} \n",
    "    )\n",
    "test_eq(sample_unnumbered_environments, {'conjecture*'})"
   ]
  },
  {
   "cell_type": "code",
   "execution_count": 122,
   "metadata": {
    "vscode": {
     "languageId": "python"
    }
   },
   "outputs": [],
   "source": [
    "#| hide\n",
    "\n",
    "# subsection, no extraneous spaces\n",
    "sample_section = _section_title(r\"\\subsection{I am a subsection}\", 'section', 'subsection')\n",
    "test_eq(sample_section, (True, 'I am a subsection'))\n",
    "\n",
    "# section, with extraneous spaces\n",
    "sample_section = _section_title(r\"\\section {Generating series of special divisors}\", 'section', 'subsection')\n",
    "test_eq(sample_section, (True, 'Generating series of special divisors'))\n",
    "\n",
    "# section, unnumbered\n",
    "sample_section = _section_title(r\"\\section*{I am an unnumbered section}\", 'section', 'subsection')\n",
    "test_eq(sample_section, (False, 'I am an unnumbered section'))\n",
    "\n",
    "# Subsection, unnumbered, extraneous spaces\n",
    "sample_section = _section_title(r\"\\subsection*    {I am an unnumbered section and I have extraneous spaces}\", 'section', 'subsection')\n",
    "test_eq(sample_section, (False, 'I am an unnumbered section and I have extraneous spaces'))\n",
    "\n",
    "# Multiline section\n",
    "sample_section = _section_title(\n",
    "    r\"\"\"\\section*    {I am a section and I have span \n",
    "    multiple lines}\"\"\", 'section', 'subsection')\n",
    "test_eq(sample_section, (False, 'I am a section and I have span \\n    multiple lines'))\n",
    "\n",
    "# Section with curly braces\n",
    "sample_section = _section_title(\n",
    "    r\"\"\"\\section{ Can I talk about the finite field \\mathcal{F}_p in this title?\n",
    "        Can I also have multiple lines? Yes I can!}\"\"\",\n",
    "    'section',\n",
    "    'subsection'\n",
    ")\n",
    "test_eq(sample_section, (True, r\"\"\" Can I talk about the finite field \\mathcal{F}_p in this title?\n",
    "        Can I also have multiple lines? Yes I can!\"\"\"))\n",
    "\n",
    "# Section with table of contents\n",
    "sample_section = _section_title(\n",
    "    r\"\\section [This is a Table of contents title] {This is the section title}\",\n",
    "    'section',\n",
    "    'subsection'\n",
    ")\n",
    "test_eq(sample_section, (True, r\"\"\"This is the section title\"\"\"))\n"
   ]
  },
  {
   "cell_type": "markdown",
   "metadata": {},
   "source": [
    "The `divide_latex_text` function divides latex text "
   ]
  },
  {
   "cell_type": "code",
   "execution_count": null,
   "metadata": {
    "vscode": {
     "languageId": "python"
    }
   },
   "outputs": [],
   "source": [
    "# latex_file_path = r'_tests\\latex_full\\pauli_wickelgren\\main.tex'\n",
    "# text = text_from_file(latex_file_path)\n",
    "# parts = divide_latex_text(text, numbering_convention='separate')\n",
    "# for title, text in parts[39:44]:\n",
    "#     print(title, text)\n",
    "\n"
   ]
  },
  {
   "cell_type": "code",
   "execution_count": null,
   "metadata": {
    "vscode": {
     "languageId": "python"
    }
   },
   "outputs": [],
   "source": [
    "# TODO: Find a list of environment names commonly used."
   ]
  },
  {
   "cell_type": "code",
   "execution_count": null,
   "metadata": {
    "vscode": {
     "languageId": "python"
    }
   },
   "outputs": [],
   "source": [
    "# TODO: examples with different numbering convention and different numbered environments"
   ]
  },
  {
   "cell_type": "code",
   "execution_count": null,
   "metadata": {
    "vscode": {
     "languageId": "python"
    }
   },
   "outputs": [],
   "source": [
    "# TODO: make numbering_convention work correctly.\n",
    "# Here are some latex files with different conventions:\n",
    "# - All subsections in a section share numbering, \n",
    "#   - achter_pries_imht https://arxiv.org/abs/math/0608038: e.g. Lemmas 2.1, 2.2, 2.3 are in subsection 2.2 and Lemma 2.4 and Remark 2.5 are in subsection 2.4.as_integer_ratio\n",
    "#   - pauli_wickelgren https://arxiv.org/abs/2010.09374: e.g. Example 3.5, 3.11 are in subsubsection 3.3.2, Exercise 4.1, Remark 4.2, are in subsection 4.1, Theorem 4.3 is in subsection 4.2, Theorem 4.4 is in subsection 4.3\n",
    "# - Different environment types have different counts and the counts do not show the section number.\n",
    "#   - vankataramana_imbrd https://arxiv.org/abs/1205.6543: \n",
    "#       - e.g. section 1 has Theorem 1, Remark 1, Remark 2, Remark 3, subsection 1.1.3 has Remark 4, Subsection 2.2 has Definition 1"
   ]
  },
  {
   "cell_type": "markdown",
   "metadata": {},
   "source": [
    "## Formatting modifications"
   ]
  },
  {
   "cell_type": "markdown",
   "metadata": {},
   "source": [
    "### Identify macros and commands to replace"
   ]
  },
  {
   "cell_type": "markdown",
   "metadata": {},
   "source": [
    "Authors usually define a lot of custom commands and macros in their LaTeX files. Such customizations vary from author to author and most customized commands are not recognized by Obsidian. \n",
    "\n",
    "See `nbs/_tests/latex_examples/commands_example/main.tex` for some examples of custom commands."
   ]
  },
  {
   "cell_type": "code",
   "execution_count": null,
   "metadata": {
    "vscode": {
     "languageId": "python"
    }
   },
   "outputs": [],
   "source": [
    "#| export\n",
    "def custom_commands(\n",
    "        preamble: str, # The preamble of a LaTeX document.\n",
    "        ) -> list[tuple[str, int, Union[str, None], str]]: # Each tuple consists of 1. the name of the custom command 2. the number of parameters 3. The default argument if specified or `None` otherwise, and 4. the display text of the command.\n",
    "    \"\"\"\n",
    "    Return a dict mapping commands (and math operators) defined in `preamble` to\n",
    "    the number of arguments display text of the commands.\n",
    "\n",
    "    Assumes that the newcommands only have at most one default parameter (newcommands with\n",
    "    multiple default parameters are not valid in LaTeX).\n",
    "\n",
    "    Ignores all comented newcommands.\n",
    "    \"\"\"\n",
    "    preamble = remove_comments(preamble)\n",
    "    newcommand_regex = regex.compile(\n",
    "        r'(?<!%)\\s*\\\\(?:(?:re)?newcommand|DeclareMathOperator)\\s*\\{\\\\\\s*(\\w+)\\s*\\}\\s*(\\[(\\d+)\\]\\s*(?:\\[(\\w+)\\])?)?\\s*\\{((?>[^{}]+|\\{(?5)\\})*)\\}', re.MULTILINE)\n",
    "    # newcommand_regex = regex.compile(\n",
    "    #     r'(?<!%)\\s*\\\\(?:re)?newcommand\\s*\\{\\\\\\s*(\\w+)\\s*\\}\\s*(\\[(\\d+)\\]\\s*(?:\\[(\\w+)\\])?)?\\s*\\{\\s*(.*)\\s*\\}', re.MULTILINE)\n",
    "    commands = []\n",
    "    for match in newcommand_regex.finditer(preamble):\n",
    "        name = match.group(1)\n",
    "        num_args = match.group(3)\n",
    "        optional_default_arg = match.group(4)\n",
    "        definition = match.group(5)\n",
    "\n",
    "        # Convert the number of arguments to an integer, if it was specified\n",
    "        if num_args is not None:\n",
    "            num_args = int(num_args)\n",
    "        else:\n",
    "            num_args = 0\n",
    "\n",
    "        commands.append((name, num_args, optional_default_arg, definition))\n",
    "    return commands\n",
    "\n"
   ]
  },
  {
   "cell_type": "code",
   "execution_count": null,
   "metadata": {
    "vscode": {
     "languageId": "python"
    }
   },
   "outputs": [],
   "source": [
    "# Basic\n",
    "text_1 = r'\\newcommand{\\con}{\\mathcal{C}}'\n",
    "test_eq(custom_commands(text_1), [('con', 0, None, r'\\mathcal{C}')])\n",
    "\n",
    "# With a parameter\n",
    "text_2 = r'\\newcommand{\\field}[1]{\\mathbb{#1}}'\n",
    "test_eq(custom_commands(text_2), [('field', 1, None, r'\\mathbb{#1}')]) \n",
    "\n",
    "# With multiple parameters, the first of which has a default value of `2`\n",
    "text_3 = r'\\newcommand{\\plusbinomial}[3][2]{(#2 + #3)^#1}'\n",
    "test_eq(custom_commands(text_3), [('plusbinomial', 3, '2', r'(#2 + #3)^#1')])\n",
    "\n",
    "# The display text has backslashes `\\` and curly brances `{}``\n",
    "text_4 = r'\\newcommand{\\beq}{\\begin{displaymath}}'\n",
    "test_eq(custom_commands(text_4), [('beq', 0, None, '\\\\begin{displaymath}')])\n",
    "\n",
    "\n",
    "# Basic with spaces in the newcommand declaration\n",
    "text_6 = r'\\newcommand {\\con}  {\\mathcal{C}}'\n",
    "test_eq(custom_commands(text_6), [('con', 0, None, r'\\mathcal{C}')])\n",
    "\n",
    "# With a parameter and spaces in the newcommand declaration\n",
    "text_7 = r'\\newcommand   {\\field}   [1] {\\mathbb{#1}}'\n",
    "test_eq(custom_commands(text_7), [('field', 1, None, r'\\mathbb{#1}')])\n",
    "\n",
    "# With multiple parameters, a default value, and spaces in the newcommand declaration\n",
    "text_8 = r'\\newcommand {\\plusbinomial} [3] [2] {(#2 + #3)^#1}'\n",
    "test_eq(custom_commands(text_8), [('plusbinomial', 3, '2', r'(#2 + #3)^#1')]) \n",
    "\n",
    "# With a comment `%'; commented out command declarations should not be detected.\n",
    "text_9 = r'% \\newcommand{\\con}{\\mathcal{C}}'\n",
    "test_eq(custom_commands(text_9), [])\n",
    "\n",
    "\n",
    "# Spanning multiple lines\n",
    "text_10 = r'''\\newcommand{\\mat}[4]{\\left[\\begin{array}{cc}#1 & #2 \\\\\n",
    "                                         #3 & #4\\end{array}\\right]}'''\n",
    "test_eq(\n",
    "    custom_commands(text_10),\n",
    "    [('mat', 4, None,\n",
    "             '\\\\left[\\\\begin{array}{cc}#1 & #2 \\\\\\\\\\n                                         #3 & #4\\\\end{array}\\\\right]')])\n",
    "\n",
    "# Math operator\n",
    "text_1 = r'\\DeclareMathOperator{\\Hom}{Hom}'\n",
    "test_eq(custom_commands(text_1), [('Hom', 0, None, 'Hom')])\n",
    "\n",
    "text_2 = r'\\DeclareMathOperator{\\tConf}{\\widetilde{Conf}}'\n",
    "test_eq(custom_commands(text_2), [('tConf', 0, None, r'\\widetilde{Conf}')])"
   ]
  },
  {
   "cell_type": "code",
   "execution_count": null,
   "metadata": {
    "vscode": {
     "languageId": "python"
    }
   },
   "outputs": [],
   "source": [
    "# TODO: use a regexp pattern like this one to extract balanced curly braces\n",
    "# \\\\mat\\{((?>[^{}]+|\\{(?1)\\})*)\\}\\{((?>[^{}]+|\\{(?2)\\})*)\\}"
   ]
  },
  {
   "cell_type": "code",
   "execution_count": null,
   "metadata": {
    "vscode": {
     "languageId": "python"
    }
   },
   "outputs": [],
   "source": [
    "#| export\n",
    "def regex_pattern_detecting_command(\n",
    "        command_tuple: tuple[str, int, Union[None, str], str], # Consists of 1. the name of the custom command 2. the number of parameters 3. The default argument if specified or `None` otherwise, and 4. the display text of the command.\n",
    "        ) -> regex.Pattern:\n",
    "    \"\"\"Return a `regex.pattern` object (not a `re.pattern` object) detecting\n",
    "    the command with the specified number of parameters, optional argument,\n",
    "    and display text.\n",
    "\n",
    "    Assumes that the curly braces used to write the invocations of the commands\n",
    "    are balanced and properly nested. Assumes that there are no two commands\n",
    "    of the same name.\n",
    "    \"\"\"\n",
    "    command_name, num_parameters, optional_arg, _ = command_tuple\n",
    "    backslash_name = fr\"\\\\{command_name}\"\n",
    "    optional_argument_detection = fr\"(?:\\[(.*?)\\])?\" if optional_arg is not None else \"\"\n",
    "    argument_detection = r\"\"\n",
    "    if optional_arg is not None:\n",
    "        trailing_arguments = [_argument_detection(i) for i in range(2, 1+num_parameters)]\n",
    "        trailing_args_pattern = \"\\\\s*\".join(trailing_arguments)\n",
    "        pattern = (f\"{backslash_name}\\\\s*{optional_argument_detection}\\\\s*{trailing_args_pattern}\")\n",
    "    elif num_parameters > 0:\n",
    "        arguments = [_argument_detection(i) for i in range(1, 1+num_parameters)]\n",
    "        args_pattern = \"\\\\s*\".join(arguments)\n",
    "        pattern = f\"{backslash_name}\\\\s*{args_pattern}\"\n",
    "    else:\n",
    "        pattern = f\"{backslash_name}\"\n",
    "    return regex.compile(pattern)\n",
    "\n",
    "def _argument_detection(group_num: int):\n",
    "    return \"\\{((?>[^{}]+|\\{(?1)\\})*)\\}\".replace(\"1\", str(group_num))\n",
    "    "
   ]
  },
  {
   "cell_type": "code",
   "execution_count": null,
   "metadata": {
    "vscode": {
     "languageId": "python"
    }
   },
   "outputs": [],
   "source": [
    "# Basic\n",
    "pattern = regex_pattern_detecting_command(('Sur', 0, None, r'\\mathrm{Sur}'))\n",
    "text = r'The number of element of $\\Sur(\\operatorname{Cl} \\mathcal{O}_L, A)$ is ...'\n",
    "match = pattern.search(text)\n",
    "start, end = match.span()\n",
    "test_eq(text[start:end], r'\\Sur')\n",
    "\n",
    "# One parameter\n",
    "pattern = regex_pattern_detecting_command(('field', 1, None, r'\\mathbb{#1}'))\n",
    "text = r'\\field{Q}'\n",
    "# print(pattern.pattern)\n",
    "match = pattern.search(text)\n",
    "start, end = match.span()\n",
    "test_eq(text[start:end], text)\n",
    "\n",
    "# Multiple parameters\n",
    "pattern = regex_pattern_detecting_command(('mat', 4, None, r'\\left[\\begin{array}{cc}#1 & #2 \\\\ #3 & #4\\end{array}\\right]'))\n",
    "text = r'\\mat{{123}}{asdfasdf{}{}}{{{}}}{{asdf}{asdf}{}}' # This is a balanced str.\n",
    "match = pattern.search(text)\n",
    "start, end = match.span()\n",
    "test_eq(text[start:end], text)\n",
    "test_eq(match.group(1), r'{123}')\n",
    "\n",
    "# Multiple parameters, one of which is optional parameter\n",
    "pattern = regex_pattern_detecting_command(('plusbinomial', 3, '2', r'(#2 + #3)^#1'))\n",
    "# When the optional parameter is used\n",
    "text = r'\\plusbinomial{x}{y}'\n",
    "match = pattern.search(text)\n",
    "start, end = match.span()\n",
    "test_eq(text[start:end], text)\n",
    "\n",
    "# When the optional parameter is not used\n",
    "text = r'\\plusbinomial[4]{x}{y}'\n",
    "match = pattern.search(text)\n",
    "start, end = match.span()\n",
    "test_eq(text[start:end], text)\n",
    "\n",
    "# One parameter that is optional.\n",
    "pattern = regex_pattern_detecting_command(('greet', 1, 'world', r'Hello #1!'))\n",
    "# When the optional parameter is used\n",
    "text = r'\\greet'\n",
    "match = pattern.search(text)\n",
    "start, end = match.span()\n",
    "test_eq(text[start:end], text)\n",
    "\n",
    "# When the optional parameter is not used\n",
    "text = r'\\greet[govna]'\n",
    "match = pattern.search(text)\n",
    "start, end = match.span()\n",
    "test_eq(text[start:end], text)"
   ]
  },
  {
   "cell_type": "code",
   "execution_count": null,
   "metadata": {
    "vscode": {
     "languageId": "python"
    }
   },
   "outputs": [],
   "source": [
    "#| export\n",
    "def replace_command_in_text(\n",
    "        text: str,\n",
    "        command_tuple: tuple[str, int, Union[None, str], str], # Consists of 1. the name of the custom command 2. the number of parameters 3. The default argument if specified or `None` otherwise, and 4. the display text of the command.\n",
    "    ):\n",
    "    \"\"\"\n",
    "    Replaces all invocations of the specified command in `text` with the display text\n",
    "    with the arguments used in the display text.\n",
    "\n",
    "    Assumes that '\\1', '\\2', '\\3', etc. are not part of the display text. \n",
    "    \"\"\"\n",
    "    command_name, num_parameters, optional_arg, display_text = command_tuple\n",
    "    command_pattern = regex_pattern_detecting_command(command_tuple)\n",
    "    replace_pattern = display_text.replace('\\\\', r'\\\\')\n",
    "    # if optional_arg is not None:\n",
    "    #     replace_pattern = replace_pattern.replace('#1', optional_arg)\n",
    "    replace_pattern = re.sub(r'#(\\d)', r'\\\\\\1', replace_pattern)\n",
    "    text = regex.sub(\n",
    "        command_pattern,\n",
    "        lambda match: _replace_command(match, command_tuple, command_pattern, replace_pattern),\n",
    "        text)\n",
    "    return text\n",
    "    # if optional_arg is not None:\n",
    "    #     trailing_arguments = [_argument_detection(i) for i in range(2, 1+num_parameters)]\n",
    "    #     trailing_args_pattern = \"\\\\s*\".join(trailing_arguments)\n",
    "    #     pattern = (f\"{pattern}\\\\s*{trailing_args_pattern}\")\n",
    "    # elif num_parameters > 0:\n",
    "    #     arguments = [_argument_detection(i) for i in range(1, 1+num_parameters)]\n",
    "    #     args_pattern = \"\\\\s*\".join(arguments)\n",
    "    #     pattern = f\"{backslash_name}\\\\s*{args_pattern}\"\n",
    "    # else:\n",
    "    #     pattern = f\"{backslash_name}\"\n",
    "    # return regex.compile(pattern)\n",
    "\n",
    "def _replace_command(\n",
    "        match: regex.match,\n",
    "        command_tuple: [str, int, Union[None, str], str],\n",
    "        command_pattern: regex.Pattern,\n",
    "        replace_pattern: re.Pattern) -> str:\n",
    "    \"\"\"Replace the matched command with the display text\"\"\"\n",
    "    command_name, num_parameters, optional_arg, display_text = command_tuple\n",
    "    start, end = match.span()\n",
    "    matched_string_to_replace = match.string[start:end]\n",
    "    if len(match.groups()) > 0 and match.group(1) is None:\n",
    "        replace_pattern = replace_pattern.replace(r'\\1', optional_arg)\n",
    "        replaced_string = regex.sub(command_pattern, replace_pattern, matched_string_to_replace)\n",
    "        return replaced_string\n",
    "    else:\n",
    "        return regex.sub(command_pattern, replace_pattern, matched_string_to_replace)\n",
    "\n"
   ]
  },
  {
   "cell_type": "code",
   "execution_count": null,
   "metadata": {
    "vscode": {
     "languageId": "python"
    }
   },
   "outputs": [],
   "source": [
    "# Basic\n",
    "command_tuple = ('Sur', 0, None, r'\\mathrm{Sur}')\n",
    "pattern = regex_pattern_detecting_command(command_tuple)\n",
    "text = r'The number of element of $\\Sur(\\operatorname{Cl} \\mathcal{O}_L, A)$ is ... Perhaps $\\Sur$ is nonempty.'\n",
    "test_eq(replace_command_in_text(text, command_tuple), 'The number of element of $\\mathrm{Sur}(\\operatorname{Cl} \\mathcal{O}_L, A)$ is ... Perhaps $\\mathrm{Sur}$ is nonempty.')\n",
    "\n",
    "\n",
    "# One parameter\n",
    "command_tuple = ('field', 1, None, r'\\mathbb{#1}')\n",
    "pattern = regex_pattern_detecting_command(command_tuple)\n",
    "text = r'$\\field{Q}$ is the field of rational numbers. $\\field{C}$ is the field of complex numbers'\n",
    "test_eq(replace_command_in_text(text, command_tuple), '$\\mathbb{Q}$ is the field of rational numbers. $\\mathbb{C}$ is the field of complex numbers')\n",
    "\n",
    "# Multiple parameters\n",
    "command_tuple = ('mat', 4, None, r'\\left[\\begin{array}{cc}#1 & #2 \\\\ #3 & #4\\end{array}\\right]')\n",
    "pattern = regex_pattern_detecting_command(command_tuple)\n",
    "text = r'\\mat{{123}}{asdfasdf{}{}}{{{}}}{{asdf}{asdf}{}}' # This is a balanced str.\n",
    "test_eq(replace_command_in_text(text, command_tuple), r'\\left[\\begin{array}{cc}{123} & asdfasdf{}{} \\\\ {{}} & {asdf}{asdf}{}\\end{array}\\right]')\n",
    "\n",
    "# Multiple parameters, one of which is optional parameter\n",
    "command_tuple = ('plusbinomial', 3, '2', r'(#2 + #3)^#1')\n",
    "pattern = regex_pattern_detecting_command(command_tuple)\n",
    "# When the optional parameter is used\n",
    "text = r'\\plusbinomial{x}{y}'\n",
    "test_eq(replace_command_in_text(text, command_tuple), r'(x + y)^2')\n",
    "\n",
    "# When the optional parameter is not used\n",
    "text = r'\\plusbinomial[4]{x}{y}'\n",
    "test_eq(replace_command_in_text(text, command_tuple), r'(x + y)^4')\n",
    "\n",
    "\n",
    "# One parameter that is optional.\n",
    "command_tuple = ('greet', 1, 'world', r'Hello #1!')\n",
    "pattern = regex_pattern_detecting_command(command_tuple)\n",
    "# When the optional parameter is used\n",
    "text = r'\\greet'\n",
    "test_eq(replace_command_in_text(text, command_tuple), r'Hello world!')\n",
    "\n",
    "# When the optional parameter is not used\n",
    "text = r'\\greet[govna]'\n",
    "test_eq(replace_command_in_text(text, command_tuple), r'Hello govna!')"
   ]
  },
  {
   "cell_type": "code",
   "execution_count": null,
   "metadata": {
    "vscode": {
     "languageId": "python"
    }
   },
   "outputs": [],
   "source": [
    "#| export \n",
    "def replace_commands_in_latex_document(\n",
    "        docment: str\n",
    "        ) -> str:\n",
    "    \"\"\"Return the latex document (without the preamble) with invocations\n",
    "    of custom commands/operators replaced with their display text.\n",
    "\n",
    "    Assumes that all custom commands and operators are defined in the\n",
    "    preamble.\n",
    "\n",
    "    Assumes that, if commands with the same name are defined multiple times,\n",
    "    only the finally defined command is used. \n",
    "\n",
    "    Even replaces these invocations incommented out text.\n",
    "    \"\"\"\n",
    "    preamble, document = divide_preamble(docment)\n",
    "    commands = custom_commands(preamble)\n",
    "    # Note that `command_tuple[0]` is the name of the command.\n",
    "    unique_commands = {command_tuple[0]: command_tuple for command_tuple in commands} \n",
    "    for _, command_tuple in unique_commands.items():\n",
    "        document = replace_command_in_text(document, command_tuple)\n",
    "    return document\n",
    "    "
   ]
  },
  {
   "cell_type": "code",
   "execution_count": null,
   "metadata": {
    "vscode": {
     "languageId": "python"
    }
   },
   "outputs": [
    {
     "name": "stdout",
     "output_type": "stream",
     "text": [
      "\\begin{document}\n",
      "\n",
      "$\\mathbb{S}1$\n",
      "%$\\mathbf{Q}$\n",
      "%$\\mathbf{Q}$\n",
      "%This is actually a command that is commented out, but it is also replaced!\n",
      "$\\mathbb{Q}$\n",
      "\n",
      "\\end{document}\n"
     ]
    }
   ],
   "source": [
    "file = _test_directory() / 'latex_examples' / 'commands_recursive_example' / 'main.tex'\n",
    "document = text_from_file(file)\n",
    "commands_replaced = replace_commands_in_latex_document(document)\n",
    "assert commands_replaced.startswith(r'\\begin{document}')\n",
    "assert commands_replaced.endswith(r'\\end{document}')\n",
    "assert r'\\S' not in commands_replaced\n",
    "assert r'\\mathbb{S}1' in commands_replaced  # Note that $\\S$ is defined twice in the preamble; only the latter definition is used.\n",
    "assert r'\\field{Q}$' not in commands_replaced\n",
    "assert r'\\mathbb{Q}$' in commands_replaced\n",
    "assert r'\\commentedout' not in commands_replaced\n",
    "assert r'This is actually a command that is commented out, but it is also replaced!' in commands_replaced\n",
    "print(commands_replaced)"
   ]
  }
 ],
 "metadata": {
  "kernelspec": {
   "display_name": "Python 3.10.6 64-bit",
   "language": "python",
   "name": "python3"
  }
 },
 "nbformat": 4,
 "nbformat_minor": 2
}
