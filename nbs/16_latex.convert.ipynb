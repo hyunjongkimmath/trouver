{
 "cells": [
  {
   "cell_type": "markdown",
   "metadata": {},
   "source": [
    "# latex.convert\n",
    "\n",
    "> Convert LaTeX files into Obsidian.md notes"
   ]
  },
  {
   "cell_type": "markdown",
   "metadata": {},
   "source": [
    "This module contains functions and methods to automatically make Obsidian notes from LaTeX files of mathematical papers, most notably those on arXiv.\n",
    "\n",
    "See the [Potential Problems](#potential-problems) section below for some common errors that arise from this module and how to circumvent them."
   ]
  },
  {
   "cell_type": "code",
   "execution_count": null,
   "metadata": {},
   "outputs": [],
   "source": [
    "#| default_exp latex.convert"
   ]
  },
  {
   "cell_type": "code",
   "execution_count": null,
   "metadata": {},
   "outputs": [],
   "source": [
    "#| export\n",
    "from collections import OrderedDict\n",
    "import os\n",
    "from os import PathLike\n",
    "from pathlib import Path\n",
    "from pylatexenc import latexwalker, latex2text\n",
    "from pylatexenc.latexwalker import (\n",
    "    LatexWalker, LatexEnvironmentNode, get_default_latex_context_db,\n",
    "    LatexNode, LatexSpecialsNode, LatexMathNode, LatexMacroNode, LatexCharsNode,\n",
    "    LatexGroupNode, LatexCommentNode\n",
    ")\n",
    "from pylatexenc.latex2text import (\n",
    "    MacroTextSpec, EnvironmentTextSpec)\n",
    "from pylatexenc.macrospec import (\n",
    "    MacroSpec, LatexContextDb, EnvironmentSpec\n",
    ")\n",
    "import re\n",
    "from typing import Union\n",
    "from trouver.helper import (\n",
    "    find_regex_in_text, dict_with_keys_topologically_sorted,\n",
    "    containing_string_priority, replace_string_by_indices, text_from_file\n",
    ")\n",
    "from trouver.markdown.markdown.file import (\n",
    "    MarkdownFile, MarkdownLineEnum\n",
    ")\n",
    "\n",
    "from trouver.markdown.obsidian.vault import VaultNote\n",
    "from trouver.markdown.obsidian.personal.index_notes import (\n",
    "    correspond_headings_with_folder, convert_title_to_folder_name\n",
    ")\n",
    "from trouver.markdown.obsidian.personal.reference import setup_folder_for_new_reference\n",
    "from trouver.markdown.obsidian.vault import VaultNote\n",
    "import warnings"
   ]
  },
  {
   "cell_type": "code",
   "execution_count": null,
   "metadata": {},
   "outputs": [],
   "source": [
    "#| export\n",
    "DEFAULT_NUMBERED_ENVIRONMENTS = ['theorem', 'corollary', 'lemma', 'proposition',\n",
    "                                 'definition', 'conjecture', 'remark', 'example',\n",
    "                                 'question']"
   ]
  },
  {
   "cell_type": "code",
   "execution_count": null,
   "metadata": {},
   "outputs": [],
   "source": [
    "from fastcore.test import ExceptionExpected, test_eq\n",
    "from trouver.helper import _test_directory, non_utf8_chars_in_file"
   ]
  },
  {
   "cell_type": "markdown",
   "metadata": {},
   "source": [
    "## Potential problems"
   ]
  },
  {
   "cell_type": "markdown",
   "metadata": {},
   "source": [
    "The following are some frequently problems that arise when using this module:\n"
   ]
  },
  {
   "cell_type": "markdown",
   "metadata": {},
   "source": [
    "#### UnicodeDecodeErrors arise when reading LaTeX files"
   ]
  },
  {
   "cell_type": "markdown",
   "metadata": {},
   "source": [
    "By default, the `text_from_file` method in `trouver.helper` reads files and attempts to decode them in `utf-8`. If a LaTeX file has characters that cannot be decoded into `utf-8`, then a `UnicodeDecodeError` may be raised. In this case, one can find identify these characters using the `trouver.helper.non_utf8_chars_in_file` method and modify the LaTeX file manually. It may be useful to use a text editor to jump to the positions that the characters are at and to change the encoding of the LaTeX file into `utf-8`; for example, the author of `trouver` has opened some `ANSI`-encoded LaTeX documents in `Notepad++` and converted their encoding into `UTF-8`."
   ]
  },
  {
   "cell_type": "code",
   "execution_count": null,
   "metadata": {},
   "outputs": [
    {
     "name": "stdout",
     "output_type": "stream",
     "text": [
      "The following are the non unicode characters and their positions: [('Ê', 130), ('Ê', 165), ('Ë', 196), ('Ì', 227)]\n"
     ]
    }
   ],
   "source": [
    "latex_file_path = _test_directory() / 'latex_examples' / 'circumflex_E_example.tex'\n",
    "contents, non_utf8_chars = non_utf8_chars_in_file(latex_file_path)\n",
    "#print(contents.decode(encoding='utf-8'))\n",
    "test_eq(len(non_utf8_chars), 4)\n",
    "print(f'The following are the non unicode characters and their positions: {non_utf8_chars}')"
   ]
  },
  {
   "cell_type": "markdown",
   "metadata": {},
   "source": [
    "#### `NoDocumentNodeErrors` arise even though the LaTeX file has a document environemt (i.e. `\\begin{document}...\\end{document}`)"
   ]
  },
  {
   "cell_type": "markdown",
   "metadata": {},
   "source": [
    "The `find_document_node` method in this module sometimes is not able to detect the docment environment of a LaTeX file. This error is known to arise when\n",
    "- there are macros (which include commands) defined that represents/expands to characters including `\\begin{...}... \\end{...}`. For example"
   ]
  },
  {
   "cell_type": "code",
   "execution_count": null,
   "metadata": {},
   "outputs": [],
   "source": [
    "# TODO in the above explanation, include an example."
   ]
  },
  {
   "cell_type": "code",
   "execution_count": null,
   "metadata": {},
   "outputs": [],
   "source": []
  },
  {
   "cell_type": "markdown",
   "metadata": {},
   "source": [
    "## Divide LaTeX file into parts"
   ]
  },
  {
   "cell_type": "markdown",
   "metadata": {},
   "source": [
    "To make Obsidian notes from a LaTeX file, I use sections/subsections, and environments as places to make new notes."
   ]
  },
  {
   "cell_type": "markdown",
   "metadata": {},
   "source": [
    "Things to think about:\n",
    "Sections/subsections\n",
    "environments, including theorems, corollaries, propositions, lemmas, definitions, notations\n",
    "citations\n",
    "Macros defined in the preamble?\n",
    "\n",
    "LatexMacroNodes include: sections/subsections, citations, references, and labels, e.g.\n",
    "\n",
    "```latex\n",
    "> \\section{Introduction}\n",
    "\\cite{ellenberg2nilpotent}\n",
    "\\subsection{The section conjecture}\n",
    "\\'e\n",
    "\\ref{fundamental-exact-sequence}\n",
    "\\cite{stix2010period}\n",
    "\\ref{fundamental-exact-sequence}\n",
    "\\cite{stix2012rational}\n",
    "\\cite[Appendix C]{stix2010period}\n",
    "\\subsection{The tropical section conjecture}\n",
    "\\label{subsec:tropical-section-conjecture}\n",
    "```"
   ]
  },
  {
   "cell_type": "markdown",
   "metadata": {},
   "source": [
    "#### Divide the preamble from the rest of the document"
   ]
  },
  {
   "cell_type": "markdown",
   "metadata": {},
   "source": [
    "Some macros and commands defined in the preamble seem to prevent the `pylatexenc` methods from properly identifying the document environment/node in a LaTeX document. To circumvent this, we define a function to divide the preamble from the rest of the document"
   ]
  },
  {
   "cell_type": "code",
   "execution_count": null,
   "metadata": {},
   "outputs": [],
   "source": [
    "#| export\n",
    "def divide_preamble(\n",
    "        text: str, # LaTeX document\n",
    "        document_environment_name: str = \"document\"\n",
    "        ) -> tuple[str, str]:\n",
    "    \"\"\"Divide the preamble from the rest of a LaTeX document.\n",
    "    \"\"\"\n",
    "    begin_environment_str = rf'\\begin{{{document_environment_name}}}'\n",
    "    pattern = re.compile(re.escape(begin_environment_str))\n",
    "    match = re.search(pattern, text) \n",
    "    start_match, end_match = match.span()\n",
    "    return text[:start_match], text[start_match:]\n",
    "\n",
    "    "
   ]
  },
  {
   "cell_type": "code",
   "execution_count": null,
   "metadata": {},
   "outputs": [],
   "source": [
    "latex_file_path = _test_directory() / 'latex_examples' / 'example_with_a_command_with_begin.tex'\n",
    "text = text_from_file(latex_file_path)\n",
    "\n",
    "preamble, document = divide_preamble(text)\n",
    "assert r'\\begin{displaymath}' in preamble\n",
    "assert r'Hyun Jong Kim' in preamble\n",
    "\n",
    "assert r'Hyun Jong Kim' not in document\n",
    "assert document.startswith(r'\\begin{document}')\n",
    "assert document.endswith('\\\\end{document}')"
   ]
  },
  {
   "cell_type": "markdown",
   "metadata": {},
   "source": [
    "#### Get the Document Node"
   ]
  },
  {
   "cell_type": "code",
   "execution_count": null,
   "metadata": {},
   "outputs": [],
   "source": [
    "#| export\n",
    "class NoDocumentNodeError(Exception):\n",
    "    \"\"\"Exception raised when a LatexEnvironmentNode corresponding to the document \n",
    "    environment is expected in a LaTeX string, but no such node exists.\n",
    "    \n",
    "    **Attributes**\n",
    "    - text - str\n",
    "        - The text in which the document environment is not found.\n",
    "    \"\"\"\n",
    "    \n",
    "    def __init__(self, text):\n",
    "        self.text = text\n",
    "        super().__init__(\n",
    "            f\"The following text does not contain a document environment:\\n{text}\")\n",
    "\n"
   ]
  },
  {
   "cell_type": "code",
   "execution_count": null,
   "metadata": {},
   "outputs": [],
   "source": [
    "#| export\n",
    "def find_document_node(\n",
    "        text: str, # LaTeX str\n",
    "        document_environment_name: str = \"document\" # The name of the document environment.\n",
    "        ) -> LatexEnvironmentNode:\n",
    "    \"\"\"Find the `LatexNode` object for the main document in `text`.\n",
    "    \n",
    "    **Raises**\n",
    "    - NoDocumentNodeError\n",
    "        - If document environment node is not detected.\n",
    "    \"\"\"\n",
    "    w = LatexWalker(text)\n",
    "    nodelist, _, _ = w.get_latex_nodes(pos=0)\n",
    "    for node in nodelist:\n",
    "        if node.isNodeType(LatexEnvironmentNode)\\\n",
    "                and node.environmentname == document_environment_name:\n",
    "            return node\n",
    "    raise NoDocumentNodeError(text)"
   ]
  },
  {
   "cell_type": "markdown",
   "metadata": {},
   "source": [
    "The main content of virtually all LaTeX math articles belongs to a document environment, which pylatexenc can often detect. The `find_document_node` function returns this `LatexEnvironmentNode` object:"
   ]
  },
  {
   "cell_type": "code",
   "execution_count": null,
   "metadata": {},
   "outputs": [],
   "source": [
    "latex_file_path = _test_directory() / 'latex_examples' / 'latex_example_1' / 'main.tex'\n",
    "text = text_from_file(latex_file_path)\n",
    "document_node = find_document_node(text)"
   ]
  },
  {
   "cell_type": "markdown",
   "metadata": {},
   "source": [
    "If the LaTeX file has no `document` environment, then a `NoDocumentNodeError` is raised:"
   ]
  },
  {
   "cell_type": "code",
   "execution_count": null,
   "metadata": {},
   "outputs": [],
   "source": [
    "# This latex document has its `document` environment commented out.\n",
    "latex_file_path = _test_directory() / 'latex_examples' / 'latex_example_2' / 'main.tex'\n",
    "text = text_from_file(latex_file_path)\n",
    "with ExceptionExpected(NoDocumentNodeError):\n",
    "    document_node = find_document_node(text)"
   ]
  },
  {
   "cell_type": "markdown",
   "metadata": {},
   "source": [
    "At the time of this writinga `NoDocumentNodeError` may be raised even if the LaTeX file has a proper `document` environment"
   ]
  },
  {
   "cell_type": "code",
   "execution_count": null,
   "metadata": {},
   "outputs": [],
   "source": [
    "latex_file_path = _test_directory() / 'latex_examples' / 'example_with_a_command_with_begin.tex'\n",
    "text = text_from_file(latex_file_path)\n",
    "\n",
    "# Perhaps in the future, pylatexenc will be able to find the document node for this file.\n",
    "# When that time comes, delete this example.\n",
    "with ExceptionExpected(NoDocumentNodeError):\n",
    "    find_document_node(text)\n",
    "\n"
   ]
  },
  {
   "cell_type": "markdown",
   "metadata": {},
   "source": [
    "The `divide_preamble` function can be used to circumvent this problem:"
   ]
  },
  {
   "cell_type": "code",
   "execution_count": null,
   "metadata": {},
   "outputs": [],
   "source": [
    "preamble, document = divide_preamble(text)\n",
    "document_node = find_document_node(document)\n",
    "test_eq(document_node.environmentname, 'document')\n",
    "assert document_node.isNodeType(LatexEnvironmentNode)"
   ]
  },
  {
   "cell_type": "code",
   "execution_count": null,
   "metadata": {},
   "outputs": [],
   "source": [
    "# hide\n",
    "# Find no document node error causes\n",
    "\n",
    "# latex_file_path = r'_tests\\latex_full\\litt_cfag\\main.tex'\n",
    "# text = text_from_file(latex_file_path)\n",
    "# document_node = find_document_node(text)"
   ]
  },
  {
   "cell_type": "markdown",
   "metadata": {},
   "source": [
    "### Detect environment names used in a file"
   ]
  },
  {
   "cell_type": "code",
   "execution_count": null,
   "metadata": {},
   "outputs": [],
   "source": [
    "#| export\n",
    "def environment_names_used(\n",
    "        text: str # LaTeX document\n",
    "        ) -> set[str]: # The set of all environment names used in the main document.\n",
    "    \"\"\"Return the set of all environment names used in the main document\n",
    "    of the latex code.\n",
    "    \"\"\"\n",
    "    document_node = find_document_node(text)\n",
    "    return {node.environmentname for node in document_node.nodelist\n",
    "            if node.isNodeType(LatexEnvironmentNode)}        "
   ]
  },
  {
   "cell_type": "markdown",
   "metadata": {},
   "source": [
    "Writers often use different environment names. For examples, writers often use `theorem`, `thm`, or `theo` for theorem environments or `lemma` or `lem` for lemma environments. The `environment_names_used` function returns the environment names actually used in the tex file."
   ]
  },
  {
   "cell_type": "markdown",
   "metadata": {},
   "source": [
    "In the example below, note that only the environments that are actually used are returned. For instance, the preamble of the document defines the theorem environments `problem`, and `lemma` (among other things), but these are not actually used in the document itself."
   ]
  },
  {
   "cell_type": "code",
   "execution_count": null,
   "metadata": {},
   "outputs": [],
   "source": [
    "latex_file_path = _test_directory() / 'latex_examples' / 'has_fully_written_out_environment_names.tex'\n",
    "sample_text_1 = text_from_file(latex_file_path)\n",
    "sample_output_1 = environment_names_used(sample_text_1)\n",
    "test_eq({'corollary', 'proof', 'maincorollary', 'abstract', 'proposition'}, sample_output_1)"
   ]
  },
  {
   "cell_type": "markdown",
   "metadata": {},
   "source": [
    "The document in the example below uses shorter names for theorem environments:"
   ]
  },
  {
   "cell_type": "code",
   "execution_count": null,
   "metadata": {},
   "outputs": [],
   "source": [
    "latex_file_path = _test_directory() / 'latex_examples' / 'has_shorter_environment_names.tex'\n",
    "sample_text_2 = text_from_file(latex_file_path)\n",
    "sample_output_2 = environment_names_used(sample_text_2)\n",
    "test_eq({'conj', 'notation', 'corollary', 'defn'}, sample_output_2)"
   ]
  },
  {
   "cell_type": "markdown",
   "metadata": {},
   "source": [
    "### Divide latex text into parts"
   ]
  },
  {
   "cell_type": "code",
   "execution_count": null,
   "metadata": {},
   "outputs": [],
   "source": [
    "#| export\n",
    "# TODO: numbering convention could be theorems separate (e.g. theorem 1, 2, ...)\n",
    "# and subsections separate.\n",
    "def divide_latex_text(\n",
    "        text, # The text of a latex document.\n",
    "        numbered_environments: list[str] = DEFAULT_NUMBERED_ENVIRONMENTS, # A list of the names of environments which are numbered in the latex code.\n",
    "        numbering_convention: str = 'separate',\n",
    "        section_name: str = 'section',\n",
    "        subsection_name: str = 'subsection',\n",
    "        proof_name: str = 'proof') -> list:\n",
    "    \"\"\"Divides latex text to convert into Obsidian notes.\n",
    "    \n",
    "    **Parameters**\n",
    "    - text - str\n",
    "    - numbered_environments = list\n",
    "    - numbering_convention - str\n",
    "        - One of\n",
    "            \n",
    "            - 'separate' - Subsections of a section have separate numberings, \n",
    "            e.g. 'Lemma 1.2.1, Proposition 1.2.2, Figure 1.2.3, Theorem 1.3.1'\n",
    "            - 'shared' - Subsections of a section share numberings, e.g.\n",
    "            'Lemma 1.1, Proposition 1.2, Figure 1.3, Theorem 1.4'\n",
    "            \n",
    "    - section_name - str\n",
    "        - The macronames for \"sections\". Defaults to `'section'`.\n",
    "        For example, SGA has chapters and sections. For the purposes of this function,\n",
    "        it is appropriate to regard them as sections and subsections, respectively.\n",
    "    - subsection_name - str\n",
    "        - Defaults to `'subsection'`.\n",
    "    - proof_name - str\n",
    "        - The environment names for proofs. Defaults to `'proof'`.\n",
    "        \n",
    "    **Returns**\n",
    "    - list of list\n",
    "        - Each list corresponds to an Obsidian note to be constructed.\n",
    "        Such a list is of the form `[<node_type & numbering>, <text>]` where \n",
    "        `node_type & numbering` is a string which serves as a title for the\n",
    "        text making up the note, and `text` is the content of the note.\n",
    "    \"\"\"\n",
    "    document_node = find_document_node(text)\n",
    "    section_num = 0\n",
    "    subsection_num = 0\n",
    "    environment_num = 0\n",
    "    outside_num = 1  # Since not everything is in a nice environment, many \n",
    "                     # notes will need their own numbers.\n",
    "    parts = []\n",
    "    accumulation = ''\n",
    "    for node in document_node.nodelist:\n",
    "        if len(parts) > 102 and parts[-1][0] == 'subsection 6.1':\n",
    "            print('hi')\n",
    "        # if '\\\\begin{proof}' in node.latex_verbatim():\n",
    "        #     print(node.environmentname)\n",
    "        #    print(node.latex_verbatim())\n",
    "        #if 'Gal' in accumulation:\n",
    "        #    print(accumulation)\n",
    "        (section_num, subsection_num, environment_num, outside_num,\n",
    "         accumulation)\\\n",
    "            = _process_node(\n",
    "                section_num, subsection_num, environment_num, outside_num,\n",
    "                accumulation, parts, node, section_name, subsection_name,\n",
    "                proof_name, numbered_environments, numbering_convention)\n",
    "        # if len(parts) > 20:    \n",
    "            \n",
    "    outside_num += 1\n",
    "    parts.append([str(outside_num), accumulation])\n",
    "    return parts\n",
    "            \n",
    "def _process_node(\n",
    "        section_num: int, subsection_num: int, environment_num: int,\n",
    "        outside_num: int, accumulation: str, parts: list, node: LatexNode,\n",
    "        section_name: str, subsection_name: str, proof_name: str,\n",
    "        numbered_environments: list[str], numbering_convention: str) -> tuple:\n",
    "    \"\"\"\n",
    "    Choose the node-processing method, if the node is a section/subsection or environment\n",
    "    and\n",
    "\n",
    "    \"\"\"\n",
    "    if node.latex_verbatim().startswith('\\\\begin{proof}\\nLet $\\\\mathscr{H} := \\\\math'):\n",
    "        print('hi')\n",
    "    process_method_to_run = None\n",
    "    if node.isNodeType(LatexMacroNode) and node.macroname == section_name:\n",
    "        process_method_to_run = _process_section\n",
    "    elif node.isNodeType(LatexMacroNode) and node.macroname == subsection_name:\n",
    "        process_method_to_run = _process_subsection\n",
    "    elif (node.isNodeType(LatexEnvironmentNode)\n",
    "          and node.environmentname in numbered_environments):\n",
    "        process_method_to_run = _process_environment_node\n",
    "    if process_method_to_run:\n",
    "        (section_num, subsection_num, environment_num, outside_num,\n",
    "        accumulation)\\\n",
    "            = process_method_to_run(\n",
    "            section_num, subsection_num, environment_num, outside_num,\n",
    "            accumulation, parts, node, section_name, subsection_name,\n",
    "            numbering_convention)\n",
    "    elif (node.isNodeType(LatexEnvironmentNode)\n",
    "          and node.environmentname == proof_name):\n",
    "          # TODO: if the environment is a proof, and if it starts a section/subsection,\n",
    "          # Then the proof is appended into the title of the section/subsection, see\n",
    "          # landesman_litt_ipwc, around line 1858-1863 for example.\n",
    "        parts[-1][1] += f'\\n{node.latex_verbatim()}'\n",
    "    else:\n",
    "        accumulation += node.latex_verbatim()\n",
    "    return (section_num, subsection_num, environment_num, outside_num,\n",
    "            accumulation)\n",
    "\n",
    "\n",
    "def _process_section(\n",
    "        section_num: int, subsection_num: int, environment_num: int,\n",
    "        outside_num: int, accumulation: str, parts: list[list],\n",
    "        node: LatexMacroNode, section_name: str, subsection_name: str,\n",
    "        numbering_convention: str) -> tuple:\n",
    "    \"\"\"Do stuff when the node is a section node. Return updated\n",
    "    section_num, subsection_num, environment_num\n",
    "    \"\"\"\n",
    "    numbered, title  = _section_title(\n",
    "        node.latex_verbatim(), section_name, subsection_name)\n",
    "    section_num += 1 if numbered else 0\n",
    "    subsection_num = 0\n",
    "    environment_num = 0\n",
    "    if accumulation.strip() != '':\n",
    "        parts.append([str(outside_num), accumulation])\n",
    "        outside_num += 1\n",
    "        accumulation = ''\n",
    "    parts.append([f'{section_name} {section_num}', title])\n",
    "    return (section_num, subsection_num, environment_num, outside_num,\n",
    "            accumulation)\n",
    "    \n",
    "\n",
    "def _process_subsection(\n",
    "        section_num: int, subsection_num: int, environment_num: int,\n",
    "        outside_num: int, accumulation: str, parts: list[list],\n",
    "        node: LatexMacroNode, section_name: str, subsection_name: str,\n",
    "        numbering_convention: str) -> tuple:\n",
    "    \"\"\"Do stuff when the node is a subsection node.\n",
    "    \"\"\"\n",
    "    numbered, title  = _section_title(\n",
    "        node.latex_verbatim(), section_name, subsection_name)\n",
    "    subsection_num += 1 if numbered else 0\n",
    "    if numbering_convention == 'separate':\n",
    "        environment_num = 0\n",
    "    if accumulation.strip() != '':\n",
    "        parts.append([str(outside_num), accumulation])\n",
    "        outside_num += 1\n",
    "        accumulation = ''\n",
    "    parts.append([f'{subsection_name} {section_num}.{subsection_num}', title])\n",
    "    return (section_num, subsection_num, environment_num, outside_num,\n",
    "            accumulation)\n",
    "\n",
    "\n",
    "def _process_environment_node(\n",
    "        section_num: int, subsection_num: int, environment_num: int,\n",
    "        outside_num: int, accumulation: str, parts: list[list],\n",
    "        node: LatexMacroNode, section_name: str, subsection_name: str,\n",
    "        numbering_convention: str) -> tuple:\n",
    "    \"\"\"\n",
    "    \"\"\"\n",
    "    environment_num += 1\n",
    "    if accumulation.strip() != '':\n",
    "        parts.append([str(outside_num), accumulation])\n",
    "        outside_num += 1\n",
    "        accumulation = ''\n",
    "    if numbering_convention == 'separate':\n",
    "        pointed_numbering = f'{section_num}.{subsection_num}.{environment_num}'\n",
    "        numbering = f'{node.environmentname} {pointed_numbering}'\n",
    "    elif numbering_convention == 'shared':\n",
    "        numbering = f'{node.environmentname} {section_num}.{environment_num}'\n",
    "    parts.append([numbering, node.latex_verbatim()])\n",
    "    return (section_num, subsection_num, environment_num, outside_num,\n",
    "            accumulation)\n",
    "\n",
    "\n",
    "def _section_title(text: str, section_name, subsection_name) -> str:\n",
    "    \"\"\"Returns the title of a section or subsection from a latex str\n",
    "    and whether or not the section/subsection is numbered.\n",
    "    \n",
    "    **Parameters**\n",
    "    - text - str\n",
    "    - section_name - str\n",
    "    - subsection_name - str\n",
    "    \n",
    "    **Returns**\n",
    "    - str, bool\n",
    "    \"\"\"\n",
    "    # TODO: test things like `\\\\section {Generating series of special divisors}`\n",
    "    # See qiu_amsd for example.\n",
    "    # TODO: deal with the possibility of multi-line sections/subsections,\n",
    "    # e.g. \\subsection{Arithmetic intersrection\\n pairing},\n",
    "    # see qiu_amsd for example\n",
    "    regex_search = re.search(r'\\\\' + fr'(?:{section_name}|{subsection_name}) *?'\n",
    "                             + r'(?:\\[.*\\])?(\\*)?\\{(.*)\\}', text)\n",
    "    # regex_search = re.search(r'\\\\' + fr'(?:{section_name}|{subsection_name})'\n",
    "    #                          + r'(?:\\[.*\\])?(\\*)?\\{(.*)\\}', text)\n",
    "    # print(text)\n",
    "    # print(section_name, subsection_name)\n",
    "    if regex_search is None:\n",
    "        print(text, section_name, subsection_name)\n",
    "    return not bool(regex_search.group(1)), regex_search.group(2)\n",
    "\n"
   ]
  },
  {
   "cell_type": "markdown",
   "metadata": {},
   "source": [
    "The `divide_latex_text` function divides latex text "
   ]
  },
  {
   "cell_type": "code",
   "execution_count": null,
   "metadata": {},
   "outputs": [],
   "source": [
    "# latex_file_path = r'_tests\\latex_full\\pauli_wickelgren\\main.tex'\n",
    "# text = text_from_file(latex_file_path)\n",
    "# parts = divide_latex_text(text, numbering_convention='separate')\n",
    "# for title, text in parts[39:44]:\n",
    "#     print(title, text)\n",
    "\n"
   ]
  },
  {
   "cell_type": "code",
   "execution_count": null,
   "metadata": {},
   "outputs": [],
   "source": [
    "# TODO: Find a list of environment names commonly used."
   ]
  },
  {
   "cell_type": "code",
   "execution_count": null,
   "metadata": {},
   "outputs": [],
   "source": [
    "# TODO: examples with different numbering convention and different numbered environments"
   ]
  },
  {
   "cell_type": "code",
   "execution_count": null,
   "metadata": {},
   "outputs": [],
   "source": [
    "# TODO: make numbering_convention work correctly.\n",
    "# Here are some latex files with different conventions:\n",
    "# - All subsections in a section share numbering, \n",
    "#   - achter_pries_imht https://arxiv.org/abs/math/0608038: e.g. Lemmas 2.1, 2.2, 2.3 are in subsection 2.2 and Lemma 2.4 and Remark 2.5 are in subsection 2.4.as_integer_ratio\n",
    "#   - pauli_wickelgren https://arxiv.org/abs/2010.09374: e.g. Example 3.5, 3.11 are in subsubsection 3.3.2, Exercise 4.1, Remark 4.2, are in subsection 4.1, Theorem 4.3 is in subsection 4.2, Theorem 4.4 is in subsection 4.3\n",
    "# - Different environment types have different counts and the counts do not show the section number.\n",
    "#   - vankataramana_imbrd https://arxiv.org/abs/1205.6543: \n",
    "#       - e.g. section 1 has Theorem 1, Remark 1, Remark 2, Remark 3, subsection 1.1.3 has Remark 4, Subsection 2.2 has Definition 1"
   ]
  }
 ],
 "metadata": {
  "kernelspec": {
   "display_name": "Python 3.10.6 64-bit",
   "language": "python",
   "name": "python3"
  }
 },
 "nbformat": 4,
 "nbformat_minor": 2
}
