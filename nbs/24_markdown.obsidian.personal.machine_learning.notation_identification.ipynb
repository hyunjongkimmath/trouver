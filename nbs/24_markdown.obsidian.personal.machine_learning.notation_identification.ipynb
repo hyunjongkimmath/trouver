{
 "cells": [
  {
   "cell_type": "code",
   "execution_count": null,
   "metadata": {},
   "outputs": [],
   "source": [
    "#| default_exp markdown.obsidian.personal.machine_learning.notation_identification"
   ]
  },
  {
   "cell_type": "markdown",
   "metadata": {},
   "source": [
    "# markdown.obisidian.personal.machine_learning.notation_identification\n",
    "> Functions for finding notations introduced in mathematical text. \n",
    "\n",
    "**Note: This module is deprecated in favor of markdown.obsidian.personal.machine_learning.tokenize.def_and_notat_token_classification**\n",
    "\n",
    "In `markdown.obsidian.personal.notation`, we explained why it is convenient to keep notation notes. To automatically make such notation notes, one needs a way to identify notations; more precisely, one needs a way to identify where notations are newly introduced \n",
    "\n",
    "The author of `trouver` surrounds (newly introduced) definitions and notations with double asterisks `**` in his `Obsidian.md` math vault; note that surrounding text with double asterisks `**` can boldface said text[^1]. This particular notebook focuses on notations, rather than definitions.\n",
    "\n",
    "[^1]: However, LaTeX math mode text does not get bold-faced with double asterisks.\n",
    "\n",
    "For the purposes of `trouver`, a notation is (contained in) a purely LaTeX math mode text[^2] that is surrounded by double asterisks `**`, whereas a definition is any other double asterisk surrounded text. \n",
    "\n",
    "[^2]: For the purposes of `trouver`, a math mode text must be an in-line math mode text surrounded by single dollar signs `$` or display math mode text surrounded by double dollar signs `$$`. This is because Markdown does not recognize `\\( \\)` and `\\[ \\]` for math mode text.\n",
    "\n",
    "For example, in the Markdown text\n",
    "\n",
    "\n",
    "```markdown\n",
    "The **Galois group** of a Galois extension $L/K$ is the group **$\\operatorname{Gal}(L/K)$** whose elements are the automorphisms of the field $L$ fixing $K$ pointwise. For example, $\\operatorname{Gal}(\\mathbb{C}/\\mathbb{R})$ is isomorphic to $\\mathbb{Z}/2 \\mathbb{Z}$ with complex conjugation as the nontrivial element.\n",
    "\n",
    "```\n",
    "\n",
    "the text `Galois group` constitutes a definition and `$\\operatorname{Gal}(L/K)$` constitutes a notation. On the other hand, the LaTeX math mode strings `$\\operatorname{Gal}(\\mathbb{C}/\\mathbb{R})$` and `$\\mathbb{Z}/2 \\mathbb{Z}$` do not newly introduce notations (or definitions for that matter) in the context of the text.\n",
    "\n",
    "\n",
    "As another example, in\n",
    "\n",
    "```markdown\n",
    "A **Hausdorff space** or a **$T_2$-space** is a topological space $X$ such that for all $x,y \\in X$, there exist open neighborhoods $U$ and $V$ of $x$ and $y$ such that $U \\cap V = \\emptyset$.\n",
    "```\n",
    "\n",
    "the texts `Hausdorff space` and `$T_2$-space` are both definitions.\n",
    "\n",
    "The following has an example of a notation that can also be regarded as a definition. For the purposes of `trouver`, this is considered a notation. In some sense, most to all notations can be regarded as definitions as well as notations and hence we classify such things as notations.\n",
    "\n",
    "```markdown\n",
    "Given an ideal $I$ of a ring $R$, **$R/IR$** is the ring whose underlying set is the set $R$ modulo the equivalence relation $\\sim$ where $a \\sim b$ if and only if $a-b \\in I$ and whose addition and multiplication structures are defined by...\n",
    "```\n",
    "\n",
    "One downside to this convention is that a notation for the purposes of `trouver` might contain extraneous information. For example, in \n",
    "\n",
    "```markdown\n",
    "Let $R$ be a ring and let $M$ be a module. The **dual of $M$** is defined as\n",
    "\n",
    "**$$ M^\\vee := \\operatorname{Hom}_R(M,R).$$**\n",
    "```\n",
    "\n",
    "the entire displayed math mode text is considered a notation by `trouver`, even if only `M^\\vee` is the actual notation."
   ]
  },
  {
   "cell_type": "code",
   "execution_count": null,
   "metadata": {},
   "outputs": [],
   "source": [
    "#| export\n",
    "import os\n",
    "from os import PathLike\n",
    "from pathlib import Path\n",
    "import pandas as pd\n",
    "\n",
    "from fastai.text.learner import TextLearner\n",
    "\n",
    "from trouver.helper.definition_and_notation import (\n",
    "    defs_and_notats_separations,\n",
    ")\n",
    "from trouver.helper.date_and_time import current_time_formatted_to_minutes\n",
    "from trouver.helper.regex import latex_indices, replace_string_by_indices\n",
    "from trouver.markdown.markdown.file import MarkdownFile, MarkdownLineEnum\n",
    "from trouver.markdown.obsidian.personal.note_processing import process_standard_information_note\n",
    "from trouver.markdown.obsidian.personal.machine_learning.database_update import append_to_database\n",
    "from trouver.markdown.obsidian.vault import(\n",
    "    # all_note_paths_by_name, note_path_by_name,\n",
    "    VaultNote\n",
    ")\n"
   ]
  },
  {
   "cell_type": "code",
   "execution_count": null,
   "metadata": {},
   "outputs": [],
   "source": [
    "from unittest import mock\n",
    "import shutil\n",
    "import tempfile\n",
    "\n",
    "from fastcore.test import *\n",
    "from pathvalidate import validate_filename \n",
    "from torch import Tensor\n",
    "\n",
    "from trouver.helper.tests import _test_directory"
   ]
  },
  {
   "cell_type": "markdown",
   "metadata": {},
   "source": [
    "## Get notation data"
   ]
  },
  {
   "cell_type": "markdown",
   "metadata": {},
   "source": [
    "Given information notes with notations marked with double asterisks `**`, we extract the data of these double asterisks organize them for machine learning.\n",
    "\n",
    "Ultimately, we would like to have a ML model that can find the locations where notations are newly introduced in a note. The approach here is to train a categorization model which takes an input a text with a single double asterisk pair surrounding a LaTeX math mode string and outputs whether the LaTeX math mode string contains a notation. We then use the categorization model to find all LaTeX math mode strings containing notations one by one."
   ]
  },
  {
   "cell_type": "code",
   "execution_count": null,
   "metadata": {},
   "outputs": [],
   "source": [
    "#| export\n",
    "def add_one_double_asts_to_line(\n",
    "        line: str, # The text to which to add the double asterisks `**`\n",
    "        start: int, # The first double asterisks are added in between `line[start-1]` and `line[start]`.\n",
    "        end: int # The second double asterisks are added in between `line[end-1]` and `line[end]`.\n",
    "        ) -> str: # The str obtained from `line` by surrounding the substring `line[start:end]` with double asterisks.\n",
    "    # TODO: rename to add_one_double_asts_to_line. Better yet, also\n",
    "    # implement a function which adds multiple double asts.\n",
    "    \"\"\"\n",
    "    Return `line` with only one double asterisks `**` surrounded text.\n",
    "    \n",
    "    Used in `_definition_data_from_line`\n",
    "    \"\"\"\n",
    "    return f'{line[:start]}**{line[start:end]}**{line[end:]}'"
   ]
  },
  {
   "cell_type": "code",
   "execution_count": null,
   "metadata": {},
   "outputs": [],
   "source": [
    "test_eq(add_one_double_asts_to_line(\"I will add just one double ast pair.\", 2,6), 'I **will** add just one double ast pair.')"
   ]
  },
  {
   "cell_type": "code",
   "execution_count": null,
   "metadata": {},
   "outputs": [],
   "source": [
    "#| export\n",
    "def notation_data_from_text(\n",
    "        with_double_asts: str # May or may not have double asterisks to signify definitions and notations\n",
    "        ) -> tuple[str, list[tuple[int, int, bool]]]:\n",
    "    \"\"\"Extracts data on the locations of notations in a text with\n",
    "    double asterisks.\n",
    "    \n",
    "    Used in `notation_data_from_note`\n",
    "\n",
    "    **Returns**\n",
    "\n",
    "    - tuple[str, list[tuple[int, int, bool]]]\n",
    "        - The str is the str `no_double_asts`, which is the same as\n",
    "        `with_double_asts`, except with the double asterisks removed.\n",
    "        - Each list represents a data point for a LaTeX math-mode\n",
    "          string in `no_double_asts`and consists of\n",
    "\n",
    "            1. The indices `start, end` where the data point considers\n",
    "               whether or not the LaTeX math-mode substring\n",
    "               `line_no_double_asts[start:end]` is surrounded by\n",
    "               double-asterisks (and hene is supposed to introduce a notation).\n",
    "\n",
    "            2. A bool which is `True`, if the data-point represents a\n",
    "               str with double-asterisks surrounding a notation and `False`\n",
    "               otherwise.\n",
    "    \"\"\"\n",
    "    defs_and_notats = defs_and_notats_separations(with_double_asts)\n",
    "    only_indices = [(start, end) for start, end, _ in defs_and_notats]\n",
    "    replace_with = [with_double_asts[start+2:end-2]\n",
    "                    for start, end in only_indices]\n",
    "    no_double_asts = replace_string_by_indices(\n",
    "        with_double_asts, only_indices, replace_with)\n",
    "\n",
    "    bold_indices_in_no_double_asts = [\n",
    "        (start - 4*i, end - 4*i - 4, is_notat)\n",
    "        for i, (start, end, is_notat) in enumerate(defs_and_notats)]\n",
    "\n",
    "    notation_indices = [(start, end, True) for start, end, is_notat \n",
    "                        in bold_indices_in_no_double_asts if is_notat]\n",
    "\n",
    "    notat_indices_in_no_double_asts = [\n",
    "        (start, end) for start, end, _ in bold_indices_in_no_double_asts]\n",
    "    all_latex_indices = latex_indices(no_double_asts)\n",
    "    non_notat_indices = [tuppy for tuppy in all_latex_indices\n",
    "                         if tuppy not in notat_indices_in_no_double_asts]\n",
    "    non_notat_indices = [(start, end, False)\n",
    "                         for start, end in non_notat_indices]\n",
    "    \n",
    "    return no_double_asts, notation_indices + non_notat_indices\n"
   ]
  },
  {
   "cell_type": "code",
   "execution_count": null,
   "metadata": {},
   "outputs": [
    {
     "name": "stdout",
     "output_type": "stream",
     "text": [
      "('here is a double ast text. It is not a LaTeX math mode string,so it will not be included as a data point.On the other hand, $\\\\operatorname{Gal}(L/K)$ and $\\\\mathbb{Z}/2\\\\mathbb{Z}$are both included LaTeX math mode strings and are included as data points.The bool for the former is `True`, whereas the bool for the latter is `False`.', [(124, 149, True), (154, 178, False)])\n"
     ]
    }
   ],
   "source": [
    "sample_output = notation_data_from_text(\n",
    "    r'**here is a double ast text**. It is not a LaTeX math mode string,'\n",
    "    r'so it will not be included as a data point.'\n",
    "    r'On the other hand, **$\\operatorname{Gal}(L/K)$** and $\\mathbb{Z}/2\\mathbb{Z}$'\n",
    "    r'are both included LaTeX math mode strings and are included as data points.'\n",
    "    r'The bool for the former is `True`, whereas the bool for the latter is `False`.')\n",
    "\n",
    "assert '**' not in sample_output[0]\n",
    "start, end, is_notation = sample_output[1][0]\n",
    "test_eq(sample_output[0][start:end], r'$\\operatorname{Gal}(L/K)$')\n",
    "start, end, is_notation = sample_output[1][1]\n",
    "test_eq(sample_output[0][start:end], r'$\\mathbb{Z}/2\\mathbb{Z}$')\n",
    "print(sample_output)"
   ]
  },
  {
   "cell_type": "code",
   "execution_count": null,
   "metadata": {},
   "outputs": [],
   "source": [
    "#| export\n",
    "def _notation_data_with_indices(\n",
    "        note: VaultNote, vault: PathLike) -> tuple[\n",
    "            MarkdownFile, list[tuple[int, int, bool]]]:\n",
    "    r\"\"\"Obtain notation data from a note including the indices.\n",
    "    \n",
    "    Used in `notation_data_from_note`\n",
    "\n",
    "    **Parameters**\n",
    "    - note - VaultNote\n",
    "    - vault - PathLike\n",
    "\n",
    "    **Returns**\n",
    "    - str, list[list[str, int, bool]]\n",
    "        - The str is the str of the processed MarkdownFile except\n",
    "        without double asterisks.\n",
    "        - Each list consists of\n",
    "\n",
    "            1. The indices `start, end` where the data point considers\n",
    "            whether or not the substring `no_double_asts[start:end]`\n",
    "            contains a notation.\n",
    "            2. A bool that is `True` if the LaTeX text contains\n",
    "            notation.\n",
    "    \"\"\"\n",
    "    # TODO: test\n",
    "    mf = process_standard_information_note(\n",
    "        MarkdownFile.from_vault_note(note), vault,\n",
    "        remove_double_asterisks = False)\n",
    "    with_double_asts = str(mf)\n",
    "    no_double_asts, data = notation_data_from_text(with_double_asts)\n",
    "    return no_double_asts, data"
   ]
  },
  {
   "cell_type": "code",
   "execution_count": null,
   "metadata": {},
   "outputs": [],
   "source": [
    "#| export\n",
    "\n",
    "def notation_data_from_note(\n",
    "        note: VaultNote, vault: PathLike\n",
    "        ) -> list[tuple[str, str, bool]]:\n",
    "    # TODO: Implement the option to include multiple-lines in the data.\n",
    "    \"\"\"Obtain notation data from a note.\n",
    "\n",
    "    Note that the lists of str might not be in any particular order.\n",
    "    \n",
    "    **Returns**\n",
    "\n",
    "    - list[tuple[str, str, bool]]\n",
    "        - Each list consists of \n",
    "            1. The name of `note`,\n",
    "            2. The processed str of `note` with only a single double\n",
    "            asterisk surrounded LaTeX text. Note that the processed str\n",
    "            merges display math mode text into single lines, cf.\n",
    "            `process_standard_information_note`.\n",
    "            3. A bool that is `True` if the LaTeX text contains\n",
    "            notation.\n",
    "    \"\"\"\n",
    "    # TODO: treat '`$`` separately.\n",
    "    no_double_asts, data = _notation_data_with_indices(note, vault)\n",
    "    return [\n",
    "        (note.name,\n",
    "         add_one_double_asts_to_line(no_double_asts, start, end),\n",
    "         is_notat) for start, end, is_notat in data]\n"
   ]
  },
  {
   "cell_type": "markdown",
   "metadata": {},
   "source": [
    "We first set up an example:"
   ]
  },
  {
   "cell_type": "code",
   "execution_count": null,
   "metadata": {},
   "outputs": [
    {
     "name": "stdout",
     "output_type": "stream",
     "text": [
      "---\n",
      "cssclass: clean-embeds\n",
      "aliases: []\n",
      "tags: [_meta/literature_note, _meta/definition, _meta/notation]\n",
      "---\n",
      "# Ring of integers modulo $n$[^1]\n",
      "\n",
      "Let $n \\geq 1$ be an integer. The **ring of integers modulo $n$**, denoted by **$\\mathbb{Z}/n\\mathbb{Z}$**, is, informally, the ring whose elements are represented by the integers with the understanding that $0$ and $n$ are equal.\n",
      "\n",
      "More precisely, $\\mathbb{Z}/n\\mathbb{Z}$ has the elements $0,1,\\ldots,n-1$.\n",
      "\n",
      "...\n",
      "\n",
      "\n",
      "# See Also\n",
      "- [[reference_with_tag_labels_Exercise 1|reference_with_tag_labels_Z_nZ_is_a_ring]]\n",
      "# Meta\n",
      "## References\n",
      "\n",
      "## Citations and Footnotes\n",
      "[^1]: Kim, Definition 2\n"
     ]
    }
   ],
   "source": [
    "test_vault = _test_directory() / 'test_vault_6'\n",
    "vn = VaultNote(test_vault, name='reference_with_tag_labels_Definition 2')\n",
    "print(vn.text())"
   ]
  },
  {
   "cell_type": "code",
   "execution_count": null,
   "metadata": {},
   "outputs": [
    {
     "name": "stderr",
     "output_type": "stream",
     "text": [
      "c:\\Users\\hyunj\\Documents\\Development\\Python\\trouver_py310_venv\\lib\\site-packages\\bs4\\__init__.py:435: MarkupResemblesLocatorWarning: The input looks more like a filename than markup. You may want to open this file and pass the filehandle into Beautiful Soup.\n",
      "  warnings.warn(\n"
     ]
    },
    {
     "data": {
      "text/plain": [
       "[('reference_with_tag_labels_Definition 2',\n",
       "  'Let $n \\\\geq 1$ be an integer. The ring of integers modulo $n$, denoted by **$\\\\mathbb{Z}/n\\\\mathbb{Z}$**, is, informally, the ring whose elements are represented by the integers with the understanding that $0$ and $n$ are equal.\\n\\nMore precisely, $\\\\mathbb{Z}/n\\\\mathbb{Z}$ has the elements $0,1,\\\\ldots,n-1$.\\n\\n...\\n',\n",
       "  True),\n",
       " ('reference_with_tag_labels_Definition 2',\n",
       "  'Let **$n \\\\geq 1$** be an integer. The ring of integers modulo $n$, denoted by $\\\\mathbb{Z}/n\\\\mathbb{Z}$, is, informally, the ring whose elements are represented by the integers with the understanding that $0$ and $n$ are equal.\\n\\nMore precisely, $\\\\mathbb{Z}/n\\\\mathbb{Z}$ has the elements $0,1,\\\\ldots,n-1$.\\n\\n...\\n',\n",
       "  False),\n",
       " ('reference_with_tag_labels_Definition 2',\n",
       "  'Let $n \\\\geq 1$ be an integer. The ring of integers modulo **$n$**, denoted by $\\\\mathbb{Z}/n\\\\mathbb{Z}$, is, informally, the ring whose elements are represented by the integers with the understanding that $0$ and $n$ are equal.\\n\\nMore precisely, $\\\\mathbb{Z}/n\\\\mathbb{Z}$ has the elements $0,1,\\\\ldots,n-1$.\\n\\n...\\n',\n",
       "  False),\n",
       " ('reference_with_tag_labels_Definition 2',\n",
       "  'Let $n \\\\geq 1$ be an integer. The ring of integers modulo $n$, denoted by $\\\\mathbb{Z}/n\\\\mathbb{Z}$, is, informally, the ring whose elements are represented by the integers with the understanding that **$0$** and $n$ are equal.\\n\\nMore precisely, $\\\\mathbb{Z}/n\\\\mathbb{Z}$ has the elements $0,1,\\\\ldots,n-1$.\\n\\n...\\n',\n",
       "  False),\n",
       " ('reference_with_tag_labels_Definition 2',\n",
       "  'Let $n \\\\geq 1$ be an integer. The ring of integers modulo $n$, denoted by $\\\\mathbb{Z}/n\\\\mathbb{Z}$, is, informally, the ring whose elements are represented by the integers with the understanding that $0$ and **$n$** are equal.\\n\\nMore precisely, $\\\\mathbb{Z}/n\\\\mathbb{Z}$ has the elements $0,1,\\\\ldots,n-1$.\\n\\n...\\n',\n",
       "  False),\n",
       " ('reference_with_tag_labels_Definition 2',\n",
       "  'Let $n \\\\geq 1$ be an integer. The ring of integers modulo $n$, denoted by $\\\\mathbb{Z}/n\\\\mathbb{Z}$, is, informally, the ring whose elements are represented by the integers with the understanding that $0$ and $n$ are equal.\\n\\nMore precisely, **$\\\\mathbb{Z}/n\\\\mathbb{Z}$** has the elements $0,1,\\\\ldots,n-1$.\\n\\n...\\n',\n",
       "  False),\n",
       " ('reference_with_tag_labels_Definition 2',\n",
       "  'Let $n \\\\geq 1$ be an integer. The ring of integers modulo $n$, denoted by $\\\\mathbb{Z}/n\\\\mathbb{Z}$, is, informally, the ring whose elements are represented by the integers with the understanding that $0$ and $n$ are equal.\\n\\nMore precisely, $\\\\mathbb{Z}/n\\\\mathbb{Z}$ has the elements **$0,1,\\\\ldots,n-1$**.\\n\\n...\\n',\n",
       "  False)]"
      ]
     },
     "execution_count": null,
     "metadata": {},
     "output_type": "execute_result"
    }
   ],
   "source": [
    "sample_output = notation_data_from_note(vn, test_vault)\n",
    "total_count_for_is_notation = 0\n",
    "for name, with_one_double_asts, is_notation in sample_output:\n",
    "    test_eq(name, vn.name)\n",
    "    test_eq(with_one_double_asts.count('**'), 2)\n",
    "    if is_notation:\n",
    "        total_count_for_is_notation += 1\n",
    "test_eq(total_count_for_is_notation, 1)\n",
    "sample_output"
   ]
  },
  {
   "cell_type": "code",
   "execution_count": null,
   "metadata": {},
   "outputs": [],
   "source": []
  },
  {
   "cell_type": "markdown",
   "metadata": {},
   "source": [
    "## Make database of notation data"
   ]
  },
  {
   "cell_type": "code",
   "execution_count": null,
   "metadata": {},
   "outputs": [],
   "source": [
    "#| export\n",
    "def append_notation_data_to_database(\n",
    "        vault: PathLike, # The vault from which the data is drawn\n",
    "        file: PathLike,  # The path to a CSV file\n",
    "        notes: list[VaultNote], # The notes to add to the database\n",
    "        backup: bool = True # If `True`, makes a copy of `file` in the same directoy and with the same name, except with an added extension of `.bak`.\n",
    "        ) -> None:\n",
    "    to_turn_into_a_df = []\n",
    "    current_time = current_time_formatted_to_minutes()\n",
    "    for note in notes:\n",
    "        notation_data_for_note = notation_data_from_note(note,  vault)\n",
    "        for _, with_one_double_asts, is_notat in notation_data_for_note:\n",
    "            row_dict = {\n",
    "                'Time added': current_time,\n",
    "                'Time modified': current_time,\n",
    "                'Note name': note.name,\n",
    "                'LaTeX in text': with_one_double_asts,\n",
    "                'Is notation': is_notat\n",
    "            }\n",
    "            to_turn_into_a_df.append(row_dict)\n",
    "    df = pd.DataFrame(to_turn_into_a_df)\n",
    "    append_to_database(\n",
    "        file, df,\n",
    "        cols=['Time added', 'Time modified', 'Note name',\n",
    "              'LaTeX in text', 'Is notation'],\n",
    "        pivot_column='LaTeX in text',\n",
    "        columns_to_update=['Time modified', 'Note name', 'Is notation'],\n",
    "        backup=backup)\n",
    "    \n",
    "    "
   ]
  },
  {
   "cell_type": "code",
   "execution_count": null,
   "metadata": {},
   "outputs": [],
   "source": [
    "# TODO: example"
   ]
  },
  {
   "cell_type": "code",
   "execution_count": null,
   "metadata": {},
   "outputs": [],
   "source": []
  },
  {
   "cell_type": "markdown",
   "metadata": {},
   "source": [
    "## Use ML categorization model to find and mark notations in notes "
   ]
  },
  {
   "cell_type": "code",
   "execution_count": null,
   "metadata": {},
   "outputs": [],
   "source": [
    "#| export\n",
    "def automatically_mark_notations(\n",
    "        vn: VaultNote, # The information note to which to mark notations.\n",
    "        learn: TextLearner, # The ML model which predicts where notation notes should occur.  This is a classifier which takes as input a str with double asterisks surrounding LaTeX text. The model outputs whether or not the single double asterisk pair surrounds a LaTeX text with notation.\n",
    "        create_notation_notes: bool = False, # If `True`, creates the notations notes for the predicted notations and links them to the 'See Also' sections of the information notes.\n",
    "        reference_name: str = '' # The name of the reference that `vn` belongs to; this is only relevant when `create_notation_notes=True` so that the created notation notes have file names starting with the reference name.\n",
    "        ) -> None:\n",
    "    # TODO: before running this, make sure to warn or check that this\n",
    "    # will change contents of files drasticall.\n",
    "    # TODO: implement `overwrite` parameter\n",
    "    \"\"\"Predict and mark where notations occur in a note, and optionally\n",
    "    create a notation note, and add the notation note to the `See Also`\n",
    "    section of the note.\n",
    "\n",
    "    Assumes that no double asterisks are already in the contents of `vn`.\n",
    "\n",
    "    This function Removes links, headings, footnotes, etc.\n",
    "    from the original note and merges multi-line display math mode LaTeX\n",
    "    text into single lines. Use with caution.\n",
    "    \"\"\"\n",
    "    no_double_asts, index_data = _notation_data_with_indices(vn, vn.vault)\n",
    "    notations_to_add = _get_notation_indices_to_add(\n",
    "        no_double_asts, index_data, learn)\n",
    "    with_double_asts = no_double_asts\n",
    "    for start, end in reversed(notations_to_add):\n",
    "        with_double_asts = add_one_double_asts_to_line(\n",
    "            with_double_asts, start, end)\n",
    "\n",
    "    original_mf = MarkdownFile.from_vault_note(vn)\n",
    "    _, end_metadata = original_mf.metadata_lines()\n",
    "    see_also_line = original_mf.get_line_number_of_heading('See Also')\n",
    "    original_mf.remove_lines(end_metadata + 1, see_also_line)\n",
    "    original_mf.insert_line(end_metadata + 1, {\n",
    "        'type': MarkdownLineEnum.HEADING, 'line': '# Topic[^1]'})\n",
    "    original_mf.add_line_in_section('Topic[^1]', {\n",
    "        'type': MarkdownLineEnum.DEFAULT, 'line': with_double_asts})\n",
    "    original_mf.write(vn)\n",
    "\n",
    "\n",
    "def _get_notation_indices_to_add(\n",
    "        no_double_asts: str, index_data: list[list[int, bool]],\n",
    "        learn: TextLearner)\\\n",
    "            -> list[tuple[int]]:\n",
    "    \"\"\"Used in `automatically_add_notations`\"\"\"\n",
    "    to_test = [add_one_double_asts_to_line(no_double_asts, start, end)\n",
    "                       for start, end, is_notat in index_data if not is_notat]\n",
    "    with learn.no_bar(), learn.no_logging():\n",
    "        predictions = [learn.predict(one_double_ast)\n",
    "                       for one_double_ast in to_test]\n",
    "    notations_to_add = [\n",
    "        (start, end) for (start, end, is_notat), prediction\n",
    "        in zip(index_data, predictions) if is_notat or prediction[0] == 'True']\n",
    "    notations_to_add.extend([\n",
    "        (start, end) for (start, end, is_notat) in index_data if is_notat])\n",
    "    notations_to_add.sort()\n",
    "    return notations_to_add\n"
   ]
  },
  {
   "cell_type": "code",
   "execution_count": null,
   "metadata": {},
   "outputs": [],
   "source": [
    "# TODO: Test "
   ]
  },
  {
   "cell_type": "code",
   "execution_count": null,
   "metadata": {},
   "outputs": [
    {
     "name": "stdout",
     "output_type": "stream",
     "text": [
      "The following is the note after the double asterisks are added, assuming that the ML model predictions are as above:\n",
      "---\n",
      "cssclass: clean-embeds\n",
      "aliases: []\n",
      "tags: [_meta/literature_note, _meta/definition, _meta/notation]\n",
      "---\n",
      "# Topic[^1]\n",
      "%%This is an example file to which  `automatcally_mark_notations` will be applied.%%\n",
      "\n",
      "Let $L/K$ be a Galois field extension. Its Galois group **$\\operatorname{Gal}(L/K)$** is defined as the group of automorphisms of $L$ fixing $K$ pointwise.\n",
      "\n",
      "# See Also\n",
      "\n",
      "# Meta\n",
      "## References\n",
      "\n",
      "## Citations and Footnotes\n",
      "[^1]: Kim, \n"
     ]
    }
   ],
   "source": [
    "with tempfile.TemporaryDirectory(prefix='tmp_dir_', dir=os.getcwd()) as tmp_dir:\n",
    "    tmp_dir = Path(tmp_dir)\n",
    "    temp_vault = tmp_dir / 'test_vault_6'\n",
    "    shutil.copytree('_tests/test_vault_6', temp_vault)\n",
    "\n",
    "    note = VaultNote(temp_vault, name='number_theory_reference_1_Definition 15')\n",
    "\n",
    "    with mock.patch('__main__.TextLearner') as mock_textlearner_class:\n",
    "        mock_textlearner = mock_textlearner_class.return_value\n",
    "        mock_textlearner.predict.side_effect = [\n",
    "            ('False', Tensor([0]), Tensor([1, 0])),\n",
    "            ('True', Tensor([0]), Tensor([0, 1])),\n",
    "            ('False', Tensor([0]), Tensor([1, 0])),\n",
    "            ('False', Tensor([0]), Tensor([1, 0])),\n",
    "            ]\n",
    "        automatically_mark_notations(note, mock_textlearner)\n",
    "        print('The following is the note after the double asterisks are added, '\n",
    "              'assuming that the ML model predictions are as above:')\n",
    "        print(note.text())\n",
    "        assert r'**$\\operatorname{Gal}(L/K)$**' in note.text()\n",
    "\n"
   ]
  },
  {
   "cell_type": "code",
   "execution_count": null,
   "metadata": {},
   "outputs": [],
   "source": [
    "# TODO: test 'w' after implementing `overwrite.`"
   ]
  },
  {
   "cell_type": "code",
   "execution_count": null,
   "metadata": {},
   "outputs": [],
   "source": [
    "# TODO: test 'a' after implementing `overwrite.`"
   ]
  },
  {
   "cell_type": "code",
   "execution_count": null,
   "metadata": {},
   "outputs": [],
   "source": [
    "# TODO: test `None` after implementing `overwrite.`"
   ]
  }
 ],
 "metadata": {
  "kernelspec": {
   "display_name": "python3",
   "language": "python",
   "name": "python3"
  }
 },
 "nbformat": 4,
 "nbformat_minor": 2
}
