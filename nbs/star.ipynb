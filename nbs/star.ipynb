{
 "cells": [
  {
   "cell_type": "code",
   "execution_count": null,
   "metadata": {},
   "outputs": [],
   "source": [
    "#| default_exp helper.packages"
   ]
  },
  {
   "cell_type": "markdown",
   "metadata": {},
   "source": [
    "# helper.packages\n",
    "> Detect whether packages are installed and install them during run-time as needed."
   ]
  },
  {
   "cell_type": "code",
   "execution_count": null,
   "metadata": {},
   "outputs": [],
   "source": [
    "#| export\n",
    "import importlib.util\n",
    "import subprocess\n",
    "import sys"
   ]
  },
  {
   "cell_type": "markdown",
   "metadata": {},
   "source": [
    "## Detect packages"
   ]
  },
  {
   "cell_type": "code",
   "execution_count": null,
   "metadata": {},
   "outputs": [],
   "source": [
    "#| export\n",
    "def check_package_installed(\n",
    "        package_name: str\n",
    "        ) -> bool:\n",
    "    if importlib.util.find_spec(package_name) is not None:\n",
    "        return True\n",
    "        # print(f\"{package_name} is installed.\")\n",
    "    else:\n",
    "        # print(f\"{package_name} is not installed.\")\n",
    "        return False\n"
   ]
  },
  {
   "cell_type": "code",
   "execution_count": null,
   "metadata": {},
   "outputs": [
    {
     "data": {
      "text/plain": [
       "True"
      ]
     },
     "execution_count": null,
     "metadata": {},
     "output_type": "execute_result"
    }
   ],
   "source": [
    "# Check for fastai and fastcore\n",
    "check_package_installed('fastai')\n",
    "check_package_installed('fastcore')"
   ]
  },
  {
   "cell_type": "code",
   "execution_count": null,
   "metadata": {},
   "outputs": [],
   "source": [
    "#| export\n",
    "def check_package_version_with_version_attribute(package_name):\n",
    "    \"\"\"Checks and returns the version of the specified package if available.\n",
    "    \n",
    "    Args:\n",
    "        package_name (str): The name of the package to check.\n",
    "\n",
    "    Returns:\n",
    "        str or None: The version of the package or None if the package is not available.\n",
    "    \"\"\"\n",
    "    # Check if the package is already imported\n",
    "    if package_name in sys.modules:\n",
    "        pkg = sys.modules[package_name]\n",
    "    else:\n",
    "        try:\n",
    "            # Import the package dynamically\n",
    "            pkg = __import__(package_name)\n",
    "        except ImportError:\n",
    "            return None  # Return None if the package is not available\n",
    "\n",
    "    # Attempt to return the version attribute\n",
    "    return getattr(pkg, '__version__', None)"
   ]
  },
  {
   "cell_type": "code",
   "execution_count": null,
   "metadata": {},
   "outputs": [],
   "source": [
    "# Example usage\n",
    "package_name = 'fastai'  # Replace with any package name you want to check\n",
    "version = check_package_version_with_version_attribute(package_name)\n",
    "if version:\n",
    "    print(f\"{package_name} version: {version}\")\n",
    "else:\n",
    "    print(f\"{package_name} is not installed or does not have a version attribute.\")"
   ]
  },
  {
   "cell_type": "markdown",
   "metadata": {},
   "source": [
    "#| export\n",
    "def check_package_version_with_version_attribute() -> "
   ]
  },
  {
   "cell_type": "markdown",
   "metadata": {},
   "source": [
    "## Install package during runtime"
   ]
  },
  {
   "cell_type": "code",
   "execution_count": null,
   "metadata": {},
   "outputs": [],
   "source": [
    "#| export\n",
    "\n",
    "def install_package(package_name: str) -> None:\n",
    "    \"\"\"Install a package using pip.\"\"\"\n",
    "    subprocess.check_call([sys.executable, '-m', 'pip', 'install', package_name])\n",
    "\n",
    "def ensure_package_installed(package_name: str) -> None:\n",
    "    \"\"\"Check if a package is installed and install it if not.\"\"\"\n",
    "    if check_package_installed(package_name):\n",
    "        print(f\"{package_name} is already installed.\")\n",
    "    else:\n",
    "        print(f\"{package_name} is not installed. Installing...\")\n",
    "        install_package(package_name)\n",
    "        print(f\"{package_name} has been installed.\")\n"
   ]
  },
  {
   "cell_type": "code",
   "execution_count": null,
   "metadata": {},
   "outputs": [],
   "source": []
  }
 ],
 "metadata": {
  "kernelspec": {
   "display_name": "trouver_py310_venv",
   "language": "python",
   "name": "trouver_py310_venv"
  }
 },
 "nbformat": 4,
 "nbformat_minor": 2
}
