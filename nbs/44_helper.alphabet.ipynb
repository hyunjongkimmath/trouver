{
 "cells": [
  {
   "cell_type": "code",
   "execution_count": null,
   "metadata": {},
   "outputs": [],
   "source": [
    "#| default_exp helper.alphabet"
   ]
  },
  {
   "cell_type": "code",
   "execution_count": null,
   "metadata": {},
   "outputs": [],
   "source": [
    "from string import ascii_uppercase"
   ]
  },
  {
   "cell_type": "markdown",
   "metadata": {},
   "source": [
    "## Alphabet\n",
    "With Greek letters typed in LaTeX, I sometimes need to interpret them like their English equivalents, e.g. `\\alpha` is like `A`, etc."
   ]
  },
  {
   "cell_type": "code",
   "execution_count": null,
   "metadata": {},
   "outputs": [],
   "source": [
    "#| export\n",
    "ALPHABET_TO_ALPHABET_GROUP_DICT = {'A': 'A-E', 'B': 'A-E', 'C': 'A-E', 'D': 'A-E', 'E': 'A-E', 'F': 'F-J', 'G': 'F-J', 'H': 'F-J', 'I': 'F-J', 'J': 'F-J', 'K': 'K-O', 'L': 'K-O', 'M': 'K-O', 'N': 'K-O', 'O': 'K-O', 'P': 'P-T', 'Q': 'P-T', 'R': 'P-T', 'S': 'P-T', 'T': 'P-T', 'U': 'U-Z', 'V': 'U-Z', 'W': 'U-Z', 'X': 'U-Z', 'Y': 'U-Z', 'Z': 'U-Z'}\n",
    "ALPHABET_OR_GREEK_TO_ALPHABET_DICT = {}\n",
    "def alphabet_to_alphabet_group(character) -> str:\n",
    "    \"\"\"\n",
    "    Returns the alphabet group\n",
    "    \n",
    "    In my vaults, I often alphabetize things and also group\n",
    "    the alphabet as follows:\n",
    "    - A-E\n",
    "    - F-J\n",
    "    - K-O\n",
    "    - P-T\n",
    "    - U-V\n",
    "    \n",
    "    **Parameters**\n",
    "    - character - str\n",
    "    \n",
    "    **Returns**\n",
    "    - str or `None`\n",
    "        - Returns `None` if `character` is not an alphabet.\n",
    "    \"\"\"\n",
    "    character = character.upper()\n",
    "    if character in ALPHABET_TO_ALPHABET_GROUP_DICT:\n",
    "        return ALPHABET_TO_ALPHABET_GROUP_DICT[character]\n",
    "    else:\n",
    "        return None\n",
    "\n",
    "def alphabet_or_latex_command_to_alphabet(character):\n",
    "    \"\"\"Returns the alphabet that the character \"corresponds to\".\n",
    "    \n",
    "    \"\"\"\n",
    "    # TODO\n",
    "    return\n",
    "\n",
    "def alphabet_or_latex_command_to_alphabet_group(character):\n",
    "    return alphabet_to_alphabet_group(\n",
    "        alphabet_or_latex_command_to_alphabet(character))"
   ]
  },
  {
   "cell_type": "code",
   "execution_count": null,
   "metadata": {},
   "outputs": [
    {
     "name": "stdout",
     "output_type": "stream",
     "text": [
      "{'A': 'A-E', 'B': 'A-E', 'C': 'A-E', 'D': 'A-E', 'E': 'A-E', 'F': 'F-J', 'G': 'F-J', 'H': 'F-J', 'I': 'F-J', 'J': 'F-J', 'K': 'K-O', 'L': 'K-O', 'M': 'K-O', 'N': 'K-O', 'O': 'K-O', 'P': 'P-T', 'Q': 'P-T', 'R': 'P-T', 'S': 'P-T', 'T': 'P-T', 'U': 'U-Z', 'V': 'U-Z', 'W': 'U-Z', 'X': 'U-Z', 'Y': 'U-Z', 'Z': 'U-Z'}\n"
     ]
    }
   ],
   "source": [
    "dicty = {}\n",
    "for c in ascii_uppercase:\n",
    "    dicty[c] = alphabet_to_alphabet_group(c)\n",
    "print(dicty)"
   ]
  }
 ],
 "metadata": {
  "kernelspec": {
   "display_name": "python3",
   "language": "python",
   "name": "python3"
  }
 },
 "nbformat": 4,
 "nbformat_minor": 2
}
