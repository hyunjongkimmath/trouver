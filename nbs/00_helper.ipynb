{
 "cells": [
  {
   "cell_type": "markdown",
   "metadata": {},
   "source": [
    "# helper\n",
    "\n",
    "> Helper functions "
   ]
  },
  {
   "cell_type": "code",
   "execution_count": null,
   "metadata": {},
   "outputs": [],
   "source": [
    "#| default_exp helper"
   ]
  },
  {
   "cell_type": "code",
   "execution_count": null,
   "metadata": {},
   "outputs": [],
   "source": [
    "#| export\n",
    "from __future__ import annotations\n",
    "from collections import OrderedDict\n",
    "from collections.abc import Iterable\n",
    "import datetime\n",
    "from datetime import timezone\n",
    "import errno\n",
    "import glob\n",
    "from graphlib import TopologicalSorter\n",
    "from itertools import product\n",
    "import os\n",
    "from os import PathLike\n",
    "from pathlib import Path\n",
    "import platform\n",
    "import re\n",
    "from typing import Callable, Optional, Pattern, Sequence, Union\n",
    "\n",
    "from deprecated import deprecated\n",
    "from natsort import natsorted"
   ]
  },
  {
   "cell_type": "code",
   "execution_count": null,
   "metadata": {},
   "outputs": [],
   "source": [
    "#| hide\n",
    "import operator\n",
    "from fastcore.test import *\n",
    "from unittest import mock"
   ]
  },
  {
   "cell_type": "code",
   "execution_count": null,
   "metadata": {},
   "outputs": [],
   "source": []
  },
  {
   "cell_type": "markdown",
   "metadata": {},
   "source": [
    "## regex"
   ]
  },
  {
   "cell_type": "code",
   "execution_count": null,
   "metadata": {},
   "outputs": [],
   "source": [
    "#| export\n",
    "def find_regex_in_text(\n",
    "        text: str, # Text in which to find regex patter\n",
    "        pattern: str | Pattern[str] # The regex pattern\n",
    "        ) -> list[tuple[int]]: # Each tuple is of the form `(a,b)` where `text[a:b]` is the regex match.\n",
    "    # TODO: rename into regex_indices_in_text\n",
    "    # TODO: swap parameters.\n",
    "    \"\"\"Return ranges in `text` where `pattern` occurs.\n",
    "    \"\"\"\n",
    "    matches = re.finditer(pattern, text)\n",
    "    return [match.span() for match in matches]"
   ]
  },
  {
   "cell_type": "markdown",
   "metadata": {},
   "source": [
    "The following example finds the occurrence of the Markdown footnote:"
   ]
  },
  {
   "cell_type": "code",
   "execution_count": null,
   "metadata": {},
   "outputs": [],
   "source": [
    "regex_pattern = r'\\[\\^\\d\\]'\n",
    "text = '[^1]: asdf'\n",
    "\n",
    "output = find_regex_in_text(text, regex_pattern)\n",
    "test_eq(output, [(0,4)])\n",
    "\n",
    "start, end = output[0]\n",
    "test_eq(text[start:end], '[^1]')"
   ]
  },
  {
   "cell_type": "markdown",
   "metadata": {},
   "source": [
    "If there are multiple matches for the regex pattern, then they are all included in the outputted list."
   ]
  },
  {
   "cell_type": "code",
   "execution_count": null,
   "metadata": {},
   "outputs": [],
   "source": [
    "regex_pattern = r'\\d+'  # Searches for one or more consecutive digits\n",
    "text = '9000 is a big number. But you know what is bigger? 9001.'\n",
    "\n",
    "output = find_regex_in_text(text, regex_pattern)\n",
    "test_eq(len(output), 2)\n",
    "\n",
    "start, end = output[0]\n",
    "test_eq(text[start:end], '9000')\n",
    "\n",
    "start, end = output[1]\n",
    "test_eq(text[start:end], '9001')"
   ]
  },
  {
   "cell_type": "markdown",
   "metadata": {},
   "source": [
    "The following example detects YAML frontmatter text as used in Obsidian. This regex pattern is also used in `markdown.markdown.file.find_front_matter_meta_in_markdown_text`.\n",
    "\n",
    "\n",
    "The regex pattern used is able to detect the frontmatter even when it is empty."
   ]
  },
  {
   "cell_type": "code",
   "execution_count": null,
   "metadata": {},
   "outputs": [],
   "source": [
    "sample_regex = r'---\\n([\\S\\s]*?)?(?(1)\\n|)---'\n",
    "sample_str = '---\\n---'\n",
    "sample_output = find_regex_in_text(sample_str, sample_regex)\n",
    "assert sample_output == [(0,7)]\n",
    "\n",
    "sample_str = '---\\naliases: [this_is_an_aliases_for_the_Obsidian_note]\\n---'\n",
    "sample_output = find_regex_in_text(sample_str, sample_regex)\n",
    "assert sample_output == [(0, len(sample_str))]  # The entire sample_str is detected.\n"
   ]
  },
  {
   "cell_type": "markdown",
   "metadata": {},
   "source": [
    "Contrast the regex pattern above with the pattern `---\\n[\\S\\s]*?\\n---`, which does not detect empty YAML frontmatter text."
   ]
  },
  {
   "cell_type": "code",
   "execution_count": null,
   "metadata": {},
   "outputs": [],
   "source": [
    "sample_regex = '---\\n[\\S\\s]*?\\n---'\n",
    "sample_str = '---\\n---'\n",
    "sample_output = find_regex_in_text(sample_str, sample_regex)\n",
    "assert not sample_output"
   ]
  },
  {
   "cell_type": "code",
   "execution_count": null,
   "metadata": {},
   "outputs": [],
   "source": [
    "#| export\n",
    "def replace_string_by_indices(\n",
    "        string: str, # String in which to make replacemenets \n",
    "        replace_ranges: Sequence[Union[Sequence[int], int]], # A list of lists/tuples of int's or a single list/tuple of int's. Each \n",
    "        replace_with: Sequence[str] | str # The str(s) which will replace the substrings at `replace_ranges` in `string`. `replace_with` must be a str exactly when `replace_ranges` is a Sequence of a single Sequence of int.\n",
    "        ) -> str:  # The str obtained by replacing the substrings at `replace_range` in `string` by the strs specified by `replace_with`.\n",
    "    \"\"\"Replace parts of ``string`` at the specified locations\"\n",
    "\n",
    "    Use this with `find_regex_in_text`.\n",
    "\n",
    "    **Parameters**\n",
    "\n",
    "    - ``string`` - `str`\n",
    "    - ``replace_ranges`` - `Sequence[Sequence[int] | int]`\n",
    "        - Either a list of lists/tuples of one or two int's. A list/tuple\n",
    "        ``[a,b]`` or ``(a,b)`` means that ``string[a:b]`` is to be replaced.\n",
    "        ``[a]`` or ``(a)`` means that ``string[a:]`` is to be replaced. The ranges should\n",
    "        not overlap and should be arranged in chronological order.\n",
    "    - ``replace_with`` - `Sequence[str] | str`\n",
    "        - The str's which will replace the parts represented by \n",
    "        ``replace_ranges``. ``replace_ranges`` and ``replace_with`` must be\n",
    "        both lists or both not lists. If they are lists, they must be of \n",
    "        the same length.\n",
    "\n",
    "    **Returns**\n",
    "\n",
    "    - str\n",
    "\n",
    "    \"\"\"\n",
    "    if isinstance(replace_with, str):\n",
    "        replace_ranges = [replace_ranges]\n",
    "        replace_with = [replace_with]\n",
    "    if len(replace_ranges) != len(replace_with):\n",
    "        raise ValueError(\n",
    "            'The lengths of `replace_ranges` and `replace_with` are different.')\n",
    "    if len(replace_ranges) == 0:\n",
    "        return string\n",
    "\n",
    "    str_parts = _str_parts(string, replace_ranges, replace_with)\n",
    "    return \"\".join(str_parts)\n",
    "\n",
    "\n",
    "def _str_parts(string, replace_ranges, replace_with):\n",
    "    \"\"\"Divide `string` into parts divided outside of `replace_ranges`\n",
    "    and with `replace_with` inserted.\"\"\"\n",
    "    str_parts = []\n",
    "    for i, replace_string in enumerate(replace_ranges):\n",
    "        replace_string = replace_with[i]\n",
    "        if i > 0 and len(replace_ranges[i-1]) == 1:\n",
    "            unreplaced_start_index = len(string)\n",
    "        elif i > 0 and len(replace_ranges[i-1]) != 1:\n",
    "            unreplaced_start_index = replace_ranges[i-1][1]\n",
    "        else:\n",
    "            unreplaced_start_index = 0\n",
    "        unreplaced_end_index = replace_ranges[i][0]\n",
    "        str_parts.append(string[unreplaced_start_index:unreplaced_end_index])\n",
    "        str_parts.append(replace_string)\n",
    "    # Add the last (unreplaced) part to str_parts.\n",
    "    if len(replace_ranges[-1]) == 1:\n",
    "        unreplaced_start_index = len(string)\n",
    "    else:\n",
    "        unreplaced_start_index = replace_ranges[-1][1]\n",
    "    str_parts.append(string[unreplaced_start_index:])\n",
    "    return str_parts"
   ]
  },
  {
   "cell_type": "markdown",
   "metadata": {},
   "source": [
    "The following are basic examples:"
   ]
  },
  {
   "cell_type": "code",
   "execution_count": null,
   "metadata": {},
   "outputs": [],
   "source": [
    "test_eq(replace_string_by_indices('hello world', replace_ranges=(0,5), replace_with='hi'), 'hi world')\n",
    "test_eq(replace_string_by_indices('hello somebody', replace_ranges=[(0,1), (6,10)], replace_with=['', '']), 'ello body')"
   ]
  },
  {
   "cell_type": "markdown",
   "metadata": {},
   "source": [
    "If `replace_ranges` and `replace_with` are of different length, then a `ValueError` is raised:"
   ]
  },
  {
   "cell_type": "code",
   "execution_count": null,
   "metadata": {},
   "outputs": [],
   "source": [
    "with ExceptionExpected(ex=ValueError, regex=\"are different\"):\n",
    "    replace_string_by_indices('hello world', replace_ranges = [(0,5), (6,10)], replace_with = [''])"
   ]
  },
  {
   "cell_type": "markdown",
   "metadata": {},
   "source": [
    "## Definitions and notations"
   ]
  },
  {
   "cell_type": "markdown",
   "metadata": {},
   "source": [
    "I surround definitions and notations by double asterisks `**`. The `double_asterisk_indices` method finds strings surrounded by double asterisks, the `notation_asterisk_indices` method finds notation str, and the `definition_asterisk_indices` method finds definition str."
   ]
  },
  {
   "cell_type": "code",
   "execution_count": null,
   "metadata": {},
   "outputs": [],
   "source": [
    "#| export\n",
    "def double_asterisk_indices(\n",
    "        text: str # the str in which to find the indices of double asterisk surrounded text.\n",
    "        ) -> list[tuple[int]]: # Each tuple is of the form `(start,end)`, where `text[start:end]` is a part in `text` with double asterisks, including the double asterisks.\n",
    "    # TODO: fix double asterisks in math mode.\n",
    "    \"\"\"Return the indices in `str` of text surrounded by double asterisks.\n",
    "    \n",
    "    Assumes there no LaTeX math mode string has double asterisks.\n",
    "\n",
    "    **See Also**\n",
    "    \n",
    "    - `notation_asterisk_indices`\n",
    "    - `definition_asterisk_indices`\n",
    "    \"\"\"\n",
    "    return find_regex_in_text(text, pattern='\\*\\*[^*]+\\*\\*')\n",
    "\n"
   ]
  },
  {
   "cell_type": "code",
   "execution_count": null,
   "metadata": {},
   "outputs": [
    {
     "data": {
      "text/plain": [
       "[(0, 8)]"
      ]
     },
     "execution_count": null,
     "metadata": {},
     "output_type": "execute_result"
    }
   ],
   "source": [
    "# |hide\n",
    "# Test double asterisks in math mode.\n",
    "text = r\"**$M^{**}$**\"  # I would like this to get the entire string, but currently, this is not the case.\n",
    "double_asterisk_indices(text)"
   ]
  },
  {
   "cell_type": "code",
   "execution_count": null,
   "metadata": {},
   "outputs": [],
   "source": [
    "#| export\n",
    "def notation_asterisk_indices(\n",
    "        text: str # the str in which to find the indices of notations surrounded by double asterisks.\n",
    "        ) -> list[tuple[int]]: # Each tuple is of the form `(start,end)`, where `text[start:end]` is a part in `text` with LaTeX math mode text with double asterisks, including the double asterisks.\n",
    "    \"\"\"Return the indices of notation text surrounded by double asterisks.\n",
    "    \n",
    "    A double-asterisk-surrounded-text is a notation almost always\n",
    "    when it is purely LaTeX math mode text. \n",
    "\n",
    "    Assumes that no LaTeX math mode string has the dollar sign character\n",
    "    within it.\n",
    "    \"\"\"\n",
    "    return find_regex_in_text(\n",
    "        text, pattern='\\*\\*\\$\\$[^$]+\\$\\$\\*\\*|\\*\\*\\$[^$]+\\$\\*\\*')\n",
    "    # I previous used this, but it was not picking up notation LaTeX str\n",
    "    # containing asterisks, e.g. `**$\\pi^*$**``, `**$\\pi_*$**`.`\n",
    "    return find_regex_in_text(\n",
    "        text, pattern='\\*\\*\\$\\$[^*$]+\\$\\$\\*\\*|\\*\\*\\$[^*$]+\\$\\*\\*')\n",
    "\n",
    "\n",
    "def definition_asterisk_indices(text: str) -> list[tuple[int]]:\n",
    "    \"\"\"Returns the indices of definition text surrounded by double asterisks.\n",
    "    \n",
    "    A double-asterisk-surrounded-text is a definition almost always\n",
    "    when it is not purely LaTeX math mode text.\n",
    "    \n",
    "    Assumes that no LaTeX math mode string has double asterisks and that no\n",
    "    LaTeX math mode string has the dollar sign character within it.\n",
    "    \"\"\"\n",
    "    all_double_asterisks = double_asterisk_indices(text)\n",
    "    notations = notation_asterisk_indices(text)\n",
    "    return [tuppy for tuppy in all_double_asterisks if tuppy not in notations]"
   ]
  },
  {
   "cell_type": "markdown",
   "metadata": {},
   "source": [
    "#### Examples"
   ]
  },
  {
   "cell_type": "markdown",
   "metadata": {},
   "source": [
    "In the following example, `scheme` and `structure sheaf` are definitions, whereas `$\\mathcal{O}_X$` is a notation:"
   ]
  },
  {
   "cell_type": "code",
   "execution_count": null,
   "metadata": {},
   "outputs": [
    {
     "name": "stdout",
     "output_type": "stream",
     "text": [
      "[(2, 12), (25, 44)]\n"
     ]
    }
   ],
   "source": [
    "text = r'A **scheme** is a... the **structure sheaf** of a scheme $X$ is the sheaf **$\\mathcal{O}_X$**.'\n",
    "listy = double_asterisk_indices(text)\n",
    "\n",
    "start, end = listy[0]\n",
    "test_eq(text[start:end], '**scheme**')\n",
    "\n",
    "start, end = listy[1]\n",
    "test_eq(text[start:end], '**structure sheaf**')\n",
    "\n",
    "start, end = listy[2]\n",
    "test_eq(text[start:end], '**$\\mathcal{O}_X$**')\n",
    "\n",
    "listy = notation_asterisk_indices(text)\n",
    "start, end = listy[0]\n",
    "test_eq(text[start:end], '**$\\mathcal{O}_X$**')\n",
    "test_eq(len(listy), 1)\n",
    "\n",
    "listy = definition_asterisk_indices(text)\n",
    "print(listy)\n",
    "test_eq(len(listy), 2)\n",
    "\n"
   ]
  },
  {
   "cell_type": "markdown",
   "metadata": {},
   "source": [
    "The following example has a definition which starts and ends with dollar sign `$` characters:"
   ]
  },
  {
   "cell_type": "code",
   "execution_count": null,
   "metadata": {},
   "outputs": [],
   "source": [
    "text = r'A **$G$-group over a ring $A$** is'\n",
    "listy = notation_asterisk_indices(text)\n",
    "test_eq(len(listy), 0)\n",
    "\n",
    "listy = definition_asterisk_indices(text)\n",
    "test(len(listy), 0, operator.ge)"
   ]
  },
  {
   "cell_type": "markdown",
   "metadata": {},
   "source": [
    "The following example tests `notation_asterisk_indices` for LaTeX str with single asterisks in them:"
   ]
  },
  {
   "cell_type": "code",
   "execution_count": null,
   "metadata": {},
   "outputs": [],
   "source": [
    "# Tests LaTeX str with asterisks in them:\n",
    "text = (r'''The **direct image of a sheaf $F^{\\prime}$ on $X_{E}^{\\prime}$** '''\n",
    "        r'''is defined to be **$\\pi_{*} F^{\\prime}=\\pi_{p} F^{\\prime}$** and the '''\n",
    "        r'''**inverse image of a sheaf $F$ on $X_{E}$** is defined to be **$\\pi^{*} F=a\\left(\\pi^{p} F\\right)$**.''')\n",
    "listy = notation_asterisk_indices(text)\n",
    "test_eq(len(listy), 2)\n",
    "start, end = listy[0]\n",
    "test_eq(text[start:end], r'**$\\pi_{*} F^{\\prime}=\\pi_{p} F^{\\prime}$**')"
   ]
  },
  {
   "cell_type": "markdown",
   "metadata": {},
   "source": [
    "There are pure LaTeX strings which should be considered definitions, but for the purposes of the code here will be considered notations. For example, Hausdorff spaces in topology are also called $T_2$ spaces:"
   ]
  },
  {
   "cell_type": "code",
   "execution_count": null,
   "metadata": {},
   "outputs": [],
   "source": [
    "text = (r\"A topological space $X$ is called **$T_2$** if for all $x,y \\in X$, \"\n",
    "        r\"there exist open neightborhoods $V$ and $W$ around $x$ and $y$ respectively \"\n",
    "        r\"such that $V \\cap W = 0$.\")\n",
    "listy = notation_asterisk_indices(text)\n",
    "test_eq(text[listy[0][0]:listy[0][1]], r'**$T_2$**')"
   ]
  },
  {
   "cell_type": "markdown",
   "metadata": {},
   "source": [
    "Unfortunately, the current implementation of the above methods do not work correctly if there are LaTeX string with double asterisks `**` within them."
   ]
  },
  {
   "cell_type": "code",
   "execution_count": null,
   "metadata": {},
   "outputs": [
    {
     "name": "stdout",
     "output_type": "stream",
     "text": [
      "The `definition_asterisk_indices` function detects the substring **$M^{** as a definition. This is incorrect!\n",
      "The `notation_asterisk_indices` function detects the substring **$M^{**}$** as a notation. I guess this is correct.\n"
     ]
    }
   ],
   "source": [
    "# TODO: If this is fixed, delete this.\n",
    "text = r'The double dual of $M$ is denoted by **$M^{**}$**.'\n",
    "listy = definition_asterisk_indices(text)\n",
    "print(f\"The `definition_asterisk_indices` function detects the substring {text[listy[0][0]:listy[0][1]]} as a definition. This is incorrect!\")\n",
    "\n",
    "listy = notation_asterisk_indices(text)\n",
    "print(f\"The `notation_asterisk_indices` function detects the substring {text[listy[0][0]:listy[0][1]]} as a notation. I guess this is correct.\")"
   ]
  },
  {
   "cell_type": "markdown",
   "metadata": {},
   "source": [
    "A workaround is to replace asterisks `*` with the LaTeX `\\ast` command:"
   ]
  },
  {
   "cell_type": "code",
   "execution_count": null,
   "metadata": {},
   "outputs": [],
   "source": [
    "text = r'The double dual of $M$ is denoted by **$M^{\\ast\\ast}$**.'\n",
    "listy = definition_asterisk_indices(text)\n",
    "test_eq(len(listy), 0)\n",
    "\n",
    "listy = notation_asterisk_indices(text)\n",
    "test_eq(len(listy), 1)\n",
    "test_eq(text[listy[0][0]:listy[0][1]], r'**$M^{\\ast\\ast}$**')"
   ]
  },
  {
   "cell_type": "code",
   "execution_count": null,
   "metadata": {},
   "outputs": [],
   "source": [
    "#| export\n",
    "def defs_and_notats_separations(\n",
    "        text: str \n",
    "        )-> list[tuple[int, bool]]:\n",
    "    \"\"\"Finds the indices in the text where double asterisks occur and\n",
    "    categorizes whether each index is for a definition or a notation.\n",
    "    \n",
    "    **Parameters**\n",
    "\n",
    "    - text - str\n",
    "\n",
    "    **Returns**\n",
    "\n",
    "    - list[tuple[int, bool]]\n",
    "        - Each tuple is of the form `(start, end, is_notation)`, where\n",
    "        `text[start:end]` is the double-asterisk surrounded string,\n",
    "        including the double asterisks.\n",
    "    \"\"\"\n",
    "    all_double_asterisks = double_asterisk_indices(text)\n",
    "    notations = notation_asterisk_indices(text)\n",
    "    return [(start, end, (start, end) in notations)\n",
    "            for start, end in all_double_asterisks]"
   ]
  },
  {
   "cell_type": "markdown",
   "metadata": {},
   "source": [
    "In the following example, the first two double-asterisk-surrounded-strings are definitions, and the third is a notation:"
   ]
  },
  {
   "cell_type": "code",
   "execution_count": null,
   "metadata": {},
   "outputs": [],
   "source": [
    "text = r'A **scheme** is a... the **structure sheaf** of a scheme $X$ is the sheaf **$\\mathcal{O}_X$**.'\n",
    "listy = defs_and_notats_separations(text)\n",
    "assert not listy[0][2]\n",
    "assert not listy[1][2]\n",
    "assert listy[2][2]"
   ]
  },
  {
   "cell_type": "markdown",
   "metadata": {},
   "source": [
    "## LaTeX string"
   ]
  },
  {
   "cell_type": "code",
   "execution_count": null,
   "metadata": {},
   "outputs": [],
   "source": [
    "#| export\n",
    "def latex_indices(text: str) -> list[tuple[int]]:\n",
    "    \"\"\"Returns the indices in the text containing LaTeX str.\n",
    "    \n",
    "    This may not work correctly if the text has a LaTeX\n",
    "    formatting issue or if any LaTeX string has a dollar sign `\\$`.\n",
    "    \n",
    "    **Parameters**\n",
    "\n",
    "    - text - str\n",
    "\n",
    "    **Returns**\n",
    "\n",
    "    - tuple[int]\n",
    "        - Each tuple is of the form `(start, end)` where\n",
    "        `text[start:end]` is a LaTeX string, including any leading trailing\n",
    "        dollar signs (`$` or `$$`).\n",
    "    \"\"\"\n",
    "    # r'(?<!\\\\)\\$.*(?<!\\\\)\\$|(?<!\\\\)\\$(?<!\\\\)\\$.*(?<!\\\\)\\$(?<!\\\\)\\$'\n",
    "    return find_regex_in_text(text, r'((?<!\\\\)\\$\\$?)[^\\$]*\\1')\n",
    "    # return find_regex_in_text(text, '\\$\\$[^\\$]*\\$\\$|\\$[^\\$]*\\$')"
   ]
  },
  {
   "cell_type": "markdown",
   "metadata": {},
   "source": [
    "Here are some basic uses:"
   ]
  },
  {
   "cell_type": "code",
   "execution_count": null,
   "metadata": {},
   "outputs": [],
   "source": [
    "text = r'$$5 \\neq 7$$ is a LaTeX equation.'\n",
    "listy = latex_indices(text)\n",
    "assert len(listy) == 1\n",
    "start, end = listy[0]\n",
    "test_eq(text[start:end], r'$$5 \\neq 7$$')\n",
    "\n",
    "text = r'$\\mathcal{O}_X$ denotes the structure sheaf.'\n",
    "listy = latex_indices(text)\n",
    "assert len(listy) == 1\n",
    "start, end = listy[0]\n",
    "test_eq(text[start:end], r'$\\mathcal{O}_X$')\n",
    "\n",
    "text = r'$$\\n5 \\neq 7\\n$$'\n",
    "listy = latex_indices(text)\n",
    "assert len(listy) == 1\n"
   ]
  },
  {
   "cell_type": "markdown",
   "metadata": {},
   "source": [
    "If there is a dollar sign symbol `\\$` *outside* of a LaTeX string, then the `latex_indices` function works as expected; the dollar signs are not considered to be part of any LaTeX string:"
   ]
  },
  {
   "cell_type": "code",
   "execution_count": null,
   "metadata": {},
   "outputs": [],
   "source": [
    "text = r'\\$6.2.4 helo blah $15+6+21$'  # Avoid detecting \\$ as latex start/end\n",
    "listy = latex_indices(text)\n",
    "start, end = listy[0]\n",
    "test_eq(text[start:end], r'$15+6+21$')"
   ]
  },
  {
   "cell_type": "markdown",
   "metadata": {},
   "source": [
    "However, the current implementation of the `latex_indices` function does not correctly detect LaTeX strings with dollar sign symbols `\\$` in them:"
   ]
  },
  {
   "cell_type": "code",
   "execution_count": null,
   "metadata": {},
   "outputs": [
    {
     "name": "stdout",
     "output_type": "stream",
     "text": [
      "$\\$\n"
     ]
    }
   ],
   "source": [
    "# TODO: delete this example if the issue is fixed.\n",
    "text = r'\\$6.2.4 helo blah $\\$37$ are needed for stuff.' \n",
    "listy = latex_indices(text)\n",
    "start, end = listy[0]\n",
    "assert len(listy) == 1\n",
    "print(text[listy[0][0]:listy[0][1]])  # This should print `$\\$`, which is at the start of `$\\$37$`.\n",
    "# assert text[start:end] == r'$\\$37$'"
   ]
  },
  {
   "cell_type": "markdown",
   "metadata": {},
   "source": [
    "## Numbers"
   ]
  },
  {
   "cell_type": "code",
   "execution_count": null,
   "metadata": {},
   "outputs": [],
   "source": [
    "#| export\n",
    "def is_number(\n",
    "        x: Union[float, int, complex, str]\n",
    "        ) -> bool:\n",
    "    \"\"\"Return `True` if the input `x` represents a number.\n",
    "    \n",
    "    This function is different from Python's built-in `is_numeric`\n",
    "    function, which returns `True` when all characters of a string\n",
    "    are digits.\n",
    "    \"\"\"\n",
    "    if isinstance(x, (float, int, complex)):\n",
    "        return True\n",
    "    #For the case where string is None\n",
    "    if x is None:\n",
    "        return False\n",
    "    if x and x[0] == '-': x = x[1:]\n",
    "    return x.replace(\".\", \"1\", 1).isdigit()"
   ]
  },
  {
   "cell_type": "code",
   "execution_count": null,
   "metadata": {},
   "outputs": [],
   "source": [
    "assert is_number(\"3.45\")\n",
    "assert is_number(1 + 5j)\n",
    "assert is_number(5)\n",
    "assert is_number(0.0)\n",
    "assert not is_number(\"3.43.55\")\n",
    "assert not is_number(\"hie\")\n",
    "assert not is_number(\"[^1]\")\n",
    "assert not is_number(None)"
   ]
  },
  {
   "cell_type": "markdown",
   "metadata": {},
   "source": [
    "## Files and folders"
   ]
  },
  {
   "cell_type": "markdown",
   "metadata": {},
   "source": [
    "#### File existence"
   ]
  },
  {
   "cell_type": "code",
   "execution_count": null,
   "metadata": {},
   "outputs": [],
   "source": [
    "#| export\n",
    "def existing_path(\n",
    "        path: PathLike,  # A file or directory path. Either absolute or relative to `relative_to`.\n",
    "        relative_to: Optional[PathLike] = None  # Path to the directory that `file` is relative to.  If `None`, then `path` is an absolute path.\n",
    "        ) -> Path: # The path formed by `relative_to` adjoined with `path`.  Defaults to `None`\n",
    "    \"\"\"Returns a path relative to a specified path as an absolute path\n",
    "    that exists.\n",
    "\n",
    "    **Raises**\n",
    "    - `FileNotFoundError`\n",
    "        - If `relative_to` is not `None` but does not exist, or if\n",
    "        `file` does not exist.\n",
    "    \n",
    "    **Notes**\n",
    "    - This function may add the string `'\\\\\\\\?\\\\'` in front, which identifies\n",
    "    very long paths.\n",
    "    \"\"\"\n",
    "    if relative_to is not None:\n",
    "        if not os.path.isabs(relative_to):\n",
    "            raise ValueError(\n",
    "                f'The parameter `relative_to` is expected to be an'\n",
    "                f' absolute path, but it is not: {relative_to}')\n",
    "        if not os.path.exists(relative_to):\n",
    "            raise FileNotFoundError(\n",
    "                errno.ENOENT, os.strerror(errno.ENOENT), relative_to)\n",
    "        path = Path(relative_to) / path\n",
    "    elif not os.path.isabs(path):\n",
    "        raise ValueError(\n",
    "            f'The parmaeter `path` is expected to be an absolute path,'\n",
    "            f' but it is not: {path}')\n",
    "    if not os.path.exists(path) and platform.system() == 'Windows':\n",
    "        path = f'\\\\\\\\?\\\\{str(path)}'  # For long file names\n",
    "    if not os.path.exists(path):\n",
    "        raise FileNotFoundError(\n",
    "            errno.ENOENT, os.strerror(errno.ENOENT), path)\n",
    "    return Path(path)\n",
    "\n",
    "\n",
    "@deprecated(reason=\"The function has been renamed to `existing_path`\")\n",
    "def file_existence_test(\n",
    "        path: PathLike,  # A file or directory path. Either absolute or relative to `relative_to`.\n",
    "        relative_to: Optional[PathLike] = None  # Path to the directory that `file` is relative to.  If `None`, then `path` is an absolute path.\n",
    "        ) -> Path: # The path formed by `relative_to` adjoined with `path`.  Defaults to `None`\n",
    "    \"\"\"Returns a path relative to a specified path as an absolute path\n",
    "    that exists.\n",
    "\n",
    "    **Raises**\n",
    "    - `FileNotFoundError`\n",
    "        - If `relative_to` is not `None` but does not exist, or if\n",
    "        `file` does not exist.\n",
    "    \n",
    "    **Notes**\n",
    "    - This function may add the string `'\\\\\\\\?\\\\'` in front, which identifies\n",
    "    very long paths.\n",
    "    \"\"\"\n",
    "    if relative_to is not None:\n",
    "        if not os.path.isabs(relative_to):\n",
    "            raise ValueError(\n",
    "                f'The parameter `relative_to` is expected to be an'\n",
    "                f' absolute path, but it is not: {relative_to}')\n",
    "        if not os.path.exists(relative_to):\n",
    "            raise FileNotFoundError(\n",
    "                errno.ENOENT, os.strerror(errno.ENOENT), relative_to)\n",
    "        path = Path(relative_to) / path\n",
    "    elif not os.path.isabs(path):\n",
    "        raise ValueError(\n",
    "            f'The parmaeter `path` is expected to be an absolute path,'\n",
    "            f' but it is not: {path}')\n",
    "    if not os.path.exists(path) and platform.system() == 'Windows':\n",
    "        path = f'\\\\\\\\?\\\\{str(path)}'  # For long file names\n",
    "    if not os.path.exists(path):\n",
    "        raise FileNotFoundError(\n",
    "            errno.ENOENT, os.strerror(errno.ENOENT), path)\n",
    "    return Path(path)"
   ]
  },
  {
   "cell_type": "markdown",
   "metadata": {},
   "source": [
    "In the following example, we `mock` an existing  "
   ]
  },
  {
   "cell_type": "code",
   "execution_count": null,
   "metadata": {},
   "outputs": [],
   "source": [
    "with (mock.patch('os.path.exists') as mock_path_exists,\n",
    "      mock.patch('os.path.isabs') as mock_is_abs):\n",
    "    mock_path_exists.return_value = True\n",
    "    mock_is_abs.retrn_value = True\n",
    "    path_1 = existing_path('mock_existing_relative_path', 'mock_existing_absolute_path')\n",
    "    test_eq(Path('mock_existing_absolute_path') / 'mock_existing_relative_path', path_1)\n"
   ]
  },
  {
   "cell_type": "markdown",
   "metadata": {},
   "source": [
    "Some basic usage:"
   ]
  },
  {
   "cell_type": "markdown",
   "metadata": {},
   "source": [
    "If the desired path is very long in Windows, then the `\\\\?\\` may be appended in front so that Python can actually find the path, cf. https://stackoverflow.com/questions/36219317/pathname-too-long-to-open:"
   ]
  },
  {
   "cell_type": "markdown",
   "metadata": {},
   "source": [
    "If the parameter `relative_to` is not `None` and not absolute, then a `ValueError` is raised:"
   ]
  },
  {
   "cell_type": "markdown",
   "metadata": {},
   "source": [
    "If the parameter `relative_to` is `None` and the paramether `path` is not absolute, then a `ValueError` is raised:"
   ]
  },
  {
   "cell_type": "markdown",
   "metadata": {},
   "source": [
    "If `relative_to` does not exist or if `path` does not exist, then a `FileNotFoundError` is raised:"
   ]
  }
 ],
 "metadata": {
  "kernelspec": {
   "display_name": "Python 3.10.6 ('trouver_py310_venv')",
   "language": "python",
   "name": "python3"
  }
 },
 "nbformat": 4,
 "nbformat_minor": 4
}
