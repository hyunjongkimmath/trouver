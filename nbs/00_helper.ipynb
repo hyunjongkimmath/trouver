{
 "cells": [
  {
   "cell_type": "markdown",
   "metadata": {},
   "source": [
    "# helper\n",
    "\n",
    "> Helper functions "
   ]
  },
  {
   "cell_type": "code",
   "execution_count": 1,
   "metadata": {},
   "outputs": [],
   "source": [
    "#| default_exp helper"
   ]
  },
  {
   "cell_type": "code",
   "execution_count": 2,
   "metadata": {},
   "outputs": [],
   "source": [
    "#| export\n",
    "from collections import OrderedDict\n",
    "from collections.abc import Iterable\n",
    "import datetime\n",
    "from datetime import timezone\n",
    "import errno\n",
    "import glob\n",
    "from graphlib import TopologicalSorter\n",
    "from itertools import product\n",
    "import os\n",
    "from os import PathLike\n",
    "from pathlib import Path\n",
    "import platform\n",
    "import re\n",
    "from typing import Callable, Optional, Pattern, Union\n",
    "\n",
    "from natsort import natsorted"
   ]
  },
  {
   "cell_type": "code",
   "execution_count": 6,
   "metadata": {
    "tags": []
   },
   "outputs": [],
   "source": [
    "#| hide\n",
    "from fastcore.test import *"
   ]
  },
  {
   "cell_type": "code",
   "execution_count": null,
   "metadata": {},
   "outputs": [],
   "source": []
  },
  {
   "cell_type": "markdown",
   "metadata": {},
   "source": [
    "## regex"
   ]
  },
  {
   "cell_type": "code",
   "execution_count": 4,
   "metadata": {},
   "outputs": [],
   "source": [
    "#| export\n",
    "def find_regex_in_text(\n",
    "        text: str, # Text in which to find regex patter\n",
    "        pattern: str | Pattern[str] # The regex pattern\n",
    "        ) -> list[tuple[int]]: # Each tuple is of the form `(a,b)` where `text[a:b]` is the regex match.\n",
    "    # TODO: rename into regex_indices_in_text\n",
    "    # TODO: swap parameters.\n",
    "    \"\"\"Return ranges in `text` where `pattern` occurs.\n",
    "    \"\"\"\n",
    "    matches = re.finditer(pattern, text)\n",
    "    return [match.span() for match in matches]"
   ]
  },
  {
   "cell_type": "markdown",
   "metadata": {},
   "source": [
    "The following example finds the occurrence of the Markdown footnote:"
   ]
  },
  {
   "cell_type": "code",
   "execution_count": 7,
   "metadata": {},
   "outputs": [],
   "source": [
    "regex_pattern = r'\\[\\^\\d\\]'\n",
    "text = '[^1]: asdf'\n",
    "\n",
    "output = find_regex_in_text(text, regex_pattern)\n",
    "test_eq(output, [(0,4)])\n",
    "\n",
    "start, end = output[0]\n",
    "test_eq(text[start:end], '[^1]')"
   ]
  },
  {
   "cell_type": "markdown",
   "metadata": {},
   "source": [
    "If there are multiple matches for the regex pattern, then they are all included in the outputted list."
   ]
  },
  {
   "cell_type": "code",
   "execution_count": null,
   "metadata": {},
   "outputs": [],
   "source": []
  },
  {
   "cell_type": "code",
   "execution_count": null,
   "metadata": {},
   "outputs": [],
   "source": []
  },
  {
   "cell_type": "code",
   "execution_count": null,
   "metadata": {},
   "outputs": [],
   "source": []
  },
  {
   "cell_type": "code",
   "execution_count": null,
   "metadata": {},
   "outputs": [],
   "source": []
  },
  {
   "cell_type": "code",
   "execution_count": null,
   "metadata": {},
   "outputs": [],
   "source": []
  }
 ],
 "metadata": {
  "kernelspec": {
   "display_name": "Python 3.10.6 ('trouver_py310_venv')",
   "language": "python",
   "name": "python3"
  },
  "language_info": {
   "codemirror_mode": {
    "name": "ipython",
    "version": 3
   },
   "file_extension": ".py",
   "mimetype": "text/x-python",
   "name": "python",
   "nbconvert_exporter": "python",
   "pygments_lexer": "ipython3",
   "version": "3.10.6"
  },
  "vscode": {
   "interpreter": {
    "hash": "e1f7e293280f53ef91bb9bbcab8b25ce4de7ee206c005f14f5a567c71643acaa"
   }
  }
 },
 "nbformat": 4,
 "nbformat_minor": 4
}
