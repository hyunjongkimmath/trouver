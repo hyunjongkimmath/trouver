{
 "cells": [
  {
   "cell_type": "markdown",
   "metadata": {},
   "source": [
    "# helper\n",
    "\n",
    "> Helper functions "
   ]
  },
  {
   "cell_type": "code",
   "execution_count": null,
   "metadata": {},
   "outputs": [],
   "source": [
    "#| default_exp helper"
   ]
  },
  {
   "cell_type": "code",
   "execution_count": null,
   "metadata": {},
   "outputs": [],
   "source": [
    "#| export\n",
    "from __future__ import annotations\n",
    "from collections import OrderedDict\n",
    "from collections.abc import Iterable\n",
    "import datetime\n",
    "from datetime import timezone\n",
    "import errno\n",
    "import glob\n",
    "from graphlib import TopologicalSorter\n",
    "from itertools import product\n",
    "import os\n",
    "from os import PathLike\n",
    "from pathlib import Path\n",
    "from pathvalidate import sanitize_filename\n",
    "import platform\n",
    "import random\n",
    "import re\n",
    "from typing import Callable, Optional, Pattern, Sequence, Union\n",
    "\n",
    "import bs4\n",
    "from bs4 import BeautifulSoup\n",
    "from deprecated import deprecated\n",
    "from natsort import natsorted"
   ]
  },
  {
   "cell_type": "code",
   "execution_count": null,
   "metadata": {},
   "outputs": [],
   "source": [
    "import operator\n",
    "from unittest import mock\n",
    "\n",
    "from pathvalidate import validate_filename\n",
    "\n",
    "from string import ascii_uppercase\n",
    "from fastcore.test import *\n",
    "from nbdev import show_doc"
   ]
  },
  {
   "cell_type": "markdown",
   "metadata": {},
   "source": [
    "## Tests"
   ]
  },
  {
   "cell_type": "code",
   "execution_count": null,
   "metadata": {},
   "outputs": [],
   "source": [
    "#| export\n",
    "def _test_directory() -> Path:\n",
    "    \"\"\"Returns the `nbs/_tests` directory of the `trouver` repository.\n",
    "    \n",
    "    Assumes that the current working directory is either the root of the\n",
    "    repository or the `nbs` folder and the `nbs/_tests` folder exists in the\n",
    "    repository but the root of the repository does not have a folder named\n",
    "    `_tests`.\n",
    "    \"\"\"\n",
    "    cwd = os.getcwd()\n",
    "    cwd_name = os.path.basename(cwd)\n",
    "    if cwd_name == 'nbs':\n",
    "        return Path(cwd) / '_tests'\n",
    "    else:\n",
    "        return Path(cwd) / 'nbs'/ '_tests'"
   ]
  },
  {
   "cell_type": "code",
   "execution_count": null,
   "metadata": {},
   "outputs": [
    {
     "data": {
      "text/markdown": [
       "---\n",
       "\n",
       "[source](https://github.com/hyunjongkimmath/trouver/blob/main/trouver/helper.py#L41){target=\"_blank\" style=\"float:right; font-size:smaller\"}\n",
       "\n",
       "### _test_directory\n",
       "\n",
       ">      _test_directory ()\n",
       "\n",
       "Returns the `nbs/_tests` directory of the `trouver` repository.\n",
       "\n",
       "Assumes that the current working directory is either the root of the\n",
       "repository or the `nbs` folder and the `nbs/_tests` folder exists in the\n",
       "repository but the root of the repository does not have a folder named\n",
       "`_tests`."
      ],
      "text/plain": [
       "---\n",
       "\n",
       "[source](https://github.com/hyunjongkimmath/trouver/blob/main/trouver/helper.py#L41){target=\"_blank\" style=\"float:right; font-size:smaller\"}\n",
       "\n",
       "### _test_directory\n",
       "\n",
       ">      _test_directory ()\n",
       "\n",
       "Returns the `nbs/_tests` directory of the `trouver` repository.\n",
       "\n",
       "Assumes that the current working directory is either the root of the\n",
       "repository or the `nbs` folder and the `nbs/_tests` folder exists in the\n",
       "repository but the root of the repository does not have a folder named\n",
       "`_tests`."
      ]
     },
     "execution_count": null,
     "metadata": {},
     "output_type": "execute_result"
    }
   ],
   "source": [
    "show_doc(_test_directory)"
   ]
  },
  {
   "cell_type": "markdown",
   "metadata": {},
   "source": [
    "Test files for `trouver` are contained in `nbs/_tests` directory within the repository. The hidden `_test_directory()` method returns this directory."
   ]
  },
  {
   "cell_type": "code",
   "execution_count": null,
   "metadata": {},
   "outputs": [],
   "source": [
    "assert os.path.exists(_test_directory())"
   ]
  },
  {
   "cell_type": "code",
   "execution_count": null,
   "metadata": {},
   "outputs": [
    {
     "data": {
      "text/plain": [
       "['empty_model_vault',\n",
       " 'latex_examples',\n",
       " 'ml_examples',\n",
       " 'test_vault_1',\n",
       " 'test_vault_10',\n",
       " 'test_vault_2',\n",
       " 'test_vault_3',\n",
       " 'test_vault_4',\n",
       " 'test_vault_5',\n",
       " 'test_vault_6',\n",
       " 'test_vault_7',\n",
       " 'test_vault_8',\n",
       " 'test_vault_9']"
      ]
     },
     "execution_count": null,
     "metadata": {},
     "output_type": "execute_result"
    }
   ],
   "source": [
    "os.listdir(_test_directory())"
   ]
  },
  {
   "cell_type": "markdown",
   "metadata": {},
   "source": [
    "## regex"
   ]
  },
  {
   "cell_type": "code",
   "execution_count": null,
   "metadata": {},
   "outputs": [],
   "source": [
    "#| export\n",
    "def find_regex_in_text(\n",
    "        text: str, # Text in which to find regex patter\n",
    "        pattern: str | Pattern[str] # The regex pattern\n",
    "        ) -> list[tuple[int, int]]: # Each tuple is of the form `(a,b)` where `text[a:b]` is the regex match.\n",
    "    # TODO: rename into regex_indices_in_text\n",
    "    # TODO: swap parameters.\n",
    "    \"\"\"Return ranges in `text` where `pattern` occurs.\n",
    "    \"\"\"\n",
    "    matches = re.finditer(pattern, text)\n",
    "    return [match.span() for match in matches]"
   ]
  },
  {
   "cell_type": "markdown",
   "metadata": {},
   "source": [
    "The following example finds the occurrence of the Markdown footnote:"
   ]
  },
  {
   "cell_type": "code",
   "execution_count": null,
   "metadata": {},
   "outputs": [],
   "source": [
    "regex_pattern = r'\\[\\^\\d\\]'\n",
    "text = '[^1]: asdf'\n",
    "\n",
    "output = find_regex_in_text(text, regex_pattern)\n",
    "test_eq(output, [(0,4)])\n",
    "\n",
    "start, end = output[0]\n",
    "test_eq(text[start:end], '[^1]')"
   ]
  },
  {
   "cell_type": "markdown",
   "metadata": {},
   "source": [
    "If there are multiple matches for the regex pattern, then they are all included in the outputted list."
   ]
  },
  {
   "cell_type": "code",
   "execution_count": null,
   "metadata": {},
   "outputs": [],
   "source": [
    "regex_pattern = r'\\d+'  # Searches for one or more consecutive digits\n",
    "text = '9000 is a big number. But you know what is bigger? 9001.'\n",
    "\n",
    "output = find_regex_in_text(text, regex_pattern)\n",
    "test_eq(len(output), 2)\n",
    "\n",
    "start, end = output[0]\n",
    "test_eq(text[start:end], '9000')\n",
    "\n",
    "start, end = output[1]\n",
    "test_eq(text[start:end], '9001')"
   ]
  },
  {
   "cell_type": "markdown",
   "metadata": {},
   "source": [
    "The following example detects YAML frontmatter text as used in Obsidian. This regex pattern is also used in `markdown.markdown.file.find_front_matter_meta_in_markdown_text`.\n",
    "\n",
    "\n",
    "The regex pattern used is able to detect the frontmatter even when it is empty."
   ]
  },
  {
   "cell_type": "code",
   "execution_count": null,
   "metadata": {},
   "outputs": [],
   "source": [
    "sample_regex = r'---\\n([\\S\\s]*?)?(?(1)\\n|)---'\n",
    "sample_str = '---\\n---'\n",
    "sample_output = find_regex_in_text(sample_str, sample_regex)\n",
    "assert sample_output == [(0,7)]\n",
    "\n",
    "sample_str = '---\\naliases: [this_is_an_aliases_for_the_Obsidian_note]\\n---'\n",
    "sample_output = find_regex_in_text(sample_str, sample_regex)\n",
    "assert sample_output == [(0, len(sample_str))]  # The entire sample_str is detected.\n"
   ]
  },
  {
   "cell_type": "markdown",
   "metadata": {},
   "source": [
    "Contrast the regex pattern above with the pattern `---\\n[\\S\\s]*?\\n---`, which does not detect empty YAML frontmatter text."
   ]
  },
  {
   "cell_type": "code",
   "execution_count": null,
   "metadata": {},
   "outputs": [],
   "source": [
    "sample_regex = '---\\n[\\S\\s]*?\\n---'\n",
    "sample_str = '---\\n---'\n",
    "sample_output = find_regex_in_text(sample_str, sample_regex)\n",
    "assert not sample_output"
   ]
  },
  {
   "cell_type": "code",
   "execution_count": null,
   "metadata": {},
   "outputs": [],
   "source": [
    "#| export\n",
    "def separate_indices_from_str(\n",
    "        text: str,\n",
    "        indices: list[tuple[int, int]] # The indices for substrings in `text` to separate.\n",
    "        ) -> list[str]: # Each str is a substring of `text`, either a substring of `text` specified by `indices`, or substrings in between the substrings specified by `indices`.\n",
    "    \"\"\"Divide `text` into parts along the substrings specified by `indices`. \n",
    "\n",
    "    Assumes that the pairs of indices specified by `indices` are in order from\n",
    "    first to last and the ranges specified by these pairs are all disjoint.\n",
    "\n",
    "    `''.join(output)` should recover `text`.\n",
    "    \"\"\"\n",
    "    if not indices:\n",
    "        return [text]\n",
    "    parts = [text[:indices[0][0]]]\n",
    "    for index_pair, next_pair in zip(indices, indices[1:]):\n",
    "        parts.append(text[index_pair[0]:index_pair[1]])\n",
    "        parts.append(text[index_pair[1]:next_pair[0]])\n",
    "    last_pair = indices[-1]\n",
    "    parts.append(text[last_pair[0]:last_pair[1]])\n",
    "    parts.append(text[last_pair[1]:])\n",
    "    return parts"
   ]
  },
  {
   "cell_type": "markdown",
   "metadata": {},
   "source": [
    "Here is a basic example of `separate_indices_from_str`:"
   ]
  },
  {
   "cell_type": "code",
   "execution_count": null,
   "metadata": {},
   "outputs": [],
   "source": [
    "text = 'hello asdf asdf'\n",
    "sample_output = separate_indices_from_str(text, [(0,5), (10,11)])\n",
    "print(sample_output)\n",
    "test_eq(''.join(sample_output), text)\n"
   ]
  },
  {
   "cell_type": "code",
   "execution_count": null,
   "metadata": {},
   "outputs": [],
   "source": [
    "#| export\n",
    "def replace_string_by_indices(\n",
    "        string: str, # String in which to make replacemenets \n",
    "        replace_ranges: Sequence[Union[Sequence[int], int]], # A list of lists/tuples of int's or a single list/tuple of int's. Each \n",
    "        replace_with: Sequence[str] | str # The str(s) which will replace the substrings at `replace_ranges` in `string`. `replace_with` must be a str exactly when `replace_ranges` is a Sequence of a single Sequence of int.\n",
    "        ) -> str:  # The str obtained by replacing the substrings at `replace_range` in `string` by the strs specified by `replace_with`.\n",
    "    \"\"\"Replace parts of ``string`` at the specified locations\"\n",
    "\n",
    "    Use this with `find_regex_in_text`.\n",
    "\n",
    "    **Parameters**\n",
    "\n",
    "    - ``string`` - `str`\n",
    "    - ``replace_ranges`` - `Sequence[Sequence[int] | int]`\n",
    "        - Either a list of lists/tuples of one or two int's. A list/tuple\n",
    "        ``[a,b]`` or ``(a,b)`` means that ``string[a:b]`` is to be replaced.\n",
    "        ``[a]`` or ``(a)`` means that ``string[a:]`` is to be replaced. The ranges should\n",
    "        not overlap and should be arranged in chronological order.\n",
    "    - ``replace_with`` - `Sequence[str] | str`\n",
    "        - The str's which will replace the parts represented by \n",
    "        ``replace_ranges``. ``replace_ranges`` and ``replace_with`` must be\n",
    "        both lists or both not lists. If they are lists, they must be of \n",
    "        the same length.\n",
    "\n",
    "    **Returns**\n",
    "\n",
    "    - str\n",
    "\n",
    "    \"\"\"\n",
    "    if isinstance(replace_with, str):\n",
    "        replace_ranges = [replace_ranges]\n",
    "        replace_with = [replace_with]\n",
    "    if len(replace_ranges) != len(replace_with):\n",
    "        raise ValueError(\n",
    "            'The lengths of `replace_ranges` and `replace_with` are different.')\n",
    "    if len(replace_ranges) == 0:\n",
    "        return string\n",
    "\n",
    "    str_parts = _str_parts(string, replace_ranges, replace_with)\n",
    "    return \"\".join(str_parts)\n",
    "\n",
    "\n",
    "def _str_parts(string, replace_ranges, replace_with):\n",
    "    \"\"\"Divide `string` into parts divided outside of `replace_ranges`\n",
    "    and with `replace_with` inserted.\"\"\"\n",
    "    str_parts = []\n",
    "    for i, replace_string in enumerate(replace_ranges):\n",
    "        replace_string = replace_with[i]\n",
    "        if i > 0 and len(replace_ranges[i-1]) == 1:\n",
    "            unreplaced_start_index = len(string)\n",
    "        elif i > 0 and len(replace_ranges[i-1]) != 1:\n",
    "            unreplaced_start_index = replace_ranges[i-1][1]\n",
    "        else:\n",
    "            unreplaced_start_index = 0\n",
    "        unreplaced_end_index = replace_ranges[i][0]\n",
    "        str_parts.append(string[unreplaced_start_index:unreplaced_end_index])\n",
    "        str_parts.append(replace_string)\n",
    "    # Add the last (unreplaced) part to str_parts.\n",
    "    if len(replace_ranges[-1]) == 1:\n",
    "        unreplaced_start_index = len(string)\n",
    "    else:\n",
    "        unreplaced_start_index = replace_ranges[-1][1]\n",
    "    str_parts.append(string[unreplaced_start_index:])\n",
    "    return str_parts"
   ]
  },
  {
   "cell_type": "markdown",
   "metadata": {},
   "source": [
    "The following are basic examples of `replace_strings_by_indices`:"
   ]
  },
  {
   "cell_type": "code",
   "execution_count": null,
   "metadata": {},
   "outputs": [],
   "source": [
    "test_eq(replace_string_by_indices('hello world', replace_ranges=(0,5), replace_with='hi'), 'hi world')\n",
    "test_eq(replace_string_by_indices('hello somebody', replace_ranges=[(0,1), (6,10)], replace_with=['', '']), 'ello body')"
   ]
  },
  {
   "cell_type": "markdown",
   "metadata": {},
   "source": [
    "If `replace_ranges` and `replace_with` are of different length, then a `ValueError` is raised:"
   ]
  },
  {
   "cell_type": "code",
   "execution_count": null,
   "metadata": {},
   "outputs": [],
   "source": [
    "with ExceptionExpected(ex=ValueError, regex=\"are different\"):\n",
    "    replace_string_by_indices('hello world', replace_ranges = [(0,5), (6,10)], replace_with = [''])"
   ]
  },
  {
   "cell_type": "markdown",
   "metadata": {},
   "source": [
    "#### Finding LaTeX string"
   ]
  },
  {
   "cell_type": "code",
   "execution_count": null,
   "metadata": {},
   "outputs": [],
   "source": [
    "#| export\n",
    "def latex_indices(\n",
    "        text: str,\n",
    "        ) -> list[tuple[int, int]]:\n",
    "    \"\"\"Returns the indices in the text containing LaTeX str.\n",
    "    \n",
    "    This may not work correctly if the text has a LaTeX\n",
    "    formatting issue or if any LaTeX string has a dollar sign `\\$`.\n",
    "    \n",
    "    **Parameters**\n",
    "\n",
    "    - text - str\n",
    "\n",
    "    **Returns**\n",
    "\n",
    "    - tuple[int]\n",
    "        - Each tuple is of the form `(start, end)` where\n",
    "        `text[start:end]` is a LaTeX string, including any leading trailing\n",
    "        dollar signs (`$` or `$$`).\n",
    "    \"\"\"\n",
    "    # r'(?<!\\\\)\\$.*(?<!\\\\)\\$|(?<!\\\\)\\$(?<!\\\\)\\$.*(?<!\\\\)\\$(?<!\\\\)\\$'\n",
    "    # return find_regex_in_text(text, '\\$\\$[^\\$]*\\$\\$|\\$[^\\$]*\\$')\n",
    "\n",
    "    # return find_regex_in_text(text, r'((?<!\\\\)\\$\\$?)[^\\$]*\\1')\n",
    "    pattern = re.compile(r\"(?<!\\\\)\\$\\$.*?(?<!\\\\)\\$\\$|(?<!\\\\)\\$.*?(?<!\\\\)\\$\", re.DOTALL)\n",
    "    return find_regex_in_text(text, pattern)\n",
    "\n",
    "\n",
    "def inline_latex_indices(\n",
    "        text: str,\n",
    "        ) -> list[tuple[int, int]]:\n",
    "    \"\"\"Returns the indices in the text containing inline LaTeX str surrounded by\n",
    "    `$$`.\n",
    "    \n",
    "    This may not work correctly if the text has a LaTeX\n",
    "    formatting issue or if any LaTeX string has a dollar sign `\\$`.\n",
    "    \n",
    "    **Parameters**\n",
    "\n",
    "    - text - str\n",
    "\n",
    "    **Returns**\n",
    "\n",
    "    - tuple[int]\n",
    "        - Each tuple is of the form `(start, end)` where\n",
    "        `text[start:end]` is a LaTeX string, including any leading trailing\n",
    "        dollar signs (`$$`).\n",
    "    \"\"\"\n",
    "    # r'(?<!\\\\)\\$.*(?<!\\\\)\\$|(?<!\\\\)\\$(?<!\\\\)\\$.*(?<!\\\\)\\$(?<!\\\\)\\$'\n",
    "    # return find_regex_in_text(text, '\\$\\$[^\\$]*\\$\\$|\\$[^\\$]*\\$')\n",
    "\n",
    "    # return find_regex_in_text(text, r'((?<!\\\\)\\$\\$?)[^\\$]*\\1')\n",
    "    pattern = re.compile(r\"(?<!\\\\)\\$\\$.*?(?<!\\\\)\\$\\$\", re.DOTALL)\n",
    "    return find_regex_in_text(text, pattern)\n",
    "\n",
    "# def math_mode_str_in_text(\n",
    "#         text: str # The str in which to find the latex math mode str.\n",
    "#         ) -> list[tuple[int, int]]: # Each tuple is of the form `(start,end)`, where `text[start:end]` is a part in `text` with LaTeX math mode text.\n",
    "#     \"\"\"\n",
    "#     Return the indices of the math mode text.\n",
    "#     \"\"\"\n",
    "#     pattern = re.compile(r\"(?<!\\\\)\\$\\$.*?(?<!\\\\)\\$\\$|(?<!\\\\)\\$.*?(?<!\\\\)\\$\", re.DOTALL)\n",
    "#     return find_regex_in_text(text, pattern)"
   ]
  },
  {
   "cell_type": "markdown",
   "metadata": {},
   "source": [
    "Here are some basic uses of the `latex_indices` function:"
   ]
  },
  {
   "cell_type": "code",
   "execution_count": null,
   "metadata": {},
   "outputs": [],
   "source": [
    "text = r'$$5 \\neq 7$$ is a LaTeX equation.'\n",
    "listy = latex_indices(text)\n",
    "assert len(listy) == 1\n",
    "start, end = listy[0]\n",
    "test_eq(text[start:end], r'$$5 \\neq 7$$')\n",
    "\n",
    "text = r'$\\mathcal{O}_X$ denotes the structure sheaf.'\n",
    "listy = latex_indices(text)\n",
    "assert len(listy) == 1\n",
    "start, end = listy[0]\n",
    "test_eq(text[start:end], r'$\\mathcal{O}_X$')\n",
    "\n",
    "text = r'$$\\n5 \\neq 7\\n$$'\n",
    "listy = latex_indices(text)\n",
    "assert len(listy) == 1\n"
   ]
  },
  {
   "cell_type": "markdown",
   "metadata": {},
   "source": [
    "If there is a dollar sign symbol `\\$` *outside* of a LaTeX string, then the `latex_indices` function works as expected; the dollar signs are not considered to be part of any LaTeX string:"
   ]
  },
  {
   "cell_type": "code",
   "execution_count": null,
   "metadata": {},
   "outputs": [],
   "source": [
    "text = r'\\$6.2.4 helo blah $15+6+21$'  # Avoid detecting \\$ as latex start/end\n",
    "listy = latex_indices(text)\n",
    "start, end = listy[0]\n",
    "test_eq(text[start:end], r'$15+6+21$')"
   ]
  },
  {
   "cell_type": "markdown",
   "metadata": {},
   "source": [
    "In the following example, the text has dollar sign symbols `\\$` which do not surround math mode text"
   ]
  },
  {
   "cell_type": "code",
   "execution_count": null,
   "metadata": {},
   "outputs": [
    {
     "name": "stdout",
     "output_type": "stream",
     "text": [
      "$\\$37$\n"
     ]
    }
   ],
   "source": [
    "text = r'\\$6.2.4 helo blah $\\$37$ are needed for stuff.' \n",
    "listy = latex_indices(text)\n",
    "start, end = listy[0]\n",
    "test_eq(len(listy), 1)\n",
    "print(text[listy[0][0]:listy[0][1]])  # This should print `$\\$`, which is at the start of `$\\$37$`.\n",
    "test_eq(text[start:end], r'$\\$37$')"
   ]
  },
  {
   "cell_type": "code",
   "execution_count": null,
   "metadata": {},
   "outputs": [],
   "source": [
    "#| export"
   ]
  },
  {
   "cell_type": "markdown",
   "metadata": {},
   "source": [
    "In the following example, note that `\\$S.10` is (correctly) not recognized as a LaTeX math mode string. Moreover, multi-line math mode strings are also recognized."
   ]
  },
  {
   "cell_type": "code",
   "execution_count": null,
   "metadata": {},
   "outputs": [
    {
     "data": {
      "text/plain": [
       "[(34, 37), (38, 42), (44, 54)]"
      ]
     },
     "execution_count": null,
     "metadata": {},
     "output_type": "execute_result"
    }
   ],
   "source": [
    "text = \"\"\"\n",
    "\\$S.10 We have some latex string $a$ $hi$\n",
    "\n",
    "$$\n",
    "asdf\n",
    "$$\n",
    "\"\"\"\n",
    "latex_indices(text)"
   ]
  },
  {
   "cell_type": "code",
   "execution_count": null,
   "metadata": {},
   "outputs": [
    {
     "name": "stdout",
     "output_type": "stream",
     "text": [
      "$a$\n",
      "$hi$\n",
      "$$\n",
      "asdf\n",
      "$$\n"
     ]
    }
   ],
   "source": [
    "print(text[34:37])\n",
    "print(text[38:42])\n",
    "print(text[44:54])"
   ]
  },
  {
   "cell_type": "code",
   "execution_count": null,
   "metadata": {},
   "outputs": [],
   "source": [
    "#| hide\n",
    "sample_output = latex_indices(text)\n",
    "expected_substrings = ['$a$', '$hi$', '$$\\nasdf\\n$$']\n",
    "for i in range(3):\n",
    "    expected_substring = expected_substrings[i]\n",
    "    start, end = sample_output[i]\n",
    "    test_eq(text[start:end], expected_substring)\n"
   ]
  },
  {
   "cell_type": "markdown",
   "metadata": {},
   "source": [
    "The `inline_latex_indices` function finds the indices only for in-line LaTeX math mode strings (which are surrounded by `$$`)"
   ]
  },
  {
   "cell_type": "code",
   "execution_count": null,
   "metadata": {},
   "outputs": [
    {
     "data": {
      "text/plain": [
       "[(44, 54)]"
      ]
     },
     "execution_count": null,
     "metadata": {},
     "output_type": "execute_result"
    }
   ],
   "source": [
    "text = \"\"\"\n",
    "\\$S.10 We have some latex string $a$ $hi$\n",
    "\n",
    "$$\n",
    "asdf\n",
    "$$\n",
    "\"\"\"\n",
    "inline_latex_indices(text)"
   ]
  },
  {
   "cell_type": "code",
   "execution_count": null,
   "metadata": {},
   "outputs": [
    {
     "name": "stdout",
     "output_type": "stream",
     "text": [
      "$$\n",
      "asdf\n",
      "$$\n"
     ]
    }
   ],
   "source": [
    "print(text[44:54])"
   ]
  },
  {
   "cell_type": "code",
   "execution_count": null,
   "metadata": {},
   "outputs": [],
   "source": [
    "#| hide\n",
    "\n",
    "sample_output = inline_latex_indices(text)\n",
    "start, end = sample_output[0]\n",
    "test_eq(text[start:end], '$$\\nasdf\\n$$')"
   ]
  },
  {
   "cell_type": "markdown",
   "metadata": {},
   "source": [
    "## HTML"
   ]
  },
  {
   "cell_type": "markdown",
   "metadata": {},
   "source": [
    "#### Consolidating special characters that are changed with the `__str__` function of `bs4.element.Tags` objects"
   ]
  },
  {
   "cell_type": "code",
   "execution_count": null,
   "metadata": {},
   "outputs": [],
   "source": [
    "#| export\n",
    "def html_tag_str(\n",
    "        html_tag: bs4.element.Tag\n",
    "        ) -> str:\n",
    "    \"\"\"\n",
    "    Return the full string of `html_tag`, accounting for \n",
    "    special characters that `bs4` changes\n",
    "    \"\"\"\n",
    "    special_chars = {'&lt;': '<', '&gt;': '>', '&amp;': '&'}\n",
    "    text_to_return = str(html_tag)\n",
    "    for special_char, replace_with in special_chars.items():\n",
    "        text_to_return = text_to_return.replace(special_char, replace_with)\n",
    "    return text_to_return"
   ]
  },
  {
   "cell_type": "markdown",
   "metadata": {},
   "source": [
    "When using the `__str__` function of `bs4.element.Tag` objects, special characters such as `<`, `>` and `&` change into `&lt;`, `&gt;` and `&amp;`, etc. The `html_tag_str` function makes it so that these characters are changed back."
   ]
  },
  {
   "cell_type": "code",
   "execution_count": null,
   "metadata": {},
   "outputs": [],
   "source": [
    "soup = BeautifulSoup('', 'html.parser')\n",
    "tag = soup.new_tag('span')\n",
    "tag.string = '&hi<'\n",
    "test_eq(html_tag_str(tag), '<span>&hi<</span>')"
   ]
  },
  {
   "cell_type": "markdown",
   "metadata": {},
   "source": [
    "#### Handling less than `<` symbols in latex math mode strings"
   ]
  },
  {
   "cell_type": "markdown",
   "metadata": {},
   "source": [
    "`BeautifulSoup`'s `html.parser` parses less than `<` symbols without a following space as the beginning of an HTML tag, even when the symbol `<` is used within a LaTeX math mode string. To get around this, we detect when this happens and add a space after these symbols."
   ]
  },
  {
   "cell_type": "code",
   "execution_count": null,
   "metadata": {},
   "outputs": [],
   "source": [
    "#| export\n",
    "def find_lt_symbols_without_space_in_math_mode(\n",
    "        text: str\n",
    "        ) -> list[int]: # The index of  \n",
    "    \"\"\"\n",
    "    Return the indices in `text` with math mode less than `<` symbols without\n",
    "    a space that follows.\n",
    "    \"\"\"\n",
    "    latex_inds = latex_indices(text)\n",
    "    lt_pattern = re.compile(r'<(?! )')\n",
    "    inds_of_lt_without_spaces_after = []\n",
    "    for start, end in latex_inds:\n",
    "        latex_str = text[start:end]\n",
    "        relative_lt_inds = find_regex_in_text(latex_str, lt_pattern)\n",
    "        inds_of_lt_without_spaces_after.extend([\n",
    "            start + relative_lt_ind for relative_lt_ind, _ in relative_lt_inds\n",
    "        ])\n",
    "    return inds_of_lt_without_spaces_after \n"
   ]
  },
  {
   "cell_type": "markdown",
   "metadata": {},
   "source": [
    "In the following example, there are a few math mode strings with less than `<` symbols. Some of these symbols are followed by spaces and others are not."
   ]
  },
  {
   "cell_type": "code",
   "execution_count": null,
   "metadata": {},
   "outputs": [
    {
     "name": "stdout",
     "output_type": "stream",
     "text": [
      "[23, 85]\n"
     ]
    }
   ],
   "source": [
    "text = r\"\"\"\n",
    "here is a math mode $a<b$. Here is another $a< b$.\n",
    "Here is an in-line one:\n",
    "\n",
    "$$ asdf <cbba$$\n",
    "\n",
    "Here is another:\n",
    "\n",
    "$$\n",
    "asdf < basdf\n",
    "$$\n",
    "\"\"\"\n",
    "output = find_lt_symbols_without_space_in_math_mode(text)\n",
    "print(output)\n",
    "test_eq(len(output), 2)\n",
    "test_eq(text[output[0] + 1], 'b')\n",
    "test_eq(text[output[1] + 1], 'c')"
   ]
  },
  {
   "cell_type": "code",
   "execution_count": null,
   "metadata": {},
   "outputs": [
    {
     "name": "stdout",
     "output_type": "stream",
     "text": [
      "[136]\n"
     ]
    }
   ],
   "source": [
    "text_2 = r\"\"\"\n",
    "<b>Now there is an HTML tag</b>. But it shouldn't be detected\n",
    "because the tag is not within math mode text.\n",
    "But this inequality is: $a <d$\n",
    "\"\"\"\n",
    "output = find_lt_symbols_without_space_in_math_mode(text_2)\n",
    "print(output)\n",
    "test_eq(len(output), 1)\n",
    "test_eq(text_2[output[0] + 1], 'd')"
   ]
  },
  {
   "cell_type": "code",
   "execution_count": null,
   "metadata": {},
   "outputs": [],
   "source": [
    "#| export\n",
    "def add_space_to_lt_symbols_without_space(\n",
    "        text: str\n",
    "        ) -> str:\n",
    "    \"\"\"Add space after less than `<` symbols if the symbol\n",
    "    is not followed by a space.\n",
    "    \"\"\"\n",
    "    lt_wo_space_inds = find_lt_symbols_without_space_in_math_mode(text)\n",
    "    lt_wo_space_ranges = [(ind, ind+1) for ind in lt_wo_space_inds]\n",
    "    return replace_string_by_indices(\n",
    "        text, replace_ranges=lt_wo_space_ranges,\n",
    "        replace_with=['< '] * len(lt_wo_space_inds))\n",
    "    "
   ]
  },
  {
   "cell_type": "markdown",
   "metadata": {},
   "source": [
    "Let us again use `text` from the example for the `find_lt_symbols_without_space_in_math_mode` function:"
   ]
  },
  {
   "cell_type": "code",
   "execution_count": null,
   "metadata": {},
   "outputs": [
    {
     "name": "stdout",
     "output_type": "stream",
     "text": [
      "\n",
      "here is a math mode $a< b$. Here is another $a< b$.\n",
      "Here is an in-line one:\n",
      "\n",
      "$$ asdf < cbba$$\n",
      "\n",
      "Here is another:\n",
      "\n",
      "$$\n",
      "asdf < basdf\n",
      "$$\n",
      "\n"
     ]
    }
   ],
   "source": [
    "print(add_space_to_lt_symbols_without_space(text))\n",
    "assert not find_lt_symbols_without_space_in_math_mode(add_space_to_lt_symbols_without_space(text))"
   ]
  },
  {
   "cell_type": "markdown",
   "metadata": {},
   "source": [
    "#### Removing HTML tags in a text and obtaining the data of the tags."
   ]
  },
  {
   "cell_type": "code",
   "execution_count": null,
   "metadata": {},
   "outputs": [],
   "source": [
    "#| export\n",
    "def remove_html_tags_in_text(\n",
    "        text: str, # The text in which to remove the HTML tags.\n",
    "        replace_with_attributes: Optional[Union[str, list[str]]] = None, # Attribute(s) within the HTML tags which should be used to replace the text of the tags. If `None`, then the texts are not replaced with the attributes. If multiple attributes are specified, then only one attribute is used to replace the text for each HTML tag (independently at random of other replacements). Each attribute's text has an equal chance of being selected for replacement. Repeats are ignored.\n",
    "        definitely_replace: bool = False, # If `True` and if a given HTML tag has an attribute specified in `replace_with_attributes`, then the text for that tag will definitely be replaced by the text of one of the attributes. Otherwise, the original text and each attribute's text have an equal chance of being selected.\n",
    "        seed: int = None # Random seed \n",
    "        ) -> tuple[str, list[tuple[bs4.element.Tag, int, int]]]: # The text `removed` without HTML tags and a list whose elements consist of the removed HTML tags and the starting and ending indices of the text corresponding to the removed tags within `removed`.\n",
    "    \"\"\"Remove the HTML tags in `text`.\n",
    "\n",
    "    HTML tags are assumed to be not nested.\n",
    "\n",
    "    \"\"\"\n",
    "    random.seed(seed)\n",
    "    parsed_soup = BeautifulSoup(text, 'html.parser')\n",
    "    replace_with_attributes = _init_replace_with_attributes(\n",
    "        replace_with_attributes)\n",
    "\n",
    "    position = 0\n",
    "    replaced_contents = []\n",
    "    for content in parsed_soup.contents:\n",
    "        position = _process_content(\n",
    "            parsed_soup, replace_with_attributes, definitely_replace, content,\n",
    "            position, replaced_contents)\n",
    "    text_to_return = html_tag_str(parsed_soup)\n",
    "    return text_to_return, replaced_contents\n",
    "\n",
    "\n",
    "def _init_replace_with_attributes(\n",
    "        replace_with_attributes: Optional[Union[str, list[str]]]\n",
    "        ) -> set[str]:\n",
    "    if replace_with_attributes is None:\n",
    "        replace_with_attributes = []\n",
    "    elif isinstance(replace_with_attributes, str):\n",
    "        replace_with_attributes = [replace_with_attributes]\n",
    "    return set(replace_with_attributes)\n",
    "\n",
    "\n",
    "def _select_replacement_text(\n",
    "        content: bs4.element.Tag,\n",
    "        replace_with_attributes: set[str],\n",
    "        definitely_replace: bool) -> str:\n",
    "    if not replace_with_attributes:\n",
    "        return content.string\n",
    "    selection_pool = []    \n",
    "    if not definitely_replace:\n",
    "        selection_pool.append(content.string)\n",
    "    for attribute, value in content.attrs.items():\n",
    "        if attribute not in replace_with_attributes:\n",
    "            continue\n",
    "        selection_pool.append(value)\n",
    "    return random.choice(selection_pool)\n",
    "\n",
    "\n",
    "def _process_content(\n",
    "        parsed_soup: BeautifulSoup,\n",
    "        replace_with_attributes: set[str],\n",
    "        definitely_replace: bool,\n",
    "        content,\n",
    "        position: int,\n",
    "        replaced_contents: list) -> int:\n",
    "    \n",
    "    if not isinstance(content, bs4.element.Tag):\n",
    "        return position + len(content)\n",
    "    replacement_text = _select_replacement_text(\n",
    "        content, replace_with_attributes, definitely_replace)\n",
    "    replaced_content = content.replace_with(\n",
    "        parsed_soup.new_string(replacement_text))\n",
    "    replaced_contents.append((\n",
    "        replaced_content,\n",
    "        position,\n",
    "        position + len(replacement_text)))\n",
    "    return position + len(replacement_text)\n",
    "    "
   ]
  },
  {
   "cell_type": "markdown",
   "metadata": {},
   "source": [
    "The `remove_html_tags_in_text` function removes HTML tags, preserving the underlying text by default."
   ]
  },
  {
   "cell_type": "code",
   "execution_count": null,
   "metadata": {},
   "outputs": [
    {
     "name": "stdout",
     "output_type": "stream",
     "text": [
      "Let $K$ be a field. An Abelian variety over $K$ is a variety that\n"
     ]
    }
   ],
   "source": [
    "html = 'Let $K$ be a field. An <b definition=\"Abelian variety over a field\">Abelian variety over $K$</b> is a variety that'\n",
    "text_without_html_tags, removed_tags = remove_html_tags_in_text(html)\n",
    "print(text_without_html_tags)\n",
    "\n",
    "test_eq(text_without_html_tags, 'Let $K$ be a field. An Abelian variety over $K$ is a variety that')"
   ]
  },
  {
   "cell_type": "markdown",
   "metadata": {},
   "source": [
    "In the following example, there is a less than `<` symbol, which is definitely not the opening of an HTML tag. The following verifies that the placeholder `&lt;` is not used to replace the less than symbol, which is what `bs4.BeautifulSoup`'s `html.parser` does."
   ]
  },
  {
   "cell_type": "code",
   "execution_count": null,
   "metadata": {},
   "outputs": [],
   "source": [
    "text = 'Hello, this has a less than symbol: $a< b$'\n",
    "text, html_tags = remove_html_tags_in_text(text)\n",
    "assert not html_tags\n",
    "assert '< ' in text\n",
    "assert 'lt' not in html_tags\n"
   ]
  },
  {
   "cell_type": "markdown",
   "metadata": {},
   "source": [
    "The same applies to the greater than `>` symbol, and `&` symbols"
   ]
  },
  {
   "cell_type": "code",
   "execution_count": null,
   "metadata": {},
   "outputs": [
    {
     "name": "stderr",
     "output_type": "stream",
     "text": [
      "c:\\Users\\hyunj\\Documents\\Development\\Python\\trouver_py310_venv\\lib\\site-packages\\bs4\\__init__.py:435: MarkupResemblesLocatorWarning: The input looks more like a filename than markup. You may want to open this file and pass the filehandle into Beautiful Soup.\n",
      "  warnings.warn(\n"
     ]
    }
   ],
   "source": [
    "text = 'Hello, this has a greater than symbol: $a>b$'\n",
    "text, html_tags = remove_html_tags_in_text(text)\n",
    "assert not html_tags\n",
    "assert '>' in text\n",
    "assert 'gt' not in html_tags\n",
    "\n",
    "text = r'Hello $$ f &= 3 \\\\ g &= 5'\n",
    "text, html_tags = remove_html_tags_in_text(text)\n",
    "assert not html_tags\n",
    "assert '&' in text\n",
    "assert '&amp;' not in html_tags"
   ]
  },
  {
   "cell_type": "markdown",
   "metadata": {},
   "source": [
    "The `remove_html_tags_in_text` function additionally returns a list with information about the tags that are removed. Each item in this list is a tuple `(tag, start, end)`, where `tag` is the tag that has been removed, and `start` and `end` are the indices within the string output `text_without_html_tags` of the function at which the text replacing the tag can be found.\n",
    "\n",
    "In the example above (continued below), there is excactly one tag that is removed."
   ]
  },
  {
   "cell_type": "code",
   "execution_count": null,
   "metadata": {},
   "outputs": [
    {
     "name": "stdout",
     "output_type": "stream",
     "text": [
      "[(<b definition=\"Abelian variety over a field\">Abelian variety over $K$</b>, 23, 47)]\n",
      "Abelian variety over $K$\n"
     ]
    }
   ],
   "source": [
    "print(removed_tags)\n",
    "removed_tag, start, end = removed_tags[0]\n",
    "print(text_without_html_tags[start:end])\n",
    "\n",
    "test_eq(text_without_html_tags[start:end], 'Abelian variety over $K$')"
   ]
  },
  {
   "cell_type": "code",
   "execution_count": null,
   "metadata": {},
   "outputs": [],
   "source": [
    "#| hide\n",
    "html = '<span>Santa</span> want to eat some popcorn for once. He does not want <div>milk and cookies today</div>. \\n And <a href=\"\">this is a link.</a>'\n",
    "text_without_html_tags, removed_tags = remove_html_tags_in_text(html)\n",
    "\n",
    "test_eq(text_without_html_tags, 'Santa want to eat some popcorn for once. He does not want milk and cookies today. \\n And this is a link.')\n",
    "test_eq(len(removed_tags), 3)\n",
    "\n",
    "removed_tag, start, end = removed_tags[0]\n",
    "test_eq(text_without_html_tags[start:end], 'Santa')\n",
    "\n",
    "removed_tag, start, end = removed_tags[1]\n",
    "test_eq(text_without_html_tags[start:end], 'milk and cookies today')\n",
    "\n",
    "removed_tag, start, end = removed_tags[2]\n",
    "test_eq(text_without_html_tags[start:end], 'this is a link.')"
   ]
  },
  {
   "cell_type": "markdown",
   "metadata": {},
   "source": [
    "The `remove_html_tags_in_text` function can be used to replace the underlying text of HTML tags with specified attribute values.\n",
    "\n",
    "In the below example, the text has a tag which contains a `typo` attribute. Passing `'typo'` to the `replace_with_attributes` parameter and passing `True` to the `definitely_replace` parameter guarantees that the value of the `typo` attribute is used instead of the text of the tag."
   ]
  },
  {
   "cell_type": "code",
   "execution_count": null,
   "metadata": {},
   "outputs": [
    {
     "name": "stdout",
     "output_type": "stream",
     "text": [
      "The following tag fixes a typo and simultaneously keeps around the data of that typo: $\\operatorname{Gul}(K)$\n"
     ]
    }
   ],
   "source": [
    "html = r'The following tag fixes a typo and simultaneously keeps around the data of that typo: <span typo=\"$\\operatorname{Gul}(K)$\">$\\operatorname{Gal}(K)$</span>'\n",
    "text_without_html_tags, removed_tags = remove_html_tags_in_text(html, replace_with_attributes='typo', definitely_replace=True)\n",
    "print(text_without_html_tags)\n",
    "\n",
    "test_eq(text_without_html_tags, 'The following tag fixes a typo and simultaneously keeps around the data of that typo: $\\\\operatorname{Gul}(K)$')\n",
    "\n",
    "removed_tag, start, end = removed_tags[0]\n",
    "test_eq(text_without_html_tags[start:end], '$\\\\operatorname{Gul}(K)$')\n"
   ]
  },
  {
   "cell_type": "markdown",
   "metadata": {},
   "source": [
    "If the `definitely_replace` parameter is `False` (which it is by default), then the original text might be preserved or it might be replaced."
   ]
  },
  {
   "cell_type": "code",
   "execution_count": null,
   "metadata": {},
   "outputs": [],
   "source": [
    "html = r'<span typo=\"$\\operatorname{Gul}(K)$\">$\\operatorname{Gal}(K)$</span>'\n",
    "possible_outputs = [\n",
    "    r'$\\operatorname{Gal}(K)$',\n",
    "    r'$\\operatorname{Gul}(K)$'\n",
    "]\n",
    "output, _ = remove_html_tags_in_text(html, replace_with_attributes='typo', definitely_replace=False)\n",
    "assert output in possible_outputs\n"
   ]
  },
  {
   "cell_type": "markdown",
   "metadata": {},
   "source": [
    "#### Adding HTML tag data"
   ]
  },
  {
   "cell_type": "markdown",
   "metadata": {},
   "source": [
    "On the other hand, we may also need to add HTML tag data to a text."
   ]
  },
  {
   "cell_type": "code",
   "execution_count": null,
   "metadata": {},
   "outputs": [],
   "source": [
    "#| export\n",
    "def add_HTML_tag_data_to_raw_text(\n",
    "        text: str, # The text onto which to add HTML tags. This is assumed to contain no HTML tags.\n",
    "        tags_and_locations: list[tuple[bs4.element.Tag, int, int]] # Each tuple consists of the tag object to add as well as the indices within `text` to. The ranges specified by the tuples are assumed to not overlap with one another.\n",
    "        ) -> str: # The modification of `text` in which the tags are added at the specified locations; the ranges in `text` are replaced..\n",
    "    \"\"\"\n",
    "    Add specified HTML tags to the specified locations/ranges in `text`.\n",
    "\n",
    "    See the `add_HTML_tag_data_to_text` function for adding HTML\n",
    "    tag data to text that may or may not already have HTML tags.\n",
    "    \"\"\"\n",
    "    # sort by starting index\n",
    "    tags_and_locations = sorted(\n",
    "        tags_and_locations, key=lambda x: x[1])\n",
    "    replace_ranges = [(start, end) for _, start, end in tags_and_locations]\n",
    "    replace_with = [html_tag_str(html_tag) for html_tag, _, _ in tags_and_locations]\n",
    "    return replace_string_by_indices(text, replace_ranges, replace_with)"
   ]
  },
  {
   "cell_type": "code",
   "execution_count": null,
   "metadata": {},
   "outputs": [
    {
     "name": "stdout",
     "output_type": "stream",
     "text": [
      "Now <span some_attr=\"hi\">this</span> will have an HTML tag. <div some_attr=\"hi\">This</div> will also have an HTML tag too!\n"
     ]
    }
   ],
   "source": [
    "text = \"Now this will have an HTML tag. This will also have an HTML tag too!\"\n",
    "tags_and_locations = [\n",
    "    (BeautifulSoup('<span some_attr=\"hi\">this</span>', 'html.parser'), 4,8),\n",
    "    (BeautifulSoup('<div some_attr=\"hi\">This</div>', 'html.parser'), 32,36)\n",
    "]\n",
    "output = add_HTML_tag_data_to_raw_text(text, tags_and_locations)\n",
    "print(output)\n",
    "test_eq(output, 'Now <span some_attr=\"hi\">this</span> will have an HTML tag. <div some_attr=\"hi\">This</div> will also have an HTML tag too!')"
   ]
  },
  {
   "cell_type": "markdown",
   "metadata": {},
   "source": [
    "Now let us look at the same example, with the order in `tags_and_locations` reversed."
   ]
  },
  {
   "cell_type": "code",
   "execution_count": null,
   "metadata": {},
   "outputs": [
    {
     "name": "stdout",
     "output_type": "stream",
     "text": [
      "Now <span some_attr=\"hi\">this</span> will have an HTML tag. <div some_attr=\"hi\">This</div> will also have an HTML tag too!\n"
     ]
    }
   ],
   "source": [
    "text = \"Now this will have an HTML tag. This will also have an HTML tag too!\"\n",
    "tags_and_locations = [\n",
    "    (BeautifulSoup('<div some_attr=\"hi\">This</div>', 'html.parser'), 32,36),\n",
    "    (BeautifulSoup('<span some_attr=\"hi\">this</span>', 'html.parser'), 4,8)\n",
    "]\n",
    "output = add_HTML_tag_data_to_raw_text(text, tags_and_locations)\n",
    "print(output)\n",
    "test_eq(output, 'Now <span some_attr=\"hi\">this</span> will have an HTML tag. <div some_attr=\"hi\">This</div> will also have an HTML tag too!')"
   ]
  },
  {
   "cell_type": "markdown",
   "metadata": {},
   "source": [
    "## Definitions and notations"
   ]
  },
  {
   "cell_type": "markdown",
   "metadata": {},
   "source": [
    "I surround definitions and notations by double asterisks `**`. The `double_asterisk_indices` method finds strings surrounded by double asterisks, the `notation_asterisk_indices` method finds notation str, and the `definition_asterisk_indices` method finds definition str."
   ]
  },
  {
   "cell_type": "code",
   "execution_count": null,
   "metadata": {},
   "outputs": [],
   "source": [
    "#| export\n",
    "def double_asterisk_indices(\n",
    "        text: str # the str in which to find the indices of double asterisk surrounded text.\n",
    "        ) -> list[tuple[int, int]]: # Each tuple is of the form `(start,end)`, where `text[start:end]` is a part in `text` with double asterisks, including the double asterisks.\n",
    "    # TODO: fix double asterisks in math mode.\n",
    "    \"\"\"Return the indices in `str` of text surrounded by double asterisks.\n",
    "    \n",
    "    Assumes there no LaTeX math mode string has double asterisks.\n",
    "\n",
    "    **See Also**\n",
    "    \n",
    "    - `notation_asterisk_indices`\n",
    "    - `definition_asterisk_indices`\n",
    "    \"\"\"\n",
    "    return find_regex_in_text(text, pattern='\\*\\*[^*]+\\*\\*')\n",
    "\n"
   ]
  },
  {
   "cell_type": "code",
   "execution_count": null,
   "metadata": {},
   "outputs": [
    {
     "data": {
      "text/plain": [
       "[(0, 8)]"
      ]
     },
     "execution_count": null,
     "metadata": {},
     "output_type": "execute_result"
    }
   ],
   "source": [
    "# |hide\n",
    "# Test double asterisks in math mode.\n",
    "text = r\"**$M^{**}$**\"  # I would like this to get the entire string, but currently, this is not the case.\n",
    "double_asterisk_indices(text)"
   ]
  },
  {
   "cell_type": "code",
   "execution_count": null,
   "metadata": {},
   "outputs": [],
   "source": [
    "#| export\n",
    "def notation_asterisk_indices(\n",
    "        text: str # the str in which to find the indices of notations surrounded by double asterisks.\n",
    "        ) -> list[tuple[int, int]]: # Each tuple is of the form `(start,end)`, where `text[start:end]` is a part in `text` with LaTeX math mode text with double asterisks, including the double asterisks.\n",
    "    \"\"\"Return the indices of notation text surrounded by double asterisks.\n",
    "    \n",
    "    A double-asterisk-surrounded-text is a notation almost always\n",
    "    when it is purely LaTeX math mode text. \n",
    "\n",
    "    Assumes that no LaTeX math mode string has the dollar sign character\n",
    "    within it.\n",
    "    \"\"\"\n",
    "    return find_regex_in_text(\n",
    "        text, pattern='\\*\\*\\$\\$[^$]+\\$\\$\\*\\*|\\*\\*\\$[^$]+\\$\\*\\*')\n",
    "    # I previous used this, but it was not picking up notation LaTeX str\n",
    "    # containing asterisks, e.g. `**$\\pi^*$**``, `**$\\pi_*$**`.`\n",
    "    return find_regex_in_text(\n",
    "        text, pattern='\\*\\*\\$\\$[^*$]+\\$\\$\\*\\*|\\*\\*\\$[^*$]+\\$\\*\\*')\n",
    "\n",
    "\n",
    "def definition_asterisk_indices(\n",
    "        text: str # The str in which to find the indices of the definitions surrounded by double asterisks.\n",
    "        ) -> list[tuple[int, int]]: # Each tuple is of the form `(start,end)`, where `text[start:end]` is a substring in `text` surrounded by double asterisks, including the double asterisks.\n",
    "    \"\"\"Return the indices of definition text surrounded by double asterisks.\n",
    "    \n",
    "    A double-asterisk-surrounded-text is a definition almost always\n",
    "    when it is not purely LaTeX math mode text.\n",
    "    \n",
    "    Assumes that no LaTeX math mode string has double asterisks and that no\n",
    "    LaTeX math mode string has the dollar sign character within it.\n",
    "    \"\"\"\n",
    "    all_double_asterisks = double_asterisk_indices(text)\n",
    "    notations = notation_asterisk_indices(text)\n",
    "    return [tuppy for tuppy in all_double_asterisks if tuppy not in notations]"
   ]
  },
  {
   "cell_type": "markdown",
   "metadata": {},
   "source": [
    "#### Examples"
   ]
  },
  {
   "cell_type": "markdown",
   "metadata": {},
   "source": [
    "In the following example, `scheme` and `structure sheaf` are definitions, whereas `$\\mathcal{O}_X$` is a notation:"
   ]
  },
  {
   "cell_type": "code",
   "execution_count": null,
   "metadata": {},
   "outputs": [
    {
     "name": "stdout",
     "output_type": "stream",
     "text": [
      "[(2, 12), (25, 44)]\n"
     ]
    }
   ],
   "source": [
    "text = r'A **scheme** is a... the **structure sheaf** of a scheme $X$ is the sheaf **$\\mathcal{O}_X$**.'\n",
    "listy = double_asterisk_indices(text)\n",
    "\n",
    "start, end = listy[0]\n",
    "test_eq(text[start:end], '**scheme**')\n",
    "\n",
    "start, end = listy[1]\n",
    "test_eq(text[start:end], '**structure sheaf**')\n",
    "\n",
    "start, end = listy[2]\n",
    "test_eq(text[start:end], '**$\\mathcal{O}_X$**')\n",
    "\n",
    "listy = notation_asterisk_indices(text)\n",
    "start, end = listy[0]\n",
    "test_eq(text[start:end], '**$\\mathcal{O}_X$**')\n",
    "test_eq(len(listy), 1)\n",
    "\n",
    "listy = definition_asterisk_indices(text)\n",
    "print(listy)\n",
    "test_eq(len(listy), 2)\n",
    "\n"
   ]
  },
  {
   "cell_type": "markdown",
   "metadata": {},
   "source": [
    "The following example has a definition which starts and ends with dollar sign `$` characters:"
   ]
  },
  {
   "cell_type": "code",
   "execution_count": null,
   "metadata": {},
   "outputs": [],
   "source": [
    "text = r'A **$G$-group over a ring $A$** is'\n",
    "listy = notation_asterisk_indices(text)\n",
    "test_eq(len(listy), 0)\n",
    "\n",
    "listy = definition_asterisk_indices(text)\n",
    "test(len(listy), 0, operator.ge)"
   ]
  },
  {
   "cell_type": "markdown",
   "metadata": {},
   "source": [
    "The following example tests `notation_asterisk_indices` for LaTeX str with single asterisks in them:"
   ]
  },
  {
   "cell_type": "code",
   "execution_count": null,
   "metadata": {},
   "outputs": [],
   "source": [
    "# Tests LaTeX str with asterisks in them:\n",
    "text = (r'''The **direct image of a sheaf $F^{\\prime}$ on $X_{E}^{\\prime}$** '''\n",
    "        r'''is defined to be **$\\pi_{*} F^{\\prime}=\\pi_{p} F^{\\prime}$** and the '''\n",
    "        r'''**inverse image of a sheaf $F$ on $X_{E}$** is defined to be **$\\pi^{*} F=a\\left(\\pi^{p} F\\right)$**.''')\n",
    "listy = notation_asterisk_indices(text)\n",
    "test_eq(len(listy), 2)\n",
    "start, end = listy[0]\n",
    "test_eq(text[start:end], r'**$\\pi_{*} F^{\\prime}=\\pi_{p} F^{\\prime}$**')"
   ]
  },
  {
   "cell_type": "markdown",
   "metadata": {},
   "source": [
    "There are pure LaTeX strings which should be considered definitions, but for the purposes of the code here will be considered notations. For example, Hausdorff spaces in topology are also called $T_2$ spaces:"
   ]
  },
  {
   "cell_type": "code",
   "execution_count": null,
   "metadata": {},
   "outputs": [],
   "source": [
    "text = (r\"A topological space $X$ is called **$T_2$** if for all $x,y \\in X$, \"\n",
    "        r\"there exist open neightborhoods $V$ and $W$ around $x$ and $y$ respectively \"\n",
    "        r\"such that $V \\cap W = 0$.\")\n",
    "listy = notation_asterisk_indices(text)\n",
    "test_eq(text[listy[0][0]:listy[0][1]], r'**$T_2$**')"
   ]
  },
  {
   "cell_type": "markdown",
   "metadata": {},
   "source": [
    "Unfortunately, the current implementation of the above methods do not work correctly if there are LaTeX string with double asterisks `**` within them."
   ]
  },
  {
   "cell_type": "code",
   "execution_count": null,
   "metadata": {},
   "outputs": [
    {
     "name": "stdout",
     "output_type": "stream",
     "text": [
      "The `definition_asterisk_indices` function detects the substring **$M^{** as a definition. This is incorrect!\n",
      "The `notation_asterisk_indices` function detects the substring **$M^{**}$** as a notation. I guess this is correct.\n"
     ]
    }
   ],
   "source": [
    "# TODO: If this is fixed, delete this.\n",
    "text = r'The double dual of $M$ is denoted by **$M^{**}$**.'\n",
    "listy = definition_asterisk_indices(text)\n",
    "print(f\"The `definition_asterisk_indices` function detects the substring {text[listy[0][0]:listy[0][1]]} as a definition. This is incorrect!\")\n",
    "\n",
    "listy = notation_asterisk_indices(text)\n",
    "print(f\"The `notation_asterisk_indices` function detects the substring {text[listy[0][0]:listy[0][1]]} as a notation. I guess this is correct.\")"
   ]
  },
  {
   "cell_type": "markdown",
   "metadata": {},
   "source": [
    "A workaround is to replace asterisks `*` with the LaTeX `\\ast` command:"
   ]
  },
  {
   "cell_type": "code",
   "execution_count": null,
   "metadata": {},
   "outputs": [],
   "source": [
    "text = r'The double dual of $M$ is denoted by **$M^{\\ast\\ast}$**.'\n",
    "listy = definition_asterisk_indices(text)\n",
    "test_eq(len(listy), 0)\n",
    "\n",
    "listy = notation_asterisk_indices(text)\n",
    "test_eq(len(listy), 1)\n",
    "test_eq(text[listy[0][0]:listy[0][1]], r'**$M^{\\ast\\ast}$**')"
   ]
  },
  {
   "cell_type": "code",
   "execution_count": null,
   "metadata": {},
   "outputs": [],
   "source": [
    "#| export\n",
    "def defs_and_notats_separations(\n",
    "        text: str \n",
    "        )-> list[tuple[int, bool]]:\n",
    "    \"\"\"Finds the indices in the text where double asterisks occur and\n",
    "    categorizes whether each index is for a definition or a notation.\n",
    "    \n",
    "    **Parameters**\n",
    "\n",
    "    - text - str\n",
    "\n",
    "    **Returns**\n",
    "\n",
    "    - list[tuple[int, bool]]\n",
    "        - Each tuple is of the form `(start, end, is_notation)`, where\n",
    "        `text[start:end]` is the double-asterisk surrounded string,\n",
    "        including the double asterisks.\n",
    "    \"\"\"\n",
    "    all_double_asterisks = double_asterisk_indices(text)\n",
    "    notations = notation_asterisk_indices(text)\n",
    "    return [(start, end, (start, end) in notations)\n",
    "            for start, end in all_double_asterisks]"
   ]
  },
  {
   "cell_type": "markdown",
   "metadata": {},
   "source": [
    "In the following example, the first two double-asterisk-surrounded-strings are definitions, and the third is a notation:"
   ]
  },
  {
   "cell_type": "code",
   "execution_count": null,
   "metadata": {},
   "outputs": [],
   "source": [
    "text = r'A **scheme** is a... the **structure sheaf** of a scheme $X$ is the sheaf **$\\mathcal{O}_X$**.'\n",
    "listy = defs_and_notats_separations(text)\n",
    "assert not listy[0][2]\n",
    "assert not listy[1][2]\n",
    "assert listy[2][2]"
   ]
  },
  {
   "cell_type": "markdown",
   "metadata": {},
   "source": [
    "## Numbers"
   ]
  },
  {
   "cell_type": "code",
   "execution_count": null,
   "metadata": {},
   "outputs": [],
   "source": [
    "#| export\n",
    "def is_number(\n",
    "        x: Union[float, int, complex, str]\n",
    "        ) -> bool:\n",
    "    \"\"\"Return `True` if the input `x` represents a number.\n",
    "    \n",
    "    This function is different from Python's built-in `is_numeric`\n",
    "    function, which returns `True` when all characters of a string\n",
    "    are digits.\n",
    "    \"\"\"\n",
    "    if isinstance(x, (float, int, complex)):\n",
    "        return True\n",
    "    #For the case where string is None\n",
    "    if x is None:\n",
    "        return False\n",
    "    if x and x[0] == '-': x = x[1:]\n",
    "    return x.replace(\".\", \"1\", 1).isdigit()"
   ]
  },
  {
   "cell_type": "code",
   "execution_count": null,
   "metadata": {},
   "outputs": [],
   "source": [
    "assert is_number(\"3.45\")\n",
    "assert is_number(1 + 5j)\n",
    "assert is_number(5)\n",
    "assert is_number(0.0)\n",
    "assert not is_number(\"3.43.55\")\n",
    "assert not is_number(\"hie\")\n",
    "assert not is_number(\"[^1]\")\n",
    "assert not is_number(None)"
   ]
  },
  {
   "cell_type": "markdown",
   "metadata": {},
   "source": [
    "## Accented characters"
   ]
  },
  {
   "cell_type": "markdown",
   "metadata": {},
   "source": [
    "## Files and folders"
   ]
  },
  {
   "cell_type": "markdown",
   "metadata": {},
   "source": [
    "#### File existence"
   ]
  },
  {
   "cell_type": "code",
   "execution_count": null,
   "metadata": {},
   "outputs": [],
   "source": [
    "#| export\n",
    "def existing_path(\n",
    "        path: PathLike,  # A file or directory path. Either absolute or relative to `relative_to`.\n",
    "        relative_to: Optional[PathLike] = None  # Path to the directory that `file` is relative to.  If `None`, then `path` is an absolute path.\n",
    "        ) -> Path: # The path formed by `relative_to` adjoined with `path`.  Defaults to `None`\n",
    "    \"\"\"Returns a path relative to a specified path as an absolute path\n",
    "    that exists.\n",
    "\n",
    "    **Raises**\n",
    "\n",
    "    - `FileNotFoundError`\n",
    "        - If `relative_to` is not `None` but does not exist, or if\n",
    "        `file` does not exist.\n",
    "    - `ValueError`\n",
    "        - If `relative_to` is not `None` and yet not an absolute path, or\n",
    "        if `relative_to` is `None` at yet `path` is not an absolute path.\n",
    "    \n",
    "    **Notes**\n",
    "    - This function may add the string `'\\\\\\\\?\\\\'` in front, which identifies\n",
    "    very long paths.\n",
    "    \"\"\"\n",
    "    if relative_to is not None:\n",
    "        if not os.path.isabs(relative_to):\n",
    "            raise ValueError(\n",
    "                f'The parameter `relative_to` is expected to be an'\n",
    "                f' absolute path, but it is not: {relative_to}')\n",
    "        if not os.path.exists(relative_to):\n",
    "            raise FileNotFoundError(\n",
    "                errno.ENOENT, os.strerror(errno.ENOENT), relative_to)\n",
    "        path = Path(relative_to) / path\n",
    "    elif not os.path.isabs(path):\n",
    "        raise ValueError(\n",
    "            f'The parameter `path` is expected to be an absolute path,'\n",
    "            f' but it is not: {path}')\n",
    "    if not os.path.exists(path) and platform.system() == 'Windows':\n",
    "        path = f'\\\\\\\\?\\\\{str(path)}'  # For long file names\n",
    "    if not os.path.exists(path):\n",
    "        raise FileNotFoundError(\n",
    "            errno.ENOENT, os.strerror(errno.ENOENT), path)\n",
    "    return Path(path)\n",
    "\n",
    "\n",
    "@deprecated(reason=\"The function has been renamed to `existing_path`\")\n",
    "def file_existence_test(\n",
    "        path: PathLike,  # A file or directory path. Either absolute or relative to `relative_to`.\n",
    "        relative_to: Optional[PathLike] = None  # Path to the directory that `file` is relative to.  If `None`, then `path` is an absolute path.\n",
    "        ) -> Path: # The path formed by `relative_to` adjoined with `path`.  Defaults to `None`\n",
    "    \"\"\"\n",
    "    **Deprecated. Use `existing_path` instead.**\n",
    "    \n",
    "    Returns a path relative to a specified path as an absolute path\n",
    "    that exists.\n",
    "\n",
    "    **Raises**\n",
    "    - `FileNotFoundError`\n",
    "        - If `relative_to` is not `None` but does not exist, or if\n",
    "        `file` does not exist.\n",
    "    \n",
    "    **Notes**\n",
    "    - This function may add the string `'\\\\\\\\?\\\\'` in front, which identifies\n",
    "    very long paths.\n",
    "    \"\"\"\n",
    "    if relative_to is not None:\n",
    "        if not os.path.isabs(relative_to):\n",
    "            raise ValueError(\n",
    "                f'The parameter `relative_to` is expected to be an'\n",
    "                f' absolute path, but it is not: {relative_to}')\n",
    "        if not os.path.exists(relative_to):\n",
    "            raise FileNotFoundError(\n",
    "                errno.ENOENT, os.strerror(errno.ENOENT), relative_to)\n",
    "        path = Path(relative_to) / path\n",
    "    elif not os.path.isabs(path):\n",
    "        raise ValueError(\n",
    "            f'The parmaeter `path` is expected to be an absolute path,'\n",
    "            f' but it is not: {path}')\n",
    "    if not os.path.exists(path) and platform.system() == 'Windows':\n",
    "        path = f'\\\\\\\\?\\\\{str(path)}'  # For long file names\n",
    "    if not os.path.exists(path):\n",
    "        raise FileNotFoundError(\n",
    "            errno.ENOENT, os.strerror(errno.ENOENT), path)\n",
    "    return Path(path)"
   ]
  },
  {
   "cell_type": "markdown",
   "metadata": {},
   "source": [
    "In the following example, the `existing_path` method returns an existing absolute path $p_2 \\backslash p_1$ which is equivalent to a specified path $p_1$ relative to an existing absolute path $p_2$. Note that all paths and `os` methods are mocked:"
   ]
  },
  {
   "cell_type": "code",
   "execution_count": null,
   "metadata": {},
   "outputs": [],
   "source": [
    "with (mock.patch('os.path.exists') as mock_path_exists,\n",
    "      mock.patch('os.path.isabs') as mock_is_abs):\n",
    "    mock_path_exists.return_value = True\n",
    "    mock_is_abs.return_value = True\n",
    "    path_1 = existing_path('mock_existing_relative_path', 'mock_existing_absolute_path')\n",
    "    test_eq(Path('mock_existing_absolute_path') / 'mock_existing_relative_path', path_1)\n"
   ]
  },
  {
   "cell_type": "markdown",
   "metadata": {},
   "source": [
    "If the desired path is very long in Windows, then the `\\\\?\\` may be appended in front of the absolute path so that Python can actually find the path, cf. https://stackoverflow.com/questions/36219317/pathname-too-long-to-open:"
   ]
  },
  {
   "cell_type": "code",
   "execution_count": null,
   "metadata": {},
   "outputs": [
    {
     "name": "stdout",
     "output_type": "stream",
     "text": [
      "hi\n"
     ]
    }
   ],
   "source": [
    "# TODO provide an example\n",
    "with (mock.patch('os.path.exists') as mock_path_exists,\n",
    "      mock.patch('os.path.isabs') as mock_is_abs):\n",
    "  print('hi') "
   ]
  },
  {
   "cell_type": "markdown",
   "metadata": {},
   "source": [
    "If the parameter `relative_to`, which is supposed to be an absolute path, is not `None` and not absolute, then a `ValueError` is raised:"
   ]
  },
  {
   "cell_type": "code",
   "execution_count": null,
   "metadata": {},
   "outputs": [],
   "source": [
    "with (ExceptionExpected(ex=ValueError, regex='absolute path'),\n",
    "      mock.patch('os.path.exists') as mock_path_exists,\n",
    "      mock.patch('os.path.isabs') as mock_is_abs):\n",
    "    mock_is_abs.return_value = False\n",
    "    path = 'mock_relative_path_that_is_not_None'\n",
    "    relative_to = 'mock_non_absolute_path'\n",
    "    existing_path('mock_relative_to_that_is_not_None', relative_to)\n",
    "\n",
    "\n",
    "with (ExceptionExpected(ex=ValueError, regex='absolute path'),\n",
    "      mock.patch('os.path.exists') as mock_path_exists,\n",
    "      mock.patch('os.path.isabs') as mock_is_abs):\n",
    "    mock_is_abs.return_value = False\n",
    "    # It does not matter what `path`` is - as long as `relative_to`` is not `None` and not absolute, the ValueError is raised.\n",
    "    path = None  \n",
    "    relative_to = 'mock_non_absolute_path'\n",
    "    existing_path('mock_relative_to_that_is_not_None', relative_to)"
   ]
  },
  {
   "cell_type": "code",
   "execution_count": null,
   "metadata": {},
   "outputs": [
    {
     "name": "stdout",
     "output_type": "stream",
     "text": [
      "False\n",
      "False\n",
      "False\n"
     ]
    }
   ],
   "source": [
    "# |hide \n",
    "# I am verifying that a mock method's return value is constant if it is not reset \n",
    "with (mock.patch('os.path.isabs') as mock_is_abs):\n",
    "    mock_is_abs.return_value = False\n",
    "    print(mock_is_abs())\n",
    "    print(mock_is_abs())\n",
    "    print(mock_is_abs())"
   ]
  },
  {
   "cell_type": "markdown",
   "metadata": {},
   "source": [
    "If the parameter `relative_to` is `None` and the paramether `path` is not absolute, then a `ValueError` is raised:"
   ]
  },
  {
   "cell_type": "code",
   "execution_count": null,
   "metadata": {},
   "outputs": [],
   "source": [
    "with (ExceptionExpected(ex=ValueError, regex='absolute path'),\n",
    "      mock.patch('os.path.isabs') as mock_is_abs):\n",
    "    mock_is_abs.return_value = False\n",
    "    relative_to = None\n",
    "    path = 'mock_non_absolute_path'\n",
    "    existing_path(path, relative_to)"
   ]
  },
  {
   "cell_type": "markdown",
   "metadata": {},
   "source": [
    "If `relative_to` does not exist or if `path` does not exist, then a `FileNotFoundError` is raised:"
   ]
  },
  {
   "cell_type": "code",
   "execution_count": null,
   "metadata": {},
   "outputs": [],
   "source": [
    "# In this example, both `relative_to` and `path` are specified, and `relative_to`\n",
    "# is a non-existent path.`\n",
    "with (ExceptionExpected(ex=FileNotFoundError),\n",
    "      mock.patch('os.path.exists') as mock_path_exists,\n",
    "      mock.patch('os.path.isabs') as mock_is_abs):\n",
    "    relative_to = 'mock_non_existent_absolute_path'\n",
    "    path = 'mock_some_relative_path'\n",
    "    def relative_to_does_not_exist(path_to_check):\n",
    "      return False if path_to_check is relative_to else True\n",
    "    def relative_to_is_absolute_path(path_to_check):\n",
    "      return True if path_to_check is relative_to else False\n",
    "\n",
    "    mock_path_exists.side_effect = relative_to_does_not_exist\n",
    "    mock_is_abs.side_effect = relative_to_is_absolute_path\n",
    "    existing_path(path, relative_to)\n",
    "\n",
    "\n",
    "# In this example, both `relative_to` and `path` are specified, and `path`\n",
    "# is a non-existent path.`, whereas `relative_to` exists.\n",
    "with (ExceptionExpected(ex=FileNotFoundError),\n",
    "      mock.patch('os.path.exists') as mock_path_exists,\n",
    "      mock.patch('os.path.isabs') as mock_is_abs):\n",
    "    relative_to = 'mock_existent_absolute_path'\n",
    "    path = 'mock_non_existent_relative_path'\n",
    "    def only_relative_to_exists(path_to_check):\n",
    "      # only `relative_to` exists; all other paths of interest do not exist.\n",
    "      return path_to_check is relative_to\n",
    "    def relative_to_is_absolute_path(path_to_check):\n",
    "      return True if path_to_check is relative_to else False\n",
    "\n",
    "    mock_path_exists.side_effect = only_relative_to_exists\n",
    "    mock_is_abs.side_effect = relative_to_is_absolute_path\n",
    "    existing_path(path, relative_to)\n"
   ]
  },
  {
   "cell_type": "markdown",
   "metadata": {},
   "source": [
    "#### Paths without extensions"
   ]
  },
  {
   "cell_type": "code",
   "execution_count": null,
   "metadata": {},
   "outputs": [],
   "source": [
    "#| export\n",
    "def path_name_no_ext(\n",
    "        path: PathLike # The path of the file or directory. This may be absolute or relative to any directory.\n",
    "        ) -> str: # The name of the file or directory without the extension.\n",
    "    \"\"\"Return the name of a file or directory from its path without the\n",
    "    extension.\n",
    "    \n",
    "    The file or directory does not have to exist.\n",
    "    \"\"\"\n",
    "    name_with_extension = os.path.basename(path)\n",
    "    return os.path.splitext(name_with_extension)[0]"
   ]
  },
  {
   "cell_type": "markdown",
   "metadata": {},
   "source": [
    "Basic usage:"
   ]
  },
  {
   "cell_type": "code",
   "execution_count": null,
   "metadata": {},
   "outputs": [],
   "source": [
    "path = Path('hypothetical_directory')\n",
    "test_eq(path_name_no_ext(path / 'hypothetical_subdirectory'),  'hypothetical_subdirectory')\n",
    "test_eq(path_name_no_ext(path / 'hypotehtical_subdirectory' / 'hypothetical_file.md'),  'hypothetical_file')"
   ]
  },
  {
   "cell_type": "markdown",
   "metadata": {},
   "source": [
    "The path does not have to exist."
   ]
  },
  {
   "cell_type": "code",
   "execution_count": null,
   "metadata": {},
   "outputs": [],
   "source": [
    "test_eq(path_name_no_ext(path / 'this_folder_does_not_exist'), 'this_folder_does_not_exist')"
   ]
  },
  {
   "cell_type": "markdown",
   "metadata": {},
   "source": [
    "On paths to files with \"multiple extensions\", the function returns the file name without the last extension only."
   ]
  },
  {
   "cell_type": "code",
   "execution_count": null,
   "metadata": {},
   "outputs": [],
   "source": [
    "test_eq(path_name_no_ext('archived_file_somewhere.7z.zip.tar'),  'archived_file_somewhere.7z.zip')"
   ]
  },
  {
   "cell_type": "code",
   "execution_count": null,
   "metadata": {},
   "outputs": [],
   "source": [
    "#| export\n",
    "def path_no_ext(\n",
    "    path: PathLike # The path of the file or directory. This may be absolute or relative to any directory.\n",
    "    ) -> str: # The path of the file or directory without the extension. If `path` is a path to a directory, then the output should be essentially the same as `path`.\n",
    "    \"\"\"Returns the path of a file or directory without the extension.\n",
    "    \n",
    "    The file or directory does not have to exist.\n",
    "    \"\"\"\n",
    "    return os.path.splitext(str(path))[0]"
   ]
  },
  {
   "cell_type": "markdown",
   "metadata": {},
   "source": [
    "Basic usage - the path does not have to exist:"
   ]
  },
  {
   "cell_type": "code",
   "execution_count": null,
   "metadata": {},
   "outputs": [],
   "source": [
    "assert path_no_ext('C:\\\\hi') == 'C:\\\\hi'\n",
    "assert path_no_ext('greetings\\\\file.txt') == 'greetings\\\\file'"
   ]
  },
  {
   "cell_type": "markdown",
   "metadata": {},
   "source": [
    "#### Read text from file"
   ]
  },
  {
   "cell_type": "code",
   "execution_count": null,
   "metadata": {},
   "outputs": [],
   "source": [
    "#| export\n",
    "def text_from_file(\n",
    "        path: PathLike, # The absolute path of the file.\n",
    "        encoding: str = 'utf8' # The encoding of the file to be read. Defaults to `'utf8'`.\n",
    "        ) -> str: # The entire text from a file\n",
    "    \"\"\"Return the entire text from a file.\n",
    "\n",
    "    Assuems that the file can be encoded in the specified `encoding`\n",
    "    \"\"\"\n",
    "    with open(path, 'r', encoding=encoding) as file:\n",
    "        text = file.read()\n",
    "        file.close()\n",
    "    return text"
   ]
  },
  {
   "cell_type": "markdown",
   "metadata": {},
   "source": [
    "The `text_from_file` method is a quick method to extract the text from a file."
   ]
  },
  {
   "cell_type": "code",
   "execution_count": null,
   "metadata": {},
   "outputs": [],
   "source": [
    "# TODO: examples/tests"
   ]
  },
  {
   "cell_type": "code",
   "execution_count": null,
   "metadata": {},
   "outputs": [],
   "source": [
    "#| export\n",
    "def files_of_format_sorted(\n",
    "        directory: PathLike, # The directory in which to find the files\n",
    "        extension: str = 'txt' # Extension of the files to find. Defaults to 'txt'.\n",
    "        ) -> list[str]:\n",
    "    \"\"\"Return a list of path str of files in the directory (but not subdirectories)\n",
    "    sorted via `natsort`.\n",
    "    \"\"\"\n",
    "    return natsorted(glob.glob(str(Path(directory) / f'*.{extension}')))"
   ]
  },
  {
   "cell_type": "markdown",
   "metadata": {},
   "source": [
    "In the following example, we mock a folder with numbered files. `files_of_format_sorted` returns them in the \"natural\" order."
   ]
  },
  {
   "cell_type": "code",
   "execution_count": null,
   "metadata": {},
   "outputs": [
    {
     "name": "stdout",
     "output_type": "stream",
     "text": [
      "[Path('some_directory/1.txt'), Path('some_directory/2.txt'), Path('some_directory/3.txt'), Path('some_directory/4.txt'), Path('some_directory/5.txt'), Path('some_directory/6.txt'), Path('some_directory/7.txt'), Path('some_directory/8.txt'), Path('some_directory/9.txt'), Path('some_directory/10.txt')]\n"
     ]
    }
   ],
   "source": [
    "with (mock.patch('glob.glob') as mock_glob):\n",
    "    mock_directory = Path('some_directory')\n",
    "    # `glob_results`` is not sorted in \"natural\" order. \n",
    "    glob_results = [mock_directory / f'{i}.txt' for i in range (10,0, -1)]\n",
    "    mock_glob.return_value = glob_results\n",
    "\n",
    "    # mock to make sure that natsorted was called.\n",
    "    with mock.patch(__name__ + '.natsorted') as mock_natsorted:\n",
    "      mock_files = files_of_format_sorted(mock_directory)\n",
    "      mock_natsorted.assert_called_with(mock_glob.return_value)\n",
    "\n",
    "    # Now print out that the files are sorted in \"natural\" order.\n",
    "    mock_files = files_of_format_sorted(mock_directory)\n",
    "    print(mock_files)\n",
    "    test_shuffled(glob_results, mock_files)"
   ]
  },
  {
   "cell_type": "markdown",
   "metadata": {},
   "source": [
    "## Date and time"
   ]
  },
  {
   "cell_type": "code",
   "execution_count": null,
   "metadata": {},
   "outputs": [],
   "source": [
    "#| export\n",
    "def current_time_formatted_to_minutes(\n",
    "        ) -> str:\n",
    "    \"\"\"Return the current time to minutes.\n",
    "\n",
    "    **Returns**\n",
    "\n",
    "    - str\n",
    "        - In UTC time, to minutes.\n",
    "    \"\"\"\n",
    "    dt = datetime.datetime.now(timezone.utc)\n",
    "    formatted = dt.isoformat(timespec='minutes')\n",
    "    return formatted[:16]"
   ]
  },
  {
   "cell_type": "markdown",
   "metadata": {},
   "source": [
    "The `current_time_formatted_to_minutes` function is a convenience function that returns a string formatting current UTC time:"
   ]
  },
  {
   "cell_type": "code",
   "execution_count": null,
   "metadata": {},
   "outputs": [
    {
     "name": "stdout",
     "output_type": "stream",
     "text": [
      "2024-03-24T14:35\n"
     ]
    }
   ],
   "source": [
    "time_str = current_time_formatted_to_minutes()\n",
    "print(time_str)"
   ]
  },
  {
   "cell_type": "markdown",
   "metadata": {},
   "source": [
    "Use the `dattime.dattime.fromisoformat` function to convert back the formatted string to a `datetime.datetime` object:"
   ]
  },
  {
   "cell_type": "code",
   "execution_count": null,
   "metadata": {},
   "outputs": [],
   "source": [
    "dt = datetime.datetime.fromisoformat(time_str)"
   ]
  },
  {
   "cell_type": "markdown",
   "metadata": {},
   "source": [
    "## Topological sort"
   ]
  },
  {
   "cell_type": "code",
   "execution_count": null,
   "metadata": {},
   "outputs": [],
   "source": [
    "# TODO: reformat the parameter specifications and add examples."
   ]
  },
  {
   "cell_type": "markdown",
   "metadata": {},
   "source": [
    "It is sometimes convenient to topological sort."
   ]
  },
  {
   "cell_type": "code",
   "execution_count": null,
   "metadata": {},
   "outputs": [],
   "source": [
    "#| export\n",
    "def containing_string_priority(str1: str, str2: str) -> int:\n",
    "    \"\"\"Returns 1, 0, -1 depending on whether one string contains the other.\n",
    "    \n",
    "    TODO make the string containment criterion looser, e.g. finite Galois etale cover\n",
    "    \"contains\" finite etale cover.\n",
    "    \n",
    "    **Parameters**\n",
    "    - str1 - str\n",
    "    - str2 - str\n",
    "    \"\"\"\n",
    "    if str2 in str1:\n",
    "        return -1\n",
    "    elif str1 in str2:\n",
    "        return 1\n",
    "    else:\n",
    "        # return len(str2) - len(str1)\n",
    "        return 0\n",
    "\n",
    "\n",
    "def default_str_comparison(str1: str, str2: str) -> int:\n",
    "    \"\"\"\n",
    "    \n",
    "    **Parameters**\n",
    "    - str1 - str\n",
    "    - str2 - str\n",
    "    \"\"\"\n",
    "    if str1 > str2:\n",
    "        return 1\n",
    "    elif str1 < str2:\n",
    "        return -1\n",
    "    else:\n",
    "        return 0\n",
    "\n",
    "\n",
    "def natsort_comparison(str1: str, str2: str) -> int:\n",
    "    \"\"\"\n",
    "    \n",
    "    **Parameters**\n",
    "    - str1 - str\n",
    "    - str2 - str\n",
    "    \"\"\"\n",
    "    if str1 == str2:\n",
    "        return 0\n",
    "    listy = [str1, str2]\n",
    "    natsorted(listy)\n",
    "    if listy[0] == str1:\n",
    "        return -1\n",
    "    else:\n",
    "        return 1"
   ]
  },
  {
   "cell_type": "code",
   "execution_count": null,
   "metadata": {},
   "outputs": [],
   "source": [
    "#| export\n",
    "def graph_for_topological_sort(\n",
    "        items_to_sort: Iterable[str],\n",
    "        key_order: Callable[[str, str], int]) -> dict[str, set[str]]:\n",
    "    \"\"\"\n",
    "    **Parameters**\n",
    "    - items_to_sort - Iterable[str]\n",
    "    - key_order: Callable[[str, str], int]\n",
    "        - Comparing str1 against str2 results in a positive number if\n",
    "        str1 is \"greater\" than str2 (i.e. str1 is of a later priority)\n",
    "    \n",
    "    **Returns**\n",
    "    - dict[str, set[str]]\n",
    "        - A dict whose keys are the elements `k` of `items_to_sort` and\n",
    "        whose values are sets of elements `k2` of `items_to_sort` such that\n",
    "        `key_order(k, k2) > 0`.\n",
    "    \"\"\"\n",
    "    graph = dict()\n",
    "    for key_1, key_2 in product(items_to_sort, items_to_sort):\n",
    "        # print(key_1, key_2)\n",
    "        if key_1 == key_2:\n",
    "            continue\n",
    "        # print(key_1, key_2)\n",
    "        # print(key_order(key_1, key_2))\n",
    "        if key_1 not in graph:\n",
    "            graph[key_1] = set()\n",
    "        if key_order(key_1, key_2) > 0:\n",
    "            graph[key_1].add(key_2)\n",
    "    return graph"
   ]
  },
  {
   "cell_type": "code",
   "execution_count": null,
   "metadata": {},
   "outputs": [],
   "source": [
    "#| export\n",
    "def dict_with_keys_topologically_sorted(\n",
    "        dict_to_sort: dict[str],\n",
    "        key_order: Callable[[str, str], int],\n",
    "        reverse: bool = False) -> OrderedDict[str]:\n",
    "    \"\"\"Returns an OrderedDict whose keys are sorted topologically by\n",
    "    the specified key order.\n",
    "    \n",
    "    **Parameters**\n",
    "    - dict_to_sort - dict[str]\n",
    "        - The dict whose keys need to be ordered.\n",
    "    - key_order\n",
    "        - The comparison function on the keys of `dict_to_sort`. Defaults to\n",
    "        the key function for the comparison ``containing_string_priority``.\n",
    "    - reverse - bool\n",
    "        - Defaults to `False`\n",
    "        \n",
    "    **Returns**\n",
    "    - OrderedDict[str]\n",
    "    \"\"\"\n",
    "    graph = graph_for_topological_sort(dict_to_sort, key_order)\n",
    "    ts = TopologicalSorter(graph)\n",
    "    keys_ordered = list(ts.static_order())\n",
    "    if reverse:\n",
    "        keys_ordered = list(reversed(keys_ordered))\n",
    "    return OrderedDict((key, dict_to_sort[key]) for key in keys_ordered)\n"
   ]
  },
  {
   "cell_type": "code",
   "execution_count": null,
   "metadata": {},
   "outputs": [],
   "source": [
    "# TODO: test"
   ]
  },
  {
   "cell_type": "markdown",
   "metadata": {},
   "source": [
    "## Alphabet\n",
    "With Greek letters typed in LaTeX, I sometimes need to interpret them like their English equivalents, e.g. `\\alpha` is like `A`, etc."
   ]
  },
  {
   "cell_type": "code",
   "execution_count": null,
   "metadata": {},
   "outputs": [],
   "source": [
    "#| export\n",
    "ALPHABET_TO_ALPHABET_GROUP_DICT = {'A': 'A-E', 'B': 'A-E', 'C': 'A-E', 'D': 'A-E', 'E': 'A-E', 'F': 'F-J', 'G': 'F-J', 'H': 'F-J', 'I': 'F-J', 'J': 'F-J', 'K': 'K-O', 'L': 'K-O', 'M': 'K-O', 'N': 'K-O', 'O': 'K-O', 'P': 'P-T', 'Q': 'P-T', 'R': 'P-T', 'S': 'P-T', 'T': 'P-T', 'U': 'U-Z', 'V': 'U-Z', 'W': 'U-Z', 'X': 'U-Z', 'Y': 'U-Z', 'Z': 'U-Z'}\n",
    "ALPHABET_OR_GREEK_TO_ALPHABET_DICT = {}\n",
    "def alphabet_to_alphabet_group(character) -> str:\n",
    "    \"\"\"\n",
    "    Returns the alphabet group\n",
    "    \n",
    "    In my vaults, I often alphabetize things and also group\n",
    "    the alphabet as follows:\n",
    "    - A-E\n",
    "    - F-J\n",
    "    - K-O\n",
    "    - P-T\n",
    "    - U-V\n",
    "    \n",
    "    **Parameters**\n",
    "    - character - str\n",
    "    \n",
    "    **Returns**\n",
    "    - str or `None`\n",
    "        - Returns `None` if `character` is not an alphabet.\n",
    "    \"\"\"\n",
    "    character = character.upper()\n",
    "    if character in ALPHABET_TO_ALPHABET_GROUP_DICT:\n",
    "        return ALPHABET_TO_ALPHABET_GROUP_DICT[character]\n",
    "    else:\n",
    "        return None\n",
    "\n",
    "def alphabet_or_latex_command_to_alphabet(character):\n",
    "    \"\"\"Returns the alphabet that the character \"corresponds to\".\n",
    "    \n",
    "    \"\"\"\n",
    "    # TODO\n",
    "    return\n",
    "\n",
    "def alphabet_or_latex_command_to_alphabet_group(character):\n",
    "    return alphabet_to_alphabet_group(\n",
    "        alphabet_or_latex_command_to_alphabet(character))"
   ]
  },
  {
   "cell_type": "code",
   "execution_count": null,
   "metadata": {},
   "outputs": [
    {
     "name": "stdout",
     "output_type": "stream",
     "text": [
      "{'A': 'A-E', 'B': 'A-E', 'C': 'A-E', 'D': 'A-E', 'E': 'A-E', 'F': 'F-J', 'G': 'F-J', 'H': 'F-J', 'I': 'F-J', 'J': 'F-J', 'K': 'K-O', 'L': 'K-O', 'M': 'K-O', 'N': 'K-O', 'O': 'K-O', 'P': 'P-T', 'Q': 'P-T', 'R': 'P-T', 'S': 'P-T', 'T': 'P-T', 'U': 'U-Z', 'V': 'U-Z', 'W': 'U-Z', 'X': 'U-Z', 'Y': 'U-Z', 'Z': 'U-Z'}\n"
     ]
    }
   ],
   "source": [
    "dicty = {}\n",
    "for c in ascii_uppercase:\n",
    "    dicty[c] = alphabet_to_alphabet_group(c)\n",
    "print(dicty)"
   ]
  },
  {
   "cell_type": "markdown",
   "metadata": {},
   "source": [
    "## Getting a path-valid string from a string containing latex"
   ]
  },
  {
   "cell_type": "code",
   "execution_count": null,
   "metadata": {},
   "outputs": [],
   "source": [
    "#| export\n",
    "CHARACTER_ORDERING_LIST =\\\n",
    "    ['A', 'a', r'\\Alpha', r'\\alpha', 'B', 'b', r'\\Beta', r'\\beta', 'C', 'c', r'\\Gamma',\n",
    "     r'\\gamma', 'D', 'd', r'\\Delta', r'\\delta', 'E', 'e', r'\\Epsilon', r'\\epsilon',\n",
    "     'F', 'f', 'G', 'g', 'H', 'h', r'\\Eta', r'\\eta', 'I', 'i', r'\\Iota', r'\\iota',\n",
    "     'J', 'j', 'K', 'k', r'\\Kappa', r'\\kappa', 'L', 'l', r'\\Lambda', r'\\lambda', 'M',\n",
    "     'm', r'\\Mu', r'\\mu', 'N', 'n', r'\\Nu', r'\\nu', 'O', 'o', r'\\Omicron', r'\\omicron'\n",
    "     'P', 'p', r'\\Pi', r'\\pi', r'\\Phi', r'\\phi', r'\\Psi', r'\\psi', 'Q', 'q', 'R', 'r', \n",
    "     r'\\Rho', r'\\rho', 'S', 's', r'\\Sigma', r'\\sigma', 'T', 't', r'\\Theta', r'\\theta',\n",
    "     r'\\Tau', r'\\tau', 'U', 'u', r'\\Upsilon', r'\\upsilon', 'V', 'v', 'W', 'w', r'\\Omega', r'\\omega',\n",
    "     'X', 'x', '\\Chi', '\\chi', 'Y', 'y', 'Z', 'z', '\\Zeta', '\\zeta', '*', r'\\bullet']\n",
    "DECORATING_CHARACTERS =\\\n",
    "    [r'\\tilde', r'\\hat', r'\\overline', r'\\bar', r'\\mathscr', r'\\mathcal',\n",
    "     r'\\mathfrak', r'\\\\operatorname', r'\\\\text', r'\\\\bf']\n",
    "NONEFFECTIVE_CHARACTERS =\\\n",
    "    ['^', '_', '{', '}', '(', ')', '[', ']']"
   ]
  },
  {
   "cell_type": "code",
   "execution_count": null,
   "metadata": {},
   "outputs": [],
   "source": [
    "#| export\n",
    "TO_REMOVE = [\n",
    "    '.', '$', ':', '?', '!', '#', '%', '&',\n",
    "    '<', '>', '*', '?', '\"', '@', '`', '|',  \n",
    "    'mathscr', 'mathbf', 'mathrm', 'mathfrak', 'mathcal', 'mathbb', 'operatorname',\n",
    "    'boldsymbol', 'bf',\n",
    "    'text', 'begin', 'end', 'equation' , 'aligned', 'array', 'pmatrix', 'bmatrix',\n",
    "    'quad', 'longrightarrow', 'rightarrow', 'left', 'right', 'longmapsto', 'mapsto',\n",
    "    'stackrel']\n",
    "TO_UNDERSCORE = [' ', '-', '^', '(', ',', '/', '{', '}', '[', ']', '(', ')', '\\\\', '=',]\n",
    "TO_SUBSTITUTE = {\n",
    "    '*': 'star',\n",
    "    '+': 'plus',\n",
    "    'leqslant': 'leq',\n",
    "    'geqslant': 'geq',\n",
    "    '\\'': '_prime'\n",
    "}\n",
    "\n",
    "# TODO: make a universal latex to path string; it seems that latex.convert\n",
    "# might do something different when naming files.\n",
    "\n",
    "def latex_to_path_accepted_string(latex: str) -> str:\n",
    "    \"\"\"Convert a latex string to a path accepted string\n",
    "    \"\"\"\n",
    "    for to_underscore in TO_UNDERSCORE:\n",
    "        latex, _ = re.subn(re.escape(to_underscore), '_', latex)\n",
    "    for symbol_to_substitute, substitute_with in TO_SUBSTITUTE.items():\n",
    "        latex, _ = re.subn(re.escape(symbol_to_substitute), substitute_with, latex)\n",
    "    for to_remove in TO_REMOVE:\n",
    "        latex, _ = re.subn(re.escape(to_remove), '', latex)\n",
    "    latex, _ = re.subn('_+', '_', latex)\n",
    "    latex, _ = re.subn('^_', '', latex)\n",
    "    latex, _ = re.subn('_$', '', latex)\n",
    "    latex = sanitize_filename(latex)\n",
    "    return latex"
   ]
  },
  {
   "cell_type": "code",
   "execution_count": null,
   "metadata": {},
   "outputs": [
    {
     "name": "stdout",
     "output_type": "stream",
     "text": [
      "star_R_Lambda\n",
      "d_1_d_2\n",
      "Delta_q_n_0_leq_n_leq_q_1\n",
      "A_prime\n",
      "A_prod\n",
      "F_p_G_G_ll_a_b_c_d_ll_a_p_b_p_c_p_d_p\n",
      "Delta_m_n_Delta_n_L_m\n",
      "F_q_plus_chiplus_O_times_k_times\n",
      "sqrt_alpha_0_1_q_sum_z_in_F_q_times_alpha_0_z_chi_plus_z\n",
      "label_escape_rate_G_F_t_z_w_lim_n_to_infty_frac_1_d_n_log_F_t_n_z_w\n"
     ]
    }
   ],
   "source": [
    "#| hide\n",
    "sample_1 = r'{ }^* \\mathscr{R}_{\\Lambda}'\n",
    "output_1 = latex_to_path_accepted_string(sample_1)\n",
    "print(output_1)\n",
    "validate_filename(output_1)\n",
    "\n",
    "sample_2 = r'\\\\left(d_1, d_2\\\\right)'\n",
    "output_2 = latex_to_path_accepted_string(sample_2)\n",
    "print(output_2)\n",
    "validate_filename(output_2)\n",
    "\n",
    "sample_3 = r'\\left(\\Delta_q(n)\\right)_0 \\leqslant n \\leqslant q-1'\n",
    "output_3 = latex_to_path_accepted_string(sample_3)\n",
    "print(output_3)\n",
    "validate_filename(output_3)\n",
    "\n",
    "sample_4 = r\"A'\"\n",
    "output_4 = latex_to_path_accepted_string(sample_4)\n",
    "print(output_4)\n",
    "validate_filename(output_4)\n",
    "\n",
    "sample_4 = r\"A = \\prod\"\n",
    "output_4 = latex_to_path_accepted_string(sample_4)\n",
    "print(output_4)\n",
    "validate_filename(output_4)\n",
    "\n",
    "sample_5 = r\"\\begin{aligned}  & F_p: \\quad \\mathbf{G} \\longrightarrow \\mathbf{G} \\\\  & \\left(\\begin{array}{ll}  a & b \\\\  c & d  \\end{array}\\right) \\longmapsto\\left(\\begin{array}{ll}  a^p & b^p \\\\  c^p & d^p  \\end{array}\\right) \\\\  &  \\end{aligned}\"\n",
    "output_5 = latex_to_path_accepted_string(sample_5)\n",
    "print(output_5)\n",
    "validate_filename(output_5)\n",
    "\n",
    "sample_6 = r\"\\boldsymbol{\\Delta}_{m, n}=[\\Delta(n): L(m)]\"\n",
    "output_6 = latex_to_path_accepted_string(sample_6)\n",
    "print(output_6)\n",
    "validate_filename(output_6)\n",
    "\n",
    "sample_7 = r\"$\\mathbb{F}_q^{+} \\stackrel{\\chi+}{\\longrightarrow} \\mathscr{O}^{\\times} \\longrightarrow k^{\\times}$\"\n",
    "output_7 = latex_to_path_accepted_string(sample_7)\n",
    "print(output_7)\n",
    "validate_filename(output_7)\n",
    "\n",
    "sample_8 = r\"$\\sqrt{\\alpha_0(-1) q}=\\sum_{z \\in \\mathbb{F}_q^{\\times}} \\alpha_0(z) \\chi_{+}(z)$\"\n",
    "output_8 = latex_to_path_accepted_string(sample_8)\n",
    "print(output_8)\n",
    "validate_filename(output_8)\n",
    "\n",
    "sample_9 = r\"$$\\begin{equation} \\label{escape rate} \tG_{F_t}(z,w) = \\lim_{n\\to\\infty} \\frac{1}{d^n} \\log \\| F_t^n(z,w) \\|, \\end{equation}$$\"\n",
    "output_9 = latex_to_path_accepted_string(sample_9)\n",
    "print(output_9)\n",
    "validate_filename(output_9)\n",
    "validate_filename(output_9)"
   ]
  },
  {
   "cell_type": "markdown",
   "metadata": {},
   "source": [
    "The `latex_to_path_accepted_string` function \"cleans\" a latex str into a path-valid string for the purposes of making files."
   ]
  },
  {
   "cell_type": "code",
   "execution_count": null,
   "metadata": {},
   "outputs": [
    {
     "name": "stdout",
     "output_type": "stream",
     "text": [
      "O_X\n",
      "Gal_L_K\n",
      "label_escape_rate_G_F_t_z_w_lim_n_to_infty_frac_1_d_n_log_F_t_n_z_w\n"
     ]
    }
   ],
   "source": [
    "sample_1 = r'\\mathcal{O}_X'\n",
    "output_1 = latex_to_path_accepted_string(sample_1)\n",
    "print(output_1)\n",
    "assert 'O' in output_1 and 'X' in output_1\n",
    "validate_filename(output_1)\n",
    "\n",
    "sample_2 = r'\\operatorname{Gal}(L/K)'\n",
    "output_2 = latex_to_path_accepted_string(sample_2)\n",
    "print(output_2)\n",
    "assert 'Gal' in output_2 and 'L' in output_2 and 'K' in output_2\n",
    "validate_filename(output_2)\n",
    "\n",
    "# Example found in https://arxiv.org/abs/1607.04471\n",
    "sample_3 = r'\\begin{equation} \\label{escape rate} \tG_{F_t}(z,w) = \\lim_{n\\to\\infty} \\frac{1}{d^n} \\log \\| F_t^n(z,w) \\|, \\end{equation}'\n",
    "output_3 = latex_to_path_accepted_string(sample_3)\n",
    "print(output_3)\n",
    "validate_filename(output_3)\n"
   ]
  }
 ],
 "metadata": {
  "kernelspec": {
   "display_name": "python3",
   "language": "python",
   "name": "python3"
  }
 },
 "nbformat": 4,
 "nbformat_minor": 4
}
