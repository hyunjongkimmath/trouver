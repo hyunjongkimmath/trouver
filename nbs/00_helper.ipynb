{
 "cells": [
  {
   "cell_type": "markdown",
   "metadata": {},
   "source": [
    "# helper\n",
    "\n",
    "> Helper functions "
   ]
  },
  {
   "cell_type": "code",
   "execution_count": null,
   "metadata": {},
   "outputs": [],
   "source": [
    "#| default_exp helper"
   ]
  },
  {
   "cell_type": "code",
   "execution_count": null,
   "metadata": {},
   "outputs": [],
   "source": [
    "#| export\n",
    "from __future__ import annotations\n",
    "from collections import OrderedDict\n",
    "from collections.abc import Iterable\n",
    "import datetime\n",
    "from datetime import timezone\n",
    "import errno\n",
    "import glob\n",
    "from graphlib import TopologicalSorter\n",
    "from itertools import product\n",
    "import os\n",
    "from os import PathLike\n",
    "from pathlib import Path\n",
    "import platform\n",
    "import re\n",
    "from typing import Callable, Optional, Pattern, Sequence, Union\n",
    "\n",
    "from natsort import natsorted"
   ]
  },
  {
   "cell_type": "code",
   "execution_count": null,
   "metadata": {},
   "outputs": [],
   "source": [
    "#| hide\n",
    "from fastcore.test import *"
   ]
  },
  {
   "cell_type": "code",
   "execution_count": null,
   "metadata": {},
   "outputs": [],
   "source": []
  },
  {
   "cell_type": "markdown",
   "metadata": {},
   "source": [
    "## regex"
   ]
  },
  {
   "cell_type": "code",
   "execution_count": null,
   "metadata": {},
   "outputs": [],
   "source": [
    "#| export\n",
    "def find_regex_in_text(\n",
    "        text: str, # Text in which to find regex patter\n",
    "        pattern: str | Pattern[str] # The regex pattern\n",
    "        ) -> list[tuple[int]]: # Each tuple is of the form `(a,b)` where `text[a:b]` is the regex match.\n",
    "    # TODO: rename into regex_indices_in_text\n",
    "    # TODO: swap parameters.\n",
    "    \"\"\"Return ranges in `text` where `pattern` occurs.\n",
    "    \"\"\"\n",
    "    matches = re.finditer(pattern, text)\n",
    "    return [match.span() for match in matches]"
   ]
  },
  {
   "cell_type": "markdown",
   "metadata": {},
   "source": [
    "The following example finds the occurrence of the Markdown footnote:"
   ]
  },
  {
   "cell_type": "code",
   "execution_count": null,
   "metadata": {},
   "outputs": [],
   "source": [
    "regex_pattern = r'\\[\\^\\d\\]'\n",
    "text = '[^1]: asdf'\n",
    "\n",
    "output = find_regex_in_text(text, regex_pattern)\n",
    "test_eq(output, [(0,4)])\n",
    "\n",
    "start, end = output[0]\n",
    "test_eq(text[start:end], '[^1]')"
   ]
  },
  {
   "cell_type": "markdown",
   "metadata": {},
   "source": [
    "If there are multiple matches for the regex pattern, then they are all included in the outputted list."
   ]
  },
  {
   "cell_type": "code",
   "execution_count": null,
   "metadata": {},
   "outputs": [],
   "source": [
    "regex_pattern = r'\\d+'  # Searches for one or more consecutive digits\n",
    "text = '9000 is a big number. But you know what is bigger? 9001.'\n",
    "\n",
    "output = find_regex_in_text(text, regex_pattern)\n",
    "test_eq(len(output), 2)\n",
    "\n",
    "start, end = output[0]\n",
    "test_eq(text[start:end], '9000')\n",
    "\n",
    "start, end = output[1]\n",
    "test_eq(text[start:end], '9001')"
   ]
  },
  {
   "cell_type": "markdown",
   "metadata": {},
   "source": [
    "The following example detects YAML frontmatter text as used in Obsidian. This regex pattern is also used in `markdown.markdown.file.find_front_matter_meta_in_markdown_text`.\n",
    "\n",
    "> TODO: see if a link to the above backticked text is rendered.\n",
    "\n",
    "The regex pattern used is able to detect the frontmatter even when it is empty."
   ]
  },
  {
   "cell_type": "code",
   "execution_count": null,
   "metadata": {},
   "outputs": [],
   "source": [
    "sample_regex = r'---\\n([\\S\\s]*?)?(?(1)\\n|)---'\n",
    "sample_str = '---\\n---'\n",
    "sample_output = find_regex_in_text(sample_str, sample_regex)\n",
    "assert sample_output == [(0,7)]\n",
    "\n",
    "sample_str = '---\\naliases: [this_is_an_aliases_for_the_Obsidian_note]\\n---'\n",
    "sample_output = find_regex_in_text(sample_str, sample_regex)\n",
    "assert sample_output == [(0, len(sample_str))]  # The entire sample_str is detected.\n"
   ]
  },
  {
   "cell_type": "markdown",
   "metadata": {},
   "source": [
    "Contrast the regex pattern above with the pattern `---\\n[\\S\\s]*?\\n---`, which does not detect empty YAML frontmatter text."
   ]
  },
  {
   "cell_type": "code",
   "execution_count": null,
   "metadata": {},
   "outputs": [],
   "source": [
    "sample_regex = '---\\n[\\S\\s]*?\\n---'\n",
    "sample_str = '---\\n---'\n",
    "sample_output = find_regex_in_text(sample_str, sample_regex)\n",
    "assert not sample_output"
   ]
  },
  {
   "cell_type": "code",
   "execution_count": null,
   "metadata": {},
   "outputs": [],
   "source": [
    "#| export\n",
    "def replace_string_by_indices(\n",
    "        string: str, # String in which to make replacemenets \n",
    "        replace_ranges: Sequence[Sequence[int] | int], # A list of lists/tuples of int's or a single list/tuple of int's. Each \n",
    "        replace_with: Sequence[str] | str # The str(s) which will replace the substrings at `replace_ranges` in `string`. `replace_with` must be a str exactly when `replace_ranges` is a Sequence of a single Sequence of int.\n",
    "        ) -> str:  # The str obtained by replacing the substrings at `replace_range` in `string` by the strs specified by `replace_with`.\n",
    "    \"\"\"Replace parts of ``string`` at the specified locations\"\n",
    "\n",
    "    Use this with `find_regex_in_text`.\n",
    "\n",
    "    **Parameters**\n",
    "\n",
    "    - ``string`` - `str`\n",
    "    - ``replace_ranges`` - `Sequence[Sequence[int] | int]`\n",
    "        - Each list or tuple is of one or two int's. In particular,\n",
    "        ``[a,b]`` or ``(a,b)`` means that ``string[a:b]`` is to be replaced.\n",
    "        ``[a]`` means that ``string[a:]`` is to be replaced. The ranges should\n",
    "        not overlap and should be arranged in chronological order.\n",
    "    - ``replace_with`` - `Sequence[str] | str`\n",
    "        - The str's which will replace the parts represented by \n",
    "        ``replace_ranges``. ``replace_ranges`` and ``replace_with`` must be\n",
    "        both lists or both not lists. If they are lists, they must be of \n",
    "        the same length.\n",
    "\n",
    "    **Returns**\n",
    "    - str\n",
    "    \"\"\"\n",
    "    if isinstance(replace_with, str):\n",
    "        replace_ranges = [replace_ranges]\n",
    "        replace_with = [replace_with]\n",
    "    assert len(replace_ranges) == len(replace_with)\n",
    "    if len(replace_ranges) == 0:\n",
    "        return string\n",
    "    str_parts = []\n",
    "    for i, replace_string in enumerate(replace_ranges):\n",
    "        replace_string = replace_with[i]\n",
    "        if i > 0 and len(replace_ranges[i-1]) == 1:\n",
    "            unreplaced_start_index = len(string)\n",
    "        elif i > 0 and len(replace_ranges[i-1]) != 1:\n",
    "            unreplaced_start_index = replace_ranges[i-1][1]\n",
    "        else:\n",
    "            unreplaced_start_index = 0\n",
    "        unreplaced_end_index = replace_ranges[i][0]\n",
    "        str_parts.append(string[unreplaced_start_index:unreplaced_end_index])\n",
    "        str_parts.append(replace_string)\n",
    "\n",
    "    # Add the last (unreplaced) part to str_parts.\n",
    "    if len(replace_ranges[-1]) == 1:\n",
    "        unreplaced_start_index = len(string)\n",
    "    else:\n",
    "        unreplaced_start_index = replace_ranges[-1][1]\n",
    "    str_parts.append(string[unreplaced_start_index:])\n",
    "    return \"\".join(str_parts)"
   ]
  },
  {
   "cell_type": "markdown",
   "metadata": {},
   "source": [
    "The following are basic examples"
   ]
  },
  {
   "cell_type": "code",
   "execution_count": null,
   "metadata": {},
   "outputs": [],
   "source": [
    "assert replace_string_by_indices('hello world', replace_ranges=(0,5), replace_with='hi') == 'hi world'\n",
    "assert replace_string_by_indices('hello somebody', replace_ranges=[(0,1), (6,10)], replace_with=['', '']) == 'ello body'"
   ]
  },
  {
   "cell_type": "markdown",
   "metadata": {},
   "source": [
    "### Definitions and notations"
   ]
  },
  {
   "cell_type": "markdown",
   "metadata": {},
   "source": [
    "I surround definitions and notations by double asterisks `**`. The following methods distinguish between the two."
   ]
  },
  {
   "cell_type": "code",
   "execution_count": null,
   "metadata": {},
   "outputs": [],
   "source": []
  }
 ],
 "metadata": {
  "kernelspec": {
   "display_name": "Python 3.10.6 ('trouver_py310_venv')",
   "language": "python",
   "name": "python3"
  }
 },
 "nbformat": 4,
 "nbformat_minor": 4
}
