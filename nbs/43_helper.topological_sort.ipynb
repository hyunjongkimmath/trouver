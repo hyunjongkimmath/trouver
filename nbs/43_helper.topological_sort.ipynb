{
 "cells": [
  {
   "cell_type": "code",
   "execution_count": null,
   "metadata": {},
   "outputs": [],
   "source": [
    "#| default_exp helper.topological_sort"
   ]
  },
  {
   "cell_type": "code",
   "execution_count": null,
   "metadata": {},
   "outputs": [],
   "source": [
    "#| export\n",
    "from collections import OrderedDict\n",
    "from collections.abc import Iterable\n",
    "from typing import Callable"
   ]
  },
  {
   "cell_type": "markdown",
   "metadata": {},
   "source": [
    "## Topological sort"
   ]
  },
  {
   "cell_type": "code",
   "execution_count": null,
   "metadata": {},
   "outputs": [],
   "source": [
    "# TODO: reformat the parameter specifications and add examples."
   ]
  },
  {
   "cell_type": "markdown",
   "metadata": {},
   "source": [
    "It is sometimes convenient to topological sort."
   ]
  },
  {
   "cell_type": "code",
   "execution_count": null,
   "metadata": {},
   "outputs": [],
   "source": [
    "#| export\n",
    "def containing_string_priority(str1: str, str2: str) -> int:\n",
    "    \"\"\"Returns 1, 0, -1 depending on whether one string contains the other.\n",
    "    \n",
    "    TODO make the string containment criterion looser, e.g. finite Galois etale cover\n",
    "    \"contains\" finite etale cover.\n",
    "    \n",
    "    **Parameters**\n",
    "    - str1 - str\n",
    "    - str2 - str\n",
    "    \"\"\"\n",
    "    if str2 in str1:\n",
    "        return -1\n",
    "    elif str1 in str2:\n",
    "        return 1\n",
    "    else:\n",
    "        # return len(str2) - len(str1)\n",
    "        return 0\n",
    "\n",
    "\n",
    "def default_str_comparison(str1: str, str2: str) -> int:\n",
    "    \"\"\"\n",
    "    \n",
    "    **Parameters**\n",
    "    - str1 - str\n",
    "    - str2 - str\n",
    "    \"\"\"\n",
    "    if str1 > str2:\n",
    "        return 1\n",
    "    elif str1 < str2:\n",
    "        return -1\n",
    "    else:\n",
    "        return 0\n",
    "\n",
    "\n",
    "def natsort_comparison(str1: str, str2: str) -> int:\n",
    "    \"\"\"\n",
    "    \n",
    "    **Parameters**\n",
    "    - str1 - str\n",
    "    - str2 - str\n",
    "    \"\"\"\n",
    "    if str1 == str2:\n",
    "        return 0\n",
    "    listy = [str1, str2]\n",
    "    natsorted(listy)\n",
    "    if listy[0] == str1:\n",
    "        return -1\n",
    "    else:\n",
    "        return 1"
   ]
  },
  {
   "cell_type": "code",
   "execution_count": null,
   "metadata": {},
   "outputs": [],
   "source": [
    "#| export\n",
    "def graph_for_topological_sort(\n",
    "        items_to_sort: Iterable[str],\n",
    "        key_order: Callable[[str, str], int]) -> dict[str, set[str]]:\n",
    "    \"\"\"\n",
    "    **Parameters**\n",
    "    - items_to_sort - Iterable[str]\n",
    "    - key_order: Callable[[str, str], int]\n",
    "        - Comparing str1 against str2 results in a positive number if\n",
    "        str1 is \"greater\" than str2 (i.e. str1 is of a later priority)\n",
    "    \n",
    "    **Returns**\n",
    "    - dict[str, set[str]]\n",
    "        - A dict whose keys are the elements `k` of `items_to_sort` and\n",
    "        whose values are sets of elements `k2` of `items_to_sort` such that\n",
    "        `key_order(k, k2) > 0`.\n",
    "    \"\"\"\n",
    "    graph = dict()\n",
    "    for key_1, key_2 in product(items_to_sort, items_to_sort):\n",
    "        # print(key_1, key_2)\n",
    "        if key_1 == key_2:\n",
    "            continue\n",
    "        # print(key_1, key_2)\n",
    "        # print(key_order(key_1, key_2))\n",
    "        if key_1 not in graph:\n",
    "            graph[key_1] = set()\n",
    "        if key_order(key_1, key_2) > 0:\n",
    "            graph[key_1].add(key_2)\n",
    "    return graph"
   ]
  },
  {
   "cell_type": "code",
   "execution_count": null,
   "metadata": {},
   "outputs": [],
   "source": [
    "#| export\n",
    "def dict_with_keys_topologically_sorted(\n",
    "        dict_to_sort: dict[str],\n",
    "        key_order: Callable[[str, str], int],\n",
    "        reverse: bool = False) -> OrderedDict[str]:\n",
    "    \"\"\"Returns an OrderedDict whose keys are sorted topologically by\n",
    "    the specified key order.\n",
    "    \n",
    "    **Parameters**\n",
    "    - dict_to_sort - dict[str]\n",
    "        - The dict whose keys need to be ordered.\n",
    "    - key_order\n",
    "        - The comparison function on the keys of `dict_to_sort`. Defaults to\n",
    "        the key function for the comparison ``containing_string_priority``.\n",
    "    - reverse - bool\n",
    "        - Defaults to `False`\n",
    "        \n",
    "    **Returns**\n",
    "    - OrderedDict[str]\n",
    "    \"\"\"\n",
    "    graph = graph_for_topological_sort(dict_to_sort, key_order)\n",
    "    ts = TopologicalSorter(graph)\n",
    "    keys_ordered = list(ts.static_order())\n",
    "    if reverse:\n",
    "        keys_ordered = list(reversed(keys_ordered))\n",
    "    return OrderedDict((key, dict_to_sort[key]) for key in keys_ordered)\n"
   ]
  },
  {
   "cell_type": "code",
   "execution_count": null,
   "metadata": {},
   "outputs": [],
   "source": [
    "# TODO: test"
   ]
  }
 ],
 "metadata": {
  "kernelspec": {
   "display_name": "trouver_py310_venv",
   "language": "python",
   "name": "trouver_py310_venv"
  }
 },
 "nbformat": 4,
 "nbformat_minor": 2
}
