{
 "cells": [
  {
   "cell_type": "code",
   "execution_count": null,
   "metadata": {},
   "outputs": [],
   "source": [
    "#| default_exp helper.regex"
   ]
  },
  {
   "cell_type": "markdown",
   "metadata": {},
   "source": [
    "# helper.regex\n",
    "> Helper functions with regex capabilities"
   ]
  },
  {
   "cell_type": "code",
   "execution_count": null,
   "metadata": {},
   "outputs": [],
   "source": [
    "#| export\n",
    "import re\n",
    "from typing import Pattern, Sequence, Union"
   ]
  },
  {
   "cell_type": "code",
   "execution_count": null,
   "metadata": {},
   "outputs": [],
   "source": [
    "from fastcore.test import *\n",
    "from trouver.helper.tests import _test_directory"
   ]
  },
  {
   "cell_type": "code",
   "execution_count": null,
   "metadata": {},
   "outputs": [],
   "source": [
    "#| export\n",
    "def find_regex_in_text(\n",
    "        text: str, # Text in which to find regex patter\n",
    "        pattern: str | Pattern[str] # The regex pattern\n",
    "        ) -> list[tuple[int, int]]: # Each tuple is of the form `(a,b)` where `text[a:b]` is the regex match.\n",
    "    # TODO: rename into regex_indices_in_text\n",
    "    # TODO: swap parameters.\n",
    "    \"\"\"Return ranges in `text` where `pattern` occurs.\n",
    "    \"\"\"\n",
    "    matches = re.finditer(pattern, text)\n",
    "    return [match.span() for match in matches]"
   ]
  },
  {
   "cell_type": "markdown",
   "metadata": {},
   "source": [
    "The following example finds the occurrence of the Markdown footnote:"
   ]
  },
  {
   "cell_type": "code",
   "execution_count": null,
   "metadata": {},
   "outputs": [],
   "source": [
    "regex_pattern = r'\\[\\^\\d\\]'\n",
    "text = '[^1]: asdf'\n",
    "\n",
    "output = find_regex_in_text(text, regex_pattern)\n",
    "test_eq(output, [(0,4)])\n",
    "\n",
    "start, end = output[0]\n",
    "test_eq(text[start:end], '[^1]')"
   ]
  },
  {
   "cell_type": "markdown",
   "metadata": {},
   "source": [
    "If there are multiple matches for the regex pattern, then they are all included in the outputted list."
   ]
  },
  {
   "cell_type": "code",
   "execution_count": null,
   "metadata": {},
   "outputs": [],
   "source": [
    "regex_pattern = r'\\d+'  # Searches for one or more consecutive digits\n",
    "text = '9000 is a big number. But you know what is bigger? 9001.'\n",
    "\n",
    "output = find_regex_in_text(text, regex_pattern)\n",
    "test_eq(len(output), 2)\n",
    "\n",
    "start, end = output[0]\n",
    "test_eq(text[start:end], '9000')\n",
    "\n",
    "start, end = output[1]\n",
    "test_eq(text[start:end], '9001')"
   ]
  },
  {
   "cell_type": "markdown",
   "metadata": {},
   "source": [
    "The following example detects YAML frontmatter text as used in Obsidian. This regex pattern is also used in `markdown.markdown.file.find_front_matter_meta_in_markdown_text`.\n",
    "\n",
    "\n",
    "The regex pattern used is able to detect the frontmatter even when it is empty."
   ]
  },
  {
   "cell_type": "code",
   "execution_count": null,
   "metadata": {},
   "outputs": [],
   "source": [
    "sample_regex = r'---\\n([\\S\\s]*?)?(?(1)\\n|)---'\n",
    "sample_str = '---\\n---'\n",
    "sample_output = find_regex_in_text(sample_str, sample_regex)\n",
    "assert sample_output == [(0,7)]\n",
    "\n",
    "sample_str = '---\\naliases: [this_is_an_aliases_for_the_Obsidian_note]\\n---'\n",
    "sample_output = find_regex_in_text(sample_str, sample_regex)\n",
    "assert sample_output == [(0, len(sample_str))]  # The entire sample_str is detected.\n"
   ]
  },
  {
   "cell_type": "markdown",
   "metadata": {},
   "source": [
    "Contrast the regex pattern above with the pattern `---\\n[\\S\\s]*?\\n---`, which does not detect empty YAML frontmatter text."
   ]
  },
  {
   "cell_type": "code",
   "execution_count": null,
   "metadata": {},
   "outputs": [],
   "source": [
    "sample_regex = '---\\n[\\S\\s]*?\\n---'\n",
    "sample_str = '---\\n---'\n",
    "sample_output = find_regex_in_text(sample_str, sample_regex)\n",
    "assert not sample_output"
   ]
  },
  {
   "cell_type": "code",
   "execution_count": null,
   "metadata": {},
   "outputs": [],
   "source": [
    "#| export\n",
    "def separate_indices_from_str(\n",
    "        text: str,\n",
    "        indices: list[tuple[int, int]] # The indices for substrings in `text` to separate.\n",
    "        ) -> list[str]: # Each str is a substring of `text`, either a substring of `text` specified by `indices`, or substrings in between the substrings specified by `indices`.\n",
    "    \"\"\"Divide `text` into parts along the substrings specified by `indices`. \n",
    "\n",
    "    Assumes that the pairs of indices specified by `indices` are in order from\n",
    "    first to last and the ranges specified by these pairs are all disjoint.\n",
    "\n",
    "    `''.join(output)` should recover `text`.\n",
    "    \"\"\"\n",
    "    if not indices:\n",
    "        return [text]\n",
    "    parts = [text[:indices[0][0]]]\n",
    "    for index_pair, next_pair in zip(indices, indices[1:]):\n",
    "        parts.append(text[index_pair[0]:index_pair[1]])\n",
    "        parts.append(text[index_pair[1]:next_pair[0]])\n",
    "    last_pair = indices[-1]\n",
    "    parts.append(text[last_pair[0]:last_pair[1]])\n",
    "    parts.append(text[last_pair[1]:])\n",
    "    return parts"
   ]
  },
  {
   "cell_type": "markdown",
   "metadata": {},
   "source": [
    "Here is a basic example of `separate_indices_from_str`:"
   ]
  },
  {
   "cell_type": "code",
   "execution_count": null,
   "metadata": {},
   "outputs": [
    {
     "name": "stdout",
     "output_type": "stream",
     "text": [
      "['', 'hello', ' asdf', ' ', 'asdf']\n"
     ]
    }
   ],
   "source": [
    "text = 'hello asdf asdf'\n",
    "sample_output = separate_indices_from_str(text, [(0,5), (10,11)])\n",
    "print(sample_output)\n",
    "test_eq(''.join(sample_output), text)\n"
   ]
  },
  {
   "cell_type": "code",
   "execution_count": null,
   "metadata": {},
   "outputs": [],
   "source": [
    "#| export\n",
    "def replace_string_by_indices(\n",
    "        string: str, # String in which to make replacemenets \n",
    "        replace_ranges: Sequence[Union[Sequence[int], int]], # A list of lists/tuples of int's or a single list/tuple of int's. Each \n",
    "        replace_with: Sequence[str] | str # The str(s) which will replace the substrings at `replace_ranges` in `string`. `replace_with` must be a str exactly when `replace_ranges` is a Sequence of a single Sequence of int.\n",
    "        ) -> str:  # The str obtained by replacing the substrings at `replace_range` in `string` by the strs specified by `replace_with`.\n",
    "    \"\"\"Replace parts of ``string`` at the specified locations\"\n",
    "\n",
    "    Use this with `find_regex_in_text`.\n",
    "\n",
    "    **Parameters**\n",
    "\n",
    "    - ``string`` - `str`\n",
    "    - ``replace_ranges`` - `Sequence[Sequence[int] | int]`\n",
    "        - Either a list of lists/tuples of one or two int's. A list/tuple\n",
    "        ``[a,b]`` or ``(a,b)`` means that ``string[a:b]`` is to be replaced.\n",
    "        ``[a]`` or ``(a)`` means that ``string[a:]`` is to be replaced. The ranges should\n",
    "        not overlap and should be arranged in chronological order.\n",
    "    - ``replace_with`` - `Sequence[str] | str`\n",
    "        - The str's which will replace the parts represented by \n",
    "        ``replace_ranges``. ``replace_ranges`` and ``replace_with`` must be\n",
    "        both lists or both not lists. If they are lists, they must be of \n",
    "        the same length.\n",
    "\n",
    "    **Returns**\n",
    "\n",
    "    - str\n",
    "\n",
    "    \"\"\"\n",
    "    if isinstance(replace_with, str):\n",
    "        replace_ranges = [replace_ranges]\n",
    "        replace_with = [replace_with]\n",
    "    if len(replace_ranges) != len(replace_with):\n",
    "        raise ValueError(\n",
    "            'The lengths of `replace_ranges` and `replace_with` are different.')\n",
    "    if len(replace_ranges) == 0:\n",
    "        return string\n",
    "\n",
    "    str_parts = _str_parts(string, replace_ranges, replace_with)\n",
    "    return \"\".join(str_parts)\n",
    "\n",
    "\n",
    "def _str_parts(string, replace_ranges, replace_with):\n",
    "    \"\"\"Divide `string` into parts divided outside of `replace_ranges`\n",
    "    and with `replace_with` inserted.\"\"\"\n",
    "    str_parts = []\n",
    "    for i, replace_string in enumerate(replace_ranges):\n",
    "        replace_string = replace_with[i]\n",
    "        if i > 0 and len(replace_ranges[i-1]) == 1:\n",
    "            unreplaced_start_index = len(string)\n",
    "        elif i > 0 and len(replace_ranges[i-1]) != 1:\n",
    "            unreplaced_start_index = replace_ranges[i-1][1]\n",
    "        else:\n",
    "            unreplaced_start_index = 0\n",
    "        unreplaced_end_index = replace_ranges[i][0]\n",
    "        str_parts.append(string[unreplaced_start_index:unreplaced_end_index])\n",
    "        str_parts.append(replace_string)\n",
    "    # Add the last (unreplaced) part to str_parts.\n",
    "    if len(replace_ranges[-1]) == 1:\n",
    "        unreplaced_start_index = len(string)\n",
    "    else:\n",
    "        unreplaced_start_index = replace_ranges[-1][1]\n",
    "    str_parts.append(string[unreplaced_start_index:])\n",
    "    return str_parts"
   ]
  },
  {
   "cell_type": "markdown",
   "metadata": {},
   "source": [
    "The following are basic examples of `replace_strings_by_indices`:"
   ]
  },
  {
   "cell_type": "code",
   "execution_count": null,
   "metadata": {},
   "outputs": [],
   "source": [
    "test_eq(replace_string_by_indices('hello world', replace_ranges=(0,5), replace_with='hi'), 'hi world')\n",
    "test_eq(replace_string_by_indices('hello somebody', replace_ranges=[(0,1), (6,10)], replace_with=['', '']), 'ello body')"
   ]
  },
  {
   "cell_type": "markdown",
   "metadata": {},
   "source": [
    "If `replace_ranges` and `replace_with` are of different length, then a `ValueError` is raised:"
   ]
  },
  {
   "cell_type": "code",
   "execution_count": null,
   "metadata": {},
   "outputs": [],
   "source": [
    "with ExceptionExpected(ex=ValueError, regex=\"are different\"):\n",
    "    replace_string_by_indices('hello world', replace_ranges = [(0,5), (6,10)], replace_with = [''])"
   ]
  },
  {
   "cell_type": "markdown",
   "metadata": {},
   "source": [
    "#### Finding LaTeX string"
   ]
  },
  {
   "cell_type": "code",
   "execution_count": null,
   "metadata": {},
   "outputs": [],
   "source": [
    "#| export\n",
    "def latex_indices(\n",
    "        text: str,\n",
    "        ) -> list[tuple[int, int]]:\n",
    "    \"\"\"Returns the indices in the text containing LaTeX str.\n",
    "    \n",
    "    This may not work correctly if the text has a LaTeX\n",
    "    formatting issue.\n",
    "    \n",
    "    **Parameters**\n",
    "\n",
    "    - text - str\n",
    "\n",
    "    **Returns**\n",
    "\n",
    "    - tuple[int]\n",
    "        - Each tuple is of the form `(start, end)` where\n",
    "        `text[start:end]` is a LaTeX string, including any leading trailing\n",
    "        dollar signs (`$` or `$$`).\n",
    "    \"\"\"\n",
    "    # r'(?<!\\\\)\\$.*(?<!\\\\)\\$|(?<!\\\\)\\$(?<!\\\\)\\$.*(?<!\\\\)\\$(?<!\\\\)\\$'\n",
    "    # return find_regex_in_text(text, '\\$\\$[^\\$]*\\$\\$|\\$[^\\$]*\\$')\n",
    "\n",
    "    # return find_regex_in_text(text, r'((?<!\\\\)\\$\\$?)[^\\$]*\\1')\n",
    "    pattern = re.compile(r\"(?<!\\\\)\\$\\$.*?(?<!\\\\)\\$\\$|(?<!\\\\)\\$.*?(?<!\\\\)\\$\", re.DOTALL)\n",
    "    return find_regex_in_text(text, pattern)\n",
    "\n",
    "\n",
    "def inline_latex_indices(\n",
    "        text: str,\n",
    "        ) -> list[tuple[int, int]]:\n",
    "    \"\"\"Returns the indices in the text containing inline LaTeX str surrounded by\n",
    "    `$$`.\n",
    "    \n",
    "    This may not work correctly if the text has a LaTeX\n",
    "    formatting issue or if any LaTeX string has a dollar sign `\\$`.\n",
    "    \n",
    "    **Parameters**\n",
    "\n",
    "    - text - str\n",
    "\n",
    "    **Returns**\n",
    "\n",
    "    - tuple[int]\n",
    "        - Each tuple is of the form `(start, end)` where\n",
    "        `text[start:end]` is a LaTeX string, including any leading trailing\n",
    "        dollar signs (`$$`).\n",
    "    \"\"\"\n",
    "    # r'(?<!\\\\)\\$.*(?<!\\\\)\\$|(?<!\\\\)\\$(?<!\\\\)\\$.*(?<!\\\\)\\$(?<!\\\\)\\$'\n",
    "    # return find_regex_in_text(text, '\\$\\$[^\\$]*\\$\\$|\\$[^\\$]*\\$')\n",
    "\n",
    "    # return find_regex_in_text(text, r'((?<!\\\\)\\$\\$?)[^\\$]*\\1')\n",
    "    pattern = re.compile(r\"(?<!\\\\)\\$\\$.*?(?<!\\\\)\\$\\$\", re.DOTALL)\n",
    "    return find_regex_in_text(text, pattern)\n",
    "\n",
    "# def math_mode_str_in_text(\n",
    "#         text: str # The str in which to find the latex math mode str.\n",
    "#         ) -> list[tuple[int, int]]: # Each tuple is of the form `(start,end)`, where `text[start:end]` is a part in `text` with LaTeX math mode text.\n",
    "#     \"\"\"\n",
    "#     Return the indices of the math mode text.\n",
    "#     \"\"\"\n",
    "#     pattern = re.compile(r\"(?<!\\\\)\\$\\$.*?(?<!\\\\)\\$\\$|(?<!\\\\)\\$.*?(?<!\\\\)\\$\", re.DOTALL)\n",
    "#     return find_regex_in_text(text, pattern)"
   ]
  },
  {
   "cell_type": "markdown",
   "metadata": {},
   "source": [
    "Here are some basic uses of the `latex_indices` function:"
   ]
  },
  {
   "cell_type": "code",
   "execution_count": null,
   "metadata": {},
   "outputs": [],
   "source": [
    "text = r'$$5 \\neq 7$$ is a LaTeX equation.'\n",
    "listy = latex_indices(text)\n",
    "assert len(listy) == 1\n",
    "start, end = listy[0]\n",
    "test_eq(text[start:end], r'$$5 \\neq 7$$')\n",
    "\n",
    "text = r'$\\mathcal{O}_X$ denotes the structure sheaf.'\n",
    "listy = latex_indices(text)\n",
    "assert len(listy) == 1\n",
    "start, end = listy[0]\n",
    "test_eq(text[start:end], r'$\\mathcal{O}_X$')\n",
    "\n",
    "text = r'$$\\n5 \\neq 7\\n$$'\n",
    "listy = latex_indices(text)\n",
    "assert len(listy) == 1\n"
   ]
  },
  {
   "cell_type": "markdown",
   "metadata": {},
   "source": [
    "If there is a dollar sign symbol `\\$` *outside* of a LaTeX string, then the `latex_indices` function works as expected; the dollar signs are not considered to be part of any LaTeX string:"
   ]
  },
  {
   "cell_type": "code",
   "execution_count": null,
   "metadata": {},
   "outputs": [],
   "source": [
    "text = r'\\$6.2.4 helo blah $15+6+21$'  # Avoid detecting \\$ as latex start/end\n",
    "listy = latex_indices(text)\n",
    "start, end = listy[0]\n",
    "test_eq(text[start:end], r'$15+6+21$')"
   ]
  },
  {
   "cell_type": "markdown",
   "metadata": {},
   "source": [
    "In the following example, the text has dollar sign symbols `\\$` which do not surround math mode text"
   ]
  },
  {
   "cell_type": "code",
   "execution_count": null,
   "metadata": {},
   "outputs": [
    {
     "name": "stdout",
     "output_type": "stream",
     "text": [
      "$\\$37$\n"
     ]
    }
   ],
   "source": [
    "text = r'\\$6.2.4 helo blah $\\$37$ are needed for stuff.' \n",
    "listy = latex_indices(text)\n",
    "start, end = listy[0]\n",
    "test_eq(len(listy), 1)\n",
    "print(text[listy[0][0]:listy[0][1]])  # This should print `$\\$`, which is at the start of `$\\$37$`.\n",
    "test_eq(text[start:end], r'$\\$37$')"
   ]
  },
  {
   "cell_type": "code",
   "execution_count": null,
   "metadata": {},
   "outputs": [],
   "source": [
    "#| export"
   ]
  },
  {
   "cell_type": "markdown",
   "metadata": {},
   "source": [
    "In the following example, note that `\\$S.10` is (correctly) not recognized as a LaTeX math mode string. Moreover, multi-line math mode strings are also recognized."
   ]
  },
  {
   "cell_type": "code",
   "execution_count": null,
   "metadata": {},
   "outputs": [
    {
     "data": {
      "text/plain": [
       "[(34, 37), (38, 42), (44, 54)]"
      ]
     },
     "execution_count": null,
     "metadata": {},
     "output_type": "execute_result"
    }
   ],
   "source": [
    "text = \"\"\"\n",
    "\\$S.10 We have some latex string $a$ $hi$\n",
    "\n",
    "$$\n",
    "asdf\n",
    "$$\n",
    "\"\"\"\n",
    "latex_indices(text)"
   ]
  },
  {
   "cell_type": "code",
   "execution_count": null,
   "metadata": {},
   "outputs": [
    {
     "name": "stdout",
     "output_type": "stream",
     "text": [
      "$a$\n",
      "$hi$\n",
      "$$\n",
      "asdf\n",
      "$$\n"
     ]
    }
   ],
   "source": [
    "print(text[34:37])\n",
    "print(text[38:42])\n",
    "print(text[44:54])"
   ]
  },
  {
   "cell_type": "code",
   "execution_count": null,
   "metadata": {},
   "outputs": [],
   "source": [
    "#| hide\n",
    "sample_output = latex_indices(text)\n",
    "expected_substrings = ['$a$', '$hi$', '$$\\nasdf\\n$$']\n",
    "for i in range(3):\n",
    "    expected_substring = expected_substrings[i]\n",
    "    start, end = sample_output[i]\n",
    "    test_eq(text[start:end], expected_substring)\n"
   ]
  },
  {
   "cell_type": "markdown",
   "metadata": {},
   "source": [
    "The `inline_latex_indices` function finds the indices only for in-line LaTeX math mode strings (which are surrounded by `$$`)"
   ]
  },
  {
   "cell_type": "code",
   "execution_count": null,
   "metadata": {},
   "outputs": [
    {
     "data": {
      "text/plain": [
       "[(44, 54)]"
      ]
     },
     "execution_count": null,
     "metadata": {},
     "output_type": "execute_result"
    }
   ],
   "source": [
    "text = \"\"\"\n",
    "\\$S.10 We have some latex string $a$ $hi$\n",
    "\n",
    "$$\n",
    "asdf\n",
    "$$\n",
    "\"\"\"\n",
    "inline_latex_indices(text)"
   ]
  },
  {
   "cell_type": "code",
   "execution_count": null,
   "metadata": {},
   "outputs": [
    {
     "name": "stdout",
     "output_type": "stream",
     "text": [
      "$$\n",
      "asdf\n",
      "$$\n"
     ]
    }
   ],
   "source": [
    "print(text[44:54])"
   ]
  },
  {
   "cell_type": "code",
   "execution_count": null,
   "metadata": {},
   "outputs": [],
   "source": [
    "#| hide\n",
    "\n",
    "sample_output = inline_latex_indices(text)\n",
    "start, end = sample_output[0]\n",
    "test_eq(text[start:end], '$$\\nasdf\\n$$')"
   ]
  }
 ],
 "metadata": {
  "kernelspec": {
   "display_name": "trouver_py310_venv",
   "language": "python",
   "name": "trouver_py310_venv"
  }
 },
 "nbformat": 4,
 "nbformat_minor": 2
}
