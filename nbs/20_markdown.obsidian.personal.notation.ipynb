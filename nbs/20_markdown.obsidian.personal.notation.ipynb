{
 "cells": [
  {
   "cell_type": "code",
   "execution_count": null,
   "metadata": {},
   "outputs": [],
   "source": [
    "#| default_exp markdown.obsidian.personal.notation"
   ]
  },
  {
   "cell_type": "markdown",
   "metadata": {},
   "source": [
    "# markdown.obisidian.personal.notation\n",
    "> Functions for making and managing notation cards\n",
    "\n",
    "Mathematical texts are difficult to read not only because it introduces readers to new concepts that they are unfamiliar with but also because any given excerpt requires the reader to be familiar with notation that the writer chooses to use.\n",
    "\n",
    "The first time reader thus must go on a wild goose hunt to find where the unfamiliar notations are defined. Unfortunately, the definitions may further introduce unfamiliar notations.\n",
    "\n",
    "Notation notes try to ease this problem to an extent by providing\n",
    "1. links to quickly find where notations are introduced\n",
    "2. the contexts under which the notations are defined, and\n",
    "3. miscellaneous descriptions of the notations as necessary. "
   ]
  },
  {
   "cell_type": "code",
   "execution_count": null,
   "metadata": {},
   "outputs": [],
   "source": [
    "#| export\n",
    "import os\n",
    "from os import PathLike\n",
    "from pathlib import Path\n",
    "import re\n",
    "from typing import Optional, Union\n",
    "from multiset import Multiset \n",
    "from pylatexenc.latexwalker import (\n",
    "    LatexWalker, LatexEnvironmentNode, LatexMacroNode,\n",
    "    LatexNode, LatexGroupNode, LatexCharsNode\n",
    ")\n",
    "import warnings\n",
    "\n",
    "from trouver.helper import find_regex_in_text, notation_asterisk_indices\n",
    "from trouver.markdown.markdown.file import MarkdownFile, MarkdownLineEnum\n",
    "from trouver.markdown.obsidian.footnotes import (\n",
    "    find_footnote_descriptions_in_markdown_text, embedded_note_of_footnote,\n",
    "    find_footnote_mentions_in_markdown_text, footnote_is_simple_embedded_note\n",
    ")\n",
    "from trouver.markdown.obsidian.links import (\n",
    "    find_links_in_markdown_text, ObsidianLink, LinkType\n",
    ")\n",
    "\n",
    "# from trouver.markdown.obsidian.personal.information_notes import (\n",
    "#     bulleted_links_of_type_in_section\n",
    "# )\n",
    "from trouver.markdown.obsidian.personal.note_type import (\n",
    "    note_is_of_type, PersonalNoteTypeEnum, assert_note_is_of_type\n",
    ")\n",
    "from trouver.markdown.obsidian.personal.reference import (\n",
    "    files_in_reference_folder\n",
    ")\n",
    "from trouver.markdown.obsidian.vault import(\n",
    "    all_note_paths_by_name, note_path_by_name, VaultNote, NoteDoesNotExistError\n",
    ")\n"
   ]
  },
  {
   "cell_type": "code",
   "execution_count": null,
   "metadata": {},
   "outputs": [
    {
     "name": "stdout",
     "output_type": "stream",
     "text": [
      "hi\n"
     ]
    }
   ],
   "source": [
    "print('hi')"
   ]
  }
 ],
 "metadata": {
  "kernelspec": {
   "display_name": "Python 3.10.6 64-bit",
   "language": "python",
   "name": "python3"
  }
 },
 "nbformat": 4,
 "nbformat_minor": 2
}
