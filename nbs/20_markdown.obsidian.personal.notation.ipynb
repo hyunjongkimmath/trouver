{
 "cells": [
  {
   "cell_type": "code",
   "execution_count": 1,
   "metadata": {},
   "outputs": [],
   "source": [
    "#| default_exp markdown.obsidian.personal.notation.__init__"
   ]
  },
  {
   "cell_type": "markdown",
   "metadata": {},
   "source": [
    "# markdown.obisidian.personal.notation\n",
    "> Functions for making and managing notation cards\n",
    "\n",
    "Mathematical texts are difficult to read not only because it introduces readers to new concepts that they are unfamiliar with but also because any given excerpt requires the reader to be familiar with notation that the writer chooses to use.\n",
    "\n",
    "The first time reader of a mathematical text thus must go on a wild goose hunt to find where the unfamiliar notations are defined. Unfortunately, the definitions may further introduce unfamiliar notations.\n",
    "\n",
    "Notation notes try to ease this problem to an extent by providing\n",
    "1. links to quickly find where notations are introduced\n",
    "2. the contexts under which the notations are defined, and\n",
    "3. miscellaneous descriptions of the notations as necessary. "
   ]
  },
  {
   "cell_type": "code",
   "execution_count": 2,
   "metadata": {},
   "outputs": [],
   "source": [
    "#| export\n",
    "from os import PathLike\n",
    "from pathlib import Path\n",
    "from typing import Optional, Union\n",
    "import warnings\n",
    "\n",
    "from multiset import Multiset\n",
    "from pylatexenc.latexwalker import LatexNode, LatexMacroNode, LatexWalker, LatexGroupNode, LatexCharsNode\n",
    "\n",
    "from trouver.helper.path_accepted_string import latex_to_path_accepted_string\n",
    "from trouver.markdown.markdown.file import MarkdownFile\n",
    "from trouver.markdown.obsidian.links import (\n",
    "    LinkType, ObsidianLink\n",
    ")\n",
    "from trouver.markdown.obsidian.personal.notation.parse import notation_in_note\n",
    "from trouver.markdown.obsidian.personal.notation.in_standard_information_note import (\n",
    "    notat_str_from_doub_asts_in_std_info_note, notations_and_main_notes,\n",
    "    add_notation_note_to_see_also, notation_note_is_linked_in_see_also_section,\n",
    "    notat_str_from_html_tags\n",
    ")\n",
    "from trouver.markdown.obsidian.personal.note_type import (\n",
    "    PersonalNoteTypeEnum, note_is_of_type\n",
    ")\n",
    "from trouver.markdown.obsidian.vault import VaultNote"
   ]
  },
  {
   "cell_type": "code",
   "execution_count": 3,
   "metadata": {},
   "outputs": [],
   "source": [
    "import os\n",
    "import shutil\n",
    "import tempfile\n",
    "\n",
    "from fastcore.test import *\n",
    "\n",
    "from trouver.helper.tests import _test_directory"
   ]
  },
  {
   "cell_type": "markdown",
   "metadata": {},
   "source": [
    "# Add notation notes to Notation index note"
   ]
  },
  {
   "cell_type": "code",
   "execution_count": 4,
   "metadata": {},
   "outputs": [],
   "source": [
    "#| export\n",
    "def notations_to_add_in_index(\n",
    "        vault: PathLike, # Path to the vault directory.\n",
    "        notation_index_note = VaultNote, # The notation index note in the vault where the notations should be added to.\n",
    "        subdirectory: Optional[PathLike] = None , # Path to the subdirectory, relative to `vault`, to find the notation notes. Searches for all notation notes here and in subdirectories of this subdirectory. If `None`, then the `note parameter is used to determined the subdirectory. If `subdirectory` is the empty str, then all notation notes in the vault are searched. Defaults to `None`. \n",
    "        note: Optional[VaultNote] = None # The directory that this note is in determines the argument to `subdirectory` parameter if it is `None`. Defaults to `None`, in which case `subdirectory` must be specified.\n",
    "        ) -> list[tuple[str, ObsidianLink]]: # Each tuple in the list consists of the notation str of the notation note (including surrounding dollar signs `$`) and the (nonembedded) ObsidianLink object for a link to the notation note.\n",
    "    \"\"\"Returns notations and links of notation notes to that ought to be\n",
    "    added in the corresponding notation index, i.e. are in the reference\n",
    "    folder but not linked by the notation index note.\n",
    "\n",
    "    If a notation note is not properly formatted, e.g. does not have a\n",
    "    notation, then the notation and link for the notation note will not\n",
    "    be included.\n",
    "    \n",
    "    **Raises**\n",
    "    - ValueError\n",
    "        - If `subdirectory` and `note` are both `None`.\n",
    "\n",
    "    \"\"\"\n",
    "    vault = vault if vault is not None else ''\n",
    "    mains_dict = notations_and_main_notes(vault, subdirectory, note)\n",
    "    mf_object = MarkdownFile.from_file(notation_index_note.path())\n",
    "    mf_text = str(mf_object)\n",
    "    notations_and_links = []\n",
    "    for notation, _ in mains_dict.items():\n",
    "        link_object = ObsidianLink(\n",
    "            is_embedded=True, file_name=notation, anchor=0, custom_text=0,\n",
    "            link_type=LinkType.WIKILINK)\n",
    "        link = link_object.to_string()\n",
    "        try:\n",
    "            notation_str = notation_in_note(notation, vault)\n",
    "        except AttributeError:  # When a notation note is incomplete.\n",
    "            continue  # TODO: print a warning\n",
    "        if not link in mf_text:\n",
    "            notations_and_links.append((notation_str, link_object))\n",
    "    return notations_and_links\n",
    "\n"
   ]
  },
  {
   "cell_type": "markdown",
   "metadata": {},
   "source": [
    "We can identify notation notes which exist in a reference folder but are not linked in the notation index note for the reference:"
   ]
  },
  {
   "cell_type": "code",
   "execution_count": 5,
   "metadata": {},
   "outputs": [
    {
     "name": "stdout",
     "output_type": "stream",
     "text": [
      "$\\mathbb{Z}/n\\mathbb{Z}$ ![[number_theory_reference_1_notation_Z_nZ_ring_of_integers_modulo_n]]\n"
     ]
    }
   ],
   "source": [
    "# TODO: make test\n",
    "# VaultNote.clear_cache()\n",
    "vault = _test_directory() / 'test_vault_6'\n",
    "reference = 'number_theory_reference_1'\n",
    "note = VaultNote(vault, name=f'_index_{reference}')\n",
    "notation_index_note = VaultNote(vault, name=f'_notation_{reference}')\n",
    "sample_output = notations_to_add_in_index(vault, notation_index_note, note=note)\n",
    "for notation_str, link in sample_output:\n",
    "    print(notation_str, link.to_string())"
   ]
  },
  {
   "cell_type": "code",
   "execution_count": 6,
   "metadata": {},
   "outputs": [],
   "source": [
    "#| export\n",
    "def index_notation_note_formatted_entry(\n",
    "        notation_str: str, # The str of the notation, including the surrounding dollar signs `$`.\n",
    "        link: ObsidianLink # The embedded link to the notation note. \n",
    "        ) -> str:\n",
    "    \"\"\"Return a str formatted for an index notation note entry.\n",
    "\n",
    "    It is recommended to pass the outputs of\n",
    "    `notations_to_add_in_index` to this function.\n",
    "    \"\"\"\n",
    "    return f'### {notation_str}\\n- {link.to_string()}'"
   ]
  },
  {
   "cell_type": "markdown",
   "metadata": {},
   "source": [
    "The `index_notation_note_formatted_entry` function returns a formatted str to add in the index notation note:"
   ]
  },
  {
   "cell_type": "code",
   "execution_count": 7,
   "metadata": {},
   "outputs": [
    {
     "name": "stdout",
     "output_type": "stream",
     "text": [
      "### $\\mathbb{Z}/n\\mathbb{Z}$\n",
      "- ![[number_theory_reference_1_notation_Z_nZ_ring_of_integers_modulo_n]]\n"
     ]
    }
   ],
   "source": [
    "print(index_notation_note_formatted_entry(sample_output[0][0], sample_output[0][1]))"
   ]
  },
  {
   "cell_type": "markdown",
   "metadata": {},
   "source": [
    "# Making a notation note"
   ]
  },
  {
   "cell_type": "code",
   "execution_count": 8,
   "metadata": {},
   "outputs": [],
   "source": [
    "#| export\n",
    "def make_a_notation_note(\n",
    "        main_note: VaultNote, # The note from which the notation originates.\n",
    "        vault: PathLike,\n",
    "        notation: str, # The notation typed in latex. May or may not be surrounded by dollar signs\n",
    "        description: str, # The rest of the text describing notation.\n",
    "        notation_note_name: str, # The name of the new notation note to be created.\n",
    "        destination: Optional[PathLike] = None, # The directory to create the new notation note in.  If `None`, then creates the new notation note in the same place as the note specified by `note_name`\n",
    "        overwrite: bool = False, # If `True`, overwrite file of the same path as the new notation file to be written, if such a file exists.  Otherwise, does nothing. Even if a link to the old notation note exists in `main_note`, a new link will still be added.  Defaults to `False`.\n",
    "        add_to_main: bool = True, # If `True`, adds a link to the notation note in the `See Also` section of the main note.\n",
    "        latex_in_original: str = '' # The full math mode string in `main_note` which introduces the notation. Defaults to the blank string `''`, in which case `notation` plays the role of `latex_in_original`\n",
    "        ) -> Union[VaultNote, None]: # The newly created notation note. If no note is created, then returns `None`.\n",
    "    \"\"\"Make a new notation note, optionally add a link to it in the\n",
    "    `See Also` section of its main note, returns it.\n",
    "\n",
    "    The notation note is created in the same directory as the main note.\n",
    "    The meta of the notation note has a `latex_in_original` section which\n",
    "    lists the contents of the latex string in the main note from which the\n",
    "    notation note comes from. This is so that the\n",
    "    `make_notation_notes_from_double_asts` method can distinguish between\n",
    "    notations for which a note has been created and for which a note has\n",
    "    not been created.\n",
    "    \"\"\"\n",
    "    if destination is None:\n",
    "        destination = main_note.directory(relative=True)\n",
    "    notation_note = VaultNote(\n",
    "        vault, rel_path=destination / f'{notation_note_name}.md')\n",
    "    if not overwrite and notation_note.exists():\n",
    "        return\n",
    "    if not notation_note.exists():\n",
    "        notation_note.create()\n",
    "    if not latex_in_original:\n",
    "        latex_in_original = notation\n",
    "    to_print = _full_notation_string(\n",
    "        main_note, notation, description, latex_in_original)\n",
    "    # TODO: change this to use VaultNote method\n",
    "    with open(notation_note.path(), 'w+', encoding='utf8') as notation_file:\n",
    "        notation_file.write(to_print)\n",
    "    if add_to_main:\n",
    "        add_notation_note_to_see_also(notation_note, main_note)\n",
    "    return notation_note\n",
    "    \n",
    "\n",
    "def _full_notation_string(\n",
    "        main_note: VaultNote,\n",
    "        notation: str,\n",
    "        description: str,\n",
    "        latex_in_original: str) -> str:\n",
    "    \"\"\"The full \"statement\" of a notation.\n",
    "    \n",
    "    Says something like \"<notation> denotes <description of notation>\", e.g.\n",
    "    \"$\\dim V$ denotes the dimension of the vector space $V$\".\n",
    "    \n",
    "    **Parameters**\n",
    "    - notation - str\n",
    "        - Notation written in LaTeX.\n",
    "    - description - str\n",
    "        - The full description of the notation.\n",
    "        \n",
    "    **Returns**\n",
    "    - str\n",
    "    \"\"\"\n",
    "    raw_notation = _raw_notation(notation)\n",
    "    denote_link = ObsidianLink(False, main_note.name, 0, 'denotes')\n",
    "    meta_latex_in_original = _raw_notation(\n",
    "        latex_in_original).replace('\\\\', '\\\\\\\\')\n",
    "    before_meta = _notation_string_no_metadata(\n",
    "        raw_notation, denote_link, description)\n",
    "    return (f'---\\ndetect_regex: []\\n'\n",
    "            f'latex_in_original: [\"{meta_latex_in_original}\"]\\n'\n",
    "            f'tags: []'\n",
    "            f'\\n---\\n{before_meta}')\n",
    "\n",
    "\n",
    "def _raw_notation(notation: str):\n",
    "    \"\"\"\n",
    "    \"\"\"\n",
    "    notation = notation.strip()\n",
    "    notation = notation.strip('$')\n",
    "    notation = notation.replace('\\n', '')\n",
    "    notation = notation.strip()\n",
    "    return notation\n",
    "\n",
    "\n",
    "def _notation_string_no_metadata(\n",
    "        raw_notation: str,\n",
    "        denote_link: ObsidianLink,\n",
    "        description: str) -> str:\n",
    "    \"\"\"\n",
    "    This is a helper function to `_full_notation_string`.\n",
    "    \"\"\"\n",
    "    return f'${raw_notation}$ {str(denote_link)} {description}'\n",
    "\n"
   ]
  },
  {
   "cell_type": "code",
   "execution_count": 9,
   "metadata": {},
   "outputs": [],
   "source": [
    "#| hide\n",
    "test_eq(\n",
    "    _notation_string_no_metadata(r'\\operatorname{Gal}(L/K)', ObsidianLink.from_text('[[note_name|denotes]]'), 'the Galois group of a Galois extension $L/K$ of fields'),\n",
    "    '$\\\\operatorname{Gal}(L/K)$ [[note_name|denotes]] the Galois group of a Galois extension $L/K$ of fields')\n"
   ]
  },
  {
   "cell_type": "markdown",
   "metadata": {},
   "source": [
    "We can make a notation note with the `make_a_notation_note` method."
   ]
  },
  {
   "cell_type": "code",
   "execution_count": 10,
   "metadata": {},
   "outputs": [
    {
     "name": "stdout",
     "output_type": "stream",
     "text": [
      "{'detect_regex': [], 'latex_in_original': ['\\\\operatorname{Gal}(L/K)'], 'tags': []} \n",
      "\n",
      "---\n",
      "detect_regex: []\n",
      "latex_in_original: [\"\\\\operatorname{Gal}(L/K)\"]\n",
      "tags: []\n",
      "---\n",
      "$\\operatorname{Gal}(L/K)$ [[galois_group|denotes]]  \n",
      "\n"
     ]
    }
   ],
   "source": [
    "with tempfile.TemporaryDirectory(prefix='tmp_dir_', dir=os.getcwd()) as tmp_dir:\n",
    "    tmp_dir = Path(tmp_dir)\n",
    "    temp_vault = tmp_dir / 'test_vault_7'\n",
    "    shutil.copytree(_test_directory() / 'test_vault_7', temp_vault)\n",
    "\n",
    "    note = VaultNote(temp_vault, name='galois_group')\n",
    "    notation_note = make_a_notation_note(\n",
    "        note, temp_vault, r'\\operatorname{Gal}(L/K)', '', notation_note_name='some_reference_name_notation_Gal_L_K_galois_group')\n",
    "    mf = MarkdownFile.from_vault_note(notation_note)\n",
    "    assert mf.has_metadata()\n",
    "    meta = mf.metadata()\n",
    "    assert 'detect_regex' in meta\n",
    "    assert 'latex_in_original' in meta\n",
    "    print(meta, '\\n')\n",
    "    assert '\\\\operatorname{Gal}(L/K)' in meta['latex_in_original']\n",
    "    print(mf, '\\n')\n",
    "\n",
    "    main_mf = MarkdownFile.from_vault_note(note)\n",
    "    # print(main_mf)\n",
    "    assert notation_note.name in str(main_mf)  # A link has been created\n",
    "    # os.startfile(temp_vault)\n",
    "    # input()"
   ]
  },
  {
   "cell_type": "markdown",
   "metadata": {},
   "source": [
    "Note that the surrounding dollar signs for LaTeX math mode can be included in the argument for `notation`:"
   ]
  },
  {
   "cell_type": "code",
   "execution_count": 11,
   "metadata": {},
   "outputs": [
    {
     "name": "stdout",
     "output_type": "stream",
     "text": [
      "{'detect_regex': [], 'latex_in_original': ['\\\\operatorname{Gal}(L/K)'], 'tags': []} \n",
      "\n",
      "---\n",
      "detect_regex: []\n",
      "latex_in_original: [\"\\\\operatorname{Gal}(L/K)\"]\n",
      "tags: []\n",
      "---\n",
      "$\\operatorname{Gal}(L/K)$ [[galois_group|denotes]]  \n",
      "\n"
     ]
    }
   ],
   "source": [
    "with tempfile.TemporaryDirectory(prefix='tmp_dir_', dir=os.getcwd()) as tmp_dir:\n",
    "    tmp_dir = Path(tmp_dir)\n",
    "    temp_vault = tmp_dir / 'test_vault_7'\n",
    "    shutil.copytree(_test_directory() / 'test_vault_7', temp_vault)\n",
    "\n",
    "    note = VaultNote(temp_vault, name='galois_group')\n",
    "    notation_note = make_a_notation_note(\n",
    "        note, temp_vault, r'$\\operatorname{Gal}(L/K)$', '', notation_note_name='some_reference_name_notation_Gal_L_K_galois_group')\n",
    "    mf = MarkdownFile.from_vault_note(notation_note)\n",
    "    assert mf.has_metadata()\n",
    "    meta = mf.metadata()\n",
    "    assert 'detect_regex' in meta\n",
    "    assert 'latex_in_original' in meta\n",
    "    print(meta, '\\n')\n",
    "    assert '\\\\operatorname{Gal}(L/K)' in meta['latex_in_original']\n",
    "    print(mf, '\\n')\n",
    "\n",
    "    main_mf = MarkdownFile.from_vault_note(note)\n",
    "    # print(main_mf)\n",
    "    assert notation_note.name in str(main_mf)  # A link has been created\n",
    "    # os.startfile(temp_vault)\n",
    "    # input()"
   ]
  },
  {
   "cell_type": "markdown",
   "metadata": {},
   "source": [
    "Setting `add_to_main=False` only creates the notation note, but does not add a link to the notation note in the main note:"
   ]
  },
  {
   "cell_type": "code",
   "execution_count": 12,
   "metadata": {},
   "outputs": [
    {
     "name": "stdout",
     "output_type": "stream",
     "text": [
      "{'detect_regex': [], 'latex_in_original': ['\\\\operatorname{Gal}(L/K)'], 'tags': []} \n",
      "\n",
      "---\n",
      "detect_regex: []\n",
      "latex_in_original: [\"\\\\operatorname{Gal}(L/K)\"]\n",
      "tags: []\n",
      "---\n",
      "$\\operatorname{Gal}(L/K)$ [[galois_group|denotes]]  \n",
      "\n"
     ]
    }
   ],
   "source": [
    "with tempfile.TemporaryDirectory(prefix='tmp_dir_', dir=os.getcwd()) as tmp_dir:\n",
    "    tmp_dir = Path(tmp_dir)\n",
    "    temp_vault = tmp_dir / 'test_vault_7'\n",
    "    shutil.copytree(_test_directory() / 'test_vault_7', temp_vault)\n",
    "\n",
    "    note = VaultNote(temp_vault, name='galois_group')\n",
    "    notation_note = make_a_notation_note(\n",
    "        note, temp_vault, r'\\operatorname{Gal}(L/K)', '', notation_note_name='_reference_notation_Gal_L_K_galois_group',\n",
    "        add_to_main=False)\n",
    "\n",
    "    mf = MarkdownFile.from_vault_note(notation_note)\n",
    "    assert mf.has_metadata()\n",
    "    meta = mf.metadata()\n",
    "    assert 'detect_regex' in meta\n",
    "    assert 'latex_in_original' in meta\n",
    "    print(meta, '\\n')\n",
    "    assert '\\\\operatorname{Gal}(L/K)' in meta['latex_in_original']\n",
    "    print(mf, '\\n')\n",
    "\n",
    "    main_mf = MarkdownFile.from_vault_note(note)\n",
    "    # print(main_mf)\n",
    "    assert notation_note.name not in str(main_mf)  # No link has been created"
   ]
  },
  {
   "cell_type": "markdown",
   "metadata": {},
   "source": [
    "If the notation note of the specified name (`notation_note_name`) already exists, then by default no note is created and no link is added in the main note. "
   ]
  },
  {
   "cell_type": "code",
   "execution_count": 13,
   "metadata": {},
   "outputs": [],
   "source": [
    "with tempfile.TemporaryDirectory(prefix='tmp_dir_', dir=os.getcwd()) as tmp_dir:\n",
    "    tmp_dir = Path(tmp_dir)\n",
    "    temp_vault = tmp_dir / 'test_vault_7'\n",
    "    shutil.copytree(_test_directory() / 'test_vault_7', temp_vault)\n",
    "\n",
    "    note = VaultNote(temp_vault, name='spectrum_of_a_ring')\n",
    "    notation_note = make_a_notation_note(\n",
    "        note, temp_vault, r'\\operatorname{Spec} A', '', notation_note_name='some_reference_name_notation_Spec_A')\n",
    "\n",
    "    assert notation_note is None\n",
    "\n",
    "    main_mf = MarkdownFile.from_vault_note(note)\n",
    "    # print(main_mf)\n",
    "    assert main_mf.get_headings_and_text()['# See Also'].strip() == ''  # No link has been added"
   ]
  },
  {
   "cell_type": "markdown",
   "metadata": {},
   "source": [
    "Setting `overwrite=True`, however, will overwrite the existing note. The method will also add a link to the (overwritten) notation note."
   ]
  },
  {
   "cell_type": "code",
   "execution_count": 14,
   "metadata": {},
   "outputs": [
    {
     "name": "stdout",
     "output_type": "stream",
     "text": [
      "---\n",
      "detect_regex: []\n",
      "latex_in_original: [\"\\\\operatorname{Spec} A\"]\n",
      "tags: []\n",
      "---\n",
      "$\\operatorname{Spec} A$ [[spectrum_of_a_ring|denotes]] \n"
     ]
    }
   ],
   "source": [
    "with tempfile.TemporaryDirectory(prefix='tmp_dir_', dir=os.getcwd()) as tmp_dir:\n",
    "    tmp_dir = Path(tmp_dir)\n",
    "    temp_vault = tmp_dir / 'test_vault_7'\n",
    "    shutil.copytree(_test_directory() / 'test_vault_7', temp_vault)\n",
    "\n",
    "    note = VaultNote(temp_vault, name='spectrum_of_a_ring')\n",
    "    notation_note = make_a_notation_note(\n",
    "        note, temp_vault, r'\\operatorname{Spec} A', '', notation_note_name='some_reference_name_notation_Spec_A',\n",
    "        overwrite=True)\n",
    "\n",
    "    assert notation_note is not None\n",
    "\n",
    "    main_mf = MarkdownFile.from_vault_note(note)\n",
    "    assert notation_note.name in str(main_mf)\n",
    "    notation_mf = MarkdownFile.from_vault_note(notation_note) \n",
    "    # notation_mf has been overwritten\n",
    "    print(notation_mf)"
   ]
  },
  {
   "cell_type": "code",
   "execution_count": 15,
   "metadata": {},
   "outputs": [
    {
     "name": "stdout",
     "output_type": "stream",
     "text": [
      "---\n",
      "detect_regex: []\n",
      "latex_in_original: [\"\"]\n",
      "tags: []\n",
      "---\n",
      "$\\operatorname{Gal}(L/K)$ [[galois_group|denotes]] \n"
     ]
    }
   ],
   "source": [
    "#| hide\n",
    "vault = _test_directory() / 'test_vault_7'\n",
    "note = VaultNote(vault, name='galois_group')\n",
    "output = _full_notation_string(note, notation=r'\\operatorname{Gal}(L/K)', description='', latex_in_original='')\n",
    "print(output)\n",
    "assert r'$\\operatorname{Gal}(L/K)$' in output\n",
    "assert '[[galois_group|denotes]]' in output"
   ]
  },
  {
   "cell_type": "code",
   "execution_count": 16,
   "metadata": {},
   "outputs": [],
   "source": [
    "#| hide\n",
    "assert _raw_notation(r'$$$\\mathscr{O}_X$$') == r'\\mathscr{O}_X'\n",
    "assert _raw_notation(r'$$ \\operatorname{Spec} A  $$') == r'\\operatorname{Spec} A'\n",
    "assert _raw_notation(r'$f_\\mathfrak{p}$') == r'f_\\mathfrak{p}'\n",
    "assert _raw_notation(r'$ \\mathscr{O}_X') == r'\\mathscr{O}_X'\n",
    "assert _raw_notation(r'\\operatorname{Gal}(L/K)') == r'\\operatorname{Gal}(L/K)'\n",
    "test_eq(_raw_notation('\\\\operatorname\\n{Gal}(L/K)'), r'\\operatorname{Gal}(L/K)')"
   ]
  },
  {
   "cell_type": "code",
   "execution_count": 17,
   "metadata": {},
   "outputs": [],
   "source": [
    "#| hide\n",
    "latex_string_1 = r'$$$\\mathscr{O}_X$$'\n",
    "output_1 = _full_notation_string(note, notation=latex_string_1, description='', latex_in_original=latex_string_1)\n",
    "latex_string_2 = r'$$ \\mathscr{O}_X $$'\n",
    "output_2 = _full_notation_string(note, notation=latex_string_2, description='', latex_in_original=latex_string_2)\n",
    "latex_string_3 = r'$\\mathscr{O}_X$'\n",
    "output_3 = _full_notation_string(note, notation=latex_string_3, description='', latex_in_original=latex_string_3)\n",
    "latex_string_4 = r'$ \\mathscr{O}_X'\n",
    "output_4 = _full_notation_string(note, notation=latex_string_4, description='', latex_in_original=latex_string_4)\n",
    "assert output_1 == output_2\n",
    "assert output_2 == output_3\n",
    "assert output_3 == output_4"
   ]
  },
  {
   "cell_type": "code",
   "execution_count": 18,
   "metadata": {},
   "outputs": [],
   "source": [
    "#| export\n",
    "MAX_NOTE_NAME_LENGTH = 80\n",
    "def _make_notat_notes_from_sifted_notats(\n",
    "        main_note: VaultNote, vault: PathLike, reference_name: str,\n",
    "        notations: list[tuple[str, str]], destination: Optional[PathLike],\n",
    "        overwrite: bool, add_to_main: bool) -> list[VaultNote]:\n",
    "    \"\"\"\n",
    "    Create the notation notes based on notations \n",
    "    that were found in `main_note` (either surrounded by\n",
    "    double asterisks `**` or within an HTML tag.)\n",
    "\n",
    "    This is a helper function to `make_notation_notes_from_double_asts`\n",
    "    and `make_notation_notes_from_HTML_tags`.\n",
    "    \"\"\"\n",
    "    # TODO: test that note names aren't too long.\n",
    "    new_notes = []\n",
    "    for full, notation in reversed(notations):\n",
    "        if not notation:\n",
    "            notation = full\n",
    "        notation_note_name = f'{reference_name}_notation_'\\\n",
    "            f'{latex_to_path_accepted_string(notation)}'\n",
    "        if len(notation_note_name) > MAX_NOTE_NAME_LENGTH:\n",
    "            notation_note_name = notation_note_name[:MAX_NOTE_NAME_LENGTH]\n",
    "        notation_note_name = VaultNote.unique_name(\n",
    "            notation_note_name, vault)\n",
    "        new_note = make_a_notation_note(\n",
    "            main_note, vault, notation, '', notation_note_name,\n",
    "            destination, overwrite, add_to_main, latex_in_original=full)\n",
    "        if new_note:\n",
    "            new_notes.append(new_note)\n",
    "    return new_notes\n",
    "    "
   ]
  },
  {
   "cell_type": "code",
   "execution_count": 19,
   "metadata": {},
   "outputs": [],
   "source": [
    "#| hide"
   ]
  },
  {
   "cell_type": "markdown",
   "metadata": {},
   "source": [
    "#### Make notation notes from double asterisks surrounding notations"
   ]
  },
  {
   "cell_type": "code",
   "execution_count": 20,
   "metadata": {},
   "outputs": [],
   "source": [
    "#| export\n",
    "def make_notation_notes_from_double_asts(\n",
    "        main_note: VaultNote, # The standard information note from which the notations are marked with double asterisks\n",
    "        vault: PathLike, # The name of the reference; the notation note's name will start with `{reference_name}_notation_`.\n",
    "        reference_name: str,\n",
    "        destination: Optional[PathLike] = None, # The directory to create the new notation notes in.  If `None`, then creates the new notation note in the same place as the note specified by `note_name`\n",
    "        overwrite: bool = False, # If `True`, overwrite file of the same path as the new notation file to be written, if such a file exists.  Otherwise, does nothing. Defaults to `False`.\n",
    "        add_to_main: bool = True # If `True`, adds links to the notation note in the `See Also` section of the main note.\n",
    "        ) -> list[VaultNote]: # The list of VaultNotes that are newly created/modified.\n",
    "    \"\"\"Make notation notes based on double asterisks surrounding LaTeX text in\n",
    "    a standard information note.\n",
    "\n",
    "    Notations are deemed to be completely LaTeX text in info notes that\n",
    "    are surrounded by double asterisks. In basicality, if such a LaTeX\n",
    "    text (without surrounding dollars signs `$` or `$$`) is listed in\n",
    "    the `latex_in_original` metadata section of some notation note in the same\n",
    "    directory as the info note whose main note is the info note in question,\n",
    "    then a new notation note for that LaTeX text \n",
    "    is not created. However, if there are multiple instances of the same\n",
    "    LaTeX text, then some notation notes may be created so that the number\n",
    "    of times the LaTeX text appears in the info note is the no more than\n",
    "    the number of times the LaTeX text appears in `latex_in_original` metadata\n",
    "    sections of notation notes (in the same directory as the info note whose\n",
    "    main note is the info note).\n",
    "\n",
    "    For example, if there is an info note with notations `A`, `A`, `'A'`,\n",
    "    `'A'`, and `B` and if there is a single notation note in the same\n",
    "    directory as the info note with two `'A'` and `'A'` entries in its\n",
    "    `latex_in_original` metadata section, then three notation notes will be\n",
    "    created: two with `'A'` listed in their `latex_in_original` sections, and\n",
    "    one with `'B'` listed in its `latex_in_original` section.\n",
    "\n",
    "    **Raises**\n",
    "\n",
    "    - Warning\n",
    "        - If there are notation notes whose main note is determined to\n",
    "        be to `main_note` and whose notations \"excessively cover\" those\n",
    "        in `main_note`, i.e. the notation notes have more notations than\n",
    "        `main_note` introduces. The main note and the excessive\n",
    "        notations are printed; the notations are printed instead of the \n",
    "        notation notes because the same notation may span either multiple\n",
    "        or single notation notes.\n",
    "    \"\"\"\n",
    "    # Find notations\n",
    "    notations = notat_str_from_doub_asts_in_std_info_note(main_note)\n",
    "    notations = [_raw_notation(notation) for notation in notations]\n",
    "    # Get only the notations not already made into notes based on\n",
    "    # latex_in_original\n",
    "    all_latex_in_original = _latex_in_original_from_notat_notes_to_main_note(\n",
    "        vault, main_note)\n",
    "    notations_to_create = Multiset(notations).difference(all_latex_in_original)\n",
    "    notations_to_create = [(notat, \"\") for notat in notations_to_create]\n",
    "    # Alert of existing notations that should not be there\n",
    "    excess_notations = all_latex_in_original.difference(Multiset(notations))\n",
    "    excess_notations = list(excess_notations)\n",
    "    if excess_notations:\n",
    "        warnings.warn(\n",
    "            f\"The following note has the following excess notations: \"\n",
    "            f\"{main_note.name}, {', '.join(excess_notations)}\")\n",
    "    # Make notation notes\n",
    "    return _make_notat_notes_from_sifted_notats(\n",
    "        main_note, vault, reference_name, notations_to_create,\n",
    "        destination, overwrite, add_to_main)\n",
    "    \n",
    "\n",
    "def _latex_in_original_in_notat(\n",
    "        notation_note: VaultNote\n",
    "        ) -> list[str]:\n",
    "    \"\"\"Return the `latex_in_original` metadata section of the notation note.\n",
    "    \n",
    "    If the `latex_in_original` metadata section does not exist, then returns\n",
    "    the list consisting of the notation in the notation note.\n",
    "    \"\"\"\n",
    "    # TODO: test in the case that `latex_in_original` section does not exist\n",
    "    mf = MarkdownFile.from_vault_note(notation_note)\n",
    "    metadata = mf.metadata()\n",
    "    if metadata is not None:\n",
    "        return metadata.get('latex_in_original',\n",
    "                            [notation_in_note(notation_note).strip('$')])\n",
    "    else:\n",
    "        return [notation_in_note(notation_note)]\n",
    "\n",
    "    \n",
    "def _latex_in_original_from_notat_notes_to_main_note(\n",
    "        vault: PathLike,\n",
    "        main_note: VaultNote # The info note\n",
    "        ) -> Multiset:\n",
    "    \"\"\"Return a Multiset enumerating the entries of `latex_in_original`\n",
    "    in the notation notes in the same directory as an info note\n",
    "    \"\"\"\n",
    "    notation_notes_in_folder = notations_and_main_notes(vault, note=main_note)\n",
    "    notation_notes_of_main_note = [\n",
    "        VaultNote(vault, name=notation_note) for notation_note, info_note\n",
    "        in notation_notes_in_folder.items()\n",
    "        if main_note.name == info_note]\n",
    "\n",
    "    all_latex_in_original = Multiset()\n",
    "    for notat_note in notation_notes_of_main_note:\n",
    "        all_latex_in_original.update(_latex_in_original_in_notat(notat_note))\n",
    "    return all_latex_in_original\n",
    "\n",
    "\n",
    "\n"
   ]
  },
  {
   "cell_type": "markdown",
   "metadata": {},
   "source": [
    "As described in `markdown.obsidian.personal.machine_learning.notation_identification`, we surround a LaTeX math mode string with double asterisks `**` to indicate that the string introduces a notation."
   ]
  },
  {
   "cell_type": "markdown",
   "metadata": {},
   "source": [
    "The `make_notation_notes_from_double_asts` method parses LaTeX surrounded by double asterisks `**` in a standard information note and automatically creates notation notes for said LaTeX."
   ]
  },
  {
   "cell_type": "code",
   "execution_count": 21,
   "metadata": {},
   "outputs": [],
   "source": [
    "with tempfile.TemporaryDirectory(prefix='tmp_dir_', dir=os.getcwd()) as tmp_dir:\n",
    "    tmp_dir = Path(tmp_dir)\n",
    "    temp_vault = tmp_dir / 'test_vault_6'\n",
    "    shutil.copytree(_test_directory() / 'test_vault_6', temp_vault)\n",
    "\n",
    "    # os.startfile(temp_vault)\n",
    "    # input()\n",
    "    info_note = VaultNote(temp_vault, name='reference_for_notation_notes_introducing_some_notations')\n",
    "    new_notes = make_notation_notes_from_double_asts(info_note, temp_vault, 'reference_for_notation_notes')\n",
    "    \n",
    "    assert len(new_notes) == 3\n",
    "    for new_note in new_notes:\n",
    "        assert new_note.exists()\n",
    "        assert notation_note_is_linked_in_see_also_section(new_note, info_note)\n",
    "    # input()\n",
    "    # TODO: add more tests - overwrite=True, add_to_main=False"
   ]
  },
  {
   "cell_type": "markdown",
   "metadata": {},
   "source": [
    "In the following example, we prompt `make_notation_notes_from_double_asts` to make notation notes for an info note with no notations - nothing is modified:"
   ]
  },
  {
   "cell_type": "code",
   "execution_count": 22,
   "metadata": {},
   "outputs": [],
   "source": [
    "with tempfile.TemporaryDirectory(prefix='tmp_dir_', dir=os.getcwd()) as tmp_dir:\n",
    "    tmp_dir = Path(tmp_dir)\n",
    "    temp_vault = tmp_dir / 'test_vault_6'\n",
    "    shutil.copytree(_test_directory() / 'test_vault_6', temp_vault)\n",
    "\n",
    "    info_note = VaultNote(temp_vault, name='reference_for_notation_notes_no_notations_introduced_here')\n",
    "    info_note_content_before = info_note.text()\n",
    "    new_notes = make_notation_notes_from_double_asts(info_note, temp_vault, 'reference_for_notation_notes')\n",
    "    info_note_content_after = info_note.text()\n",
    "    \n",
    "    assert len(new_notes) == 0\n",
    "    assert info_note_content_before == info_note_content_after"
   ]
  },
  {
   "cell_type": "markdown",
   "metadata": {},
   "source": [
    "In the following example, we prompt `make_notation_notes_from_double_asts` on the same info note twice - no new notation notes are created the second time."
   ]
  },
  {
   "cell_type": "code",
   "execution_count": 23,
   "metadata": {},
   "outputs": [],
   "source": [
    "with tempfile.TemporaryDirectory(prefix='tmp_dir_', dir=os.getcwd()) as tmp_dir:\n",
    "    tmp_dir = Path(tmp_dir)\n",
    "    temp_vault = tmp_dir / 'test_vault_6'\n",
    "    shutil.copytree(_test_directory() / 'test_vault_6', temp_vault)\n",
    "\n",
    "    info_note = VaultNote(temp_vault, name='reference_for_notation_notes_introducing_some_notations')\n",
    "    make_notation_notes_from_double_asts(info_note, temp_vault, 'milne_av')\n",
    "    new_notes = make_notation_notes_from_double_asts(info_note, temp_vault, 'milne_av')\n",
    "    assert len(new_notes) == 0\n",
    "    "
   ]
  },
  {
   "cell_type": "markdown",
   "metadata": {},
   "source": [
    "In the following example, an info note contains two of the same notation. One notation note for each of these notations is created, but with different names:"
   ]
  },
  {
   "cell_type": "code",
   "execution_count": 24,
   "metadata": {},
   "outputs": [
    {
     "name": "stdout",
     "output_type": "stream",
     "text": [
      "some_reference_name_notation_Cl_K\n",
      "some_reference_name_notation_Cl_K_1\n"
     ]
    }
   ],
   "source": [
    "with tempfile.TemporaryDirectory(prefix='tmp_dir_', dir=os.getcwd()) as tmp_dir:\n",
    "    tmp_dir = Path(tmp_dir)\n",
    "    temp_vault = tmp_dir / 'test_vault_7'\n",
    "    shutil.copytree(_test_directory() / 'test_vault_7', temp_vault)\n",
    "\n",
    "    info_note = VaultNote(temp_vault, name='note_with_repeated_notation')\n",
    "    new_notes = make_notation_notes_from_double_asts(info_note, temp_vault, 'some_reference_name')\n",
    "    assert len(new_notes) == 2\n",
    "    print(new_notes[0].name)\n",
    "    print(new_notes[1].name)"
   ]
  },
  {
   "cell_type": "markdown",
   "metadata": {},
   "source": [
    "In the following example, there are notation notes with the info note as their main note, but some of the notations in these notation notes cover those in the info note \"excessively\" - in this case, only notation notes to uncovered notations are created, and warnings are raised to indicate which notations are covered excessively."
   ]
  },
  {
   "cell_type": "code",
   "execution_count": 25,
   "metadata": {},
   "outputs": [
    {
     "name": "stderr",
     "output_type": "stream",
     "text": [
      "C:\\Users\\hyunj\\AppData\\Local\\Temp\\ipykernel_20912\\2025152828.py:57: UserWarning: The following note has the following excess notations: note_with_some_excessive_notation_notes, \\mathcal{B}(\\mathbb{R}), \\operatorname{Jac}(C)\n",
      "  warnings.warn(\n"
     ]
    }
   ],
   "source": [
    "with tempfile.TemporaryDirectory(prefix='tmp_dir_', dir=os.getcwd()) as tmp_dir:\n",
    "    tmp_dir = Path(tmp_dir)\n",
    "    temp_vault = tmp_dir / 'test_vault_7'\n",
    "    shutil.copytree(_test_directory() / 'test_vault_7', temp_vault)\n",
    "\n",
    "    info_note = VaultNote(temp_vault, name='note_with_some_excessive_notation_notes')\n",
    "    new_notes = make_notation_notes_from_double_asts(info_note, temp_vault, 'some_reference_name')\n",
    "    assert len(new_notes) == 1"
   ]
  },
  {
   "cell_type": "code",
   "execution_count": 26,
   "metadata": {},
   "outputs": [],
   "source": [
    "#| hide\n",
    "with tempfile.TemporaryDirectory(prefix='tmp_dir_', dir=os.getcwd()) as tmp_dir:\n",
    "    tmp_dir = Path(tmp_dir)\n",
    "    temp_vault = tmp_dir / 'test_vault_7'\n",
    "    shutil.copytree(_test_directory() / 'test_vault_7', temp_vault)\n",
    "\n",
    "    info_note = VaultNote(temp_vault, name='foag_1.3.5')\n",
    "    new_notes = make_notation_notes_from_double_asts(info_note, temp_vault, 'foag')\n",
    "    assert len(new_notes) == 0"
   ]
  },
  {
   "cell_type": "code",
   "execution_count": 27,
   "metadata": {},
   "outputs": [],
   "source": [
    "# TODO: move notation notes to directory of main notes"
   ]
  },
  {
   "cell_type": "markdown",
   "metadata": {},
   "source": [
    "#### Make notation notes from HTML tags surrounding notations"
   ]
  },
  {
   "cell_type": "code",
   "execution_count": 28,
   "metadata": {},
   "outputs": [],
   "source": [
    "#| export\n",
    "def make_notation_notes_from_HTML_tags(\n",
    "        main_note: VaultNote, # The standard information note from which the notations are marked with double asterisks\n",
    "        vault: PathLike, # The name of the reference; the notation note's name will start with `{reference_name}_notation_`.\n",
    "        reference_name: str,\n",
    "        destination: Optional[PathLike] = None, # The directory to create the new notation notes in.  If `None`, then creates the new notation note in the same place as the note specified by `note_name`\n",
    "        overwrite: bool = False, # If `True`, overwrite file of the same path as the new notation file to be written, if such a file exists.  Otherwise, does nothing. Defaults to `False`.\n",
    "        add_to_main: bool = True # If `True`, adds links to the notation note in the `See Also` section of the main note.\n",
    "        ) -> list[VaultNote]: # The list of VaultNotes that are newly created/modified.\n",
    "    r\"\"\"Make notation notes based on double asterisks surrounding LaTeX text\n",
    "    in a standard information note.\n",
    "\n",
    "    Notations are determined by HTML tags with the `notation`\n",
    "    attribute in them. For instance, `<span notation=\"\">$H^i$</span>`\n",
    "    Is deemed to be a notation and the text of the notation note starts\n",
    "    with \"$H^i$ [[main_note.name|denotes]]\".\n",
    "    \n",
    "    The `notation` attribute\n",
    "    can also be used to specify more precisely the notation\n",
    "    multiple notation notes, e.g. the tag\n",
    "    `<span notation=\"h^i\">$h^i := \\dim_k H^i$</span>`\n",
    "    begets a notation note that starts with \"$h^i$ [[main_note.name|denotes]]\".\n",
    "    \n",
    "    The `notation` attribute can also be used to beget multiple notation notes\n",
    "    from a single HTML tag by separation by double semicolons `;;`. e.g. the\n",
    "    tag\n",
    "\n",
    "    `<span notation=\"IJ;;I+J\">$$IJ = \\langle ab: a \\in I, b \\in J \\rangle, \\quad I+J = \\{a+b: a \\in I, b \\in J \\}$</span>`\n",
    "\n",
    "    begets two notation notes, one which starts with\n",
    "    \"$IJ$ [[main_note.name|denotes]]\" and the other which starts with\n",
    "    \"$I+J$ [[main_note.name|denotes]]\"\n",
    "\n",
    "    **Raises**\n",
    "\n",
    "    - Warning\n",
    "\n",
    "        - If there are notation notes whose main note is determined to\n",
    "        be to `main_note` and whose notations \"excessively cover\" those\n",
    "        in `main_note`, i.e. the notation notes have more notations than\n",
    "        `main_note` introduces. The main note and the excessive\n",
    "        notations are printed; the notations are printed instead of the \n",
    "        notation notes because the same notation may span either multiple\n",
    "        or single notation notes.\n",
    "\n",
    "        - If there is a notation HTML tag surrounding text that is not a\n",
    "        pure latex string.\n",
    "    \"\"\"\n",
    "    # Find notations\n",
    "    pairs_of_notat_strs = notat_str_from_html_tags(main_note)\n",
    "    pairs_of_notat_strs = [(_raw_notation(full), actual) for full, actual in pairs_of_notat_strs]\n",
    "    full_latex = [full for full, _ in pairs_of_notat_strs]\n",
    "    # Get only the notations not already made into notes based on\n",
    "    # latex_in_original\n",
    "    all_latex_in_original = _latex_in_original_from_notat_notes_to_main_note(\n",
    "        vault, main_note)\n",
    "    notations_to_create = [\n",
    "        (full, actual) for full, actual in pairs_of_notat_strs if full not in all_latex_in_original]\n",
    "    # notations_to_create = Multiset(full_latex).difference(all_latex_in_original)\n",
    "    # notations_to_create = list(notations_to_create)\n",
    "\n",
    "    # Alert of existing notations that should not be there\n",
    "    excess_notations = all_latex_in_original.difference(Multiset(full_latex))\n",
    "    excess_notations = list(excess_notations)\n",
    "    if excess_notations:\n",
    "        warnings.warn(\n",
    "            f\"The following note has the following excess notations: \"\n",
    "            f\"{main_note.name}, {', '.join(excess_notations)}\")\n",
    "    # Make notation notes\n",
    "    return _make_notat_notes_from_sifted_notats(\n",
    "        main_note, vault, reference_name, notations_to_create,\n",
    "        destination, overwrite, add_to_main)"
   ]
  },
  {
   "cell_type": "code",
   "execution_count": 29,
   "metadata": {},
   "outputs": [],
   "source": [
    "# TODO: test"
   ]
  },
  {
   "cell_type": "markdown",
   "metadata": {},
   "source": [
    "# Decomposition of notation"
   ]
  },
  {
   "cell_type": "code",
   "execution_count": 30,
   "metadata": {},
   "outputs": [],
   "source": [
    "# #| export\n",
    "# def decompose_notation_as_sequence(\n",
    "#         notation # latex styled. Assumed to not be surrounded with `'$'`.\n",
    "#         ) -> list:\n",
    "#     \"\"\"\n",
    "#     **Parameters**\n",
    "#     - notation - str\n",
    "    \n",
    "#     **Returns**\n",
    "#     - list of str\n",
    "#     \"\"\"\n",
    "#     str_index = 0\n",
    "#     decomposition = []\n",
    "#     while str_index < len(notation):\n",
    "#         if notation[str_index] == '\\\\':\n",
    "#             j = 1\n",
    "#             while (str_index + j < len(notation)\n",
    "#                     and notation[str_index + j] not in [' ', '\\\\', '{', '(']):\n",
    "#                 j += 1\n",
    "#             latex_command = notation[str_index:str_index + j]\n",
    "#             decomposition.append(latex_command)\n",
    "#             str_index += j\n",
    "#         if str_index < len(notation):\n",
    "#             decomposition.append(notation[str_index])\n",
    "#         str_index += 1\n",
    "#     return decomposition\n",
    "\n",
    "\n",
    "# def compare_notations_for_sorting(\n",
    "#         notation1, # latex styled. Assumed to not be surrounded with `'$'`.\n",
    "#         notation2, # latex styled. Assumed to not be surrounded with `'$'`.\n",
    "#         character_ordering_list\n",
    "#         ) -> int:\n",
    "#     \"\"\"\n",
    "#     **Parameters**\n",
    "#     - notation - str\n",
    "#         - latex styled. Assumed to not be covered with `'$'`.\n",
    "    \n",
    "#     **Returns**\n",
    "#     - int\n",
    "#         - 1 if `notation2` is considered to come \"earlier\", -1 if\n",
    "#         `notation1` is considered to come \"earlier\", and 0 otherwise.\n",
    "#     \"\"\"\n",
    "#     decomposition1 = decompose_notation_as_sequence(notation1)\n",
    "#     decomposition2 = decompose_notation_as_sequence(notation2)\n",
    "#     index1, index2 = 0, 0\n",
    "#     while index1 < len(decomposition1) and index2 < len(decomposition2):\n",
    "#         return  #TODO\n",
    "#     if index1 < len(decomposition1):\n",
    "#         return 1\n",
    "#     if index2 < len(decomposition2):\n",
    "#         return -1\n",
    "#     return 0\n",
    "\n",
    "\n",
    "# def _find_next_effective_character(decomposition, index):\n",
    "#     while (index < len(decomposition)\n",
    "#             and decomposition[index] in ['{', '}', '(', ')', '[', ']', r'\\tilde',\n",
    "#                                          r'\\hat', r'\\bar', 'r\\overline']):\n",
    "#         return"
   ]
  },
  {
   "cell_type": "code",
   "execution_count": 31,
   "metadata": {},
   "outputs": [],
   "source": [
    "# decompose_notation_as_sequence(r'\\tilde{K} (X)')\n",
    "# decompose_notation_as_sequence(r'P(X;*,A)')\n",
    "# decompose_notation_as_sequence(r'\\operatorname{Spec} A')"
   ]
  },
  {
   "cell_type": "markdown",
   "metadata": {},
   "source": [
    "## Detect notations being used in reference"
   ]
  },
  {
   "cell_type": "markdown",
   "metadata": {},
   "source": [
    "### Regex from latex"
   ]
  },
  {
   "cell_type": "code",
   "execution_count": 32,
   "metadata": {},
   "outputs": [],
   "source": [
    "#| export\n",
    "SPECIAL_CHARACTERS = ['.', '+', '*', '?', '^', '$', '(', ')',\n",
    "                      '[', ']', '{', '}', '|', '\\\\']\n",
    "replaceable_groups = [['mathrm', 'operatorname', 'rm', 'text'],\n",
    "                      ['mathbf', 'bf'],\n",
    "                      ['mathit', 'it']]\n",
    "\n",
    "\n",
    "def _build_replacables_from_groups(\n",
    "        replaceable_groups: list[list[str]]) -> dict[str, set[str]]:\n",
    "    total_dict = {}\n",
    "    for listy in replaceable_groups:\n",
    "        set_for_group = set(listy)\n",
    "        for macro in listy:\n",
    "            total_dict[macro] = set_for_group\n",
    "    return total_dict\n",
    "\n",
    "\n",
    "REPLACEABLES = _build_replacables_from_groups(replaceable_groups)\n",
    "    \n",
    "\n",
    "def regex_from_latex(\n",
    "        latex: str, replaceables: dict[str, set[str]] = REPLACEABLES,\n",
    "        special_characters: list[str] = SPECIAL_CHARACTERS) -> str:\n",
    "    \"\"\"Returns regex to match latex math mode string which is essentially\n",
    "    equivalent to a specified latex math mode string.\n",
    "    \n",
    "    The outputs of this function may not work correctly.\n",
    "    The regex pattern does not have to fully match equivalent string.\n",
    "    \n",
    "    **Parameters**\n",
    "\n",
    "    - latex - str\n",
    "        - The latex math mode string. Does not include math mode delimiters\n",
    "        such as `$`, `$$`, `\\[ \\]` (although the characters `'\\['` and `'\\]'`\n",
    "        can still be part of the string, e.g. for optional arguments of a\n",
    "        macro/operator). Can include \"placeholders\" `r'\\1'`, `r'\\2'`, `r'\\3'`,\n",
    "        etc. to indicate substitutable/generics; the placeholders can be\n",
    "        substituted with any string.\n",
    "    - replaceables - dict[str, set[str]]\n",
    "        - latex strings/commands which are considered \"interreplacable\"\n",
    "    - special_characters - list[str]\n",
    "        - characters to add a backslash `'\\'` in front of for regex.\n",
    "        Defaults to a list consisting of special characters in regex.\n",
    "    \"\"\"\n",
    "    if not replaceables:\n",
    "        replaceables = {}\n",
    "    w = LatexWalker(latex)\n",
    "    nodelist, _, _ = w.get_latex_nodes(pos=0)\n",
    "    regex_parts = []\n",
    "    # print(nodelist)\n",
    "    for node in nodelist:\n",
    "        _look_into_node(node, regex_parts,\n",
    "                        replaceables, special_characters)\n",
    "    regex_parts.append('(?:[ \\\\{\\\\}]*)')\n",
    "    return ''.join(regex_parts)\n",
    "    \n",
    "def _look_into_node(\n",
    "        node: LatexNode, regex_parts: list[str],\n",
    "        replaceables: dict[str, set[str]],\n",
    "        special_characters: list[str]) -> None:\n",
    "    \"\"\"Appends to `regex_parts`\"\"\"\n",
    "    # hasattr(node, 'nodeargd')\n",
    "    # print(node)\n",
    "    if isinstance(node, LatexMacroNode):\n",
    "        macroname = node.macroname\n",
    "        if _macro_is_actually_placeholder(macroname):\n",
    "            regex_parts.append('(?:.*)')\n",
    "        else:\n",
    "            if macroname in replaceables:\n",
    "                replaceable_macros = replaceables[macroname]\n",
    "            else:\n",
    "                replaceable_macros = [macroname]\n",
    "            options_str = '|'.join(replaceable_macros)\n",
    "            options_str = f'(?:{options_str})'\n",
    "            regex_parts.append(fr'(?: *?)\\\\{options_str}(?: *?)')\n",
    "        for node in node.nodeargd.argnlist:\n",
    "            _look_into_node(node, regex_parts,\n",
    "                            replaceables, special_characters)\n",
    "    elif isinstance(node, LatexGroupNode):\n",
    "        # print('\\nGroup Node')\n",
    "        # print(node)\n",
    "        # print(node.nodelist)\n",
    "        delimiters = node.delimiters\n",
    "        regex_parts.append(f'\\\\{delimiters[0]}(?: *?)')\n",
    "        for node in node.nodelist:\n",
    "            _look_into_node(node, regex_parts,\n",
    "                            replaceables, special_characters)\n",
    "        regex_parts.append(f'(?: *?)\\\\{delimiters[1]}')\n",
    "    elif isinstance(node, LatexCharsNode):\n",
    "        # print('\\nChars Node')\n",
    "        # print(node)\n",
    "        # print(node.chars)\n",
    "        chars = node.chars.strip()\n",
    "        chars = list(chars)\n",
    "        chars = [f'\\\\{char}' if char in special_characters else char\n",
    "                 for char in chars]\n",
    "        # print(chars)\n",
    "        chars.insert(0, '')  # add the misc spaces/brackets front and back\n",
    "        chars.append('')\n",
    "        regex_optional_spaces_and_brackets = '(?:[ \\\\{\\\\}]*?)'.join(chars)\n",
    "        regex_parts.append(regex_optional_spaces_and_brackets)\n",
    "        \n",
    "def _macro_is_actually_placeholder(macro: str) -> bool:\n",
    "    return macro.isnumeric()"
   ]
  },
  {
   "cell_type": "code",
   "execution_count": 33,
   "metadata": {},
   "outputs": [
    {
     "name": "stdout",
     "output_type": "stream",
     "text": [
      "(?:[ \\{\\}]*?)e(?:[ \\{\\}]*?)(?:[ \\{\\}]*)\n"
     ]
    }
   ],
   "source": [
    "text = r\"\"\"e\"\"\"\n",
    "print(regex_from_latex(text, REPLACEABLES))"
   ]
  },
  {
   "cell_type": "markdown",
   "metadata": {},
   "source": [
    "### Get regex from notation note"
   ]
  },
  {
   "cell_type": "markdown",
   "metadata": {},
   "source": [
    "So far, I have just made notation notes in the form `'$math_mode_string$ denotes ...'`. I want to add frontmatter metadata in notation notes to indicate regex to detect the notation with placeholders."
   ]
  },
  {
   "cell_type": "code",
   "execution_count": 34,
   "metadata": {},
   "outputs": [],
   "source": [
    "#| export\n",
    "def regex_from_notation_note(vault: PathLike, note: VaultNote) -> str:\n",
    "    \"\"\"Returns a regex str to detect the notation of the notation note.\n",
    "    \n",
    "    The regex detection strings should be in a list labeled `detect_regex` in\n",
    "    the yaml frontmatter. If multiple strings are in the list, then the regex\n",
    "    will detect latex math mode strings roughly corresponding to any of them.\n",
    "    If multiple strings are in the list, then they must be ordered \n",
    "    \"by priority\", with the higher priority regexes coming first. It is good\n",
    "    to have these string in quotes `\"\"` to make sure that yaml can load them\n",
    "    safely. When doing so, make sure to escape characters, e.g. backslash\n",
    "    should be typed as `\\\\`, etc.\n",
    "    \n",
    "    The strings in `detect_regex` can include placeholders, cf.\n",
    "    ``regex_from_latex``.\n",
    "    \n",
    "    **Parameters**\n",
    "    - vault - PathLike\n",
    "    - note - VaultNote\n",
    "    \n",
    "    **Returns**\n",
    "    - str\n",
    "        - Of the regex used to detect the notation. The regex does not need to\n",
    "        fully match instances of the notation.\n",
    "    \"\"\"\n",
    "    assert note_is_of_type(note, PersonalNoteTypeEnum.NOTATION_NOTE)\n",
    "    mf = MarkdownFile.from_vault_note(note)\n",
    "    metadata = mf.metadata()\n",
    "    if metadata and 'detect_regex' in metadata:\n",
    "        detects = metadata['detect_regex']\n",
    "        regexes = [regex_from_latex(detect) for detect in detects]\n",
    "        return '|'.join(regexes)\n",
    "    else:\n",
    "        notation = notation_in_note(note, vault)\n",
    "        return regex_from_latex(notation[1:-1])  # Get rid of `'$'`."
   ]
  },
  {
   "cell_type": "code",
   "execution_count": 35,
   "metadata": {},
   "outputs": [],
   "source": [
    "# TODO: test"
   ]
  }
 ],
 "metadata": {
  "kernelspec": {
   "display_name": "python3",
   "language": "python",
   "name": "python3"
  },
  "language_info": {
   "codemirror_mode": {
    "name": "ipython",
    "version": 3
   },
   "file_extension": ".py",
   "mimetype": "text/x-python",
   "name": "python",
   "nbconvert_exporter": "python",
   "pygments_lexer": "ipython3",
   "version": "3.10.6"
  }
 },
 "nbformat": 4,
 "nbformat_minor": 2
}
