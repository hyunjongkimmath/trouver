{
 "cells": [
  {
   "cell_type": "code",
   "execution_count": null,
   "metadata": {},
   "outputs": [],
   "source": [
    "#| default_exp markdown.obsidian.personal.notation"
   ]
  },
  {
   "cell_type": "markdown",
   "metadata": {},
   "source": [
    "# markdown.obisidian.personal.notation\n",
    "> Functions for making and managing notation cards\n",
    "\n",
    "Mathematical texts are difficult to read not only because it introduces readers to new concepts that they are unfamiliar with but also because any given excerpt requires the reader to be familiar with notation that the writer chooses to use.\n",
    "\n",
    "The first time reader of a mathematical text thus must go on a wild goose hunt to find where the unfamiliar notations are defined. Unfortunately, the definitions may further introduce unfamiliar notations.\n",
    "\n",
    "Notation notes try to ease this problem to an extent by providing\n",
    "1. links to quickly find where notations are introduced\n",
    "2. the contexts under which the notations are defined, and\n",
    "3. miscellaneous descriptions of the notations as necessary. "
   ]
  },
  {
   "cell_type": "code",
   "execution_count": null,
   "metadata": {},
   "outputs": [],
   "source": [
    "#| export\n",
    "import re"
   ]
  },
  {
   "cell_type": "code",
   "execution_count": null,
   "metadata": {},
   "outputs": [],
   "source": [
    "from unittest import mock\n",
    "import shutil\n",
    "import tempfile\n",
    "\n",
    "from fastcore.test import *\n",
    "from pathvalidate import validate_filename \n",
    "from torch import Tensor\n",
    "\n",
    "from trouver.helper import _test_directory"
   ]
  },
  {
   "cell_type": "markdown",
   "metadata": {},
   "source": [
    "## Getting a path-valid string from a string containing latex"
   ]
  },
  {
   "cell_type": "code",
   "execution_count": null,
   "metadata": {},
   "outputs": [],
   "source": [
    "#| export\n",
    "CHARACTER_ORDERING_LIST =\\\n",
    "    ['A', 'a', r'\\Alpha', r'\\alpha', 'B', 'b', r'\\Beta', r'\\beta', 'C', 'c', r'\\Gamma',\n",
    "     r'\\gamma', 'D', 'd', r'\\Delta', r'\\delta', 'E', 'e', r'\\Epsilon', r'\\epsilon',\n",
    "     'F', 'f', 'G', 'g', 'H', 'h', r'\\Eta', r'\\eta', 'I', 'i', r'\\Iota', r'\\iota',\n",
    "     'J', 'j', 'K', 'k', r'\\Kappa', r'\\kappa', 'L', 'l', r'\\Lambda', r'\\lambda', 'M',\n",
    "     'm', r'\\Mu', r'\\mu', 'N', 'n', r'\\Nu', r'\\nu', 'O', 'o', r'\\Omicron', r'\\omicron'\n",
    "     'P', 'p', r'\\Pi', r'\\pi', r'\\Phi', r'\\phi', r'\\Psi', r'\\psi', 'Q', 'q', 'R', 'r', \n",
    "     r'\\Rho', r'\\rho', 'S', 's', r'\\Sigma', r'\\sigma', 'T', 't', r'\\Theta', r'\\theta',\n",
    "     r'\\Tau', r'\\tau', 'U', 'u', r'\\Upsilon', r'\\upsilon', 'V', 'v', 'W', 'w', r'\\Omega', r'\\omega',\n",
    "     'X', 'x', '\\Chi', '\\chi', 'Y', 'y', 'Z', 'z', '\\Zeta', '\\zeta', '*', r'\\bullet']\n",
    "DECORATING_CHARACTERS =\\\n",
    "    [r'\\tilde', r'\\hat', r'\\overline', r'\\bar', r'\\mathscr', r'\\mathcal',\n",
    "     r'\\mathfrak', r'\\\\operatorname', r'\\\\text', r'\\\\bf']\n",
    "NONEFFECTIVE_CHARACTERS =\\\n",
    "    ['^', '_', '{', '}', '(', ')', '[', ']']"
   ]
  },
  {
   "cell_type": "code",
   "execution_count": null,
   "metadata": {},
   "outputs": [],
   "source": [
    "#| export\n",
    "TO_REMOVE = [\n",
    "    '.', '\\'', '$', ')', '{', '}', ':', '?', '!', '#', '%', '&',\n",
    "    '\\\\', '<', '>', '*', '?', '\"', '@', '+', '`', '|', '=', '[', ']',\n",
    "    'mathscr', 'mathbf', 'mathrm', 'mathfrak', 'mathcal', 'mathbb', 'operatorname',\n",
    "    'left', 'right']\n",
    "TO_UNDERSCORE = [' ', '-', '^', '(', ',', '/']\n",
    "\n",
    "# TODO: make a universal latex to path string; it seems that latex.convert\n",
    "# might do something different when naming files.\n",
    "\n",
    "def latex_to_path_accepted_string(latex: str) -> str:\n",
    "    \"\"\"Convert a latex string to a path accepted string\n",
    "    \"\"\"\n",
    "    for to_remove in TO_REMOVE:\n",
    "        latex, _ = re.subn(re.escape(to_remove), '', latex)\n",
    "    for to_underscore in TO_UNDERSCORE:\n",
    "        latex, _ = re.subn(re.escape(to_underscore), '_', latex)\n",
    "    return latex"
   ]
  },
  {
   "cell_type": "markdown",
   "metadata": {},
   "source": [
    "We can turn a latex str into a path-valid string."
   ]
  },
  {
   "cell_type": "code",
   "execution_count": null,
   "metadata": {},
   "outputs": [
    {
     "name": "stdout",
     "output_type": "stream",
     "text": [
      "O_X\n",
      "Gal_L_K\n"
     ]
    }
   ],
   "source": [
    "sample_1 = r'\\mathcal{O}_X'\n",
    "output_1 = latex_to_path_accepted_string(sample_1)\n",
    "print(output_1)\n",
    "assert 'O' in output_1 and 'X' in output_1\n",
    "validate_filename(output_1)\n",
    "\n",
    "sample_2 = r'\\operatorname{Gal}(L/K)'\n",
    "output_2 = latex_to_path_accepted_string(sample_2)\n",
    "print(output_2)\n",
    "assert 'Gal' in output_2 and 'L' in output_2 and 'K' in output_2\n",
    "validate_filename(output_2)"
   ]
  }
 ],
 "metadata": {
  "kernelspec": {
   "display_name": "Python 3.10.6 64-bit",
   "language": "python",
   "name": "python3"
  }
 },
 "nbformat": 4,
 "nbformat_minor": 2
}
