{
 "cells": [
  {
   "cell_type": "code",
   "execution_count": null,
   "metadata": {},
   "outputs": [],
   "source": [
    "#| default_exp markdown.obsidian.personal.notation"
   ]
  },
  {
   "cell_type": "markdown",
   "metadata": {},
   "source": [
    "# markdown.obisidian.personal.notation\n",
    "> Functions for making and managing notation cards\n",
    "\n",
    "Mathematical texts are difficult to read not only because it introduces readers to new concepts that they are unfamiliar with but also because any given excerpt requires the reader to be familiar with notation that the writer chooses to use.\n",
    "\n",
    "The first time reader of a mathematical text thus must go on a wild goose hunt to find where the unfamiliar notations are defined. Unfortunately, the definitions may further introduce unfamiliar notations.\n",
    "\n",
    "Notation notes try to ease this problem to an extent by providing\n",
    "1. links to quickly find where notations are introduced\n",
    "2. the contexts under which the notations are defined, and\n",
    "3. miscellaneous descriptions of the notations as necessary. "
   ]
  },
  {
   "cell_type": "code",
   "execution_count": null,
   "metadata": {},
   "outputs": [],
   "source": [
    "#| export\n",
    "from os import PathLike\n",
    "from pathlib import Path\n",
    "import re\n",
    "from typing import Optional, Union\n",
    "import warnings\n",
    "\n",
    "from multiset import Multiset\n",
    "from pylatexenc.latexwalker import LatexNode, LatexMacroNode, LatexWalker, LatexGroupNode, LatexCharsNode\n",
    "\n",
    "from trouver.helper import notation_asterisk_indices\n",
    "from trouver.markdown.markdown.file import MarkdownFile, MarkdownLineEnum\n",
    "from trouver.markdown.obsidian.links import (\n",
    "    find_links_in_markdown_text, LinkType, ObsidianLink, MARKDOWNLINK_PATTERN, WIKILINK_PATTERN\n",
    ")\n",
    "from trouver.markdown.obsidian.personal.information_notes import bulleted_links_of_type_in_section\n",
    "from trouver.markdown.obsidian.personal.note_type import (\n",
    "    PersonalNoteTypeEnum, assert_note_is_of_type, note_is_of_type\n",
    ")\n",
    "from trouver.markdown.obsidian.vault import VaultNote, NotePathIsNotIdentifiedError, NoteDoesNotExistError"
   ]
  },
  {
   "cell_type": "code",
   "execution_count": null,
   "metadata": {},
   "outputs": [],
   "source": [
    "import os\n",
    "from unittest import mock\n",
    "import shutil\n",
    "import tempfile\n",
    "\n",
    "from fastcore.test import *\n",
    "from pathvalidate import validate_filename \n",
    "\n",
    "from trouver.helper import _test_directory"
   ]
  },
  {
   "cell_type": "markdown",
   "metadata": {},
   "source": [
    "## Getting a path-valid string from a string containing latex"
   ]
  },
  {
   "cell_type": "code",
   "execution_count": null,
   "metadata": {},
   "outputs": [],
   "source": [
    "#| export\n",
    "CHARACTER_ORDERING_LIST =\\\n",
    "    ['A', 'a', r'\\Alpha', r'\\alpha', 'B', 'b', r'\\Beta', r'\\beta', 'C', 'c', r'\\Gamma',\n",
    "     r'\\gamma', 'D', 'd', r'\\Delta', r'\\delta', 'E', 'e', r'\\Epsilon', r'\\epsilon',\n",
    "     'F', 'f', 'G', 'g', 'H', 'h', r'\\Eta', r'\\eta', 'I', 'i', r'\\Iota', r'\\iota',\n",
    "     'J', 'j', 'K', 'k', r'\\Kappa', r'\\kappa', 'L', 'l', r'\\Lambda', r'\\lambda', 'M',\n",
    "     'm', r'\\Mu', r'\\mu', 'N', 'n', r'\\Nu', r'\\nu', 'O', 'o', r'\\Omicron', r'\\omicron'\n",
    "     'P', 'p', r'\\Pi', r'\\pi', r'\\Phi', r'\\phi', r'\\Psi', r'\\psi', 'Q', 'q', 'R', 'r', \n",
    "     r'\\Rho', r'\\rho', 'S', 's', r'\\Sigma', r'\\sigma', 'T', 't', r'\\Theta', r'\\theta',\n",
    "     r'\\Tau', r'\\tau', 'U', 'u', r'\\Upsilon', r'\\upsilon', 'V', 'v', 'W', 'w', r'\\Omega', r'\\omega',\n",
    "     'X', 'x', '\\Chi', '\\chi', 'Y', 'y', 'Z', 'z', '\\Zeta', '\\zeta', '*', r'\\bullet']\n",
    "DECORATING_CHARACTERS =\\\n",
    "    [r'\\tilde', r'\\hat', r'\\overline', r'\\bar', r'\\mathscr', r'\\mathcal',\n",
    "     r'\\mathfrak', r'\\\\operatorname', r'\\\\text', r'\\\\bf']\n",
    "NONEFFECTIVE_CHARACTERS =\\\n",
    "    ['^', '_', '{', '}', '(', ')', '[', ']']"
   ]
  },
  {
   "cell_type": "code",
   "execution_count": null,
   "metadata": {},
   "outputs": [],
   "source": [
    "#| export\n",
    "TO_REMOVE = [\n",
    "    '.', '\\'', '$', ')', '{', '}', ':', '?', '!', '#', '%', '&',\n",
    "    '\\\\', '<', '>', '*', '?', '\"', '@', '+', '`', '|', '=', '[', ']',\n",
    "    'mathscr', 'mathbf', 'mathrm', 'mathfrak', 'mathcal', 'mathbb', 'operatorname',\n",
    "    'left', 'right']\n",
    "TO_UNDERSCORE = [' ', '-', '^', '(', ',', '/']\n",
    "\n",
    "# TODO: make a universal latex to path string; it seems that latex.convert\n",
    "# might do something different when naming files.\n",
    "\n",
    "def latex_to_path_accepted_string(latex: str) -> str:\n",
    "    \"\"\"Convert a latex string to a path accepted string\n",
    "    \"\"\"\n",
    "    for to_remove in TO_REMOVE:\n",
    "        latex, _ = re.subn(re.escape(to_remove), '', latex)\n",
    "    for to_underscore in TO_UNDERSCORE:\n",
    "        latex, _ = re.subn(re.escape(to_underscore), '_', latex)\n",
    "    return latex"
   ]
  },
  {
   "cell_type": "markdown",
   "metadata": {},
   "source": [
    "We can turn a latex str into a path-valid string."
   ]
  },
  {
   "cell_type": "code",
   "execution_count": null,
   "metadata": {},
   "outputs": [
    {
     "name": "stdout",
     "output_type": "stream",
     "text": [
      "O_X\n",
      "Gal_L_K\n"
     ]
    }
   ],
   "source": [
    "sample_1 = r'\\mathcal{O}_X'\n",
    "output_1 = latex_to_path_accepted_string(sample_1)\n",
    "print(output_1)\n",
    "assert 'O' in output_1 and 'X' in output_1\n",
    "validate_filename(output_1)\n",
    "\n",
    "sample_2 = r'\\operatorname{Gal}(L/K)'\n",
    "output_2 = latex_to_path_accepted_string(sample_2)\n",
    "print(output_2)\n",
    "assert 'Gal' in output_2 and 'L' in output_2 and 'K' in output_2\n",
    "validate_filename(output_2)"
   ]
  },
  {
   "cell_type": "markdown",
   "metadata": {},
   "source": [
    "# Parse notation note"
   ]
  },
  {
   "cell_type": "markdown",
   "metadata": {},
   "source": [
    "For the purposes of `trouver`, a notation note most usually starts in the format `<Notation> [[<link_to_note>|denotes]] <explanation of what that notation denotes/is defined as> <optional paragraphs discussing aspects about the notation>`. For example, \"$\\deg D$ [[note_link|denotes]] the degree of the divisor $D$\" would be an example of such a note.\n",
    "\n",
    "If the word `denotes` is not given in a link to a note, then the note to which the first link points is considered the main note of the notation note. Alternatively, a notation note might also sometimes have a comment citing the source of the notation instead of links.  Nevertheless, it is preferred that `denotes` is given in a link.\n",
    " \n",
    "A notation note may have YAML frontmatter meta as well.\n"
   ]
  },
  {
   "cell_type": "code",
   "execution_count": null,
   "metadata": {},
   "outputs": [],
   "source": [
    "#| export\n",
    "def _main_of_notation_from_text(\n",
    "        file_text: str # Text of notation note\n",
    "        ) -> Union[str, VaultNote, None]: # The name main information note that `notation_note` comes from. Returns `None` if `notation_note` does not come from such a note.\n",
    "    \"\"\"Return the name of the note from which the notation comes from.\n",
    "\n",
    "    Helper function for `parse_notation_string`.\n",
    "    \"\"\"\n",
    "    if '%%' in file_text and 'main: ' in file_text:\n",
    "        return None\n",
    "\n",
    "    # First, get rid of the notation, i.e. the first latex math mode string\n",
    "    match = re.search(fr'\\$.+?\\$\\s+', file_text) \n",
    "    if match is None:\n",
    "        raise ValueError(\n",
    "            'There seems to be a formatting error in a notation note'\n",
    "            ' and the notation has not been identified. The following is the'\n",
    "            f' name of the notation note: {notation_note.name}')\n",
    "    start, end = match.span()\n",
    "    file_text = file_text[end:]\n",
    "    \n",
    "    link_locations = find_links_in_markdown_text(file_text)\n",
    "    if not link_locations:\n",
    "        return None\n",
    "    start, end = link_locations[0]\n",
    "    link_str = file_text[start:end]\n",
    "    link_parse = ObsidianLink.from_text(link_str)\n",
    "    main_note_name = link_parse.file_name\n",
    "    return main_note_name"
   ]
  },
  {
   "cell_type": "code",
   "execution_count": null,
   "metadata": {},
   "outputs": [],
   "source": [
    "#| hide\n",
    "vault = _test_directory() / 'test_vault_7'\n",
    "notation_note = VaultNote(vault, name='some_reference_name_notation_Spec_A')\n",
    "test_eq(_main_of_notation_from_text(notation_note.text()), 'spectrum_of_a_ring')"
   ]
  },
  {
   "cell_type": "code",
   "execution_count": null,
   "metadata": {},
   "outputs": [],
   "source": [
    "#| hide\n",
    "vault = _test_directory() / 'test_vault_7'\n",
    "notation_note = VaultNote(vault, name='some_reference_name_notation_O_X_this_file_has_no_links')\n",
    "main_note =  _main_of_notation_from_text(notation_note.text())\n",
    "assert main_note is None"
   ]
  },
  {
   "cell_type": "code",
   "execution_count": null,
   "metadata": {},
   "outputs": [
    {
     "data": {
      "text/plain": [
       "'some_note'"
      ]
     },
     "execution_count": null,
     "metadata": {},
     "output_type": "execute_result"
    }
   ],
   "source": [
    "#| hide\n",
    "# Test the case where the notation string contains a [[]]\n",
    "vault = _test_directory() / 'test_vault_7'\n",
    "notation_note = VaultNote(vault, name='some_reference_name_notation_k_t_formal_power_series_ring') \n",
    "_main_of_notation_from_text(notation_note.text())\n"
   ]
  },
  {
   "cell_type": "code",
   "execution_count": null,
   "metadata": {},
   "outputs": [],
   "source": [
    "#| export\n",
    "def _divide_bulleted_list_mf_at_end(\n",
    "        mf: MarkdownFile\n",
    "        ) -> tuple[MarkdownFile, Union[MarkdownFile, None]]: # The first MarkdownFile contains the main content. The second MarkdonwFile contains the bulleted list at the end; if no such bulleted list exists, then this is None.\n",
    "    \"\"\"Divide a `MarkdownFile` for a notation note into two MarkdownFiles, one\n",
    "    of the main content and the other for the trailing bulleted list of links\n",
    "    for notations used in the notation note.\n",
    "\n",
    "    Assumes that the bulleted list is formatted correctly\n",
    "    (i.e. each line is of the form `- [<notation>](<link>)`)\n",
    "\n",
    "    Helper function for `parse_notation_note`.\n",
    "    \"\"\"\n",
    "    main_parts = mf.parts.copy()\n",
    "    trailing_parts = []\n",
    "    for part in reversed(mf.parts):\n",
    "        if part['type'] == MarkdownLineEnum.BLANK_LINE:\n",
    "            main_parts.pop()\n",
    "            continue\n",
    "        if not _part_is_unordered_list_and_is_of_markdownstyle_link(part):\n",
    "            break\n",
    "        last_part = main_parts.pop() # Should be the same as `part`\n",
    "        trailing_parts.insert(0, last_part)\n",
    "    \n",
    "    if trailing_parts:\n",
    "        bulleted_list_mf = MarkdownFile(trailing_parts)\n",
    "    else:\n",
    "        bulleted_list_mf = None\n",
    "    return MarkdownFile(main_parts), bulleted_list_mf\n",
    "\n",
    "def _part_is_unordered_list_and_is_of_markdownstyle_link(\n",
    "        part: dict[str, Union[str, MarkdownLineEnum]]\n",
    "        ) -> bool:\n",
    "    \"\"\"\n",
    "    \n",
    "    Helper function for `_divide_bulleted_list_mf_at_end`\n",
    "    \"\"\"\n",
    "    if part['type'] != MarkdownLineEnum.UNORDERED_LIST:\n",
    "        return False\n",
    "    if not part['line'].startswith('- '):\n",
    "        return False\n",
    "    if not re.match(MARKDOWNLINK_PATTERN, part['line'][2:]):\n",
    "        return False\n",
    "    return True\n",
    "    "
   ]
  },
  {
   "cell_type": "code",
   "execution_count": null,
   "metadata": {},
   "outputs": [],
   "source": [
    "#| hide\n",
    "notation_note_str = '$\\operatorname{Gal}(L/K)$ [[linky|denotes]] blah blah blah.\\n- [$L$](notation_L_some_field_extension)\\n- [$K$](notation_K_some_base_field)'\n",
    "mf = MarkdownFile.from_string(notation_note_str)\n",
    "main_content, bulleted_list = _divide_bulleted_list_mf_at_end(mf)\n",
    "test_eq(str(main_content), '$\\operatorname{Gal}(L/K)$ [[linky|denotes]] blah blah blah.')\n",
    "test_eq(str(bulleted_list), '- [$L$](notation_L_some_field_extension)\\n- [$K$](notation_K_some_base_field)')\n",
    "\n",
    "# This time, add more blank lines\n",
    "notation_note_str = '$\\operatorname{Gal}(L/K)$ [[linky|denotes]] blah blah blah.\\n\\n- [$L$](notation_L_some_field_extension)\\n\\n- [$K$](notation_K_some_base_field)\\n'\n",
    "mf = MarkdownFile.from_string(notation_note_str)\n",
    "main_content, bulleted_list = _divide_bulleted_list_mf_at_end(mf)\n",
    "test_eq(str(main_content), '$\\operatorname{Gal}(L/K)$ [[linky|denotes]] blah blah blah.')\n",
    "test_eq(str(bulleted_list), '- [$L$](notation_L_some_field_extension)\\n- [$K$](notation_K_some_base_field)')\n",
    "\n",
    "# No bulleted list means the second output is `None`:\n",
    "\n",
    "notation_note_str = '$\\operatorname{Gal}(L/K)$ [[linky|denotes]] blah blah blah.\\n\\n'\n",
    "mf = MarkdownFile.from_string(notation_note_str)\n",
    "main_content, bulleted_list = _divide_bulleted_list_mf_at_end(mf)\n",
    "test_eq(str(main_content), '$\\operatorname{Gal}(L/K)$ [[linky|denotes]] blah blah blah.')\n",
    "assert bulleted_list is None\n",
    "\n"
   ]
  },
  {
   "cell_type": "code",
   "execution_count": null,
   "metadata": {},
   "outputs": [],
   "source": [
    "#| export\n",
    "def parse_notation_note(\n",
    "        notation_note: Union[str, VaultNote],\n",
    "        vault: Optional[PathLike] = None # The vault If `None`, then uses th\n",
    "        ) -> tuple[Union[dict, None], Union[str, None], str, MarkdownFile,\n",
    "                   Union[MarkdownFile, None]]:\n",
    "    \"\"\"Parse information from the notation note.\n",
    "\n",
    "    **Returns**\n",
    "\n",
    "    - tuple[Union[dict, None], str, ObsidianLink, MarkdownFile, MarkdownFile]\n",
    "        - The first entry is the YAML frontmatter meta, if available.\n",
    "        - The second entry is the notation string\n",
    "        - The third entry is the name of the \"main note\" of the notation note. This is usual\n",
    "          the linked note in the link `[[<linked_note>|denotes]]`. If no such main note\n",
    "          exists, then this is `None`.\n",
    "        - The fourth entry is the MarkdownFile consisting of the \"main\" content of the note,\n",
    "          which excludes the information given by all of the other entries.\n",
    "        - The fifth entry is the MarkdownFile consisting of the ending bulleted list, listing\n",
    "          the notations used in the notation notes along with links to the notation notes\n",
    "          describing these notations. If there is not such bulleted list, then this entry\n",
    "          is `None`. \n",
    "\n",
    "    **Raises**\n",
    "\n",
    "    - UserWarning\n",
    "        - If the (non-YAML frontmatter meta) contents of the note do not start\n",
    "        inn the form `<Notation> [[<link_to_note>|denotes]]`; the name of the\n",
    "        notation note is included in the warning message.\n",
    "    - ValueError\n",
    "        - If the notation note is not formatted correctly by starting\n",
    "        with the notation with dollar signs `$`.\n",
    "    - AssertionError\n",
    "        - If `notation_note` is not determined to be a notation note.\n",
    "    \"\"\"\n",
    "    if isinstance(notation_note, str):\n",
    "        notation_note = VaultNote(vault, name=notation_note)\n",
    "    if not vault:\n",
    "        vault = notation_note.vault\n",
    "    assert_note_is_of_type(notation_note, PersonalNoteTypeEnum.NOTATION_NOTE)\n",
    "\n",
    "    mf = MarkdownFile.from_vault_note(notation_note)\n",
    "    metadata = mf.metadata()\n",
    "    mf_without_metadata = MarkdownFile(\n",
    "        [part for part in mf.parts if part['type'] != MarkdownLineEnum.META])\n",
    "\n",
    "    file_text = str(mf_without_metadata)\n",
    "\n",
    "    main_mf, mf_with_links_to_notations = _divide_bulleted_list_mf_at_end(mf_without_metadata)\n",
    "    _remove_the_notation_str_and_denotes_in_main_mf(main_mf, notation_note)\n",
    "\n",
    "    return (metadata, _get_notation_string(file_text, notation_note),\n",
    "            _main_of_notation_from_text(file_text), main_mf,\n",
    "            mf_with_links_to_notations)\n",
    "\n",
    "\n",
    "def _get_notation_string(\n",
    "        file_text: str,\n",
    "        notation_note: VaultNote\n",
    "        ) -> str:\n",
    "    \"\"\"Return the notation string from the text of the notation note..\n",
    "\n",
    "    Assumes that the notation string exists and is well formatted.\n",
    "\n",
    "    Helper function for `parse_notation_note`.\n",
    "    \"\"\"\n",
    "    try:\n",
    "        return re.search(r'\\$.+?\\$', file_text).group()\n",
    "    except AttributeError as e:\n",
    "        raise ValueError(\n",
    "            'There seems to be a formatting error in a notation note'\n",
    "            ' and the notation has not been identified. The following is the'\n",
    "            f' name of the notation note: {notation_note.name}')\n",
    "    \n",
    "\n",
    "def _remove_the_notation_str_and_denotes_in_main_mf(\n",
    "        main_mf: MarkdownFile,\n",
    "        notation_note: VaultNote):\n",
    "    \"\"\"Remove the text `<notation> denotes ` which starts the\n",
    "    notation description.\n",
    "\n",
    "    Helper function of `parse_notation_note`.\n",
    "    \"\"\"\n",
    "    for part in main_mf.parts:\n",
    "        if part['type'] == MarkdownLineEnum.BLANK_LINE:\n",
    "            continue\n",
    "        match = re.match(fr'^\\$.+?\\$ ({WIKILINK_PATTERN}|denotes)\\s*', part['line']) \n",
    "        if match is None:\n",
    "            raise ValueError(\n",
    "                'There seems to be a formatting error in a notation note'\n",
    "                ' and the notation has not been identified. The following is the'\n",
    "                f' name of the notation note: {notation_note.name}')\n",
    "        else:\n",
    "            start, end = match.span()\n",
    "            part['line'] = part['line'][end:]\n",
    "            break\n",
    "    "
   ]
  },
  {
   "cell_type": "markdown",
   "metadata": {},
   "source": [
    "`parse_notation_note` gets information about the notation note. Note that the `MarkdownFile` object `main_mf` that has the main content/description of the notation does not start with the pharse of the form `<notation> [[<link>|denotes]] `."
   ]
  },
  {
   "cell_type": "code",
   "execution_count": null,
   "metadata": {},
   "outputs": [],
   "source": [
    "vault = _test_directory() / 'test_vault_7'\n",
    "notation_note = VaultNote(vault, name='some_reference_name_notation_Spec_A')\n",
    "metadata, notation_str, main_of_notation, main_mf, mf_with_links_to_notations = parse_notation_note(notation_note, vault)\n",
    "\n",
    "test_eq(metadata, {'detect_regex': [], 'latex_in_original': ['\\\\operatorname{Spec} A']})\n",
    "test_eq(notation_str, '$\\\\operatorname{Spec} A$')\n",
    "test_eq(main_of_notation, 'spectrum_of_a_ring')\n",
    "test_eq(str(main_mf), 'the spectrum of the ring $A$.')\n",
    "assert mf_with_links_to_notations is None # There is not a bulleted list at the end, so the last output is `None`."
   ]
  },
  {
   "cell_type": "code",
   "execution_count": null,
   "metadata": {},
   "outputs": [],
   "source": [
    "vault = _test_directory() / 'test_vault_7'\n",
    "notation_note = VaultNote(vault, name='poonen_curves_notation_zeta_X_s_zeta_function_of_variety')\n",
    "metadata, notation_str, main_of_notation, main_mf, mf_with_links_to_notations = parse_notation_note(notation_note, vault)\n",
    "\n",
    "test_eq(metadata, None)\n",
    "test_eq(notation_str, r'$\\zeta_{X}(s)$')\n",
    "test_eq(main_of_notation, 'poonen_curves_3.4.1 DEFINITION')\n",
    "test_eq(str(main_mf), 'the zeta function of the [[poonen_curves_1.0.2 DEFINITION|variety]] $X$ over $\\\\mathbb{F}_q$.\\n\\nIt is defined as\\n\\n$$\\\\zeta_X(s) = Z_X(q^{-s}).$$\\n\\nA priori, it is a formal series, but in fact [[poonen_curves_ 3.6_page_56|it converges]] for $\\\\operatorname{Re} s > \\\\dim X$.')\n",
    "test_eq(str(mf_with_links_to_notations), '- [$Z_X$](poonen_curves_notation_Z_X_T)') # There is a bulleted list at the end, so the last output is `None`."
   ]
  },
  {
   "cell_type": "code",
   "execution_count": null,
   "metadata": {},
   "outputs": [],
   "source": [
    "#| hide\n",
    "# Test the case where the note has no main note; in particular, it starts with `<notation> denotes ` with no link!`\n",
    "\n",
    "vault = _test_directory() / 'test_vault_7'\n",
    "notation_note = VaultNote(vault, name='some_reference_name_notation_O_X_this_file_has_no_links') \n",
    "metadata, notation_str, main_of_notation, main_mf, mf_with_links_to_notations = parse_notation_note(notation_note, vault)\n",
    "assert main_note is None\n"
   ]
  },
  {
   "cell_type": "code",
   "execution_count": null,
   "metadata": {},
   "outputs": [],
   "source": [
    "#| hide\n",
    "# Test the case where the note not blank lines after the `denotes`. \n",
    "\n",
    "vault = _test_directory() / 'test_vault_7'\n",
    "notation_note = VaultNote(vault, name='some_reference_name_notation_B_R') \n",
    "metadata, notation_str, main_of_notation, main_mf, mf_with_links_to_notations = parse_notation_note(notation_note, vault)\n",
    "assert main_note is None\n"
   ]
  },
  {
   "cell_type": "code",
   "execution_count": null,
   "metadata": {},
   "outputs": [],
   "source": [
    "#| hide\n",
    "# Test the case where the notation string contains a [[]]\n",
    "vault = _test_directory() / 'test_vault_7'\n",
    "notation_note = VaultNote(vault, name='some_reference_name_notation_k_t_formal_power_series_ring') \n",
    "metadata, notation_str, main_of_notation, main_mf, mf_with_links_to_notations = parse_notation_note(notation_note, vault)\n",
    "test_eq(notation_str, '$k[[t]]$')\n",
    "test_eq(main_of_notation, 'some_note')\n",
    "# assert main_note is None"
   ]
  },
  {
   "cell_type": "code",
   "execution_count": null,
   "metadata": {},
   "outputs": [],
   "source": [
    "#| export\n",
    "def notation_in_note(\n",
    "        notation_note: Union[str, VaultNote],\n",
    "        vault: Optional[PathLike] = None \n",
    "        ) -> str:\n",
    "    \"\"\"Return the name of the note from which the notation comes from.\n",
    "    \n",
    "    **Parameters**\n",
    "\n",
    "    - `notation_note` - Union[str, VaultNote]\n",
    "        - Either\n",
    "            \n",
    "            - The name of the notation note or\n",
    "            - The `VaultNote` object of the notation note. \n",
    "            \n",
    "        The note name is expected to be unique\n",
    "        inside the vault specified by `vault`. \n",
    "        This is expected to contain `'notation'` as a substring. \n",
    "        Usually, this is expected to be formatted in one of\n",
    "        the following forms:\n",
    "            - `'<reference_name>_notation_<rest_of_note_name>'`\n",
    "            - `'notation.<rest_of_note_name>'\n",
    "    - `vault` - Pathlike or `None`\n",
    "        - Defaults to `None`\n",
    "        \n",
    "    **Returns**\n",
    "\n",
    "    - str\n",
    "        - The notation in LaTeX, including the dollar signs `$`.\n",
    "\n",
    "    **Raises**\n",
    "\n",
    "    \"\"\"\n",
    "    _, notation_in_note, _, _, _ = parse_notation_note(notation_note, vault)\n",
    "    return notation_in_note"
   ]
  },
  {
   "cell_type": "markdown",
   "metadata": {},
   "source": [
    "`notation_in_note` identifies the notation LaTeX str that a notation note presents. Its output starts and ends with dollar signs."
   ]
  },
  {
   "cell_type": "code",
   "execution_count": null,
   "metadata": {},
   "outputs": [],
   "source": [
    "vault = _test_directory() / 'test_vault_7'\n",
    "notation_note = VaultNote(vault, name='some_reference_name_notation_Spec_A')\n",
    "notation = notation_in_note(notation_note)\n",
    "assert notation == r'$\\operatorname{Spec} A$'"
   ]
  },
  {
   "cell_type": "code",
   "execution_count": null,
   "metadata": {},
   "outputs": [],
   "source": [
    "#| export\n",
    "def main_of_notation(\n",
    "        notation_note: VaultNote, # The VaultNote object representing the notation note.\n",
    "        as_note: bool = False # If `False`, then returns the name of the note, and returns a VaultNote object with the same vault as `notation_note` otherwise. The vault used to get the `VaultNote` is the vault of `notation_note`.\n",
    "        ) -> Union[str, VaultNote, None]: # The (name of the) main information note that `notation_note` comes from. Returns `None` if `notation_note` does not come from such a note.\n",
    "    \"\"\"Return the name of the note from which the notation comes from.\n",
    "            \n",
    "    **Raises**\n",
    "\n",
    "    - ValueError\n",
    "        - If the notation note is not formatted correctly by starting\n",
    "        with the notation with dollar signs `$`.\n",
    "    \"\"\"\n",
    "    vault = notation_note.vault\n",
    "    _, _, main_note_name, _, _ = parse_notation_note(notation_note, vault)\n",
    "    if main_note_name is None:\n",
    "        return None\n",
    "    if as_note:\n",
    "        return VaultNote(notation_note.vault, name=main_note_name)\n",
    "    else:\n",
    "        return main_note_name"
   ]
  },
  {
   "cell_type": "markdown",
   "metadata": {},
   "source": [
    "We can identify the \"main note\" of a notation note with the `main_of_notation` method:"
   ]
  },
  {
   "cell_type": "code",
   "execution_count": null,
   "metadata": {},
   "outputs": [],
   "source": [
    "vault = _test_directory() / 'test_vault_7'\n",
    "notation_note = VaultNote(vault, name='some_reference_name_notation_Spec_A')\n",
    "test_eq(main_of_notation(notation_note), 'spectrum_of_a_ring')"
   ]
  },
  {
   "cell_type": "markdown",
   "metadata": {},
   "source": [
    "We can also return this main note as a `VaultNote` object:"
   ]
  },
  {
   "cell_type": "code",
   "execution_count": null,
   "metadata": {},
   "outputs": [],
   "source": [
    "vault = _test_directory() / 'test_vault_7'\n",
    "notation_note = VaultNote(vault, name='some_reference_name_notation_Spec_A')\n",
    "main_note =  main_of_notation(notation_note, as_note=True)\n",
    "assert isinstance(main_note, VaultNote)\n",
    "test_eq(main_note.name, 'spectrum_of_a_ring')"
   ]
  },
  {
   "cell_type": "markdown",
   "metadata": {},
   "source": [
    "If the notation note has no links, then `main_of_notation` returns `None`:"
   ]
  },
  {
   "cell_type": "code",
   "execution_count": null,
   "metadata": {},
   "outputs": [],
   "source": [
    "vault = _test_directory() / 'test_vault_7'\n",
    "notation_note = VaultNote(vault, name='some_reference_name_notation_O_X_this_file_has_no_links')\n",
    "main_note =  main_of_notation(notation_note)\n",
    "assert main_note is None\n",
    "\n",
    "main_note = main_of_notation(notation_note, as_note=True)\n",
    "assert main_note is None"
   ]
  },
  {
   "cell_type": "markdown",
   "metadata": {},
   "source": [
    "# Notations in a standard information note"
   ]
  },
  {
   "cell_type": "markdown",
   "metadata": {},
   "source": [
    "## Find notations introduced in note"
   ]
  },
  {
   "cell_type": "code",
   "execution_count": null,
   "metadata": {},
   "outputs": [],
   "source": [
    "#| export\n",
    "def notation_str_in_a_standard_information_note(\n",
    "        info_note: VaultNote\n",
    "        ) -> list[str]: # Each str is a LaTeX str, beginning and trailing dollar signs `$` (single or double) included.\n",
    "    \"\"\"\n",
    "    Return the LaTeX str's with notations in a standard information note.\n",
    "\n",
    "    A LaTeX str is deemed to be a notation if it is surrounded by double\n",
    "    asterisks `**`\n",
    "    \"\"\"\n",
    "    mf = MarkdownFile.from_vault_note(info_note)\n",
    "    notations = []\n",
    "    for part in mf.parts:\n",
    "        indices = notation_asterisk_indices(part['line'])\n",
    "        notations.extend([\n",
    "            part['line'][start+2:end-2] for start, end in indices])\n",
    "    return notations"
   ]
  },
  {
   "cell_type": "markdown",
   "metadata": {},
   "source": [
    "We can obtain the notation str in an information note:"
   ]
  },
  {
   "cell_type": "code",
   "execution_count": null,
   "metadata": {},
   "outputs": [
    {
     "name": "stdout",
     "output_type": "stream",
     "text": [
      "['$\\\\operatorname{Gal}(L/K)$']\n",
      "['$\\\\operatorname{Spec} A$', '$$D(f) = \\\\{\\\\mathfrak{p} \\\\in \\\\operatorname{Spec} A: f \\\\not\\\\in \\\\mathfrak{p} \\\\}.$$']\n"
     ]
    }
   ],
   "source": [
    "vault = _test_directory() / 'test_vault_7'\n",
    "# A note with just one notation:\n",
    "vn = VaultNote(vault, name='galois_group')\n",
    "sample_output_1 = notation_str_in_a_standard_information_note(vn)\n",
    "assert len(sample_output_1) == 1\n",
    "assert sample_output_1[0].startswith('$')\n",
    "assert sample_output_1[0].endswith('$')\n",
    "assert not sample_output_1[0].startswith('$$')\n",
    "assert not sample_output_1[0].endswith('$$')\n",
    "print(sample_output_1)\n",
    "\n",
    "# A note with a notation with double asterisks:\n",
    "vn = VaultNote(vault, name='spectrum_of_a_ring')\n",
    "sample_output_2 = notation_str_in_a_standard_information_note(vn)\n",
    "assert len(sample_output_2) == 2\n",
    "assert sample_output_2[1].startswith('$$')\n",
    "assert sample_output_2[1].endswith('$$')\n",
    "print(sample_output_2)\n",
    "\n",
    "# A note with no notations:\n",
    "assert not notation_str_in_a_standard_information_note(VaultNote(vault, name='no_notations_note_about_integral_domains'))"
   ]
  },
  {
   "cell_type": "code",
   "execution_count": null,
   "metadata": {},
   "outputs": [],
   "source": [
    "# hide\n",
    "# Test notation str with asterisks.\n",
    "vault = _test_directory() / 'test_vault_7'\n",
    "vn = VaultNote(vault, name='direct_and_inverse_images_of_sheaves')\n",
    "sample_output = notation_str_in_a_standard_information_note(vn)\n",
    "# sample_output\n",
    "assert len(sample_output) == 2"
   ]
  },
  {
   "cell_type": "markdown",
   "metadata": {},
   "source": [
    "## Notation notes listed in see also section"
   ]
  },
  {
   "cell_type": "code",
   "execution_count": null,
   "metadata": {},
   "outputs": [],
   "source": [
    "#| export\n",
    "def notation_notes_linked_in_see_also_section(\n",
    "        info_note: VaultNote,\n",
    "        vault: PathLike, # Path to the vault directory.\n",
    "        as_vault_notes: bool = True # If `True`, returns each notation note as a `VaultNote` object.  Otherwise, returns the name of each notation note. Defaults to `True`.\n",
    "        ) -> Union[list[VaultNote], list[str]]: # Each entry corresponds to a notation note in the vault.\n",
    "    \"\"\"Return a list of notation notes listed in the\n",
    "    `See Also` section of the standard information note.\n",
    "\n",
    "    In the current implementation of this function, only \n",
    "    \"notation notes\" that actually exist are included in\n",
    "    the returned list.\n",
    "    \"\"\"\n",
    "    links = bulleted_links_of_type_in_section(\n",
    "        info_note, vault, section=\"See Also\",\n",
    "        note_type=PersonalNoteTypeEnum.NOTATION_NOTE)\n",
    "    note_names = [link.file_name for link in links]\n",
    "    if as_vault_notes:\n",
    "        return [VaultNote(vault, name=note_name) for note_name in note_names]\n",
    "    else:\n",
    "        return note_names\n"
   ]
  },
  {
   "cell_type": "markdown",
   "metadata": {},
   "source": [
    "The `notation_notes_linked_in_see_also_section` method detects the Notation notes listed in bulleted links in the See Also section of a standard information note."
   ]
  },
  {
   "cell_type": "code",
   "execution_count": null,
   "metadata": {},
   "outputs": [
    {
     "name": "stdout",
     "output_type": "stream",
     "text": [
      "foag_notation_M_n_bullet\n"
     ]
    }
   ],
   "source": [
    "vault = _test_directory() / 'test_vault_7'\n",
    "vn = VaultNote(vault, name='twist_of_a_graded_module')\n",
    "sample_output = notation_notes_linked_in_see_also_section(vn, vault)\n",
    "assert len(sample_output) == 1\n",
    "assert isinstance(sample_output[0], VaultNote)\n",
    "print(sample_output[0].name)\n",
    "assert sample_output[0].exists()"
   ]
  },
  {
   "cell_type": "markdown",
   "metadata": {},
   "source": [
    "Setting `as_vault_notes=False` returns the names of the notation notes."
   ]
  },
  {
   "cell_type": "code",
   "execution_count": null,
   "metadata": {},
   "outputs": [
    {
     "name": "stdout",
     "output_type": "stream",
     "text": [
      "foag_notation_M_n_bullet\n"
     ]
    }
   ],
   "source": [
    "vault = _test_directory() / 'test_vault_7'\n",
    "vn = VaultNote(vault, name='twist_of_a_graded_module')\n",
    "sample_output = notation_notes_linked_in_see_also_section(vn, vault, as_vault_notes=False)\n",
    "assert len(sample_output) == 1\n",
    "assert isinstance(sample_output[0], str)\n",
    "print(sample_output[0])"
   ]
  },
  {
   "cell_type": "markdown",
   "metadata": {},
   "source": [
    "If a \"notation note\" does not exist, then it is not included in the returned list.\n",
    "\n",
    "Note that `notation_notes_linked_in_see_also_section` uses `bulleted_links_of_type_in_section`, which is turn uses `note_is_of_type` to get a list of linked notes of the type `NOTATION_NOTE` of the `PersonalNoteTypeEnum` class. In turn, a note file must exist for the note to be considered of any particular type under the current implementation of `note_is_of_type`."
   ]
  },
  {
   "cell_type": "code",
   "execution_count": null,
   "metadata": {},
   "outputs": [],
   "source": [
    "vault = _test_directory() / 'test_vault_7'\n",
    "vn = VaultNote(vault, name='note_with_links_to_non_existent_notation_notes')\n",
    "sample_output = notation_notes_linked_in_see_also_section(vn, vault, as_vault_notes=True)\n",
    "test_eq(sample_output, [])\n",
    "sample_output = notation_notes_linked_in_see_also_section(vn, vault, as_vault_notes=False)\n",
    "test_eq(sample_output, [])"
   ]
  },
  {
   "cell_type": "code",
   "execution_count": null,
   "metadata": {},
   "outputs": [],
   "source": []
  },
  {
   "cell_type": "markdown",
   "metadata": {},
   "source": [
    "## Find all notation notes in a vault subdirectory"
   ]
  },
  {
   "cell_type": "code",
   "execution_count": null,
   "metadata": {},
   "outputs": [],
   "source": [
    "#| export \n",
    "def notations_and_main_notes(\n",
    "        vault: PathLike, # Path to the vault directory.\n",
    "        subdirectory: Optional[PathLike] = None, # Path to the subdirectory, relative to `vault`, to find the notation notes. Searches for all notation notes here and in subdirectories of this subdirectory. If `None`, then the `note parameter is used to determined the subdirectory. If `subdirectory` is the empty str, then all notation notes in the vault are searched. Defaults to `None`. \n",
    "        note: Optional[VaultNote] = None # A note in the vault. The directory that this note is in determines the `subdirectory` parameter if the argument passed to `subdirectory` is the blank str. This note can usually be an index note, e.g. `'_index_silverman'`. Defaults to `None`, in which case `subdirectory` must be specified.\n",
    "        ) -> dict[str, Union[str, None]]: # A key is the unique name of a notation note in the vault and its corresponding value is the name of the main note of the notation note. Each main note may not actually exist, but each notation note definitely exists. If the notation note has no main note (i.e. has no links to other notes), then the value is `None`.\n",
    "    \"\"\"Return a `dict` with all of notation notes in a specified\n",
    "    subdirectory of a vault and the names of the main notes of these\n",
    "    notation notes.\n",
    "    \n",
    "    **Returns**\n",
    "    - `dict`\n",
    "\n",
    "    **Raises**\n",
    "\n",
    "    - ValueError\n",
    "        - If `subdirectory` and `note` are both `None`.\n",
    "    \"\"\"\n",
    "    if note is None and subdirectory is None:\n",
    "        raise ValueError(\n",
    "            'Both the `subdirectory` and `note` parameters are None.')\n",
    "    # vault = vault if vault is not None else ''\n",
    "    if subdirectory is None:\n",
    "        subdirectory = Path(note.rel_path).parent\n",
    "    subdirectory_path = Path(vault) / subdirectory\n",
    "    notes_in_subdirectory = subdirectory_path.glob(f'**/*.md') \n",
    "    relative_paths = [Path(note_path).relative_to(subdirectory_path)\n",
    "                      for note_path in notes_in_subdirectory]\n",
    "    vn_objects = [VaultNote(vault, rel_path=Path(subdirectory) / rel_path)\n",
    "                  for rel_path in relative_paths]\n",
    "    return {vn.name: main_of_notation(vn) for vn in vn_objects\n",
    "            if note_is_of_type(vn, PersonalNoteTypeEnum.NOTATION_NOTE)}"
   ]
  },
  {
   "cell_type": "markdown",
   "metadata": {},
   "source": [
    "The `notations_and_main_notes` function returns all the notation notes in a subdirectory of a vault"
   ]
  },
  {
   "cell_type": "code",
   "execution_count": null,
   "metadata": {},
   "outputs": [
    {
     "name": "stdout",
     "output_type": "stream",
     "text": [
      "{'foag_notation_M_n_bullet': 'twist_of_a_graded_module', 'some_reference_name_notation_k_t_formal_power_series_ring': 'some_note', 'some_reference_name_notation_O_X_this_file_has_no_links': None, 'some_reference_name_notation_Pic_C': 'divisor_class_group_of_a_curve', 'some_reference_name_notation_Spec_A': 'spectrum_of_a_ring', 'foag_notation_O_n': 'foag_15.2.1', 'foag_notation_O_text_Proj__S__n': 'foag_15.2.1', 'poonen_curves_notation_zeta_X_s_zeta_function_of_variety': 'poonen_curves_3.4.1 DEFINITION', 'poonen_curves_notation_Z_X_T': 'poonen_curves_3.4.1 DEFINITION', 'some_reference_name_notation_B_R': 'note_with_some_excessive_notation_notes', 'some_reference_name_notation_B_R_1': 'note_with_some_excessive_notation_notes', 'some_reference_name_notation_Jac_C': 'note_with_some_excessive_notation_notes', 'foag_notation__otimes_A_quad_obj_Mod_A_times_obj_Mod_A_longarrow_obj_Mod_A_': 'foag_1.3.5'}\n"
     ]
    }
   ],
   "source": [
    "vault = _test_directory() / 'test_vault_7'\n",
    "sample_output = notations_and_main_notes(vault, subdirectory='')\n",
    "print(sample_output)\n",
    "assert 'foag_notation_M_n_bullet' in sample_output\n",
    "assert 'some_reference_name_notation_O_X_this_file_has_no_links' in sample_output\n",
    "assert sample_output['some_reference_name_notation_O_X_this_file_has_no_links'] is None\n",
    "assert 'poonen_curves_notation_Z_X_T' in sample_output"
   ]
  },
  {
   "cell_type": "markdown",
   "metadata": {},
   "source": [
    "Here is an example with a subdirectory specified:"
   ]
  },
  {
   "cell_type": "code",
   "execution_count": null,
   "metadata": {},
   "outputs": [
    {
     "name": "stdout",
     "output_type": "stream",
     "text": [
      "{'foag_notation_O_n': 'foag_15.2.1', 'foag_notation_O_text_Proj__S__n': 'foag_15.2.1', 'poonen_curves_notation_zeta_X_s_zeta_function_of_variety': 'poonen_curves_3.4.1 DEFINITION', 'poonen_curves_notation_Z_X_T': 'poonen_curves_3.4.1 DEFINITION', 'some_reference_name_notation_B_R': 'note_with_some_excessive_notation_notes', 'some_reference_name_notation_B_R_1': 'note_with_some_excessive_notation_notes', 'some_reference_name_notation_Jac_C': 'note_with_some_excessive_notation_notes'}\n"
     ]
    }
   ],
   "source": [
    "vault = _test_directory() / 'test_vault_7'\n",
    "sample_output = notations_and_main_notes(vault, subdirectory='some_other_folder')\n",
    "print(sample_output)\n",
    "assert 'foag_notation_M_n_bullet' not in sample_output\n",
    "assert 'some_reference_name_notation_O_X_this_file_has_no_links' not in sample_output\n",
    "assert 'poonen_curves_notation_Z_X_T' in sample_output"
   ]
  },
  {
   "cell_type": "markdown",
   "metadata": {},
   "source": [
    "Alternatively, we can specify a subdirectory by a `VaultNote` object; the directory that the `VaultNote` object is the subdirectory:"
   ]
  },
  {
   "cell_type": "code",
   "execution_count": null,
   "metadata": {},
   "outputs": [
    {
     "name": "stdout",
     "output_type": "stream",
     "text": [
      "{'foag_notation_M_n_bullet': 'twist_of_a_graded_module', 'some_reference_name_notation_k_t_formal_power_series_ring': 'some_note', 'some_reference_name_notation_O_X_this_file_has_no_links': None, 'some_reference_name_notation_Pic_C': 'divisor_class_group_of_a_curve', 'some_reference_name_notation_Spec_A': 'spectrum_of_a_ring'}\n"
     ]
    }
   ],
   "source": [
    "vault = _test_directory() / 'test_vault_7'\n",
    "vn = VaultNote(vault, name='galois_group')\n",
    "sample_output = notations_and_main_notes(vault, subdirectory=None, note=vn)\n",
    "print(sample_output)\n",
    "assert 'foag_notation_M_n_bullet' in sample_output\n",
    "assert 'some_reference_name_notation_O_X_this_file_has_no_links' in sample_output\n",
    "assert sample_output['some_reference_name_notation_O_X_this_file_has_no_links'] is None\n",
    "assert 'poonen_curves_notation_Z_X_T' not in sample_output"
   ]
  },
  {
   "cell_type": "markdown",
   "metadata": {},
   "source": [
    "## Check if there is a notation link in the `See Also` section of a standard information note."
   ]
  },
  {
   "cell_type": "code",
   "execution_count": null,
   "metadata": {},
   "outputs": [],
   "source": [
    "#| export\n",
    "def notation_note_is_linked_in_see_also_section(\n",
    "        notation_note: VaultNote,\n",
    "        info_note: Optional[VaultNote] = None # The note in which to find the link to `notation_note`. Defaults to `None`, in which case the main note is determined to be the first linked note of `notation_note`.\n",
    "        ) -> bool:\n",
    "    \"\"\"Return `True` if a notation note is linked in the `See Also`\n",
    "    section of a standard information note. \n",
    "    \"\"\"\n",
    "    if not info_note:\n",
    "        info_note = main_of_notation(notation_note, as_note=True)\n",
    "    notes = notation_notes_linked_in_see_also_section(\n",
    "        info_note, vault=notation_note.vault, as_vault_notes=False)\n",
    "    return notation_note.name in notes\n"
   ]
  },
  {
   "cell_type": "markdown",
   "metadata": {},
   "source": [
    "`notation_note_is_linked_in_see_also_section` Returns `True` if a notation note is linked in the `See Also` section of an information note:"
   ]
  },
  {
   "cell_type": "code",
   "execution_count": null,
   "metadata": {},
   "outputs": [],
   "source": [
    "vault = _test_directory() / 'test_vault_7'\n",
    "notation_note = VaultNote(vault, name='some_reference_name_notation_Pic_C')\n",
    "info_note = VaultNote(vault, name='divisor_class_group_of_a_curve')\n",
    "assert not notation_note_is_linked_in_see_also_section(notation_note, info_note)\n",
    "\n",
    "notation_note = VaultNote(vault, name='foag_notation_M_n_bullet')\n",
    "info_note = VaultNote(vault, name='twist_of_a_graded_module')\n",
    "assert notation_note_is_linked_in_see_also_section(notation_note, info_note)"
   ]
  },
  {
   "cell_type": "markdown",
   "metadata": {},
   "source": [
    "If `info_note` is not specified or if `info_note=None`, then the info note in question is the first note which the notation note links to, see the `main_of_notation` function:"
   ]
  },
  {
   "cell_type": "code",
   "execution_count": null,
   "metadata": {},
   "outputs": [],
   "source": [
    "vault = _test_directory() / 'test_vault_7'\n",
    "notation_note = VaultNote(vault, name='some_reference_name_notation_Pic_C')\n",
    "assert not notation_note_is_linked_in_see_also_section(notation_note)\n",
    "\n",
    "notation_note = VaultNote(vault, name='foag_notation_M_n_bullet')\n",
    "assert notation_note_is_linked_in_see_also_section(notation_note)"
   ]
  },
  {
   "cell_type": "markdown",
   "metadata": {},
   "source": [
    "## Add notation links to the `See Also` section"
   ]
  },
  {
   "cell_type": "markdown",
   "metadata": {},
   "source": [
    "#### Add links to individual notation notes"
   ]
  },
  {
   "cell_type": "code",
   "execution_count": null,
   "metadata": {},
   "outputs": [],
   "source": [
    "#| export\n",
    "def add_notation_note_to_see_also(\n",
    "        notation_note: VaultNote,\n",
    "        info_note: Optional[VaultNote] = None, # The note in which to link `notation_note`. Defaults to `None`, in which case the main note is determined to be the first linked note of `notation_note`.\n",
    "        do_not_repeat: bool = True # If `True`, do not add a link to `notation_note` in if there is already a such a link.\n",
    "        ) -> None:\n",
    "    \"\"\"Add a link to a notation note in the `See Also` section of\n",
    "    a standard information note.\n",
    "\n",
    "    **Raises**\n",
    "\n",
    "    - NoteDoesNotExistError\n",
    "        - If the information note to link to does not exist.\n",
    "    \n",
    "    \"\"\"\n",
    "    if not info_note:\n",
    "        info_note = main_of_notation(notation_note, as_note=True)\n",
    "    if not info_note.exists():\n",
    "        raise NoteDoesNotExistError\n",
    "    if do_not_repeat and notation_note_is_linked_in_see_also_section(\n",
    "            notation_note, info_note):\n",
    "        return\n",
    "    mf = MarkdownFile.from_vault_note(info_note)\n",
    "    link = ObsidianLink(False, notation_note.name, 0, 0)\n",
    "    mf.add_line_in_section(\n",
    "        'See Also', {'type': MarkdownLineEnum.UNORDERED_LIST,\n",
    "                     'line': f'- {str(link)}'})\n",
    "    mf.write(info_note)\n",
    "\n"
   ]
  },
  {
   "cell_type": "markdown",
   "metadata": {},
   "source": [
    "The `add_notation_note_to_see_also` method adds a link to the specified notation note to the specified standard information note."
   ]
  },
  {
   "cell_type": "code",
   "execution_count": null,
   "metadata": {},
   "outputs": [
    {
     "name": "stdout",
     "output_type": "stream",
     "text": [
      "The note's text before adding the link:\n",
      "---\n",
      "cssclass: clean-embeds\n",
      "aliases: []\n",
      "tags: [_meta/literature_note, _meta/definition, _meta/notation]\n",
      "---\n",
      "# Divisor class group of a curve[^1]\n",
      "Let $C/k$ be a curve.\n",
      "\n",
      "The **divisor class group** of $C$, denoted **$\\operatorname{Pic} C$**, is defined as $\\operatorname{Div} C / \\operatorname{Princ} C$.  \n",
      "\n",
      "# See Also\n",
      "\n",
      "# Meta\n",
      "## References\n",
      "\n",
      "## Citations and Footnotes\n",
      "[^1]: Citation\n",
      " \n",
      "\n",
      "\n",
      "The note's text after adding the link:\n",
      "---\n",
      "cssclass: clean-embeds\n",
      "aliases: []\n",
      "tags: [_meta/literature_note, _meta/definition, _meta/notation]\n",
      "---\n",
      "# Divisor class group of a curve[^1]\n",
      "Let $C/k$ be a curve.\n",
      "\n",
      "The **divisor class group** of $C$, denoted **$\\operatorname{Pic} C$**, is defined as $\\operatorname{Div} C / \\operatorname{Princ} C$.  \n",
      "\n",
      "# See Also\n",
      "- [[some_reference_name_notation_Pic_C]]\n",
      "\n",
      "# Meta\n",
      "## References\n",
      "\n",
      "## Citations and Footnotes\n",
      "[^1]: Citation\n",
      "\n"
     ]
    }
   ],
   "source": [
    "with tempfile.TemporaryDirectory(prefix='tmp_dir_', dir=os.getcwd()) as tmp_dir:\n",
    "    tmp_dir = Path(tmp_dir)\n",
    "    temp_vault = tmp_dir / 'test_vault_7'\n",
    "    shutil.copytree(_test_directory() / 'test_vault_7', temp_vault)\n",
    "\n",
    "    notation_note = VaultNote(temp_vault, name='some_reference_name_notation_Pic_C')\n",
    "    info_note = VaultNote(temp_vault, name='divisor_class_group_of_a_curve')\n",
    "    assert not notation_note_is_linked_in_see_also_section(notation_note, info_note)    \n",
    "    print(\"The note's text before adding the link:\")\n",
    "    print(info_note.text(), '\\n\\n')\n",
    "\n",
    "    add_notation_note_to_see_also(notation_note, info_note)\n",
    "    assert notation_note_is_linked_in_see_also_section(notation_note, info_note)\n",
    "    print(\"The note's text after adding the link:\")\n",
    "    print(info_note.text())"
   ]
  },
  {
   "cell_type": "markdown",
   "metadata": {},
   "source": [
    "If `info_note` is not specified or is `None`, then the information note to add the link is determined to be the first note that `notation_note` links to:"
   ]
  },
  {
   "cell_type": "code",
   "execution_count": null,
   "metadata": {},
   "outputs": [],
   "source": [
    "with tempfile.TemporaryDirectory(prefix='tmp_dir_', dir=os.getcwd()) as tmp_dir:\n",
    "    tmp_dir = Path(tmp_dir)\n",
    "    temp_vault = tmp_dir / 'test_vault_7'\n",
    "    shutil.copytree(_test_directory() / 'test_vault_7', temp_vault)\n",
    "\n",
    "    notation_note = VaultNote(temp_vault, name='some_reference_name_notation_Pic_C')\n",
    "    assert not notation_note_is_linked_in_see_also_section(notation_note)\n",
    "    add_notation_note_to_see_also(notation_note)\n",
    "    assert notation_note_is_linked_in_see_also_section(notation_note)"
   ]
  },
  {
   "cell_type": "markdown",
   "metadata": {},
   "source": [
    "If the information note to add the link does not exist, then a `NoteDoesNotExistError` is raised:"
   ]
  },
  {
   "cell_type": "markdown",
   "metadata": {},
   "source": [
    "If `do_not_repeat` is not specified or is `True`, then the link to the notation note is added only if such a link is not already present: "
   ]
  },
  {
   "cell_type": "code",
   "execution_count": null,
   "metadata": {},
   "outputs": [],
   "source": [
    "with tempfile.TemporaryDirectory(prefix='tmp_dir_', dir=os.getcwd()) as tmp_dir:\n",
    "    tmp_dir = Path(tmp_dir)\n",
    "    temp_vault = tmp_dir / 'test_vault_7'\n",
    "    shutil.copytree(_test_directory() / 'test_vault_7', temp_vault)\n",
    "\n",
    "    notation_note = VaultNote(temp_vault, name='foag_notation_M_n_bullet')\n",
    "    info_note = VaultNote(temp_vault, name='twist_of_a_graded_module')\n",
    "    assert notation_note_is_linked_in_see_also_section(notation_note, info_note)\n",
    "    original_text = info_note.text()\n",
    "    add_notation_note_to_see_also(notation_note, do_not_repeat=True)\n",
    "    new_text = info_note.text()\n",
    "    assert original_text == new_text\n",
    "    assert notation_note_is_linked_in_see_also_section(notation_note, info_note)\n",
    "\n",
    "    # notation_note = VaultNote(temp_vault, name='some_reference_name_notation_Pic_C')\n",
    "    # add_notation_note_to_see_also(notation_note)\n",
    "    # assert notation_note_is_linked_in_see_also_section(notation_note)"
   ]
  },
  {
   "cell_type": "markdown",
   "metadata": {},
   "source": [
    "Otherwise, the link to the notation note is added even if such a link is already present:"
   ]
  },
  {
   "cell_type": "code",
   "execution_count": null,
   "metadata": {},
   "outputs": [
    {
     "name": "stdout",
     "output_type": "stream",
     "text": [
      "---\n",
      "cssclass: clean-embeds\n",
      "aliases: []\n",
      "tags: [_meta/literature_note]\n",
      "---\n",
      "# Twist of graded module[^1]\n",
      "\n",
      "Suppose $M_\\bullet$ is a graded $S_\\bullet$-module. Define the graded module **$M(n)_\\bullet$** by $M(n)_{m}:=M_{n+m}$. Thus the quasicoherent sheaf $M(n)_\\bullet$ satisfies\n",
      "\n",
      "$$ \\Gamma\\left(D(f), \\widetilde{M(n)}_{\\bullet}\\right)=\\left(\\left(M_{\\bullet}\\right)_{f}\\right)_{n} $$\n",
      "\n",
      "where here the subscript means we take the nth graded piece.\n",
      "\n",
      "# See Also\n",
      "- [[foag_notation_M_n_bullet]]\n",
      "- [[foag_notation_M_n_bullet]]\n",
      "# Meta\n",
      "## References\n",
      "![[_reference_foag]]\n",
      "\n",
      "## Citations and Footnotes\n",
      "[^1]: Vakil, Invertible 15.2, Page 412\n",
      "\n"
     ]
    }
   ],
   "source": [
    "with tempfile.TemporaryDirectory(prefix='tmp_dir_', dir=os.getcwd()) as tmp_dir:\n",
    "    tmp_dir = Path(tmp_dir)\n",
    "    temp_vault = tmp_dir / 'test_vault_7'\n",
    "    shutil.copytree(_test_directory() / 'test_vault_7', temp_vault)\n",
    "\n",
    "    notation_note = VaultNote(temp_vault, name='foag_notation_M_n_bullet')\n",
    "    info_note = VaultNote(temp_vault, name='twist_of_a_graded_module')\n",
    "    original_text = info_note.text()\n",
    "    add_notation_note_to_see_also(notation_note, do_not_repeat=False)\n",
    "    new_text = info_note.text()\n",
    "    assert original_text != new_text\n",
    "    assert notation_note_is_linked_in_see_also_section(notation_note, info_note)\n",
    "    print(new_text)\n"
   ]
  },
  {
   "cell_type": "markdown",
   "metadata": {},
   "source": [
    "If a link to the notation note is not already present, then `add_notation_note_to_see_also` adds such a link to the info note whether or not `do_not_repeat` is `True`:"
   ]
  },
  {
   "cell_type": "code",
   "execution_count": null,
   "metadata": {},
   "outputs": [],
   "source": [
    "with tempfile.TemporaryDirectory(prefix='tmp_dir_', dir=os.getcwd()) as tmp_dir:\n",
    "    tmp_dir = Path(tmp_dir)\n",
    "    temp_vault = tmp_dir / 'test_vault_7'\n",
    "    shutil.copytree(_test_directory() / 'test_vault_7', temp_vault)\n",
    "\n",
    "    notation_note = VaultNote(temp_vault, name='some_reference_name_notation_Pic_C')\n",
    "    info_note = VaultNote(temp_vault, name='divisor_class_group_of_a_curve')\n",
    "    assert not notation_note_is_linked_in_see_also_section(notation_note, info_note)    \n",
    "\n",
    "    add_notation_note_to_see_also(notation_note, info_note, do_not_repeat=False)\n",
    "    assert notation_note_is_linked_in_see_also_section(notation_note, info_note)"
   ]
  },
  {
   "cell_type": "markdown",
   "metadata": {},
   "source": [
    "#### Add links to notation notes for all notation notes in a specified subdirectory."
   ]
  },
  {
   "cell_type": "code",
   "execution_count": null,
   "metadata": {},
   "outputs": [],
   "source": [
    "#| export\n",
    "def add_missing_notation_links_to_information_notes(\n",
    "        vault: PathLike, # Path to the vault directory.\n",
    "        subdirectory: Optional[PathLike] = None, # Path to the subdirectory, relative to `vault`, to find the notation notes and their main notes. Searches for all notation notes here and in subdirectories of this subdirectory. If `None`, then the `note` parameter is used to determine `subdirectory`. Defaults to `None`. \n",
    "        note: Optional[VaultNote] = None # A note in the vault. The directory that this note is in determines the `subdirectory` parameter if it is `None`.  Defaults to `None`, in which case `subdirectory` must be specified.\n",
    "        ) -> None:\n",
    "    # TODO: deal with possibility that note does not exist.\n",
    "    \"\"\"For each notation note in a specified subdirectory, Add links\n",
    "    to notation notes in their main information notes if the notation\n",
    "    links are not already present.\n",
    "    \n",
    "    **Raises**\n",
    "\n",
    "    - ValueError\n",
    "        - If `subdirectory` and `note` are both `None`.\n",
    "    \"\"\"\n",
    "    mains_dict = notations_and_main_notes(vault, subdirectory, note)\n",
    "    to_check = {key: value for key, value in mains_dict.items()\n",
    "                if value is not None}\n",
    "    for notation, main in to_check.items():\n",
    "        if not main:\n",
    "            continue\n",
    "        notation_note = VaultNote(vault, name=notation)\n",
    "        try:\n",
    "            main_note = VaultNote(vault, name=main)  # TODO add the subdirectory parameter here appropriately. See Also `notations_and_main_note` \n",
    "            add_notation_note_to_see_also(notation_note, main_note)\n",
    "        except NoteDoesNotExistError:\n",
    "            continue"
   ]
  },
  {
   "cell_type": "markdown",
   "metadata": {},
   "source": [
    "The `add_missing_notation_links_to_information_notes` method adds links to notation notes of a specified directory to their main notes if these links are not already present. Note that nonexisting information notes which are the \"main\" notes of notation notes are ignored."
   ]
  },
  {
   "cell_type": "code",
   "execution_count": null,
   "metadata": {},
   "outputs": [],
   "source": [
    "with tempfile.TemporaryDirectory(prefix='tmp_dir_', dir=os.getcwd()) as tmp_dir:\n",
    "    tmp_dir = Path(tmp_dir)\n",
    "    temp_vault = tmp_dir / 'test_vault_7'\n",
    "    shutil.copytree(_test_directory() / 'test_vault_7', temp_vault)\n",
    "\n",
    "    notation_note_1 = VaultNote(temp_vault, name='some_reference_name_notation_Pic_C')\n",
    "    main_note_1 = VaultNote(temp_vault, name='divisor_class_group_of_a_curve')\n",
    "    notation_note_2 = VaultNote(temp_vault, name='some_reference_name_notation_Spec_A')\n",
    "    main_note_2 = VaultNote(temp_vault, name='spectrum_of_a_ring')\n",
    "    notation_note_3 = VaultNote(temp_vault, name='foag_notation_O_n')\n",
    "    main_note_3 = VaultNote(temp_vault, name='foag_15.2.1')\n",
    "\n",
    "    assert not notation_note_is_linked_in_see_also_section(notation_note_1, main_note_1)\n",
    "    assert not notation_note_is_linked_in_see_also_section(notation_note_2, main_note_2)\n",
    "    assert not notation_note_is_linked_in_see_also_section(notation_note_3, main_note_3)\n",
    "    add_missing_notation_links_to_information_notes(temp_vault, '')\n",
    "    assert notation_note_is_linked_in_see_also_section(notation_note_1, main_note_1)\n",
    "    assert notation_note_is_linked_in_see_also_section(notation_note_2, main_note_2)\n",
    "    assert notation_note_is_linked_in_see_also_section(notation_note_3, main_note_3)"
   ]
  },
  {
   "cell_type": "markdown",
   "metadata": {},
   "source": [
    "# Add notation notes to Notation index note"
   ]
  },
  {
   "cell_type": "code",
   "execution_count": null,
   "metadata": {},
   "outputs": [],
   "source": [
    "#| export\n",
    "def notations_to_add_in_index(\n",
    "        vault: PathLike, # Path to the vault directory.\n",
    "        notation_index_note = VaultNote, # The notation index note in the vault where the notations should be added to.\n",
    "        subdirectory: Optional[PathLike] = None , # Path to the subdirectory, relative to `vault`, to find the notation notes. Searches for all notation notes here and in subdirectories of this subdirectory. If `None`, then the `note parameter is used to determined the subdirectory. If `subdirectory` is the empty str, then all notation notes in the vault are searched. Defaults to `None`. \n",
    "        note: Optional[VaultNote] = None # The directory that this note is in determines the argument to `subdirectory` parameter if it is `None`. Defaults to `None`, in which case `subdirectory` must be specified.\n",
    "        ) -> list[tuple[str, ObsidianLink]]: # Each tuple in the list consists of the notation str of the notation note (including surrounding dollar signs `$`) and the (nonembedded) ObsidianLink object for a link to the notation note.\n",
    "    \"\"\"Returns notations and links of notation notes to that ought to be\n",
    "    added in the corresponding notation index, i.e. are in the reference\n",
    "    folder but not linked by the notation index note.\n",
    "\n",
    "    If a notation note is not properly formatted, e.g. does not have a\n",
    "    notation, then the notation and link for the notation note will not\n",
    "    be included.\n",
    "    \n",
    "    **Raises**\n",
    "    - ValueError\n",
    "        - If `subdirectory` and `note` are both `None`.\n",
    "\n",
    "    \"\"\"\n",
    "    vault = vault if vault is not None else ''\n",
    "    mains_dict = notations_and_main_notes(vault, subdirectory, note)\n",
    "    mf_object = MarkdownFile.from_file(notation_index_note.path())\n",
    "    mf_text = str(mf_object)\n",
    "    notations_and_links = []\n",
    "    for notation, _ in mains_dict.items():\n",
    "        link_object = ObsidianLink(\n",
    "            is_embedded=True, file_name=notation, anchor=0, custom_text=0,\n",
    "            link_type=LinkType.WIKILINK)\n",
    "        link = link_object.to_string()\n",
    "        try:\n",
    "            notation_str = notation_in_note(notation, vault)\n",
    "        except AttributeError:  # When a notation note is incomplete.\n",
    "            continue  # TODO: print a warning\n",
    "        if not link in mf_text:\n",
    "            notations_and_links.append((notation_str, link_object))\n",
    "    return notations_and_links\n",
    "\n"
   ]
  },
  {
   "cell_type": "markdown",
   "metadata": {},
   "source": [
    "We can identify notation notes which exist in a reference folder but are not linked in the notation index note for the reference:"
   ]
  },
  {
   "cell_type": "code",
   "execution_count": null,
   "metadata": {},
   "outputs": [
    {
     "name": "stdout",
     "output_type": "stream",
     "text": [
      "$\\mathbb{Z}/n\\mathbb{Z}$ ![[number_theory_reference_1_notation_Z_nZ_ring_of_integers_modulo_n]]\n"
     ]
    }
   ],
   "source": [
    "# TODO: make test\n",
    "# VaultNote.clear_cache()\n",
    "vault = _test_directory() / 'test_vault_6'\n",
    "reference = 'number_theory_reference_1'\n",
    "note = VaultNote(vault, name=f'_index_{reference}')\n",
    "notation_index_note = VaultNote(vault, name=f'_notation_{reference}')\n",
    "sample_output = notations_to_add_in_index(vault, notation_index_note, note=note)\n",
    "for notation_str, link in sample_output:\n",
    "    print(notation_str, link.to_string())"
   ]
  },
  {
   "cell_type": "code",
   "execution_count": null,
   "metadata": {},
   "outputs": [],
   "source": [
    "#| export\n",
    "def index_notation_note_formatted_entry(\n",
    "        notation_str: str, # The str of the notation, including the surrounding dollar signs `$`.\n",
    "        link: ObsidianLink # The embedded link to the notation note. \n",
    "        ) -> str:\n",
    "    \"\"\"Return a str formatted for an index notation note entry.\n",
    "\n",
    "    It is recommended to pass the outputs of\n",
    "    `notations_to_add_in_index` to this function.\n",
    "    \"\"\"\n",
    "    return f'### {notation_str}\\n- {link.to_string()}'"
   ]
  },
  {
   "cell_type": "markdown",
   "metadata": {},
   "source": [
    "The `index_notation_note_formatted_entry` function returns a formatted str to add in the index notation note:"
   ]
  },
  {
   "cell_type": "code",
   "execution_count": null,
   "metadata": {},
   "outputs": [
    {
     "name": "stdout",
     "output_type": "stream",
     "text": [
      "### $\\mathbb{Z}/n\\mathbb{Z}$\n",
      "- ![[number_theory_reference_1_notation_Z_nZ_ring_of_integers_modulo_n]]\n"
     ]
    }
   ],
   "source": [
    "print(index_notation_note_formatted_entry(sample_output[0][0], sample_output[0][1]))"
   ]
  },
  {
   "cell_type": "markdown",
   "metadata": {},
   "source": [
    "# Making a notation note"
   ]
  },
  {
   "cell_type": "code",
   "execution_count": null,
   "metadata": {},
   "outputs": [],
   "source": [
    "#| export\n",
    "def make_a_notation_note(\n",
    "        main_note: VaultNote, # The note from which the notation originates.\n",
    "        vault: PathLike,\n",
    "        notation: str, # The notation typed in latex. May or may not be surrounded by dollar signs\n",
    "        description: str, # The rest of the text describing notation.\n",
    "        notation_note_name: str, # The name of the new notation note to be created.\n",
    "        destination: Optional[PathLike] = None, # The directory to create the new notation note in.  If `None`, then creates the new notation note in the same place as the note specified by `note_name`\n",
    "        overwrite: bool = False, # If `True`, overwrite file of the same path as the new notation file to be written, if such a file exists.  Otherwise, does nothing. Even if a link to the old notation note exists in `main_note`, a new link will still be added.  Defaults to `False`.\n",
    "        add_to_main: bool = True # If `True`, adds a link to the notation note in the `See Also` section of the main note.\n",
    "        ) -> Union[VaultNote, None]: # The newly created notation note. If no note is created, then returns `None`.\n",
    "    \"\"\"Make a new notation note, optionally add a link to it in the\n",
    "    `See Also` section of its main note, returns it.\n",
    "\n",
    "    The notation note is created in the same directory as the main note.\n",
    "    The meta of the notation note has a `latex_in_original` section which\n",
    "    lists the contents of the latex string in the main note from which the\n",
    "    notation note comes from. This is so that the\n",
    "    `make_notation_notes_from_double_asts` method can distinguish between\n",
    "    notations for which a note has been created and for which a note has\n",
    "    not been created.\n",
    "    \"\"\"\n",
    "    if destination is None:\n",
    "        destination = main_note.directory(relative=True)\n",
    "    notation_note = VaultNote(\n",
    "        vault, rel_path=destination / f'{notation_note_name}.md')\n",
    "    if not overwrite and notation_note.exists():\n",
    "        return\n",
    "    if not notation_note.exists():\n",
    "        notation_note.create()\n",
    "    to_print = _full_notation_string(main_note, notation, description)\n",
    "    # TODO: change this to use VaultNote method\n",
    "    with open(notation_note.path(), 'w+', encoding='utf8') as notation_file:\n",
    "        notation_file.write(to_print)\n",
    "    if add_to_main:\n",
    "        add_notation_note_to_see_also(notation_note, main_note)\n",
    "    return notation_note\n",
    "    \n",
    "\n",
    "def _full_notation_string(\n",
    "        main_note: VaultNote, notation: str, description: str) -> str:\n",
    "    \"\"\"The full \"statement\" of a notation.\n",
    "    \n",
    "    Says something like \"<notation> denotes <description of notation>\", e.g.\n",
    "    \"$\\dim V$ denotes the dimension of the vector space $V$\".\n",
    "    \n",
    "    **Parameters**\n",
    "    - notation - str\n",
    "        - Notation written in LaTeX.\n",
    "    - description - str\n",
    "        - The full description of the notation.\n",
    "        \n",
    "    **Returns**\n",
    "    - str\n",
    "    \"\"\"\n",
    "    raw_notation = f'{_raw_notation(notation)}'\n",
    "    denote_link = ObsidianLink(False, main_note.name, 0, 'denotes')\n",
    "    meta_notation = raw_notation.replace('\\\\', '\\\\\\\\')\n",
    "    return (f'---\\ndetect_regex: []\\n'\n",
    "            f'latex_in_original: [\"{meta_notation}\"]'\n",
    "            f'\\n---\\n${raw_notation}$ {str(denote_link)} {description}')\n",
    "\n",
    "\n",
    "def _raw_notation(notation: str):\n",
    "    \"\"\"\n",
    "    \"\"\"\n",
    "    notation = notation.strip()\n",
    "    notation = notation.strip('$')\n",
    "    notation = notation.strip()\n",
    "    return notation\n"
   ]
  },
  {
   "cell_type": "markdown",
   "metadata": {},
   "source": [
    "We can make a notation note with the `make_a_notation_note` method."
   ]
  },
  {
   "cell_type": "code",
   "execution_count": null,
   "metadata": {},
   "outputs": [
    {
     "name": "stdout",
     "output_type": "stream",
     "text": [
      "{'detect_regex': [], 'latex_in_original': ['\\\\operatorname{Gal}(L/K)']} \n",
      "\n",
      "---\n",
      "detect_regex: []\n",
      "latex_in_original: [\"\\\\operatorname{Gal}(L/K)\"]\n",
      "---\n",
      "$\\operatorname{Gal}(L/K)$ [[galois_group|denotes]]  \n",
      "\n"
     ]
    }
   ],
   "source": [
    "with tempfile.TemporaryDirectory(prefix='tmp_dir_', dir=os.getcwd()) as tmp_dir:\n",
    "    tmp_dir = Path(tmp_dir)\n",
    "    temp_vault = tmp_dir / 'test_vault_7'\n",
    "    shutil.copytree(_test_directory() / 'test_vault_7', temp_vault)\n",
    "\n",
    "    note = VaultNote(temp_vault, name='galois_group')\n",
    "    notation_note = make_a_notation_note(\n",
    "        note, temp_vault, r'\\operatorname{Gal}(L/K)', '', notation_note_name='some_reference_name_notation_Gal_L_K_galois_group')\n",
    "    mf = MarkdownFile.from_vault_note(notation_note)\n",
    "    assert mf.has_metadata()\n",
    "    meta = mf.metadata()\n",
    "    assert 'detect_regex' in meta\n",
    "    assert 'latex_in_original' in meta\n",
    "    print(meta, '\\n')\n",
    "    assert '\\\\operatorname{Gal}(L/K)' in meta['latex_in_original']\n",
    "    print(mf, '\\n')\n",
    "\n",
    "    main_mf = MarkdownFile.from_vault_note(note)\n",
    "    # print(main_mf)\n",
    "    assert notation_note.name in str(main_mf)  # A link has been created\n",
    "    # os.startfile(temp_vault)\n",
    "    # input()"
   ]
  },
  {
   "cell_type": "markdown",
   "metadata": {},
   "source": [
    "Note that the surrounding dollar signs for LaTeX math mode can be included in the argument for `notation`:"
   ]
  },
  {
   "cell_type": "code",
   "execution_count": null,
   "metadata": {},
   "outputs": [
    {
     "name": "stdout",
     "output_type": "stream",
     "text": [
      "{'detect_regex': [], 'latex_in_original': ['\\\\operatorname{Gal}(L/K)']} \n",
      "\n",
      "---\n",
      "detect_regex: []\n",
      "latex_in_original: [\"\\\\operatorname{Gal}(L/K)\"]\n",
      "---\n",
      "$\\operatorname{Gal}(L/K)$ [[galois_group|denotes]]  \n",
      "\n"
     ]
    }
   ],
   "source": [
    "with tempfile.TemporaryDirectory(prefix='tmp_dir_', dir=os.getcwd()) as tmp_dir:\n",
    "    tmp_dir = Path(tmp_dir)\n",
    "    temp_vault = tmp_dir / 'test_vault_7'\n",
    "    shutil.copytree(_test_directory() / 'test_vault_7', temp_vault)\n",
    "\n",
    "    note = VaultNote(temp_vault, name='galois_group')\n",
    "    notation_note = make_a_notation_note(\n",
    "        note, temp_vault, r'$\\operatorname{Gal}(L/K)$', '', notation_note_name='some_reference_name_notation_Gal_L_K_galois_group')\n",
    "    mf = MarkdownFile.from_vault_note(notation_note)\n",
    "    assert mf.has_metadata()\n",
    "    meta = mf.metadata()\n",
    "    assert 'detect_regex' in meta\n",
    "    assert 'latex_in_original' in meta\n",
    "    print(meta, '\\n')\n",
    "    assert '\\\\operatorname{Gal}(L/K)' in meta['latex_in_original']\n",
    "    print(mf, '\\n')\n",
    "\n",
    "    main_mf = MarkdownFile.from_vault_note(note)\n",
    "    # print(main_mf)\n",
    "    assert notation_note.name in str(main_mf)  # A link has been created\n",
    "    # os.startfile(temp_vault)\n",
    "    # input()"
   ]
  },
  {
   "cell_type": "markdown",
   "metadata": {},
   "source": [
    "Setting `add_to_main=False` only creates the notation note, but does not add a link to the notation note in the main note:"
   ]
  },
  {
   "cell_type": "code",
   "execution_count": null,
   "metadata": {},
   "outputs": [
    {
     "name": "stdout",
     "output_type": "stream",
     "text": [
      "{'detect_regex': [], 'latex_in_original': ['\\\\operatorname{Gal}(L/K)']} \n",
      "\n",
      "---\n",
      "detect_regex: []\n",
      "latex_in_original: [\"\\\\operatorname{Gal}(L/K)\"]\n",
      "---\n",
      "$\\operatorname{Gal}(L/K)$ [[galois_group|denotes]]  \n",
      "\n"
     ]
    }
   ],
   "source": [
    "with tempfile.TemporaryDirectory(prefix='tmp_dir_', dir=os.getcwd()) as tmp_dir:\n",
    "    tmp_dir = Path(tmp_dir)\n",
    "    temp_vault = tmp_dir / 'test_vault_7'\n",
    "    shutil.copytree(_test_directory() / 'test_vault_7', temp_vault)\n",
    "\n",
    "    note = VaultNote(temp_vault, name='galois_group')\n",
    "    notation_note = make_a_notation_note(\n",
    "        note, temp_vault, r'\\operatorname{Gal}(L/K)', '', notation_note_name='_reference_notation_Gal_L_K_galois_group',\n",
    "        add_to_main=False)\n",
    "\n",
    "    mf = MarkdownFile.from_vault_note(notation_note)\n",
    "    assert mf.has_metadata()\n",
    "    meta = mf.metadata()\n",
    "    assert 'detect_regex' in meta\n",
    "    assert 'latex_in_original' in meta\n",
    "    print(meta, '\\n')\n",
    "    assert '\\\\operatorname{Gal}(L/K)' in meta['latex_in_original']\n",
    "    print(mf, '\\n')\n",
    "\n",
    "    main_mf = MarkdownFile.from_vault_note(note)\n",
    "    # print(main_mf)\n",
    "    assert notation_note.name not in str(main_mf)  # No link has been created"
   ]
  },
  {
   "cell_type": "markdown",
   "metadata": {},
   "source": [
    "If the notation note of the specified name (`notation_note_name`) already exists, then by default no note is created and no link is added in the main note. "
   ]
  },
  {
   "cell_type": "code",
   "execution_count": null,
   "metadata": {},
   "outputs": [],
   "source": [
    "with tempfile.TemporaryDirectory(prefix='tmp_dir_', dir=os.getcwd()) as tmp_dir:\n",
    "    tmp_dir = Path(tmp_dir)\n",
    "    temp_vault = tmp_dir / 'test_vault_7'\n",
    "    shutil.copytree(_test_directory() / 'test_vault_7', temp_vault)\n",
    "\n",
    "    note = VaultNote(temp_vault, name='spectrum_of_a_ring')\n",
    "    notation_note = make_a_notation_note(\n",
    "        note, temp_vault, r'\\operatorname{Spec} A', '', notation_note_name='some_reference_name_notation_Spec_A')\n",
    "\n",
    "    assert notation_note is None\n",
    "\n",
    "    main_mf = MarkdownFile.from_vault_note(note)\n",
    "    # print(main_mf)\n",
    "    assert main_mf.get_headings_and_text()['# See Also'].strip() == ''  # No link has been added"
   ]
  },
  {
   "cell_type": "markdown",
   "metadata": {},
   "source": [
    "Setting `overwrite=True`, however, will overwrite the existing note. The method will also add a link to the (overwritten) notation note."
   ]
  },
  {
   "cell_type": "code",
   "execution_count": null,
   "metadata": {},
   "outputs": [
    {
     "name": "stdout",
     "output_type": "stream",
     "text": [
      "---\n",
      "detect_regex: []\n",
      "latex_in_original: [\"\\\\operatorname{Spec} A\"]\n",
      "---\n",
      "$\\operatorname{Spec} A$ [[spectrum_of_a_ring|denotes]] \n"
     ]
    }
   ],
   "source": [
    "with tempfile.TemporaryDirectory(prefix='tmp_dir_', dir=os.getcwd()) as tmp_dir:\n",
    "    tmp_dir = Path(tmp_dir)\n",
    "    temp_vault = tmp_dir / 'test_vault_7'\n",
    "    shutil.copytree(_test_directory() / 'test_vault_7', temp_vault)\n",
    "\n",
    "    note = VaultNote(temp_vault, name='spectrum_of_a_ring')\n",
    "    notation_note = make_a_notation_note(\n",
    "        note, temp_vault, r'\\operatorname{Spec} A', '', notation_note_name='some_reference_name_notation_Spec_A',\n",
    "        overwrite=True)\n",
    "\n",
    "    assert notation_note is not None\n",
    "\n",
    "    main_mf = MarkdownFile.from_vault_note(note)\n",
    "    assert notation_note.name in str(main_mf)\n",
    "    notation_mf = MarkdownFile.from_vault_note(notation_note) \n",
    "    # notation_mf has been overwritten\n",
    "    print(notation_mf)"
   ]
  },
  {
   "cell_type": "code",
   "execution_count": null,
   "metadata": {},
   "outputs": [
    {
     "name": "stdout",
     "output_type": "stream",
     "text": [
      "---\n",
      "detect_regex: []\n",
      "latex_in_original: [\"\\\\operatorname{Gal}(L/K)\"]\n",
      "---\n",
      "$\\operatorname{Gal}(L/K)$ [[galois_group|denotes]] \n"
     ]
    }
   ],
   "source": [
    "#| hide\n",
    "vault = _test_directory() / 'test_vault_7'\n",
    "note = VaultNote(vault, name='galois_group')\n",
    "output = _full_notation_string(note, notation=r'\\operatorname{Gal}(L/K)', description='')\n",
    "print(output)\n",
    "assert r'$\\operatorname{Gal}(L/K)$' in output\n",
    "assert '[[galois_group|denotes]]' in output"
   ]
  },
  {
   "cell_type": "code",
   "execution_count": null,
   "metadata": {},
   "outputs": [],
   "source": [
    "#| hide\n",
    "assert _raw_notation(r'$$$\\mathscr{O}_X$$') == r'\\mathscr{O}_X'\n",
    "assert _raw_notation(r'$$ \\operatorname{Spec} A  $$') == r'\\operatorname{Spec} A'\n",
    "assert _raw_notation(r'$f_\\mathfrak{p}$') == r'f_\\mathfrak{p}'\n",
    "assert _raw_notation(r'$ \\mathscr{O}_X') == r'\\mathscr{O}_X'\n",
    "assert _raw_notation(r'\\operatorname{Gal}(L/K)') == r'\\operatorname{Gal}(L/K)'"
   ]
  },
  {
   "cell_type": "code",
   "execution_count": null,
   "metadata": {},
   "outputs": [],
   "source": [
    "#| hide\n",
    "output_1 = _full_notation_string(note, notation=r'$$$\\mathscr{O}_X$$', description='')\n",
    "output_2 = _full_notation_string(note, notation=r'$$ \\mathscr{O}_X $$', description='')\n",
    "output_3 = _full_notation_string(note, notation=r'$\\mathscr{O}_X$', description='')\n",
    "output_4 = _full_notation_string(note, notation=r'$ \\mathscr{O}_X', description='')\n",
    "assert output_1 == output_2\n",
    "assert output_2 == output_3\n",
    "assert output_3 == output_4"
   ]
  },
  {
   "cell_type": "code",
   "execution_count": null,
   "metadata": {},
   "outputs": [],
   "source": [
    "#| export\n",
    "def make_notation_notes_from_double_asts(\n",
    "        main_note: VaultNote, # The standard information note from which the notations are marked with double asterisks\n",
    "        vault: PathLike, # The name of the reference; the notation note's name will start with `{reference_name}_notation_`.\n",
    "        reference_name: str,\n",
    "        destination: Optional[PathLike] = None, # The directory to create the new notation notes in.  If `None`, then creates the new notation note in the same place as the note specified by `note_name`\n",
    "        overwrite: bool = False, # If `True`, overwrite file of the same path as the new notation file to be written, if such a file exists.  Otherwise, does nothing. Defaults to `False`.\n",
    "        add_to_main: bool = True # If `True`, adds links to the notation note in the `See Also` section of the main note.\n",
    "        ) -> list[VaultNote]: # The list of VaultNotes that are newly created/modified.\n",
    "    \"\"\"Make notation notes based on double asterisks surrounding LaTeX text in\n",
    "    a standard information note.\n",
    "\n",
    "    Notations are deemed to be completely LaTeX text in info notes that\n",
    "    are surrounded by double asterisks. In basicality, if such a LaTeX\n",
    "    text (without surrounding dollars signs `$` or `$$`) is listed in\n",
    "    the `latex_in_original` metadata section of some notation note in the same\n",
    "    directory as the info note whose main note is the info note in question,\n",
    "    then a new notation note for that LaTeX text \n",
    "    is not created. However, if there are multiple instances of the same\n",
    "    LaTeX text, then some notation notes may be created so that the number\n",
    "    of times the LaTeX text appears in the info note is the no more than\n",
    "    the number of times the LaTeX text appears in `latex_in_original` metadata\n",
    "    sections of notation notes (in the same directory as the info note whose\n",
    "    main note is the info note).\n",
    "\n",
    "    For example, if there is an info note with notations `A`, `A`, `'A'`,\n",
    "    `'A'`, and `B` and if there is a single notation note in the same\n",
    "    directory as the info note with two `'A'` and `'A'` entries in its\n",
    "    `latex_in_original` metadata section, then three notation notes will be\n",
    "    created: two with `'A'` listed in their `latex_in_original` sections, and\n",
    "    one with `'B'` listed in its `latex_in_original` section.\n",
    "\n",
    "    **Raises**\n",
    "\n",
    "    - Warning\n",
    "        - If there are notation notes whose main note is determined to\n",
    "        be to `main_note` and whose notations \"excessively cover\" those\n",
    "        in `main_note`, i.e. the notation notes have more notations than\n",
    "        `main_note` introduces. The main note and the excessive\n",
    "        notations are printed; the notations are printed instead of the \n",
    "        notation notes because the same notation may span either multiple\n",
    "        or single notation notes.\n",
    "    \"\"\"\n",
    "    # Find notations\n",
    "    notations = notation_str_in_a_standard_information_note(main_note)\n",
    "    notations = [_raw_notation(notation) for notation in notations]\n",
    "    # Get only the notations not already made into notes based on\n",
    "    # latex_in_original\n",
    "    all_latex_in_original = _latex_in_original_from_notat_notes_to_main_note(\n",
    "        vault, main_note)\n",
    "    notations_to_create = Multiset(notations).difference(all_latex_in_original)\n",
    "    notations_to_create = list(notations_to_create)\n",
    "    # Alert of existing notations that should not be there\n",
    "    excess_notations = all_latex_in_original.difference(Multiset(notations))\n",
    "    excess_notations = list(excess_notations)\n",
    "    if excess_notations:\n",
    "        warnings.warn(\n",
    "            f\"The following note has the following excess notations: \"\n",
    "            f\"{main_note.name}, {', '.join(excess_notations)}\")\n",
    "    # Make notations\n",
    "    return _make_new_notes_from_sifted_double_asts(\n",
    "        main_note, vault, reference_name, notations_to_create,\n",
    "        destination, overwrite, add_to_main)\n",
    "    \n",
    "\n",
    "def _latex_in_original_in_notat(\n",
    "        notation_note: VaultNote\n",
    "        ) -> list[str]:\n",
    "    \"\"\"Return the `latex_in_original` metadata section of the notation note.\n",
    "    \n",
    "    If the `latex_in_original` metadata section does not exist, then returns\n",
    "    the list consisting of the notation in the notation note.\n",
    "    \"\"\"\n",
    "    # TODO: test in the case that `latex_in_original` section does not exist\n",
    "    mf = MarkdownFile.from_vault_note(notation_note)\n",
    "    metadata = mf.metadata()\n",
    "    if metadata is not None:\n",
    "        return metadata.get('latex_in_original',\n",
    "                            [notation_in_note(notation_note).strip('$')])\n",
    "    else:\n",
    "        return [notation_in_note(notation_note)]\n",
    "\n",
    "    \n",
    "def _latex_in_original_from_notat_notes_to_main_note(\n",
    "        vault: PathLike,\n",
    "        main_note: VaultNote # The info note\n",
    "        ) -> Multiset:\n",
    "    \"\"\"Return a Multiset enumerating the entries of `latex_in_original`\n",
    "    in the notation notes in the same directory as an info note\n",
    "    \"\"\"\n",
    "    notation_notes_in_folder = notations_and_main_notes(vault, note=main_note)\n",
    "    notation_notes_of_main_note = [\n",
    "        VaultNote(vault, name=notation_note) for notation_note, info_note\n",
    "        in notation_notes_in_folder.items()\n",
    "        if main_note.name == info_note]\n",
    "\n",
    "    all_latex_in_original = Multiset()\n",
    "    for notat_note in notation_notes_of_main_note:\n",
    "        all_latex_in_original.update(_latex_in_original_in_notat(notat_note))\n",
    "    return all_latex_in_original\n",
    "\n",
    "\n",
    "MAX_NOTE_NAME_LENGTH = 80\n",
    "def _make_new_notes_from_sifted_double_asts(\n",
    "        main_note: VaultNote, vault: PathLike, reference_name: str,\n",
    "        notations: list[str], destination: Optional[PathLike],\n",
    "        overwrite: bool, add_to_main: bool) -> list[VaultNote]:\n",
    "    \"\"\"\n",
    "    Actually makes the notation notes found from the double asterisked LaTeX\n",
    "    str's\n",
    "    \"\"\"\n",
    "    # TODO: test that note names aren't too long.\n",
    "    new_notes = []\n",
    "    for notation in reversed(notations):\n",
    "        notation_note_name = f'{reference_name}_notation_'\\\n",
    "            f'{latex_to_path_accepted_string(notation)}'\n",
    "        if len(notation_note_name) > MAX_NOTE_NAME_LENGTH:\n",
    "            notation_note_name = notation_note_name[:MAX_NOTE_NAME_LENGTH]\n",
    "        notation_note_name = VaultNote.unique_name(\n",
    "            notation_note_name, vault)\n",
    "        new_note = make_a_notation_note(\n",
    "            main_note, vault, notation, '', notation_note_name,\n",
    "            destination, overwrite, add_to_main)\n",
    "        if new_note:\n",
    "            new_notes.append(new_note)\n",
    "    return new_notes\n",
    "    \n",
    "\n"
   ]
  },
  {
   "cell_type": "markdown",
   "metadata": {},
   "source": [
    "As described in `markdown.obsidian.personal.machine_learning.notation_identification`, we surround a LaTeX math mode string with double asterisks `**` to indicate that the string introduces a notation."
   ]
  },
  {
   "cell_type": "markdown",
   "metadata": {},
   "source": [
    "The `make_notation_notes_from_double_asts` method parses LaTeX surrounded by double asterisks `**` in a standard information note and automatically creates notation notes for said LaTeX."
   ]
  },
  {
   "cell_type": "code",
   "execution_count": null,
   "metadata": {},
   "outputs": [],
   "source": [
    "with tempfile.TemporaryDirectory(prefix='tmp_dir_', dir=os.getcwd()) as tmp_dir:\n",
    "    tmp_dir = Path(tmp_dir)\n",
    "    temp_vault = tmp_dir / 'test_vault_6'\n",
    "    shutil.copytree(_test_directory() / 'test_vault_6', temp_vault)\n",
    "\n",
    "    # os.startfile(temp_vault)\n",
    "    # input()\n",
    "    info_note = VaultNote(temp_vault, name='reference_for_notation_notes_introducing_some_notations')\n",
    "    new_notes = make_notation_notes_from_double_asts(info_note, temp_vault, 'reference_for_notation_notes')\n",
    "    \n",
    "    assert len(new_notes) == 3\n",
    "    for new_note in new_notes:\n",
    "        assert new_note.exists()\n",
    "        assert notation_note_is_linked_in_see_also_section(new_note, info_note)\n",
    "    # input()\n",
    "    # TODO: add more tests - overwrite=True, add_to_main=False"
   ]
  },
  {
   "cell_type": "markdown",
   "metadata": {},
   "source": [
    "In the following example, we prompt `make_notation_notes_from_double_asts` to make notation notes for an info note with no notations - nothing is modified:"
   ]
  },
  {
   "cell_type": "code",
   "execution_count": null,
   "metadata": {},
   "outputs": [],
   "source": [
    "with tempfile.TemporaryDirectory(prefix='tmp_dir_', dir=os.getcwd()) as tmp_dir:\n",
    "    tmp_dir = Path(tmp_dir)\n",
    "    temp_vault = tmp_dir / 'test_vault_6'\n",
    "    shutil.copytree(_test_directory() / 'test_vault_6', temp_vault)\n",
    "\n",
    "    info_note = VaultNote(temp_vault, name='reference_for_notation_notes_no_notations_introduced_here')\n",
    "    info_note_content_before = info_note.text()\n",
    "    new_notes = make_notation_notes_from_double_asts(info_note, temp_vault, 'reference_for_notation_notes')\n",
    "    info_note_content_after = info_note.text()\n",
    "    \n",
    "    assert len(new_notes) == 0\n",
    "    assert info_note_content_before == info_note_content_after"
   ]
  },
  {
   "cell_type": "markdown",
   "metadata": {},
   "source": [
    "In the following example, we prompt `make_notation_notes_from_double_asts` on the same info note twice - no new notation notes are created the second time."
   ]
  },
  {
   "cell_type": "code",
   "execution_count": null,
   "metadata": {},
   "outputs": [],
   "source": [
    "with tempfile.TemporaryDirectory(prefix='tmp_dir_', dir=os.getcwd()) as tmp_dir:\n",
    "    tmp_dir = Path(tmp_dir)\n",
    "    temp_vault = tmp_dir / 'test_vault_6'\n",
    "    shutil.copytree(_test_directory() / 'test_vault_6', temp_vault)\n",
    "\n",
    "    info_note = VaultNote(temp_vault, name='reference_for_notation_notes_introducing_some_notations')\n",
    "    make_notation_notes_from_double_asts(info_note, temp_vault, 'milne_av')\n",
    "    new_notes = make_notation_notes_from_double_asts(info_note, temp_vault, 'milne_av')\n",
    "    assert len(new_notes) == 0\n",
    "    "
   ]
  },
  {
   "cell_type": "markdown",
   "metadata": {},
   "source": [
    "In the following example, an info note contains two of the same notation. One notation note for each of these notations is created, but with different names:"
   ]
  },
  {
   "cell_type": "code",
   "execution_count": null,
   "metadata": {},
   "outputs": [
    {
     "name": "stdout",
     "output_type": "stream",
     "text": [
      "some_reference_name_notation_Cl_K\n",
      "some_reference_name_notation_Cl_K_1\n"
     ]
    }
   ],
   "source": [
    "with tempfile.TemporaryDirectory(prefix='tmp_dir_', dir=os.getcwd()) as tmp_dir:\n",
    "    tmp_dir = Path(tmp_dir)\n",
    "    temp_vault = tmp_dir / 'test_vault_7'\n",
    "    shutil.copytree(_test_directory() / 'test_vault_7', temp_vault)\n",
    "\n",
    "    info_note = VaultNote(temp_vault, name='note_with_repeated_notation')\n",
    "    new_notes = make_notation_notes_from_double_asts(info_note, temp_vault, 'some_reference_name')\n",
    "    assert len(new_notes) == 2\n",
    "    print(new_notes[0].name)\n",
    "    print(new_notes[1].name)"
   ]
  },
  {
   "cell_type": "markdown",
   "metadata": {},
   "source": [
    "In the following example, there are notation notes with the info note as their main note, but some of the notations in these notation notes cover those in the info note \"excessively\" - in this case, only notation notes to uncovered notations are created, and warnings are raised to indicate which notations are covered excessively."
   ]
  },
  {
   "cell_type": "code",
   "execution_count": null,
   "metadata": {},
   "outputs": [
    {
     "name": "stderr",
     "output_type": "stream",
     "text": [
      "C:\\Users\\hyunj\\AppData\\Local\\Temp\\ipykernel_7972\\3896227388.py:57: UserWarning: The following note has the following excess notations: note_with_some_excessive_notation_notes, \\mathcal{B}(\\mathbb{R}), \\operatorname{Jac}(C)\n",
      "  warnings.warn(\n"
     ]
    }
   ],
   "source": [
    "with tempfile.TemporaryDirectory(prefix='tmp_dir_', dir=os.getcwd()) as tmp_dir:\n",
    "    tmp_dir = Path(tmp_dir)\n",
    "    temp_vault = tmp_dir / 'test_vault_7'\n",
    "    shutil.copytree(_test_directory() / 'test_vault_7', temp_vault)\n",
    "\n",
    "    info_note = VaultNote(temp_vault, name='note_with_some_excessive_notation_notes')\n",
    "    new_notes = make_notation_notes_from_double_asts(info_note, temp_vault, 'some_reference_name')\n",
    "    assert len(new_notes) == 1"
   ]
  },
  {
   "cell_type": "code",
   "execution_count": null,
   "metadata": {},
   "outputs": [],
   "source": [
    "#| hide\n",
    "with tempfile.TemporaryDirectory(prefix='tmp_dir_', dir=os.getcwd()) as tmp_dir:\n",
    "    tmp_dir = Path(tmp_dir)\n",
    "    temp_vault = tmp_dir / 'test_vault_7'\n",
    "    shutil.copytree(_test_directory() / 'test_vault_7', temp_vault)\n",
    "\n",
    "    info_note = VaultNote(temp_vault, name='foag_1.3.5')\n",
    "    new_notes = make_notation_notes_from_double_asts(info_note, temp_vault, 'foag')\n",
    "    assert len(new_notes) == 0"
   ]
  },
  {
   "cell_type": "code",
   "execution_count": null,
   "metadata": {},
   "outputs": [],
   "source": [
    "# TODO: move notation notes to directory of main notes"
   ]
  },
  {
   "cell_type": "markdown",
   "metadata": {},
   "source": [
    "# Decomposition of notation"
   ]
  },
  {
   "cell_type": "code",
   "execution_count": null,
   "metadata": {},
   "outputs": [],
   "source": [
    "# #| export\n",
    "# def decompose_notation_as_sequence(\n",
    "#         notation # latex styled. Assumed to not be surrounded with `'$'`.\n",
    "#         ) -> list:\n",
    "#     \"\"\"\n",
    "#     **Parameters**\n",
    "#     - notation - str\n",
    "    \n",
    "#     **Returns**\n",
    "#     - list of str\n",
    "#     \"\"\"\n",
    "#     str_index = 0\n",
    "#     decomposition = []\n",
    "#     while str_index < len(notation):\n",
    "#         if notation[str_index] == '\\\\':\n",
    "#             j = 1\n",
    "#             while (str_index + j < len(notation)\n",
    "#                     and notation[str_index + j] not in [' ', '\\\\', '{', '(']):\n",
    "#                 j += 1\n",
    "#             latex_command = notation[str_index:str_index + j]\n",
    "#             decomposition.append(latex_command)\n",
    "#             str_index += j\n",
    "#         if str_index < len(notation):\n",
    "#             decomposition.append(notation[str_index])\n",
    "#         str_index += 1\n",
    "#     return decomposition\n",
    "\n",
    "\n",
    "# def compare_notations_for_sorting(\n",
    "#         notation1, # latex styled. Assumed to not be surrounded with `'$'`.\n",
    "#         notation2, # latex styled. Assumed to not be surrounded with `'$'`.\n",
    "#         character_ordering_list\n",
    "#         ) -> int:\n",
    "#     \"\"\"\n",
    "#     **Parameters**\n",
    "#     - notation - str\n",
    "#         - latex styled. Assumed to not be covered with `'$'`.\n",
    "    \n",
    "#     **Returns**\n",
    "#     - int\n",
    "#         - 1 if `notation2` is considered to come \"earlier\", -1 if\n",
    "#         `notation1` is considered to come \"earlier\", and 0 otherwise.\n",
    "#     \"\"\"\n",
    "#     decomposition1 = decompose_notation_as_sequence(notation1)\n",
    "#     decomposition2 = decompose_notation_as_sequence(notation2)\n",
    "#     index1, index2 = 0, 0\n",
    "#     while index1 < len(decomposition1) and index2 < len(decomposition2):\n",
    "#         return  #TODO\n",
    "#     if index1 < len(decomposition1):\n",
    "#         return 1\n",
    "#     if index2 < len(decomposition2):\n",
    "#         return -1\n",
    "#     return 0\n",
    "\n",
    "\n",
    "# def _find_next_effective_character(decomposition, index):\n",
    "#     while (index < len(decomposition)\n",
    "#             and decomposition[index] in ['{', '}', '(', ')', '[', ']', r'\\tilde',\n",
    "#                                          r'\\hat', r'\\bar', 'r\\overline']):\n",
    "#         return"
   ]
  },
  {
   "cell_type": "code",
   "execution_count": null,
   "metadata": {},
   "outputs": [],
   "source": [
    "# decompose_notation_as_sequence(r'\\tilde{K} (X)')\n",
    "# decompose_notation_as_sequence(r'P(X;*,A)')\n",
    "# decompose_notation_as_sequence(r'\\operatorname{Spec} A')"
   ]
  },
  {
   "cell_type": "markdown",
   "metadata": {},
   "source": [
    "## Detect notations being used in reference"
   ]
  },
  {
   "cell_type": "markdown",
   "metadata": {},
   "source": [
    "### Regex from latex"
   ]
  },
  {
   "cell_type": "code",
   "execution_count": null,
   "metadata": {},
   "outputs": [],
   "source": [
    "#| export\n",
    "SPECIAL_CHARACTERS = ['.', '+', '*', '?', '^', '$', '(', ')',\n",
    "                      '[', ']', '{', '}', '|', '\\\\']\n",
    "replaceable_groups = [['mathrm', 'operatorname', 'rm', 'text'],\n",
    "                      ['mathbf', 'bf'],\n",
    "                      ['mathit', 'it']]\n",
    "\n",
    "\n",
    "def _build_replacables_from_groups(\n",
    "        replaceable_groups: list[list[str]]) -> dict[str, set[str]]:\n",
    "    total_dict = {}\n",
    "    for listy in replaceable_groups:\n",
    "        set_for_group = set(listy)\n",
    "        for macro in listy:\n",
    "            total_dict[macro] = set_for_group\n",
    "    return total_dict\n",
    "\n",
    "\n",
    "REPLACEABLES = _build_replacables_from_groups(replaceable_groups)\n",
    "    \n",
    "\n",
    "def regex_from_latex(\n",
    "        latex: str, replaceables: dict[str, set[str]] = REPLACEABLES,\n",
    "        special_characters: list[str] = SPECIAL_CHARACTERS) -> str:\n",
    "    \"\"\"Returns regex to match latex math mode string which is essentially\n",
    "    equivalent to a specified latex math mode string.\n",
    "    \n",
    "    The outputs of this function may not work correctly.\n",
    "    The regex pattern does not have to fully match equivalent string.\n",
    "    \n",
    "    **Parameters**\n",
    "\n",
    "    - latex - str\n",
    "        - The latex math mode string. Does not include math mode delimiters\n",
    "        such as `$`, `$$`, `\\[ \\]` (although the characters `'\\['` and `'\\]'`\n",
    "        can still be part of the string, e.g. for optional arguments of a\n",
    "        macro/operator). Can include \"placeholders\" `r'\\1'`, `r'\\2'`, `r'\\3'`,\n",
    "        etc. to indicate substitutable/generics; the placeholders can be\n",
    "        substituted with any string.\n",
    "    - replaceables - dict[str, set[str]]\n",
    "        - latex strings/commands which are considered \"interreplacable\"\n",
    "    - special_characters - list[str]\n",
    "        - characters to add a backslash `'\\'` in front of for regex.\n",
    "        Defaults to a list consisting of special characters in regex.\n",
    "    \"\"\"\n",
    "    if not replaceables:\n",
    "        replaceables = {}\n",
    "    w = LatexWalker(latex)\n",
    "    nodelist, _, _ = w.get_latex_nodes(pos=0)\n",
    "    regex_parts = []\n",
    "    # print(nodelist)\n",
    "    for node in nodelist:\n",
    "        _look_into_node(node, regex_parts,\n",
    "                        replaceables, special_characters)\n",
    "    regex_parts.append('(?:[ \\\\{\\\\}]*)')\n",
    "    return ''.join(regex_parts)\n",
    "    \n",
    "def _look_into_node(\n",
    "        node: LatexNode, regex_parts: list[str],\n",
    "        replaceables: dict[str, set[str]],\n",
    "        special_characters: list[str]) -> None:\n",
    "    \"\"\"Appends to `regex_parts`\"\"\"\n",
    "    # hasattr(node, 'nodeargd')\n",
    "    # print(node)\n",
    "    if isinstance(node, LatexMacroNode):\n",
    "        macroname = node.macroname\n",
    "        if _macro_is_actually_placeholder(macroname):\n",
    "            regex_parts.append('(?:.*)')\n",
    "        else:\n",
    "            if macroname in replaceables:\n",
    "                replaceable_macros = replaceables[macroname]\n",
    "            else:\n",
    "                replaceable_macros = [macroname]\n",
    "            options_str = '|'.join(replaceable_macros)\n",
    "            options_str = f'(?:{options_str})'\n",
    "            regex_parts.append(fr'(?: *?)\\\\{options_str}(?: *?)')\n",
    "        for node in node.nodeargd.argnlist:\n",
    "            _look_into_node(node, regex_parts,\n",
    "                            replaceables, special_characters)\n",
    "    elif isinstance(node, LatexGroupNode):\n",
    "        # print('\\nGroup Node')\n",
    "        # print(node)\n",
    "        # print(node.nodelist)\n",
    "        delimiters = node.delimiters\n",
    "        regex_parts.append(f'\\\\{delimiters[0]}(?: *?)')\n",
    "        for node in node.nodelist:\n",
    "            _look_into_node(node, regex_parts,\n",
    "                            replaceables, special_characters)\n",
    "        regex_parts.append(f'(?: *?)\\\\{delimiters[1]}')\n",
    "    elif isinstance(node, LatexCharsNode):\n",
    "        # print('\\nChars Node')\n",
    "        # print(node)\n",
    "        # print(node.chars)\n",
    "        chars = node.chars.strip()\n",
    "        chars = list(chars)\n",
    "        chars = [f'\\\\{char}' if char in special_characters else char\n",
    "                 for char in chars]\n",
    "        # print(chars)\n",
    "        chars.insert(0, '')  # add the misc spaces/brackets front and back\n",
    "        chars.append('')\n",
    "        regex_optional_spaces_and_brackets = '(?:[ \\\\{\\\\}]*?)'.join(chars)\n",
    "        regex_parts.append(regex_optional_spaces_and_brackets)\n",
    "        \n",
    "def _macro_is_actually_placeholder(macro: str) -> bool:\n",
    "    return macro.isnumeric()"
   ]
  },
  {
   "cell_type": "code",
   "execution_count": null,
   "metadata": {},
   "outputs": [
    {
     "name": "stdout",
     "output_type": "stream",
     "text": [
      "(?:[ \\{\\}]*?)e(?:[ \\{\\}]*?)(?:[ \\{\\}]*)\n"
     ]
    }
   ],
   "source": [
    "text = r\"\"\"e\"\"\"\n",
    "print(regex_from_latex(text, REPLACEABLES))"
   ]
  },
  {
   "cell_type": "markdown",
   "metadata": {},
   "source": [
    "### Get regex from notation note"
   ]
  },
  {
   "cell_type": "markdown",
   "metadata": {},
   "source": [
    "So far, I have just made notation notes in the form `'$math_mode_string$ denotes ...'`. I want to add frontmatter metadata in notation notes to indicate regex to detect the notation with placeholders."
   ]
  },
  {
   "cell_type": "code",
   "execution_count": null,
   "metadata": {},
   "outputs": [],
   "source": [
    "#| export\n",
    "def regex_from_notation_note(vault: PathLike, note: VaultNote) -> str:\n",
    "    \"\"\"Returns a regex str to detect the notation of the notation note.\n",
    "    \n",
    "    The regex detection strings should be in a list labeled `detect_regex` in\n",
    "    the yaml frontmatter. If multiple strings are in the list, then the regex\n",
    "    will detect latex math mode strings roughly corresponding to any of them.\n",
    "    If multiple strings are in the list, then they must be ordered \n",
    "    \"by priority\", with the higher priority regexes coming first. It is good\n",
    "    to have these string in quotes `\"\"` to make sure that yaml can load them\n",
    "    safely. When doing so, make sure to escape characters, e.g. backslash\n",
    "    should be typed as `\\\\`, etc.\n",
    "    \n",
    "    The strings in `detect_regex` can include placeholders, cf.\n",
    "    ``regex_from_latex``.\n",
    "    \n",
    "    **Parameters**\n",
    "    - vault - PathLike\n",
    "    - note - VaultNote\n",
    "    \n",
    "    **Returns**\n",
    "    - str\n",
    "        - Of the regex used to detect the notation. The regex does not need to\n",
    "        fully match instances of the notation.\n",
    "    \"\"\"\n",
    "    assert note_is_of_type(note, PersonalNoteTypeEnum.NOTATION_NOTE)\n",
    "    mf = MarkdownFile.from_vault_note(note)\n",
    "    metadata = mf.metadata()\n",
    "    if metadata and 'detect_regex' in metadata:\n",
    "        detects = metadata['detect_regex']\n",
    "        regexes = [regex_from_latex(detect) for detect in detects]\n",
    "        return '|'.join(regexes)\n",
    "    else:\n",
    "        notation = notation_in_note(note, vault)\n",
    "        return regex_from_latex(notation[1:-1])  # Get rid of `'$'`."
   ]
  },
  {
   "cell_type": "code",
   "execution_count": null,
   "metadata": {},
   "outputs": [],
   "source": [
    "# TODO: test"
   ]
  }
 ],
 "metadata": {
  "kernelspec": {
   "display_name": "Python 3.10.6 64-bit",
   "language": "python",
   "name": "python3"
  }
 },
 "nbformat": 4,
 "nbformat_minor": 2
}
