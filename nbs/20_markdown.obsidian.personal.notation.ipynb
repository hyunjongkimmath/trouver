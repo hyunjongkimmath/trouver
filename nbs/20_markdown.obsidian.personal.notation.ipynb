{
 "cells": [
  {
   "cell_type": "code",
   "execution_count": null,
   "metadata": {},
   "outputs": [],
   "source": [
    "#| default_exp markdown.obsidian.personal.notation"
   ]
  },
  {
   "cell_type": "markdown",
   "metadata": {},
   "source": [
    "# markdown.obisidian.personal.notation\n",
    "> Functions for making and managing notation cards\n",
    "\n",
    "Mathematical texts are difficult to read not only because it introduces readers to new concepts that they are unfamiliar with but also because any given excerpt requires the reader to be familiar with notation that the writer chooses to use.\n",
    "\n",
    "The first time reader thus must go on a wild goose hunt to find where the unfamiliar notations are defined. Unfortunately, the definitions may further introduce unfamiliar notations.\n",
    "\n",
    "Notation notes try to ease this problem to an extent by providing\n",
    "1. links to quickly find where notations are introduced\n",
    "2. the contexts under which the notations are defined, and\n",
    "3. miscellaneous descriptions of the notations as necessary. "
   ]
  },
  {
   "cell_type": "code",
   "execution_count": 8,
   "metadata": {
    "tags": []
   },
   "outputs": [
    {
     "ename": "ImportError",
     "evalue": "cannot import name 'files_in_reference_folder' from 'trouver.markdown.obsidian.personal.reference' (c:\\users\\hyunj\\documents\\development\\python\\trouver\\trouver\\markdown\\obsidian\\personal\\reference.py)",
     "output_type": "error",
     "traceback": [
      "\u001b[1;31m---------------------------------------------------------------------------\u001b[0m",
      "\u001b[1;31mImportError\u001b[0m                               Traceback (most recent call last)",
      "\u001b[1;32mc:\\Users\\hyunj\\Documents\\Development\\Python\\trouver\\nbs\\20_markdown.obsidian.personal.notation.ipynb Cell 3\u001b[0m in \u001b[0;36m<cell line: 30>\u001b[1;34m()\u001b[0m\n\u001b[0;32m     <a href='vscode-notebook-cell:/c%3A/Users/hyunj/Documents/Development/Python/trouver/nbs/20_markdown.obsidian.personal.notation.ipynb#W3sZmlsZQ%3D%3D?line=23'>24</a>\u001b[0m \u001b[39m# from trouver.markdown.obsidian.personal.information_notes import (\u001b[39;00m\n\u001b[0;32m     <a href='vscode-notebook-cell:/c%3A/Users/hyunj/Documents/Development/Python/trouver/nbs/20_markdown.obsidian.personal.notation.ipynb#W3sZmlsZQ%3D%3D?line=24'>25</a>\u001b[0m \u001b[39m#     bulleted_links_of_type_in_section\u001b[39;00m\n\u001b[0;32m     <a href='vscode-notebook-cell:/c%3A/Users/hyunj/Documents/Development/Python/trouver/nbs/20_markdown.obsidian.personal.notation.ipynb#W3sZmlsZQ%3D%3D?line=25'>26</a>\u001b[0m \u001b[39m# )\u001b[39;00m\n\u001b[0;32m     <a href='vscode-notebook-cell:/c%3A/Users/hyunj/Documents/Development/Python/trouver/nbs/20_markdown.obsidian.personal.notation.ipynb#W3sZmlsZQ%3D%3D?line=26'>27</a>\u001b[0m \u001b[39mfrom\u001b[39;00m \u001b[39mtrouver\u001b[39;00m\u001b[39m.\u001b[39;00m\u001b[39mmarkdown\u001b[39;00m\u001b[39m.\u001b[39;00m\u001b[39mobsidian\u001b[39;00m\u001b[39m.\u001b[39;00m\u001b[39mpersonal\u001b[39;00m\u001b[39m.\u001b[39;00m\u001b[39mnote_type\u001b[39;00m \u001b[39mimport\u001b[39;00m (\n\u001b[0;32m     <a href='vscode-notebook-cell:/c%3A/Users/hyunj/Documents/Development/Python/trouver/nbs/20_markdown.obsidian.personal.notation.ipynb#W3sZmlsZQ%3D%3D?line=27'>28</a>\u001b[0m     note_is_of_type, PersonalNoteTypeEnum, assert_note_is_of_type\n\u001b[0;32m     <a href='vscode-notebook-cell:/c%3A/Users/hyunj/Documents/Development/Python/trouver/nbs/20_markdown.obsidian.personal.notation.ipynb#W3sZmlsZQ%3D%3D?line=28'>29</a>\u001b[0m )\n\u001b[1;32m---> <a href='vscode-notebook-cell:/c%3A/Users/hyunj/Documents/Development/Python/trouver/nbs/20_markdown.obsidian.personal.notation.ipynb#W3sZmlsZQ%3D%3D?line=29'>30</a>\u001b[0m \u001b[39mfrom\u001b[39;00m \u001b[39mtrouver\u001b[39;00m\u001b[39m.\u001b[39;00m\u001b[39mmarkdown\u001b[39;00m\u001b[39m.\u001b[39;00m\u001b[39mobsidian\u001b[39;00m\u001b[39m.\u001b[39;00m\u001b[39mpersonal\u001b[39;00m\u001b[39m.\u001b[39;00m\u001b[39mreference\u001b[39;00m \u001b[39mimport\u001b[39;00m (\n\u001b[0;32m     <a href='vscode-notebook-cell:/c%3A/Users/hyunj/Documents/Development/Python/trouver/nbs/20_markdown.obsidian.personal.notation.ipynb#W3sZmlsZQ%3D%3D?line=30'>31</a>\u001b[0m     files_in_reference_folder\n\u001b[0;32m     <a href='vscode-notebook-cell:/c%3A/Users/hyunj/Documents/Development/Python/trouver/nbs/20_markdown.obsidian.personal.notation.ipynb#W3sZmlsZQ%3D%3D?line=31'>32</a>\u001b[0m )\n\u001b[0;32m     <a href='vscode-notebook-cell:/c%3A/Users/hyunj/Documents/Development/Python/trouver/nbs/20_markdown.obsidian.personal.notation.ipynb#W3sZmlsZQ%3D%3D?line=32'>33</a>\u001b[0m \u001b[39mfrom\u001b[39;00m \u001b[39mtrouver\u001b[39;00m\u001b[39m.\u001b[39;00m\u001b[39mmarkdown\u001b[39;00m\u001b[39m.\u001b[39;00m\u001b[39mobsidian\u001b[39;00m\u001b[39m.\u001b[39;00m\u001b[39mvault\u001b[39;00m \u001b[39mimport\u001b[39;00m(\n\u001b[0;32m     <a href='vscode-notebook-cell:/c%3A/Users/hyunj/Documents/Development/Python/trouver/nbs/20_markdown.obsidian.personal.notation.ipynb#W3sZmlsZQ%3D%3D?line=33'>34</a>\u001b[0m     all_note_paths_by_name, note_path_by_name, VaultNote, NoteDoesNotExistError\n\u001b[0;32m     <a href='vscode-notebook-cell:/c%3A/Users/hyunj/Documents/Development/Python/trouver/nbs/20_markdown.obsidian.personal.notation.ipynb#W3sZmlsZQ%3D%3D?line=34'>35</a>\u001b[0m )\n",
      "\u001b[1;31mImportError\u001b[0m: cannot import name 'files_in_reference_folder' from 'trouver.markdown.obsidian.personal.reference' (c:\\users\\hyunj\\documents\\development\\python\\trouver\\trouver\\markdown\\obsidian\\personal\\reference.py)"
     ]
    }
   ],
   "source": [
    "#| export\n",
    "import os\n",
    "from os import PathLike\n",
    "from pathlib import Path\n",
    "import re\n",
    "from typing import Optional, Union\n",
    "from multiset import Multiset \n",
    "from pylatexenc.latexwalker import (\n",
    "    LatexWalker, LatexEnvironmentNode, LatexMacroNode,\n",
    "    LatexNode, LatexGroupNode, LatexCharsNode\n",
    ")\n",
    "import warnings\n",
    "\n",
    "from trouver.helper import find_regex_in_text, notation_asterisk_indices\n",
    "from trouver.markdown.markdown.file import MarkdownFile, MarkdownLineEnum\n",
    "from trouver.markdown.obsidian.footnotes import (\n",
    "    find_footnote_descriptions_in_markdown_text, embedded_note_of_footnote,\n",
    "    find_footnote_mentions_in_markdown_text, footnote_is_simple_embedded_note\n",
    ")\n",
    "from trouver.markdown.obsidian.links import (\n",
    "    find_links_in_markdown_text, ObsidianLink, LinkType\n",
    ")\n",
    "\n",
    "# from trouver.markdown.obsidian.personal.information_notes import (\n",
    "#     bulleted_links_of_type_in_section\n",
    "# )\n",
    "from trouver.markdown.obsidian.personal.note_type import (\n",
    "    note_is_of_type, PersonalNoteTypeEnum, assert_note_is_of_type\n",
    ")\n",
    "# from trouver.markdown.obsidian.personal.reference import (\n",
    "#     files_in_reference_folder\n",
    "# )\n",
    "from trouver.markdown.obsidian.vault import(\n",
    "    all_note_paths_by_name, note_path_by_name, VaultNote, NoteDoesNotExistError\n",
    ")\n"
   ]
  },
  {
   "cell_type": "code",
   "execution_count": 6,
   "metadata": {},
   "outputs": [
    {
     "name": "stdout",
     "output_type": "stream",
     "text": [
      "hi\n"
     ]
    }
   ],
   "source": [
    "print('hi')"
   ]
  }
 ],
 "metadata": {
  "kernelspec": {
   "display_name": "Python 3.10.6 64-bit",
   "language": "python",
   "name": "python3"
  },
  "language_info": {
   "codemirror_mode": {
    "name": "ipython",
    "version": 3
   },
   "file_extension": ".py",
   "mimetype": "text/x-python",
   "name": "python",
   "nbconvert_exporter": "python",
   "pygments_lexer": "ipython3",
   "version": "3.10.6"
  },
  "orig_nbformat": 4,
  "vscode": {
   "interpreter": {
    "hash": "e0d6519b614ed4b3ff759fd43b4634bcad99f4a02e3e0401ef91ccc070278cd3"
   }
  }
 },
 "nbformat": 4,
 "nbformat_minor": 2
}
