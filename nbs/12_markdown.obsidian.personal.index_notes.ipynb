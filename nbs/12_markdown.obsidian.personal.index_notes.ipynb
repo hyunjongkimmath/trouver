{
 "cells": [
  {
   "cell_type": "markdown",
   "metadata": {},
   "source": [
    "# markdown.obisidian.personal.index_notes\n",
    "> Functions for managing index notes one's Obsidian.md math vault."
   ]
  },
  {
   "cell_type": "markdown",
   "metadata": {},
   "source": [
    "In a Obsidian math vault, it is convenient to keep index notes, which list links to other index notes or standard information notes. \n",
    "\n",
    "The methods in this module (semi)automatically \n",
    "- create (standard information) notes in appropriate folders,\n",
    "- set up the notes,\n",
    "- add links of the notes to appropriate index notes\n",
    "- add to both the index note and the standard information note a footnote indicating where the content of the information note originates from in the original text, e.g.  \n",
    "`[[foag_transition_function_for_a_vector_bundle_over_a_manifold]], 13.1.1`, `[[bredon_tensor_product_of_graded_groups]], Page 315`, \n",
    "`[[eilenberg_zilber_theorem|Eilenberg Zilber theorem]], Theorem 1.3, Corollary 1.4`"
   ]
  },
  {
   "cell_type": "code",
   "execution_count": 40,
   "metadata": {},
   "outputs": [],
   "source": [
    "#| default_exp markdown.obsidian.personal.index_notes"
   ]
  },
  {
   "cell_type": "code",
   "execution_count": 41,
   "metadata": {},
   "outputs": [],
   "source": [
    "#| export\n",
    "import glob\n",
    "from natsort import natsorted\n",
    "import os\n",
    "from os import PathLike\n",
    "from pathlib import Path\n",
    "import re\n",
    "from trouver.markdown.markdown.file import (\n",
    "    MarkdownFile, MarkdownLineEnum\n",
    ")\n",
    "from trouver.markdown.markdown.heading import heading_title\n",
    "from trouver.markdown.obsidian.links import (\n",
    "    find_links_in_markdown_text, ObsidianLink, links_from_text\n",
    ")\n",
    "from trouver.markdown.obsidian.vault import (\n",
    "    VaultNote, note_name_unique, note_path_by_name\n",
    ")\n",
    "from typing import Union"
   ]
  },
  {
   "cell_type": "code",
   "execution_count": 42,
   "metadata": {},
   "outputs": [],
   "source": [
    "from unittest import mock"
   ]
  },
  {
   "cell_type": "markdown",
   "metadata": {},
   "source": [
    "## Automatically filling in some notes"
   ]
  },
  {
   "cell_type": "markdown",
   "metadata": {},
   "source": [
    "- I need to identify the names of subsections/subchapters inside a chapter, and identify the correspondence of subdirectories in the directory with headings in the index note.\n",
    "- I need to use regex to find Theorems/Corollaries/Propositions/Lemmas/Definitions/Remarks/Examples (I'll refere to these as Numberings) in LaTeX code that has been OCR'd\n",
    "- For each subsection/subchapter, I need to collect these Numberings, create an information note for each one, and add the number/page number."
   ]
  },
  {
   "cell_type": "code",
   "execution_count": 43,
   "metadata": {},
   "outputs": [],
   "source": [
    "#| export\n",
    "def subsections_listed_in_index_note(\n",
    "        index_note: Union[VaultNote, str], # The index note\n",
    "        vault: PathLike\n",
    "        ) -> dict[Union[int, str], [dict, str]]: # The keys are 1. line numbers and 2. `'title'`. The values are dict and str (the blank str if root node), respectively.\n",
    "    \"\"\"\n",
    "    Return subsections/subchapters as listed in the index note\n",
    "\n",
    "    **Parameters**\n",
    "    - `index_note` - VaultNote or str\n",
    "    - `vault` - Pathlike\n",
    "\n",
    "    **Returns**\n",
    "    - dict[Union[int, str], [dict, str]]\n",
    "        \n",
    "    \"\"\"\n",
    "    vault = Path(vault)\n",
    "    if isinstance(index_note, str):\n",
    "        index_note = VaultNote(vault, name=index_note)\n",
    "    mf_file = MarkdownFile.from_vault_note(index_note)\n",
    "    return mf_file.get_headings_tree()"
   ]
  },
  {
   "cell_type": "code",
   "execution_count": 44,
   "metadata": {},
   "outputs": [],
   "source": [
    "#| export\n",
    "def subsection_folders(\n",
    "        index_note: Union[VaultNote, str],\n",
    "        vault: PathLike,\n",
    "        data_type: str) -> list[str]:\n",
    "    \"\"\"Returns subdirectories corresponding to subsections/subchapters, i.e.\n",
    "    the folders in the same directory as the index note.\n",
    "    \n",
    "    **Parameters**\n",
    "    - `index_note` - VaultNote or str\n",
    "        - The (unique) name of the index note in the vault.\n",
    "    - `vault` - PathLike\n",
    "    - `data_type` - str\n",
    "        - `'absolute_path'`, `'relative_path'`, or `'name'`\n",
    "    \n",
    "    **Returns**\n",
    "    - list[str]\n",
    "        - List of immediate subdirectories in the directory containing the\n",
    "        index note.\n",
    "    \"\"\"\n",
    "    vault = Path(vault)\n",
    "    if isinstance(index_note, str):\n",
    "        index_note = VaultNote(vault, name=index_note)\n",
    "    parent_directory = (vault / index_note.rel_path).parent\n",
    "    print(str(parent_directory))\n",
    "    glob_result = list(glob.glob(str(parent_directory) + '/**/'))\n",
    "    if data_type == 'absolute_path':\n",
    "        return glob_result\n",
    "    elif data_type == 'relative_path':\n",
    "        return [str(Path(dir).relative_to(vault)) for dir in glob_result]\n",
    "    elif data_type == 'name':\n",
    "        return [Path(dir).name for dir in glob_result]\n",
    "    "
   ]
  },
  {
   "cell_type": "code",
   "execution_count": 45,
   "metadata": {},
   "outputs": [
    {
     "name": "stdout",
     "output_type": "stream",
     "text": [
      "{'title': ''}\n"
     ]
    }
   ],
   "source": [
    "# with (mock.patch(\"trouver.markdown.obsidian.vault\"))\n",
    "# with (mock.patch(\"trouver.markdown.obsidian.vault\"))\n",
    "# with (mock.patch(\"trouver.markdown.markdown.file._io.TextIOWrapeer.read\") as mock_read):\n",
    "#     mock_read.return_value = text\n",
    "\n",
    "with mock.patch(\"trouver.markdown.markdown.file.open\", mock.mock_open(read_data='hi')):\n",
    "    fake_vn = VaultNote(rel_path='fake_note.md', vault='')\n",
    "    print(subsections_listed_in_index_note(fake_vn, vault=''))\n",
    "\n",
    "# with mock.patch(\"__main__.open\", mock.mock_open(read_data='hi')):\n",
    "#     with open('styles.css') as f:\n",
    "#         print(f.read())\n",
    "\n",
    "# with mock.patch(\"trouver.markdown.markdown.file.VaultNote\", mock.mock)\n",
    "\n",
    "# subsections_listed_in_index_note('_index_VI_products_and_duality', MATH_VAULT_LOCATION)\n",
    "# subsection_folders('_index_VI_products_and_duality', MATH_VAULT_LOCATION, data_type='name')"
   ]
  },
  {
   "cell_type": "code",
   "execution_count": 46,
   "metadata": {},
   "outputs": [
    {
     "name": "stdout",
     "output_type": "stream",
     "text": [
      "{'title': '', 0: {'title': '# 1. The Cross Product and the Kiinneth Theorem'}, 3: {'title': '# 2. A Sign Convention'}, 5: {'title': '# 3. The Cohomology Cross Product'}, 7: {'title': '# 4. The Cup Product'}, 9: {'title': '# 5. The Cap Product'}, 11: {'title': '# 6. Classical Outlook on Duality'}, 12: {'title': '# 7. The Orientation Bundle'}, 14: {'title': '# 8. Duality Theorems'}, 16: {'title': '# 9. Duality on Compact Manifolds with Boundary'}, 18: {'title': '# 10. Applications of Duality'}, 20: {'title': '# 11. Intersection Theory'}, 22: {'title': '# 12. The Euler Class, Lefschetz Numbers, and Vector Fields'}, 24: {'title': '# 13. The Gysin Sequence'}, 26: {'title': '# 14. Lefschetz Coincidence Theory'}, 28: {'title': '# 15. Steenrod Operations'}, 30: {'title': '# 16. Construction of the Steenrod Squares'}, 32: {'title': '# 17. Stiefel-Whitney Classes'}, 34: {'title': '# 18. Plumbing ¥'}}\n",
      "{'title': '# 1. The Cross Product and the Kiinneth Theorem'}\n",
      "\n"
     ]
    }
   ],
   "source": [
    "#| hide\n",
    "\n",
    "# mock patch a somewhat actual example\n",
    "\n",
    "text = r\"\"\"# 1. The Cross Product and the Kiinneth Theorem\n",
    "- [ ] [[bredon_ 1.1_page_316]],  1.1, Page 316\n",
    "- #_meta/TODO this is just a todo tag, It's not an actual heading!\n",
    "# 2. A Sign Convention\n",
    "- [[bredon_ 1.6_page_320_6]]\n",
    "# 3. The Cohomology Cross Product\n",
    "- [ ] [[bredon_ 3.1_page_323]],  3.1, Page 323\n",
    "# 4. The Cup Product\n",
    "- [ ] [[bredon_ 4.1_page_326]],  4.1, Page 326\n",
    "# 5. The Cap Product\n",
    "- [ ] [[bredon_ 5.1_page_335]],  5.1, Page 335\n",
    "# 6. Classical Outlook on Duality\n",
    "# 7. The Orientation Bundle\n",
    "- [ ] [[bredon_ 7.1_page_341]],  7.1, Page 341\n",
    "# 8. Duality Theorems\n",
    "- [ ] [[bredon_ 8.1_page_349]],  8.1, Page 349\n",
    "# 9. Duality on Compact Manifolds with Boundary\n",
    "- [ ] [[bredon_ 9.1_page_356]],  9.1, Page 356\n",
    "# 10. Applications of Duality\n",
    "- [ ] [[bredon_ 10.1_page_359]],  10.1, Page 359\n",
    "# 11. Intersection Theory\n",
    "- [ ] [[bredon_ 11.1_page_368]],  11.1, Page 368\n",
    "# 12. The Euler Class, Lefschetz Numbers, and Vector Fields\n",
    "- [ ] [[bredon_ 12.1_page_378]],  12.1, Page 378\n",
    "# 13. The Gysin Sequence\n",
    "- [ ] [[bredon_ 13.1_page_390]],  13.1, Page 390\n",
    "# 14. Lefschetz Coincidence Theory\n",
    "- [ ] [[bredon_ 14.1_page_394]],  14.1, Page 394\n",
    "# 15. Steenrod Operations\n",
    "- [ ] [[bredon_ 15.1_page_405]],  15.1, Page 405\n",
    "# 16. Construction of the Steenrod Squares\n",
    "- [ ] [[bredon_ 16.1_page_414]],  16.1, Page 414\n",
    "# 17. Stiefel-Whitney Classes\n",
    "- [ ] [[bredon_ 17.1_page_421]],  17.1, Page 421\n",
    "# 18. Plumbing ¥\"\"\"\n",
    "\n",
    "with mock.patch(\"trouver.markdown.markdown.file.open\", mock.mock_open(read_data=text)):\n",
    "    fake_vn = VaultNote(rel_path='fake_note.md', vault='')\n",
    "    subsections_in_text = subsections_listed_in_index_note(fake_vn, vault='')\n",
    "    print(subsections_in_text)\n",
    "    print(subsections_in_text[0])\n",
    "    print(subsections_in_text['title'])\n"
   ]
  },
  {
   "cell_type": "code",
   "execution_count": null,
   "metadata": {},
   "outputs": [],
   "source": []
  }
 ],
 "metadata": {
  "kernelspec": {
   "display_name": "Python 3.10.6 ('trouver_py310_venv')",
   "language": "python",
   "name": "python3"
  },
  "language_info": {
   "codemirror_mode": {
    "name": "ipython",
    "version": 3
   },
   "file_extension": ".py",
   "mimetype": "text/x-python",
   "name": "python",
   "nbconvert_exporter": "python",
   "pygments_lexer": "ipython3",
   "version": "3.10.6"
  },
  "orig_nbformat": 4,
  "vscode": {
   "interpreter": {
    "hash": "e1f7e293280f53ef91bb9bbcab8b25ce4de7ee206c005f14f5a567c71643acaa"
   }
  }
 },
 "nbformat": 4,
 "nbformat_minor": 2
}
