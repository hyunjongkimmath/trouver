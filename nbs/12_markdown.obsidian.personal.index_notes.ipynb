{
 "cells": [
  {
   "cell_type": "markdown",
   "metadata": {},
   "source": [
    "# markdown.obisidian.personal.index_notes\n",
    "> Functions for managing index notes one's Obsidian.md math vault."
   ]
  },
  {
   "cell_type": "markdown",
   "metadata": {},
   "source": [
    "In a Obsidian math vault, it is convenient to keep index notes, which list links to other index notes or standard information notes. \n",
    "\n",
    "The methods in this module\n",
    "- create (standard information) notes in appropriate folders,\n",
    "- set up the notes,\n",
    "- add links of the notes to appropriate index notes\n",
    "- indicate in the index note and the standard information note where the content of the information note originates from in the original text."
   ]
  },
  {
   "cell_type": "code",
   "execution_count": null,
   "metadata": {},
   "outputs": [],
   "source": [
    "#| default_exp markdown.obsidian.personal.index_notes"
   ]
  },
  {
   "cell_type": "code",
   "execution_count": null,
   "metadata": {},
   "outputs": [],
   "source": [
    "#| export\n",
    "import glob\n",
    "import os\n",
    "from os import PathLike\n",
    "from pathlib import Path\n",
    "import re\n",
    "from typing import Union\n",
    "\n",
    "from natsort import natsorted\n",
    "from pathvalidate import sanitize_filename\n",
    "\n",
    "from trouver.helper.files_and_folders import path_name_no_ext\n",
    "from trouver.markdown.markdown.file import (\n",
    "    MarkdownFile, MarkdownLineEnum\n",
    ")\n",
    "from trouver.markdown.markdown.heading import heading_title\n",
    "from trouver.markdown.obsidian.links import (\n",
    "    link_ranges_in_text, ObsidianLink, links_from_text\n",
    ")\n",
    "from trouver.markdown.obsidian.vault import (\n",
    "    VaultNote, note_name_unique, note_path_by_name\n",
    ")"
   ]
  },
  {
   "cell_type": "code",
   "execution_count": null,
   "metadata": {},
   "outputs": [],
   "source": [
    "import tempfile\n",
    "from unittest import mock\n",
    "import shutil\n",
    "\n",
    "\n",
    "from fastcore.test import *\n",
    "from pathvalidate import validate_filename\n",
    "\n",
    "from trouver.helper.files_and_folders import path_name_no_ext\n",
    "from trouver.helper.tests import _test_directory"
   ]
  },
  {
   "cell_type": "markdown",
   "metadata": {},
   "source": [
    "## Identifying subsections listed in index notes and subsection folders"
   ]
  },
  {
   "cell_type": "code",
   "execution_count": null,
   "metadata": {},
   "outputs": [],
   "source": [
    "#| export\n",
    "def subsections_listed_in_index_note(\n",
    "        index_note: Union[VaultNote, str], # The index note\n",
    "        vault: PathLike\n",
    "        ) -> dict[Union[int, str], [dict, str]]: # The keys are 1. line numbers and 2. `'title'`. The values are dict and str (the blank str if root node), respectively.\n",
    "    \"\"\"\n",
    "    Return subsections/subchapters as listed in the index note\n",
    "\n",
    "    **See Also**\n",
    "    \n",
    "    - The `get_headings_tree` function of the `MarkdownFile` class.\n",
    "    \"\"\"\n",
    "    vault = Path(vault)\n",
    "    if isinstance(index_note, str):\n",
    "        index_note = VaultNote(vault, name=index_note)\n",
    "    mf_file = MarkdownFile.from_vault_note(index_note)\n",
    "    return mf_file.get_headings_tree()"
   ]
  },
  {
   "cell_type": "code",
   "execution_count": null,
   "metadata": {},
   "outputs": [],
   "source": [
    "text = r\"\"\"# 1. Some section title\n",
    "- [[some_note]], Page 1\n",
    "- [[some_note_2]], Page 2\n",
    "\n",
    "# 2. Some other section title\n",
    "- [[some_note_3]], Page 2\n",
    "- [[some_note_4]], Page 3\n",
    "\n",
    "# 3. Section 3\n",
    "- [[some_note_5|an alias]], Page 3\n",
    "\n",
    "# 4. Section 4\n",
    "# 5. Section 5\n",
    "\"\"\"\n",
    "\n",
    "with mock.patch(\"trouver.markdown.markdown.file.open\", mock.mock_open(read_data=text)):\n",
    "    fake_vn = VaultNote(rel_path='fake_note.md', vault='')  # Think of this as a VaultNote object whose underlying file has `text` as its content.\n",
    "    subsections_in_text = subsections_listed_in_index_note(fake_vn, vault='')\n",
    "    expected_output = {\n",
    "        'title': '',\n",
    "        0: {'title': '# 1. Some section title'},\n",
    "        4: {'title': '# 2. Some other section title'},\n",
    "        8: {'title': '# 3. Section 3'},\n",
    "        11: {'title': '# 4. Section 4'},\n",
    "        12: {'title': '# 5. Section 5'}}\n",
    "    test_eq(subsections_in_text, expected_output)"
   ]
  },
  {
   "cell_type": "code",
   "execution_count": null,
   "metadata": {},
   "outputs": [],
   "source": [
    "#| export\n",
    "def subsection_folders(\n",
    "        index_note: Union[VaultNote, str], # The index note\n",
    "        vault: PathLike,\n",
    "        output_type: str, # `'absolute_path'`, `'relative_path'`, or `'name'`\n",
    "        ) -> list[str]: # List of immediate subdirectories in the directory containing the index note.\n",
    "    \"\"\"\n",
    "    Return subdirectories corresponding to subsections/subchapters, i.e.\n",
    "    the folders in the same directory as the index note.\n",
    "\n",
    "    The folders are arranged in the order specified by `natsorted`.\n",
    "    \"\"\"\n",
    "    vault = Path(vault)\n",
    "    if isinstance(index_note, str):\n",
    "        index_note = VaultNote(vault, name=index_note)\n",
    "    parent_directory = (vault / index_note.rel_path).parent\n",
    "    # print(str(parent_directory))\n",
    "    glob_result = natsorted(glob.glob(str(parent_directory) + '/**/'))\n",
    "    if output_type == 'absolute_path':\n",
    "        return glob_result\n",
    "    elif output_type == 'relative_path':\n",
    "        return [str(Path(dir).relative_to(vault)) for dir in glob_result]\n",
    "    elif output_type == 'name':\n",
    "        return [Path(dir).name for dir in glob_result]"
   ]
  },
  {
   "cell_type": "code",
   "execution_count": null,
   "metadata": {},
   "outputs": [],
   "source": [
    "with (tempfile.TemporaryDirectory(prefix='temp_dir', dir=os.getcwd()) as temp_dir):\n",
    "    temp_vault = Path(temp_dir) / 'test_vault_2'\n",
    "    shutil.copytree(_test_directory() / 'test_vault_2', temp_vault)\n",
    "\n",
    "    two_chapter_reference_1_index_note = VaultNote(temp_vault, name='_index_2_chapter_reference_1')\n",
    "    ss_folders = subsection_folders(two_chapter_reference_1_index_note, temp_vault, output_type='name')\n",
    "    assert len(ss_folders) > 0"
   ]
  },
  {
   "cell_type": "code",
   "execution_count": null,
   "metadata": {},
   "outputs": [],
   "source": [
    "mock_vault = Path('mock_absolute_path')\n",
    "mock_path =  mock_vault / Path('mock_reference_folder') / Path('mock_chapter')\n",
    "folders = [  #glob.glob would return the folders in this order, at least on Windows:\n",
    "    '1 section',\n",
    "    '10 section',\n",
    "    '11 section',\n",
    "    '2 section',\n",
    "    '3 section',\n",
    "    '4 section',\n",
    "    '5 section',\n",
    "    '6 section',\n",
    "    '7 section',\n",
    "    '8 section',\n",
    "    '9 section']\n",
    "\n",
    "mock_glob_return_value = [str(mock_path / folder) for folder in folders]\n",
    "\n",
    "with mock.patch(\"__main__.glob.glob\", return_value=mock_glob_return_value):\n",
    "    mock_index_note = VaultNote(rel_path='_index_mock_chapter.md', vault= mock_vault)\n",
    "    \n",
    "    sample_output_absolute_path = subsection_folders(mock_index_note, mock_vault, output_type='absolute_path')\n",
    "    test_shuffled(sample_output_absolute_path, mock_glob_return_value)\n",
    "    test_eq(sample_output_absolute_path, natsorted(mock_glob_return_value))\n",
    "\n",
    "    sample_output_relative_path = subsection_folders(mock_index_note, mock_vault, output_type='relative_path')\n",
    "    expected_output_for_relative_paths = [os.path.relpath(folder, mock_vault) for folder in mock_glob_return_value]\n",
    "    test_shuffled(sample_output_relative_path, expected_output_for_relative_paths)\n",
    "    test_eq(sample_output_relative_path, natsorted(expected_output_for_relative_paths))\n",
    "\n",
    "    # test_eq(sample_output_absolute_path, )\n",
    "    sample_output_name = subsection_folders(mock_index_note, mock_vault, output_type='name')\n",
    "    test_shuffled(sample_output_name, folders)\n",
    "    test_eq(sample_output_name, natsorted(folders))"
   ]
  },
  {
   "cell_type": "markdown",
   "metadata": {},
   "source": [
    "## Corresponding headings in index notes and subfolders"
   ]
  },
  {
   "cell_type": "code",
   "execution_count": null,
   "metadata": {},
   "outputs": [],
   "source": [
    "#| export \n",
    "def get_alphanumeric(\n",
    "        title: str, # The title of either a folder or a heading. Must start with an alphanumeric.\n",
    "        title_type: str # Either `folder` or `heading`.\n",
    "        ) -> str: # An alphabet or a numeric (arabic or roman)\n",
    "    \"\"\"\n",
    "    Get the alphanumeric of a title of either a folder or a heading\n",
    "    in an index noteh.\n",
    "\n",
    "    Assumes that each folder is titled\n",
    "    `'{alphanumeric}_{folder_title}'` and each heading is titled\n",
    "    `'{alphanumeric}. {heading_title}'`\n",
    "    \"\"\"\n",
    "    assert title_type in ['folder', 'heading']\n",
    "    if title_type == 'folder':\n",
    "        return re.sub(r'(.*?)_.*' , r'\\1', title)\n",
    "    else:\n",
    "        return re.sub(r'(.*?)\\. .*', r'\\1', title)\n",
    "    \n"
   ]
  },
  {
   "cell_type": "code",
   "execution_count": null,
   "metadata": {},
   "outputs": [],
   "source": [
    "test_eq(get_alphanumeric('1. Higher direct images', 'heading'), '1')\n",
    "test_eq(get_alphanumeric('1_higher_direct_images', 'folder'), '1')\n",
    "test_eq(get_alphanumeric('12_higher_direct_images_the_leray_spectral_sequence', 'folder'), '12')\n",
    "test_eq(get_alphanumeric('VII_elliptic_curves_over_local_fields', 'folder'), 'VII')\n",
    "test_eq(get_alphanumeric('A_properties_of_morphisms', 'folder'), 'A')"
   ]
  },
  {
   "cell_type": "code",
   "execution_count": null,
   "metadata": {},
   "outputs": [],
   "source": [
    "#| export \n",
    "def correspond_headings_with_folder(\n",
    "        index_note: VaultNote,\n",
    "        vault: PathLike,\n",
    "        include_non_heading: bool = True # If `True`, and if there is text before any heading, then treat such text as being under a \"blank\" heading.\n",
    "        ) -> dict[str, str]:\n",
    "    \"\"\"\n",
    "    Return tuples of corresponding headings in an index note\n",
    "    with folder names.\n",
    "    \n",
    "    Assumes that each folder is titled\n",
    "    `'{alphanumeric}_{folder_title}'` and each heading is titled\n",
    "    `'{alphanumeric}. {heading_title}'`\n",
    "    \n",
    "    **Returns**\n",
    "    - dict[str, str]\n",
    "        - Each key is a str indexing the headings and folders. The keys\n",
    "        are usually alphanumerics (arabic or roman), depending on the\n",
    "        numbering system of chapters/sections of the reference/text.\n",
    "        The values are tuples `(folder_title, heading_title)` without \n",
    "        the alphanumeric. For the blank heading, the key/index, the folder title,\n",
    "        and the heading title are all the empty str.\n",
    "    \"\"\"\n",
    "    index = MarkdownFile.from_vault_note(index_note)\n",
    "    headings = index.get_headings(levels=1)\n",
    "    headings = [heading_title(heading) for heading in headings]\n",
    "    folders = subsection_folders(index_note, vault, output_type='name')\n",
    "    correspond_dict = {get_alphanumeric(heading, 'heading'): (heading, folder)\n",
    "                       for heading, folder in zip(headings, folders)}\n",
    "    # TODO do a better job at the conditional below; \n",
    "    # for example, consider the start of the text blank if it's just empty lines with spaces.\n",
    "    if (include_non_heading and index.parts\n",
    "            and index.parts[0]['type'] != MarkdownLineEnum.HEADING):\n",
    "        correspond_dict[''] = ('', '')\n",
    "    return correspond_dict\n",
    "    "
   ]
  },
  {
   "cell_type": "code",
   "execution_count": null,
   "metadata": {},
   "outputs": [],
   "source": [
    "with (tempfile.TemporaryDirectory(prefix='temp_dir', dir=os.getcwd()) as temp_dir):\n",
    "    temp_vault = Path(temp_dir) / 'test_vault_2'\n",
    "    shutil.copytree(_test_directory() / 'test_vault_2', temp_vault)\n",
    "\n",
    "    two_chapter_reference_1_index_note = VaultNote(temp_vault, name='_index_2_chapter_reference_1')\n",
    "    test_eq(len(correspond_headings_with_folder(two_chapter_reference_1_index_note, temp_vault)), 1)"
   ]
  },
  {
   "cell_type": "code",
   "execution_count": null,
   "metadata": {},
   "outputs": [
    {
     "name": "stdout",
     "output_type": "stream",
     "text": [
      "{'18.1': ('18.1. Some title', '181_some_title'), '18.2': ('18.2. Some other title', '182_some_other_title'), '18.3': ('18.3. Yet another title', '183_yet_another_title')}\n"
     ]
    }
   ],
   "source": [
    "mock_vault = Path('mock_absolute_path')\n",
    "mock_path =  mock_vault / Path('algebraic_geometry') / Path('some_reference') / Path('chapter_18_some_chapter')\n",
    "folders = ['181_some_title',\n",
    "    '182_some_other_title',\n",
    "    '183_yet_another_title']\n",
    "mock_glob_return_value = [str(mock_path / folder) for folder in folders]\n",
    "\n",
    "text = r\"\"\"# 18.1. Some title \n",
    "- [ ] [[some_reference 18.1|some_reference_some_alias]], 18.1, Page 300\n",
    "# 18.2. Some other title \n",
    "- [ ] [[some_reference 18.2]], 18.2, Page 305\n",
    "# 18.3. Yet another title \n",
    "- [ ] [[some_reference 18.3|]], 18.3, Page 308\n",
    "\"\"\"\n",
    "mock_index_file = MarkdownFile.from_string(text)\n",
    "\n",
    "with (mock.patch(\"__main__.glob.glob\", return_value=mock_glob_return_value),\n",
    "      mock.patch(\"trouver.markdown.markdown.file.MarkdownFile.from_vault_note\", return_value=mock_index_file)):\n",
    "\n",
    "    mock_index_note = VaultNote(rel_path = '_index_mock.md', vault=mock_vault)\n",
    "    # subsections_listed_in_index_note(mock_index_note, vault=mock_vault)\n",
    "    sample_output = correspond_headings_with_folder(mock_index_note, mock_vault)\n",
    "    print(sample_output)\n",
    "    test_eq(len(sample_output), 3)\n",
    "    for key, value in sample_output.items():\n",
    "        assert value[0].startswith(key)\n",
    "        assert value[1].startswith(key.replace('.', ''))"
   ]
  },
  {
   "cell_type": "code",
   "execution_count": null,
   "metadata": {},
   "outputs": [],
   "source": []
  },
  {
   "cell_type": "markdown",
   "metadata": {},
   "source": [
    "## Move information notes to their appropriate folders.\n",
    "Sometimes, I end up creating information notes in the wrong folders. It would be nice to detect which ones are in the wrong folders and to move them appropriately."
   ]
  },
  {
   "cell_type": "code",
   "execution_count": null,
   "metadata": {},
   "outputs": [],
   "source": [
    "#| export\n",
    "def information_notes_linked_in_index_note(\n",
    "        index_note: VaultNote, # The note indexing the information notes.\n",
    "        vault: PathLike,\n",
    "        hints: list[PathLike] = None # Hints on where the information notes are likely to be found at.  Each path is relative to `vault` and points to a directory. Defaults to `None`.\n",
    "        ) -> dict[str, list[VaultNote]]: # Each key is the index for the heading (usually either an alphanumerical or a roman numerical). Each value is a list of the information notes linked in the index note.\n",
    "    \"\"\"Find information notes to be moved to the correct folder.\n",
    "    \n",
    "    Current implementation just looks at level 1 headings.\n",
    "    This function is used in `move_information_notes_to_correct_folder`.\n",
    "    Assumes that all notes in the vault have unique names.\n",
    "    \"\"\"\n",
    "    parent_folder = os.path.dirname(index_note.rel_path)\n",
    "    headings_folders = correspond_headings_with_folder(index_note, vault)\n",
    "    mf = MarkdownFile.from_vault_note(index_note)\n",
    "    headings_text = mf.get_headings_and_text(levels=1, include_start=True)\n",
    "    headings_text = {heading_title(heading): text for heading, text\n",
    "                     in headings_text.items()}\n",
    "    text_under_headings = {heading_index: headings_text[heading] \n",
    "                            for heading_index, (heading, _) in headings_folders.items()}\n",
    "    links_by_headings = {heading_index:links_from_text(text) for\n",
    "                         heading_index, text in text_under_headings.items()}\n",
    "    note_names_by_headings = {heading_index:[il.file_name for il in links] \n",
    "                              for heading_index, links in links_by_headings.items()}\n",
    "    # Find notes by headings, but also pass the folder corresponding to the heading\n",
    "    # as a hint of where to find the note for speedup, in case the note is \n",
    "    # already at the right place.\n",
    "    folders_by_index = {heading_index: Path(vault) / parent_folder / heading_folder \n",
    "                        for heading_index, (_, heading_folder) in headings_folders.items()}\n",
    "    if not hints:\n",
    "        hints = []\n",
    "    notes_by_headings = {heading_index: [VaultNote(vault, name=nn, hints=hints+[folders_by_index[heading_index]]) \n",
    "                                         for nn in note_names]\n",
    "                         for heading_index, note_names in note_names_by_headings.items()}\n",
    "    return notes_by_headings\n",
    "    "
   ]
  },
  {
   "cell_type": "code",
   "execution_count": null,
   "metadata": {},
   "outputs": [
    {
     "name": "stdout",
     "output_type": "stream",
     "text": [
      "{'18.1': [<trouver.markdown.obsidian.vault.VaultNote object>, <trouver.markdown.obsidian.vault.VaultNote object>, <trouver.markdown.obsidian.vault.VaultNote object>], '18.2': [<trouver.markdown.obsidian.vault.VaultNote object>, <trouver.markdown.obsidian.vault.VaultNote object>], '18.3': [<trouver.markdown.obsidian.vault.VaultNote object>, <trouver.markdown.obsidian.vault.VaultNote object>]}\n"
     ]
    }
   ],
   "source": [
    "VaultNote.clear_cache()\n",
    "\n",
    "mock_vault = Path('mock_absolute_path')\n",
    "mock_path =  mock_vault / Path('algebraic_geometry') / Path('some_reference') / Path('chapter_18_some_chapter')\n",
    "folders = ['181_some_title',\n",
    "    '182_some_other_title',\n",
    "    '183_yet_another_title']\n",
    "mock_glob_return_value = [str(mock_path / folder) for folder in folders]\n",
    "\n",
    "mock_correspond_headings_with_folder_return_value = {\n",
    "  '18.1': ('18.1. Some title', '181_some_title'),\n",
    "  '18.2': ('18.2. Some other title', '182_some_other_title'),\n",
    "  '18.3': ('18.3. Yet another title', '183_yet_another_title')}\n",
    "\n",
    "text = r\"\"\"# 18.1. Some title \n",
    "- [ ] [[some_reference 18.1|some_reference_some_alias]], 18.1, Page 300\n",
    "- [ ] [[some_reference 18.1.1|another_alias]], 18.1.1, Page 300\n",
    "- [ ] [[some_reference 18.1.2]], 18.1.2, Page 301\n",
    "# 18.2. Some other title \n",
    "- [ ] [[some_reference 18.2]], 18.2, Page 305\n",
    "- [ ] [[some_reference 18.2.1]], 18.2.1, Page 306\n",
    "# 18.3. Yet another title \n",
    "- [ ] [[some_reference 18.3]], 18.3, Page 308\n",
    "- [ ] [[some_reference 18.3.1]], 18.3.1, Page 308\n",
    "\"\"\"\n",
    "\n",
    "mock_index_file = MarkdownFile.from_string(text)\n",
    "\n",
    "mock_index_note = VaultNote(rel_path = mock_path / '_index_18_some_index_note.md', vault=mock_vault)\n",
    "\n",
    "with (mock.patch(\"trouver.markdown.markdown.file.MarkdownFile.from_vault_note\", return_value=mock_index_file),\n",
    "      mock.patch(\"__main__.correspond_headings_with_folder\", return_value=mock_correspond_headings_with_folder_return_value),\n",
    "      # mock.patch(\"__main__.VaultNote\", side_effect=[None, None, None, None, None, None, None])\n",
    "      ):\n",
    "    sample_output = information_notes_linked_in_index_note(mock_index_note, mock_vault)\n",
    "    print(sample_output)\n",
    "    \n",
    "    test_eq(len(sample_output), 3)\n",
    "    test_eq(len(sample_output['18.1']), 3)\n",
    "    test_eq(len(sample_output['18.2']), 2)\n",
    "    test_eq(sample_output['18.1'][0].name, 'some_reference 18.1')\n",
    "    test_eq(sample_output['18.2'][1].name, 'some_reference 18.2.1')\n"
   ]
  },
  {
   "cell_type": "code",
   "execution_count": null,
   "metadata": {},
   "outputs": [],
   "source": [
    "#| export    \n",
    "def move_information_notes_to_correct_folder(\n",
    "        index_note: VaultNote,\n",
    "        vault: PathLike,\n",
    "        hints: list[PathLike] = None # Hints on where the information notes are likely to be found at.  Each path is relative to `vault` and points to a directory. Defaults to `None`.\n",
    "        ) -> None:\n",
    "    \"\"\"Moves the information notes indexed by `index_note` to the correct folder.\n",
    "\n",
    "    The \"correct folder\" is a folder in the same directory as `index_note`\n",
    "    corresponding to the heading under which the information note is indexed.\n",
    "    The current implementation just looks at level 1 headings.\n",
    "    \"\"\"\n",
    "    parent_folder = os.path.dirname(index_note.path(relative=True))\n",
    "    linked_notes = information_notes_linked_in_index_note(index_note, vault, hints)\n",
    "    headings_folders = correspond_headings_with_folder(index_note, vault)\n",
    "    for heading_index, notes in linked_notes.items():\n",
    "        _move_notes_under_heading(heading_index, notes,\n",
    "                                  parent_folder, headings_folders)\n",
    "\n",
    "\n",
    "def _move_notes_under_heading(\n",
    "        heading_index, notes: list[VaultNote], parent_folder, headings_folders):\n",
    "    destination_folder = headings_folders[heading_index][1]\n",
    "    for note in notes:\n",
    "        note_folder = os.path.dirname(note.rel_path)\n",
    "        if destination_folder == note_folder:\n",
    "            continue\n",
    "        note.move_to_folder(Path(parent_folder) / destination_folder)\n"
   ]
  },
  {
   "cell_type": "markdown",
   "metadata": {},
   "source": [
    "In the following example, there is an index note listing links to three notes. One of the notes does not belong beneath a heading and the other two notes belong beneath a heading. Correspondingly, the `move_information_notes_to_correct_folder` function moves the file for the first note to the same directory that the index note itself is in and the two other notes end up in the section folder corresponding to the heading"
   ]
  },
  {
   "cell_type": "code",
   "execution_count": null,
   "metadata": {},
   "outputs": [
    {
     "name": "stdout",
     "output_type": "stream",
     "text": [
      "The following is the text in the index note:\n",
      "\n",
      "- [[this_note_should_be_moved_to_the_chapter_folder_from_the_section_folder]]\n",
      "# 1. First section in 1_chapter_reference_3\n",
      "- [[this_note_should_be_moved_to_the_section_folder_from_the_chapter_folder]]\n",
      "- [[this_note_stay_in_the_section_folder]]\n"
     ]
    }
   ],
   "source": [
    "with (tempfile.TemporaryDirectory(prefix='temp_dir', dir=os.getcwd()) as temp_dir,\n",
    "      ):\n",
    "    temp_vault = Path(temp_dir) / 'test_vault_2'\n",
    "    shutil.copytree(_test_directory() / 'test_vault_2', temp_vault)\n",
    "\n",
    "    index_note = VaultNote(temp_vault, name='_index_1_chapter_reference_4')\n",
    "    print(f'The following is the text in the index note:\\n\\n{index_note.text()}')\n",
    "    move_information_notes_to_correct_folder(index_note, temp_vault)\n",
    "    assert str(VaultNote(temp_vault, name='this_note_stay_in_the_section_folder').path().parent).endswith('1_section')\n",
    "    assert str(VaultNote(temp_vault, name='this_note_should_be_moved_to_the_chapter_folder_from_the_section_folder').path().parent).endswith('1_chapter_reference_4')\n",
    "    assert str(VaultNote(temp_vault, name='this_note_should_be_moved_to_the_section_folder_from_the_chapter_folder').path().parent).endswith('1_section')\n",
    "\n"
   ]
  },
  {
   "cell_type": "code",
   "execution_count": null,
   "metadata": {},
   "outputs": [],
   "source": [
    "# TODO: see if I can implement the functionalities specified by the following example\n",
    "# In the following example, there is an unnamed heading not corresponding to any section and not corresponding to any folder within the directory that the index note belongs to. The notes linked beneath the unnamed heading should nevertheless be moved into the directory that the index note is in.\n",
    "\n",
    "# with (tempfile.TemporaryDirectory(prefix='temp_dir', dir=os.getcwd()) as temp_dir,\n",
    "#       ):\n",
    "#     temp_vault = Path(temp_dir) / 'test_vault_2'\n",
    "#     shutil.copytree(_test_directory() / 'test_vault_2', temp_vault)\n",
    "\n",
    "#     index_note = VaultNote(temp_vault, name='_index_3_chapter_reference_4')\n",
    "#     print(f'The following is the text in the index note:\\n\\n{index_note.text()}')\n",
    "#     move_information_notes_to_correct_folder(index_note, temp_vault)\n",
    "#     note_that_should_have_moved = VaultNote(temp_vault, name='this_note_is_in_the_temp_folder_and_should_be_moved_3_chapter_reference_4_where_it_is_linked_by_the_index_note')\n",
    "#     assert str(note_that_should_have_moved.path().parent).endswith('3_chapter_reference_4')\n",
    "#     # assert str(VaultNote(temp_vault, name='this_note_should_be_moved_to_the_chapter_folder_from_the_section_folder').path().parent).endswith('1_chapter_reference_4')\n",
    "#     # assert str(VaultNote(temp_vault, name='this_note_should_be_moved_to_the_section_folder_from_the_chapter_folder').path().parent).endswith('1_section')"
   ]
  },
  {
   "cell_type": "code",
   "execution_count": null,
   "metadata": {},
   "outputs": [],
   "source": [
    "#| export\n",
    "def move_information_notes_to_correct_folder_for_all_indices(\n",
    "        index_of_index_notes: VaultNote, # The index note indexing other index notes; `index_of_index_notes` is intended to be an index note for an entire reference whereas the index notes are intended to correspond to chapters/sections in the reference.\n",
    "        vault: PathLike,\n",
    "        hints: list[PathLike] = [] # Hints on where the information notes are likely to be found at.  Each path is relative to `vault` and points to a directory.\n",
    "        ) -> None:\n",
    "    \"\"\"\n",
    "    Moves the information notes for all index notes belonging to the reference as\n",
    "    specified by `index_of_index_notes`.\n",
    "    \"\"\"\n",
    "    index_of_index_file = MarkdownFile.from_vault_note(index_of_index_notes)\n",
    "    text = str(index_of_index_file)\n",
    "    index_files = link_ranges_in_text(text)\n",
    "    index_files = [ObsidianLink.from_text(text[start:end])\n",
    "                   for start, end in index_files]\n",
    "    for link in index_files:\n",
    "        index_note_name = link.file_name\n",
    "        index_note = VaultNote(vault, name=index_note_name)\n",
    "        move_information_notes_to_correct_folder(\n",
    "            index_note, vault, hints=hints+[index_note.rel_path])"
   ]
  },
  {
   "cell_type": "markdown",
   "metadata": {},
   "source": [
    "The following example demonstrating `move_information_notes_to_correct_folder` and `move_information_notes_to_correct_folder_for_all_indices` concerns `test_vault_2` in `nbs/_tests`.\n",
    "\n",
    "Note that it contains the note `_index_1_chapter_reference_1`, which has the following content:\n"
   ]
  },
  {
   "cell_type": "code",
   "execution_count": null,
   "metadata": {},
   "outputs": [
    {
     "name": "stdout",
     "output_type": "stream",
     "text": [
      "# 1. Section\n",
      "- [[note_11]]\n",
      "- [[note_12]]\n",
      "- [[note_13]]\n",
      "\n",
      "# 2. Section\n",
      "- [[note_21]]\n",
      "- [[note_22]]\n",
      "\n",
      "# 3. Section\n",
      "- [[note_31]]\n",
      "- [[note_32]]\n",
      "- [[a_note_belonging_in_3_section_1_chapter_reference_1]]\n",
      "\n",
      "# 4. Section\n",
      "- [[note_41]]\n",
      "- [[note_42]]\n"
     ]
    }
   ],
   "source": [
    "vn = VaultNote(_test_directory(), name='_index_1_chapter_reference_1')\n",
    "print(vn.text())"
   ]
  },
  {
   "cell_type": "markdown",
   "metadata": {},
   "source": [
    "However, the following notes are in the \"wrong\" folders according to these index notes:\n",
    "\n",
    "- `note_21.md` is in the folder `1_section_1_chapter_reference_1`, but it should be in the folder `2_section_1_chapter_reference_1`.\n",
    "- `note_41.md` is in the folder `3_section_1_chapter_reference_1`, but it should be in the folder `4_section_1_chapter_reference_1`.\n",
    "- `note_42.md` is in the folder `3_section_1_chapter_reference_1`, but it should be in the folder `4_section_1_chapter_reference_1`.\n",
    "- `a_note_belonging_in_1_section_1_chapter_reference_2.md` is in the folder `4_section_1_chapter_reference_1`, but it should be in the folder `1_section_1_chapter_reference_2`.\n",
    "- `a_note_belonging_in_1_section_2_chapter_reference_1.md` is in the folder `4_section_1_chapter_reference_1`, but it should be in the folder `1_section_2_chapter_reference_1`.\n",
    "- `a_note_belonging_in_3_section_1_chapter_reference_1.md` is in the folder `1_section_2_chapter_reference_2`, but it should be in the folder `3_section_1_chapter_reference_1`.\n",
    "\n",
    "\n"
   ]
  },
  {
   "cell_type": "markdown",
   "metadata": {},
   "source": [
    "The `move_information_notes_to_correct_folder` method first applied to the index note `_index_1_chapter_reference_1.md` moves the notes indexed in the index note to their correct locations. In particular, the following notes are moved to their correct locations:\n",
    "\n",
    "- `note_21.md`,\n",
    "- `note_41.md`,\n",
    "- `note_42.md`, and\n",
    "- `a_note_belonging_in_3_section_1_chapter_reference_1.md`\n",
    "\n",
    "The `move_information_notes_to_correct_folder` method applied to `_index_2_chapter_reference_1.md` then moves `a_note_belonging_in_1_section_2_chapter_reference_1.md` to its correct location.\n",
    "\n",
    "Lastly, the `move_information_notes_to_correct_folder` method applied to `_index_1_chapter_reference_2.md` then moves `a_note_belonging_in_1_section_1_chapter_reference_2.md` to its correct location.\n"
   ]
  },
  {
   "cell_type": "code",
   "execution_count": null,
   "metadata": {},
   "outputs": [],
   "source": [
    "#| hide\n",
    "\n",
    "# GitHub Actions was not passing the example in the next cell by virtue of not\n",
    "# moving the note # `a_note_belonging_in_1_section_2_chapter_reference_1`\n",
    "# to its correct location.\n",
    "# The below mock test was written to find out why this is happening.\n",
    "with (tempfile.TemporaryDirectory(prefix='temp_dir', dir=os.getcwd()) as temp_dir,\n",
    "      mock.patch('__main__.VaultNote.move_to_folder') as mock_vaultnote_move_to_folder):\n",
    "    temp_vault = Path(temp_dir) / 'test_vault_2'\n",
    "    shutil.copytree(_test_directory() / 'test_vault_2', temp_vault)\n",
    "\n",
    "    two_chapter_reference_1_index_note = VaultNote(temp_vault, name='_index_2_chapter_reference_1')\n",
    "\n",
    "    note_before_moving = VaultNote(temp_vault, name='a_note_belonging_in_1_section_2_chapter_reference_1')\n",
    "    test_eq(path_name_no_ext(note_before_moving.path().parent), '4_section_1_chapter_reference_1')\n",
    "    move_information_notes_to_correct_folder(two_chapter_reference_1_index_note, temp_vault)\n",
    "    # mock_vaultnote_move_to_folder.assert_called()\n",
    "    # mock_vaultnote_move_to_folder.assert_called_with(\n",
    "    #   Path('folder_1') / 'reference_1' / '2_chapter_reference_1' / '1_section_2_chapter_reference_1')\n",
    "\n",
    "# The `VaultNote` object's `move_to_folder` method was not being called in\n",
    "# GitHub Actions. This happened because the\n",
    "# `information_notes_linked_in_index_note` function found \n",
    "# no linked notes in the index note that are found within\n",
    "# the invocation of # `move_information_notes_to_correct_folder` \n",
    "#\n",
    "# The below was written to test whether the `move_to_folder` method\n",
    "# would be called correctly if I mock the\n",
    "# `information_notes_linked_in_index_note`:\n",
    "\n",
    "\n",
    "with (tempfile.TemporaryDirectory(prefix='temp_dir', dir=os.getcwd()) as temp_dir,\n",
    "      mock.patch('__main__.information_notes_linked_in_index_note') as mock_linked_notes,\n",
    "      mock.patch('__main__.VaultNote.move_to_folder') as mock_vaultnote_move_to_folder):\n",
    "    temp_vault = Path(temp_dir) / 'test_vault_2'\n",
    "    shutil.copytree(_test_directory() / 'test_vault_2', temp_vault)\n",
    "\n",
    "    two_chapter_reference_1_index_note = VaultNote(temp_vault, name='_index_2_chapter_reference_1')\n",
    "\n",
    "    note_before_moving = VaultNote(temp_vault, name='a_note_belonging_in_1_section_2_chapter_reference_1')\n",
    "    test_eq(path_name_no_ext(note_before_moving.path().parent), '4_section_1_chapter_reference_1')\n",
    "    mock_linked_notes.return_value = {'1': [note_before_moving]} \n",
    "    move_information_notes_to_correct_folder(two_chapter_reference_1_index_note, temp_vault)\n",
    "    mock_vaultnote_move_to_folder.assert_called()\n",
    "    mock_vaultnote_move_to_folder.assert_called_with(\n",
    "       Path('folder_1') / 'reference_1' / '2_chapter_reference_1' / '1_section_2_chapter_reference_1')\n",
    "\n",
    "# Ultimately, it turned out that the error was happening because git does not \n",
    "# track empty folders and I had an empty folder in my test vault."
   ]
  },
  {
   "cell_type": "code",
   "execution_count": null,
   "metadata": {},
   "outputs": [],
   "source": [
    "with tempfile.TemporaryDirectory(prefix='temp_dir', dir=os.getcwd()) as temp_dir:\n",
    "    temp_vault = Path(temp_dir) / 'test_vault_2'\n",
    "    shutil.copytree(_test_directory() / 'test_vault_2', temp_vault)\n",
    "    # os.startfile(temp_dir)\n",
    "    # input()\n",
    "\n",
    "    one_chapter_reference_1_index_note = VaultNote(temp_vault, name='_index_1_chapter_reference_1')\n",
    "    two_chapter_reference_1_index_note = VaultNote(temp_vault, name='_index_2_chapter_reference_1')\n",
    "    one_chapter_reference_2_index_note = VaultNote(temp_vault, name='_index_1_chapter_reference_2')\n",
    "\n",
    "    move_information_notes_to_correct_folder(one_chapter_reference_1_index_note, temp_vault)\n",
    "    note_21 = VaultNote(temp_vault, name='note_21')\n",
    "    test_eq(path_name_no_ext(note_21.path().parent), '2_section_1_chapter_reference_1')\n",
    "    note_41 = VaultNote(temp_vault, name='note_41')\n",
    "    test_eq(path_name_no_ext(note_41.path().parent), '4_section_1_chapter_reference_1')\n",
    "    note_42 = VaultNote(temp_vault, name='note_42')\n",
    "    test_eq(path_name_no_ext(note_42.path().parent), '4_section_1_chapter_reference_1')\n",
    "    note_alpha = VaultNote(temp_vault, name='a_note_belonging_in_3_section_1_chapter_reference_1')\n",
    "    test_eq(path_name_no_ext(note_alpha.path().parent), '3_section_1_chapter_reference_1')\n",
    "\n",
    "    # os.startfile(temp_vault)\n",
    "    move_information_notes_to_correct_folder(two_chapter_reference_1_index_note, temp_vault)\n",
    "    note_beta = VaultNote(temp_vault, name='a_note_belonging_in_1_section_2_chapter_reference_1')\n",
    "    test_eq(path_name_no_ext(note_beta.path().parent), '1_section_2_chapter_reference_1')\n",
    "\n",
    "    move_information_notes_to_correct_folder(one_chapter_reference_2_index_note, temp_vault)\n",
    "    note_gamma = VaultNote(temp_vault, name='a_note_belonging_in_1_section_1_chapter_reference_2')\n",
    "    test_eq(path_name_no_ext(note_gamma.path().parent), '1_section_1_chapter_reference_2')\n",
    "    "
   ]
  },
  {
   "cell_type": "markdown",
   "metadata": {},
   "source": [
    "The `move_information_notes_to_correct_folder_for_all_indices` applied to `_index_reference_1.md` effectively invokes `move_information_notes_to_correct_folder` to the index notes which are indexed in `_index_reference_1.md`, i.e. to `_index_1_chapter_reference_1`, `_index_2_chapter_reference_1`, `_index_3_chapter_reference_1`. Note that this invocation of the method does not invoke `move_information_notes_to_correct_folder` to `_index_1_chapter_reference_2` and hence `a_note_belonging_in_1_section_1_chapter_reference_2` is not moved to its correct location."
   ]
  },
  {
   "cell_type": "code",
   "execution_count": null,
   "metadata": {},
   "outputs": [],
   "source": [
    "with tempfile.TemporaryDirectory(prefix='temp_dir', dir=os.getcwd()) as temp_dir:\n",
    "    temp_vault = Path(temp_dir) / 'test_vault_2'\n",
    "    shutil.copytree(_test_directory() / 'test_vault_2', temp_vault)\n",
    "\n",
    "    reference_1_index_note = VaultNote(temp_vault, name='_index_reference_1')\n",
    "    move_information_notes_to_correct_folder_for_all_indices(reference_1_index_note, temp_vault)\n",
    "\n",
    "    # These notes are moved to their correct locations because they belong to reference_1, i.e. \n",
    "    # are indexed in indexed notes which are indexed in `_index_reference_1`.\n",
    "    note_21 = VaultNote(temp_vault, name='note_21')\n",
    "    test_eq(path_name_no_ext(note_21.path().parent), '2_section_1_chapter_reference_1')\n",
    "    note_41 = VaultNote(temp_vault, name='note_41')\n",
    "    test_eq(path_name_no_ext(note_41.path().parent), '4_section_1_chapter_reference_1')\n",
    "    note_42 = VaultNote(temp_vault, name='note_42')\n",
    "    test_eq(path_name_no_ext(note_42.path().parent), '4_section_1_chapter_reference_1')\n",
    "    note_alpha = VaultNote(temp_vault, name='a_note_belonging_in_3_section_1_chapter_reference_1')\n",
    "    test_eq(path_name_no_ext(note_alpha.path().parent), '3_section_1_chapter_reference_1')\n",
    "\n",
    "    note_beta = VaultNote(temp_vault, name='a_note_belonging_in_1_section_2_chapter_reference_1')\n",
    "    test_eq(path_name_no_ext(note_beta.path().parent), '1_section_2_chapter_reference_1')\n",
    "\n",
    "    # This note is not moved to its correct location because it does not belong to reference_2.\n",
    "    note_gamma = VaultNote(temp_vault, name='a_note_belonging_in_1_section_1_chapter_reference_2')\n",
    "    test_ne(path_name_no_ext(note_gamma.path().parent), '1_section_1_chapter_reference_2')\n",
    "    test_eq(path_name_no_ext(note_gamma.path().parent), '4_section_1_chapter_reference_1')\n",
    "\n"
   ]
  },
  {
   "cell_type": "markdown",
   "metadata": {},
   "source": [
    "## Automatically make subfolders based on index note headings"
   ]
  },
  {
   "cell_type": "code",
   "execution_count": null,
   "metadata": {},
   "outputs": [],
   "source": [
    "#| export\n",
    "def convert_title_to_folder_name(title: str) -> str:\n",
    "    # TODO: remove left/right\n",
    "    \"\"\"\n",
    "    Returns a folder name for the given string, e.g. replaces spaces\n",
    "    with underscore.\n",
    "    \n",
    "    **Parameters**\n",
    "    - `title` - str\n",
    "    \n",
    "    **Returns**\n",
    "    - str\n",
    "    \"\"\"\n",
    "    characters_to_remove = [\n",
    "        '.', '\\'', '$', '(', ')', '{', '}', ':', '?', '!', ',', '#', '%', '&',\n",
    "        '\\\\', '<', '>', '*', '?', '/', '\"', '@', '+', '`', '|', '=', '[', ']',\n",
    "        'mathscr', 'mathbf', 'mathrm', ]\n",
    "    characters_to_turn_to_underscore = [' ', '-', '^']\n",
    "    title = title.strip()\n",
    "    title = title.lower()\n",
    "    for character in characters_to_remove:\n",
    "        title = title.replace(character, '')\n",
    "    for character in characters_to_turn_to_underscore:\n",
    "        title = title.replace(character, '_')\n",
    "    title = sanitize_filename(title)\n",
    "    return title"
   ]
  },
  {
   "cell_type": "code",
   "execution_count": null,
   "metadata": {},
   "outputs": [
    {
     "name": "stdout",
     "output_type": "stream",
     "text": [
      "1_m_g_and_its_boundary\n",
      "7_exceptional_maximal_subgroups_of_texorpdfstringgsp_4ff_ellgsp4fell\n"
     ]
    }
   ],
   "source": [
    "# TODO: add examples\n",
    "sample_title = convert_title_to_folder_name(r'1. $\\mathscr{M}_g$ and its boundary')\n",
    "print(sample_title)\n",
    "\n",
    "sample_title = convert_title_to_folder_name(r'''7. Exceptional maximal subgroups of \n",
    "\\texorpdfstring{\\(\\GSp_4(\\ff_\\ell)\\)}{GSp4Fell}''')\n",
    "print(sample_title)\n",
    "validate_filename(sample_title)"
   ]
  },
  {
   "cell_type": "code",
   "execution_count": null,
   "metadata": {},
   "outputs": [],
   "source": [
    "#| export\n",
    "def convert_heading_to_folder_name(\n",
    "        heading: str # Matches regex `\\# (\\w+?)\\. (.*?)`\n",
    "        ) -> str:\n",
    "    \"\"\"Converts a heading to a valid name for a folder.\n",
    "    \n",
    "    TODO Might not work correctly.\n",
    "\n",
    "    **Parameters**\n",
    "    - heading: str\n",
    "        \n",
    "    \"\"\"\n",
    "    regex_match = re.match(r'\\# (\\w+?)\\. (.*)', heading)\n",
    "    try:\n",
    "        alphanumeric = regex_match.group(1)\n",
    "        title = regex_match.group(2)\n",
    "    except AttributeError:\n",
    "        raise ValueError(\n",
    "            f\"`convert_heading_to_folder_name` unsuccessfully attempted\"\n",
    "            f\" to match the following: {heading}\")\n",
    "        #print(heading)\n",
    "    return f'{alphanumeric}_{convert_title_to_folder_name(title)}'    "
   ]
  },
  {
   "cell_type": "code",
   "execution_count": null,
   "metadata": {},
   "outputs": [
    {
     "name": "stdout",
     "output_type": "stream",
     "text": [
      "1_first_title\n",
      "A_appendix_title\n",
      "1_hi_im_bob\n"
     ]
    }
   ],
   "source": [
    "print(convert_heading_to_folder_name(r'# 1. First title'))\n",
    "print(convert_heading_to_folder_name(r'# A. appendix title'))\n",
    "# print(convert_heading_to_folder_name(r'# A.1. appendix title')) # Works incorrectly TODO fix\n",
    "print(convert_heading_to_folder_name(r\"# 1. Hi I'm Bob\"))"
   ]
  },
  {
   "cell_type": "code",
   "execution_count": null,
   "metadata": {},
   "outputs": [],
   "source": [
    "#| export\n",
    "def make_folders_from_index_note_headers(\n",
    "        index_note: VaultNote\n",
    "        ) -> None:\n",
    "    r\"\"\"\n",
    "    Make folders in the same directory as index note whose names\n",
    "    are the titles of the headers of the index note.\n",
    "\n",
    "    The headers of the index note must match the regex pattern `\\# (\\w+?)\\. (.*?)`.\n",
    "    \"\"\"\n",
    "    mfile = MarkdownFile.from_vault_note(index_note)\n",
    "    headings = mfile.get_headings_by_line_number(levels=1)\n",
    "    pattern = re.compile(r'\\# (\\w+?)\\. (.*?)')\n",
    "    folder_names = [convert_heading_to_folder_name(heading)\n",
    "                    for _, heading in headings.items() if heading]\n",
    "    directory = Path(os.path.dirname(index_note.path()))\n",
    "    for folder_name in folder_names:\n",
    "        try:\n",
    "            os.mkdir(directory / folder_name)\n",
    "        except OSError as error:\n",
    "            pass"
   ]
  },
  {
   "cell_type": "code",
   "execution_count": null,
   "metadata": {},
   "outputs": [],
   "source": [
    "with (tempfile.TemporaryDirectory(prefix='temp_dir', dir=os.getcwd()) as temp_dir,\n",
    "      mock.patch('__main__.convert_heading_to_folder_name') as mock_convert_heading_to_folder_name):\n",
    "    temp_vault = Path(temp_dir) / 'test_vault_2'\n",
    "    shutil.copytree(_test_directory() / 'test_vault_2', temp_vault)\n",
    "\n",
    "    # This mocks return values of `convert_heading_to_folder_name` which is used to\n",
    "    # determine the names of the folders to be made; I am using this because 1. I \n",
    "    # do not really care what the folders are named for the purposes of this example/test\n",
    "    # and 2. I anticipate that I will make several modifications to the method before\n",
    "    # I am satisfied with it.\n",
    "    mock_convert_heading_to_folder_name.side_effect = [\n",
    "        \"1_first_section_in_1_chapter_reference_3\",\n",
    "        \"2_second_section_in_1_chapter_reference_3\",\n",
    "        \"3_hi_im_bob\"]\n",
    "    \n",
    "    index_note = VaultNote(temp_vault, name='_index_1_chapter_reference_3')\n",
    "    make_folders_from_index_note_headers(index_note)\n",
    "    absolute_path = index_note.path(relative=False)\n",
    "    index_note_directory = absolute_path.parent\n",
    "    list_of_folders_in_the_same_directory_as_index_note = os.listdir(\n",
    "        index_note_directory)\n",
    "\n",
    "    # 3 folders plus the index note itself will be made in the \n",
    "    test_eq(len(list_of_folders_in_the_same_directory_as_index_note), 4)\n",
    "\n",
    "    mock_convert_heading_to_folder_name.assert_has_calls(\n",
    "        [mock.call('# 1. First section in 1_chapter_reference_3'),\n",
    "         mock.call('# 2. Second section in 1_chapter_reference_3'),\n",
    "         mock.call(\"# 3. Hi I'm Bob\")])"
   ]
  },
  {
   "cell_type": "markdown",
   "metadata": {},
   "source": [
    "## Identify order of notes in index notes"
   ]
  },
  {
   "cell_type": "code",
   "execution_count": null,
   "metadata": {},
   "outputs": [],
   "source": [
    "#| export\n",
    "# TODO: do an example of the `include_embedded_notes` paramtere.\n",
    "def get_notes_from_index_note(\n",
    "        vault: PathLike, # The path to the Obsidian vault directory\n",
    "        index_note: VaultNote, # The VaultNote object for the index note.\n",
    "        as_vault_notes: bool = True, # If `True`, returns the ``VaultNote`` objects for the index notes. Otherwise, returns the names of these notes \n",
    "        include_embedded_notes: bool = False # If `True`, include in the list the embedded notes. Defaults to `False`.\n",
    "        ) -> list[Union[str, VaultNote]]: # Either of the names of the index notes in the vault or of the index notes as VaultNote objects, depending on `as_vault_notes`.\n",
    "    \"\"\"Returns the list of notes listed in the index note in the order that\n",
    "    they are listed in.\n",
    "    \n",
    "    Asssumes that the index note is \"formatted correctly\".\n",
    "    \n",
    "    **See Also**\n",
    "    - ``get_index_notes_from_index_note`` in \n",
    "    ``markdown.obsidian.personal.reference``.\n",
    "    \"\"\"\n",
    "    vault = Path(vault)\n",
    "    text = index_note.text()\n",
    "    links = links_from_text(text)\n",
    "    if not include_embedded_notes:\n",
    "        links = [link for link in links if not link.is_embedded]\n",
    "    index_notes = [link.file_name for link in links]\n",
    "    if as_vault_notes:\n",
    "        index_notes = [VaultNote(vault, name=index_note)\n",
    "                       for index_note in index_notes]\n",
    "    return index_notes"
   ]
  },
  {
   "cell_type": "markdown",
   "metadata": {},
   "source": [
    "We can get the notes indexed in an index note in the order that they are indexed:"
   ]
  },
  {
   "cell_type": "code",
   "execution_count": null,
   "metadata": {},
   "outputs": [
    {
     "name": "stdout",
     "output_type": "stream",
     "text": [
      "['note_11', 'note_12', 'note_13', 'note_21', 'note_22', 'note_31', 'note_32', 'a_note_belonging_in_3_section_1_chapter_reference_1', 'note_41', 'note_42']\n"
     ]
    }
   ],
   "source": [
    "vault = _test_directory() / 'test_vault_2'\n",
    "index_note = VaultNote(vault, name='_index_1_chapter_reference_1')\n",
    "list_of_notes_in_index_note = get_notes_from_index_note(vault, index_note)\n",
    "test_eq(len(list_of_notes_in_index_note), 10)\n",
    "names_of_notes_in_index_note = [vn.name for vn in list_of_notes_in_index_note]\n",
    "print(names_of_notes_in_index_note)\n",
    "test_eq(names_of_notes_in_index_note[0], \"note_11\")\n",
    "test_eq(names_of_notes_in_index_note[7], \"a_note_belonging_in_3_section_1_chapter_reference_1\")"
   ]
  },
  {
   "cell_type": "markdown",
   "metadata": {},
   "source": [
    "We can just get the names of these notes instead of `VaultNote` objects representing these notes:"
   ]
  },
  {
   "cell_type": "code",
   "execution_count": null,
   "metadata": {},
   "outputs": [
    {
     "name": "stdout",
     "output_type": "stream",
     "text": [
      "['note_11', 'note_12', 'note_13', 'note_21', 'note_22', 'note_31', 'note_32', 'a_note_belonging_in_3_section_1_chapter_reference_1', 'note_41', 'note_42']\n"
     ]
    }
   ],
   "source": [
    "list_of_notes_in_index_note = get_notes_from_index_note(vault, index_note, as_vault_notes=False)\n",
    "test_eq(len(list_of_notes_in_index_note), 10)\n",
    "print(list_of_notes_in_index_note)"
   ]
  },
  {
   "cell_type": "markdown",
   "metadata": {},
   "source": [
    "## Add line in index note"
   ]
  },
  {
   "cell_type": "code",
   "execution_count": null,
   "metadata": {},
   "outputs": [],
   "source": [
    "#| export\n",
    "def add_link_in_index_note_after_note_link(\n",
    "        index_note: VaultNote,\n",
    "        note_to_add_link_after: VaultNote,\n",
    "        link_to_add: ObsidianLink) -> None:\n",
    "    \"\"\"\n",
    "    Adds a link in the index note.\n",
    "\n",
    "    The link is added after the first link to `note_to_add_link_after`. \n",
    "    If no link to `note_to_add_link_after` is found, then a link is added\n",
    "    at the end.\n",
    "    \"\"\"\n",
    "    link_to_find = ObsidianLink(False, note_to_add_link_after.name, -1, -1)\n",
    "    pattern = link_to_find.to_regex()\n",
    "    mf = MarkdownFile.from_vault_note(index_note)\n",
    "    for i, part in enumerate(mf.parts):\n",
    "        if re.search(pattern, part['line']):\n",
    "            break\n",
    "    mf.insert_line(i + 1, {'type': MarkdownLineEnum.UNORDERED_LIST,\n",
    "                           'line': f'- {link_to_add.to_string()}'})\n",
    "    mf.write(index_note)"
   ]
  },
  {
   "cell_type": "code",
   "execution_count": null,
   "metadata": {},
   "outputs": [
    {
     "name": "stdout",
     "output_type": "stream",
     "text": [
      "# 1. Section\n",
      "- [[note_11]]\n",
      "- [[note_12]]\n",
      "- [[note_13]]\n",
      "\n",
      "# 2. Section\n",
      "- [[note_21]]\n",
      "- [[another_note]]\n",
      "- [[note_22]]\n",
      "\n",
      "# 3. Section\n",
      "- [[note_31]]\n",
      "- [[note_32]]\n",
      "- [[a_note_belonging_in_3_section_1_chapter_reference_1]]\n",
      "\n",
      "# 4. Section\n",
      "- [[note_41]]\n",
      "- [[note_42]]\n"
     ]
    }
   ],
   "source": [
    "with tempfile.TemporaryDirectory(prefix='temp_dir', dir=os.getcwd()) as temp_dir:\n",
    "    temp_vault = Path(temp_dir) / 'test_vault_2'\n",
    "    shutil.copytree(_test_directory() / 'test_vault_2', temp_vault)\n",
    "\n",
    "    index_note = VaultNote(temp_vault, name='_index_1_chapter_reference_1')\n",
    "    note_to_add_link_after = VaultNote(temp_vault, name='note_21')\n",
    "    link_to_add = ObsidianLink.from_text('[[another_note]]')\n",
    "    add_link_in_index_note_after_note_link(index_note, note_to_add_link_after, link_to_add)\n",
    "    new_text_of_the_index_note = index_note.text()\n",
    "    assert str(link_to_add) in new_text_of_the_index_note\n",
    "    print(new_text_of_the_index_note)"
   ]
  },
  {
   "cell_type": "markdown",
   "metadata": {},
   "source": [
    "If there are multiple instances of `note_to_add_link_after`, then the link is added after the first link to `note_to_add_link_after`."
   ]
  },
  {
   "cell_type": "code",
   "execution_count": null,
   "metadata": {},
   "outputs": [
    {
     "name": "stdout",
     "output_type": "stream",
     "text": [
      "- [[link_1]]\n",
      "- [[new_link]]\n",
      "- [[link_2]]\n",
      "- [[link_3]]\n",
      "- [[link_1]]\n"
     ]
    }
   ],
   "source": [
    "with tempfile.TemporaryDirectory(prefix='temp_dir', dir=os.getcwd()) as temp_dir:\n",
    "    temp_vault = Path(temp_dir) / 'test_vault_2'\n",
    "    shutil.copytree(_test_directory() / 'test_vault_2', temp_vault)\n",
    "\n",
    "    index_note = VaultNote(temp_vault, name='_index_2_chapter_reference_3')\n",
    "    note_1 = VaultNote(temp_vault, name='link_1')\n",
    "    link_to_add = ObsidianLink(False, 'new_link', 0, 0)\n",
    "    add_link_in_index_note_after_note_link(index_note, note_1, link_to_add)\n",
    "\n",
    "    new_text_of_the_index_note = index_note.text()\n",
    "    assert new_text_of_the_index_note.startswith('- [[link_1]]\\n- [[new_link]]')\n",
    "    assert str(link_to_add) in new_text_of_the_index_note\n",
    "    print(new_text_of_the_index_note)"
   ]
  },
  {
   "cell_type": "markdown",
   "metadata": {},
   "source": [
    "If there are no links to `note_to_add_link_after`, then the link is added at the end. "
   ]
  },
  {
   "cell_type": "code",
   "execution_count": null,
   "metadata": {},
   "outputs": [
    {
     "name": "stdout",
     "output_type": "stream",
     "text": [
      "- [[link_1]]\n",
      "- [[link_2]]\n",
      "- [[link_3]]\n",
      "- [[link_1]]\n",
      "- [[new_link]]\n"
     ]
    }
   ],
   "source": [
    "# TODO: do example.\n",
    "with tempfile.TemporaryDirectory(prefix='temp_dir', dir=os.getcwd()) as temp_dir:\n",
    "    temp_vault = Path(temp_dir) / 'test_vault_2'\n",
    "    shutil.copytree(_test_directory() / 'test_vault_2', temp_vault)\n",
    "\n",
    "    index_note = VaultNote(temp_vault, name='_index_2_chapter_reference_3')\n",
    "    note_1 = VaultNote(temp_vault, name='link_that_does_not_exist')\n",
    "    link_to_add = ObsidianLink(False, 'new_link', 0, 0)\n",
    "    add_link_in_index_note_after_note_link(index_note, note_1, link_to_add)\n",
    "\n",
    "    new_text_of_the_index_note = index_note.text()\n",
    "    print(new_text_of_the_index_note)\n",
    "    assert new_text_of_the_index_note.endswith('- [[link_1]]\\n- [[new_link]]')\n",
    "    assert str(link_to_add) in new_text_of_the_index_note"
   ]
  }
 ],
 "metadata": {
  "kernelspec": {
   "display_name": "python3",
   "language": "python",
   "name": "python3"
  }
 },
 "nbformat": 4,
 "nbformat_minor": 2
}
