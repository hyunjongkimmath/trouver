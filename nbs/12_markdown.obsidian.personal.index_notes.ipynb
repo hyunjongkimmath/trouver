{
 "cells": [
  {
   "cell_type": "markdown",
   "metadata": {},
   "source": [
    "# markdown.obisidian.personal.index_notes\n",
    "> Functions for managing index notes one's Obsidian.md math vault."
   ]
  },
  {
   "cell_type": "markdown",
   "metadata": {},
   "source": [
    "In a Obsidian math vault, it is convenient to keep index notes, which list links to other index notes or standard information notes. \n",
    "\n",
    "The methods in this module\n",
    "- create (standard information) notes in appropriate folders,\n",
    "- set up the notes,\n",
    "- add links of the notes to appropriate index notes\n",
    "- indicate in the index note and the standard information note where the content of the information note originates from in the original text."
   ]
  },
  {
   "cell_type": "code",
   "execution_count": 1,
   "metadata": {
    "vscode": {
     "languageId": "python"
    }
   },
   "outputs": [],
   "source": [
    "#| default_exp markdown.obsidian.personal.index_notes"
   ]
  },
  {
   "cell_type": "code",
   "execution_count": 2,
   "metadata": {
    "vscode": {
     "languageId": "python"
    }
   },
   "outputs": [],
   "source": [
    "#| export\n",
    "import glob\n",
    "import os\n",
    "from os import PathLike\n",
    "from pathlib import Path\n",
    "import re\n",
    "from typing import Union\n",
    "\n",
    "from natsort import natsorted\n",
    "\n",
    "from trouver.markdown.markdown.file import (\n",
    "    MarkdownFile, MarkdownLineEnum\n",
    ")\n",
    "from trouver.markdown.markdown.heading import heading_title\n",
    "from trouver.markdown.obsidian.links import (\n",
    "    find_links_in_markdown_text, ObsidianLink, links_from_text\n",
    ")\n",
    "from trouver.markdown.obsidian.vault import (\n",
    "    VaultNote, note_name_unique, note_path_by_name\n",
    ")"
   ]
  },
  {
   "cell_type": "code",
   "execution_count": 3,
   "metadata": {
    "vscode": {
     "languageId": "python"
    }
   },
   "outputs": [],
   "source": [
    "from unittest import mock\n",
    "from fastcore.test import *"
   ]
  },
  {
   "cell_type": "markdown",
   "metadata": {},
   "source": [
    "## Automatically filling in some notes"
   ]
  },
  {
   "cell_type": "markdown",
   "metadata": {},
   "source": [
    "- I need to identify the names of subsections/subchapters inside a chapter, and identify the correspondence of subdirectories in the directory with headings in the index note.\n",
    "- I need to use regex to find Theorems/Corollaries/Propositions/Lemmas/Definitions/Remarks/Examples (I'll refere to these as Numberings) in LaTeX code that has been OCR'd\n",
    "- For each subsection/subchapter, I need to collect these Numberings, create an information note for each one, and add the number/page number."
   ]
  },
  {
   "cell_type": "code",
   "execution_count": 4,
   "metadata": {
    "vscode": {
     "languageId": "python"
    }
   },
   "outputs": [],
   "source": [
    "#| export\n",
    "def subsections_listed_in_index_note(\n",
    "        index_note: Union[VaultNote, str], # The index note\n",
    "        vault: PathLike\n",
    "        ) -> dict[Union[int, str], [dict, str]]: # The keys are 1. line numbers and 2. `'title'`. The values are dict and str (the blank str if root node), respectively.\n",
    "    \"\"\"\n",
    "    Return subsections/subchapters as listed in the index note\n",
    "\n",
    "    **See Also**\n",
    "    \n",
    "    - The `get_headings_tree` function of the `MarkdownFile` class.\n",
    "    \"\"\"\n",
    "    vault = Path(vault)\n",
    "    if isinstance(index_note, str):\n",
    "        index_note = VaultNote(vault, name=index_note)\n",
    "    mf_file = MarkdownFile.from_vault_note(index_note)\n",
    "    return mf_file.get_headings_tree()"
   ]
  },
  {
   "cell_type": "code",
   "execution_count": 5,
   "metadata": {
    "vscode": {
     "languageId": "python"
    }
   },
   "outputs": [],
   "source": [
    "text = r\"\"\"# 1. Some section title\n",
    "- [[some_note]], Page 1\n",
    "- [[some_note_2]], Page 2\n",
    "\n",
    "# 2. Some other section title\n",
    "- [[some_note_3]], Page 2\n",
    "- [[some_note_4]], Page 3\n",
    "\n",
    "# 3. Section 3\n",
    "- [[some_note_5|an alias]], Page 3\n",
    "\n",
    "# 4. Section 4\n",
    "# 5. Section 5\n",
    "\"\"\"\n",
    "\n",
    "with mock.patch(\"trouver.markdown.markdown.file.open\", mock.mock_open(read_data=text)):\n",
    "    fake_vn = VaultNote(rel_path='fake_note.md', vault='')  # Think of this as a VaultNote object whose underlying file has `text` as its content.\n",
    "    subsections_in_text = subsections_listed_in_index_note(fake_vn, vault='')\n",
    "    expected_output = {\n",
    "        'title': '',\n",
    "        0: {'title': '# 1. Some section title'},\n",
    "        4: {'title': '# 2. Some other section title'},\n",
    "        8: {'title': '# 3. Section 3'},\n",
    "        11: {'title': '# 4. Section 4'},\n",
    "        12: {'title': '# 5. Section 5'}}\n",
    "    test_eq(subsections_in_text, expected_output)"
   ]
  },
  {
   "cell_type": "code",
   "execution_count": 6,
   "metadata": {
    "vscode": {
     "languageId": "python"
    }
   },
   "outputs": [],
   "source": [
    "#| export\n",
    "def subsection_folders(\n",
    "        index_note: Union[VaultNote, str], # The index note\n",
    "        vault: PathLike,\n",
    "        output_type: str, # `'absolute_path'`, `'relative_path'`, or `'name'`\n",
    "        ) -> list[str]: # List of immediate subdirectories in the directory containing the index note.\n",
    "    \"\"\"\n",
    "    Return subdirectories corresponding to subsections/subchapters, i.e.\n",
    "    the folders in the same directory as the index note.\n",
    "\n",
    "    The folders are arranged in the order specified by `natsorted`.\n",
    "    \"\"\"\n",
    "    vault = Path(vault)\n",
    "    if isinstance(index_note, str):\n",
    "        index_note = VaultNote(vault, name=index_note)\n",
    "    parent_directory = (vault / index_note.rel_path).parent\n",
    "    # print(str(parent_directory))\n",
    "    glob_result = natsorted(glob.glob(str(parent_directory) + '/**/'))\n",
    "    if output_type == 'absolute_path':\n",
    "        return glob_result\n",
    "    elif output_type == 'relative_path':\n",
    "        return [str(Path(dir).relative_to(vault)) for dir in glob_result]\n",
    "    elif output_type == 'name':\n",
    "        return [Path(dir).name for dir in glob_result]"
   ]
  },
  {
   "cell_type": "code",
   "execution_count": 7,
   "metadata": {
    "vscode": {
     "languageId": "python"
    }
   },
   "outputs": [],
   "source": [
    "mock_vault = Path('mock_absolute_path')\n",
    "mock_path =  mock_vault / Path('mock_reference_folder') / Path('mock_chapter')\n",
    "folders = [  #glob.glob would return the folders in this order, at least on Windows:\n",
    "    '1 section',\n",
    "    '10 section',\n",
    "    '11 section',\n",
    "    '2 section',\n",
    "    '3 section',\n",
    "    '4 section',\n",
    "    '5 section',\n",
    "    '6 section',\n",
    "    '7 section',\n",
    "    '8 section',\n",
    "    '9 section']\n",
    "\n",
    "mock_glob_return_value = [str(mock_path / folder) for folder in folders]\n",
    "\n",
    "with mock.patch(\"__main__.glob.glob\", return_value=mock_glob_return_value):\n",
    "    mock_index_note = VaultNote(rel_path='_index_mock_chapter.md', vault= mock_vault)\n",
    "    \n",
    "    sample_output_absolute_path = subsection_folders(mock_index_note, mock_vault, output_type='absolute_path')\n",
    "    test_shuffled(sample_output_absolute_path, mock_glob_return_value)\n",
    "    test_eq(sample_output_absolute_path, natsorted(mock_glob_return_value))\n",
    "\n",
    "    sample_output_relative_path = subsection_folders(mock_index_note, mock_vault, output_type='relative_path')\n",
    "    expected_output_for_relative_paths = [os.path.relpath(folder, mock_vault) for folder in mock_glob_return_value]\n",
    "    test_shuffled(sample_output_relative_path, expected_output_for_relative_paths)\n",
    "    test_eq(sample_output_relative_path, natsorted(expected_output_for_relative_paths))\n",
    "\n",
    "    # test_eq(sample_output_absolute_path, )\n",
    "    sample_output_name = subsection_folders(mock_index_note, mock_vault, output_type='name')\n",
    "    test_shuffled(sample_output_name, folders)\n",
    "    test_eq(sample_output_name, natsorted(folders))"
   ]
  },
  {
   "cell_type": "markdown",
   "metadata": {},
   "source": [
    "## Corresponding headings in index notes and subfolders"
   ]
  },
  {
   "cell_type": "code",
   "execution_count": 8,
   "metadata": {
    "vscode": {
     "languageId": "python"
    }
   },
   "outputs": [],
   "source": [
    "#| export \n",
    "def get_alphanumeric(\n",
    "        title: str, # The title of either a folder or a heading. Must start with an alphanumeric.\n",
    "        title_type: str # Either `folder` or `heading`.\n",
    "        ) -> str: # An alphabet or a numeric (arabic or roman)\n",
    "    \"\"\"\n",
    "    Get the alphanumeric of a title of either a folder or a heading\n",
    "    in an index noteh.\n",
    "\n",
    "    Assumes that each folder is titled\n",
    "    `'{alphanumeric}_{folder_title}'` and each heading is titled\n",
    "    `'{alphanumeric}. {heading_title}'`\n",
    "    \"\"\"\n",
    "    assert title_type in ['folder', 'heading']\n",
    "    if title_type == 'folder':\n",
    "        return re.sub(r'(.*?)_.*' , r'\\1', title)\n",
    "    else:\n",
    "        return re.sub(r'(.*?)\\. .*', r'\\1', title)\n",
    "    \n"
   ]
  },
  {
   "cell_type": "code",
   "execution_count": 9,
   "metadata": {
    "vscode": {
     "languageId": "python"
    }
   },
   "outputs": [],
   "source": [
    "test_eq(get_alphanumeric('1. Higher direct images', 'heading'), '1')\n",
    "test_eq(get_alphanumeric('1_higher_direct_images', 'folder'), '1')\n",
    "test_eq(get_alphanumeric('12_higher_direct_images_the_leray_spectral_sequence', 'folder'), '12')\n",
    "test_eq(get_alphanumeric('VII_elliptic_curves_over_local_fields', 'folder'), 'VII')\n",
    "test_eq(get_alphanumeric('A_properties_of_morphisms', 'folder'), 'A')"
   ]
  },
  {
   "cell_type": "code",
   "execution_count": 10,
   "metadata": {
    "vscode": {
     "languageId": "python"
    }
   },
   "outputs": [],
   "source": [
    "#| export \n",
    "def correspond_headings_with_folder(\n",
    "        index_note: VaultNote, vault: PathLike,\n",
    "        include_non_heading: bool = True) -> dict[str, str]:\n",
    "    \"\"\"\n",
    "    Return tuples of corresponding headings in an index note\n",
    "    with folder names.\n",
    "    \n",
    "    Assumes that each folder is titled\n",
    "    `'{alphanumeric}_{folder_title}'` and each heading is titled\n",
    "    `'{alphanumeric}. {heading_title}'`\n",
    "    \n",
    "    **Parameters**\n",
    "    - index_note - VaultNote\n",
    "    - vault - PathLike\n",
    "    - include_non_heading - bool\n",
    "        - If `True`, and if there is text before any heading, then treat\n",
    "        such text as being under a \"blank\" heading. Defaults to `True`.\n",
    "    \n",
    "    **Returns**\n",
    "    - dict[str, str]\n",
    "        - Each key is a str indexing the headings and folders. The keys\n",
    "        are usually alphanumerics (arabic or roman), depending on the\n",
    "        numbering system of chapters/sections of the reference/text.\n",
    "        The values are tuples `(folder_title, heading_title)` without \n",
    "        the alphanumeric. For the blank heading, the key/index, the folder title,\n",
    "        and the heading title are all the empty str.\n",
    "    \"\"\"\n",
    "    index = MarkdownFile.from_vault_note(index_note)\n",
    "    headings = index.get_headings(levels=1)\n",
    "    headings = [heading_title(heading) for heading in headings]\n",
    "    folders = subsection_folders(index_note, vault, output_type='name')\n",
    "    correspond_dict = {get_alphanumeric(heading, 'heading'): (heading, folder)\n",
    "                       for heading, folder in zip(headings, folders)}\n",
    "    # TODO do a better job at the conditional below; \n",
    "    # for example, consider the start of the text blank if it's just empty lines with spaces.\n",
    "    if (include_non_heading and index.parts\n",
    "            and index.parts[0]['type'] != MarkdownLineEnum.HEADING):\n",
    "        correspond_dict[''] = ('', '')\n",
    "    return correspond_dict\n",
    "    "
   ]
  },
  {
   "cell_type": "code",
   "execution_count": 11,
   "metadata": {
    "vscode": {
     "languageId": "python"
    }
   },
   "outputs": [
    {
     "name": "stdout",
     "output_type": "stream",
     "text": [
      "{'18.1': ('18.1. Some title', '181_some_title'), '18.2': ('18.2. Some other title', '182_some_other_title'), '18.3': ('18.3. Yet another title', '183_yet_another_title')}\n"
     ]
    }
   ],
   "source": [
    "mock_vault = Path('mock_absolute_path')\n",
    "mock_path =  mock_vault / Path('algebraic_geometry') / Path('some_reference') / Path('chapter_18_some_chapter')\n",
    "folders = ['181_some_title',\n",
    "    '182_some_other_title',\n",
    "    '183_yet_another_title']\n",
    "mock_glob_return_value = [str(mock_path / folder) for folder in folders]\n",
    "\n",
    "text = r\"\"\"# 18.1. Some title \n",
    "- [ ] [[some_reference 18.1|some_reference_some_alias]], 18.1, Page 300\n",
    "# 18.2. Some other title \n",
    "- [ ] [[some_reference 18.2]], 18.2, Page 305\n",
    "# 18.3. Yet another title \n",
    "- [ ] [[some_reference 18.3|]], 18.3, Page 308\n",
    "\"\"\"\n",
    "mock_index_file = MarkdownFile.from_string(text)\n",
    "\n",
    "with (mock.patch(\"__main__.glob.glob\", return_value=mock_glob_return_value),\n",
    "      mock.patch(\"trouver.markdown.markdown.file.MarkdownFile.from_vault_note\", return_value=mock_index_file)):\n",
    "\n",
    "    mock_index_note = VaultNote(rel_path = '_index_mock.md', vault=mock_vault)\n",
    "    # subsections_listed_in_index_note(mock_index_note, vault=mock_vault)\n",
    "    sample_output = correspond_headings_with_folder(mock_index_note, mock_vault)\n",
    "    print(sample_output)\n",
    "    test_eq(len(sample_output), 3)\n",
    "    for key, value in sample_output.items():\n",
    "        assert value[0].startswith(key)\n",
    "        assert value[1].startswith(key.replace('.', ''))"
   ]
  },
  {
   "cell_type": "code",
   "execution_count": null,
   "metadata": {
    "vscode": {
     "languageId": "python"
    }
   },
   "outputs": [],
   "source": []
  },
  {
   "cell_type": "markdown",
   "metadata": {},
   "source": [
    "## Move information notes to their appropriate folders.\n",
    "Sometimes, I end up creating information notes in the wrong folders. It would be nice to detect which ones are in the wrong folders and to move them appropriately."
   ]
  },
  {
   "cell_type": "code",
   "execution_count": 12,
   "metadata": {
    "vscode": {
     "languageId": "python"
    }
   },
   "outputs": [],
   "source": [
    "#| export\n",
    "def information_notes_linked_in_index_note(\n",
    "        index_note: VaultNote, # The note indexing the information notes.\n",
    "        vault: PathLike,\n",
    "        hints: list[PathLike] = None # Hints on where the information notes are likely to be found at.  Each path is relative to `vault` and points to a directory. Defaults to `None`.\n",
    "        ) -> dict[str, list[VaultNote]]: # Each key is the index for the heading (usually either an alphanumerical or a roman numerical). Each value is a list of the information notes linked in the index note.\n",
    "    \"\"\"Find information notes to be moved to the correct folder.\n",
    "    \n",
    "    Current implementation just looks at level 1 headings.\n",
    "    This function is used in `move_information_notes_to_correct_folder`.\n",
    "    Assumes that all notes in the vault have unique names.\n",
    "    \"\"\"\n",
    "    parent_folder = os.path.dirname(index_note.rel_path)\n",
    "    headings_folders = correspond_headings_with_folder(index_note, vault)\n",
    "    mf = MarkdownFile.from_vault_note(index_note)\n",
    "    headings_text = mf.get_headings_and_text(levels=1, include_start=True)\n",
    "    headings_text = {heading_title(heading): text for heading, text\n",
    "                     in headings_text.items()}\n",
    "    text_under_headings = {heading_index: headings_text[heading] \n",
    "                            for heading_index, (heading, _) in headings_folders.items()}\n",
    "    links_by_headings = {heading_index:links_from_text(text) for\n",
    "                         heading_index, text in text_under_headings.items()}\n",
    "    note_names_by_headings = {heading_index:[il.file_name for il in links] \n",
    "                              for heading_index, links in links_by_headings.items()}\n",
    "    # Find notes by headings, but also pass the folder corresponding to the heading\n",
    "    # as a hint of where to find the note for speedup, in case the note is \n",
    "    # already at the right place.\n",
    "    folders_by_index = {heading_index: Path(vault) / parent_folder / heading_folder \n",
    "                        for heading_index, (_, heading_folder) in headings_folders.items()}\n",
    "    if not hints:\n",
    "        hints = []\n",
    "    notes_by_headings = {heading_index: [VaultNote(vault, name=nn, hints=hints+[folders_by_index[heading_index]]) \n",
    "                                         for nn in note_names]\n",
    "                         for heading_index, note_names in note_names_by_headings.items()}\n",
    "    return notes_by_headings\n",
    "    "
   ]
  },
  {
   "cell_type": "code",
   "execution_count": null,
   "metadata": {
    "vscode": {
     "languageId": "python"
    }
   },
   "outputs": [],
   "source": []
  },
  {
   "cell_type": "code",
   "execution_count": 17,
   "metadata": {
    "vscode": {
     "languageId": "python"
    }
   },
   "outputs": [],
   "source": [
    "# TODO: finish example; first I want to change the VaultNote class so that its constructor runs\n",
    "# fine even if \n",
    "VaultNote.clear_cache()\n",
    "\n",
    "mock_vault = Path('mock_absolute_path')\n",
    "mock_path =  mock_vault / Path('algebraic_geometry') / Path('some_reference') / Path('chapter_18_some_chapter')\n",
    "folders = ['181_some_title',\n",
    "    '182_some_other_title',\n",
    "    '183_yet_another_title']\n",
    "mock_glob_return_value = [str(mock_path / folder) for folder in folders]\n",
    "\n",
    "mock_correspond_headings_with_folder_return_value = {\n",
    "  '18.1': ('18.1. Some title', '181_some_title'),\n",
    "  '18.2': ('18.2. Some other title', '182_some_other_title'),\n",
    "  '18.3': ('18.3. Yet another title', '183_yet_another_title')}\n",
    "\n",
    "text = r\"\"\"# 18.1. Some title \n",
    "- [ ] [[some_reference 18.1|some_reference_some_alias]], 18.1, Page 300\n",
    "- [ ] [[some_reference 18.1.1|another_alias]], 18.1.1, Page 300\n",
    "- [ ] [[some_reference 18.1.2]], 18.1.2, Page 301\n",
    "# 18.2. Some other title \n",
    "- [ ] [[some_reference 18.2]], 18.2, Page 305\n",
    "- [ ] [[some_reference 18.2.1]], 18.2.1, Page 306\n",
    "# 18.3. Yet another title \n",
    "- [ ] [[some_reference 18.3]], 18.3, Page 308\n",
    "- [ ] [[some_reference 18.3.1]], 18.3.1, Page 308\n",
    "\"\"\"\n",
    "\n",
    "mock_index_file = MarkdownFile.from_string(text)\n",
    "\n",
    "mock_index_note = VaultNote(rel_path = mock_path / '_index_18_some_index_note.md', vault=mock_vault)\n",
    "\n",
    "with (mock.patch(\"trouver.markdown.markdown.file.MarkdownFile.from_vault_note\", return_value=mock_index_file),\n",
    "      mock.patch(\"__main__.correspond_headings_with_folder\", return_value=mock_correspond_headings_with_folder_return_value),\n",
    "      # mock.patch(\"__main__.VaultNote\", side_effect=[None, None, None, None, None, None, None])\n",
    "      ):\n",
    "    sample_output = information_notes_linked_in_index_note(mock_index_note, mock_vault)\n",
    "    test_eq(len(sample_output), 3)\n",
    "    test_eq(len(sample_output['18.1']), 3)\n",
    "    test_eq(len(sample_output['18.2']), 2)\n",
    "    test_eq(sample_output['18.1'][0].name, 'some_reference 18.1')\n",
    "    test_eq(sample_output['18.2'][1].name, 'some_reference 18.2.1')\n"
   ]
  },
  {
   "cell_type": "code",
   "execution_count": null,
   "metadata": {
    "vscode": {
     "languageId": "python"
    }
   },
   "outputs": [],
   "source": []
  }
 ],
 "metadata": {
  "kernelspec": {
   "display_name": "Python 3.10.6 64-bit",
   "language": "python",
   "name": "python3"
  }
 },
 "nbformat": 4,
 "nbformat_minor": 2
}
