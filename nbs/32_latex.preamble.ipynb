{
 "cells": [
  {
   "cell_type": "markdown",
   "metadata": {},
   "source": [
    "# latex.preamble\n",
    "\n",
    "> Deal with the preamble of a LaTeX document"
   ]
  },
  {
   "cell_type": "code",
   "execution_count": null,
   "metadata": {},
   "outputs": [],
   "source": [
    "#| default_exp latex.preamble"
   ]
  },
  {
   "cell_type": "code",
   "execution_count": null,
   "metadata": {},
   "outputs": [],
   "source": [
    "#| export\n",
    "import re\n",
    "from os import PathLike\n",
    "from pathlib import Path\n",
    "import warnings"
   ]
  },
  {
   "cell_type": "code",
   "execution_count": null,
   "metadata": {},
   "outputs": [],
   "source": [
    "from trouver.helper.files_and_folders import text_from_file\n",
    "from trouver.helper.tests import _test_directory"
   ]
  },
  {
   "cell_type": "markdown",
   "metadata": {},
   "source": [
    "## Divide the preamble from the rest of the document"
   ]
  },
  {
   "cell_type": "markdown",
   "metadata": {},
   "source": [
    "Some macros and commands defined in the preamble seem to prevent the `pylatexenc` methods from properly identifying the document environment/node in a LaTeX document. To circumvent this, we define a function to divide the preamble from the rest of the document"
   ]
  },
  {
   "cell_type": "code",
   "execution_count": null,
   "metadata": {},
   "outputs": [],
   "source": [
    "#| export\n",
    "def divide_preamble(\n",
    "        text: str, # LaTeX document\n",
    "        document_environment_name: str = \"document\"\n",
    "        ) -> tuple[str, str]:\n",
    "    \"\"\"Divide the preamble from the rest of a LaTeX document.\n",
    "    \"\"\"\n",
    "    begin_environment_str = rf'\\begin{{{document_environment_name}}}'\n",
    "    pattern = re.compile(re.escape(begin_environment_str))\n",
    "    match = re.search(pattern, text) \n",
    "    start_match, end_match = match.span()\n",
    "    return text[:start_match], text[start_match:]\n",
    "\n",
    "    "
   ]
  },
  {
   "cell_type": "code",
   "execution_count": null,
   "metadata": {},
   "outputs": [],
   "source": [
    "latex_file_path = _test_directory() / 'latex_examples' / 'example_with_a_command_with_begin.tex'\n",
    "text = text_from_file(latex_file_path)\n",
    "\n",
    "preamble, document = divide_preamble(text)\n",
    "assert r'\\begin{displaymath}' in preamble\n",
    "assert r'Hyun Jong Kim' in preamble\n",
    "\n",
    "assert r'Hyun Jong Kim' not in document\n",
    "assert document.startswith(r'\\begin{document}')\n",
    "assert document.endswith('\\\\end{document}')"
   ]
  },
  {
   "cell_type": "markdown",
   "metadata": {},
   "source": [
    "## Include `.sty` file's content into preamble"
   ]
  },
  {
   "cell_type": "markdown",
   "metadata": {},
   "source": [
    "Writers often define custom commands in `.sty` files "
   ]
  },
  {
   "cell_type": "code",
   "execution_count": null,
   "metadata": {},
   "outputs": [],
   "source": [
    "#| export\n",
    "def replace_inclusion_of_style_file_with_code(\n",
    "        document: str,\n",
    "        dir: PathLike # The directory containing the style file.\n",
    "        ) -> str: # The modified document with style file inclusions replaced by their contents.\n",
    "    r\"\"\"\n",
    "    Replace style file inclusions in `document` with the code of the style files.\n",
    "\n",
    "    This function searches for occurrences of `\\usepackage{...}`, `\\input{...}`, \n",
    "    `\\import{...}{...}`, `\\includefrom{...}{...}`, and `\\subincludefrom{...}{...}`\n",
    "    and replaces them with the actual contents of the corresponding `.sty` files, if available.\n",
    "\n",
    "    \"\"\"\n",
    "    def replace_style_file(match):\n",
    "        command = match.group(1)  # Command type\n",
    "        if command in ['import', 'includefrom', 'subincludefrom']:\n",
    "            path = match.group(2)\n",
    "            filename = match.group(3)\n",
    "            file_path = Path(dir) / path / filename\n",
    "        else:\n",
    "            filename = match.group(2)\n",
    "            file_path = Path(dir) / filename\n",
    "        # Ensure we are only processing .sty files\n",
    "        if not file_path.suffix:\n",
    "            file_path = file_path.with_suffix('.sty')\n",
    "        \n",
    "        if file_path.suffix != '.sty':\n",
    "            # If it's not a .sty file, return the original command\n",
    "            return match.group(0)\n",
    "        # # Add .sty extension if not already present\n",
    "        # if not file_path.suffix:\n",
    "        #     file_path = file_path.with_suffix('.sty')\n",
    "        try:\n",
    "            # Read and return the contents of the style file\n",
    "            with open(file_path, 'r', encoding='utf-8') as file:\n",
    "                return f\"% Start of included style file: {file_path.name}\\n\" + file.read() + f\"\\n% End of included style file: {file_path.name}\"\n",
    "        except FileNotFoundError:\n",
    "            # If the file is not found, keep the original command and issue a warning\n",
    "            # if file_path.suffix == '.sty':\n",
    "            #     warnings.warn(f\"Style file {file_path} not found. Keeping original command.\", UserWarning)\n",
    "            return match.group(0)\n",
    "\n",
    "    # Regex pattern to match all relevant commands for style files\n",
    "    pattern = r'\\\\(usepackage|input)\\{([^}]+)\\}|\\\\(import|includefrom|subincludefrom)\\{([^}]+)\\}\\{([^}]+)\\}'\n",
    "    \n",
    "    # Replace all matches in the document\n",
    "    return re.sub(pattern, replace_style_file, document)"
   ]
  },
  {
   "cell_type": "markdown",
   "metadata": {},
   "source": [
    "The  `replace_inclusion_of_style_file_with_code` function substitutes the code in style files into the appropriate locations in a latex document."
   ]
  },
  {
   "cell_type": "code",
   "execution_count": null,
   "metadata": {},
   "outputs": [
    {
     "name": "stdout",
     "output_type": "stream",
     "text": [
      "\\documentclass{article}\n",
      "\n",
      "% Include a style file\n",
      "% Start of included style file: mystyle.sty\n",
      "% My custom style definitions\n",
      "\\newcommand{\\mystylecommand}[1]{\\textbf{#1}}\n",
      "\n",
      "% End of included style file: mystyle.sty\n",
      "\n",
      "\\begin{document}\n",
      "\n",
      "% Include a non-style file\n",
      "\\input{nonstylefile}\n",
      "\n",
      "\n",
      "Hello, world! This document uses styles defined in mystyle.sty.\n",
      "\n",
      "\\end{document}\n",
      "\n"
     ]
    },
    {
     "name": "stderr",
     "output_type": "stream",
     "text": [
      "C:\\Users\\hyunj\\AppData\\Local\\Temp\\ipykernel_2016\\2190002304.py:40: UserWarning: Style file c:\\Users\\hyunj\\Documents\\Development\\Python\\trouver\\nbs\\_tests\\latex_examples\\latex_example_with_style_file\\nonstylefile.sty not found. Keeping original command.\n",
      "  warnings.warn(f\"Style file {file_path} not found. Keeping original command.\", UserWarning)\n"
     ]
    }
   ],
   "source": [
    "latex_folder = _test_directory() / 'latex_examples' / 'latex_example_with_style_file'\n",
    "main_file = latex_folder / 'main.tex'\n",
    "with open(main_file, 'r', encoding='utf-8') as file:\n",
    "    document = file.read()\n",
    "output = replace_inclusion_of_style_file_with_code(document, latex_folder)\n",
    "# preamble, body = divide_preamble(document)\n",
    "# commands = custom_commands(preamble)\n",
    "print(output)"
   ]
  },
  {
   "cell_type": "markdown",
   "metadata": {},
   "source": [
    "It may be best practice to apply `replace_inclusion_of_styl_file_with_code` to the preamble of the document assuming that the latex document only includes style files in the preamble."
   ]
  },
  {
   "cell_type": "code",
   "execution_count": null,
   "metadata": {},
   "outputs": [
    {
     "name": "stdout",
     "output_type": "stream",
     "text": [
      "\\documentclass{article}\n",
      "\n",
      "% Include a style file\n",
      "% Start of included style file: mystyle.sty\n",
      "% My custom style definitions\n",
      "\\newcommand{\\mystylecommand}[1]{\\textbf{#1}}\n",
      "\n",
      "% End of included style file: mystyle.sty\n",
      "\n",
      "\n"
     ]
    }
   ],
   "source": [
    "latex_folder = _test_directory() / 'latex_examples' / 'latex_example_with_style_file'\n",
    "main_file = latex_folder / 'main.tex'\n",
    "with open(main_file, 'r', encoding='utf-8') as file:\n",
    "    document = file.read()\n",
    "preamble, body = divide_preamble(document)\n",
    "output = replace_inclusion_of_style_file_with_code(preamble, latex_folder)\n",
    "# commands = custom_commands(preamble)\n",
    "print(output)"
   ]
  },
  {
   "cell_type": "code",
   "execution_count": null,
   "metadata": {},
   "outputs": [],
   "source": []
  }
 ],
 "metadata": {
  "kernelspec": {
   "display_name": "trouver_py310_venv",
   "language": "python",
   "name": "trouver_py310_venv"
  }
 },
 "nbformat": 4,
 "nbformat_minor": 2
}
