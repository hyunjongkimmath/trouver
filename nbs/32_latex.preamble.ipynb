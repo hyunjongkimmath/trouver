{
 "cells": [
  {
   "cell_type": "markdown",
   "metadata": {},
   "source": [
    "# latex.preamble\n",
    "\n",
    "> Deal with the preamble of a LaTeX document"
   ]
  },
  {
   "cell_type": "code",
   "execution_count": null,
   "metadata": {},
   "outputs": [],
   "source": [
    "#| default_exp latex.preamble"
   ]
  },
  {
   "cell_type": "code",
   "execution_count": null,
   "metadata": {},
   "outputs": [],
   "source": [
    "#| export\n",
    "import re"
   ]
  },
  {
   "cell_type": "code",
   "execution_count": null,
   "metadata": {},
   "outputs": [],
   "source": [
    "from trouver.helper import _test_directory, text_from_file"
   ]
  },
  {
   "cell_type": "markdown",
   "metadata": {},
   "source": [
    "## Divide the preamble from the rest of the document"
   ]
  },
  {
   "cell_type": "markdown",
   "metadata": {},
   "source": [
    "Some macros and commands defined in the preamble seem to prevent the `pylatexenc` methods from properly identifying the document environment/node in a LaTeX document. To circumvent this, we define a function to divide the preamble from the rest of the document"
   ]
  },
  {
   "cell_type": "code",
   "execution_count": null,
   "metadata": {},
   "outputs": [],
   "source": [
    "#| export\n",
    "def divide_preamble(\n",
    "        text: str, # LaTeX document\n",
    "        document_environment_name: str = \"document\"\n",
    "        ) -> tuple[str, str]:\n",
    "    \"\"\"Divide the preamble from the rest of a LaTeX document.\n",
    "    \"\"\"\n",
    "    begin_environment_str = rf'\\begin{{{document_environment_name}}}'\n",
    "    pattern = re.compile(re.escape(begin_environment_str))\n",
    "    match = re.search(pattern, text) \n",
    "    start_match, end_match = match.span()\n",
    "    return text[:start_match], text[start_match:]\n",
    "\n",
    "    "
   ]
  },
  {
   "cell_type": "code",
   "execution_count": null,
   "metadata": {},
   "outputs": [],
   "source": [
    "latex_file_path = _test_directory() / 'latex_examples' / 'example_with_a_command_with_begin.tex'\n",
    "text = text_from_file(latex_file_path)\n",
    "\n",
    "preamble, document = divide_preamble(text)\n",
    "assert r'\\begin{displaymath}' in preamble\n",
    "assert r'Hyun Jong Kim' in preamble\n",
    "\n",
    "assert r'Hyun Jong Kim' not in document\n",
    "assert document.startswith(r'\\begin{document}')\n",
    "assert document.endswith('\\\\end{document}')"
   ]
  },
  {
   "cell_type": "code",
   "execution_count": null,
   "metadata": {},
   "outputs": [],
   "source": []
  }
 ],
 "metadata": {
  "kernelspec": {
   "display_name": "trouver_py310_venv",
   "language": "python",
   "name": "trouver_py310_venv"
  }
 },
 "nbformat": 4,
 "nbformat_minor": 2
}
