{
 "cells": [
  {
   "cell_type": "code",
   "execution_count": null,
   "metadata": {},
   "outputs": [],
   "source": [
    "#| default_exp helper.definition_and_notation"
   ]
  },
  {
   "cell_type": "markdown",
   "metadata": {},
   "source": [
    "# helper.definition_and_notation\n",
    "> Functions that deal with definitions and notations\n",
    "\n",
    "Note that the functions in this module will be deprecated --- the standard of trouver for marking definitions and notations is now via HTML tags, not by surrounding double asterisks `**`."
   ]
  },
  {
   "cell_type": "code",
   "execution_count": null,
   "metadata": {},
   "outputs": [],
   "source": [
    "#| export\n",
    "from trouver.helper.regex import find_regex_in_text"
   ]
  },
  {
   "cell_type": "code",
   "execution_count": null,
   "metadata": {},
   "outputs": [],
   "source": [
    "import operator\n",
    "from fastcore.test import *"
   ]
  },
  {
   "cell_type": "markdown",
   "metadata": {},
   "source": [
    "## Definitions and notations"
   ]
  },
  {
   "cell_type": "markdown",
   "metadata": {},
   "source": [
    "I surround definitions and notations by double asterisks `**`. The `double_asterisk_indices` method finds strings surrounded by double asterisks, the `notation_asterisk_indices` method finds notation str, and the `definition_asterisk_indices` method finds definition str."
   ]
  },
  {
   "cell_type": "code",
   "execution_count": null,
   "metadata": {},
   "outputs": [],
   "source": [
    "#| export\n",
    "def double_asterisk_indices(\n",
    "        text: str # the str in which to find the indices of double asterisk surrounded text.\n",
    "        ) -> list[tuple[int, int]]: # Each tuple is of the form `(start,end)`, where `text[start:end]` is a part in `text` with double asterisks, including the double asterisks.\n",
    "    # TODO: fix double asterisks in math mode.\n",
    "    \"\"\"Return the indices in `str` of text surrounded by double asterisks.\n",
    "    \n",
    "    Assumes there no LaTeX math mode string has double asterisks.\n",
    "\n",
    "    **See Also**\n",
    "    \n",
    "    - `notation_asterisk_indices`\n",
    "    - `definition_asterisk_indices`\n",
    "    \"\"\"\n",
    "    return find_regex_in_text(text, pattern=r'\\*\\*[^*]+\\*\\*')\n",
    "\n"
   ]
  },
  {
   "cell_type": "code",
   "execution_count": null,
   "metadata": {},
   "outputs": [
    {
     "data": {
      "text/plain": [
       "[(0, 8)]"
      ]
     },
     "execution_count": null,
     "metadata": {},
     "output_type": "execute_result"
    }
   ],
   "source": [
    "# |hide\n",
    "# Test double asterisks in math mode.\n",
    "text = r\"**$M^{**}$**\"  # I would like this to get the entire string, but currently, this is not the case.\n",
    "double_asterisk_indices(text)"
   ]
  },
  {
   "cell_type": "code",
   "execution_count": null,
   "metadata": {},
   "outputs": [],
   "source": [
    "#| export\n",
    "def notation_asterisk_indices(\n",
    "        text: str # the str in which to find the indices of notations surrounded by double asterisks.\n",
    "        ) -> list[tuple[int, int]]: # Each tuple is of the form `(start,end)`, where `text[start:end]` is a part in `text` with LaTeX math mode text with double asterisks, including the double asterisks.\n",
    "    \"\"\"Return the indices of notation text surrounded by double asterisks.\n",
    "    \n",
    "    A double-asterisk-surrounded-text is a notation almost always\n",
    "    when it is purely LaTeX math mode text. \n",
    "\n",
    "    Assumes that no LaTeX math mode string has the dollar sign character\n",
    "    within it.\n",
    "    \"\"\"\n",
    "    return find_regex_in_text(\n",
    "        text, pattern=r'\\*\\*\\$\\$[^$]+\\$\\$\\*\\*|\\*\\*\\$[^$]+\\$\\*\\*')\n",
    "    # I previous used this, but it was not picking up notation LaTeX str\n",
    "    # containing asterisks, e.g. `**$\\pi^*$**``, `**$\\pi_*$**`.`\n",
    "    # return find_regex_in_text(\n",
    "    #     text, pattern='\\*\\*\\$\\$[^*$]+\\$\\$\\*\\*|\\*\\*\\$[^*$]+\\$\\*\\*')\n",
    "\n",
    "\n",
    "def definition_asterisk_indices(\n",
    "        text: str # The str in which to find the indices of the definitions surrounded by double asterisks.\n",
    "        ) -> list[tuple[int, int]]: # Each tuple is of the form `(start,end)`, where `text[start:end]` is a substring in `text` surrounded by double asterisks, including the double asterisks.\n",
    "    r\"\"\"Return the indices of definition text surrounded by double asterisks.\n",
    "    \n",
    "    A double-asterisk-surrounded-text is a definition almost always\n",
    "    when it is not purely LaTeX math mode text.\n",
    "    \n",
    "    Assumes that no LaTeX math mode string has double asterisks and that no\n",
    "    LaTeX math mode string has the dollar sign character within it.\n",
    "    \"\"\"\n",
    "    all_double_asterisks = double_asterisk_indices(text)\n",
    "    notations = notation_asterisk_indices(text)\n",
    "    return [tuppy for tuppy in all_double_asterisks if tuppy not in notations]"
   ]
  },
  {
   "cell_type": "markdown",
   "metadata": {},
   "source": [
    "#### Examples"
   ]
  },
  {
   "cell_type": "markdown",
   "metadata": {},
   "source": [
    "In the following example, `scheme` and `structure sheaf` are definitions, whereas `$\\mathcal{O}_X$` is a notation:"
   ]
  },
  {
   "cell_type": "code",
   "execution_count": null,
   "metadata": {},
   "outputs": [
    {
     "name": "stdout",
     "output_type": "stream",
     "text": [
      "[(2, 12), (25, 44)]\n"
     ]
    },
    {
     "name": "stderr",
     "output_type": "stream",
     "text": [
      "<>:11: SyntaxWarning: invalid escape sequence '\\m'\n",
      "<>:15: SyntaxWarning: invalid escape sequence '\\m'\n",
      "<>:11: SyntaxWarning: invalid escape sequence '\\m'\n",
      "<>:15: SyntaxWarning: invalid escape sequence '\\m'\n",
      "C:\\Users\\hyunj\\AppData\\Local\\Temp\\ipykernel_9044\\3923368571.py:11: SyntaxWarning: invalid escape sequence '\\m'\n",
      "  test_eq(text[start:end], '**$\\mathcal{O}_X$**')\n",
      "C:\\Users\\hyunj\\AppData\\Local\\Temp\\ipykernel_9044\\3923368571.py:15: SyntaxWarning: invalid escape sequence '\\m'\n",
      "  test_eq(text[start:end], '**$\\mathcal{O}_X$**')\n"
     ]
    }
   ],
   "source": [
    "text = r'A **scheme** is a... the **structure sheaf** of a scheme $X$ is the sheaf **$\\mathcal{O}_X$**.'\n",
    "listy = double_asterisk_indices(text)\n",
    "\n",
    "start, end = listy[0]\n",
    "test_eq(text[start:end], '**scheme**')\n",
    "\n",
    "start, end = listy[1]\n",
    "test_eq(text[start:end], '**structure sheaf**')\n",
    "\n",
    "start, end = listy[2]\n",
    "test_eq(text[start:end], '**$\\mathcal{O}_X$**')\n",
    "\n",
    "listy = notation_asterisk_indices(text)\n",
    "start, end = listy[0]\n",
    "test_eq(text[start:end], '**$\\mathcal{O}_X$**')\n",
    "test_eq(len(listy), 1)\n",
    "\n",
    "listy = definition_asterisk_indices(text)\n",
    "print(listy)\n",
    "test_eq(len(listy), 2)\n",
    "\n"
   ]
  },
  {
   "cell_type": "markdown",
   "metadata": {},
   "source": [
    "The following example has a definition which starts and ends with dollar sign `$` characters:"
   ]
  },
  {
   "cell_type": "code",
   "execution_count": null,
   "metadata": {},
   "outputs": [],
   "source": [
    "text = r'A **$G$-group over a ring $A$** is'\n",
    "listy = notation_asterisk_indices(text)\n",
    "test_eq(len(listy), 0)\n",
    "\n",
    "listy = definition_asterisk_indices(text)\n",
    "test(len(listy), 0, operator.ge)"
   ]
  },
  {
   "cell_type": "markdown",
   "metadata": {},
   "source": [
    "The following example tests `notation_asterisk_indices` for LaTeX str with single asterisks in them:"
   ]
  },
  {
   "cell_type": "code",
   "execution_count": null,
   "metadata": {},
   "outputs": [],
   "source": [
    "# Tests LaTeX str with asterisks in them:\n",
    "text = (r'''The **direct image of a sheaf $F^{\\prime}$ on $X_{E}^{\\prime}$** '''\n",
    "        r'''is defined to be **$\\pi_{*} F^{\\prime}=\\pi_{p} F^{\\prime}$** and the '''\n",
    "        r'''**inverse image of a sheaf $F$ on $X_{E}$** is defined to be **$\\pi^{*} F=a\\left(\\pi^{p} F\\right)$**.''')\n",
    "listy = notation_asterisk_indices(text)\n",
    "test_eq(len(listy), 2)\n",
    "start, end = listy[0]\n",
    "test_eq(text[start:end], r'**$\\pi_{*} F^{\\prime}=\\pi_{p} F^{\\prime}$**')"
   ]
  },
  {
   "cell_type": "markdown",
   "metadata": {},
   "source": [
    "There are pure LaTeX strings which should be considered definitions, but for the purposes of the code here will be considered notations. For example, Hausdorff spaces in topology are also called $T_2$ spaces:"
   ]
  },
  {
   "cell_type": "code",
   "execution_count": null,
   "metadata": {},
   "outputs": [],
   "source": [
    "text = (r\"A topological space $X$ is called **$T_2$** if for all $x,y \\in X$, \"\n",
    "        r\"there exist open neightborhoods $V$ and $W$ around $x$ and $y$ respectively \"\n",
    "        r\"such that $V \\cap W = 0$.\")\n",
    "listy = notation_asterisk_indices(text)\n",
    "test_eq(text[listy[0][0]:listy[0][1]], r'**$T_2$**')"
   ]
  },
  {
   "cell_type": "markdown",
   "metadata": {},
   "source": [
    "Unfortunately, the current implementation of the above methods do not work correctly if there are LaTeX string with double asterisks `**` within them."
   ]
  },
  {
   "cell_type": "code",
   "execution_count": null,
   "metadata": {},
   "outputs": [
    {
     "name": "stdout",
     "output_type": "stream",
     "text": [
      "The `definition_asterisk_indices` function detects the substring **$M^{** as a definition. This is incorrect!\n",
      "The `notation_asterisk_indices` function detects the substring **$M^{**}$** as a notation. I guess this is correct.\n"
     ]
    }
   ],
   "source": [
    "# TODO: If this is fixed, delete this.\n",
    "text = r'The double dual of $M$ is denoted by **$M^{**}$**.'\n",
    "listy = definition_asterisk_indices(text)\n",
    "print(f\"The `definition_asterisk_indices` function detects the substring {text[listy[0][0]:listy[0][1]]} as a definition. This is incorrect!\")\n",
    "\n",
    "listy = notation_asterisk_indices(text)\n",
    "print(f\"The `notation_asterisk_indices` function detects the substring {text[listy[0][0]:listy[0][1]]} as a notation. I guess this is correct.\")"
   ]
  },
  {
   "cell_type": "markdown",
   "metadata": {},
   "source": [
    "A workaround is to replace asterisks `*` with the LaTeX `\\ast` command:"
   ]
  },
  {
   "cell_type": "code",
   "execution_count": null,
   "metadata": {},
   "outputs": [],
   "source": [
    "text = r'The double dual of $M$ is denoted by **$M^{\\ast\\ast}$**.'\n",
    "listy = definition_asterisk_indices(text)\n",
    "test_eq(len(listy), 0)\n",
    "\n",
    "listy = notation_asterisk_indices(text)\n",
    "test_eq(len(listy), 1)\n",
    "test_eq(text[listy[0][0]:listy[0][1]], r'**$M^{\\ast\\ast}$**')"
   ]
  },
  {
   "cell_type": "code",
   "execution_count": null,
   "metadata": {},
   "outputs": [],
   "source": [
    "#| export\n",
    "def defs_and_notats_separations(\n",
    "        text: str \n",
    "        )-> list[tuple[int, bool]]:\n",
    "    \"\"\"Finds the indices in the text where double asterisks occur and\n",
    "    categorizes whether each index is for a definition or a notation.\n",
    "    \n",
    "    **Parameters**\n",
    "\n",
    "    - text - str\n",
    "\n",
    "    **Returns**\n",
    "\n",
    "    - list[tuple[int, bool]]\n",
    "        - Each tuple is of the form `(start, end, is_notation)`, where\n",
    "        `text[start:end]` is the double-asterisk surrounded string,\n",
    "        including the double asterisks.\n",
    "    \"\"\"\n",
    "    all_double_asterisks = double_asterisk_indices(text)\n",
    "    notations = notation_asterisk_indices(text)\n",
    "    return [(start, end, (start, end) in notations)\n",
    "            for start, end in all_double_asterisks]"
   ]
  },
  {
   "cell_type": "markdown",
   "metadata": {},
   "source": [
    "In the following example, the first two double-asterisk-surrounded-strings are definitions, and the third is a notation:"
   ]
  },
  {
   "cell_type": "code",
   "execution_count": null,
   "metadata": {},
   "outputs": [],
   "source": [
    "text = r'A **scheme** is a... the **structure sheaf** of a scheme $X$ is the sheaf **$\\mathcal{O}_X$**.'\n",
    "listy = defs_and_notats_separations(text)\n",
    "assert not listy[0][2]\n",
    "assert not listy[1][2]\n",
    "assert listy[2][2]"
   ]
  }
 ],
 "metadata": {
  "kernelspec": {
   "display_name": "python3",
   "language": "python",
   "name": "python3"
  }
 },
 "nbformat": 4,
 "nbformat_minor": 2
}
