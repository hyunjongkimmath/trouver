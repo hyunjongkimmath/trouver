{
 "cells": [
  {
   "cell_type": "code",
   "execution_count": null,
   "metadata": {},
   "outputs": [],
   "source": [
    "#| default_exp markdown.obsidian.personal.machine_learning.notation_summarization"
   ]
  },
  {
   "cell_type": "markdown",
   "metadata": {},
   "source": [
    "# markdown.obsidian.personal.machine_learning.notation_summarization\n",
    "> Functions for summarizing notations"
   ]
  },
  {
   "cell_type": "markdown",
   "metadata": {},
   "source": [
    "In `markdown.obsidian.personal.machine_learning.notation_identification`, we defined functions to gather ML data to identify notations and functions to use an ML model to predict where notations are defined. In `how_to.train_ml_model`, we showed how to train this ML model from the data. `markdown.obsidian.personal.notation` also has some functions to create and interact with notation notes.\n",
    "\n",
    "It would be further convenient to train an ML model to summarize details about notations. This module defines functions to gather data to train such a model."
   ]
  },
  {
   "cell_type": "code",
   "execution_count": null,
   "metadata": {},
   "outputs": [],
   "source": [
    "#| export\n",
    "import os\n",
    "from os import PathLike\n",
    "from typing import Union\n",
    "\n",
    "import pandas as pd\n",
    "\n",
    "from trouver.helper import current_time_formatted_to_minutes\n",
    "from trouver.markdown.markdown.file import MarkdownFile\n",
    "from trouver.markdown.obsidian.personal.machine_learning.database_update import append_to_database\n",
    "from trouver.markdown.obsidian.personal.note_processing import process_standard_information_note\n",
    "from trouver.markdown.obsidian.personal.notation import parse_notation_note\n",
    "from trouver.markdown.obsidian.personal.note_type import note_is_of_type\n",
    "from trouver.markdown.obsidian.vault import VaultNote"
   ]
  },
  {
   "cell_type": "code",
   "execution_count": null,
   "metadata": {},
   "outputs": [],
   "source": []
  },
  {
   "cell_type": "code",
   "execution_count": null,
   "metadata": {},
   "outputs": [],
   "source": [
    "from unittest import mock\n",
    "import shutil\n",
    "import tempfile\n",
    "\n",
    "from fastcore.test import *\n",
    "# from torch import Tensor\n",
    "\n",
    "from trouver.helper import _test_directory"
   ]
  },
  {
   "cell_type": "code",
   "execution_count": null,
   "metadata": {},
   "outputs": [],
   "source": []
  },
  {
   "cell_type": "markdown",
   "metadata": {},
   "source": [
    "# Gather ML data from notation notes"
   ]
  },
  {
   "cell_type": "code",
   "execution_count": null,
   "metadata": {},
   "outputs": [],
   "source": [
    "#| export\n",
    "def notation_summarization_data_from_note(\n",
    "        notation_note: VaultNote,\n",
    "        vault: PathLike\n",
    "        ) -> Union[dict[str, str], None]: # The keys to the dict are \"Notation note name\", \"Notation\", \"Latex in oiriginal\", \"Summary\" The \n",
    "    \"\"\"Obtain notation summzarization data from the notation note\n",
    "    if the notation is determined to have been summarized and if\n",
    "    the main note of the notation note exists.\n",
    "\n",
    "    The notion of whether the notation \"has been summarized\" is not\n",
    "    exactly implemented, but should be sufficient for gathering\n",
    "    data.\n",
    "\n",
    "    TODO: there are some notation notes drawing information from\n",
    "    multiple notes; separate text in notation notes corresponding\n",
    "    to each note.\n",
    "\n",
    "    **Returns**\n",
    "\n",
    "    - Union[dict[str, str], None]\n",
    "\n",
    "        - If the notation note is determined to have been summarized\n",
    "          (i.e. contains text beyond `<notation> denotes ` and does not\n",
    "          have the `#_meta/TODO` tag) then the output is a `dict` whose\n",
    "          key-value pairs are\n",
    "            - `\"Notation note name\"` - The name of the notation note\n",
    "            - `\"Notation\"` - The notation of the note\n",
    "            - `\"Latex in original\"' - The entry of the `latex_in_original`\n",
    "              field of the note if available, cf. `make_a_notation_note`\n",
    "            - `\"Summary\"` - The summary of the notation.\n",
    "            - `\"Main note name\"` - The name of the main note of the\n",
    "              notation note\n",
    "            - `\"Processed main note contents\"` - The processed contents of the\n",
    "              main note\n",
    "        - Otherwise, the output is `None.\n",
    "    \"\"\"\n",
    "    metadata, notation_str, main_of_notation, main_mf, _ = parse_notation_note(notation_note, vault)\n",
    "    if not _notation_has_been_summarized(main_mf):\n",
    "        return None\n",
    "\n",
    "    if metadata is not None and 'latex_in_original' in metadata:\n",
    "        latex_in_original = metadata['latex_in_original']\n",
    "        if isinstance(latex_in_original, list):\n",
    "            latex_in_original = latex_in_original[0]\n",
    "    else:\n",
    "        latex_in_original = None\n",
    "\n",
    "    process_standard_information_note(main_mf, vault)\n",
    "    processed_summary = str(main_mf)\n",
    "\n",
    "    if main_of_notation is None:\n",
    "      return None\n",
    "    main_note = VaultNote(vault, name=main_of_notation)\n",
    "    if not main_note.exists():\n",
    "        return None\n",
    "    main_note_mf = MarkdownFile.from_vault_note(main_note)\n",
    "    process_standard_information_note(main_note_mf, vault)\n",
    "\n",
    "    return {\"Notation note name\": notation_note.name,\n",
    "            \"Notation\": notation_str,\n",
    "            \"Latex in original\": latex_in_original,\n",
    "            \"Summary\": processed_summary,\n",
    "            \"Main note name\": main_of_notation,\n",
    "            \"Processed main note contents\": str(main_note_mf)}\n",
    "\n",
    "\n",
    "def _notation_has_been_summarized(\n",
    "        main_mf: VaultNote\n",
    "        ) -> bool:\n",
    "    text = str(main_mf).strip()\n",
    "    return len(text) > 0 and '#_meta/TODO' not in text\n"
   ]
  },
  {
   "cell_type": "code",
   "execution_count": null,
   "metadata": {},
   "outputs": [],
   "source": [
    "vault = _test_directory() / 'test_vault_7'\n",
    "notation_note = VaultNote(vault, name='some_reference_name_notation_Spec_A') \n",
    "sample_output = notation_summarization_data_from_note(notation_note, vault)\n",
    "\n",
    "del sample_output['Processed main note contents']\n",
    "\n",
    "test_eq(sample_output,\n",
    "    {'Notation note name': 'some_reference_name_notation_Spec_A',\n",
    "     'Notation': '$\\\\operatorname{Spec} A$',\n",
    "     'Latex in original': '\\\\operatorname{Spec} A',\n",
    "     'Summary': 'the spectrum of the ring $A$.',\n",
    "     'Main note name': 'spectrum_of_a_ring',\n",
    "     # 'Processed main note contents': 'Let $A$ be a ring.\\n\\nThe Spectrum $\\\\operatorname{Spec} A$ is the set of prime ideals of $A$. It is equipped with a topology, called the Zariski topology in which the followings sets, called the distinguished open subsets of $\\\\operatorname{Spec} A$, give a base for the topology:\\n\\n$$D(f) = \\\\{\\\\mathfrak{p} \\\\in \\\\operatorname{Spec} A: f \\\\not\\\\in \\\\mathfrak{p} \\\\}.$$\\n'}\n",
    "    })"
   ]
  },
  {
   "cell_type": "markdown",
   "metadata": {},
   "source": [
    "If the \"main\" note of the notation note cannot be identified, then `notation_summarization_data_from_note` returns `None`:"
   ]
  },
  {
   "cell_type": "code",
   "execution_count": null,
   "metadata": {},
   "outputs": [],
   "source": [
    "# vault = _test_directory() / 'test_vault_7'\n",
    "# notation_note = VaultNote(vault, name='some_reference_name_notation_B_R') \n",
    "# test_eq(notation_summarization_data_from_note(notation_note, vault), None)\n",
    "\n",
    "# TODO: example of a notation note which has a main not, but the main note does not exist\n",
    "# TODO: example of a notation note without a main note at all."
   ]
  },
  {
   "cell_type": "code",
   "execution_count": null,
   "metadata": {},
   "outputs": [],
   "source": [
    "# TODO: example with embedded links"
   ]
  },
  {
   "cell_type": "code",
   "execution_count": null,
   "metadata": {},
   "outputs": [],
   "source": [
    "# TODO: example of a notation note without any metadata"
   ]
  },
  {
   "cell_type": "code",
   "execution_count": null,
   "metadata": {},
   "outputs": [],
   "source": []
  },
  {
   "cell_type": "code",
   "execution_count": null,
   "metadata": {},
   "outputs": [],
   "source": [
    "#| export\n",
    "def gather_notation_note_summaries(\n",
    "        vault: PathLike,\n",
    "        notes: list[VaultNote]\n",
    "        ) -> pd.DataFrame: # Has columns `Time added`, `Time modified`, `Notation note name`, `Notation`, `Latex in original`, 'Summary', 'Main note name', and 'Processed main note contents'. \n",
    "    \"\"\"\n",
    "    Return a `pandas.DataFrame` encapsulating the data of notation note\n",
    "    summaries.\n",
    "\n",
    "    cf. \n",
    "    \"\"\"\n",
    "    summary_data = [\n",
    "        notation_summarization_data_from_note(note, vault) for note in notes]\n",
    "    summary_data = [row for row in summary_data if row is not None]\n",
    "    current_time = current_time_formatted_to_minutes()\n",
    "    for row in summary_data:\n",
    "        row['Time added'] = current_time\n",
    "        row['Time modified'] = current_time\n",
    "    return pd.DataFrame(summary_data)\n",
    "    "
   ]
  },
  {
   "cell_type": "code",
   "execution_count": null,
   "metadata": {},
   "outputs": [],
   "source": [
    "# TODO: example"
   ]
  },
  {
   "cell_type": "code",
   "execution_count": null,
   "metadata": {},
   "outputs": [],
   "source": [
    "# TODO: example verifying that outputs of `None` from `notation_summarization_data_from_note`\n",
    "# are weeded out."
   ]
  },
  {
   "cell_type": "markdown",
   "metadata": {},
   "source": [
    "# Use ML model to fill in notation notes"
   ]
  },
  {
   "cell_type": "code",
   "execution_count": null,
   "metadata": {},
   "outputs": [],
   "source": [
    "#| export\n",
    "def append_to_notation_note_summarization_database(\n",
    "        vault: PathLike, # The vault freom which the data is drawn\n",
    "        file: PathLike, # The path to a CSV file\n",
    "        notes: list[VaultNote], # the notation notes to consider adding to the database. \n",
    "        backup: bool = True # If `True`, makes a copy of `file` in the same directory and with the same name, except with an added extension of `.bak`.\n",
    "        ) -> None:\n",
    "    \"\"\"\n",
    "    Either create a `csv` file containing data for information note type\n",
    "    labels or append to an existing `csv` file.\n",
    "\n",
    "    The columns of the database file are as follows:\n",
    "\n",
    "    - `Time added` - The time when the row was added.\n",
    "    - `Time modified` - The time when the labels of the row \n",
    "    - `Notation note name` - The name of the note from which the data for the row\n",
    "      was derived.\n",
    "    - 'Notation' - The notation which is being summarized\n",
    "    - 'Latex in original' - The entry of the `latex_in_original` field of the\n",
    "      note if available, cf. `make_a_notation_note`\n",
    "    - `\"Summary\"` - The summary of the notation.\n",
    "    - `\"Main note name\"` - The name of the main note of the\n",
    "      notation note\n",
    "    - `\"Processed main note contents\"` - The processed contents of the\n",
    "      main note\n",
    "\n",
    "    All timestamps are in UTC time and specify time to minutes\n",
    "    (i.e. no seconds/microseconds).\n",
    "    \n",
    "    TODO: implement updating rows and rewrite the next paragraph to\n",
    "    accurately reflect the implementation. I would like the 'Notation', 'Latex in original',\n",
    "    'Summary', 'processed main note contents' to be the \"pivot_cols\"\n",
    "\n",
    "    If a \"new\" note has the same processed content as a pre-existing\n",
    "    note and anything is different about the \"new\" note, then update\n",
    "    the row of the existing note. In particular, the following are updated:\n",
    "    - Time modified (set to current time)\n",
    "    - Notation (overwritten)\n",
    "    - Latex in original (overwritten)\n",
    "    - Summary (overwritten)\n",
    "    - Main note name (overwritten)\n",
    "    - Processed main note contents (overwritten)\n",
    "    \n",
    "    This method assumes that all the processed content in the\n",
    "    CSV file are all distinct if the CSV file exists.\n",
    "    \"\"\"\n",
    "    if not notes:\n",
    "        return\n",
    "        file = Path(file)\n",
    "    df = pd.read_csv(file) if os.path.exists(file) else None\n",
    "    # start_ID_from = max_ID(df) + 1 if not df is None else 1\n",
    "    new_df = gather_notation_note_summaries(vault, notes)\n",
    "    cols = [\n",
    "        'Time added', 'Time modified', 'Notation note name',\n",
    "        'Notation', 'Latex in original', 'Summary', 'Main note name',\n",
    "        'Processed main note contents']\n",
    "    cols_to_update = [\n",
    "      'Time modified', 'Notation note name', 'Notation', 'Latex in original', 'Summary', 'Main note name']\n",
    "    append_to_database(\n",
    "        file, new_df, cols, 'Processed main note contents', cols_to_update, backup)"
   ]
  },
  {
   "cell_type": "code",
   "execution_count": null,
   "metadata": {},
   "outputs": [],
   "source": [
    "# TODO basic example"
   ]
  },
  {
   "cell_type": "code",
   "execution_count": null,
   "metadata": {},
   "outputs": [],
   "source": [
    "# TODO: example of appending instead of making an entirely new CSV file"
   ]
  },
  {
   "cell_type": "markdown",
   "metadata": {},
   "source": [
    "> "
   ]
  }
 ],
 "metadata": {
  "kernelspec": {
   "display_name": "trouver_py310_venv",
   "language": "python",
   "name": "trouver_py310_venv"
  }
 },
 "nbformat": 4,
 "nbformat_minor": 2
}
