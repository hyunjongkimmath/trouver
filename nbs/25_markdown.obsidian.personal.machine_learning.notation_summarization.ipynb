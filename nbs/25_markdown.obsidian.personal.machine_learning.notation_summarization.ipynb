{
 "cells": [
  {
   "cell_type": "code",
   "execution_count": null,
   "metadata": {},
   "outputs": [],
   "source": [
    "#| default_exp markdown.obsidian.personal.machine_learning.notation_summarization"
   ]
  },
  {
   "cell_type": "markdown",
   "metadata": {},
   "source": [
    "# markdown.obsidian.personal.machine_learning.notation_summarization\n",
    "> Functions for summarizing notations"
   ]
  },
  {
   "cell_type": "markdown",
   "metadata": {},
   "source": [
    "In `markdown.obsidian.personal.machine_learning.notation_identification`, we defined functions to gather ML data to identify notations and functions to use an ML model to predict where notations are defined. In `how_to.train_ml_model`, we showed how to train this ML model from the data. `markdown.obsidian.personal.notation` also has some functions to create and interact with notation notes.\n",
    "\n",
    "It would be further convenient to train an ML model to summarize details about notations. This module defines functions to gather data to train such a model."
   ]
  },
  {
   "cell_type": "code",
   "execution_count": null,
   "metadata": {},
   "outputs": [],
   "source": [
    "#| export\n",
    "from os import PathLike\n",
    "\n",
    "from trouver.markdown.obsidian.vault import VaultNote"
   ]
  },
  {
   "cell_type": "code",
   "execution_count": null,
   "metadata": {},
   "outputs": [],
   "source": [
    "import os\n",
    "from unittest import mock\n",
    "import shutil\n",
    "import tempfile\n",
    "\n",
    "from fastcore.test import *\n",
    "# from torch import Tensor\n",
    "\n",
    "from trouver.helper import _test_directory\n",
    "from trouver.markdown.obsidian.personal.note_type import note_is_of_type"
   ]
  },
  {
   "cell_type": "code",
   "execution_count": null,
   "metadata": {},
   "outputs": [],
   "source": [
    "from pathvalidate import validate_filename "
   ]
  },
  {
   "cell_type": "markdown",
   "metadata": {},
   "source": [
    "# Gather ML data from notation notes"
   ]
  },
  {
   "cell_type": "code",
   "execution_count": null,
   "metadata": {},
   "outputs": [],
   "source": [
    "#| export\n",
    "def notation_summarization_data_from_note(\n",
    "        notation_note: VaultNote,\n",
    "        vault: PathLike\n",
    "        ) -> dict[str, str]: # The keys to the dict are \"Notation note name\", \"Notation\", \"Latex in oiriginal\", \"Summary\"\n",
    "    \"\"\"Obtain notation summzarization data from the notation note\n",
    "    if the notation is determined to have been summarized and if\n",
    "    the main note of the notation note exists.\n",
    "\n",
    "    \"\"\"\n",
    "    return\n"
   ]
  },
  {
   "cell_type": "markdown",
   "metadata": {},
   "source": [
    "# Use ML model to fill in notation notes"
   ]
  },
  {
   "cell_type": "markdown",
   "metadata": {},
   "source": [
    "> "
   ]
  }
 ],
 "metadata": {
  "kernelspec": {
   "display_name": "trouver_py310_venv",
   "language": "python",
   "name": "trouver_py310_venv"
  }
 },
 "nbformat": 4,
 "nbformat_minor": 2
}
