{
 "cells": [
  {
   "cell_type": "code",
   "execution_count": null,
   "metadata": {},
   "outputs": [],
   "source": [
    "#| default_exp markdown.obsidian.personal.machine_learning.notation_summarization"
   ]
  },
  {
   "cell_type": "markdown",
   "metadata": {},
   "source": [
    "# markdown.obsidian.personal.machine_learning.notation_summarization\n",
    "> Functions for summarizing notations"
   ]
  },
  {
   "cell_type": "markdown",
   "metadata": {},
   "source": [
    "In `markdown.obsidian.personal.machine_learning.notation_identification`, we defined functions to gather ML data to identify notations and functions to use an ML model to predict where notations are defined. In `how_to.train_ml_model.fastai`, we showed how to train this ML model from the data. `markdown.obsidian.personal.notation` also has some functions to create and interact with notation notes.\n",
    "\n",
    "It would be further convenient to train an ML model to summarize details about notations. This module defines functions to gather data to train such a model."
   ]
  },
  {
   "cell_type": "code",
   "execution_count": null,
   "metadata": {},
   "outputs": [],
   "source": [
    "#| export\n",
    "import os\n",
    "from os import PathLike\n",
    "from pathlib import Path\n",
    "import re\n",
    "from typing import Optional, Union\n",
    "\n",
    "import pandas as pd\n",
    "from transformers import pipeline, pipelines\n",
    "\n",
    "from trouver.helper import current_time_formatted_to_minutes\n",
    "from trouver.markdown.markdown.file import MarkdownFile, MarkdownLineEnum\n",
    "from trouver.markdown.obsidian.personal.machine_learning.database_update import append_to_database\n",
    "from trouver.markdown.obsidian.personal.note_processing import process_standard_information_note\n",
    "from trouver.markdown.obsidian.personal.notation import parse_notation_note, main_of_notation\n",
    "from trouver.markdown.obsidian.personal.note_type import note_is_of_type\n",
    "from trouver.markdown.obsidian.vault import VaultNote"
   ]
  },
  {
   "cell_type": "code",
   "execution_count": null,
   "metadata": {},
   "outputs": [],
   "source": []
  },
  {
   "cell_type": "code",
   "execution_count": null,
   "metadata": {},
   "outputs": [],
   "source": [
    "import shutil\n",
    "import tempfile\n",
    "from unittest import mock\n",
    "\n",
    "from fastcore.test import *\n",
    "# from torch import Tensor\n",
    "\n",
    "from trouver.helper import _test_directory"
   ]
  },
  {
   "cell_type": "code",
   "execution_count": null,
   "metadata": {},
   "outputs": [],
   "source": []
  },
  {
   "cell_type": "markdown",
   "metadata": {},
   "source": [
    "# Gather ML data from notation notes"
   ]
  },
  {
   "cell_type": "code",
   "execution_count": null,
   "metadata": {},
   "outputs": [],
   "source": [
    "#| export \n",
    "def get_latex_in_original_from_parsed_notation_note_data(\n",
    "        metadata: dict[str],\n",
    "        notation_str: str) -> str:\n",
    "    \"\"\"Return the string that should be considered the `latex_in_original`\n",
    "    given part of the output of `parse_notation_note`\n",
    "\n",
    "    `latex_in_original` is intended to either be \n",
    "    1. a substring of the main note in which the notation is introduced, \n",
    "       if available, or \n",
    "    2. the notation itself.\n",
    "\n",
    "    If the notation note has a `latex_in_original` field in its YAML\n",
    "    frontmatter metadata, then the (first) str there is the\n",
    "    `latex_in_original`. \n",
    "    \"\"\"\n",
    "    if metadata is not None and 'latex_in_original' in metadata:\n",
    "        latex_in_original = metadata['latex_in_original']\n",
    "        if isinstance(latex_in_original, list):\n",
    "            latex_in_original = latex_in_original[0]\n",
    "    else:\n",
    "        # latex_in_original = None \n",
    "        latex_in_original = notation_str\n",
    "    return latex_in_original"
   ]
  },
  {
   "cell_type": "code",
   "execution_count": null,
   "metadata": {},
   "outputs": [],
   "source": [
    "# TODO: test"
   ]
  },
  {
   "cell_type": "code",
   "execution_count": null,
   "metadata": {},
   "outputs": [],
   "source": [
    "#| export\n",
    "def _notation_note_has_auto_summary_tag(\n",
    "        metadata: Union[dict[str], None]\n",
    "        ) -> bool:\n",
    "    \"\"\"\n",
    "    Return `True` if the metadata parsed from the notation note\n",
    "    has an auto tag in its YAML frontmatter meta.\n",
    "\n",
    "    This is a helper function of `notation_summarization_data_from_note`.\n",
    "    \"\"\"\n",
    "    return metadata and 'tags' in metadata and '_auto/notation_summary' in metadata['tags']"
   ]
  },
  {
   "cell_type": "code",
   "execution_count": null,
   "metadata": {},
   "outputs": [],
   "source": [
    "#| hide\n",
    "assert not _notation_note_has_auto_summary_tag({'detect_regex': [], 'latex_in_original': [\"H(t)\"]})\n",
    "assert not _notation_note_has_auto_summary_tag({'detect_regex': [], 'latex_in_original': [\"H(t)\"], 'tags': []})\n",
    "assert _notation_note_has_auto_summary_tag({'detect_regex': [], 'latex_in_original': [\"H(t)\"], 'tags': ['_auto/notation_summary']})\n"
   ]
  },
  {
   "cell_type": "code",
   "execution_count": null,
   "metadata": {},
   "outputs": [],
   "source": [
    "#| export\n",
    "def notation_summarization_data_from_note(\n",
    "        notation_note: VaultNote,\n",
    "        vault: PathLike\n",
    "        ) -> Union[dict[str, str], None]: # The keys to the dict are \"Notation note name\", \"Notation\", \"Latex in oiriginal\", \"Summary\", and \"Main note name\". However, `None` is returned instead of a `dict` if the notation note is determined to have not been summarized, if the main note of the notation note does not exist, or the notation note is marked with the `_auto/notation_summary` tag.\n",
    "    \"\"\"Obtain notation summzarization data from the notation note.\n",
    "\n",
    "    `None` is returned instead of a `dict if\n",
    "\n",
    "    1. the notation is determined to have not been (fully) summarized,\n",
    "       - Currently, this is implemented as follows: a notation note\n",
    "         is not fully summarized if it does not have any content\n",
    "         beyond `<notation> denotes ` or if the notation note has\n",
    "         `#_meta/TODO` marked in its content\n",
    "         (except in the trailing bulleted list of notations used\n",
    "          in the notation note)\n",
    "    2. the main note of the notation not does not exist or\n",
    "       is essentially empty\n",
    "       - Essentially empty means that the\n",
    "         `process_standard_information_note` function applied to the\n",
    "         a `MarkdownFile` object of the main note yields a\n",
    "         `MarkdownFile` object whose `__str__` method returns a\n",
    "         string of only blank characters.\n",
    "    3. the notation note is marked with an `_auto/notation_summary` tag\n",
    "       in its YAML frontmatter meta.\n",
    "       - If a notation note is marked with an `_auto/notation_summary`\n",
    "         tag, then that means that its summary has been auto-generated\n",
    "         by an ML model using the `append_summary_to_notation_note`\n",
    "         function\n",
    "\n",
    "    The notion of whether the notation \"has been summarized\" is not\n",
    "    exactly implemented, but should be sufficient for gathering\n",
    "    data.\n",
    "\n",
    "    This function is mainly used in `gather_notation_note_summaries`.\n",
    "\n",
    "    TODO: there are some notation notes drawing information from\n",
    "    multiple notes; separate text in notation notes corresponding\n",
    "    to each note.\n",
    "\n",
    "    **Returns**\n",
    "\n",
    "    - Union[dict[str, str], None]\n",
    "\n",
    "        - If the notation note is determined to have been summarized\n",
    "          (i.e. contains text beyond `<notation> denotes ` and does not\n",
    "          have the `#_meta/TODO` tag) then the output is a `dict` whose\n",
    "          key-value pairs are\n",
    "            - `\"Notation note name\"` - The name of the notation note\n",
    "            - `\"Notation\"` - The notation of the note\n",
    "            - `\"Latex in original\"' - The entry of the `latex_in_original`\n",
    "              field of the note if available, cf. `make_a_notation_note`\n",
    "            - `\"Summary\"` - The summary of the notation.\n",
    "            - `\"Main note name\"` - The name of the main note of the\n",
    "              notation note\n",
    "            - `\"Processed main note contents\"` - The processed contents of the\n",
    "              main note\n",
    "        - Otherwise, the output is `None.\n",
    "    \"\"\"\n",
    "    metadata, notation_str, main_of_notation, main_mf, _ = parse_notation_note(notation_note, vault)\n",
    "    if not _notation_has_been_summarized(main_mf):\n",
    "        return None\n",
    "    if _notation_note_has_auto_summary_tag(metadata):\n",
    "        return None\n",
    "\n",
    "    latex_in_original = get_latex_in_original_from_parsed_notation_note_data(\n",
    "        metadata, notation_str)\n",
    "\n",
    "    process_standard_information_note(main_mf, vault)\n",
    "    processed_summary = str(main_mf)\n",
    "    if len(processed_summary.strip()) == 0:\n",
    "        return None\n",
    "\n",
    "    if main_of_notation is None:\n",
    "        return None\n",
    "    main_note = VaultNote(vault, name=main_of_notation)\n",
    "    if not main_note.exists():\n",
    "        return None\n",
    "    main_note_mf = MarkdownFile.from_vault_note(main_note)\n",
    "    process_standard_information_note(main_note_mf, vault)\n",
    "\n",
    "    return {\"Notation note name\": notation_note.name,\n",
    "            \"Notation\": notation_str,\n",
    "            \"Latex in original\": latex_in_original,\n",
    "            \"Summary\": processed_summary,\n",
    "            \"Main note name\": main_of_notation,\n",
    "            \"Processed main note contents\": str(main_note_mf)}\n",
    "\n",
    "\n",
    "def _notation_has_been_summarized(\n",
    "        main_mf: VaultNote\n",
    "        ) -> bool:\n",
    "    text = str(main_mf).strip()\n",
    "    return len(text) > 0 and '#_meta/TODO' not in text\n",
    "\n"
   ]
  },
  {
   "cell_type": "code",
   "execution_count": null,
   "metadata": {},
   "outputs": [],
   "source": [
    "vault = _test_directory() / 'test_vault_7'\n",
    "\n",
    "notation_note = VaultNote(vault, name='some_reference_name_notation_Spec_A') \n",
    "sample_output = notation_summarization_data_from_note(notation_note, vault)\n",
    "\n",
    "del sample_output['Processed main note contents']\n",
    "\n",
    "test_eq(sample_output,\n",
    "    {'Notation note name': 'some_reference_name_notation_Spec_A',\n",
    "     'Notation': '$\\\\operatorname{Spec} A$',\n",
    "     'Latex in original': '\\\\operatorname{Spec} A',\n",
    "     'Summary': 'the spectrum of the ring $A$.',\n",
    "     'Main note name': 'spectrum_of_a_ring',\n",
    "     # 'Processed main note contents': 'Let $A$ be a ring.\\n\\nThe Spectrum $\\\\operatorname{Spec} A$ is the set of prime ideals of $A$. It is equipped with a topology, called the Zariski topology in which the followings sets, called the distinguished open subsets of $\\\\operatorname{Spec} A$, give a base for the topology:\\n\\n$$D(f) = \\\\{\\\\mathfrak{p} \\\\in \\\\operatorname{Spec} A: f \\\\not\\\\in \\\\mathfrak{p} \\\\}.$$\\n'}\n",
    "    })"
   ]
  },
  {
   "cell_type": "markdown",
   "metadata": {},
   "source": [
    "If the \"main\" note of the notation note cannot be identified, then `notation_summarization_data_from_note` returns `None`:"
   ]
  },
  {
   "cell_type": "code",
   "execution_count": null,
   "metadata": {},
   "outputs": [],
   "source": [
    "# vault = _test_directory() / 'test_vault_7'\n",
    "# notation_note = VaultNote(vault, name='some_reference_name_notation_B_R') \n",
    "# test_eq(notation_summarization_data_from_note(notation_note, vault), None)\n",
    "\n",
    "# TODO: example of a notation note which has a main not, but the main note does not exist\n",
    "# TODO: example of a notation note without a main note at all."
   ]
  },
  {
   "cell_type": "code",
   "execution_count": null,
   "metadata": {},
   "outputs": [],
   "source": [
    "# TODO: example with embedded links"
   ]
  },
  {
   "cell_type": "code",
   "execution_count": null,
   "metadata": {},
   "outputs": [],
   "source": [
    "# TODO: example of a notation note without any metadata"
   ]
  },
  {
   "cell_type": "code",
   "execution_count": null,
   "metadata": {},
   "outputs": [],
   "source": [
    "# TODO: example where main of notation note exists, but has basically no content;\n",
    "# The function should return `None` in this case."
   ]
  },
  {
   "cell_type": "code",
   "execution_count": null,
   "metadata": {},
   "outputs": [],
   "source": [
    "# TODO: example where notation note has _auto/notation_summary tag; the notation summarization data should not be added."
   ]
  },
  {
   "cell_type": "code",
   "execution_count": null,
   "metadata": {},
   "outputs": [],
   "source": []
  },
  {
   "cell_type": "code",
   "execution_count": null,
   "metadata": {},
   "outputs": [],
   "source": [
    "#| export\n",
    "def gather_notation_note_summaries(\n",
    "        vault: PathLike,\n",
    "        notes: list[VaultNote]\n",
    "        ) -> pd.DataFrame: # Has columns `Time added`, `Time modified`, `Notation note name`, `Notation`, `Latex in original`, 'Summary', 'Main note name', and 'Processed main note contents'. \n",
    "    \"\"\"\n",
    "    Return a `pandas.DataFrame` encapsulating the data of notation note\n",
    "    summaries.\n",
    "\n",
    "    cf. `notation_summarization_data_from_note`, which is the function\n",
    "    from which the notation note summaries are drawn.\n",
    "\n",
    "    This function is mainly used in\n",
    "    `append_to_notation_note_summarization_database`.\n",
    "    \"\"\"\n",
    "    summary_data = [\n",
    "        notation_summarization_data_from_note(note, vault) for note in notes]\n",
    "    summary_data = [row for row in summary_data if row is not None]\n",
    "    current_time = current_time_formatted_to_minutes()\n",
    "    for row in summary_data:\n",
    "        row['Time added'] = current_time\n",
    "        row['Time modified'] = current_time\n",
    "    return pd.DataFrame(summary_data)\n",
    "    "
   ]
  },
  {
   "cell_type": "code",
   "execution_count": null,
   "metadata": {},
   "outputs": [],
   "source": [
    "# TODO: example"
   ]
  },
  {
   "cell_type": "code",
   "execution_count": null,
   "metadata": {},
   "outputs": [],
   "source": [
    "# TODO: example verifying that outputs of `None` from `notation_summarization_data_from_note`\n",
    "# are weeded out."
   ]
  },
  {
   "cell_type": "code",
   "execution_count": null,
   "metadata": {},
   "outputs": [],
   "source": [
    "#| export\n",
    "def append_to_notation_note_summarization_database(\n",
    "        vault: PathLike, # The vault freom which the data is drawn\n",
    "        file: PathLike, # The path to a CSV file\n",
    "        notes: list[VaultNote], # the notation notes to consider adding to the database. \n",
    "        backup: bool = True # If `True`, makes a copy of `file` in the same directory and with the same name, except with an added extension of `.bak`.\n",
    "        ) -> None:\n",
    "    \"\"\"\n",
    "    Either create a `csv` file containing data for notation note\n",
    "    summarization or append to an existing `csv` file.\n",
    "\n",
    "    The columns of the database file are as follows:\n",
    "\n",
    "    - `Time added` - The time when the row was added.\n",
    "    - `Time modified` - The time when the labels of the row \n",
    "    - `Notation note name` - The name of the note from which the data for the row\n",
    "      was derived.\n",
    "    - 'Notation' - The notation which is being summarized\n",
    "    - 'Latex in original' - The entry of the `latex_in_original` field of the\n",
    "      note if available, cf. `make_a_notation_note`\n",
    "    - `\"Summary\"` - The summary of the notation.\n",
    "    - `\"Main note name\"` - The name of the main note of the\n",
    "      notation note\n",
    "    - `\"Processed main note contents\"` - The processed contents of the\n",
    "      main note\n",
    "\n",
    "    All timestamps are in UTC time and specify time to minutes\n",
    "    (i.e. no seconds/microseconds).\n",
    "    \n",
    "    TODO: implement updating rows and rewrite the next paragraph to\n",
    "    accurately reflect the implementation. I would like the 'Notation', 'Latex in original',\n",
    "    'Summary', 'processed main note contents' to be the \"pivot_cols\"\n",
    "\n",
    "    If a \"new\" note has the same processed content as a pre-existing\n",
    "    note and anything is different about the \"new\" note, then update\n",
    "    the row of the existing note. In particular, the following are updated:\n",
    "    - Time modified (set to current time)\n",
    "    - Notation (overwritten)\n",
    "    - Latex in original (overwritten)\n",
    "    - Summary (overwritten)\n",
    "    - Main note name (overwritten)\n",
    "    - Processed main note contents (overwritten)\n",
    "    \n",
    "    This method assumes that all the processed content in the\n",
    "    CSV file are all distinct if the CSV file exists.\n",
    "    \"\"\"\n",
    "    if not notes:\n",
    "        return\n",
    "    file = Path(file)\n",
    "    df = pd.read_csv(file) if os.path.exists(file) else None\n",
    "    # start_ID_from = max_ID(df) + 1 if not df is None else 1\n",
    "    new_df = gather_notation_note_summaries(vault, notes)\n",
    "    if new_df.empty:\n",
    "        return\n",
    "    cols = [\n",
    "        'Time added', 'Time modified', 'Notation note name',\n",
    "        'Notation', 'Latex in original', 'Summary', 'Main note name',\n",
    "        'Processed main note contents']\n",
    "    cols_to_update = [\n",
    "      'Time modified', 'Processed main note contents', 'Notation', 'Latex in original', 'Summary', 'Main note name']\n",
    "    append_to_database(\n",
    "        file, new_df, cols, 'Notation note name', cols_to_update, backup)\n",
    "# TODO: think about whether the 'Notation note name' column would make for an\n",
    "# appropriate pivot."
   ]
  },
  {
   "cell_type": "code",
   "execution_count": null,
   "metadata": {},
   "outputs": [],
   "source": [
    "# TODO basic example"
   ]
  },
  {
   "cell_type": "code",
   "execution_count": null,
   "metadata": {},
   "outputs": [],
   "source": [
    "# TODO: example of appending instead of making an entirely new CSV file"
   ]
  },
  {
   "cell_type": "code",
   "execution_count": null,
   "metadata": {},
   "outputs": [],
   "source": [
    "# TODO: example of notation notes existing, but none of them are to be added to the database by virtue of either the notation summary\n",
    "# not being written or by virtue of their main notes not existing."
   ]
  },
  {
   "cell_type": "code",
   "execution_count": null,
   "metadata": {},
   "outputs": [],
   "source": [
    "# TODO basic example"
   ]
  },
  {
   "cell_type": "code",
   "execution_count": null,
   "metadata": {},
   "outputs": [],
   "source": [
    "# TODO: example of appending instead of making an entirely new CSV file"
   ]
  },
  {
   "cell_type": "code",
   "execution_count": null,
   "metadata": {},
   "outputs": [],
   "source": [
    "# TODO: example of notation notes existing, but none of them are to be added to the database by virtue of either the notation summary\n",
    "# not being written or by virtue of their main notes not existing."
   ]
  },
  {
   "cell_type": "markdown",
   "metadata": {},
   "source": [
    "# Format Data"
   ]
  },
  {
   "cell_type": "markdown",
   "metadata": {},
   "source": [
    "Given the contents of the CSV file generated in `append_to_notation_note_summarization_database`, we create a single column representing the data upon which the ML model should train.\n",
    "\n",
    "Since a single piece of text can introduce multiple notations, we should indicate which the notation we want summarized. The entry in the `Latex in original` column of the CSV file can indicate this notation; as explained in `make_a_notation_note`, this entry is not necessarily the notation itself, but rather the substring of the text in which the notation is introduced. For example, in the text\n",
    "\n",
    "\n",
    "```Markdown\n",
    "Let $R$ be a ring and let $M$ be a module. We define the dual of $M$ as \n",
    "\n",
    "$$M^\\vee := \\operatorname{Hom}_R(R,M).$$\n",
    "```\n",
    "\n",
    "The notation `M^\\vee` is introduced, and it is in the display math mode string.\n"
   ]
  },
  {
   "cell_type": "code",
   "execution_count": null,
   "metadata": {},
   "outputs": [],
   "source": [
    "#| export\n",
    "def single_input(\n",
    "        main_note_content: str, # The text from which to summarize a notation\n",
    "        latex_in_original: str, # A substring in main_note_content which is a latex string in which the notation is introduced.\n",
    "        ) -> str: \n",
    "\n",
    "    return f\"{main_note_content}\\n\\nlatex_in_original: {latex_in_original}\""
   ]
  },
  {
   "cell_type": "code",
   "execution_count": null,
   "metadata": {},
   "outputs": [
    {
     "name": "stdout",
     "output_type": "stream",
     "text": [
      "This is a test content introducing notation: $\\mathbb{Z}/n\\mathbb{Z}$ denotes this. $\\mathbb{F}_q$ denotes that\n",
      "\n",
      "latex_in_original: \\mathbb{Z}/n\\mathbb{Z}\n"
     ]
    }
   ],
   "source": [
    "sample_output = single_input(\n",
    "    \"This is a test content introducing notation: $\\mathbb{Z}/n\\mathbb{Z}$ denotes this. $\\mathbb{F}_q$ denotes that\",\n",
    "    \"\\mathbb{Z}/n\\mathbb{Z}\")\n",
    "assert '\\n\\nlatex_in_original: ' in sample_output\n",
    "print(sample_output)\n"
   ]
  },
  {
   "cell_type": "markdown",
   "metadata": {},
   "source": [
    "If `latex_in_original ` is None,"
   ]
  },
  {
   "cell_type": "code",
   "execution_count": null,
   "metadata": {},
   "outputs": [],
   "source": [
    "#| export\n",
    "# TODO: I wonder if I should also keep text that doesn't take \n",
    "# Latex in original but rather the notation itself.\n",
    "def append_column_for_single_text(\n",
    "        df: pd.DataFrame # Assumed to be structured just as a dataframe of a CSV file created/modified by append_to_notation_note_summarization_database``\n",
    "        ) -> None:\n",
    "    \"\"\"Append a column `\"Single text\"` to the notation note summarization\n",
    "    DataFrame to represent the input into an ML model as a single text\n",
    "    \"\"\"\n",
    "    single_text_column = df.apply(\n",
    "        lambda row: single_input(row[\"Processed main note contents\"], row[\"Latex in original\"]), axis=1)\n",
    "    df[\"Single text\"] = single_text_column"
   ]
  },
  {
   "cell_type": "code",
   "execution_count": null,
   "metadata": {},
   "outputs": [
    {
     "data": {
      "text/html": [
       "<div>\n",
       "<style scoped>\n",
       "    .dataframe tbody tr th:only-of-type {\n",
       "        vertical-align: middle;\n",
       "    }\n",
       "\n",
       "    .dataframe tbody tr th {\n",
       "        vertical-align: top;\n",
       "    }\n",
       "\n",
       "    .dataframe thead th {\n",
       "        text-align: right;\n",
       "    }\n",
       "</style>\n",
       "<table border=\"1\" class=\"dataframe\">\n",
       "  <thead>\n",
       "    <tr style=\"text-align: right;\">\n",
       "      <th></th>\n",
       "      <th>Time added</th>\n",
       "      <th>Time modified</th>\n",
       "      <th>Notation note name</th>\n",
       "      <th>Notation</th>\n",
       "      <th>Latex in original</th>\n",
       "      <th>Summary</th>\n",
       "      <th>Main note name</th>\n",
       "      <th>Processed main note contents</th>\n",
       "    </tr>\n",
       "  </thead>\n",
       "  <tbody>\n",
       "    <tr>\n",
       "      <th>0</th>\n",
       "      <td>2023-01-17T01:47</td>\n",
       "      <td>2023-01-17T01:47</td>\n",
       "      <td>reference_name_notation_Gal_L_K</td>\n",
       "      <td>$\\operatorname{Gal}(L/K)$</td>\n",
       "      <td>$\\operatorname{ann} M$</td>\n",
       "      <td>the Galois group of the Galois field extension...</td>\n",
       "      <td>reference_name_Galois_group</td>\n",
       "      <td>If $L/K$ is a Galois field extension, then its...</td>\n",
       "    </tr>\n",
       "    <tr>\n",
       "      <th>1</th>\n",
       "      <td>2023-01-17T01:47</td>\n",
       "      <td>2023-01-17T01:47</td>\n",
       "      <td>reference_name_notation_I_J</td>\n",
       "      <td>$\\mathbb{Z}/n\\mathbb{Z}$</td>\n",
       "      <td>$\\mathbb{Z}/n\\mathbb{Z}$</td>\n",
       "      <td>The ring of integers modulo $n$. It is defined...</td>\n",
       "      <td>reference_name_Definition 1</td>\n",
       "      <td>The ring $\\mathbb{Z}/n\\mathbb{Z}$, called the ...</td>\n",
       "    </tr>\n",
       "    <tr>\n",
       "      <th>2</th>\n",
       "      <td>2023-01-17T01:47</td>\n",
       "      <td>2023-01-17T01:47</td>\n",
       "      <td>reference_name_notation_M_vee_dual_of_a_module</td>\n",
       "      <td>$M^\\vee$</td>\n",
       "      <td>$M^\\vee$</td>\n",
       "      <td>the dual of the $R$-module $M$. It is defined ...</td>\n",
       "      <td>reference_name_Definition 17</td>\n",
       "      <td>Let $M$ be an $R$-module. We define the dual m...</td>\n",
       "    </tr>\n",
       "    <tr>\n",
       "      <th>3</th>\n",
       "      <td>2023-01-17T01:47</td>\n",
       "      <td>2023-01-17T01:47</td>\n",
       "      <td>reference_name_notation_F_q</td>\n",
       "      <td>$\\mathbb{F}_q$</td>\n",
       "      <td>$\\mathbb{F}_q$</td>\n",
       "      <td>the finite field of $q$ elements, where $q$ is...</td>\n",
       "      <td>reference_name_Theorem 1</td>\n",
       "      <td>Theorem. Let $q$ be a prime power. There is a ...</td>\n",
       "    </tr>\n",
       "    <tr>\n",
       "      <th>4</th>\n",
       "      <td>2023-01-17T01:47</td>\n",
       "      <td>2023-01-17T01:47</td>\n",
       "      <td>reference_name_notation_X_N</td>\n",
       "      <td>$X(N)$</td>\n",
       "      <td>$X(N)$</td>\n",
       "      <td>the quotient of $\\mathbb{H}^*$ by $\\Gamma(N)$,...</td>\n",
       "      <td>reference_name_Definition 200</td>\n",
       "      <td>Now we discuss modular curves, whose points pa...</td>\n",
       "    </tr>\n",
       "  </tbody>\n",
       "</table>\n",
       "</div>"
      ],
      "text/plain": [
       "         Time added     Time modified  \\\n",
       "0  2023-01-17T01:47  2023-01-17T01:47   \n",
       "1  2023-01-17T01:47  2023-01-17T01:47   \n",
       "2  2023-01-17T01:47  2023-01-17T01:47   \n",
       "3  2023-01-17T01:47  2023-01-17T01:47   \n",
       "4  2023-01-17T01:47  2023-01-17T01:47   \n",
       "\n",
       "                               Notation note name                   Notation  \\\n",
       "0                 reference_name_notation_Gal_L_K  $\\operatorname{Gal}(L/K)$   \n",
       "1                     reference_name_notation_I_J   $\\mathbb{Z}/n\\mathbb{Z}$   \n",
       "2  reference_name_notation_M_vee_dual_of_a_module                   $M^\\vee$   \n",
       "3                     reference_name_notation_F_q             $\\mathbb{F}_q$   \n",
       "4                     reference_name_notation_X_N                     $X(N)$   \n",
       "\n",
       "          Latex in original  \\\n",
       "0    $\\operatorname{ann} M$   \n",
       "1  $\\mathbb{Z}/n\\mathbb{Z}$   \n",
       "2                  $M^\\vee$   \n",
       "3            $\\mathbb{F}_q$   \n",
       "4                    $X(N)$   \n",
       "\n",
       "                                             Summary  \\\n",
       "0  the Galois group of the Galois field extension...   \n",
       "1  The ring of integers modulo $n$. It is defined...   \n",
       "2  the dual of the $R$-module $M$. It is defined ...   \n",
       "3  the finite field of $q$ elements, where $q$ is...   \n",
       "4  the quotient of $\\mathbb{H}^*$ by $\\Gamma(N)$,...   \n",
       "\n",
       "                  Main note name  \\\n",
       "0    reference_name_Galois_group   \n",
       "1    reference_name_Definition 1   \n",
       "2   reference_name_Definition 17   \n",
       "3       reference_name_Theorem 1   \n",
       "4  reference_name_Definition 200   \n",
       "\n",
       "                        Processed main note contents  \n",
       "0  If $L/K$ is a Galois field extension, then its...  \n",
       "1  The ring $\\mathbb{Z}/n\\mathbb{Z}$, called the ...  \n",
       "2  Let $M$ be an $R$-module. We define the dual m...  \n",
       "3  Theorem. Let $q$ be a prime power. There is a ...  \n",
       "4  Now we discuss modular curves, whose points pa...  "
      ]
     },
     "execution_count": null,
     "metadata": {},
     "output_type": "execute_result"
    }
   ],
   "source": [
    "csv_file = _test_directory() / 'ml_examples' / 'notation_summarizations.csv'\n",
    "df = pd.read_csv(csv_file)\n",
    "df.head()"
   ]
  },
  {
   "cell_type": "code",
   "execution_count": null,
   "metadata": {},
   "outputs": [
    {
     "data": {
      "text/html": [
       "<div>\n",
       "<style scoped>\n",
       "    .dataframe tbody tr th:only-of-type {\n",
       "        vertical-align: middle;\n",
       "    }\n",
       "\n",
       "    .dataframe tbody tr th {\n",
       "        vertical-align: top;\n",
       "    }\n",
       "\n",
       "    .dataframe thead th {\n",
       "        text-align: right;\n",
       "    }\n",
       "</style>\n",
       "<table border=\"1\" class=\"dataframe\">\n",
       "  <thead>\n",
       "    <tr style=\"text-align: right;\">\n",
       "      <th></th>\n",
       "      <th>Time added</th>\n",
       "      <th>Time modified</th>\n",
       "      <th>Notation note name</th>\n",
       "      <th>Notation</th>\n",
       "      <th>Latex in original</th>\n",
       "      <th>Summary</th>\n",
       "      <th>Main note name</th>\n",
       "      <th>Processed main note contents</th>\n",
       "      <th>Single text</th>\n",
       "    </tr>\n",
       "  </thead>\n",
       "  <tbody>\n",
       "    <tr>\n",
       "      <th>0</th>\n",
       "      <td>2023-01-17T01:47</td>\n",
       "      <td>2023-01-17T01:47</td>\n",
       "      <td>reference_name_notation_Gal_L_K</td>\n",
       "      <td>$\\operatorname{Gal}(L/K)$</td>\n",
       "      <td>$\\operatorname{ann} M$</td>\n",
       "      <td>the Galois group of the Galois field extension...</td>\n",
       "      <td>reference_name_Galois_group</td>\n",
       "      <td>If $L/K$ is a Galois field extension, then its...</td>\n",
       "      <td>If $L/K$ is a Galois field extension, then its...</td>\n",
       "    </tr>\n",
       "    <tr>\n",
       "      <th>1</th>\n",
       "      <td>2023-01-17T01:47</td>\n",
       "      <td>2023-01-17T01:47</td>\n",
       "      <td>reference_name_notation_I_J</td>\n",
       "      <td>$\\mathbb{Z}/n\\mathbb{Z}$</td>\n",
       "      <td>$\\mathbb{Z}/n\\mathbb{Z}$</td>\n",
       "      <td>The ring of integers modulo $n$. It is defined...</td>\n",
       "      <td>reference_name_Definition 1</td>\n",
       "      <td>The ring $\\mathbb{Z}/n\\mathbb{Z}$, called the ...</td>\n",
       "      <td>The ring $\\mathbb{Z}/n\\mathbb{Z}$, called the ...</td>\n",
       "    </tr>\n",
       "    <tr>\n",
       "      <th>2</th>\n",
       "      <td>2023-01-17T01:47</td>\n",
       "      <td>2023-01-17T01:47</td>\n",
       "      <td>reference_name_notation_M_vee_dual_of_a_module</td>\n",
       "      <td>$M^\\vee$</td>\n",
       "      <td>$M^\\vee$</td>\n",
       "      <td>the dual of the $R$-module $M$. It is defined ...</td>\n",
       "      <td>reference_name_Definition 17</td>\n",
       "      <td>Let $M$ be an $R$-module. We define the dual m...</td>\n",
       "      <td>Let $M$ be an $R$-module. We define the dual m...</td>\n",
       "    </tr>\n",
       "    <tr>\n",
       "      <th>3</th>\n",
       "      <td>2023-01-17T01:47</td>\n",
       "      <td>2023-01-17T01:47</td>\n",
       "      <td>reference_name_notation_F_q</td>\n",
       "      <td>$\\mathbb{F}_q$</td>\n",
       "      <td>$\\mathbb{F}_q$</td>\n",
       "      <td>the finite field of $q$ elements, where $q$ is...</td>\n",
       "      <td>reference_name_Theorem 1</td>\n",
       "      <td>Theorem. Let $q$ be a prime power. There is a ...</td>\n",
       "      <td>Theorem. Let $q$ be a prime power. There is a ...</td>\n",
       "    </tr>\n",
       "    <tr>\n",
       "      <th>4</th>\n",
       "      <td>2023-01-17T01:47</td>\n",
       "      <td>2023-01-17T01:47</td>\n",
       "      <td>reference_name_notation_X_N</td>\n",
       "      <td>$X(N)$</td>\n",
       "      <td>$X(N)$</td>\n",
       "      <td>the quotient of $\\mathbb{H}^*$ by $\\Gamma(N)$,...</td>\n",
       "      <td>reference_name_Definition 200</td>\n",
       "      <td>Now we discuss modular curves, whose points pa...</td>\n",
       "      <td>Now we discuss modular curves, whose points pa...</td>\n",
       "    </tr>\n",
       "  </tbody>\n",
       "</table>\n",
       "</div>"
      ],
      "text/plain": [
       "         Time added     Time modified  \\\n",
       "0  2023-01-17T01:47  2023-01-17T01:47   \n",
       "1  2023-01-17T01:47  2023-01-17T01:47   \n",
       "2  2023-01-17T01:47  2023-01-17T01:47   \n",
       "3  2023-01-17T01:47  2023-01-17T01:47   \n",
       "4  2023-01-17T01:47  2023-01-17T01:47   \n",
       "\n",
       "                               Notation note name                   Notation  \\\n",
       "0                 reference_name_notation_Gal_L_K  $\\operatorname{Gal}(L/K)$   \n",
       "1                     reference_name_notation_I_J   $\\mathbb{Z}/n\\mathbb{Z}$   \n",
       "2  reference_name_notation_M_vee_dual_of_a_module                   $M^\\vee$   \n",
       "3                     reference_name_notation_F_q             $\\mathbb{F}_q$   \n",
       "4                     reference_name_notation_X_N                     $X(N)$   \n",
       "\n",
       "          Latex in original  \\\n",
       "0    $\\operatorname{ann} M$   \n",
       "1  $\\mathbb{Z}/n\\mathbb{Z}$   \n",
       "2                  $M^\\vee$   \n",
       "3            $\\mathbb{F}_q$   \n",
       "4                    $X(N)$   \n",
       "\n",
       "                                             Summary  \\\n",
       "0  the Galois group of the Galois field extension...   \n",
       "1  The ring of integers modulo $n$. It is defined...   \n",
       "2  the dual of the $R$-module $M$. It is defined ...   \n",
       "3  the finite field of $q$ elements, where $q$ is...   \n",
       "4  the quotient of $\\mathbb{H}^*$ by $\\Gamma(N)$,...   \n",
       "\n",
       "                  Main note name  \\\n",
       "0    reference_name_Galois_group   \n",
       "1    reference_name_Definition 1   \n",
       "2   reference_name_Definition 17   \n",
       "3       reference_name_Theorem 1   \n",
       "4  reference_name_Definition 200   \n",
       "\n",
       "                        Processed main note contents  \\\n",
       "0  If $L/K$ is a Galois field extension, then its...   \n",
       "1  The ring $\\mathbb{Z}/n\\mathbb{Z}$, called the ...   \n",
       "2  Let $M$ be an $R$-module. We define the dual m...   \n",
       "3  Theorem. Let $q$ be a prime power. There is a ...   \n",
       "4  Now we discuss modular curves, whose points pa...   \n",
       "\n",
       "                                         Single text  \n",
       "0  If $L/K$ is a Galois field extension, then its...  \n",
       "1  The ring $\\mathbb{Z}/n\\mathbb{Z}$, called the ...  \n",
       "2  Let $M$ be an $R$-module. We define the dual m...  \n",
       "3  Theorem. Let $q$ be a prime power. There is a ...  \n",
       "4  Now we discuss modular curves, whose points pa...  "
      ]
     },
     "execution_count": null,
     "metadata": {},
     "output_type": "execute_result"
    }
   ],
   "source": [
    "append_column_for_single_text(df)\n",
    "df"
   ]
  },
  {
   "cell_type": "code",
   "execution_count": null,
   "metadata": {},
   "outputs": [],
   "source": []
  },
  {
   "cell_type": "markdown",
   "metadata": {},
   "source": [
    "# Use ML model to fill in notation notes"
   ]
  },
  {
   "cell_type": "markdown",
   "metadata": {},
   "source": [
    "After training the model (cf. `how_to.train_ml_model.huggingface`), we use it to summarize notations."
   ]
  },
  {
   "cell_type": "code",
   "execution_count": null,
   "metadata": {},
   "outputs": [],
   "source": [
    "#| export\n",
    "def fix_summary_formatting(\n",
    "        summary: str\n",
    "        ) -> str:\n",
    "    \"\"\"Fix some latex formatting issues in a summarized text\n",
    "    \"\"\"\n",
    "    summary = summary.replace(r'\\ ', '\\\\')\n",
    "    summary = summary.replace(r'{ ', r'{')\n",
    "    summary = summary.replace(r' }', r'}')\n",
    "    summary, _ = re.subn(r'\\$\\s*([^\\$]+?)\\s*\\$', r'$\\1$', summary)\n",
    "    # TODO: do $ <latex_string> $ into $<latex_stinrg>$\n",
    "    # TODO: if the replacement of r'\\ ' by '\\\\' happesn to\n",
    "    # make `\\` stick to the previous chunk of things\n",
    "    # (e.g. r'd\\in\\mathbb{Z}_{\\geq 0}`, then give it some\n",
    "    # space, e.g. r'd \\in \\mathbb{Z}_{\\geq 0}'.\n",
    "    return summary\n",
    "\n"
   ]
  },
  {
   "cell_type": "markdown",
   "metadata": {},
   "source": [
    "Currently, the model is inclined to decode and format its summarizations in such a way that creates formatting issues either for LaTeX or `Obsidian.md`. For example, the model would output a str containing\n",
    "\n",
    "- `\\ <command_name>` instead of `\\<command_name>`\n",
    "- `{ ` when `{` is preferable\n",
    "- `$ <latex_string> $` when `$<latex_string>$` is needed for `Obsidian.md`.\n",
    "\n",
    "The `fix_summary_formatting` function attempts to get around some of these issues."
   ]
  },
  {
   "cell_type": "code",
   "execution_count": null,
   "metadata": {},
   "outputs": [],
   "source": [
    "text = r'\\ to'\n",
    "sample_output = fix_summary_formatting(text)\n",
    "assert r'\\to' in sample_output\n",
    "\n",
    "text = r'$d\\ in\\ mathbb{ Z}_{\\ geq 0} $'\n",
    "sample_output = fix_summary_formatting(text)\n",
    "assert r'\\in' in sample_output\n",
    "assert r'\\mathbb{Z}' in sample_output\n",
    "assert r'\\geq 0' in sample_output\n"
   ]
  },
  {
   "cell_type": "code",
   "execution_count": null,
   "metadata": {},
   "outputs": [
    {
     "name": "stdout",
     "output_type": "stream",
     "text": [
      "There are some extra spaces in this math mode string: $5 + 7 = 12$.\n"
     ]
    }
   ],
   "source": [
    "text = r'There are some extra spaces in this math mode string: $  5 + 7 = 12 $.'\n",
    "sample_output = fix_summary_formatting(text)\n",
    "print(sample_output)\n",
    "assert r'$5' in sample_output\n",
    "assert r'12$' in sample_output"
   ]
  },
  {
   "cell_type": "code",
   "execution_count": null,
   "metadata": {},
   "outputs": [],
   "source": [
    "#| export\n",
    "def summarize_notation(\n",
    "        main_content: str,\n",
    "        latex_in_original: str,\n",
    "        summarizer: pipelines.text2text_generation.SummarizationPipeline,\n",
    "        fix_formatting: bool = True, # If `True`, run `fix_summary_formatting` on `summarizer`'s summary before retuning it.\n",
    "        ) -> str:\n",
    "    \"\"\"Summarize a notation introduced in a mathematical text using\n",
    "    a huggingface pipeline.\n",
    "\n",
    "    Assumes that `main_content` is a mathematical text introducing\n",
    "    a notation and that `latex_in_original` is a substring of\n",
    "    `main_content` in which a notation is introduced.\n",
    "    \"\"\"\n",
    "    summarizer_output = summarizer(\n",
    "        single_input(main_content, latex_in_original))\n",
    "    summary = summarizer_output[0]['summary_text']\n",
    "    if fix_formatting:\n",
    "        summary = fix_summary_formatting(summary)\n",
    "    return summary"
   ]
  },
  {
   "cell_type": "code",
   "execution_count": null,
   "metadata": {},
   "outputs": [],
   "source": [
    "# TODO: example"
   ]
  },
  {
   "cell_type": "code",
   "execution_count": null,
   "metadata": {},
   "outputs": [],
   "source": [
    "#| export\n",
    "def _escape_latex_in_original_in_metadata(notation_mf: MarkdownFile):\n",
    "    \"\"\"Escape the `latex_in_original` field in the metadata.\n",
    "    \n",
    "    Assumes that `notation_mf` is a MarkdownFile object derived\n",
    "    from a notation note.\n",
    "    \"\"\"\n",
    "    metadata = notation_mf.metadata()\n",
    "    if not 'latex_in_original' in metadata:\n",
    "        return\n",
    "    latex_in_original = metadata['latex_in_original']\n",
    "    latex_in_original = [\n",
    "        _enquote(raw_notation.replace('\\\\', '\\\\\\\\'))\n",
    "        for raw_notation in latex_in_original]\n",
    "    metadata['latex_in_original'] = latex_in_original\n",
    "    notation_mf.replace_metadata(metadata)\n",
    "\n"
   ]
  },
  {
   "cell_type": "code",
   "execution_count": null,
   "metadata": {},
   "outputs": [],
   "source": []
  },
  {
   "cell_type": "code",
   "execution_count": null,
   "metadata": {},
   "outputs": [],
   "source": [
    "#| export\n",
    "def append_summary_to_notation_note(\n",
    "        notation_note: VaultNote,\n",
    "        vault: PathLike,\n",
    "        summarizer: pipelines.text2text_generation.SummarizationPipeline,\n",
    "        main_note: Optional[VaultNote] = None # The main note from which the notation comes from. If this is `None`, then the `main_note` is obtained via the `main_of_notation` function.\n",
    "    ) -> None:\n",
    "    \"\"\"Summarize a notation introduced in a mathematical text\n",
    "    using a huggingface pipeline and append said summarization to\n",
    "    `notation_note`.\n",
    "\n",
    "    If `main_note` is `None` and no main note of `notation_note` can\n",
    "    be determined via the `main_of_notation` function, then the\n",
    "    summarization does not happen.\n",
    "\n",
    "    If `notation_note` does not have a YAML frontmatter meta or\n",
    "    does not have a `latex_in_original` field in its YAML frontmatter\n",
    "    meta, then the actual notation is used as the `latex_in_original`.\n",
    "\n",
    "    If `notation_note` already has some content, then the\n",
    "    summarization does not happen.\n",
    "\n",
    "    If an auto-generated summary is appended, then this function\n",
    "    adds an `_auto/notation_summary` tag to the notation note's\n",
    "    YAML frontmatter. This tag is intended to be used as follows:\n",
    "\n",
    "    - The presence of this tag tells the reader that the summary\n",
    "      has been autogenerated by this function.\n",
    "    - The `notation_summarization_data_from_note` function (and\n",
    "      by extension, the `gather_notation_note_summaries` and\n",
    "      `append_to_notation_note_summarization_database` functions)\n",
    "      avoids gathering notation summarization data from notation\n",
    "      notes marked with this tag\n",
    "    - The owner of the `Obsidian.md` vault can manually make\n",
    "      modifications to the notation note if necessary and remove this\n",
    "      tag to indicate that the summary is appropriate to be added\n",
    "      to the note summarization database.\n",
    "    \"\"\"\n",
    "\n",
    "    metadata, notation_str, _, notation_note_content_mf, _\\\n",
    "        = parse_notation_note(notation_note, vault)\n",
    "    if main_note is None:\n",
    "        main_note = main_of_notation(notation_note, as_note=True)\n",
    "\n",
    "    if main_note is None:\n",
    "        return\n",
    "    main_mf = MarkdownFile.from_vault_note(main_note)\n",
    "    process_standard_information_note(main_mf, vault)\n",
    "    notation_note_content = str(notation_note_content_mf)\n",
    "    if len(notation_note_content.strip()) != 0:\n",
    "        # TODO: warn that the notation note already had\n",
    "        # contents, so no new ones were added.\n",
    "        return\n",
    "    summary = _get_summary(metadata, notation_str, main_mf, summarizer)\n",
    "    _write_summary_to_notation_note(notation_note, summary)\n",
    "\n",
    "\n",
    "def _get_summary(\n",
    "        metadata, notation_str, main_mf, summarizer) -> str:\n",
    "    \"\"\"\n",
    "    This is a helper function of `append_summary_to_notation_note`.\n",
    "    \"\"\"\n",
    "    latex_in_original = get_latex_in_original_from_parsed_notation_note_data(\n",
    "        metadata, notation_str)\n",
    "    summary = summarize_notation(main_mf, latex_in_original, summarizer)\n",
    "    return summary\n",
    "\n",
    "\n",
    "def _write_summary_to_notation_note(\n",
    "        notation_note: VaultNote, summary: str, ) -> None:\n",
    "    \"\"\"\n",
    "    This is a helper function of `append_summary_to_notation_note`.\n",
    "\n",
    "    \n",
    "    \"\"\"\n",
    "    notation_note_mf = MarkdownFile.from_vault_note(notation_note)\n",
    "    notation_note_mf.parts[-1]['line'] += summary\n",
    "    notation_note_mf.add_tags(['_auto/notation_summary'])\n",
    "\n",
    "    # _escape_latex_in_original_in_metadata(notation_note_mf)\n",
    "    notation_note_mf.write(notation_note)\n",
    "\n",
    "\n",
    "\n",
    "    "
   ]
  },
  {
   "cell_type": "code",
   "execution_count": null,
   "metadata": {},
   "outputs": [],
   "source": [
    "#| notest\n",
    "from transformers import AutoModelForSeq2SeqLM, AutoTokenizer, pipeline"
   ]
  },
  {
   "cell_type": "code",
   "execution_count": null,
   "metadata": {},
   "outputs": [
    {
     "name": "stderr",
     "output_type": "stream",
     "text": [
      "Your max_length is set to 200, but you input_length is only 138. You might consider decreasing max_length manually, e.g. summarizer('...', max_length=69)\n"
     ]
    },
    {
     "name": "stdout",
     "output_type": "stream",
     "text": [
      "---\n",
      "detect_regex: []\n",
      "latex_in_original: [\"\\\\mathscr{O}_{\\\\text {Proj } S_{*}}(n)\"]\n",
      "tags: [_auto/notation_summary]\n",
      "---\n",
      "$\\mathscr{O}_{\\text {Proj } S_{*}}(n)$ [[foag_15.2.1|denotes]] the graded ring generated in degree $1$. It is defined as $\\widehat{S(n)\\$ where $S_{bullet$ is a graded-ring generated by the grade-$n$-smoothness $\\mathscr{O} (n)$ and it is the $n$th ech cohomology of $\\operatorname{Proj} S_*$.\n"
     ]
    }
   ],
   "source": [
    "#| notest\n",
    "model = AutoModelForSeq2SeqLM.from_pretrained('hyunjongkimmath/notation_summarizations_model')\n",
    "tokenizer = AutoTokenizer.from_pretrained('hyunjongkimmath/notation_summarizations_model')\n",
    "summarizer = pipeline('summarization', model=model, tokenizer=tokenizer)\n",
    "\n",
    "with (tempfile.TemporaryDirectory(prefix='temp_dir', dir=os.getcwd()) as temp_dir):\n",
    "    temp_vault = Path(temp_dir) / 'test_vault_7'\n",
    "    shutil.copytree(_test_directory() / 'test_vault_7', temp_vault)\n",
    "\n",
    "    notation_note_to_be_summarized = VaultNote(temp_vault, name='foag_notation_O_text_Proj__S__n')\n",
    "    append_summary_to_notation_note(notation_note_to_be_summarized, temp_vault, summarizer)\n",
    "\n",
    "    print(notation_note_to_be_summarized.text())\n",
    "\n"
   ]
  },
  {
   "cell_type": "code",
   "execution_count": null,
   "metadata": {},
   "outputs": [
    {
     "name": "stdout",
     "output_type": "stream",
     "text": [
      "---\n",
      "detect_regex: []\n",
      "latex_in_original: [\"\\\\mathscr{O}_{\\\\text {Proj } S_{*}}(n)\"]\n",
      "tags: [_auto/notation_summary]\n",
      "---\n",
      "$\\mathscr{O}_{\\text {Proj } S_{*}}(n)$ [[foag_15.2.1|denotes]] This is a mocked summary\n"
     ]
    }
   ],
   "source": [
    "#| hide\n",
    "with (tempfile.TemporaryDirectory(prefix='temp_dir', dir=os.getcwd()) as temp_dir,\n",
    "      mock.patch('__main__.pipeline') as mock_pipeline):\n",
    "    temp_vault = Path(temp_dir) / 'test_vault_7'\n",
    "    shutil.copytree(_test_directory() / 'test_vault_7', temp_vault)\n",
    "\n",
    "    summarizer = mock_pipeline('summarization', model=None, tokenizer=None)\n",
    "    mock_summary = 'This is a mocked summary'\n",
    "    summarizer.return_value = ({'summary_text': mock_summary}, )\n",
    "\n",
    "    notation_note_to_be_summarized = VaultNote(temp_vault, name='foag_notation_O_text_Proj__S__n')\n",
    "    # original_notation_note_text = notation_note_to_be_summarized.text()\n",
    "    append_summary_to_notation_note(notation_note_to_be_summarized, temp_vault, summarizer)\n",
    "\n",
    "    notation_note_text = notation_note_to_be_summarized.text()\n",
    "    assert notation_note_text.endswith(mock_summary)\n",
    "    print(notation_note_text)\n",
    "    mf = MarkdownFile.from_vault_note(notation_note_to_be_summarized)\n",
    "    # assert mf.has_tag('_auto/notation_summary')\n",
    "    mf.metadata()\n",
    "    # test_eq(notation_note_text, original_notation_note_text + mock_summary) \n"
   ]
  }
 ],
 "metadata": {
  "kernelspec": {
   "display_name": "trouver_py310_venv",
   "language": "python",
   "name": "trouver_py310_venv"
  },
  "language_info": {
   "name": "python",
   "version": "3.10.6"
  }
 },
 "nbformat": 4,
 "nbformat_minor": 2
}
