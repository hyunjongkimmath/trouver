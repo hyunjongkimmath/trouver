{
 "cells": [
  {
   "cell_type": "markdown",
   "metadata": {},
   "source": [
    "# markdown.obsidian.footnotes\n",
    "\n",
    "> Functions for parsing footnotes in [Obsidian.md](https://obsidian.md/) style markdown."
   ]
  },
  {
   "cell_type": "code",
   "execution_count": null,
   "metadata": {},
   "outputs": [],
   "source": [
    "#| default_exp markdown.obsidian.footnotes"
   ]
  },
  {
   "cell_type": "code",
   "execution_count": null,
   "metadata": {},
   "outputs": [],
   "source": [
    "#| export\n",
    "import os\n",
    "from pathlib import Path\n",
    "import re\n",
    "from trouver.helper.regex import find_regex_in_text, replace_string_by_indices\n",
    "from trouver.markdown.obsidian.links import (\n",
    "    ObsidianLink\n",
    ")\n",
    "\n",
    "from typing import Union"
   ]
  },
  {
   "cell_type": "code",
   "execution_count": null,
   "metadata": {},
   "outputs": [],
   "source": [
    "from fastcore.test import *"
   ]
  },
  {
   "cell_type": "markdown",
   "metadata": {},
   "source": [
    "We use the following example:"
   ]
  },
  {
   "cell_type": "code",
   "execution_count": null,
   "metadata": {},
   "outputs": [],
   "source": [
    "# TODO The footnote below spans multiple lines  Find out if this affects any raw-text extraction.\n",
    "# r'''[^3]: Here is an embedded image,  \n",
    "# ![[Pasted image 20221009114121.png]]\n",
    "# This is still part of the footnote.\n",
    "#\n",
    "# This is not part of the footnote'''"
   ]
  },
  {
   "cell_type": "markdown",
   "metadata": {},
   "source": [
    "## Finding footnote descriptions"
   ]
  },
  {
   "cell_type": "markdown",
   "metadata": {},
   "source": [
    "Things like\n",
    "\n",
    "> `[^1]: Hello, this is a footnote being described`"
   ]
  },
  {
   "cell_type": "code",
   "execution_count": null,
   "metadata": {},
   "outputs": [],
   "source": [
    "#| export\n",
    "def find_footnote_descriptions_in_markdown_text(\n",
    "        text: str\n",
    "        ) -> list[tuple]: # Each tuple is of the form `(a,b)` where `text[a:b]` is the full substring of a markdown footnote description.\n",
    "    \"\"\"\n",
    "    Return ranges in the markdown text string where footnote descriptions occur.\n",
    "    \n",
    "    By footnote descriptions, I mean some of the form\n",
    "    `[^label]: some description of the footnote`.\n",
    "    \n",
    "    **Returns**\n",
    "\n",
    "    - list[tuple]\n",
    "        - Each tuple is of the form `(a,b)` where `text[a:b]` is the full substring of a markdown footnote description.\n",
    "    \"\"\"\n",
    "    return find_regex_in_text(text, pattern=r'\\[\\^.+?\\]:.*')"
   ]
  },
  {
   "cell_type": "markdown",
   "metadata": {},
   "source": [
    "**Examples**"
   ]
  },
  {
   "cell_type": "code",
   "execution_count": null,
   "metadata": {},
   "outputs": [
    {
     "name": "stdout",
     "output_type": "stream",
     "text": [
      "[^1]: And this is the text of the footnote. In the reading view of Obsidian.md, this will show in the bottom. This is also where the clickable `[^1]` sends us to.\n",
      "[^2]: I'm another footnote. Note that I'm written above where I am first used and that does not create any problems.\n",
      "[^3]: I'm yet another footnote, but I'm not used. This will not create any problems, but this footnote will not appear in the reading view of Obsidian.md.\n"
     ]
    }
   ],
   "source": [
    "text_1 = r\"\"\"\n",
    "This is some text with a footnote[^1]. In Obsidian.md, there will be a `[^1]` showing up and it will be clickable.\n",
    "\n",
    "[^1]: And this is the text of the footnote. In the reading view of Obsidian.md, this will show in the bottom. This is also where the clickable `[^1]` sends us to.\n",
    "[^2]: I'm another footnote. Note that I'm written above where I am first used and that does not create any problems.\n",
    "\n",
    "This is another text[^2] and the footnote here is written above this text instead of below.\n",
    "\n",
    "[^3]: I'm yet another footnote, but I'm not used. This will not create any problems, but this footnote will not appear in the reading view of Obsidian.md.\n",
    "\"\"\"\n",
    "ranges = find_footnote_descriptions_in_markdown_text(text_1)\n",
    "for match_range in ranges:\n",
    "    print(text_1[match_range[0]:match_range[1]])\n",
    "test_eq(len(ranges), 3)"
   ]
  },
  {
   "cell_type": "markdown",
   "metadata": {},
   "source": [
    "## Find and remove footnote mentions"
   ]
  },
  {
   "cell_type": "markdown",
   "metadata": {},
   "source": [
    "Things like\n",
    "\n",
    "> There is going to be a footnote mention at the end here. [^2]\n",
    "> \n",
    "> [^2]: This is the footnote!"
   ]
  },
  {
   "cell_type": "code",
   "execution_count": null,
   "metadata": {},
   "outputs": [],
   "source": [
    "#| export\n",
    "def find_footnote_mentions_in_markdown_text(\n",
    "        text: str\n",
    "        ) -> list[tuple]: # Each tuple is of the form `(a,b)` where `text[a:b]` is a markdown footnote description.\n",
    "    \"\"\"Return ranges in the markdown text string where footnote\n",
    "    mentions occur.\n",
    "    \n",
    "    By footnote mentions, I mean some of the form `[^label]` without\n",
    "    any descriptions.\n",
    "    \n",
    "    **Returns**\n",
    "\n",
    "    - list[tuple]\n",
    "        - Each tuple is of the form `(a,b)` where `text[a:b]`\n",
    "        is a markdown footnote description.\n",
    "    \"\"\"\n",
    "    return find_regex_in_text(text, pattern=r'\\[\\^[^\\[\\]]+?\\](?!:)')"
   ]
  },
  {
   "cell_type": "markdown",
   "metadata": {},
   "source": [
    "**Examples**"
   ]
  },
  {
   "cell_type": "code",
   "execution_count": null,
   "metadata": {},
   "outputs": [
    {
     "name": "stdout",
     "output_type": "stream",
     "text": [
      "[^2]\n",
      "[^1]\n",
      "[^not_a_number]\n",
      "[^1]\n"
     ]
    }
   ],
   "source": [
    "text_2 = \"\"\"\n",
    "Now behold these footnotes[^2][^1]!\n",
    "\n",
    "[^2]: Hi. I am footnote 2. I am written before footnote 1. In Obsidian.md's reading view, I will show up as with label `1` because I am the first footnote used.\n",
    "[^1]: I am footnote 1. I am written after footnote 2. In Obsidian.md's reading view, I will show up as with label `2` because I am the second footnote used. Also note that I am used twice.\n",
    "\n",
    "Here is a footnote[^not_a_number].\n",
    "\n",
    "[^not_a_number]: I am a footnote, but I do not have a number label. In Obsidian.md's reading view, I will show up with label `3` because I am the third footnote used.\n",
    "\n",
    "I am going to reuse footnote 1[^1], which will show with label `2`.\n",
    "\n",
    "\"\"\"\n",
    "ranges = find_footnote_mentions_in_markdown_text(text_2)\n",
    "\n",
    "footnote_mentions = [text_2[match_range[0]:match_range[1]] for match_range in ranges]\n",
    "for mention in footnote_mentions:\n",
    "    print(mention)\n",
    "test_eq(footnote_mentions, ['[^2]', '[^1]', '[^not_a_number]', '[^1]'])"
   ]
  },
  {
   "cell_type": "code",
   "execution_count": null,
   "metadata": {},
   "outputs": [],
   "source": [
    "#| export\n",
    "def remove_footnote_mentions_in_markdown_text(\n",
    "        text: str\n",
    "        ) -> str:\n",
    "    \"\"\"\n",
    "    Remove all footnote mentions from `text`.\n",
    "    \"\"\"\n",
    "    footnote_indices = find_footnote_mentions_in_markdown_text(text)\n",
    "    return replace_string_by_indices(text, footnote_indices, ['']*len(footnote_indices))"
   ]
  },
  {
   "cell_type": "code",
   "execution_count": null,
   "metadata": {},
   "outputs": [
    {
     "name": "stdout",
     "output_type": "stream",
     "text": [
      "\n",
      "This is a text. See that there are two footnotes used here?. The `remove_footnote_mentions_in_markdown_text` function\n",
      "will remove these.\n",
      "\n",
      "[^1]: Hi. I am a footnote. Unlike the footnote mentions, I am not going anywhere.\n",
      "[^2]: Hi. I am another footnote. I am also not going anywhere.\n",
      "\n",
      "[^3]: Hi. I am yet another footnote. I am unused and I am also not going anywhere.\n",
      "\n",
      "\n"
     ]
    }
   ],
   "source": [
    "text_3 = r\"\"\"\n",
    "This is a text. See that there are two footnotes used here[^1][^2]?. The `remove_footnote_mentions_in_markdown_text` function\n",
    "will remove these.\n",
    "\n",
    "[^1]: Hi. I am a footnote. Unlike the footnote mentions, I am not going anywhere.\n",
    "[^2]: Hi. I am another footnote. I am also not going anywhere.\n",
    "\n",
    "[^3]: Hi. I am yet another footnote. I am unused and I am also not going anywhere.\n",
    "\n",
    "\"\"\"\n",
    "footnote_mentions_removed = remove_footnote_mentions_in_markdown_text(text_3)\n",
    "\n",
    "test_eq([], find_footnote_mentions_in_markdown_text(footnote_mentions_removed))\n",
    "print(footnote_mentions_removed)"
   ]
  },
  {
   "cell_type": "markdown",
   "metadata": {},
   "source": [
    "## Identifying footnote"
   ]
  },
  {
   "cell_type": "code",
   "execution_count": null,
   "metadata": {},
   "outputs": [],
   "source": [
    "#| export\n",
    "def embedded_note_of_footnote(\n",
    "        footnote: str # The full footnote description. May start and end with `'\\n'` and other whitespace characters\n",
    "        ) -> Union[str, None]: # The name of the note of the footnote, if applicable. `None` otherwise.\n",
    "    \"\"\"\n",
    "    Return the name of the note that the footnote description embeds\n",
    "    assuming that the footnote only embeds a note.\n",
    "    \"\"\"\n",
    "    footnote = footnote.strip()\n",
    "    generic_embedded_link = ObsidianLink(True, -1, -1, -1)\n",
    "    # print(generic_embedded_link.to_regex())\n",
    "    match = re.fullmatch(fr'\\[\\^.+?\\]: ?{generic_embedded_link.to_regex()}', footnote)\n",
    "    if not match:\n",
    "        return None\n",
    "    else:\n",
    "        return match.group(1)\n"
   ]
  },
  {
   "cell_type": "code",
   "execution_count": null,
   "metadata": {},
   "outputs": [],
   "source": [
    "test_eq('note', embedded_note_of_footnote('[^1]:![[note#Hi]]'))\n",
    "test_eq(None, embedded_note_of_footnote('[^1]: Hello'))\n",
    "test_eq(None, embedded_note_of_footnote('[^1]:![[note#Hi]] but I have other stuff too'))"
   ]
  },
  {
   "cell_type": "code",
   "execution_count": null,
   "metadata": {},
   "outputs": [],
   "source": [
    "#| export\n",
    "def footnote_is_simple_embedded_note(\n",
    "        footnote: str # The full footnote description. May start and end with `'\\n'` and other whitespace characters.\n",
    "        ) -> bool:\n",
    "    \"\"\"\n",
    "    Return `True` if the footnote description is that of a simple embedded note.\n",
    "    \"\"\"\n",
    "    return bool(embedded_note_of_footnote(footnote))"
   ]
  },
  {
   "cell_type": "code",
   "execution_count": null,
   "metadata": {},
   "outputs": [],
   "source": [
    "assert footnote_is_simple_embedded_note('[^1]:![[note#Hi]]')\n",
    "assert not footnote_is_simple_embedded_note('[^1]: Hello')\n",
    "assert not footnote_is_simple_embedded_note('[^1]:![[note#Hi]] but I have other stuff too')"
   ]
  }
 ],
 "metadata": {
  "kernelspec": {
   "display_name": "python3",
   "language": "python",
   "name": "python3"
  }
 },
 "nbformat": 4,
 "nbformat_minor": 2
}
