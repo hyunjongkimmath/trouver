{
 "cells": [
  {
   "cell_type": "markdown",
   "metadata": {},
   "source": [
    "# markdown.obsidian.footnotes\n",
    "\n",
    "> Functions for parsing footnotes in [Obsidian.md](https://obsidian.md/) style markdown."
   ]
  },
  {
   "cell_type": "code",
   "execution_count": null,
   "metadata": {},
   "outputs": [],
   "source": [
    "#| default_exp markdown.obsidian.footnotes"
   ]
  },
  {
   "cell_type": "code",
   "execution_count": null,
   "metadata": {},
   "outputs": [],
   "source": [
    "#| export\n",
    "import os\n",
    "from pathlib import Path\n",
    "import re\n",
    "from trouver.helper import (\n",
    "    find_regex_in_text, replace_string_by_indices\n",
    ")\n",
    "from trouver.markdown.obsidian.links import (\n",
    "    ObsidianLink\n",
    ")\n",
    "\n",
    "from typing import Union"
   ]
  },
  {
   "cell_type": "code",
   "execution_count": null,
   "metadata": {},
   "outputs": [],
   "source": [
    "from fastcore.test import *"
   ]
  },
  {
   "cell_type": "markdown",
   "metadata": {},
   "source": [
    "We use the following examples"
   ]
  },
  {
   "cell_type": "code",
   "execution_count": null,
   "metadata": {},
   "outputs": [],
   "source": [
    "text = r\"\"\"---\n",
    "cssclass: clean-embeds\n",
    "aliases: [foag_Blow_up_Closure_Lemma, foag_the_blow_up_roughly_respects_base_change, foag_The_proper_transform_for_a_closed_subscheme_is_the_blowup_of_the_closed_subscheme_along_a_closed_subscheme, foag_The_blow_up_can_be_computed_by_taking_the_scheme_theoretic_closure_of_the_complement_of_the_blowing_up_locus_in_the_blow_up, foag_Blow_ups_of_a_finite_type_k_scheme_can_be_computed_locally_via_blow_ups_of_coordinate_linear_spaces]\n",
    "tags: [_reference/foag, _meta/literature_note]\n",
    "---\n",
    "# Blow-up Closure Lemma[^1]\n",
    "22.2.6. Blow-up Closure Lemma. - $\\left(\\mathrm{Bl}_{\\mathrm{W}} \\mathrm{Z}, \\mathrm{E}_{\\mathrm{W}} \\mathrm{Z}\\right)$[^3] is canonically isomorphic to $\\left(\\bar{Z}, \\mathrm{E}_{\\bar{\\mathrm{Z}}}\\right) .$ More precisely: if the blow-up $\\mathrm{Bl}_{\\mathrm{X}} \\mathrm{Y}$ exists, then $\\left(\\overline{\\mathrm{Z}}, \\mathrm{E}_{\\overline{\\mathrm{Z}}}\\right)$ is the blow-up of $\\mathrm{Z}$ along W.\n",
    "\n",
    "[^3]: In this context, [[foag_ 22.2.5|we have]] \n",
    "![[Pasted image 20221009114121.png]]\n",
    "we let $\\overline{Z}$ be the scheme theoretic closure of $(Z \\times_Y \\operatorname{Bl}_X Y) \\setminus (W \\times_Y \\operatorname{Bl}_X Y)$ in $Z \\times_Y \\operatorname{Bl}_X Y$, and we define $E_{\\overline{Z}}$ as the pullback of $E_X Y$ to $\\overline{Z}$.\n",
    "\n",
    "This will be very useful. We make a few initial comments. The first three apply to the special case where $Z \\rightarrow Y$ is a closed embedding, and the fourth comment basically tells us we shouldn't have concentrated on this special case.\n",
    "\n",
    "## The proper transform for a closed subscheme is the blowup of the closed subscheme along a closed subscheme\n",
    "\n",
    "(1) First, note that if $Z \\rightarrow Y$ is a closed embedding, then the Blow-Up Closure Lemma states that the [[foag_ 22.2.5|proper transform]] (as defined in $\\S 22.2$ ) is the blow-up of $Z$ along the scheme-theoretic intersection $W=X \\cap Z$[^2]\n",
    "\n",
    "[^2]: The proper transform is $\\overline{Z}$. The Blow-Up closure lemma says that $\\operatorname{Bl}_W Z$ is $\\overline{Z}$, where $W$ [[foag_ 22.2.5|is the fibered product]] $X \\times_Y Z$, which [[foag_ 9.2.C|is]] $X \\cap Z$. \n",
    "\n",
    "## The blow-up can be computed by taking the scheme-theoretic closure of the complement of the blowing-up locus in the blow-up\n",
    "(2) In particular, the Blow-Up Closure Lemma lets you actually compute blowups, and we will do lots of examples soon. For example, suppose $C$ is a plane curve, singular at a point $p$, and we want to blow up $C$ at $p$. Then we could instead blow up the plane at $p$ (which we have already described how to do, even if we haven't yet proved that it satisfies the universal property of blowing up), and then take the scheme-theoretic closure of $\\mathrm{C} \\backslash\\{\\mathrm{p}\\}$ in the blow-up.\n",
    "\n",
    "## Blow-ups of a finite type $k$-scheme can be computed locally via blow-ups of coordinate linear spaces\n",
    "(3) More generally, if $W$ is some nasty subscheme of $Z$ that we wanted to blowup, and $Z$ were a finite type k-scheme, then the same trick would work. We could work locally ([Exercise $22.2.\\mathrm{A}$](foag_%2022.2.A)), so we may assume that $Z$ is affine. If $W$ is cut out by $r$ equations $f_{1}, \\ldots, f_{r} \\in \\Gamma\\left(Z, O_{Z}\\right)$, then complete the $f^{\\prime}$ s to a generating set $\\mathrm{f}_{1}, \\ldots, \\mathrm{f}_{n}$ of $\\Gamma\\left(\\mathrm{Z}, \\mathscr{O}_{\\mathrm{Z}}\\right) .$ This gives a closed embedding $\\mathrm{Y} \\hookrightarrow \\mathbb{A}^{\\mathrm{n}}$ such that $\\mathrm{W}$ is the scheme-theoretic intersection of $Y$ with a coordinate linear space $A^{n-r}$.\n",
    "\n",
    "\n",
    "# See Also\n",
    "- [[foag_ 22.2.7|foag_The_existence_of_the_blow_up_can_be_reduced_to_the_existence_of_blow_ups_in_affine_space]]\n",
    "- [[foag_ 22.2.G]]\n",
    "# Meta\n",
    "## References\n",
    "![[_reference_foag]]\n",
    "\n",
    "\n",
    "## Citations and Footnotes\n",
    "[^1]: Vakil,  22.2.6, Page 602\"\"\"\n"
   ]
  },
  {
   "cell_type": "code",
   "execution_count": null,
   "metadata": {},
   "outputs": [],
   "source": [
    "# TODO In `text` above, the footnote [^3] spans multiple lines. Find out if this affects any raw-text extraction."
   ]
  },
  {
   "cell_type": "markdown",
   "metadata": {},
   "source": [
    "## Finding footnote descriptions"
   ]
  },
  {
   "cell_type": "markdown",
   "metadata": {},
   "source": [
    "Things like\n",
    "\n",
    "> `[^1]: Hello, this is a footnote being described`"
   ]
  },
  {
   "cell_type": "code",
   "execution_count": null,
   "metadata": {},
   "outputs": [],
   "source": [
    "#| export\n",
    "def find_footnote_descriptions_in_markdown_text(\n",
    "        text: str\n",
    "        ) -> list[tuple]: # Each tuple is of the form `(a,b)` where `text[a:b]` is the full substring of a markdown footnote description.\n",
    "    \"\"\"\n",
    "    Return ranges in the markdown text string where footnote descriptions occur.\n",
    "    \n",
    "    By footnote descriptions, I mean some of the form\n",
    "    `[^label]: some description of the footnote`.\n",
    "    \n",
    "    **Returns**\n",
    "\n",
    "    - list[tuple]\n",
    "        - Each tuple is of the form `(a,b)` where `text[a:b]` is the full substring of a markdown footnote description.\n",
    "    \"\"\"\n",
    "    return find_regex_in_text(text, pattern=r'\\[\\^.+?\\]:.*')"
   ]
  },
  {
   "cell_type": "markdown",
   "metadata": {},
   "source": [
    "**Examples**"
   ]
  },
  {
   "cell_type": "code",
   "execution_count": null,
   "metadata": {},
   "outputs": [
    {
     "name": "stdout",
     "output_type": "stream",
     "text": [
      "[^3]: In this context, [[foag_ 22.2.5|we have]] \n",
      "[^2]: The proper transform is $\\overline{Z}$. The Blow-Up closure lemma says that $\\operatorname{Bl}_W Z$ is $\\overline{Z}$, where $W$ [[foag_ 22.2.5|is the fibered product]] $X \\times_Y Z$, which [[foag_ 9.2.C|is]] $X \\cap Z$. \n",
      "[^1]: Vakil,  22.2.6, Page 602\n"
     ]
    }
   ],
   "source": [
    "ranges = find_footnote_descriptions_in_markdown_text(text)\n",
    "for match_range in ranges:\n",
    "    print(text[match_range[0]:match_range[1]])\n",
    "test_eq(len(ranges), 3)"
   ]
  },
  {
   "cell_type": "markdown",
   "metadata": {},
   "source": [
    "## Find and remove footnote mentions"
   ]
  },
  {
   "cell_type": "markdown",
   "metadata": {},
   "source": [
    "Things like\n",
    "\n",
    "> There is going to be a footnote mention at the end here. [^2]\n",
    "> \n",
    "> [^2]: This is the footnote!"
   ]
  },
  {
   "cell_type": "code",
   "execution_count": null,
   "metadata": {},
   "outputs": [],
   "source": [
    "#| export\n",
    "def find_footnote_mentions_in_markdown_text(\n",
    "        text: str\n",
    "        ) -> list[tuple]: # Each tuple is of the form `(a,b)` where `text[a:b]` is a markdown footnote description.\n",
    "    \"\"\"Return ranges in the markdown text string where footnote\n",
    "    mentions occur.\n",
    "    \n",
    "    By footnote mentions, I mean some of the form `[^label]` without\n",
    "    any descriptions.\n",
    "    \n",
    "    **Returns**\n",
    "\n",
    "    - list[tuple]\n",
    "        - Each tuple is of the form `(a,b)` where `text[a:b]`\n",
    "        is a markdown footnote description.\n",
    "    \"\"\"\n",
    "    return find_regex_in_text(text, pattern=r'\\[\\^[^\\[\\]]+?\\](?!:)')"
   ]
  },
  {
   "cell_type": "markdown",
   "metadata": {},
   "source": [
    "**Examples**"
   ]
  },
  {
   "cell_type": "code",
   "execution_count": null,
   "metadata": {},
   "outputs": [
    {
     "name": "stdout",
     "output_type": "stream",
     "text": [
      "[^1]\n",
      "[^3]\n",
      "[^2]\n"
     ]
    }
   ],
   "source": [
    "ranges = find_footnote_mentions_in_markdown_text(text)\n",
    "\n",
    "footnote_mentions = [text[match_range[0]:match_range[1]] for match_range in ranges]\n",
    "for mention in footnote_mentions:\n",
    "    print(mention)\n",
    "test_eq(footnote_mentions, ['[^1]', '[^3]', '[^2]'])"
   ]
  },
  {
   "cell_type": "code",
   "execution_count": null,
   "metadata": {},
   "outputs": [],
   "source": [
    "#| export\n",
    "def remove_footnote_mentions_in_markdown_text(\n",
    "        text: str\n",
    "        ) -> str:\n",
    "    \"\"\"\n",
    "    Remove all footnote mentions from `text`.\n",
    "    \"\"\"\n",
    "    footnote_indices = find_footnote_mentions_in_markdown_text(text)\n",
    "    return replace_string_by_indices(text, footnote_indices, ['']*len(footnote_indices))"
   ]
  },
  {
   "cell_type": "code",
   "execution_count": null,
   "metadata": {},
   "outputs": [
    {
     "name": "stdout",
     "output_type": "stream",
     "text": [
      "---\n",
      "cssclass: clean-embeds\n",
      "aliases: [foag_Blow_up_Closure_Lemma, foag_the_blow_up_roughly_respects_base_change, foag_The_proper_transform_for_a_closed_subscheme_is_the_blowup_of_the_closed_subscheme_along_a_closed_subscheme, foag_The_blow_up_can_be_computed_by_taking_the_scheme_theoretic_closure_of_the_complement_of_the_blowing_up_locus_in_the_blow_up, foag_Blow_ups_of_a_finite_type_k_scheme_can_be_computed_locally_via_blow_ups_of_coordinate_linear_spaces]\n",
      "tags: [_reference/foag, _meta/literature_note]\n",
      "---\n",
      "# Blow-up Closure Lemma\n",
      "22.2.6. Blow-up Closure Lemma. - $\\left(\\mathrm{Bl}_{\\mathrm{W}} \\mathrm{Z}, \\mathrm{E}_{\\mathrm{W}} \\mathrm{Z}\\right)$ is canonically isomorphic to $\\left(\\bar{Z}, \\mathrm{E}_{\\bar{\\mathrm{Z}}}\\right) .$ More precisely: if the blow-up $\\mathrm{Bl}_{\\mathrm{X}} \\mathrm{Y}$ exists, then $\\left(\\overline{\\mathrm{Z}}, \\mathrm{E}_{\\overline{\\mathrm{Z}}}\\right)$ is the blow-up of $\\mathrm{Z}$ along W.\n",
      "\n",
      "[^3]: In this context, [[foag_ 22.2.5|we have]] \n",
      "![[Pasted image 20221009114121.png]]\n",
      "we let $\\overline{Z}$ be the scheme theoretic closure of $(Z \\times_Y \\operatorname{Bl}_X Y) \\setminus (W \\times_Y \\operatorname{Bl}_X Y)$ in $Z \\times_Y \\operatorname{Bl}_X Y$, and we define $E_{\\overline{Z}}$ as the pullback of $E_X Y$ to $\\overline{Z}$.\n",
      "\n",
      "This will be very useful. We make a few initial comments. The first three apply to the special case where $Z \\rightarrow Y$ is a closed embedding, and the fourth comment basically tells us we shouldn't have concentrated on this special case.\n",
      "\n",
      "## The proper transform for a closed subscheme is the blowup of the closed subscheme along a closed subscheme\n",
      "\n",
      "(1) First, note that if $Z \\rightarrow Y$ is a closed embedding, then the Blow-Up Closure Lemma states that the [[foag_ 22.2.5|proper transform]] (as defined in $\\S 22.2$ ) is the blow-up of $Z$ along the scheme-theoretic intersection $W=X \\cap Z$\n",
      "\n",
      "[^2]: The proper transform is $\\overline{Z}$. The Blow-Up closure lemma says that $\\operatorname{Bl}_W Z$ is $\\overline{Z}$, where $W$ [[foag_ 22.2.5|is the fibered product]] $X \\times_Y Z$, which [[foag_ 9.2.C|is]] $X \\cap Z$. \n",
      "\n",
      "## The blow-up can be computed by taking the scheme-theoretic closure of the complement of the blowing-up locus in the blow-up\n",
      "(2) In particular, the Blow-Up Closure Lemma lets you actually compute blowups, and we will do lots of examples soon. For example, suppose $C$ is a plane curve, singular at a point $p$, and we want to blow up $C$ at $p$. Then we could instead blow up the plane at $p$ (which we have already described how to do, even if we haven't yet proved that it satisfies the universal property of blowing up), and then take the scheme-theoretic closure of $\\mathrm{C} \\backslash\\{\\mathrm{p}\\}$ in the blow-up.\n",
      "\n",
      "## Blow-ups of a finite type $k$-scheme can be computed locally via blow-ups of coordinate linear spaces\n",
      "(3) More generally, if $W$ is some nasty subscheme of $Z$ that we wanted to blowup, and $Z$ were a finite type k-scheme, then the same trick would work. We could work locally ([Exercise $22.2.\\mathrm{A}$](foag_%2022.2.A)), so we may assume that $Z$ is affine. If $W$ is cut out by $r$ equations $f_{1}, \\ldots, f_{r} \\in \\Gamma\\left(Z, O_{Z}\\right)$, then complete the $f^{\\prime}$ s to a generating set $\\mathrm{f}_{1}, \\ldots, \\mathrm{f}_{n}$ of $\\Gamma\\left(\\mathrm{Z}, \\mathscr{O}_{\\mathrm{Z}}\\right) .$ This gives a closed embedding $\\mathrm{Y} \\hookrightarrow \\mathbb{A}^{\\mathrm{n}}$ such that $\\mathrm{W}$ is the scheme-theoretic intersection of $Y$ with a coordinate linear space $A^{n-r}$.\n",
      "\n",
      "\n",
      "# See Also\n",
      "- [[foag_ 22.2.7|foag_The_existence_of_the_blow_up_can_be_reduced_to_the_existence_of_blow_ups_in_affine_space]]\n",
      "- [[foag_ 22.2.G]]\n",
      "# Meta\n",
      "## References\n",
      "![[_reference_foag]]\n",
      "\n",
      "\n",
      "## Citations and Footnotes\n",
      "[^1]: Vakil,  22.2.6, Page 602\n"
     ]
    }
   ],
   "source": [
    "footnote_mentions_removed = remove_footnote_mentions_in_markdown_text(text)\n",
    "\n",
    "test_eq([], find_footnote_mentions_in_markdown_text(footnote_mentions_removed))\n",
    "print(footnote_mentions_removed)"
   ]
  },
  {
   "cell_type": "markdown",
   "metadata": {},
   "source": [
    "## Identifying footnote"
   ]
  },
  {
   "cell_type": "code",
   "execution_count": null,
   "metadata": {},
   "outputs": [],
   "source": [
    "#| export\n",
    "def embedded_note_of_footnote(\n",
    "        footnote: str # The full footnote description. May start and end with `'\\n'` and other whitespace characters\n",
    "        ) -> Union[str, None]: # The name of the note of the footnote, if applicable. `None` otherwise.\n",
    "    \"\"\"\n",
    "    Return the name of the note that the footnote description embeds\n",
    "    assuming that the footnote only embeds a note.\n",
    "    \"\"\"\n",
    "    footnote = footnote.strip()\n",
    "    generic_embedded_link = ObsidianLink(True, -1, -1, -1)\n",
    "    # print(generic_embedded_link.to_regex())\n",
    "    match = re.fullmatch(fr'\\[\\^.+?\\]: ?{generic_embedded_link.to_regex()}', footnote)\n",
    "    if not match:\n",
    "        return None\n",
    "    else:\n",
    "        return match.group(1)\n"
   ]
  },
  {
   "cell_type": "code",
   "execution_count": null,
   "metadata": {},
   "outputs": [],
   "source": [
    "test_eq('note', embedded_note_of_footnote('[^1]:![[note#Hi]]'))\n",
    "test_eq(None, embedded_note_of_footnote('[^1]: Hello'))\n",
    "test_eq(None, embedded_note_of_footnote('[^1]:![[note#Hi]] but I have other stuff too'))"
   ]
  },
  {
   "cell_type": "code",
   "execution_count": null,
   "metadata": {},
   "outputs": [],
   "source": [
    "#| export\n",
    "def footnote_is_simple_embedded_note(\n",
    "        footnote: str # The full footnote description. May start and end with `'\\n'` and other whitespace characters.\n",
    "        ) -> bool:\n",
    "    \"\"\"\n",
    "    Return `True` if the footnote description is that of a simple embedded note.\n",
    "    \"\"\"\n",
    "    return bool(embedded_note_of_footnote(footnote))"
   ]
  },
  {
   "cell_type": "code",
   "execution_count": null,
   "metadata": {},
   "outputs": [],
   "source": [
    "assert footnote_is_simple_embedded_note('[^1]:![[note#Hi]]')\n",
    "assert not footnote_is_simple_embedded_note('[^1]: Hello')\n",
    "assert not footnote_is_simple_embedded_note('[^1]:![[note#Hi]] but I have other stuff too')"
   ]
  }
 ],
 "metadata": {
  "kernelspec": {
   "display_name": "Python 3.10.6 ('trouver_py310_venv')",
   "language": "python",
   "name": "python3"
  }
 },
 "nbformat": 4,
 "nbformat_minor": 2
}
