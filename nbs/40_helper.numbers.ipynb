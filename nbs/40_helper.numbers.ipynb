{
 "cells": [
  {
   "cell_type": "code",
   "execution_count": null,
   "metadata": {},
   "outputs": [],
   "source": [
    "#| default_exp helper.numbers"
   ]
  },
  {
   "cell_type": "markdown",
   "metadata": {},
   "source": [
    "# helper.numbers\n",
    "> "
   ]
  },
  {
   "cell_type": "code",
   "execution_count": null,
   "metadata": {},
   "outputs": [],
   "source": [
    "#| export\n",
    "from typing import Union"
   ]
  },
  {
   "cell_type": "markdown",
   "metadata": {},
   "source": [
    "## Numbers"
   ]
  },
  {
   "cell_type": "code",
   "execution_count": null,
   "metadata": {},
   "outputs": [],
   "source": [
    "#| export\n",
    "def is_number(\n",
    "        x: Union[float, int, complex, str]\n",
    "        ) -> bool:\n",
    "    \"\"\"Return `True` if the input `x` represents a number.\n",
    "    \n",
    "    This function is different from Python's built-in `is_numeric`\n",
    "    function, which returns `True` when all characters of a string\n",
    "    are digits.\n",
    "    \"\"\"\n",
    "    if isinstance(x, (float, int, complex)):\n",
    "        return True\n",
    "    #For the case where string is None\n",
    "    if x is None:\n",
    "        return False\n",
    "    if x and x[0] == '-': x = x[1:]\n",
    "    return x.replace(\".\", \"1\", 1).isdigit()"
   ]
  },
  {
   "cell_type": "code",
   "execution_count": null,
   "metadata": {},
   "outputs": [],
   "source": [
    "assert is_number(\"3.45\")\n",
    "assert is_number(1 + 5j)\n",
    "assert is_number(5)\n",
    "assert is_number(0.0)\n",
    "assert not is_number(\"3.43.55\")\n",
    "assert not is_number(\"hie\")\n",
    "assert not is_number(\"[^1]\")\n",
    "assert not is_number(None)"
   ]
  }
 ],
 "metadata": {
  "kernelspec": {
   "display_name": "trouver_py310_venv",
   "language": "python",
   "name": "trouver_py310_venv"
  }
 },
 "nbformat": 4,
 "nbformat_minor": 2
}
