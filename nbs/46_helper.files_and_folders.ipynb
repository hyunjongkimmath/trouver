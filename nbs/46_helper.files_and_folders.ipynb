{
 "cells": [
  {
   "cell_type": "code",
   "execution_count": null,
   "metadata": {},
   "outputs": [],
   "source": [
    "#| default_exp helper.files_and_folders"
   ]
  },
  {
   "cell_type": "code",
   "execution_count": null,
   "metadata": {},
   "outputs": [],
   "source": [
    "#| export\n",
    "import bz2\n",
    "import errno\n",
    "import gzip\n",
    "import lzma\n",
    "import os\n",
    "from os import PathLike\n",
    "from pathlib import Path\n",
    "import platform\n",
    "import tarfile\n",
    "from typing import Optional\n",
    "import winreg\n",
    "import zipfile\n",
    "\n",
    "from deprecated import deprecated\n",
    "import glob\n",
    "from natsort import natsorted\n"
   ]
  },
  {
   "cell_type": "code",
   "execution_count": null,
   "metadata": {},
   "outputs": [],
   "source": [
    "from fastcore.test import *\n",
    "from unittest import mock"
   ]
  },
  {
   "cell_type": "markdown",
   "metadata": {},
   "source": [
    "## Files and folders"
   ]
  },
  {
   "cell_type": "markdown",
   "metadata": {},
   "source": [
    "#### File existence"
   ]
  },
  {
   "cell_type": "code",
   "execution_count": null,
   "metadata": {},
   "outputs": [],
   "source": [
    "#| export\n",
    "def existing_path(\n",
    "        path: PathLike,  # A file or directory path. Either absolute or relative to `relative_to`.\n",
    "        relative_to: Optional[PathLike] = None  # Path to the directory that `file` is relative to.  If `None`, then `path` is an absolute path.\n",
    "        ) -> Path: # The path formed by `relative_to` adjoined with `path`.  Defaults to `None`\n",
    "    \"\"\"Returns a path relative to a specified path as an absolute path\n",
    "    that exists.\n",
    "\n",
    "    **Raises**\n",
    "\n",
    "    - `FileNotFoundError`\n",
    "        - If `relative_to` is not `None` but does not exist, or if\n",
    "        `file` does not exist.\n",
    "    - `ValueError`\n",
    "        - If `relative_to` is not `None` and yet not an absolute path, or\n",
    "        if `relative_to` is `None` at yet `path` is not an absolute path.\n",
    "    \n",
    "    **Notes**\n",
    "    - This function may add the string `'\\\\\\\\?\\\\'` in front, which identifies\n",
    "    very long paths.\n",
    "    \"\"\"\n",
    "    if relative_to is not None:\n",
    "        if not os.path.isabs(relative_to):\n",
    "            raise ValueError(\n",
    "                f'The parameter `relative_to` is expected to be an'\n",
    "                f' absolute path, but it is not: {relative_to}')\n",
    "        if not os.path.exists(relative_to):\n",
    "            raise FileNotFoundError(\n",
    "                errno.ENOENT, os.strerror(errno.ENOENT), relative_to)\n",
    "        path = Path(relative_to) / path\n",
    "    elif not os.path.isabs(path):\n",
    "        raise ValueError(\n",
    "            f'The parameter `path` is expected to be an absolute path,'\n",
    "            f' but it is not: {path}')\n",
    "    if not os.path.exists(path) and platform.system() == 'Windows':\n",
    "        path = f'\\\\\\\\?\\\\{str(path)}'  # For long file names\n",
    "    if not os.path.exists(path):\n",
    "        raise FileNotFoundError(\n",
    "            errno.ENOENT, os.strerror(errno.ENOENT), path)\n",
    "    return Path(path)\n",
    "\n",
    "\n",
    "@deprecated(reason=\"The function has been renamed to `existing_path`\")\n",
    "def file_existence_test(\n",
    "        path: PathLike,  # A file or directory path. Either absolute or relative to `relative_to`.\n",
    "        relative_to: Optional[PathLike] = None  # Path to the directory that `file` is relative to.  If `None`, then `path` is an absolute path.\n",
    "        ) -> Path: # The path formed by `relative_to` adjoined with `path`.  Defaults to `None`\n",
    "    \"\"\"\n",
    "    **Deprecated. Use `existing_path` instead.**\n",
    "    \n",
    "    Returns a path relative to a specified path as an absolute path\n",
    "    that exists.\n",
    "\n",
    "    **Raises**\n",
    "    - `FileNotFoundError`\n",
    "        - If `relative_to` is not `None` but does not exist, or if\n",
    "        `file` does not exist.\n",
    "    \n",
    "    **Notes**\n",
    "    - This function may add the string `'\\\\\\\\?\\\\'` in front, which identifies\n",
    "    very long paths.\n",
    "    \"\"\"\n",
    "    if relative_to is not None:\n",
    "        if not os.path.isabs(relative_to):\n",
    "            raise ValueError(\n",
    "                f'The parameter `relative_to` is expected to be an'\n",
    "                f' absolute path, but it is not: {relative_to}')\n",
    "        if not os.path.exists(relative_to):\n",
    "            raise FileNotFoundError(\n",
    "                errno.ENOENT, os.strerror(errno.ENOENT), relative_to)\n",
    "        path = Path(relative_to) / path\n",
    "    elif not os.path.isabs(path):\n",
    "        raise ValueError(\n",
    "            f'The parmaeter `path` is expected to be an absolute path,'\n",
    "            f' but it is not: {path}')\n",
    "    if not os.path.exists(path) and platform.system() == 'Windows':\n",
    "        path = f'\\\\\\\\?\\\\{str(path)}'  # For long file names\n",
    "    if not os.path.exists(path):\n",
    "        raise FileNotFoundError(\n",
    "            errno.ENOENT, os.strerror(errno.ENOENT), path)\n",
    "    return Path(path)"
   ]
  },
  {
   "cell_type": "markdown",
   "metadata": {},
   "source": [
    "In the following example, the `existing_path` method returns an existing absolute path $p_2 \\backslash p_1$ which is equivalent to a specified path $p_1$ relative to an existing absolute path $p_2$. Note that all paths and `os` methods are mocked:"
   ]
  },
  {
   "cell_type": "code",
   "execution_count": null,
   "metadata": {},
   "outputs": [],
   "source": [
    "with (mock.patch('os.path.exists') as mock_path_exists,\n",
    "      mock.patch('os.path.isabs') as mock_is_abs):\n",
    "    mock_path_exists.return_value = True\n",
    "    mock_is_abs.return_value = True\n",
    "    path_1 = existing_path('mock_existing_relative_path', 'mock_existing_absolute_path')\n",
    "    test_eq(Path('mock_existing_absolute_path') / 'mock_existing_relative_path', path_1)\n"
   ]
  },
  {
   "cell_type": "markdown",
   "metadata": {},
   "source": [
    "If the desired path is very long in Windows, then the `\\\\?\\` may be appended in front of the absolute path so that Python can actually find the path, cf. https://stackoverflow.com/questions/36219317/pathname-too-long-to-open:"
   ]
  },
  {
   "cell_type": "code",
   "execution_count": null,
   "metadata": {},
   "outputs": [
    {
     "name": "stdout",
     "output_type": "stream",
     "text": [
      "hi\n"
     ]
    }
   ],
   "source": [
    "# TODO provide an example\n",
    "with (mock.patch('os.path.exists') as mock_path_exists,\n",
    "      mock.patch('os.path.isabs') as mock_is_abs):\n",
    "  print('hi') "
   ]
  },
  {
   "cell_type": "markdown",
   "metadata": {},
   "source": [
    "If the parameter `relative_to`, which is supposed to be an absolute path, is not `None` and not absolute, then a `ValueError` is raised:"
   ]
  },
  {
   "cell_type": "code",
   "execution_count": null,
   "metadata": {},
   "outputs": [],
   "source": [
    "with (ExceptionExpected(ex=ValueError, regex='absolute path'),\n",
    "      mock.patch('os.path.exists') as mock_path_exists,\n",
    "      mock.patch('os.path.isabs') as mock_is_abs):\n",
    "    mock_is_abs.return_value = False\n",
    "    path = 'mock_relative_path_that_is_not_None'\n",
    "    relative_to = 'mock_non_absolute_path'\n",
    "    existing_path('mock_relative_to_that_is_not_None', relative_to)\n",
    "\n",
    "\n",
    "with (ExceptionExpected(ex=ValueError, regex='absolute path'),\n",
    "      mock.patch('os.path.exists') as mock_path_exists,\n",
    "      mock.patch('os.path.isabs') as mock_is_abs):\n",
    "    mock_is_abs.return_value = False\n",
    "    # It does not matter what `path`` is - as long as `relative_to`` is not `None` and not absolute, the ValueError is raised.\n",
    "    path = None  \n",
    "    relative_to = 'mock_non_absolute_path'\n",
    "    existing_path('mock_relative_to_that_is_not_None', relative_to)"
   ]
  },
  {
   "cell_type": "code",
   "execution_count": null,
   "metadata": {},
   "outputs": [
    {
     "name": "stdout",
     "output_type": "stream",
     "text": [
      "False\n",
      "False\n",
      "False\n"
     ]
    }
   ],
   "source": [
    "# |hide \n",
    "# I am verifying that a mock method's return value is constant if it is not reset \n",
    "with (mock.patch('os.path.isabs') as mock_is_abs):\n",
    "    mock_is_abs.return_value = False\n",
    "    print(mock_is_abs())\n",
    "    print(mock_is_abs())\n",
    "    print(mock_is_abs())"
   ]
  },
  {
   "cell_type": "markdown",
   "metadata": {},
   "source": [
    "If the parameter `relative_to` is `None` and the paramether `path` is not absolute, then a `ValueError` is raised:"
   ]
  },
  {
   "cell_type": "code",
   "execution_count": null,
   "metadata": {},
   "outputs": [],
   "source": [
    "with (ExceptionExpected(ex=ValueError, regex='absolute path'),\n",
    "      mock.patch('os.path.isabs') as mock_is_abs):\n",
    "    mock_is_abs.return_value = False\n",
    "    relative_to = None\n",
    "    path = 'mock_non_absolute_path'\n",
    "    existing_path(path, relative_to)"
   ]
  },
  {
   "cell_type": "markdown",
   "metadata": {},
   "source": [
    "If `relative_to` does not exist or if `path` does not exist, then a `FileNotFoundError` is raised:"
   ]
  },
  {
   "cell_type": "code",
   "execution_count": null,
   "metadata": {},
   "outputs": [],
   "source": [
    "# In this example, both `relative_to` and `path` are specified, and `relative_to`\n",
    "# is a non-existent path.`\n",
    "with (ExceptionExpected(ex=FileNotFoundError),\n",
    "      mock.patch('os.path.exists') as mock_path_exists,\n",
    "      mock.patch('os.path.isabs') as mock_is_abs):\n",
    "    relative_to = 'mock_non_existent_absolute_path'\n",
    "    path = 'mock_some_relative_path'\n",
    "    def relative_to_does_not_exist(path_to_check):\n",
    "      return False if path_to_check is relative_to else True\n",
    "    def relative_to_is_absolute_path(path_to_check):\n",
    "      return True if path_to_check is relative_to else False\n",
    "\n",
    "    mock_path_exists.side_effect = relative_to_does_not_exist\n",
    "    mock_is_abs.side_effect = relative_to_is_absolute_path\n",
    "    existing_path(path, relative_to)\n",
    "\n",
    "\n",
    "# In this example, both `relative_to` and `path` are specified, and `path`\n",
    "# is a non-existent path.`, whereas `relative_to` exists.\n",
    "with (ExceptionExpected(ex=FileNotFoundError),\n",
    "      mock.patch('os.path.exists') as mock_path_exists,\n",
    "      mock.patch('os.path.isabs') as mock_is_abs):\n",
    "    relative_to = 'mock_existent_absolute_path'\n",
    "    path = 'mock_non_existent_relative_path'\n",
    "    def only_relative_to_exists(path_to_check):\n",
    "      # only `relative_to` exists; all other paths of interest do not exist.\n",
    "      return path_to_check is relative_to\n",
    "    def relative_to_is_absolute_path(path_to_check):\n",
    "      return True if path_to_check is relative_to else False\n",
    "\n",
    "    mock_path_exists.side_effect = only_relative_to_exists\n",
    "    mock_is_abs.side_effect = relative_to_is_absolute_path\n",
    "    existing_path(path, relative_to)\n"
   ]
  },
  {
   "cell_type": "markdown",
   "metadata": {},
   "source": [
    "#### Paths without extensions"
   ]
  },
  {
   "cell_type": "code",
   "execution_count": null,
   "metadata": {},
   "outputs": [],
   "source": [
    "#| export\n",
    "def path_name_no_ext(\n",
    "        path: PathLike # The path of the file or directory. This may be absolute or relative to any directory.\n",
    "        ) -> str: # The name of the file or directory without the extension.\n",
    "    \"\"\"Return the name of a file or directory from its path without the\n",
    "    extension.\n",
    "    \n",
    "    The file or directory does not have to exist.\n",
    "    \"\"\"\n",
    "    name_with_extension = os.path.basename(path)\n",
    "    return os.path.splitext(name_with_extension)[0]"
   ]
  },
  {
   "cell_type": "markdown",
   "metadata": {},
   "source": [
    "Basic usage:"
   ]
  },
  {
   "cell_type": "code",
   "execution_count": null,
   "metadata": {},
   "outputs": [],
   "source": [
    "path = Path('hypothetical_directory')\n",
    "test_eq(path_name_no_ext(path / 'hypothetical_subdirectory'),  'hypothetical_subdirectory')\n",
    "test_eq(path_name_no_ext(path / 'hypotehtical_subdirectory' / 'hypothetical_file.md'),  'hypothetical_file')"
   ]
  },
  {
   "cell_type": "markdown",
   "metadata": {},
   "source": [
    "The path does not have to exist."
   ]
  },
  {
   "cell_type": "code",
   "execution_count": null,
   "metadata": {},
   "outputs": [],
   "source": [
    "test_eq(path_name_no_ext(path / 'this_folder_does_not_exist'), 'this_folder_does_not_exist')"
   ]
  },
  {
   "cell_type": "markdown",
   "metadata": {},
   "source": [
    "On paths to files with \"multiple extensions\", the function returns the file name without the last extension only."
   ]
  },
  {
   "cell_type": "code",
   "execution_count": null,
   "metadata": {},
   "outputs": [],
   "source": [
    "test_eq(path_name_no_ext('archived_file_somewhere.7z.zip.tar'),  'archived_file_somewhere.7z.zip')"
   ]
  },
  {
   "cell_type": "code",
   "execution_count": null,
   "metadata": {},
   "outputs": [],
   "source": [
    "#| export\n",
    "def path_no_ext(\n",
    "    path: PathLike # The path of the file or directory. This may be absolute or relative to any directory.\n",
    "    ) -> str: # The path of the file or directory without the extension. If `path` is a path to a directory, then the output should be essentially the same as `path`.\n",
    "    \"\"\"Returns the path of a file or directory without the extension.\n",
    "    \n",
    "    The file or directory does not have to exist.\n",
    "    \"\"\"\n",
    "    return os.path.splitext(str(path))[0]"
   ]
  },
  {
   "cell_type": "markdown",
   "metadata": {},
   "source": [
    "Basic usage - the path does not have to exist:"
   ]
  },
  {
   "cell_type": "code",
   "execution_count": null,
   "metadata": {},
   "outputs": [],
   "source": [
    "assert path_no_ext('C:\\\\hi') == 'C:\\\\hi'\n",
    "assert path_no_ext('greetings\\\\file.txt') == 'greetings\\\\file'"
   ]
  },
  {
   "cell_type": "markdown",
   "metadata": {},
   "source": [
    "#### Read text from file"
   ]
  },
  {
   "cell_type": "code",
   "execution_count": null,
   "metadata": {},
   "outputs": [],
   "source": [
    "#| export\n",
    "def text_from_file(\n",
    "        path: PathLike, # The absolute path of the file.\n",
    "        encoding: str = 'utf8' # The encoding of the file to be read. Defaults to `'utf8'`.\n",
    "        ) -> str: # The entire text from a file\n",
    "    \"\"\"Return the entire text from a file.\n",
    "\n",
    "    Assuems that the file can be encoded in the specified `encoding`\n",
    "    \"\"\"\n",
    "    with open(path, 'r', encoding=encoding) as file:\n",
    "        text = file.read()\n",
    "        file.close()\n",
    "    return text"
   ]
  },
  {
   "cell_type": "markdown",
   "metadata": {},
   "source": [
    "The `text_from_file` method is a quick method to extract the text from a file."
   ]
  },
  {
   "cell_type": "code",
   "execution_count": null,
   "metadata": {},
   "outputs": [],
   "source": [
    "# TODO: examples/tests"
   ]
  },
  {
   "cell_type": "markdown",
   "metadata": {},
   "source": [
    "#### File extension"
   ]
  },
  {
   "cell_type": "code",
   "execution_count": null,
   "metadata": {},
   "outputs": [],
   "source": [
    "#| export\n",
    "def files_of_format_sorted(\n",
    "        directory: PathLike, # The directory in which to find the files\n",
    "        extension: str = 'txt' # Extension of the files to find. Defaults to 'txt'.\n",
    "        ) -> list[str]:\n",
    "    \"\"\"Return a list of path str of files in the directory (but not subdirectories)\n",
    "    sorted via `natsort`.\n",
    "    \"\"\"\n",
    "    return natsorted(glob.glob(str(Path(directory) / f'*.{extension}')))"
   ]
  },
  {
   "cell_type": "markdown",
   "metadata": {},
   "source": [
    "In the following example, we mock a folder with numbered files. `files_of_format_sorted` returns them in the \"natural\" order."
   ]
  },
  {
   "cell_type": "code",
   "execution_count": null,
   "metadata": {},
   "outputs": [
    {
     "name": "stdout",
     "output_type": "stream",
     "text": [
      "[WindowsPath('some_directory/1.txt'), WindowsPath('some_directory/2.txt'), WindowsPath('some_directory/3.txt'), WindowsPath('some_directory/4.txt'), WindowsPath('some_directory/5.txt'), WindowsPath('some_directory/6.txt'), WindowsPath('some_directory/7.txt'), WindowsPath('some_directory/8.txt'), WindowsPath('some_directory/9.txt'), WindowsPath('some_directory/10.txt')]\n"
     ]
    }
   ],
   "source": [
    "with (mock.patch('glob.glob') as mock_glob):\n",
    "    mock_directory = Path('some_directory')\n",
    "    # `glob_results`` is not sorted in \"natural\" order. \n",
    "    glob_results = [mock_directory / f'{i}.txt' for i in range (10,0, -1)]\n",
    "    mock_glob.return_value = glob_results\n",
    "\n",
    "    # mock to make sure that natsorted was called.\n",
    "    with mock.patch(__name__ + '.natsorted') as mock_natsorted:\n",
    "      mock_files = files_of_format_sorted(mock_directory)\n",
    "      mock_natsorted.assert_called_with(mock_glob.return_value)\n",
    "\n",
    "    # Now print out that the files are sorted in \"natural\" order.\n",
    "    mock_files = files_of_format_sorted(mock_directory)\n",
    "    print(mock_files)\n",
    "    test_shuffled(glob_results, mock_files)"
   ]
  },
  {
   "cell_type": "markdown",
   "metadata": {},
   "source": [
    "## Compressed files"
   ]
  },
  {
   "cell_type": "code",
   "execution_count": null,
   "metadata": {},
   "outputs": [],
   "source": [
    "#| export\n",
    "def file_is_compressed(\n",
    "        filename: str\n",
    "        ):\n",
    "    # Define a set of common compressed file extensions\n",
    "    compressed_extensions = {\n",
    "        '.zip',\n",
    "        '.gz',\n",
    "        '.tar',\n",
    "        '.tar.gz',\n",
    "        '.tgz',\n",
    "        '.bz2',\n",
    "        '.xz',\n",
    "        '.7z',\n",
    "        '.rar',\n",
    "        '.z',\n",
    "    }\n",
    "\n",
    "    # Get the file extension\n",
    "    _, file_extension = os.path.splitext(filename)\n",
    "\n",
    "    # Check if the file extension is in the set of compressed extensions\n",
    "    return file_extension.lower() in compressed_extensions"
   ]
  },
  {
   "cell_type": "code",
   "execution_count": null,
   "metadata": {},
   "outputs": [],
   "source": [
    "assert file_is_compressed('asdf.tar')\n",
    "assert file_is_compressed('asdf.tar.gz')\n",
    "assert file_is_compressed('./hi/asdf.tar.gz')\n",
    "assert not file_is_compressed('./hi/bye')\n",
    "assert not file_is_compressed('./hi/bye.pdf')"
   ]
  },
  {
   "cell_type": "code",
   "execution_count": null,
   "metadata": {},
   "outputs": [],
   "source": [
    "#| export\n",
    "def uncompress_file(\n",
    "        file_path: PathLike,\n",
    "        verbose: bool = False\n",
    "        ):\n",
    "    # Check the file extension\n",
    "    file_path = str(file_path)\n",
    "    _, file_extension = os.path.splitext(file_path)\n",
    "    uncompressed_files = []\n",
    "\n",
    "    try:\n",
    "        if file_extension == '.zip':\n",
    "            with zipfile.ZipFile(file_path, 'r') as zip_ref:\n",
    "                zip_ref.extractall(os.path.dirname(file_path))\n",
    "                uncompressed_files = [os.path.join(os.path.dirname(file_path), name) for name in zip_ref.namelist()]\n",
    "            if verbose:\n",
    "                print(f\"Uncompressed {file_path} into {os.path.dirname(file_path)}\")\n",
    "\n",
    "        elif file_extension in ['.tar', '.tar.gz', '.tgz', '.tar.bz2', '.tbz']:\n",
    "            with tarfile.open(file_path, 'r:*') as tar_ref:\n",
    "                tar_ref.extractall(os.path.dirname(file_path))\n",
    "                uncompressed_files = [os.path.join(os.path.dirname(file_path), name) for name in tar_ref.getnames()]\n",
    "            if verbose:\n",
    "                print(f\"Uncompressed {file_path} into {os.path.dirname(file_path)}\")\n",
    "\n",
    "        elif file_extension == '.gz':\n",
    "            output_file_path = file_path[:-3]  # Remove the .gz extension\n",
    "            with gzip.open(file_path, 'rb') as gz_file:\n",
    "                with open(output_file_path, 'wb') as out_file:\n",
    "                    out_file.write(gz_file.read())\n",
    "            uncompressed_files.append(output_file_path)\n",
    "            if verbose:\n",
    "                print(f\"Uncompressed {file_path} into {output_file_path}\")\n",
    "\n",
    "        elif file_extension == '.bz2':\n",
    "            output_file_path = file_path[:-4]  # Remove the .bz2 extension\n",
    "            with bz2.open(file_path, 'rb') as bz2_file:\n",
    "                with open(output_file_path, 'wb') as out_file:\n",
    "                    out_file.write(bz2_file.read())\n",
    "            uncompressed_files.append(output_file_path)\n",
    "            if verbose:\n",
    "                print(f\"Uncompressed {file_path} into {output_file_path}\")\n",
    "\n",
    "        elif file_extension == '.xz':\n",
    "            output_file_path = file_path[:-3]  # Remove the .xz extension\n",
    "            with lzma.open(file_path, 'rb') as xz_file:\n",
    "                with open(output_file_path, 'wb') as out_file:\n",
    "                    out_file.write(xz_file.read())\n",
    "            uncompressed_files.append(output_file_path)\n",
    "            if verbose:\n",
    "                print(f\"Uncompressed {file_path} into {output_file_path}\")\n",
    "\n",
    "        else:\n",
    "            if verbose:\n",
    "                print(f\"Unsupported file format: {file_extension}\")\n",
    "\n",
    "    except Exception as e:\n",
    "        if verbose:\n",
    "            print(f\"An error occurred while uncompressing {file_path}: {e}\")\n",
    "\n",
    "    return uncompressed_files\n",
    "\n",
    "# import os\n",
    "# import zipfile\n",
    "# import tarfile\n",
    "# import gzip\n",
    "# import bz2\n",
    "# import lzma\n",
    "# from pathlib import Path\n",
    "\n",
    "# def uncompress_file(\n",
    "#         file_path: PathLike,\n",
    "#         verbose: bool = False\n",
    "#         ):\n",
    "#     file_path = Path(file_path)\n",
    "#     output_dir = file_path.parent\n",
    "#     uncompressed_files = []\n",
    "\n",
    "#     try:\n",
    "#         if file_path.suffix == '.zip':\n",
    "#             with zipfile.ZipFile(file_path, 'r') as zip_ref:\n",
    "#                 zip_ref.extractall(output_dir)\n",
    "#                 uncompressed_files = [output_dir / name for name in zip_ref.namelist()]\n",
    "\n",
    "#         elif file_path.suffix in ['.tar', '.gz', '.tgz', '.bz2', '.tbz']:\n",
    "#             if file_path.suffix == '.gz' and not tarfile.is_tarfile(file_path):\n",
    "#                 # Handle single gzipped file\n",
    "#                 with gzip.open(file_path, 'rb') as gz_file:\n",
    "#                     content = gz_file.read()\n",
    "#                     # Try to get the original filename from the gzip header\n",
    "#                     original_name = gz_file.name\n",
    "#                     if original_name:\n",
    "#                         output_file = output_dir / Path(original_name).name\n",
    "#                     else:\n",
    "#                         output_file = output_dir / file_path.stem\n",
    "#                     output_file.write_bytes(content)\n",
    "#                 uncompressed_files.append(output_file)\n",
    "#             else:\n",
    "#                 # Handle tar archives (including .tar.gz, .tgz, .tar.bz2, .tbz)\n",
    "#                 with tarfile.open(file_path, 'r:*') as tar_ref:\n",
    "#                     tar_ref.extractall(output_dir)\n",
    "#                     uncompressed_files = [output_dir / name for name in tar_ref.getnames()]\n",
    "\n",
    "#         elif file_path.suffix == '.bz2':\n",
    "#             with bz2.open(file_path, 'rb') as bz2_file:\n",
    "#                 content = bz2_file.read()\n",
    "#                 output_file = output_dir / file_path.stem\n",
    "#                 output_file.write_bytes(content)\n",
    "#             uncompressed_files.append(output_file)\n",
    "\n",
    "#         elif file_path.suffix == '.xz':\n",
    "#             with lzma.open(file_path, 'rb') as xz_file:\n",
    "#                 content = xz_file.read()\n",
    "#                 output_file = output_dir / file_path.stem\n",
    "#                 output_file.write_bytes(content)\n",
    "#             uncompressed_files.append(output_file)\n",
    "\n",
    "#         else:\n",
    "#             if verbose:\n",
    "#                 print(f\"Unsupported file format: {file_path.suffix}\")\n",
    "\n",
    "#         if verbose:\n",
    "#             print(f\"Uncompressed {file_path} into {output_dir}\")\n",
    "\n",
    "#     except Exception as e:\n",
    "#         if verbose:\n",
    "#             print(f\"An error occurred while uncompressing {file_path}: {e}\")\n",
    "\n",
    "#     return uncompressed_files\n"
   ]
  },
  {
   "cell_type": "code",
   "execution_count": null,
   "metadata": {},
   "outputs": [],
   "source": [
    "\n",
    "\n",
    "# TODO : test\n",
    "\n",
    "# Example usage\n",
    "# file_to_uncompress = './1605.08386v1.Heat_bath_random_walks_with_Markov_bases.tar'  # Replace with your file name\n",
    "# hi = uncompress_file(file_to_uncompress)"
   ]
  },
  {
   "cell_type": "code",
   "execution_count": null,
   "metadata": {},
   "outputs": [],
   "source": [
    "# hi"
   ]
  },
  {
   "cell_type": "code",
   "execution_count": null,
   "metadata": {},
   "outputs": [],
   "source": []
  },
  {
   "cell_type": "markdown",
   "metadata": {},
   "source": [
    "## Downloads folder"
   ]
  },
  {
   "cell_type": "code",
   "execution_count": null,
   "metadata": {},
   "outputs": [],
   "source": [
    "#| export\n",
    "def get_download_path() -> str:\n",
    "    \"\"\"\n",
    "    Return the user's download folder\n",
    "    \"\"\"\n",
    "    if os.name == 'nt':  # For Windows\n",
    "        sub_key = r'SOFTWARE\\Microsoft\\Windows\\CurrentVersion\\Explorer\\Shell Folders'\n",
    "        downloads_guid = '{374DE290-123F-4565-9164-39C4925E467B}'\n",
    "        with winreg.OpenKey(winreg.HKEY_CURRENT_USER, sub_key) as key:\n",
    "            location = winreg.QueryValueEx(key, downloads_guid)[0]\n",
    "        return location\n",
    "    else:  # For Unix-based systems (Linux, macOS)\n",
    "        return os.path.join(os.path.expanduser('~'), 'Downloads')"
   ]
  },
  {
   "cell_type": "markdown",
   "metadata": {},
   "source": [
    "## HuggingFace cache"
   ]
  },
  {
   "cell_type": "code",
   "execution_count": null,
   "metadata": {},
   "outputs": [],
   "source": [
    "#| export\n",
    "def get_huggingface_cache_dir():\n",
    "    # Determine the cache directory\n",
    "    cache_dir = os.environ.get(\"HF_HOME\") or os.environ.get(\"XDG_CACHE_HOME\")\n",
    "    if not cache_dir:\n",
    "        home = Path.home()\n",
    "        cache_dir = home / \".cache\" / \"huggingface\" / \"hub\"\n",
    "    else:\n",
    "        cache_dir = Path(cache_dir) / \"huggingface\" / \"hub\"\n",
    "    return cache_dir"
   ]
  },
  {
   "cell_type": "code",
   "execution_count": null,
   "metadata": {},
   "outputs": [],
   "source": [
    "# get_huggingface_cache_dir()"
   ]
  }
 ],
 "metadata": {
  "kernelspec": {
   "display_name": "trouver_py310_venv",
   "language": "python",
   "name": "trouver_py310_venv"
  }
 },
 "nbformat": 4,
 "nbformat_minor": 2
}
