{
 "cells": [
  {
   "cell_type": "markdown",
   "metadata": {},
   "source": [
    "# markdown.obisidian.personal.notes\n",
    "> Functions for managing notes in an Obsidian.md math vault"
   ]
  },
  {
   "cell_type": "code",
   "execution_count": null,
   "metadata": {},
   "outputs": [],
   "source": [
    "#| default_exp markdown.obsidian.personal.notes"
   ]
  },
  {
   "cell_type": "code",
   "execution_count": null,
   "id": "2a8c0ff1-06f1-482a-afe3-9bf0fb620d19",
   "metadata": {},
   "outputs": [],
   "source": [
    "#| export\n",
    "from typing import Union\n",
    "\n",
    "from trouver.markdown.markdown.file import (\n",
    "    MarkdownFile\n",
    ")\n",
    "from trouver.markdown.obsidian.links import (\n",
    "    links_from_text\n",
    ")\n",
    "from trouver.markdown.obsidian.vault import (\n",
    "    VaultNote\n",
    ")\n"
   ]
  },
  {
   "cell_type": "code",
   "execution_count": null,
   "metadata": {},
   "outputs": [],
   "source": [
    "from fastcore.test import *\n",
    "from trouver.helper import _test_directory"
   ]
  },
  {
   "cell_type": "markdown",
   "metadata": {},
   "source": [
    "## Get notes linked in notes"
   ]
  },
  {
   "cell_type": "code",
   "execution_count": null,
   "id": "e4f7df4e-f160-4cf9-bcb1-94666ae6e6ad",
   "metadata": {},
   "outputs": [],
   "source": [
    "#| export\n",
    "def notes_linked_in_note(\n",
    "        list_note: VaultNote, # The `VaultNote` in which to find the links.\n",
    "        as_dict: bool = True # If `True`, returns a dict. Returns a list otherwise.\n",
    "        ) -> Union[dict[str, VaultNote], list[VaultNote]]: # If dict, the keys are the names of the vault notes and the values are the `VaultNote` objects. If list, then the entries are the `VaultNote` objects.\n",
    "    \"\"\"Returns a list or dict of VaultNotes of notes linked by \n",
    "    a specified note.\n",
    "    \"\"\"\n",
    "    text = list_note.text()\n",
    "    links = links_from_text(text)\n",
    "    if as_dict:\n",
    "        return {link.file_name: VaultNote(list_note.vault, name=link.file_name) for link in links}\n",
    "    else:\n",
    "        return [VaultNote(list_note.vault, name=link.file_name) for link in links]\n",
    "\n",
    "\n",
    "def notes_linked_in_notes_linked_in_note(\n",
    "    list_note: VaultNote, # The `VaultNote` with links to notes containing the links to obtain.\n",
    "    as_dict: bool = True # If `True`, returns a dict. Returns a list otherwise. \n",
    "    ) -> Union[dict[str, VaultNote], list[VaultNote]]: # If dict, the keys are the names of the vault notes and the values are the `VaultNote` objects. If list, then the entries are the `VaultNote` objects.\n",
    "    \"\"\"Returns a list or dict of VaultNotes of notes \n",
    "    linked by notes which are linked by a specified note.\n",
    "    \"\"\"\n",
    "    linked_in_list_note = notes_linked_in_note(list_note, as_dict=False)\n",
    "    notes_for_each_note = [notes_linked_in_note(note, as_dict=True) \n",
    "                           for note in linked_in_list_note]\n",
    "    all_notes = {}\n",
    "    for notes_for_note in notes_for_each_note:\n",
    "        for name, note in notes_for_note.items():\n",
    "            all_notes[name] = note\n",
    "    if as_dict:\n",
    "        return all_notes\n",
    "    else:\n",
    "        return [note for _, note in all_notes.items()]     "
   ]
  },
  {
   "cell_type": "code",
   "execution_count": null,
   "id": "16698217-13ac-4f1c-9ea6-b5a7cbb299b7",
   "metadata": {},
   "outputs": [
    {
     "name": "stdout",
     "output_type": "stream",
     "text": [
      "{'note_11': <trouver.markdown.obsidian.vault.VaultNote object>, 'note_12': <trouver.markdown.obsidian.vault.VaultNote object>, 'note_13': <trouver.markdown.obsidian.vault.VaultNote object>, 'note_14': <trouver.markdown.obsidian.vault.VaultNote object>, 'note_15': <trouver.markdown.obsidian.vault.VaultNote object>, 'note_16': <trouver.markdown.obsidian.vault.VaultNote object>, 'note_17': <trouver.markdown.obsidian.vault.VaultNote object>, 'note_18': <trouver.markdown.obsidian.vault.VaultNote object>, 'note_19': <trouver.markdown.obsidian.vault.VaultNote object>, 'note_110': <trouver.markdown.obsidian.vault.VaultNote object>, 'note_111': <trouver.markdown.obsidian.vault.VaultNote object>, 'note_112': <trouver.markdown.obsidian.vault.VaultNote object>}\n",
      "{'note_11': <trouver.markdown.obsidian.vault.VaultNote object>, 'note_12': <trouver.markdown.obsidian.vault.VaultNote object>, 'note_13': <trouver.markdown.obsidian.vault.VaultNote object>, 'note_14': <trouver.markdown.obsidian.vault.VaultNote object>, 'note_15': <trouver.markdown.obsidian.vault.VaultNote object>, 'note_16': <trouver.markdown.obsidian.vault.VaultNote object>, 'note_17': <trouver.markdown.obsidian.vault.VaultNote object>, 'note_18': <trouver.markdown.obsidian.vault.VaultNote object>, 'note_19': <trouver.markdown.obsidian.vault.VaultNote object>, 'note_110': <trouver.markdown.obsidian.vault.VaultNote object>, 'note_111': <trouver.markdown.obsidian.vault.VaultNote object>, 'note_112': <trouver.markdown.obsidian.vault.VaultNote object>}\n"
     ]
    }
   ],
   "source": [
    "# notes_linked_in_note(VaultNote(VAULT, name='ml_data_note_type_categorization'))\n",
    "test_vault = _test_directory() / 'test_vault_3'\n",
    "index_note = VaultNote(test_vault, name='_index_1_chapter_reference_1')\n",
    "\n",
    "notes_as_dict = notes_linked_in_note(index_note)\n",
    "assert isinstance(notes_as_dict, dict)\n",
    "test_eq(len(notes_as_dict), 12)\n",
    "for name, note in notes_as_dict.items():\n",
    "    assert note.name == name\n",
    "print(notes_as_dict)\n",
    "\n",
    "notes_as_list = notes_linked_in_note(index_note)\n",
    "test_eq(len(notes_as_list), 12)\n",
    "print(notes_as_list)\n",
    "# print(notes)"
   ]
  },
  {
   "cell_type": "code",
   "execution_count": null,
   "metadata": {},
   "outputs": [],
   "source": [
    "test_vault = _test_directory() / 'test_vault_3'\n",
    "index_note = VaultNote(test_vault, name='_index_reference_1')\n",
    "\n",
    "# This gets all the notes linked in the notes linked in `index_reference_1`.\n",
    "# In other words, this gets all the notes linked in \n",
    "# - `_index_1_chapter_reference_1`\n",
    "# - `_index_2_chapter_reference_1`, and\n",
    "# - `_index_3_chapter_reference_1`.\n",
    "notes_as_dict = notes_linked_in_notes_linked_in_note(index_note)\n",
    "assert isinstance(notes_as_dict, dict)\n",
    "test_eq(len(notes_as_dict), 17)\n",
    "for name, note in notes_as_dict.items():\n",
    "    assert note.name == name\n",
    "assert 'note_without_a_section' in notes_as_dict\n",
    "assert \"note_titles don't really need much structure\" in notes_as_dict\n",
    "\n",
    "\n",
    "notes_as_list = notes_linked_in_notes_linked_in_note(index_note)\n",
    "test_eq(len(notes_as_list), 17)"
   ]
  },
  {
   "cell_type": "markdown",
   "id": "f7c598a3-be18-4993-862d-a66419245b9f",
   "metadata": {},
   "source": [
    "## Tags in notes"
   ]
  },
  {
   "cell_type": "code",
   "execution_count": null,
   "id": "a951bf36-83b1-45a6-83c0-7aa093a8427d",
   "metadata": {},
   "outputs": [],
   "source": [
    "#| export\n",
    "def note_has_tag(\n",
    "        note: VaultNote,\n",
    "        tag: str # Without the hashtag `'#'`.\n",
    "        ) -> bool:\n",
    "    \"\"\"Returns `True` if the note has the specified tag in its\n",
    "    yaml frontmatter meta.\n",
    "    \"\"\"\n",
    "    mf = MarkdownFile.from_vault_note(note)\n",
    "    return mf.has_tag(tag)"
   ]
  },
  {
   "cell_type": "code",
   "execution_count": null,
   "metadata": {},
   "outputs": [],
   "source": [
    "test_vault = _test_directory() / 'test_vault_3'\n",
    "note = VaultNote(test_vault, name='i_am_an_independent_note_who_does_not_need_a_folder_and_that_is_okay_too')\n",
    "\n",
    "assert note_has_tag(note, \"this_is_a_tag\")\n",
    "assert not note_has_tag(note, \"this_is_also_a_tag\") # Although `#this_is_also_a_tag` is in the note, it is note in the yaml frontmatter meta.\n",
    "assert note_has_tag(note, \"this_is_a_tag/this_is_a_subtag\")\n",
    "assert not note_has_tag(note, \"this_tag_is_not_in_the_note\")"
   ]
  }
 ],
 "metadata": {
  "kernelspec": {
   "display_name": "python3",
   "language": "python",
   "name": "python3"
  }
 },
 "nbformat": 4,
 "nbformat_minor": 2
}
