{
 "cells": [
  {
   "cell_type": "markdown",
   "metadata": {},
   "source": [
    "# markdown.obisidian.personal.notes\n",
    "> Functions for managing notes in an Obsidian.md math vault"
   ]
  },
  {
   "cell_type": "code",
   "execution_count": null,
   "metadata": {},
   "outputs": [],
   "source": [
    "#| default_exp markdown.obsidian.personal.notes"
   ]
  },
  {
   "cell_type": "code",
   "execution_count": null,
   "id": "2a8c0ff1-06f1-482a-afe3-9bf0fb620d19",
   "metadata": {},
   "outputs": [],
   "source": [
    "#| export\n",
    "from trouver.markdown.markdown.file import (\n",
    "    MarkdownFile\n",
    ")\n",
    "from trouver.markdown.obsidian.links import (\n",
    "    links_from_text\n",
    ")\n",
    "from trouver.markdown.obsidian.vault import (\n",
    "    VaultNote\n",
    ")\n"
   ]
  },
  {
   "cell_type": "markdown",
   "metadata": {},
   "source": [
    "## Get notes linked in notes"
   ]
  },
  {
   "cell_type": "code",
   "execution_count": null,
   "id": "e4f7df4e-f160-4cf9-bcb1-94666ae6e6ad",
   "metadata": {},
   "outputs": [],
   "source": [
    "#| export\n",
    "def notes_linked_in_note(list_note: VaultNote, as_dict: bool = True):\n",
    "    \"\"\"Returns a list or dict of VaultNotes of notes linked by \n",
    "    a specified note.\n",
    "    \n",
    "    **Parameters**\n",
    "    - list_note - VaultNote\n",
    "    - as_dict - bool\n",
    "        - If `True`, return a dict. Returns a list otherwise.\n",
    "        Defaults to `True`.\n",
    "    \n",
    "    **Returns**\n",
    "    - list of VaultNote or dict\n",
    "        - If dict, the keys are the names of the vault notes and the valus\n",
    "        are the vault notes.\n",
    "    \"\"\"\n",
    "    mf = MarkdownFile.from_vault_note(list_note)\n",
    "    text = str(mf)\n",
    "    links = links_from_text(text)\n",
    "    if as_dict:\n",
    "        return {link.file_name: VaultNote(list_note.vault, name=link.file_name) for link in links}\n",
    "    else:\n",
    "        return [VaultNote(list_note.vault, name=link.file_name) for link in links]\n",
    "\n",
    "\n",
    "def notes_linked_in_notes_linked_in_note(\n",
    "    list_note: VaultNote, as_dict: bool = True):\n",
    "    \"\"\"Returns a list or dict of VaultNotes of notes \n",
    "    linked by notes which are linked by a specified note.\n",
    "    \n",
    "    **Parameters**\n",
    "    - list_note - VaultNote\n",
    "    - as_dict - bool\n",
    "        - If `True`, return a dict. Returns a list otherwise.\n",
    "        Defaults to `True`.\n",
    "        \n",
    "    **Returns**\n",
    "    - list of VaultNote or dict\n",
    "        - If dict, the keys are the names of the vault notes\n",
    "        and the values are the vault notes.\n",
    "    \"\"\"\n",
    "    linked_in_list_note = notes_linked_in_note(list_note, as_dict=False)\n",
    "    notes_for_each_note = [notes_linked_in_note(note, as_dict=True) \n",
    "                           for note in linked_in_list_note]\n",
    "    all_notes = {}\n",
    "    for notes_for_note in notes_for_each_note:\n",
    "        for name, note in notes_for_note.items():\n",
    "            all_notes[name] = note\n",
    "            # if not is_standard_information_note(note.rel_path, vault=MATH_VAULT_LOCATION):\n",
    "            #     print(name)\n",
    "            #     print(list_note.name)\n",
    "    if as_dict:\n",
    "        return all_notes\n",
    "    else:\n",
    "        return [note for _, note in all_notes.items()]     "
   ]
  },
  {
   "cell_type": "markdown",
   "id": "81f6a89c-fa64-4385-88a1-6004affa8ed2",
   "metadata": {},
   "source": [
    "**Examples**"
   ]
  },
  {
   "cell_type": "code",
   "execution_count": null,
   "id": "16698217-13ac-4f1c-9ea6-b5a7cbb299b7",
   "metadata": {},
   "outputs": [],
   "source": [
    "# notes_linked_in_note(VaultNote(VAULT, name='ml_data_note_type_categorization'))\n",
    "notes = notes_linked_in_notes_linked_in_note(\n",
    "    VaultNote(MATH_VAULT_LOCATION, name='ml_data_note_type_categorization'))\n",
    "# print(notes)"
   ]
  }
 ],
 "metadata": {
  "kernelspec": {
   "display_name": "Python 3.10.6 64-bit",
   "language": "python",
   "name": "python3"
  },
  "language_info": {
   "name": "python",
   "version": "3.10.6"
  },
  "orig_nbformat": 4,
  "vscode": {
   "interpreter": {
    "hash": "e0d6519b614ed4b3ff759fd43b4634bcad99f4a02e3e0401ef91ccc070278cd3"
   }
  }
 },
 "nbformat": 4,
 "nbformat_minor": 2
}
