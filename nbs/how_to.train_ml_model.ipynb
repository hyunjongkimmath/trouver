{
 "cells": [
  {
   "cell_type": "code",
   "execution_count": null,
   "metadata": {},
   "outputs": [],
   "source": [
    "#| default_exp how_to.train_ml_model"
   ]
  },
  {
   "cell_type": "markdown",
   "metadata": {},
   "source": [
    "# how_to.train_ml_model\n",
    "> A demonstration on using fast.ai to train an ML model "
   ]
  },
  {
   "cell_type": "code",
   "execution_count": null,
   "metadata": {},
   "outputs": [],
   "source": [
    "import pandas as pd\n",
    "from fastai.text.all import *\n",
    "from trouver.helper import _test_directory\n",
    "\n",
    "import warnings"
   ]
  },
  {
   "cell_type": "code",
   "execution_count": null,
   "metadata": {},
   "outputs": [],
   "source": [
    "# A lot of warnings can be printed out\n",
    "warnings.filterwarnings(\"ignore\")"
   ]
  },
  {
   "cell_type": "markdown",
   "metadata": {},
   "source": [
    "## General"
   ]
  },
  {
   "cell_type": "markdown",
   "metadata": {},
   "source": [
    "We use the [ULMFiT approach](https://arxiv.org/abs/1801.06146) (cf. [fast.ai documentation](https://docs.fast.ai/examples/ulmfit.html), [fast.ai tutorial on text transfer learning](https://docs.fast.ai/tutorial.text.html)) to train a text categorization model.\n",
    "\n",
    "This approach first trains a language model from the corpus of text in the data and then uses the encoder - the model not including the final layer - of this language model to then train the classification model."
   ]
  },
  {
   "cell_type": "code",
   "execution_count": null,
   "metadata": {},
   "outputs": [],
   "source": [
    "# This line is only present for the sake of this example so that the code in this notebook can run even\n",
    "# if the device does not have a gpu.\n",
    "device = torch.device(\"cpu\")"
   ]
  },
  {
   "cell_type": "markdown",
   "metadata": {},
   "source": [
    "## Train information note type model "
   ]
  },
  {
   "cell_type": "markdown",
   "metadata": {},
   "source": [
    "The `append_to_information_note_type_database` function in `markdown.obsidian.personal.machine_learning.information_note_types` creates/appends to a `csv` file containing data of note types. "
   ]
  },
  {
   "cell_type": "code",
   "execution_count": null,
   "metadata": {},
   "outputs": [
    {
     "data": {
      "text/html": [
       "<div>\n",
       "<style scoped>\n",
       "    .dataframe tbody tr th:only-of-type {\n",
       "        vertical-align: middle;\n",
       "    }\n",
       "\n",
       "    .dataframe tbody tr th {\n",
       "        vertical-align: top;\n",
       "    }\n",
       "\n",
       "    .dataframe thead th {\n",
       "        text-align: right;\n",
       "    }\n",
       "</style>\n",
       "<table border=\"1\" class=\"dataframe\">\n",
       "  <thead>\n",
       "    <tr style=\"text-align: right;\">\n",
       "      <th></th>\n",
       "      <th>Time added</th>\n",
       "      <th>Time modified</th>\n",
       "      <th>Note name</th>\n",
       "      <th>Full note content</th>\n",
       "      <th>Processed note content</th>\n",
       "      <th>#_meta/concept</th>\n",
       "      <th>#_meta/exercise</th>\n",
       "      <th>#_meta/definition</th>\n",
       "      <th>#_meta/example</th>\n",
       "      <th>#_meta/narrative</th>\n",
       "      <th>...</th>\n",
       "      <th>#_meta/proof</th>\n",
       "      <th>#_meta/remark</th>\n",
       "      <th>#_meta/TODO/split</th>\n",
       "      <th>#_meta/TODO/merge</th>\n",
       "      <th>#_meta/TODO/delete</th>\n",
       "      <th>#_meta/hint</th>\n",
       "      <th>#_meta/how_to</th>\n",
       "      <th>#_meta/conjecture</th>\n",
       "      <th>#_meta/convention</th>\n",
       "      <th>#_meta/context</th>\n",
       "    </tr>\n",
       "  </thead>\n",
       "  <tbody>\n",
       "    <tr>\n",
       "      <th>0</th>\n",
       "      <td>2023-01-13T00:37</td>\n",
       "      <td>2023-01-13T00:37</td>\n",
       "      <td>reference_with_tag_labels_something_something</td>\n",
       "      <td>---\\ncssclass: clean-embeds\\naliases: []\\ntags: [_meta/literature_note, _meta/narrative]\\n---\\n# Topic[^1]\\n\\nIn this chapter, we describe some basics of ring theory. Rings are mathematical structures which generalize the structures of the familiar integers, rational numbers, real numbers, complex numberes, etc.\\n\\n\\n\\n# See Also\\n\\n# Meta\\n## References\\n\\n## Citations and Footnotes\\n[^1]: Kim, Page 1</td>\n",
       "      <td>In this chapter, we describe some basics of ring theory. Rings are mathematical structures which generalize the structures of the familiar integers, rational numbers, real numbers, complex numberes, etc.\\n</td>\n",
       "      <td>NOT #_meta/concept</td>\n",
       "      <td>NOT #_meta/exercise</td>\n",
       "      <td>NOT #_meta/definition</td>\n",
       "      <td>NOT #_meta/example</td>\n",
       "      <td>IS #_meta/narrative</td>\n",
       "      <td>...</td>\n",
       "      <td>NOT #_meta/proof</td>\n",
       "      <td>NOT #_meta/remark</td>\n",
       "      <td>NOT #_meta/TODO/split</td>\n",
       "      <td>NOT #_meta/TODO/merge</td>\n",
       "      <td>NOT #_meta/TODO/delete</td>\n",
       "      <td>NOT #_meta/hint</td>\n",
       "      <td>NOT #_meta/how_to</td>\n",
       "      <td>NOT #_meta/conjecture</td>\n",
       "      <td>NOT #_meta/convention</td>\n",
       "      <td>NOT #_meta/context</td>\n",
       "    </tr>\n",
       "    <tr>\n",
       "      <th>1</th>\n",
       "      <td>2023-01-13T00:37</td>\n",
       "      <td>2023-01-13T00:37</td>\n",
       "      <td>reference_with_tag_labels_Definition 1</td>\n",
       "      <td>---\\ncssclass: clean-embeds\\naliases: []\\ntags: [_meta/literature_note, _meta/definition_note]\\n---\\n# Ring[^1]\\n\\nA **ring** is a set with binary operators $+$ and $\\cdot$ such that ...\\n\\n# See Also\\n\\n# Meta\\n## References\\n\\n## Citations and Footnotes\\n[^1]: Kim, Definition 1</td>\n",
       "      <td>A ring is a set with binary operators $+$ and $\\cdot$ such that ...\\n</td>\n",
       "      <td>NOT #_meta/concept</td>\n",
       "      <td>NOT #_meta/exercise</td>\n",
       "      <td>NOT #_meta/definition</td>\n",
       "      <td>NOT #_meta/example</td>\n",
       "      <td>NOT #_meta/narrative</td>\n",
       "      <td>...</td>\n",
       "      <td>NOT #_meta/proof</td>\n",
       "      <td>NOT #_meta/remark</td>\n",
       "      <td>NOT #_meta/TODO/split</td>\n",
       "      <td>NOT #_meta/TODO/merge</td>\n",
       "      <td>NOT #_meta/TODO/delete</td>\n",
       "      <td>NOT #_meta/hint</td>\n",
       "      <td>NOT #_meta/how_to</td>\n",
       "      <td>NOT #_meta/conjecture</td>\n",
       "      <td>NOT #_meta/convention</td>\n",
       "      <td>NOT #_meta/context</td>\n",
       "    </tr>\n",
       "    <tr>\n",
       "      <th>2</th>\n",
       "      <td>2023-01-13T00:37</td>\n",
       "      <td>2023-01-13T00:37</td>\n",
       "      <td>reference_with_tag_labels_Definition 2</td>\n",
       "      <td>---\\ncssclass: clean-embeds\\naliases: []\\ntags: [_meta/literature_note, _meta/definition, _meta/notation]\\n---\\n# Ring of integers modulo $n$[^1]\\n\\nLet $n \\geq 1$ be an integer. The **ring of integers modulo $n$**, denoted by **$\\mathbb{Z}/n\\mathbb{Z}$**, is, informally, the ring whose elements are represented by the integers with the understanding that $0$ and $n$ are equal.\\n\\nMore precisely, $\\mathbb{Z}/n\\mathbb{Z}$ has the elements $0,1,\\ldots,n-1$.\\n\\n...\\n\\n\\n# See Also\\n- [[reference_with_tag_labels_Exercise 1|reference_with_tag_labels_Z_nZ_is_a_ring]]\\n# Meta\\n## References\\n\\n## ...</td>\n",
       "      <td>Let $n \\geq 1$ be an integer. The ring of integers modulo $n$, denoted by $\\mathbb{Z}/n\\mathbb{Z}$, is, informally, the ring whose elements are represented by the integers with the understanding that $0$ and $n$ are equal.\\n\\nMore precisely, $\\mathbb{Z}/n\\mathbb{Z}$ has the elements $0,1,\\ldots,n-1$.\\n\\n...\\n</td>\n",
       "      <td>NOT #_meta/concept</td>\n",
       "      <td>NOT #_meta/exercise</td>\n",
       "      <td>IS #_meta/definition</td>\n",
       "      <td>NOT #_meta/example</td>\n",
       "      <td>NOT #_meta/narrative</td>\n",
       "      <td>...</td>\n",
       "      <td>NOT #_meta/proof</td>\n",
       "      <td>NOT #_meta/remark</td>\n",
       "      <td>NOT #_meta/TODO/split</td>\n",
       "      <td>NOT #_meta/TODO/merge</td>\n",
       "      <td>NOT #_meta/TODO/delete</td>\n",
       "      <td>NOT #_meta/hint</td>\n",
       "      <td>NOT #_meta/how_to</td>\n",
       "      <td>NOT #_meta/conjecture</td>\n",
       "      <td>NOT #_meta/convention</td>\n",
       "      <td>NOT #_meta/context</td>\n",
       "    </tr>\n",
       "    <tr>\n",
       "      <th>3</th>\n",
       "      <td>2023-01-13T00:37</td>\n",
       "      <td>2023-01-13T00:37</td>\n",
       "      <td>reference_with_tag_labels_Exercise 1</td>\n",
       "      <td>---\\ncssclass: clean-embeds\\naliases: [reference_with_tag_labels_Z_nZ_is_a_ring]\\ntags: [_meta/literature_note, _meta/exercise]\\n---\\n# $\\mathbb{Z}/n\\mathbb{Z}$ is a ring[^1]\\n\\nShow that $\\mathbb{Z}/n\\mathbb{Z}$ is a ring.\\n\\n# See Also\\n\\n# Meta\\n## References\\n\\n## Citations and Footnotes\\n[^1]: Exercise 1</td>\n",
       "      <td>Show that $\\mathbb{Z}/n\\mathbb{Z}$ is a ring.\\n</td>\n",
       "      <td>NOT #_meta/concept</td>\n",
       "      <td>IS #_meta/exercise</td>\n",
       "      <td>NOT #_meta/definition</td>\n",
       "      <td>NOT #_meta/example</td>\n",
       "      <td>NOT #_meta/narrative</td>\n",
       "      <td>...</td>\n",
       "      <td>NOT #_meta/proof</td>\n",
       "      <td>NOT #_meta/remark</td>\n",
       "      <td>NOT #_meta/TODO/split</td>\n",
       "      <td>NOT #_meta/TODO/merge</td>\n",
       "      <td>NOT #_meta/TODO/delete</td>\n",
       "      <td>NOT #_meta/hint</td>\n",
       "      <td>NOT #_meta/how_to</td>\n",
       "      <td>NOT #_meta/conjecture</td>\n",
       "      <td>NOT #_meta/convention</td>\n",
       "      <td>NOT #_meta/context</td>\n",
       "    </tr>\n",
       "    <tr>\n",
       "      <th>4</th>\n",
       "      <td>2023-01-13T00:37</td>\n",
       "      <td>2023-01-13T00:37</td>\n",
       "      <td>reference_with_tag_labels_Theorem 1</td>\n",
       "      <td>---\\ncssclass: clean-embeds\\naliases: []\\ntags: [_meta/literature_note, _meta/concept, _meta/proof]\\n---\\n# The polynomial ring of a UFD is a UFD[^1]\\n\\nTheorem 1. Let $R$ be a UFD. Then $R[x]$ is a UFD.\\n\\nProof. Let $f,g \\in R[x]$ and suppose that $fg = 0$. Write $f = \\sum_{i=0}^n a_i x^i$ and $g = \\sum_{j=0}^m b_j x^j$ for some $a_i,b_j \\in R$.\\n\\n...\\n\\n# See Also\\n\\n# Meta\\n## References\\n\\n## Citations and Footnotes\\n[^1]: Kim, Theorem 1</td>\n",
       "      <td>Theorem 1. Let $R$ be a UFD. Then $R[x]$ is a UFD.\\n\\nProof. Let $f,g \\in R[x]$ and suppose that $fg = 0$. Write $f = \\sum_{i=0}^n a_i x^i$ and $g = \\sum_{j=0}^m b_j x^j$ for some $a_i,b_j \\in R$.\\n\\n...\\n</td>\n",
       "      <td>IS #_meta/concept</td>\n",
       "      <td>NOT #_meta/exercise</td>\n",
       "      <td>NOT #_meta/definition</td>\n",
       "      <td>NOT #_meta/example</td>\n",
       "      <td>NOT #_meta/narrative</td>\n",
       "      <td>...</td>\n",
       "      <td>IS #_meta/proof</td>\n",
       "      <td>NOT #_meta/remark</td>\n",
       "      <td>NOT #_meta/TODO/split</td>\n",
       "      <td>NOT #_meta/TODO/merge</td>\n",
       "      <td>NOT #_meta/TODO/delete</td>\n",
       "      <td>NOT #_meta/hint</td>\n",
       "      <td>NOT #_meta/how_to</td>\n",
       "      <td>NOT #_meta/conjecture</td>\n",
       "      <td>NOT #_meta/convention</td>\n",
       "      <td>NOT #_meta/context</td>\n",
       "    </tr>\n",
       "  </tbody>\n",
       "</table>\n",
       "<p>5 rows × 21 columns</p>\n",
       "</div>"
      ],
      "text/plain": [
       "         Time added     Time modified  \\\n",
       "0  2023-01-13T00:37  2023-01-13T00:37   \n",
       "1  2023-01-13T00:37  2023-01-13T00:37   \n",
       "2  2023-01-13T00:37  2023-01-13T00:37   \n",
       "3  2023-01-13T00:37  2023-01-13T00:37   \n",
       "4  2023-01-13T00:37  2023-01-13T00:37   \n",
       "\n",
       "                                       Note name  \\\n",
       "0  reference_with_tag_labels_something_something   \n",
       "1         reference_with_tag_labels_Definition 1   \n",
       "2         reference_with_tag_labels_Definition 2   \n",
       "3           reference_with_tag_labels_Exercise 1   \n",
       "4            reference_with_tag_labels_Theorem 1   \n",
       "\n",
       "                                                                                                                                                                                                                                                                                                                                                                                                                                                                                                                                                                                                         Full note content  \\\n",
       "0                                                                                                                                                                                                    ---\\ncssclass: clean-embeds\\naliases: []\\ntags: [_meta/literature_note, _meta/narrative]\\n---\\n# Topic[^1]\\n\\nIn this chapter, we describe some basics of ring theory. Rings are mathematical structures which generalize the structures of the familiar integers, rational numbers, real numbers, complex numberes, etc.\\n\\n\\n\\n# See Also\\n\\n# Meta\\n## References\\n\\n## Citations and Footnotes\\n[^1]: Kim, Page 1   \n",
       "1                                                                                                                                                                                                                                                                                                                                 ---\\ncssclass: clean-embeds\\naliases: []\\ntags: [_meta/literature_note, _meta/definition_note]\\n---\\n# Ring[^1]\\n\\nA **ring** is a set with binary operators $+$ and $\\cdot$ such that ...\\n\\n# See Also\\n\\n# Meta\\n## References\\n\\n## Citations and Footnotes\\n[^1]: Kim, Definition 1   \n",
       "2  ---\\ncssclass: clean-embeds\\naliases: []\\ntags: [_meta/literature_note, _meta/definition, _meta/notation]\\n---\\n# Ring of integers modulo $n$[^1]\\n\\nLet $n \\geq 1$ be an integer. The **ring of integers modulo $n$**, denoted by **$\\mathbb{Z}/n\\mathbb{Z}$**, is, informally, the ring whose elements are represented by the integers with the understanding that $0$ and $n$ are equal.\\n\\nMore precisely, $\\mathbb{Z}/n\\mathbb{Z}$ has the elements $0,1,\\ldots,n-1$.\\n\\n...\\n\\n\\n# See Also\\n- [[reference_with_tag_labels_Exercise 1|reference_with_tag_labels_Z_nZ_is_a_ring]]\\n# Meta\\n## References\\n\\n## ...   \n",
       "3                                                                                                                                                                                                                                                                                                   ---\\ncssclass: clean-embeds\\naliases: [reference_with_tag_labels_Z_nZ_is_a_ring]\\ntags: [_meta/literature_note, _meta/exercise]\\n---\\n# $\\mathbb{Z}/n\\mathbb{Z}$ is a ring[^1]\\n\\nShow that $\\mathbb{Z}/n\\mathbb{Z}$ is a ring.\\n\\n# See Also\\n\\n# Meta\\n## References\\n\\n## Citations and Footnotes\\n[^1]: Exercise 1   \n",
       "4                                                                                                                                                          ---\\ncssclass: clean-embeds\\naliases: []\\ntags: [_meta/literature_note, _meta/concept, _meta/proof]\\n---\\n# The polynomial ring of a UFD is a UFD[^1]\\n\\nTheorem 1. Let $R$ be a UFD. Then $R[x]$ is a UFD.\\n\\nProof. Let $f,g \\in R[x]$ and suppose that $fg = 0$. Write $f = \\sum_{i=0}^n a_i x^i$ and $g = \\sum_{j=0}^m b_j x^j$ for some $a_i,b_j \\in R$.\\n\\n...\\n\\n# See Also\\n\\n# Meta\\n## References\\n\\n## Citations and Footnotes\\n[^1]: Kim, Theorem 1   \n",
       "\n",
       "                                                                                                                                                                                                                                                                                                   Processed note content  \\\n",
       "0                                                                                                           In this chapter, we describe some basics of ring theory. Rings are mathematical structures which generalize the structures of the familiar integers, rational numbers, real numbers, complex numberes, etc.\\n   \n",
       "1                                                                                                                                                                                                                                                   A ring is a set with binary operators $+$ and $\\cdot$ such that ...\\n   \n",
       "2  Let $n \\geq 1$ be an integer. The ring of integers modulo $n$, denoted by $\\mathbb{Z}/n\\mathbb{Z}$, is, informally, the ring whose elements are represented by the integers with the understanding that $0$ and $n$ are equal.\\n\\nMore precisely, $\\mathbb{Z}/n\\mathbb{Z}$ has the elements $0,1,\\ldots,n-1$.\\n\\n...\\n   \n",
       "3                                                                                                                                                                                                                                                                         Show that $\\mathbb{Z}/n\\mathbb{Z}$ is a ring.\\n   \n",
       "4                                                                                                           Theorem 1. Let $R$ be a UFD. Then $R[x]$ is a UFD.\\n\\nProof. Let $f,g \\in R[x]$ and suppose that $fg = 0$. Write $f = \\sum_{i=0}^n a_i x^i$ and $g = \\sum_{j=0}^m b_j x^j$ for some $a_i,b_j \\in R$.\\n\\n...\\n   \n",
       "\n",
       "       #_meta/concept      #_meta/exercise      #_meta/definition  \\\n",
       "0  NOT #_meta/concept  NOT #_meta/exercise  NOT #_meta/definition   \n",
       "1  NOT #_meta/concept  NOT #_meta/exercise  NOT #_meta/definition   \n",
       "2  NOT #_meta/concept  NOT #_meta/exercise   IS #_meta/definition   \n",
       "3  NOT #_meta/concept   IS #_meta/exercise  NOT #_meta/definition   \n",
       "4   IS #_meta/concept  NOT #_meta/exercise  NOT #_meta/definition   \n",
       "\n",
       "       #_meta/example      #_meta/narrative  ...      #_meta/proof  \\\n",
       "0  NOT #_meta/example   IS #_meta/narrative  ...  NOT #_meta/proof   \n",
       "1  NOT #_meta/example  NOT #_meta/narrative  ...  NOT #_meta/proof   \n",
       "2  NOT #_meta/example  NOT #_meta/narrative  ...  NOT #_meta/proof   \n",
       "3  NOT #_meta/example  NOT #_meta/narrative  ...  NOT #_meta/proof   \n",
       "4  NOT #_meta/example  NOT #_meta/narrative  ...   IS #_meta/proof   \n",
       "\n",
       "       #_meta/remark      #_meta/TODO/split      #_meta/TODO/merge  \\\n",
       "0  NOT #_meta/remark  NOT #_meta/TODO/split  NOT #_meta/TODO/merge   \n",
       "1  NOT #_meta/remark  NOT #_meta/TODO/split  NOT #_meta/TODO/merge   \n",
       "2  NOT #_meta/remark  NOT #_meta/TODO/split  NOT #_meta/TODO/merge   \n",
       "3  NOT #_meta/remark  NOT #_meta/TODO/split  NOT #_meta/TODO/merge   \n",
       "4  NOT #_meta/remark  NOT #_meta/TODO/split  NOT #_meta/TODO/merge   \n",
       "\n",
       "       #_meta/TODO/delete      #_meta/hint      #_meta/how_to  \\\n",
       "0  NOT #_meta/TODO/delete  NOT #_meta/hint  NOT #_meta/how_to   \n",
       "1  NOT #_meta/TODO/delete  NOT #_meta/hint  NOT #_meta/how_to   \n",
       "2  NOT #_meta/TODO/delete  NOT #_meta/hint  NOT #_meta/how_to   \n",
       "3  NOT #_meta/TODO/delete  NOT #_meta/hint  NOT #_meta/how_to   \n",
       "4  NOT #_meta/TODO/delete  NOT #_meta/hint  NOT #_meta/how_to   \n",
       "\n",
       "       #_meta/conjecture      #_meta/convention      #_meta/context  \n",
       "0  NOT #_meta/conjecture  NOT #_meta/convention  NOT #_meta/context  \n",
       "1  NOT #_meta/conjecture  NOT #_meta/convention  NOT #_meta/context  \n",
       "2  NOT #_meta/conjecture  NOT #_meta/convention  NOT #_meta/context  \n",
       "3  NOT #_meta/conjecture  NOT #_meta/convention  NOT #_meta/context  \n",
       "4  NOT #_meta/conjecture  NOT #_meta/convention  NOT #_meta/context  \n",
       "\n",
       "[5 rows x 21 columns]"
      ]
     },
     "execution_count": null,
     "metadata": {},
     "output_type": "execute_result"
    }
   ],
   "source": [
    "#| notest\n",
    "# Replace this file with the appropriate file\n",
    "csv_file = _test_directory() / 'ml_examples' / 'information_note_type_labels.csv'\n",
    "folder = _test_directory() / 'ml_examples'\n",
    "\n",
    "df = pd.read_csv(csv_file)\n",
    "df"
   ]
  },
  {
   "cell_type": "markdown",
   "metadata": {},
   "source": [
    "#### Train language model"
   ]
  },
  {
   "cell_type": "markdown",
   "metadata": {},
   "source": [
    "To train the language model, we need to create the `TextDataLoaders` object. For our purposes, the column containing the input is the `Processed note content` column."
   ]
  },
  {
   "cell_type": "code",
   "execution_count": null,
   "metadata": {},
   "outputs": [
    {
     "name": "stdout",
     "output_type": "stream",
     "text": [
      "Due to IPython and Windows limitation, python multiprocessing isn't available now.\n",
      "So `n_workers` has to be changed to 0 to avoid getting stuck\n"
     ]
    },
    {
     "data": {
      "text/html": [
       "<table border=\"1\" class=\"dataframe\">\n",
       "  <thead>\n",
       "    <tr style=\"text-align: right;\">\n",
       "      <th></th>\n",
       "      <th>text</th>\n",
       "      <th>text_</th>\n",
       "    </tr>\n",
       "  </thead>\n",
       "  <tbody>\n",
       "    <tr>\n",
       "      <th>0</th>\n",
       "      <td>xxbos xxmaj xxunk xxunk . xxmaj let $ xxunk xxunk a xxup xxunk</td>\n",
       "      <td>xxmaj xxunk xxunk . xxmaj let $ xxunk xxunk a xxup xxunk .</td>\n",
       "    </tr>\n",
       "    <tr>\n",
       "      <th>1</th>\n",
       "      <td>. xxmaj xxunk $ xxunk is a xxup xxunk . xxunk xxmaj xxunk</td>\n",
       "      <td>xxmaj xxunk $ xxunk is a xxup xxunk . xxunk xxmaj xxunk .</td>\n",
       "    </tr>\n",
       "    <tr>\n",
       "      <th>2</th>\n",
       "      <td>. xxmaj let $ xxunk , xxunk \\ in xxmaj xxunk and xxunk</td>\n",
       "      <td>xxmaj let $ xxunk , xxunk \\ in xxmaj xxunk and xxunk that</td>\n",
       "    </tr>\n",
       "  </tbody>\n",
       "</table>"
      ],
      "text/plain": [
       "<IPython.core.display.HTML object>"
      ]
     },
     "metadata": {},
     "output_type": "display_data"
    }
   ],
   "source": [
    "#| notest\n",
    "dls_lm = TextDataLoaders.from_df(\n",
    "    df, path=folder / 'information_note_type', text_col='Processed note content', bs=16,\n",
    "    valid_pct=0.2, is_lm=True, seq_len=256)  #  label_col='#_meta/definition' for later\n",
    "dls_lm.show_batch(max_n=3)"
   ]
  },
  {
   "cell_type": "markdown",
   "metadata": {},
   "source": [
    "We now create the `TextLearner` object, which is the language model.\n",
    "\n",
    "Invoking [`to_fp16`](https://docs.fast.ai/callback.fp16.html#learner.to_fp16) on the Learner lets the model train with 16-bit floats (as opposed to 32-bit floats) and thus memory usage is (in theory) halved. Alternatively, training with 16-bit floats allows one to double the size of the model and double the batch size for training."
   ]
  },
  {
   "cell_type": "code",
   "execution_count": null,
   "metadata": {},
   "outputs": [],
   "source": [
    "#| notest\n",
    "learn = language_model_learner(\n",
    "    dls_lm, AWD_LSTM, drop_mult=0.3,\n",
    "    metrics=[accuracy, Perplexity()]).to_fp16() \n"
   ]
  },
  {
   "cell_type": "markdown",
   "metadata": {},
   "source": [
    "Training an ML model can take a long time, depending on the amount of data with which to train. As such, it can be useful to save your model and/or its weights in between training cycles. The below demonstrates two ways to load weights:\n",
    "\n",
    "- The first way assumes that the weights to load are from a model trained with the same dataset as `learn`. `learn.load` just loads these weights to `learn`.\n",
    "- The second way is for a model trained with a different dataset. A model trained with a different dataset is likely to have a different vocabulary, so the `pretrained_fnames` argument contains this different vocabulary to take into account when loading weights.\n",
    "\n",
    "If such weights are not loaded to the model `learn`, then `learn` is initially a language model that was pretrained on Wikipedia, cf. [fast.ai on the ULMFiT approach](https://docs.fast.ai/tutorial.text.html#the-ulmfit-approach)"
   ]
  },
  {
   "cell_type": "code",
   "execution_count": null,
   "metadata": {},
   "outputs": [],
   "source": [
    "# Only use the below code if you want to continue training a model of the same dataset.\n",
    "# TODO: test the below code and see where the weights have to be. \n",
    "\n",
    "# learn.load('information_note_type_LM_weights')\n",
    "\n",
    "\n",
    "# only use the below code if you want to use weights from another pretrained model (whose data points).\n",
    "# are different from those used to build dls_lm.\n",
    "\n",
    "# TODO: think about how to set up vocab.\n",
    "# vocab=  load_learner(folder / 'information_note_type' / 'models' / 'information_note_type_LM.pkl').dls.vocab\n",
    "\n",
    "# pretrained_fnames = ['information_note_type_LM_weights', 'information_note_type_LM_vocab']\n",
    "# learn = language_model_learner(\n",
    "#     dls_lm, AWD_LSTM, drop_mult=0.3,\n",
    "#     metrics=[accuracy, Perplexity()], pretrained_fnames=pretrained_fnames)\n",
    "# learn = learn.to_fp16()"
   ]
  },
  {
   "cell_type": "markdown",
   "metadata": {},
   "source": [
    "Now we train the model:"
   ]
  },
  {
   "cell_type": "code",
   "execution_count": null,
   "metadata": {},
   "outputs": [],
   "source": [
    "# Feel free to run the below code multiple times\n",
    "\n",
    "# Get a good learning rate\n",
    "# lrfind = learn.lr_find()\n",
    "\n",
    "# The code below should be uncommented when actually training.\n",
    "# Note that `learn` is frozen except for this last layer\n",
    "# Feel free to change up the number of cycles.\n",
    "\n",
    "# learn.fit_one_cycle(3, lrfind.valley)\n"
   ]
  },
  {
   "cell_type": "code",
   "execution_count": null,
   "metadata": {},
   "outputs": [],
   "source": [
    "# Save the weights; note that this overwrites the existing weights file.\n",
    "# learn.save('information_note_type_LM_weights')"
   ]
  },
  {
   "cell_type": "markdown",
   "metadata": {},
   "source": [
    "Now we train the model unfrozen"
   ]
  },
  {
   "cell_type": "code",
   "execution_count": null,
   "metadata": {},
   "outputs": [],
   "source": [
    "#| notest\n",
    "learn.unfreeze()"
   ]
  },
  {
   "cell_type": "code",
   "execution_count": null,
   "metadata": {},
   "outputs": [],
   "source": [
    "# Feel free to run the below code multiple times\n",
    "\n",
    "# Get a good learning rate\n",
    "# lrfind = learn.lr_find()\n",
    "\n",
    "# Note that `learn` is frozen except for this last layer\n",
    "# Feel free to change up the number of cycles.\n",
    "# learn.fit_one_cycle(3, lrfind)\n"
   ]
  },
  {
   "cell_type": "markdown",
   "metadata": {},
   "source": [
    "There are some components of `learn` that can be worthwhile to save;\n",
    "\n",
    "- An encoder - as explained above, the encoder of the language model is used to then train the categorization model.\n",
    "- `learn.dls.vocab` - as explained above, the vocabulary of the model needs to be preserved if the weights of `learn` are to be used in a new language model that uses a different dataset.\n",
    "- `learn` itself - This can be done with `learn.export`."
   ]
  },
  {
   "cell_type": "code",
   "execution_count": null,
   "metadata": {},
   "outputs": [],
   "source": [
    "# learn.save_encoder('information_note_type_LM_encoder')\n",
    "# save_pickle(folder / 'information_note_type' / 'models' / 'information_note_type_LM_vocab.pkl', learn.dls.vocab)\n",
    "# learn = learn.to_fp32()  \n",
    "# learn.export('information_note_type_LM')"
   ]
  },
  {
   "cell_type": "markdown",
   "metadata": {},
   "source": [
    "#### Testing the language model"
   ]
  },
  {
   "cell_type": "code",
   "execution_count": null,
   "metadata": {},
   "outputs": [],
   "source": [
    "# TEXT = ''\n",
    "# N_WORDS = 20\n",
    "# N_SENTENCES = 5\n",
    "# preds = [learn.predict(TEXT, N_WORDS, temperature=0.75) for _ in range(N_SENTENCES)]"
   ]
  },
  {
   "cell_type": "code",
   "execution_count": null,
   "metadata": {},
   "outputs": [],
   "source": [
    "# print('\\n'.join(preds))"
   ]
  },
  {
   "cell_type": "markdown",
   "metadata": {},
   "source": [
    "#### Train classification model"
   ]
  },
  {
   "cell_type": "markdown",
   "metadata": {},
   "source": [
    "Now we use the encoder for the language model that we trained to train a classification model."
   ]
  },
  {
   "cell_type": "markdown",
   "metadata": {},
   "source": [
    "#### Train language model"
   ]
  },
  {
   "cell_type": "markdown",
   "metadata": {},
   "source": [
    "We first process the DataFrame to combine the labels into a single column:"
   ]
  },
  {
   "cell_type": "code",
   "execution_count": 97,
   "metadata": {},
   "outputs": [
    {
     "data": {
      "text/html": [
       "<div>\n",
       "<style scoped>\n",
       "    .dataframe tbody tr th:only-of-type {\n",
       "        vertical-align: middle;\n",
       "    }\n",
       "\n",
       "    .dataframe tbody tr th {\n",
       "        vertical-align: top;\n",
       "    }\n",
       "\n",
       "    .dataframe thead th {\n",
       "        text-align: right;\n",
       "    }\n",
       "</style>\n",
       "<table border=\"1\" class=\"dataframe\">\n",
       "  <thead>\n",
       "    <tr style=\"text-align: right;\">\n",
       "      <th></th>\n",
       "      <th>Time added</th>\n",
       "      <th>Time modified</th>\n",
       "      <th>Note name</th>\n",
       "      <th>Full note content</th>\n",
       "      <th>Processed note content</th>\n",
       "      <th>#_meta/concept</th>\n",
       "      <th>#_meta/exercise</th>\n",
       "      <th>#_meta/definition</th>\n",
       "      <th>#_meta/example</th>\n",
       "      <th>#_meta/narrative</th>\n",
       "      <th>...</th>\n",
       "      <th>#_meta/proof</th>\n",
       "      <th>#_meta/remark</th>\n",
       "      <th>#_meta/TODO/split</th>\n",
       "      <th>#_meta/TODO/merge</th>\n",
       "      <th>#_meta/TODO/delete</th>\n",
       "      <th>#_meta/hint</th>\n",
       "      <th>#_meta/how_to</th>\n",
       "      <th>#_meta/conjecture</th>\n",
       "      <th>#_meta/convention</th>\n",
       "      <th>#_meta/context</th>\n",
       "    </tr>\n",
       "  </thead>\n",
       "  <tbody>\n",
       "    <tr>\n",
       "      <th>0</th>\n",
       "      <td>2023-01-13T00:37</td>\n",
       "      <td>2023-01-13T00:37</td>\n",
       "      <td>reference_with_tag_labels_something_something</td>\n",
       "      <td>---\\ncssclass: clean-embeds\\naliases: []\\ntags: [_meta/literature_note, _meta/narrative]\\n---\\n# Topic[^1]\\n\\nIn this chapter, we describe some basics of ring theory. Rings are mathematical structures which generalize the structures of the familiar integers, rational numbers, real numbers, complex numberes, etc.\\n\\n\\n\\n# See Also\\n\\n# Meta\\n## References\\n\\n## Citations and Footnotes\\n[^1]: Kim, Page 1</td>\n",
       "      <td>In this chapter, we describe some basics of ring theory. Rings are mathematical structures which generalize the structures of the familiar integers, rational numbers, real numbers, complex numberes, etc.\\n</td>\n",
       "      <td>NOT #_meta/concept</td>\n",
       "      <td>NOT #_meta/exercise</td>\n",
       "      <td>NOT #_meta/definition</td>\n",
       "      <td>NOT #_meta/example</td>\n",
       "      <td>IS #_meta/narrative</td>\n",
       "      <td>...</td>\n",
       "      <td>NOT #_meta/proof</td>\n",
       "      <td>NOT #_meta/remark</td>\n",
       "      <td>NOT #_meta/TODO/split</td>\n",
       "      <td>NOT #_meta/TODO/merge</td>\n",
       "      <td>NOT #_meta/TODO/delete</td>\n",
       "      <td>NOT #_meta/hint</td>\n",
       "      <td>NOT #_meta/how_to</td>\n",
       "      <td>NOT #_meta/conjecture</td>\n",
       "      <td>NOT #_meta/convention</td>\n",
       "      <td>NOT #_meta/context</td>\n",
       "    </tr>\n",
       "    <tr>\n",
       "      <th>1</th>\n",
       "      <td>2023-01-13T00:37</td>\n",
       "      <td>2023-01-13T00:37</td>\n",
       "      <td>reference_with_tag_labels_Definition 1</td>\n",
       "      <td>---\\ncssclass: clean-embeds\\naliases: []\\ntags: [_meta/literature_note, _meta/definition_note]\\n---\\n# Ring[^1]\\n\\nA **ring** is a set with binary operators $+$ and $\\cdot$ such that ...\\n\\n# See Also\\n\\n# Meta\\n## References\\n\\n## Citations and Footnotes\\n[^1]: Kim, Definition 1</td>\n",
       "      <td>A ring is a set with binary operators $+$ and $\\cdot$ such that ...\\n</td>\n",
       "      <td>NOT #_meta/concept</td>\n",
       "      <td>NOT #_meta/exercise</td>\n",
       "      <td>NOT #_meta/definition</td>\n",
       "      <td>NOT #_meta/example</td>\n",
       "      <td>NOT #_meta/narrative</td>\n",
       "      <td>...</td>\n",
       "      <td>NOT #_meta/proof</td>\n",
       "      <td>NOT #_meta/remark</td>\n",
       "      <td>NOT #_meta/TODO/split</td>\n",
       "      <td>NOT #_meta/TODO/merge</td>\n",
       "      <td>NOT #_meta/TODO/delete</td>\n",
       "      <td>NOT #_meta/hint</td>\n",
       "      <td>NOT #_meta/how_to</td>\n",
       "      <td>NOT #_meta/conjecture</td>\n",
       "      <td>NOT #_meta/convention</td>\n",
       "      <td>NOT #_meta/context</td>\n",
       "    </tr>\n",
       "    <tr>\n",
       "      <th>2</th>\n",
       "      <td>2023-01-13T00:37</td>\n",
       "      <td>2023-01-13T00:37</td>\n",
       "      <td>reference_with_tag_labels_Definition 2</td>\n",
       "      <td>---\\ncssclass: clean-embeds\\naliases: []\\ntags: [_meta/literature_note, _meta/definition, _meta/notation]\\n---\\n# Ring of integers modulo $n$[^1]\\n\\nLet $n \\geq 1$ be an integer. The **ring of integers modulo $n$**, denoted by **$\\mathbb{Z}/n\\mathbb{Z}$**, is, informally, the ring whose elements are represented by the integers with the understanding that $0$ and $n$ are equal.\\n\\nMore precisely, $\\mathbb{Z}/n\\mathbb{Z}$ has the elements $0,1,\\ldots,n-1$.\\n\\n...\\n\\n\\n# See Also\\n- [[reference_with_tag_labels_Exercise 1|reference_with_tag_labels_Z_nZ_is_a_ring]]\\n# Meta\\n## References\\n\\n## ...</td>\n",
       "      <td>Let $n \\geq 1$ be an integer. The ring of integers modulo $n$, denoted by $\\mathbb{Z}/n\\mathbb{Z}$, is, informally, the ring whose elements are represented by the integers with the understanding that $0$ and $n$ are equal.\\n\\nMore precisely, $\\mathbb{Z}/n\\mathbb{Z}$ has the elements $0,1,\\ldots,n-1$.\\n\\n...\\n</td>\n",
       "      <td>NOT #_meta/concept</td>\n",
       "      <td>NOT #_meta/exercise</td>\n",
       "      <td>IS #_meta/definition</td>\n",
       "      <td>NOT #_meta/example</td>\n",
       "      <td>NOT #_meta/narrative</td>\n",
       "      <td>...</td>\n",
       "      <td>NOT #_meta/proof</td>\n",
       "      <td>NOT #_meta/remark</td>\n",
       "      <td>NOT #_meta/TODO/split</td>\n",
       "      <td>NOT #_meta/TODO/merge</td>\n",
       "      <td>NOT #_meta/TODO/delete</td>\n",
       "      <td>NOT #_meta/hint</td>\n",
       "      <td>NOT #_meta/how_to</td>\n",
       "      <td>NOT #_meta/conjecture</td>\n",
       "      <td>NOT #_meta/convention</td>\n",
       "      <td>NOT #_meta/context</td>\n",
       "    </tr>\n",
       "    <tr>\n",
       "      <th>3</th>\n",
       "      <td>2023-01-13T00:37</td>\n",
       "      <td>2023-01-13T00:37</td>\n",
       "      <td>reference_with_tag_labels_Exercise 1</td>\n",
       "      <td>---\\ncssclass: clean-embeds\\naliases: [reference_with_tag_labels_Z_nZ_is_a_ring]\\ntags: [_meta/literature_note, _meta/exercise]\\n---\\n# $\\mathbb{Z}/n\\mathbb{Z}$ is a ring[^1]\\n\\nShow that $\\mathbb{Z}/n\\mathbb{Z}$ is a ring.\\n\\n# See Also\\n\\n# Meta\\n## References\\n\\n## Citations and Footnotes\\n[^1]: Exercise 1</td>\n",
       "      <td>Show that $\\mathbb{Z}/n\\mathbb{Z}$ is a ring.\\n</td>\n",
       "      <td>NOT #_meta/concept</td>\n",
       "      <td>IS #_meta/exercise</td>\n",
       "      <td>NOT #_meta/definition</td>\n",
       "      <td>NOT #_meta/example</td>\n",
       "      <td>NOT #_meta/narrative</td>\n",
       "      <td>...</td>\n",
       "      <td>NOT #_meta/proof</td>\n",
       "      <td>NOT #_meta/remark</td>\n",
       "      <td>NOT #_meta/TODO/split</td>\n",
       "      <td>NOT #_meta/TODO/merge</td>\n",
       "      <td>NOT #_meta/TODO/delete</td>\n",
       "      <td>NOT #_meta/hint</td>\n",
       "      <td>NOT #_meta/how_to</td>\n",
       "      <td>NOT #_meta/conjecture</td>\n",
       "      <td>NOT #_meta/convention</td>\n",
       "      <td>NOT #_meta/context</td>\n",
       "    </tr>\n",
       "    <tr>\n",
       "      <th>4</th>\n",
       "      <td>2023-01-13T00:37</td>\n",
       "      <td>2023-01-13T00:37</td>\n",
       "      <td>reference_with_tag_labels_Theorem 1</td>\n",
       "      <td>---\\ncssclass: clean-embeds\\naliases: []\\ntags: [_meta/literature_note, _meta/concept, _meta/proof]\\n---\\n# The polynomial ring of a UFD is a UFD[^1]\\n\\nTheorem 1. Let $R$ be a UFD. Then $R[x]$ is a UFD.\\n\\nProof. Let $f,g \\in R[x]$ and suppose that $fg = 0$. Write $f = \\sum_{i=0}^n a_i x^i$ and $g = \\sum_{j=0}^m b_j x^j$ for some $a_i,b_j \\in R$.\\n\\n...\\n\\n# See Also\\n\\n# Meta\\n## References\\n\\n## Citations and Footnotes\\n[^1]: Kim, Theorem 1</td>\n",
       "      <td>Theorem 1. Let $R$ be a UFD. Then $R[x]$ is a UFD.\\n\\nProof. Let $f,g \\in R[x]$ and suppose that $fg = 0$. Write $f = \\sum_{i=0}^n a_i x^i$ and $g = \\sum_{j=0}^m b_j x^j$ for some $a_i,b_j \\in R$.\\n\\n...\\n</td>\n",
       "      <td>IS #_meta/concept</td>\n",
       "      <td>NOT #_meta/exercise</td>\n",
       "      <td>NOT #_meta/definition</td>\n",
       "      <td>NOT #_meta/example</td>\n",
       "      <td>NOT #_meta/narrative</td>\n",
       "      <td>...</td>\n",
       "      <td>IS #_meta/proof</td>\n",
       "      <td>NOT #_meta/remark</td>\n",
       "      <td>NOT #_meta/TODO/split</td>\n",
       "      <td>NOT #_meta/TODO/merge</td>\n",
       "      <td>NOT #_meta/TODO/delete</td>\n",
       "      <td>NOT #_meta/hint</td>\n",
       "      <td>NOT #_meta/how_to</td>\n",
       "      <td>NOT #_meta/conjecture</td>\n",
       "      <td>NOT #_meta/convention</td>\n",
       "      <td>NOT #_meta/context</td>\n",
       "    </tr>\n",
       "  </tbody>\n",
       "</table>\n",
       "<p>5 rows × 21 columns</p>\n",
       "</div>"
      ],
      "text/plain": [
       "         Time added     Time modified  \\\n",
       "0  2023-01-13T00:37  2023-01-13T00:37   \n",
       "1  2023-01-13T00:37  2023-01-13T00:37   \n",
       "2  2023-01-13T00:37  2023-01-13T00:37   \n",
       "3  2023-01-13T00:37  2023-01-13T00:37   \n",
       "4  2023-01-13T00:37  2023-01-13T00:37   \n",
       "\n",
       "                                       Note name  \\\n",
       "0  reference_with_tag_labels_something_something   \n",
       "1         reference_with_tag_labels_Definition 1   \n",
       "2         reference_with_tag_labels_Definition 2   \n",
       "3           reference_with_tag_labels_Exercise 1   \n",
       "4            reference_with_tag_labels_Theorem 1   \n",
       "\n",
       "                                                                                                                                                                                                                                                                                                                                                                                                                                                                                                                                                                                                         Full note content  \\\n",
       "0                                                                                                                                                                                                    ---\\ncssclass: clean-embeds\\naliases: []\\ntags: [_meta/literature_note, _meta/narrative]\\n---\\n# Topic[^1]\\n\\nIn this chapter, we describe some basics of ring theory. Rings are mathematical structures which generalize the structures of the familiar integers, rational numbers, real numbers, complex numberes, etc.\\n\\n\\n\\n# See Also\\n\\n# Meta\\n## References\\n\\n## Citations and Footnotes\\n[^1]: Kim, Page 1   \n",
       "1                                                                                                                                                                                                                                                                                                                                 ---\\ncssclass: clean-embeds\\naliases: []\\ntags: [_meta/literature_note, _meta/definition_note]\\n---\\n# Ring[^1]\\n\\nA **ring** is a set with binary operators $+$ and $\\cdot$ such that ...\\n\\n# See Also\\n\\n# Meta\\n## References\\n\\n## Citations and Footnotes\\n[^1]: Kim, Definition 1   \n",
       "2  ---\\ncssclass: clean-embeds\\naliases: []\\ntags: [_meta/literature_note, _meta/definition, _meta/notation]\\n---\\n# Ring of integers modulo $n$[^1]\\n\\nLet $n \\geq 1$ be an integer. The **ring of integers modulo $n$**, denoted by **$\\mathbb{Z}/n\\mathbb{Z}$**, is, informally, the ring whose elements are represented by the integers with the understanding that $0$ and $n$ are equal.\\n\\nMore precisely, $\\mathbb{Z}/n\\mathbb{Z}$ has the elements $0,1,\\ldots,n-1$.\\n\\n...\\n\\n\\n# See Also\\n- [[reference_with_tag_labels_Exercise 1|reference_with_tag_labels_Z_nZ_is_a_ring]]\\n# Meta\\n## References\\n\\n## ...   \n",
       "3                                                                                                                                                                                                                                                                                                   ---\\ncssclass: clean-embeds\\naliases: [reference_with_tag_labels_Z_nZ_is_a_ring]\\ntags: [_meta/literature_note, _meta/exercise]\\n---\\n# $\\mathbb{Z}/n\\mathbb{Z}$ is a ring[^1]\\n\\nShow that $\\mathbb{Z}/n\\mathbb{Z}$ is a ring.\\n\\n# See Also\\n\\n# Meta\\n## References\\n\\n## Citations and Footnotes\\n[^1]: Exercise 1   \n",
       "4                                                                                                                                                          ---\\ncssclass: clean-embeds\\naliases: []\\ntags: [_meta/literature_note, _meta/concept, _meta/proof]\\n---\\n# The polynomial ring of a UFD is a UFD[^1]\\n\\nTheorem 1. Let $R$ be a UFD. Then $R[x]$ is a UFD.\\n\\nProof. Let $f,g \\in R[x]$ and suppose that $fg = 0$. Write $f = \\sum_{i=0}^n a_i x^i$ and $g = \\sum_{j=0}^m b_j x^j$ for some $a_i,b_j \\in R$.\\n\\n...\\n\\n# See Also\\n\\n# Meta\\n## References\\n\\n## Citations and Footnotes\\n[^1]: Kim, Theorem 1   \n",
       "\n",
       "                                                                                                                                                                                                                                                                                                   Processed note content  \\\n",
       "0                                                                                                           In this chapter, we describe some basics of ring theory. Rings are mathematical structures which generalize the structures of the familiar integers, rational numbers, real numbers, complex numberes, etc.\\n   \n",
       "1                                                                                                                                                                                                                                                   A ring is a set with binary operators $+$ and $\\cdot$ such that ...\\n   \n",
       "2  Let $n \\geq 1$ be an integer. The ring of integers modulo $n$, denoted by $\\mathbb{Z}/n\\mathbb{Z}$, is, informally, the ring whose elements are represented by the integers with the understanding that $0$ and $n$ are equal.\\n\\nMore precisely, $\\mathbb{Z}/n\\mathbb{Z}$ has the elements $0,1,\\ldots,n-1$.\\n\\n...\\n   \n",
       "3                                                                                                                                                                                                                                                                         Show that $\\mathbb{Z}/n\\mathbb{Z}$ is a ring.\\n   \n",
       "4                                                                                                           Theorem 1. Let $R$ be a UFD. Then $R[x]$ is a UFD.\\n\\nProof. Let $f,g \\in R[x]$ and suppose that $fg = 0$. Write $f = \\sum_{i=0}^n a_i x^i$ and $g = \\sum_{j=0}^m b_j x^j$ for some $a_i,b_j \\in R$.\\n\\n...\\n   \n",
       "\n",
       "       #_meta/concept      #_meta/exercise      #_meta/definition  \\\n",
       "0  NOT #_meta/concept  NOT #_meta/exercise  NOT #_meta/definition   \n",
       "1  NOT #_meta/concept  NOT #_meta/exercise  NOT #_meta/definition   \n",
       "2  NOT #_meta/concept  NOT #_meta/exercise   IS #_meta/definition   \n",
       "3  NOT #_meta/concept   IS #_meta/exercise  NOT #_meta/definition   \n",
       "4   IS #_meta/concept  NOT #_meta/exercise  NOT #_meta/definition   \n",
       "\n",
       "       #_meta/example      #_meta/narrative  ...      #_meta/proof  \\\n",
       "0  NOT #_meta/example   IS #_meta/narrative  ...  NOT #_meta/proof   \n",
       "1  NOT #_meta/example  NOT #_meta/narrative  ...  NOT #_meta/proof   \n",
       "2  NOT #_meta/example  NOT #_meta/narrative  ...  NOT #_meta/proof   \n",
       "3  NOT #_meta/example  NOT #_meta/narrative  ...  NOT #_meta/proof   \n",
       "4  NOT #_meta/example  NOT #_meta/narrative  ...   IS #_meta/proof   \n",
       "\n",
       "       #_meta/remark      #_meta/TODO/split      #_meta/TODO/merge  \\\n",
       "0  NOT #_meta/remark  NOT #_meta/TODO/split  NOT #_meta/TODO/merge   \n",
       "1  NOT #_meta/remark  NOT #_meta/TODO/split  NOT #_meta/TODO/merge   \n",
       "2  NOT #_meta/remark  NOT #_meta/TODO/split  NOT #_meta/TODO/merge   \n",
       "3  NOT #_meta/remark  NOT #_meta/TODO/split  NOT #_meta/TODO/merge   \n",
       "4  NOT #_meta/remark  NOT #_meta/TODO/split  NOT #_meta/TODO/merge   \n",
       "\n",
       "       #_meta/TODO/delete      #_meta/hint      #_meta/how_to  \\\n",
       "0  NOT #_meta/TODO/delete  NOT #_meta/hint  NOT #_meta/how_to   \n",
       "1  NOT #_meta/TODO/delete  NOT #_meta/hint  NOT #_meta/how_to   \n",
       "2  NOT #_meta/TODO/delete  NOT #_meta/hint  NOT #_meta/how_to   \n",
       "3  NOT #_meta/TODO/delete  NOT #_meta/hint  NOT #_meta/how_to   \n",
       "4  NOT #_meta/TODO/delete  NOT #_meta/hint  NOT #_meta/how_to   \n",
       "\n",
       "       #_meta/conjecture      #_meta/convention      #_meta/context  \n",
       "0  NOT #_meta/conjecture  NOT #_meta/convention  NOT #_meta/context  \n",
       "1  NOT #_meta/conjecture  NOT #_meta/convention  NOT #_meta/context  \n",
       "2  NOT #_meta/conjecture  NOT #_meta/convention  NOT #_meta/context  \n",
       "3  NOT #_meta/conjecture  NOT #_meta/convention  NOT #_meta/context  \n",
       "4  NOT #_meta/conjecture  NOT #_meta/convention  NOT #_meta/context  \n",
       "\n",
       "[5 rows x 21 columns]"
      ]
     },
     "execution_count": 97,
     "metadata": {},
     "output_type": "execute_result"
    }
   ],
   "source": [
    "#| notest\n",
    "# Replace this file with the appropriate file\n",
    "csv_file = _test_directory() / 'ml_examples' / 'information_note_type_labels.csv'\n",
    "folder = _test_directory() / 'ml_examples'\n",
    "\n",
    "df = pd.read_csv(csv_file)\n",
    "df"
   ]
  },
  {
   "cell_type": "code",
   "execution_count": 103,
   "metadata": {},
   "outputs": [],
   "source": [
    "#| notest\n",
    "# Make a list of columns\n",
    "# Change the indices here if the labels change.\n",
    "label_cols = list(df.columns[5:-1])\n",
    "\n",
    "# Create a column of texts which has a list of all the categories.\n",
    "# When no tag is applicable, let's label it with `'NO TAG'`\n",
    "def row_to_single_label(row, label_cols):\n",
    "    indices = np.array([i for i, tag_info in enumerate(row) if tag_info.startswith('IS')])\n",
    "    if len(indices) == 0:\n",
    "        return 'NO_TAG'\n",
    "    return ';'.join([label_cols[i] for i in indices])\n",
    "\n",
    "labels = df[label_cols].apply(lambda row: row_to_single_label(row, label_cols), axis = 1)\n",
    "df[\"Single label\"] = labels"
   ]
  },
  {
   "cell_type": "markdown",
   "metadata": {},
   "source": [
    "We now create the DataLoaders using the DataBlock API"
   ]
  },
  {
   "cell_type": "code",
   "execution_count": 106,
   "metadata": {},
   "outputs": [
    {
     "name": "stdout",
     "output_type": "stream",
     "text": [
      "Due to IPython and Windows limitation, python multiprocessing isn't available now.\n",
      "So `n_workers` has to be changed to 0 to avoid getting stuck\n"
     ]
    }
   ],
   "source": [
    "#| notest\n",
    "dls_blk = DataBlock(blocks = (TextBlock.from_df(text_cols = 'Processed note content', seq_len=256),\n",
    "                              MultiCategoryBlock),\n",
    "                    get_x = ColReader(cols = 'text'),\n",
    "                    get_y = ColReader(cols = 'Single label', label_delim = ';'),\n",
    "                    splitter = TrainTestSplitter(test_size = 0.2, random_state = None))\n",
    "dls_clf = dls_blk.dataloaders(df, bs=32, seed=None)"
   ]
  },
  {
   "cell_type": "code",
   "execution_count": null,
   "metadata": {},
   "outputs": [],
   "source": [
    "#| notest\n",
    "dls_clf.show_batch(max_n=3)"
   ]
  },
  {
   "cell_type": "markdown",
   "metadata": {},
   "source": []
  },
  {
   "cell_type": "code",
   "execution_count": null,
   "metadata": {},
   "outputs": [],
   "source": [
    "#| notest\n",
    "learn_clf = text_classifier_learner(dls_clf, AWD_LSTM, drop_mult=0.5, metrics=accuracy_multi).to_fp16()"
   ]
  },
  {
   "cell_type": "markdown",
   "metadata": {},
   "source": [
    "In the above line, \n",
    "- `AWD_LSTM` is the model architecture for the learner. \n",
    "- `drop_mult` specifies the % in dropout layer for regularization.\n",
    "\n",
    "Before exporting the model, convert the learner `learn_clf` back to full-precision via the `.to_fp32()` method."
   ]
  },
  {
   "cell_type": "code",
   "execution_count": null,
   "metadata": {},
   "outputs": [],
   "source": [
    "#| notest\n",
    "# Uncomment the below code to actually load the encoder.\n",
    "\n",
    "# learn_clf.load_encoder(folder / 'information_note_type' / 'models' / 'information_note_type_encoder')  # Load the previously trained language model."
   ]
  },
  {
   "cell_type": "markdown",
   "metadata": {},
   "source": [
    "We train the model by unfreezing one layer at a time"
   ]
  },
  {
   "cell_type": "code",
   "execution_count": null,
   "metadata": {},
   "outputs": [],
   "source": [
    "#| notest\n",
    "# lrfind = learn_clf.lr_ifnd()\n",
    "# learn_clf.fit_one_cycle(1, lrfind.valley)"
   ]
  },
  {
   "cell_type": "code",
   "execution_count": null,
   "metadata": {},
   "outputs": [],
   "source": [
    "#| notest\n",
    "# learn_clf.freeze_to(-2)\n",
    "# lrfind = learn_clf.lr_find()\n",
    "# lrfind\n",
    "# learn_clf.fit_one_cycle(1, lrfind.valley)"
   ]
  },
  {
   "cell_type": "code",
   "execution_count": null,
   "metadata": {},
   "outputs": [],
   "source": [
    "#| notest\n",
    "# learn_clf.freeze_to(-3)\n",
    "# lrfind = learn_clf.lr_find()\n",
    "# lrfind\n",
    "# learn_clf.fit_one_cycle(1, lrfind.valley)"
   ]
  },
  {
   "cell_type": "markdown",
   "metadata": {},
   "source": [
    "#### Try out results"
   ]
  },
  {
   "cell_type": "code",
   "execution_count": null,
   "metadata": {},
   "outputs": [],
   "source": [
    "# n = random.randint(0, len(df)-1)\n",
    "# stringy = df['Processed note content'][n]\n",
    "# print(stringy)\n",
    "# print(learn_clf.predict(stringy))\n",
    "# print(df['Single label'][n])\n",
    "#for df[:5]"
   ]
  }
 ],
 "metadata": {
  "kernelspec": {
   "display_name": "Python 3.10.6 64-bit",
   "language": "python",
   "name": "python3"
  }
 },
 "nbformat": 4,
 "nbformat_minor": 2
}
