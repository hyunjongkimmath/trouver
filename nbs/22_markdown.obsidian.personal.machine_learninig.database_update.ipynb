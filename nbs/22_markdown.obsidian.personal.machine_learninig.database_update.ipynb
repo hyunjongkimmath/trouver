{
 "cells": [
  {
   "cell_type": "code",
   "execution_count": null,
   "metadata": {},
   "outputs": [],
   "source": [
    "#| default_exp markdown.obsidian.personal.machine_learning.database_update"
   ]
  },
  {
   "cell_type": "markdown",
   "metadata": {},
   "source": [
    "# markdown.obisidian.personal.machine_learning.database_update\n",
    "> Functions relevant to dathering data for machine learning"
   ]
  },
  {
   "cell_type": "code",
   "execution_count": null,
   "metadata": {},
   "outputs": [],
   "source": [
    "#| export\n",
    "from bisect import bisect_left, bisect_right\n",
    "from os import PathLike\n",
    "from random import sample, choices\n",
    "import re\n",
    "from typing import Union\n",
    "\n",
    "# from fastai.text.all import *\n",
    "import pandas as pd\n",
    "\n",
    "from trouver.helper import latex_indices, find_regex_in_text, current_time_formatted_to_minutes\n",
    "from trouver.markdown.markdown.file import MarkdownFile\n",
    "from trouver.markdown.obsidian.footnotes import (\n",
    "    remove_footnote_mentions_in_markdown_text\n",
    ")\n",
    "# TODO: import the rest"
   ]
  }
 ],
 "metadata": {
  "kernelspec": {
   "display_name": "Python 3.10.6 64-bit",
   "language": "python",
   "name": "python3"
  }
 },
 "nbformat": 4,
 "nbformat_minor": 2
}
