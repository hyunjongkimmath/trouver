{
 "cells": [
  {
   "cell_type": "code",
   "execution_count": null,
   "metadata": {},
   "outputs": [],
   "source": [
    "#| default_exp markdown.obsidian.personal.machine_learning.database_update"
   ]
  },
  {
   "cell_type": "markdown",
   "metadata": {},
   "source": [
    "# markdown.obisidian.personal.machine_learning.database_update\n",
    "> Functions relevant to gathering data for machine learning"
   ]
  },
  {
   "cell_type": "markdown",
   "metadata": {},
   "source": [
    "`trouver`"
   ]
  },
  {
   "cell_type": "code",
   "execution_count": null,
   "metadata": {},
   "outputs": [],
   "source": [
    "#| export\n",
    "# from bisect import bisect_left, bisect_right\n",
    "# from os import PathLike\n",
    "# from random import sample, choices\n",
    "# import re\n",
    "# from typing import Union\n",
    "\n",
    "# # from fastai.text.all import *\n",
    "# import pandas as pd\n",
    "\n",
    "# from trouver.helper import latex_indices, find_regex_in_text, current_time_formatted_to_minutes\n",
    "# from trouver.markdown.markdown.file import MarkdownFile\n",
    "# from trouver.markdown.obsidian.footnotes import (\n",
    "#     remove_footnote_mentions_in_markdown_text\n",
    "# )\n",
    "import os\n",
    "from os import PathLike\n",
    "from pathlib import Path\n",
    "import shutil\n",
    "\n",
    "import pandas as pd\n",
    "\n",
    "from trouver.markdown.obsidian.personal.note_processing import process_standard_information_note\n",
    "# TODO: import the rest"
   ]
  },
  {
   "cell_type": "code",
   "execution_count": null,
   "metadata": {},
   "outputs": [],
   "source": [
    "from fastcore.test import *"
   ]
  },
  {
   "cell_type": "code",
   "execution_count": null,
   "metadata": {},
   "outputs": [],
   "source": [
    "#| export\n",
    "def max_ID(df: pd.DataFrame):\n",
    "    \"Return the largest value of `ID` in `df`\"\n",
    "    return df['ID'].to_numpy().max()"
   ]
  },
  {
   "cell_type": "code",
   "execution_count": null,
   "metadata": {},
   "outputs": [],
   "source": [
    "df = pd.DataFrame([{'ID': 1}, {'ID': 2}, {'ID': 4}])\n",
    "test_eq(max_ID(df), 4)"
   ]
  },
  {
   "cell_type": "code",
   "execution_count": null,
   "metadata": {},
   "outputs": [],
   "source": [
    "#| export\n",
    "def append_to_database(\n",
    "        file: PathLike, # The path to a csv file\n",
    "        df_to_append: pd.DataFrame, # The DataFrame to append\n",
    "        cols: list[str], # All columns of the dataframe in the order that they should be presented.\n",
    "        pivot_column: str, # If there are multiple rows with the same entry in this column, then only a single row with that entry should remain and that row should be updated appropraitely.\n",
    "        columns_to_update: list[str], # The columns that should be updated if there are multiple rows with the same entry in the column `pivot_column`.\n",
    "        backup: bool = True # If `True`, makes a copy of `file` in the same directory and with the same name, except with an added extension of `.bak`.\n",
    "        ) -> None:\n",
    "    \"\"\"\n",
    "    Either create a `csv` file containing data or append to\n",
    "    an existing `csv` file.\n",
    "\n",
    "    The columns of the database file should contain:\n",
    "\n",
    "    - `Time added` - The time when the row was added.\n",
    "    - `Time modified` - The time when the labels of the row \n",
    "      was derived.\n",
    "\n",
    "    All timestamps are in UTC time and specify time to minutes\n",
    "    (i.e. no seconds/microseconds).\n",
    "\n",
    "    If `df_to_append` contains a row with the same entry in `pivot_column` as \n",
    "    an existing row, then only a single row with the entry in `pivot_column`\n",
    "    should remain and the reset of the row should be updated appropriately.\n",
    "\n",
    "    \"\"\"\n",
    "    \n",
    "    file = Path(file)\n",
    "    if backup and os.path.exists(file):\n",
    "        shutil.copyfile(file, str(file) + '.bak')\n",
    "\n",
    "    df = pd.read_csv(file) if os.path.exists(file) else None\n",
    "    if df is None:\n",
    "        df = df_to_append\n",
    "    else:\n",
    "        # TODO: I am going to have to replace this line because df.append\n",
    "        # is deprecated Use pandas.concat instead.\n",
    "        df.append(df_to_append)\n",
    "    df.reset_index(drop=True, inplace=True)\n",
    "    aggregation_dict = {\n",
    "        'Time added': 'first',\n",
    "        'Time modified': 'last'}\n",
    "    for column in columns_to_update:\n",
    "        aggregation_dict[column] = 'last'\n",
    "    df1 = df.groupby([pivot_column], as_index=False, sort=False).agg(\n",
    "        aggregation_dict)\n",
    "    df1 = df1[cols]\n",
    "    df1.to_csv(file, index=False)\n",
    "\n",
    "\n"
   ]
  },
  {
   "cell_type": "code",
   "execution_count": null,
   "metadata": {},
   "outputs": [],
   "source": [
    "# TODO: test\n",
    "# TODO: test that rows are properly apended."
   ]
  }
 ],
 "metadata": {
  "kernelspec": {
   "display_name": "Python 3.10.6 64-bit",
   "language": "python",
   "name": "python3"
  }
 },
 "nbformat": 4,
 "nbformat_minor": 2
}
