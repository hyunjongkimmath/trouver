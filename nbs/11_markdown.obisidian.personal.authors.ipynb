{
 "cells": [
  {
   "cell_type": "markdown",
   "metadata": {},
   "source": [
    "# markdown.obsidian.personal.authors\n",
    "> Functions for managing the original authors of the texts in one's personal Obsidian.md math vault."
   ]
  },
  {
   "cell_type": "code",
   "execution_count": null,
   "metadata": {},
   "outputs": [],
   "source": [
    "#| default_exp markdown.obsidian.personal.authors"
   ]
  },
  {
   "cell_type": "code",
   "execution_count": null,
   "metadata": {},
   "outputs": [],
   "source": [
    "#| export\n",
    "import os \n",
    "from os import PathLike\n",
    "from pathlib import Path\n",
    "from typing import Union"
   ]
  },
  {
   "cell_type": "markdown",
   "metadata": {},
   "source": [
    "The convention we use for author names is either `<family_name>` or `<family_name>_<given_name>_<middle_or_other_initial>`. The letters are all in lower case and spaces ` ` are replaced with underscores `_`, but hyphens `-` are preserved. All accents from names are removed. For example, `gauss` (for Carl Friedrich Gauss), `kim_hyun_jong` (for Hyun Jong Kim, the author of `trouver`; note that his given name is Hyun Jong and his family name is Kim), `ellenberg_jordan_s` (for Jordan Stuart Ellenberg), `doleans-dade_catherine` (for Catherine Doléans-Dade), and `verdier_jean-louis` (for Jean-Louis Verdier) are examples of names formatted under this convention.  "
   ]
  },
  {
   "cell_type": "code",
   "execution_count": null,
   "metadata": {},
   "outputs": [],
   "source": [
    "#| export\n",
    "def just_last_name(author_name) -> bool:\n",
    "    \"\"\"Return `True` if the author's name is formatted to only\n",
    "    have the last name.\n",
    "    \"\"\"\n",
    "    return '_' not in author_name"
   ]
  },
  {
   "cell_type": "code",
   "execution_count": null,
   "metadata": {},
   "outputs": [],
   "source": [
    "#| export\n",
    "# TODO: This method seems redundant because the `all_note_paths_by_name` and `note_name_from_path` functions in `\n",
    "def find_author_file(\n",
    "        vault: PathLike,\n",
    "        author_name: str, # Either just the last name, e.g. `\"serre\"` or formatted as `\"{family_name}_{given_name}_{middle or other initial}\"`, e.g.  `\"little_john_b\"`, `\"lockhart_paul\"`. In the former case, the mathematician's last name must be unique in the vault. In the latter case, the str must identically match the mathematician's file name in the vault.\n",
    "        author_folder: str = 'mathematicians' # The directory where the author files are found in, relative to `vault`.\n",
    "        ) -> Union[PathLike, None]: # Relative to `vault / author_folder`. `None` if no such author file exists.\n",
    "    \"\"\"Return path to the file for the specified author.\n",
    "\n",
    "    **Raises**\n",
    "    - AssertionError\n",
    "        - If `author_folder` does not exist in `vault` or \n",
    "        if the requirements of `author_name` are not met.\n",
    "    \"\"\"\n",
    "    author_location = Path(vault) / author_folder\n",
    "    assert os.path.exists(author_location),\\\n",
    "        f\"The following path does not exist:{author_location}\"\n",
    "    if just_last_name(author_name):\n",
    "        notes_of_name = author_location.glob(f'**/{author_name}_*.md')\n",
    "    else:\n",
    "        notes_of_name = author_location.glob(f'**/{author_name}.md')\n",
    "    if notes_of_name:\n",
    "        assert len(notes_of_name) <= 1,\\\n",
    "            f'Author file is not unique: {author_name}'\n",
    "        return notes_of_name[0]\n",
    "    else:\n",
    "        return None\n"
   ]
  }
 ],
 "metadata": {
  "kernelspec": {
   "display_name": "Python 3.10.6 64-bit",
   "language": "python",
   "name": "python3"
  }
 },
 "nbformat": 4,
 "nbformat_minor": 2
}
